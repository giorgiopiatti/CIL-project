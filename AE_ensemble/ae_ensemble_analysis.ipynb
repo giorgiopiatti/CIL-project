{
 "cells": [
  {
   "cell_type": "code",
   "execution_count": 1,
   "id": "ec8a83db",
   "metadata": {},
   "outputs": [],
   "source": [
    "import pandas as pd\n",
    "import numpy as np\n",
    "from scipy import stats\n",
    "from sklearn.metrics import mean_squared_error\n",
    "from optuna_single_gpu import run_optuna\n"
   ]
  },
  {
   "cell_type": "code",
   "execution_count": 2,
   "id": "b9ace83c",
   "metadata": {},
   "outputs": [],
   "source": [
    "start = 4\n",
    "end = 40\n",
    "\n",
    "def combine_models(mu, sigma, yhat):\n",
    "    coeff = np.linspace(start, end, num=(end-start+1))\n",
    "    coeff = stats.norm.pdf(coeff, loc=mu, scale=sigma)\n",
    "    coeff = coeff / coeff.sum()\n",
    "\n",
    "    return np.matmul(yhat, coeff)"
   ]
  },
  {
   "cell_type": "code",
   "execution_count": 4,
   "id": "40731ebb",
   "metadata": {},
   "outputs": [],
   "source": [
    "results_val = []\n",
    "for i in range(4,41):\n",
    "    results_val.append(np.array(pd.read_csv(f'../AE_base_results/{i}_val.csv')['Prediction']))\n",
    "results_val = np.column_stack(results_val)\n",
    "y_val = np.array(pd.read_csv('../AE_base_results/val_truth.csv')['Prediction'])"
   ]
  },
  {
   "cell_type": "code",
   "execution_count": 13,
   "id": "236a5740",
   "metadata": {},
   "outputs": [],
   "source": [
    "def run_trial(trial):\n",
    "    mu = trial.suggest_float('mu', start, end)\n",
    "    sigma = trial.suggest_float('sigma', 1e-5, 1000)\n",
    "    yhat_val = combine_models(mu, sigma, results_val)\n",
    "    return rmse(yhat_val, y_val)"
   ]
  },
  {
   "cell_type": "code",
   "execution_count": 12,
   "id": "ad52b6b6",
   "metadata": {},
   "outputs": [],
   "source": [
    "def rmse(x,y):\n",
    "    return np.sqrt(np.mean((x-y)**2))"
   ]
  },
  {
   "cell_type": "code",
   "execution_count": 14,
   "id": "ff043a56",
   "metadata": {},
   "outputs": [
    {
     "data": {
      "text/plain": [
       "0.9852421699143447"
      ]
     },
     "execution_count": 14,
     "metadata": {},
     "output_type": "execute_result"
    }
   ],
   "source": [
    "\n",
    "rmse(pd.read_csv(f'../AE_base_results/18_val.csv')['Prediction'],y_val)"
   ]
  },
  {
   "cell_type": "code",
   "execution_count": 16,
   "id": "0147088c",
   "metadata": {},
   "outputs": [],
   "source": [
    "results_test = []\n",
    "for i in range(4,41):\n",
    "    results_test.append(np.array(pd.read_csv(f'../AE_base_results/{i}_test.csv')['Prediction']))\n",
    "results_test = np.column_stack(results_test)"
   ]
  },
  {
   "cell_type": "code",
   "execution_count": 19,
   "id": "c5ce3e88",
   "metadata": {},
   "outputs": [],
   "source": [
    "def save_predictions(res_path, predictions):\n",
    "    test_pd =  pd.read_csv('../data/sampleSubmission.csv')\n",
    "    test_pd = test_pd.astype({'Prediction': 'float'})\n",
    "\n",
    "    test_pd.iloc[:, 1] = predictions\n",
    "\n",
    " \n",
    "    test_pd.to_csv(res_path, index=False, float_format='%.3f')\n"
   ]
  },
  {
   "cell_type": "code",
   "execution_count": 20,
   "id": "e3c22484",
   "metadata": {},
   "outputs": [],
   "source": [
    "\n",
    "save_predictions('AE_mean.csv', results_test.mean(axis=1))"
   ]
  },
  {
   "cell_type": "code",
   "execution_count": 15,
   "id": "cef49aeb",
   "metadata": {},
   "outputs": [
    {
     "data": {
      "text/plain": [
       "0.9842851622960725"
      ]
     },
     "execution_count": 15,
     "metadata": {},
     "output_type": "execute_result"
    }
   ],
   "source": [
    "rmse(results_val.mean(axis=1), y_val)"
   ]
  },
  {
   "cell_type": "code",
   "execution_count": 8,
   "id": "d3d61ffb",
   "metadata": {},
   "outputs": [
    {
     "data": {
      "text/plain": [
       "0.984250052954916"
      ]
     },
     "execution_count": 8,
     "metadata": {},
     "output_type": "execute_result"
    }
   ],
   "source": [
    "res = 0\n",
    "count = 0\n",
    "for i in range(0, len(y_val), 256):\n",
    "    count+=1\n",
    "    res += np.sqrt(np.mean( (pd.read_csv(f'../AE_base_results/18_val.csv')['Prediction']-y_val)[i:min(i+256, len(y_val))] **2 )  )\n",
    "\n",
    "res/count"
   ]
  },
  {
   "cell_type": "code",
   "execution_count": 26,
   "id": "4d995242",
   "metadata": {},
   "outputs": [],
   "source": [
    "results_test = []\n",
    "for i in range(4,41):\n",
    "    results_test.append(np.array(pd.read_csv(f'../AE_base_results/test_{i}.csv')['Prediction']))\n",
    "yhat_test = combine_models(20, 10, np.column_stack(results_test))"
   ]
  },
  {
   "cell_type": "code",
   "execution_count": null,
   "id": "a7793670",
   "metadata": {},
   "outputs": [],
   "source": [
    "best_params = run_optuna(run_trial, 'AE', 5858)\n"
   ]
  }
 ],
 "metadata": {
  "kernelspec": {
   "display_name": "Python 3 (ipykernel)",
   "language": "python",
   "name": "python3"
  },
  "language_info": {
   "codemirror_mode": {
    "name": "ipython",
    "version": 3
   },
   "file_extension": ".py",
   "mimetype": "text/x-python",
   "name": "python",
   "nbconvert_exporter": "python",
   "pygments_lexer": "ipython3",
   "version": "3.8.10"
  }
 },
 "nbformat": 4,
 "nbformat_minor": 5
}
