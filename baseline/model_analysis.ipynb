{
 "cells": [
  {
   "cell_type": "code",
   "execution_count": 1,
   "metadata": {},
   "outputs": [],
   "source": [
    "import pandas as pd \n",
    "import numpy as np"
   ]
  },
  {
   "cell_type": "code",
   "execution_count": 2,
   "metadata": {},
   "outputs": [],
   "source": [
    "BASE_MODEL_FOLDER = '../results_baseline'\n",
    "MODEL_LIST = [\n",
    "    'NCF'\n",
    "]"
   ]
  },
  {
   "cell_type": "code",
   "execution_count": 3,
   "metadata": {},
   "outputs": [],
   "source": [
    "def rmse(x,y):\n",
    "    return np.sqrt(np.mean((x-y)**2))"
   ]
  },
  {
   "cell_type": "code",
   "execution_count": 4,
   "metadata": {},
   "outputs": [],
   "source": [
    "val_truth = []\n",
    "for i in range(0, 5):\n",
    "    val_truth.append(pd.read_csv(f'../data_val_train_kfold/partition_{i}_val.csv')['Prediction'].to_numpy())"
   ]
  },
  {
   "cell_type": "code",
   "execution_count": 5,
   "metadata": {},
   "outputs": [
    {
     "name": "stdout",
     "output_type": "stream",
     "text": [
      "         mean       std\n",
      "NCF  1.011382  0.003598\n"
     ]
    }
   ],
   "source": [
    "acc = []\n",
    "for m in MODEL_LIST:\n",
    "    tmp = []\n",
    "    \n",
    "    for i in range(0,5):\n",
    "        df = pd.read_csv(f'{BASE_MODEL_FOLDER}/{m}/{m}_split_{i}_val_results.csv')\n",
    "        t = df['Prediction'].to_numpy()\n",
    "        score = rmse(t, val_truth[i])\n",
    "        tmp.append(score)\n",
    "    \n",
    "    res = pd.DataFrame(index=[m])\n",
    "    tmp = np.array(tmp)\n",
    "    res['mean'] = np.mean(tmp)\n",
    "    res['std'] = np.std(tmp)\n",
    "\n",
    "    acc.append(res)\n",
    "print(pd.concat(acc))\n"
   ]
  },
  {
   "cell_type": "code",
   "execution_count": 6,
   "metadata": {},
   "outputs": [],
   "source": [
    "def create_val_matrix(split):\n",
    "    tmp = []\n",
    "    for m in MODEL_LIST:\n",
    "        df = pd.read_csv(f'{BASE_MODEL_FOLDER}/{m}/{m}_split_{split}_val_results.csv')\n",
    "        t = df['Prediction'].to_numpy()\n",
    "\n",
    "        tmp.append(t)\n",
    "    return np.column_stack(tmp)\n",
    "\n",
    "\n",
    "val_splits = []\n",
    "for i in range(0, 5):\n",
    "    val_splits.append(create_val_matrix(i))\n",
    "\n",
    "def combine_models(yhat, coeff):\n",
    "    coeff = np.array(coeff)\n",
    "    return np.matmul(yhat, coeff)"
   ]
  },
  {
   "cell_type": "code",
   "execution_count": null,
   "metadata": {},
   "outputs": [],
   "source": []
  }
 ],
 "metadata": {
  "interpreter": {
   "hash": "e7370f93d1d0cde622a1f8e1c04877d8463912d04d973331ad4851f04de6915a"
  },
  "kernelspec": {
   "display_name": "Python 3.9.10 64-bit",
   "language": "python",
   "name": "python3"
  },
  "language_info": {
   "codemirror_mode": {
    "name": "ipython",
    "version": 3
   },
   "file_extension": ".py",
   "mimetype": "text/x-python",
   "name": "python",
   "nbconvert_exporter": "python",
   "pygments_lexer": "ipython3",
   "version": "3.9.10"
  },
  "orig_nbformat": 4
 },
 "nbformat": 4,
 "nbformat_minor": 2
}
