{
 "cells": [
  {
   "cell_type": "code",
   "execution_count": 1,
   "metadata": {},
   "outputs": [
    {
     "name": "stderr",
     "output_type": "stream",
     "text": [
      "/home/gio/.local/lib/python3.9/site-packages/scipy/__init__.py:146: UserWarning: A NumPy version >=1.16.5 and <1.23.0 is required for this version of SciPy (detected version 1.23.1\n",
      "  warnings.warn(f\"A NumPy version >={np_minversion} and <{np_maxversion}\"\n",
      "2022-07-15 15:35:56.574144: W tensorflow/stream_executor/platform/default/dso_loader.cc:64] Could not load dynamic library 'libcudart.so.11.0'; dlerror: libcudart.so.11.0: cannot open shared object file: No such file or directory\n",
      "2022-07-15 15:35:56.574172: I tensorflow/stream_executor/cuda/cudart_stub.cc:29] Ignore above cudart dlerror if you do not have a GPU set up on your machine.\n"
     ]
    },
    {
     "name": "stdout",
     "output_type": "stream",
     "text": [
      "WARNING:tensorflow:From /home/gio/.local/lib/python3.9/site-packages/tensorflow/python/compat/v2_compat.py:107: disable_resource_variables (from tensorflow.python.ops.variable_scope) is deprecated and will be removed in a future version.\n",
      "Instructions for updating:\n",
      "non-resource variables are not supported in the long term\n"
     ]
    },
    {
     "name": "stderr",
     "output_type": "stream",
     "text": [
      "2022-07-15 15:36:08.146866: I tensorflow/core/platform/cpu_feature_guard.cc:193] This TensorFlow binary is optimized with oneAPI Deep Neural Network Library (oneDNN) to use the following CPU instructions in performance-critical operations:  AVX2 FMA\n",
      "To enable them in other operations, rebuild TensorFlow with the appropriate compiler flags.\n",
      "2022-07-15 15:36:08.148417: W tensorflow/stream_executor/platform/default/dso_loader.cc:64] Could not load dynamic library 'libcuda.so.1'; dlerror: libcuda.so.1: cannot open shared object file: No such file or directory\n",
      "2022-07-15 15:36:08.148474: W tensorflow/stream_executor/cuda/cuda_driver.cc:269] failed call to cuInit: UNKNOWN ERROR (303)\n",
      "2022-07-15 15:36:08.148505: I tensorflow/stream_executor/cuda/cuda_diagnostics.cc:156] kernel driver does not appear to be running on this host (fedora): /proc/driver/nvidia/version does not exist\n"
     ]
    },
    {
     "name": "stdout",
     "output_type": "stream",
     "text": [
      "Training start time: \u001b[35m2022-07-15 15:36:08\u001b[0m\n"
     ]
    },
    {
     "name": "stderr",
     "output_type": "stream",
     "text": [
      "2022-07-15 15:36:08.894473: I tensorflow/compiler/mlir/mlir_graph_optimization_pass.cc:354] MLIR V1 optimization pass is not enabled\n",
      "train: 100%|██████████| 4138/4138 [07:42<00:00,  8.96it/s]\n"
     ]
    },
    {
     "name": "stdout",
     "output_type": "stream",
     "text": [
      "Epoch 1 elapsed: 462.356s\n",
      "\t \u001b[32mtrain_loss: 1.0385\u001b[0m\n"
     ]
    },
    {
     "name": "stderr",
     "output_type": "stream",
     "text": [
      "eval_pred: 100%|██████████| 15/15 [00:00<00:00, 563.69it/s]\n"
     ]
    },
    {
     "name": "stdout",
     "output_type": "stream",
     "text": [
      "\t eval rmse: 0.9999\n",
      "\t eval mae: 0.8072\n",
      "\t eval r2: 0.1994\n",
      "==============================\n",
      "Training start time: \u001b[35m2022-07-15 15:43:52\u001b[0m\n"
     ]
    },
    {
     "name": "stderr",
     "output_type": "stream",
     "text": [
      "train: 100%|██████████| 4138/4138 [08:11<00:00,  8.41it/s]\n"
     ]
    },
    {
     "name": "stdout",
     "output_type": "stream",
     "text": [
      "Epoch 1 elapsed: 492.196s\n",
      "\t \u001b[32mtrain_loss: 1.038\u001b[0m\n"
     ]
    },
    {
     "name": "stderr",
     "output_type": "stream",
     "text": [
      "eval_pred: 100%|██████████| 15/15 [00:00<00:00, 615.22it/s]\n"
     ]
    },
    {
     "name": "stdout",
     "output_type": "stream",
     "text": [
      "\t eval rmse: 0.9994\n",
      "\t eval mae: 0.8056\n",
      "\t eval r2: 0.2002\n",
      "==============================\n"
     ]
    }
   ],
   "source": [
    "import pandas as pd\n",
    "from sklearn.model_selection import train_test_split\n",
    "import numpy as np\n",
    "from dataset import extract_users_movies_ratings_lists, TripletDataset, save_predictions\n",
    "import torch \n",
    "\n",
    "#Useful constants\n",
    "number_of_users, number_of_movies = (10000, 1000)\n",
    "RANDOM_STATE = 58\n",
    "DATA_DIR = '../data'\n",
    "EXPERIMENT_NAME = 'SVDpp'\n",
    "N_TRIALS = 10\n",
    "\n",
    "data_pd = pd.read_csv(DATA_DIR+'/data_train.csv')\n",
    "train_pd, val_pd = train_test_split(data_pd, train_size=0.9, random_state=RANDOM_STATE)\n",
    "\n",
    "\n",
    "import time\n",
    "import pandas as pd\n",
    "from libreco.data import split_by_ratio_chrono, DatasetPure\n",
    "from libreco.algorithms import SVDpp\n",
    "# remove unnecessary tensorflow logging\n",
    "import os\n",
    "import tensorflow as tf\n",
    "os.environ['TF_CPP_MIN_LOG_LEVEL'] = '3'\n",
    "os.environ[\"KMP_WARNINGS\"] = \"FALSE\"\n",
    "tf.compat.v1.logging.set_verbosity(tf.compat.v1.logging.ERROR)\n",
    "\n",
    "\n",
    "users_train, movies_train, ratings_train = extract_users_movies_ratings_lists(train_pd)\n",
    "users_val, movies_val, ratings_val = extract_users_movies_ratings_lists(val_pd)\n",
    "\n",
    "test_pd = pd.read_csv(DATA_DIR+'/sampleSubmission.csv')\n",
    "users_test, movies_test, ratings_test = extract_users_movies_ratings_lists(test_pd)\n",
    "\n",
    "train = pd.DataFrame({'user': users_train, 'item': movies_train, 'label': ratings_train})\n",
    "val = pd.DataFrame({'user': users_val, 'item': movies_val, 'label': ratings_val})\n",
    "\n",
    "train_data, data_info = DatasetPure.build_trainset(train)\n",
    "eval_data = DatasetPure.build_evalset(val)\n",
    "\n",
    "\n",
    "\n",
    "def prepate_model(emb_size):\n",
    "    with tf.compat.v1.variable_scope(f'model_{emb_size}'):\n",
    "        svdpp = SVDpp(task=\"rating\", data_info=data_info, embed_size=emb_size,\n",
    "                        n_epochs=1, lr=0.001, reg=None, batch_size=256)\n",
    "        svdpp.fit(train_data, verbose=2, eval_data=eval_data,\n",
    "                    metrics=[\"rmse\", \"mae\", \"r2\"])\n",
    "        yhat = svdpp.predict(user=users_val, item=movies_val)\n",
    "        return svdpp, yhat\n",
    "\n",
    "start = 5\n",
    "end = 6\n",
    "\n",
    "models = []\n",
    "val_yhat = []\n",
    "for i in range(start, end+1):\n",
    "    model, yhat = prepate_model(i)\n",
    "    models.append(model)\n",
    "    val_yhat.append(yhat)\n"
   ]
  },
  {
   "cell_type": "code",
   "execution_count": 8,
   "metadata": {},
   "outputs": [],
   "source": []
  },
  {
   "cell_type": "code",
   "execution_count": null,
   "metadata": {},
   "outputs": [],
   "source": []
  },
  {
   "cell_type": "code",
   "execution_count": 17,
   "metadata": {},
   "outputs": [
    {
     "name": "stderr",
     "output_type": "stream",
     "text": [
      "\u001b[32m[I 2022-07-15 15:57:27,304]\u001b[0m A new study created in memory with name: SVDpp\u001b[0m\n",
      "\u001b[32m[I 2022-07-15 15:57:27,318]\u001b[0m Trial 0 finished with value: 0.9984683365160986 and parameters: {'mu': 5.89048638622441, 'sigma': 491.25267091210765}. Best is trial 0 with value: 0.9984683365160986.\u001b[0m\n",
      "\u001b[32m[I 2022-07-15 15:57:27,324]\u001b[0m Trial 1 finished with value: 0.9984682693814392 and parameters: {'mu': 5.759589004970345, 'sigma': 21.568542029723456}. Best is trial 1 with value: 0.9984682693814392.\u001b[0m\n",
      "\u001b[32m[I 2022-07-15 15:57:27,328]\u001b[0m Trial 2 finished with value: 0.99846833655756 and parameters: {'mu': 5.951834660233731, 'sigma': 595.3182084320346}. Best is trial 1 with value: 0.9984682693814392.\u001b[0m\n",
      "\u001b[32m[I 2022-07-15 15:57:27,332]\u001b[0m Trial 3 finished with value: 0.9984683367654725 and parameters: {'mu': 5.181331518830458, 'sigma': 845.4362208777652}. Best is trial 1 with value: 0.9984682693814392.\u001b[0m\n",
      "\u001b[32m[I 2022-07-15 15:57:27,337]\u001b[0m Trial 4 finished with value: 0.9984683379728786 and parameters: {'mu': 5.260503827413757, 'sigma': 151.47166605125724}. Best is trial 1 with value: 0.9984682693814392.\u001b[0m\n",
      "\u001b[32m[I 2022-07-15 15:57:27,345]\u001b[0m Trial 5 finished with value: 0.9984683366334344 and parameters: {'mu': 5.847419201724949, 'sigma': 732.809223341063}. Best is trial 1 with value: 0.9984682693814392.\u001b[0m\n",
      "\u001b[32m[I 2022-07-15 15:57:27,351]\u001b[0m Trial 6 finished with value: 0.9984683371469253 and parameters: {'mu': 5.228862937770376, 'sigma': 274.3295204889315}. Best is trial 1 with value: 0.9984682693814392.\u001b[0m\n",
      "\u001b[32m[I 2022-07-15 15:57:27,363]\u001b[0m Trial 7 finished with value: 0.998468336652353 and parameters: {'mu': 5.8763956542901, 'sigma': 876.1099375470595}. Best is trial 1 with value: 0.9984682693814392.\u001b[0m\n",
      "\u001b[32m[I 2022-07-15 15:57:27,372]\u001b[0m Trial 8 finished with value: 0.9984683366401156 and parameters: {'mu': 5.79181086801453, 'sigma': 702.2896671575473}. Best is trial 1 with value: 0.9984682693814392.\u001b[0m\n",
      "\u001b[32m[I 2022-07-15 15:57:27,385]\u001b[0m Trial 9 finished with value: 0.9984683367608431 and parameters: {'mu': 5.269933512477777, 'sigma': 751.3627837636928}. Best is trial 1 with value: 0.9984682693814392.\u001b[0m\n"
     ]
    },
    {
     "name": "stdout",
     "output_type": "stream",
     "text": [
      "[3.2137366  3.42360348 3.95772928 ... 3.67357856 3.89950097 4.06745813]\n",
      "[3.21371922 3.42358406 3.95770774 ... 3.67355669 3.89950234 4.06745009]\n",
      "[3.21373661 3.42360349 3.95772929 ... 3.67357857 3.89950097 4.06745813]\n",
      "[3.21373667 3.42360355 3.95772936 ... 3.67357864 3.89950096 4.06745816]\n",
      "[3.21373698 3.4236039  3.95772974 ... 3.67357903 3.89950094 4.0674583 ]\n",
      "[3.21373663 3.42360351 3.95772931 ... 3.67357859 3.89950097 4.06745814]\n",
      "[3.21373677 3.42360366 3.95772948 ... 3.67357876 3.89950096 4.0674582 ]\n",
      "[3.21373664 3.42360352 3.95772932 ... 3.6735786  3.89950097 4.06745815]\n",
      "[3.21373663 3.42360351 3.95772932 ... 3.6735786  3.89950097 4.06745814]\n",
      "[3.21373667 3.42360355 3.95772936 ... 3.67357864 3.89950097 4.06745816]\n"
     ]
    },
    {
     "ename": "FileNotFoundError",
     "evalue": "[Errno 2] No such file or directory: '/cluster/scratch/piattigi/CIL/res_optuna/SVDpp/SVDpp-study.pkl'",
     "output_type": "error",
     "traceback": [
      "\u001b[0;31m---------------------------------------------------------------------------\u001b[0m",
      "\u001b[0;31mFileNotFoundError\u001b[0m                         Traceback (most recent call last)",
      "\u001b[0;32m/tmp/ipykernel_53439/3091563085.py\u001b[0m in \u001b[0;36m<module>\u001b[0;34m\u001b[0m\n\u001b[1;32m     18\u001b[0m \u001b[0;34m\u001b[0m\u001b[0m\n\u001b[1;32m     19\u001b[0m \u001b[0;32mfrom\u001b[0m \u001b[0moptuna_single_gpu\u001b[0m \u001b[0;32mimport\u001b[0m \u001b[0mrun_optuna\u001b[0m\u001b[0;34m\u001b[0m\u001b[0;34m\u001b[0m\u001b[0m\n\u001b[0;32m---> 20\u001b[0;31m \u001b[0mbest_params\u001b[0m \u001b[0;34m=\u001b[0m \u001b[0mrun_optuna\u001b[0m\u001b[0;34m(\u001b[0m\u001b[0mrun_trial\u001b[0m\u001b[0;34m,\u001b[0m \u001b[0mEXPERIMENT_NAME\u001b[0m\u001b[0;34m,\u001b[0m \u001b[0mN_TRIALS\u001b[0m\u001b[0;34m)\u001b[0m\u001b[0;34m\u001b[0m\u001b[0;34m\u001b[0m\u001b[0m\n\u001b[0m\u001b[1;32m     21\u001b[0m \u001b[0;34m\u001b[0m\u001b[0m\n\u001b[1;32m     22\u001b[0m \u001b[0;34m\u001b[0m\u001b[0m\n",
      "\u001b[0;32m~/kDrive/ETH/ETH_code/CIL-project2/Ensemble_Matrix_factorization/optuna_single_gpu.py\u001b[0m in \u001b[0;36mrun_optuna\u001b[0;34m(trial_fn, experiment_name, n_trials)\u001b[0m\n\u001b[1;32m     15\u001b[0m     \u001b[0mstudy\u001b[0m\u001b[0;34m.\u001b[0m\u001b[0moptimize\u001b[0m\u001b[0;34m(\u001b[0m\u001b[0mtrial_fn\u001b[0m\u001b[0;34m,\u001b[0m \u001b[0mn_trials\u001b[0m\u001b[0;34m=\u001b[0m\u001b[0mn_trials\u001b[0m\u001b[0;34m,\u001b[0m \u001b[0mtimeout\u001b[0m\u001b[0;34m=\u001b[0m\u001b[0mTIMEOUT_OPTUNA\u001b[0m\u001b[0;34m)\u001b[0m\u001b[0;34m\u001b[0m\u001b[0;34m\u001b[0m\u001b[0m\n\u001b[1;32m     16\u001b[0m \u001b[0;34m\u001b[0m\u001b[0m\n\u001b[0;32m---> 17\u001b[0;31m     \u001b[0mjoblib\u001b[0m\u001b[0;34m.\u001b[0m\u001b[0mdump\u001b[0m\u001b[0;34m(\u001b[0m\u001b[0mstudy\u001b[0m\u001b[0;34m,\u001b[0m \u001b[0;34mf\"{DIR_RESULTS}/{experiment_name}/{experiment_name}-study.pkl\"\u001b[0m\u001b[0;34m)\u001b[0m\u001b[0;34m\u001b[0m\u001b[0;34m\u001b[0m\u001b[0m\n\u001b[0m\u001b[1;32m     18\u001b[0m     \u001b[0mprint\u001b[0m\u001b[0;34m(\u001b[0m\u001b[0;34m\"[OPTUNA]  Best score: {}\"\u001b[0m\u001b[0;34m.\u001b[0m\u001b[0mformat\u001b[0m\u001b[0;34m(\u001b[0m\u001b[0mstudy\u001b[0m\u001b[0;34m.\u001b[0m\u001b[0mbest_value\u001b[0m\u001b[0;34m)\u001b[0m\u001b[0;34m)\u001b[0m\u001b[0;34m\u001b[0m\u001b[0;34m\u001b[0m\u001b[0m\n\u001b[1;32m     19\u001b[0m     \u001b[0mprint\u001b[0m\u001b[0;34m(\u001b[0m\u001b[0;34m\"[OPTUNA]  Best params: {}\"\u001b[0m\u001b[0;34m.\u001b[0m\u001b[0mformat\u001b[0m\u001b[0;34m(\u001b[0m\u001b[0mstudy\u001b[0m\u001b[0;34m.\u001b[0m\u001b[0mbest_params\u001b[0m\u001b[0;34m)\u001b[0m\u001b[0;34m)\u001b[0m\u001b[0;34m\u001b[0m\u001b[0;34m\u001b[0m\u001b[0m\n",
      "\u001b[0;32m~/.local/lib/python3.9/site-packages/joblib/numpy_pickle.py\u001b[0m in \u001b[0;36mdump\u001b[0;34m(value, filename, compress, protocol, cache_size)\u001b[0m\n\u001b[1;32m    477\u001b[0m             \u001b[0mNumpyPickler\u001b[0m\u001b[0;34m(\u001b[0m\u001b[0mf\u001b[0m\u001b[0;34m,\u001b[0m \u001b[0mprotocol\u001b[0m\u001b[0;34m=\u001b[0m\u001b[0mprotocol\u001b[0m\u001b[0;34m)\u001b[0m\u001b[0;34m.\u001b[0m\u001b[0mdump\u001b[0m\u001b[0;34m(\u001b[0m\u001b[0mvalue\u001b[0m\u001b[0;34m)\u001b[0m\u001b[0;34m\u001b[0m\u001b[0;34m\u001b[0m\u001b[0m\n\u001b[1;32m    478\u001b[0m     \u001b[0;32melif\u001b[0m \u001b[0mis_filename\u001b[0m\u001b[0;34m:\u001b[0m\u001b[0;34m\u001b[0m\u001b[0;34m\u001b[0m\u001b[0m\n\u001b[0;32m--> 479\u001b[0;31m         \u001b[0;32mwith\u001b[0m \u001b[0mopen\u001b[0m\u001b[0;34m(\u001b[0m\u001b[0mfilename\u001b[0m\u001b[0;34m,\u001b[0m \u001b[0;34m'wb'\u001b[0m\u001b[0;34m)\u001b[0m \u001b[0;32mas\u001b[0m \u001b[0mf\u001b[0m\u001b[0;34m:\u001b[0m\u001b[0;34m\u001b[0m\u001b[0;34m\u001b[0m\u001b[0m\n\u001b[0m\u001b[1;32m    480\u001b[0m             \u001b[0mNumpyPickler\u001b[0m\u001b[0;34m(\u001b[0m\u001b[0mf\u001b[0m\u001b[0;34m,\u001b[0m \u001b[0mprotocol\u001b[0m\u001b[0;34m=\u001b[0m\u001b[0mprotocol\u001b[0m\u001b[0;34m)\u001b[0m\u001b[0;34m.\u001b[0m\u001b[0mdump\u001b[0m\u001b[0;34m(\u001b[0m\u001b[0mvalue\u001b[0m\u001b[0;34m)\u001b[0m\u001b[0;34m\u001b[0m\u001b[0;34m\u001b[0m\u001b[0m\n\u001b[1;32m    481\u001b[0m     \u001b[0;32melse\u001b[0m\u001b[0;34m:\u001b[0m\u001b[0;34m\u001b[0m\u001b[0;34m\u001b[0m\u001b[0m\n",
      "\u001b[0;31mFileNotFoundError\u001b[0m: [Errno 2] No such file or directory: '/cluster/scratch/piattigi/CIL/res_optuna/SVDpp/SVDpp-study.pkl'"
     ]
    }
   ],
   "source": [
    "\n",
    "val_base_model = np.column_stack(val_yhat)\n",
    "import scipy\n",
    "def combine_models(mu, sigma, yhat):\n",
    "    coeff = np.linspace(start, end, num=(end-start+1))\n",
    "    coeff = scipy.stats.norm.pdf(coeff, loc=mu, scale=sigma)\n",
    "    coeff = coeff / coeff.sum()\n",
    "\n",
    "    return np.matmul(yhat, coeff)\n",
    "\n",
    "\n",
    "def run_trial(trial):\n",
    "    mu = trial.suggest_float('mu', start, end)\n",
    "    sigma = trial.suggest_float('sigma', 1e-5, 1000)\n",
    "    yhat = combine_models(mu, sigma, val_base_model)\n",
    "    print(yhat)\n",
    "    return np.sqrt(np.mean((yhat-ratings_val)**2))\n",
    "\n",
    "\n",
    "\n",
    "from optuna_single_gpu import run_optuna\n",
    "best_params = run_optuna(run_trial, EXPERIMENT_NAME, N_TRIALS)\n",
    "\n",
    "\n",
    "save_predictions(f'{EXPERIMENT_NAME}-predictedSubmission.csv', yhat)"
   ]
  }
 ],
 "metadata": {
  "interpreter": {
   "hash": "e7370f93d1d0cde622a1f8e1c04877d8463912d04d973331ad4851f04de6915a"
  },
  "kernelspec": {
   "display_name": "Python 3.9.10 64-bit",
   "language": "python",
   "name": "python3"
  },
  "language_info": {
   "codemirror_mode": {
    "name": "ipython",
    "version": 3
   },
   "file_extension": ".py",
   "mimetype": "text/x-python",
   "name": "python",
   "nbconvert_exporter": "python",
   "pygments_lexer": "ipython3",
   "version": "3.9.10"
  },
  "orig_nbformat": 4
 },
 "nbformat": 4,
 "nbformat_minor": 2
}
