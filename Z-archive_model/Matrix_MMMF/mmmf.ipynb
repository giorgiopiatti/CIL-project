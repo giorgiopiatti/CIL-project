{
 "cells": [
  {
   "cell_type": "code",
   "execution_count": 10,
   "id": "ede1667d",
   "metadata": {},
   "outputs": [],
   "source": [
    "from cvxpy import *\n",
    "import numpy as np\n",
    "import pandas as pd\n",
    "import random\n",
    "random.seed(58)\n",
    "from dataset import extract_matrix_users_movies_ratings"
   ]
  },
  {
   "cell_type": "code",
   "execution_count": 17,
   "id": "34f494bd",
   "metadata": {},
   "outputs": [],
   "source": [
    "data = pd.read_csv('./data/data_train.csv')\n",
    "number_of_users, number_of_movies = (10000, 1000)\n",
    "matrix, _ = extract_matrix_users_movies_ratings(data)"
   ]
  },
  {
   "cell_type": "code",
   "execution_count": 22,
   "id": "4015dd3a",
   "metadata": {},
   "outputs": [],
   "source": [
    "def learnMMMF(y, c):\n",
    "    n,m = y.shape\n",
    "    n_obs = np.count_nonzero(y)\n",
    "    obs = np.nonzero(y)\n",
    "\n",
    "    A = Variable((n,n))\n",
    "    B = Variable((m,m))\n",
    "    X = Variable((n,m))\n",
    "\n",
    "    t = Variable()\n",
    "    e = Variable(n_obs)\n",
    "\n",
    "    objective = Minimize(t + c * sum(e))\n",
    "\n",
    "    constraints = []\n",
    "    constraints.append(bmat([[A,X],[X.T,B]]) >> 0)\n",
    "    constraints.append(diag(A) <= t)\n",
    "    constraints.append(diag(B) <= t)\n",
    "    constraints.append(e >= 0)\n",
    "\n",
    "    for x in enumerate(zip(obs[0], obs[1])):\n",
    "        ind = x[0]\n",
    "        i, a = x[1][0], x[1][1]\n",
    "        constraints.append(y[i,a] * X[i,a] >= 1 - e[ind])\n",
    "\n",
    "    prob = Problem(objective, constraints)\n",
    "    result = prob.solve(kktsolver=ROBUST_KKTSOLVER, verbose=True)\n",
    "    return result"
   ]
  },
  {
   "cell_type": "code",
   "execution_count": null,
   "id": "d1cf5b71",
   "metadata": {
    "scrolled": true
   },
   "outputs": [],
   "source": [
    "learnMMMF(matrix, 1.0)"
   ]
  }
 ],
 "metadata": {
  "kernelspec": {
   "display_name": "Python 3 (ipykernel)",
   "language": "python",
   "name": "python3"
  },
  "language_info": {
   "codemirror_mode": {
    "name": "ipython",
    "version": 3
   },
   "file_extension": ".py",
   "mimetype": "text/x-python",
   "name": "python",
   "nbconvert_exporter": "python",
   "pygments_lexer": "ipython3",
   "version": "3.8.10"
  }
 },
 "nbformat": 4,
 "nbformat_minor": 5
}
