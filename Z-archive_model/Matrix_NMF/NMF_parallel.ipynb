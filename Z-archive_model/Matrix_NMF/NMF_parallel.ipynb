{
 "cells": [
  {
   "cell_type": "code",
   "execution_count": 2,
   "metadata": {},
   "outputs": [
    {
     "name": "stderr",
     "output_type": "stream",
     "text": [
      "/home/gio/.local/lib/python3.9/site-packages/scipy/__init__.py:146: UserWarning: A NumPy version >=1.16.5 and <1.23.0 is required for this version of SciPy (detected version 1.23.1\n",
      "  warnings.warn(f\"A NumPy version >={np_minversion} and <{np_maxversion}\"\n"
     ]
    }
   ],
   "source": [
    "import pandas as pd\n",
    "from sklearn.model_selection import train_test_split\n",
    "import numpy as np\n",
    "from dataset import extract_users_movies_ratings_lists, TripletDataset, extract_matrix_users_movies_ratings\n",
    "import torch \n",
    "\n",
    "#Useful constants\n",
    "number_of_users, number_of_movies = (10000, 1000)\n",
    "RANDOM_STATE = 58\n",
    "DATA_DIR = '../data'\n",
    "\n",
    "\n",
    "data_pd = pd.read_csv(DATA_DIR+'/data_train.csv')\n",
    "train_pd, val_pd = train_test_split(data_pd, train_size=0.9, random_state=RANDOM_STATE)\n",
    "\n",
    "\n",
    "#users_train, movies_train, ratings_train = extract_users_movies_ratings_lists(train_pd)\n",
    "#users_val, movies_val, ratings_val = extract_users_movies_ratings_lists(val_pd)\n",
    "matrix_train, _ = extract_matrix_users_movies_ratings(train_pd)\n",
    "matrix_val, _ = extract_matrix_users_movies_ratings(val_pd)"
   ]
  },
  {
   "cell_type": "code",
   "execution_count": 3,
   "metadata": {},
   "outputs": [],
   "source": [
    "K=6\n",
    "u = np.random.rand(number_of_users, K)\n",
    "v = np.random.rand(number_of_movies, K)\n",
    "\n"
   ]
  },
  {
   "cell_type": "code",
   "execution_count": 7,
   "metadata": {},
   "outputs": [],
   "source": [
    "def step(u, v, y):\n",
    "    u_new = np.empty_like(u)\n",
    "    v_new = np.empty_like(v)\n",
    "\n",
    "\n",
    "    for i in range(0, number_of_users):\n",
    "        uv = np.matmul(u[i],v.transpose())\n",
    "        a = np.matmul(v.transpose(), y[i, :]/uv)\n",
    "        \n",
    "        b = v.sum(axis=0)\n",
    "        u_new[i] = u[i]* a / b\n",
    "            \n",
    "        \n",
    "    u = u_new\n",
    "    for j in range(0, number_of_movies):\n",
    "        uv = np.matmul(v[j],u.transpose())\n",
    "        a = np.matmul(u.transpose(), y[:, j]/uv)\n",
    "        \n",
    "        b = u.sum(axis=0)\n",
    "        v_new[j] = v[j]*a/b\n",
    "     \n",
    "            \n",
    "    return u_new, v_new\n"
   ]
  },
  {
   "cell_type": "code",
   "execution_count": 21,
   "metadata": {},
   "outputs": [
    {
     "data": {
      "text/plain": [
       "(10000, 1000)"
      ]
     },
     "execution_count": 21,
     "metadata": {},
     "output_type": "execute_result"
    }
   ],
   "source": [
    "matrix_train.shape"
   ]
  },
  {
   "cell_type": "code",
   "execution_count": 25,
   "metadata": {},
   "outputs": [
    {
     "data": {
      "text/plain": [
       "(10000,)"
      ]
     },
     "execution_count": 25,
     "metadata": {},
     "output_type": "execute_result"
    }
   ],
   "source": [
    "np.mean(matrix_train, axis=1).shape"
   ]
  },
  {
   "cell_type": "code",
   "execution_count": 26,
   "metadata": {},
   "outputs": [],
   "source": [
    "def step(u, v, y):\n",
    "    u_new = np.empty_like(u)\n",
    "    v_new = np.empty_like(v)\n",
    "\n",
    "    uv = np.matmul(u,v.transpose())\n",
    "    a = np.matmul(v.transpose(), (y/uv).transpose()) #K,num_users\n",
    "    b = v.sum(axis=0) #K\n",
    "    print('b', b.shape)\n",
    "    \n",
    "    c = a.transpose()/b\n",
    "    u_new = u * c\n",
    "            \n",
    "        \n",
    "    u = u_new\n",
    "\n",
    "    uv = np.matmul(u,v.transpose())\n",
    "    a = np.matmul(u.transpose(), (y/uv)) #K, num_movies\n",
    "    b = u.sum(axis=0) #K\n",
    "\n",
    "    c = a.transpose() / b\n",
    "    v_new = v * c\n",
    "     \n",
    "            \n",
    "    return u_new, v_new\n"
   ]
  },
  {
   "cell_type": "code",
   "execution_count": 5,
   "metadata": {},
   "outputs": [],
   "source": [
    "def rmse(y, yhat):\n",
    "    mask = y.astype(np.bool)\n",
    "    return np.sqrt(np.mean((y-yhat)[mask]**2))"
   ]
  },
  {
   "cell_type": "code",
   "execution_count": 27,
   "metadata": {},
   "outputs": [
    {
     "name": "stdout",
     "output_type": "stream",
     "text": [
      "b (6,)\n",
      "Train rmse: 3.0851889607586123, val rmse: 3.1200740684328876\n"
     ]
    },
    {
     "name": "stderr",
     "output_type": "stream",
     "text": [
      "/tmp/ipykernel_57618/4172897665.py:2: DeprecationWarning: `np.bool` is a deprecated alias for the builtin `bool`. To silence this warning, use `bool` by itself. Doing this will not modify any behavior and is safe. If you specifically wanted the numpy scalar type, use `np.bool_` here.\n",
      "Deprecated in NumPy 1.20; for more details and guidance: https://numpy.org/devdocs/release/1.20.0-notes.html#deprecations\n",
      "  mask = y.astype(np.bool)\n"
     ]
    }
   ],
   "source": [
    "old_score = np.inf\n",
    "n = 0\n",
    "while True:\n",
    "    u, v = step(u, v, matrix_train)\n",
    "    pred = np.matmul(u,v.transpose())\n",
    "    val_score = rmse(matrix_val, pred)\n",
    "    train_score = rmse(matrix_train, pred)\n",
    "\n",
    "   \n",
    "    print(f'Train rmse: {train_score}, val rmse: {val_score}')\n",
    "    break\n",
    "    if n % 1000 == 0:\n",
    "        if val_score < old_score:\n",
    "            np.save('./best_u', u)\n",
    "            np.save('./best_v', v)\n",
    "            old_score = val_score\n",
    "        np.save('./u', u)\n",
    "        np.save('./v', v)\n",
    "    n+=1\n"
   ]
  }
 ],
 "metadata": {
  "interpreter": {
   "hash": "e7370f93d1d0cde622a1f8e1c04877d8463912d04d973331ad4851f04de6915a"
  },
  "kernelspec": {
   "display_name": "Python 3.9.10 64-bit",
   "language": "python",
   "name": "python3"
  },
  "language_info": {
   "codemirror_mode": {
    "name": "ipython",
    "version": 3
   },
   "file_extension": ".py",
   "mimetype": "text/x-python",
   "name": "python",
   "nbconvert_exporter": "python",
   "pygments_lexer": "ipython3",
   "version": "3.9.10"
  },
  "orig_nbformat": 4
 },
 "nbformat": 4,
 "nbformat_minor": 2
}
