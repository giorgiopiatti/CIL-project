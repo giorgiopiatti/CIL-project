{
 "cells": [
  {
   "cell_type": "code",
   "execution_count": 58,
   "metadata": {},
   "outputs": [],
   "source": [
    "import pandas as pd\n",
    "from sklearn.model_selection import train_test_split\n",
    "import numpy as np\n",
    "from dataset import extract_users_movies_ratings_lists, TripletDataset, extract_matrix_users_movies_ratings\n",
    "import torch \n",
    "\n",
    "#Useful constants\n",
    "number_of_users, number_of_movies = (10000, 1000)\n",
    "RANDOM_STATE = 58\n",
    "DATA_DIR = '../data'\n",
    "\n",
    "\n",
    "data_pd = pd.read_csv(DATA_DIR+'/data_train.csv')\n",
    "train_pd, val_pd = train_test_split(data_pd, train_size=0.9, random_state=RANDOM_STATE)\n",
    "\n",
    "\n",
    "#users_train, movies_train, ratings_train = extract_users_movies_ratings_lists(train_pd)\n",
    "#users_val, movies_val, ratings_val = extract_users_movies_ratings_lists(val_pd)\n",
    "matrix_train, _ = extract_matrix_users_movies_ratings(train_pd)\n",
    "matrix_val, _ = extract_matrix_users_movies_ratings(val_pd)"
   ]
  },
  {
   "cell_type": "code",
   "execution_count": 59,
   "metadata": {},
   "outputs": [],
   "source": [
    "K=6\n",
    "u = np.random.rand(number_of_users, K)\n",
    "v = np.random.rand(number_of_movies, K)\n",
    "\n"
   ]
  },
  {
   "cell_type": "code",
   "execution_count": 73,
   "metadata": {},
   "outputs": [],
   "source": [
    "y = matrix_train"
   ]
  },
  {
   "cell_type": "code",
   "execution_count": 65,
   "metadata": {},
   "outputs": [],
   "source": [
    "def step(u, v, y):\n",
    "    u_new = np.empty_like(u)\n",
    "    v_new = np.empty_like(v)\n",
    "\n",
    "    def f(i, l):\n",
    "        uv = np.matmul(u[i],v.transpose())\n",
    "        a = v[:,l] * y[i, :]\n",
    "        a = a / uv\n",
    "        b = v[:, l].sum()\n",
    "    \n",
    "        return u[i,l]* (a.sum())/b\n",
    "\n",
    "    for i in range(0, number_of_users):\n",
    "        for l in range(0, K):\n",
    "            uv = np.matmul(u[i],v.transpose())\n",
    "            a = v[:,l] * y[i, :]\n",
    "            a = a / uv\n",
    "            b = v[:, l].sum()\n",
    "        \n",
    "            u_new[i,l] = f(i,l )\n",
    "            \n",
    "        \n",
    "    u = u_new\n",
    "    for j in range(0, number_of_movies):\n",
    "        for l in range(0, K):\n",
    "            uv = np.matmul(v[j],u.transpose())\n",
    "            a = u[:,l] * y[:, j]\n",
    "            a = a / uv\n",
    "            b = u[:, l].sum()\n",
    "        \n",
    "            v_new[j,l] = v[j,l]* (a.sum())/b\n",
    "            \n",
    "    return u_new, v_new\n"
   ]
  },
  {
   "cell_type": "code",
   "execution_count": 61,
   "metadata": {},
   "outputs": [],
   "source": [
    "def rmse(y, yhat):\n",
    "    mask = y.astype(np.bool)\n",
    "    return np.sqrt(np.mean((y-yhat)[mask]**2))"
   ]
  },
  {
   "cell_type": "code",
   "execution_count": 67,
   "metadata": {},
   "outputs": [
    {
     "name": "stderr",
     "output_type": "stream",
     "text": [
      "/tmp/ipykernel_35120/4172897665.py:2: DeprecationWarning: `np.bool` is a deprecated alias for the builtin `bool`. To silence this warning, use `bool` by itself. Doing this will not modify any behavior and is safe. If you specifically wanted the numpy scalar type, use `np.bool_` here.\n",
      "Deprecated in NumPy 1.20; for more details and guidance: https://numpy.org/devdocs/release/1.20.0-notes.html#deprecations\n",
      "  mask = y.astype(np.bool)\n"
     ]
    },
    {
     "name": "stdout",
     "output_type": "stream",
     "text": [
      "Train rmse: 3.0859329806571574, val rmse: 3.1213895443353676\n",
      "Train rmse: 3.0857553636200588, val rmse: 3.121201319606884\n",
      "Train rmse: 3.085586929085274, val rmse: 3.121022923043839\n",
      "Train rmse: 3.0854270632264806, val rmse: 3.1208537105180474\n",
      "Train rmse: 3.0852752143734423, val rmse: 3.120693103149719\n",
      "Train rmse: 3.0851308770399912, val rmse: 3.1205405554875063\n",
      "Train rmse: 3.084993580377708, val rmse: 3.120395541980746\n",
      "Train rmse: 3.0848628863549066, val rmse: 3.1202575716013317\n",
      "Train rmse: 3.0847383857182615, val rmse: 3.1201262117901094\n",
      "Train rmse: 3.084619690406305, val rmse: 3.120001099542738\n",
      "Train rmse: 3.0845064328745906, val rmse: 3.1198819315772743\n",
      "Train rmse: 3.0843982623581714, val rmse: 3.119768433951315\n"
     ]
    },
    {
     "ename": "KeyboardInterrupt",
     "evalue": "",
     "output_type": "error",
     "traceback": [
      "\u001b[0;31m---------------------------------------------------------------------------\u001b[0m",
      "\u001b[0;31mKeyboardInterrupt\u001b[0m                         Traceback (most recent call last)",
      "\u001b[0;32m/tmp/ipykernel_35120/920453090.py\u001b[0m in \u001b[0;36m<module>\u001b[0;34m\u001b[0m\n\u001b[1;32m      5\u001b[0m     \u001b[0mpred\u001b[0m \u001b[0;34m=\u001b[0m \u001b[0mnp\u001b[0m\u001b[0;34m.\u001b[0m\u001b[0mmatmul\u001b[0m\u001b[0;34m(\u001b[0m\u001b[0mu\u001b[0m\u001b[0;34m,\u001b[0m\u001b[0mv\u001b[0m\u001b[0;34m.\u001b[0m\u001b[0mtranspose\u001b[0m\u001b[0;34m(\u001b[0m\u001b[0;34m)\u001b[0m\u001b[0;34m)\u001b[0m\u001b[0;34m\u001b[0m\u001b[0;34m\u001b[0m\u001b[0m\n\u001b[1;32m      6\u001b[0m     \u001b[0mval_score\u001b[0m \u001b[0;34m=\u001b[0m \u001b[0mrmse\u001b[0m\u001b[0;34m(\u001b[0m\u001b[0mmatrix_val\u001b[0m\u001b[0;34m,\u001b[0m \u001b[0mpred\u001b[0m\u001b[0;34m)\u001b[0m\u001b[0;34m\u001b[0m\u001b[0;34m\u001b[0m\u001b[0m\n\u001b[0;32m----> 7\u001b[0;31m     \u001b[0mtrain_score\u001b[0m \u001b[0;34m=\u001b[0m \u001b[0mrmse\u001b[0m\u001b[0;34m(\u001b[0m\u001b[0mmatrix_train\u001b[0m\u001b[0;34m,\u001b[0m \u001b[0mpred\u001b[0m\u001b[0;34m)\u001b[0m\u001b[0;34m\u001b[0m\u001b[0;34m\u001b[0m\u001b[0m\n\u001b[0m\u001b[1;32m      8\u001b[0m \u001b[0;34m\u001b[0m\u001b[0m\n\u001b[1;32m      9\u001b[0m     \u001b[0mprint\u001b[0m\u001b[0;34m(\u001b[0m\u001b[0;34mf'Train rmse: {train_score}, val rmse: {val_score}'\u001b[0m\u001b[0;34m)\u001b[0m\u001b[0;34m\u001b[0m\u001b[0;34m\u001b[0m\u001b[0m\n",
      "\u001b[0;32m/tmp/ipykernel_35120/4172897665.py\u001b[0m in \u001b[0;36mrmse\u001b[0;34m(y, yhat)\u001b[0m\n\u001b[1;32m      1\u001b[0m \u001b[0;32mdef\u001b[0m \u001b[0mrmse\u001b[0m\u001b[0;34m(\u001b[0m\u001b[0my\u001b[0m\u001b[0;34m,\u001b[0m \u001b[0myhat\u001b[0m\u001b[0;34m)\u001b[0m\u001b[0;34m:\u001b[0m\u001b[0;34m\u001b[0m\u001b[0;34m\u001b[0m\u001b[0m\n\u001b[1;32m      2\u001b[0m     \u001b[0mmask\u001b[0m \u001b[0;34m=\u001b[0m \u001b[0my\u001b[0m\u001b[0;34m.\u001b[0m\u001b[0mastype\u001b[0m\u001b[0;34m(\u001b[0m\u001b[0mnp\u001b[0m\u001b[0;34m.\u001b[0m\u001b[0mbool\u001b[0m\u001b[0;34m)\u001b[0m\u001b[0;34m\u001b[0m\u001b[0;34m\u001b[0m\u001b[0m\n\u001b[0;32m----> 3\u001b[0;31m     \u001b[0;32mreturn\u001b[0m \u001b[0mnp\u001b[0m\u001b[0;34m.\u001b[0m\u001b[0msqrt\u001b[0m\u001b[0;34m(\u001b[0m\u001b[0mnp\u001b[0m\u001b[0;34m.\u001b[0m\u001b[0mmean\u001b[0m\u001b[0;34m(\u001b[0m\u001b[0;34m(\u001b[0m\u001b[0my\u001b[0m\u001b[0;34m-\u001b[0m\u001b[0myhat\u001b[0m\u001b[0;34m)\u001b[0m\u001b[0;34m[\u001b[0m\u001b[0mmask\u001b[0m\u001b[0;34m]\u001b[0m\u001b[0;34m**\u001b[0m\u001b[0;36m2\u001b[0m\u001b[0;34m)\u001b[0m\u001b[0;34m)\u001b[0m\u001b[0;34m\u001b[0m\u001b[0;34m\u001b[0m\u001b[0m\n\u001b[0m",
      "\u001b[0;31mKeyboardInterrupt\u001b[0m: "
     ]
    }
   ],
   "source": [
    "old_score = np.inf\n",
    "n = 0\n",
    "while True:\n",
    "    u, v = step(u, v, matrix_train)\n",
    "    pred = np.matmul(u,v.transpose())\n",
    "    val_score = rmse(matrix_val, pred)\n",
    "    train_score = rmse(matrix_train, pred)\n",
    "\n",
    "    print(f'Train rmse: {train_score}, val rmse: {val_score}')\n",
    "    \n",
    "    if n % 1000 == 0:\n",
    "        if val_score < old_score:\n",
    "            np.save('./best_u', u)\n",
    "            np.save('./best_v', v)\n",
    "            old_score = val_score\n",
    "        np.save('./u', u)\n",
    "        np.save('./v', v)\n",
    "    n+=1\n"
   ]
  }
 ],
 "metadata": {
  "interpreter": {
   "hash": "e7370f93d1d0cde622a1f8e1c04877d8463912d04d973331ad4851f04de6915a"
  },
  "kernelspec": {
   "display_name": "Python 3.9.10 64-bit",
   "language": "python",
   "name": "python3"
  },
  "language_info": {
   "codemirror_mode": {
    "name": "ipython",
    "version": 3
   },
   "file_extension": ".py",
   "mimetype": "text/x-python",
   "name": "python",
   "nbconvert_exporter": "python",
   "pygments_lexer": "ipython3",
   "version": "3.9.10"
  },
  "orig_nbformat": 4
 },
 "nbformat": 4,
 "nbformat_minor": 2
}
