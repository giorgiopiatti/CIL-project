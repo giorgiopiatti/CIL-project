{
 "cells": [
  {
   "cell_type": "code",
   "execution_count": 1,
   "id": "ede1667d",
   "metadata": {},
   "outputs": [],
   "source": [
    "from cvxpy import *\n",
    "import numpy as np\n",
    "import pandas as pd\n",
    "import random\n",
    "random.seed(58)\n",
    "from dataset import extract_matrix_users_movies_ratings"
   ]
  },
  {
   "cell_type": "code",
   "execution_count": 2,
   "id": "34f494bd",
   "metadata": {},
   "outputs": [],
   "source": [
    "data = pd.read_csv('./data/data_train.csv')\n",
    "number_of_users, number_of_movies = (10000, 1000)\n",
    "matrix, _ = extract_matrix_users_movies_ratings(data)"
   ]
  },
  {
   "cell_type": "code",
   "execution_count": 3,
   "id": "16006631",
   "metadata": {},
   "outputs": [
    {
     "data": {
      "text/plain": [
       "(10000, 1000)"
      ]
     },
     "execution_count": 3,
     "metadata": {},
     "output_type": "execute_result"
    }
   ],
   "source": [
    "matrix.shape"
   ]
  },
  {
   "cell_type": "code",
   "execution_count": 4,
   "id": "bd4e5ebc",
   "metadata": {},
   "outputs": [],
   "source": [
    "matrix2 = matrix[:100]"
   ]
  },
  {
   "cell_type": "code",
   "execution_count": 17,
   "id": "8aeaa505",
   "metadata": {},
   "outputs": [],
   "source": [
    "def learnMMMF(y, c):\n",
    "    n,m = y.shape\n",
    "    n_obs = np.count_nonzero(y)\n",
    "    obs = np.nonzero(y)\n",
    "\n",
    "    A = Variable((n,n))\n",
    "    B = Variable((m,m))\n",
    "    X = Variable((n,m))\n",
    "\n",
    "    t = Variable()\n",
    "    e = Variable((n_obs,))\n",
    "\n",
    "    objective = Minimize(t + c * sum(e))\n",
    "\n",
    "    constraints = []\n",
    "    constraints.append(bmat([[A,X],[X.T,B]]) >> 0)\n",
    "    constraints.append(diag(A) <= t)\n",
    "    constraints.append(diag(B) <= t)\n",
    "    constraints.append(e >= 0)\n",
    "\n",
    "    for x in enumerate(zip(obs[0], obs[1])):\n",
    "        ind = x[0]\n",
    "        i, a = x[1][0], x[1][1]\n",
    "        constraints.append(y[i,a] * X[i,a] >= 1 - e[ind])\n",
    "\n",
    "    prob = Problem(objective, constraints)\n",
    "    result = prob.solve(verbose=True, max_iters=250)\n",
    "    return result"
   ]
  },
  {
   "cell_type": "code",
   "execution_count": 25,
   "id": "11396499",
   "metadata": {},
   "outputs": [
    {
     "name": "stdout",
     "output_type": "stream",
     "text": [
      "===============================================================================\n",
      "                                     CVXPY                                     \n",
      "                                     v1.2.1                                    \n",
      "===============================================================================\n",
      "(CVXPY) Jul 17 02:21:00 PM: Your problem has 1121784 variables, 11787 constraints, and 0 parameters.\n",
      "(CVXPY) Jul 17 02:21:01 PM: It is compliant with the following grammars: DCP, DQCP\n",
      "(CVXPY) Jul 17 02:21:01 PM: (If you need to solve this problem multiple times, but with different data, consider using parameters.)\n",
      "(CVXPY) Jul 17 02:21:01 PM: CVXPY will first compile your problem; then, it will invoke a numerical solver to obtain a solution.\n",
      "-------------------------------------------------------------------------------\n",
      "                                  Compilation                                  \n",
      "-------------------------------------------------------------------------------\n",
      "(CVXPY) Jul 17 02:21:02 PM: Compiling problem (target solver=SCS).\n",
      "(CVXPY) Jul 17 02:21:02 PM: Reduction chain: Dcp2Cone -> CvxAttr2Constr -> ConeMatrixStuffing -> SCS\n",
      "(CVXPY) Jul 17 02:21:02 PM: Applying reduction Dcp2Cone\n",
      "(CVXPY) Jul 17 02:21:03 PM: Applying reduction CvxAttr2Constr\n",
      "(CVXPY) Jul 17 02:21:03 PM: Applying reduction ConeMatrixStuffing\n",
      "(CVXPY) Jul 17 02:22:01 PM: Applying reduction SCS\n",
      "(CVXPY) Jul 17 02:22:14 PM: Finished problem compilation (took 7.292e+01 seconds).\n",
      "-------------------------------------------------------------------------------\n",
      "                                Numerical solver                               \n",
      "-------------------------------------------------------------------------------\n",
      "(CVXPY) Jul 17 02:22:14 PM: Invoking solver SCS  to obtain a solution.\n",
      "------------------------------------------------------------------\n",
      "\t       SCS v3.2.0 - Splitting Conic Solver\n",
      "\t(c) Brendan O'Donoghue, Stanford University, 2012\n",
      "------------------------------------------------------------------\n",
      "problem:  variables n: 1121784, constraints m: 630216\n",
      "cones: \t  l: linear vars: 24666\n",
      "\t  s: psd vars: 605550, ssize: 1\n",
      "settings: eps_abs: 1.0e-05, eps_rel: 1.0e-05, eps_infeas: 1.0e-07\n",
      "\t  alpha: 1.50, scale: 1.00e-01, adaptive_scale: 1\n",
      "\t  max_iters: 250, normalize: 1, rho_x: 1.00e-06\n",
      "\t  acceleration_lookback: 10, acceleration_interval: 10\n",
      "lin-sys:  sparse-direct\n",
      "\t  nnz(A): 1147549, nnz(P): 0\n",
      "------------------------------------------------------------------\n",
      " iter | pri res | dua res |   gap   |   obj   |  scale  | time (s)\n",
      "------------------------------------------------------------------\n",
      "     0| 3.71e+01  1.96e+00  2.20e+05 -1.08e+05  1.00e-01  2.28e+00 \n",
      "   250| 2.37e-02  1.20e-04  2.76e-03  1.20e+00  2.02e-02  3.25e+02 \n",
      "------------------------------------------------------------------\n",
      "status:  solved (inaccurate - reached max_iters)\n",
      "timings: total: 3.26e+02s = setup: 1.80e+00s + solve: 3.25e+02s\n",
      "\t lin-sys: 7.22e+00s, cones: 3.13e+02s, accel: 5.53e-01s\n",
      "------------------------------------------------------------------\n",
      "objective = 1.202990 (inaccurate)\n",
      "------------------------------------------------------------------\n",
      "-------------------------------------------------------------------------------\n",
      "                                    Summary                                    \n",
      "-------------------------------------------------------------------------------\n",
      "(CVXPY) Jul 17 02:27:41 PM: Problem status: optimal_inaccurate\n",
      "(CVXPY) Jul 17 02:27:41 PM: Optimal value: 1.204e+00\n",
      "(CVXPY) Jul 17 02:27:41 PM: Compilation took 7.292e+01 seconds\n",
      "(CVXPY) Jul 17 02:27:41 PM: Solver (including time spent in interface) took 3.265e+02 seconds\n"
     ]
    }
   ],
   "source": [
    "a = learnMMMF(matrix2, 1.0)"
   ]
  },
  {
   "cell_type": "code",
   "execution_count": 28,
   "id": "4998321b",
   "metadata": {},
   "outputs": [
    {
     "data": {
      "text/plain": [
       "Problem(Minimize(Expression(AFFINE, UNKNOWN, ())), [PSD(Expression(AFFINE, UNKNOWN, (3, 3))), Equality(Expression(AFFINE, UNKNOWN, ()), Constant(CONSTANT, NONNEGATIVE, ())), Equality(Expression(AFFINE, UNKNOWN, ()), Constant(CONSTANT, NONPOSITIVE, ())), Equality(Expression(AFFINE, UNKNOWN, ()), Constant(CONSTANT, NONNEGATIVE, ()))])"
      ]
     },
     "execution_count": 28,
     "metadata": {},
     "output_type": "execute_result"
    }
   ],
   "source": [
    "prob"
   ]
  },
  {
   "cell_type": "code",
   "execution_count": 14,
   "id": "381056f3",
   "metadata": {},
   "outputs": [
    {
     "name": "stdout",
     "output_type": "stream",
     "text": [
      "===============================================================================\n",
      "                                     CVXPY                                     \n",
      "                                     v1.2.1                                    \n",
      "===============================================================================\n",
      "(CVXPY) Jul 17 11:38:01 AM: Your problem has 9 variables, 4 constraints, and 0 parameters.\n",
      "(CVXPY) Jul 17 11:38:01 AM: It is compliant with the following grammars: DCP, DQCP\n",
      "(CVXPY) Jul 17 11:38:01 AM: (If you need to solve this problem multiple times, but with different data, consider using parameters.)\n",
      "(CVXPY) Jul 17 11:38:01 AM: CVXPY will first compile your problem; then, it will invoke a numerical solver to obtain a solution.\n",
      "-------------------------------------------------------------------------------\n",
      "                                  Compilation                                  \n",
      "-------------------------------------------------------------------------------\n",
      "(CVXPY) Jul 17 11:38:01 AM: Compiling problem (target solver=SCS).\n",
      "(CVXPY) Jul 17 11:38:01 AM: Reduction chain: Dcp2Cone -> CvxAttr2Constr -> ConeMatrixStuffing -> SCS\n",
      "(CVXPY) Jul 17 11:38:01 AM: Applying reduction Dcp2Cone\n",
      "(CVXPY) Jul 17 11:38:01 AM: Applying reduction CvxAttr2Constr\n",
      "(CVXPY) Jul 17 11:38:01 AM: Applying reduction ConeMatrixStuffing\n",
      "(CVXPY) Jul 17 11:38:01 AM: Applying reduction SCS\n",
      "(CVXPY) Jul 17 11:38:01 AM: Finished problem compilation (took 1.673e-02 seconds).\n",
      "-------------------------------------------------------------------------------\n",
      "                                Numerical solver                               \n",
      "-------------------------------------------------------------------------------\n",
      "(CVXPY) Jul 17 11:38:01 AM: Invoking solver SCS  to obtain a solution.\n"
     ]
    },
    {
     "ename": "ValueError",
     "evalue": "Error parsing inputs\n",
     "output_type": "error",
     "traceback": [
      "\u001b[0;31m---------------------------------------------------------------------------\u001b[0m",
      "\u001b[0;31mValueError\u001b[0m                                Traceback (most recent call last)",
      "\u001b[0;32m/tmp/ipykernel_6264/2926147339.py\u001b[0m in \u001b[0;36m<module>\u001b[0;34m\u001b[0m\n\u001b[1;32m     19\u001b[0m prob = Problem(Minimize(trace(C @ X)),\n\u001b[1;32m     20\u001b[0m                   constraints)\n\u001b[0;32m---> 21\u001b[0;31m \u001b[0mprob\u001b[0m\u001b[0;34m.\u001b[0m\u001b[0msolve\u001b[0m\u001b[0;34m(\u001b[0m\u001b[0mkktsolver\u001b[0m\u001b[0;34m=\u001b[0m\u001b[0mROBUST_KKTSOLVER\u001b[0m\u001b[0;34m,\u001b[0m \u001b[0mverbose\u001b[0m\u001b[0;34m=\u001b[0m\u001b[0;32mTrue\u001b[0m\u001b[0;34m)\u001b[0m\u001b[0;34m\u001b[0m\u001b[0;34m\u001b[0m\u001b[0m\n\u001b[0m\u001b[1;32m     22\u001b[0m \u001b[0;34m\u001b[0m\u001b[0m\n\u001b[1;32m     23\u001b[0m \u001b[0;31m# Print result.\u001b[0m\u001b[0;34m\u001b[0m\u001b[0;34m\u001b[0m\u001b[0;34m\u001b[0m\u001b[0m\n",
      "\u001b[0;32m~/.local/lib/python3.8/site-packages/cvxpy/problems/problem.py\u001b[0m in \u001b[0;36msolve\u001b[0;34m(self, *args, **kwargs)\u001b[0m\n\u001b[1;32m    479\u001b[0m         \u001b[0;32melse\u001b[0m\u001b[0;34m:\u001b[0m\u001b[0;34m\u001b[0m\u001b[0;34m\u001b[0m\u001b[0m\n\u001b[1;32m    480\u001b[0m             \u001b[0msolve_func\u001b[0m \u001b[0;34m=\u001b[0m \u001b[0mProblem\u001b[0m\u001b[0;34m.\u001b[0m\u001b[0m_solve\u001b[0m\u001b[0;34m\u001b[0m\u001b[0;34m\u001b[0m\u001b[0m\n\u001b[0;32m--> 481\u001b[0;31m         \u001b[0;32mreturn\u001b[0m \u001b[0msolve_func\u001b[0m\u001b[0;34m(\u001b[0m\u001b[0mself\u001b[0m\u001b[0;34m,\u001b[0m \u001b[0;34m*\u001b[0m\u001b[0margs\u001b[0m\u001b[0;34m,\u001b[0m \u001b[0;34m**\u001b[0m\u001b[0mkwargs\u001b[0m\u001b[0;34m)\u001b[0m\u001b[0;34m\u001b[0m\u001b[0;34m\u001b[0m\u001b[0m\n\u001b[0m\u001b[1;32m    482\u001b[0m \u001b[0;34m\u001b[0m\u001b[0m\n\u001b[1;32m    483\u001b[0m     \u001b[0;34m@\u001b[0m\u001b[0mclassmethod\u001b[0m\u001b[0;34m\u001b[0m\u001b[0;34m\u001b[0m\u001b[0m\n",
      "\u001b[0;32m~/.local/lib/python3.8/site-packages/cvxpy/problems/problem.py\u001b[0m in \u001b[0;36m_solve\u001b[0;34m(self, solver, warm_start, verbose, gp, qcp, requires_grad, enforce_dpp, ignore_dpp, **kwargs)\u001b[0m\n\u001b[1;32m   1014\u001b[0m                     solving_chain.reductions[-1].name())\n\u001b[1;32m   1015\u001b[0m         \u001b[0mstart\u001b[0m \u001b[0;34m=\u001b[0m \u001b[0mtime\u001b[0m\u001b[0;34m.\u001b[0m\u001b[0mtime\u001b[0m\u001b[0;34m(\u001b[0m\u001b[0;34m)\u001b[0m\u001b[0;34m\u001b[0m\u001b[0;34m\u001b[0m\u001b[0m\n\u001b[0;32m-> 1016\u001b[0;31m         solution = solving_chain.solve_via_data(\n\u001b[0m\u001b[1;32m   1017\u001b[0m             self, data, warm_start, verbose, kwargs)\n\u001b[1;32m   1018\u001b[0m         \u001b[0mend\u001b[0m \u001b[0;34m=\u001b[0m \u001b[0mtime\u001b[0m\u001b[0;34m.\u001b[0m\u001b[0mtime\u001b[0m\u001b[0;34m(\u001b[0m\u001b[0;34m)\u001b[0m\u001b[0;34m\u001b[0m\u001b[0;34m\u001b[0m\u001b[0m\n",
      "\u001b[0;32m~/.local/lib/python3.8/site-packages/cvxpy/reductions/solvers/solving_chain.py\u001b[0m in \u001b[0;36msolve_via_data\u001b[0;34m(self, problem, data, warm_start, verbose, solver_opts)\u001b[0m\n\u001b[1;32m    359\u001b[0m             \u001b[0ma\u001b[0m \u001b[0mSolution\u001b[0m \u001b[0mobject\u001b[0m\u001b[0;34m.\u001b[0m\u001b[0;34m\u001b[0m\u001b[0;34m\u001b[0m\u001b[0m\n\u001b[1;32m    360\u001b[0m         \"\"\"\n\u001b[0;32m--> 361\u001b[0;31m         return self.solver.solve_via_data(data, warm_start, verbose,\n\u001b[0m\u001b[1;32m    362\u001b[0m                                           solver_opts, problem._solver_cache)\n",
      "\u001b[0;32m~/.local/lib/python3.8/site-packages/cvxpy/reductions/solvers/conic_solvers/scs_conif.py\u001b[0m in \u001b[0;36msolve_via_data\u001b[0;34m(self, data, warm_start, verbose, solver_opts, solver_cache)\u001b[0m\n\u001b[1;32m    327\u001b[0m \u001b[0;34m\u001b[0m\u001b[0m\n\u001b[1;32m    328\u001b[0m         \u001b[0msolver_opts\u001b[0m \u001b[0;34m=\u001b[0m \u001b[0mSCS\u001b[0m\u001b[0;34m.\u001b[0m\u001b[0mparse_solver_options\u001b[0m\u001b[0;34m(\u001b[0m\u001b[0msolver_opts\u001b[0m\u001b[0;34m)\u001b[0m\u001b[0;34m\u001b[0m\u001b[0;34m\u001b[0m\u001b[0m\n\u001b[0;32m--> 329\u001b[0;31m         \u001b[0mresults\u001b[0m\u001b[0;34m,\u001b[0m \u001b[0mstatus\u001b[0m \u001b[0;34m=\u001b[0m \u001b[0msolve\u001b[0m\u001b[0;34m(\u001b[0m\u001b[0msolver_opts\u001b[0m\u001b[0;34m)\u001b[0m\u001b[0;34m\u001b[0m\u001b[0;34m\u001b[0m\u001b[0m\n\u001b[0m\u001b[1;32m    330\u001b[0m         if (status in s.INACCURATE and scs_version.major == 2\n\u001b[1;32m    331\u001b[0m                 and \"acceleration_lookback\" not in solver_opts):\n",
      "\u001b[0;32m~/.local/lib/python3.8/site-packages/cvxpy/reductions/solvers/conic_solvers/scs_conif.py\u001b[0m in \u001b[0;36msolve\u001b[0;34m(_solver_opts)\u001b[0m\n\u001b[1;32m    322\u001b[0m                 \u001b[0m_status\u001b[0m \u001b[0;34m=\u001b[0m \u001b[0mself\u001b[0m\u001b[0;34m.\u001b[0m\u001b[0mSTATUS_MAP\u001b[0m\u001b[0;34m[\u001b[0m\u001b[0m_results\u001b[0m\u001b[0;34m[\u001b[0m\u001b[0;34m\"info\"\u001b[0m\u001b[0;34m]\u001b[0m\u001b[0;34m[\u001b[0m\u001b[0;34m\"statusVal\"\u001b[0m\u001b[0;34m]\u001b[0m\u001b[0;34m]\u001b[0m\u001b[0;34m\u001b[0m\u001b[0;34m\u001b[0m\u001b[0m\n\u001b[1;32m    323\u001b[0m             \u001b[0;32melse\u001b[0m\u001b[0;34m:\u001b[0m\u001b[0;34m\u001b[0m\u001b[0;34m\u001b[0m\u001b[0m\n\u001b[0;32m--> 324\u001b[0;31m                 \u001b[0m_results\u001b[0m \u001b[0;34m=\u001b[0m \u001b[0mscs\u001b[0m\u001b[0;34m.\u001b[0m\u001b[0msolve\u001b[0m\u001b[0;34m(\u001b[0m\u001b[0margs\u001b[0m\u001b[0;34m,\u001b[0m \u001b[0mcones\u001b[0m\u001b[0;34m,\u001b[0m \u001b[0mverbose\u001b[0m\u001b[0;34m=\u001b[0m\u001b[0mverbose\u001b[0m\u001b[0;34m,\u001b[0m \u001b[0;34m**\u001b[0m\u001b[0m_solver_opts\u001b[0m\u001b[0;34m)\u001b[0m\u001b[0;34m\u001b[0m\u001b[0;34m\u001b[0m\u001b[0m\n\u001b[0m\u001b[1;32m    325\u001b[0m                 \u001b[0m_status\u001b[0m \u001b[0;34m=\u001b[0m \u001b[0mself\u001b[0m\u001b[0;34m.\u001b[0m\u001b[0mSTATUS_MAP\u001b[0m\u001b[0;34m[\u001b[0m\u001b[0m_results\u001b[0m\u001b[0;34m[\u001b[0m\u001b[0;34m\"info\"\u001b[0m\u001b[0;34m]\u001b[0m\u001b[0;34m[\u001b[0m\u001b[0;34m\"status_val\"\u001b[0m\u001b[0;34m]\u001b[0m\u001b[0;34m]\u001b[0m\u001b[0;34m\u001b[0m\u001b[0;34m\u001b[0m\u001b[0m\n\u001b[1;32m    326\u001b[0m             \u001b[0;32mreturn\u001b[0m \u001b[0m_results\u001b[0m\u001b[0;34m,\u001b[0m \u001b[0m_status\u001b[0m\u001b[0;34m\u001b[0m\u001b[0;34m\u001b[0m\u001b[0m\n",
      "\u001b[0;32m~/.local/lib/python3.8/site-packages/scs/__init__.py\u001b[0m in \u001b[0;36msolve\u001b[0;34m(data, cone, **settings)\u001b[0m\n\u001b[1;32m    164\u001b[0m \u001b[0;31m# Backwards compatible helper function that simply calls the main API.\u001b[0m\u001b[0;34m\u001b[0m\u001b[0;34m\u001b[0m\u001b[0;34m\u001b[0m\u001b[0m\n\u001b[1;32m    165\u001b[0m \u001b[0;32mdef\u001b[0m \u001b[0msolve\u001b[0m\u001b[0;34m(\u001b[0m\u001b[0mdata\u001b[0m\u001b[0;34m,\u001b[0m \u001b[0mcone\u001b[0m\u001b[0;34m,\u001b[0m \u001b[0;34m**\u001b[0m\u001b[0msettings\u001b[0m\u001b[0;34m)\u001b[0m\u001b[0;34m:\u001b[0m\u001b[0;34m\u001b[0m\u001b[0;34m\u001b[0m\u001b[0m\n\u001b[0;32m--> 166\u001b[0;31m     \u001b[0msolver\u001b[0m \u001b[0;34m=\u001b[0m \u001b[0mSCS\u001b[0m\u001b[0;34m(\u001b[0m\u001b[0mdata\u001b[0m\u001b[0;34m,\u001b[0m \u001b[0mcone\u001b[0m\u001b[0;34m,\u001b[0m \u001b[0;34m**\u001b[0m\u001b[0msettings\u001b[0m\u001b[0;34m)\u001b[0m\u001b[0;34m\u001b[0m\u001b[0;34m\u001b[0m\u001b[0m\n\u001b[0m\u001b[1;32m    167\u001b[0m \u001b[0;34m\u001b[0m\u001b[0m\n\u001b[1;32m    168\u001b[0m     \u001b[0;31m# Hack out the warm start data from old API\u001b[0m\u001b[0;34m\u001b[0m\u001b[0;34m\u001b[0m\u001b[0;34m\u001b[0m\u001b[0m\n",
      "\u001b[0;32m~/.local/lib/python3.8/site-packages/scs/__init__.py\u001b[0m in \u001b[0;36m__init__\u001b[0;34m(self, data, cone, **settings)\u001b[0m\n\u001b[1;32m    116\u001b[0m \u001b[0;34m\u001b[0m\u001b[0m\n\u001b[1;32m    117\u001b[0m         \u001b[0;31m# Initialize solver\u001b[0m\u001b[0;34m\u001b[0m\u001b[0;34m\u001b[0m\u001b[0;34m\u001b[0m\u001b[0m\n\u001b[0;32m--> 118\u001b[0;31m         self._solver = _scs.SCS(\n\u001b[0m\u001b[1;32m    119\u001b[0m             \u001b[0;34m(\u001b[0m\u001b[0mm\u001b[0m\u001b[0;34m,\u001b[0m \u001b[0mn\u001b[0m\u001b[0;34m)\u001b[0m\u001b[0;34m,\u001b[0m\u001b[0;34m\u001b[0m\u001b[0;34m\u001b[0m\u001b[0m\n\u001b[1;32m    120\u001b[0m             \u001b[0mAdata\u001b[0m\u001b[0;34m,\u001b[0m\u001b[0;34m\u001b[0m\u001b[0;34m\u001b[0m\u001b[0m\n",
      "\u001b[0;31mValueError\u001b[0m: Error parsing inputs\n"
     ]
    }
   ],
   "source": [
    "n = 3\n",
    "p = 3\n",
    "np.random.seed(1)\n",
    "C = np.random.randn(n, n)\n",
    "A = []\n",
    "b = []\n",
    "for i in range(p):\n",
    "    A.append(np.random.randn(n, n))\n",
    "    b.append(np.random.randn())\n",
    "\n",
    "# Define and solve the CVXPY problem.\n",
    "# Create a symmetric matrix variable.\n",
    "X = Variable((n,n), symmetric=True)\n",
    "# The operator >> denotes matrix inequality.\n",
    "constraints = [X >> 0]\n",
    "constraints += [\n",
    "    trace(A[i] @ X) == b[i] for i in range(p)\n",
    "]\n",
    "prob = Problem(Minimize(trace(C @ X)),\n",
    "                  constraints)\n",
    "prob.solve(kktsolver=ROBUST_KKTSOLVER, verbose=True)\n",
    "\n",
    "# Print result.\n",
    "print(\"The optimal value is\", prob.value)\n",
    "print(\"A solution X is\")\n",
    "print(X.value)"
   ]
  },
  {
   "cell_type": "code",
   "execution_count": null,
   "id": "d1cf5b71",
   "metadata": {
    "scrolled": true
   },
   "outputs": [],
   "source": [
    "learnMMMF(matrix, 1.0)"
   ]
  }
 ],
 "metadata": {
  "kernelspec": {
   "display_name": "Python 3 (ipykernel)",
   "language": "python",
   "name": "python3"
  },
  "language_info": {
   "codemirror_mode": {
    "name": "ipython",
    "version": 3
   },
   "file_extension": ".py",
   "mimetype": "text/x-python",
   "name": "python",
   "nbconvert_exporter": "python",
   "pygments_lexer": "ipython3",
   "version": "3.8.10"
  }
 },
 "nbformat": 4,
 "nbformat_minor": 5
}
