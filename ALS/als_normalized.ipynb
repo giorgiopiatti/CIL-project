{
 "cells": [
  {
   "cell_type": "code",
   "execution_count": 1,
   "id": "928d169f",
   "metadata": {},
   "outputs": [
    {
     "name": "stdout",
     "output_type": "stream",
     "text": [
      "WARNING:tensorflow:From /home/david/.local/lib/python3.8/site-packages/tensorflow/python/compat/v2_compat.py:107: disable_resource_variables (from tensorflow.python.ops.variable_scope) is deprecated and will be removed in a future version.\n",
      "Instructions for updating:\n",
      "non-resource variables are not supported in the long term\n"
     ]
    }
   ],
   "source": [
    "import numpy as np\n",
    "import pandas as pd\n",
    "from sklearn.model_selection import train_test_split\n",
    "import random\n",
    "from dataset import extract_matrix_users_movies_ratings, extract_users_movies_ratings_lists\n",
    "from libreco.data import split_by_ratio_chrono, DatasetPure\n",
    "from libreco.algorithms import ALS\n",
    "from sklearn.metrics import mean_squared_error\n",
    "from scipy.sparse import coo_matrix\n",
    "\n",
    "import importlib\n",
    "import dataset\n",
    "importlib.reload(dataset)\n",
    "from dataset import extract_matrix_users_movies_ratings, extract_users_movies_ratings_lists"
   ]
  },
  {
   "cell_type": "code",
   "execution_count": 70,
   "id": "92cc96bc",
   "metadata": {},
   "outputs": [],
   "source": [
    "data_pd = pd.read_csv('../data/data_train.csv')\n",
    "data_matrix, _ = extract_matrix_users_movies_ratings(data_pd)\n",
    "# axis 0 means: we subtract the means for each movie\n",
    "\n",
    "data_matrix[data_matrix == 0] = 'nan'\n",
    "MEAN = np.nanmean(data_matrix, keepdims=True)\n",
    "data_matrix_normalized = np.subtract(data_matrix, MEAN, where=data_matrix != 0)\n",
    "MEAN_MOVIE_MATRIX = np.nanmean(data_matrix_normalized, axis=0, keepdims=True)\n",
    "data_matrix_normalized = np.subtract(data_matrix_normalized, MEAN_MOVIE_MATRIX, where=data_matrix != 0)\n",
    "MEAN_USER_MATRIX = np.nanmean(data_matrix_normalized, axis=1, keepdims=True)\n",
    "data_matrix_normalized = np.subtract(data_matrix_normalized, MEAN_USER_MATRIX, where=data_matrix != 0)\n",
    "#STD = np.nanstd(data_matrix, keepdims=True)\n",
    "\n",
    "STD_MATRIX = np.nanstd(data_matrix, axis=0, keepdims=True)"
   ]
  },
  {
   "cell_type": "code",
   "execution_count": 58,
   "id": "8d3b1119",
   "metadata": {},
   "outputs": [],
   "source": [
    "def normalize_extract_lists(pd, users, movies):  \n",
    "    # axis 0 means: we subtract the means for each movie\n",
    "    a = np.zeros(len(users))\n",
    "    #data_matrix_normalized = np.divide(data_matrix_normalized, STD_MATRIX, where=data_matrix != 0)\n",
    "\n",
    "    for i, (user, movie) in enumerate(zip(users, movies)):\n",
    "        a[i] = data_matrix_normalized[user][movie]\n",
    "    return a"
   ]
  },
  {
   "cell_type": "code",
   "execution_count": 26,
   "id": "3318cdc3",
   "metadata": {},
   "outputs": [],
   "source": [
    "def normalize_lists(pd, users, movies):\n",
    "    data_matrix, _ = extract_matrix_users_movies_ratings(pd)\n",
    "    # axis 0 means: we subtract the means for each movie\n",
    "    a = np.zeros(len(users))\n",
    "    data_matrix_normalized = np.subtract(data_matrix, MEAN, where=data_matrix != 0)\n",
    "    #data_matrix_normalized = np.divide(data_matrix_normalized, STD, where=data_matrix != 0)\n",
    "        \n",
    "    for i, (user, movie) in enumerate(zip(users, movies)):\n",
    "        a[i] = data_matrix_normalized[user][movie]\n",
    "    return a"
   ]
  },
  {
   "cell_type": "code",
   "execution_count": 74,
   "id": "497823b7",
   "metadata": {},
   "outputs": [],
   "source": [
    "RANDOM_STATE = 58\n",
    "train_pd, val_pd = train_test_split(data_pd, train_size=0.9, random_state=RANDOM_STATE)\n",
    "\n",
    "users_train, movies_train, _ = extract_users_movies_ratings_lists(train_pd)\n",
    "ratings_train = normalize_extract_lists(train_pd, users_train, movies_train)\n",
    "\n",
    "users_val, movies_val, _ = extract_users_movies_ratings_lists(val_pd)\n",
    "ratings_val = normalize_extract_lists(val_pd, users_val, movies_val)\n",
    "\n",
    "train = pd.DataFrame({'user': users_train, 'item': movies_train, 'label': ratings_train})\n",
    "val = pd.DataFrame({'user': users_val, 'item': movies_val, 'label': ratings_val})\n",
    "\n",
    "# %%\n",
    "train_data, data_info = DatasetPure.build_trainset(train)\n",
    "eval_data = DatasetPure.build_evalset(val)"
   ]
  },
  {
   "cell_type": "code",
   "execution_count": 75,
   "id": "ca07b804",
   "metadata": {},
   "outputs": [],
   "source": [
    "def get_mean_movie(i):\n",
    "    mean_vector = np.squeeze(MEAN_MOVIE_MATRIX)\n",
    "    return mean_vector[i]\n",
    "\n",
    "def get_mean_user(i):\n",
    "    mean_vector = np.squeeze(MEAN_USER_MATRIX)\n",
    "    return mean_vector[i]\n",
    "\n",
    "\n",
    "def get_std(i):\n",
    "    std_vector = np.squeeze(STD_MATRIX)\n",
    "    return std_vector[i]\n",
    "\n",
    "def get_mean_movie_offset(movies):\n",
    "    return np.array(list(map(get_mean_movie, movies)))\n",
    "\n",
    "def get_mean_user_offset(users):\n",
    "    return np.array(list(map(get_mean_user, users)))\n",
    "\n",
    "\n",
    "def get_std_offset(movies):\n",
    "    return np.array(list(map(get_std, movies)))\n",
    "\n",
    "def transform_back(ratings, users, movies):\n",
    "    return ratings + MEAN + get_mean_movie_offset(movies) + get_mean_user_offset(users)"
   ]
  },
  {
   "cell_type": "code",
   "execution_count": 16,
   "id": "67b8b342",
   "metadata": {},
   "outputs": [],
   "source": [
    "def save_predictions(res_path, predictions):\n",
    "    test_pd = pd.read_csv('../data/sampleSubmission.csv')\n",
    "    test_pd = test_pd.astype({'Prediction': 'float'})\n",
    "    test_pd.iloc[:, 1] = predictions\n",
    "    test_pd.to_csv(res_path, index=False, float_format='%.3f')"
   ]
  },
  {
   "cell_type": "code",
   "execution_count": 76,
   "id": "853854f1",
   "metadata": {},
   "outputs": [
    {
     "name": "stdout",
     "output_type": "stream",
     "text": [
      "Training start time: \u001b[35m2022-07-23 16:01:03\u001b[0m\n",
      "Epoch 1 elapsed: 0.073s\n"
     ]
    },
    {
     "name": "stderr",
     "output_type": "stream",
     "text": [
      "eval_pred: 100%|███████████████████████████████| 15/15 [00:00<00:00, 601.50it/s]"
     ]
    },
    {
     "name": "stdout",
     "output_type": "stream",
     "text": [
      "\t eval rmse: 0.9981\n",
      "\t eval mae: 0.8030\n",
      "\t eval r2: -0.0198\n",
      "==============================\n"
     ]
    },
    {
     "name": "stderr",
     "output_type": "stream",
     "text": [
      "\n"
     ]
    },
    {
     "name": "stdout",
     "output_type": "stream",
     "text": [
      "Epoch 2 elapsed: 0.065s\n"
     ]
    },
    {
     "name": "stderr",
     "output_type": "stream",
     "text": [
      "eval_pred: 100%|███████████████████████████████| 15/15 [00:00<00:00, 665.59it/s]\n"
     ]
    },
    {
     "name": "stdout",
     "output_type": "stream",
     "text": [
      "\t eval rmse: 0.9999\n",
      "\t eval mae: 0.8032\n",
      "\t eval r2: -0.0234\n",
      "==============================\n",
      "Epoch 3 elapsed: 0.083s\n"
     ]
    },
    {
     "name": "stderr",
     "output_type": "stream",
     "text": [
      "eval_pred: 100%|███████████████████████████████| 15/15 [00:00<00:00, 977.71it/s]\n"
     ]
    },
    {
     "name": "stdout",
     "output_type": "stream",
     "text": [
      "\t eval rmse: 0.9980\n",
      "\t eval mae: 0.8002\n",
      "\t eval r2: -0.0195\n",
      "==============================\n",
      "Epoch 4 elapsed: 0.084s\n"
     ]
    },
    {
     "name": "stderr",
     "output_type": "stream",
     "text": [
      "eval_pred: 100%|██████████████████████████████| 15/15 [00:00<00:00, 1017.51it/s]"
     ]
    },
    {
     "name": "stdout",
     "output_type": "stream",
     "text": [
      "\t eval rmse: 0.9946\n"
     ]
    },
    {
     "name": "stderr",
     "output_type": "stream",
     "text": [
      "\n"
     ]
    },
    {
     "name": "stdout",
     "output_type": "stream",
     "text": [
      "\t eval mae: 0.7963\n",
      "\t eval r2: -0.0125\n",
      "==============================\n",
      "Epoch 5 elapsed: 0.104s\n"
     ]
    },
    {
     "name": "stderr",
     "output_type": "stream",
     "text": [
      "eval_pred: 100%|███████████████████████████████| 15/15 [00:00<00:00, 590.58it/s]\n"
     ]
    },
    {
     "name": "stdout",
     "output_type": "stream",
     "text": [
      "\t eval rmse: 0.9908\n",
      "\t eval mae: 0.7924\n",
      "\t eval r2: -0.0048\n",
      "==============================\n",
      "Training start time: \u001b[35m2022-07-23 16:01:04\u001b[0m\n",
      "Epoch 1 elapsed: 0.043s\n"
     ]
    },
    {
     "name": "stderr",
     "output_type": "stream",
     "text": [
      "eval_pred: 100%|███████████████████████████████| 15/15 [00:00<00:00, 664.26it/s]\n"
     ]
    },
    {
     "name": "stdout",
     "output_type": "stream",
     "text": [
      "\t eval rmse: 0.9981\n",
      "\t eval mae: 0.8030\n",
      "\t eval r2: -0.0198\n",
      "==============================\n",
      "Epoch 2 elapsed: 0.036s\n"
     ]
    },
    {
     "name": "stderr",
     "output_type": "stream",
     "text": [
      "eval_pred: 100%|███████████████████████████████| 15/15 [00:00<00:00, 638.33it/s]\n"
     ]
    },
    {
     "name": "stdout",
     "output_type": "stream",
     "text": [
      "\t eval rmse: 0.9999\n",
      "\t eval mae: 0.8032\n",
      "\t eval r2: -0.0234\n",
      "==============================\n",
      "Epoch 3 elapsed: 0.044s\n"
     ]
    },
    {
     "name": "stderr",
     "output_type": "stream",
     "text": [
      "eval_pred: 100%|███████████████████████████████| 15/15 [00:00<00:00, 770.28it/s]\n"
     ]
    },
    {
     "name": "stdout",
     "output_type": "stream",
     "text": [
      "\t eval rmse: 0.9980\n",
      "\t eval mae: 0.8002\n",
      "\t eval r2: -0.0195\n",
      "==============================\n",
      "Epoch 4 elapsed: 0.071s\n"
     ]
    },
    {
     "name": "stderr",
     "output_type": "stream",
     "text": [
      "eval_pred: 100%|███████████████████████████████| 15/15 [00:00<00:00, 624.54it/s]\n"
     ]
    },
    {
     "name": "stdout",
     "output_type": "stream",
     "text": [
      "\t eval rmse: 0.9946\n",
      "\t eval mae: 0.7963\n",
      "\t eval r2: -0.0125\n",
      "==============================\n",
      "Epoch 5 elapsed: 0.075s\n"
     ]
    },
    {
     "name": "stderr",
     "output_type": "stream",
     "text": [
      "eval_pred: 100%|███████████████████████████████| 15/15 [00:00<00:00, 813.20it/s]"
     ]
    },
    {
     "name": "stdout",
     "output_type": "stream",
     "text": [
      "\t eval rmse: 0.9908\n"
     ]
    },
    {
     "name": "stderr",
     "output_type": "stream",
     "text": [
      "\n"
     ]
    },
    {
     "name": "stdout",
     "output_type": "stream",
     "text": [
      "\t eval mae: 0.7924\n",
      "\t eval r2: -0.0048\n",
      "==============================\n",
      "Training start time: \u001b[35m2022-07-23 16:01:06\u001b[0m\n",
      "Epoch 1 elapsed: 0.052s\n"
     ]
    },
    {
     "name": "stderr",
     "output_type": "stream",
     "text": [
      "eval_pred: 100%|███████████████████████████████| 15/15 [00:00<00:00, 603.70it/s]"
     ]
    },
    {
     "name": "stdout",
     "output_type": "stream",
     "text": [
      "\t eval rmse: 0.9981\n",
      "\t eval mae: 0.8030\n",
      "\t eval r2: -0.0198\n",
      "==============================\n"
     ]
    },
    {
     "name": "stderr",
     "output_type": "stream",
     "text": [
      "\n"
     ]
    },
    {
     "name": "stdout",
     "output_type": "stream",
     "text": [
      "Epoch 2 elapsed: 0.072s\n"
     ]
    },
    {
     "name": "stderr",
     "output_type": "stream",
     "text": [
      "eval_pred: 100%|███████████████████████████████| 15/15 [00:00<00:00, 680.01it/s]\n"
     ]
    },
    {
     "name": "stdout",
     "output_type": "stream",
     "text": [
      "\t eval rmse: 0.9999\n",
      "\t eval mae: 0.8032\n",
      "\t eval r2: -0.0234\n",
      "==============================\n",
      "Epoch 3 elapsed: 0.069s\n"
     ]
    },
    {
     "name": "stderr",
     "output_type": "stream",
     "text": [
      "eval_pred: 100%|███████████████████████████████| 15/15 [00:00<00:00, 856.89it/s]"
     ]
    },
    {
     "name": "stdout",
     "output_type": "stream",
     "text": [
      "\t eval rmse: 0.9980\n",
      "\t eval mae: 0.8002\n"
     ]
    },
    {
     "name": "stderr",
     "output_type": "stream",
     "text": [
      "\n"
     ]
    },
    {
     "name": "stdout",
     "output_type": "stream",
     "text": [
      "\t eval r2: -0.0195\n",
      "==============================\n",
      "Epoch 4 elapsed: 0.078s\n"
     ]
    },
    {
     "name": "stderr",
     "output_type": "stream",
     "text": [
      "eval_pred: 100%|███████████████████████████████| 15/15 [00:00<00:00, 709.86it/s]"
     ]
    },
    {
     "name": "stdout",
     "output_type": "stream",
     "text": [
      "\t eval rmse: 0.9946\n"
     ]
    },
    {
     "name": "stderr",
     "output_type": "stream",
     "text": [
      "\n"
     ]
    },
    {
     "name": "stdout",
     "output_type": "stream",
     "text": [
      "\t eval mae: 0.7963\n",
      "\t eval r2: -0.0125\n",
      "==============================\n",
      "Epoch 5 elapsed: 0.063s\n"
     ]
    },
    {
     "name": "stderr",
     "output_type": "stream",
     "text": [
      "eval_pred: 100%|███████████████████████████████| 15/15 [00:00<00:00, 479.48it/s]"
     ]
    },
    {
     "name": "stdout",
     "output_type": "stream",
     "text": [
      "\t eval rmse: 0.9908\n"
     ]
    },
    {
     "name": "stderr",
     "output_type": "stream",
     "text": [
      "\n"
     ]
    },
    {
     "name": "stdout",
     "output_type": "stream",
     "text": [
      "\t eval mae: 0.7924\n",
      "\t eval r2: -0.0048\n",
      "==============================\n",
      "Training start time: \u001b[35m2022-07-23 16:01:07\u001b[0m\n",
      "Epoch 1 elapsed: 0.069s\n"
     ]
    },
    {
     "name": "stderr",
     "output_type": "stream",
     "text": [
      "eval_pred: 100%|███████████████████████████████| 15/15 [00:00<00:00, 705.91it/s]"
     ]
    },
    {
     "name": "stdout",
     "output_type": "stream",
     "text": [
      "\t eval rmse: 0.9981\n",
      "\t eval mae: 0.8030\n",
      "\t eval r2: -0.0198\n",
      "==============================\n"
     ]
    },
    {
     "name": "stderr",
     "output_type": "stream",
     "text": [
      "\n"
     ]
    },
    {
     "name": "stdout",
     "output_type": "stream",
     "text": [
      "Epoch 2 elapsed: 0.057s\n"
     ]
    },
    {
     "name": "stderr",
     "output_type": "stream",
     "text": [
      "eval_pred: 100%|███████████████████████████████| 15/15 [00:00<00:00, 806.13it/s]\n"
     ]
    },
    {
     "name": "stdout",
     "output_type": "stream",
     "text": [
      "\t eval rmse: 0.9999\n",
      "\t eval mae: 0.8032\n",
      "\t eval r2: -0.0234\n",
      "==============================\n",
      "Epoch 3 elapsed: 0.080s\n"
     ]
    },
    {
     "name": "stderr",
     "output_type": "stream",
     "text": [
      "eval_pred: 100%|███████████████████████████████| 15/15 [00:00<00:00, 829.31it/s]"
     ]
    },
    {
     "name": "stdout",
     "output_type": "stream",
     "text": [
      "\t eval rmse: 0.9980\n"
     ]
    },
    {
     "name": "stderr",
     "output_type": "stream",
     "text": [
      "\n"
     ]
    },
    {
     "name": "stdout",
     "output_type": "stream",
     "text": [
      "\t eval mae: 0.8002\n",
      "\t eval r2: -0.0195\n",
      "==============================\n",
      "Epoch 4 elapsed: 0.057s\n"
     ]
    },
    {
     "name": "stderr",
     "output_type": "stream",
     "text": [
      "eval_pred: 100%|███████████████████████████████| 15/15 [00:00<00:00, 812.50it/s]"
     ]
    },
    {
     "name": "stdout",
     "output_type": "stream",
     "text": [
      "\t eval rmse: 0.9946\n",
      "\t eval mae: 0.7963\n",
      "\t eval r2: -0.0125\n",
      "==============================\n"
     ]
    },
    {
     "name": "stderr",
     "output_type": "stream",
     "text": [
      "\n"
     ]
    },
    {
     "name": "stdout",
     "output_type": "stream",
     "text": [
      "Epoch 5 elapsed: 0.070s\n"
     ]
    },
    {
     "name": "stderr",
     "output_type": "stream",
     "text": [
      "eval_pred: 100%|███████████████████████████████| 15/15 [00:00<00:00, 612.34it/s]"
     ]
    },
    {
     "name": "stdout",
     "output_type": "stream",
     "text": [
      "\t eval rmse: 0.9908\n"
     ]
    },
    {
     "name": "stderr",
     "output_type": "stream",
     "text": [
      "\n"
     ]
    },
    {
     "name": "stdout",
     "output_type": "stream",
     "text": [
      "\t eval mae: 0.7924\n",
      "\t eval r2: -0.0048\n",
      "==============================\n",
      "Training start time: \u001b[35m2022-07-23 16:01:08\u001b[0m\n",
      "Epoch 1 elapsed: 0.065s\n"
     ]
    },
    {
     "name": "stderr",
     "output_type": "stream",
     "text": [
      "eval_pred: 100%|███████████████████████████████| 15/15 [00:00<00:00, 772.44it/s]\n"
     ]
    },
    {
     "name": "stdout",
     "output_type": "stream",
     "text": [
      "\t eval rmse: 0.9981\n",
      "\t eval mae: 0.8030\n",
      "\t eval r2: -0.0198\n",
      "==============================\n",
      "Epoch 2 elapsed: 0.036s\n"
     ]
    },
    {
     "name": "stderr",
     "output_type": "stream",
     "text": [
      "eval_pred: 100%|███████████████████████████████| 15/15 [00:00<00:00, 745.17it/s]\n"
     ]
    },
    {
     "name": "stdout",
     "output_type": "stream",
     "text": [
      "\t eval rmse: 0.9999\n",
      "\t eval mae: 0.8032\n",
      "\t eval r2: -0.0234\n",
      "==============================\n",
      "Epoch 3 elapsed: 0.091s\n"
     ]
    },
    {
     "name": "stderr",
     "output_type": "stream",
     "text": [
      "eval_pred: 100%|███████████████████████████████| 15/15 [00:00<00:00, 647.79it/s]\n"
     ]
    },
    {
     "name": "stdout",
     "output_type": "stream",
     "text": [
      "\t eval rmse: 0.9980\n",
      "\t eval mae: 0.8002\n",
      "\t eval r2: -0.0195\n",
      "==============================\n",
      "Epoch 4 elapsed: 0.056s\n"
     ]
    },
    {
     "name": "stderr",
     "output_type": "stream",
     "text": [
      "eval_pred: 100%|███████████████████████████████| 15/15 [00:00<00:00, 772.62it/s]"
     ]
    },
    {
     "name": "stdout",
     "output_type": "stream",
     "text": [
      "\t eval rmse: 0.9946\n",
      "\t eval mae: 0.7963\n"
     ]
    },
    {
     "name": "stderr",
     "output_type": "stream",
     "text": [
      "\n"
     ]
    },
    {
     "name": "stdout",
     "output_type": "stream",
     "text": [
      "\t eval r2: -0.0125\n",
      "==============================\n",
      "Epoch 5 elapsed: 0.093s\n"
     ]
    },
    {
     "name": "stderr",
     "output_type": "stream",
     "text": [
      "eval_pred: 100%|███████████████████████████████| 15/15 [00:00<00:00, 711.40it/s]\n"
     ]
    },
    {
     "name": "stdout",
     "output_type": "stream",
     "text": [
      "\t eval rmse: 0.9908\n",
      "\t eval mae: 0.7924\n",
      "\t eval r2: -0.0048\n",
      "==============================\n",
      "Training start time: \u001b[35m2022-07-23 16:01:09\u001b[0m\n",
      "Epoch 1 elapsed: 0.092s\n"
     ]
    },
    {
     "name": "stderr",
     "output_type": "stream",
     "text": [
      "eval_pred: 100%|███████████████████████████████| 15/15 [00:00<00:00, 770.65it/s]"
     ]
    },
    {
     "name": "stdout",
     "output_type": "stream",
     "text": [
      "\t eval rmse: 0.9971\n",
      "\t eval mae: 0.8022\n",
      "\t eval r2: -0.0176\n",
      "==============================\n"
     ]
    },
    {
     "name": "stderr",
     "output_type": "stream",
     "text": [
      "\n"
     ]
    },
    {
     "name": "stdout",
     "output_type": "stream",
     "text": [
      "Epoch 2 elapsed: 0.054s\n"
     ]
    },
    {
     "name": "stderr",
     "output_type": "stream",
     "text": [
      "eval_pred: 100%|███████████████████████████████| 15/15 [00:00<00:00, 778.09it/s]\n"
     ]
    },
    {
     "name": "stdout",
     "output_type": "stream",
     "text": [
      "\t eval rmse: 0.9999\n",
      "\t eval mae: 0.8032\n",
      "\t eval r2: -0.0234\n",
      "==============================\n",
      "Epoch 3 elapsed: 0.049s\n"
     ]
    },
    {
     "name": "stderr",
     "output_type": "stream",
     "text": [
      "eval_pred: 100%|███████████████████████████████| 15/15 [00:00<00:00, 691.29it/s]"
     ]
    },
    {
     "name": "stdout",
     "output_type": "stream",
     "text": [
      "\t eval rmse: 0.9979\n",
      "\t eval mae: 0.8000\n",
      "\t eval r2: -0.0193\n",
      "=============================="
     ]
    },
    {
     "name": "stderr",
     "output_type": "stream",
     "text": [
      "\n"
     ]
    },
    {
     "name": "stdout",
     "output_type": "stream",
     "text": [
      "\n",
      "Epoch 4 elapsed: 0.068s\n"
     ]
    },
    {
     "name": "stderr",
     "output_type": "stream",
     "text": [
      "eval_pred: 100%|███████████████████████████████| 15/15 [00:00<00:00, 773.04it/s]"
     ]
    },
    {
     "name": "stdout",
     "output_type": "stream",
     "text": [
      "\t eval rmse: 0.9944\n",
      "\t eval mae: 0.7961\n"
     ]
    },
    {
     "name": "stderr",
     "output_type": "stream",
     "text": [
      "\n"
     ]
    },
    {
     "name": "stdout",
     "output_type": "stream",
     "text": [
      "\t eval r2: -0.0122\n",
      "==============================\n",
      "Epoch 5 elapsed: 0.048s\n"
     ]
    },
    {
     "name": "stderr",
     "output_type": "stream",
     "text": [
      "eval_pred: 100%|███████████████████████████████| 15/15 [00:00<00:00, 598.10it/s]"
     ]
    },
    {
     "name": "stdout",
     "output_type": "stream",
     "text": [
      "\t eval rmse: 0.9905\n",
      "\t eval mae: 0.7921\n",
      "\t eval r2: -0.0043\n",
      "==============================\n"
     ]
    },
    {
     "name": "stderr",
     "output_type": "stream",
     "text": [
      "\n"
     ]
    },
    {
     "name": "stdout",
     "output_type": "stream",
     "text": [
      "Training start time: \u001b[35m2022-07-23 16:01:10\u001b[0m\n",
      "Epoch 1 elapsed: 0.071s\n"
     ]
    },
    {
     "name": "stderr",
     "output_type": "stream",
     "text": [
      "eval_pred: 100%|███████████████████████████████| 15/15 [00:00<00:00, 766.01it/s]"
     ]
    },
    {
     "name": "stdout",
     "output_type": "stream",
     "text": [
      "\t eval rmse: 0.9971\n",
      "\t eval mae: 0.8022\n",
      "\t eval r2: -0.0176\n",
      "==============================\n"
     ]
    },
    {
     "name": "stderr",
     "output_type": "stream",
     "text": [
      "\n"
     ]
    },
    {
     "name": "stdout",
     "output_type": "stream",
     "text": [
      "Epoch 2 elapsed: 0.066s\n"
     ]
    },
    {
     "name": "stderr",
     "output_type": "stream",
     "text": [
      "eval_pred: 100%|███████████████████████████████| 15/15 [00:00<00:00, 591.15it/s]\n"
     ]
    },
    {
     "name": "stdout",
     "output_type": "stream",
     "text": [
      "\t eval rmse: 0.9999\n",
      "\t eval mae: 0.8032\n",
      "\t eval r2: -0.0234\n",
      "==============================\n",
      "Epoch 3 elapsed: 0.048s\n"
     ]
    },
    {
     "name": "stderr",
     "output_type": "stream",
     "text": [
      "eval_pred: 100%|███████████████████████████████| 15/15 [00:00<00:00, 831.85it/s]"
     ]
    },
    {
     "name": "stdout",
     "output_type": "stream",
     "text": [
      "\t eval rmse: 0.9979\n",
      "\t eval mae: 0.8000\n",
      "\t eval r2: -0.0193\n",
      "==============================\n"
     ]
    },
    {
     "name": "stderr",
     "output_type": "stream",
     "text": [
      "\n"
     ]
    },
    {
     "name": "stdout",
     "output_type": "stream",
     "text": [
      "Epoch 4 elapsed: 0.060s\n"
     ]
    },
    {
     "name": "stderr",
     "output_type": "stream",
     "text": [
      "eval_pred: 100%|███████████████████████████████| 15/15 [00:00<00:00, 910.95it/s]"
     ]
    },
    {
     "name": "stdout",
     "output_type": "stream",
     "text": [
      "\t eval rmse: 0.9944\n",
      "\t eval mae: 0.7961\n",
      "\t eval r2: -0.0122\n",
      "=============================="
     ]
    },
    {
     "name": "stderr",
     "output_type": "stream",
     "text": [
      "\n"
     ]
    },
    {
     "name": "stdout",
     "output_type": "stream",
     "text": [
      "\n",
      "Epoch 5 elapsed: 0.060s\n"
     ]
    },
    {
     "name": "stderr",
     "output_type": "stream",
     "text": [
      "eval_pred: 100%|███████████████████████████████| 15/15 [00:00<00:00, 588.61it/s]"
     ]
    },
    {
     "name": "stdout",
     "output_type": "stream",
     "text": [
      "\t eval rmse: 0.9905\n"
     ]
    },
    {
     "name": "stderr",
     "output_type": "stream",
     "text": [
      "\n"
     ]
    },
    {
     "name": "stdout",
     "output_type": "stream",
     "text": [
      "\t eval mae: 0.7921\n",
      "\t eval r2: -0.0043\n",
      "==============================\n",
      "Training start time: \u001b[35m2022-07-23 16:01:11\u001b[0m\n",
      "Epoch 1 elapsed: 0.072s\n"
     ]
    },
    {
     "name": "stderr",
     "output_type": "stream",
     "text": [
      "eval_pred: 100%|███████████████████████████████| 15/15 [00:00<00:00, 669.86it/s]"
     ]
    },
    {
     "name": "stdout",
     "output_type": "stream",
     "text": [
      "\t eval rmse: 0.9971\n",
      "\t eval mae: 0.8022\n",
      "\t eval r2: -0.0176\n",
      "==============================\n"
     ]
    },
    {
     "name": "stderr",
     "output_type": "stream",
     "text": [
      "\n"
     ]
    },
    {
     "name": "stdout",
     "output_type": "stream",
     "text": [
      "Epoch 2 elapsed: 0.064s\n"
     ]
    },
    {
     "name": "stderr",
     "output_type": "stream",
     "text": [
      "eval_pred: 100%|███████████████████████████████| 15/15 [00:00<00:00, 814.68it/s]\n"
     ]
    },
    {
     "name": "stdout",
     "output_type": "stream",
     "text": [
      "\t eval rmse: 0.9999\n",
      "\t eval mae: 0.8032\n",
      "\t eval r2: -0.0234\n",
      "==============================\n",
      "Epoch 3 elapsed: 0.060s\n"
     ]
    },
    {
     "name": "stderr",
     "output_type": "stream",
     "text": [
      "eval_pred: 100%|███████████████████████████████| 15/15 [00:00<00:00, 828.42it/s]"
     ]
    },
    {
     "name": "stdout",
     "output_type": "stream",
     "text": [
      "\t eval rmse: 0.9979\n",
      "\t eval mae: 0.8000\n"
     ]
    },
    {
     "name": "stderr",
     "output_type": "stream",
     "text": [
      "\n"
     ]
    },
    {
     "name": "stdout",
     "output_type": "stream",
     "text": [
      "\t eval r2: -0.0193\n",
      "==============================\n",
      "Epoch 4 elapsed: 0.052s\n"
     ]
    },
    {
     "name": "stderr",
     "output_type": "stream",
     "text": [
      "eval_pred: 100%|███████████████████████████████| 15/15 [00:00<00:00, 793.78it/s]"
     ]
    },
    {
     "name": "stdout",
     "output_type": "stream",
     "text": [
      "\t eval rmse: 0.9944\n",
      "\t eval mae: 0.7961\n",
      "\t eval r2: -0.0122\n",
      "==============================\n"
     ]
    },
    {
     "name": "stderr",
     "output_type": "stream",
     "text": [
      "\n"
     ]
    },
    {
     "name": "stdout",
     "output_type": "stream",
     "text": [
      "Epoch 5 elapsed: 0.078s\n"
     ]
    },
    {
     "name": "stderr",
     "output_type": "stream",
     "text": [
      "eval_pred: 100%|███████████████████████████████| 15/15 [00:00<00:00, 545.83it/s]\n"
     ]
    },
    {
     "name": "stdout",
     "output_type": "stream",
     "text": [
      "\t eval rmse: 0.9905\n",
      "\t eval mae: 0.7921\n",
      "\t eval r2: -0.0043\n",
      "==============================\n",
      "Training start time: \u001b[35m2022-07-23 16:01:12\u001b[0m\n",
      "Epoch 1 elapsed: 0.036s\n"
     ]
    },
    {
     "name": "stderr",
     "output_type": "stream",
     "text": [
      "eval_pred: 100%|███████████████████████████████| 15/15 [00:00<00:00, 598.34it/s]\n"
     ]
    },
    {
     "name": "stdout",
     "output_type": "stream",
     "text": [
      "\t eval rmse: 0.9971\n",
      "\t eval mae: 0.8022\n",
      "\t eval r2: -0.0176\n",
      "==============================\n",
      "Epoch 2 elapsed: 0.048s\n"
     ]
    },
    {
     "name": "stderr",
     "output_type": "stream",
     "text": [
      "eval_pred: 100%|███████████████████████████████| 15/15 [00:00<00:00, 817.61it/s]\n"
     ]
    },
    {
     "name": "stdout",
     "output_type": "stream",
     "text": [
      "\t eval rmse: 0.9999\n",
      "\t eval mae: 0.8032\n",
      "\t eval r2: -0.0234\n",
      "==============================\n",
      "Epoch 3 elapsed: 0.055s\n"
     ]
    },
    {
     "name": "stderr",
     "output_type": "stream",
     "text": [
      "eval_pred: 100%|███████████████████████████████| 15/15 [00:00<00:00, 814.44it/s]\n"
     ]
    },
    {
     "name": "stdout",
     "output_type": "stream",
     "text": [
      "\t eval rmse: 0.9979\n",
      "\t eval mae: 0.8000\n",
      "\t eval r2: -0.0193\n",
      "==============================\n",
      "Epoch 4 elapsed: 0.075s\n"
     ]
    },
    {
     "name": "stderr",
     "output_type": "stream",
     "text": [
      "eval_pred: 100%|███████████████████████████████| 15/15 [00:00<00:00, 972.66it/s]\n"
     ]
    },
    {
     "name": "stdout",
     "output_type": "stream",
     "text": [
      "\t eval rmse: 0.9944\n",
      "\t eval mae: 0.7961\n",
      "\t eval r2: -0.0122\n",
      "==============================\n",
      "Epoch 5 elapsed: 0.055s\n"
     ]
    },
    {
     "name": "stderr",
     "output_type": "stream",
     "text": [
      "eval_pred: 100%|███████████████████████████████| 15/15 [00:00<00:00, 471.73it/s]"
     ]
    },
    {
     "name": "stdout",
     "output_type": "stream",
     "text": [
      "\t eval rmse: 0.9905\n",
      "\t eval mae: 0.7921\n",
      "\t eval r2: -0.0043\n",
      "==============================\n"
     ]
    },
    {
     "name": "stderr",
     "output_type": "stream",
     "text": [
      "\n"
     ]
    },
    {
     "name": "stdout",
     "output_type": "stream",
     "text": [
      "Training start time: \u001b[35m2022-07-23 16:01:13\u001b[0m\n",
      "Epoch 1 elapsed: 0.056s\n"
     ]
    },
    {
     "name": "stderr",
     "output_type": "stream",
     "text": [
      "eval_pred: 100%|███████████████████████████████| 15/15 [00:00<00:00, 961.03it/s]\n"
     ]
    },
    {
     "name": "stdout",
     "output_type": "stream",
     "text": [
      "\t eval rmse: 0.9971\n",
      "\t eval mae: 0.8022\n",
      "\t eval r2: -0.0176\n",
      "==============================\n",
      "Epoch 2 elapsed: 0.041s\n"
     ]
    },
    {
     "name": "stderr",
     "output_type": "stream",
     "text": [
      "eval_pred: 100%|███████████████████████████████| 15/15 [00:00<00:00, 825.75it/s]\n"
     ]
    },
    {
     "name": "stdout",
     "output_type": "stream",
     "text": [
      "\t eval rmse: 0.9999\n",
      "\t eval mae: 0.8032\n",
      "\t eval r2: -0.0234\n",
      "==============================\n",
      "Epoch 3 elapsed: 0.041s\n"
     ]
    },
    {
     "name": "stderr",
     "output_type": "stream",
     "text": [
      "eval_pred: 100%|███████████████████████████████| 15/15 [00:00<00:00, 654.16it/s]\n"
     ]
    },
    {
     "name": "stdout",
     "output_type": "stream",
     "text": [
      "\t eval rmse: 0.9979\n",
      "\t eval mae: 0.8000\n",
      "\t eval r2: -0.0193\n",
      "==============================\n",
      "Epoch 4 elapsed: 0.064s\n"
     ]
    },
    {
     "name": "stderr",
     "output_type": "stream",
     "text": [
      "eval_pred: 100%|███████████████████████████████| 15/15 [00:00<00:00, 720.11it/s]\n"
     ]
    },
    {
     "name": "stdout",
     "output_type": "stream",
     "text": [
      "\t eval rmse: 0.9944\n",
      "\t eval mae: 0.7961\n",
      "\t eval r2: -0.0122\n",
      "==============================\n",
      "Epoch 5 elapsed: 0.085s\n"
     ]
    },
    {
     "name": "stderr",
     "output_type": "stream",
     "text": [
      "eval_pred: 100%|███████████████████████████████| 15/15 [00:00<00:00, 707.32it/s]\n"
     ]
    },
    {
     "name": "stdout",
     "output_type": "stream",
     "text": [
      "\t eval rmse: 0.9905\n",
      "\t eval mae: 0.7921\n",
      "\t eval r2: -0.0043\n",
      "==============================\n",
      "Training start time: \u001b[35m2022-07-23 16:01:14\u001b[0m\n",
      "Epoch 1 elapsed: 0.070s\n"
     ]
    },
    {
     "name": "stderr",
     "output_type": "stream",
     "text": [
      "eval_pred: 100%|███████████████████████████████| 15/15 [00:00<00:00, 702.83it/s]"
     ]
    },
    {
     "name": "stdout",
     "output_type": "stream",
     "text": [
      "\t eval rmse: 0.9966\n",
      "\t eval mae: 0.8019\n",
      "\t eval r2: -0.0166\n",
      "==============================\n"
     ]
    },
    {
     "name": "stderr",
     "output_type": "stream",
     "text": [
      "\n"
     ]
    },
    {
     "name": "stdout",
     "output_type": "stream",
     "text": [
      "Epoch 2 elapsed: 0.081s\n"
     ]
    },
    {
     "name": "stderr",
     "output_type": "stream",
     "text": [
      "eval_pred: 100%|███████████████████████████████| 15/15 [00:00<00:00, 647.78it/s]\n"
     ]
    },
    {
     "name": "stdout",
     "output_type": "stream",
     "text": [
      "\t eval rmse: 0.9998\n",
      "\t eval mae: 0.8031\n",
      "\t eval r2: -0.0231\n",
      "==============================\n",
      "Epoch 3 elapsed: 0.066s\n"
     ]
    },
    {
     "name": "stderr",
     "output_type": "stream",
     "text": [
      "eval_pred: 100%|███████████████████████████████| 15/15 [00:00<00:00, 736.15it/s]"
     ]
    },
    {
     "name": "stdout",
     "output_type": "stream",
     "text": [
      "\t eval rmse: 0.9977\n"
     ]
    },
    {
     "name": "stderr",
     "output_type": "stream",
     "text": [
      "\n"
     ]
    },
    {
     "name": "stdout",
     "output_type": "stream",
     "text": [
      "\t eval mae: 0.7999\n",
      "\t eval r2: -0.0189\n",
      "==============================\n",
      "Epoch 4 elapsed: 0.072s\n"
     ]
    },
    {
     "name": "stderr",
     "output_type": "stream",
     "text": [
      "eval_pred: 100%|███████████████████████████████| 15/15 [00:00<00:00, 601.70it/s]"
     ]
    },
    {
     "name": "stdout",
     "output_type": "stream",
     "text": [
      "\t eval rmse: 0.9942\n"
     ]
    },
    {
     "name": "stderr",
     "output_type": "stream",
     "text": [
      "\n"
     ]
    },
    {
     "name": "stdout",
     "output_type": "stream",
     "text": [
      "\t eval mae: 0.7960\n",
      "\t eval r2: -0.0117\n",
      "==============================\n",
      "Epoch 5 elapsed: 0.056s\n"
     ]
    },
    {
     "name": "stderr",
     "output_type": "stream",
     "text": [
      "eval_pred: 100%|███████████████████████████████| 15/15 [00:00<00:00, 730.05it/s]"
     ]
    },
    {
     "name": "stdout",
     "output_type": "stream",
     "text": [
      "\t eval rmse: 0.9903\n"
     ]
    },
    {
     "name": "stderr",
     "output_type": "stream",
     "text": [
      "\n"
     ]
    },
    {
     "name": "stdout",
     "output_type": "stream",
     "text": [
      "\t eval mae: 0.7920\n",
      "\t eval r2: -0.0037\n",
      "==============================\n",
      "Training start time: \u001b[35m2022-07-23 16:01:15\u001b[0m\n",
      "Epoch 1 elapsed: 0.038s\n"
     ]
    },
    {
     "name": "stderr",
     "output_type": "stream",
     "text": [
      "eval_pred: 100%|███████████████████████████████| 15/15 [00:00<00:00, 566.32it/s]\n"
     ]
    },
    {
     "name": "stdout",
     "output_type": "stream",
     "text": [
      "\t eval rmse: 0.9966\n",
      "\t eval mae: 0.8019\n",
      "\t eval r2: -0.0166\n",
      "==============================\n",
      "Epoch 2 elapsed: 0.053s\n"
     ]
    },
    {
     "name": "stderr",
     "output_type": "stream",
     "text": [
      "eval_pred: 100%|███████████████████████████████| 15/15 [00:00<00:00, 523.93it/s]\n"
     ]
    },
    {
     "name": "stdout",
     "output_type": "stream",
     "text": [
      "\t eval rmse: 0.9998\n",
      "\t eval mae: 0.8031\n",
      "\t eval r2: -0.0231\n",
      "==============================\n",
      "Epoch 3 elapsed: 0.076s\n"
     ]
    },
    {
     "name": "stderr",
     "output_type": "stream",
     "text": [
      "eval_pred: 100%|███████████████████████████████| 15/15 [00:00<00:00, 655.74it/s]\n"
     ]
    },
    {
     "name": "stdout",
     "output_type": "stream",
     "text": [
      "\t eval rmse: 0.9977\n",
      "\t eval mae: 0.7999\n",
      "\t eval r2: -0.0189\n",
      "==============================\n",
      "Epoch 4 elapsed: 0.070s\n"
     ]
    },
    {
     "name": "stderr",
     "output_type": "stream",
     "text": [
      "eval_pred: 100%|███████████████████████████████| 15/15 [00:00<00:00, 849.07it/s]"
     ]
    },
    {
     "name": "stdout",
     "output_type": "stream",
     "text": [
      "\t eval rmse: 0.9942\n"
     ]
    },
    {
     "name": "stderr",
     "output_type": "stream",
     "text": [
      "\n"
     ]
    },
    {
     "name": "stdout",
     "output_type": "stream",
     "text": [
      "\t eval mae: 0.7960\n",
      "\t eval r2: -0.0117\n",
      "==============================\n",
      "Epoch 5 elapsed: 0.070s\n"
     ]
    },
    {
     "name": "stderr",
     "output_type": "stream",
     "text": [
      "eval_pred: 100%|███████████████████████████████| 15/15 [00:00<00:00, 636.80it/s]"
     ]
    },
    {
     "name": "stdout",
     "output_type": "stream",
     "text": [
      "\t eval rmse: 0.9903\n"
     ]
    },
    {
     "name": "stderr",
     "output_type": "stream",
     "text": [
      "\n"
     ]
    },
    {
     "name": "stdout",
     "output_type": "stream",
     "text": [
      "\t eval mae: 0.7920\n",
      "\t eval r2: -0.0037\n",
      "==============================\n",
      "Training start time: \u001b[35m2022-07-23 16:01:17\u001b[0m\n",
      "Epoch 1 elapsed: 0.095s\n"
     ]
    },
    {
     "name": "stderr",
     "output_type": "stream",
     "text": [
      "eval_pred: 100%|███████████████████████████████| 15/15 [00:00<00:00, 720.89it/s]"
     ]
    },
    {
     "name": "stdout",
     "output_type": "stream",
     "text": [
      "\t eval rmse: 0.9966\n",
      "\t eval mae: 0.8019\n",
      "\t eval r2: -0.0166\n",
      "==============================\n"
     ]
    },
    {
     "name": "stderr",
     "output_type": "stream",
     "text": [
      "\n"
     ]
    },
    {
     "name": "stdout",
     "output_type": "stream",
     "text": [
      "Epoch 2 elapsed: 0.049s\n"
     ]
    },
    {
     "name": "stderr",
     "output_type": "stream",
     "text": [
      "eval_pred: 100%|███████████████████████████████| 15/15 [00:00<00:00, 543.54it/s]\n"
     ]
    },
    {
     "name": "stdout",
     "output_type": "stream",
     "text": [
      "\t eval rmse: 0.9998\n",
      "\t eval mae: 0.8031\n",
      "\t eval r2: -0.0231\n",
      "==============================\n",
      "Epoch 3 elapsed: 0.089s\n"
     ]
    },
    {
     "name": "stderr",
     "output_type": "stream",
     "text": [
      "eval_pred: 100%|███████████████████████████████| 15/15 [00:00<00:00, 812.09it/s]\n"
     ]
    },
    {
     "name": "stdout",
     "output_type": "stream",
     "text": [
      "\t eval rmse: 0.9977\n",
      "\t eval mae: 0.7999\n",
      "\t eval r2: -0.0189\n",
      "==============================\n",
      "Epoch 4 elapsed: 0.068s\n"
     ]
    },
    {
     "name": "stderr",
     "output_type": "stream",
     "text": [
      "eval_pred: 100%|███████████████████████████████| 15/15 [00:00<00:00, 547.86it/s]"
     ]
    },
    {
     "name": "stdout",
     "output_type": "stream",
     "text": [
      "\t eval rmse: 0.9942\n"
     ]
    },
    {
     "name": "stderr",
     "output_type": "stream",
     "text": [
      "\n"
     ]
    },
    {
     "name": "stdout",
     "output_type": "stream",
     "text": [
      "\t eval mae: 0.7960\n",
      "\t eval r2: -0.0117\n",
      "==============================\n",
      "Epoch 5 elapsed: 0.091s\n"
     ]
    },
    {
     "name": "stderr",
     "output_type": "stream",
     "text": [
      "eval_pred: 100%|███████████████████████████████| 15/15 [00:00<00:00, 761.39it/s]\n"
     ]
    },
    {
     "name": "stdout",
     "output_type": "stream",
     "text": [
      "\t eval rmse: 0.9903\n",
      "\t eval mae: 0.7920\n",
      "\t eval r2: -0.0037\n",
      "==============================\n",
      "Training start time: \u001b[35m2022-07-23 16:01:18\u001b[0m\n",
      "Epoch 1 elapsed: 0.061s\n"
     ]
    },
    {
     "name": "stderr",
     "output_type": "stream",
     "text": [
      "eval_pred: 100%|███████████████████████████████| 15/15 [00:00<00:00, 871.68it/s]\n"
     ]
    },
    {
     "name": "stdout",
     "output_type": "stream",
     "text": [
      "\t eval rmse: 0.9966\n",
      "\t eval mae: 0.8019\n",
      "\t eval r2: -0.0166\n",
      "==============================\n",
      "Epoch 2 elapsed: 0.059s\n"
     ]
    },
    {
     "name": "stderr",
     "output_type": "stream",
     "text": [
      "eval_pred: 100%|███████████████████████████████| 15/15 [00:00<00:00, 776.95it/s]\n"
     ]
    },
    {
     "name": "stdout",
     "output_type": "stream",
     "text": [
      "\t eval rmse: 0.9998\n",
      "\t eval mae: 0.8031\n",
      "\t eval r2: -0.0231\n",
      "==============================\n",
      "Epoch 3 elapsed: 0.105s\n"
     ]
    },
    {
     "name": "stderr",
     "output_type": "stream",
     "text": [
      "eval_pred: 100%|███████████████████████████████| 15/15 [00:00<00:00, 692.21it/s]\n"
     ]
    },
    {
     "name": "stdout",
     "output_type": "stream",
     "text": [
      "\t eval rmse: 0.9977\n",
      "\t eval mae: 0.7999\n",
      "\t eval r2: -0.0189\n",
      "==============================\n",
      "Epoch 4 elapsed: 0.069s\n"
     ]
    },
    {
     "name": "stderr",
     "output_type": "stream",
     "text": [
      "eval_pred: 100%|███████████████████████████████| 15/15 [00:00<00:00, 648.04it/s]\n"
     ]
    },
    {
     "name": "stdout",
     "output_type": "stream",
     "text": [
      "\t eval rmse: 0.9942\n",
      "\t eval mae: 0.7960\n",
      "\t eval r2: -0.0117\n",
      "==============================\n",
      "Epoch 5 elapsed: 0.052s\n"
     ]
    },
    {
     "name": "stderr",
     "output_type": "stream",
     "text": [
      "eval_pred: 100%|███████████████████████████████| 15/15 [00:00<00:00, 900.07it/s]\n"
     ]
    },
    {
     "name": "stdout",
     "output_type": "stream",
     "text": [
      "\t eval rmse: 0.9903\n",
      "\t eval mae: 0.7920\n",
      "\t eval r2: -0.0037\n",
      "==============================\n",
      "Training start time: \u001b[35m2022-07-23 16:01:19\u001b[0m\n",
      "Epoch 1 elapsed: 0.050s\n"
     ]
    },
    {
     "name": "stderr",
     "output_type": "stream",
     "text": [
      "eval_pred: 100%|███████████████████████████████| 15/15 [00:00<00:00, 769.46it/s]\n"
     ]
    },
    {
     "name": "stdout",
     "output_type": "stream",
     "text": [
      "\t eval rmse: 0.9966\n",
      "\t eval mae: 0.8019\n",
      "\t eval r2: -0.0166\n",
      "==============================\n",
      "Epoch 2 elapsed: 0.037s\n"
     ]
    },
    {
     "name": "stderr",
     "output_type": "stream",
     "text": [
      "eval_pred: 100%|███████████████████████████████| 15/15 [00:00<00:00, 482.73it/s]\n"
     ]
    },
    {
     "name": "stdout",
     "output_type": "stream",
     "text": [
      "\t eval rmse: 0.9998\n",
      "\t eval mae: 0.8031\n",
      "\t eval r2: -0.0231\n",
      "==============================\n",
      "Epoch 3 elapsed: 0.046s\n"
     ]
    },
    {
     "name": "stderr",
     "output_type": "stream",
     "text": [
      "eval_pred: 100%|███████████████████████████████| 15/15 [00:00<00:00, 537.77it/s]\n"
     ]
    },
    {
     "name": "stdout",
     "output_type": "stream",
     "text": [
      "\t eval rmse: 0.9977\n",
      "\t eval mae: 0.7999\n",
      "\t eval r2: -0.0189\n",
      "==============================\n",
      "Epoch 4 elapsed: 0.053s\n"
     ]
    },
    {
     "name": "stderr",
     "output_type": "stream",
     "text": [
      "eval_pred: 100%|███████████████████████████████| 15/15 [00:00<00:00, 701.40it/s]\n"
     ]
    },
    {
     "name": "stdout",
     "output_type": "stream",
     "text": [
      "\t eval rmse: 0.9942\n",
      "\t eval mae: 0.7960\n",
      "\t eval r2: -0.0117\n",
      "==============================\n",
      "Epoch 5 elapsed: 0.097s\n"
     ]
    },
    {
     "name": "stderr",
     "output_type": "stream",
     "text": [
      "eval_pred: 100%|███████████████████████████████| 15/15 [00:00<00:00, 594.34it/s]\n"
     ]
    },
    {
     "name": "stdout",
     "output_type": "stream",
     "text": [
      "\t eval rmse: 0.9903\n",
      "\t eval mae: 0.7920\n",
      "\t eval r2: -0.0037\n",
      "==============================\n",
      "Training start time: \u001b[35m2022-07-23 16:01:20\u001b[0m\n",
      "Epoch 1 elapsed: 0.075s\n"
     ]
    },
    {
     "name": "stderr",
     "output_type": "stream",
     "text": [
      "eval_pred: 100%|███████████████████████████████| 15/15 [00:00<00:00, 792.64it/s]"
     ]
    },
    {
     "name": "stdout",
     "output_type": "stream",
     "text": [
      "\t eval rmse: 0.9904\n",
      "\t eval mae: 0.7982\n",
      "\t eval r2: -0.0041\n",
      "==============================\n"
     ]
    },
    {
     "name": "stderr",
     "output_type": "stream",
     "text": [
      "\n"
     ]
    },
    {
     "name": "stdout",
     "output_type": "stream",
     "text": [
      "Epoch 2 elapsed: 0.081s\n"
     ]
    },
    {
     "name": "stderr",
     "output_type": "stream",
     "text": [
      "eval_pred: 100%|███████████████████████████████| 15/15 [00:00<00:00, 769.84it/s]\n"
     ]
    },
    {
     "name": "stdout",
     "output_type": "stream",
     "text": [
      "\t eval rmse: 0.9957\n",
      "\t eval mae: 0.8003\n",
      "\t eval r2: -0.0148\n",
      "==============================\n",
      "Epoch 3 elapsed: 0.055s\n"
     ]
    },
    {
     "name": "stderr",
     "output_type": "stream",
     "text": [
      "eval_pred: 100%|███████████████████████████████| 15/15 [00:00<00:00, 548.92it/s]"
     ]
    },
    {
     "name": "stdout",
     "output_type": "stream",
     "text": [
      "\t eval rmse: 0.9939\n"
     ]
    },
    {
     "name": "stderr",
     "output_type": "stream",
     "text": [
      "\n"
     ]
    },
    {
     "name": "stdout",
     "output_type": "stream",
     "text": [
      "\t eval mae: 0.7974\n",
      "\t eval r2: -0.0111\n",
      "==============================\n",
      "Epoch 4 elapsed: 0.069s\n"
     ]
    },
    {
     "name": "stderr",
     "output_type": "stream",
     "text": [
      "eval_pred: 100%|███████████████████████████████| 15/15 [00:00<00:00, 455.66it/s]\n"
     ]
    },
    {
     "name": "stdout",
     "output_type": "stream",
     "text": [
      "\t eval rmse: 0.9907\n",
      "\t eval mae: 0.7938\n",
      "\t eval r2: -0.0045\n",
      "==============================\n",
      "Epoch 5 elapsed: 0.056s\n"
     ]
    },
    {
     "name": "stderr",
     "output_type": "stream",
     "text": [
      "eval_pred: 100%|███████████████████████████████| 15/15 [00:00<00:00, 640.99it/s]"
     ]
    },
    {
     "name": "stdout",
     "output_type": "stream",
     "text": [
      "\t eval rmse: 0.9870\n"
     ]
    },
    {
     "name": "stderr",
     "output_type": "stream",
     "text": [
      "\n"
     ]
    },
    {
     "name": "stdout",
     "output_type": "stream",
     "text": [
      "\t eval mae: 0.7900\n",
      "\t eval r2: 0.0028\n",
      "==============================\n",
      "Training start time: \u001b[35m2022-07-23 16:01:21\u001b[0m\n",
      "Epoch 1 elapsed: 0.046s\n"
     ]
    },
    {
     "name": "stderr",
     "output_type": "stream",
     "text": [
      "eval_pred: 100%|███████████████████████████████| 15/15 [00:00<00:00, 801.43it/s]\n"
     ]
    },
    {
     "name": "stdout",
     "output_type": "stream",
     "text": [
      "\t eval rmse: 0.9904\n",
      "\t eval mae: 0.7982\n",
      "\t eval r2: -0.0041\n",
      "==============================\n",
      "Epoch 2 elapsed: 0.058s\n"
     ]
    },
    {
     "name": "stderr",
     "output_type": "stream",
     "text": [
      "eval_pred: 100%|███████████████████████████████| 15/15 [00:00<00:00, 766.78it/s]\n"
     ]
    },
    {
     "name": "stdout",
     "output_type": "stream",
     "text": [
      "\t eval rmse: 0.9957\n",
      "\t eval mae: 0.8003\n",
      "\t eval r2: -0.0148\n",
      "==============================\n",
      "Epoch 3 elapsed: 0.075s\n"
     ]
    },
    {
     "name": "stderr",
     "output_type": "stream",
     "text": [
      "eval_pred: 100%|███████████████████████████████| 15/15 [00:00<00:00, 834.44it/s]\n"
     ]
    },
    {
     "name": "stdout",
     "output_type": "stream",
     "text": [
      "\t eval rmse: 0.9939\n",
      "\t eval mae: 0.7974\n",
      "\t eval r2: -0.0111\n",
      "==============================\n",
      "Epoch 4 elapsed: 0.073s\n"
     ]
    },
    {
     "name": "stderr",
     "output_type": "stream",
     "text": [
      "eval_pred: 100%|███████████████████████████████| 15/15 [00:00<00:00, 595.98it/s]"
     ]
    },
    {
     "name": "stdout",
     "output_type": "stream",
     "text": [
      "\t eval rmse: 0.9907\n"
     ]
    },
    {
     "name": "stderr",
     "output_type": "stream",
     "text": [
      "\n"
     ]
    },
    {
     "name": "stdout",
     "output_type": "stream",
     "text": [
      "\t eval mae: 0.7938\n",
      "\t eval r2: -0.0045\n",
      "==============================\n",
      "Epoch 5 elapsed: 0.050s\n"
     ]
    },
    {
     "name": "stderr",
     "output_type": "stream",
     "text": [
      "eval_pred: 100%|███████████████████████████████| 15/15 [00:00<00:00, 502.59it/s]"
     ]
    },
    {
     "name": "stdout",
     "output_type": "stream",
     "text": [
      "\t eval rmse: 0.9870\n",
      "\t eval mae: 0.7900\n"
     ]
    },
    {
     "name": "stderr",
     "output_type": "stream",
     "text": [
      "\n"
     ]
    },
    {
     "name": "stdout",
     "output_type": "stream",
     "text": [
      "\t eval r2: 0.0028\n",
      "==============================\n",
      "Training start time: \u001b[35m2022-07-23 16:01:22\u001b[0m\n",
      "Epoch 1 elapsed: 0.044s\n"
     ]
    },
    {
     "name": "stderr",
     "output_type": "stream",
     "text": [
      "eval_pred: 100%|███████████████████████████████| 15/15 [00:00<00:00, 803.33it/s]\n"
     ]
    },
    {
     "name": "stdout",
     "output_type": "stream",
     "text": [
      "\t eval rmse: 0.9904\n",
      "\t eval mae: 0.7982\n",
      "\t eval r2: -0.0041\n",
      "==============================\n",
      "Epoch 2 elapsed: 0.039s\n"
     ]
    },
    {
     "name": "stderr",
     "output_type": "stream",
     "text": [
      "eval_pred: 100%|███████████████████████████████| 15/15 [00:00<00:00, 499.51it/s]\n"
     ]
    },
    {
     "name": "stdout",
     "output_type": "stream",
     "text": [
      "\t eval rmse: 0.9957\n",
      "\t eval mae: 0.8003\n",
      "\t eval r2: -0.0148\n",
      "==============================\n",
      "Epoch 3 elapsed: 0.060s\n"
     ]
    },
    {
     "name": "stderr",
     "output_type": "stream",
     "text": [
      "eval_pred: 100%|███████████████████████████████| 15/15 [00:00<00:00, 629.66it/s]\n"
     ]
    },
    {
     "name": "stdout",
     "output_type": "stream",
     "text": [
      "\t eval rmse: 0.9939\n",
      "\t eval mae: 0.7974\n",
      "\t eval r2: -0.0111\n",
      "==============================\n",
      "Epoch 4 elapsed: 0.080s\n"
     ]
    },
    {
     "name": "stderr",
     "output_type": "stream",
     "text": [
      "eval_pred: 100%|███████████████████████████████| 15/15 [00:00<00:00, 807.62it/s]"
     ]
    },
    {
     "name": "stdout",
     "output_type": "stream",
     "text": [
      "\t eval rmse: 0.9907\n"
     ]
    },
    {
     "name": "stderr",
     "output_type": "stream",
     "text": [
      "\n"
     ]
    },
    {
     "name": "stdout",
     "output_type": "stream",
     "text": [
      "\t eval mae: 0.7938\n",
      "\t eval r2: -0.0045\n",
      "==============================\n",
      "Epoch 5 elapsed: 0.087s\n"
     ]
    },
    {
     "name": "stderr",
     "output_type": "stream",
     "text": [
      "eval_pred: 100%|███████████████████████████████| 15/15 [00:00<00:00, 606.06it/s]\n"
     ]
    },
    {
     "name": "stdout",
     "output_type": "stream",
     "text": [
      "\t eval rmse: 0.9870\n",
      "\t eval mae: 0.7900\n",
      "\t eval r2: 0.0028\n",
      "==============================\n",
      "Training start time: \u001b[35m2022-07-23 16:01:23\u001b[0m\n",
      "Epoch 1 elapsed: 0.051s\n"
     ]
    },
    {
     "name": "stderr",
     "output_type": "stream",
     "text": [
      "eval_pred: 100%|███████████████████████████████| 15/15 [00:00<00:00, 651.10it/s]\n"
     ]
    },
    {
     "name": "stdout",
     "output_type": "stream",
     "text": [
      "\t eval rmse: 0.9904\n",
      "\t eval mae: 0.7982\n",
      "\t eval r2: -0.0041\n",
      "==============================\n",
      "Epoch 2 elapsed: 0.062s\n"
     ]
    },
    {
     "name": "stderr",
     "output_type": "stream",
     "text": [
      "eval_pred: 100%|███████████████████████████████| 15/15 [00:00<00:00, 540.35it/s]\n"
     ]
    },
    {
     "name": "stdout",
     "output_type": "stream",
     "text": [
      "\t eval rmse: 0.9957\n",
      "\t eval mae: 0.8003\n",
      "\t eval r2: -0.0148\n",
      "==============================\n",
      "Epoch 3 elapsed: 0.087s\n"
     ]
    },
    {
     "name": "stderr",
     "output_type": "stream",
     "text": [
      "eval_pred: 100%|███████████████████████████████| 15/15 [00:00<00:00, 487.86it/s]\n"
     ]
    },
    {
     "name": "stdout",
     "output_type": "stream",
     "text": [
      "\t eval rmse: 0.9939\n",
      "\t eval mae: 0.7974\n",
      "\t eval r2: -0.0111\n",
      "==============================\n",
      "Epoch 4 elapsed: 0.089s\n"
     ]
    },
    {
     "name": "stderr",
     "output_type": "stream",
     "text": [
      "eval_pred: 100%|███████████████████████████████| 15/15 [00:00<00:00, 627.33it/s]\n"
     ]
    },
    {
     "name": "stdout",
     "output_type": "stream",
     "text": [
      "\t eval rmse: 0.9907\n",
      "\t eval mae: 0.7938\n",
      "\t eval r2: -0.0045\n",
      "==============================\n",
      "Epoch 5 elapsed: 0.048s\n"
     ]
    },
    {
     "name": "stderr",
     "output_type": "stream",
     "text": [
      "eval_pred: 100%|███████████████████████████████| 15/15 [00:00<00:00, 755.88it/s]\n"
     ]
    },
    {
     "name": "stdout",
     "output_type": "stream",
     "text": [
      "\t eval rmse: 0.9870\n",
      "\t eval mae: 0.7900\n",
      "\t eval r2: 0.0028\n",
      "==============================\n",
      "Training start time: \u001b[35m2022-07-23 16:01:25\u001b[0m\n",
      "Epoch 1 elapsed: 0.065s\n"
     ]
    },
    {
     "name": "stderr",
     "output_type": "stream",
     "text": [
      "eval_pred: 100%|███████████████████████████████| 15/15 [00:00<00:00, 887.22it/s]"
     ]
    },
    {
     "name": "stdout",
     "output_type": "stream",
     "text": [
      "\t eval rmse: 0.9904\n",
      "\t eval mae: 0.7982\n",
      "\t eval r2: -0.0041\n",
      "==============================\n"
     ]
    },
    {
     "name": "stderr",
     "output_type": "stream",
     "text": [
      "\n"
     ]
    },
    {
     "name": "stdout",
     "output_type": "stream",
     "text": [
      "Epoch 2 elapsed: 0.061s\n"
     ]
    },
    {
     "name": "stderr",
     "output_type": "stream",
     "text": [
      "eval_pred: 100%|███████████████████████████████| 15/15 [00:00<00:00, 653.64it/s]\n"
     ]
    },
    {
     "name": "stdout",
     "output_type": "stream",
     "text": [
      "\t eval rmse: 0.9957\n",
      "\t eval mae: 0.8003\n",
      "\t eval r2: -0.0148\n",
      "==============================\n",
      "Epoch 3 elapsed: 0.056s\n"
     ]
    },
    {
     "name": "stderr",
     "output_type": "stream",
     "text": [
      "eval_pred: 100%|███████████████████████████████| 15/15 [00:00<00:00, 686.30it/s]"
     ]
    },
    {
     "name": "stdout",
     "output_type": "stream",
     "text": [
      "\t eval rmse: 0.9939\n",
      "\t eval mae: 0.7974\n"
     ]
    },
    {
     "name": "stderr",
     "output_type": "stream",
     "text": [
      "\n"
     ]
    },
    {
     "name": "stdout",
     "output_type": "stream",
     "text": [
      "\t eval r2: -0.0111\n",
      "==============================\n",
      "Epoch 4 elapsed: 0.094s\n"
     ]
    },
    {
     "name": "stderr",
     "output_type": "stream",
     "text": [
      "eval_pred: 100%|███████████████████████████████| 15/15 [00:00<00:00, 830.59it/s]\n"
     ]
    },
    {
     "name": "stdout",
     "output_type": "stream",
     "text": [
      "\t eval rmse: 0.9907\n",
      "\t eval mae: 0.7938\n",
      "\t eval r2: -0.0045\n",
      "==============================\n",
      "Epoch 5 elapsed: 0.082s\n"
     ]
    },
    {
     "name": "stderr",
     "output_type": "stream",
     "text": [
      "eval_pred: 100%|███████████████████████████████| 15/15 [00:00<00:00, 806.45it/s]"
     ]
    },
    {
     "name": "stdout",
     "output_type": "stream",
     "text": [
      "\t eval rmse: 0.9870\n"
     ]
    },
    {
     "name": "stderr",
     "output_type": "stream",
     "text": [
      "\n"
     ]
    },
    {
     "name": "stdout",
     "output_type": "stream",
     "text": [
      "\t eval mae: 0.7900\n",
      "\t eval r2: 0.0028\n",
      "==============================\n",
      "Training start time: \u001b[35m2022-07-23 16:01:26\u001b[0m\n",
      "Epoch 1 elapsed: 0.070s\n"
     ]
    },
    {
     "name": "stderr",
     "output_type": "stream",
     "text": [
      "eval_pred: 100%|███████████████████████████████| 15/15 [00:00<00:00, 811.53it/s]"
     ]
    },
    {
     "name": "stdout",
     "output_type": "stream",
     "text": [
      "\t eval rmse: 0.9885\n",
      "\t eval mae: 0.7972\n",
      "\t eval r2: -0.0002\n",
      "==============================\n"
     ]
    },
    {
     "name": "stderr",
     "output_type": "stream",
     "text": [
      "\n"
     ]
    },
    {
     "name": "stdout",
     "output_type": "stream",
     "text": [
      "Epoch 2 elapsed: 0.064s\n"
     ]
    },
    {
     "name": "stderr",
     "output_type": "stream",
     "text": [
      "eval_pred: 100%|███████████████████████████████| 15/15 [00:00<00:00, 767.52it/s]\n"
     ]
    },
    {
     "name": "stdout",
     "output_type": "stream",
     "text": [
      "\t eval rmse: 0.9944\n",
      "\t eval mae: 0.7991\n",
      "\t eval r2: -0.0121\n",
      "==============================\n",
      "Epoch 3 elapsed: 0.058s\n"
     ]
    },
    {
     "name": "stderr",
     "output_type": "stream",
     "text": [
      "eval_pred: 100%|███████████████████████████████| 15/15 [00:00<00:00, 728.35it/s]"
     ]
    },
    {
     "name": "stdout",
     "output_type": "stream",
     "text": [
      "\t eval rmse: 0.9919\n"
     ]
    },
    {
     "name": "stderr",
     "output_type": "stream",
     "text": [
      "\n"
     ]
    },
    {
     "name": "stdout",
     "output_type": "stream",
     "text": [
      "\t eval mae: 0.7960\n",
      "\t eval r2: -0.0072\n",
      "==============================\n",
      "Epoch 4 elapsed: 0.058s\n"
     ]
    },
    {
     "name": "stderr",
     "output_type": "stream",
     "text": [
      "eval_pred: 100%|███████████████████████████████| 15/15 [00:00<00:00, 479.12it/s]"
     ]
    },
    {
     "name": "stdout",
     "output_type": "stream",
     "text": [
      "\t eval rmse: 0.9888\n"
     ]
    },
    {
     "name": "stderr",
     "output_type": "stream",
     "text": [
      "\n"
     ]
    },
    {
     "name": "stdout",
     "output_type": "stream",
     "text": [
      "\t eval mae: 0.7927\n",
      "\t eval r2: -0.0008\n",
      "==============================\n",
      "Epoch 5 elapsed: 0.044s\n"
     ]
    },
    {
     "name": "stderr",
     "output_type": "stream",
     "text": [
      "eval_pred: 100%|███████████████████████████████| 15/15 [00:00<00:00, 722.66it/s]"
     ]
    },
    {
     "name": "stdout",
     "output_type": "stream",
     "text": [
      "\t eval rmse: 0.9855\n",
      "\t eval mae: 0.7892\n"
     ]
    },
    {
     "name": "stderr",
     "output_type": "stream",
     "text": [
      "\n"
     ]
    },
    {
     "name": "stdout",
     "output_type": "stream",
     "text": [
      "\t eval r2: 0.0059\n",
      "==============================\n",
      "Training start time: \u001b[35m2022-07-23 16:01:27\u001b[0m\n",
      "Epoch 1 elapsed: 0.049s\n"
     ]
    },
    {
     "name": "stderr",
     "output_type": "stream",
     "text": [
      "eval_pred: 100%|███████████████████████████████| 15/15 [00:00<00:00, 509.01it/s]\n"
     ]
    },
    {
     "name": "stdout",
     "output_type": "stream",
     "text": [
      "\t eval rmse: 0.9885\n",
      "\t eval mae: 0.7972\n",
      "\t eval r2: -0.0002\n",
      "==============================\n",
      "Epoch 2 elapsed: 0.057s\n"
     ]
    },
    {
     "name": "stderr",
     "output_type": "stream",
     "text": [
      "eval_pred: 100%|███████████████████████████████| 15/15 [00:00<00:00, 422.59it/s]\n"
     ]
    },
    {
     "name": "stdout",
     "output_type": "stream",
     "text": [
      "\t eval rmse: 0.9944\n",
      "\t eval mae: 0.7991\n",
      "\t eval r2: -0.0121\n",
      "==============================\n",
      "Epoch 3 elapsed: 0.068s\n"
     ]
    },
    {
     "name": "stderr",
     "output_type": "stream",
     "text": [
      "eval_pred: 100%|███████████████████████████████| 15/15 [00:00<00:00, 525.68it/s]\n"
     ]
    },
    {
     "name": "stdout",
     "output_type": "stream",
     "text": [
      "\t eval rmse: 0.9919\n",
      "\t eval mae: 0.7960\n",
      "\t eval r2: -0.0072\n",
      "==============================\n",
      "Epoch 4 elapsed: 0.061s\n"
     ]
    },
    {
     "name": "stderr",
     "output_type": "stream",
     "text": [
      "eval_pred: 100%|███████████████████████████████| 15/15 [00:00<00:00, 748.86it/s]"
     ]
    },
    {
     "name": "stdout",
     "output_type": "stream",
     "text": [
      "\t eval rmse: 0.9888\n"
     ]
    },
    {
     "name": "stderr",
     "output_type": "stream",
     "text": [
      "\n"
     ]
    },
    {
     "name": "stdout",
     "output_type": "stream",
     "text": [
      "\t eval mae: 0.7927\n",
      "\t eval r2: -0.0008\n",
      "==============================\n",
      "Epoch 5 elapsed: 0.067s\n"
     ]
    },
    {
     "name": "stderr",
     "output_type": "stream",
     "text": [
      "eval_pred: 100%|███████████████████████████████| 15/15 [00:00<00:00, 736.45it/s]"
     ]
    },
    {
     "name": "stdout",
     "output_type": "stream",
     "text": [
      "\t eval rmse: 0.9855\n"
     ]
    },
    {
     "name": "stderr",
     "output_type": "stream",
     "text": [
      "\n"
     ]
    },
    {
     "name": "stdout",
     "output_type": "stream",
     "text": [
      "\t eval mae: 0.7892\n",
      "\t eval r2: 0.0059\n",
      "==============================\n",
      "Training start time: \u001b[35m2022-07-23 16:01:28\u001b[0m\n",
      "Epoch 1 elapsed: 0.051s\n"
     ]
    },
    {
     "name": "stderr",
     "output_type": "stream",
     "text": [
      "eval_pred: 100%|███████████████████████████████| 15/15 [00:00<00:00, 864.72it/s]\n"
     ]
    },
    {
     "name": "stdout",
     "output_type": "stream",
     "text": [
      "\t eval rmse: 0.9885\n",
      "\t eval mae: 0.7972\n",
      "\t eval r2: -0.0002\n",
      "==============================\n",
      "Epoch 2 elapsed: 0.041s\n"
     ]
    },
    {
     "name": "stderr",
     "output_type": "stream",
     "text": [
      "eval_pred: 100%|███████████████████████████████| 15/15 [00:00<00:00, 760.55it/s]\n"
     ]
    },
    {
     "name": "stdout",
     "output_type": "stream",
     "text": [
      "\t eval rmse: 0.9944\n",
      "\t eval mae: 0.7991\n",
      "\t eval r2: -0.0121\n",
      "==============================\n",
      "Epoch 3 elapsed: 0.064s\n"
     ]
    },
    {
     "name": "stderr",
     "output_type": "stream",
     "text": [
      "eval_pred: 100%|███████████████████████████████| 15/15 [00:00<00:00, 652.40it/s]\n"
     ]
    },
    {
     "name": "stdout",
     "output_type": "stream",
     "text": [
      "\t eval rmse: 0.9919\n",
      "\t eval mae: 0.7960\n",
      "\t eval r2: -0.0072\n",
      "==============================\n",
      "Epoch 4 elapsed: 0.056s\n"
     ]
    },
    {
     "name": "stderr",
     "output_type": "stream",
     "text": [
      "eval_pred: 100%|███████████████████████████████| 15/15 [00:00<00:00, 580.92it/s]"
     ]
    },
    {
     "name": "stdout",
     "output_type": "stream",
     "text": [
      "\t eval rmse: 0.9888\n"
     ]
    },
    {
     "name": "stderr",
     "output_type": "stream",
     "text": [
      "\n"
     ]
    },
    {
     "name": "stdout",
     "output_type": "stream",
     "text": [
      "\t eval mae: 0.7927\n",
      "\t eval r2: -0.0008\n",
      "==============================\n",
      "Epoch 5 elapsed: 0.083s\n"
     ]
    },
    {
     "name": "stderr",
     "output_type": "stream",
     "text": [
      "eval_pred: 100%|███████████████████████████████| 15/15 [00:00<00:00, 833.49it/s]\n"
     ]
    },
    {
     "name": "stdout",
     "output_type": "stream",
     "text": [
      "\t eval rmse: 0.9855\n",
      "\t eval mae: 0.7892\n",
      "\t eval r2: 0.0059\n",
      "==============================\n",
      "Training start time: \u001b[35m2022-07-23 16:01:29\u001b[0m\n",
      "Epoch 1 elapsed: 0.077s\n"
     ]
    },
    {
     "name": "stderr",
     "output_type": "stream",
     "text": [
      "eval_pred: 100%|███████████████████████████████| 15/15 [00:00<00:00, 763.49it/s]"
     ]
    },
    {
     "name": "stdout",
     "output_type": "stream",
     "text": [
      "\t eval rmse: 0.9885\n",
      "\t eval mae: 0.7972\n",
      "\t eval r2: -0.0002\n",
      "==============================\n"
     ]
    },
    {
     "name": "stderr",
     "output_type": "stream",
     "text": [
      "\n"
     ]
    },
    {
     "name": "stdout",
     "output_type": "stream",
     "text": [
      "Epoch 2 elapsed: 0.068s\n"
     ]
    },
    {
     "name": "stderr",
     "output_type": "stream",
     "text": [
      "eval_pred: 100%|███████████████████████████████| 15/15 [00:00<00:00, 654.02it/s]\n"
     ]
    },
    {
     "name": "stdout",
     "output_type": "stream",
     "text": [
      "\t eval rmse: 0.9944\n",
      "\t eval mae: 0.7991\n",
      "\t eval r2: -0.0121\n",
      "==============================\n",
      "Epoch 3 elapsed: 0.077s\n"
     ]
    },
    {
     "name": "stderr",
     "output_type": "stream",
     "text": [
      "eval_pred: 100%|███████████████████████████████| 15/15 [00:00<00:00, 641.11it/s]\n"
     ]
    },
    {
     "name": "stdout",
     "output_type": "stream",
     "text": [
      "\t eval rmse: 0.9919\n",
      "\t eval mae: 0.7960\n",
      "\t eval r2: -0.0072\n",
      "==============================\n",
      "Epoch 4 elapsed: 0.050s\n"
     ]
    },
    {
     "name": "stderr",
     "output_type": "stream",
     "text": [
      "eval_pred: 100%|███████████████████████████████| 15/15 [00:00<00:00, 678.28it/s]"
     ]
    },
    {
     "name": "stdout",
     "output_type": "stream",
     "text": [
      "\t eval rmse: 0.9888\n",
      "\t eval mae: 0.7927\n",
      "\t eval r2: -0.0008\n",
      "==============================\n"
     ]
    },
    {
     "name": "stderr",
     "output_type": "stream",
     "text": [
      "\n"
     ]
    },
    {
     "name": "stdout",
     "output_type": "stream",
     "text": [
      "Epoch 5 elapsed: 0.065s\n"
     ]
    },
    {
     "name": "stderr",
     "output_type": "stream",
     "text": [
      "eval_pred: 100%|███████████████████████████████| 15/15 [00:00<00:00, 799.89it/s]"
     ]
    },
    {
     "name": "stdout",
     "output_type": "stream",
     "text": [
      "\t eval rmse: 0.9855\n",
      "\t eval mae: 0.7892\n"
     ]
    },
    {
     "name": "stderr",
     "output_type": "stream",
     "text": [
      "\n"
     ]
    },
    {
     "name": "stdout",
     "output_type": "stream",
     "text": [
      "\t eval r2: 0.0059\n",
      "==============================\n",
      "Training start time: \u001b[35m2022-07-23 16:01:30\u001b[0m\n",
      "Epoch 1 elapsed: 0.035s\n"
     ]
    },
    {
     "name": "stderr",
     "output_type": "stream",
     "text": [
      "eval_pred: 100%|███████████████████████████████| 15/15 [00:00<00:00, 686.11it/s]"
     ]
    },
    {
     "name": "stdout",
     "output_type": "stream",
     "text": [
      "\t eval rmse: 0.9885\n",
      "\t eval mae: 0.7972\n",
      "\t eval r2: -0.0002\n",
      "==============================\n"
     ]
    },
    {
     "name": "stderr",
     "output_type": "stream",
     "text": [
      "\n"
     ]
    },
    {
     "name": "stdout",
     "output_type": "stream",
     "text": [
      "Epoch 2 elapsed: 0.081s\n"
     ]
    },
    {
     "name": "stderr",
     "output_type": "stream",
     "text": [
      "eval_pred: 100%|███████████████████████████████| 15/15 [00:00<00:00, 719.96it/s]\n"
     ]
    },
    {
     "name": "stdout",
     "output_type": "stream",
     "text": [
      "\t eval rmse: 0.9944\n",
      "\t eval mae: 0.7991\n",
      "\t eval r2: -0.0121\n",
      "==============================\n",
      "Epoch 3 elapsed: 0.056s\n"
     ]
    },
    {
     "name": "stderr",
     "output_type": "stream",
     "text": [
      "eval_pred: 100%|███████████████████████████████| 15/15 [00:00<00:00, 878.73it/s]"
     ]
    },
    {
     "name": "stdout",
     "output_type": "stream",
     "text": [
      "\t eval rmse: 0.9919\n",
      "\t eval mae: 0.7960\n"
     ]
    },
    {
     "name": "stderr",
     "output_type": "stream",
     "text": [
      "\n"
     ]
    },
    {
     "name": "stdout",
     "output_type": "stream",
     "text": [
      "\t eval r2: -0.0072\n",
      "==============================\n",
      "Epoch 4 elapsed: 0.085s\n"
     ]
    },
    {
     "name": "stderr",
     "output_type": "stream",
     "text": [
      "eval_pred: 100%|███████████████████████████████| 15/15 [00:00<00:00, 794.63it/s]\n"
     ]
    },
    {
     "name": "stdout",
     "output_type": "stream",
     "text": [
      "\t eval rmse: 0.9888\n",
      "\t eval mae: 0.7927\n",
      "\t eval r2: -0.0008\n",
      "==============================\n",
      "Epoch 5 elapsed: 0.058s\n"
     ]
    },
    {
     "name": "stderr",
     "output_type": "stream",
     "text": [
      "eval_pred: 100%|███████████████████████████████| 15/15 [00:00<00:00, 743.71it/s]"
     ]
    },
    {
     "name": "stdout",
     "output_type": "stream",
     "text": [
      "\t eval rmse: 0.9855\n"
     ]
    },
    {
     "name": "stderr",
     "output_type": "stream",
     "text": [
      "\n"
     ]
    },
    {
     "name": "stdout",
     "output_type": "stream",
     "text": [
      "\t eval mae: 0.7892\n",
      "\t eval r2: 0.0059\n",
      "==============================\n",
      "Training start time: \u001b[35m2022-07-23 16:01:31\u001b[0m\n",
      "Epoch 1 elapsed: 0.094s\n"
     ]
    },
    {
     "name": "stderr",
     "output_type": "stream",
     "text": [
      "eval_pred: 100%|███████████████████████████████| 15/15 [00:00<00:00, 496.77it/s]"
     ]
    },
    {
     "name": "stdout",
     "output_type": "stream",
     "text": [
      "\t eval rmse: 1.0071\n",
      "\t eval mae: 0.8093\n",
      "\t eval r2: -0.0381\n",
      "==============================\n"
     ]
    },
    {
     "name": "stderr",
     "output_type": "stream",
     "text": [
      "\n"
     ]
    },
    {
     "name": "stdout",
     "output_type": "stream",
     "text": [
      "Epoch 2 elapsed: 0.057s\n"
     ]
    },
    {
     "name": "stderr",
     "output_type": "stream",
     "text": [
      "eval_pred: 100%|███████████████████████████████| 15/15 [00:00<00:00, 568.31it/s]\n"
     ]
    },
    {
     "name": "stdout",
     "output_type": "stream",
     "text": [
      "\t eval rmse: 1.0106\n",
      "\t eval mae: 0.8098\n",
      "\t eval r2: -0.0454\n",
      "==============================\n",
      "Epoch 3 elapsed: 0.079s\n"
     ]
    },
    {
     "name": "stderr",
     "output_type": "stream",
     "text": [
      "eval_pred: 100%|███████████████████████████████| 15/15 [00:00<00:00, 785.21it/s]\n"
     ]
    },
    {
     "name": "stdout",
     "output_type": "stream",
     "text": [
      "\t eval rmse: 1.0071\n",
      "\t eval mae: 0.8042\n",
      "\t eval r2: -0.0383\n",
      "==============================\n",
      "Epoch 4 elapsed: 0.102s\n"
     ]
    },
    {
     "name": "stderr",
     "output_type": "stream",
     "text": [
      "eval_pred: 100%|███████████████████████████████| 15/15 [00:00<00:00, 562.68it/s]\n"
     ]
    },
    {
     "name": "stdout",
     "output_type": "stream",
     "text": [
      "\t eval rmse: 1.0015\n",
      "\t eval mae: 0.7975\n",
      "\t eval r2: -0.0267\n",
      "==============================\n",
      "Epoch 5 elapsed: 0.078s\n"
     ]
    },
    {
     "name": "stderr",
     "output_type": "stream",
     "text": [
      "eval_pred: 100%|███████████████████████████████| 15/15 [00:00<00:00, 576.73it/s]\n"
     ]
    },
    {
     "name": "stdout",
     "output_type": "stream",
     "text": [
      "\t eval rmse: 0.9976\n",
      "\t eval mae: 0.7928\n",
      "\t eval r2: -0.0187\n",
      "==============================\n",
      "Training start time: \u001b[35m2022-07-23 16:01:33\u001b[0m\n",
      "Epoch 1 elapsed: 0.085s\n"
     ]
    },
    {
     "name": "stderr",
     "output_type": "stream",
     "text": [
      "eval_pred: 100%|███████████████████████████████| 15/15 [00:00<00:00, 840.90it/s]"
     ]
    },
    {
     "name": "stdout",
     "output_type": "stream",
     "text": [
      "\t eval rmse: 1.0071\n",
      "\t eval mae: 0.8093\n",
      "\t eval r2: -0.0381\n",
      "==============================\n"
     ]
    },
    {
     "name": "stderr",
     "output_type": "stream",
     "text": [
      "\n"
     ]
    },
    {
     "name": "stdout",
     "output_type": "stream",
     "text": [
      "Epoch 2 elapsed: 0.064s\n"
     ]
    },
    {
     "name": "stderr",
     "output_type": "stream",
     "text": [
      "eval_pred: 100%|███████████████████████████████| 15/15 [00:00<00:00, 653.57it/s]\n"
     ]
    },
    {
     "name": "stdout",
     "output_type": "stream",
     "text": [
      "\t eval rmse: 1.0106\n",
      "\t eval mae: 0.8098\n",
      "\t eval r2: -0.0454\n",
      "==============================\n",
      "Epoch 3 elapsed: 0.095s\n"
     ]
    },
    {
     "name": "stderr",
     "output_type": "stream",
     "text": [
      "eval_pred: 100%|███████████████████████████████| 15/15 [00:00<00:00, 494.08it/s]\n"
     ]
    },
    {
     "name": "stdout",
     "output_type": "stream",
     "text": [
      "\t eval rmse: 1.0071\n",
      "\t eval mae: 0.8042\n",
      "\t eval r2: -0.0383\n",
      "==============================\n",
      "Epoch 4 elapsed: 0.090s\n"
     ]
    },
    {
     "name": "stderr",
     "output_type": "stream",
     "text": [
      "eval_pred: 100%|███████████████████████████████| 15/15 [00:00<00:00, 537.11it/s]\n"
     ]
    },
    {
     "name": "stdout",
     "output_type": "stream",
     "text": [
      "\t eval rmse: 1.0015\n",
      "\t eval mae: 0.7975\n",
      "\t eval r2: -0.0267\n",
      "==============================\n",
      "Epoch 5 elapsed: 0.086s\n"
     ]
    },
    {
     "name": "stderr",
     "output_type": "stream",
     "text": [
      "eval_pred: 100%|███████████████████████████████| 15/15 [00:00<00:00, 359.65it/s]\n"
     ]
    },
    {
     "name": "stdout",
     "output_type": "stream",
     "text": [
      "\t eval rmse: 0.9976\n",
      "\t eval mae: 0.7928\n",
      "\t eval r2: -0.0187\n",
      "==============================\n",
      "Training start time: \u001b[35m2022-07-23 16:01:34\u001b[0m\n",
      "Epoch 1 elapsed: 0.056s\n"
     ]
    },
    {
     "name": "stderr",
     "output_type": "stream",
     "text": [
      "eval_pred: 100%|███████████████████████████████| 15/15 [00:00<00:00, 502.76it/s]"
     ]
    },
    {
     "name": "stdout",
     "output_type": "stream",
     "text": [
      "\t eval rmse: 1.0071\n",
      "\t eval mae: 0.8093\n",
      "\t eval r2: -0.0381\n",
      "==============================\n"
     ]
    },
    {
     "name": "stderr",
     "output_type": "stream",
     "text": [
      "\n"
     ]
    },
    {
     "name": "stdout",
     "output_type": "stream",
     "text": [
      "Epoch 2 elapsed: 0.071s\n"
     ]
    },
    {
     "name": "stderr",
     "output_type": "stream",
     "text": [
      "eval_pred: 100%|███████████████████████████████| 15/15 [00:00<00:00, 868.40it/s]\n"
     ]
    },
    {
     "name": "stdout",
     "output_type": "stream",
     "text": [
      "\t eval rmse: 1.0106\n",
      "\t eval mae: 0.8098\n",
      "\t eval r2: -0.0454\n",
      "==============================\n",
      "Epoch 3 elapsed: 0.068s\n"
     ]
    },
    {
     "name": "stderr",
     "output_type": "stream",
     "text": [
      "eval_pred: 100%|███████████████████████████████| 15/15 [00:00<00:00, 750.64it/s]"
     ]
    },
    {
     "name": "stdout",
     "output_type": "stream",
     "text": [
      "\t eval rmse: 1.0071\n",
      "\t eval mae: 0.8042\n"
     ]
    },
    {
     "name": "stderr",
     "output_type": "stream",
     "text": [
      "\n"
     ]
    },
    {
     "name": "stdout",
     "output_type": "stream",
     "text": [
      "\t eval r2: -0.0383\n",
      "==============================\n",
      "Epoch 4 elapsed: 0.093s\n"
     ]
    },
    {
     "name": "stderr",
     "output_type": "stream",
     "text": [
      "eval_pred: 100%|███████████████████████████████| 15/15 [00:00<00:00, 650.42it/s]\n"
     ]
    },
    {
     "name": "stdout",
     "output_type": "stream",
     "text": [
      "\t eval rmse: 1.0015\n",
      "\t eval mae: 0.7975\n",
      "\t eval r2: -0.0267\n",
      "==============================\n",
      "Epoch 5 elapsed: 0.087s\n"
     ]
    },
    {
     "name": "stderr",
     "output_type": "stream",
     "text": [
      "eval_pred: 100%|███████████████████████████████| 15/15 [00:00<00:00, 759.65it/s]\n"
     ]
    },
    {
     "name": "stdout",
     "output_type": "stream",
     "text": [
      "\t eval rmse: 0.9976\n",
      "\t eval mae: 0.7928\n",
      "\t eval r2: -0.0187\n",
      "==============================\n",
      "Training start time: \u001b[35m2022-07-23 16:01:35\u001b[0m\n",
      "Epoch 1 elapsed: 0.093s\n"
     ]
    },
    {
     "name": "stderr",
     "output_type": "stream",
     "text": [
      "eval_pred: 100%|███████████████████████████████| 15/15 [00:00<00:00, 782.72it/s]"
     ]
    },
    {
     "name": "stdout",
     "output_type": "stream",
     "text": [
      "\t eval rmse: 1.0071\n",
      "\t eval mae: 0.8093\n",
      "\t eval r2: -0.0381\n",
      "==============================\n"
     ]
    },
    {
     "name": "stderr",
     "output_type": "stream",
     "text": [
      "\n"
     ]
    },
    {
     "name": "stdout",
     "output_type": "stream",
     "text": [
      "Epoch 2 elapsed: 0.091s\n"
     ]
    },
    {
     "name": "stderr",
     "output_type": "stream",
     "text": [
      "eval_pred: 100%|███████████████████████████████| 15/15 [00:00<00:00, 680.06it/s]\n"
     ]
    },
    {
     "name": "stdout",
     "output_type": "stream",
     "text": [
      "\t eval rmse: 1.0106\n",
      "\t eval mae: 0.8098\n",
      "\t eval r2: -0.0454\n",
      "==============================\n",
      "Epoch 3 elapsed: 0.112s\n"
     ]
    },
    {
     "name": "stderr",
     "output_type": "stream",
     "text": [
      "eval_pred: 100%|███████████████████████████████| 15/15 [00:00<00:00, 489.62it/s]\n"
     ]
    },
    {
     "name": "stdout",
     "output_type": "stream",
     "text": [
      "\t eval rmse: 1.0071\n",
      "\t eval mae: 0.8042\n",
      "\t eval r2: -0.0383\n",
      "==============================\n",
      "Epoch 4 elapsed: 0.109s\n"
     ]
    },
    {
     "name": "stderr",
     "output_type": "stream",
     "text": [
      "eval_pred: 100%|███████████████████████████████| 15/15 [00:00<00:00, 609.44it/s]\n"
     ]
    },
    {
     "name": "stdout",
     "output_type": "stream",
     "text": [
      "\t eval rmse: 1.0015\n",
      "\t eval mae: 0.7975\n",
      "\t eval r2: -0.0267\n",
      "==============================\n",
      "Epoch 5 elapsed: 0.052s\n"
     ]
    },
    {
     "name": "stderr",
     "output_type": "stream",
     "text": [
      "eval_pred: 100%|███████████████████████████████| 15/15 [00:00<00:00, 639.17it/s]\n"
     ]
    },
    {
     "name": "stdout",
     "output_type": "stream",
     "text": [
      "\t eval rmse: 0.9976\n",
      "\t eval mae: 0.7928\n",
      "\t eval r2: -0.0187\n",
      "==============================\n",
      "Training start time: \u001b[35m2022-07-23 16:01:36\u001b[0m\n",
      "Epoch 1 elapsed: 0.075s\n"
     ]
    },
    {
     "name": "stderr",
     "output_type": "stream",
     "text": [
      "eval_pred: 100%|███████████████████████████████| 15/15 [00:00<00:00, 518.92it/s]"
     ]
    },
    {
     "name": "stdout",
     "output_type": "stream",
     "text": [
      "\t eval rmse: 1.0071\n",
      "\t eval mae: 0.8093\n",
      "\t eval r2: -0.0381\n",
      "==============================\n"
     ]
    },
    {
     "name": "stderr",
     "output_type": "stream",
     "text": [
      "\n"
     ]
    },
    {
     "name": "stdout",
     "output_type": "stream",
     "text": [
      "Epoch 2 elapsed: 0.107s\n"
     ]
    },
    {
     "name": "stderr",
     "output_type": "stream",
     "text": [
      "eval_pred: 100%|███████████████████████████████| 15/15 [00:00<00:00, 671.58it/s]\n"
     ]
    },
    {
     "name": "stdout",
     "output_type": "stream",
     "text": [
      "\t eval rmse: 1.0106\n",
      "\t eval mae: 0.8098\n",
      "\t eval r2: -0.0454\n",
      "==============================\n",
      "Epoch 3 elapsed: 0.120s\n"
     ]
    },
    {
     "name": "stderr",
     "output_type": "stream",
     "text": [
      "eval_pred: 100%|███████████████████████████████| 15/15 [00:00<00:00, 510.37it/s]"
     ]
    },
    {
     "name": "stdout",
     "output_type": "stream",
     "text": [
      "\t eval rmse: 1.0071\n"
     ]
    },
    {
     "name": "stderr",
     "output_type": "stream",
     "text": [
      "\n"
     ]
    },
    {
     "name": "stdout",
     "output_type": "stream",
     "text": [
      "\t eval mae: 0.8042\n",
      "\t eval r2: -0.0383\n",
      "==============================\n",
      "Epoch 4 elapsed: 0.064s\n"
     ]
    },
    {
     "name": "stderr",
     "output_type": "stream",
     "text": [
      "eval_pred: 100%|███████████████████████████████| 15/15 [00:00<00:00, 876.58it/s]"
     ]
    },
    {
     "name": "stdout",
     "output_type": "stream",
     "text": [
      "\t eval rmse: 1.0015\n"
     ]
    },
    {
     "name": "stderr",
     "output_type": "stream",
     "text": [
      "\n"
     ]
    },
    {
     "name": "stdout",
     "output_type": "stream",
     "text": [
      "\t eval mae: 0.7975\n",
      "\t eval r2: -0.0267\n",
      "==============================\n",
      "Epoch 5 elapsed: 0.062s\n"
     ]
    },
    {
     "name": "stderr",
     "output_type": "stream",
     "text": [
      "eval_pred: 100%|███████████████████████████████| 15/15 [00:00<00:00, 758.17it/s]\n"
     ]
    },
    {
     "name": "stdout",
     "output_type": "stream",
     "text": [
      "\t eval rmse: 0.9976\n",
      "\t eval mae: 0.7928\n",
      "\t eval r2: -0.0187\n",
      "==============================\n",
      "Training start time: \u001b[35m2022-07-23 16:01:38\u001b[0m\n",
      "Epoch 1 elapsed: 0.068s\n"
     ]
    },
    {
     "name": "stderr",
     "output_type": "stream",
     "text": [
      "eval_pred: 100%|███████████████████████████████| 15/15 [00:00<00:00, 836.73it/s]"
     ]
    },
    {
     "name": "stdout",
     "output_type": "stream",
     "text": [
      "\t eval rmse: 1.0049\n",
      "\t eval mae: 0.8076\n",
      "\t eval r2: -0.0337\n",
      "==============================\n"
     ]
    },
    {
     "name": "stderr",
     "output_type": "stream",
     "text": [
      "\n"
     ]
    },
    {
     "name": "stdout",
     "output_type": "stream",
     "text": [
      "Epoch 2 elapsed: 0.084s\n"
     ]
    },
    {
     "name": "stderr",
     "output_type": "stream",
     "text": [
      "eval_pred: 100%|███████████████████████████████| 15/15 [00:00<00:00, 746.47it/s]\n"
     ]
    },
    {
     "name": "stdout",
     "output_type": "stream",
     "text": [
      "\t eval rmse: 1.0106\n",
      "\t eval mae: 0.8097\n",
      "\t eval r2: -0.0455\n",
      "==============================\n",
      "Epoch 3 elapsed: 0.057s\n"
     ]
    },
    {
     "name": "stderr",
     "output_type": "stream",
     "text": [
      "eval_pred: 100%|███████████████████████████████| 15/15 [00:00<00:00, 660.37it/s]"
     ]
    },
    {
     "name": "stdout",
     "output_type": "stream",
     "text": [
      "\t eval rmse: 1.0070\n"
     ]
    },
    {
     "name": "stderr",
     "output_type": "stream",
     "text": [
      "\n"
     ]
    },
    {
     "name": "stdout",
     "output_type": "stream",
     "text": [
      "\t eval mae: 0.8040\n",
      "\t eval r2: -0.0379\n",
      "==============================\n",
      "Epoch 4 elapsed: 0.077s\n"
     ]
    },
    {
     "name": "stderr",
     "output_type": "stream",
     "text": [
      "eval_pred: 100%|███████████████████████████████| 15/15 [00:00<00:00, 762.71it/s]\n"
     ]
    },
    {
     "name": "stdout",
     "output_type": "stream",
     "text": [
      "\t eval rmse: 1.0013\n",
      "\t eval mae: 0.7973\n",
      "\t eval r2: -0.0263\n",
      "==============================\n",
      "Epoch 5 elapsed: 0.076s\n"
     ]
    },
    {
     "name": "stderr",
     "output_type": "stream",
     "text": [
      "eval_pred: 100%|███████████████████████████████| 15/15 [00:00<00:00, 618.99it/s]\n"
     ]
    },
    {
     "name": "stdout",
     "output_type": "stream",
     "text": [
      "\t eval rmse: 0.9975\n",
      "\t eval mae: 0.7927\n",
      "\t eval r2: -0.0184\n",
      "==============================\n",
      "Training start time: \u001b[35m2022-07-23 16:01:39\u001b[0m\n",
      "Epoch 1 elapsed: 0.069s\n"
     ]
    },
    {
     "name": "stderr",
     "output_type": "stream",
     "text": [
      "eval_pred: 100%|███████████████████████████████| 15/15 [00:00<00:00, 764.88it/s]"
     ]
    },
    {
     "name": "stdout",
     "output_type": "stream",
     "text": [
      "\t eval rmse: 1.0049\n",
      "\t eval mae: 0.8076\n",
      "\t eval r2: -0.0337\n",
      "==============================\n"
     ]
    },
    {
     "name": "stderr",
     "output_type": "stream",
     "text": [
      "\n"
     ]
    },
    {
     "name": "stdout",
     "output_type": "stream",
     "text": [
      "Epoch 2 elapsed: 0.076s\n"
     ]
    },
    {
     "name": "stderr",
     "output_type": "stream",
     "text": [
      "eval_pred: 100%|███████████████████████████████| 15/15 [00:00<00:00, 398.55it/s]\n"
     ]
    },
    {
     "name": "stdout",
     "output_type": "stream",
     "text": [
      "\t eval rmse: 1.0106\n",
      "\t eval mae: 0.8097\n",
      "\t eval r2: -0.0455\n",
      "==============================\n",
      "Epoch 3 elapsed: 0.070s\n"
     ]
    },
    {
     "name": "stderr",
     "output_type": "stream",
     "text": [
      "eval_pred: 100%|███████████████████████████████| 15/15 [00:00<00:00, 829.69it/s]\n"
     ]
    },
    {
     "name": "stdout",
     "output_type": "stream",
     "text": [
      "\t eval rmse: 1.0070\n",
      "\t eval mae: 0.8040\n",
      "\t eval r2: -0.0379\n",
      "==============================\n",
      "Epoch 4 elapsed: 0.094s\n"
     ]
    },
    {
     "name": "stderr",
     "output_type": "stream",
     "text": [
      "eval_pred: 100%|███████████████████████████████| 15/15 [00:00<00:00, 391.66it/s]\n"
     ]
    },
    {
     "name": "stdout",
     "output_type": "stream",
     "text": [
      "\t eval rmse: 1.0013\n",
      "\t eval mae: 0.7973\n",
      "\t eval r2: -0.0263\n",
      "==============================\n",
      "Epoch 5 elapsed: 0.079s\n"
     ]
    },
    {
     "name": "stderr",
     "output_type": "stream",
     "text": [
      "eval_pred: 100%|███████████████████████████████| 15/15 [00:00<00:00, 737.01it/s]\n"
     ]
    },
    {
     "name": "stdout",
     "output_type": "stream",
     "text": [
      "\t eval rmse: 0.9975\n",
      "\t eval mae: 0.7927\n",
      "\t eval r2: -0.0184\n",
      "==============================\n",
      "Training start time: \u001b[35m2022-07-23 16:01:40\u001b[0m\n",
      "Epoch 1 elapsed: 0.069s\n"
     ]
    },
    {
     "name": "stderr",
     "output_type": "stream",
     "text": [
      "eval_pred: 100%|███████████████████████████████| 15/15 [00:00<00:00, 646.27it/s]"
     ]
    },
    {
     "name": "stdout",
     "output_type": "stream",
     "text": [
      "\t eval rmse: 1.0049\n",
      "\t eval mae: 0.8076\n",
      "\t eval r2: -0.0337\n",
      "==============================\n"
     ]
    },
    {
     "name": "stderr",
     "output_type": "stream",
     "text": [
      "\n"
     ]
    },
    {
     "name": "stdout",
     "output_type": "stream",
     "text": [
      "Epoch 2 elapsed: 0.082s\n"
     ]
    },
    {
     "name": "stderr",
     "output_type": "stream",
     "text": [
      "eval_pred: 100%|███████████████████████████████| 15/15 [00:00<00:00, 573.76it/s]\n"
     ]
    },
    {
     "name": "stdout",
     "output_type": "stream",
     "text": [
      "\t eval rmse: 1.0106\n",
      "\t eval mae: 0.8097\n",
      "\t eval r2: -0.0455\n",
      "==============================\n",
      "Epoch 3 elapsed: 0.086s\n"
     ]
    },
    {
     "name": "stderr",
     "output_type": "stream",
     "text": [
      "eval_pred: 100%|███████████████████████████████| 15/15 [00:00<00:00, 665.62it/s]\n"
     ]
    },
    {
     "name": "stdout",
     "output_type": "stream",
     "text": [
      "\t eval rmse: 1.0070\n",
      "\t eval mae: 0.8040\n",
      "\t eval r2: -0.0379\n",
      "==============================\n",
      "Epoch 4 elapsed: 0.094s\n"
     ]
    },
    {
     "name": "stderr",
     "output_type": "stream",
     "text": [
      "eval_pred: 100%|███████████████████████████████| 15/15 [00:00<00:00, 545.17it/s]\n"
     ]
    },
    {
     "name": "stdout",
     "output_type": "stream",
     "text": [
      "\t eval rmse: 1.0013\n",
      "\t eval mae: 0.7973\n",
      "\t eval r2: -0.0263\n",
      "==============================\n",
      "Epoch 5 elapsed: 0.073s\n"
     ]
    },
    {
     "name": "stderr",
     "output_type": "stream",
     "text": [
      "eval_pred: 100%|███████████████████████████████| 15/15 [00:00<00:00, 678.21it/s]"
     ]
    },
    {
     "name": "stdout",
     "output_type": "stream",
     "text": [
      "\t eval rmse: 0.9975"
     ]
    },
    {
     "name": "stderr",
     "output_type": "stream",
     "text": [
      "\n"
     ]
    },
    {
     "name": "stdout",
     "output_type": "stream",
     "text": [
      "\n",
      "\t eval mae: 0.7927\n",
      "\t eval r2: -0.0184\n",
      "==============================\n",
      "Training start time: \u001b[35m2022-07-23 16:01:41\u001b[0m\n",
      "Epoch 1 elapsed: 0.081s\n"
     ]
    },
    {
     "name": "stderr",
     "output_type": "stream",
     "text": [
      "eval_pred: 100%|███████████████████████████████| 15/15 [00:00<00:00, 569.47it/s]"
     ]
    },
    {
     "name": "stdout",
     "output_type": "stream",
     "text": [
      "\t eval rmse: 1.0049\n",
      "\t eval mae: 0.8076\n",
      "\t eval r2: -0.0337\n",
      "==============================\n"
     ]
    },
    {
     "name": "stderr",
     "output_type": "stream",
     "text": [
      "\n"
     ]
    },
    {
     "name": "stdout",
     "output_type": "stream",
     "text": [
      "Epoch 2 elapsed: 0.071s\n"
     ]
    },
    {
     "name": "stderr",
     "output_type": "stream",
     "text": [
      "eval_pred: 100%|███████████████████████████████| 15/15 [00:00<00:00, 723.75it/s]\n"
     ]
    },
    {
     "name": "stdout",
     "output_type": "stream",
     "text": [
      "\t eval rmse: 1.0106\n",
      "\t eval mae: 0.8097\n",
      "\t eval r2: -0.0455\n",
      "==============================\n",
      "Epoch 3 elapsed: 0.099s\n"
     ]
    },
    {
     "name": "stderr",
     "output_type": "stream",
     "text": [
      "eval_pred: 100%|███████████████████████████████| 15/15 [00:00<00:00, 664.67it/s]\n"
     ]
    },
    {
     "name": "stdout",
     "output_type": "stream",
     "text": [
      "\t eval rmse: 1.0070\n",
      "\t eval mae: 0.8040\n",
      "\t eval r2: -0.0379\n",
      "==============================\n",
      "Epoch 4 elapsed: 0.067s\n"
     ]
    },
    {
     "name": "stderr",
     "output_type": "stream",
     "text": [
      "eval_pred: 100%|███████████████████████████████| 15/15 [00:00<00:00, 416.22it/s]\n"
     ]
    },
    {
     "name": "stdout",
     "output_type": "stream",
     "text": [
      "\t eval rmse: 1.0013\n",
      "\t eval mae: 0.7973\n",
      "\t eval r2: -0.0263\n",
      "==============================\n",
      "Epoch 5 elapsed: 0.071s\n"
     ]
    },
    {
     "name": "stderr",
     "output_type": "stream",
     "text": [
      "eval_pred: 100%|███████████████████████████████| 15/15 [00:00<00:00, 556.67it/s]\n"
     ]
    },
    {
     "name": "stdout",
     "output_type": "stream",
     "text": [
      "\t eval rmse: 0.9975\n",
      "\t eval mae: 0.7927\n",
      "\t eval r2: -0.0184\n",
      "==============================\n",
      "Training start time: \u001b[35m2022-07-23 16:01:43\u001b[0m\n",
      "Epoch 1 elapsed: 0.090s\n"
     ]
    },
    {
     "name": "stderr",
     "output_type": "stream",
     "text": [
      "eval_pred: 100%|███████████████████████████████| 15/15 [00:00<00:00, 686.92it/s]"
     ]
    },
    {
     "name": "stdout",
     "output_type": "stream",
     "text": [
      "\t eval rmse: 1.0049\n",
      "\t eval mae: 0.8076\n",
      "\t eval r2: -0.0337\n",
      "==============================\n"
     ]
    },
    {
     "name": "stderr",
     "output_type": "stream",
     "text": [
      "\n"
     ]
    },
    {
     "name": "stdout",
     "output_type": "stream",
     "text": [
      "Epoch 2 elapsed: 0.054s\n"
     ]
    },
    {
     "name": "stderr",
     "output_type": "stream",
     "text": [
      "eval_pred: 100%|███████████████████████████████| 15/15 [00:00<00:00, 809.44it/s]\n"
     ]
    },
    {
     "name": "stdout",
     "output_type": "stream",
     "text": [
      "\t eval rmse: 1.0106\n",
      "\t eval mae: 0.8097\n",
      "\t eval r2: -0.0455\n",
      "==============================\n",
      "Epoch 3 elapsed: 0.062s\n"
     ]
    },
    {
     "name": "stderr",
     "output_type": "stream",
     "text": [
      "eval_pred: 100%|███████████████████████████████| 15/15 [00:00<00:00, 474.91it/s]"
     ]
    },
    {
     "name": "stdout",
     "output_type": "stream",
     "text": [
      "\t eval rmse: 1.0070\n"
     ]
    },
    {
     "name": "stderr",
     "output_type": "stream",
     "text": [
      "\n"
     ]
    },
    {
     "name": "stdout",
     "output_type": "stream",
     "text": [
      "\t eval mae: 0.8040\n",
      "\t eval r2: -0.0379\n",
      "==============================\n",
      "Epoch 4 elapsed: 0.070s\n"
     ]
    },
    {
     "name": "stderr",
     "output_type": "stream",
     "text": [
      "eval_pred: 100%|███████████████████████████████| 15/15 [00:00<00:00, 741.23it/s]\n"
     ]
    },
    {
     "name": "stdout",
     "output_type": "stream",
     "text": [
      "\t eval rmse: 1.0013\n",
      "\t eval mae: 0.7973\n",
      "\t eval r2: -0.0263\n",
      "==============================\n",
      "Epoch 5 elapsed: 0.103s\n"
     ]
    },
    {
     "name": "stderr",
     "output_type": "stream",
     "text": [
      "eval_pred: 100%|███████████████████████████████| 15/15 [00:00<00:00, 756.00it/s]\n"
     ]
    },
    {
     "name": "stdout",
     "output_type": "stream",
     "text": [
      "\t eval rmse: 0.9975\n",
      "\t eval mae: 0.7927\n",
      "\t eval r2: -0.0184\n",
      "==============================\n",
      "Training start time: \u001b[35m2022-07-23 16:01:44\u001b[0m\n",
      "Epoch 1 elapsed: 0.083s\n"
     ]
    },
    {
     "name": "stderr",
     "output_type": "stream",
     "text": [
      "eval_pred: 100%|███████████████████████████████| 15/15 [00:00<00:00, 604.38it/s]"
     ]
    },
    {
     "name": "stdout",
     "output_type": "stream",
     "text": [
      "\t eval rmse: 1.0040\n",
      "\t eval mae: 0.8069\n",
      "\t eval r2: -0.0319\n",
      "==============================\n"
     ]
    },
    {
     "name": "stderr",
     "output_type": "stream",
     "text": [
      "\n"
     ]
    },
    {
     "name": "stdout",
     "output_type": "stream",
     "text": [
      "Epoch 2 elapsed: 0.075s\n"
     ]
    },
    {
     "name": "stderr",
     "output_type": "stream",
     "text": [
      "eval_pred: 100%|███████████████████████████████| 15/15 [00:00<00:00, 482.70it/s]\n"
     ]
    },
    {
     "name": "stdout",
     "output_type": "stream",
     "text": [
      "\t eval rmse: 1.0104\n",
      "\t eval mae: 0.8096\n",
      "\t eval r2: -0.0449\n",
      "==============================\n",
      "Epoch 3 elapsed: 0.076s\n"
     ]
    },
    {
     "name": "stderr",
     "output_type": "stream",
     "text": [
      "eval_pred: 100%|███████████████████████████████| 15/15 [00:00<00:00, 779.74it/s]\n"
     ]
    },
    {
     "name": "stdout",
     "output_type": "stream",
     "text": [
      "\t eval rmse: 1.0066\n",
      "\t eval mae: 0.8039\n",
      "\t eval r2: -0.0372\n",
      "==============================\n",
      "Epoch 4 elapsed: 0.093s\n"
     ]
    },
    {
     "name": "stderr",
     "output_type": "stream",
     "text": [
      "eval_pred: 100%|███████████████████████████████| 15/15 [00:00<00:00, 542.92it/s]\n"
     ]
    },
    {
     "name": "stdout",
     "output_type": "stream",
     "text": [
      "\t eval rmse: 1.0009\n",
      "\t eval mae: 0.7971\n",
      "\t eval r2: -0.0255\n",
      "==============================\n",
      "Epoch 5 elapsed: 0.089s\n"
     ]
    },
    {
     "name": "stderr",
     "output_type": "stream",
     "text": [
      "eval_pred: 100%|███████████████████████████████| 15/15 [00:00<00:00, 666.93it/s]\n"
     ]
    },
    {
     "name": "stdout",
     "output_type": "stream",
     "text": [
      "\t eval rmse: 0.9970\n",
      "\t eval mae: 0.7925\n",
      "\t eval r2: -0.0174\n",
      "==============================\n",
      "Training start time: \u001b[35m2022-07-23 16:01:45\u001b[0m\n",
      "Epoch 1 elapsed: 0.062s\n"
     ]
    },
    {
     "name": "stderr",
     "output_type": "stream",
     "text": [
      "eval_pred: 100%|███████████████████████████████| 15/15 [00:00<00:00, 796.56it/s]"
     ]
    },
    {
     "name": "stdout",
     "output_type": "stream",
     "text": [
      "\t eval rmse: 1.0040\n",
      "\t eval mae: 0.8069\n",
      "\t eval r2: -0.0319\n",
      "==============================\n"
     ]
    },
    {
     "name": "stderr",
     "output_type": "stream",
     "text": [
      "\n"
     ]
    },
    {
     "name": "stdout",
     "output_type": "stream",
     "text": [
      "Epoch 2 elapsed: 0.127s\n"
     ]
    },
    {
     "name": "stderr",
     "output_type": "stream",
     "text": [
      "eval_pred: 100%|███████████████████████████████| 15/15 [00:00<00:00, 724.61it/s]\n"
     ]
    },
    {
     "name": "stdout",
     "output_type": "stream",
     "text": [
      "\t eval rmse: 1.0104\n",
      "\t eval mae: 0.8096\n",
      "\t eval r2: -0.0449\n",
      "==============================\n",
      "Epoch 3 elapsed: 0.071s\n"
     ]
    },
    {
     "name": "stderr",
     "output_type": "stream",
     "text": [
      "eval_pred: 100%|███████████████████████████████| 15/15 [00:00<00:00, 699.06it/s]"
     ]
    },
    {
     "name": "stdout",
     "output_type": "stream",
     "text": [
      "\t eval rmse: 1.0066\n"
     ]
    },
    {
     "name": "stderr",
     "output_type": "stream",
     "text": [
      "\n"
     ]
    },
    {
     "name": "stdout",
     "output_type": "stream",
     "text": [
      "\t eval mae: 0.8039\n",
      "\t eval r2: -0.0372\n",
      "==============================\n",
      "Epoch 4 elapsed: 0.072s\n"
     ]
    },
    {
     "name": "stderr",
     "output_type": "stream",
     "text": [
      "eval_pred: 100%|███████████████████████████████| 15/15 [00:00<00:00, 720.22it/s]\n"
     ]
    },
    {
     "name": "stdout",
     "output_type": "stream",
     "text": [
      "\t eval rmse: 1.0009\n",
      "\t eval mae: 0.7971\n",
      "\t eval r2: -0.0255\n",
      "==============================\n",
      "Epoch 5 elapsed: 0.078s\n"
     ]
    },
    {
     "name": "stderr",
     "output_type": "stream",
     "text": [
      "eval_pred: 100%|███████████████████████████████| 15/15 [00:00<00:00, 677.43it/s]\n"
     ]
    },
    {
     "name": "stdout",
     "output_type": "stream",
     "text": [
      "\t eval rmse: 0.9970\n",
      "\t eval mae: 0.7925\n",
      "\t eval r2: -0.0174\n",
      "==============================\n",
      "Training start time: \u001b[35m2022-07-23 16:01:46\u001b[0m\n",
      "Epoch 1 elapsed: 0.059s\n"
     ]
    },
    {
     "name": "stderr",
     "output_type": "stream",
     "text": [
      "eval_pred: 100%|███████████████████████████████| 15/15 [00:00<00:00, 589.54it/s]"
     ]
    },
    {
     "name": "stdout",
     "output_type": "stream",
     "text": [
      "\t eval rmse: 1.0040\n",
      "\t eval mae: 0.8069\n",
      "\t eval r2: -0.0319\n",
      "==============================\n"
     ]
    },
    {
     "name": "stderr",
     "output_type": "stream",
     "text": [
      "\n"
     ]
    },
    {
     "name": "stdout",
     "output_type": "stream",
     "text": [
      "Epoch 2 elapsed: 0.095s\n"
     ]
    },
    {
     "name": "stderr",
     "output_type": "stream",
     "text": [
      "eval_pred: 100%|███████████████████████████████| 15/15 [00:00<00:00, 683.07it/s]\n"
     ]
    },
    {
     "name": "stdout",
     "output_type": "stream",
     "text": [
      "\t eval rmse: 1.0104\n",
      "\t eval mae: 0.8096\n",
      "\t eval r2: -0.0449\n",
      "==============================\n",
      "Epoch 3 elapsed: 0.084s\n"
     ]
    },
    {
     "name": "stderr",
     "output_type": "stream",
     "text": [
      "eval_pred: 100%|███████████████████████████████| 15/15 [00:00<00:00, 575.21it/s]\n"
     ]
    },
    {
     "name": "stdout",
     "output_type": "stream",
     "text": [
      "\t eval rmse: 1.0066\n",
      "\t eval mae: 0.8039\n",
      "\t eval r2: -0.0372\n",
      "==============================\n",
      "Epoch 4 elapsed: 0.059s\n"
     ]
    },
    {
     "name": "stderr",
     "output_type": "stream",
     "text": [
      "eval_pred: 100%|███████████████████████████████| 15/15 [00:00<00:00, 507.85it/s]\n"
     ]
    },
    {
     "name": "stdout",
     "output_type": "stream",
     "text": [
      "\t eval rmse: 1.0009\n",
      "\t eval mae: 0.7971\n",
      "\t eval r2: -0.0255\n",
      "==============================\n",
      "Epoch 5 elapsed: 0.078s\n"
     ]
    },
    {
     "name": "stderr",
     "output_type": "stream",
     "text": [
      "eval_pred: 100%|███████████████████████████████| 15/15 [00:00<00:00, 833.10it/s]\n"
     ]
    },
    {
     "name": "stdout",
     "output_type": "stream",
     "text": [
      "\t eval rmse: 0.9970\n",
      "\t eval mae: 0.7925\n",
      "\t eval r2: -0.0174\n",
      "==============================\n",
      "Training start time: \u001b[35m2022-07-23 16:01:48\u001b[0m\n",
      "Epoch 1 elapsed: 0.075s\n"
     ]
    },
    {
     "name": "stderr",
     "output_type": "stream",
     "text": [
      "eval_pred: 100%|███████████████████████████████| 15/15 [00:00<00:00, 599.84it/s]"
     ]
    },
    {
     "name": "stdout",
     "output_type": "stream",
     "text": [
      "\t eval rmse: 1.0040\n",
      "\t eval mae: 0.8069\n",
      "\t eval r2: -0.0319\n",
      "==============================\n"
     ]
    },
    {
     "name": "stderr",
     "output_type": "stream",
     "text": [
      "\n"
     ]
    },
    {
     "name": "stdout",
     "output_type": "stream",
     "text": [
      "Epoch 2 elapsed: 0.068s\n"
     ]
    },
    {
     "name": "stderr",
     "output_type": "stream",
     "text": [
      "eval_pred: 100%|███████████████████████████████| 15/15 [00:00<00:00, 846.41it/s]\n"
     ]
    },
    {
     "name": "stdout",
     "output_type": "stream",
     "text": [
      "\t eval rmse: 1.0104\n",
      "\t eval mae: 0.8096\n",
      "\t eval r2: -0.0449\n",
      "==============================\n",
      "Epoch 3 elapsed: 0.082s\n"
     ]
    },
    {
     "name": "stderr",
     "output_type": "stream",
     "text": [
      "eval_pred: 100%|███████████████████████████████| 15/15 [00:00<00:00, 706.57it/s]\n"
     ]
    },
    {
     "name": "stdout",
     "output_type": "stream",
     "text": [
      "\t eval rmse: 1.0066\n",
      "\t eval mae: 0.8039\n",
      "\t eval r2: -0.0372\n",
      "==============================\n",
      "Epoch 4 elapsed: 0.077s\n"
     ]
    },
    {
     "name": "stderr",
     "output_type": "stream",
     "text": [
      "eval_pred: 100%|███████████████████████████████| 15/15 [00:00<00:00, 735.71it/s]\n"
     ]
    },
    {
     "name": "stdout",
     "output_type": "stream",
     "text": [
      "\t eval rmse: 1.0009\n",
      "\t eval mae: 0.7971\n",
      "\t eval r2: -0.0255\n",
      "==============================\n",
      "Epoch 5 elapsed: 0.075s\n"
     ]
    },
    {
     "name": "stderr",
     "output_type": "stream",
     "text": [
      "eval_pred: 100%|███████████████████████████████| 15/15 [00:00<00:00, 596.18it/s]\n"
     ]
    },
    {
     "name": "stdout",
     "output_type": "stream",
     "text": [
      "\t eval rmse: 0.9970\n",
      "\t eval mae: 0.7925\n",
      "\t eval r2: -0.0174\n",
      "==============================\n",
      "Training start time: \u001b[35m2022-07-23 16:01:49\u001b[0m\n",
      "Epoch 1 elapsed: 0.077s\n"
     ]
    },
    {
     "name": "stderr",
     "output_type": "stream",
     "text": [
      "eval_pred: 100%|███████████████████████████████| 15/15 [00:00<00:00, 815.03it/s]"
     ]
    },
    {
     "name": "stdout",
     "output_type": "stream",
     "text": [
      "\t eval rmse: 1.0040\n",
      "\t eval mae: 0.8069\n",
      "\t eval r2: -0.0319\n",
      "==============================\n"
     ]
    },
    {
     "name": "stderr",
     "output_type": "stream",
     "text": [
      "\n"
     ]
    },
    {
     "name": "stdout",
     "output_type": "stream",
     "text": [
      "Epoch 2 elapsed: 0.083s\n"
     ]
    },
    {
     "name": "stderr",
     "output_type": "stream",
     "text": [
      "eval_pred: 100%|███████████████████████████████| 15/15 [00:00<00:00, 510.04it/s]\n"
     ]
    },
    {
     "name": "stdout",
     "output_type": "stream",
     "text": [
      "\t eval rmse: 1.0104\n",
      "\t eval mae: 0.8096\n",
      "\t eval r2: -0.0449\n",
      "==============================\n",
      "Epoch 3 elapsed: 0.092s\n"
     ]
    },
    {
     "name": "stderr",
     "output_type": "stream",
     "text": [
      "eval_pred: 100%|███████████████████████████████| 15/15 [00:00<00:00, 652.45it/s]\n"
     ]
    },
    {
     "name": "stdout",
     "output_type": "stream",
     "text": [
      "\t eval rmse: 1.0066\n",
      "\t eval mae: 0.8039\n",
      "\t eval r2: -0.0372\n",
      "==============================\n",
      "Epoch 4 elapsed: 0.058s\n"
     ]
    },
    {
     "name": "stderr",
     "output_type": "stream",
     "text": [
      "eval_pred: 100%|███████████████████████████████| 15/15 [00:00<00:00, 441.80it/s]"
     ]
    },
    {
     "name": "stdout",
     "output_type": "stream",
     "text": [
      "\t eval rmse: 1.0009\n"
     ]
    },
    {
     "name": "stderr",
     "output_type": "stream",
     "text": [
      "\n"
     ]
    },
    {
     "name": "stdout",
     "output_type": "stream",
     "text": [
      "\t eval mae: 0.7971\n",
      "\t eval r2: -0.0255\n",
      "==============================\n",
      "Epoch 5 elapsed: 0.075s\n"
     ]
    },
    {
     "name": "stderr",
     "output_type": "stream",
     "text": [
      "eval_pred: 100%|███████████████████████████████| 15/15 [00:00<00:00, 627.88it/s]\n"
     ]
    },
    {
     "name": "stdout",
     "output_type": "stream",
     "text": [
      "\t eval rmse: 0.9970\n",
      "\t eval mae: 0.7925\n",
      "\t eval r2: -0.0174\n",
      "==============================\n",
      "Training start time: \u001b[35m2022-07-23 16:01:50\u001b[0m\n",
      "Epoch 1 elapsed: 0.067s\n"
     ]
    },
    {
     "name": "stderr",
     "output_type": "stream",
     "text": [
      "eval_pred: 100%|███████████████████████████████| 15/15 [00:00<00:00, 854.71it/s]"
     ]
    },
    {
     "name": "stdout",
     "output_type": "stream",
     "text": [
      "\t eval rmse: 0.9923\n",
      "\t eval mae: 0.7994\n",
      "\t eval r2: -0.0078\n",
      "==============================\n"
     ]
    },
    {
     "name": "stderr",
     "output_type": "stream",
     "text": [
      "\n"
     ]
    },
    {
     "name": "stdout",
     "output_type": "stream",
     "text": [
      "Epoch 2 elapsed: 0.071s\n"
     ]
    },
    {
     "name": "stderr",
     "output_type": "stream",
     "text": [
      "eval_pred: 100%|███████████████████████████████| 15/15 [00:00<00:00, 569.73it/s]\n"
     ]
    },
    {
     "name": "stdout",
     "output_type": "stream",
     "text": [
      "\t eval rmse: 1.0022\n",
      "\t eval mae: 0.8041\n",
      "\t eval r2: -0.0280\n",
      "==============================\n",
      "Epoch 3 elapsed: 0.076s\n"
     ]
    },
    {
     "name": "stderr",
     "output_type": "stream",
     "text": [
      "eval_pred: 100%|███████████████████████████████| 15/15 [00:00<00:00, 742.97it/s]\n"
     ]
    },
    {
     "name": "stdout",
     "output_type": "stream",
     "text": [
      "\t eval rmse: 0.9991\n",
      "\t eval mae: 0.7988\n",
      "\t eval r2: -0.0218\n",
      "==============================\n",
      "Epoch 4 elapsed: 0.074s\n"
     ]
    },
    {
     "name": "stderr",
     "output_type": "stream",
     "text": [
      "eval_pred: 100%|███████████████████████████████| 15/15 [00:00<00:00, 844.15it/s]\n"
     ]
    },
    {
     "name": "stdout",
     "output_type": "stream",
     "text": [
      "\t eval rmse: 0.9941\n",
      "\t eval mae: 0.7926\n",
      "\t eval r2: -0.0115\n",
      "==============================\n",
      "Epoch 5 elapsed: 0.058s\n"
     ]
    },
    {
     "name": "stderr",
     "output_type": "stream",
     "text": [
      "eval_pred: 100%|███████████████████████████████| 15/15 [00:00<00:00, 344.91it/s]\n"
     ]
    },
    {
     "name": "stdout",
     "output_type": "stream",
     "text": [
      "\t eval rmse: 0.9907\n",
      "\t eval mae: 0.7883\n",
      "\t eval r2: -0.0045\n",
      "==============================\n",
      "Training start time: \u001b[35m2022-07-23 16:01:51\u001b[0m\n",
      "Epoch 1 elapsed: 0.084s\n"
     ]
    },
    {
     "name": "stderr",
     "output_type": "stream",
     "text": [
      "eval_pred: 100%|███████████████████████████████| 15/15 [00:00<00:00, 571.44it/s]"
     ]
    },
    {
     "name": "stdout",
     "output_type": "stream",
     "text": [
      "\t eval rmse: 0.9923\n",
      "\t eval mae: 0.7994\n",
      "\t eval r2: -0.0078\n",
      "==============================\n"
     ]
    },
    {
     "name": "stderr",
     "output_type": "stream",
     "text": [
      "\n"
     ]
    },
    {
     "name": "stdout",
     "output_type": "stream",
     "text": [
      "Epoch 2 elapsed: 0.077s\n"
     ]
    },
    {
     "name": "stderr",
     "output_type": "stream",
     "text": [
      "eval_pred: 100%|███████████████████████████████| 15/15 [00:00<00:00, 562.65it/s]\n"
     ]
    },
    {
     "name": "stdout",
     "output_type": "stream",
     "text": [
      "\t eval rmse: 1.0022\n",
      "\t eval mae: 0.8041\n",
      "\t eval r2: -0.0280\n",
      "==============================\n",
      "Epoch 3 elapsed: 0.085s\n"
     ]
    },
    {
     "name": "stderr",
     "output_type": "stream",
     "text": [
      "eval_pred: 100%|███████████████████████████████| 15/15 [00:00<00:00, 804.80it/s]\n"
     ]
    },
    {
     "name": "stdout",
     "output_type": "stream",
     "text": [
      "\t eval rmse: 0.9991\n",
      "\t eval mae: 0.7988\n",
      "\t eval r2: -0.0218\n",
      "==============================\n",
      "Epoch 4 elapsed: 0.079s\n"
     ]
    },
    {
     "name": "stderr",
     "output_type": "stream",
     "text": [
      "eval_pred: 100%|███████████████████████████████| 15/15 [00:00<00:00, 728.97it/s]\n"
     ]
    },
    {
     "name": "stdout",
     "output_type": "stream",
     "text": [
      "\t eval rmse: 0.9941\n",
      "\t eval mae: 0.7926\n",
      "\t eval r2: -0.0115\n",
      "==============================\n",
      "Epoch 5 elapsed: 0.087s\n"
     ]
    },
    {
     "name": "stderr",
     "output_type": "stream",
     "text": [
      "eval_pred: 100%|███████████████████████████████| 15/15 [00:00<00:00, 590.80it/s]\n"
     ]
    },
    {
     "name": "stdout",
     "output_type": "stream",
     "text": [
      "\t eval rmse: 0.9907\n",
      "\t eval mae: 0.7883\n",
      "\t eval r2: -0.0045\n",
      "==============================\n",
      "Training start time: \u001b[35m2022-07-23 16:01:52\u001b[0m\n",
      "Epoch 1 elapsed: 0.094s\n"
     ]
    },
    {
     "name": "stderr",
     "output_type": "stream",
     "text": [
      "eval_pred: 100%|███████████████████████████████| 15/15 [00:00<00:00, 880.24it/s]"
     ]
    },
    {
     "name": "stdout",
     "output_type": "stream",
     "text": [
      "\t eval rmse: 0.9923\n",
      "\t eval mae: 0.7994\n",
      "\t eval r2: -0.0078\n",
      "==============================\n"
     ]
    },
    {
     "name": "stderr",
     "output_type": "stream",
     "text": [
      "\n"
     ]
    },
    {
     "name": "stdout",
     "output_type": "stream",
     "text": [
      "Epoch 2 elapsed: 0.096s\n"
     ]
    },
    {
     "name": "stderr",
     "output_type": "stream",
     "text": [
      "eval_pred: 100%|███████████████████████████████| 15/15 [00:00<00:00, 540.66it/s]\n"
     ]
    },
    {
     "name": "stdout",
     "output_type": "stream",
     "text": [
      "\t eval rmse: 1.0022\n",
      "\t eval mae: 0.8041\n",
      "\t eval r2: -0.0280\n",
      "==============================\n",
      "Epoch 3 elapsed: 0.079s\n"
     ]
    },
    {
     "name": "stderr",
     "output_type": "stream",
     "text": [
      "eval_pred: 100%|███████████████████████████████| 15/15 [00:00<00:00, 616.31it/s]\n"
     ]
    },
    {
     "name": "stdout",
     "output_type": "stream",
     "text": [
      "\t eval rmse: 0.9991\n",
      "\t eval mae: 0.7988\n",
      "\t eval r2: -0.0218\n",
      "==============================\n",
      "Epoch 4 elapsed: 0.101s\n"
     ]
    },
    {
     "name": "stderr",
     "output_type": "stream",
     "text": [
      "eval_pred: 100%|███████████████████████████████| 15/15 [00:00<00:00, 874.06it/s]\n"
     ]
    },
    {
     "name": "stdout",
     "output_type": "stream",
     "text": [
      "\t eval rmse: 0.9941\n",
      "\t eval mae: 0.7926\n",
      "\t eval r2: -0.0115\n",
      "==============================\n",
      "Epoch 5 elapsed: 0.059s\n"
     ]
    },
    {
     "name": "stderr",
     "output_type": "stream",
     "text": [
      "eval_pred: 100%|███████████████████████████████| 15/15 [00:00<00:00, 805.73it/s]"
     ]
    },
    {
     "name": "stdout",
     "output_type": "stream",
     "text": [
      "\t eval rmse: 0.9907\n"
     ]
    },
    {
     "name": "stderr",
     "output_type": "stream",
     "text": [
      "\n"
     ]
    },
    {
     "name": "stdout",
     "output_type": "stream",
     "text": [
      "\t eval mae: 0.7883\n",
      "\t eval r2: -0.0045\n",
      "==============================\n",
      "Training start time: \u001b[35m2022-07-23 16:01:54\u001b[0m\n",
      "Epoch 1 elapsed: 0.102s\n"
     ]
    },
    {
     "name": "stderr",
     "output_type": "stream",
     "text": [
      "eval_pred: 100%|███████████████████████████████| 15/15 [00:00<00:00, 596.70it/s]"
     ]
    },
    {
     "name": "stdout",
     "output_type": "stream",
     "text": [
      "\t eval rmse: 0.9923\n",
      "\t eval mae: 0.7994\n",
      "\t eval r2: -0.0078\n",
      "==============================\n"
     ]
    },
    {
     "name": "stderr",
     "output_type": "stream",
     "text": [
      "\n"
     ]
    },
    {
     "name": "stdout",
     "output_type": "stream",
     "text": [
      "Epoch 2 elapsed: 0.056s\n"
     ]
    },
    {
     "name": "stderr",
     "output_type": "stream",
     "text": [
      "eval_pred: 100%|███████████████████████████████| 15/15 [00:00<00:00, 592.72it/s]\n"
     ]
    },
    {
     "name": "stdout",
     "output_type": "stream",
     "text": [
      "\t eval rmse: 1.0022\n",
      "\t eval mae: 0.8041\n",
      "\t eval r2: -0.0280\n",
      "==============================\n",
      "Epoch 3 elapsed: 0.073s\n"
     ]
    },
    {
     "name": "stderr",
     "output_type": "stream",
     "text": [
      "eval_pred: 100%|███████████████████████████████| 15/15 [00:00<00:00, 448.75it/s]\n"
     ]
    },
    {
     "name": "stdout",
     "output_type": "stream",
     "text": [
      "\t eval rmse: 0.9991\n",
      "\t eval mae: 0.7988\n",
      "\t eval r2: -0.0218\n",
      "==============================\n",
      "Epoch 4 elapsed: 0.084s\n"
     ]
    },
    {
     "name": "stderr",
     "output_type": "stream",
     "text": [
      "eval_pred: 100%|███████████████████████████████| 15/15 [00:00<00:00, 525.19it/s]\n"
     ]
    },
    {
     "name": "stdout",
     "output_type": "stream",
     "text": [
      "\t eval rmse: 0.9941\n",
      "\t eval mae: 0.7926\n",
      "\t eval r2: -0.0115\n",
      "==============================\n",
      "Epoch 5 elapsed: 0.091s\n"
     ]
    },
    {
     "name": "stderr",
     "output_type": "stream",
     "text": [
      "eval_pred: 100%|███████████████████████████████| 15/15 [00:00<00:00, 871.76it/s]\n"
     ]
    },
    {
     "name": "stdout",
     "output_type": "stream",
     "text": [
      "\t eval rmse: 0.9907\n",
      "\t eval mae: 0.7883\n",
      "\t eval r2: -0.0045\n",
      "==============================\n",
      "Training start time: \u001b[35m2022-07-23 16:01:55\u001b[0m\n",
      "Epoch 1 elapsed: 0.071s\n"
     ]
    },
    {
     "name": "stderr",
     "output_type": "stream",
     "text": [
      "eval_pred: 100%|███████████████████████████████| 15/15 [00:00<00:00, 514.26it/s]"
     ]
    },
    {
     "name": "stdout",
     "output_type": "stream",
     "text": [
      "\t eval rmse: 0.9923\n",
      "\t eval mae: 0.7994\n",
      "\t eval r2: -0.0078\n",
      "==============================\n"
     ]
    },
    {
     "name": "stderr",
     "output_type": "stream",
     "text": [
      "\n"
     ]
    },
    {
     "name": "stdout",
     "output_type": "stream",
     "text": [
      "Epoch 2 elapsed: 0.089s\n"
     ]
    },
    {
     "name": "stderr",
     "output_type": "stream",
     "text": [
      "eval_pred: 100%|███████████████████████████████| 15/15 [00:00<00:00, 493.40it/s]\n"
     ]
    },
    {
     "name": "stdout",
     "output_type": "stream",
     "text": [
      "\t eval rmse: 1.0022\n",
      "\t eval mae: 0.8041\n",
      "\t eval r2: -0.0280\n",
      "==============================\n",
      "Epoch 3 elapsed: 0.087s\n"
     ]
    },
    {
     "name": "stderr",
     "output_type": "stream",
     "text": [
      "eval_pred: 100%|███████████████████████████████| 15/15 [00:00<00:00, 524.31it/s]\n"
     ]
    },
    {
     "name": "stdout",
     "output_type": "stream",
     "text": [
      "\t eval rmse: 0.9991\n",
      "\t eval mae: 0.7988\n",
      "\t eval r2: -0.0218\n",
      "==============================\n",
      "Epoch 4 elapsed: 0.069s\n"
     ]
    },
    {
     "name": "stderr",
     "output_type": "stream",
     "text": [
      "eval_pred: 100%|███████████████████████████████| 15/15 [00:00<00:00, 805.46it/s]\n"
     ]
    },
    {
     "name": "stdout",
     "output_type": "stream",
     "text": [
      "\t eval rmse: 0.9941\n",
      "\t eval mae: 0.7926\n",
      "\t eval r2: -0.0115\n",
      "==============================\n",
      "Epoch 5 elapsed: 0.097s\n"
     ]
    },
    {
     "name": "stderr",
     "output_type": "stream",
     "text": [
      "eval_pred: 100%|███████████████████████████████| 15/15 [00:00<00:00, 651.94it/s]\n"
     ]
    },
    {
     "name": "stdout",
     "output_type": "stream",
     "text": [
      "\t eval rmse: 0.9907\n",
      "\t eval mae: 0.7883\n",
      "\t eval r2: -0.0045\n",
      "==============================\n",
      "Training start time: \u001b[35m2022-07-23 16:01:56\u001b[0m\n",
      "Epoch 1 elapsed: 0.109s\n"
     ]
    },
    {
     "name": "stderr",
     "output_type": "stream",
     "text": [
      "eval_pred: 100%|███████████████████████████████| 15/15 [00:00<00:00, 610.18it/s]"
     ]
    },
    {
     "name": "stdout",
     "output_type": "stream",
     "text": [
      "\t eval rmse: 0.9886\n",
      "\t eval mae: 0.7973\n",
      "\t eval r2: -0.0004\n",
      "==============================\n"
     ]
    },
    {
     "name": "stderr",
     "output_type": "stream",
     "text": [
      "\n"
     ]
    },
    {
     "name": "stdout",
     "output_type": "stream",
     "text": [
      "Epoch 2 elapsed: 0.093s\n"
     ]
    },
    {
     "name": "stderr",
     "output_type": "stream",
     "text": [
      "eval_pred: 100%|███████████████████████████████| 15/15 [00:00<00:00, 792.31it/s]\n"
     ]
    },
    {
     "name": "stdout",
     "output_type": "stream",
     "text": [
      "\t eval rmse: 0.9996\n",
      "\t eval mae: 0.8018\n",
      "\t eval r2: -0.0229\n",
      "==============================\n",
      "Epoch 3 elapsed: 0.064s\n"
     ]
    },
    {
     "name": "stderr",
     "output_type": "stream",
     "text": [
      "eval_pred: 100%|███████████████████████████████| 15/15 [00:00<00:00, 791.17it/s]"
     ]
    },
    {
     "name": "stdout",
     "output_type": "stream",
     "text": [
      "\t eval rmse: 0.9947\n"
     ]
    },
    {
     "name": "stderr",
     "output_type": "stream",
     "text": [
      "\n"
     ]
    },
    {
     "name": "stdout",
     "output_type": "stream",
     "text": [
      "\t eval mae: 0.7954\n",
      "\t eval r2: -0.0128\n",
      "==============================\n",
      "Epoch 4 elapsed: 0.074s\n"
     ]
    },
    {
     "name": "stderr",
     "output_type": "stream",
     "text": [
      "eval_pred: 100%|███████████████████████████████| 15/15 [00:00<00:00, 856.45it/s]\n"
     ]
    },
    {
     "name": "stdout",
     "output_type": "stream",
     "text": [
      "\t eval rmse: 0.9894\n",
      "\t eval mae: 0.7892\n",
      "\t eval r2: -0.0020\n",
      "==============================\n",
      "Epoch 5 elapsed: 0.116s\n"
     ]
    },
    {
     "name": "stderr",
     "output_type": "stream",
     "text": [
      "eval_pred: 100%|███████████████████████████████| 15/15 [00:00<00:00, 850.36it/s]\n"
     ]
    },
    {
     "name": "stdout",
     "output_type": "stream",
     "text": [
      "\t eval rmse: 0.9863\n",
      "\t eval mae: 0.7854\n",
      "\t eval r2: 0.0043\n",
      "==============================\n",
      "Training start time: \u001b[35m2022-07-23 16:01:57\u001b[0m\n",
      "Epoch 1 elapsed: 0.075s\n"
     ]
    },
    {
     "name": "stderr",
     "output_type": "stream",
     "text": [
      "eval_pred: 100%|███████████████████████████████| 15/15 [00:00<00:00, 690.00it/s]"
     ]
    },
    {
     "name": "stdout",
     "output_type": "stream",
     "text": [
      "\t eval rmse: 0.9886\n",
      "\t eval mae: 0.7973\n",
      "\t eval r2: -0.0004\n",
      "==============================\n"
     ]
    },
    {
     "name": "stderr",
     "output_type": "stream",
     "text": [
      "\n"
     ]
    },
    {
     "name": "stdout",
     "output_type": "stream",
     "text": [
      "Epoch 2 elapsed: 0.060s\n"
     ]
    },
    {
     "name": "stderr",
     "output_type": "stream",
     "text": [
      "eval_pred: 100%|███████████████████████████████| 15/15 [00:00<00:00, 541.01it/s]\n"
     ]
    },
    {
     "name": "stdout",
     "output_type": "stream",
     "text": [
      "\t eval rmse: 0.9996\n",
      "\t eval mae: 0.8018\n",
      "\t eval r2: -0.0229\n",
      "==============================\n",
      "Epoch 3 elapsed: 0.084s\n"
     ]
    },
    {
     "name": "stderr",
     "output_type": "stream",
     "text": [
      "eval_pred: 100%|███████████████████████████████| 15/15 [00:00<00:00, 646.15it/s]\n"
     ]
    },
    {
     "name": "stdout",
     "output_type": "stream",
     "text": [
      "\t eval rmse: 0.9947\n",
      "\t eval mae: 0.7954\n",
      "\t eval r2: -0.0128\n",
      "==============================\n",
      "Epoch 4 elapsed: 0.071s\n"
     ]
    },
    {
     "name": "stderr",
     "output_type": "stream",
     "text": [
      "eval_pred: 100%|███████████████████████████████| 15/15 [00:00<00:00, 522.24it/s]\n"
     ]
    },
    {
     "name": "stdout",
     "output_type": "stream",
     "text": [
      "\t eval rmse: 0.9894\n",
      "\t eval mae: 0.7892\n",
      "\t eval r2: -0.0020\n",
      "==============================\n",
      "Epoch 5 elapsed: 0.098s\n"
     ]
    },
    {
     "name": "stderr",
     "output_type": "stream",
     "text": [
      "eval_pred: 100%|███████████████████████████████| 15/15 [00:00<00:00, 552.78it/s]\n"
     ]
    },
    {
     "name": "stdout",
     "output_type": "stream",
     "text": [
      "\t eval rmse: 0.9863\n",
      "\t eval mae: 0.7854\n",
      "\t eval r2: 0.0043\n",
      "==============================\n",
      "Training start time: \u001b[35m2022-07-23 16:01:58\u001b[0m\n",
      "Epoch 1 elapsed: 0.063s\n"
     ]
    },
    {
     "name": "stderr",
     "output_type": "stream",
     "text": [
      "eval_pred: 100%|███████████████████████████████| 15/15 [00:00<00:00, 858.66it/s]"
     ]
    },
    {
     "name": "stdout",
     "output_type": "stream",
     "text": [
      "\t eval rmse: 0.9886\n",
      "\t eval mae: 0.7973\n",
      "\t eval r2: -0.0004\n",
      "==============================\n"
     ]
    },
    {
     "name": "stderr",
     "output_type": "stream",
     "text": [
      "\n"
     ]
    },
    {
     "name": "stdout",
     "output_type": "stream",
     "text": [
      "Epoch 2 elapsed: 0.070s\n"
     ]
    },
    {
     "name": "stderr",
     "output_type": "stream",
     "text": [
      "eval_pred: 100%|███████████████████████████████| 15/15 [00:00<00:00, 480.05it/s]\n"
     ]
    },
    {
     "name": "stdout",
     "output_type": "stream",
     "text": [
      "\t eval rmse: 0.9996\n",
      "\t eval mae: 0.8018\n",
      "\t eval r2: -0.0229\n",
      "==============================\n",
      "Epoch 3 elapsed: 0.065s\n"
     ]
    },
    {
     "name": "stderr",
     "output_type": "stream",
     "text": [
      "eval_pred: 100%|███████████████████████████████| 15/15 [00:00<00:00, 718.33it/s]\n"
     ]
    },
    {
     "name": "stdout",
     "output_type": "stream",
     "text": [
      "\t eval rmse: 0.9947\n",
      "\t eval mae: 0.7954\n",
      "\t eval r2: -0.0128\n",
      "==============================\n",
      "Epoch 4 elapsed: 0.080s\n"
     ]
    },
    {
     "name": "stderr",
     "output_type": "stream",
     "text": [
      "eval_pred: 100%|███████████████████████████████| 15/15 [00:00<00:00, 642.25it/s]\n"
     ]
    },
    {
     "name": "stdout",
     "output_type": "stream",
     "text": [
      "\t eval rmse: 0.9894\n",
      "\t eval mae: 0.7892\n",
      "\t eval r2: -0.0020\n",
      "==============================\n",
      "Epoch 5 elapsed: 0.070s\n"
     ]
    },
    {
     "name": "stderr",
     "output_type": "stream",
     "text": [
      "eval_pred: 100%|███████████████████████████████| 15/15 [00:00<00:00, 610.44it/s]\n"
     ]
    },
    {
     "name": "stdout",
     "output_type": "stream",
     "text": [
      "\t eval rmse: 0.9863\n",
      "\t eval mae: 0.7854\n",
      "\t eval r2: 0.0043\n",
      "==============================\n",
      "Training start time: \u001b[35m2022-07-23 16:02:00\u001b[0m\n",
      "Epoch 1 elapsed: 0.095s\n"
     ]
    },
    {
     "name": "stderr",
     "output_type": "stream",
     "text": [
      "eval_pred: 100%|███████████████████████████████| 15/15 [00:00<00:00, 667.97it/s]"
     ]
    },
    {
     "name": "stdout",
     "output_type": "stream",
     "text": [
      "\t eval rmse: 0.9886\n",
      "\t eval mae: 0.7973\n",
      "\t eval r2: -0.0004\n",
      "==============================\n"
     ]
    },
    {
     "name": "stderr",
     "output_type": "stream",
     "text": [
      "\n"
     ]
    },
    {
     "name": "stdout",
     "output_type": "stream",
     "text": [
      "Epoch 2 elapsed: 0.104s\n"
     ]
    },
    {
     "name": "stderr",
     "output_type": "stream",
     "text": [
      "eval_pred: 100%|███████████████████████████████| 15/15 [00:00<00:00, 641.16it/s]\n"
     ]
    },
    {
     "name": "stdout",
     "output_type": "stream",
     "text": [
      "\t eval rmse: 0.9996\n",
      "\t eval mae: 0.8018\n",
      "\t eval r2: -0.0229\n",
      "==============================\n",
      "Epoch 3 elapsed: 0.080s\n"
     ]
    },
    {
     "name": "stderr",
     "output_type": "stream",
     "text": [
      "eval_pred: 100%|███████████████████████████████| 15/15 [00:00<00:00, 760.43it/s]\n"
     ]
    },
    {
     "name": "stdout",
     "output_type": "stream",
     "text": [
      "\t eval rmse: 0.9947\n",
      "\t eval mae: 0.7954\n",
      "\t eval r2: -0.0128\n",
      "==============================\n",
      "Epoch 4 elapsed: 0.128s\n"
     ]
    },
    {
     "name": "stderr",
     "output_type": "stream",
     "text": [
      "eval_pred: 100%|███████████████████████████████| 15/15 [00:00<00:00, 714.49it/s]"
     ]
    },
    {
     "name": "stdout",
     "output_type": "stream",
     "text": [
      "\t eval rmse: 0.9894\n",
      "\t eval mae: 0.7892\n"
     ]
    },
    {
     "name": "stderr",
     "output_type": "stream",
     "text": [
      "\n"
     ]
    },
    {
     "name": "stdout",
     "output_type": "stream",
     "text": [
      "\t eval r2: -0.0020\n",
      "==============================\n",
      "Epoch 5 elapsed: 0.068s\n"
     ]
    },
    {
     "name": "stderr",
     "output_type": "stream",
     "text": [
      "eval_pred: 100%|███████████████████████████████| 15/15 [00:00<00:00, 645.50it/s]\n"
     ]
    },
    {
     "name": "stdout",
     "output_type": "stream",
     "text": [
      "\t eval rmse: 0.9863\n",
      "\t eval mae: 0.7854\n",
      "\t eval r2: 0.0043\n",
      "==============================\n",
      "Training start time: \u001b[35m2022-07-23 16:02:01\u001b[0m\n",
      "Epoch 1 elapsed: 0.058s\n"
     ]
    },
    {
     "name": "stderr",
     "output_type": "stream",
     "text": [
      "eval_pred: 100%|███████████████████████████████| 15/15 [00:00<00:00, 482.97it/s]"
     ]
    },
    {
     "name": "stdout",
     "output_type": "stream",
     "text": [
      "\t eval rmse: 0.9886\n",
      "\t eval mae: 0.7973\n",
      "\t eval r2: -0.0004\n",
      "==============================\n"
     ]
    },
    {
     "name": "stderr",
     "output_type": "stream",
     "text": [
      "\n"
     ]
    },
    {
     "name": "stdout",
     "output_type": "stream",
     "text": [
      "Epoch 2 elapsed: 0.077s\n"
     ]
    },
    {
     "name": "stderr",
     "output_type": "stream",
     "text": [
      "eval_pred: 100%|███████████████████████████████| 15/15 [00:00<00:00, 483.13it/s]\n"
     ]
    },
    {
     "name": "stdout",
     "output_type": "stream",
     "text": [
      "\t eval rmse: 0.9996\n",
      "\t eval mae: 0.8018\n",
      "\t eval r2: -0.0229\n",
      "==============================\n",
      "Epoch 3 elapsed: 0.082s\n"
     ]
    },
    {
     "name": "stderr",
     "output_type": "stream",
     "text": [
      "eval_pred: 100%|███████████████████████████████| 15/15 [00:00<00:00, 575.95it/s]\n"
     ]
    },
    {
     "name": "stdout",
     "output_type": "stream",
     "text": [
      "\t eval rmse: 0.9947\n",
      "\t eval mae: 0.7954\n",
      "\t eval r2: -0.0128\n",
      "==============================\n",
      "Epoch 4 elapsed: 0.070s\n"
     ]
    },
    {
     "name": "stderr",
     "output_type": "stream",
     "text": [
      "eval_pred: 100%|███████████████████████████████| 15/15 [00:00<00:00, 458.71it/s]\n"
     ]
    },
    {
     "name": "stdout",
     "output_type": "stream",
     "text": [
      "\t eval rmse: 0.9894\n",
      "\t eval mae: 0.7892\n",
      "\t eval r2: -0.0020\n",
      "==============================\n",
      "Epoch 5 elapsed: 0.093s\n"
     ]
    },
    {
     "name": "stderr",
     "output_type": "stream",
     "text": [
      "eval_pred: 100%|███████████████████████████████| 15/15 [00:00<00:00, 711.87it/s]\n"
     ]
    },
    {
     "name": "stdout",
     "output_type": "stream",
     "text": [
      "\t eval rmse: 0.9863\n",
      "\t eval mae: 0.7854\n",
      "\t eval r2: 0.0043\n",
      "==============================\n",
      "Training start time: \u001b[35m2022-07-23 16:02:02\u001b[0m\n",
      "Epoch 1 elapsed: 0.126s\n"
     ]
    },
    {
     "name": "stderr",
     "output_type": "stream",
     "text": [
      "eval_pred: 100%|███████████████████████████████| 15/15 [00:00<00:00, 531.28it/s]\n"
     ]
    },
    {
     "name": "stdout",
     "output_type": "stream",
     "text": [
      "\t eval rmse: 1.0239\n",
      "\t eval mae: 0.8199\n",
      "\t eval r2: -0.0732\n",
      "==============================\n",
      "Epoch 2 elapsed: 0.100s\n"
     ]
    },
    {
     "name": "stderr",
     "output_type": "stream",
     "text": [
      "eval_pred: 100%|███████████████████████████████| 15/15 [00:00<00:00, 564.67it/s]\n"
     ]
    },
    {
     "name": "stdout",
     "output_type": "stream",
     "text": [
      "\t eval rmse: 1.0327\n",
      "\t eval mae: 0.8237\n",
      "\t eval r2: -0.0915\n",
      "==============================\n",
      "Epoch 3 elapsed: 0.116s\n"
     ]
    },
    {
     "name": "stderr",
     "output_type": "stream",
     "text": [
      "eval_pred: 100%|███████████████████████████████| 15/15 [00:00<00:00, 744.84it/s]\n"
     ]
    },
    {
     "name": "stdout",
     "output_type": "stream",
     "text": [
      "\t eval rmse: 1.0322\n",
      "\t eval mae: 0.8205\n",
      "\t eval r2: -0.0906\n",
      "==============================\n",
      "Epoch 4 elapsed: 0.139s\n"
     ]
    },
    {
     "name": "stderr",
     "output_type": "stream",
     "text": [
      "eval_pred: 100%|███████████████████████████████| 15/15 [00:00<00:00, 591.41it/s]"
     ]
    },
    {
     "name": "stdout",
     "output_type": "stream",
     "text": [
      "\t eval rmse: 1.0299\n",
      "\t eval mae: 0.8162\n",
      "\t eval r2: -0.0857\n",
      "==============================\n"
     ]
    },
    {
     "name": "stderr",
     "output_type": "stream",
     "text": [
      "\n"
     ]
    },
    {
     "name": "stdout",
     "output_type": "stream",
     "text": [
      "Epoch 5 elapsed: 0.138s\n"
     ]
    },
    {
     "name": "stderr",
     "output_type": "stream",
     "text": [
      "eval_pred: 100%|███████████████████████████████| 15/15 [00:00<00:00, 734.99it/s]"
     ]
    },
    {
     "name": "stdout",
     "output_type": "stream",
     "text": [
      "\t eval rmse: 1.0274\n",
      "\t eval mae: 0.8121\n",
      "\t eval r2: -0.0804\n",
      "==============================\n"
     ]
    },
    {
     "name": "stderr",
     "output_type": "stream",
     "text": [
      "\n"
     ]
    },
    {
     "name": "stdout",
     "output_type": "stream",
     "text": [
      "Training start time: \u001b[35m2022-07-23 16:02:04\u001b[0m\n",
      "Epoch 1 elapsed: 0.125s\n"
     ]
    },
    {
     "name": "stderr",
     "output_type": "stream",
     "text": [
      "eval_pred: 100%|███████████████████████████████| 15/15 [00:00<00:00, 384.61it/s]"
     ]
    },
    {
     "name": "stdout",
     "output_type": "stream",
     "text": [
      "\t eval rmse: 1.0239\n"
     ]
    },
    {
     "name": "stderr",
     "output_type": "stream",
     "text": [
      "\n"
     ]
    },
    {
     "name": "stdout",
     "output_type": "stream",
     "text": [
      "\t eval mae: 0.8199\n",
      "\t eval r2: -0.0732\n",
      "==============================\n",
      "Epoch 2 elapsed: 0.137s\n"
     ]
    },
    {
     "name": "stderr",
     "output_type": "stream",
     "text": [
      "eval_pred: 100%|███████████████████████████████| 15/15 [00:00<00:00, 612.89it/s]"
     ]
    },
    {
     "name": "stdout",
     "output_type": "stream",
     "text": [
      "\t eval rmse: 1.0327\n"
     ]
    },
    {
     "name": "stderr",
     "output_type": "stream",
     "text": [
      "\n"
     ]
    },
    {
     "name": "stdout",
     "output_type": "stream",
     "text": [
      "\t eval mae: 0.8237\n",
      "\t eval r2: -0.0915\n",
      "==============================\n",
      "Epoch 3 elapsed: 0.114s\n"
     ]
    },
    {
     "name": "stderr",
     "output_type": "stream",
     "text": [
      "eval_pred: 100%|███████████████████████████████| 15/15 [00:00<00:00, 569.56it/s]"
     ]
    },
    {
     "name": "stdout",
     "output_type": "stream",
     "text": [
      "\t eval rmse: 1.0322\n"
     ]
    },
    {
     "name": "stderr",
     "output_type": "stream",
     "text": [
      "\n"
     ]
    },
    {
     "name": "stdout",
     "output_type": "stream",
     "text": [
      "\t eval mae: 0.8205\n",
      "\t eval r2: -0.0906\n",
      "==============================\n",
      "Epoch 4 elapsed: 0.132s\n"
     ]
    },
    {
     "name": "stderr",
     "output_type": "stream",
     "text": [
      "eval_pred: 100%|███████████████████████████████| 15/15 [00:00<00:00, 759.84it/s]"
     ]
    },
    {
     "name": "stdout",
     "output_type": "stream",
     "text": [
      "\t eval rmse: 1.0299\n"
     ]
    },
    {
     "name": "stderr",
     "output_type": "stream",
     "text": [
      "\n"
     ]
    },
    {
     "name": "stdout",
     "output_type": "stream",
     "text": [
      "\t eval mae: 0.8162\n",
      "\t eval r2: -0.0857\n",
      "==============================\n",
      "Epoch 5 elapsed: 0.123s\n"
     ]
    },
    {
     "name": "stderr",
     "output_type": "stream",
     "text": [
      "eval_pred: 100%|███████████████████████████████| 15/15 [00:00<00:00, 463.85it/s]"
     ]
    },
    {
     "name": "stdout",
     "output_type": "stream",
     "text": [
      "\t eval rmse: 1.0274\n"
     ]
    },
    {
     "name": "stderr",
     "output_type": "stream",
     "text": [
      "\n"
     ]
    },
    {
     "name": "stdout",
     "output_type": "stream",
     "text": [
      "\t eval mae: 0.8121\n",
      "\t eval r2: -0.0804\n",
      "==============================\n",
      "Training start time: \u001b[35m2022-07-23 16:02:05\u001b[0m\n",
      "Epoch 1 elapsed: 0.122s\n"
     ]
    },
    {
     "name": "stderr",
     "output_type": "stream",
     "text": [
      "eval_pred: 100%|███████████████████████████████| 15/15 [00:00<00:00, 521.32it/s]"
     ]
    },
    {
     "name": "stdout",
     "output_type": "stream",
     "text": [
      "\t eval rmse: 1.0239\n",
      "\t eval mae: 0.8199\n"
     ]
    },
    {
     "name": "stderr",
     "output_type": "stream",
     "text": [
      "\n"
     ]
    },
    {
     "name": "stdout",
     "output_type": "stream",
     "text": [
      "\t eval r2: -0.0732\n",
      "==============================\n",
      "Epoch 2 elapsed: 0.150s\n"
     ]
    },
    {
     "name": "stderr",
     "output_type": "stream",
     "text": [
      "eval_pred: 100%|███████████████████████████████| 15/15 [00:00<00:00, 650.23it/s]"
     ]
    },
    {
     "name": "stdout",
     "output_type": "stream",
     "text": [
      "\t eval rmse: 1.0327\n"
     ]
    },
    {
     "name": "stderr",
     "output_type": "stream",
     "text": [
      "\n"
     ]
    },
    {
     "name": "stdout",
     "output_type": "stream",
     "text": [
      "\t eval mae: 0.8237\n",
      "\t eval r2: -0.0915\n",
      "==============================\n",
      "Epoch 3 elapsed: 0.123s\n"
     ]
    },
    {
     "name": "stderr",
     "output_type": "stream",
     "text": [
      "eval_pred: 100%|███████████████████████████████| 15/15 [00:00<00:00, 464.78it/s]\n"
     ]
    },
    {
     "name": "stdout",
     "output_type": "stream",
     "text": [
      "\t eval rmse: 1.0322\n",
      "\t eval mae: 0.8205\n",
      "\t eval r2: -0.0906\n",
      "==============================\n",
      "Epoch 4 elapsed: 0.119s\n"
     ]
    },
    {
     "name": "stderr",
     "output_type": "stream",
     "text": [
      "eval_pred: 100%|███████████████████████████████| 15/15 [00:00<00:00, 390.77it/s]\n"
     ]
    },
    {
     "name": "stdout",
     "output_type": "stream",
     "text": [
      "\t eval rmse: 1.0299\n",
      "\t eval mae: 0.8162\n",
      "\t eval r2: -0.0857\n",
      "==============================\n",
      "Epoch 5 elapsed: 0.122s\n"
     ]
    },
    {
     "name": "stderr",
     "output_type": "stream",
     "text": [
      "eval_pred: 100%|███████████████████████████████| 15/15 [00:00<00:00, 569.24it/s]\n"
     ]
    },
    {
     "name": "stdout",
     "output_type": "stream",
     "text": [
      "\t eval rmse: 1.0274\n",
      "\t eval mae: 0.8121\n",
      "\t eval r2: -0.0804\n",
      "==============================\n",
      "Training start time: \u001b[35m2022-07-23 16:02:07\u001b[0m\n",
      "Epoch 1 elapsed: 0.119s\n"
     ]
    },
    {
     "name": "stderr",
     "output_type": "stream",
     "text": [
      "eval_pred: 100%|███████████████████████████████| 15/15 [00:00<00:00, 560.75it/s]"
     ]
    },
    {
     "name": "stdout",
     "output_type": "stream",
     "text": [
      "\t eval rmse: 1.0239\n",
      "\t eval mae: 0.8199\n"
     ]
    },
    {
     "name": "stderr",
     "output_type": "stream",
     "text": [
      "\n"
     ]
    },
    {
     "name": "stdout",
     "output_type": "stream",
     "text": [
      "\t eval r2: -0.0732\n",
      "==============================\n",
      "Epoch 2 elapsed: 0.151s\n"
     ]
    },
    {
     "name": "stderr",
     "output_type": "stream",
     "text": [
      "eval_pred: 100%|███████████████████████████████| 15/15 [00:00<00:00, 373.52it/s]\n"
     ]
    },
    {
     "name": "stdout",
     "output_type": "stream",
     "text": [
      "\t eval rmse: 1.0327\n",
      "\t eval mae: 0.8237\n",
      "\t eval r2: -0.0915\n",
      "==============================\n",
      "Epoch 3 elapsed: 0.128s\n"
     ]
    },
    {
     "name": "stderr",
     "output_type": "stream",
     "text": [
      "eval_pred: 100%|███████████████████████████████| 15/15 [00:00<00:00, 513.10it/s]\n"
     ]
    },
    {
     "name": "stdout",
     "output_type": "stream",
     "text": [
      "\t eval rmse: 1.0322\n",
      "\t eval mae: 0.8205\n",
      "\t eval r2: -0.0906\n",
      "==============================\n",
      "Epoch 4 elapsed: 0.109s\n"
     ]
    },
    {
     "name": "stderr",
     "output_type": "stream",
     "text": [
      "eval_pred: 100%|███████████████████████████████| 15/15 [00:00<00:00, 567.22it/s]\n"
     ]
    },
    {
     "name": "stdout",
     "output_type": "stream",
     "text": [
      "\t eval rmse: 1.0299\n",
      "\t eval mae: 0.8162\n",
      "\t eval r2: -0.0857\n",
      "==============================\n",
      "Epoch 5 elapsed: 0.141s\n"
     ]
    },
    {
     "name": "stderr",
     "output_type": "stream",
     "text": [
      "eval_pred: 100%|███████████████████████████████| 15/15 [00:00<00:00, 539.62it/s]\n"
     ]
    },
    {
     "name": "stdout",
     "output_type": "stream",
     "text": [
      "\t eval rmse: 1.0274\n",
      "\t eval mae: 0.8121\n",
      "\t eval r2: -0.0804\n",
      "==============================\n",
      "Training start time: \u001b[35m2022-07-23 16:02:08\u001b[0m\n",
      "Epoch 1 elapsed: 0.112s\n"
     ]
    },
    {
     "name": "stderr",
     "output_type": "stream",
     "text": [
      "eval_pred: 100%|███████████████████████████████| 15/15 [00:00<00:00, 869.24it/s]"
     ]
    },
    {
     "name": "stdout",
     "output_type": "stream",
     "text": [
      "\t eval rmse: 1.0239\n",
      "\t eval mae: 0.8199\n",
      "\t eval r2: -0.0732\n",
      "==============================\n"
     ]
    },
    {
     "name": "stderr",
     "output_type": "stream",
     "text": [
      "\n"
     ]
    },
    {
     "name": "stdout",
     "output_type": "stream",
     "text": [
      "Epoch 2 elapsed: 0.141s\n"
     ]
    },
    {
     "name": "stderr",
     "output_type": "stream",
     "text": [
      "eval_pred: 100%|███████████████████████████████| 15/15 [00:00<00:00, 661.22it/s]\n"
     ]
    },
    {
     "name": "stdout",
     "output_type": "stream",
     "text": [
      "\t eval rmse: 1.0327\n",
      "\t eval mae: 0.8237\n",
      "\t eval r2: -0.0915\n",
      "==============================\n",
      "Epoch 3 elapsed: 0.116s\n"
     ]
    },
    {
     "name": "stderr",
     "output_type": "stream",
     "text": [
      "eval_pred: 100%|███████████████████████████████| 15/15 [00:00<00:00, 606.46it/s]\n"
     ]
    },
    {
     "name": "stdout",
     "output_type": "stream",
     "text": [
      "\t eval rmse: 1.0322\n",
      "\t eval mae: 0.8205\n",
      "\t eval r2: -0.0906\n",
      "==============================\n",
      "Epoch 4 elapsed: 0.140s\n"
     ]
    },
    {
     "name": "stderr",
     "output_type": "stream",
     "text": [
      "eval_pred: 100%|███████████████████████████████| 15/15 [00:00<00:00, 641.52it/s]\n"
     ]
    },
    {
     "name": "stdout",
     "output_type": "stream",
     "text": [
      "\t eval rmse: 1.0299\n",
      "\t eval mae: 0.8162\n",
      "\t eval r2: -0.0857\n",
      "==============================\n",
      "Epoch 5 elapsed: 0.115s\n"
     ]
    },
    {
     "name": "stderr",
     "output_type": "stream",
     "text": [
      "eval_pred: 100%|███████████████████████████████| 15/15 [00:00<00:00, 718.45it/s]\n"
     ]
    },
    {
     "name": "stdout",
     "output_type": "stream",
     "text": [
      "\t eval rmse: 1.0274\n",
      "\t eval mae: 0.8121\n",
      "\t eval r2: -0.0804\n",
      "==============================\n",
      "Training start time: \u001b[35m2022-07-23 16:02:09\u001b[0m\n",
      "Epoch 1 elapsed: 0.139s\n"
     ]
    },
    {
     "name": "stderr",
     "output_type": "stream",
     "text": [
      "eval_pred: 100%|███████████████████████████████| 15/15 [00:00<00:00, 405.11it/s]\n"
     ]
    },
    {
     "name": "stdout",
     "output_type": "stream",
     "text": [
      "\t eval rmse: 1.0195\n",
      "\t eval mae: 0.8164\n",
      "\t eval r2: -0.0638\n",
      "==============================\n",
      "Epoch 2 elapsed: 0.121s\n"
     ]
    },
    {
     "name": "stderr",
     "output_type": "stream",
     "text": [
      "eval_pred: 100%|███████████████████████████████| 15/15 [00:00<00:00, 566.80it/s]\n"
     ]
    },
    {
     "name": "stdout",
     "output_type": "stream",
     "text": [
      "\t eval rmse: 1.0336\n",
      "\t eval mae: 0.8242\n",
      "\t eval r2: -0.0935\n",
      "==============================\n",
      "Epoch 3 elapsed: 0.151s\n"
     ]
    },
    {
     "name": "stderr",
     "output_type": "stream",
     "text": [
      "eval_pred: 100%|███████████████████████████████| 15/15 [00:00<00:00, 587.26it/s]\n"
     ]
    },
    {
     "name": "stdout",
     "output_type": "stream",
     "text": [
      "\t eval rmse: 1.0328\n",
      "\t eval mae: 0.8208\n",
      "\t eval r2: -0.0919\n",
      "==============================\n",
      "Epoch 4 elapsed: 0.130s\n"
     ]
    },
    {
     "name": "stderr",
     "output_type": "stream",
     "text": [
      "eval_pred: 100%|███████████████████████████████| 15/15 [00:00<00:00, 559.40it/s]\n"
     ]
    },
    {
     "name": "stdout",
     "output_type": "stream",
     "text": [
      "\t eval rmse: 1.0304\n",
      "\t eval mae: 0.8165\n",
      "\t eval r2: -0.0868\n",
      "==============================\n",
      "Epoch 5 elapsed: 0.112s\n"
     ]
    },
    {
     "name": "stderr",
     "output_type": "stream",
     "text": [
      "eval_pred: 100%|███████████████████████████████| 15/15 [00:00<00:00, 420.90it/s]\n"
     ]
    },
    {
     "name": "stdout",
     "output_type": "stream",
     "text": [
      "\t eval rmse: 1.0278\n",
      "\t eval mae: 0.8124\n",
      "\t eval r2: -0.0813\n",
      "==============================\n",
      "Training start time: \u001b[35m2022-07-23 16:02:11\u001b[0m\n",
      "Epoch 1 elapsed: 0.100s\n"
     ]
    },
    {
     "name": "stderr",
     "output_type": "stream",
     "text": [
      "eval_pred: 100%|███████████████████████████████| 15/15 [00:00<00:00, 636.87it/s]"
     ]
    },
    {
     "name": "stdout",
     "output_type": "stream",
     "text": [
      "\t eval rmse: 1.0195\n",
      "\t eval mae: 0.8164\n",
      "\t eval r2: -0.0638\n",
      "==============================\n"
     ]
    },
    {
     "name": "stderr",
     "output_type": "stream",
     "text": [
      "\n"
     ]
    },
    {
     "name": "stdout",
     "output_type": "stream",
     "text": [
      "Epoch 2 elapsed: 0.150s\n"
     ]
    },
    {
     "name": "stderr",
     "output_type": "stream",
     "text": [
      "eval_pred: 100%|███████████████████████████████| 15/15 [00:00<00:00, 550.78it/s]\n"
     ]
    },
    {
     "name": "stdout",
     "output_type": "stream",
     "text": [
      "\t eval rmse: 1.0336\n",
      "\t eval mae: 0.8242\n",
      "\t eval r2: -0.0935\n",
      "==============================\n",
      "Epoch 3 elapsed: 0.100s\n"
     ]
    },
    {
     "name": "stderr",
     "output_type": "stream",
     "text": [
      "eval_pred: 100%|███████████████████████████████| 15/15 [00:00<00:00, 448.89it/s]\n"
     ]
    },
    {
     "name": "stdout",
     "output_type": "stream",
     "text": [
      "\t eval rmse: 1.0328\n",
      "\t eval mae: 0.8208\n",
      "\t eval r2: -0.0919\n",
      "==============================\n",
      "Epoch 4 elapsed: 0.114s\n"
     ]
    },
    {
     "name": "stderr",
     "output_type": "stream",
     "text": [
      "eval_pred: 100%|███████████████████████████████| 15/15 [00:00<00:00, 741.27it/s]\n"
     ]
    },
    {
     "name": "stdout",
     "output_type": "stream",
     "text": [
      "\t eval rmse: 1.0304\n",
      "\t eval mae: 0.8165\n",
      "\t eval r2: -0.0868\n",
      "==============================\n",
      "Epoch 5 elapsed: 0.139s\n"
     ]
    },
    {
     "name": "stderr",
     "output_type": "stream",
     "text": [
      "eval_pred: 100%|███████████████████████████████| 15/15 [00:00<00:00, 489.74it/s]"
     ]
    },
    {
     "name": "stdout",
     "output_type": "stream",
     "text": [
      "\t eval rmse: 1.0278\n",
      "\t eval mae: 0.8124\n",
      "\t eval r2: -0.0813\n",
      "==============================\n"
     ]
    },
    {
     "name": "stderr",
     "output_type": "stream",
     "text": [
      "\n"
     ]
    },
    {
     "name": "stdout",
     "output_type": "stream",
     "text": [
      "Training start time: \u001b[35m2022-07-23 16:02:12\u001b[0m\n",
      "Epoch 1 elapsed: 0.153s\n"
     ]
    },
    {
     "name": "stderr",
     "output_type": "stream",
     "text": [
      "eval_pred: 100%|███████████████████████████████| 15/15 [00:00<00:00, 582.10it/s]\n"
     ]
    },
    {
     "name": "stdout",
     "output_type": "stream",
     "text": [
      "\t eval rmse: 1.0195\n",
      "\t eval mae: 0.8164\n",
      "\t eval r2: -0.0638\n",
      "==============================\n",
      "Epoch 2 elapsed: 0.113s\n"
     ]
    },
    {
     "name": "stderr",
     "output_type": "stream",
     "text": [
      "eval_pred: 100%|███████████████████████████████| 15/15 [00:00<00:00, 576.12it/s]\n"
     ]
    },
    {
     "name": "stdout",
     "output_type": "stream",
     "text": [
      "\t eval rmse: 1.0336\n",
      "\t eval mae: 0.8242\n",
      "\t eval r2: -0.0935\n",
      "==============================\n",
      "Epoch 3 elapsed: 0.126s\n"
     ]
    },
    {
     "name": "stderr",
     "output_type": "stream",
     "text": [
      "eval_pred: 100%|███████████████████████████████| 15/15 [00:00<00:00, 406.86it/s]\n"
     ]
    },
    {
     "name": "stdout",
     "output_type": "stream",
     "text": [
      "\t eval rmse: 1.0328\n",
      "\t eval mae: 0.8208\n",
      "\t eval r2: -0.0919\n",
      "==============================\n",
      "Epoch 4 elapsed: 0.126s\n"
     ]
    },
    {
     "name": "stderr",
     "output_type": "stream",
     "text": [
      "eval_pred: 100%|███████████████████████████████| 15/15 [00:00<00:00, 680.32it/s]"
     ]
    },
    {
     "name": "stdout",
     "output_type": "stream",
     "text": [
      "\t eval rmse: 1.0304\n"
     ]
    },
    {
     "name": "stderr",
     "output_type": "stream",
     "text": [
      "\n"
     ]
    },
    {
     "name": "stdout",
     "output_type": "stream",
     "text": [
      "\t eval mae: 0.8165\n",
      "\t eval r2: -0.0868\n",
      "==============================\n",
      "Epoch 5 elapsed: 0.118s\n"
     ]
    },
    {
     "name": "stderr",
     "output_type": "stream",
     "text": [
      "eval_pred: 100%|███████████████████████████████| 15/15 [00:00<00:00, 549.76it/s]"
     ]
    },
    {
     "name": "stdout",
     "output_type": "stream",
     "text": [
      "\t eval rmse: 1.0278\n"
     ]
    },
    {
     "name": "stderr",
     "output_type": "stream",
     "text": [
      "\n"
     ]
    },
    {
     "name": "stdout",
     "output_type": "stream",
     "text": [
      "\t eval mae: 0.8124\n",
      "\t eval r2: -0.0813\n",
      "==============================\n",
      "Training start time: \u001b[35m2022-07-23 16:02:14\u001b[0m\n",
      "Epoch 1 elapsed: 0.141s\n"
     ]
    },
    {
     "name": "stderr",
     "output_type": "stream",
     "text": [
      "eval_pred: 100%|███████████████████████████████| 15/15 [00:00<00:00, 634.72it/s]"
     ]
    },
    {
     "name": "stdout",
     "output_type": "stream",
     "text": [
      "\t eval rmse: 1.0195\n"
     ]
    },
    {
     "name": "stderr",
     "output_type": "stream",
     "text": [
      "\n"
     ]
    },
    {
     "name": "stdout",
     "output_type": "stream",
     "text": [
      "\t eval mae: 0.8164\n",
      "\t eval r2: -0.0638\n",
      "==============================\n",
      "Epoch 2 elapsed: 0.132s\n"
     ]
    },
    {
     "name": "stderr",
     "output_type": "stream",
     "text": [
      "eval_pred: 100%|███████████████████████████████| 15/15 [00:00<00:00, 625.50it/s]"
     ]
    },
    {
     "name": "stdout",
     "output_type": "stream",
     "text": [
      "\t eval rmse: 1.0336\n"
     ]
    },
    {
     "name": "stderr",
     "output_type": "stream",
     "text": [
      "\n"
     ]
    },
    {
     "name": "stdout",
     "output_type": "stream",
     "text": [
      "\t eval mae: 0.8242\n",
      "\t eval r2: -0.0935\n",
      "==============================\n",
      "Epoch 3 elapsed: 0.107s\n"
     ]
    },
    {
     "name": "stderr",
     "output_type": "stream",
     "text": [
      "eval_pred: 100%|███████████████████████████████| 15/15 [00:00<00:00, 644.85it/s]\n"
     ]
    },
    {
     "name": "stdout",
     "output_type": "stream",
     "text": [
      "\t eval rmse: 1.0328\n",
      "\t eval mae: 0.8208\n",
      "\t eval r2: -0.0919\n",
      "==============================\n",
      "Epoch 4 elapsed: 0.147s\n"
     ]
    },
    {
     "name": "stderr",
     "output_type": "stream",
     "text": [
      "eval_pred: 100%|███████████████████████████████| 15/15 [00:00<00:00, 627.38it/s]\n"
     ]
    },
    {
     "name": "stdout",
     "output_type": "stream",
     "text": [
      "\t eval rmse: 1.0304\n",
      "\t eval mae: 0.8165\n",
      "\t eval r2: -0.0868\n",
      "==============================\n",
      "Epoch 5 elapsed: 0.123s\n"
     ]
    },
    {
     "name": "stderr",
     "output_type": "stream",
     "text": [
      "eval_pred: 100%|███████████████████████████████| 15/15 [00:00<00:00, 602.13it/s]"
     ]
    },
    {
     "name": "stdout",
     "output_type": "stream",
     "text": [
      "\t eval rmse: 1.0278\n"
     ]
    },
    {
     "name": "stderr",
     "output_type": "stream",
     "text": [
      "\n"
     ]
    },
    {
     "name": "stdout",
     "output_type": "stream",
     "text": [
      "\t eval mae: 0.8124\n",
      "\t eval r2: -0.0813\n",
      "==============================\n",
      "Training start time: \u001b[35m2022-07-23 16:02:15\u001b[0m\n",
      "Epoch 1 elapsed: 0.108s\n"
     ]
    },
    {
     "name": "stderr",
     "output_type": "stream",
     "text": [
      "eval_pred: 100%|███████████████████████████████| 15/15 [00:00<00:00, 739.15it/s]"
     ]
    },
    {
     "name": "stdout",
     "output_type": "stream",
     "text": [
      "\t eval rmse: 1.0195\n",
      "\t eval mae: 0.8164\n",
      "\t eval r2: -0.0638\n",
      "==============================\n"
     ]
    },
    {
     "name": "stderr",
     "output_type": "stream",
     "text": [
      "\n"
     ]
    },
    {
     "name": "stdout",
     "output_type": "stream",
     "text": [
      "Epoch 2 elapsed: 0.124s\n"
     ]
    },
    {
     "name": "stderr",
     "output_type": "stream",
     "text": [
      "eval_pred: 100%|███████████████████████████████| 15/15 [00:00<00:00, 635.48it/s]\n"
     ]
    },
    {
     "name": "stdout",
     "output_type": "stream",
     "text": [
      "\t eval rmse: 1.0336\n",
      "\t eval mae: 0.8242\n",
      "\t eval r2: -0.0935\n",
      "==============================\n",
      "Epoch 3 elapsed: 0.138s\n"
     ]
    },
    {
     "name": "stderr",
     "output_type": "stream",
     "text": [
      "eval_pred: 100%|███████████████████████████████| 15/15 [00:00<00:00, 593.91it/s]\n"
     ]
    },
    {
     "name": "stdout",
     "output_type": "stream",
     "text": [
      "\t eval rmse: 1.0328\n",
      "\t eval mae: 0.8208\n",
      "\t eval r2: -0.0919\n",
      "==============================\n",
      "Epoch 4 elapsed: 0.110s\n"
     ]
    },
    {
     "name": "stderr",
     "output_type": "stream",
     "text": [
      "eval_pred: 100%|███████████████████████████████| 15/15 [00:00<00:00, 410.74it/s]\n"
     ]
    },
    {
     "name": "stdout",
     "output_type": "stream",
     "text": [
      "\t eval rmse: 1.0304\n",
      "\t eval mae: 0.8165\n",
      "\t eval r2: -0.0868\n",
      "==============================\n",
      "Epoch 5 elapsed: 0.113s\n"
     ]
    },
    {
     "name": "stderr",
     "output_type": "stream",
     "text": [
      "eval_pred: 100%|███████████████████████████████| 15/15 [00:00<00:00, 584.15it/s]\n"
     ]
    },
    {
     "name": "stdout",
     "output_type": "stream",
     "text": [
      "\t eval rmse: 1.0278\n",
      "\t eval mae: 0.8124\n",
      "\t eval r2: -0.0813\n",
      "==============================\n",
      "Training start time: \u001b[35m2022-07-23 16:02:17\u001b[0m\n",
      "Epoch 1 elapsed: 0.125s\n"
     ]
    },
    {
     "name": "stderr",
     "output_type": "stream",
     "text": [
      "eval_pred: 100%|███████████████████████████████| 15/15 [00:00<00:00, 394.75it/s]"
     ]
    },
    {
     "name": "stdout",
     "output_type": "stream",
     "text": [
      "\t eval rmse: 1.0177\n"
     ]
    },
    {
     "name": "stderr",
     "output_type": "stream",
     "text": [
      "\n"
     ]
    },
    {
     "name": "stdout",
     "output_type": "stream",
     "text": [
      "\t eval mae: 0.8151\n",
      "\t eval r2: -0.0602\n",
      "==============================\n",
      "Epoch 2 elapsed: 0.112s\n"
     ]
    },
    {
     "name": "stderr",
     "output_type": "stream",
     "text": [
      "eval_pred: 100%|███████████████████████████████| 15/15 [00:00<00:00, 795.75it/s]\n"
     ]
    },
    {
     "name": "stdout",
     "output_type": "stream",
     "text": [
      "\t eval rmse: 1.0337\n",
      "\t eval mae: 0.8244\n",
      "\t eval r2: -0.0937\n",
      "==============================\n",
      "Epoch 3 elapsed: 0.153s\n"
     ]
    },
    {
     "name": "stderr",
     "output_type": "stream",
     "text": [
      "eval_pred: 100%|███████████████████████████████| 15/15 [00:00<00:00, 646.12it/s]"
     ]
    },
    {
     "name": "stdout",
     "output_type": "stream",
     "text": [
      "\t eval rmse: 1.0325\n"
     ]
    },
    {
     "name": "stderr",
     "output_type": "stream",
     "text": [
      "\n"
     ]
    },
    {
     "name": "stdout",
     "output_type": "stream",
     "text": [
      "\t eval mae: 0.8207\n",
      "\t eval r2: -0.0913\n",
      "==============================\n",
      "Epoch 4 elapsed: 0.101s\n"
     ]
    },
    {
     "name": "stderr",
     "output_type": "stream",
     "text": [
      "eval_pred: 100%|███████████████████████████████| 15/15 [00:00<00:00, 701.21it/s]\n"
     ]
    },
    {
     "name": "stdout",
     "output_type": "stream",
     "text": [
      "\t eval rmse: 1.0297\n",
      "\t eval mae: 0.8162\n",
      "\t eval r2: -0.0854\n",
      "==============================\n",
      "Epoch 5 elapsed: 0.127s\n"
     ]
    },
    {
     "name": "stderr",
     "output_type": "stream",
     "text": [
      "eval_pred: 100%|███████████████████████████████| 15/15 [00:00<00:00, 626.71it/s]\n"
     ]
    },
    {
     "name": "stdout",
     "output_type": "stream",
     "text": [
      "\t eval rmse: 1.0268\n",
      "\t eval mae: 0.8118\n",
      "\t eval r2: -0.0793\n",
      "==============================\n",
      "Training start time: \u001b[35m2022-07-23 16:02:18\u001b[0m\n",
      "Epoch 1 elapsed: 0.126s\n"
     ]
    },
    {
     "name": "stderr",
     "output_type": "stream",
     "text": [
      "eval_pred: 100%|███████████████████████████████| 15/15 [00:00<00:00, 562.46it/s]"
     ]
    },
    {
     "name": "stdout",
     "output_type": "stream",
     "text": [
      "\t eval rmse: 1.0177\n"
     ]
    },
    {
     "name": "stderr",
     "output_type": "stream",
     "text": [
      "\n"
     ]
    },
    {
     "name": "stdout",
     "output_type": "stream",
     "text": [
      "\t eval mae: 0.8151\n",
      "\t eval r2: -0.0602\n",
      "==============================\n",
      "Epoch 2 elapsed: 0.122s\n"
     ]
    },
    {
     "name": "stderr",
     "output_type": "stream",
     "text": [
      "eval_pred: 100%|███████████████████████████████| 15/15 [00:00<00:00, 504.81it/s]"
     ]
    },
    {
     "name": "stdout",
     "output_type": "stream",
     "text": [
      "\t eval rmse: 1.0337\n"
     ]
    },
    {
     "name": "stderr",
     "output_type": "stream",
     "text": [
      "\n"
     ]
    },
    {
     "name": "stdout",
     "output_type": "stream",
     "text": [
      "\t eval mae: 0.8244\n",
      "\t eval r2: -0.0937\n",
      "==============================\n",
      "Epoch 3 elapsed: 0.143s\n"
     ]
    },
    {
     "name": "stderr",
     "output_type": "stream",
     "text": [
      "eval_pred: 100%|███████████████████████████████| 15/15 [00:00<00:00, 581.21it/s]\n"
     ]
    },
    {
     "name": "stdout",
     "output_type": "stream",
     "text": [
      "\t eval rmse: 1.0325\n",
      "\t eval mae: 0.8207\n",
      "\t eval r2: -0.0913\n",
      "==============================\n",
      "Epoch 4 elapsed: 0.111s\n"
     ]
    },
    {
     "name": "stderr",
     "output_type": "stream",
     "text": [
      "eval_pred: 100%|███████████████████████████████| 15/15 [00:00<00:00, 707.54it/s]\n"
     ]
    },
    {
     "name": "stdout",
     "output_type": "stream",
     "text": [
      "\t eval rmse: 1.0297\n",
      "\t eval mae: 0.8162\n",
      "\t eval r2: -0.0854\n",
      "==============================\n",
      "Epoch 5 elapsed: 0.131s\n"
     ]
    },
    {
     "name": "stderr",
     "output_type": "stream",
     "text": [
      "eval_pred: 100%|███████████████████████████████| 15/15 [00:00<00:00, 505.21it/s]"
     ]
    },
    {
     "name": "stdout",
     "output_type": "stream",
     "text": [
      "\t eval rmse: 1.0268\n"
     ]
    },
    {
     "name": "stderr",
     "output_type": "stream",
     "text": [
      "\n"
     ]
    },
    {
     "name": "stdout",
     "output_type": "stream",
     "text": [
      "\t eval mae: 0.8118\n",
      "\t eval r2: -0.0793\n",
      "==============================\n",
      "Training start time: \u001b[35m2022-07-23 16:02:20\u001b[0m\n",
      "Epoch 1 elapsed: 0.107s\n"
     ]
    },
    {
     "name": "stderr",
     "output_type": "stream",
     "text": [
      "eval_pred: 100%|███████████████████████████████| 15/15 [00:00<00:00, 518.46it/s]"
     ]
    },
    {
     "name": "stdout",
     "output_type": "stream",
     "text": [
      "\t eval rmse: 1.0177\n",
      "\t eval mae: 0.8151\n"
     ]
    },
    {
     "name": "stderr",
     "output_type": "stream",
     "text": [
      "\n"
     ]
    },
    {
     "name": "stdout",
     "output_type": "stream",
     "text": [
      "\t eval r2: -0.0602\n",
      "==============================\n",
      "Epoch 2 elapsed: 0.135s\n"
     ]
    },
    {
     "name": "stderr",
     "output_type": "stream",
     "text": [
      "eval_pred: 100%|███████████████████████████████| 15/15 [00:00<00:00, 603.35it/s]"
     ]
    },
    {
     "name": "stdout",
     "output_type": "stream",
     "text": [
      "\t eval rmse: 1.0337\n"
     ]
    },
    {
     "name": "stderr",
     "output_type": "stream",
     "text": [
      "\n"
     ]
    },
    {
     "name": "stdout",
     "output_type": "stream",
     "text": [
      "\t eval mae: 0.8244\n",
      "\t eval r2: -0.0937\n",
      "==============================\n",
      "Epoch 3 elapsed: 0.132s\n"
     ]
    },
    {
     "name": "stderr",
     "output_type": "stream",
     "text": [
      "eval_pred: 100%|███████████████████████████████| 15/15 [00:00<00:00, 610.67it/s]"
     ]
    },
    {
     "name": "stdout",
     "output_type": "stream",
     "text": [
      "\t eval rmse: 1.0325\n"
     ]
    },
    {
     "name": "stderr",
     "output_type": "stream",
     "text": [
      "\n"
     ]
    },
    {
     "name": "stdout",
     "output_type": "stream",
     "text": [
      "\t eval mae: 0.8207\n",
      "\t eval r2: -0.0913\n",
      "==============================\n",
      "Epoch 4 elapsed: 0.105s\n"
     ]
    },
    {
     "name": "stderr",
     "output_type": "stream",
     "text": [
      "eval_pred: 100%|███████████████████████████████| 15/15 [00:00<00:00, 661.97it/s]\n"
     ]
    },
    {
     "name": "stdout",
     "output_type": "stream",
     "text": [
      "\t eval rmse: 1.0297\n",
      "\t eval mae: 0.8162\n",
      "\t eval r2: -0.0854\n",
      "==============================\n",
      "Epoch 5 elapsed: 0.119s\n"
     ]
    },
    {
     "name": "stderr",
     "output_type": "stream",
     "text": [
      "eval_pred: 100%|███████████████████████████████| 15/15 [00:00<00:00, 655.20it/s]\n"
     ]
    },
    {
     "name": "stdout",
     "output_type": "stream",
     "text": [
      "\t eval rmse: 1.0268\n",
      "\t eval mae: 0.8118\n",
      "\t eval r2: -0.0793\n",
      "==============================\n",
      "Training start time: \u001b[35m2022-07-23 16:02:21\u001b[0m\n",
      "Epoch 1 elapsed: 0.137s\n"
     ]
    },
    {
     "name": "stderr",
     "output_type": "stream",
     "text": [
      "eval_pred: 100%|███████████████████████████████| 15/15 [00:00<00:00, 438.42it/s]\n"
     ]
    },
    {
     "name": "stdout",
     "output_type": "stream",
     "text": [
      "\t eval rmse: 1.0177\n",
      "\t eval mae: 0.8151\n",
      "\t eval r2: -0.0602\n",
      "==============================\n",
      "Epoch 2 elapsed: 0.149s\n"
     ]
    },
    {
     "name": "stderr",
     "output_type": "stream",
     "text": [
      "eval_pred: 100%|███████████████████████████████| 15/15 [00:00<00:00, 668.01it/s]\n"
     ]
    },
    {
     "name": "stdout",
     "output_type": "stream",
     "text": [
      "\t eval rmse: 1.0337\n",
      "\t eval mae: 0.8244\n",
      "\t eval r2: -0.0937\n",
      "==============================\n",
      "Epoch 3 elapsed: 0.134s\n"
     ]
    },
    {
     "name": "stderr",
     "output_type": "stream",
     "text": [
      "eval_pred: 100%|███████████████████████████████| 15/15 [00:00<00:00, 597.29it/s]\n"
     ]
    },
    {
     "name": "stdout",
     "output_type": "stream",
     "text": [
      "\t eval rmse: 1.0325\n",
      "\t eval mae: 0.8207\n",
      "\t eval r2: -0.0913\n",
      "==============================\n",
      "Epoch 4 elapsed: 0.166s\n"
     ]
    },
    {
     "name": "stderr",
     "output_type": "stream",
     "text": [
      "eval_pred: 100%|███████████████████████████████| 15/15 [00:00<00:00, 647.14it/s]\n"
     ]
    },
    {
     "name": "stdout",
     "output_type": "stream",
     "text": [
      "\t eval rmse: 1.0297\n",
      "\t eval mae: 0.8162\n",
      "\t eval r2: -0.0854\n",
      "==============================\n",
      "Epoch 5 elapsed: 0.125s\n"
     ]
    },
    {
     "name": "stderr",
     "output_type": "stream",
     "text": [
      "eval_pred: 100%|███████████████████████████████| 15/15 [00:00<00:00, 507.85it/s]\n"
     ]
    },
    {
     "name": "stdout",
     "output_type": "stream",
     "text": [
      "\t eval rmse: 1.0268\n",
      "\t eval mae: 0.8118\n",
      "\t eval r2: -0.0793\n",
      "==============================\n",
      "Training start time: \u001b[35m2022-07-23 16:02:23\u001b[0m\n",
      "Epoch 1 elapsed: 0.117s\n"
     ]
    },
    {
     "name": "stderr",
     "output_type": "stream",
     "text": [
      "eval_pred: 100%|███████████████████████████████| 15/15 [00:00<00:00, 585.91it/s]"
     ]
    },
    {
     "name": "stdout",
     "output_type": "stream",
     "text": [
      "\t eval rmse: 1.0177\n"
     ]
    },
    {
     "name": "stderr",
     "output_type": "stream",
     "text": [
      "\n"
     ]
    },
    {
     "name": "stdout",
     "output_type": "stream",
     "text": [
      "\t eval mae: 0.8151\n",
      "\t eval r2: -0.0602\n",
      "==============================\n",
      "Epoch 2 elapsed: 0.125s\n"
     ]
    },
    {
     "name": "stderr",
     "output_type": "stream",
     "text": [
      "eval_pred: 100%|███████████████████████████████| 15/15 [00:00<00:00, 748.29it/s]"
     ]
    },
    {
     "name": "stdout",
     "output_type": "stream",
     "text": [
      "\t eval rmse: 1.0337\n"
     ]
    },
    {
     "name": "stderr",
     "output_type": "stream",
     "text": [
      "\n"
     ]
    },
    {
     "name": "stdout",
     "output_type": "stream",
     "text": [
      "\t eval mae: 0.8244\n",
      "\t eval r2: -0.0937\n",
      "==============================\n",
      "Epoch 3 elapsed: 0.120s\n"
     ]
    },
    {
     "name": "stderr",
     "output_type": "stream",
     "text": [
      "eval_pred: 100%|███████████████████████████████| 15/15 [00:00<00:00, 652.78it/s]\n"
     ]
    },
    {
     "name": "stdout",
     "output_type": "stream",
     "text": [
      "\t eval rmse: 1.0325\n",
      "\t eval mae: 0.8207\n",
      "\t eval r2: -0.0913\n",
      "==============================\n",
      "Epoch 4 elapsed: 0.154s\n"
     ]
    },
    {
     "name": "stderr",
     "output_type": "stream",
     "text": [
      "eval_pred: 100%|███████████████████████████████| 15/15 [00:00<00:00, 647.09it/s]\n"
     ]
    },
    {
     "name": "stdout",
     "output_type": "stream",
     "text": [
      "\t eval rmse: 1.0297\n",
      "\t eval mae: 0.8162\n",
      "\t eval r2: -0.0854\n",
      "==============================\n",
      "Epoch 5 elapsed: 0.117s\n"
     ]
    },
    {
     "name": "stderr",
     "output_type": "stream",
     "text": [
      "eval_pred: 100%|███████████████████████████████| 15/15 [00:00<00:00, 812.09it/s]\n"
     ]
    },
    {
     "name": "stdout",
     "output_type": "stream",
     "text": [
      "\t eval rmse: 1.0268\n",
      "\t eval mae: 0.8118\n",
      "\t eval r2: -0.0793\n",
      "==============================\n",
      "Training start time: \u001b[35m2022-07-23 16:02:24\u001b[0m\n",
      "Epoch 1 elapsed: 0.108s\n"
     ]
    },
    {
     "name": "stderr",
     "output_type": "stream",
     "text": [
      "eval_pred: 100%|███████████████████████████████| 15/15 [00:00<00:00, 678.55it/s]"
     ]
    },
    {
     "name": "stdout",
     "output_type": "stream",
     "text": [
      "\t eval rmse: 0.9959\n",
      "\t eval mae: 0.8013\n"
     ]
    },
    {
     "name": "stderr",
     "output_type": "stream",
     "text": [
      "\n"
     ]
    },
    {
     "name": "stdout",
     "output_type": "stream",
     "text": [
      "\t eval r2: -0.0153\n",
      "==============================\n",
      "Epoch 2 elapsed: 0.114s\n"
     ]
    },
    {
     "name": "stderr",
     "output_type": "stream",
     "text": [
      "eval_pred: 100%|███████████████████████████████| 15/15 [00:00<00:00, 592.92it/s]\n"
     ]
    },
    {
     "name": "stdout",
     "output_type": "stream",
     "text": [
      "\t eval rmse: 1.0186\n",
      "\t eval mae: 0.8142\n",
      "\t eval r2: -0.0619\n",
      "==============================\n",
      "Epoch 3 elapsed: 0.134s\n"
     ]
    },
    {
     "name": "stderr",
     "output_type": "stream",
     "text": [
      "eval_pred: 100%|███████████████████████████████| 15/15 [00:00<00:00, 721.09it/s]\n"
     ]
    },
    {
     "name": "stdout",
     "output_type": "stream",
     "text": [
      "\t eval rmse: 1.0174\n",
      "\t eval mae: 0.8102\n",
      "\t eval r2: -0.0595\n",
      "==============================\n",
      "Epoch 4 elapsed: 0.110s\n"
     ]
    },
    {
     "name": "stderr",
     "output_type": "stream",
     "text": [
      "eval_pred: 100%|███████████████████████████████| 15/15 [00:00<00:00, 751.29it/s]\n"
     ]
    },
    {
     "name": "stdout",
     "output_type": "stream",
     "text": [
      "\t eval rmse: 1.0141\n",
      "\t eval mae: 0.8048\n",
      "\t eval r2: -0.0526\n",
      "==============================\n",
      "Epoch 5 elapsed: 0.135s\n"
     ]
    },
    {
     "name": "stderr",
     "output_type": "stream",
     "text": [
      "eval_pred: 100%|███████████████████████████████| 15/15 [00:00<00:00, 650.60it/s]"
     ]
    },
    {
     "name": "stdout",
     "output_type": "stream",
     "text": [
      "\t eval rmse: 1.0107\n",
      "\t eval mae: 0.7999\n"
     ]
    },
    {
     "name": "stderr",
     "output_type": "stream",
     "text": [
      "\n"
     ]
    },
    {
     "name": "stdout",
     "output_type": "stream",
     "text": [
      "\t eval r2: -0.0455\n",
      "==============================\n",
      "Training start time: \u001b[35m2022-07-23 16:02:25\u001b[0m\n",
      "Epoch 1 elapsed: 0.128s\n"
     ]
    },
    {
     "name": "stderr",
     "output_type": "stream",
     "text": [
      "eval_pred: 100%|███████████████████████████████| 15/15 [00:00<00:00, 556.42it/s]"
     ]
    },
    {
     "name": "stdout",
     "output_type": "stream",
     "text": [
      "\t eval rmse: 0.9959\n"
     ]
    },
    {
     "name": "stderr",
     "output_type": "stream",
     "text": [
      "\n"
     ]
    },
    {
     "name": "stdout",
     "output_type": "stream",
     "text": [
      "\t eval mae: 0.8013\n",
      "\t eval r2: -0.0153\n",
      "==============================\n",
      "Epoch 2 elapsed: 0.133s\n"
     ]
    },
    {
     "name": "stderr",
     "output_type": "stream",
     "text": [
      "eval_pred: 100%|███████████████████████████████| 15/15 [00:00<00:00, 696.66it/s]"
     ]
    },
    {
     "name": "stdout",
     "output_type": "stream",
     "text": [
      "\t eval rmse: 1.0186\n"
     ]
    },
    {
     "name": "stderr",
     "output_type": "stream",
     "text": [
      "\n"
     ]
    },
    {
     "name": "stdout",
     "output_type": "stream",
     "text": [
      "\t eval mae: 0.8142\n",
      "\t eval r2: -0.0619\n",
      "==============================\n",
      "Epoch 3 elapsed: 0.101s\n"
     ]
    },
    {
     "name": "stderr",
     "output_type": "stream",
     "text": [
      "eval_pred: 100%|███████████████████████████████| 15/15 [00:00<00:00, 555.69it/s]\n"
     ]
    },
    {
     "name": "stdout",
     "output_type": "stream",
     "text": [
      "\t eval rmse: 1.0174\n",
      "\t eval mae: 0.8102\n",
      "\t eval r2: -0.0595\n",
      "==============================\n",
      "Epoch 4 elapsed: 0.126s\n"
     ]
    },
    {
     "name": "stderr",
     "output_type": "stream",
     "text": [
      "eval_pred: 100%|███████████████████████████████| 15/15 [00:00<00:00, 563.80it/s]"
     ]
    },
    {
     "name": "stdout",
     "output_type": "stream",
     "text": [
      "\t eval rmse: 1.0141\n",
      "\t eval mae: 0.8048\n"
     ]
    },
    {
     "name": "stderr",
     "output_type": "stream",
     "text": [
      "\n"
     ]
    },
    {
     "name": "stdout",
     "output_type": "stream",
     "text": [
      "\t eval r2: -0.0526\n",
      "==============================\n",
      "Epoch 5 elapsed: 0.103s\n"
     ]
    },
    {
     "name": "stderr",
     "output_type": "stream",
     "text": [
      "eval_pred: 100%|███████████████████████████████| 15/15 [00:00<00:00, 477.97it/s]\n"
     ]
    },
    {
     "name": "stdout",
     "output_type": "stream",
     "text": [
      "\t eval rmse: 1.0107\n",
      "\t eval mae: 0.7999\n",
      "\t eval r2: -0.0455\n",
      "==============================\n",
      "Training start time: \u001b[35m2022-07-23 16:02:27\u001b[0m\n",
      "Epoch 1 elapsed: 0.110s\n"
     ]
    },
    {
     "name": "stderr",
     "output_type": "stream",
     "text": [
      "eval_pred: 100%|███████████████████████████████| 15/15 [00:00<00:00, 688.96it/s]"
     ]
    },
    {
     "name": "stdout",
     "output_type": "stream",
     "text": [
      "\t eval rmse: 0.9959\n",
      "\t eval mae: 0.8013\n",
      "\t eval r2: -0.0153\n",
      "==============================\n"
     ]
    },
    {
     "name": "stderr",
     "output_type": "stream",
     "text": [
      "\n"
     ]
    },
    {
     "name": "stdout",
     "output_type": "stream",
     "text": [
      "Epoch 2 elapsed: 0.119s\n"
     ]
    },
    {
     "name": "stderr",
     "output_type": "stream",
     "text": [
      "eval_pred: 100%|███████████████████████████████| 15/15 [00:00<00:00, 473.40it/s]\n"
     ]
    },
    {
     "name": "stdout",
     "output_type": "stream",
     "text": [
      "\t eval rmse: 1.0186\n",
      "\t eval mae: 0.8142\n",
      "\t eval r2: -0.0619\n",
      "==============================\n",
      "Epoch 3 elapsed: 0.103s\n"
     ]
    },
    {
     "name": "stderr",
     "output_type": "stream",
     "text": [
      "eval_pred: 100%|███████████████████████████████| 15/15 [00:00<00:00, 378.85it/s]\n"
     ]
    },
    {
     "name": "stdout",
     "output_type": "stream",
     "text": [
      "\t eval rmse: 1.0174\n",
      "\t eval mae: 0.8102\n",
      "\t eval r2: -0.0595\n",
      "==============================\n",
      "Epoch 4 elapsed: 0.138s\n"
     ]
    },
    {
     "name": "stderr",
     "output_type": "stream",
     "text": [
      "eval_pred: 100%|███████████████████████████████| 15/15 [00:00<00:00, 579.04it/s]\n"
     ]
    },
    {
     "name": "stdout",
     "output_type": "stream",
     "text": [
      "\t eval rmse: 1.0141\n",
      "\t eval mae: 0.8048\n",
      "\t eval r2: -0.0526\n",
      "==============================\n",
      "Epoch 5 elapsed: 0.114s\n"
     ]
    },
    {
     "name": "stderr",
     "output_type": "stream",
     "text": [
      "eval_pred: 100%|███████████████████████████████| 15/15 [00:00<00:00, 550.38it/s]\n"
     ]
    },
    {
     "name": "stdout",
     "output_type": "stream",
     "text": [
      "\t eval rmse: 1.0107\n",
      "\t eval mae: 0.7999\n",
      "\t eval r2: -0.0455\n",
      "==============================\n",
      "Training start time: \u001b[35m2022-07-23 16:02:28\u001b[0m\n",
      "Epoch 1 elapsed: 0.102s\n"
     ]
    },
    {
     "name": "stderr",
     "output_type": "stream",
     "text": [
      "eval_pred: 100%|███████████████████████████████| 15/15 [00:00<00:00, 569.33it/s]"
     ]
    },
    {
     "name": "stdout",
     "output_type": "stream",
     "text": [
      "\t eval rmse: 0.9959\n",
      "\t eval mae: 0.8013\n"
     ]
    },
    {
     "name": "stderr",
     "output_type": "stream",
     "text": [
      "\n"
     ]
    },
    {
     "name": "stdout",
     "output_type": "stream",
     "text": [
      "\t eval r2: -0.0153\n",
      "==============================\n",
      "Epoch 2 elapsed: 0.116s\n"
     ]
    },
    {
     "name": "stderr",
     "output_type": "stream",
     "text": [
      "eval_pred: 100%|███████████████████████████████| 15/15 [00:00<00:00, 614.14it/s]\n"
     ]
    },
    {
     "name": "stdout",
     "output_type": "stream",
     "text": [
      "\t eval rmse: 1.0186\n",
      "\t eval mae: 0.8142\n",
      "\t eval r2: -0.0619\n",
      "==============================\n",
      "Epoch 3 elapsed: 0.123s\n"
     ]
    },
    {
     "name": "stderr",
     "output_type": "stream",
     "text": [
      "eval_pred: 100%|███████████████████████████████| 15/15 [00:00<00:00, 747.21it/s]"
     ]
    },
    {
     "name": "stdout",
     "output_type": "stream",
     "text": [
      "\t eval rmse: 1.0174\n",
      "\t eval mae: 0.8102\n",
      "\t eval r2: -0.0595\n",
      "==============================\n"
     ]
    },
    {
     "name": "stderr",
     "output_type": "stream",
     "text": [
      "\n"
     ]
    },
    {
     "name": "stdout",
     "output_type": "stream",
     "text": [
      "Epoch 4 elapsed: 0.126s\n"
     ]
    },
    {
     "name": "stderr",
     "output_type": "stream",
     "text": [
      "eval_pred: 100%|███████████████████████████████| 15/15 [00:00<00:00, 484.13it/s]"
     ]
    },
    {
     "name": "stdout",
     "output_type": "stream",
     "text": [
      "\t eval rmse: 1.0141\n",
      "\t eval mae: 0.8048\n",
      "\t eval r2: -0.0526\n",
      "==============================\n"
     ]
    },
    {
     "name": "stderr",
     "output_type": "stream",
     "text": [
      "\n"
     ]
    },
    {
     "name": "stdout",
     "output_type": "stream",
     "text": [
      "Epoch 5 elapsed: 0.139s\n"
     ]
    },
    {
     "name": "stderr",
     "output_type": "stream",
     "text": [
      "eval_pred: 100%|███████████████████████████████| 15/15 [00:00<00:00, 355.25it/s]"
     ]
    },
    {
     "name": "stdout",
     "output_type": "stream",
     "text": [
      "\t eval rmse: 1.0107\n",
      "\t eval mae: 0.7999\n",
      "\t eval r2: -0.0455\n",
      "==============================\n"
     ]
    },
    {
     "name": "stderr",
     "output_type": "stream",
     "text": [
      "\n"
     ]
    },
    {
     "name": "stdout",
     "output_type": "stream",
     "text": [
      "Training start time: \u001b[35m2022-07-23 16:02:30\u001b[0m\n",
      "Epoch 1 elapsed: 0.121s\n"
     ]
    },
    {
     "name": "stderr",
     "output_type": "stream",
     "text": [
      "eval_pred: 100%|███████████████████████████████| 15/15 [00:00<00:00, 511.21it/s]"
     ]
    },
    {
     "name": "stdout",
     "output_type": "stream",
     "text": [
      "\t eval rmse: 0.9959\n"
     ]
    },
    {
     "name": "stderr",
     "output_type": "stream",
     "text": [
      "\n"
     ]
    },
    {
     "name": "stdout",
     "output_type": "stream",
     "text": [
      "\t eval mae: 0.8013\n",
      "\t eval r2: -0.0153\n",
      "==============================\n",
      "Epoch 2 elapsed: 0.115s\n"
     ]
    },
    {
     "name": "stderr",
     "output_type": "stream",
     "text": [
      "eval_pred: 100%|███████████████████████████████| 15/15 [00:00<00:00, 574.26it/s]"
     ]
    },
    {
     "name": "stdout",
     "output_type": "stream",
     "text": [
      "\t eval rmse: 1.0186\n",
      "\t eval mae: 0.8142\n"
     ]
    },
    {
     "name": "stderr",
     "output_type": "stream",
     "text": [
      "\n"
     ]
    },
    {
     "name": "stdout",
     "output_type": "stream",
     "text": [
      "\t eval r2: -0.0619\n",
      "==============================\n",
      "Epoch 3 elapsed: 0.131s\n"
     ]
    },
    {
     "name": "stderr",
     "output_type": "stream",
     "text": [
      "eval_pred: 100%|███████████████████████████████| 15/15 [00:00<00:00, 395.91it/s]"
     ]
    },
    {
     "name": "stdout",
     "output_type": "stream",
     "text": [
      "\t eval rmse: 1.0174\n"
     ]
    },
    {
     "name": "stderr",
     "output_type": "stream",
     "text": [
      "\n"
     ]
    },
    {
     "name": "stdout",
     "output_type": "stream",
     "text": [
      "\t eval mae: 0.8102\n",
      "\t eval r2: -0.0595\n",
      "==============================\n",
      "Epoch 4 elapsed: 0.166s\n"
     ]
    },
    {
     "name": "stderr",
     "output_type": "stream",
     "text": [
      "eval_pred: 100%|███████████████████████████████| 15/15 [00:00<00:00, 520.13it/s]\n"
     ]
    },
    {
     "name": "stdout",
     "output_type": "stream",
     "text": [
      "\t eval rmse: 1.0141\n",
      "\t eval mae: 0.8048\n",
      "\t eval r2: -0.0526\n",
      "==============================\n",
      "Epoch 5 elapsed: 0.126s\n"
     ]
    },
    {
     "name": "stderr",
     "output_type": "stream",
     "text": [
      "eval_pred: 100%|███████████████████████████████| 15/15 [00:00<00:00, 414.09it/s]\n"
     ]
    },
    {
     "name": "stdout",
     "output_type": "stream",
     "text": [
      "\t eval rmse: 1.0107\n",
      "\t eval mae: 0.7999\n",
      "\t eval r2: -0.0455\n",
      "==============================\n",
      "Training start time: \u001b[35m2022-07-23 16:02:31\u001b[0m\n",
      "Epoch 1 elapsed: 0.119s\n"
     ]
    },
    {
     "name": "stderr",
     "output_type": "stream",
     "text": [
      "eval_pred: 100%|███████████████████████████████| 15/15 [00:00<00:00, 516.64it/s]"
     ]
    },
    {
     "name": "stdout",
     "output_type": "stream",
     "text": [
      "\t eval rmse: 0.9888\n"
     ]
    },
    {
     "name": "stderr",
     "output_type": "stream",
     "text": [
      "\n"
     ]
    },
    {
     "name": "stdout",
     "output_type": "stream",
     "text": [
      "\t eval mae: 0.7973\n",
      "\t eval r2: -0.0008\n",
      "==============================\n",
      "Epoch 2 elapsed: 0.128s\n"
     ]
    },
    {
     "name": "stderr",
     "output_type": "stream",
     "text": [
      "eval_pred: 100%|███████████████████████████████| 15/15 [00:00<00:00, 459.66it/s]\n"
     ]
    },
    {
     "name": "stdout",
     "output_type": "stream",
     "text": [
      "\t eval rmse: 1.0118\n",
      "\t eval mae: 0.8091\n",
      "\t eval r2: -0.0478\n",
      "==============================\n",
      "Epoch 3 elapsed: 0.105s\n"
     ]
    },
    {
     "name": "stderr",
     "output_type": "stream",
     "text": [
      "eval_pred: 100%|███████████████████████████████| 15/15 [00:00<00:00, 408.15it/s]\n"
     ]
    },
    {
     "name": "stdout",
     "output_type": "stream",
     "text": [
      "\t eval rmse: 1.0074\n",
      "\t eval mae: 0.8030\n",
      "\t eval r2: -0.0388\n",
      "==============================\n",
      "Epoch 4 elapsed: 0.114s\n"
     ]
    },
    {
     "name": "stderr",
     "output_type": "stream",
     "text": [
      "eval_pred: 100%|███████████████████████████████| 15/15 [00:00<00:00, 528.13it/s]\n"
     ]
    },
    {
     "name": "stdout",
     "output_type": "stream",
     "text": [
      "\t eval rmse: 1.0027\n",
      "\t eval mae: 0.7968\n",
      "\t eval r2: -0.0291\n",
      "==============================\n",
      "Epoch 5 elapsed: 0.142s\n"
     ]
    },
    {
     "name": "stderr",
     "output_type": "stream",
     "text": [
      "eval_pred: 100%|███████████████████████████████| 15/15 [00:00<00:00, 608.06it/s]\n"
     ]
    },
    {
     "name": "stdout",
     "output_type": "stream",
     "text": [
      "\t eval rmse: 0.9990\n",
      "\t eval mae: 0.7919\n",
      "\t eval r2: -0.0215\n",
      "==============================\n",
      "Training start time: \u001b[35m2022-07-23 16:02:33\u001b[0m\n",
      "Epoch 1 elapsed: 0.114s\n"
     ]
    },
    {
     "name": "stderr",
     "output_type": "stream",
     "text": [
      "eval_pred: 100%|███████████████████████████████| 15/15 [00:00<00:00, 647.21it/s]"
     ]
    },
    {
     "name": "stdout",
     "output_type": "stream",
     "text": [
      "\t eval rmse: 0.9888\n",
      "\t eval mae: 0.7973\n"
     ]
    },
    {
     "name": "stderr",
     "output_type": "stream",
     "text": [
      "\n"
     ]
    },
    {
     "name": "stdout",
     "output_type": "stream",
     "text": [
      "\t eval r2: -0.0008\n",
      "==============================\n",
      "Epoch 2 elapsed: 0.144s\n"
     ]
    },
    {
     "name": "stderr",
     "output_type": "stream",
     "text": [
      "eval_pred: 100%|███████████████████████████████| 15/15 [00:00<00:00, 477.36it/s]\n"
     ]
    },
    {
     "name": "stdout",
     "output_type": "stream",
     "text": [
      "\t eval rmse: 1.0118\n",
      "\t eval mae: 0.8091\n",
      "\t eval r2: -0.0478\n",
      "==============================\n",
      "Epoch 3 elapsed: 0.124s\n"
     ]
    },
    {
     "name": "stderr",
     "output_type": "stream",
     "text": [
      "eval_pred: 100%|███████████████████████████████| 15/15 [00:00<00:00, 478.10it/s]\n"
     ]
    },
    {
     "name": "stdout",
     "output_type": "stream",
     "text": [
      "\t eval rmse: 1.0074\n",
      "\t eval mae: 0.8030\n",
      "\t eval r2: -0.0388\n",
      "==============================\n",
      "Epoch 4 elapsed: 0.112s\n"
     ]
    },
    {
     "name": "stderr",
     "output_type": "stream",
     "text": [
      "eval_pred: 100%|███████████████████████████████| 15/15 [00:00<00:00, 488.25it/s]\n"
     ]
    },
    {
     "name": "stdout",
     "output_type": "stream",
     "text": [
      "\t eval rmse: 1.0027\n",
      "\t eval mae: 0.7968\n",
      "\t eval r2: -0.0291\n",
      "==============================\n",
      "Epoch 5 elapsed: 0.107s\n"
     ]
    },
    {
     "name": "stderr",
     "output_type": "stream",
     "text": [
      "eval_pred: 100%|███████████████████████████████| 15/15 [00:00<00:00, 664.13it/s]\n"
     ]
    },
    {
     "name": "stdout",
     "output_type": "stream",
     "text": [
      "\t eval rmse: 0.9990\n",
      "\t eval mae: 0.7919\n",
      "\t eval r2: -0.0215\n",
      "==============================\n",
      "Training start time: \u001b[35m2022-07-23 16:02:34\u001b[0m\n",
      "Epoch 1 elapsed: 0.109s\n"
     ]
    },
    {
     "name": "stderr",
     "output_type": "stream",
     "text": [
      "eval_pred: 100%|███████████████████████████████| 15/15 [00:00<00:00, 595.25it/s]"
     ]
    },
    {
     "name": "stdout",
     "output_type": "stream",
     "text": [
      "\t eval rmse: 0.9888\n",
      "\t eval mae: 0.7973\n"
     ]
    },
    {
     "name": "stderr",
     "output_type": "stream",
     "text": [
      "\n"
     ]
    },
    {
     "name": "stdout",
     "output_type": "stream",
     "text": [
      "\t eval r2: -0.0008\n",
      "==============================\n",
      "Epoch 2 elapsed: 0.119s\n"
     ]
    },
    {
     "name": "stderr",
     "output_type": "stream",
     "text": [
      "eval_pred: 100%|███████████████████████████████| 15/15 [00:00<00:00, 433.46it/s]"
     ]
    },
    {
     "name": "stdout",
     "output_type": "stream",
     "text": [
      "\t eval rmse: 1.0118\n"
     ]
    },
    {
     "name": "stderr",
     "output_type": "stream",
     "text": [
      "\n"
     ]
    },
    {
     "name": "stdout",
     "output_type": "stream",
     "text": [
      "\t eval mae: 0.8091\n",
      "\t eval r2: -0.0478\n",
      "==============================\n",
      "Epoch 3 elapsed: 0.113s\n"
     ]
    },
    {
     "name": "stderr",
     "output_type": "stream",
     "text": [
      "eval_pred: 100%|███████████████████████████████| 15/15 [00:00<00:00, 572.77it/s]"
     ]
    },
    {
     "name": "stdout",
     "output_type": "stream",
     "text": [
      "\t eval rmse: 1.0074\n",
      "\t eval mae: 0.8030\n"
     ]
    },
    {
     "name": "stderr",
     "output_type": "stream",
     "text": [
      "\n"
     ]
    },
    {
     "name": "stdout",
     "output_type": "stream",
     "text": [
      "\t eval r2: -0.0388\n",
      "==============================\n",
      "Epoch 4 elapsed: 0.186s\n"
     ]
    },
    {
     "name": "stderr",
     "output_type": "stream",
     "text": [
      "eval_pred: 100%|███████████████████████████████| 15/15 [00:00<00:00, 632.91it/s]"
     ]
    },
    {
     "name": "stdout",
     "output_type": "stream",
     "text": [
      "\t eval rmse: 1.0027\n",
      "\t eval mae: 0.7968\n",
      "\t eval r2: -0.0291\n",
      "==============================\n"
     ]
    },
    {
     "name": "stderr",
     "output_type": "stream",
     "text": [
      "\n"
     ]
    },
    {
     "name": "stdout",
     "output_type": "stream",
     "text": [
      "Epoch 5 elapsed: 0.125s\n"
     ]
    },
    {
     "name": "stderr",
     "output_type": "stream",
     "text": [
      "eval_pred: 100%|███████████████████████████████| 15/15 [00:00<00:00, 614.69it/s]"
     ]
    },
    {
     "name": "stdout",
     "output_type": "stream",
     "text": [
      "\t eval rmse: 0.9990\n",
      "\t eval mae: 0.7919\n",
      "\t eval r2: -0.0215\n",
      "==============================\n"
     ]
    },
    {
     "name": "stderr",
     "output_type": "stream",
     "text": [
      "\n"
     ]
    },
    {
     "name": "stdout",
     "output_type": "stream",
     "text": [
      "Training start time: \u001b[35m2022-07-23 16:02:36\u001b[0m\n",
      "Epoch 1 elapsed: 0.117s\n"
     ]
    },
    {
     "name": "stderr",
     "output_type": "stream",
     "text": [
      "eval_pred: 100%|███████████████████████████████| 15/15 [00:00<00:00, 709.44it/s]"
     ]
    },
    {
     "name": "stdout",
     "output_type": "stream",
     "text": [
      "\t eval rmse: 0.9888\n",
      "\t eval mae: 0.7973\n"
     ]
    },
    {
     "name": "stderr",
     "output_type": "stream",
     "text": [
      "\n"
     ]
    },
    {
     "name": "stdout",
     "output_type": "stream",
     "text": [
      "\t eval r2: -0.0008\n",
      "==============================\n",
      "Epoch 2 elapsed: 0.144s\n"
     ]
    },
    {
     "name": "stderr",
     "output_type": "stream",
     "text": [
      "eval_pred: 100%|███████████████████████████████| 15/15 [00:00<00:00, 659.97it/s]"
     ]
    },
    {
     "name": "stdout",
     "output_type": "stream",
     "text": [
      "\t eval rmse: 1.0118\n"
     ]
    },
    {
     "name": "stderr",
     "output_type": "stream",
     "text": [
      "\n"
     ]
    },
    {
     "name": "stdout",
     "output_type": "stream",
     "text": [
      "\t eval mae: 0.8091\n",
      "\t eval r2: -0.0478\n",
      "==============================\n",
      "Epoch 3 elapsed: 0.100s\n"
     ]
    },
    {
     "name": "stderr",
     "output_type": "stream",
     "text": [
      "eval_pred: 100%|███████████████████████████████| 15/15 [00:00<00:00, 554.36it/s]\n"
     ]
    },
    {
     "name": "stdout",
     "output_type": "stream",
     "text": [
      "\t eval rmse: 1.0074\n",
      "\t eval mae: 0.8030\n",
      "\t eval r2: -0.0388\n",
      "==============================\n",
      "Epoch 4 elapsed: 0.118s\n"
     ]
    },
    {
     "name": "stderr",
     "output_type": "stream",
     "text": [
      "eval_pred: 100%|███████████████████████████████| 15/15 [00:00<00:00, 696.98it/s]"
     ]
    },
    {
     "name": "stdout",
     "output_type": "stream",
     "text": [
      "\t eval rmse: 1.0027\n",
      "\t eval mae: 0.7968\n"
     ]
    },
    {
     "name": "stderr",
     "output_type": "stream",
     "text": [
      "\n"
     ]
    },
    {
     "name": "stdout",
     "output_type": "stream",
     "text": [
      "\t eval r2: -0.0291\n",
      "==============================\n",
      "Epoch 5 elapsed: 0.108s\n"
     ]
    },
    {
     "name": "stderr",
     "output_type": "stream",
     "text": [
      "eval_pred: 100%|███████████████████████████████| 15/15 [00:00<00:00, 737.73it/s]\n"
     ]
    },
    {
     "name": "stdout",
     "output_type": "stream",
     "text": [
      "\t eval rmse: 0.9990\n",
      "\t eval mae: 0.7919\n",
      "\t eval r2: -0.0215\n",
      "==============================\n",
      "Training start time: \u001b[35m2022-07-23 16:02:37\u001b[0m\n",
      "Epoch 1 elapsed: 0.118s\n"
     ]
    },
    {
     "name": "stderr",
     "output_type": "stream",
     "text": [
      "eval_pred: 100%|███████████████████████████████| 15/15 [00:00<00:00, 616.31it/s]"
     ]
    },
    {
     "name": "stdout",
     "output_type": "stream",
     "text": [
      "\t eval rmse: 0.9888\n",
      "\t eval mae: 0.7973\n"
     ]
    },
    {
     "name": "stderr",
     "output_type": "stream",
     "text": [
      "\n"
     ]
    },
    {
     "name": "stdout",
     "output_type": "stream",
     "text": [
      "\t eval r2: -0.0008\n",
      "==============================\n",
      "Epoch 2 elapsed: 0.137s\n"
     ]
    },
    {
     "name": "stderr",
     "output_type": "stream",
     "text": [
      "eval_pred: 100%|███████████████████████████████| 15/15 [00:00<00:00, 638.97it/s]"
     ]
    },
    {
     "name": "stdout",
     "output_type": "stream",
     "text": [
      "\t eval rmse: 1.0118\n"
     ]
    },
    {
     "name": "stderr",
     "output_type": "stream",
     "text": [
      "\n"
     ]
    },
    {
     "name": "stdout",
     "output_type": "stream",
     "text": [
      "\t eval mae: 0.8091\n",
      "\t eval r2: -0.0478\n",
      "==============================\n",
      "Epoch 3 elapsed: 0.133s\n"
     ]
    },
    {
     "name": "stderr",
     "output_type": "stream",
     "text": [
      "eval_pred: 100%|███████████████████████████████| 15/15 [00:00<00:00, 525.22it/s]"
     ]
    },
    {
     "name": "stdout",
     "output_type": "stream",
     "text": [
      "\t eval rmse: 1.0074\n"
     ]
    },
    {
     "name": "stderr",
     "output_type": "stream",
     "text": [
      "\n"
     ]
    },
    {
     "name": "stdout",
     "output_type": "stream",
     "text": [
      "\t eval mae: 0.8030\n",
      "\t eval r2: -0.0388\n",
      "==============================\n",
      "Epoch 4 elapsed: 0.107s\n"
     ]
    },
    {
     "name": "stderr",
     "output_type": "stream",
     "text": [
      "eval_pred: 100%|███████████████████████████████| 15/15 [00:00<00:00, 527.82it/s]\n"
     ]
    },
    {
     "name": "stdout",
     "output_type": "stream",
     "text": [
      "\t eval rmse: 1.0027\n",
      "\t eval mae: 0.7968\n",
      "\t eval r2: -0.0291\n",
      "==============================\n",
      "Epoch 5 elapsed: 0.135s\n"
     ]
    },
    {
     "name": "stderr",
     "output_type": "stream",
     "text": [
      "eval_pred: 100%|███████████████████████████████| 15/15 [00:00<00:00, 370.32it/s]"
     ]
    },
    {
     "name": "stdout",
     "output_type": "stream",
     "text": [
      "\t eval rmse: 0.9990\n"
     ]
    },
    {
     "name": "stderr",
     "output_type": "stream",
     "text": [
      "\n"
     ]
    },
    {
     "name": "stdout",
     "output_type": "stream",
     "text": [
      "\t eval mae: 0.7919\n",
      "\t eval r2: -0.0215\n",
      "==============================\n",
      "Training start time: \u001b[35m2022-07-23 16:02:39\u001b[0m\n",
      "Epoch 1 elapsed: 0.248s\n"
     ]
    },
    {
     "name": "stderr",
     "output_type": "stream",
     "text": [
      "eval_pred: 100%|███████████████████████████████| 15/15 [00:00<00:00, 433.87it/s]"
     ]
    },
    {
     "name": "stdout",
     "output_type": "stream",
     "text": [
      "\t eval rmse: 1.0539\n",
      "\t eval mae: 0.8395\n",
      "\t eval r2: -0.1370\n",
      "==============================\n"
     ]
    },
    {
     "name": "stderr",
     "output_type": "stream",
     "text": [
      "\n"
     ]
    },
    {
     "name": "stdout",
     "output_type": "stream",
     "text": [
      "Epoch 2 elapsed: 0.275s\n"
     ]
    },
    {
     "name": "stderr",
     "output_type": "stream",
     "text": [
      "eval_pred: 100%|███████████████████████████████| 15/15 [00:00<00:00, 409.08it/s]"
     ]
    },
    {
     "name": "stdout",
     "output_type": "stream",
     "text": [
      "\t eval rmse: 1.0745\n",
      "\t eval mae: 0.8498\n",
      "\t eval r2: -0.1818\n",
      "==============================\n"
     ]
    },
    {
     "name": "stderr",
     "output_type": "stream",
     "text": [
      "\n"
     ]
    },
    {
     "name": "stdout",
     "output_type": "stream",
     "text": [
      "Epoch 3 elapsed: 0.298s\n"
     ]
    },
    {
     "name": "stderr",
     "output_type": "stream",
     "text": [
      "eval_pred: 100%|███████████████████████████████| 15/15 [00:00<00:00, 444.58it/s]"
     ]
    },
    {
     "name": "stdout",
     "output_type": "stream",
     "text": [
      "\t eval rmse: 1.0792\n",
      "\t eval mae: 0.8482\n",
      "\t eval r2: -0.1922\n",
      "==============================\n"
     ]
    },
    {
     "name": "stderr",
     "output_type": "stream",
     "text": [
      "\n"
     ]
    },
    {
     "name": "stdout",
     "output_type": "stream",
     "text": [
      "Epoch 4 elapsed: 0.310s\n"
     ]
    },
    {
     "name": "stderr",
     "output_type": "stream",
     "text": [
      "eval_pred: 100%|███████████████████████████████| 15/15 [00:00<00:00, 541.59it/s]"
     ]
    },
    {
     "name": "stdout",
     "output_type": "stream",
     "text": [
      "\t eval rmse: 1.0816\n",
      "\t eval mae: 0.8464\n",
      "\t eval r2: -0.1975\n",
      "==============================\n"
     ]
    },
    {
     "name": "stderr",
     "output_type": "stream",
     "text": [
      "\n"
     ]
    },
    {
     "name": "stdout",
     "output_type": "stream",
     "text": [
      "Epoch 5 elapsed: 0.263s\n"
     ]
    },
    {
     "name": "stderr",
     "output_type": "stream",
     "text": [
      "eval_pred: 100%|███████████████████████████████| 15/15 [00:00<00:00, 482.53it/s]"
     ]
    },
    {
     "name": "stdout",
     "output_type": "stream",
     "text": [
      "\t eval rmse: 1.0841\n",
      "\t eval mae: 0.8461\n",
      "\t eval r2: -0.2030\n",
      "==============================\n"
     ]
    },
    {
     "name": "stderr",
     "output_type": "stream",
     "text": [
      "\n"
     ]
    },
    {
     "name": "stdout",
     "output_type": "stream",
     "text": [
      "Training start time: \u001b[35m2022-07-23 16:02:41\u001b[0m\n",
      "Epoch 1 elapsed: 0.276s\n"
     ]
    },
    {
     "name": "stderr",
     "output_type": "stream",
     "text": [
      "eval_pred: 100%|███████████████████████████████| 15/15 [00:00<00:00, 427.27it/s]"
     ]
    },
    {
     "name": "stdout",
     "output_type": "stream",
     "text": [
      "\t eval rmse: 1.0539\n",
      "\t eval mae: 0.8395\n",
      "\t eval r2: -0.1370\n",
      "==============================\n"
     ]
    },
    {
     "name": "stderr",
     "output_type": "stream",
     "text": [
      "\n"
     ]
    },
    {
     "name": "stdout",
     "output_type": "stream",
     "text": [
      "Epoch 2 elapsed: 0.254s\n"
     ]
    },
    {
     "name": "stderr",
     "output_type": "stream",
     "text": [
      "eval_pred: 100%|███████████████████████████████| 15/15 [00:00<00:00, 689.20it/s]"
     ]
    },
    {
     "name": "stdout",
     "output_type": "stream",
     "text": [
      "\t eval rmse: 1.0745\n",
      "\t eval mae: 0.8498\n",
      "\t eval r2: -0.1818\n",
      "==============================\n"
     ]
    },
    {
     "name": "stderr",
     "output_type": "stream",
     "text": [
      "\n"
     ]
    },
    {
     "name": "stdout",
     "output_type": "stream",
     "text": [
      "Epoch 3 elapsed: 0.291s\n"
     ]
    },
    {
     "name": "stderr",
     "output_type": "stream",
     "text": [
      "eval_pred: 100%|███████████████████████████████| 15/15 [00:00<00:00, 567.11it/s]"
     ]
    },
    {
     "name": "stdout",
     "output_type": "stream",
     "text": [
      "\t eval rmse: 1.0792\n",
      "\t eval mae: 0.8482\n",
      "\t eval r2: -0.1922\n",
      "==============================\n"
     ]
    },
    {
     "name": "stderr",
     "output_type": "stream",
     "text": [
      "\n"
     ]
    },
    {
     "name": "stdout",
     "output_type": "stream",
     "text": [
      "Epoch 4 elapsed: 0.299s\n"
     ]
    },
    {
     "name": "stderr",
     "output_type": "stream",
     "text": [
      "eval_pred: 100%|███████████████████████████████| 15/15 [00:00<00:00, 333.22it/s]"
     ]
    },
    {
     "name": "stdout",
     "output_type": "stream",
     "text": [
      "\t eval rmse: 1.0816\n",
      "\t eval mae: 0.8464\n",
      "\t eval r2: -0.1975\n",
      "==============================\n"
     ]
    },
    {
     "name": "stderr",
     "output_type": "stream",
     "text": [
      "\n"
     ]
    },
    {
     "name": "stdout",
     "output_type": "stream",
     "text": [
      "Epoch 5 elapsed: 0.289s\n"
     ]
    },
    {
     "name": "stderr",
     "output_type": "stream",
     "text": [
      "eval_pred: 100%|███████████████████████████████| 15/15 [00:00<00:00, 473.21it/s]"
     ]
    },
    {
     "name": "stdout",
     "output_type": "stream",
     "text": [
      "\t eval rmse: 1.0841\n",
      "\t eval mae: 0.8461\n",
      "\t eval r2: -0.2030\n",
      "==============================\n"
     ]
    },
    {
     "name": "stderr",
     "output_type": "stream",
     "text": [
      "\n"
     ]
    },
    {
     "name": "stdout",
     "output_type": "stream",
     "text": [
      "Training start time: \u001b[35m2022-07-23 16:02:43\u001b[0m\n",
      "Epoch 1 elapsed: 0.294s\n"
     ]
    },
    {
     "name": "stderr",
     "output_type": "stream",
     "text": [
      "eval_pred: 100%|███████████████████████████████| 15/15 [00:00<00:00, 513.76it/s]"
     ]
    },
    {
     "name": "stdout",
     "output_type": "stream",
     "text": [
      "\t eval rmse: 1.0539\n",
      "\t eval mae: 0.8395\n",
      "\t eval r2: -0.1370\n",
      "==============================\n"
     ]
    },
    {
     "name": "stderr",
     "output_type": "stream",
     "text": [
      "\n"
     ]
    },
    {
     "name": "stdout",
     "output_type": "stream",
     "text": [
      "Epoch 2 elapsed: 0.288s\n"
     ]
    },
    {
     "name": "stderr",
     "output_type": "stream",
     "text": [
      "eval_pred: 100%|███████████████████████████████| 15/15 [00:00<00:00, 741.86it/s]"
     ]
    },
    {
     "name": "stdout",
     "output_type": "stream",
     "text": [
      "\t eval rmse: 1.0745\n",
      "\t eval mae: 0.8498\n",
      "\t eval r2: -0.1818\n",
      "==============================\n"
     ]
    },
    {
     "name": "stderr",
     "output_type": "stream",
     "text": [
      "\n"
     ]
    },
    {
     "name": "stdout",
     "output_type": "stream",
     "text": [
      "Epoch 3 elapsed: 0.284s\n"
     ]
    },
    {
     "name": "stderr",
     "output_type": "stream",
     "text": [
      "eval_pred: 100%|███████████████████████████████| 15/15 [00:00<00:00, 513.30it/s]"
     ]
    },
    {
     "name": "stdout",
     "output_type": "stream",
     "text": [
      "\t eval rmse: 1.0792\n",
      "\t eval mae: 0.8482\n",
      "\t eval r2: -0.1922\n",
      "==============================\n"
     ]
    },
    {
     "name": "stderr",
     "output_type": "stream",
     "text": [
      "\n"
     ]
    },
    {
     "name": "stdout",
     "output_type": "stream",
     "text": [
      "Epoch 4 elapsed: 0.267s\n"
     ]
    },
    {
     "name": "stderr",
     "output_type": "stream",
     "text": [
      "eval_pred: 100%|███████████████████████████████| 15/15 [00:00<00:00, 496.36it/s]"
     ]
    },
    {
     "name": "stdout",
     "output_type": "stream",
     "text": [
      "\t eval rmse: 1.0816\n",
      "\t eval mae: 0.8464\n",
      "\t eval r2: -0.1975\n",
      "==============================\n"
     ]
    },
    {
     "name": "stderr",
     "output_type": "stream",
     "text": [
      "\n"
     ]
    },
    {
     "name": "stdout",
     "output_type": "stream",
     "text": [
      "Epoch 5 elapsed: 0.278s\n"
     ]
    },
    {
     "name": "stderr",
     "output_type": "stream",
     "text": [
      "eval_pred: 100%|███████████████████████████████| 15/15 [00:00<00:00, 477.89it/s]"
     ]
    },
    {
     "name": "stdout",
     "output_type": "stream",
     "text": [
      "\t eval rmse: 1.0841\n",
      "\t eval mae: 0.8461\n",
      "\t eval r2: -0.2030\n",
      "==============================\n"
     ]
    },
    {
     "name": "stderr",
     "output_type": "stream",
     "text": [
      "\n"
     ]
    },
    {
     "name": "stdout",
     "output_type": "stream",
     "text": [
      "Training start time: \u001b[35m2022-07-23 16:02:45\u001b[0m\n",
      "Epoch 1 elapsed: 0.270s\n"
     ]
    },
    {
     "name": "stderr",
     "output_type": "stream",
     "text": [
      "eval_pred: 100%|███████████████████████████████| 15/15 [00:00<00:00, 569.42it/s]"
     ]
    },
    {
     "name": "stdout",
     "output_type": "stream",
     "text": [
      "\t eval rmse: 1.0539\n",
      "\t eval mae: 0.8395\n",
      "\t eval r2: -0.1370\n",
      "==============================\n"
     ]
    },
    {
     "name": "stderr",
     "output_type": "stream",
     "text": [
      "\n"
     ]
    },
    {
     "name": "stdout",
     "output_type": "stream",
     "text": [
      "Epoch 2 elapsed: 0.271s\n"
     ]
    },
    {
     "name": "stderr",
     "output_type": "stream",
     "text": [
      "eval_pred: 100%|███████████████████████████████| 15/15 [00:00<00:00, 472.68it/s]"
     ]
    },
    {
     "name": "stdout",
     "output_type": "stream",
     "text": [
      "\t eval rmse: 1.0745\n",
      "\t eval mae: 0.8498\n",
      "\t eval r2: -0.1818\n",
      "==============================\n"
     ]
    },
    {
     "name": "stderr",
     "output_type": "stream",
     "text": [
      "\n"
     ]
    },
    {
     "name": "stdout",
     "output_type": "stream",
     "text": [
      "Epoch 3 elapsed: 0.292s\n"
     ]
    },
    {
     "name": "stderr",
     "output_type": "stream",
     "text": [
      "eval_pred: 100%|███████████████████████████████| 15/15 [00:00<00:00, 594.84it/s]"
     ]
    },
    {
     "name": "stdout",
     "output_type": "stream",
     "text": [
      "\t eval rmse: 1.0792\n",
      "\t eval mae: 0.8482\n",
      "\t eval r2: -0.1922\n",
      "==============================\n"
     ]
    },
    {
     "name": "stderr",
     "output_type": "stream",
     "text": [
      "\n"
     ]
    },
    {
     "name": "stdout",
     "output_type": "stream",
     "text": [
      "Epoch 4 elapsed: 0.316s\n"
     ]
    },
    {
     "name": "stderr",
     "output_type": "stream",
     "text": [
      "eval_pred: 100%|███████████████████████████████| 15/15 [00:00<00:00, 595.60it/s]"
     ]
    },
    {
     "name": "stdout",
     "output_type": "stream",
     "text": [
      "\t eval rmse: 1.0816\n",
      "\t eval mae: 0.8464\n",
      "\t eval r2: -0.1975\n",
      "==============================\n"
     ]
    },
    {
     "name": "stderr",
     "output_type": "stream",
     "text": [
      "\n"
     ]
    },
    {
     "name": "stdout",
     "output_type": "stream",
     "text": [
      "Epoch 5 elapsed: 0.290s\n"
     ]
    },
    {
     "name": "stderr",
     "output_type": "stream",
     "text": [
      "eval_pred: 100%|███████████████████████████████| 15/15 [00:00<00:00, 589.88it/s]"
     ]
    },
    {
     "name": "stdout",
     "output_type": "stream",
     "text": [
      "\t eval rmse: 1.0841\n",
      "\t eval mae: 0.8461\n",
      "\t eval r2: -0.2030\n",
      "==============================\n"
     ]
    },
    {
     "name": "stderr",
     "output_type": "stream",
     "text": [
      "\n"
     ]
    },
    {
     "name": "stdout",
     "output_type": "stream",
     "text": [
      "Training start time: \u001b[35m2022-07-23 16:02:48\u001b[0m\n",
      "Epoch 1 elapsed: 0.265s\n"
     ]
    },
    {
     "name": "stderr",
     "output_type": "stream",
     "text": [
      "eval_pred: 100%|███████████████████████████████| 15/15 [00:00<00:00, 503.68it/s]"
     ]
    },
    {
     "name": "stdout",
     "output_type": "stream",
     "text": [
      "\t eval rmse: 1.0539\n",
      "\t eval mae: 0.8395\n",
      "\t eval r2: -0.1370\n",
      "==============================\n"
     ]
    },
    {
     "name": "stderr",
     "output_type": "stream",
     "text": [
      "\n"
     ]
    },
    {
     "name": "stdout",
     "output_type": "stream",
     "text": [
      "Epoch 2 elapsed: 0.305s\n"
     ]
    },
    {
     "name": "stderr",
     "output_type": "stream",
     "text": [
      "eval_pred: 100%|███████████████████████████████| 15/15 [00:00<00:00, 497.41it/s]"
     ]
    },
    {
     "name": "stdout",
     "output_type": "stream",
     "text": [
      "\t eval rmse: 1.0745\n",
      "\t eval mae: 0.8498\n",
      "\t eval r2: -0.1818\n",
      "==============================\n"
     ]
    },
    {
     "name": "stderr",
     "output_type": "stream",
     "text": [
      "\n"
     ]
    },
    {
     "name": "stdout",
     "output_type": "stream",
     "text": [
      "Epoch 3 elapsed: 0.321s\n"
     ]
    },
    {
     "name": "stderr",
     "output_type": "stream",
     "text": [
      "eval_pred: 100%|███████████████████████████████| 15/15 [00:00<00:00, 500.22it/s]"
     ]
    },
    {
     "name": "stdout",
     "output_type": "stream",
     "text": [
      "\t eval rmse: 1.0792\n",
      "\t eval mae: 0.8482\n",
      "\t eval r2: -0.1922\n",
      "==============================\n"
     ]
    },
    {
     "name": "stderr",
     "output_type": "stream",
     "text": [
      "\n"
     ]
    },
    {
     "name": "stdout",
     "output_type": "stream",
     "text": [
      "Epoch 4 elapsed: 0.278s\n"
     ]
    },
    {
     "name": "stderr",
     "output_type": "stream",
     "text": [
      "eval_pred: 100%|███████████████████████████████| 15/15 [00:00<00:00, 610.05it/s]"
     ]
    },
    {
     "name": "stdout",
     "output_type": "stream",
     "text": [
      "\t eval rmse: 1.0816\n",
      "\t eval mae: 0.8464\n",
      "\t eval r2: -0.1975\n",
      "==============================\n"
     ]
    },
    {
     "name": "stderr",
     "output_type": "stream",
     "text": [
      "\n"
     ]
    },
    {
     "name": "stdout",
     "output_type": "stream",
     "text": [
      "Epoch 5 elapsed: 0.288s\n"
     ]
    },
    {
     "name": "stderr",
     "output_type": "stream",
     "text": [
      "eval_pred: 100%|███████████████████████████████| 15/15 [00:00<00:00, 456.65it/s]"
     ]
    },
    {
     "name": "stdout",
     "output_type": "stream",
     "text": [
      "\t eval rmse: 1.0841\n",
      "\t eval mae: 0.8461\n",
      "\t eval r2: -0.2030\n",
      "==============================\n"
     ]
    },
    {
     "name": "stderr",
     "output_type": "stream",
     "text": [
      "\n"
     ]
    },
    {
     "name": "stdout",
     "output_type": "stream",
     "text": [
      "Training start time: \u001b[35m2022-07-23 16:02:50\u001b[0m\n",
      "Epoch 1 elapsed: 0.272s\n"
     ]
    },
    {
     "name": "stderr",
     "output_type": "stream",
     "text": [
      "eval_pred: 100%|███████████████████████████████| 15/15 [00:00<00:00, 448.89it/s]"
     ]
    },
    {
     "name": "stdout",
     "output_type": "stream",
     "text": [
      "\t eval rmse: 1.0448\n",
      "\t eval mae: 0.8327\n",
      "\t eval r2: -0.1173\n",
      "==============================\n"
     ]
    },
    {
     "name": "stderr",
     "output_type": "stream",
     "text": [
      "\n"
     ]
    },
    {
     "name": "stdout",
     "output_type": "stream",
     "text": [
      "Epoch 2 elapsed: 0.288s\n"
     ]
    },
    {
     "name": "stderr",
     "output_type": "stream",
     "text": [
      "eval_pred: 100%|███████████████████████████████| 15/15 [00:00<00:00, 451.26it/s]"
     ]
    },
    {
     "name": "stdout",
     "output_type": "stream",
     "text": [
      "\t eval rmse: 1.0771\n",
      "\t eval mae: 0.8511\n",
      "\t eval r2: -0.1874\n",
      "==============================\n"
     ]
    },
    {
     "name": "stderr",
     "output_type": "stream",
     "text": [
      "\n"
     ]
    },
    {
     "name": "stdout",
     "output_type": "stream",
     "text": [
      "Epoch 3 elapsed: 0.264s\n"
     ]
    },
    {
     "name": "stderr",
     "output_type": "stream",
     "text": [
      "eval_pred: 100%|███████████████████████████████| 15/15 [00:00<00:00, 629.56it/s]"
     ]
    },
    {
     "name": "stdout",
     "output_type": "stream",
     "text": [
      "\t eval rmse: 1.0811\n",
      "\t eval mae: 0.8491\n",
      "\t eval r2: -0.1964\n",
      "==============================\n"
     ]
    },
    {
     "name": "stderr",
     "output_type": "stream",
     "text": [
      "\n"
     ]
    },
    {
     "name": "stdout",
     "output_type": "stream",
     "text": [
      "Epoch 4 elapsed: 0.294s\n"
     ]
    },
    {
     "name": "stderr",
     "output_type": "stream",
     "text": [
      "eval_pred: 100%|███████████████████████████████| 15/15 [00:00<00:00, 505.59it/s]"
     ]
    },
    {
     "name": "stdout",
     "output_type": "stream",
     "text": [
      "\t eval rmse: 1.0832\n",
      "\t eval mae: 0.8472\n",
      "\t eval r2: -0.2010\n",
      "==============================\n"
     ]
    },
    {
     "name": "stderr",
     "output_type": "stream",
     "text": [
      "\n"
     ]
    },
    {
     "name": "stdout",
     "output_type": "stream",
     "text": [
      "Epoch 5 elapsed: 0.315s\n"
     ]
    },
    {
     "name": "stderr",
     "output_type": "stream",
     "text": [
      "eval_pred: 100%|███████████████████████████████| 15/15 [00:00<00:00, 591.37it/s]"
     ]
    },
    {
     "name": "stdout",
     "output_type": "stream",
     "text": [
      "\t eval rmse: 1.0853\n",
      "\t eval mae: 0.8466\n",
      "\t eval r2: -0.2057\n",
      "==============================\n"
     ]
    },
    {
     "name": "stderr",
     "output_type": "stream",
     "text": [
      "\n"
     ]
    },
    {
     "name": "stdout",
     "output_type": "stream",
     "text": [
      "Training start time: \u001b[35m2022-07-23 16:02:52\u001b[0m\n",
      "Epoch 1 elapsed: 0.250s\n"
     ]
    },
    {
     "name": "stderr",
     "output_type": "stream",
     "text": [
      "eval_pred: 100%|███████████████████████████████| 15/15 [00:00<00:00, 561.21it/s]"
     ]
    },
    {
     "name": "stdout",
     "output_type": "stream",
     "text": [
      "\t eval rmse: 1.0448\n",
      "\t eval mae: 0.8327\n",
      "\t eval r2: -0.1173\n",
      "==============================\n"
     ]
    },
    {
     "name": "stderr",
     "output_type": "stream",
     "text": [
      "\n"
     ]
    },
    {
     "name": "stdout",
     "output_type": "stream",
     "text": [
      "Epoch 2 elapsed: 0.255s\n"
     ]
    },
    {
     "name": "stderr",
     "output_type": "stream",
     "text": [
      "eval_pred: 100%|███████████████████████████████| 15/15 [00:00<00:00, 511.02it/s]"
     ]
    },
    {
     "name": "stdout",
     "output_type": "stream",
     "text": [
      "\t eval rmse: 1.0771\n",
      "\t eval mae: 0.8511\n",
      "\t eval r2: -0.1874\n",
      "==============================\n"
     ]
    },
    {
     "name": "stderr",
     "output_type": "stream",
     "text": [
      "\n"
     ]
    },
    {
     "name": "stdout",
     "output_type": "stream",
     "text": [
      "Epoch 3 elapsed: 0.274s\n"
     ]
    },
    {
     "name": "stderr",
     "output_type": "stream",
     "text": [
      "eval_pred: 100%|███████████████████████████████| 15/15 [00:00<00:00, 543.56it/s]"
     ]
    },
    {
     "name": "stdout",
     "output_type": "stream",
     "text": [
      "\t eval rmse: 1.0811\n",
      "\t eval mae: 0.8491\n",
      "\t eval r2: -0.1964\n",
      "==============================\n"
     ]
    },
    {
     "name": "stderr",
     "output_type": "stream",
     "text": [
      "\n"
     ]
    },
    {
     "name": "stdout",
     "output_type": "stream",
     "text": [
      "Epoch 4 elapsed: 0.313s\n"
     ]
    },
    {
     "name": "stderr",
     "output_type": "stream",
     "text": [
      "eval_pred: 100%|███████████████████████████████| 15/15 [00:00<00:00, 432.31it/s]"
     ]
    },
    {
     "name": "stdout",
     "output_type": "stream",
     "text": [
      "\t eval rmse: 1.0832\n",
      "\t eval mae: 0.8472\n",
      "\t eval r2: -0.2010\n",
      "==============================\n"
     ]
    },
    {
     "name": "stderr",
     "output_type": "stream",
     "text": [
      "\n"
     ]
    },
    {
     "name": "stdout",
     "output_type": "stream",
     "text": [
      "Epoch 5 elapsed: 0.282s\n"
     ]
    },
    {
     "name": "stderr",
     "output_type": "stream",
     "text": [
      "eval_pred: 100%|███████████████████████████████| 15/15 [00:00<00:00, 535.01it/s]"
     ]
    },
    {
     "name": "stdout",
     "output_type": "stream",
     "text": [
      "\t eval rmse: 1.0853\n",
      "\t eval mae: 0.8466\n",
      "\t eval r2: -0.2057\n",
      "==============================\n"
     ]
    },
    {
     "name": "stderr",
     "output_type": "stream",
     "text": [
      "\n"
     ]
    },
    {
     "name": "stdout",
     "output_type": "stream",
     "text": [
      "Training start time: \u001b[35m2022-07-23 16:02:54\u001b[0m\n",
      "Epoch 1 elapsed: 0.261s\n"
     ]
    },
    {
     "name": "stderr",
     "output_type": "stream",
     "text": [
      "eval_pred: 100%|███████████████████████████████| 15/15 [00:00<00:00, 400.34it/s]"
     ]
    },
    {
     "name": "stdout",
     "output_type": "stream",
     "text": [
      "\t eval rmse: 1.0448\n",
      "\t eval mae: 0.8327\n",
      "\t eval r2: -0.1173\n",
      "==============================\n"
     ]
    },
    {
     "name": "stderr",
     "output_type": "stream",
     "text": [
      "\n"
     ]
    },
    {
     "name": "stdout",
     "output_type": "stream",
     "text": [
      "Epoch 2 elapsed: 0.290s\n"
     ]
    },
    {
     "name": "stderr",
     "output_type": "stream",
     "text": [
      "eval_pred: 100%|███████████████████████████████| 15/15 [00:00<00:00, 576.86it/s]"
     ]
    },
    {
     "name": "stdout",
     "output_type": "stream",
     "text": [
      "\t eval rmse: 1.0771\n",
      "\t eval mae: 0.8511\n",
      "\t eval r2: -0.1874\n",
      "==============================\n"
     ]
    },
    {
     "name": "stderr",
     "output_type": "stream",
     "text": [
      "\n"
     ]
    },
    {
     "name": "stdout",
     "output_type": "stream",
     "text": [
      "Epoch 3 elapsed: 0.277s\n"
     ]
    },
    {
     "name": "stderr",
     "output_type": "stream",
     "text": [
      "eval_pred: 100%|███████████████████████████████| 15/15 [00:00<00:00, 508.00it/s]"
     ]
    },
    {
     "name": "stdout",
     "output_type": "stream",
     "text": [
      "\t eval rmse: 1.0811\n",
      "\t eval mae: 0.8491\n",
      "\t eval r2: -0.1964\n",
      "==============================\n"
     ]
    },
    {
     "name": "stderr",
     "output_type": "stream",
     "text": [
      "\n"
     ]
    },
    {
     "name": "stdout",
     "output_type": "stream",
     "text": [
      "Epoch 4 elapsed: 0.281s\n"
     ]
    },
    {
     "name": "stderr",
     "output_type": "stream",
     "text": [
      "eval_pred: 100%|███████████████████████████████| 15/15 [00:00<00:00, 582.13it/s]"
     ]
    },
    {
     "name": "stdout",
     "output_type": "stream",
     "text": [
      "\t eval rmse: 1.0832\n",
      "\t eval mae: 0.8472\n",
      "\t eval r2: -0.2010\n",
      "==============================\n"
     ]
    },
    {
     "name": "stderr",
     "output_type": "stream",
     "text": [
      "\n"
     ]
    },
    {
     "name": "stdout",
     "output_type": "stream",
     "text": [
      "Epoch 5 elapsed: 0.300s\n"
     ]
    },
    {
     "name": "stderr",
     "output_type": "stream",
     "text": [
      "eval_pred: 100%|███████████████████████████████| 15/15 [00:00<00:00, 373.77it/s]"
     ]
    },
    {
     "name": "stdout",
     "output_type": "stream",
     "text": [
      "\t eval rmse: 1.0853\n",
      "\t eval mae: 0.8466\n",
      "\t eval r2: -0.2057\n",
      "==============================\n"
     ]
    },
    {
     "name": "stderr",
     "output_type": "stream",
     "text": [
      "\n"
     ]
    },
    {
     "name": "stdout",
     "output_type": "stream",
     "text": [
      "Training start time: \u001b[35m2022-07-23 16:02:57\u001b[0m\n",
      "Epoch 1 elapsed: 0.311s\n"
     ]
    },
    {
     "name": "stderr",
     "output_type": "stream",
     "text": [
      "eval_pred: 100%|███████████████████████████████| 15/15 [00:00<00:00, 572.14it/s]"
     ]
    },
    {
     "name": "stdout",
     "output_type": "stream",
     "text": [
      "\t eval rmse: 1.0448\n",
      "\t eval mae: 0.8327\n",
      "\t eval r2: -0.1173\n",
      "==============================\n"
     ]
    },
    {
     "name": "stderr",
     "output_type": "stream",
     "text": [
      "\n"
     ]
    },
    {
     "name": "stdout",
     "output_type": "stream",
     "text": [
      "Epoch 2 elapsed: 0.311s\n"
     ]
    },
    {
     "name": "stderr",
     "output_type": "stream",
     "text": [
      "eval_pred: 100%|███████████████████████████████| 15/15 [00:00<00:00, 538.95it/s]"
     ]
    },
    {
     "name": "stdout",
     "output_type": "stream",
     "text": [
      "\t eval rmse: 1.0771\n",
      "\t eval mae: 0.8511\n",
      "\t eval r2: -0.1874\n",
      "==============================\n"
     ]
    },
    {
     "name": "stderr",
     "output_type": "stream",
     "text": [
      "\n"
     ]
    },
    {
     "name": "stdout",
     "output_type": "stream",
     "text": [
      "Epoch 3 elapsed: 0.281s\n"
     ]
    },
    {
     "name": "stderr",
     "output_type": "stream",
     "text": [
      "eval_pred: 100%|███████████████████████████████| 15/15 [00:00<00:00, 718.28it/s]"
     ]
    },
    {
     "name": "stdout",
     "output_type": "stream",
     "text": [
      "\t eval rmse: 1.0811\n",
      "\t eval mae: 0.8491\n",
      "\t eval r2: -0.1964\n",
      "==============================\n"
     ]
    },
    {
     "name": "stderr",
     "output_type": "stream",
     "text": [
      "\n"
     ]
    },
    {
     "name": "stdout",
     "output_type": "stream",
     "text": [
      "Epoch 4 elapsed: 0.296s\n"
     ]
    },
    {
     "name": "stderr",
     "output_type": "stream",
     "text": [
      "eval_pred: 100%|███████████████████████████████| 15/15 [00:00<00:00, 439.19it/s]"
     ]
    },
    {
     "name": "stdout",
     "output_type": "stream",
     "text": [
      "\t eval rmse: 1.0832\n",
      "\t eval mae: 0.8472\n",
      "\t eval r2: -0.2010\n",
      "==============================\n"
     ]
    },
    {
     "name": "stderr",
     "output_type": "stream",
     "text": [
      "\n"
     ]
    },
    {
     "name": "stdout",
     "output_type": "stream",
     "text": [
      "Epoch 5 elapsed: 0.284s\n"
     ]
    },
    {
     "name": "stderr",
     "output_type": "stream",
     "text": [
      "eval_pred: 100%|███████████████████████████████| 15/15 [00:00<00:00, 466.44it/s]"
     ]
    },
    {
     "name": "stdout",
     "output_type": "stream",
     "text": [
      "\t eval rmse: 1.0853\n",
      "\t eval mae: 0.8466\n",
      "\t eval r2: -0.2057\n",
      "==============================\n"
     ]
    },
    {
     "name": "stderr",
     "output_type": "stream",
     "text": [
      "\n"
     ]
    },
    {
     "name": "stdout",
     "output_type": "stream",
     "text": [
      "Training start time: \u001b[35m2022-07-23 16:02:59\u001b[0m\n",
      "Epoch 1 elapsed: 0.351s\n"
     ]
    },
    {
     "name": "stderr",
     "output_type": "stream",
     "text": [
      "eval_pred: 100%|███████████████████████████████| 15/15 [00:00<00:00, 648.99it/s]"
     ]
    },
    {
     "name": "stdout",
     "output_type": "stream",
     "text": [
      "\t eval rmse: 1.0448\n",
      "\t eval mae: 0.8327\n",
      "\t eval r2: -0.1173\n",
      "==============================\n"
     ]
    },
    {
     "name": "stderr",
     "output_type": "stream",
     "text": [
      "\n"
     ]
    },
    {
     "name": "stdout",
     "output_type": "stream",
     "text": [
      "Epoch 2 elapsed: 0.342s\n"
     ]
    },
    {
     "name": "stderr",
     "output_type": "stream",
     "text": [
      "eval_pred: 100%|███████████████████████████████| 15/15 [00:00<00:00, 552.83it/s]"
     ]
    },
    {
     "name": "stdout",
     "output_type": "stream",
     "text": [
      "\t eval rmse: 1.0771\n",
      "\t eval mae: 0.8511\n",
      "\t eval r2: -0.1874\n",
      "==============================\n"
     ]
    },
    {
     "name": "stderr",
     "output_type": "stream",
     "text": [
      "\n"
     ]
    },
    {
     "name": "stdout",
     "output_type": "stream",
     "text": [
      "Epoch 3 elapsed: 0.421s\n"
     ]
    },
    {
     "name": "stderr",
     "output_type": "stream",
     "text": [
      "eval_pred: 100%|███████████████████████████████| 15/15 [00:00<00:00, 512.65it/s]"
     ]
    },
    {
     "name": "stdout",
     "output_type": "stream",
     "text": [
      "\t eval rmse: 1.0811\n",
      "\t eval mae: 0.8491\n",
      "\t eval r2: -0.1964\n",
      "==============================\n"
     ]
    },
    {
     "name": "stderr",
     "output_type": "stream",
     "text": [
      "\n"
     ]
    },
    {
     "name": "stdout",
     "output_type": "stream",
     "text": [
      "Epoch 4 elapsed: 0.341s\n"
     ]
    },
    {
     "name": "stderr",
     "output_type": "stream",
     "text": [
      "eval_pred: 100%|███████████████████████████████| 15/15 [00:00<00:00, 508.02it/s]"
     ]
    },
    {
     "name": "stdout",
     "output_type": "stream",
     "text": [
      "\t eval rmse: 1.0832\n",
      "\t eval mae: 0.8472\n",
      "\t eval r2: -0.2010\n",
      "==============================\n"
     ]
    },
    {
     "name": "stderr",
     "output_type": "stream",
     "text": [
      "\n"
     ]
    },
    {
     "name": "stdout",
     "output_type": "stream",
     "text": [
      "Epoch 5 elapsed: 0.383s\n"
     ]
    },
    {
     "name": "stderr",
     "output_type": "stream",
     "text": [
      "eval_pred: 100%|███████████████████████████████| 15/15 [00:00<00:00, 542.17it/s]"
     ]
    },
    {
     "name": "stdout",
     "output_type": "stream",
     "text": [
      "\t eval rmse: 1.0853\n",
      "\t eval mae: 0.8466\n",
      "\t eval r2: -0.2057\n",
      "==============================\n"
     ]
    },
    {
     "name": "stderr",
     "output_type": "stream",
     "text": [
      "\n"
     ]
    },
    {
     "name": "stdout",
     "output_type": "stream",
     "text": [
      "Training start time: \u001b[35m2022-07-23 16:03:02\u001b[0m\n",
      "Epoch 1 elapsed: 0.311s\n"
     ]
    },
    {
     "name": "stderr",
     "output_type": "stream",
     "text": [
      "eval_pred: 100%|███████████████████████████████| 15/15 [00:00<00:00, 345.39it/s]"
     ]
    },
    {
     "name": "stdout",
     "output_type": "stream",
     "text": [
      "\t eval rmse: 1.0414\n",
      "\t eval mae: 0.8303\n",
      "\t eval r2: -0.1101\n",
      "==============================\n"
     ]
    },
    {
     "name": "stderr",
     "output_type": "stream",
     "text": [
      "\n"
     ]
    },
    {
     "name": "stdout",
     "output_type": "stream",
     "text": [
      "Epoch 2 elapsed: 0.298s\n"
     ]
    },
    {
     "name": "stderr",
     "output_type": "stream",
     "text": [
      "eval_pred: 100%|███████████████████████████████| 15/15 [00:00<00:00, 490.80it/s]"
     ]
    },
    {
     "name": "stdout",
     "output_type": "stream",
     "text": [
      "\t eval rmse: 1.0785\n",
      "\t eval mae: 0.8521\n",
      "\t eval r2: -0.1906\n",
      "==============================\n"
     ]
    },
    {
     "name": "stderr",
     "output_type": "stream",
     "text": [
      "\n"
     ]
    },
    {
     "name": "stdout",
     "output_type": "stream",
     "text": [
      "Epoch 3 elapsed: 0.303s\n"
     ]
    },
    {
     "name": "stderr",
     "output_type": "stream",
     "text": [
      "eval_pred: 100%|███████████████████████████████| 15/15 [00:00<00:00, 569.38it/s]"
     ]
    },
    {
     "name": "stdout",
     "output_type": "stream",
     "text": [
      "\t eval rmse: 1.0819\n",
      "\t eval mae: 0.8495\n",
      "\t eval r2: -0.1981\n",
      "==============================\n"
     ]
    },
    {
     "name": "stderr",
     "output_type": "stream",
     "text": [
      "\n"
     ]
    },
    {
     "name": "stdout",
     "output_type": "stream",
     "text": [
      "Epoch 4 elapsed: 0.282s\n"
     ]
    },
    {
     "name": "stderr",
     "output_type": "stream",
     "text": [
      "eval_pred: 100%|███████████████████████████████| 15/15 [00:00<00:00, 401.88it/s]"
     ]
    },
    {
     "name": "stdout",
     "output_type": "stream",
     "text": [
      "\t eval rmse: 1.0832\n",
      "\t eval mae: 0.8471\n",
      "\t eval r2: -0.2010\n",
      "==============================\n"
     ]
    },
    {
     "name": "stderr",
     "output_type": "stream",
     "text": [
      "\n"
     ]
    },
    {
     "name": "stdout",
     "output_type": "stream",
     "text": [
      "Epoch 5 elapsed: 0.295s\n"
     ]
    },
    {
     "name": "stderr",
     "output_type": "stream",
     "text": [
      "eval_pred: 100%|███████████████████████████████| 15/15 [00:00<00:00, 404.95it/s]"
     ]
    },
    {
     "name": "stdout",
     "output_type": "stream",
     "text": [
      "\t eval rmse: 1.0844\n",
      "\t eval mae: 0.8459\n",
      "\t eval r2: -0.2037\n",
      "==============================\n"
     ]
    },
    {
     "name": "stderr",
     "output_type": "stream",
     "text": [
      "\n"
     ]
    },
    {
     "name": "stdout",
     "output_type": "stream",
     "text": [
      "Training start time: \u001b[35m2022-07-23 16:03:04\u001b[0m\n",
      "Epoch 1 elapsed: 0.259s\n"
     ]
    },
    {
     "name": "stderr",
     "output_type": "stream",
     "text": [
      "eval_pred: 100%|███████████████████████████████| 15/15 [00:00<00:00, 507.33it/s]"
     ]
    },
    {
     "name": "stdout",
     "output_type": "stream",
     "text": [
      "\t eval rmse: 1.0414\n",
      "\t eval mae: 0.8303\n",
      "\t eval r2: -0.1101\n",
      "==============================\n"
     ]
    },
    {
     "name": "stderr",
     "output_type": "stream",
     "text": [
      "\n"
     ]
    },
    {
     "name": "stdout",
     "output_type": "stream",
     "text": [
      "Epoch 2 elapsed: 0.292s\n"
     ]
    },
    {
     "name": "stderr",
     "output_type": "stream",
     "text": [
      "eval_pred: 100%|███████████████████████████████| 15/15 [00:00<00:00, 578.56it/s]"
     ]
    },
    {
     "name": "stdout",
     "output_type": "stream",
     "text": [
      "\t eval rmse: 1.0785\n",
      "\t eval mae: 0.8521\n",
      "\t eval r2: -0.1906\n",
      "==============================\n"
     ]
    },
    {
     "name": "stderr",
     "output_type": "stream",
     "text": [
      "\n"
     ]
    },
    {
     "name": "stdout",
     "output_type": "stream",
     "text": [
      "Epoch 3 elapsed: 0.298s\n"
     ]
    },
    {
     "name": "stderr",
     "output_type": "stream",
     "text": [
      "eval_pred: 100%|███████████████████████████████| 15/15 [00:00<00:00, 628.94it/s]"
     ]
    },
    {
     "name": "stdout",
     "output_type": "stream",
     "text": [
      "\t eval rmse: 1.0819\n",
      "\t eval mae: 0.8495\n",
      "\t eval r2: -0.1981\n",
      "==============================\n"
     ]
    },
    {
     "name": "stderr",
     "output_type": "stream",
     "text": [
      "\n"
     ]
    },
    {
     "name": "stdout",
     "output_type": "stream",
     "text": [
      "Epoch 4 elapsed: 0.277s\n"
     ]
    },
    {
     "name": "stderr",
     "output_type": "stream",
     "text": [
      "eval_pred: 100%|███████████████████████████████| 15/15 [00:00<00:00, 327.90it/s]"
     ]
    },
    {
     "name": "stdout",
     "output_type": "stream",
     "text": [
      "\t eval rmse: 1.0832\n",
      "\t eval mae: 0.8471\n",
      "\t eval r2: -0.2010\n",
      "==============================\n"
     ]
    },
    {
     "name": "stderr",
     "output_type": "stream",
     "text": [
      "\n"
     ]
    },
    {
     "name": "stdout",
     "output_type": "stream",
     "text": [
      "Epoch 5 elapsed: 0.272s\n"
     ]
    },
    {
     "name": "stderr",
     "output_type": "stream",
     "text": [
      "eval_pred: 100%|███████████████████████████████| 15/15 [00:00<00:00, 590.96it/s]"
     ]
    },
    {
     "name": "stdout",
     "output_type": "stream",
     "text": [
      "\t eval rmse: 1.0844\n",
      "\t eval mae: 0.8459\n",
      "\t eval r2: -0.2037\n",
      "==============================\n"
     ]
    },
    {
     "name": "stderr",
     "output_type": "stream",
     "text": [
      "\n"
     ]
    },
    {
     "name": "stdout",
     "output_type": "stream",
     "text": [
      "Training start time: \u001b[35m2022-07-23 16:03:06\u001b[0m\n",
      "Epoch 1 elapsed: 0.277s\n"
     ]
    },
    {
     "name": "stderr",
     "output_type": "stream",
     "text": [
      "eval_pred: 100%|███████████████████████████████| 15/15 [00:00<00:00, 539.81it/s]"
     ]
    },
    {
     "name": "stdout",
     "output_type": "stream",
     "text": [
      "\t eval rmse: 1.0414\n",
      "\t eval mae: 0.8303\n",
      "\t eval r2: -0.1101\n",
      "==============================\n"
     ]
    },
    {
     "name": "stderr",
     "output_type": "stream",
     "text": [
      "\n"
     ]
    },
    {
     "name": "stdout",
     "output_type": "stream",
     "text": [
      "Epoch 2 elapsed: 0.295s\n"
     ]
    },
    {
     "name": "stderr",
     "output_type": "stream",
     "text": [
      "eval_pred: 100%|███████████████████████████████| 15/15 [00:00<00:00, 490.34it/s]"
     ]
    },
    {
     "name": "stdout",
     "output_type": "stream",
     "text": [
      "\t eval rmse: 1.0785\n",
      "\t eval mae: 0.8521\n",
      "\t eval r2: -0.1906\n",
      "==============================\n"
     ]
    },
    {
     "name": "stderr",
     "output_type": "stream",
     "text": [
      "\n"
     ]
    },
    {
     "name": "stdout",
     "output_type": "stream",
     "text": [
      "Epoch 3 elapsed: 0.295s\n"
     ]
    },
    {
     "name": "stderr",
     "output_type": "stream",
     "text": [
      "eval_pred: 100%|███████████████████████████████| 15/15 [00:00<00:00, 640.91it/s]"
     ]
    },
    {
     "name": "stdout",
     "output_type": "stream",
     "text": [
      "\t eval rmse: 1.0819\n",
      "\t eval mae: 0.8495\n",
      "\t eval r2: -0.1981\n",
      "==============================\n"
     ]
    },
    {
     "name": "stderr",
     "output_type": "stream",
     "text": [
      "\n"
     ]
    },
    {
     "name": "stdout",
     "output_type": "stream",
     "text": [
      "Epoch 4 elapsed: 0.280s\n"
     ]
    },
    {
     "name": "stderr",
     "output_type": "stream",
     "text": [
      "eval_pred: 100%|███████████████████████████████| 15/15 [00:00<00:00, 407.77it/s]"
     ]
    },
    {
     "name": "stdout",
     "output_type": "stream",
     "text": [
      "\t eval rmse: 1.0832\n",
      "\t eval mae: 0.8471\n",
      "\t eval r2: -0.2010\n",
      "==============================\n"
     ]
    },
    {
     "name": "stderr",
     "output_type": "stream",
     "text": [
      "\n"
     ]
    },
    {
     "name": "stdout",
     "output_type": "stream",
     "text": [
      "Epoch 5 elapsed: 0.291s\n"
     ]
    },
    {
     "name": "stderr",
     "output_type": "stream",
     "text": [
      "eval_pred: 100%|███████████████████████████████| 15/15 [00:00<00:00, 516.28it/s]"
     ]
    },
    {
     "name": "stdout",
     "output_type": "stream",
     "text": [
      "\t eval rmse: 1.0844\n",
      "\t eval mae: 0.8459\n",
      "\t eval r2: -0.2037\n",
      "==============================\n"
     ]
    },
    {
     "name": "stderr",
     "output_type": "stream",
     "text": [
      "\n"
     ]
    },
    {
     "name": "stdout",
     "output_type": "stream",
     "text": [
      "Training start time: \u001b[35m2022-07-23 16:03:09\u001b[0m\n",
      "Epoch 1 elapsed: 0.263s\n"
     ]
    },
    {
     "name": "stderr",
     "output_type": "stream",
     "text": [
      "eval_pred: 100%|███████████████████████████████| 15/15 [00:00<00:00, 548.93it/s]"
     ]
    },
    {
     "name": "stdout",
     "output_type": "stream",
     "text": [
      "\t eval rmse: 1.0414\n",
      "\t eval mae: 0.8303\n",
      "\t eval r2: -0.1101\n",
      "==============================\n"
     ]
    },
    {
     "name": "stderr",
     "output_type": "stream",
     "text": [
      "\n"
     ]
    },
    {
     "name": "stdout",
     "output_type": "stream",
     "text": [
      "Epoch 2 elapsed: 0.303s\n"
     ]
    },
    {
     "name": "stderr",
     "output_type": "stream",
     "text": [
      "eval_pred: 100%|███████████████████████████████| 15/15 [00:00<00:00, 570.49it/s]"
     ]
    },
    {
     "name": "stdout",
     "output_type": "stream",
     "text": [
      "\t eval rmse: 1.0785\n",
      "\t eval mae: 0.8521\n",
      "\t eval r2: -0.1906\n",
      "==============================\n"
     ]
    },
    {
     "name": "stderr",
     "output_type": "stream",
     "text": [
      "\n"
     ]
    },
    {
     "name": "stdout",
     "output_type": "stream",
     "text": [
      "Epoch 3 elapsed: 0.310s\n"
     ]
    },
    {
     "name": "stderr",
     "output_type": "stream",
     "text": [
      "eval_pred: 100%|███████████████████████████████| 15/15 [00:00<00:00, 388.53it/s]"
     ]
    },
    {
     "name": "stdout",
     "output_type": "stream",
     "text": [
      "\t eval rmse: 1.0819\n",
      "\t eval mae: 0.8495\n",
      "\t eval r2: -0.1981\n",
      "==============================\n"
     ]
    },
    {
     "name": "stderr",
     "output_type": "stream",
     "text": [
      "\n"
     ]
    },
    {
     "name": "stdout",
     "output_type": "stream",
     "text": [
      "Epoch 4 elapsed: 0.318s\n"
     ]
    },
    {
     "name": "stderr",
     "output_type": "stream",
     "text": [
      "eval_pred: 100%|███████████████████████████████| 15/15 [00:00<00:00, 594.80it/s]"
     ]
    },
    {
     "name": "stdout",
     "output_type": "stream",
     "text": [
      "\t eval rmse: 1.0832\n",
      "\t eval mae: 0.8471\n",
      "\t eval r2: -0.2010\n",
      "==============================\n"
     ]
    },
    {
     "name": "stderr",
     "output_type": "stream",
     "text": [
      "\n"
     ]
    },
    {
     "name": "stdout",
     "output_type": "stream",
     "text": [
      "Epoch 5 elapsed: 0.300s\n"
     ]
    },
    {
     "name": "stderr",
     "output_type": "stream",
     "text": [
      "eval_pred: 100%|███████████████████████████████| 15/15 [00:00<00:00, 455.42it/s]"
     ]
    },
    {
     "name": "stdout",
     "output_type": "stream",
     "text": [
      "\t eval rmse: 1.0844\n",
      "\t eval mae: 0.8459\n",
      "\t eval r2: -0.2037\n",
      "==============================\n"
     ]
    },
    {
     "name": "stderr",
     "output_type": "stream",
     "text": [
      "\n"
     ]
    },
    {
     "name": "stdout",
     "output_type": "stream",
     "text": [
      "Training start time: \u001b[35m2022-07-23 16:03:11\u001b[0m\n",
      "Epoch 1 elapsed: 0.268s\n"
     ]
    },
    {
     "name": "stderr",
     "output_type": "stream",
     "text": [
      "eval_pred: 100%|███████████████████████████████| 15/15 [00:00<00:00, 487.53it/s]"
     ]
    },
    {
     "name": "stdout",
     "output_type": "stream",
     "text": [
      "\t eval rmse: 1.0414\n",
      "\t eval mae: 0.8303\n",
      "\t eval r2: -0.1101\n",
      "==============================\n"
     ]
    },
    {
     "name": "stderr",
     "output_type": "stream",
     "text": [
      "\n"
     ]
    },
    {
     "name": "stdout",
     "output_type": "stream",
     "text": [
      "Epoch 2 elapsed: 0.313s\n"
     ]
    },
    {
     "name": "stderr",
     "output_type": "stream",
     "text": [
      "eval_pred: 100%|███████████████████████████████| 15/15 [00:00<00:00, 410.57it/s]"
     ]
    },
    {
     "name": "stdout",
     "output_type": "stream",
     "text": [
      "\t eval rmse: 1.0785\n",
      "\t eval mae: 0.8521\n",
      "\t eval r2: -0.1906\n",
      "==============================\n"
     ]
    },
    {
     "name": "stderr",
     "output_type": "stream",
     "text": [
      "\n"
     ]
    },
    {
     "name": "stdout",
     "output_type": "stream",
     "text": [
      "Epoch 3 elapsed: 0.259s\n"
     ]
    },
    {
     "name": "stderr",
     "output_type": "stream",
     "text": [
      "eval_pred: 100%|███████████████████████████████| 15/15 [00:00<00:00, 404.27it/s]"
     ]
    },
    {
     "name": "stdout",
     "output_type": "stream",
     "text": [
      "\t eval rmse: 1.0819\n",
      "\t eval mae: 0.8495\n",
      "\t eval r2: -0.1981\n",
      "==============================\n"
     ]
    },
    {
     "name": "stderr",
     "output_type": "stream",
     "text": [
      "\n"
     ]
    },
    {
     "name": "stdout",
     "output_type": "stream",
     "text": [
      "Epoch 4 elapsed: 0.277s\n"
     ]
    },
    {
     "name": "stderr",
     "output_type": "stream",
     "text": [
      "eval_pred: 100%|███████████████████████████████| 15/15 [00:00<00:00, 460.01it/s]"
     ]
    },
    {
     "name": "stdout",
     "output_type": "stream",
     "text": [
      "\t eval rmse: 1.0832\n",
      "\t eval mae: 0.8471\n",
      "\t eval r2: -0.2010\n",
      "==============================\n"
     ]
    },
    {
     "name": "stderr",
     "output_type": "stream",
     "text": [
      "\n"
     ]
    },
    {
     "name": "stdout",
     "output_type": "stream",
     "text": [
      "Epoch 5 elapsed: 0.256s\n"
     ]
    },
    {
     "name": "stderr",
     "output_type": "stream",
     "text": [
      "eval_pred: 100%|███████████████████████████████| 15/15 [00:00<00:00, 765.44it/s]"
     ]
    },
    {
     "name": "stdout",
     "output_type": "stream",
     "text": [
      "\t eval rmse: 1.0844\n",
      "\t eval mae: 0.8459\n",
      "\t eval r2: -0.2037\n",
      "==============================\n"
     ]
    },
    {
     "name": "stderr",
     "output_type": "stream",
     "text": [
      "\n"
     ]
    },
    {
     "name": "stdout",
     "output_type": "stream",
     "text": [
      "Training start time: \u001b[35m2022-07-23 16:03:13\u001b[0m\n",
      "Epoch 1 elapsed: 0.256s\n"
     ]
    },
    {
     "name": "stderr",
     "output_type": "stream",
     "text": [
      "eval_pred: 100%|███████████████████████████████| 15/15 [00:00<00:00, 353.03it/s]"
     ]
    },
    {
     "name": "stdout",
     "output_type": "stream",
     "text": [
      "\t eval rmse: 1.0023\n",
      "\t eval mae: 0.8049\n",
      "\t eval r2: -0.0282\n",
      "==============================\n"
     ]
    },
    {
     "name": "stderr",
     "output_type": "stream",
     "text": [
      "\n"
     ]
    },
    {
     "name": "stdout",
     "output_type": "stream",
     "text": [
      "Epoch 2 elapsed: 0.270s\n"
     ]
    },
    {
     "name": "stderr",
     "output_type": "stream",
     "text": [
      "eval_pred: 100%|███████████████████████████████| 15/15 [00:00<00:00, 660.27it/s]"
     ]
    },
    {
     "name": "stdout",
     "output_type": "stream",
     "text": [
      "\t eval rmse: 1.0506\n",
      "\t eval mae: 0.8328\n",
      "\t eval r2: -0.1297\n",
      "==============================\n"
     ]
    },
    {
     "name": "stderr",
     "output_type": "stream",
     "text": [
      "\n"
     ]
    },
    {
     "name": "stdout",
     "output_type": "stream",
     "text": [
      "Epoch 3 elapsed: 0.297s\n"
     ]
    },
    {
     "name": "stderr",
     "output_type": "stream",
     "text": [
      "eval_pred: 100%|███████████████████████████████| 15/15 [00:00<00:00, 591.64it/s]"
     ]
    },
    {
     "name": "stdout",
     "output_type": "stream",
     "text": [
      "\t eval rmse: 1.0525\n",
      "\t eval mae: 0.8293\n",
      "\t eval r2: -0.1339\n",
      "==============================\n"
     ]
    },
    {
     "name": "stderr",
     "output_type": "stream",
     "text": [
      "\n"
     ]
    },
    {
     "name": "stdout",
     "output_type": "stream",
     "text": [
      "Epoch 4 elapsed: 0.255s\n"
     ]
    },
    {
     "name": "stderr",
     "output_type": "stream",
     "text": [
      "eval_pred: 100%|███████████████████████████████| 15/15 [00:00<00:00, 350.63it/s]"
     ]
    },
    {
     "name": "stdout",
     "output_type": "stream",
     "text": [
      "\t eval rmse: 1.0517\n",
      "\t eval mae: 0.8256\n",
      "\t eval r2: -0.1321\n",
      "==============================\n"
     ]
    },
    {
     "name": "stderr",
     "output_type": "stream",
     "text": [
      "\n"
     ]
    },
    {
     "name": "stdout",
     "output_type": "stream",
     "text": [
      "Epoch 5 elapsed: 0.280s\n"
     ]
    },
    {
     "name": "stderr",
     "output_type": "stream",
     "text": [
      "eval_pred: 100%|███████████████████████████████| 15/15 [00:00<00:00, 356.62it/s]"
     ]
    },
    {
     "name": "stdout",
     "output_type": "stream",
     "text": [
      "\t eval rmse: 1.0509\n",
      "\t eval mae: 0.8232\n",
      "\t eval r2: -0.1304\n",
      "==============================\n"
     ]
    },
    {
     "name": "stderr",
     "output_type": "stream",
     "text": [
      "\n"
     ]
    },
    {
     "name": "stdout",
     "output_type": "stream",
     "text": [
      "Training start time: \u001b[35m2022-07-23 16:03:15\u001b[0m\n",
      "Epoch 1 elapsed: 0.296s\n"
     ]
    },
    {
     "name": "stderr",
     "output_type": "stream",
     "text": [
      "eval_pred: 100%|███████████████████████████████| 15/15 [00:00<00:00, 530.65it/s]"
     ]
    },
    {
     "name": "stdout",
     "output_type": "stream",
     "text": [
      "\t eval rmse: 1.0023\n",
      "\t eval mae: 0.8049\n",
      "\t eval r2: -0.0282\n",
      "==============================\n"
     ]
    },
    {
     "name": "stderr",
     "output_type": "stream",
     "text": [
      "\n"
     ]
    },
    {
     "name": "stdout",
     "output_type": "stream",
     "text": [
      "Epoch 2 elapsed: 0.302s\n"
     ]
    },
    {
     "name": "stderr",
     "output_type": "stream",
     "text": [
      "eval_pred: 100%|███████████████████████████████| 15/15 [00:00<00:00, 559.42it/s]"
     ]
    },
    {
     "name": "stdout",
     "output_type": "stream",
     "text": [
      "\t eval rmse: 1.0506\n",
      "\t eval mae: 0.8328\n",
      "\t eval r2: -0.1297\n",
      "==============================\n"
     ]
    },
    {
     "name": "stderr",
     "output_type": "stream",
     "text": [
      "\n"
     ]
    },
    {
     "name": "stdout",
     "output_type": "stream",
     "text": [
      "Epoch 3 elapsed: 0.274s\n"
     ]
    },
    {
     "name": "stderr",
     "output_type": "stream",
     "text": [
      "eval_pred: 100%|███████████████████████████████| 15/15 [00:00<00:00, 645.65it/s]"
     ]
    },
    {
     "name": "stdout",
     "output_type": "stream",
     "text": [
      "\t eval rmse: 1.0525\n",
      "\t eval mae: 0.8293\n",
      "\t eval r2: -0.1339\n",
      "==============================\n"
     ]
    },
    {
     "name": "stderr",
     "output_type": "stream",
     "text": [
      "\n"
     ]
    },
    {
     "name": "stdout",
     "output_type": "stream",
     "text": [
      "Epoch 4 elapsed: 0.295s\n"
     ]
    },
    {
     "name": "stderr",
     "output_type": "stream",
     "text": [
      "eval_pred: 100%|███████████████████████████████| 15/15 [00:00<00:00, 561.62it/s]"
     ]
    },
    {
     "name": "stdout",
     "output_type": "stream",
     "text": [
      "\t eval rmse: 1.0517\n",
      "\t eval mae: 0.8256\n",
      "\t eval r2: -0.1321\n",
      "==============================\n"
     ]
    },
    {
     "name": "stderr",
     "output_type": "stream",
     "text": [
      "\n"
     ]
    },
    {
     "name": "stdout",
     "output_type": "stream",
     "text": [
      "Epoch 5 elapsed: 0.261s\n"
     ]
    },
    {
     "name": "stderr",
     "output_type": "stream",
     "text": [
      "eval_pred: 100%|███████████████████████████████| 15/15 [00:00<00:00, 674.72it/s]"
     ]
    },
    {
     "name": "stdout",
     "output_type": "stream",
     "text": [
      "\t eval rmse: 1.0509\n",
      "\t eval mae: 0.8232\n",
      "\t eval r2: -0.1304\n",
      "==============================\n"
     ]
    },
    {
     "name": "stderr",
     "output_type": "stream",
     "text": [
      "\n"
     ]
    },
    {
     "name": "stdout",
     "output_type": "stream",
     "text": [
      "Training start time: \u001b[35m2022-07-23 16:03:18\u001b[0m\n",
      "Epoch 1 elapsed: 0.273s\n"
     ]
    },
    {
     "name": "stderr",
     "output_type": "stream",
     "text": [
      "eval_pred: 100%|███████████████████████████████| 15/15 [00:00<00:00, 457.99it/s]"
     ]
    },
    {
     "name": "stdout",
     "output_type": "stream",
     "text": [
      "\t eval rmse: 1.0023\n",
      "\t eval mae: 0.8049\n",
      "\t eval r2: -0.0282\n",
      "==============================\n"
     ]
    },
    {
     "name": "stderr",
     "output_type": "stream",
     "text": [
      "\n"
     ]
    },
    {
     "name": "stdout",
     "output_type": "stream",
     "text": [
      "Epoch 2 elapsed: 0.281s\n"
     ]
    },
    {
     "name": "stderr",
     "output_type": "stream",
     "text": [
      "eval_pred: 100%|███████████████████████████████| 15/15 [00:00<00:00, 278.18it/s]"
     ]
    },
    {
     "name": "stdout",
     "output_type": "stream",
     "text": [
      "\t eval rmse: 1.0506\n",
      "\t eval mae: 0.8328\n",
      "\t eval r2: -0.1297\n",
      "==============================\n"
     ]
    },
    {
     "name": "stderr",
     "output_type": "stream",
     "text": [
      "\n"
     ]
    },
    {
     "name": "stdout",
     "output_type": "stream",
     "text": [
      "Epoch 3 elapsed: 0.263s\n"
     ]
    },
    {
     "name": "stderr",
     "output_type": "stream",
     "text": [
      "eval_pred: 100%|███████████████████████████████| 15/15 [00:00<00:00, 583.80it/s]"
     ]
    },
    {
     "name": "stdout",
     "output_type": "stream",
     "text": [
      "\t eval rmse: 1.0525\n",
      "\t eval mae: 0.8293\n",
      "\t eval r2: -0.1339\n",
      "==============================\n"
     ]
    },
    {
     "name": "stderr",
     "output_type": "stream",
     "text": [
      "\n"
     ]
    },
    {
     "name": "stdout",
     "output_type": "stream",
     "text": [
      "Epoch 4 elapsed: 0.305s\n"
     ]
    },
    {
     "name": "stderr",
     "output_type": "stream",
     "text": [
      "eval_pred: 100%|███████████████████████████████| 15/15 [00:00<00:00, 644.52it/s]"
     ]
    },
    {
     "name": "stdout",
     "output_type": "stream",
     "text": [
      "\t eval rmse: 1.0517\n",
      "\t eval mae: 0.8256\n",
      "\t eval r2: -0.1321\n",
      "==============================\n"
     ]
    },
    {
     "name": "stderr",
     "output_type": "stream",
     "text": [
      "\n"
     ]
    },
    {
     "name": "stdout",
     "output_type": "stream",
     "text": [
      "Epoch 5 elapsed: 0.278s\n"
     ]
    },
    {
     "name": "stderr",
     "output_type": "stream",
     "text": [
      "eval_pred: 100%|███████████████████████████████| 15/15 [00:00<00:00, 347.62it/s]"
     ]
    },
    {
     "name": "stdout",
     "output_type": "stream",
     "text": [
      "\t eval rmse: 1.0509\n",
      "\t eval mae: 0.8232\n",
      "\t eval r2: -0.1304\n",
      "==============================\n"
     ]
    },
    {
     "name": "stderr",
     "output_type": "stream",
     "text": [
      "\n"
     ]
    },
    {
     "name": "stdout",
     "output_type": "stream",
     "text": [
      "Training start time: \u001b[35m2022-07-23 16:03:20\u001b[0m\n",
      "Epoch 1 elapsed: 0.262s\n"
     ]
    },
    {
     "name": "stderr",
     "output_type": "stream",
     "text": [
      "eval_pred: 100%|███████████████████████████████| 15/15 [00:00<00:00, 560.11it/s]"
     ]
    },
    {
     "name": "stdout",
     "output_type": "stream",
     "text": [
      "\t eval rmse: 1.0023\n",
      "\t eval mae: 0.8049\n",
      "\t eval r2: -0.0282\n",
      "==============================\n"
     ]
    },
    {
     "name": "stderr",
     "output_type": "stream",
     "text": [
      "\n"
     ]
    },
    {
     "name": "stdout",
     "output_type": "stream",
     "text": [
      "Epoch 2 elapsed: 0.304s\n"
     ]
    },
    {
     "name": "stderr",
     "output_type": "stream",
     "text": [
      "eval_pred: 100%|███████████████████████████████| 15/15 [00:00<00:00, 537.64it/s]"
     ]
    },
    {
     "name": "stdout",
     "output_type": "stream",
     "text": [
      "\t eval rmse: 1.0506\n",
      "\t eval mae: 0.8328\n",
      "\t eval r2: -0.1297\n",
      "==============================\n"
     ]
    },
    {
     "name": "stderr",
     "output_type": "stream",
     "text": [
      "\n"
     ]
    },
    {
     "name": "stdout",
     "output_type": "stream",
     "text": [
      "Epoch 3 elapsed: 0.317s\n"
     ]
    },
    {
     "name": "stderr",
     "output_type": "stream",
     "text": [
      "eval_pred: 100%|███████████████████████████████| 15/15 [00:00<00:00, 472.84it/s]"
     ]
    },
    {
     "name": "stdout",
     "output_type": "stream",
     "text": [
      "\t eval rmse: 1.0525\n",
      "\t eval mae: 0.8293\n",
      "\t eval r2: -0.1339\n",
      "==============================\n"
     ]
    },
    {
     "name": "stderr",
     "output_type": "stream",
     "text": [
      "\n"
     ]
    },
    {
     "name": "stdout",
     "output_type": "stream",
     "text": [
      "Epoch 4 elapsed: 0.305s\n"
     ]
    },
    {
     "name": "stderr",
     "output_type": "stream",
     "text": [
      "eval_pred: 100%|███████████████████████████████| 15/15 [00:00<00:00, 532.10it/s]"
     ]
    },
    {
     "name": "stdout",
     "output_type": "stream",
     "text": [
      "\t eval rmse: 1.0517\n",
      "\t eval mae: 0.8256\n",
      "\t eval r2: -0.1321\n",
      "==============================\n"
     ]
    },
    {
     "name": "stderr",
     "output_type": "stream",
     "text": [
      "\n"
     ]
    },
    {
     "name": "stdout",
     "output_type": "stream",
     "text": [
      "Epoch 5 elapsed: 0.314s\n"
     ]
    },
    {
     "name": "stderr",
     "output_type": "stream",
     "text": [
      "eval_pred: 100%|███████████████████████████████| 15/15 [00:00<00:00, 415.56it/s]"
     ]
    },
    {
     "name": "stdout",
     "output_type": "stream",
     "text": [
      "\t eval rmse: 1.0509\n",
      "\t eval mae: 0.8232\n",
      "\t eval r2: -0.1304\n",
      "==============================\n"
     ]
    },
    {
     "name": "stderr",
     "output_type": "stream",
     "text": [
      "\n"
     ]
    },
    {
     "name": "stdout",
     "output_type": "stream",
     "text": [
      "Training start time: \u001b[35m2022-07-23 16:03:22\u001b[0m\n",
      "Epoch 1 elapsed: 0.284s\n"
     ]
    },
    {
     "name": "stderr",
     "output_type": "stream",
     "text": [
      "eval_pred: 100%|███████████████████████████████| 15/15 [00:00<00:00, 503.11it/s]"
     ]
    },
    {
     "name": "stdout",
     "output_type": "stream",
     "text": [
      "\t eval rmse: 1.0023\n",
      "\t eval mae: 0.8049\n",
      "\t eval r2: -0.0282\n",
      "==============================\n"
     ]
    },
    {
     "name": "stderr",
     "output_type": "stream",
     "text": [
      "\n"
     ]
    },
    {
     "name": "stdout",
     "output_type": "stream",
     "text": [
      "Epoch 2 elapsed: 0.315s\n"
     ]
    },
    {
     "name": "stderr",
     "output_type": "stream",
     "text": [
      "eval_pred: 100%|███████████████████████████████| 15/15 [00:00<00:00, 504.77it/s]"
     ]
    },
    {
     "name": "stdout",
     "output_type": "stream",
     "text": [
      "\t eval rmse: 1.0506\n",
      "\t eval mae: 0.8328\n",
      "\t eval r2: -0.1297\n",
      "==============================\n"
     ]
    },
    {
     "name": "stderr",
     "output_type": "stream",
     "text": [
      "\n"
     ]
    },
    {
     "name": "stdout",
     "output_type": "stream",
     "text": [
      "Epoch 3 elapsed: 0.274s\n"
     ]
    },
    {
     "name": "stderr",
     "output_type": "stream",
     "text": [
      "eval_pred: 100%|███████████████████████████████| 15/15 [00:00<00:00, 508.63it/s]"
     ]
    },
    {
     "name": "stdout",
     "output_type": "stream",
     "text": [
      "\t eval rmse: 1.0525\n",
      "\t eval mae: 0.8293\n",
      "\t eval r2: -0.1339\n",
      "==============================\n"
     ]
    },
    {
     "name": "stderr",
     "output_type": "stream",
     "text": [
      "\n"
     ]
    },
    {
     "name": "stdout",
     "output_type": "stream",
     "text": [
      "Epoch 4 elapsed: 0.304s\n"
     ]
    },
    {
     "name": "stderr",
     "output_type": "stream",
     "text": [
      "eval_pred: 100%|███████████████████████████████| 15/15 [00:00<00:00, 540.09it/s]"
     ]
    },
    {
     "name": "stdout",
     "output_type": "stream",
     "text": [
      "\t eval rmse: 1.0517\n",
      "\t eval mae: 0.8256\n",
      "\t eval r2: -0.1321\n",
      "==============================\n"
     ]
    },
    {
     "name": "stderr",
     "output_type": "stream",
     "text": [
      "\n"
     ]
    },
    {
     "name": "stdout",
     "output_type": "stream",
     "text": [
      "Epoch 5 elapsed: 0.317s\n"
     ]
    },
    {
     "name": "stderr",
     "output_type": "stream",
     "text": [
      "eval_pred: 100%|███████████████████████████████| 15/15 [00:00<00:00, 575.49it/s]"
     ]
    },
    {
     "name": "stdout",
     "output_type": "stream",
     "text": [
      "\t eval rmse: 1.0509\n",
      "\t eval mae: 0.8232\n",
      "\t eval r2: -0.1304\n",
      "==============================\n"
     ]
    },
    {
     "name": "stderr",
     "output_type": "stream",
     "text": [
      "\n"
     ]
    },
    {
     "name": "stdout",
     "output_type": "stream",
     "text": [
      "Training start time: \u001b[35m2022-07-23 16:03:25\u001b[0m\n",
      "Epoch 1 elapsed: 0.254s\n"
     ]
    },
    {
     "name": "stderr",
     "output_type": "stream",
     "text": [
      "eval_pred: 100%|███████████████████████████████| 15/15 [00:00<00:00, 345.54it/s]"
     ]
    },
    {
     "name": "stdout",
     "output_type": "stream",
     "text": [
      "\t eval rmse: 0.9891\n",
      "\t eval mae: 0.7974\n",
      "\t eval r2: -0.0014\n",
      "==============================\n"
     ]
    },
    {
     "name": "stderr",
     "output_type": "stream",
     "text": [
      "\n"
     ]
    },
    {
     "name": "stdout",
     "output_type": "stream",
     "text": [
      "Epoch 2 elapsed: 0.278s\n"
     ]
    },
    {
     "name": "stderr",
     "output_type": "stream",
     "text": [
      "eval_pred: 100%|███████████████████████████████| 15/15 [00:00<00:00, 462.11it/s]"
     ]
    },
    {
     "name": "stdout",
     "output_type": "stream",
     "text": [
      "\t eval rmse: 1.0317\n",
      "\t eval mae: 0.8200\n",
      "\t eval r2: -0.0896\n",
      "==============================\n"
     ]
    },
    {
     "name": "stderr",
     "output_type": "stream",
     "text": [
      "\n"
     ]
    },
    {
     "name": "stdout",
     "output_type": "stream",
     "text": [
      "Epoch 3 elapsed: 0.284s\n"
     ]
    },
    {
     "name": "stderr",
     "output_type": "stream",
     "text": [
      "eval_pred: 100%|███████████████████████████████| 15/15 [00:00<00:00, 629.01it/s]"
     ]
    },
    {
     "name": "stdout",
     "output_type": "stream",
     "text": [
      "\t eval rmse: 1.0285\n",
      "\t eval mae: 0.8132\n",
      "\t eval r2: -0.0828\n",
      "==============================\n"
     ]
    },
    {
     "name": "stderr",
     "output_type": "stream",
     "text": [
      "\n"
     ]
    },
    {
     "name": "stdout",
     "output_type": "stream",
     "text": [
      "Epoch 4 elapsed: 0.262s\n"
     ]
    },
    {
     "name": "stderr",
     "output_type": "stream",
     "text": [
      "eval_pred: 100%|███████████████████████████████| 15/15 [00:00<00:00, 512.75it/s]"
     ]
    },
    {
     "name": "stdout",
     "output_type": "stream",
     "text": [
      "\t eval rmse: 1.0251\n",
      "\t eval mae: 0.8080\n",
      "\t eval r2: -0.0756\n",
      "==============================\n"
     ]
    },
    {
     "name": "stderr",
     "output_type": "stream",
     "text": [
      "\n"
     ]
    },
    {
     "name": "stdout",
     "output_type": "stream",
     "text": [
      "Epoch 5 elapsed: 0.280s\n"
     ]
    },
    {
     "name": "stderr",
     "output_type": "stream",
     "text": [
      "eval_pred: 100%|███████████████████████████████| 15/15 [00:00<00:00, 671.21it/s]"
     ]
    },
    {
     "name": "stdout",
     "output_type": "stream",
     "text": [
      "\t eval rmse: 1.0233\n",
      "\t eval mae: 0.8053\n",
      "\t eval r2: -0.0717\n",
      "==============================\n"
     ]
    },
    {
     "name": "stderr",
     "output_type": "stream",
     "text": [
      "\n"
     ]
    },
    {
     "name": "stdout",
     "output_type": "stream",
     "text": [
      "Training start time: \u001b[35m2022-07-23 16:03:27\u001b[0m\n",
      "Epoch 1 elapsed: 0.276s\n"
     ]
    },
    {
     "name": "stderr",
     "output_type": "stream",
     "text": [
      "eval_pred: 100%|███████████████████████████████| 15/15 [00:00<00:00, 507.67it/s]"
     ]
    },
    {
     "name": "stdout",
     "output_type": "stream",
     "text": [
      "\t eval rmse: 0.9891\n",
      "\t eval mae: 0.7974\n",
      "\t eval r2: -0.0014\n",
      "==============================\n"
     ]
    },
    {
     "name": "stderr",
     "output_type": "stream",
     "text": [
      "\n"
     ]
    },
    {
     "name": "stdout",
     "output_type": "stream",
     "text": [
      "Epoch 2 elapsed: 0.310s\n"
     ]
    },
    {
     "name": "stderr",
     "output_type": "stream",
     "text": [
      "eval_pred: 100%|███████████████████████████████| 15/15 [00:00<00:00, 365.27it/s]"
     ]
    },
    {
     "name": "stdout",
     "output_type": "stream",
     "text": [
      "\t eval rmse: 1.0317\n",
      "\t eval mae: 0.8200\n",
      "\t eval r2: -0.0896\n",
      "==============================\n"
     ]
    },
    {
     "name": "stderr",
     "output_type": "stream",
     "text": [
      "\n"
     ]
    },
    {
     "name": "stdout",
     "output_type": "stream",
     "text": [
      "Epoch 3 elapsed: 0.310s\n"
     ]
    },
    {
     "name": "stderr",
     "output_type": "stream",
     "text": [
      "eval_pred: 100%|███████████████████████████████| 15/15 [00:00<00:00, 552.16it/s]"
     ]
    },
    {
     "name": "stdout",
     "output_type": "stream",
     "text": [
      "\t eval rmse: 1.0285\n",
      "\t eval mae: 0.8132\n",
      "\t eval r2: -0.0828\n",
      "==============================\n"
     ]
    },
    {
     "name": "stderr",
     "output_type": "stream",
     "text": [
      "\n"
     ]
    },
    {
     "name": "stdout",
     "output_type": "stream",
     "text": [
      "Epoch 4 elapsed: 0.277s\n"
     ]
    },
    {
     "name": "stderr",
     "output_type": "stream",
     "text": [
      "eval_pred: 100%|███████████████████████████████| 15/15 [00:00<00:00, 636.13it/s]"
     ]
    },
    {
     "name": "stdout",
     "output_type": "stream",
     "text": [
      "\t eval rmse: 1.0251\n",
      "\t eval mae: 0.8080\n",
      "\t eval r2: -0.0756\n",
      "==============================\n"
     ]
    },
    {
     "name": "stderr",
     "output_type": "stream",
     "text": [
      "\n"
     ]
    },
    {
     "name": "stdout",
     "output_type": "stream",
     "text": [
      "Epoch 5 elapsed: 0.303s\n"
     ]
    },
    {
     "name": "stderr",
     "output_type": "stream",
     "text": [
      "eval_pred: 100%|███████████████████████████████| 15/15 [00:00<00:00, 360.79it/s]"
     ]
    },
    {
     "name": "stdout",
     "output_type": "stream",
     "text": [
      "\t eval rmse: 1.0233\n",
      "\t eval mae: 0.8053\n",
      "\t eval r2: -0.0717\n",
      "==============================\n"
     ]
    },
    {
     "name": "stderr",
     "output_type": "stream",
     "text": [
      "\n"
     ]
    },
    {
     "name": "stdout",
     "output_type": "stream",
     "text": [
      "Training start time: \u001b[35m2022-07-23 16:03:29\u001b[0m\n",
      "Epoch 1 elapsed: 0.305s\n"
     ]
    },
    {
     "name": "stderr",
     "output_type": "stream",
     "text": [
      "eval_pred: 100%|███████████████████████████████| 15/15 [00:00<00:00, 524.17it/s]"
     ]
    },
    {
     "name": "stdout",
     "output_type": "stream",
     "text": [
      "\t eval rmse: 0.9891\n",
      "\t eval mae: 0.7974\n",
      "\t eval r2: -0.0014\n",
      "==============================\n"
     ]
    },
    {
     "name": "stderr",
     "output_type": "stream",
     "text": [
      "\n"
     ]
    },
    {
     "name": "stdout",
     "output_type": "stream",
     "text": [
      "Epoch 2 elapsed: 0.299s\n"
     ]
    },
    {
     "name": "stderr",
     "output_type": "stream",
     "text": [
      "eval_pred: 100%|███████████████████████████████| 15/15 [00:00<00:00, 666.59it/s]"
     ]
    },
    {
     "name": "stdout",
     "output_type": "stream",
     "text": [
      "\t eval rmse: 1.0317\n",
      "\t eval mae: 0.8200\n",
      "\t eval r2: -0.0896\n",
      "==============================\n"
     ]
    },
    {
     "name": "stderr",
     "output_type": "stream",
     "text": [
      "\n"
     ]
    },
    {
     "name": "stdout",
     "output_type": "stream",
     "text": [
      "Epoch 3 elapsed: 0.295s\n"
     ]
    },
    {
     "name": "stderr",
     "output_type": "stream",
     "text": [
      "eval_pred: 100%|███████████████████████████████| 15/15 [00:00<00:00, 658.25it/s]"
     ]
    },
    {
     "name": "stdout",
     "output_type": "stream",
     "text": [
      "\t eval rmse: 1.0285\n",
      "\t eval mae: 0.8132\n",
      "\t eval r2: -0.0828\n",
      "==============================\n"
     ]
    },
    {
     "name": "stderr",
     "output_type": "stream",
     "text": [
      "\n"
     ]
    },
    {
     "name": "stdout",
     "output_type": "stream",
     "text": [
      "Epoch 4 elapsed: 0.293s\n"
     ]
    },
    {
     "name": "stderr",
     "output_type": "stream",
     "text": [
      "eval_pred: 100%|███████████████████████████████| 15/15 [00:00<00:00, 592.80it/s]"
     ]
    },
    {
     "name": "stdout",
     "output_type": "stream",
     "text": [
      "\t eval rmse: 1.0251\n",
      "\t eval mae: 0.8080\n",
      "\t eval r2: -0.0756\n",
      "==============================\n"
     ]
    },
    {
     "name": "stderr",
     "output_type": "stream",
     "text": [
      "\n"
     ]
    },
    {
     "name": "stdout",
     "output_type": "stream",
     "text": [
      "Epoch 5 elapsed: 0.298s\n"
     ]
    },
    {
     "name": "stderr",
     "output_type": "stream",
     "text": [
      "eval_pred: 100%|███████████████████████████████| 15/15 [00:00<00:00, 400.08it/s]"
     ]
    },
    {
     "name": "stdout",
     "output_type": "stream",
     "text": [
      "\t eval rmse: 1.0233\n",
      "\t eval mae: 0.8053\n",
      "\t eval r2: -0.0717\n",
      "==============================\n"
     ]
    },
    {
     "name": "stderr",
     "output_type": "stream",
     "text": [
      "\n"
     ]
    },
    {
     "name": "stdout",
     "output_type": "stream",
     "text": [
      "Training start time: \u001b[35m2022-07-23 16:03:31\u001b[0m\n",
      "Epoch 1 elapsed: 0.267s\n"
     ]
    },
    {
     "name": "stderr",
     "output_type": "stream",
     "text": [
      "eval_pred: 100%|███████████████████████████████| 15/15 [00:00<00:00, 521.07it/s]"
     ]
    },
    {
     "name": "stdout",
     "output_type": "stream",
     "text": [
      "\t eval rmse: 0.9891\n",
      "\t eval mae: 0.7974\n",
      "\t eval r2: -0.0014\n",
      "==============================\n"
     ]
    },
    {
     "name": "stderr",
     "output_type": "stream",
     "text": [
      "\n"
     ]
    },
    {
     "name": "stdout",
     "output_type": "stream",
     "text": [
      "Epoch 2 elapsed: 0.303s\n"
     ]
    },
    {
     "name": "stderr",
     "output_type": "stream",
     "text": [
      "eval_pred: 100%|███████████████████████████████| 15/15 [00:00<00:00, 536.33it/s]"
     ]
    },
    {
     "name": "stdout",
     "output_type": "stream",
     "text": [
      "\t eval rmse: 1.0317\n",
      "\t eval mae: 0.8200\n",
      "\t eval r2: -0.0896\n",
      "==============================\n"
     ]
    },
    {
     "name": "stderr",
     "output_type": "stream",
     "text": [
      "\n"
     ]
    },
    {
     "name": "stdout",
     "output_type": "stream",
     "text": [
      "Epoch 3 elapsed: 0.264s\n"
     ]
    },
    {
     "name": "stderr",
     "output_type": "stream",
     "text": [
      "eval_pred: 100%|███████████████████████████████| 15/15 [00:00<00:00, 516.38it/s]"
     ]
    },
    {
     "name": "stdout",
     "output_type": "stream",
     "text": [
      "\t eval rmse: 1.0285\n",
      "\t eval mae: 0.8132\n",
      "\t eval r2: -0.0828\n",
      "==============================\n"
     ]
    },
    {
     "name": "stderr",
     "output_type": "stream",
     "text": [
      "\n"
     ]
    },
    {
     "name": "stdout",
     "output_type": "stream",
     "text": [
      "Epoch 4 elapsed: 0.300s\n"
     ]
    },
    {
     "name": "stderr",
     "output_type": "stream",
     "text": [
      "eval_pred: 100%|███████████████████████████████| 15/15 [00:00<00:00, 518.72it/s]"
     ]
    },
    {
     "name": "stdout",
     "output_type": "stream",
     "text": [
      "\t eval rmse: 1.0251\n",
      "\t eval mae: 0.8080\n",
      "\t eval r2: -0.0756\n",
      "==============================\n"
     ]
    },
    {
     "name": "stderr",
     "output_type": "stream",
     "text": [
      "\n"
     ]
    },
    {
     "name": "stdout",
     "output_type": "stream",
     "text": [
      "Epoch 5 elapsed: 0.286s\n"
     ]
    },
    {
     "name": "stderr",
     "output_type": "stream",
     "text": [
      "eval_pred: 100%|███████████████████████████████| 15/15 [00:00<00:00, 635.64it/s]"
     ]
    },
    {
     "name": "stdout",
     "output_type": "stream",
     "text": [
      "\t eval rmse: 1.0233\n",
      "\t eval mae: 0.8053\n",
      "\t eval r2: -0.0717\n",
      "==============================\n"
     ]
    },
    {
     "name": "stderr",
     "output_type": "stream",
     "text": [
      "\n"
     ]
    },
    {
     "name": "stdout",
     "output_type": "stream",
     "text": [
      "Training start time: \u001b[35m2022-07-23 16:03:34\u001b[0m\n",
      "Epoch 1 elapsed: 0.270s\n"
     ]
    },
    {
     "name": "stderr",
     "output_type": "stream",
     "text": [
      "eval_pred: 100%|███████████████████████████████| 15/15 [00:00<00:00, 507.92it/s]"
     ]
    },
    {
     "name": "stdout",
     "output_type": "stream",
     "text": [
      "\t eval rmse: 0.9891\n",
      "\t eval mae: 0.7974\n",
      "\t eval r2: -0.0014\n",
      "==============================\n"
     ]
    },
    {
     "name": "stderr",
     "output_type": "stream",
     "text": [
      "\n"
     ]
    },
    {
     "name": "stdout",
     "output_type": "stream",
     "text": [
      "Epoch 2 elapsed: 0.281s\n"
     ]
    },
    {
     "name": "stderr",
     "output_type": "stream",
     "text": [
      "eval_pred: 100%|███████████████████████████████| 15/15 [00:00<00:00, 634.62it/s]"
     ]
    },
    {
     "name": "stdout",
     "output_type": "stream",
     "text": [
      "\t eval rmse: 1.0317\n",
      "\t eval mae: 0.8200\n",
      "\t eval r2: -0.0896\n",
      "==============================\n"
     ]
    },
    {
     "name": "stderr",
     "output_type": "stream",
     "text": [
      "\n"
     ]
    },
    {
     "name": "stdout",
     "output_type": "stream",
     "text": [
      "Epoch 3 elapsed: 0.269s\n"
     ]
    },
    {
     "name": "stderr",
     "output_type": "stream",
     "text": [
      "eval_pred: 100%|███████████████████████████████| 15/15 [00:00<00:00, 482.86it/s]"
     ]
    },
    {
     "name": "stdout",
     "output_type": "stream",
     "text": [
      "\t eval rmse: 1.0285\n",
      "\t eval mae: 0.8132\n",
      "\t eval r2: -0.0828\n",
      "==============================\n"
     ]
    },
    {
     "name": "stderr",
     "output_type": "stream",
     "text": [
      "\n"
     ]
    },
    {
     "name": "stdout",
     "output_type": "stream",
     "text": [
      "Epoch 4 elapsed: 0.278s\n"
     ]
    },
    {
     "name": "stderr",
     "output_type": "stream",
     "text": [
      "eval_pred: 100%|███████████████████████████████| 15/15 [00:00<00:00, 463.02it/s]"
     ]
    },
    {
     "name": "stdout",
     "output_type": "stream",
     "text": [
      "\t eval rmse: 1.0251\n",
      "\t eval mae: 0.8080\n",
      "\t eval r2: -0.0756\n",
      "==============================\n"
     ]
    },
    {
     "name": "stderr",
     "output_type": "stream",
     "text": [
      "\n"
     ]
    },
    {
     "name": "stdout",
     "output_type": "stream",
     "text": [
      "Epoch 5 elapsed: 0.261s\n"
     ]
    },
    {
     "name": "stderr",
     "output_type": "stream",
     "text": [
      "eval_pred: 100%|███████████████████████████████| 15/15 [00:00<00:00, 302.04it/s]"
     ]
    },
    {
     "name": "stdout",
     "output_type": "stream",
     "text": [
      "\t eval rmse: 1.0233\n",
      "\t eval mae: 0.8053\n",
      "\t eval r2: -0.0717\n",
      "==============================\n"
     ]
    },
    {
     "name": "stderr",
     "output_type": "stream",
     "text": [
      "\n"
     ]
    },
    {
     "name": "stdout",
     "output_type": "stream",
     "text": [
      "Training start time: \u001b[35m2022-07-23 16:03:36\u001b[0m\n",
      "Epoch 1 elapsed: 0.352s\n"
     ]
    },
    {
     "name": "stderr",
     "output_type": "stream",
     "text": [
      "eval_pred: 100%|███████████████████████████████| 15/15 [00:00<00:00, 330.90it/s]"
     ]
    },
    {
     "name": "stdout",
     "output_type": "stream",
     "text": [
      "\t eval rmse: 1.1054\n",
      "\t eval mae: 0.8759\n",
      "\t eval r2: -0.2508\n",
      "==============================\n"
     ]
    },
    {
     "name": "stderr",
     "output_type": "stream",
     "text": [
      "\n"
     ]
    },
    {
     "name": "stdout",
     "output_type": "stream",
     "text": [
      "Epoch 2 elapsed: 0.348s\n"
     ]
    },
    {
     "name": "stderr",
     "output_type": "stream",
     "text": [
      "eval_pred: 100%|███████████████████████████████| 15/15 [00:00<00:00, 444.56it/s]"
     ]
    },
    {
     "name": "stdout",
     "output_type": "stream",
     "text": [
      "\t eval rmse: 1.1489\n",
      "\t eval mae: 0.9015\n",
      "\t eval r2: -0.3511\n",
      "==============================\n"
     ]
    },
    {
     "name": "stderr",
     "output_type": "stream",
     "text": [
      "\n"
     ]
    },
    {
     "name": "stdout",
     "output_type": "stream",
     "text": [
      "Epoch 3 elapsed: 0.340s\n"
     ]
    },
    {
     "name": "stderr",
     "output_type": "stream",
     "text": [
      "eval_pred: 100%|███████████████████████████████| 15/15 [00:00<00:00, 335.49it/s]"
     ]
    },
    {
     "name": "stdout",
     "output_type": "stream",
     "text": [
      "\t eval rmse: 1.1691\n",
      "\t eval mae: 0.9117\n",
      "\t eval r2: -0.3990\n",
      "==============================\n"
     ]
    },
    {
     "name": "stderr",
     "output_type": "stream",
     "text": [
      "\n"
     ]
    },
    {
     "name": "stdout",
     "output_type": "stream",
     "text": [
      "Epoch 4 elapsed: 0.342s\n"
     ]
    },
    {
     "name": "stderr",
     "output_type": "stream",
     "text": [
      "eval_pred: 100%|███████████████████████████████| 15/15 [00:00<00:00, 425.46it/s]"
     ]
    },
    {
     "name": "stdout",
     "output_type": "stream",
     "text": [
      "\t eval rmse: 1.1858\n",
      "\t eval mae: 0.9209\n",
      "\t eval r2: -0.4393\n",
      "==============================\n"
     ]
    },
    {
     "name": "stderr",
     "output_type": "stream",
     "text": [
      "\n"
     ]
    },
    {
     "name": "stdout",
     "output_type": "stream",
     "text": [
      "Epoch 5 elapsed: 0.306s\n"
     ]
    },
    {
     "name": "stderr",
     "output_type": "stream",
     "text": [
      "eval_pred: 100%|███████████████████████████████| 15/15 [00:00<00:00, 522.05it/s]"
     ]
    },
    {
     "name": "stdout",
     "output_type": "stream",
     "text": [
      "\t eval rmse: 1.2006\n",
      "\t eval mae: 0.9294\n",
      "\t eval r2: -0.4754\n",
      "==============================\n"
     ]
    },
    {
     "name": "stderr",
     "output_type": "stream",
     "text": [
      "\n"
     ]
    },
    {
     "name": "stdout",
     "output_type": "stream",
     "text": [
      "Training start time: \u001b[35m2022-07-23 16:03:38\u001b[0m\n",
      "Epoch 1 elapsed: 0.322s\n"
     ]
    },
    {
     "name": "stderr",
     "output_type": "stream",
     "text": [
      "eval_pred: 100%|███████████████████████████████| 15/15 [00:00<00:00, 461.51it/s]"
     ]
    },
    {
     "name": "stdout",
     "output_type": "stream",
     "text": [
      "\t eval rmse: 1.1054\n",
      "\t eval mae: 0.8759\n",
      "\t eval r2: -0.2508\n",
      "==============================\n"
     ]
    },
    {
     "name": "stderr",
     "output_type": "stream",
     "text": [
      "\n"
     ]
    },
    {
     "name": "stdout",
     "output_type": "stream",
     "text": [
      "Epoch 2 elapsed: 0.295s\n"
     ]
    },
    {
     "name": "stderr",
     "output_type": "stream",
     "text": [
      "eval_pred: 100%|███████████████████████████████| 15/15 [00:00<00:00, 422.30it/s]"
     ]
    },
    {
     "name": "stdout",
     "output_type": "stream",
     "text": [
      "\t eval rmse: 1.1489\n",
      "\t eval mae: 0.9015\n",
      "\t eval r2: -0.3511\n",
      "==============================\n"
     ]
    },
    {
     "name": "stderr",
     "output_type": "stream",
     "text": [
      "\n"
     ]
    },
    {
     "name": "stdout",
     "output_type": "stream",
     "text": [
      "Epoch 3 elapsed: 0.315s\n"
     ]
    },
    {
     "name": "stderr",
     "output_type": "stream",
     "text": [
      "eval_pred: 100%|███████████████████████████████| 15/15 [00:00<00:00, 315.35it/s]"
     ]
    },
    {
     "name": "stdout",
     "output_type": "stream",
     "text": [
      "\t eval rmse: 1.1691\n",
      "\t eval mae: 0.9117\n",
      "\t eval r2: -0.3990\n",
      "==============================\n"
     ]
    },
    {
     "name": "stderr",
     "output_type": "stream",
     "text": [
      "\n"
     ]
    },
    {
     "name": "stdout",
     "output_type": "stream",
     "text": [
      "Epoch 4 elapsed: 0.342s\n"
     ]
    },
    {
     "name": "stderr",
     "output_type": "stream",
     "text": [
      "eval_pred: 100%|███████████████████████████████| 15/15 [00:00<00:00, 294.29it/s]"
     ]
    },
    {
     "name": "stdout",
     "output_type": "stream",
     "text": [
      "\t eval rmse: 1.1858\n",
      "\t eval mae: 0.9209\n",
      "\t eval r2: -0.4393\n",
      "==============================\n"
     ]
    },
    {
     "name": "stderr",
     "output_type": "stream",
     "text": [
      "\n"
     ]
    },
    {
     "name": "stdout",
     "output_type": "stream",
     "text": [
      "Epoch 5 elapsed: 0.347s\n"
     ]
    },
    {
     "name": "stderr",
     "output_type": "stream",
     "text": [
      "eval_pred: 100%|███████████████████████████████| 15/15 [00:00<00:00, 490.92it/s]"
     ]
    },
    {
     "name": "stdout",
     "output_type": "stream",
     "text": [
      "\t eval rmse: 1.2006\n",
      "\t eval mae: 0.9294\n",
      "\t eval r2: -0.4754\n",
      "==============================\n"
     ]
    },
    {
     "name": "stderr",
     "output_type": "stream",
     "text": [
      "\n"
     ]
    },
    {
     "name": "stdout",
     "output_type": "stream",
     "text": [
      "Training start time: \u001b[35m2022-07-23 16:03:41\u001b[0m\n",
      "Epoch 1 elapsed: 0.298s\n"
     ]
    },
    {
     "name": "stderr",
     "output_type": "stream",
     "text": [
      "eval_pred: 100%|███████████████████████████████| 15/15 [00:00<00:00, 453.95it/s]"
     ]
    },
    {
     "name": "stdout",
     "output_type": "stream",
     "text": [
      "\t eval rmse: 1.1054\n",
      "\t eval mae: 0.8759\n",
      "\t eval r2: -0.2508\n",
      "==============================\n"
     ]
    },
    {
     "name": "stderr",
     "output_type": "stream",
     "text": [
      "\n"
     ]
    },
    {
     "name": "stdout",
     "output_type": "stream",
     "text": [
      "Epoch 2 elapsed: 0.323s\n"
     ]
    },
    {
     "name": "stderr",
     "output_type": "stream",
     "text": [
      "eval_pred: 100%|███████████████████████████████| 15/15 [00:00<00:00, 434.29it/s]"
     ]
    },
    {
     "name": "stdout",
     "output_type": "stream",
     "text": [
      "\t eval rmse: 1.1489\n",
      "\t eval mae: 0.9015\n",
      "\t eval r2: -0.3511\n",
      "==============================\n"
     ]
    },
    {
     "name": "stderr",
     "output_type": "stream",
     "text": [
      "\n"
     ]
    },
    {
     "name": "stdout",
     "output_type": "stream",
     "text": [
      "Epoch 3 elapsed: 0.321s\n"
     ]
    },
    {
     "name": "stderr",
     "output_type": "stream",
     "text": [
      "eval_pred: 100%|███████████████████████████████| 15/15 [00:00<00:00, 341.25it/s]"
     ]
    },
    {
     "name": "stdout",
     "output_type": "stream",
     "text": [
      "\t eval rmse: 1.1691\n",
      "\t eval mae: 0.9117\n",
      "\t eval r2: -0.3990\n",
      "==============================\n"
     ]
    },
    {
     "name": "stderr",
     "output_type": "stream",
     "text": [
      "\n"
     ]
    },
    {
     "name": "stdout",
     "output_type": "stream",
     "text": [
      "Epoch 4 elapsed: 0.325s\n"
     ]
    },
    {
     "name": "stderr",
     "output_type": "stream",
     "text": [
      "eval_pred: 100%|███████████████████████████████| 15/15 [00:00<00:00, 315.45it/s]"
     ]
    },
    {
     "name": "stdout",
     "output_type": "stream",
     "text": [
      "\t eval rmse: 1.1858\n",
      "\t eval mae: 0.9209\n",
      "\t eval r2: -0.4393\n",
      "==============================\n"
     ]
    },
    {
     "name": "stderr",
     "output_type": "stream",
     "text": [
      "\n"
     ]
    },
    {
     "name": "stdout",
     "output_type": "stream",
     "text": [
      "Epoch 5 elapsed: 0.348s\n"
     ]
    },
    {
     "name": "stderr",
     "output_type": "stream",
     "text": [
      "eval_pred: 100%|███████████████████████████████| 15/15 [00:00<00:00, 426.58it/s]"
     ]
    },
    {
     "name": "stdout",
     "output_type": "stream",
     "text": [
      "\t eval rmse: 1.2006\n",
      "\t eval mae: 0.9294\n",
      "\t eval r2: -0.4754\n",
      "==============================\n"
     ]
    },
    {
     "name": "stderr",
     "output_type": "stream",
     "text": [
      "\n"
     ]
    },
    {
     "name": "stdout",
     "output_type": "stream",
     "text": [
      "Training start time: \u001b[35m2022-07-23 16:03:43\u001b[0m\n",
      "Epoch 1 elapsed: 0.304s\n"
     ]
    },
    {
     "name": "stderr",
     "output_type": "stream",
     "text": [
      "eval_pred: 100%|███████████████████████████████| 15/15 [00:00<00:00, 315.66it/s]"
     ]
    },
    {
     "name": "stdout",
     "output_type": "stream",
     "text": [
      "\t eval rmse: 1.1054\n",
      "\t eval mae: 0.8759\n",
      "\t eval r2: -0.2508\n",
      "==============================\n"
     ]
    },
    {
     "name": "stderr",
     "output_type": "stream",
     "text": [
      "\n"
     ]
    },
    {
     "name": "stdout",
     "output_type": "stream",
     "text": [
      "Epoch 2 elapsed: 0.313s\n"
     ]
    },
    {
     "name": "stderr",
     "output_type": "stream",
     "text": [
      "eval_pred: 100%|███████████████████████████████| 15/15 [00:00<00:00, 486.22it/s]"
     ]
    },
    {
     "name": "stdout",
     "output_type": "stream",
     "text": [
      "\t eval rmse: 1.1489\n",
      "\t eval mae: 0.9015\n",
      "\t eval r2: -0.3511\n",
      "==============================\n"
     ]
    },
    {
     "name": "stderr",
     "output_type": "stream",
     "text": [
      "\n"
     ]
    },
    {
     "name": "stdout",
     "output_type": "stream",
     "text": [
      "Epoch 3 elapsed: 0.328s\n"
     ]
    },
    {
     "name": "stderr",
     "output_type": "stream",
     "text": [
      "eval_pred: 100%|███████████████████████████████| 15/15 [00:00<00:00, 503.15it/s]"
     ]
    },
    {
     "name": "stdout",
     "output_type": "stream",
     "text": [
      "\t eval rmse: 1.1691\n",
      "\t eval mae: 0.9117\n",
      "\t eval r2: -0.3990\n",
      "==============================\n"
     ]
    },
    {
     "name": "stderr",
     "output_type": "stream",
     "text": [
      "\n"
     ]
    },
    {
     "name": "stdout",
     "output_type": "stream",
     "text": [
      "Epoch 4 elapsed: 0.346s\n"
     ]
    },
    {
     "name": "stderr",
     "output_type": "stream",
     "text": [
      "eval_pred: 100%|███████████████████████████████| 15/15 [00:00<00:00, 405.56it/s]"
     ]
    },
    {
     "name": "stdout",
     "output_type": "stream",
     "text": [
      "\t eval rmse: 1.1858\n",
      "\t eval mae: 0.9209\n",
      "\t eval r2: -0.4393\n",
      "==============================\n"
     ]
    },
    {
     "name": "stderr",
     "output_type": "stream",
     "text": [
      "\n"
     ]
    },
    {
     "name": "stdout",
     "output_type": "stream",
     "text": [
      "Epoch 5 elapsed: 0.312s\n"
     ]
    },
    {
     "name": "stderr",
     "output_type": "stream",
     "text": [
      "eval_pred: 100%|███████████████████████████████| 15/15 [00:00<00:00, 382.99it/s]"
     ]
    },
    {
     "name": "stdout",
     "output_type": "stream",
     "text": [
      "\t eval rmse: 1.2006\n",
      "\t eval mae: 0.9294\n",
      "\t eval r2: -0.4754\n",
      "==============================\n"
     ]
    },
    {
     "name": "stderr",
     "output_type": "stream",
     "text": [
      "\n"
     ]
    },
    {
     "name": "stdout",
     "output_type": "stream",
     "text": [
      "Training start time: \u001b[35m2022-07-23 16:03:46\u001b[0m\n",
      "Epoch 1 elapsed: 0.293s\n"
     ]
    },
    {
     "name": "stderr",
     "output_type": "stream",
     "text": [
      "eval_pred: 100%|███████████████████████████████| 15/15 [00:00<00:00, 422.37it/s]"
     ]
    },
    {
     "name": "stdout",
     "output_type": "stream",
     "text": [
      "\t eval rmse: 1.1054\n",
      "\t eval mae: 0.8759\n",
      "\t eval r2: -0.2508\n",
      "==============================\n"
     ]
    },
    {
     "name": "stderr",
     "output_type": "stream",
     "text": [
      "\n"
     ]
    },
    {
     "name": "stdout",
     "output_type": "stream",
     "text": [
      "Epoch 2 elapsed: 0.327s\n"
     ]
    },
    {
     "name": "stderr",
     "output_type": "stream",
     "text": [
      "eval_pred: 100%|███████████████████████████████| 15/15 [00:00<00:00, 433.10it/s]"
     ]
    },
    {
     "name": "stdout",
     "output_type": "stream",
     "text": [
      "\t eval rmse: 1.1489\n",
      "\t eval mae: 0.9015\n",
      "\t eval r2: -0.3511\n",
      "==============================\n"
     ]
    },
    {
     "name": "stderr",
     "output_type": "stream",
     "text": [
      "\n"
     ]
    },
    {
     "name": "stdout",
     "output_type": "stream",
     "text": [
      "Epoch 3 elapsed: 0.316s\n"
     ]
    },
    {
     "name": "stderr",
     "output_type": "stream",
     "text": [
      "eval_pred: 100%|███████████████████████████████| 15/15 [00:00<00:00, 351.01it/s]"
     ]
    },
    {
     "name": "stdout",
     "output_type": "stream",
     "text": [
      "\t eval rmse: 1.1691\n",
      "\t eval mae: 0.9117\n",
      "\t eval r2: -0.3990\n",
      "==============================\n"
     ]
    },
    {
     "name": "stderr",
     "output_type": "stream",
     "text": [
      "\n"
     ]
    },
    {
     "name": "stdout",
     "output_type": "stream",
     "text": [
      "Epoch 4 elapsed: 0.302s\n"
     ]
    },
    {
     "name": "stderr",
     "output_type": "stream",
     "text": [
      "eval_pred: 100%|███████████████████████████████| 15/15 [00:00<00:00, 490.50it/s]"
     ]
    },
    {
     "name": "stdout",
     "output_type": "stream",
     "text": [
      "\t eval rmse: 1.1858\n",
      "\t eval mae: 0.9209\n",
      "\t eval r2: -0.4393\n",
      "==============================\n"
     ]
    },
    {
     "name": "stderr",
     "output_type": "stream",
     "text": [
      "\n"
     ]
    },
    {
     "name": "stdout",
     "output_type": "stream",
     "text": [
      "Epoch 5 elapsed: 0.320s\n"
     ]
    },
    {
     "name": "stderr",
     "output_type": "stream",
     "text": [
      "eval_pred: 100%|███████████████████████████████| 15/15 [00:00<00:00, 406.44it/s]"
     ]
    },
    {
     "name": "stdout",
     "output_type": "stream",
     "text": [
      "\t eval rmse: 1.2006\n",
      "\t eval mae: 0.9294\n",
      "\t eval r2: -0.4754\n",
      "==============================\n"
     ]
    },
    {
     "name": "stderr",
     "output_type": "stream",
     "text": [
      "\n"
     ]
    },
    {
     "name": "stdout",
     "output_type": "stream",
     "text": [
      "Training start time: \u001b[35m2022-07-23 16:03:48\u001b[0m\n",
      "Epoch 1 elapsed: 0.323s\n"
     ]
    },
    {
     "name": "stderr",
     "output_type": "stream",
     "text": [
      "eval_pred: 100%|███████████████████████████████| 15/15 [00:00<00:00, 434.48it/s]"
     ]
    },
    {
     "name": "stdout",
     "output_type": "stream",
     "text": [
      "\t eval rmse: 1.0838\n",
      "\t eval mae: 0.8594\n",
      "\t eval r2: -0.2022\n",
      "==============================\n"
     ]
    },
    {
     "name": "stderr",
     "output_type": "stream",
     "text": [
      "\n"
     ]
    },
    {
     "name": "stdout",
     "output_type": "stream",
     "text": [
      "Epoch 2 elapsed: 0.300s\n"
     ]
    },
    {
     "name": "stderr",
     "output_type": "stream",
     "text": [
      "eval_pred: 100%|███████████████████████████████| 15/15 [00:00<00:00, 449.54it/s]"
     ]
    },
    {
     "name": "stdout",
     "output_type": "stream",
     "text": [
      "\t eval rmse: 1.1544\n",
      "\t eval mae: 0.9050\n",
      "\t eval r2: -0.3640\n",
      "==============================\n"
     ]
    },
    {
     "name": "stderr",
     "output_type": "stream",
     "text": [
      "\n"
     ]
    },
    {
     "name": "stdout",
     "output_type": "stream",
     "text": [
      "Epoch 3 elapsed: 0.312s\n"
     ]
    },
    {
     "name": "stderr",
     "output_type": "stream",
     "text": [
      "eval_pred: 100%|███████████████████████████████| 15/15 [00:00<00:00, 443.69it/s]"
     ]
    },
    {
     "name": "stdout",
     "output_type": "stream",
     "text": [
      "\t eval rmse: 1.1730\n",
      "\t eval mae: 0.9143\n",
      "\t eval r2: -0.4084\n",
      "==============================\n"
     ]
    },
    {
     "name": "stderr",
     "output_type": "stream",
     "text": [
      "\n"
     ]
    },
    {
     "name": "stdout",
     "output_type": "stream",
     "text": [
      "Epoch 4 elapsed: 0.328s\n"
     ]
    },
    {
     "name": "stderr",
     "output_type": "stream",
     "text": [
      "eval_pred: 100%|███████████████████████████████| 15/15 [00:00<00:00, 450.95it/s]"
     ]
    },
    {
     "name": "stdout",
     "output_type": "stream",
     "text": [
      "\t eval rmse: 1.1886\n",
      "\t eval mae: 0.9227\n",
      "\t eval r2: -0.4461\n",
      "==============================\n"
     ]
    },
    {
     "name": "stderr",
     "output_type": "stream",
     "text": [
      "\n"
     ]
    },
    {
     "name": "stdout",
     "output_type": "stream",
     "text": [
      "Epoch 5 elapsed: 0.314s\n"
     ]
    },
    {
     "name": "stderr",
     "output_type": "stream",
     "text": [
      "eval_pred: 100%|███████████████████████████████| 15/15 [00:00<00:00, 429.87it/s]"
     ]
    },
    {
     "name": "stdout",
     "output_type": "stream",
     "text": [
      "\t eval rmse: 1.2020\n",
      "\t eval mae: 0.9303\n",
      "\t eval r2: -0.4789\n",
      "==============================\n"
     ]
    },
    {
     "name": "stderr",
     "output_type": "stream",
     "text": [
      "\n"
     ]
    },
    {
     "name": "stdout",
     "output_type": "stream",
     "text": [
      "Training start time: \u001b[35m2022-07-23 16:03:51\u001b[0m\n",
      "Epoch 1 elapsed: 0.311s\n"
     ]
    },
    {
     "name": "stderr",
     "output_type": "stream",
     "text": [
      "eval_pred: 100%|███████████████████████████████| 15/15 [00:00<00:00, 365.97it/s]"
     ]
    },
    {
     "name": "stdout",
     "output_type": "stream",
     "text": [
      "\t eval rmse: 1.0838\n",
      "\t eval mae: 0.8594\n",
      "\t eval r2: -0.2022\n",
      "==============================\n"
     ]
    },
    {
     "name": "stderr",
     "output_type": "stream",
     "text": [
      "\n"
     ]
    },
    {
     "name": "stdout",
     "output_type": "stream",
     "text": [
      "Epoch 2 elapsed: 0.329s\n"
     ]
    },
    {
     "name": "stderr",
     "output_type": "stream",
     "text": [
      "eval_pred: 100%|███████████████████████████████| 15/15 [00:00<00:00, 374.55it/s]"
     ]
    },
    {
     "name": "stdout",
     "output_type": "stream",
     "text": [
      "\t eval rmse: 1.1544\n",
      "\t eval mae: 0.9050\n",
      "\t eval r2: -0.3640\n",
      "==============================\n"
     ]
    },
    {
     "name": "stderr",
     "output_type": "stream",
     "text": [
      "\n"
     ]
    },
    {
     "name": "stdout",
     "output_type": "stream",
     "text": [
      "Epoch 3 elapsed: 0.319s\n"
     ]
    },
    {
     "name": "stderr",
     "output_type": "stream",
     "text": [
      "eval_pred: 100%|███████████████████████████████| 15/15 [00:00<00:00, 440.38it/s]"
     ]
    },
    {
     "name": "stdout",
     "output_type": "stream",
     "text": [
      "\t eval rmse: 1.1730\n",
      "\t eval mae: 0.9143\n",
      "\t eval r2: -0.4084\n",
      "==============================\n"
     ]
    },
    {
     "name": "stderr",
     "output_type": "stream",
     "text": [
      "\n"
     ]
    },
    {
     "name": "stdout",
     "output_type": "stream",
     "text": [
      "Epoch 4 elapsed: 0.322s\n"
     ]
    },
    {
     "name": "stderr",
     "output_type": "stream",
     "text": [
      "eval_pred: 100%|███████████████████████████████| 15/15 [00:00<00:00, 410.26it/s]"
     ]
    },
    {
     "name": "stdout",
     "output_type": "stream",
     "text": [
      "\t eval rmse: 1.1886\n",
      "\t eval mae: 0.9227\n",
      "\t eval r2: -0.4461\n",
      "==============================\n"
     ]
    },
    {
     "name": "stderr",
     "output_type": "stream",
     "text": [
      "\n"
     ]
    },
    {
     "name": "stdout",
     "output_type": "stream",
     "text": [
      "Epoch 5 elapsed: 0.312s\n"
     ]
    },
    {
     "name": "stderr",
     "output_type": "stream",
     "text": [
      "eval_pred: 100%|███████████████████████████████| 15/15 [00:00<00:00, 537.31it/s]"
     ]
    },
    {
     "name": "stdout",
     "output_type": "stream",
     "text": [
      "\t eval rmse: 1.2020\n",
      "\t eval mae: 0.9303\n",
      "\t eval r2: -0.4789\n",
      "==============================\n"
     ]
    },
    {
     "name": "stderr",
     "output_type": "stream",
     "text": [
      "\n"
     ]
    },
    {
     "name": "stdout",
     "output_type": "stream",
     "text": [
      "Training start time: \u001b[35m2022-07-23 16:03:53\u001b[0m\n",
      "Epoch 1 elapsed: 0.315s\n"
     ]
    },
    {
     "name": "stderr",
     "output_type": "stream",
     "text": [
      "eval_pred: 100%|███████████████████████████████| 15/15 [00:00<00:00, 515.22it/s]"
     ]
    },
    {
     "name": "stdout",
     "output_type": "stream",
     "text": [
      "\t eval rmse: 1.0838\n",
      "\t eval mae: 0.8594\n",
      "\t eval r2: -0.2022\n",
      "==============================\n"
     ]
    },
    {
     "name": "stderr",
     "output_type": "stream",
     "text": [
      "\n"
     ]
    },
    {
     "name": "stdout",
     "output_type": "stream",
     "text": [
      "Epoch 2 elapsed: 0.335s\n"
     ]
    },
    {
     "name": "stderr",
     "output_type": "stream",
     "text": [
      "eval_pred: 100%|███████████████████████████████| 15/15 [00:00<00:00, 401.78it/s]"
     ]
    },
    {
     "name": "stdout",
     "output_type": "stream",
     "text": [
      "\t eval rmse: 1.1544\n",
      "\t eval mae: 0.9050\n",
      "\t eval r2: -0.3640\n",
      "==============================\n"
     ]
    },
    {
     "name": "stderr",
     "output_type": "stream",
     "text": [
      "\n"
     ]
    },
    {
     "name": "stdout",
     "output_type": "stream",
     "text": [
      "Epoch 3 elapsed: 0.321s\n"
     ]
    },
    {
     "name": "stderr",
     "output_type": "stream",
     "text": [
      "eval_pred: 100%|███████████████████████████████| 15/15 [00:00<00:00, 408.79it/s]"
     ]
    },
    {
     "name": "stdout",
     "output_type": "stream",
     "text": [
      "\t eval rmse: 1.1730\n",
      "\t eval mae: 0.9143\n",
      "\t eval r2: -0.4084\n",
      "==============================\n"
     ]
    },
    {
     "name": "stderr",
     "output_type": "stream",
     "text": [
      "\n"
     ]
    },
    {
     "name": "stdout",
     "output_type": "stream",
     "text": [
      "Epoch 4 elapsed: 0.303s\n"
     ]
    },
    {
     "name": "stderr",
     "output_type": "stream",
     "text": [
      "eval_pred: 100%|███████████████████████████████| 15/15 [00:00<00:00, 400.63it/s]"
     ]
    },
    {
     "name": "stdout",
     "output_type": "stream",
     "text": [
      "\t eval rmse: 1.1886\n",
      "\t eval mae: 0.9227\n",
      "\t eval r2: -0.4461\n",
      "==============================\n"
     ]
    },
    {
     "name": "stderr",
     "output_type": "stream",
     "text": [
      "\n"
     ]
    },
    {
     "name": "stdout",
     "output_type": "stream",
     "text": [
      "Epoch 5 elapsed: 0.343s\n"
     ]
    },
    {
     "name": "stderr",
     "output_type": "stream",
     "text": [
      "eval_pred: 100%|███████████████████████████████| 15/15 [00:00<00:00, 441.88it/s]"
     ]
    },
    {
     "name": "stdout",
     "output_type": "stream",
     "text": [
      "\t eval rmse: 1.2020\n",
      "\t eval mae: 0.9303\n",
      "\t eval r2: -0.4789\n",
      "==============================\n"
     ]
    },
    {
     "name": "stderr",
     "output_type": "stream",
     "text": [
      "\n"
     ]
    },
    {
     "name": "stdout",
     "output_type": "stream",
     "text": [
      "Training start time: \u001b[35m2022-07-23 16:03:56\u001b[0m\n",
      "Epoch 1 elapsed: 0.329s\n"
     ]
    },
    {
     "name": "stderr",
     "output_type": "stream",
     "text": [
      "eval_pred: 100%|███████████████████████████████| 15/15 [00:00<00:00, 367.73it/s]"
     ]
    },
    {
     "name": "stdout",
     "output_type": "stream",
     "text": [
      "\t eval rmse: 1.0838\n",
      "\t eval mae: 0.8594\n",
      "\t eval r2: -0.2022\n",
      "==============================\n"
     ]
    },
    {
     "name": "stderr",
     "output_type": "stream",
     "text": [
      "\n"
     ]
    },
    {
     "name": "stdout",
     "output_type": "stream",
     "text": [
      "Epoch 2 elapsed: 0.295s\n"
     ]
    },
    {
     "name": "stderr",
     "output_type": "stream",
     "text": [
      "eval_pred: 100%|███████████████████████████████| 15/15 [00:00<00:00, 442.72it/s]"
     ]
    },
    {
     "name": "stdout",
     "output_type": "stream",
     "text": [
      "\t eval rmse: 1.1544\n",
      "\t eval mae: 0.9050\n",
      "\t eval r2: -0.3640\n",
      "==============================\n"
     ]
    },
    {
     "name": "stderr",
     "output_type": "stream",
     "text": [
      "\n"
     ]
    },
    {
     "name": "stdout",
     "output_type": "stream",
     "text": [
      "Epoch 3 elapsed: 0.350s\n"
     ]
    },
    {
     "name": "stderr",
     "output_type": "stream",
     "text": [
      "eval_pred: 100%|███████████████████████████████| 15/15 [00:00<00:00, 496.65it/s]"
     ]
    },
    {
     "name": "stdout",
     "output_type": "stream",
     "text": [
      "\t eval rmse: 1.1730\n",
      "\t eval mae: 0.9143\n",
      "\t eval r2: -0.4084\n",
      "==============================\n"
     ]
    },
    {
     "name": "stderr",
     "output_type": "stream",
     "text": [
      "\n"
     ]
    },
    {
     "name": "stdout",
     "output_type": "stream",
     "text": [
      "Epoch 4 elapsed: 0.355s\n"
     ]
    },
    {
     "name": "stderr",
     "output_type": "stream",
     "text": [
      "eval_pred: 100%|███████████████████████████████| 15/15 [00:00<00:00, 343.53it/s]"
     ]
    },
    {
     "name": "stdout",
     "output_type": "stream",
     "text": [
      "\t eval rmse: 1.1886\n",
      "\t eval mae: 0.9227\n",
      "\t eval r2: -0.4461\n",
      "==============================\n"
     ]
    },
    {
     "name": "stderr",
     "output_type": "stream",
     "text": [
      "\n"
     ]
    },
    {
     "name": "stdout",
     "output_type": "stream",
     "text": [
      "Epoch 5 elapsed: 0.350s\n"
     ]
    },
    {
     "name": "stderr",
     "output_type": "stream",
     "text": [
      "eval_pred: 100%|███████████████████████████████| 15/15 [00:00<00:00, 444.52it/s]"
     ]
    },
    {
     "name": "stdout",
     "output_type": "stream",
     "text": [
      "\t eval rmse: 1.2020\n",
      "\t eval mae: 0.9303\n",
      "\t eval r2: -0.4789\n",
      "==============================\n"
     ]
    },
    {
     "name": "stderr",
     "output_type": "stream",
     "text": [
      "\n"
     ]
    },
    {
     "name": "stdout",
     "output_type": "stream",
     "text": [
      "Training start time: \u001b[35m2022-07-23 16:03:59\u001b[0m\n",
      "Epoch 1 elapsed: 0.338s\n"
     ]
    },
    {
     "name": "stderr",
     "output_type": "stream",
     "text": [
      "eval_pred: 100%|███████████████████████████████| 15/15 [00:00<00:00, 476.91it/s]"
     ]
    },
    {
     "name": "stdout",
     "output_type": "stream",
     "text": [
      "\t eval rmse: 1.0838\n",
      "\t eval mae: 0.8594\n",
      "\t eval r2: -0.2022\n",
      "==============================\n"
     ]
    },
    {
     "name": "stderr",
     "output_type": "stream",
     "text": [
      "\n"
     ]
    },
    {
     "name": "stdout",
     "output_type": "stream",
     "text": [
      "Epoch 2 elapsed: 0.335s\n"
     ]
    },
    {
     "name": "stderr",
     "output_type": "stream",
     "text": [
      "eval_pred: 100%|███████████████████████████████| 15/15 [00:00<00:00, 320.82it/s]"
     ]
    },
    {
     "name": "stdout",
     "output_type": "stream",
     "text": [
      "\t eval rmse: 1.1544\n",
      "\t eval mae: 0.9050\n",
      "\t eval r2: -0.3640\n",
      "==============================\n"
     ]
    },
    {
     "name": "stderr",
     "output_type": "stream",
     "text": [
      "\n"
     ]
    },
    {
     "name": "stdout",
     "output_type": "stream",
     "text": [
      "Epoch 3 elapsed: 0.320s\n"
     ]
    },
    {
     "name": "stderr",
     "output_type": "stream",
     "text": [
      "eval_pred: 100%|███████████████████████████████| 15/15 [00:00<00:00, 499.83it/s]"
     ]
    },
    {
     "name": "stdout",
     "output_type": "stream",
     "text": [
      "\t eval rmse: 1.1730\n",
      "\t eval mae: 0.9143\n",
      "\t eval r2: -0.4084\n",
      "==============================\n"
     ]
    },
    {
     "name": "stderr",
     "output_type": "stream",
     "text": [
      "\n"
     ]
    },
    {
     "name": "stdout",
     "output_type": "stream",
     "text": [
      "Epoch 4 elapsed: 0.359s\n"
     ]
    },
    {
     "name": "stderr",
     "output_type": "stream",
     "text": [
      "eval_pred: 100%|███████████████████████████████| 15/15 [00:00<00:00, 459.39it/s]"
     ]
    },
    {
     "name": "stdout",
     "output_type": "stream",
     "text": [
      "\t eval rmse: 1.1886\n",
      "\t eval mae: 0.9227\n",
      "\t eval r2: -0.4461\n",
      "==============================\n"
     ]
    },
    {
     "name": "stderr",
     "output_type": "stream",
     "text": [
      "\n"
     ]
    },
    {
     "name": "stdout",
     "output_type": "stream",
     "text": [
      "Epoch 5 elapsed: 0.323s\n"
     ]
    },
    {
     "name": "stderr",
     "output_type": "stream",
     "text": [
      "eval_pred: 100%|███████████████████████████████| 15/15 [00:00<00:00, 426.80it/s]"
     ]
    },
    {
     "name": "stdout",
     "output_type": "stream",
     "text": [
      "\t eval rmse: 1.2020\n",
      "\t eval mae: 0.9303\n",
      "\t eval r2: -0.4789\n",
      "==============================\n"
     ]
    },
    {
     "name": "stderr",
     "output_type": "stream",
     "text": [
      "\n"
     ]
    },
    {
     "name": "stdout",
     "output_type": "stream",
     "text": [
      "Training start time: \u001b[35m2022-07-23 16:04:01\u001b[0m\n",
      "Epoch 1 elapsed: 0.330s\n"
     ]
    },
    {
     "name": "stderr",
     "output_type": "stream",
     "text": [
      "eval_pred: 100%|███████████████████████████████| 15/15 [00:00<00:00, 446.64it/s]"
     ]
    },
    {
     "name": "stdout",
     "output_type": "stream",
     "text": [
      "\t eval rmse: 1.0768\n",
      "\t eval mae: 0.8544\n",
      "\t eval r2: -0.1868\n",
      "==============================\n"
     ]
    },
    {
     "name": "stderr",
     "output_type": "stream",
     "text": [
      "\n"
     ]
    },
    {
     "name": "stdout",
     "output_type": "stream",
     "text": [
      "Epoch 2 elapsed: 0.301s\n"
     ]
    },
    {
     "name": "stderr",
     "output_type": "stream",
     "text": [
      "eval_pred: 100%|███████████████████████████████| 15/15 [00:00<00:00, 393.64it/s]"
     ]
    },
    {
     "name": "stdout",
     "output_type": "stream",
     "text": [
      "\t eval rmse: 1.1605\n",
      "\t eval mae: 0.9093\n",
      "\t eval r2: -0.3785\n",
      "==============================\n"
     ]
    },
    {
     "name": "stderr",
     "output_type": "stream",
     "text": [
      "\n"
     ]
    },
    {
     "name": "stdout",
     "output_type": "stream",
     "text": [
      "Epoch 3 elapsed: 0.346s\n"
     ]
    },
    {
     "name": "stderr",
     "output_type": "stream",
     "text": [
      "eval_pred: 100%|███████████████████████████████| 15/15 [00:00<00:00, 399.00it/s]"
     ]
    },
    {
     "name": "stdout",
     "output_type": "stream",
     "text": [
      "\t eval rmse: 1.1769\n",
      "\t eval mae: 0.9167\n",
      "\t eval r2: -0.4178\n",
      "==============================\n"
     ]
    },
    {
     "name": "stderr",
     "output_type": "stream",
     "text": [
      "\n"
     ]
    },
    {
     "name": "stdout",
     "output_type": "stream",
     "text": [
      "Epoch 4 elapsed: 0.321s\n"
     ]
    },
    {
     "name": "stderr",
     "output_type": "stream",
     "text": [
      "eval_pred: 100%|███████████████████████████████| 15/15 [00:00<00:00, 377.24it/s]"
     ]
    },
    {
     "name": "stdout",
     "output_type": "stream",
     "text": [
      "\t eval rmse: 1.1900\n",
      "\t eval mae: 0.9232\n",
      "\t eval r2: -0.4496\n",
      "==============================\n"
     ]
    },
    {
     "name": "stderr",
     "output_type": "stream",
     "text": [
      "\n"
     ]
    },
    {
     "name": "stdout",
     "output_type": "stream",
     "text": [
      "Epoch 5 elapsed: 0.304s\n"
     ]
    },
    {
     "name": "stderr",
     "output_type": "stream",
     "text": [
      "eval_pred: 100%|███████████████████████████████| 15/15 [00:00<00:00, 358.36it/s]"
     ]
    },
    {
     "name": "stdout",
     "output_type": "stream",
     "text": [
      "\t eval rmse: 1.2009\n",
      "\t eval mae: 0.9291\n",
      "\t eval r2: -0.4761\n",
      "==============================\n"
     ]
    },
    {
     "name": "stderr",
     "output_type": "stream",
     "text": [
      "\n"
     ]
    },
    {
     "name": "stdout",
     "output_type": "stream",
     "text": [
      "Training start time: \u001b[35m2022-07-23 16:04:04\u001b[0m\n",
      "Epoch 1 elapsed: 0.312s\n"
     ]
    },
    {
     "name": "stderr",
     "output_type": "stream",
     "text": [
      "eval_pred: 100%|███████████████████████████████| 15/15 [00:00<00:00, 424.30it/s]"
     ]
    },
    {
     "name": "stdout",
     "output_type": "stream",
     "text": [
      "\t eval rmse: 1.0768\n",
      "\t eval mae: 0.8544\n",
      "\t eval r2: -0.1868\n",
      "==============================\n"
     ]
    },
    {
     "name": "stderr",
     "output_type": "stream",
     "text": [
      "\n"
     ]
    },
    {
     "name": "stdout",
     "output_type": "stream",
     "text": [
      "Epoch 2 elapsed: 0.353s\n"
     ]
    },
    {
     "name": "stderr",
     "output_type": "stream",
     "text": [
      "eval_pred: 100%|███████████████████████████████| 15/15 [00:00<00:00, 494.44it/s]"
     ]
    },
    {
     "name": "stdout",
     "output_type": "stream",
     "text": [
      "\t eval rmse: 1.1605\n",
      "\t eval mae: 0.9093\n",
      "\t eval r2: -0.3785\n",
      "==============================\n"
     ]
    },
    {
     "name": "stderr",
     "output_type": "stream",
     "text": [
      "\n"
     ]
    },
    {
     "name": "stdout",
     "output_type": "stream",
     "text": [
      "Epoch 3 elapsed: 0.337s\n"
     ]
    },
    {
     "name": "stderr",
     "output_type": "stream",
     "text": [
      "eval_pred: 100%|███████████████████████████████| 15/15 [00:00<00:00, 380.49it/s]"
     ]
    },
    {
     "name": "stdout",
     "output_type": "stream",
     "text": [
      "\t eval rmse: 1.1769\n",
      "\t eval mae: 0.9167\n",
      "\t eval r2: -0.4178\n",
      "==============================\n"
     ]
    },
    {
     "name": "stderr",
     "output_type": "stream",
     "text": [
      "\n"
     ]
    },
    {
     "name": "stdout",
     "output_type": "stream",
     "text": [
      "Epoch 4 elapsed: 0.346s\n"
     ]
    },
    {
     "name": "stderr",
     "output_type": "stream",
     "text": [
      "eval_pred: 100%|███████████████████████████████| 15/15 [00:00<00:00, 439.05it/s]"
     ]
    },
    {
     "name": "stdout",
     "output_type": "stream",
     "text": [
      "\t eval rmse: 1.1900\n",
      "\t eval mae: 0.9232\n",
      "\t eval r2: -0.4496\n",
      "==============================\n"
     ]
    },
    {
     "name": "stderr",
     "output_type": "stream",
     "text": [
      "\n"
     ]
    },
    {
     "name": "stdout",
     "output_type": "stream",
     "text": [
      "Epoch 5 elapsed: 0.303s\n"
     ]
    },
    {
     "name": "stderr",
     "output_type": "stream",
     "text": [
      "eval_pred: 100%|███████████████████████████████| 15/15 [00:00<00:00, 372.46it/s]"
     ]
    },
    {
     "name": "stdout",
     "output_type": "stream",
     "text": [
      "\t eval rmse: 1.2009\n",
      "\t eval mae: 0.9291\n",
      "\t eval r2: -0.4761\n",
      "==============================\n"
     ]
    },
    {
     "name": "stderr",
     "output_type": "stream",
     "text": [
      "\n"
     ]
    },
    {
     "name": "stdout",
     "output_type": "stream",
     "text": [
      "Training start time: \u001b[35m2022-07-23 16:04:06\u001b[0m\n",
      "Epoch 1 elapsed: 0.327s\n"
     ]
    },
    {
     "name": "stderr",
     "output_type": "stream",
     "text": [
      "eval_pred: 100%|███████████████████████████████| 15/15 [00:00<00:00, 499.13it/s]"
     ]
    },
    {
     "name": "stdout",
     "output_type": "stream",
     "text": [
      "\t eval rmse: 1.0768\n",
      "\t eval mae: 0.8544\n",
      "\t eval r2: -0.1868\n",
      "==============================\n"
     ]
    },
    {
     "name": "stderr",
     "output_type": "stream",
     "text": [
      "\n"
     ]
    },
    {
     "name": "stdout",
     "output_type": "stream",
     "text": [
      "Epoch 2 elapsed: 0.357s\n"
     ]
    },
    {
     "name": "stderr",
     "output_type": "stream",
     "text": [
      "eval_pred: 100%|███████████████████████████████| 15/15 [00:00<00:00, 299.09it/s]"
     ]
    },
    {
     "name": "stdout",
     "output_type": "stream",
     "text": [
      "\t eval rmse: 1.1605\n",
      "\t eval mae: 0.9093\n",
      "\t eval r2: -0.3785\n",
      "==============================\n"
     ]
    },
    {
     "name": "stderr",
     "output_type": "stream",
     "text": [
      "\n"
     ]
    },
    {
     "name": "stdout",
     "output_type": "stream",
     "text": [
      "Epoch 3 elapsed: 0.316s\n"
     ]
    },
    {
     "name": "stderr",
     "output_type": "stream",
     "text": [
      "eval_pred: 100%|███████████████████████████████| 15/15 [00:00<00:00, 510.50it/s]"
     ]
    },
    {
     "name": "stdout",
     "output_type": "stream",
     "text": [
      "\t eval rmse: 1.1769\n",
      "\t eval mae: 0.9167\n",
      "\t eval r2: -0.4178\n",
      "==============================\n"
     ]
    },
    {
     "name": "stderr",
     "output_type": "stream",
     "text": [
      "\n"
     ]
    },
    {
     "name": "stdout",
     "output_type": "stream",
     "text": [
      "Epoch 4 elapsed: 0.305s\n"
     ]
    },
    {
     "name": "stderr",
     "output_type": "stream",
     "text": [
      "eval_pred: 100%|███████████████████████████████| 15/15 [00:00<00:00, 347.67it/s]"
     ]
    },
    {
     "name": "stdout",
     "output_type": "stream",
     "text": [
      "\t eval rmse: 1.1900\n",
      "\t eval mae: 0.9232\n",
      "\t eval r2: -0.4496\n",
      "==============================\n"
     ]
    },
    {
     "name": "stderr",
     "output_type": "stream",
     "text": [
      "\n"
     ]
    },
    {
     "name": "stdout",
     "output_type": "stream",
     "text": [
      "Epoch 5 elapsed: 0.322s\n"
     ]
    },
    {
     "name": "stderr",
     "output_type": "stream",
     "text": [
      "eval_pred: 100%|███████████████████████████████| 15/15 [00:00<00:00, 397.81it/s]"
     ]
    },
    {
     "name": "stdout",
     "output_type": "stream",
     "text": [
      "\t eval rmse: 1.2009\n",
      "\t eval mae: 0.9291\n",
      "\t eval r2: -0.4761\n",
      "==============================\n"
     ]
    },
    {
     "name": "stderr",
     "output_type": "stream",
     "text": [
      "\n"
     ]
    },
    {
     "name": "stdout",
     "output_type": "stream",
     "text": [
      "Training start time: \u001b[35m2022-07-23 16:04:09\u001b[0m\n",
      "Epoch 1 elapsed: 0.302s\n"
     ]
    },
    {
     "name": "stderr",
     "output_type": "stream",
     "text": [
      "eval_pred: 100%|███████████████████████████████| 15/15 [00:00<00:00, 430.19it/s]"
     ]
    },
    {
     "name": "stdout",
     "output_type": "stream",
     "text": [
      "\t eval rmse: 1.0768\n",
      "\t eval mae: 0.8544\n",
      "\t eval r2: -0.1868\n",
      "==============================\n"
     ]
    },
    {
     "name": "stderr",
     "output_type": "stream",
     "text": [
      "\n"
     ]
    },
    {
     "name": "stdout",
     "output_type": "stream",
     "text": [
      "Epoch 2 elapsed: 0.317s\n"
     ]
    },
    {
     "name": "stderr",
     "output_type": "stream",
     "text": [
      "eval_pred: 100%|███████████████████████████████| 15/15 [00:00<00:00, 326.21it/s]"
     ]
    },
    {
     "name": "stdout",
     "output_type": "stream",
     "text": [
      "\t eval rmse: 1.1605\n",
      "\t eval mae: 0.9093\n",
      "\t eval r2: -0.3785\n",
      "==============================\n"
     ]
    },
    {
     "name": "stderr",
     "output_type": "stream",
     "text": [
      "\n"
     ]
    },
    {
     "name": "stdout",
     "output_type": "stream",
     "text": [
      "Epoch 3 elapsed: 0.366s\n"
     ]
    },
    {
     "name": "stderr",
     "output_type": "stream",
     "text": [
      "eval_pred: 100%|███████████████████████████████| 15/15 [00:00<00:00, 329.05it/s]"
     ]
    },
    {
     "name": "stdout",
     "output_type": "stream",
     "text": [
      "\t eval rmse: 1.1769\n",
      "\t eval mae: 0.9167\n",
      "\t eval r2: -0.4178\n",
      "==============================\n"
     ]
    },
    {
     "name": "stderr",
     "output_type": "stream",
     "text": [
      "\n"
     ]
    },
    {
     "name": "stdout",
     "output_type": "stream",
     "text": [
      "Epoch 4 elapsed: 0.325s\n"
     ]
    },
    {
     "name": "stderr",
     "output_type": "stream",
     "text": [
      "eval_pred: 100%|███████████████████████████████| 15/15 [00:00<00:00, 418.96it/s]"
     ]
    },
    {
     "name": "stdout",
     "output_type": "stream",
     "text": [
      "\t eval rmse: 1.1900\n",
      "\t eval mae: 0.9232\n",
      "\t eval r2: -0.4496\n",
      "==============================\n"
     ]
    },
    {
     "name": "stderr",
     "output_type": "stream",
     "text": [
      "\n"
     ]
    },
    {
     "name": "stdout",
     "output_type": "stream",
     "text": [
      "Epoch 5 elapsed: 0.299s\n"
     ]
    },
    {
     "name": "stderr",
     "output_type": "stream",
     "text": [
      "eval_pred: 100%|███████████████████████████████| 15/15 [00:00<00:00, 457.23it/s]"
     ]
    },
    {
     "name": "stdout",
     "output_type": "stream",
     "text": [
      "\t eval rmse: 1.2009\n",
      "\t eval mae: 0.9291\n",
      "\t eval r2: -0.4761\n",
      "==============================\n"
     ]
    },
    {
     "name": "stderr",
     "output_type": "stream",
     "text": [
      "\n"
     ]
    },
    {
     "name": "stdout",
     "output_type": "stream",
     "text": [
      "Training start time: \u001b[35m2022-07-23 16:04:11\u001b[0m\n",
      "Epoch 1 elapsed: 0.319s\n"
     ]
    },
    {
     "name": "stderr",
     "output_type": "stream",
     "text": [
      "eval_pred: 100%|███████████████████████████████| 15/15 [00:00<00:00, 415.95it/s]"
     ]
    },
    {
     "name": "stdout",
     "output_type": "stream",
     "text": [
      "\t eval rmse: 1.0768\n",
      "\t eval mae: 0.8544\n",
      "\t eval r2: -0.1868\n",
      "==============================\n"
     ]
    },
    {
     "name": "stderr",
     "output_type": "stream",
     "text": [
      "\n"
     ]
    },
    {
     "name": "stdout",
     "output_type": "stream",
     "text": [
      "Epoch 2 elapsed: 0.353s\n"
     ]
    },
    {
     "name": "stderr",
     "output_type": "stream",
     "text": [
      "eval_pred: 100%|███████████████████████████████| 15/15 [00:00<00:00, 403.53it/s]"
     ]
    },
    {
     "name": "stdout",
     "output_type": "stream",
     "text": [
      "\t eval rmse: 1.1605\n",
      "\t eval mae: 0.9093\n",
      "\t eval r2: -0.3785\n",
      "==============================\n"
     ]
    },
    {
     "name": "stderr",
     "output_type": "stream",
     "text": [
      "\n"
     ]
    },
    {
     "name": "stdout",
     "output_type": "stream",
     "text": [
      "Epoch 3 elapsed: 0.349s\n"
     ]
    },
    {
     "name": "stderr",
     "output_type": "stream",
     "text": [
      "eval_pred: 100%|███████████████████████████████| 15/15 [00:00<00:00, 334.28it/s]"
     ]
    },
    {
     "name": "stdout",
     "output_type": "stream",
     "text": [
      "\t eval rmse: 1.1769\n",
      "\t eval mae: 0.9167\n",
      "\t eval r2: -0.4178\n",
      "==============================\n"
     ]
    },
    {
     "name": "stderr",
     "output_type": "stream",
     "text": [
      "\n"
     ]
    },
    {
     "name": "stdout",
     "output_type": "stream",
     "text": [
      "Epoch 4 elapsed: 0.305s\n"
     ]
    },
    {
     "name": "stderr",
     "output_type": "stream",
     "text": [
      "eval_pred: 100%|███████████████████████████████| 15/15 [00:00<00:00, 322.50it/s]"
     ]
    },
    {
     "name": "stdout",
     "output_type": "stream",
     "text": [
      "\t eval rmse: 1.1900\n",
      "\t eval mae: 0.9232\n",
      "\t eval r2: -0.4496\n",
      "==============================\n"
     ]
    },
    {
     "name": "stderr",
     "output_type": "stream",
     "text": [
      "\n"
     ]
    },
    {
     "name": "stdout",
     "output_type": "stream",
     "text": [
      "Epoch 5 elapsed: 0.308s\n"
     ]
    },
    {
     "name": "stderr",
     "output_type": "stream",
     "text": [
      "eval_pred: 100%|███████████████████████████████| 15/15 [00:00<00:00, 360.00it/s]"
     ]
    },
    {
     "name": "stdout",
     "output_type": "stream",
     "text": [
      "\t eval rmse: 1.2009\n",
      "\t eval mae: 0.9291\n",
      "\t eval r2: -0.4761\n",
      "==============================\n"
     ]
    },
    {
     "name": "stderr",
     "output_type": "stream",
     "text": [
      "\n"
     ]
    },
    {
     "name": "stdout",
     "output_type": "stream",
     "text": [
      "Training start time: \u001b[35m2022-07-23 16:04:14\u001b[0m\n",
      "Epoch 1 elapsed: 0.324s\n"
     ]
    },
    {
     "name": "stderr",
     "output_type": "stream",
     "text": [
      "eval_pred: 100%|███████████████████████████████| 15/15 [00:00<00:00, 360.54it/s]"
     ]
    },
    {
     "name": "stdout",
     "output_type": "stream",
     "text": [
      "\t eval rmse: 1.0123\n",
      "\t eval mae: 0.8106\n",
      "\t eval r2: -0.0488\n",
      "==============================\n"
     ]
    },
    {
     "name": "stderr",
     "output_type": "stream",
     "text": [
      "\n"
     ]
    },
    {
     "name": "stdout",
     "output_type": "stream",
     "text": [
      "Epoch 2 elapsed: 0.330s\n"
     ]
    },
    {
     "name": "stderr",
     "output_type": "stream",
     "text": [
      "eval_pred: 100%|███████████████████████████████| 15/15 [00:00<00:00, 459.58it/s]"
     ]
    },
    {
     "name": "stdout",
     "output_type": "stream",
     "text": [
      "\t eval rmse: 1.1110\n",
      "\t eval mae: 0.8733\n",
      "\t eval r2: -0.2633\n",
      "==============================\n"
     ]
    },
    {
     "name": "stderr",
     "output_type": "stream",
     "text": [
      "\n"
     ]
    },
    {
     "name": "stdout",
     "output_type": "stream",
     "text": [
      "Epoch 3 elapsed: 0.316s\n"
     ]
    },
    {
     "name": "stderr",
     "output_type": "stream",
     "text": [
      "eval_pred: 100%|███████████████████████████████| 15/15 [00:00<00:00, 356.44it/s]"
     ]
    },
    {
     "name": "stdout",
     "output_type": "stream",
     "text": [
      "\t eval rmse: 1.1187\n",
      "\t eval mae: 0.8747\n",
      "\t eval r2: -0.2810\n",
      "==============================\n"
     ]
    },
    {
     "name": "stderr",
     "output_type": "stream",
     "text": [
      "\n"
     ]
    },
    {
     "name": "stdout",
     "output_type": "stream",
     "text": [
      "Epoch 4 elapsed: 0.327s\n"
     ]
    },
    {
     "name": "stderr",
     "output_type": "stream",
     "text": [
      "eval_pred: 100%|███████████████████████████████| 15/15 [00:00<00:00, 440.49it/s]"
     ]
    },
    {
     "name": "stdout",
     "output_type": "stream",
     "text": [
      "\t eval rmse: 1.1228\n",
      "\t eval mae: 0.8751\n",
      "\t eval r2: -0.2903\n",
      "==============================\n"
     ]
    },
    {
     "name": "stderr",
     "output_type": "stream",
     "text": [
      "\n"
     ]
    },
    {
     "name": "stdout",
     "output_type": "stream",
     "text": [
      "Epoch 5 elapsed: 0.352s\n"
     ]
    },
    {
     "name": "stderr",
     "output_type": "stream",
     "text": [
      "eval_pred: 100%|███████████████████████████████| 15/15 [00:00<00:00, 415.55it/s]"
     ]
    },
    {
     "name": "stdout",
     "output_type": "stream",
     "text": [
      "\t eval rmse: 1.1255\n",
      "\t eval mae: 0.8755\n",
      "\t eval r2: -0.2966\n",
      "==============================\n"
     ]
    },
    {
     "name": "stderr",
     "output_type": "stream",
     "text": [
      "\n"
     ]
    },
    {
     "name": "stdout",
     "output_type": "stream",
     "text": [
      "Training start time: \u001b[35m2022-07-23 16:04:16\u001b[0m\n",
      "Epoch 1 elapsed: 0.318s\n"
     ]
    },
    {
     "name": "stderr",
     "output_type": "stream",
     "text": [
      "eval_pred: 100%|███████████████████████████████| 15/15 [00:00<00:00, 434.85it/s]"
     ]
    },
    {
     "name": "stdout",
     "output_type": "stream",
     "text": [
      "\t eval rmse: 1.0123\n",
      "\t eval mae: 0.8106\n",
      "\t eval r2: -0.0488\n",
      "==============================\n"
     ]
    },
    {
     "name": "stderr",
     "output_type": "stream",
     "text": [
      "\n"
     ]
    },
    {
     "name": "stdout",
     "output_type": "stream",
     "text": [
      "Epoch 2 elapsed: 0.320s\n"
     ]
    },
    {
     "name": "stderr",
     "output_type": "stream",
     "text": [
      "eval_pred: 100%|███████████████████████████████| 15/15 [00:00<00:00, 339.46it/s]"
     ]
    },
    {
     "name": "stdout",
     "output_type": "stream",
     "text": [
      "\t eval rmse: 1.1110\n",
      "\t eval mae: 0.8733\n",
      "\t eval r2: -0.2633\n",
      "==============================\n"
     ]
    },
    {
     "name": "stderr",
     "output_type": "stream",
     "text": [
      "\n"
     ]
    },
    {
     "name": "stdout",
     "output_type": "stream",
     "text": [
      "Epoch 3 elapsed: 0.315s\n"
     ]
    },
    {
     "name": "stderr",
     "output_type": "stream",
     "text": [
      "eval_pred: 100%|███████████████████████████████| 15/15 [00:00<00:00, 459.87it/s]"
     ]
    },
    {
     "name": "stdout",
     "output_type": "stream",
     "text": [
      "\t eval rmse: 1.1187\n",
      "\t eval mae: 0.8747\n",
      "\t eval r2: -0.2810\n",
      "==============================\n"
     ]
    },
    {
     "name": "stderr",
     "output_type": "stream",
     "text": [
      "\n"
     ]
    },
    {
     "name": "stdout",
     "output_type": "stream",
     "text": [
      "Epoch 4 elapsed: 0.332s\n"
     ]
    },
    {
     "name": "stderr",
     "output_type": "stream",
     "text": [
      "eval_pred: 100%|███████████████████████████████| 15/15 [00:00<00:00, 414.04it/s]"
     ]
    },
    {
     "name": "stdout",
     "output_type": "stream",
     "text": [
      "\t eval rmse: 1.1228\n",
      "\t eval mae: 0.8751\n",
      "\t eval r2: -0.2903\n",
      "==============================\n"
     ]
    },
    {
     "name": "stderr",
     "output_type": "stream",
     "text": [
      "\n"
     ]
    },
    {
     "name": "stdout",
     "output_type": "stream",
     "text": [
      "Epoch 5 elapsed: 0.320s\n"
     ]
    },
    {
     "name": "stderr",
     "output_type": "stream",
     "text": [
      "eval_pred: 100%|███████████████████████████████| 15/15 [00:00<00:00, 299.82it/s]"
     ]
    },
    {
     "name": "stdout",
     "output_type": "stream",
     "text": [
      "\t eval rmse: 1.1255\n",
      "\t eval mae: 0.8755\n",
      "\t eval r2: -0.2966\n",
      "==============================\n"
     ]
    },
    {
     "name": "stderr",
     "output_type": "stream",
     "text": [
      "\n"
     ]
    },
    {
     "name": "stdout",
     "output_type": "stream",
     "text": [
      "Training start time: \u001b[35m2022-07-23 16:04:19\u001b[0m\n",
      "Epoch 1 elapsed: 0.306s\n"
     ]
    },
    {
     "name": "stderr",
     "output_type": "stream",
     "text": [
      "eval_pred: 100%|███████████████████████████████| 15/15 [00:00<00:00, 253.10it/s]"
     ]
    },
    {
     "name": "stdout",
     "output_type": "stream",
     "text": [
      "\t eval rmse: 1.0123\n",
      "\t eval mae: 0.8106\n",
      "\t eval r2: -0.0488\n",
      "==============================\n"
     ]
    },
    {
     "name": "stderr",
     "output_type": "stream",
     "text": [
      "\n"
     ]
    },
    {
     "name": "stdout",
     "output_type": "stream",
     "text": [
      "Epoch 2 elapsed: 0.295s\n"
     ]
    },
    {
     "name": "stderr",
     "output_type": "stream",
     "text": [
      "eval_pred: 100%|███████████████████████████████| 15/15 [00:00<00:00, 462.60it/s]"
     ]
    },
    {
     "name": "stdout",
     "output_type": "stream",
     "text": [
      "\t eval rmse: 1.1110\n",
      "\t eval mae: 0.8733\n",
      "\t eval r2: -0.2633\n",
      "==============================\n"
     ]
    },
    {
     "name": "stderr",
     "output_type": "stream",
     "text": [
      "\n"
     ]
    },
    {
     "name": "stdout",
     "output_type": "stream",
     "text": [
      "Epoch 3 elapsed: 0.331s\n"
     ]
    },
    {
     "name": "stderr",
     "output_type": "stream",
     "text": [
      "eval_pred: 100%|███████████████████████████████| 15/15 [00:00<00:00, 488.71it/s]"
     ]
    },
    {
     "name": "stdout",
     "output_type": "stream",
     "text": [
      "\t eval rmse: 1.1187\n",
      "\t eval mae: 0.8747\n",
      "\t eval r2: -0.2810\n",
      "==============================\n"
     ]
    },
    {
     "name": "stderr",
     "output_type": "stream",
     "text": [
      "\n"
     ]
    },
    {
     "name": "stdout",
     "output_type": "stream",
     "text": [
      "Epoch 4 elapsed: 0.323s\n"
     ]
    },
    {
     "name": "stderr",
     "output_type": "stream",
     "text": [
      "eval_pred: 100%|███████████████████████████████| 15/15 [00:00<00:00, 382.84it/s]"
     ]
    },
    {
     "name": "stdout",
     "output_type": "stream",
     "text": [
      "\t eval rmse: 1.1228\n",
      "\t eval mae: 0.8751\n",
      "\t eval r2: -0.2903\n",
      "==============================\n"
     ]
    },
    {
     "name": "stderr",
     "output_type": "stream",
     "text": [
      "\n"
     ]
    },
    {
     "name": "stdout",
     "output_type": "stream",
     "text": [
      "Epoch 5 elapsed: 0.341s\n"
     ]
    },
    {
     "name": "stderr",
     "output_type": "stream",
     "text": [
      "eval_pred: 100%|███████████████████████████████| 15/15 [00:00<00:00, 434.76it/s]"
     ]
    },
    {
     "name": "stdout",
     "output_type": "stream",
     "text": [
      "\t eval rmse: 1.1255\n",
      "\t eval mae: 0.8755\n",
      "\t eval r2: -0.2966\n",
      "==============================\n"
     ]
    },
    {
     "name": "stderr",
     "output_type": "stream",
     "text": [
      "\n"
     ]
    },
    {
     "name": "stdout",
     "output_type": "stream",
     "text": [
      "Training start time: \u001b[35m2022-07-23 16:04:21\u001b[0m\n",
      "Epoch 1 elapsed: 0.299s\n"
     ]
    },
    {
     "name": "stderr",
     "output_type": "stream",
     "text": [
      "eval_pred: 100%|███████████████████████████████| 15/15 [00:00<00:00, 394.03it/s]"
     ]
    },
    {
     "name": "stdout",
     "output_type": "stream",
     "text": [
      "\t eval rmse: 1.0123\n",
      "\t eval mae: 0.8106\n",
      "\t eval r2: -0.0488\n",
      "==============================\n"
     ]
    },
    {
     "name": "stderr",
     "output_type": "stream",
     "text": [
      "\n"
     ]
    },
    {
     "name": "stdout",
     "output_type": "stream",
     "text": [
      "Epoch 2 elapsed: 0.333s\n"
     ]
    },
    {
     "name": "stderr",
     "output_type": "stream",
     "text": [
      "eval_pred: 100%|███████████████████████████████| 15/15 [00:00<00:00, 408.31it/s]"
     ]
    },
    {
     "name": "stdout",
     "output_type": "stream",
     "text": [
      "\t eval rmse: 1.1110\n",
      "\t eval mae: 0.8733\n",
      "\t eval r2: -0.2633\n",
      "==============================\n"
     ]
    },
    {
     "name": "stderr",
     "output_type": "stream",
     "text": [
      "\n"
     ]
    },
    {
     "name": "stdout",
     "output_type": "stream",
     "text": [
      "Epoch 3 elapsed: 0.360s\n"
     ]
    },
    {
     "name": "stderr",
     "output_type": "stream",
     "text": [
      "eval_pred: 100%|███████████████████████████████| 15/15 [00:00<00:00, 368.38it/s]"
     ]
    },
    {
     "name": "stdout",
     "output_type": "stream",
     "text": [
      "\t eval rmse: 1.1187\n",
      "\t eval mae: 0.8747\n",
      "\t eval r2: -0.2810\n",
      "==============================\n"
     ]
    },
    {
     "name": "stderr",
     "output_type": "stream",
     "text": [
      "\n"
     ]
    },
    {
     "name": "stdout",
     "output_type": "stream",
     "text": [
      "Epoch 4 elapsed: 0.347s\n"
     ]
    },
    {
     "name": "stderr",
     "output_type": "stream",
     "text": [
      "eval_pred: 100%|███████████████████████████████| 15/15 [00:00<00:00, 440.26it/s]"
     ]
    },
    {
     "name": "stdout",
     "output_type": "stream",
     "text": [
      "\t eval rmse: 1.1228\n",
      "\t eval mae: 0.8751\n",
      "\t eval r2: -0.2903\n",
      "==============================\n"
     ]
    },
    {
     "name": "stderr",
     "output_type": "stream",
     "text": [
      "\n"
     ]
    },
    {
     "name": "stdout",
     "output_type": "stream",
     "text": [
      "Epoch 5 elapsed: 0.342s\n"
     ]
    },
    {
     "name": "stderr",
     "output_type": "stream",
     "text": [
      "eval_pred: 100%|███████████████████████████████| 15/15 [00:00<00:00, 549.95it/s]"
     ]
    },
    {
     "name": "stdout",
     "output_type": "stream",
     "text": [
      "\t eval rmse: 1.1255\n",
      "\t eval mae: 0.8755\n",
      "\t eval r2: -0.2966\n",
      "==============================\n"
     ]
    },
    {
     "name": "stderr",
     "output_type": "stream",
     "text": [
      "\n"
     ]
    },
    {
     "name": "stdout",
     "output_type": "stream",
     "text": [
      "Training start time: \u001b[35m2022-07-23 16:04:24\u001b[0m\n",
      "Epoch 1 elapsed: 0.308s\n"
     ]
    },
    {
     "name": "stderr",
     "output_type": "stream",
     "text": [
      "eval_pred: 100%|███████████████████████████████| 15/15 [00:00<00:00, 426.32it/s]"
     ]
    },
    {
     "name": "stdout",
     "output_type": "stream",
     "text": [
      "\t eval rmse: 1.0123\n",
      "\t eval mae: 0.8106\n",
      "\t eval r2: -0.0488\n",
      "==============================\n"
     ]
    },
    {
     "name": "stderr",
     "output_type": "stream",
     "text": [
      "\n"
     ]
    },
    {
     "name": "stdout",
     "output_type": "stream",
     "text": [
      "Epoch 2 elapsed: 0.327s\n"
     ]
    },
    {
     "name": "stderr",
     "output_type": "stream",
     "text": [
      "eval_pred: 100%|███████████████████████████████| 15/15 [00:00<00:00, 492.95it/s]"
     ]
    },
    {
     "name": "stdout",
     "output_type": "stream",
     "text": [
      "\t eval rmse: 1.1110\n",
      "\t eval mae: 0.8733\n",
      "\t eval r2: -0.2633\n",
      "==============================\n"
     ]
    },
    {
     "name": "stderr",
     "output_type": "stream",
     "text": [
      "\n"
     ]
    },
    {
     "name": "stdout",
     "output_type": "stream",
     "text": [
      "Epoch 3 elapsed: 0.304s\n"
     ]
    },
    {
     "name": "stderr",
     "output_type": "stream",
     "text": [
      "eval_pred: 100%|███████████████████████████████| 15/15 [00:00<00:00, 443.59it/s]"
     ]
    },
    {
     "name": "stdout",
     "output_type": "stream",
     "text": [
      "\t eval rmse: 1.1187\n",
      "\t eval mae: 0.8747\n",
      "\t eval r2: -0.2810\n",
      "==============================\n"
     ]
    },
    {
     "name": "stderr",
     "output_type": "stream",
     "text": [
      "\n"
     ]
    },
    {
     "name": "stdout",
     "output_type": "stream",
     "text": [
      "Epoch 4 elapsed: 0.339s\n"
     ]
    },
    {
     "name": "stderr",
     "output_type": "stream",
     "text": [
      "eval_pred: 100%|███████████████████████████████| 15/15 [00:00<00:00, 429.19it/s]"
     ]
    },
    {
     "name": "stdout",
     "output_type": "stream",
     "text": [
      "\t eval rmse: 1.1228\n",
      "\t eval mae: 0.8751\n",
      "\t eval r2: -0.2903\n",
      "==============================\n"
     ]
    },
    {
     "name": "stderr",
     "output_type": "stream",
     "text": [
      "\n"
     ]
    },
    {
     "name": "stdout",
     "output_type": "stream",
     "text": [
      "Epoch 5 elapsed: 0.330s\n"
     ]
    },
    {
     "name": "stderr",
     "output_type": "stream",
     "text": [
      "eval_pred: 100%|███████████████████████████████| 15/15 [00:00<00:00, 406.44it/s]"
     ]
    },
    {
     "name": "stdout",
     "output_type": "stream",
     "text": [
      "\t eval rmse: 1.1255\n",
      "\t eval mae: 0.8755\n",
      "\t eval r2: -0.2966\n",
      "==============================\n"
     ]
    },
    {
     "name": "stderr",
     "output_type": "stream",
     "text": [
      "\n"
     ]
    },
    {
     "name": "stdout",
     "output_type": "stream",
     "text": [
      "Training start time: \u001b[35m2022-07-23 16:04:26\u001b[0m\n",
      "Epoch 1 elapsed: 0.324s\n"
     ]
    },
    {
     "name": "stderr",
     "output_type": "stream",
     "text": [
      "eval_pred: 100%|███████████████████████████████| 15/15 [00:00<00:00, 445.02it/s]"
     ]
    },
    {
     "name": "stdout",
     "output_type": "stream",
     "text": [
      "\t eval rmse: 0.9897\n",
      "\t eval mae: 0.7975\n",
      "\t eval r2: -0.0026\n",
      "==============================\n"
     ]
    },
    {
     "name": "stderr",
     "output_type": "stream",
     "text": [
      "\n"
     ]
    },
    {
     "name": "stdout",
     "output_type": "stream",
     "text": [
      "Epoch 2 elapsed: 0.354s\n"
     ]
    },
    {
     "name": "stderr",
     "output_type": "stream",
     "text": [
      "eval_pred: 100%|███████████████████████████████| 15/15 [00:00<00:00, 450.31it/s]"
     ]
    },
    {
     "name": "stdout",
     "output_type": "stream",
     "text": [
      "\t eval rmse: 1.0604\n",
      "\t eval mae: 0.8375\n",
      "\t eval r2: -0.1509\n",
      "==============================\n"
     ]
    },
    {
     "name": "stderr",
     "output_type": "stream",
     "text": [
      "\n"
     ]
    },
    {
     "name": "stdout",
     "output_type": "stream",
     "text": [
      "Epoch 3 elapsed: 0.324s\n"
     ]
    },
    {
     "name": "stderr",
     "output_type": "stream",
     "text": [
      "eval_pred: 100%|███████████████████████████████| 15/15 [00:00<00:00, 334.06it/s]"
     ]
    },
    {
     "name": "stdout",
     "output_type": "stream",
     "text": [
      "\t eval rmse: 1.0637\n",
      "\t eval mae: 0.8363\n",
      "\t eval r2: -0.1582\n",
      "==============================\n"
     ]
    },
    {
     "name": "stderr",
     "output_type": "stream",
     "text": [
      "\n"
     ]
    },
    {
     "name": "stdout",
     "output_type": "stream",
     "text": [
      "Epoch 4 elapsed: 0.340s\n"
     ]
    },
    {
     "name": "stderr",
     "output_type": "stream",
     "text": [
      "eval_pred: 100%|███████████████████████████████| 15/15 [00:00<00:00, 445.65it/s]"
     ]
    },
    {
     "name": "stdout",
     "output_type": "stream",
     "text": [
      "\t eval rmse: 1.0643\n",
      "\t eval mae: 0.8347\n",
      "\t eval r2: -0.1594\n",
      "==============================\n"
     ]
    },
    {
     "name": "stderr",
     "output_type": "stream",
     "text": [
      "\n"
     ]
    },
    {
     "name": "stdout",
     "output_type": "stream",
     "text": [
      "Epoch 5 elapsed: 0.326s\n"
     ]
    },
    {
     "name": "stderr",
     "output_type": "stream",
     "text": [
      "eval_pred: 100%|███████████████████████████████| 15/15 [00:00<00:00, 468.38it/s]"
     ]
    },
    {
     "name": "stdout",
     "output_type": "stream",
     "text": [
      "\t eval rmse: 1.0649\n",
      "\t eval mae: 0.8340\n",
      "\t eval r2: -0.1608\n",
      "==============================\n"
     ]
    },
    {
     "name": "stderr",
     "output_type": "stream",
     "text": [
      "\n"
     ]
    },
    {
     "name": "stdout",
     "output_type": "stream",
     "text": [
      "Training start time: \u001b[35m2022-07-23 16:04:29\u001b[0m\n",
      "Epoch 1 elapsed: 0.335s\n"
     ]
    },
    {
     "name": "stderr",
     "output_type": "stream",
     "text": [
      "eval_pred: 100%|███████████████████████████████| 15/15 [00:00<00:00, 369.60it/s]"
     ]
    },
    {
     "name": "stdout",
     "output_type": "stream",
     "text": [
      "\t eval rmse: 0.9897\n",
      "\t eval mae: 0.7975\n",
      "\t eval r2: -0.0026\n",
      "==============================\n"
     ]
    },
    {
     "name": "stderr",
     "output_type": "stream",
     "text": [
      "\n"
     ]
    },
    {
     "name": "stdout",
     "output_type": "stream",
     "text": [
      "Epoch 2 elapsed: 0.332s\n"
     ]
    },
    {
     "name": "stderr",
     "output_type": "stream",
     "text": [
      "eval_pred: 100%|███████████████████████████████| 15/15 [00:00<00:00, 462.12it/s]"
     ]
    },
    {
     "name": "stdout",
     "output_type": "stream",
     "text": [
      "\t eval rmse: 1.0604\n",
      "\t eval mae: 0.8375\n",
      "\t eval r2: -0.1509\n",
      "==============================\n"
     ]
    },
    {
     "name": "stderr",
     "output_type": "stream",
     "text": [
      "\n"
     ]
    },
    {
     "name": "stdout",
     "output_type": "stream",
     "text": [
      "Epoch 3 elapsed: 0.336s\n"
     ]
    },
    {
     "name": "stderr",
     "output_type": "stream",
     "text": [
      "eval_pred: 100%|███████████████████████████████| 15/15 [00:00<00:00, 275.22it/s]"
     ]
    },
    {
     "name": "stdout",
     "output_type": "stream",
     "text": [
      "\t eval rmse: 1.0637\n",
      "\t eval mae: 0.8363\n",
      "\t eval r2: -0.1582\n",
      "==============================\n"
     ]
    },
    {
     "name": "stderr",
     "output_type": "stream",
     "text": [
      "\n"
     ]
    },
    {
     "name": "stdout",
     "output_type": "stream",
     "text": [
      "Epoch 4 elapsed: 0.324s\n"
     ]
    },
    {
     "name": "stderr",
     "output_type": "stream",
     "text": [
      "eval_pred: 100%|███████████████████████████████| 15/15 [00:00<00:00, 358.44it/s]"
     ]
    },
    {
     "name": "stdout",
     "output_type": "stream",
     "text": [
      "\t eval rmse: 1.0643\n",
      "\t eval mae: 0.8347\n",
      "\t eval r2: -0.1594\n",
      "==============================\n"
     ]
    },
    {
     "name": "stderr",
     "output_type": "stream",
     "text": [
      "\n"
     ]
    },
    {
     "name": "stdout",
     "output_type": "stream",
     "text": [
      "Epoch 5 elapsed: 0.354s\n"
     ]
    },
    {
     "name": "stderr",
     "output_type": "stream",
     "text": [
      "eval_pred: 100%|███████████████████████████████| 15/15 [00:00<00:00, 294.23it/s]"
     ]
    },
    {
     "name": "stdout",
     "output_type": "stream",
     "text": [
      "\t eval rmse: 1.0649\n",
      "\t eval mae: 0.8340\n",
      "\t eval r2: -0.1608\n",
      "==============================\n"
     ]
    },
    {
     "name": "stderr",
     "output_type": "stream",
     "text": [
      "\n"
     ]
    },
    {
     "name": "stdout",
     "output_type": "stream",
     "text": [
      "Training start time: \u001b[35m2022-07-23 16:04:32\u001b[0m\n",
      "Epoch 1 elapsed: 0.328s\n"
     ]
    },
    {
     "name": "stderr",
     "output_type": "stream",
     "text": [
      "eval_pred: 100%|███████████████████████████████| 15/15 [00:00<00:00, 324.64it/s]"
     ]
    },
    {
     "name": "stdout",
     "output_type": "stream",
     "text": [
      "\t eval rmse: 0.9897\n",
      "\t eval mae: 0.7975\n",
      "\t eval r2: -0.0026\n",
      "==============================\n"
     ]
    },
    {
     "name": "stderr",
     "output_type": "stream",
     "text": [
      "\n"
     ]
    },
    {
     "name": "stdout",
     "output_type": "stream",
     "text": [
      "Epoch 2 elapsed: 0.327s\n"
     ]
    },
    {
     "name": "stderr",
     "output_type": "stream",
     "text": [
      "eval_pred: 100%|███████████████████████████████| 15/15 [00:00<00:00, 305.99it/s]"
     ]
    },
    {
     "name": "stdout",
     "output_type": "stream",
     "text": [
      "\t eval rmse: 1.0604\n",
      "\t eval mae: 0.8375\n",
      "\t eval r2: -0.1509\n",
      "==============================\n"
     ]
    },
    {
     "name": "stderr",
     "output_type": "stream",
     "text": [
      "\n"
     ]
    },
    {
     "name": "stdout",
     "output_type": "stream",
     "text": [
      "Epoch 3 elapsed: 0.337s\n"
     ]
    },
    {
     "name": "stderr",
     "output_type": "stream",
     "text": [
      "eval_pred: 100%|███████████████████████████████| 15/15 [00:00<00:00, 442.61it/s]"
     ]
    },
    {
     "name": "stdout",
     "output_type": "stream",
     "text": [
      "\t eval rmse: 1.0637\n",
      "\t eval mae: 0.8363\n",
      "\t eval r2: -0.1582\n",
      "==============================\n"
     ]
    },
    {
     "name": "stderr",
     "output_type": "stream",
     "text": [
      "\n"
     ]
    },
    {
     "name": "stdout",
     "output_type": "stream",
     "text": [
      "Epoch 4 elapsed: 0.348s\n"
     ]
    },
    {
     "name": "stderr",
     "output_type": "stream",
     "text": [
      "eval_pred: 100%|███████████████████████████████| 15/15 [00:00<00:00, 325.60it/s]"
     ]
    },
    {
     "name": "stdout",
     "output_type": "stream",
     "text": [
      "\t eval rmse: 1.0643\n",
      "\t eval mae: 0.8347\n",
      "\t eval r2: -0.1594\n",
      "==============================\n"
     ]
    },
    {
     "name": "stderr",
     "output_type": "stream",
     "text": [
      "\n"
     ]
    },
    {
     "name": "stdout",
     "output_type": "stream",
     "text": [
      "Epoch 5 elapsed: 0.335s\n"
     ]
    },
    {
     "name": "stderr",
     "output_type": "stream",
     "text": [
      "eval_pred: 100%|███████████████████████████████| 15/15 [00:00<00:00, 472.32it/s]"
     ]
    },
    {
     "name": "stdout",
     "output_type": "stream",
     "text": [
      "\t eval rmse: 1.0649\n",
      "\t eval mae: 0.8340\n",
      "\t eval r2: -0.1608\n",
      "==============================\n"
     ]
    },
    {
     "name": "stderr",
     "output_type": "stream",
     "text": [
      "\n"
     ]
    },
    {
     "name": "stdout",
     "output_type": "stream",
     "text": [
      "Training start time: \u001b[35m2022-07-23 16:04:34\u001b[0m\n",
      "Epoch 1 elapsed: 0.302s\n"
     ]
    },
    {
     "name": "stderr",
     "output_type": "stream",
     "text": [
      "eval_pred: 100%|███████████████████████████████| 15/15 [00:00<00:00, 465.11it/s]"
     ]
    },
    {
     "name": "stdout",
     "output_type": "stream",
     "text": [
      "\t eval rmse: 0.9897\n",
      "\t eval mae: 0.7975\n",
      "\t eval r2: -0.0026\n",
      "==============================\n"
     ]
    },
    {
     "name": "stderr",
     "output_type": "stream",
     "text": [
      "\n"
     ]
    },
    {
     "name": "stdout",
     "output_type": "stream",
     "text": [
      "Epoch 2 elapsed: 0.326s\n"
     ]
    },
    {
     "name": "stderr",
     "output_type": "stream",
     "text": [
      "eval_pred: 100%|███████████████████████████████| 15/15 [00:00<00:00, 460.72it/s]"
     ]
    },
    {
     "name": "stdout",
     "output_type": "stream",
     "text": [
      "\t eval rmse: 1.0604\n",
      "\t eval mae: 0.8375\n",
      "\t eval r2: -0.1509\n",
      "==============================\n"
     ]
    },
    {
     "name": "stderr",
     "output_type": "stream",
     "text": [
      "\n"
     ]
    },
    {
     "name": "stdout",
     "output_type": "stream",
     "text": [
      "Epoch 3 elapsed: 0.337s\n"
     ]
    },
    {
     "name": "stderr",
     "output_type": "stream",
     "text": [
      "eval_pred: 100%|███████████████████████████████| 15/15 [00:00<00:00, 477.20it/s]"
     ]
    },
    {
     "name": "stdout",
     "output_type": "stream",
     "text": [
      "\t eval rmse: 1.0637\n",
      "\t eval mae: 0.8363\n",
      "\t eval r2: -0.1582\n",
      "==============================\n"
     ]
    },
    {
     "name": "stderr",
     "output_type": "stream",
     "text": [
      "\n"
     ]
    },
    {
     "name": "stdout",
     "output_type": "stream",
     "text": [
      "Epoch 4 elapsed: 0.333s\n"
     ]
    },
    {
     "name": "stderr",
     "output_type": "stream",
     "text": [
      "eval_pred: 100%|███████████████████████████████| 15/15 [00:00<00:00, 457.65it/s]"
     ]
    },
    {
     "name": "stdout",
     "output_type": "stream",
     "text": [
      "\t eval rmse: 1.0643\n",
      "\t eval mae: 0.8347\n",
      "\t eval r2: -0.1594\n",
      "==============================\n"
     ]
    },
    {
     "name": "stderr",
     "output_type": "stream",
     "text": [
      "\n"
     ]
    },
    {
     "name": "stdout",
     "output_type": "stream",
     "text": [
      "Epoch 5 elapsed: 0.324s\n"
     ]
    },
    {
     "name": "stderr",
     "output_type": "stream",
     "text": [
      "eval_pred: 100%|███████████████████████████████| 15/15 [00:00<00:00, 406.41it/s]"
     ]
    },
    {
     "name": "stdout",
     "output_type": "stream",
     "text": [
      "\t eval rmse: 1.0649\n",
      "\t eval mae: 0.8340\n",
      "\t eval r2: -0.1608\n",
      "==============================\n"
     ]
    },
    {
     "name": "stderr",
     "output_type": "stream",
     "text": [
      "\n"
     ]
    },
    {
     "name": "stdout",
     "output_type": "stream",
     "text": [
      "Training start time: \u001b[35m2022-07-23 16:04:37\u001b[0m\n",
      "Epoch 1 elapsed: 0.314s\n"
     ]
    },
    {
     "name": "stderr",
     "output_type": "stream",
     "text": [
      "eval_pred: 100%|███████████████████████████████| 15/15 [00:00<00:00, 370.57it/s]"
     ]
    },
    {
     "name": "stdout",
     "output_type": "stream",
     "text": [
      "\t eval rmse: 0.9897\n",
      "\t eval mae: 0.7975\n",
      "\t eval r2: -0.0026\n",
      "==============================\n"
     ]
    },
    {
     "name": "stderr",
     "output_type": "stream",
     "text": [
      "\n"
     ]
    },
    {
     "name": "stdout",
     "output_type": "stream",
     "text": [
      "Epoch 2 elapsed: 0.328s\n"
     ]
    },
    {
     "name": "stderr",
     "output_type": "stream",
     "text": [
      "eval_pred: 100%|███████████████████████████████| 15/15 [00:00<00:00, 407.86it/s]"
     ]
    },
    {
     "name": "stdout",
     "output_type": "stream",
     "text": [
      "\t eval rmse: 1.0604\n",
      "\t eval mae: 0.8375\n",
      "\t eval r2: -0.1509\n",
      "==============================\n"
     ]
    },
    {
     "name": "stderr",
     "output_type": "stream",
     "text": [
      "\n"
     ]
    },
    {
     "name": "stdout",
     "output_type": "stream",
     "text": [
      "Epoch 3 elapsed: 0.322s\n"
     ]
    },
    {
     "name": "stderr",
     "output_type": "stream",
     "text": [
      "eval_pred: 100%|███████████████████████████████| 15/15 [00:00<00:00, 526.45it/s]"
     ]
    },
    {
     "name": "stdout",
     "output_type": "stream",
     "text": [
      "\t eval rmse: 1.0637\n",
      "\t eval mae: 0.8363\n",
      "\t eval r2: -0.1582\n",
      "==============================\n"
     ]
    },
    {
     "name": "stderr",
     "output_type": "stream",
     "text": [
      "\n"
     ]
    },
    {
     "name": "stdout",
     "output_type": "stream",
     "text": [
      "Epoch 4 elapsed: 0.333s\n"
     ]
    },
    {
     "name": "stderr",
     "output_type": "stream",
     "text": [
      "eval_pred: 100%|███████████████████████████████| 15/15 [00:00<00:00, 401.28it/s]"
     ]
    },
    {
     "name": "stdout",
     "output_type": "stream",
     "text": [
      "\t eval rmse: 1.0643\n",
      "\t eval mae: 0.8347\n",
      "\t eval r2: -0.1594\n",
      "==============================\n"
     ]
    },
    {
     "name": "stderr",
     "output_type": "stream",
     "text": [
      "\n"
     ]
    },
    {
     "name": "stdout",
     "output_type": "stream",
     "text": [
      "Epoch 5 elapsed: 0.342s\n"
     ]
    },
    {
     "name": "stderr",
     "output_type": "stream",
     "text": [
      "eval_pred: 100%|███████████████████████████████| 15/15 [00:00<00:00, 483.36it/s]"
     ]
    },
    {
     "name": "stdout",
     "output_type": "stream",
     "text": [
      "\t eval rmse: 1.0649\n",
      "\t eval mae: 0.8340\n",
      "\t eval r2: -0.1608\n",
      "==============================\n"
     ]
    },
    {
     "name": "stderr",
     "output_type": "stream",
     "text": [
      "\n"
     ]
    },
    {
     "data": {
      "text/plain": [
       "0.9821442983857993"
      ]
     },
     "execution_count": 76,
     "metadata": {},
     "output_type": "execute_result"
    }
   ],
   "source": [
    "emb_sizes = [2,4,8,16,32]\n",
    "regs = [0.1, 0.5, 1, 5, 10]\n",
    "alphas = [0.01, 0.1, 1, 10, 100]\n",
    "david = np.zeros((125, len(users_val)))\n",
    "\n",
    "for i, emb_size in enumerate(emb_sizes):\n",
    "    for j, reg in enumerate(regs):\n",
    "        for k, alpha in enumerate(alphas):\n",
    "            giorgio = ALS(task=\"rating\", data_info=data_info, embed_size=emb_size, n_epochs=5,\n",
    "                        reg=reg, alpha=alpha, seed=42)\n",
    "            giorgio.fit(train_data, verbose=2, use_cg=False, n_threads=8,\n",
    "                    eval_data=eval_data, metrics=[\"rmse\", \"mae\", \"r2\"])\n",
    "            #david[len(regs)*len(alphas)*i+len(alphas)*j+k] = np.array(giorgio.predict(user=users_val, item=movies_val)) * get_std_offset(movies_val) + get_mean_offset(movies_val)\n",
    "            david[len(regs)*len(alphas)*i+len(alphas)*j+k] = transform_back(np.array(giorgio.predict(user=users_val, item=movies_val)), users_val, movies_val)\n",
    "\n",
    "            \n",
    "#mean_squared_error(david.mean(axis=0), ratings_val * get_std_offset(movies_val) + get_mean_offset(movies_val), squared=False)\n",
    "mean_squared_error(david.mean(axis=0), transform_back(ratings_val, users_val, movies_val)[0], squared=False)"
   ]
  },
  {
   "cell_type": "code",
   "execution_count": 66,
   "id": "bdde75c1",
   "metadata": {},
   "outputs": [
    {
     "data": {
      "text/plain": [
       "array([5.26500517, 5.47754103, 9.04810396, ..., 7.63300936, 8.15324429,\n",
       "       9.07768795])"
      ]
     },
     "execution_count": 66,
     "metadata": {},
     "output_type": "execute_result"
    }
   ],
   "source": [
    "transform_back(ratings_val, users_val, movies_val)[0]"
   ]
  },
  {
   "cell_type": "code",
   "execution_count": 53,
   "id": "59483f23",
   "metadata": {},
   "outputs": [
    {
     "data": {
      "text/plain": [
       "0.9886550705809852"
      ]
     },
     "execution_count": 53,
     "metadata": {},
     "output_type": "execute_result"
    }
   ],
   "source": [
    "mean_squared_error(david.mean(axis=0), transform_back(ratings_val, users_val, movies_val)[0], squared=False)"
   ]
  },
  {
   "cell_type": "code",
   "execution_count": 77,
   "id": "23fe2ab9",
   "metadata": {},
   "outputs": [
    {
     "name": "stdout",
     "output_type": "stream",
     "text": [
      "Training start time: \u001b[35m2022-07-23 16:05:27\u001b[0m\n",
      "Epoch 1 elapsed: 0.035s\n",
      "==============================\n",
      "Epoch 2 elapsed: 0.098s\n",
      "==============================\n",
      "Epoch 3 elapsed: 0.078s\n",
      "==============================\n",
      "Epoch 4 elapsed: 0.078s\n",
      "==============================\n",
      "Epoch 5 elapsed: 0.038s\n",
      "==============================\n",
      "Training start time: \u001b[35m2022-07-23 16:05:30\u001b[0m\n",
      "Epoch 1 elapsed: 0.051s\n",
      "==============================\n",
      "Epoch 2 elapsed: 0.054s\n",
      "==============================\n",
      "Epoch 3 elapsed: 0.059s\n",
      "==============================\n",
      "Epoch 4 elapsed: 0.059s\n",
      "==============================\n",
      "Epoch 5 elapsed: 0.045s\n",
      "==============================\n",
      "Training start time: \u001b[35m2022-07-23 16:05:34\u001b[0m\n",
      "Epoch 1 elapsed: 0.049s\n",
      "==============================\n",
      "Epoch 2 elapsed: 0.049s\n",
      "==============================\n",
      "Epoch 3 elapsed: 0.060s\n",
      "==============================\n",
      "Epoch 4 elapsed: 0.050s\n",
      "==============================\n",
      "Epoch 5 elapsed: 0.046s\n",
      "==============================\n",
      "Training start time: \u001b[35m2022-07-23 16:05:38\u001b[0m\n",
      "Epoch 1 elapsed: 0.046s\n",
      "==============================\n",
      "Epoch 2 elapsed: 0.074s\n",
      "==============================\n",
      "Epoch 3 elapsed: 0.087s\n",
      "==============================\n",
      "Epoch 4 elapsed: 0.042s\n",
      "==============================\n",
      "Epoch 5 elapsed: 0.057s\n",
      "==============================\n",
      "Training start time: \u001b[35m2022-07-23 16:05:42\u001b[0m\n",
      "Epoch 1 elapsed: 0.061s\n",
      "==============================\n",
      "Epoch 2 elapsed: 0.063s\n",
      "==============================\n",
      "Epoch 3 elapsed: 0.046s\n",
      "==============================\n",
      "Epoch 4 elapsed: 0.047s\n",
      "==============================\n",
      "Epoch 5 elapsed: 0.044s\n",
      "==============================\n",
      "Training start time: \u001b[35m2022-07-23 16:05:45\u001b[0m\n",
      "Epoch 1 elapsed: 0.051s\n",
      "==============================\n",
      "Epoch 2 elapsed: 0.079s\n",
      "==============================\n",
      "Epoch 3 elapsed: 0.048s\n",
      "==============================\n",
      "Epoch 4 elapsed: 0.066s\n",
      "==============================\n",
      "Epoch 5 elapsed: 0.080s\n",
      "==============================\n",
      "Training start time: \u001b[35m2022-07-23 16:05:49\u001b[0m\n",
      "Epoch 1 elapsed: 0.045s\n",
      "==============================\n",
      "Epoch 2 elapsed: 0.051s\n",
      "==============================\n",
      "Epoch 3 elapsed: 0.039s\n",
      "==============================\n",
      "Epoch 4 elapsed: 0.079s\n",
      "==============================\n",
      "Epoch 5 elapsed: 0.042s\n",
      "==============================\n",
      "Training start time: \u001b[35m2022-07-23 16:05:53\u001b[0m\n",
      "Epoch 1 elapsed: 0.101s\n",
      "==============================\n",
      "Epoch 2 elapsed: 0.044s\n",
      "==============================\n",
      "Epoch 3 elapsed: 0.063s\n",
      "==============================\n",
      "Epoch 4 elapsed: 0.083s\n",
      "==============================\n",
      "Epoch 5 elapsed: 0.069s\n",
      "==============================\n",
      "Training start time: \u001b[35m2022-07-23 16:05:57\u001b[0m\n",
      "Epoch 1 elapsed: 0.060s\n",
      "==============================\n",
      "Epoch 2 elapsed: 0.077s\n",
      "==============================\n",
      "Epoch 3 elapsed: 0.092s\n",
      "==============================\n",
      "Epoch 4 elapsed: 0.049s\n",
      "==============================\n",
      "Epoch 5 elapsed: 0.066s\n",
      "==============================\n",
      "Training start time: \u001b[35m2022-07-23 16:06:00\u001b[0m\n",
      "Epoch 1 elapsed: 0.057s\n",
      "==============================\n",
      "Epoch 2 elapsed: 0.045s\n",
      "==============================\n",
      "Epoch 3 elapsed: 0.043s\n",
      "==============================\n",
      "Epoch 4 elapsed: 0.043s\n",
      "==============================\n",
      "Epoch 5 elapsed: 0.055s\n",
      "==============================\n",
      "Training start time: \u001b[35m2022-07-23 16:06:04\u001b[0m\n",
      "Epoch 1 elapsed: 0.039s\n",
      "==============================\n",
      "Epoch 2 elapsed: 0.061s\n",
      "==============================\n",
      "Epoch 3 elapsed: 0.042s\n",
      "==============================\n",
      "Epoch 4 elapsed: 0.050s\n",
      "==============================\n",
      "Epoch 5 elapsed: 0.058s\n",
      "==============================\n",
      "Training start time: \u001b[35m2022-07-23 16:06:08\u001b[0m\n",
      "Epoch 1 elapsed: 0.051s\n",
      "==============================\n",
      "Epoch 2 elapsed: 0.037s\n",
      "==============================\n",
      "Epoch 3 elapsed: 0.056s\n",
      "==============================\n",
      "Epoch 4 elapsed: 0.064s\n",
      "==============================\n",
      "Epoch 5 elapsed: 0.081s\n",
      "==============================\n",
      "Training start time: \u001b[35m2022-07-23 16:06:11\u001b[0m\n",
      "Epoch 1 elapsed: 0.055s\n",
      "==============================\n",
      "Epoch 2 elapsed: 0.069s\n",
      "==============================\n",
      "Epoch 3 elapsed: 0.062s\n",
      "==============================\n",
      "Epoch 4 elapsed: 0.069s\n",
      "==============================\n",
      "Epoch 5 elapsed: 0.057s\n",
      "==============================\n",
      "Training start time: \u001b[35m2022-07-23 16:06:15\u001b[0m\n",
      "Epoch 1 elapsed: 0.049s\n",
      "==============================\n",
      "Epoch 2 elapsed: 0.043s\n",
      "==============================\n",
      "Epoch 3 elapsed: 0.054s\n",
      "==============================\n",
      "Epoch 4 elapsed: 0.042s\n",
      "==============================\n",
      "Epoch 5 elapsed: 0.066s\n",
      "==============================\n",
      "Training start time: \u001b[35m2022-07-23 16:06:19\u001b[0m\n",
      "Epoch 1 elapsed: 0.032s\n",
      "==============================\n",
      "Epoch 2 elapsed: 0.084s\n",
      "==============================\n",
      "Epoch 3 elapsed: 0.135s\n",
      "==============================\n",
      "Epoch 4 elapsed: 0.044s\n",
      "==============================\n",
      "Epoch 5 elapsed: 0.052s\n",
      "==============================\n",
      "Training start time: \u001b[35m2022-07-23 16:06:22\u001b[0m\n",
      "Epoch 1 elapsed: 0.058s\n",
      "==============================\n",
      "Epoch 2 elapsed: 0.063s\n",
      "==============================\n",
      "Epoch 3 elapsed: 0.073s\n",
      "==============================\n",
      "Epoch 4 elapsed: 0.064s\n",
      "==============================\n",
      "Epoch 5 elapsed: 0.058s\n",
      "==============================\n",
      "Training start time: \u001b[35m2022-07-23 16:06:26\u001b[0m\n",
      "Epoch 1 elapsed: 0.035s\n",
      "==============================\n",
      "Epoch 2 elapsed: 0.046s\n",
      "==============================\n",
      "Epoch 3 elapsed: 0.088s\n",
      "==============================\n",
      "Epoch 4 elapsed: 0.061s\n",
      "==============================\n",
      "Epoch 5 elapsed: 0.046s\n",
      "==============================\n",
      "Training start time: \u001b[35m2022-07-23 16:06:30\u001b[0m\n",
      "Epoch 1 elapsed: 0.061s\n",
      "==============================\n",
      "Epoch 2 elapsed: 0.075s\n",
      "==============================\n",
      "Epoch 3 elapsed: 0.071s\n",
      "==============================\n",
      "Epoch 4 elapsed: 0.083s\n",
      "==============================\n",
      "Epoch 5 elapsed: 0.061s\n",
      "==============================\n",
      "Training start time: \u001b[35m2022-07-23 16:06:34\u001b[0m\n",
      "Epoch 1 elapsed: 0.050s\n",
      "==============================\n",
      "Epoch 2 elapsed: 0.060s\n",
      "==============================\n",
      "Epoch 3 elapsed: 0.040s\n",
      "==============================\n",
      "Epoch 4 elapsed: 0.079s\n",
      "==============================\n",
      "Epoch 5 elapsed: 0.091s\n",
      "==============================\n",
      "Training start time: \u001b[35m2022-07-23 16:06:38\u001b[0m\n",
      "Epoch 1 elapsed: 0.041s\n",
      "==============================\n",
      "Epoch 2 elapsed: 0.075s\n",
      "==============================\n",
      "Epoch 3 elapsed: 0.051s\n",
      "==============================\n",
      "Epoch 4 elapsed: 0.059s\n",
      "==============================\n",
      "Epoch 5 elapsed: 0.050s\n",
      "==============================\n",
      "Training start time: \u001b[35m2022-07-23 16:06:41\u001b[0m\n",
      "Epoch 1 elapsed: 0.047s\n",
      "==============================\n",
      "Epoch 2 elapsed: 0.058s\n",
      "==============================\n",
      "Epoch 3 elapsed: 0.083s\n",
      "==============================\n",
      "Epoch 4 elapsed: 0.059s\n",
      "==============================\n",
      "Epoch 5 elapsed: 0.066s\n",
      "==============================\n",
      "Training start time: \u001b[35m2022-07-23 16:06:45\u001b[0m\n",
      "Epoch 1 elapsed: 0.056s\n",
      "==============================\n",
      "Epoch 2 elapsed: 0.060s\n",
      "==============================\n",
      "Epoch 3 elapsed: 0.060s\n",
      "==============================\n",
      "Epoch 4 elapsed: 0.064s\n",
      "==============================\n",
      "Epoch 5 elapsed: 0.057s\n",
      "==============================\n",
      "Training start time: \u001b[35m2022-07-23 16:06:49\u001b[0m\n",
      "Epoch 1 elapsed: 0.081s\n",
      "==============================\n",
      "Epoch 2 elapsed: 0.036s\n",
      "==============================\n",
      "Epoch 3 elapsed: 0.046s\n",
      "==============================\n",
      "Epoch 4 elapsed: 0.065s\n",
      "==============================\n",
      "Epoch 5 elapsed: 0.095s\n",
      "==============================\n",
      "Training start time: \u001b[35m2022-07-23 16:06:53\u001b[0m\n",
      "Epoch 1 elapsed: 0.080s\n",
      "==============================\n",
      "Epoch 2 elapsed: 0.084s\n",
      "==============================\n",
      "Epoch 3 elapsed: 0.095s\n",
      "==============================\n",
      "Epoch 4 elapsed: 0.074s\n",
      "==============================\n",
      "Epoch 5 elapsed: 0.040s\n",
      "==============================\n",
      "Training start time: \u001b[35m2022-07-23 16:06:57\u001b[0m\n",
      "Epoch 1 elapsed: 0.073s\n",
      "==============================\n",
      "Epoch 2 elapsed: 0.049s\n",
      "==============================\n",
      "Epoch 3 elapsed: 0.040s\n",
      "==============================\n",
      "Epoch 4 elapsed: 0.052s\n",
      "==============================\n",
      "Epoch 5 elapsed: 0.068s\n",
      "==============================\n",
      "Training start time: \u001b[35m2022-07-23 16:07:00\u001b[0m\n",
      "Epoch 1 elapsed: 0.089s\n",
      "==============================\n",
      "Epoch 2 elapsed: 0.091s\n",
      "==============================\n"
     ]
    },
    {
     "name": "stdout",
     "output_type": "stream",
     "text": [
      "Epoch 3 elapsed: 0.084s\n",
      "==============================\n",
      "Epoch 4 elapsed: 0.065s\n",
      "==============================\n",
      "Epoch 5 elapsed: 0.087s\n",
      "==============================\n",
      "Training start time: \u001b[35m2022-07-23 16:07:05\u001b[0m\n",
      "Epoch 1 elapsed: 0.074s\n",
      "==============================\n",
      "Epoch 2 elapsed: 0.063s\n",
      "==============================\n",
      "Epoch 3 elapsed: 0.082s\n",
      "==============================\n",
      "Epoch 4 elapsed: 0.082s\n",
      "==============================\n",
      "Epoch 5 elapsed: 0.066s\n",
      "==============================\n",
      "Training start time: \u001b[35m2022-07-23 16:07:08\u001b[0m\n",
      "Epoch 1 elapsed: 0.074s\n",
      "==============================\n",
      "Epoch 2 elapsed: 0.059s\n",
      "==============================\n",
      "Epoch 3 elapsed: 0.106s\n",
      "==============================\n",
      "Epoch 4 elapsed: 0.080s\n",
      "==============================\n",
      "Epoch 5 elapsed: 0.091s\n",
      "==============================\n",
      "Training start time: \u001b[35m2022-07-23 16:07:12\u001b[0m\n",
      "Epoch 1 elapsed: 0.081s\n",
      "==============================\n",
      "Epoch 2 elapsed: 0.078s\n",
      "==============================\n",
      "Epoch 3 elapsed: 0.084s\n",
      "==============================\n",
      "Epoch 4 elapsed: 0.065s\n",
      "==============================\n",
      "Epoch 5 elapsed: 0.073s\n",
      "==============================\n",
      "Training start time: \u001b[35m2022-07-23 16:07:16\u001b[0m\n",
      "Epoch 1 elapsed: 0.072s\n",
      "==============================\n",
      "Epoch 2 elapsed: 0.072s\n",
      "==============================\n",
      "Epoch 3 elapsed: 0.104s\n",
      "==============================\n",
      "Epoch 4 elapsed: 0.072s\n",
      "==============================\n",
      "Epoch 5 elapsed: 0.080s\n",
      "==============================\n",
      "Training start time: \u001b[35m2022-07-23 16:07:20\u001b[0m\n",
      "Epoch 1 elapsed: 0.088s\n",
      "==============================\n",
      "Epoch 2 elapsed: 0.067s\n",
      "==============================\n",
      "Epoch 3 elapsed: 0.079s\n",
      "==============================\n",
      "Epoch 4 elapsed: 0.072s\n",
      "==============================\n",
      "Epoch 5 elapsed: 0.082s\n",
      "==============================\n",
      "Training start time: \u001b[35m2022-07-23 16:07:24\u001b[0m\n",
      "Epoch 1 elapsed: 0.063s\n",
      "==============================\n",
      "Epoch 2 elapsed: 0.089s\n",
      "==============================\n",
      "Epoch 3 elapsed: 0.072s\n",
      "==============================\n",
      "Epoch 4 elapsed: 0.065s\n",
      "==============================\n",
      "Epoch 5 elapsed: 0.114s\n",
      "==============================\n",
      "Training start time: \u001b[35m2022-07-23 16:07:28\u001b[0m\n",
      "Epoch 1 elapsed: 0.077s\n",
      "==============================\n",
      "Epoch 2 elapsed: 0.093s\n",
      "==============================\n",
      "Epoch 3 elapsed: 0.104s\n",
      "==============================\n",
      "Epoch 4 elapsed: 0.083s\n",
      "==============================\n",
      "Epoch 5 elapsed: 0.065s\n",
      "==============================\n",
      "Training start time: \u001b[35m2022-07-23 16:07:32\u001b[0m\n",
      "Epoch 1 elapsed: 0.055s\n",
      "==============================\n",
      "Epoch 2 elapsed: 0.065s\n",
      "==============================\n",
      "Epoch 3 elapsed: 0.103s\n",
      "==============================\n",
      "Epoch 4 elapsed: 0.081s\n",
      "==============================\n",
      "Epoch 5 elapsed: 0.106s\n",
      "==============================\n",
      "Training start time: \u001b[35m2022-07-23 16:07:36\u001b[0m\n",
      "Epoch 1 elapsed: 0.075s\n",
      "==============================\n",
      "Epoch 2 elapsed: 0.130s\n",
      "==============================\n",
      "Epoch 3 elapsed: 0.089s\n",
      "==============================\n",
      "Epoch 4 elapsed: 0.063s\n",
      "==============================\n",
      "Epoch 5 elapsed: 0.083s\n",
      "==============================\n",
      "Training start time: \u001b[35m2022-07-23 16:07:40\u001b[0m\n",
      "Epoch 1 elapsed: 0.080s\n",
      "==============================\n",
      "Epoch 2 elapsed: 0.082s\n",
      "==============================\n",
      "Epoch 3 elapsed: 0.087s\n",
      "==============================\n",
      "Epoch 4 elapsed: 0.102s\n",
      "==============================\n",
      "Epoch 5 elapsed: 0.071s\n",
      "==============================\n",
      "Training start time: \u001b[35m2022-07-23 16:07:44\u001b[0m\n",
      "Epoch 1 elapsed: 0.086s\n",
      "==============================\n",
      "Epoch 2 elapsed: 0.062s\n",
      "==============================\n",
      "Epoch 3 elapsed: 0.088s\n",
      "==============================\n",
      "Epoch 4 elapsed: 0.070s\n",
      "==============================\n",
      "Epoch 5 elapsed: 0.072s\n",
      "==============================\n",
      "Training start time: \u001b[35m2022-07-23 16:07:47\u001b[0m\n",
      "Epoch 1 elapsed: 0.093s\n",
      "==============================\n",
      "Epoch 2 elapsed: 0.075s\n",
      "==============================\n",
      "Epoch 3 elapsed: 0.106s\n",
      "==============================\n",
      "Epoch 4 elapsed: 0.117s\n",
      "==============================\n",
      "Epoch 5 elapsed: 0.112s\n",
      "==============================\n",
      "Training start time: \u001b[35m2022-07-23 16:07:51\u001b[0m\n",
      "Epoch 1 elapsed: 0.083s\n",
      "==============================\n",
      "Epoch 2 elapsed: 0.092s\n",
      "==============================\n",
      "Epoch 3 elapsed: 0.090s\n",
      "==============================\n",
      "Epoch 4 elapsed: 0.075s\n",
      "==============================\n",
      "Epoch 5 elapsed: 0.074s\n",
      "==============================\n",
      "Training start time: \u001b[35m2022-07-23 16:07:55\u001b[0m\n",
      "Epoch 1 elapsed: 0.078s\n",
      "==============================\n",
      "Epoch 2 elapsed: 0.080s\n",
      "==============================\n",
      "Epoch 3 elapsed: 0.098s\n",
      "==============================\n",
      "Epoch 4 elapsed: 0.086s\n",
      "==============================\n",
      "Epoch 5 elapsed: 0.058s\n",
      "==============================\n",
      "Training start time: \u001b[35m2022-07-23 16:07:59\u001b[0m\n",
      "Epoch 1 elapsed: 0.094s\n",
      "==============================\n",
      "Epoch 2 elapsed: 0.098s\n",
      "==============================\n",
      "Epoch 3 elapsed: 0.103s\n",
      "==============================\n",
      "Epoch 4 elapsed: 0.060s\n",
      "==============================\n",
      "Epoch 5 elapsed: 0.064s\n",
      "==============================\n",
      "Training start time: \u001b[35m2022-07-23 16:08:03\u001b[0m\n",
      "Epoch 1 elapsed: 0.070s\n",
      "==============================\n",
      "Epoch 2 elapsed: 0.063s\n",
      "==============================\n",
      "Epoch 3 elapsed: 0.079s\n",
      "==============================\n",
      "Epoch 4 elapsed: 0.080s\n",
      "==============================\n",
      "Epoch 5 elapsed: 0.058s\n",
      "==============================\n",
      "Training start time: \u001b[35m2022-07-23 16:08:07\u001b[0m\n",
      "Epoch 1 elapsed: 0.094s\n",
      "==============================\n",
      "Epoch 2 elapsed: 0.063s\n",
      "==============================\n",
      "Epoch 3 elapsed: 0.078s\n",
      "==============================\n",
      "Epoch 4 elapsed: 0.080s\n",
      "==============================\n",
      "Epoch 5 elapsed: 0.062s\n",
      "==============================\n",
      "Training start time: \u001b[35m2022-07-23 16:08:11\u001b[0m\n",
      "Epoch 1 elapsed: 0.070s\n",
      "==============================\n",
      "Epoch 2 elapsed: 0.085s\n",
      "==============================\n",
      "Epoch 3 elapsed: 0.064s\n",
      "==============================\n",
      "Epoch 4 elapsed: 0.081s\n",
      "==============================\n",
      "Epoch 5 elapsed: 0.080s\n",
      "==============================\n",
      "Training start time: \u001b[35m2022-07-23 16:08:15\u001b[0m\n",
      "Epoch 1 elapsed: 0.069s\n",
      "==============================\n",
      "Epoch 2 elapsed: 0.085s\n",
      "==============================\n",
      "Epoch 3 elapsed: 0.078s\n",
      "==============================\n",
      "Epoch 4 elapsed: 0.074s\n",
      "==============================\n",
      "Epoch 5 elapsed: 0.104s\n",
      "==============================\n",
      "Training start time: \u001b[35m2022-07-23 16:08:19\u001b[0m\n",
      "Epoch 1 elapsed: 0.052s\n",
      "==============================\n",
      "Epoch 2 elapsed: 0.092s\n",
      "==============================\n",
      "Epoch 3 elapsed: 0.075s\n",
      "==============================\n",
      "Epoch 4 elapsed: 0.083s\n",
      "==============================\n",
      "Epoch 5 elapsed: 0.103s\n",
      "==============================\n",
      "Training start time: \u001b[35m2022-07-23 16:08:23\u001b[0m\n",
      "Epoch 1 elapsed: 0.070s\n",
      "==============================\n",
      "Epoch 2 elapsed: 0.056s\n",
      "==============================\n",
      "Epoch 3 elapsed: 0.072s\n",
      "==============================\n",
      "Epoch 4 elapsed: 0.091s\n",
      "==============================\n",
      "Epoch 5 elapsed: 0.077s\n",
      "==============================\n",
      "Training start time: \u001b[35m2022-07-23 16:08:26\u001b[0m\n",
      "Epoch 1 elapsed: 0.070s\n",
      "==============================\n",
      "Epoch 2 elapsed: 0.079s\n",
      "==============================\n",
      "Epoch 3 elapsed: 0.110s\n",
      "==============================\n",
      "Epoch 4 elapsed: 0.087s\n",
      "==============================\n",
      "Epoch 5 elapsed: 0.078s\n",
      "==============================\n",
      "Training start time: \u001b[35m2022-07-23 16:08:30\u001b[0m\n",
      "Epoch 1 elapsed: 0.072s\n",
      "==============================\n",
      "Epoch 2 elapsed: 0.071s\n",
      "==============================\n",
      "Epoch 3 elapsed: 0.078s\n",
      "==============================\n",
      "Epoch 4 elapsed: 0.088s\n",
      "==============================\n",
      "Epoch 5 elapsed: 0.071s\n",
      "==============================\n",
      "Training start time: \u001b[35m2022-07-23 16:08:34\u001b[0m\n",
      "Epoch 1 elapsed: 0.072s\n",
      "==============================\n",
      "Epoch 2 elapsed: 0.054s\n",
      "==============================\n",
      "Epoch 3 elapsed: 0.079s\n",
      "==============================\n",
      "Epoch 4 elapsed: 0.090s\n",
      "==============================\n",
      "Epoch 5 elapsed: 0.101s\n",
      "==============================\n",
      "Training start time: \u001b[35m2022-07-23 16:08:38\u001b[0m\n",
      "Epoch 1 elapsed: 0.121s\n",
      "==============================\n",
      "Epoch 2 elapsed: 0.155s\n",
      "==============================\n",
      "Epoch 3 elapsed: 0.163s\n",
      "==============================\n",
      "Epoch 4 elapsed: 0.125s\n",
      "==============================\n",
      "Epoch 5 elapsed: 0.118s\n",
      "==============================\n"
     ]
    },
    {
     "name": "stdout",
     "output_type": "stream",
     "text": [
      "Training start time: \u001b[35m2022-07-23 16:08:42\u001b[0m\n",
      "Epoch 1 elapsed: 0.126s\n",
      "==============================\n",
      "Epoch 2 elapsed: 0.144s\n",
      "==============================\n",
      "Epoch 3 elapsed: 0.145s\n",
      "==============================\n",
      "Epoch 4 elapsed: 0.144s\n",
      "==============================\n",
      "Epoch 5 elapsed: 0.150s\n",
      "==============================\n",
      "Training start time: \u001b[35m2022-07-23 16:08:47\u001b[0m\n",
      "Epoch 1 elapsed: 0.122s\n",
      "==============================\n",
      "Epoch 2 elapsed: 0.129s\n",
      "==============================\n",
      "Epoch 3 elapsed: 0.145s\n",
      "==============================\n",
      "Epoch 4 elapsed: 0.130s\n",
      "==============================\n",
      "Epoch 5 elapsed: 0.128s\n",
      "==============================\n",
      "Training start time: \u001b[35m2022-07-23 16:08:51\u001b[0m\n",
      "Epoch 1 elapsed: 0.158s\n",
      "==============================\n",
      "Epoch 2 elapsed: 0.139s\n",
      "==============================\n",
      "Epoch 3 elapsed: 0.148s\n",
      "==============================\n",
      "Epoch 4 elapsed: 0.159s\n",
      "==============================\n",
      "Epoch 5 elapsed: 0.118s\n",
      "==============================\n",
      "Training start time: \u001b[35m2022-07-23 16:08:55\u001b[0m\n",
      "Epoch 1 elapsed: 0.129s\n",
      "==============================\n",
      "Epoch 2 elapsed: 0.147s\n",
      "==============================\n",
      "Epoch 3 elapsed: 0.138s\n",
      "==============================\n",
      "Epoch 4 elapsed: 0.121s\n",
      "==============================\n",
      "Epoch 5 elapsed: 0.167s\n",
      "==============================\n",
      "Training start time: \u001b[35m2022-07-23 16:08:59\u001b[0m\n",
      "Epoch 1 elapsed: 0.171s\n",
      "==============================\n",
      "Epoch 2 elapsed: 0.181s\n",
      "==============================\n",
      "Epoch 3 elapsed: 0.173s\n",
      "==============================\n",
      "Epoch 4 elapsed: 0.185s\n",
      "==============================\n",
      "Epoch 5 elapsed: 0.168s\n",
      "==============================\n",
      "Training start time: \u001b[35m2022-07-23 16:09:04\u001b[0m\n",
      "Epoch 1 elapsed: 0.162s\n",
      "==============================\n",
      "Epoch 2 elapsed: 0.124s\n",
      "==============================\n",
      "Epoch 3 elapsed: 0.133s\n",
      "==============================\n",
      "Epoch 4 elapsed: 0.121s\n",
      "==============================\n",
      "Epoch 5 elapsed: 0.157s\n",
      "==============================\n",
      "Training start time: \u001b[35m2022-07-23 16:09:08\u001b[0m\n",
      "Epoch 1 elapsed: 0.124s\n",
      "==============================\n",
      "Epoch 2 elapsed: 0.137s\n",
      "==============================\n",
      "Epoch 3 elapsed: 0.136s\n",
      "==============================\n",
      "Epoch 4 elapsed: 0.176s\n",
      "==============================\n",
      "Epoch 5 elapsed: 0.146s\n",
      "==============================\n",
      "Training start time: \u001b[35m2022-07-23 16:09:12\u001b[0m\n",
      "Epoch 1 elapsed: 0.132s\n",
      "==============================\n",
      "Epoch 2 elapsed: 0.131s\n",
      "==============================\n",
      "Epoch 3 elapsed: 0.138s\n",
      "==============================\n",
      "Epoch 4 elapsed: 0.135s\n",
      "==============================\n",
      "Epoch 5 elapsed: 0.128s\n",
      "==============================\n",
      "Training start time: \u001b[35m2022-07-23 16:09:16\u001b[0m\n",
      "Epoch 1 elapsed: 0.117s\n",
      "==============================\n",
      "Epoch 2 elapsed: 0.153s\n",
      "==============================\n",
      "Epoch 3 elapsed: 0.130s\n",
      "==============================\n",
      "Epoch 4 elapsed: 0.149s\n",
      "==============================\n",
      "Epoch 5 elapsed: 0.137s\n",
      "==============================\n",
      "Training start time: \u001b[35m2022-07-23 16:09:21\u001b[0m\n",
      "Epoch 1 elapsed: 0.159s\n",
      "==============================\n",
      "Epoch 2 elapsed: 0.132s\n",
      "==============================\n",
      "Epoch 3 elapsed: 0.128s\n",
      "==============================\n",
      "Epoch 4 elapsed: 0.132s\n",
      "==============================\n",
      "Epoch 5 elapsed: 0.130s\n",
      "==============================\n",
      "Training start time: \u001b[35m2022-07-23 16:09:25\u001b[0m\n",
      "Epoch 1 elapsed: 0.128s\n",
      "==============================\n",
      "Epoch 2 elapsed: 0.163s\n",
      "==============================\n",
      "Epoch 3 elapsed: 0.157s\n",
      "==============================\n",
      "Epoch 4 elapsed: 0.159s\n",
      "==============================\n",
      "Epoch 5 elapsed: 0.127s\n",
      "==============================\n",
      "Training start time: \u001b[35m2022-07-23 16:09:29\u001b[0m\n",
      "Epoch 1 elapsed: 0.140s\n",
      "==============================\n",
      "Epoch 2 elapsed: 0.122s\n",
      "==============================\n",
      "Epoch 3 elapsed: 0.120s\n",
      "==============================\n",
      "Epoch 4 elapsed: 0.135s\n",
      "==============================\n",
      "Epoch 5 elapsed: 0.154s\n",
      "==============================\n",
      "Training start time: \u001b[35m2022-07-23 16:09:33\u001b[0m\n",
      "Epoch 1 elapsed: 0.123s\n",
      "==============================\n",
      "Epoch 2 elapsed: 0.111s\n",
      "==============================\n",
      "Epoch 3 elapsed: 0.141s\n",
      "==============================\n",
      "Epoch 4 elapsed: 0.154s\n",
      "==============================\n",
      "Epoch 5 elapsed: 0.124s\n",
      "==============================\n",
      "Training start time: \u001b[35m2022-07-23 16:09:37\u001b[0m\n",
      "Epoch 1 elapsed: 0.130s\n",
      "==============================\n",
      "Epoch 2 elapsed: 0.119s\n",
      "==============================\n",
      "Epoch 3 elapsed: 0.127s\n",
      "==============================\n",
      "Epoch 4 elapsed: 0.148s\n",
      "==============================\n",
      "Epoch 5 elapsed: 0.145s\n",
      "==============================\n",
      "Training start time: \u001b[35m2022-07-23 16:09:42\u001b[0m\n",
      "Epoch 1 elapsed: 0.114s\n",
      "==============================\n",
      "Epoch 2 elapsed: 0.142s\n",
      "==============================\n",
      "Epoch 3 elapsed: 0.148s\n",
      "==============================\n",
      "Epoch 4 elapsed: 0.136s\n",
      "==============================\n",
      "Epoch 5 elapsed: 0.110s\n",
      "==============================\n",
      "Training start time: \u001b[35m2022-07-23 16:09:46\u001b[0m\n",
      "Epoch 1 elapsed: 0.134s\n",
      "==============================\n",
      "Epoch 2 elapsed: 0.138s\n",
      "==============================\n",
      "Epoch 3 elapsed: 0.116s\n",
      "==============================\n",
      "Epoch 4 elapsed: 0.135s\n",
      "==============================\n",
      "Epoch 5 elapsed: 0.128s\n",
      "==============================\n",
      "Training start time: \u001b[35m2022-07-23 16:09:50\u001b[0m\n",
      "Epoch 1 elapsed: 0.127s\n",
      "==============================\n",
      "Epoch 2 elapsed: 0.151s\n",
      "==============================\n",
      "Epoch 3 elapsed: 0.118s\n",
      "==============================\n",
      "Epoch 4 elapsed: 0.143s\n",
      "==============================\n",
      "Epoch 5 elapsed: 0.146s\n",
      "==============================\n",
      "Training start time: \u001b[35m2022-07-23 16:09:54\u001b[0m\n",
      "Epoch 1 elapsed: 0.137s\n",
      "==============================\n",
      "Epoch 2 elapsed: 0.148s\n",
      "==============================\n",
      "Epoch 3 elapsed: 0.135s\n",
      "==============================\n",
      "Epoch 4 elapsed: 0.149s\n",
      "==============================\n",
      "Epoch 5 elapsed: 0.126s\n",
      "==============================\n",
      "Training start time: \u001b[35m2022-07-23 16:09:58\u001b[0m\n",
      "Epoch 1 elapsed: 0.129s\n",
      "==============================\n",
      "Epoch 2 elapsed: 0.148s\n",
      "==============================\n",
      "Epoch 3 elapsed: 0.128s\n",
      "==============================\n",
      "Epoch 4 elapsed: 0.141s\n",
      "==============================\n",
      "Epoch 5 elapsed: 0.145s\n",
      "==============================\n",
      "Training start time: \u001b[35m2022-07-23 16:10:03\u001b[0m\n",
      "Epoch 1 elapsed: 0.115s\n",
      "==============================\n",
      "Epoch 2 elapsed: 0.134s\n",
      "==============================\n",
      "Epoch 3 elapsed: 0.148s\n",
      "==============================\n",
      "Epoch 4 elapsed: 0.130s\n",
      "==============================\n",
      "Epoch 5 elapsed: 0.119s\n",
      "==============================\n",
      "Training start time: \u001b[35m2022-07-23 16:10:07\u001b[0m\n",
      "Epoch 1 elapsed: 0.137s\n",
      "==============================\n",
      "Epoch 2 elapsed: 0.149s\n",
      "==============================\n",
      "Epoch 3 elapsed: 0.169s\n",
      "==============================\n",
      "Epoch 4 elapsed: 0.150s\n",
      "==============================\n",
      "Epoch 5 elapsed: 0.149s\n",
      "==============================\n",
      "Training start time: \u001b[35m2022-07-23 16:10:12\u001b[0m\n",
      "Epoch 1 elapsed: 0.134s\n",
      "==============================\n",
      "Epoch 2 elapsed: 0.137s\n",
      "==============================\n",
      "Epoch 3 elapsed: 0.137s\n",
      "==============================\n",
      "Epoch 4 elapsed: 0.134s\n",
      "==============================\n",
      "Epoch 5 elapsed: 0.124s\n",
      "==============================\n",
      "Training start time: \u001b[35m2022-07-23 16:10:16\u001b[0m\n",
      "Epoch 1 elapsed: 0.116s\n",
      "==============================\n",
      "Epoch 2 elapsed: 0.188s\n",
      "==============================\n",
      "Epoch 3 elapsed: 0.122s\n",
      "==============================\n",
      "Epoch 4 elapsed: 0.115s\n",
      "==============================\n",
      "Epoch 5 elapsed: 0.120s\n",
      "==============================\n",
      "Training start time: \u001b[35m2022-07-23 16:10:20\u001b[0m\n",
      "Epoch 1 elapsed: 0.126s\n",
      "==============================\n",
      "Epoch 2 elapsed: 0.161s\n",
      "==============================\n",
      "Epoch 3 elapsed: 0.124s\n",
      "==============================\n",
      "Epoch 4 elapsed: 0.146s\n",
      "==============================\n",
      "Epoch 5 elapsed: 0.150s\n",
      "==============================\n",
      "Training start time: \u001b[35m2022-07-23 16:10:24\u001b[0m\n",
      "Epoch 1 elapsed: 0.360s\n",
      "==============================\n",
      "Epoch 2 elapsed: 0.302s\n",
      "==============================\n",
      "Epoch 3 elapsed: 0.306s\n",
      "==============================\n",
      "Epoch 4 elapsed: 0.332s\n",
      "==============================\n",
      "Epoch 5 elapsed: 0.310s\n",
      "==============================\n",
      "Training start time: \u001b[35m2022-07-23 16:10:30\u001b[0m\n",
      "Epoch 1 elapsed: 0.275s\n",
      "==============================\n"
     ]
    },
    {
     "name": "stdout",
     "output_type": "stream",
     "text": [
      "Epoch 2 elapsed: 0.291s\n",
      "==============================\n",
      "Epoch 3 elapsed: 0.332s\n",
      "==============================\n",
      "Epoch 4 elapsed: 0.300s\n",
      "==============================\n",
      "Epoch 5 elapsed: 0.323s\n",
      "==============================\n",
      "Training start time: \u001b[35m2022-07-23 16:10:35\u001b[0m\n",
      "Epoch 1 elapsed: 0.267s\n",
      "==============================\n",
      "Epoch 2 elapsed: 0.291s\n",
      "==============================\n",
      "Epoch 3 elapsed: 0.289s\n",
      "==============================\n",
      "Epoch 4 elapsed: 0.290s\n",
      "==============================\n",
      "Epoch 5 elapsed: 0.272s\n",
      "==============================\n",
      "Training start time: \u001b[35m2022-07-23 16:10:40\u001b[0m\n",
      "Epoch 1 elapsed: 0.308s\n",
      "==============================\n",
      "Epoch 2 elapsed: 0.288s\n",
      "==============================\n",
      "Epoch 3 elapsed: 0.300s\n",
      "==============================\n",
      "Epoch 4 elapsed: 0.343s\n",
      "==============================\n",
      "Epoch 5 elapsed: 0.322s\n",
      "==============================\n",
      "Training start time: \u001b[35m2022-07-23 16:10:45\u001b[0m\n",
      "Epoch 1 elapsed: 0.343s\n",
      "==============================\n",
      "Epoch 2 elapsed: 0.292s\n",
      "==============================\n",
      "Epoch 3 elapsed: 0.318s\n",
      "==============================\n",
      "Epoch 4 elapsed: 0.346s\n",
      "==============================\n",
      "Epoch 5 elapsed: 0.293s\n",
      "==============================\n",
      "Training start time: \u001b[35m2022-07-23 16:10:50\u001b[0m\n",
      "Epoch 1 elapsed: 0.317s\n",
      "==============================\n",
      "Epoch 2 elapsed: 0.327s\n",
      "==============================\n",
      "Epoch 3 elapsed: 0.377s\n",
      "==============================\n",
      "Epoch 4 elapsed: 0.330s\n",
      "==============================\n",
      "Epoch 5 elapsed: 0.350s\n",
      "==============================\n",
      "Training start time: \u001b[35m2022-07-23 16:10:55\u001b[0m\n",
      "Epoch 1 elapsed: 0.292s\n",
      "==============================\n",
      "Epoch 2 elapsed: 0.325s\n",
      "==============================\n",
      "Epoch 3 elapsed: 0.303s\n",
      "==============================\n",
      "Epoch 4 elapsed: 0.298s\n",
      "==============================\n",
      "Epoch 5 elapsed: 0.302s\n",
      "==============================\n",
      "Training start time: \u001b[35m2022-07-23 16:11:00\u001b[0m\n",
      "Epoch 1 elapsed: 0.349s\n",
      "==============================\n",
      "Epoch 2 elapsed: 0.360s\n",
      "==============================\n",
      "Epoch 3 elapsed: 0.340s\n",
      "==============================\n",
      "Epoch 4 elapsed: 0.373s\n",
      "==============================\n",
      "Epoch 5 elapsed: 0.403s\n",
      "==============================\n",
      "Training start time: \u001b[35m2022-07-23 16:11:06\u001b[0m\n",
      "Epoch 1 elapsed: 0.285s\n",
      "==============================\n",
      "Epoch 2 elapsed: 0.291s\n",
      "==============================\n",
      "Epoch 3 elapsed: 0.332s\n",
      "==============================\n",
      "Epoch 4 elapsed: 0.354s\n",
      "==============================\n",
      "Epoch 5 elapsed: 0.323s\n",
      "==============================\n",
      "Training start time: \u001b[35m2022-07-23 16:11:11\u001b[0m\n",
      "Epoch 1 elapsed: 0.313s\n",
      "==============================\n",
      "Epoch 2 elapsed: 0.309s\n",
      "==============================\n",
      "Epoch 3 elapsed: 0.301s\n",
      "==============================\n",
      "Epoch 4 elapsed: 0.305s\n",
      "==============================\n",
      "Epoch 5 elapsed: 0.318s\n",
      "==============================\n",
      "Training start time: \u001b[35m2022-07-23 16:11:16\u001b[0m\n",
      "Epoch 1 elapsed: 0.305s\n",
      "==============================\n",
      "Epoch 2 elapsed: 0.330s\n",
      "==============================\n",
      "Epoch 3 elapsed: 0.298s\n",
      "==============================\n",
      "Epoch 4 elapsed: 0.309s\n",
      "==============================\n",
      "Epoch 5 elapsed: 0.284s\n",
      "==============================\n",
      "Training start time: \u001b[35m2022-07-23 16:11:21\u001b[0m\n",
      "Epoch 1 elapsed: 0.282s\n",
      "==============================\n",
      "Epoch 2 elapsed: 0.317s\n",
      "==============================\n",
      "Epoch 3 elapsed: 0.309s\n",
      "==============================\n",
      "Epoch 4 elapsed: 0.304s\n",
      "==============================\n",
      "Epoch 5 elapsed: 0.369s\n",
      "==============================\n",
      "Training start time: \u001b[35m2022-07-23 16:11:26\u001b[0m\n",
      "Epoch 1 elapsed: 0.280s\n",
      "==============================\n",
      "Epoch 2 elapsed: 0.320s\n",
      "==============================\n",
      "Epoch 3 elapsed: 0.289s\n",
      "==============================\n",
      "Epoch 4 elapsed: 0.301s\n",
      "==============================\n",
      "Epoch 5 elapsed: 0.318s\n",
      "==============================\n",
      "Training start time: \u001b[35m2022-07-23 16:11:31\u001b[0m\n",
      "Epoch 1 elapsed: 0.301s\n",
      "==============================\n",
      "Epoch 2 elapsed: 0.284s\n",
      "==============================\n",
      "Epoch 3 elapsed: 0.328s\n",
      "==============================\n",
      "Epoch 4 elapsed: 0.298s\n",
      "==============================\n",
      "Epoch 5 elapsed: 0.320s\n",
      "==============================\n",
      "Training start time: \u001b[35m2022-07-23 16:11:36\u001b[0m\n",
      "Epoch 1 elapsed: 0.315s\n",
      "==============================\n",
      "Epoch 2 elapsed: 0.299s\n",
      "==============================\n",
      "Epoch 3 elapsed: 0.308s\n",
      "==============================\n",
      "Epoch 4 elapsed: 0.290s\n",
      "==============================\n",
      "Epoch 5 elapsed: 0.316s\n",
      "==============================\n",
      "Training start time: \u001b[35m2022-07-23 16:11:41\u001b[0m\n",
      "Epoch 1 elapsed: 0.292s\n",
      "==============================\n",
      "Epoch 2 elapsed: 0.302s\n",
      "==============================\n",
      "Epoch 3 elapsed: 0.299s\n",
      "==============================\n",
      "Epoch 4 elapsed: 0.304s\n",
      "==============================\n",
      "Epoch 5 elapsed: 0.325s\n",
      "==============================\n",
      "Training start time: \u001b[35m2022-07-23 16:11:46\u001b[0m\n",
      "Epoch 1 elapsed: 0.296s\n",
      "==============================\n",
      "Epoch 2 elapsed: 0.335s\n",
      "==============================\n",
      "Epoch 3 elapsed: 0.309s\n",
      "==============================\n",
      "Epoch 4 elapsed: 0.307s\n",
      "==============================\n",
      "Epoch 5 elapsed: 0.310s\n",
      "==============================\n",
      "Training start time: \u001b[35m2022-07-23 16:11:52\u001b[0m\n",
      "Epoch 1 elapsed: 0.312s\n",
      "==============================\n",
      "Epoch 2 elapsed: 0.302s\n",
      "==============================\n",
      "Epoch 3 elapsed: 0.305s\n",
      "==============================\n",
      "Epoch 4 elapsed: 0.322s\n",
      "==============================\n",
      "Epoch 5 elapsed: 0.281s\n",
      "==============================\n",
      "Training start time: \u001b[35m2022-07-23 16:11:57\u001b[0m\n",
      "Epoch 1 elapsed: 0.307s\n",
      "==============================\n",
      "Epoch 2 elapsed: 0.335s\n",
      "==============================\n",
      "Epoch 3 elapsed: 0.318s\n",
      "==============================\n",
      "Epoch 4 elapsed: 0.322s\n",
      "==============================\n",
      "Epoch 5 elapsed: 0.301s\n",
      "==============================\n",
      "Training start time: \u001b[35m2022-07-23 16:12:02\u001b[0m\n",
      "Epoch 1 elapsed: 0.309s\n",
      "==============================\n",
      "Epoch 2 elapsed: 0.312s\n",
      "==============================\n",
      "Epoch 3 elapsed: 0.301s\n",
      "==============================\n",
      "Epoch 4 elapsed: 0.334s\n",
      "==============================\n",
      "Epoch 5 elapsed: 0.337s\n",
      "==============================\n",
      "Training start time: \u001b[35m2022-07-23 16:12:07\u001b[0m\n",
      "Epoch 1 elapsed: 0.297s\n",
      "==============================\n",
      "Epoch 2 elapsed: 0.301s\n",
      "==============================\n",
      "Epoch 3 elapsed: 0.316s\n",
      "==============================\n",
      "Epoch 4 elapsed: 0.349s\n",
      "==============================\n",
      "Epoch 5 elapsed: 0.327s\n",
      "==============================\n",
      "Training start time: \u001b[35m2022-07-23 16:12:12\u001b[0m\n",
      "Epoch 1 elapsed: 0.327s\n",
      "==============================\n",
      "Epoch 2 elapsed: 0.304s\n",
      "==============================\n",
      "Epoch 3 elapsed: 0.340s\n",
      "==============================\n",
      "Epoch 4 elapsed: 0.312s\n",
      "==============================\n",
      "Epoch 5 elapsed: 0.305s\n",
      "==============================\n",
      "Training start time: \u001b[35m2022-07-23 16:12:17\u001b[0m\n",
      "Epoch 1 elapsed: 0.273s\n",
      "==============================\n",
      "Epoch 2 elapsed: 0.305s\n",
      "==============================\n",
      "Epoch 3 elapsed: 0.300s\n",
      "==============================\n",
      "Epoch 4 elapsed: 0.287s\n",
      "==============================\n",
      "Epoch 5 elapsed: 0.352s\n",
      "==============================\n",
      "Training start time: \u001b[35m2022-07-23 16:12:22\u001b[0m\n",
      "Epoch 1 elapsed: 0.324s\n",
      "==============================\n",
      "Epoch 2 elapsed: 0.296s\n",
      "==============================\n",
      "Epoch 3 elapsed: 0.303s\n",
      "==============================\n",
      "Epoch 4 elapsed: 0.300s\n",
      "==============================\n",
      "Epoch 5 elapsed: 0.293s\n",
      "==============================\n",
      "Training start time: \u001b[35m2022-07-23 16:12:27\u001b[0m\n",
      "Epoch 1 elapsed: 0.307s\n",
      "==============================\n",
      "Epoch 2 elapsed: 0.312s\n",
      "==============================\n",
      "Epoch 3 elapsed: 0.330s\n",
      "==============================\n",
      "Epoch 4 elapsed: 0.296s\n",
      "==============================\n",
      "Epoch 5 elapsed: 0.300s\n",
      "==============================\n",
      "Training start time: \u001b[35m2022-07-23 16:12:32\u001b[0m\n",
      "Epoch 1 elapsed: 0.361s\n",
      "==============================\n",
      "Epoch 2 elapsed: 0.337s\n",
      "==============================\n",
      "Epoch 3 elapsed: 0.368s\n",
      "==============================\n",
      "Epoch 4 elapsed: 0.358s\n",
      "==============================\n",
      "Epoch 5 elapsed: 0.351s\n",
      "==============================\n",
      "Training start time: \u001b[35m2022-07-23 16:12:38\u001b[0m\n",
      "Epoch 1 elapsed: 0.365s\n",
      "==============================\n",
      "Epoch 2 elapsed: 0.329s\n",
      "==============================\n",
      "Epoch 3 elapsed: 0.343s\n",
      "==============================\n"
     ]
    },
    {
     "name": "stdout",
     "output_type": "stream",
     "text": [
      "Epoch 4 elapsed: 0.325s\n",
      "==============================\n",
      "Epoch 5 elapsed: 0.341s\n",
      "==============================\n",
      "Training start time: \u001b[35m2022-07-23 16:12:43\u001b[0m\n",
      "Epoch 1 elapsed: 0.340s\n",
      "==============================\n",
      "Epoch 2 elapsed: 0.339s\n",
      "==============================\n",
      "Epoch 3 elapsed: 0.357s\n",
      "==============================\n",
      "Epoch 4 elapsed: 0.359s\n",
      "==============================\n",
      "Epoch 5 elapsed: 0.363s\n",
      "==============================\n",
      "Training start time: \u001b[35m2022-07-23 16:12:48\u001b[0m\n",
      "Epoch 1 elapsed: 0.350s\n",
      "==============================\n",
      "Epoch 2 elapsed: 0.358s\n",
      "==============================\n",
      "Epoch 3 elapsed: 0.371s\n",
      "==============================\n",
      "Epoch 4 elapsed: 0.375s\n",
      "==============================\n",
      "Epoch 5 elapsed: 0.360s\n",
      "==============================\n",
      "Training start time: \u001b[35m2022-07-23 16:12:54\u001b[0m\n",
      "Epoch 1 elapsed: 0.346s\n",
      "==============================\n",
      "Epoch 2 elapsed: 0.360s\n",
      "==============================\n",
      "Epoch 3 elapsed: 0.373s\n",
      "==============================\n",
      "Epoch 4 elapsed: 0.347s\n",
      "==============================\n",
      "Epoch 5 elapsed: 0.358s\n",
      "==============================\n",
      "Training start time: \u001b[35m2022-07-23 16:12:59\u001b[0m\n",
      "Epoch 1 elapsed: 0.412s\n",
      "==============================\n",
      "Epoch 2 elapsed: 0.459s\n",
      "==============================\n",
      "Epoch 3 elapsed: 0.427s\n",
      "==============================\n",
      "Epoch 4 elapsed: 0.438s\n",
      "==============================\n",
      "Epoch 5 elapsed: 0.379s\n",
      "==============================\n",
      "Training start time: \u001b[35m2022-07-23 16:13:05\u001b[0m\n",
      "Epoch 1 elapsed: 0.360s\n",
      "==============================\n",
      "Epoch 2 elapsed: 0.366s\n",
      "==============================\n",
      "Epoch 3 elapsed: 0.354s\n",
      "==============================\n",
      "Epoch 4 elapsed: 0.325s\n",
      "==============================\n",
      "Epoch 5 elapsed: 0.315s\n",
      "==============================\n",
      "Training start time: \u001b[35m2022-07-23 16:13:10\u001b[0m\n",
      "Epoch 1 elapsed: 0.324s\n",
      "==============================\n",
      "Epoch 2 elapsed: 0.343s\n",
      "==============================\n",
      "Epoch 3 elapsed: 0.336s\n",
      "==============================\n",
      "Epoch 4 elapsed: 0.359s\n",
      "==============================\n",
      "Epoch 5 elapsed: 0.359s\n",
      "==============================\n",
      "Training start time: \u001b[35m2022-07-23 16:13:16\u001b[0m\n",
      "Epoch 1 elapsed: 0.331s\n",
      "==============================\n",
      "Epoch 2 elapsed: 0.352s\n",
      "==============================\n",
      "Epoch 3 elapsed: 0.388s\n",
      "==============================\n",
      "Epoch 4 elapsed: 0.329s\n",
      "==============================\n",
      "Epoch 5 elapsed: 0.362s\n",
      "==============================\n",
      "Training start time: \u001b[35m2022-07-23 16:13:21\u001b[0m\n",
      "Epoch 1 elapsed: 0.345s\n",
      "==============================\n",
      "Epoch 2 elapsed: 0.330s\n",
      "==============================\n",
      "Epoch 3 elapsed: 0.355s\n",
      "==============================\n",
      "Epoch 4 elapsed: 0.338s\n",
      "==============================\n",
      "Epoch 5 elapsed: 0.367s\n",
      "==============================\n",
      "Training start time: \u001b[35m2022-07-23 16:13:26\u001b[0m\n",
      "Epoch 1 elapsed: 0.331s\n",
      "==============================\n",
      "Epoch 2 elapsed: 0.352s\n",
      "==============================\n",
      "Epoch 3 elapsed: 0.335s\n",
      "==============================\n",
      "Epoch 4 elapsed: 0.331s\n",
      "==============================\n",
      "Epoch 5 elapsed: 0.369s\n",
      "==============================\n",
      "Training start time: \u001b[35m2022-07-23 16:13:32\u001b[0m\n",
      "Epoch 1 elapsed: 0.369s\n",
      "==============================\n",
      "Epoch 2 elapsed: 0.359s\n",
      "==============================\n",
      "Epoch 3 elapsed: 0.335s\n",
      "==============================\n",
      "Epoch 4 elapsed: 0.399s\n",
      "==============================\n",
      "Epoch 5 elapsed: 0.367s\n",
      "==============================\n",
      "Training start time: \u001b[35m2022-07-23 16:13:37\u001b[0m\n",
      "Epoch 1 elapsed: 0.361s\n",
      "==============================\n",
      "Epoch 2 elapsed: 0.389s\n",
      "==============================\n",
      "Epoch 3 elapsed: 0.425s\n",
      "==============================\n",
      "Epoch 4 elapsed: 0.349s\n",
      "==============================\n",
      "Epoch 5 elapsed: 0.366s\n",
      "==============================\n",
      "Training start time: \u001b[35m2022-07-23 16:13:43\u001b[0m\n",
      "Epoch 1 elapsed: 0.344s\n",
      "==============================\n",
      "Epoch 2 elapsed: 0.392s\n",
      "==============================\n",
      "Epoch 3 elapsed: 0.328s\n",
      "==============================\n",
      "Epoch 4 elapsed: 0.327s\n",
      "==============================\n",
      "Epoch 5 elapsed: 0.336s\n",
      "==============================\n",
      "Training start time: \u001b[35m2022-07-23 16:13:48\u001b[0m\n",
      "Epoch 1 elapsed: 0.366s\n",
      "==============================\n",
      "Epoch 2 elapsed: 0.333s\n",
      "==============================\n",
      "Epoch 3 elapsed: 0.345s\n",
      "==============================\n",
      "Epoch 4 elapsed: 0.385s\n",
      "==============================\n",
      "Epoch 5 elapsed: 0.386s\n",
      "==============================\n",
      "Training start time: \u001b[35m2022-07-23 16:13:54\u001b[0m\n",
      "Epoch 1 elapsed: 0.322s\n",
      "==============================\n",
      "Epoch 2 elapsed: 0.323s\n",
      "==============================\n",
      "Epoch 3 elapsed: 0.345s\n",
      "==============================\n",
      "Epoch 4 elapsed: 0.356s\n",
      "==============================\n",
      "Epoch 5 elapsed: 0.336s\n",
      "==============================\n",
      "Training start time: \u001b[35m2022-07-23 16:13:59\u001b[0m\n",
      "Epoch 1 elapsed: 0.340s\n",
      "==============================\n",
      "Epoch 2 elapsed: 0.338s\n",
      "==============================\n",
      "Epoch 3 elapsed: 0.357s\n",
      "==============================\n",
      "Epoch 4 elapsed: 0.338s\n",
      "==============================\n",
      "Epoch 5 elapsed: 0.380s\n",
      "==============================\n",
      "Training start time: \u001b[35m2022-07-23 16:14:04\u001b[0m\n",
      "Epoch 1 elapsed: 0.391s\n",
      "==============================\n",
      "Epoch 2 elapsed: 0.452s\n",
      "==============================\n",
      "Epoch 3 elapsed: 0.405s\n",
      "==============================\n",
      "Epoch 4 elapsed: 0.427s\n",
      "==============================\n",
      "Epoch 5 elapsed: 0.343s\n",
      "==============================\n",
      "Training start time: \u001b[35m2022-07-23 16:14:10\u001b[0m\n",
      "Epoch 1 elapsed: 0.318s\n",
      "==============================\n",
      "Epoch 2 elapsed: 0.338s\n",
      "==============================\n",
      "Epoch 3 elapsed: 0.378s\n",
      "==============================\n",
      "Epoch 4 elapsed: 0.371s\n",
      "==============================\n",
      "Epoch 5 elapsed: 0.365s\n",
      "==============================\n",
      "Training start time: \u001b[35m2022-07-23 16:14:15\u001b[0m\n",
      "Epoch 1 elapsed: 0.355s\n",
      "==============================\n",
      "Epoch 2 elapsed: 0.332s\n",
      "==============================\n",
      "Epoch 3 elapsed: 0.334s\n",
      "==============================\n",
      "Epoch 4 elapsed: 0.362s\n",
      "==============================\n",
      "Epoch 5 elapsed: 0.353s\n",
      "==============================\n",
      "Training start time: \u001b[35m2022-07-23 16:14:20\u001b[0m\n",
      "Epoch 1 elapsed: 0.343s\n",
      "==============================\n",
      "Epoch 2 elapsed: 0.333s\n",
      "==============================\n",
      "Epoch 3 elapsed: 0.389s\n",
      "==============================\n",
      "Epoch 4 elapsed: 0.331s\n",
      "==============================\n",
      "Epoch 5 elapsed: 0.384s\n",
      "==============================\n",
      "Training start time: \u001b[35m2022-07-23 16:14:26\u001b[0m\n",
      "Epoch 1 elapsed: 0.350s\n",
      "==============================\n",
      "Epoch 2 elapsed: 0.365s\n",
      "==============================\n",
      "Epoch 3 elapsed: 0.382s\n",
      "==============================\n",
      "Epoch 4 elapsed: 0.389s\n",
      "==============================\n",
      "Epoch 5 elapsed: 0.368s\n",
      "==============================\n",
      "Training start time: \u001b[35m2022-07-23 16:14:31\u001b[0m\n",
      "Epoch 1 elapsed: 0.346s\n",
      "==============================\n",
      "Epoch 2 elapsed: 0.366s\n",
      "==============================\n",
      "Epoch 3 elapsed: 0.345s\n",
      "==============================\n",
      "Epoch 4 elapsed: 0.388s\n",
      "==============================\n",
      "Epoch 5 elapsed: 0.363s\n",
      "==============================\n",
      "Training start time: \u001b[35m2022-07-23 16:14:37\u001b[0m\n",
      "Epoch 1 elapsed: 0.329s\n",
      "==============================\n",
      "Epoch 2 elapsed: 0.371s\n",
      "==============================\n",
      "Epoch 3 elapsed: 0.370s\n",
      "==============================\n",
      "Epoch 4 elapsed: 0.346s\n",
      "==============================\n",
      "Epoch 5 elapsed: 0.348s\n",
      "==============================\n",
      "Training start time: \u001b[35m2022-07-23 16:14:42\u001b[0m\n",
      "Epoch 1 elapsed: 0.355s\n",
      "==============================\n",
      "Epoch 2 elapsed: 0.352s\n",
      "==============================\n",
      "Epoch 3 elapsed: 0.353s\n",
      "==============================\n",
      "Epoch 4 elapsed: 0.368s\n",
      "==============================\n",
      "Epoch 5 elapsed: 0.379s\n",
      "==============================\n"
     ]
    }
   ],
   "source": [
    "#------------- submission ----------------#\n",
    "\n",
    "emb_sizes = [2,4,8,16,32]\n",
    "regs = [0.1, 0.5, 1, 5, 10]\n",
    "alphas = [0.01, 0.1, 1, 10, 100]\n",
    "\n",
    "train_pd = pd.read_csv(f'../data/data_train.csv')\n",
    "\n",
    "users_train, movies_train, _ = extract_users_movies_ratings_lists(train_pd)\n",
    "ratings_train = normalize_extract_lists(train_pd, users_train, movies_train)\n",
    "\n",
    "test_pd = pd.read_csv('../data/sampleSubmission.csv')\n",
    "users_test, movies_test, _ = extract_users_movies_ratings_lists(test_pd)\n",
    "\n",
    "train = pd.DataFrame({'user': users_train, 'item': movies_train, 'label': ratings_train})\n",
    "\n",
    "david = np.zeros((125, len(users_test)))\n",
    "\n",
    "# %%\n",
    "train_data, data_info = DatasetPure.build_trainset(train)\n",
    "\n",
    "for i, emb_size in enumerate(emb_sizes):\n",
    "    for j, reg in enumerate(regs):\n",
    "        for k, alpha in enumerate(alphas):\n",
    "            giorgio = ALS(task=\"rating\", data_info=data_info, embed_size=emb_size, n_epochs=5,\n",
    "                        reg=reg, alpha=alpha, seed=42)\n",
    "            giorgio.fit(train_data, verbose=2, use_cg=False, n_threads=8, metrics=[\"rmse\", \"mae\", \"r2\"])\n",
    "            david[len(regs)*len(alphas)*i+len(alphas)*j+k] = transform_back(np.array(giorgio.predict(user=users_test, item=movies_test)), users_test, movies_test)\n",
    "            \n",
    "yhat = david.mean(axis=0)\n",
    "save_predictions(f'./ALS-predictedSubmission.csv', yhat)"
   ]
  },
  {
   "cell_type": "code",
   "execution_count": 78,
   "id": "1c353b40",
   "metadata": {},
   "outputs": [
    {
     "data": {
      "text/plain": [
       "array([3.21190344, 3.34355777, 3.77724277, ..., 3.05701952, 3.07623667,\n",
       "       3.74655416])"
      ]
     },
     "execution_count": 78,
     "metadata": {},
     "output_type": "execute_result"
    }
   ],
   "source": [
    "yhat"
   ]
  },
  {
   "cell_type": "code",
   "execution_count": 79,
   "id": "928ef8ff",
   "metadata": {},
   "outputs": [
    {
     "data": {
      "text/plain": [
       "0.5818578183345156"
      ]
     },
     "execution_count": 79,
     "metadata": {},
     "output_type": "execute_result"
    }
   ],
   "source": [
    "yhat.std()"
   ]
  }
 ],
 "metadata": {
  "kernelspec": {
   "display_name": "Python 3 (ipykernel)",
   "language": "python",
   "name": "python3"
  },
  "language_info": {
   "codemirror_mode": {
    "name": "ipython",
    "version": 3
   },
   "file_extension": ".py",
   "mimetype": "text/x-python",
   "name": "python",
   "nbconvert_exporter": "python",
   "pygments_lexer": "ipython3",
   "version": "3.8.10"
  }
 },
 "nbformat": 4,
 "nbformat_minor": 5
}
