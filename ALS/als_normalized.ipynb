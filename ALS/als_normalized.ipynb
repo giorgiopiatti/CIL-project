{
 "cells": [
  {
   "cell_type": "code",
   "execution_count": 90,
   "id": "928d169f",
   "metadata": {},
   "outputs": [],
   "source": [
    "import numpy as np\n",
    "import pandas as pd\n",
    "from sklearn.model_selection import train_test_split\n",
    "import random\n",
    "from dataset import extract_matrix_users_movies_ratings, extract_users_movies_ratings_lists\n",
    "from libreco.data import split_by_ratio_chrono, DatasetPure\n",
    "from libreco.algorithms import ALS\n",
    "from sklearn.metrics import mean_squared_error\n",
    "from scipy.sparse import coo_matrix\n",
    "\n",
    "import importlib\n",
    "import dataset\n",
    "importlib.reload(dataset)\n",
    "from dataset import extract_matrix_users_movies_ratings, extract_users_movies_ratings_lists"
   ]
  },
  {
   "cell_type": "code",
   "execution_count": 125,
   "id": "92cc96bc",
   "metadata": {},
   "outputs": [],
   "source": [
    "data_pd = pd.read_csv('../data/data_train.csv')\n",
    "data_matrix, _ = extract_matrix_users_movies_ratings(data_pd)\n",
    "# axis 0 means: we subtract the means for each movie\n",
    "\n",
    "data_matrix[data_matrix == 0] = 'nan'\n",
    "MEAN_MATRIX = np.nanmean(data_matrix, axis=0, keepdims=True)"
   ]
  },
  {
   "cell_type": "code",
   "execution_count": 126,
   "id": "8d3b1119",
   "metadata": {},
   "outputs": [],
   "source": [
    "def subtract_mean_extract_lists(pd, users, movies):  \n",
    "    data_matrix, _ = extract_matrix_users_movies_ratings(pd)\n",
    "    # axis 0 means: we subtract the means for each movie\n",
    "    a = np.zeros(len(users))\n",
    "    data_matrix_normalized = np.subtract(data_matrix, MEAN_MATRIX, where=data_matrix != 0)\n",
    "    for i, (user, movie) in enumerate(zip(users, movies)):\n",
    "        a[i] = data_matrix_normalized[user][movie]\n",
    "    return a"
   ]
  },
  {
   "cell_type": "code",
   "execution_count": 127,
   "id": "497823b7",
   "metadata": {},
   "outputs": [],
   "source": [
    "RANDOM_STATE = 58\n",
    "train_pd, val_pd = train_test_split(data_pd, train_size=0.9, random_state=RANDOM_STATE)\n",
    "\n",
    "users_train, movies_train, _ = extract_users_movies_ratings_lists(train_pd)\n",
    "ratings_train = subtract_mean_extract_lists(train_pd, users_train, movies_train)\n",
    "\n",
    "users_val, movies_val, _ = extract_users_movies_ratings_lists(val_pd)\n",
    "ratings_val = subtract_mean_extract_lists(val_pd, users_val, movies_val)\n",
    "\n",
    "test_pd = pd.read_csv('../data/sampleSubmission.csv')\n",
    "users_test, movies_test, _ = extract_users_movies_ratings_lists(test_pd)\n",
    "\n",
    "train = pd.DataFrame({'user': users_train, 'item': movies_train, 'label': ratings_train})\n",
    "val = pd.DataFrame({'user': users_val, 'item': movies_val, 'label': ratings_val})\n",
    "\n",
    "# %%\n",
    "train_data, data_info = DatasetPure.build_trainset(train)\n",
    "eval_data = DatasetPure.build_evalset(val)"
   ]
  },
  {
   "cell_type": "code",
   "execution_count": 115,
   "id": "2c571ca1",
   "metadata": {},
   "outputs": [
    {
     "ename": "ValueError",
     "evalue": "The truth value of an array with more than one element is ambiguous. Use a.any() or a.all()",
     "output_type": "error",
     "traceback": [
      "\u001b[1;31m---------------------------------------------------------------------------\u001b[0m",
      "\u001b[1;31mValueError\u001b[0m                                Traceback (most recent call last)",
      "\u001b[1;32m~\\AppData\\Local\\Temp/ipykernel_1892/1694673956.py\u001b[0m in \u001b[0;36m<module>\u001b[1;34m\u001b[0m\n\u001b[0;32m      5\u001b[0m \u001b[0musers_train2\u001b[0m\u001b[1;33m,\u001b[0m \u001b[0mmovies_train2\u001b[0m\u001b[1;33m,\u001b[0m \u001b[0mratings_train2\u001b[0m \u001b[1;33m=\u001b[0m \u001b[0mextract_users_movies_ratings_lists\u001b[0m\u001b[1;33m(\u001b[0m\u001b[0mtrain_pd\u001b[0m\u001b[1;33m)\u001b[0m\u001b[1;33m\u001b[0m\u001b[1;33m\u001b[0m\u001b[0m\n\u001b[0;32m      6\u001b[0m \u001b[1;33m\u001b[0m\u001b[0m\n\u001b[1;32m----> 7\u001b[1;33m \u001b[1;32massert\u001b[0m \u001b[0musers_train\u001b[0m \u001b[1;33m==\u001b[0m \u001b[0musers_train2\u001b[0m\u001b[1;33m\u001b[0m\u001b[1;33m\u001b[0m\u001b[0m\n\u001b[0m\u001b[0;32m      8\u001b[0m \u001b[1;32massert\u001b[0m \u001b[0mmovies_train\u001b[0m \u001b[1;33m==\u001b[0m \u001b[0mmovies_train2\u001b[0m\u001b[1;33m\u001b[0m\u001b[1;33m\u001b[0m\u001b[0m\n",
      "\u001b[1;31mValueError\u001b[0m: The truth value of an array with more than one element is ambiguous. Use a.any() or a.all()"
     ]
    }
   ],
   "source": [
    "data_pd = pd.read_csv('../data/data_train.csv')\n",
    "train_pd, val_pd = train_test_split(data_pd, train_size=0.9, random_state=RANDOM_STATE)\n",
    "\n",
    "users_train, movies_train, ratings_train = subtract_mean_extract_lists(train_pd)\n",
    "users_train2, movies_train2, ratings_train2 = extract_users_movies_ratings_lists(train_pd)\n",
    "\n",
    "assert users_train == users_train2\n",
    "assert movies_train == movies_train2"
   ]
  },
  {
   "cell_type": "code",
   "execution_count": 123,
   "id": "5635b0a1",
   "metadata": {},
   "outputs": [
    {
     "data": {
      "text/plain": [
       "(1059256,)"
      ]
     },
     "execution_count": 123,
     "metadata": {},
     "output_type": "execute_result"
    }
   ],
   "source": [
    "users_train.shape"
   ]
  },
  {
   "cell_type": "code",
   "execution_count": 122,
   "id": "59309682",
   "metadata": {},
   "outputs": [
    {
     "data": {
      "text/plain": [
       "1059256"
      ]
     },
     "execution_count": 122,
     "metadata": {},
     "output_type": "execute_result"
    }
   ],
   "source": [
    "(users_train == np.sort(users_train2)).sum()"
   ]
  },
  {
   "cell_type": "code",
   "execution_count": 128,
   "id": "ca07b804",
   "metadata": {},
   "outputs": [],
   "source": [
    "def get_mean(i):\n",
    "    mean_vector = np.squeeze(MEAN_MATRIX)\n",
    "    return mean_vector[i]\n",
    "\n",
    "def get_offset(movies):\n",
    "    return np.array(list(map(get_mean, movies)))"
   ]
  },
  {
   "cell_type": "code",
   "execution_count": 129,
   "id": "853854f1",
   "metadata": {},
   "outputs": [
    {
     "name": "stdout",
     "output_type": "stream",
     "text": [
      "Training start time: \u001b[35m2022-07-19 18:17:22\u001b[0m\n",
      "Epoch 1 elapsed: 0.047s\n"
     ]
    },
    {
     "name": "stderr",
     "output_type": "stream",
     "text": [
      "eval_pred: 100%|██████████████████████████████████████████████████████████████████████| 15/15 [00:00<00:00, 376.00it/s]"
     ]
    },
    {
     "name": "stdout",
     "output_type": "stream",
     "text": [
      "\t eval rmse: 1.0376\n",
      "\t eval mae: 0.8419\n"
     ]
    },
    {
     "name": "stderr",
     "output_type": "stream",
     "text": [
      "\n"
     ]
    },
    {
     "name": "stdout",
     "output_type": "stream",
     "text": [
      "\t eval r2: -0.0178\n",
      "==============================\n",
      "Epoch 2 elapsed: 0.041s\n"
     ]
    },
    {
     "name": "stderr",
     "output_type": "stream",
     "text": [
      "eval_pred: 100%|██████████████████████████████████████████████████████████████████████| 15/15 [00:00<00:00, 278.51it/s]"
     ]
    },
    {
     "name": "stdout",
     "output_type": "stream",
     "text": [
      "\t eval rmse: 1.0167\n",
      "\t eval mae: 0.8192\n"
     ]
    },
    {
     "name": "stderr",
     "output_type": "stream",
     "text": [
      "\n"
     ]
    },
    {
     "name": "stdout",
     "output_type": "stream",
     "text": [
      "\t eval r2: 0.0228\n",
      "==============================\n",
      "Epoch 3 elapsed: 0.106s\n"
     ]
    },
    {
     "name": "stderr",
     "output_type": "stream",
     "text": [
      "eval_pred: 100%|██████████████████████████████████████████████████████████████████████| 15/15 [00:00<00:00, 406.49it/s]\n"
     ]
    },
    {
     "name": "stdout",
     "output_type": "stream",
     "text": [
      "\t eval rmse: 1.0022\n",
      "\t eval mae: 0.8049\n",
      "\t eval r2: 0.0505\n",
      "==============================\n",
      "Epoch 4 elapsed: 0.040s\n"
     ]
    },
    {
     "name": "stderr",
     "output_type": "stream",
     "text": [
      "eval_pred: 100%|██████████████████████████████████████████████████████████████████████| 15/15 [00:00<00:00, 247.18it/s]\n"
     ]
    },
    {
     "name": "stdout",
     "output_type": "stream",
     "text": [
      "\t eval rmse: 0.9990\n",
      "\t eval mae: 0.8012\n",
      "\t eval r2: 0.0566\n",
      "==============================\n",
      "Epoch 5 elapsed: 0.045s\n"
     ]
    },
    {
     "name": "stderr",
     "output_type": "stream",
     "text": [
      "eval_pred: 100%|██████████████████████████████████████████████████████████████████████| 15/15 [00:00<00:00, 224.50it/s]\n"
     ]
    },
    {
     "name": "stdout",
     "output_type": "stream",
     "text": [
      "\t eval rmse: 0.9961\n",
      "\t eval mae: 0.7978\n",
      "\t eval r2: 0.0620\n",
      "==============================\n",
      "Training start time: \u001b[35m2022-07-19 18:17:23\u001b[0m\n",
      "Epoch 1 elapsed: 0.040s\n"
     ]
    },
    {
     "name": "stderr",
     "output_type": "stream",
     "text": [
      "eval_pred: 100%|██████████████████████████████████████████████████████████████████████| 15/15 [00:00<00:00, 313.34it/s]"
     ]
    },
    {
     "name": "stdout",
     "output_type": "stream",
     "text": [
      "\t eval rmse: 1.0376\n",
      "\t eval mae: 0.8419\n"
     ]
    },
    {
     "name": "stderr",
     "output_type": "stream",
     "text": [
      "\n"
     ]
    },
    {
     "name": "stdout",
     "output_type": "stream",
     "text": [
      "\t eval r2: -0.0178\n",
      "==============================\n",
      "Epoch 2 elapsed: 0.036s\n"
     ]
    },
    {
     "name": "stderr",
     "output_type": "stream",
     "text": [
      "eval_pred: 100%|██████████████████████████████████████████████████████████████████████| 15/15 [00:00<00:00, 289.27it/s]"
     ]
    },
    {
     "name": "stdout",
     "output_type": "stream",
     "text": [
      "\t eval rmse: 1.0167\n",
      "\t eval mae: 0.8192\n",
      "\t eval r2: 0.0228\n",
      "=============================="
     ]
    },
    {
     "name": "stderr",
     "output_type": "stream",
     "text": [
      "\n"
     ]
    },
    {
     "name": "stdout",
     "output_type": "stream",
     "text": [
      "\n",
      "Epoch 3 elapsed: 0.066s\n"
     ]
    },
    {
     "name": "stderr",
     "output_type": "stream",
     "text": [
      "eval_pred: 100%|██████████████████████████████████████████████████████████████████████| 15/15 [00:00<00:00, 225.81it/s]"
     ]
    },
    {
     "name": "stdout",
     "output_type": "stream",
     "text": [
      "\t eval rmse: 1.0022\n"
     ]
    },
    {
     "name": "stderr",
     "output_type": "stream",
     "text": [
      "\n"
     ]
    },
    {
     "name": "stdout",
     "output_type": "stream",
     "text": [
      "\t eval mae: 0.8049\n",
      "\t eval r2: 0.0505\n",
      "==============================\n",
      "Epoch 4 elapsed: 0.063s\n"
     ]
    },
    {
     "name": "stderr",
     "output_type": "stream",
     "text": [
      "eval_pred: 100%|██████████████████████████████████████████████████████████████████████| 15/15 [00:00<00:00, 179.58it/s]\n"
     ]
    },
    {
     "name": "stdout",
     "output_type": "stream",
     "text": [
      "\t eval rmse: 0.9990\n",
      "\t eval mae: 0.8012\n",
      "\t eval r2: 0.0566\n",
      "==============================\n",
      "Epoch 5 elapsed: 0.065s\n"
     ]
    },
    {
     "name": "stderr",
     "output_type": "stream",
     "text": [
      "eval_pred: 100%|██████████████████████████████████████████████████████████████████████| 15/15 [00:00<00:00, 190.90it/s]"
     ]
    },
    {
     "name": "stdout",
     "output_type": "stream",
     "text": [
      "\t eval rmse: 0.9961\n",
      "\t eval mae: 0.7978\n",
      "\t eval r2: 0.0620\n",
      "=============================="
     ]
    },
    {
     "name": "stderr",
     "output_type": "stream",
     "text": [
      "\n"
     ]
    },
    {
     "name": "stdout",
     "output_type": "stream",
     "text": [
      "\n",
      "Training start time: \u001b[35m2022-07-19 18:17:25\u001b[0m\n",
      "Epoch 1 elapsed: 0.079s\n"
     ]
    },
    {
     "name": "stderr",
     "output_type": "stream",
     "text": [
      "eval_pred: 100%|██████████████████████████████████████████████████████████████████████| 15/15 [00:00<00:00, 330.44it/s]\n"
     ]
    },
    {
     "name": "stdout",
     "output_type": "stream",
     "text": [
      "\t eval rmse: 1.0376\n",
      "\t eval mae: 0.8419\n",
      "\t eval r2: -0.0178\n",
      "==============================\n",
      "Epoch 2 elapsed: 0.039s\n"
     ]
    },
    {
     "name": "stderr",
     "output_type": "stream",
     "text": [
      "eval_pred: 100%|██████████████████████████████████████████████████████████████████████| 15/15 [00:00<00:00, 241.41it/s]\n"
     ]
    },
    {
     "name": "stdout",
     "output_type": "stream",
     "text": [
      "\t eval rmse: 1.0167\n",
      "\t eval mae: 0.8192\n",
      "\t eval r2: 0.0228\n",
      "==============================\n",
      "Epoch 3 elapsed: 0.047s\n"
     ]
    },
    {
     "name": "stderr",
     "output_type": "stream",
     "text": [
      "eval_pred: 100%|██████████████████████████████████████████████████████████████████████| 15/15 [00:00<00:00, 300.08it/s]\n"
     ]
    },
    {
     "name": "stdout",
     "output_type": "stream",
     "text": [
      "\t eval rmse: 1.0022\n",
      "\t eval mae: 0.8049\n",
      "\t eval r2: 0.0505\n",
      "==============================\n",
      "Epoch 4 elapsed: 0.045s\n"
     ]
    },
    {
     "name": "stderr",
     "output_type": "stream",
     "text": [
      "eval_pred: 100%|██████████████████████████████████████████████████████████████████████| 15/15 [00:00<00:00, 285.98it/s]\n"
     ]
    },
    {
     "name": "stdout",
     "output_type": "stream",
     "text": [
      "\t eval rmse: 0.9990\n",
      "\t eval mae: 0.8012\n",
      "\t eval r2: 0.0566\n",
      "==============================\n",
      "Epoch 5 elapsed: 0.052s\n"
     ]
    },
    {
     "name": "stderr",
     "output_type": "stream",
     "text": [
      "eval_pred: 100%|██████████████████████████████████████████████████████████████████████| 15/15 [00:00<00:00, 385.63it/s]\n"
     ]
    },
    {
     "name": "stdout",
     "output_type": "stream",
     "text": [
      "\t eval rmse: 0.9961\n",
      "\t eval mae: 0.7978\n",
      "\t eval r2: 0.0620\n",
      "==============================\n",
      "Training start time: \u001b[35m2022-07-19 18:17:27\u001b[0m\n",
      "Epoch 1 elapsed: 0.043s\n"
     ]
    },
    {
     "name": "stderr",
     "output_type": "stream",
     "text": [
      "eval_pred: 100%|██████████████████████████████████████████████████████████████████████| 15/15 [00:00<00:00, 376.00it/s]"
     ]
    },
    {
     "name": "stdout",
     "output_type": "stream",
     "text": [
      "\t eval rmse: 1.0376\n",
      "\t eval mae: 0.8419\n"
     ]
    },
    {
     "name": "stderr",
     "output_type": "stream",
     "text": [
      "\n"
     ]
    },
    {
     "name": "stdout",
     "output_type": "stream",
     "text": [
      "\t eval r2: -0.0178\n",
      "==============================\n",
      "Epoch 2 elapsed: 0.043s\n"
     ]
    },
    {
     "name": "stderr",
     "output_type": "stream",
     "text": [
      "eval_pred: 100%|██████████████████████████████████████████████████████████████████████| 15/15 [00:00<00:00, 326.92it/s]\n"
     ]
    },
    {
     "name": "stdout",
     "output_type": "stream",
     "text": [
      "\t eval rmse: 1.0167\n",
      "\t eval mae: 0.8192\n",
      "\t eval r2: 0.0228\n",
      "==============================\n",
      "Epoch 3 elapsed: 0.045s\n"
     ]
    },
    {
     "name": "stderr",
     "output_type": "stream",
     "text": [
      "eval_pred: 100%|██████████████████████████████████████████████████████████████████████| 15/15 [00:00<00:00, 263.19it/s]\n"
     ]
    },
    {
     "name": "stdout",
     "output_type": "stream",
     "text": [
      "\t eval rmse: 1.0022\n",
      "\t eval mae: 0.8049\n",
      "\t eval r2: 0.0505\n",
      "==============================\n",
      "Epoch 4 elapsed: 0.049s\n"
     ]
    },
    {
     "name": "stderr",
     "output_type": "stream",
     "text": [
      "eval_pred: 100%|██████████████████████████████████████████████████████████████████████| 15/15 [00:00<00:00, 326.95it/s]\n"
     ]
    },
    {
     "name": "stdout",
     "output_type": "stream",
     "text": [
      "\t eval rmse: 0.9990\n",
      "\t eval mae: 0.8012\n",
      "\t eval r2: 0.0566\n",
      "==============================\n",
      "Epoch 5 elapsed: 0.040s\n"
     ]
    },
    {
     "name": "stderr",
     "output_type": "stream",
     "text": [
      "eval_pred: 100%|██████████████████████████████████████████████████████████████████████| 15/15 [00:00<00:00, 294.91it/s]\n"
     ]
    },
    {
     "name": "stdout",
     "output_type": "stream",
     "text": [
      "\t eval rmse: 0.9961\n",
      "\t eval mae: 0.7978\n",
      "\t eval r2: 0.0620\n",
      "==============================\n",
      "Training start time: \u001b[35m2022-07-19 18:17:28\u001b[0m\n",
      "Epoch 1 elapsed: 0.040s\n"
     ]
    },
    {
     "name": "stderr",
     "output_type": "stream",
     "text": [
      "eval_pred: 100%|██████████████████████████████████████████████████████████████████████| 15/15 [00:00<00:00, 289.23it/s]"
     ]
    },
    {
     "name": "stdout",
     "output_type": "stream",
     "text": [
      "\t eval rmse: 1.0376\n",
      "\t eval mae: 0.8419\n",
      "\t eval r2: -0.0178\n",
      "==============================\n"
     ]
    },
    {
     "name": "stderr",
     "output_type": "stream",
     "text": [
      "\n"
     ]
    },
    {
     "name": "stdout",
     "output_type": "stream",
     "text": [
      "Epoch 2 elapsed: 0.044s\n"
     ]
    },
    {
     "name": "stderr",
     "output_type": "stream",
     "text": [
      "eval_pred: 100%|██████████████████████████████████████████████████████████████████████| 15/15 [00:00<00:00, 341.82it/s]\n"
     ]
    },
    {
     "name": "stdout",
     "output_type": "stream",
     "text": [
      "\t eval rmse: 1.0167\n",
      "\t eval mae: 0.8192\n",
      "\t eval r2: 0.0228\n",
      "==============================\n",
      "Epoch 3 elapsed: 0.048s\n"
     ]
    },
    {
     "name": "stderr",
     "output_type": "stream",
     "text": [
      "eval_pred: 100%|██████████████████████████████████████████████████████████████████████| 15/15 [00:00<00:00, 263.85it/s]"
     ]
    },
    {
     "name": "stdout",
     "output_type": "stream",
     "text": [
      "\t eval rmse: 1.0022\n",
      "\t eval mae: 0.8049\n"
     ]
    },
    {
     "name": "stderr",
     "output_type": "stream",
     "text": [
      "\n"
     ]
    },
    {
     "name": "stdout",
     "output_type": "stream",
     "text": [
      "\t eval r2: 0.0505\n",
      "==============================\n",
      "Epoch 4 elapsed: 0.039s\n"
     ]
    },
    {
     "name": "stderr",
     "output_type": "stream",
     "text": [
      "eval_pred: 100%|██████████████████████████████████████████████████████████████████████| 15/15 [00:00<00:00, 289.26it/s]\n"
     ]
    },
    {
     "name": "stdout",
     "output_type": "stream",
     "text": [
      "\t eval rmse: 0.9990\n",
      "\t eval mae: 0.8012\n",
      "\t eval r2: 0.0566\n",
      "==============================\n",
      "Epoch 5 elapsed: 0.054s\n"
     ]
    },
    {
     "name": "stderr",
     "output_type": "stream",
     "text": [
      "eval_pred: 100%|██████████████████████████████████████████████████████████████████████| 15/15 [00:00<00:00, 297.23it/s]\n"
     ]
    },
    {
     "name": "stdout",
     "output_type": "stream",
     "text": [
      "\t eval rmse: 0.9961\n",
      "\t eval mae: 0.7978\n",
      "\t eval r2: 0.0620\n",
      "==============================\n",
      "Training start time: \u001b[35m2022-07-19 18:17:29\u001b[0m\n",
      "Epoch 1 elapsed: 0.042s\n"
     ]
    },
    {
     "name": "stderr",
     "output_type": "stream",
     "text": [
      "eval_pred: 100%|██████████████████████████████████████████████████████████████████████| 15/15 [00:00<00:00, 349.78it/s]"
     ]
    },
    {
     "name": "stdout",
     "output_type": "stream",
     "text": [
      "\t eval rmse: 1.0364\n",
      "\t eval mae: 0.8409\n"
     ]
    },
    {
     "name": "stderr",
     "output_type": "stream",
     "text": [
      "\n"
     ]
    },
    {
     "name": "stdout",
     "output_type": "stream",
     "text": [
      "\t eval r2: -0.0153\n",
      "==============================\n",
      "Epoch 2 elapsed: 0.044s\n"
     ]
    },
    {
     "name": "stderr",
     "output_type": "stream",
     "text": [
      "eval_pred: 100%|██████████████████████████████████████████████████████████████████████| 15/15 [00:00<00:00, 326.95it/s]\n"
     ]
    },
    {
     "name": "stdout",
     "output_type": "stream",
     "text": [
      "\t eval rmse: 1.0151\n",
      "\t eval mae: 0.8178\n",
      "\t eval r2: 0.0258\n",
      "==============================\n",
      "Epoch 3 elapsed: 0.057s\n"
     ]
    },
    {
     "name": "stderr",
     "output_type": "stream",
     "text": [
      "eval_pred: 100%|██████████████████████████████████████████████████████████████████████| 15/15 [00:00<00:00, 366.77it/s]\n"
     ]
    },
    {
     "name": "stdout",
     "output_type": "stream",
     "text": [
      "\t eval rmse: 1.0016\n",
      "\t eval mae: 0.8043\n",
      "\t eval r2: 0.0517\n",
      "==============================\n",
      "Epoch 4 elapsed: 0.043s\n"
     ]
    },
    {
     "name": "stderr",
     "output_type": "stream",
     "text": [
      "eval_pred: 100%|██████████████████████████████████████████████████████████████████████| 15/15 [00:00<00:00, 375.99it/s]\n"
     ]
    },
    {
     "name": "stdout",
     "output_type": "stream",
     "text": [
      "\t eval rmse: 0.9983\n",
      "\t eval mae: 0.8005\n",
      "\t eval r2: 0.0579\n",
      "==============================\n",
      "Epoch 5 elapsed: 0.052s\n"
     ]
    },
    {
     "name": "stderr",
     "output_type": "stream",
     "text": [
      "eval_pred: 100%|██████████████████████████████████████████████████████████████████████| 15/15 [00:00<00:00, 273.50it/s]\n"
     ]
    },
    {
     "name": "stdout",
     "output_type": "stream",
     "text": [
      "\t eval rmse: 0.9957\n",
      "\t eval mae: 0.7974\n",
      "\t eval r2: 0.0627\n",
      "==============================\n",
      "Training start time: \u001b[35m2022-07-19 18:17:31\u001b[0m\n",
      "Epoch 1 elapsed: 0.085s\n"
     ]
    },
    {
     "name": "stderr",
     "output_type": "stream",
     "text": [
      "eval_pred: 100%|██████████████████████████████████████████████████████████████████████| 15/15 [00:00<00:00, 268.58it/s]\n"
     ]
    },
    {
     "name": "stdout",
     "output_type": "stream",
     "text": [
      "\t eval rmse: 1.0364\n",
      "\t eval mae: 0.8409\n",
      "\t eval r2: -0.0153\n",
      "==============================\n",
      "Epoch 2 elapsed: 0.040s\n"
     ]
    },
    {
     "name": "stderr",
     "output_type": "stream",
     "text": [
      "eval_pred: 100%|██████████████████████████████████████████████████████████████████████| 15/15 [00:00<00:00, 390.50it/s]"
     ]
    },
    {
     "name": "stdout",
     "output_type": "stream",
     "text": [
      "\t eval rmse: 1.0151"
     ]
    },
    {
     "name": "stderr",
     "output_type": "stream",
     "text": [
      "\n"
     ]
    },
    {
     "name": "stdout",
     "output_type": "stream",
     "text": [
      "\n",
      "\t eval mae: 0.8178\n",
      "\t eval r2: 0.0258\n",
      "==============================\n",
      "Epoch 3 elapsed: 0.051s\n"
     ]
    },
    {
     "name": "stderr",
     "output_type": "stream",
     "text": [
      "eval_pred: 100%|██████████████████████████████████████████████████████████████████████| 15/15 [00:00<00:00, 326.96it/s]"
     ]
    },
    {
     "name": "stdout",
     "output_type": "stream",
     "text": [
      "\t eval rmse: 1.0016\n",
      "\t eval mae: 0.8043\n"
     ]
    },
    {
     "name": "stderr",
     "output_type": "stream",
     "text": [
      "\n"
     ]
    },
    {
     "name": "stdout",
     "output_type": "stream",
     "text": [
      "\t eval r2: 0.0517\n",
      "==============================\n",
      "Epoch 4 elapsed: 0.051s\n"
     ]
    },
    {
     "name": "stderr",
     "output_type": "stream",
     "text": [
      "eval_pred: 100%|██████████████████████████████████████████████████████████████████████| 15/15 [00:00<00:00, 270.94it/s]\n"
     ]
    },
    {
     "name": "stdout",
     "output_type": "stream",
     "text": [
      "\t eval rmse: 0.9983\n",
      "\t eval mae: 0.8005\n",
      "\t eval r2: 0.0579\n",
      "==============================\n",
      "Epoch 5 elapsed: 0.048s\n"
     ]
    },
    {
     "name": "stderr",
     "output_type": "stream",
     "text": [
      "eval_pred: 100%|██████████████████████████████████████████████████████████████████████| 15/15 [00:00<00:00, 326.83it/s]\n"
     ]
    },
    {
     "name": "stdout",
     "output_type": "stream",
     "text": [
      "\t eval rmse: 0.9957\n",
      "\t eval mae: 0.7974\n",
      "\t eval r2: 0.0627\n",
      "==============================\n",
      "Training start time: \u001b[35m2022-07-19 18:17:32\u001b[0m\n",
      "Epoch 1 elapsed: 0.043s\n"
     ]
    },
    {
     "name": "stderr",
     "output_type": "stream",
     "text": [
      "eval_pred: 100%|██████████████████████████████████████████████████████████████████████| 15/15 [00:00<00:00, 385.64it/s]"
     ]
    },
    {
     "name": "stdout",
     "output_type": "stream",
     "text": [
      "\t eval rmse: 1.0364\n",
      "\t eval mae: 0.8409\n",
      "\t eval r2: -0.0153\n",
      "=============================="
     ]
    },
    {
     "name": "stderr",
     "output_type": "stream",
     "text": [
      "\n"
     ]
    },
    {
     "name": "stdout",
     "output_type": "stream",
     "text": [
      "\n",
      "Epoch 2 elapsed: 0.046s\n"
     ]
    },
    {
     "name": "stderr",
     "output_type": "stream",
     "text": [
      "eval_pred: 100%|██████████████████████████████████████████████████████████████████████| 15/15 [00:00<00:00, 358.12it/s]\n"
     ]
    },
    {
     "name": "stdout",
     "output_type": "stream",
     "text": [
      "\t eval rmse: 1.0151\n",
      "\t eval mae: 0.8178\n",
      "\t eval r2: 0.0258\n",
      "==============================\n",
      "Epoch 3 elapsed: 0.054s\n"
     ]
    },
    {
     "name": "stderr",
     "output_type": "stream",
     "text": [
      "eval_pred: 100%|██████████████████████████████████████████████████████████████████████| 15/15 [00:00<00:00, 259.32it/s]"
     ]
    },
    {
     "name": "stdout",
     "output_type": "stream",
     "text": [
      "\t eval rmse: 1.0016\n",
      "\t eval mae: 0.8043\n"
     ]
    },
    {
     "name": "stderr",
     "output_type": "stream",
     "text": [
      "\n"
     ]
    },
    {
     "name": "stdout",
     "output_type": "stream",
     "text": [
      "\t eval r2: 0.0517\n",
      "==============================\n",
      "Epoch 4 elapsed: 0.054s\n"
     ]
    },
    {
     "name": "stderr",
     "output_type": "stream",
     "text": [
      "eval_pred: 100%|██████████████████████████████████████████████████████████████████████| 15/15 [00:00<00:00, 370.89it/s]"
     ]
    },
    {
     "name": "stdout",
     "output_type": "stream",
     "text": [
      "\t eval rmse: 0.9983\n",
      "\t eval mae: 0.8005\n"
     ]
    },
    {
     "name": "stderr",
     "output_type": "stream",
     "text": [
      "\n"
     ]
    },
    {
     "name": "stdout",
     "output_type": "stream",
     "text": [
      "\t eval r2: 0.0579\n",
      "==============================\n",
      "Epoch 5 elapsed: 0.046s\n"
     ]
    },
    {
     "name": "stderr",
     "output_type": "stream",
     "text": [
      "eval_pred: 100%|██████████████████████████████████████████████████████████████████████| 15/15 [00:00<00:00, 366.46it/s]\n"
     ]
    },
    {
     "name": "stdout",
     "output_type": "stream",
     "text": [
      "\t eval rmse: 0.9957\n",
      "\t eval mae: 0.7974\n",
      "\t eval r2: 0.0627\n",
      "==============================\n",
      "Training start time: \u001b[35m2022-07-19 18:17:33\u001b[0m\n",
      "Epoch 1 elapsed: 0.042s\n"
     ]
    },
    {
     "name": "stderr",
     "output_type": "stream",
     "text": [
      "eval_pred: 100%|██████████████████████████████████████████████████████████████████████| 15/15 [00:00<00:00, 300.81it/s]"
     ]
    },
    {
     "name": "stdout",
     "output_type": "stream",
     "text": [
      "\t eval rmse: 1.0364\n",
      "\t eval mae: 0.8409\n"
     ]
    },
    {
     "name": "stderr",
     "output_type": "stream",
     "text": [
      "\n"
     ]
    },
    {
     "name": "stdout",
     "output_type": "stream",
     "text": [
      "\t eval r2: -0.0153\n",
      "==============================\n",
      "Epoch 2 elapsed: 0.043s\n"
     ]
    },
    {
     "name": "stderr",
     "output_type": "stream",
     "text": [
      "eval_pred: 100%|██████████████████████████████████████████████████████████████████████| 15/15 [00:00<00:00, 442.09it/s]\n"
     ]
    },
    {
     "name": "stdout",
     "output_type": "stream",
     "text": [
      "\t eval rmse: 1.0151\n",
      "\t eval mae: 0.8178\n",
      "\t eval r2: 0.0258\n",
      "==============================\n",
      "Epoch 3 elapsed: 0.044s\n"
     ]
    },
    {
     "name": "stderr",
     "output_type": "stream",
     "text": [
      "eval_pred: 100%|██████████████████████████████████████████████████████████████████████| 15/15 [00:00<00:00, 278.50it/s]\n"
     ]
    },
    {
     "name": "stdout",
     "output_type": "stream",
     "text": [
      "\t eval rmse: 1.0016\n",
      "\t eval mae: 0.8043\n",
      "\t eval r2: 0.0517\n",
      "==============================\n",
      "Epoch 4 elapsed: 0.056s\n"
     ]
    },
    {
     "name": "stderr",
     "output_type": "stream",
     "text": [
      "eval_pred: 100%|██████████████████████████████████████████████████████████████████████| 15/15 [00:00<00:00, 362.25it/s]\n"
     ]
    },
    {
     "name": "stdout",
     "output_type": "stream",
     "text": [
      "\t eval rmse: 0.9983\n",
      "\t eval mae: 0.8005\n",
      "\t eval r2: 0.0579\n",
      "==============================\n",
      "Epoch 5 elapsed: 0.039s\n"
     ]
    },
    {
     "name": "stderr",
     "output_type": "stream",
     "text": [
      "eval_pred: 100%|██████████████████████████████████████████████████████████████████████| 15/15 [00:00<00:00, 423.54it/s]"
     ]
    },
    {
     "name": "stdout",
     "output_type": "stream",
     "text": [
      "\t eval rmse: 0.9957\n"
     ]
    },
    {
     "name": "stderr",
     "output_type": "stream",
     "text": [
      "\n"
     ]
    },
    {
     "name": "stdout",
     "output_type": "stream",
     "text": [
      "\t eval mae: 0.7974\n",
      "\t eval r2: 0.0627\n",
      "==============================\n",
      "Training start time: \u001b[35m2022-07-19 18:17:35\u001b[0m\n",
      "Epoch 1 elapsed: 0.049s\n"
     ]
    },
    {
     "name": "stderr",
     "output_type": "stream",
     "text": [
      "eval_pred: 100%|██████████████████████████████████████████████████████████████████████| 15/15 [00:00<00:00, 395.75it/s]"
     ]
    },
    {
     "name": "stdout",
     "output_type": "stream",
     "text": [
      "\t eval rmse: 1.0364\n",
      "\t eval mae: 0.8409\n"
     ]
    },
    {
     "name": "stderr",
     "output_type": "stream",
     "text": [
      "\n"
     ]
    },
    {
     "name": "stdout",
     "output_type": "stream",
     "text": [
      "\t eval r2: -0.0153\n",
      "==============================\n",
      "Epoch 2 elapsed: 0.037s\n"
     ]
    },
    {
     "name": "stderr",
     "output_type": "stream",
     "text": [
      "eval_pred: 100%|██████████████████████████████████████████████████████████████████████| 15/15 [00:00<00:00, 326.20it/s]\n"
     ]
    },
    {
     "name": "stdout",
     "output_type": "stream",
     "text": [
      "\t eval rmse: 1.0151\n",
      "\t eval mae: 0.8178\n",
      "\t eval r2: 0.0258\n",
      "==============================\n",
      "Epoch 3 elapsed: 0.049s\n"
     ]
    },
    {
     "name": "stderr",
     "output_type": "stream",
     "text": [
      "eval_pred: 100%|██████████████████████████████████████████████████████████████████████| 15/15 [00:00<00:00, 417.82it/s]\n"
     ]
    },
    {
     "name": "stdout",
     "output_type": "stream",
     "text": [
      "\t eval rmse: 1.0016\n",
      "\t eval mae: 0.8043\n",
      "\t eval r2: 0.0517\n",
      "==============================\n",
      "Epoch 4 elapsed: 0.038s\n"
     ]
    },
    {
     "name": "stderr",
     "output_type": "stream",
     "text": [
      "eval_pred: 100%|██████████████████████████████████████████████████████████████████████| 15/15 [00:00<00:00, 242.54it/s]"
     ]
    },
    {
     "name": "stdout",
     "output_type": "stream",
     "text": [
      "\t eval rmse: 0.9983\n",
      "\t eval mae: 0.8005\n",
      "\t eval r2: 0.0579\n",
      "==============================\n"
     ]
    },
    {
     "name": "stderr",
     "output_type": "stream",
     "text": [
      "\n"
     ]
    },
    {
     "name": "stdout",
     "output_type": "stream",
     "text": [
      "Epoch 5 elapsed: 0.044s\n"
     ]
    },
    {
     "name": "stderr",
     "output_type": "stream",
     "text": [
      "eval_pred: 100%|██████████████████████████████████████████████████████████████████████| 15/15 [00:00<00:00, 349.95it/s]\n"
     ]
    },
    {
     "name": "stdout",
     "output_type": "stream",
     "text": [
      "\t eval rmse: 0.9957\n",
      "\t eval mae: 0.7974\n",
      "\t eval r2: 0.0627\n",
      "==============================\n",
      "Training start time: \u001b[35m2022-07-19 18:17:36\u001b[0m\n",
      "Epoch 1 elapsed: 0.048s\n"
     ]
    },
    {
     "name": "stderr",
     "output_type": "stream",
     "text": [
      "eval_pred: 100%|██████████████████████████████████████████████████████████████████████| 15/15 [00:00<00:00, 417.79it/s]"
     ]
    },
    {
     "name": "stdout",
     "output_type": "stream",
     "text": [
      "\t eval rmse: 1.0359\n",
      "\t eval mae: 0.8406\n",
      "\t eval r2: -0.0144\n",
      "=============================="
     ]
    },
    {
     "name": "stderr",
     "output_type": "stream",
     "text": [
      "\n"
     ]
    },
    {
     "name": "stdout",
     "output_type": "stream",
     "text": [
      "\n",
      "Epoch 2 elapsed: 0.050s\n"
     ]
    },
    {
     "name": "stderr",
     "output_type": "stream",
     "text": [
      "eval_pred: 100%|██████████████████████████████████████████████████████████████████████| 15/15 [00:00<00:00, 385.35it/s]\n"
     ]
    },
    {
     "name": "stdout",
     "output_type": "stream",
     "text": [
      "\t eval rmse: 1.0147\n",
      "\t eval mae: 0.8176\n",
      "\t eval r2: 0.0266\n",
      "==============================\n",
      "Epoch 3 elapsed: 0.048s\n"
     ]
    },
    {
     "name": "stderr",
     "output_type": "stream",
     "text": [
      "eval_pred: 100%|██████████████████████████████████████████████████████████████████████| 15/15 [00:00<00:00, 345.39it/s]\n"
     ]
    },
    {
     "name": "stdout",
     "output_type": "stream",
     "text": [
      "\t eval rmse: 1.0014\n",
      "\t eval mae: 0.8043\n",
      "\t eval r2: 0.0520\n",
      "==============================\n",
      "Epoch 4 elapsed: 0.050s\n"
     ]
    },
    {
     "name": "stderr",
     "output_type": "stream",
     "text": [
      "eval_pred: 100%|██████████████████████████████████████████████████████████████████████| 15/15 [00:00<00:00, 413.91it/s]\n"
     ]
    },
    {
     "name": "stdout",
     "output_type": "stream",
     "text": [
      "\t eval rmse: 0.9981\n",
      "\t eval mae: 0.8005\n",
      "\t eval r2: 0.0582\n",
      "==============================\n",
      "Epoch 5 elapsed: 0.036s\n"
     ]
    },
    {
     "name": "stderr",
     "output_type": "stream",
     "text": [
      "eval_pred: 100%|██████████████████████████████████████████████████████████████████████| 15/15 [00:00<00:00, 334.16it/s]\n"
     ]
    },
    {
     "name": "stdout",
     "output_type": "stream",
     "text": [
      "\t eval rmse: 0.9956\n",
      "\t eval mae: 0.7975\n",
      "\t eval r2: 0.0630\n",
      "==============================\n",
      "Training start time: \u001b[35m2022-07-19 18:17:37\u001b[0m\n",
      "Epoch 1 elapsed: 0.042s\n"
     ]
    },
    {
     "name": "stderr",
     "output_type": "stream",
     "text": [
      "eval_pred: 100%|██████████████████████████████████████████████████████████████████████| 15/15 [00:00<00:00, 501.33it/s]"
     ]
    },
    {
     "name": "stdout",
     "output_type": "stream",
     "text": [
      "\t eval rmse: 1.0359\n",
      "\t eval mae: 0.8406\n",
      "\t eval r2: -0.0144\n",
      "==============================\n"
     ]
    },
    {
     "name": "stderr",
     "output_type": "stream",
     "text": [
      "\n"
     ]
    },
    {
     "name": "stdout",
     "output_type": "stream",
     "text": [
      "Epoch 2 elapsed: 0.037s\n"
     ]
    },
    {
     "name": "stderr",
     "output_type": "stream",
     "text": [
      "eval_pred: 100%|██████████████████████████████████████████████████████████████████████| 15/15 [00:00<00:00, 259.30it/s]\n"
     ]
    },
    {
     "name": "stdout",
     "output_type": "stream",
     "text": [
      "\t eval rmse: 1.0147\n",
      "\t eval mae: 0.8176\n",
      "\t eval r2: 0.0266\n",
      "==============================\n",
      "Epoch 3 elapsed: 0.035s\n"
     ]
    },
    {
     "name": "stderr",
     "output_type": "stream",
     "text": [
      "eval_pred: 100%|██████████████████████████████████████████████████████████████████████| 15/15 [00:00<00:00, 429.72it/s]\n"
     ]
    },
    {
     "name": "stdout",
     "output_type": "stream",
     "text": [
      "\t eval rmse: 1.0014\n",
      "\t eval mae: 0.8043\n",
      "\t eval r2: 0.0520\n",
      "==============================\n",
      "Epoch 4 elapsed: 0.038s\n"
     ]
    },
    {
     "name": "stderr",
     "output_type": "stream",
     "text": [
      "eval_pred: 100%|██████████████████████████████████████████████████████████████████████| 15/15 [00:00<00:00, 320.01it/s]\n"
     ]
    },
    {
     "name": "stdout",
     "output_type": "stream",
     "text": [
      "\t eval rmse: 0.9981\n",
      "\t eval mae: 0.8005\n",
      "\t eval r2: 0.0582\n",
      "==============================\n",
      "Epoch 5 elapsed: 0.044s\n"
     ]
    },
    {
     "name": "stderr",
     "output_type": "stream",
     "text": [
      "eval_pred: 100%|██████████████████████████████████████████████████████████████████████| 15/15 [00:00<00:00, 361.13it/s]\n"
     ]
    },
    {
     "name": "stdout",
     "output_type": "stream",
     "text": [
      "\t eval rmse: 0.9956\n",
      "\t eval mae: 0.7975\n",
      "\t eval r2: 0.0630\n",
      "==============================\n",
      "Training start time: \u001b[35m2022-07-19 18:17:38\u001b[0m\n",
      "Epoch 1 elapsed: 0.049s\n"
     ]
    },
    {
     "name": "stderr",
     "output_type": "stream",
     "text": [
      "eval_pred: 100%|██████████████████████████████████████████████████████████████████████| 15/15 [00:00<00:00, 450.24it/s]"
     ]
    },
    {
     "name": "stdout",
     "output_type": "stream",
     "text": [
      "\t eval rmse: 1.0359\n",
      "\t eval mae: 0.8406\n",
      "\t eval r2: -0.0144\n",
      "=============================="
     ]
    },
    {
     "name": "stderr",
     "output_type": "stream",
     "text": [
      "\n"
     ]
    },
    {
     "name": "stdout",
     "output_type": "stream",
     "text": [
      "\n",
      "Epoch 2 elapsed: 0.035s\n"
     ]
    },
    {
     "name": "stderr",
     "output_type": "stream",
     "text": [
      "eval_pred: 100%|██████████████████████████████████████████████████████████████████████| 15/15 [00:00<00:00, 380.64it/s]\n"
     ]
    },
    {
     "name": "stdout",
     "output_type": "stream",
     "text": [
      "\t eval rmse: 1.0147\n",
      "\t eval mae: 0.8176\n",
      "\t eval r2: 0.0266\n",
      "==============================\n",
      "Epoch 3 elapsed: 0.036s\n"
     ]
    },
    {
     "name": "stderr",
     "output_type": "stream",
     "text": [
      "eval_pred: 100%|██████████████████████████████████████████████████████████████████████| 15/15 [00:00<00:00, 330.30it/s]\n"
     ]
    },
    {
     "name": "stdout",
     "output_type": "stream",
     "text": [
      "\t eval rmse: 1.0014\n",
      "\t eval mae: 0.8043\n",
      "\t eval r2: 0.0520\n",
      "==============================\n",
      "Epoch 4 elapsed: 0.048s\n"
     ]
    },
    {
     "name": "stderr",
     "output_type": "stream",
     "text": [
      "eval_pred: 100%|██████████████████████████████████████████████████████████████████████| 15/15 [00:00<00:00, 306.48it/s]\n"
     ]
    },
    {
     "name": "stdout",
     "output_type": "stream",
     "text": [
      "\t eval rmse: 0.9981\n",
      "\t eval mae: 0.8005\n",
      "\t eval r2: 0.0582\n",
      "==============================\n",
      "Epoch 5 elapsed: 0.044s\n"
     ]
    },
    {
     "name": "stderr",
     "output_type": "stream",
     "text": [
      "eval_pred: 100%|██████████████████████████████████████████████████████████████████████| 15/15 [00:00<00:00, 300.77it/s]\n"
     ]
    },
    {
     "name": "stdout",
     "output_type": "stream",
     "text": [
      "\t eval rmse: 0.9956\n",
      "\t eval mae: 0.7975\n",
      "\t eval r2: 0.0630\n",
      "==============================\n",
      "Training start time: \u001b[35m2022-07-19 18:17:39\u001b[0m\n",
      "Epoch 1 elapsed: 0.036s\n"
     ]
    },
    {
     "name": "stderr",
     "output_type": "stream",
     "text": [
      "eval_pred: 100%|██████████████████████████████████████████████████████████████████████| 15/15 [00:00<00:00, 375.98it/s]"
     ]
    },
    {
     "name": "stdout",
     "output_type": "stream",
     "text": [
      "\t eval rmse: 1.0359\n",
      "\t eval mae: 0.8406\n",
      "\t eval r2: -0.0144\n",
      "==============================\n"
     ]
    },
    {
     "name": "stderr",
     "output_type": "stream",
     "text": [
      "\n"
     ]
    },
    {
     "name": "stdout",
     "output_type": "stream",
     "text": [
      "Epoch 2 elapsed: 0.042s\n"
     ]
    },
    {
     "name": "stderr",
     "output_type": "stream",
     "text": [
      "eval_pred: 100%|██████████████████████████████████████████████████████████████████████| 15/15 [00:00<00:00, 306.95it/s]\n"
     ]
    },
    {
     "name": "stdout",
     "output_type": "stream",
     "text": [
      "\t eval rmse: 1.0147\n",
      "\t eval mae: 0.8176\n",
      "\t eval r2: 0.0266\n",
      "==============================\n",
      "Epoch 3 elapsed: 0.059s\n"
     ]
    },
    {
     "name": "stderr",
     "output_type": "stream",
     "text": [
      "eval_pred: 100%|██████████████████████████████████████████████████████████████████████| 15/15 [00:00<00:00, 417.72it/s]\n"
     ]
    },
    {
     "name": "stdout",
     "output_type": "stream",
     "text": [
      "\t eval rmse: 1.0014\n",
      "\t eval mae: 0.8043\n",
      "\t eval r2: 0.0520\n",
      "==============================\n",
      "Epoch 4 elapsed: 0.044s\n"
     ]
    },
    {
     "name": "stderr",
     "output_type": "stream",
     "text": [
      "eval_pred: 100%|██████████████████████████████████████████████████████████████████████| 15/15 [00:00<00:00, 294.91it/s]\n"
     ]
    },
    {
     "name": "stdout",
     "output_type": "stream",
     "text": [
      "\t eval rmse: 0.9981\n",
      "\t eval mae: 0.8005\n",
      "\t eval r2: 0.0582\n",
      "==============================\n",
      "Epoch 5 elapsed: 0.041s\n"
     ]
    },
    {
     "name": "stderr",
     "output_type": "stream",
     "text": [
      "eval_pred: 100%|██████████████████████████████████████████████████████████████████████| 15/15 [00:00<00:00, 313.36it/s]\n"
     ]
    },
    {
     "name": "stdout",
     "output_type": "stream",
     "text": [
      "\t eval rmse: 0.9956\n",
      "\t eval mae: 0.7975\n",
      "\t eval r2: 0.0630\n",
      "==============================\n",
      "Training start time: \u001b[35m2022-07-19 18:17:41\u001b[0m\n",
      "Epoch 1 elapsed: 0.041s\n"
     ]
    },
    {
     "name": "stderr",
     "output_type": "stream",
     "text": [
      "eval_pred: 100%|██████████████████████████████████████████████████████████████████████| 15/15 [00:00<00:00, 358.05it/s]"
     ]
    },
    {
     "name": "stdout",
     "output_type": "stream",
     "text": [
      "\t eval rmse: 1.0359\n",
      "\t eval mae: 0.8406\n"
     ]
    },
    {
     "name": "stderr",
     "output_type": "stream",
     "text": [
      "\n"
     ]
    },
    {
     "name": "stdout",
     "output_type": "stream",
     "text": [
      "\t eval r2: -0.0144\n",
      "==============================\n",
      "Epoch 2 elapsed: 0.038s\n"
     ]
    },
    {
     "name": "stderr",
     "output_type": "stream",
     "text": [
      "eval_pred: 100%|██████████████████████████████████████████████████████████████████████| 15/15 [00:00<00:00, 376.02it/s]\n"
     ]
    },
    {
     "name": "stdout",
     "output_type": "stream",
     "text": [
      "\t eval rmse: 1.0147\n",
      "\t eval mae: 0.8176\n",
      "\t eval r2: 0.0266\n",
      "==============================\n",
      "Epoch 3 elapsed: 0.055s\n"
     ]
    },
    {
     "name": "stderr",
     "output_type": "stream",
     "text": [
      "eval_pred: 100%|██████████████████████████████████████████████████████████████████████| 15/15 [00:00<00:00, 358.10it/s]\n"
     ]
    },
    {
     "name": "stdout",
     "output_type": "stream",
     "text": [
      "\t eval rmse: 1.0014\n",
      "\t eval mae: 0.8043\n",
      "\t eval r2: 0.0520\n",
      "==============================\n",
      "Epoch 4 elapsed: 0.037s\n"
     ]
    },
    {
     "name": "stderr",
     "output_type": "stream",
     "text": [
      "eval_pred: 100%|██████████████████████████████████████████████████████████████████████| 15/15 [00:00<00:00, 406.49it/s]\n"
     ]
    },
    {
     "name": "stdout",
     "output_type": "stream",
     "text": [
      "\t eval rmse: 0.9981\n",
      "\t eval mae: 0.8005\n",
      "\t eval r2: 0.0582\n",
      "==============================\n",
      "Epoch 5 elapsed: 0.043s\n"
     ]
    },
    {
     "name": "stderr",
     "output_type": "stream",
     "text": [
      "eval_pred: 100%|██████████████████████████████████████████████████████████████████████| 15/15 [00:00<00:00, 309.92it/s]\n"
     ]
    },
    {
     "name": "stdout",
     "output_type": "stream",
     "text": [
      "\t eval rmse: 0.9956\n",
      "\t eval mae: 0.7975\n",
      "\t eval r2: 0.0630\n",
      "==============================\n",
      "Training start time: \u001b[35m2022-07-19 18:17:42\u001b[0m\n",
      "Epoch 1 elapsed: 0.055s\n"
     ]
    },
    {
     "name": "stderr",
     "output_type": "stream",
     "text": [
      "eval_pred: 100%|██████████████████████████████████████████████████████████████████████| 15/15 [00:00<00:00, 211.84it/s]\n"
     ]
    },
    {
     "name": "stdout",
     "output_type": "stream",
     "text": [
      "\t eval rmse: 1.0299\n",
      "\t eval mae: 0.8377\n",
      "\t eval r2: -0.0026\n",
      "==============================\n",
      "Epoch 2 elapsed: 0.054s\n"
     ]
    },
    {
     "name": "stderr",
     "output_type": "stream",
     "text": [
      "eval_pred: 100%|██████████████████████████████████████████████████████████████████████| 15/15 [00:00<00:00, 306.87it/s]\n"
     ]
    },
    {
     "name": "stdout",
     "output_type": "stream",
     "text": [
      "\t eval rmse: 1.0113\n",
      "\t eval mae: 0.8149\n",
      "\t eval r2: 0.0333\n",
      "==============================\n",
      "Epoch 3 elapsed: 0.040s\n"
     ]
    },
    {
     "name": "stderr",
     "output_type": "stream",
     "text": [
      "eval_pred: 100%|██████████████████████████████████████████████████████████████████████| 15/15 [00:00<00:00, 227.89it/s]\n"
     ]
    },
    {
     "name": "stdout",
     "output_type": "stream",
     "text": [
      "\t eval rmse: 0.9998\n",
      "\t eval mae: 0.8036\n",
      "\t eval r2: 0.0550\n",
      "==============================\n",
      "Epoch 4 elapsed: 0.047s\n"
     ]
    },
    {
     "name": "stderr",
     "output_type": "stream",
     "text": [
      "eval_pred: 100%|██████████████████████████████████████████████████████████████████████| 15/15 [00:00<00:00, 341.83it/s]\n"
     ]
    },
    {
     "name": "stdout",
     "output_type": "stream",
     "text": [
      "\t eval rmse: 0.9969\n",
      "\t eval mae: 0.8004\n",
      "\t eval r2: 0.0606\n",
      "==============================\n",
      "Epoch 5 elapsed: 0.041s\n"
     ]
    },
    {
     "name": "stderr",
     "output_type": "stream",
     "text": [
      "eval_pred: 100%|██████████████████████████████████████████████████████████████████████| 15/15 [00:00<00:00, 241.89it/s]"
     ]
    },
    {
     "name": "stdout",
     "output_type": "stream",
     "text": [
      "\t eval rmse: 0.9943\n"
     ]
    },
    {
     "name": "stderr",
     "output_type": "stream",
     "text": [
      "\n"
     ]
    },
    {
     "name": "stdout",
     "output_type": "stream",
     "text": [
      "\t eval mae: 0.7974\n",
      "\t eval r2: 0.0655\n",
      "==============================\n",
      "Training start time: \u001b[35m2022-07-19 18:17:44\u001b[0m\n",
      "Epoch 1 elapsed: 0.067s\n"
     ]
    },
    {
     "name": "stderr",
     "output_type": "stream",
     "text": [
      "eval_pred: 100%|██████████████████████████████████████████████████████████████████████| 15/15 [00:00<00:00, 376.02it/s]"
     ]
    },
    {
     "name": "stdout",
     "output_type": "stream",
     "text": [
      "\t eval rmse: 1.0299\n"
     ]
    },
    {
     "name": "stderr",
     "output_type": "stream",
     "text": [
      "\n"
     ]
    },
    {
     "name": "stdout",
     "output_type": "stream",
     "text": [
      "\t eval mae: 0.8377\n",
      "\t eval r2: -0.0026\n",
      "==============================\n",
      "Epoch 2 elapsed: 0.045s\n"
     ]
    },
    {
     "name": "stderr",
     "output_type": "stream",
     "text": [
      "eval_pred: 100%|██████████████████████████████████████████████████████████████████████| 15/15 [00:00<00:00, 322.63it/s]\n"
     ]
    },
    {
     "name": "stdout",
     "output_type": "stream",
     "text": [
      "\t eval rmse: 1.0113\n",
      "\t eval mae: 0.8149\n",
      "\t eval r2: 0.0333\n",
      "==============================\n",
      "Epoch 3 elapsed: 0.048s\n"
     ]
    },
    {
     "name": "stderr",
     "output_type": "stream",
     "text": [
      "eval_pred: 100%|██████████████████████████████████████████████████████████████████████| 15/15 [00:00<00:00, 385.45it/s]"
     ]
    },
    {
     "name": "stdout",
     "output_type": "stream",
     "text": [
      "\t eval rmse: 0.9998\n",
      "\t eval mae: 0.8036\n"
     ]
    },
    {
     "name": "stderr",
     "output_type": "stream",
     "text": [
      "\n"
     ]
    },
    {
     "name": "stdout",
     "output_type": "stream",
     "text": [
      "\t eval r2: 0.0550\n",
      "==============================\n",
      "Epoch 4 elapsed: 0.042s\n"
     ]
    },
    {
     "name": "stderr",
     "output_type": "stream",
     "text": [
      "eval_pred: 100%|██████████████████████████████████████████████████████████████████████| 15/15 [00:00<00:00, 288.61it/s]\n"
     ]
    },
    {
     "name": "stdout",
     "output_type": "stream",
     "text": [
      "\t eval rmse: 0.9969\n",
      "\t eval mae: 0.8004\n",
      "\t eval r2: 0.0606\n",
      "==============================\n",
      "Epoch 5 elapsed: 0.051s\n"
     ]
    },
    {
     "name": "stderr",
     "output_type": "stream",
     "text": [
      "eval_pred: 100%|██████████████████████████████████████████████████████████████████████| 15/15 [00:00<00:00, 406.48it/s]\n"
     ]
    },
    {
     "name": "stdout",
     "output_type": "stream",
     "text": [
      "\t eval rmse: 0.9943\n",
      "\t eval mae: 0.7974\n",
      "\t eval r2: 0.0655\n",
      "==============================\n",
      "Training start time: \u001b[35m2022-07-19 18:17:45\u001b[0m\n",
      "Epoch 1 elapsed: 0.050s\n"
     ]
    },
    {
     "name": "stderr",
     "output_type": "stream",
     "text": [
      "eval_pred: 100%|██████████████████████████████████████████████████████████████████████| 15/15 [00:00<00:00, 406.43it/s]"
     ]
    },
    {
     "name": "stdout",
     "output_type": "stream",
     "text": [
      "\t eval rmse: 1.0299\n"
     ]
    },
    {
     "name": "stderr",
     "output_type": "stream",
     "text": [
      "\n"
     ]
    },
    {
     "name": "stdout",
     "output_type": "stream",
     "text": [
      "\t eval mae: 0.8377\n",
      "\t eval r2: -0.0026\n",
      "==============================\n",
      "Epoch 2 elapsed: 0.036s\n"
     ]
    },
    {
     "name": "stderr",
     "output_type": "stream",
     "text": [
      "eval_pred: 100%|██████████████████████████████████████████████████████████████████████| 15/15 [00:00<00:00, 341.82it/s]\n"
     ]
    },
    {
     "name": "stdout",
     "output_type": "stream",
     "text": [
      "\t eval rmse: 1.0113\n",
      "\t eval mae: 0.8149\n",
      "\t eval r2: 0.0333\n",
      "==============================\n",
      "Epoch 3 elapsed: 0.055s\n"
     ]
    },
    {
     "name": "stderr",
     "output_type": "stream",
     "text": [
      "eval_pred: 100%|██████████████████████████████████████████████████████████████████████| 15/15 [00:00<00:00, 375.52it/s]\n"
     ]
    },
    {
     "name": "stdout",
     "output_type": "stream",
     "text": [
      "\t eval rmse: 0.9998\n",
      "\t eval mae: 0.8036\n",
      "\t eval r2: 0.0550\n",
      "==============================\n",
      "Epoch 4 elapsed: 0.061s\n"
     ]
    },
    {
     "name": "stderr",
     "output_type": "stream",
     "text": [
      "eval_pred: 100%|██████████████████████████████████████████████████████████████████████| 15/15 [00:00<00:00, 442.34it/s]\n"
     ]
    },
    {
     "name": "stdout",
     "output_type": "stream",
     "text": [
      "\t eval rmse: 0.9969\n",
      "\t eval mae: 0.8004\n",
      "\t eval r2: 0.0606\n",
      "==============================\n",
      "Epoch 5 elapsed: 0.061s\n"
     ]
    },
    {
     "name": "stderr",
     "output_type": "stream",
     "text": [
      "eval_pred: 100%|██████████████████████████████████████████████████████████████████████| 15/15 [00:00<00:00, 485.18it/s]\n"
     ]
    },
    {
     "name": "stdout",
     "output_type": "stream",
     "text": [
      "\t eval rmse: 0.9943\n",
      "\t eval mae: 0.7974\n",
      "\t eval r2: 0.0655\n",
      "==============================\n",
      "Training start time: \u001b[35m2022-07-19 18:17:46\u001b[0m\n",
      "Epoch 1 elapsed: 0.039s\n"
     ]
    },
    {
     "name": "stderr",
     "output_type": "stream",
     "text": [
      "eval_pred: 100%|██████████████████████████████████████████████████████████████████████| 15/15 [00:00<00:00, 417.71it/s]"
     ]
    },
    {
     "name": "stdout",
     "output_type": "stream",
     "text": [
      "\t eval rmse: 1.0299\n",
      "\t eval mae: 0.8377\n"
     ]
    },
    {
     "name": "stderr",
     "output_type": "stream",
     "text": [
      "\n"
     ]
    },
    {
     "name": "stdout",
     "output_type": "stream",
     "text": [
      "\t eval r2: -0.0026\n",
      "==============================\n",
      "Epoch 2 elapsed: 0.036s\n"
     ]
    },
    {
     "name": "stderr",
     "output_type": "stream",
     "text": [
      "eval_pred: 100%|██████████████████████████████████████████████████████████████████████| 15/15 [00:00<00:00, 341.70it/s]\n"
     ]
    },
    {
     "name": "stdout",
     "output_type": "stream",
     "text": [
      "\t eval rmse: 1.0113\n",
      "\t eval mae: 0.8149\n",
      "\t eval r2: 0.0333\n",
      "==============================\n",
      "Epoch 3 elapsed: 0.040s\n"
     ]
    },
    {
     "name": "stderr",
     "output_type": "stream",
     "text": [
      "eval_pred: 100%|██████████████████████████████████████████████████████████████████████| 15/15 [00:00<00:00, 344.77it/s]\n"
     ]
    },
    {
     "name": "stdout",
     "output_type": "stream",
     "text": [
      "\t eval rmse: 0.9998\n",
      "\t eval mae: 0.8036\n",
      "\t eval r2: 0.0550\n",
      "==============================\n",
      "Epoch 4 elapsed: 0.053s\n"
     ]
    },
    {
     "name": "stderr",
     "output_type": "stream",
     "text": [
      "eval_pred: 100%|██████████████████████████████████████████████████████████████████████| 15/15 [00:00<00:00, 376.11it/s]\n"
     ]
    },
    {
     "name": "stdout",
     "output_type": "stream",
     "text": [
      "\t eval rmse: 0.9969\n",
      "\t eval mae: 0.8004\n",
      "\t eval r2: 0.0606\n",
      "==============================\n",
      "Epoch 5 elapsed: 0.042s\n"
     ]
    },
    {
     "name": "stderr",
     "output_type": "stream",
     "text": [
      "eval_pred: 100%|██████████████████████████████████████████████████████████████████████| 15/15 [00:00<00:00, 303.74it/s]\n"
     ]
    },
    {
     "name": "stdout",
     "output_type": "stream",
     "text": [
      "\t eval rmse: 0.9943\n",
      "\t eval mae: 0.7974\n",
      "\t eval r2: 0.0655\n",
      "==============================\n",
      "Training start time: \u001b[35m2022-07-19 18:17:47\u001b[0m\n",
      "Epoch 1 elapsed: 0.034s\n"
     ]
    },
    {
     "name": "stderr",
     "output_type": "stream",
     "text": [
      "eval_pred: 100%|██████████████████████████████████████████████████████████████████████| 15/15 [00:00<00:00, 442.33it/s]"
     ]
    },
    {
     "name": "stdout",
     "output_type": "stream",
     "text": [
      "\t eval rmse: 1.0299\n",
      "\t eval mae: 0.8377\n",
      "\t eval r2: -0.0026\n",
      "==============================\n"
     ]
    },
    {
     "name": "stderr",
     "output_type": "stream",
     "text": [
      "\n"
     ]
    },
    {
     "name": "stdout",
     "output_type": "stream",
     "text": [
      "Epoch 2 elapsed: 0.039s\n"
     ]
    },
    {
     "name": "stderr",
     "output_type": "stream",
     "text": [
      "eval_pred: 100%|██████████████████████████████████████████████████████████████████████| 15/15 [00:00<00:00, 370.72it/s]\n"
     ]
    },
    {
     "name": "stdout",
     "output_type": "stream",
     "text": [
      "\t eval rmse: 1.0113\n",
      "\t eval mae: 0.8149\n",
      "\t eval r2: 0.0333\n",
      "==============================\n",
      "Epoch 3 elapsed: 0.039s\n"
     ]
    },
    {
     "name": "stderr",
     "output_type": "stream",
     "text": [
      "eval_pred: 100%|██████████████████████████████████████████████████████████████████████| 15/15 [00:00<00:00, 289.22it/s]\n"
     ]
    },
    {
     "name": "stdout",
     "output_type": "stream",
     "text": [
      "\t eval rmse: 0.9998\n",
      "\t eval mae: 0.8036\n",
      "\t eval r2: 0.0550\n",
      "==============================\n",
      "Epoch 4 elapsed: 0.052s\n"
     ]
    },
    {
     "name": "stderr",
     "output_type": "stream",
     "text": [
      "eval_pred: 100%|██████████████████████████████████████████████████████████████████████| 15/15 [00:00<00:00, 376.00it/s]\n"
     ]
    },
    {
     "name": "stdout",
     "output_type": "stream",
     "text": [
      "\t eval rmse: 0.9969\n",
      "\t eval mae: 0.8004\n",
      "\t eval r2: 0.0606\n",
      "==============================\n",
      "Epoch 5 elapsed: 0.043s\n"
     ]
    },
    {
     "name": "stderr",
     "output_type": "stream",
     "text": [
      "eval_pred: 100%|██████████████████████████████████████████████████████████████████████| 15/15 [00:00<00:00, 455.72it/s]\n"
     ]
    },
    {
     "name": "stdout",
     "output_type": "stream",
     "text": [
      "\t eval rmse: 0.9943\n",
      "\t eval mae: 0.7974\n",
      "\t eval r2: 0.0655\n",
      "==============================\n",
      "Training start time: \u001b[35m2022-07-19 18:17:48\u001b[0m\n",
      "Epoch 1 elapsed: 0.036s\n"
     ]
    },
    {
     "name": "stderr",
     "output_type": "stream",
     "text": [
      "eval_pred: 100%|██████████████████████████████████████████████████████████████████████| 15/15 [00:00<00:00, 395.79it/s]"
     ]
    },
    {
     "name": "stdout",
     "output_type": "stream",
     "text": [
      "\t eval rmse: 1.0283\n",
      "\t eval mae: 0.8377\n",
      "\t eval r2: 0.0003\n",
      "==============================\n"
     ]
    },
    {
     "name": "stderr",
     "output_type": "stream",
     "text": [
      "\n"
     ]
    },
    {
     "name": "stdout",
     "output_type": "stream",
     "text": [
      "Epoch 2 elapsed: 0.043s\n"
     ]
    },
    {
     "name": "stderr",
     "output_type": "stream",
     "text": [
      "eval_pred: 100%|██████████████████████████████████████████████████████████████████████| 15/15 [00:00<00:00, 313.34it/s]\n"
     ]
    },
    {
     "name": "stdout",
     "output_type": "stream",
     "text": [
      "\t eval rmse: 1.0101\n",
      "\t eval mae: 0.8120\n",
      "\t eval r2: 0.0355\n",
      "==============================\n",
      "Epoch 3 elapsed: 0.077s\n"
     ]
    },
    {
     "name": "stderr",
     "output_type": "stream",
     "text": [
      "eval_pred: 100%|██████████████████████████████████████████████████████████████████████| 15/15 [00:00<00:00, 247.87it/s]\n"
     ]
    },
    {
     "name": "stdout",
     "output_type": "stream",
     "text": [
      "\t eval rmse: 0.9991\n",
      "\t eval mae: 0.8025\n",
      "\t eval r2: 0.0564\n",
      "==============================\n",
      "Epoch 4 elapsed: 0.062s\n"
     ]
    },
    {
     "name": "stderr",
     "output_type": "stream",
     "text": [
      "eval_pred: 100%|██████████████████████████████████████████████████████████████████████| 15/15 [00:00<00:00, 283.85it/s]"
     ]
    },
    {
     "name": "stdout",
     "output_type": "stream",
     "text": [
      "\t eval rmse: 0.9961\n",
      "\t eval mae: 0.7997\n"
     ]
    },
    {
     "name": "stderr",
     "output_type": "stream",
     "text": [
      "\n"
     ]
    },
    {
     "name": "stdout",
     "output_type": "stream",
     "text": [
      "\t eval r2: 0.0620\n",
      "==============================\n",
      "Epoch 5 elapsed: 0.044s\n"
     ]
    },
    {
     "name": "stderr",
     "output_type": "stream",
     "text": [
      "eval_pred: 100%|██████████████████████████████████████████████████████████████████████| 15/15 [00:00<00:00, 138.45it/s]\n"
     ]
    },
    {
     "name": "stdout",
     "output_type": "stream",
     "text": [
      "\t eval rmse: 0.9936\n",
      "\t eval mae: 0.7969\n",
      "\t eval r2: 0.0667\n",
      "==============================\n",
      "Training start time: \u001b[35m2022-07-19 18:17:50\u001b[0m\n",
      "Epoch 1 elapsed: 0.052s\n"
     ]
    },
    {
     "name": "stderr",
     "output_type": "stream",
     "text": [
      "eval_pred: 100%|██████████████████████████████████████████████████████████████████████| 15/15 [00:00<00:00, 306.92it/s]"
     ]
    },
    {
     "name": "stdout",
     "output_type": "stream",
     "text": [
      "\t eval rmse: 1.0283\n"
     ]
    },
    {
     "name": "stderr",
     "output_type": "stream",
     "text": [
      "\n"
     ]
    },
    {
     "name": "stdout",
     "output_type": "stream",
     "text": [
      "\t eval mae: 0.8377\n",
      "\t eval r2: 0.0003\n",
      "==============================\n",
      "Epoch 2 elapsed: 0.049s\n"
     ]
    },
    {
     "name": "stderr",
     "output_type": "stream",
     "text": [
      "eval_pred: 100%|██████████████████████████████████████████████████████████████████████| 15/15 [00:00<00:00, 273.44it/s]"
     ]
    },
    {
     "name": "stdout",
     "output_type": "stream",
     "text": [
      "\t eval rmse: 1.0101\n"
     ]
    },
    {
     "name": "stderr",
     "output_type": "stream",
     "text": [
      "\n"
     ]
    },
    {
     "name": "stdout",
     "output_type": "stream",
     "text": [
      "\t eval mae: 0.8120\n",
      "\t eval r2: 0.0355\n",
      "==============================\n",
      "Epoch 3 elapsed: 0.041s\n"
     ]
    },
    {
     "name": "stderr",
     "output_type": "stream",
     "text": [
      "eval_pred: 100%|██████████████████████████████████████████████████████████████████████| 15/15 [00:00<00:00, 345.18it/s]"
     ]
    },
    {
     "name": "stdout",
     "output_type": "stream",
     "text": [
      "\t eval rmse: 0.9991\n"
     ]
    },
    {
     "name": "stderr",
     "output_type": "stream",
     "text": [
      "\n"
     ]
    },
    {
     "name": "stdout",
     "output_type": "stream",
     "text": [
      "\t eval mae: 0.8025\n",
      "\t eval r2: 0.0564\n",
      "==============================\n",
      "Epoch 4 elapsed: 0.040s\n"
     ]
    },
    {
     "name": "stderr",
     "output_type": "stream",
     "text": [
      "eval_pred: 100%|██████████████████████████████████████████████████████████████████████| 15/15 [00:00<00:00, 259.31it/s]"
     ]
    },
    {
     "name": "stdout",
     "output_type": "stream",
     "text": [
      "\t eval rmse: 0.9961\n"
     ]
    },
    {
     "name": "stderr",
     "output_type": "stream",
     "text": [
      "\n"
     ]
    },
    {
     "name": "stdout",
     "output_type": "stream",
     "text": [
      "\t eval mae: 0.7997\n",
      "\t eval r2: 0.0620\n",
      "==============================\n",
      "Epoch 5 elapsed: 0.057s\n"
     ]
    },
    {
     "name": "stderr",
     "output_type": "stream",
     "text": [
      "eval_pred: 100%|██████████████████████████████████████████████████████████████████████| 15/15 [00:00<00:00, 300.01it/s]\n"
     ]
    },
    {
     "name": "stdout",
     "output_type": "stream",
     "text": [
      "\t eval rmse: 0.9936\n",
      "\t eval mae: 0.7969\n",
      "\t eval r2: 0.0667\n",
      "==============================\n",
      "Training start time: \u001b[35m2022-07-19 18:17:51\u001b[0m\n",
      "Epoch 1 elapsed: 0.045s\n"
     ]
    },
    {
     "name": "stderr",
     "output_type": "stream",
     "text": [
      "eval_pred: 100%|██████████████████████████████████████████████████████████████████████| 15/15 [00:00<00:00, 406.47it/s]"
     ]
    },
    {
     "name": "stdout",
     "output_type": "stream",
     "text": [
      "\t eval rmse: 1.0283\n"
     ]
    },
    {
     "name": "stderr",
     "output_type": "stream",
     "text": [
      "\n"
     ]
    },
    {
     "name": "stdout",
     "output_type": "stream",
     "text": [
      "\t eval mae: 0.8377\n",
      "\t eval r2: 0.0003\n",
      "==============================\n",
      "Epoch 2 elapsed: 0.038s\n"
     ]
    },
    {
     "name": "stderr",
     "output_type": "stream",
     "text": [
      "eval_pred: 100%|██████████████████████████████████████████████████████████████████████| 15/15 [00:00<00:00, 231.37it/s]"
     ]
    },
    {
     "name": "stdout",
     "output_type": "stream",
     "text": [
      "\t eval rmse: 1.0101\n"
     ]
    },
    {
     "name": "stderr",
     "output_type": "stream",
     "text": [
      "\n"
     ]
    },
    {
     "name": "stdout",
     "output_type": "stream",
     "text": [
      "\t eval mae: 0.8120\n",
      "\t eval r2: 0.0355\n",
      "==============================\n",
      "Epoch 3 elapsed: 0.047s\n"
     ]
    },
    {
     "name": "stderr",
     "output_type": "stream",
     "text": [
      "eval_pred: 100%|██████████████████████████████████████████████████████████████████████| 15/15 [00:00<00:00, 406.49it/s]\n"
     ]
    },
    {
     "name": "stdout",
     "output_type": "stream",
     "text": [
      "\t eval rmse: 0.9991\n",
      "\t eval mae: 0.8025\n",
      "\t eval r2: 0.0564\n",
      "==============================\n",
      "Epoch 4 elapsed: 0.039s\n"
     ]
    },
    {
     "name": "stderr",
     "output_type": "stream",
     "text": [
      "eval_pred: 100%|██████████████████████████████████████████████████████████████████████| 15/15 [00:00<00:00, 283.73it/s]"
     ]
    },
    {
     "name": "stdout",
     "output_type": "stream",
     "text": [
      "\t eval rmse: 0.9961\n",
      "\t eval mae: 0.7997\n"
     ]
    },
    {
     "name": "stderr",
     "output_type": "stream",
     "text": [
      "\n"
     ]
    },
    {
     "name": "stdout",
     "output_type": "stream",
     "text": [
      "\t eval r2: 0.0620\n",
      "==============================\n",
      "Epoch 5 elapsed: 0.047s\n"
     ]
    },
    {
     "name": "stderr",
     "output_type": "stream",
     "text": [
      "eval_pred: 100%|██████████████████████████████████████████████████████████████████████| 15/15 [00:00<00:00, 246.57it/s]\n"
     ]
    },
    {
     "name": "stdout",
     "output_type": "stream",
     "text": [
      "\t eval rmse: 0.9936\n",
      "\t eval mae: 0.7969\n",
      "\t eval r2: 0.0667\n",
      "==============================\n",
      "Training start time: \u001b[35m2022-07-19 18:17:53\u001b[0m\n",
      "Epoch 1 elapsed: 0.041s\n"
     ]
    },
    {
     "name": "stderr",
     "output_type": "stream",
     "text": [
      "eval_pred: 100%|██████████████████████████████████████████████████████████████████████| 15/15 [00:00<00:00, 366.81it/s]"
     ]
    },
    {
     "name": "stdout",
     "output_type": "stream",
     "text": [
      "\t eval rmse: 1.0283\n",
      "\t eval mae: 0.8377\n",
      "\t eval r2: 0.0003\n",
      "=============================="
     ]
    },
    {
     "name": "stderr",
     "output_type": "stream",
     "text": [
      "\n"
     ]
    },
    {
     "name": "stdout",
     "output_type": "stream",
     "text": [
      "\n",
      "Epoch 2 elapsed: 0.041s\n"
     ]
    },
    {
     "name": "stderr",
     "output_type": "stream",
     "text": [
      "eval_pred: 100%|██████████████████████████████████████████████████████████████████████| 15/15 [00:00<00:00, 259.31it/s]"
     ]
    },
    {
     "name": "stdout",
     "output_type": "stream",
     "text": [
      "\t eval rmse: 1.0101\n",
      "\t eval mae: 0.8120\n"
     ]
    },
    {
     "name": "stderr",
     "output_type": "stream",
     "text": [
      "\n"
     ]
    },
    {
     "name": "stdout",
     "output_type": "stream",
     "text": [
      "\t eval r2: 0.0355\n",
      "==============================\n",
      "Epoch 3 elapsed: 0.050s\n"
     ]
    },
    {
     "name": "stderr",
     "output_type": "stream",
     "text": [
      "eval_pred: 100%|██████████████████████████████████████████████████████████████████████| 15/15 [00:00<00:00, 345.25it/s]"
     ]
    },
    {
     "name": "stdout",
     "output_type": "stream",
     "text": [
      "\t eval rmse: 0.9991\n"
     ]
    },
    {
     "name": "stderr",
     "output_type": "stream",
     "text": [
      "\n"
     ]
    },
    {
     "name": "stdout",
     "output_type": "stream",
     "text": [
      "\t eval mae: 0.8025\n",
      "\t eval r2: 0.0564\n",
      "==============================\n",
      "Epoch 4 elapsed: 0.041s\n"
     ]
    },
    {
     "name": "stderr",
     "output_type": "stream",
     "text": [
      "eval_pred: 100%|██████████████████████████████████████████████████████████████████████| 15/15 [00:00<00:00, 288.86it/s]"
     ]
    },
    {
     "name": "stdout",
     "output_type": "stream",
     "text": [
      "\t eval rmse: 0.9961\n",
      "\t eval mae: 0.7997\n"
     ]
    },
    {
     "name": "stderr",
     "output_type": "stream",
     "text": [
      "\n"
     ]
    },
    {
     "name": "stdout",
     "output_type": "stream",
     "text": [
      "\t eval r2: 0.0620\n",
      "==============================\n",
      "Epoch 5 elapsed: 0.038s\n"
     ]
    },
    {
     "name": "stderr",
     "output_type": "stream",
     "text": [
      "eval_pred: 100%|██████████████████████████████████████████████████████████████████████| 15/15 [00:00<00:00, 300.79it/s]\n"
     ]
    },
    {
     "name": "stdout",
     "output_type": "stream",
     "text": [
      "\t eval rmse: 0.9936\n",
      "\t eval mae: 0.7969\n",
      "\t eval r2: 0.0667\n",
      "==============================\n",
      "Training start time: \u001b[35m2022-07-19 18:17:54\u001b[0m\n",
      "Epoch 1 elapsed: 0.036s\n"
     ]
    },
    {
     "name": "stderr",
     "output_type": "stream",
     "text": [
      "eval_pred: 100%|██████████████████████████████████████████████████████████████████████| 15/15 [00:00<00:00, 303.36it/s]"
     ]
    },
    {
     "name": "stdout",
     "output_type": "stream",
     "text": [
      "\t eval rmse: 1.0283\n",
      "\t eval mae: 0.8377\n",
      "\t eval r2: 0.0003\n",
      "==============================\n"
     ]
    },
    {
     "name": "stderr",
     "output_type": "stream",
     "text": [
      "\n"
     ]
    },
    {
     "name": "stdout",
     "output_type": "stream",
     "text": [
      "Epoch 2 elapsed: 0.043s\n"
     ]
    },
    {
     "name": "stderr",
     "output_type": "stream",
     "text": [
      "eval_pred: 100%|██████████████████████████████████████████████████████████████████████| 15/15 [00:00<00:00, 366.83it/s]\n"
     ]
    },
    {
     "name": "stdout",
     "output_type": "stream",
     "text": [
      "\t eval rmse: 1.0101\n",
      "\t eval mae: 0.8120\n",
      "\t eval r2: 0.0355\n",
      "==============================\n",
      "Epoch 3 elapsed: 0.040s\n"
     ]
    },
    {
     "name": "stderr",
     "output_type": "stream",
     "text": [
      "eval_pred: 100%|██████████████████████████████████████████████████████████████████████| 15/15 [00:00<00:00, 310.37it/s]\n"
     ]
    },
    {
     "name": "stdout",
     "output_type": "stream",
     "text": [
      "\t eval rmse: 0.9991\n",
      "\t eval mae: 0.8025\n",
      "\t eval r2: 0.0564\n",
      "==============================\n",
      "Epoch 4 elapsed: 0.045s\n"
     ]
    },
    {
     "name": "stderr",
     "output_type": "stream",
     "text": [
      "eval_pred: 100%|██████████████████████████████████████████████████████████████████████| 15/15 [00:00<00:00, 268.57it/s]"
     ]
    },
    {
     "name": "stdout",
     "output_type": "stream",
     "text": [
      "\t eval rmse: 0.9961\n"
     ]
    },
    {
     "name": "stderr",
     "output_type": "stream",
     "text": [
      "\n"
     ]
    },
    {
     "name": "stdout",
     "output_type": "stream",
     "text": [
      "\t eval mae: 0.7997\n",
      "\t eval r2: 0.0620\n",
      "==============================\n",
      "Epoch 5 elapsed: 0.069s\n"
     ]
    },
    {
     "name": "stderr",
     "output_type": "stream",
     "text": [
      "eval_pred: 100%|██████████████████████████████████████████████████████████████████████| 15/15 [00:00<00:00, 280.71it/s]\n"
     ]
    },
    {
     "name": "stdout",
     "output_type": "stream",
     "text": [
      "\t eval rmse: 0.9936\n",
      "\t eval mae: 0.7969\n",
      "\t eval r2: 0.0667\n",
      "==============================\n",
      "Training start time: \u001b[35m2022-07-19 18:17:55\u001b[0m\n",
      "Epoch 1 elapsed: 0.087s\n"
     ]
    },
    {
     "name": "stderr",
     "output_type": "stream",
     "text": [
      "eval_pred: 100%|██████████████████████████████████████████████████████████████████████| 15/15 [00:00<00:00, 417.79it/s]"
     ]
    },
    {
     "name": "stdout",
     "output_type": "stream",
     "text": [
      "\t eval rmse: 1.0452\n"
     ]
    },
    {
     "name": "stderr",
     "output_type": "stream",
     "text": [
      "\n"
     ]
    },
    {
     "name": "stdout",
     "output_type": "stream",
     "text": [
      "\t eval mae: 0.8477\n",
      "\t eval r2: -0.0328\n",
      "==============================\n",
      "Epoch 2 elapsed: 0.061s\n"
     ]
    },
    {
     "name": "stderr",
     "output_type": "stream",
     "text": [
      "eval_pred: 100%|██████████████████████████████████████████████████████████████████████| 15/15 [00:00<00:00, 200.53it/s]"
     ]
    },
    {
     "name": "stdout",
     "output_type": "stream",
     "text": [
      "\t eval rmse: 1.0214\n"
     ]
    },
    {
     "name": "stderr",
     "output_type": "stream",
     "text": [
      "\n"
     ]
    },
    {
     "name": "stdout",
     "output_type": "stream",
     "text": [
      "\t eval mae: 0.8209\n",
      "\t eval r2: 0.0139\n",
      "==============================\n",
      "Epoch 3 elapsed: 0.102s\n"
     ]
    },
    {
     "name": "stderr",
     "output_type": "stream",
     "text": [
      "eval_pred: 100%|██████████████████████████████████████████████████████████████████████| 15/15 [00:00<00:00, 395.80it/s]\n"
     ]
    },
    {
     "name": "stdout",
     "output_type": "stream",
     "text": [
      "\t eval rmse: 1.0091\n",
      "\t eval mae: 0.8072\n",
      "\t eval r2: 0.0373\n",
      "==============================\n",
      "Epoch 4 elapsed: 0.075s\n"
     ]
    },
    {
     "name": "stderr",
     "output_type": "stream",
     "text": [
      "eval_pred: 100%|██████████████████████████████████████████████████████████████████████| 15/15 [00:00<00:00, 225.32it/s]\n"
     ]
    },
    {
     "name": "stdout",
     "output_type": "stream",
     "text": [
      "\t eval rmse: 1.0025\n",
      "\t eval mae: 0.7995\n",
      "\t eval r2: 0.0500\n",
      "==============================\n",
      "Epoch 5 elapsed: 0.064s\n"
     ]
    },
    {
     "name": "stderr",
     "output_type": "stream",
     "text": [
      "eval_pred: 100%|██████████████████████████████████████████████████████████████████████| 15/15 [00:00<00:00, 234.99it/s]\n"
     ]
    },
    {
     "name": "stdout",
     "output_type": "stream",
     "text": [
      "\t eval rmse: 0.9983\n",
      "\t eval mae: 0.7948\n",
      "\t eval r2: 0.0579\n",
      "==============================\n",
      "Training start time: \u001b[35m2022-07-19 18:17:57\u001b[0m\n",
      "Epoch 1 elapsed: 0.062s\n"
     ]
    },
    {
     "name": "stderr",
     "output_type": "stream",
     "text": [
      "eval_pred: 100%|██████████████████████████████████████████████████████████████████████| 15/15 [00:00<00:00, 268.57it/s]"
     ]
    },
    {
     "name": "stdout",
     "output_type": "stream",
     "text": [
      "\t eval rmse: 1.0452\n"
     ]
    },
    {
     "name": "stderr",
     "output_type": "stream",
     "text": [
      "\n"
     ]
    },
    {
     "name": "stdout",
     "output_type": "stream",
     "text": [
      "\t eval mae: 0.8477\n",
      "\t eval r2: -0.0328\n",
      "==============================\n",
      "Epoch 2 elapsed: 0.102s\n"
     ]
    },
    {
     "name": "stderr",
     "output_type": "stream",
     "text": [
      "eval_pred: 100%|██████████████████████████████████████████████████████████████████████| 15/15 [00:00<00:00, 270.59it/s]\n"
     ]
    },
    {
     "name": "stdout",
     "output_type": "stream",
     "text": [
      "\t eval rmse: 1.0214\n",
      "\t eval mae: 0.8209\n",
      "\t eval r2: 0.0139\n",
      "==============================\n",
      "Epoch 3 elapsed: 0.062s\n"
     ]
    },
    {
     "name": "stderr",
     "output_type": "stream",
     "text": [
      "eval_pred: 100%|██████████████████████████████████████████████████████████████████████| 15/15 [00:00<00:00, 217.97it/s]\n"
     ]
    },
    {
     "name": "stdout",
     "output_type": "stream",
     "text": [
      "\t eval rmse: 1.0091\n",
      "\t eval mae: 0.8072\n",
      "\t eval r2: 0.0373\n",
      "==============================\n",
      "Epoch 4 elapsed: 0.071s\n"
     ]
    },
    {
     "name": "stderr",
     "output_type": "stream",
     "text": [
      "eval_pred: 100%|██████████████████████████████████████████████████████████████████████| 15/15 [00:00<00:00, 306.91it/s]\n"
     ]
    },
    {
     "name": "stdout",
     "output_type": "stream",
     "text": [
      "\t eval rmse: 1.0025\n",
      "\t eval mae: 0.7995\n",
      "\t eval r2: 0.0500\n",
      "==============================\n",
      "Epoch 5 elapsed: 0.068s\n"
     ]
    },
    {
     "name": "stderr",
     "output_type": "stream",
     "text": [
      "eval_pred: 100%|██████████████████████████████████████████████████████████████████████| 15/15 [00:00<00:00, 313.33it/s]\n"
     ]
    },
    {
     "name": "stdout",
     "output_type": "stream",
     "text": [
      "\t eval rmse: 0.9983\n",
      "\t eval mae: 0.7948\n",
      "\t eval r2: 0.0579\n",
      "==============================\n",
      "Training start time: \u001b[35m2022-07-19 18:17:58\u001b[0m\n",
      "Epoch 1 elapsed: 0.070s\n"
     ]
    },
    {
     "name": "stderr",
     "output_type": "stream",
     "text": [
      "eval_pred: 100%|██████████████████████████████████████████████████████████████████████| 15/15 [00:00<00:00, 271.72it/s]"
     ]
    },
    {
     "name": "stdout",
     "output_type": "stream",
     "text": [
      "\t eval rmse: 1.0452\n"
     ]
    },
    {
     "name": "stderr",
     "output_type": "stream",
     "text": [
      "\n"
     ]
    },
    {
     "name": "stdout",
     "output_type": "stream",
     "text": [
      "\t eval mae: 0.8477\n",
      "\t eval r2: -0.0328\n",
      "==============================\n",
      "Epoch 2 elapsed: 0.066s\n"
     ]
    },
    {
     "name": "stderr",
     "output_type": "stream",
     "text": [
      "eval_pred: 100%|██████████████████████████████████████████████████████████████████████| 15/15 [00:00<00:00, 349.69it/s]"
     ]
    },
    {
     "name": "stdout",
     "output_type": "stream",
     "text": [
      "\t eval rmse: 1.0214\n"
     ]
    },
    {
     "name": "stderr",
     "output_type": "stream",
     "text": [
      "\n"
     ]
    },
    {
     "name": "stdout",
     "output_type": "stream",
     "text": [
      "\t eval mae: 0.8209\n",
      "\t eval r2: 0.0139\n",
      "==============================\n",
      "Epoch 3 elapsed: 0.068s\n"
     ]
    },
    {
     "name": "stderr",
     "output_type": "stream",
     "text": [
      "eval_pred: 100%|██████████████████████████████████████████████████████████████████████| 15/15 [00:00<00:00, 197.89it/s]\n"
     ]
    },
    {
     "name": "stdout",
     "output_type": "stream",
     "text": [
      "\t eval rmse: 1.0091\n",
      "\t eval mae: 0.8072\n",
      "\t eval r2: 0.0373\n",
      "==============================\n",
      "Epoch 4 elapsed: 0.074s\n"
     ]
    },
    {
     "name": "stderr",
     "output_type": "stream",
     "text": [
      "eval_pred: 100%|██████████████████████████████████████████████████████████████████████| 15/15 [00:00<00:00, 300.80it/s]\n"
     ]
    },
    {
     "name": "stdout",
     "output_type": "stream",
     "text": [
      "\t eval rmse: 1.0025\n",
      "\t eval mae: 0.7995\n",
      "\t eval r2: 0.0500\n",
      "==============================\n",
      "Epoch 5 elapsed: 0.060s\n"
     ]
    },
    {
     "name": "stderr",
     "output_type": "stream",
     "text": [
      "eval_pred: 100%|██████████████████████████████████████████████████████████████████████| 15/15 [00:00<00:00, 275.37it/s]\n"
     ]
    },
    {
     "name": "stdout",
     "output_type": "stream",
     "text": [
      "\t eval rmse: 0.9983\n",
      "\t eval mae: 0.7948\n",
      "\t eval r2: 0.0579\n",
      "==============================\n",
      "Training start time: \u001b[35m2022-07-19 18:18:00\u001b[0m\n",
      "Epoch 1 elapsed: 0.074s\n"
     ]
    },
    {
     "name": "stderr",
     "output_type": "stream",
     "text": [
      "eval_pred: 100%|██████████████████████████████████████████████████████████████████████| 15/15 [00:00<00:00, 242.29it/s]\n"
     ]
    },
    {
     "name": "stdout",
     "output_type": "stream",
     "text": [
      "\t eval rmse: 1.0452\n",
      "\t eval mae: 0.8477\n",
      "\t eval r2: -0.0328\n",
      "==============================\n",
      "Epoch 2 elapsed: 0.062s\n"
     ]
    },
    {
     "name": "stderr",
     "output_type": "stream",
     "text": [
      "eval_pred: 100%|██████████████████████████████████████████████████████████████████████| 15/15 [00:00<00:00, 261.13it/s]\n"
     ]
    },
    {
     "name": "stdout",
     "output_type": "stream",
     "text": [
      "\t eval rmse: 1.0214\n",
      "\t eval mae: 0.8209\n",
      "\t eval r2: 0.0139\n",
      "==============================\n",
      "Epoch 3 elapsed: 0.103s\n"
     ]
    },
    {
     "name": "stderr",
     "output_type": "stream",
     "text": [
      "eval_pred: 100%|██████████████████████████████████████████████████████████████████████| 15/15 [00:00<00:00, 306.92it/s]\n"
     ]
    },
    {
     "name": "stdout",
     "output_type": "stream",
     "text": [
      "\t eval rmse: 1.0091\n",
      "\t eval mae: 0.8072\n",
      "\t eval r2: 0.0373\n",
      "==============================\n",
      "Epoch 4 elapsed: 0.098s\n"
     ]
    },
    {
     "name": "stderr",
     "output_type": "stream",
     "text": [
      "eval_pred: 100%|██████████████████████████████████████████████████████████████████████| 15/15 [00:00<00:00, 231.96it/s]\n"
     ]
    },
    {
     "name": "stdout",
     "output_type": "stream",
     "text": [
      "\t eval rmse: 1.0025\n",
      "\t eval mae: 0.7995\n",
      "\t eval r2: 0.0500\n",
      "==============================\n",
      "Epoch 5 elapsed: 0.065s\n"
     ]
    },
    {
     "name": "stderr",
     "output_type": "stream",
     "text": [
      "eval_pred: 100%|██████████████████████████████████████████████████████████████████████| 15/15 [00:00<00:00, 238.72it/s]\n"
     ]
    },
    {
     "name": "stdout",
     "output_type": "stream",
     "text": [
      "\t eval rmse: 0.9983\n",
      "\t eval mae: 0.7948\n",
      "\t eval r2: 0.0579\n",
      "==============================\n",
      "Training start time: \u001b[35m2022-07-19 18:18:01\u001b[0m\n",
      "Epoch 1 elapsed: 0.066s\n"
     ]
    },
    {
     "name": "stderr",
     "output_type": "stream",
     "text": [
      "eval_pred: 100%|██████████████████████████████████████████████████████████████████████| 15/15 [00:00<00:00, 366.85it/s]"
     ]
    },
    {
     "name": "stdout",
     "output_type": "stream",
     "text": [
      "\t eval rmse: 1.0452\n",
      "\t eval mae: 0.8477\n"
     ]
    },
    {
     "name": "stderr",
     "output_type": "stream",
     "text": [
      "\n"
     ]
    },
    {
     "name": "stdout",
     "output_type": "stream",
     "text": [
      "\t eval r2: -0.0328\n",
      "==============================\n",
      "Epoch 2 elapsed: 0.086s\n"
     ]
    },
    {
     "name": "stderr",
     "output_type": "stream",
     "text": [
      "eval_pred: 100%|██████████████████████████████████████████████████████████████████████| 15/15 [00:00<00:00, 263.82it/s]"
     ]
    },
    {
     "name": "stdout",
     "output_type": "stream",
     "text": [
      "\t eval rmse: 1.0214\n"
     ]
    },
    {
     "name": "stderr",
     "output_type": "stream",
     "text": [
      "\n"
     ]
    },
    {
     "name": "stdout",
     "output_type": "stream",
     "text": [
      "\t eval mae: 0.8209\n",
      "\t eval r2: 0.0139\n",
      "==============================\n",
      "Epoch 3 elapsed: 0.064s\n"
     ]
    },
    {
     "name": "stderr",
     "output_type": "stream",
     "text": [
      "eval_pred: 100%|██████████████████████████████████████████████████████████████████████| 15/15 [00:00<00:00, 258.03it/s]"
     ]
    },
    {
     "name": "stdout",
     "output_type": "stream",
     "text": [
      "\t eval rmse: 1.0091\n"
     ]
    },
    {
     "name": "stderr",
     "output_type": "stream",
     "text": [
      "\n"
     ]
    },
    {
     "name": "stdout",
     "output_type": "stream",
     "text": [
      "\t eval mae: 0.8072\n",
      "\t eval r2: 0.0373\n",
      "==============================\n",
      "Epoch 4 elapsed: 0.079s\n"
     ]
    },
    {
     "name": "stderr",
     "output_type": "stream",
     "text": [
      "eval_pred: 100%|██████████████████████████████████████████████████████████████████████| 15/15 [00:00<00:00, 263.86it/s]\n"
     ]
    },
    {
     "name": "stdout",
     "output_type": "stream",
     "text": [
      "\t eval rmse: 1.0025\n",
      "\t eval mae: 0.7995\n",
      "\t eval r2: 0.0500\n",
      "==============================\n",
      "Epoch 5 elapsed: 0.079s\n"
     ]
    },
    {
     "name": "stderr",
     "output_type": "stream",
     "text": [
      "eval_pred: 100%|██████████████████████████████████████████████████████████████████████| 15/15 [00:00<00:00, 334.23it/s]\n"
     ]
    },
    {
     "name": "stdout",
     "output_type": "stream",
     "text": [
      "\t eval rmse: 0.9983\n",
      "\t eval mae: 0.7948\n",
      "\t eval r2: 0.0579\n",
      "==============================\n",
      "Training start time: \u001b[35m2022-07-19 18:18:03\u001b[0m\n",
      "Epoch 1 elapsed: 0.065s\n"
     ]
    },
    {
     "name": "stderr",
     "output_type": "stream",
     "text": [
      "eval_pred: 100%|██████████████████████████████████████████████████████████████████████| 15/15 [00:00<00:00, 313.34it/s]"
     ]
    },
    {
     "name": "stdout",
     "output_type": "stream",
     "text": [
      "\t eval rmse: 1.0426\n",
      "\t eval mae: 0.8453\n"
     ]
    },
    {
     "name": "stderr",
     "output_type": "stream",
     "text": [
      "\n"
     ]
    },
    {
     "name": "stdout",
     "output_type": "stream",
     "text": [
      "\t eval r2: -0.0276\n",
      "==============================\n",
      "Epoch 2 elapsed: 0.071s\n"
     ]
    },
    {
     "name": "stderr",
     "output_type": "stream",
     "text": [
      "eval_pred: 100%|██████████████████████████████████████████████████████████████████████| 15/15 [00:00<00:00, 294.87it/s]"
     ]
    },
    {
     "name": "stdout",
     "output_type": "stream",
     "text": [
      "\t eval rmse: 1.0200\n"
     ]
    },
    {
     "name": "stderr",
     "output_type": "stream",
     "text": [
      "\n"
     ]
    },
    {
     "name": "stdout",
     "output_type": "stream",
     "text": [
      "\t eval mae: 0.8194\n",
      "\t eval r2: 0.0164\n",
      "==============================\n",
      "Epoch 3 elapsed: 0.075s\n"
     ]
    },
    {
     "name": "stderr",
     "output_type": "stream",
     "text": [
      "eval_pred: 100%|██████████████████████████████████████████████████████████████████████| 15/15 [00:00<00:00, 341.83it/s]\n"
     ]
    },
    {
     "name": "stdout",
     "output_type": "stream",
     "text": [
      "\t eval rmse: 1.0089\n",
      "\t eval mae: 0.8070\n",
      "\t eval r2: 0.0377\n",
      "==============================\n",
      "Epoch 4 elapsed: 0.062s\n"
     ]
    },
    {
     "name": "stderr",
     "output_type": "stream",
     "text": [
      "eval_pred: 100%|██████████████████████████████████████████████████████████████████████| 15/15 [00:00<00:00, 221.17it/s]\n"
     ]
    },
    {
     "name": "stdout",
     "output_type": "stream",
     "text": [
      "\t eval rmse: 1.0025\n",
      "\t eval mae: 0.7995\n",
      "\t eval r2: 0.0500\n",
      "==============================\n",
      "Epoch 5 elapsed: 0.074s\n"
     ]
    },
    {
     "name": "stderr",
     "output_type": "stream",
     "text": [
      "eval_pred: 100%|██████████████████████████████████████████████████████████████████████| 15/15 [00:00<00:00, 293.40it/s]\n"
     ]
    },
    {
     "name": "stdout",
     "output_type": "stream",
     "text": [
      "\t eval rmse: 0.9984\n",
      "\t eval mae: 0.7949\n",
      "\t eval r2: 0.0578\n",
      "==============================\n",
      "Training start time: \u001b[35m2022-07-19 18:18:04\u001b[0m\n",
      "Epoch 1 elapsed: 0.064s\n"
     ]
    },
    {
     "name": "stderr",
     "output_type": "stream",
     "text": [
      "eval_pred: 100%|██████████████████████████████████████████████████████████████████████| 15/15 [00:00<00:00, 291.83it/s]"
     ]
    },
    {
     "name": "stdout",
     "output_type": "stream",
     "text": [
      "\t eval rmse: 1.0426\n",
      "\t eval mae: 0.8453\n"
     ]
    },
    {
     "name": "stderr",
     "output_type": "stream",
     "text": [
      "\n"
     ]
    },
    {
     "name": "stdout",
     "output_type": "stream",
     "text": [
      "\t eval r2: -0.0276\n",
      "==============================\n",
      "Epoch 2 elapsed: 0.072s\n"
     ]
    },
    {
     "name": "stderr",
     "output_type": "stream",
     "text": [
      "eval_pred: 100%|██████████████████████████████████████████████████████████████████████| 15/15 [00:00<00:00, 313.30it/s]"
     ]
    },
    {
     "name": "stdout",
     "output_type": "stream",
     "text": [
      "\t eval rmse: 1.0200\n"
     ]
    },
    {
     "name": "stderr",
     "output_type": "stream",
     "text": [
      "\n"
     ]
    },
    {
     "name": "stdout",
     "output_type": "stream",
     "text": [
      "\t eval mae: 0.8194\n",
      "\t eval r2: 0.0164\n",
      "==============================\n",
      "Epoch 3 elapsed: 0.065s\n"
     ]
    },
    {
     "name": "stderr",
     "output_type": "stream",
     "text": [
      "eval_pred: 100%|██████████████████████████████████████████████████████████████████████| 15/15 [00:00<00:00, 300.69it/s]\n"
     ]
    },
    {
     "name": "stdout",
     "output_type": "stream",
     "text": [
      "\t eval rmse: 1.0089\n",
      "\t eval mae: 0.8070\n",
      "\t eval r2: 0.0377\n",
      "==============================\n",
      "Epoch 4 elapsed: 0.067s\n"
     ]
    },
    {
     "name": "stderr",
     "output_type": "stream",
     "text": [
      "eval_pred: 100%|██████████████████████████████████████████████████████████████████████| 15/15 [00:00<00:00, 300.79it/s]\n"
     ]
    },
    {
     "name": "stdout",
     "output_type": "stream",
     "text": [
      "\t eval rmse: 1.0025\n",
      "\t eval mae: 0.7995\n",
      "\t eval r2: 0.0500\n",
      "==============================\n",
      "Epoch 5 elapsed: 0.064s\n"
     ]
    },
    {
     "name": "stderr",
     "output_type": "stream",
     "text": [
      "eval_pred: 100%|██████████████████████████████████████████████████████████████████████| 15/15 [00:00<00:00, 283.39it/s]\n"
     ]
    },
    {
     "name": "stdout",
     "output_type": "stream",
     "text": [
      "\t eval rmse: 0.9984\n",
      "\t eval mae: 0.7949\n",
      "\t eval r2: 0.0578\n",
      "==============================\n",
      "Training start time: \u001b[35m2022-07-19 18:18:05\u001b[0m\n",
      "Epoch 1 elapsed: 0.081s\n"
     ]
    },
    {
     "name": "stderr",
     "output_type": "stream",
     "text": [
      "eval_pred: 100%|██████████████████████████████████████████████████████████████████████| 15/15 [00:00<00:00, 429.72it/s]"
     ]
    },
    {
     "name": "stdout",
     "output_type": "stream",
     "text": [
      "\t eval rmse: 1.0426\n"
     ]
    },
    {
     "name": "stderr",
     "output_type": "stream",
     "text": [
      "\n"
     ]
    },
    {
     "name": "stdout",
     "output_type": "stream",
     "text": [
      "\t eval mae: 0.8453\n",
      "\t eval r2: -0.0276\n",
      "==============================\n",
      "Epoch 2 elapsed: 0.073s\n"
     ]
    },
    {
     "name": "stderr",
     "output_type": "stream",
     "text": [
      "eval_pred: 100%|██████████████████████████████████████████████████████████████████████| 15/15 [00:00<00:00, 273.53it/s]\n"
     ]
    },
    {
     "name": "stdout",
     "output_type": "stream",
     "text": [
      "\t eval rmse: 1.0200\n",
      "\t eval mae: 0.8194\n",
      "\t eval r2: 0.0164\n",
      "==============================\n",
      "Epoch 3 elapsed: 0.081s\n"
     ]
    },
    {
     "name": "stderr",
     "output_type": "stream",
     "text": [
      "eval_pred: 100%|██████████████████████████████████████████████████████████████████████| 15/15 [00:00<00:00, 358.10it/s]\n"
     ]
    },
    {
     "name": "stdout",
     "output_type": "stream",
     "text": [
      "\t eval rmse: 1.0089\n",
      "\t eval mae: 0.8070\n",
      "\t eval r2: 0.0377\n",
      "==============================\n",
      "Epoch 4 elapsed: 0.081s\n"
     ]
    },
    {
     "name": "stderr",
     "output_type": "stream",
     "text": [
      "eval_pred: 100%|██████████████████████████████████████████████████████████████████████| 15/15 [00:00<00:00, 417.78it/s]\n"
     ]
    },
    {
     "name": "stdout",
     "output_type": "stream",
     "text": [
      "\t eval rmse: 1.0025\n",
      "\t eval mae: 0.7995\n",
      "\t eval r2: 0.0500\n",
      "==============================\n",
      "Epoch 5 elapsed: 0.066s\n"
     ]
    },
    {
     "name": "stderr",
     "output_type": "stream",
     "text": [
      "eval_pred: 100%|██████████████████████████████████████████████████████████████████████| 15/15 [00:00<00:00, 380.24it/s]\n"
     ]
    },
    {
     "name": "stdout",
     "output_type": "stream",
     "text": [
      "\t eval rmse: 0.9984\n",
      "\t eval mae: 0.7949\n",
      "\t eval r2: 0.0578\n",
      "==============================\n",
      "Training start time: \u001b[35m2022-07-19 18:18:07\u001b[0m\n",
      "Epoch 1 elapsed: 0.065s\n"
     ]
    },
    {
     "name": "stderr",
     "output_type": "stream",
     "text": [
      "eval_pred: 100%|██████████████████████████████████████████████████████████████████████| 15/15 [00:00<00:00, 313.34it/s]"
     ]
    },
    {
     "name": "stdout",
     "output_type": "stream",
     "text": [
      "\t eval rmse: 1.0426\n"
     ]
    },
    {
     "name": "stderr",
     "output_type": "stream",
     "text": [
      "\n"
     ]
    },
    {
     "name": "stdout",
     "output_type": "stream",
     "text": [
      "\t eval mae: 0.8453\n",
      "\t eval r2: -0.0276\n",
      "==============================\n",
      "Epoch 2 elapsed: 0.074s\n"
     ]
    },
    {
     "name": "stderr",
     "output_type": "stream",
     "text": [
      "eval_pred: 100%|██████████████████████████████████████████████████████████████████████| 15/15 [00:00<00:00, 294.86it/s]\n"
     ]
    },
    {
     "name": "stdout",
     "output_type": "stream",
     "text": [
      "\t eval rmse: 1.0200\n",
      "\t eval mae: 0.8194\n",
      "\t eval r2: 0.0164\n",
      "==============================\n",
      "Epoch 3 elapsed: 0.060s\n"
     ]
    },
    {
     "name": "stderr",
     "output_type": "stream",
     "text": [
      "eval_pred: 100%|██████████████████████████████████████████████████████████████████████| 15/15 [00:00<00:00, 319.98it/s]\n"
     ]
    },
    {
     "name": "stdout",
     "output_type": "stream",
     "text": [
      "\t eval rmse: 1.0089\n",
      "\t eval mae: 0.8070\n",
      "\t eval r2: 0.0377\n",
      "==============================\n",
      "Epoch 4 elapsed: 0.062s\n"
     ]
    },
    {
     "name": "stderr",
     "output_type": "stream",
     "text": [
      "eval_pred: 100%|██████████████████████████████████████████████████████████████████████| 15/15 [00:00<00:00, 300.81it/s]"
     ]
    },
    {
     "name": "stdout",
     "output_type": "stream",
     "text": [
      "\t eval rmse: 1.0025\n"
     ]
    },
    {
     "name": "stderr",
     "output_type": "stream",
     "text": [
      "\n"
     ]
    },
    {
     "name": "stdout",
     "output_type": "stream",
     "text": [
      "\t eval mae: 0.7995\n",
      "\t eval r2: 0.0500\n",
      "==============================\n",
      "Epoch 5 elapsed: 0.070s\n"
     ]
    },
    {
     "name": "stderr",
     "output_type": "stream",
     "text": [
      "eval_pred: 100%|██████████████████████████████████████████████████████████████████████| 15/15 [00:00<00:00, 395.77it/s]\n"
     ]
    },
    {
     "name": "stdout",
     "output_type": "stream",
     "text": [
      "\t eval rmse: 0.9984\n",
      "\t eval mae: 0.7949\n",
      "\t eval r2: 0.0578\n",
      "==============================\n",
      "Training start time: \u001b[35m2022-07-19 18:18:08\u001b[0m\n",
      "Epoch 1 elapsed: 0.068s\n"
     ]
    },
    {
     "name": "stderr",
     "output_type": "stream",
     "text": [
      "eval_pred: 100%|██████████████████████████████████████████████████████████████████████| 15/15 [00:00<00:00, 400.94it/s]"
     ]
    },
    {
     "name": "stdout",
     "output_type": "stream",
     "text": [
      "\t eval rmse: 1.0426\n",
      "\t eval mae: 0.8453\n"
     ]
    },
    {
     "name": "stderr",
     "output_type": "stream",
     "text": [
      "\n"
     ]
    },
    {
     "name": "stdout",
     "output_type": "stream",
     "text": [
      "\t eval r2: -0.0276\n",
      "==============================\n",
      "Epoch 2 elapsed: 0.064s\n"
     ]
    },
    {
     "name": "stderr",
     "output_type": "stream",
     "text": [
      "eval_pred: 100%|██████████████████████████████████████████████████████████████████████| 15/15 [00:00<00:00, 435.83it/s]\n"
     ]
    },
    {
     "name": "stdout",
     "output_type": "stream",
     "text": [
      "\t eval rmse: 1.0200\n",
      "\t eval mae: 0.8194\n",
      "\t eval r2: 0.0164\n",
      "==============================\n",
      "Epoch 3 elapsed: 0.074s\n"
     ]
    },
    {
     "name": "stderr",
     "output_type": "stream",
     "text": [
      "eval_pred: 100%|██████████████████████████████████████████████████████████████████████| 15/15 [00:00<00:00, 395.70it/s]"
     ]
    },
    {
     "name": "stdout",
     "output_type": "stream",
     "text": [
      "\t eval rmse: 1.0089\n"
     ]
    },
    {
     "name": "stderr",
     "output_type": "stream",
     "text": [
      "\n"
     ]
    },
    {
     "name": "stdout",
     "output_type": "stream",
     "text": [
      "\t eval mae: 0.8070\n",
      "\t eval r2: 0.0377\n",
      "==============================\n",
      "Epoch 4 elapsed: 0.064s\n"
     ]
    },
    {
     "name": "stderr",
     "output_type": "stream",
     "text": [
      "eval_pred: 100%|██████████████████████████████████████████████████████████████████████| 15/15 [00:00<00:00, 358.08it/s]"
     ]
    },
    {
     "name": "stdout",
     "output_type": "stream",
     "text": [
      "\t eval rmse: 1.0025\n"
     ]
    },
    {
     "name": "stderr",
     "output_type": "stream",
     "text": [
      "\n"
     ]
    },
    {
     "name": "stdout",
     "output_type": "stream",
     "text": [
      "\t eval mae: 0.7995\n",
      "\t eval r2: 0.0500\n",
      "==============================\n",
      "Epoch 5 elapsed: 0.069s\n"
     ]
    },
    {
     "name": "stderr",
     "output_type": "stream",
     "text": [
      "eval_pred: 100%|██████████████████████████████████████████████████████████████████████| 15/15 [00:00<00:00, 341.87it/s]\n"
     ]
    },
    {
     "name": "stdout",
     "output_type": "stream",
     "text": [
      "\t eval rmse: 0.9984\n",
      "\t eval mae: 0.7949\n",
      "\t eval r2: 0.0578\n",
      "==============================\n",
      "Training start time: \u001b[35m2022-07-19 18:18:09\u001b[0m\n",
      "Epoch 1 elapsed: 0.067s\n"
     ]
    },
    {
     "name": "stderr",
     "output_type": "stream",
     "text": [
      "eval_pred: 100%|██████████████████████████████████████████████████████████████████████| 15/15 [00:00<00:00, 385.68it/s]"
     ]
    },
    {
     "name": "stdout",
     "output_type": "stream",
     "text": [
      "\t eval rmse: 1.0416\n",
      "\t eval mae: 0.8446\n"
     ]
    },
    {
     "name": "stderr",
     "output_type": "stream",
     "text": [
      "\n"
     ]
    },
    {
     "name": "stdout",
     "output_type": "stream",
     "text": [
      "\t eval r2: -0.0257\n",
      "==============================\n",
      "Epoch 2 elapsed: 0.063s\n"
     ]
    },
    {
     "name": "stderr",
     "output_type": "stream",
     "text": [
      "eval_pred: 100%|██████████████████████████████████████████████████████████████████████| 15/15 [00:00<00:00, 366.20it/s]"
     ]
    },
    {
     "name": "stdout",
     "output_type": "stream",
     "text": [
      "\t eval rmse: 1.0196\n",
      "\t eval mae: 0.8192\n",
      "\t eval r2: 0.0172\n",
      "=============================="
     ]
    },
    {
     "name": "stderr",
     "output_type": "stream",
     "text": [
      "\n"
     ]
    },
    {
     "name": "stdout",
     "output_type": "stream",
     "text": [
      "\n",
      "Epoch 3 elapsed: 0.073s\n"
     ]
    },
    {
     "name": "stderr",
     "output_type": "stream",
     "text": [
      "eval_pred: 100%|██████████████████████████████████████████████████████████████████████| 15/15 [00:00<00:00, 358.08it/s]"
     ]
    },
    {
     "name": "stdout",
     "output_type": "stream",
     "text": [
      "\t eval rmse: 1.0088\n"
     ]
    },
    {
     "name": "stderr",
     "output_type": "stream",
     "text": [
      "\n"
     ]
    },
    {
     "name": "stdout",
     "output_type": "stream",
     "text": [
      "\t eval mae: 0.8071\n",
      "\t eval r2: 0.0380\n",
      "==============================\n",
      "Epoch 4 elapsed: 0.073s\n"
     ]
    },
    {
     "name": "stderr",
     "output_type": "stream",
     "text": [
      "eval_pred: 100%|██████████████████████████████████████████████████████████████████████| 15/15 [00:00<00:00, 402.54it/s]\n"
     ]
    },
    {
     "name": "stdout",
     "output_type": "stream",
     "text": [
      "\t eval rmse: 1.0023\n",
      "\t eval mae: 0.7996\n",
      "\t eval r2: 0.0503\n",
      "==============================\n",
      "Epoch 5 elapsed: 0.063s\n"
     ]
    },
    {
     "name": "stderr",
     "output_type": "stream",
     "text": [
      "eval_pred: 100%|██████████████████████████████████████████████████████████████████████| 15/15 [00:00<00:00, 297.63it/s]"
     ]
    },
    {
     "name": "stdout",
     "output_type": "stream",
     "text": [
      "\t eval rmse: 0.9982\n"
     ]
    },
    {
     "name": "stderr",
     "output_type": "stream",
     "text": [
      "\n"
     ]
    },
    {
     "name": "stdout",
     "output_type": "stream",
     "text": [
      "\t eval mae: 0.7950\n",
      "\t eval r2: 0.0581\n",
      "==============================\n",
      "Training start time: \u001b[35m2022-07-19 18:18:11\u001b[0m\n",
      "Epoch 1 elapsed: 0.114s\n"
     ]
    },
    {
     "name": "stderr",
     "output_type": "stream",
     "text": [
      "eval_pred: 100%|██████████████████████████████████████████████████████████████████████| 15/15 [00:00<00:00, 138.96it/s]\n"
     ]
    },
    {
     "name": "stdout",
     "output_type": "stream",
     "text": [
      "\t eval rmse: 1.0416\n",
      "\t eval mae: 0.8446\n",
      "\t eval r2: -0.0257\n",
      "==============================\n",
      "Epoch 2 elapsed: 0.111s\n"
     ]
    },
    {
     "name": "stderr",
     "output_type": "stream",
     "text": [
      "eval_pred: 100%|██████████████████████████████████████████████████████████████████████| 15/15 [00:00<00:00, 171.59it/s]"
     ]
    },
    {
     "name": "stdout",
     "output_type": "stream",
     "text": [
      "\t eval rmse: 1.0196\n",
      "\t eval mae: 0.8192\n",
      "\t eval r2: 0.0172\n",
      "==============================\n"
     ]
    },
    {
     "name": "stderr",
     "output_type": "stream",
     "text": [
      "\n"
     ]
    },
    {
     "name": "stdout",
     "output_type": "stream",
     "text": [
      "Epoch 3 elapsed: 0.068s\n"
     ]
    },
    {
     "name": "stderr",
     "output_type": "stream",
     "text": [
      "eval_pred: 100%|██████████████████████████████████████████████████████████████████████| 15/15 [00:00<00:00, 249.71it/s]"
     ]
    },
    {
     "name": "stdout",
     "output_type": "stream",
     "text": [
      "\t eval rmse: 1.0088\n",
      "\t eval mae: 0.8071\n",
      "\t eval r2: 0.0380\n",
      "==============================\n",
      "Epoch 4 elapsed: 0.067s\n"
     ]
    },
    {
     "name": "stderr",
     "output_type": "stream",
     "text": [
      "\n",
      "eval_pred: 100%|██████████████████████████████████████████████████████████████████████| 15/15 [00:00<00:00, 469.94it/s]\n"
     ]
    },
    {
     "name": "stdout",
     "output_type": "stream",
     "text": [
      "\t eval rmse: 1.0023\n",
      "\t eval mae: 0.7996\n",
      "\t eval r2: 0.0503\n",
      "==============================\n",
      "Epoch 5 elapsed: 0.075s\n"
     ]
    },
    {
     "name": "stderr",
     "output_type": "stream",
     "text": [
      "eval_pred: 100%|██████████████████████████████████████████████████████████████████████| 15/15 [00:00<00:00, 289.20it/s]\n"
     ]
    },
    {
     "name": "stdout",
     "output_type": "stream",
     "text": [
      "\t eval rmse: 0.9982\n",
      "\t eval mae: 0.7950\n",
      "\t eval r2: 0.0581\n",
      "==============================\n",
      "Training start time: \u001b[35m2022-07-19 18:18:12\u001b[0m\n",
      "Epoch 1 elapsed: 0.062s\n"
     ]
    },
    {
     "name": "stderr",
     "output_type": "stream",
     "text": [
      "eval_pred: 100%|██████████████████████████████████████████████████████████████████████| 15/15 [00:00<00:00, 224.48it/s]"
     ]
    },
    {
     "name": "stdout",
     "output_type": "stream",
     "text": [
      "\t eval rmse: 1.0416\n",
      "\t eval mae: 0.8446\n"
     ]
    },
    {
     "name": "stderr",
     "output_type": "stream",
     "text": [
      "\n"
     ]
    },
    {
     "name": "stdout",
     "output_type": "stream",
     "text": [
      "\t eval r2: -0.0257\n",
      "==============================\n",
      "Epoch 2 elapsed: 0.077s\n"
     ]
    },
    {
     "name": "stderr",
     "output_type": "stream",
     "text": [
      "eval_pred: 100%|██████████████████████████████████████████████████████████████████████| 15/15 [00:00<00:00, 306.96it/s]\n"
     ]
    },
    {
     "name": "stdout",
     "output_type": "stream",
     "text": [
      "\t eval rmse: 1.0196\n",
      "\t eval mae: 0.8192\n",
      "\t eval r2: 0.0172\n",
      "==============================\n",
      "Epoch 3 elapsed: 0.062s\n"
     ]
    },
    {
     "name": "stderr",
     "output_type": "stream",
     "text": [
      "eval_pred: 100%|██████████████████████████████████████████████████████████████████████| 15/15 [00:00<00:00, 273.45it/s]"
     ]
    },
    {
     "name": "stdout",
     "output_type": "stream",
     "text": [
      "\t eval rmse: 1.0088\n"
     ]
    },
    {
     "name": "stderr",
     "output_type": "stream",
     "text": [
      "\n"
     ]
    },
    {
     "name": "stdout",
     "output_type": "stream",
     "text": [
      "\t eval mae: 0.8071\n",
      "\t eval r2: 0.0380\n",
      "==============================\n",
      "Epoch 4 elapsed: 0.074s\n"
     ]
    },
    {
     "name": "stderr",
     "output_type": "stream",
     "text": [
      "eval_pred: 100%|██████████████████████████████████████████████████████████████████████| 15/15 [00:00<00:00, 341.77it/s]"
     ]
    },
    {
     "name": "stdout",
     "output_type": "stream",
     "text": [
      "\t eval rmse: 1.0023\n"
     ]
    },
    {
     "name": "stderr",
     "output_type": "stream",
     "text": [
      "\n"
     ]
    },
    {
     "name": "stdout",
     "output_type": "stream",
     "text": [
      "\t eval mae: 0.7996\n",
      "\t eval r2: 0.0503\n",
      "==============================\n",
      "Epoch 5 elapsed: 0.066s\n"
     ]
    },
    {
     "name": "stderr",
     "output_type": "stream",
     "text": [
      "eval_pred: 100%|██████████████████████████████████████████████████████████████████████| 15/15 [00:00<00:00, 283.77it/s]\n"
     ]
    },
    {
     "name": "stdout",
     "output_type": "stream",
     "text": [
      "\t eval rmse: 0.9982\n",
      "\t eval mae: 0.7950\n",
      "\t eval r2: 0.0581\n",
      "==============================\n",
      "Training start time: \u001b[35m2022-07-19 18:18:14\u001b[0m\n",
      "Epoch 1 elapsed: 0.090s\n"
     ]
    },
    {
     "name": "stderr",
     "output_type": "stream",
     "text": [
      "eval_pred: 100%|██████████████████████████████████████████████████████████████████████| 15/15 [00:00<00:00, 366.84it/s]\n"
     ]
    },
    {
     "name": "stdout",
     "output_type": "stream",
     "text": [
      "\t eval rmse: 1.0416\n",
      "\t eval mae: 0.8446\n",
      "\t eval r2: -0.0257\n",
      "==============================\n",
      "Epoch 2 elapsed: 0.068s\n"
     ]
    },
    {
     "name": "stderr",
     "output_type": "stream",
     "text": [
      "eval_pred: 100%|██████████████████████████████████████████████████████████████████████| 15/15 [00:00<00:00, 319.96it/s]\n"
     ]
    },
    {
     "name": "stdout",
     "output_type": "stream",
     "text": [
      "\t eval rmse: 1.0196\n",
      "\t eval mae: 0.8192\n",
      "\t eval r2: 0.0172\n",
      "==============================\n",
      "Epoch 3 elapsed: 0.065s\n"
     ]
    },
    {
     "name": "stderr",
     "output_type": "stream",
     "text": [
      "eval_pred: 100%|██████████████████████████████████████████████████████████████████████| 15/15 [00:00<00:00, 366.80it/s]\n"
     ]
    },
    {
     "name": "stdout",
     "output_type": "stream",
     "text": [
      "\t eval rmse: 1.0088\n",
      "\t eval mae: 0.8071\n",
      "\t eval r2: 0.0380\n",
      "==============================\n",
      "Epoch 4 elapsed: 0.078s\n"
     ]
    },
    {
     "name": "stderr",
     "output_type": "stream",
     "text": [
      "eval_pred: 100%|██████████████████████████████████████████████████████████████████████| 15/15 [00:00<00:00, 349.44it/s]\n"
     ]
    },
    {
     "name": "stdout",
     "output_type": "stream",
     "text": [
      "\t eval rmse: 1.0023\n",
      "\t eval mae: 0.7996\n",
      "\t eval r2: 0.0503\n",
      "==============================\n",
      "Epoch 5 elapsed: 0.108s\n"
     ]
    },
    {
     "name": "stderr",
     "output_type": "stream",
     "text": [
      "eval_pred: 100%|██████████████████████████████████████████████████████████████████████| 15/15 [00:00<00:00, 259.31it/s]\n"
     ]
    },
    {
     "name": "stdout",
     "output_type": "stream",
     "text": [
      "\t eval rmse: 0.9982\n",
      "\t eval mae: 0.7950\n",
      "\t eval r2: 0.0581\n",
      "==============================\n",
      "Training start time: \u001b[35m2022-07-19 18:18:16\u001b[0m\n",
      "Epoch 1 elapsed: 0.080s\n"
     ]
    },
    {
     "name": "stderr",
     "output_type": "stream",
     "text": [
      "eval_pred: 100%|██████████████████████████████████████████████████████████████████████| 15/15 [00:00<00:00, 275.79it/s]\n"
     ]
    },
    {
     "name": "stdout",
     "output_type": "stream",
     "text": [
      "\t eval rmse: 1.0416\n",
      "\t eval mae: 0.8446\n",
      "\t eval r2: -0.0257\n",
      "==============================\n",
      "Epoch 2 elapsed: 0.098s\n"
     ]
    },
    {
     "name": "stderr",
     "output_type": "stream",
     "text": [
      "eval_pred: 100%|██████████████████████████████████████████████████████████████████████| 15/15 [00:00<00:00, 313.28it/s]\n"
     ]
    },
    {
     "name": "stdout",
     "output_type": "stream",
     "text": [
      "\t eval rmse: 1.0196\n",
      "\t eval mae: 0.8192\n",
      "\t eval r2: 0.0172\n",
      "==============================\n",
      "Epoch 3 elapsed: 0.086s\n"
     ]
    },
    {
     "name": "stderr",
     "output_type": "stream",
     "text": [
      "eval_pred: 100%|██████████████████████████████████████████████████████████████████████| 15/15 [00:00<00:00, 246.56it/s]\n"
     ]
    },
    {
     "name": "stdout",
     "output_type": "stream",
     "text": [
      "\t eval rmse: 1.0088\n",
      "\t eval mae: 0.8071\n",
      "\t eval r2: 0.0380\n",
      "==============================\n",
      "Epoch 4 elapsed: 0.091s\n"
     ]
    },
    {
     "name": "stderr",
     "output_type": "stream",
     "text": [
      "eval_pred: 100%|██████████████████████████████████████████████████████████████████████| 15/15 [00:00<00:00, 470.02it/s]\n"
     ]
    },
    {
     "name": "stdout",
     "output_type": "stream",
     "text": [
      "\t eval rmse: 1.0023\n",
      "\t eval mae: 0.7996\n",
      "\t eval r2: 0.0503\n",
      "==============================\n",
      "Epoch 5 elapsed: 0.105s\n"
     ]
    },
    {
     "name": "stderr",
     "output_type": "stream",
     "text": [
      "eval_pred: 100%|██████████████████████████████████████████████████████████████████████| 15/15 [00:00<00:00, 406.48it/s]\n"
     ]
    },
    {
     "name": "stdout",
     "output_type": "stream",
     "text": [
      "\t eval rmse: 0.9982\n",
      "\t eval mae: 0.7950\n",
      "\t eval r2: 0.0581\n",
      "==============================\n",
      "Training start time: \u001b[35m2022-07-19 18:18:17\u001b[0m\n",
      "Epoch 1 elapsed: 0.116s\n"
     ]
    },
    {
     "name": "stderr",
     "output_type": "stream",
     "text": [
      "eval_pred: 100%|██████████████████████████████████████████████████████████████████████| 15/15 [00:00<00:00, 176.92it/s]\n"
     ]
    },
    {
     "name": "stdout",
     "output_type": "stream",
     "text": [
      "\t eval rmse: 1.0308\n",
      "\t eval mae: 0.8387\n",
      "\t eval r2: -0.0045\n",
      "==============================\n",
      "Epoch 2 elapsed: 0.098s\n"
     ]
    },
    {
     "name": "stderr",
     "output_type": "stream",
     "text": [
      "eval_pred: 100%|██████████████████████████████████████████████████████████████████████| 15/15 [00:00<00:00, 291.86it/s]\n"
     ]
    },
    {
     "name": "stdout",
     "output_type": "stream",
     "text": [
      "\t eval rmse: 1.0131\n",
      "\t eval mae: 0.8146\n",
      "\t eval r2: 0.0297\n",
      "==============================\n",
      "Epoch 3 elapsed: 0.100s\n"
     ]
    },
    {
     "name": "stderr",
     "output_type": "stream",
     "text": [
      "eval_pred: 100%|██████████████████████████████████████████████████████████████████████| 15/15 [00:00<00:00, 395.79it/s]\n"
     ]
    },
    {
     "name": "stdout",
     "output_type": "stream",
     "text": [
      "\t eval rmse: 1.0032\n",
      "\t eval mae: 0.8034\n",
      "\t eval r2: 0.0486\n",
      "==============================\n",
      "Epoch 4 elapsed: 0.102s\n"
     ]
    },
    {
     "name": "stderr",
     "output_type": "stream",
     "text": [
      "eval_pred: 100%|██████████████████████████████████████████████████████████████████████| 15/15 [00:00<00:00, 376.00it/s]\n"
     ]
    },
    {
     "name": "stdout",
     "output_type": "stream",
     "text": [
      "\t eval rmse: 0.9973\n",
      "\t eval mae: 0.7967\n",
      "\t eval r2: 0.0597\n",
      "==============================\n",
      "Epoch 5 elapsed: 0.097s\n"
     ]
    },
    {
     "name": "stderr",
     "output_type": "stream",
     "text": [
      "eval_pred: 100%|██████████████████████████████████████████████████████████████████████| 15/15 [00:00<00:00, 214.53it/s]\n"
     ]
    },
    {
     "name": "stdout",
     "output_type": "stream",
     "text": [
      "\t eval rmse: 0.9935\n",
      "\t eval mae: 0.7924\n",
      "\t eval r2: 0.0669\n",
      "==============================\n",
      "Training start time: \u001b[35m2022-07-19 18:18:19\u001b[0m\n",
      "Epoch 1 elapsed: 0.078s\n"
     ]
    },
    {
     "name": "stderr",
     "output_type": "stream",
     "text": [
      "eval_pred: 100%|██████████████████████████████████████████████████████████████████████| 15/15 [00:00<00:00, 376.00it/s]"
     ]
    },
    {
     "name": "stdout",
     "output_type": "stream",
     "text": [
      "\t eval rmse: 1.0308\n"
     ]
    },
    {
     "name": "stderr",
     "output_type": "stream",
     "text": [
      "\n"
     ]
    },
    {
     "name": "stdout",
     "output_type": "stream",
     "text": [
      "\t eval mae: 0.8387\n",
      "\t eval r2: -0.0045\n",
      "==============================\n",
      "Epoch 2 elapsed: 0.066s\n"
     ]
    },
    {
     "name": "stderr",
     "output_type": "stream",
     "text": [
      "eval_pred: 100%|██████████████████████████████████████████████████████████████████████| 15/15 [00:00<00:00, 306.92it/s]"
     ]
    },
    {
     "name": "stdout",
     "output_type": "stream",
     "text": [
      "\t eval rmse: 1.0131\n"
     ]
    },
    {
     "name": "stderr",
     "output_type": "stream",
     "text": [
      "\n"
     ]
    },
    {
     "name": "stdout",
     "output_type": "stream",
     "text": [
      "\t eval mae: 0.8146\n",
      "\t eval r2: 0.0297\n",
      "==============================\n",
      "Epoch 3 elapsed: 0.069s\n"
     ]
    },
    {
     "name": "stderr",
     "output_type": "stream",
     "text": [
      "eval_pred: 100%|██████████████████████████████████████████████████████████████████████| 15/15 [00:00<00:00, 339.11it/s]\n"
     ]
    },
    {
     "name": "stdout",
     "output_type": "stream",
     "text": [
      "\t eval rmse: 1.0032\n",
      "\t eval mae: 0.8034\n",
      "\t eval r2: 0.0486\n",
      "==============================\n",
      "Epoch 4 elapsed: 0.079s\n"
     ]
    },
    {
     "name": "stderr",
     "output_type": "stream",
     "text": [
      "eval_pred: 100%|██████████████████████████████████████████████████████████████████████| 15/15 [00:00<00:00, 366.86it/s]\n"
     ]
    },
    {
     "name": "stdout",
     "output_type": "stream",
     "text": [
      "\t eval rmse: 0.9973\n",
      "\t eval mae: 0.7967\n",
      "\t eval r2: 0.0597\n",
      "==============================\n",
      "Epoch 5 elapsed: 0.071s\n"
     ]
    },
    {
     "name": "stderr",
     "output_type": "stream",
     "text": [
      "eval_pred: 100%|██████████████████████████████████████████████████████████████████████| 15/15 [00:00<00:00, 341.82it/s]\n"
     ]
    },
    {
     "name": "stdout",
     "output_type": "stream",
     "text": [
      "\t eval rmse: 0.9935\n",
      "\t eval mae: 0.7924\n",
      "\t eval r2: 0.0669\n",
      "==============================\n",
      "Training start time: \u001b[35m2022-07-19 18:18:20\u001b[0m\n",
      "Epoch 1 elapsed: 0.071s\n"
     ]
    },
    {
     "name": "stderr",
     "output_type": "stream",
     "text": [
      "eval_pred: 100%|██████████████████████████████████████████████████████████████████████| 15/15 [00:00<00:00, 286.14it/s]"
     ]
    },
    {
     "name": "stdout",
     "output_type": "stream",
     "text": [
      "\t eval rmse: 1.0308\n"
     ]
    },
    {
     "name": "stderr",
     "output_type": "stream",
     "text": [
      "\n"
     ]
    },
    {
     "name": "stdout",
     "output_type": "stream",
     "text": [
      "\t eval mae: 0.8387\n",
      "\t eval r2: -0.0045\n",
      "==============================\n",
      "Epoch 2 elapsed: 0.078s\n"
     ]
    },
    {
     "name": "stderr",
     "output_type": "stream",
     "text": [
      "eval_pred: 100%|██████████████████████████████████████████████████████████████████████| 15/15 [00:00<00:00, 406.50it/s]"
     ]
    },
    {
     "name": "stdout",
     "output_type": "stream",
     "text": [
      "\t eval rmse: 1.0131\n"
     ]
    },
    {
     "name": "stderr",
     "output_type": "stream",
     "text": [
      "\n"
     ]
    },
    {
     "name": "stdout",
     "output_type": "stream",
     "text": [
      "\t eval mae: 0.8146\n",
      "\t eval r2: 0.0297\n",
      "==============================\n",
      "Epoch 3 elapsed: 0.074s\n"
     ]
    },
    {
     "name": "stderr",
     "output_type": "stream",
     "text": [
      "eval_pred: 100%|██████████████████████████████████████████████████████████████████████| 15/15 [00:00<00:00, 326.90it/s]\n"
     ]
    },
    {
     "name": "stdout",
     "output_type": "stream",
     "text": [
      "\t eval rmse: 1.0032\n",
      "\t eval mae: 0.8034\n",
      "\t eval r2: 0.0486\n",
      "==============================\n",
      "Epoch 4 elapsed: 0.083s\n"
     ]
    },
    {
     "name": "stderr",
     "output_type": "stream",
     "text": [
      "eval_pred: 100%|██████████████████████████████████████████████████████████████████████| 15/15 [00:00<00:00, 406.49it/s]\n"
     ]
    },
    {
     "name": "stdout",
     "output_type": "stream",
     "text": [
      "\t eval rmse: 0.9973\n",
      "\t eval mae: 0.7967\n",
      "\t eval r2: 0.0597\n",
      "==============================\n",
      "Epoch 5 elapsed: 0.077s\n"
     ]
    },
    {
     "name": "stderr",
     "output_type": "stream",
     "text": [
      "eval_pred: 100%|██████████████████████████████████████████████████████████████████████| 15/15 [00:00<00:00, 266.90it/s]"
     ]
    },
    {
     "name": "stdout",
     "output_type": "stream",
     "text": [
      "\t eval rmse: 0.9935\n"
     ]
    },
    {
     "name": "stderr",
     "output_type": "stream",
     "text": [
      "\n"
     ]
    },
    {
     "name": "stdout",
     "output_type": "stream",
     "text": [
      "\t eval mae: 0.7924\n",
      "\t eval r2: 0.0669\n",
      "==============================\n",
      "Training start time: \u001b[35m2022-07-19 18:18:21\u001b[0m\n",
      "Epoch 1 elapsed: 0.069s\n"
     ]
    },
    {
     "name": "stderr",
     "output_type": "stream",
     "text": [
      "eval_pred: 100%|██████████████████████████████████████████████████████████████████████| 15/15 [00:00<00:00, 358.04it/s]"
     ]
    },
    {
     "name": "stdout",
     "output_type": "stream",
     "text": [
      "\t eval rmse: 1.0308\n",
      "\t eval mae: 0.8387\n"
     ]
    },
    {
     "name": "stderr",
     "output_type": "stream",
     "text": [
      "\n"
     ]
    },
    {
     "name": "stdout",
     "output_type": "stream",
     "text": [
      "\t eval r2: -0.0045\n",
      "==============================\n",
      "Epoch 2 elapsed: 0.066s\n"
     ]
    },
    {
     "name": "stderr",
     "output_type": "stream",
     "text": [
      "eval_pred: 100%|██████████████████████████████████████████████████████████████████████| 15/15 [00:00<00:00, 366.83it/s]"
     ]
    },
    {
     "name": "stdout",
     "output_type": "stream",
     "text": [
      "\t eval rmse: 1.0131\n",
      "\t eval mae: 0.8146\n"
     ]
    },
    {
     "name": "stderr",
     "output_type": "stream",
     "text": [
      "\n"
     ]
    },
    {
     "name": "stdout",
     "output_type": "stream",
     "text": [
      "\t eval r2: 0.0297\n",
      "==============================\n",
      "Epoch 3 elapsed: 0.070s\n"
     ]
    },
    {
     "name": "stderr",
     "output_type": "stream",
     "text": [
      "eval_pred: 100%|██████████████████████████████████████████████████████████████████████| 15/15 [00:00<00:00, 278.51it/s]"
     ]
    },
    {
     "name": "stdout",
     "output_type": "stream",
     "text": [
      "\t eval rmse: 1.0032\n"
     ]
    },
    {
     "name": "stderr",
     "output_type": "stream",
     "text": [
      "\n"
     ]
    },
    {
     "name": "stdout",
     "output_type": "stream",
     "text": [
      "\t eval mae: 0.8034\n",
      "\t eval r2: 0.0486\n",
      "==============================\n",
      "Epoch 4 elapsed: 0.071s\n"
     ]
    },
    {
     "name": "stderr",
     "output_type": "stream",
     "text": [
      "eval_pred: 100%|██████████████████████████████████████████████████████████████████████| 15/15 [00:00<00:00, 375.94it/s]"
     ]
    },
    {
     "name": "stdout",
     "output_type": "stream",
     "text": [
      "\t eval rmse: 0.9973\n"
     ]
    },
    {
     "name": "stderr",
     "output_type": "stream",
     "text": [
      "\n"
     ]
    },
    {
     "name": "stdout",
     "output_type": "stream",
     "text": [
      "\t eval mae: 0.7967\n",
      "\t eval r2: 0.0597\n",
      "==============================\n",
      "Epoch 5 elapsed: 0.076s\n"
     ]
    },
    {
     "name": "stderr",
     "output_type": "stream",
     "text": [
      "eval_pred: 100%|██████████████████████████████████████████████████████████████████████| 15/15 [00:00<00:00, 294.24it/s]\n"
     ]
    },
    {
     "name": "stdout",
     "output_type": "stream",
     "text": [
      "\t eval rmse: 0.9935\n",
      "\t eval mae: 0.7924\n",
      "\t eval r2: 0.0669\n",
      "==============================\n",
      "Training start time: \u001b[35m2022-07-19 18:18:23\u001b[0m\n",
      "Epoch 1 elapsed: 0.062s\n"
     ]
    },
    {
     "name": "stderr",
     "output_type": "stream",
     "text": [
      "eval_pred: 100%|██████████████████████████████████████████████████████████████████████| 15/15 [00:00<00:00, 349.77it/s]"
     ]
    },
    {
     "name": "stdout",
     "output_type": "stream",
     "text": [
      "\t eval rmse: 1.0308\n"
     ]
    },
    {
     "name": "stderr",
     "output_type": "stream",
     "text": [
      "\n"
     ]
    },
    {
     "name": "stdout",
     "output_type": "stream",
     "text": [
      "\t eval mae: 0.8387\n",
      "\t eval r2: -0.0045\n",
      "==============================\n",
      "Epoch 2 elapsed: 0.077s\n"
     ]
    },
    {
     "name": "stderr",
     "output_type": "stream",
     "text": [
      "eval_pred: 100%|██████████████████████████████████████████████████████████████████████| 15/15 [00:00<00:00, 353.50it/s]"
     ]
    },
    {
     "name": "stdout",
     "output_type": "stream",
     "text": [
      "\t eval rmse: 1.0131\n"
     ]
    },
    {
     "name": "stderr",
     "output_type": "stream",
     "text": [
      "\n"
     ]
    },
    {
     "name": "stdout",
     "output_type": "stream",
     "text": [
      "\t eval mae: 0.8146\n",
      "\t eval r2: 0.0297\n",
      "==============================\n",
      "Epoch 3 elapsed: 0.068s\n"
     ]
    },
    {
     "name": "stderr",
     "output_type": "stream",
     "text": [
      "eval_pred: 100%|██████████████████████████████████████████████████████████████████████| 15/15 [00:00<00:00, 320.02it/s]"
     ]
    },
    {
     "name": "stdout",
     "output_type": "stream",
     "text": [
      "\t eval rmse: 1.0032\n"
     ]
    },
    {
     "name": "stderr",
     "output_type": "stream",
     "text": [
      "\n"
     ]
    },
    {
     "name": "stdout",
     "output_type": "stream",
     "text": [
      "\t eval mae: 0.8034\n",
      "\t eval r2: 0.0486\n",
      "==============================\n",
      "Epoch 4 elapsed: 0.072s\n"
     ]
    },
    {
     "name": "stderr",
     "output_type": "stream",
     "text": [
      "eval_pred: 100%|██████████████████████████████████████████████████████████████████████| 15/15 [00:00<00:00, 395.72it/s]\n"
     ]
    },
    {
     "name": "stdout",
     "output_type": "stream",
     "text": [
      "\t eval rmse: 0.9973\n",
      "\t eval mae: 0.7967\n",
      "\t eval r2: 0.0597\n",
      "==============================\n",
      "Epoch 5 elapsed: 0.065s\n"
     ]
    },
    {
     "name": "stderr",
     "output_type": "stream",
     "text": [
      "eval_pred: 100%|██████████████████████████████████████████████████████████████████████| 15/15 [00:00<00:00, 316.10it/s]\n"
     ]
    },
    {
     "name": "stdout",
     "output_type": "stream",
     "text": [
      "\t eval rmse: 0.9935\n",
      "\t eval mae: 0.7924\n",
      "\t eval r2: 0.0669\n",
      "==============================\n",
      "Training start time: \u001b[35m2022-07-19 18:18:24\u001b[0m\n",
      "Epoch 1 elapsed: 0.073s\n"
     ]
    },
    {
     "name": "stderr",
     "output_type": "stream",
     "text": [
      "eval_pred: 100%|██████████████████████████████████████████████████████████████████████| 15/15 [00:00<00:00, 323.11it/s]"
     ]
    },
    {
     "name": "stdout",
     "output_type": "stream",
     "text": [
      "\t eval rmse: 1.0282"
     ]
    },
    {
     "name": "stderr",
     "output_type": "stream",
     "text": [
      "\n"
     ]
    },
    {
     "name": "stdout",
     "output_type": "stream",
     "text": [
      "\n",
      "\t eval mae: 0.8377\n",
      "\t eval r2: 0.0007\n",
      "==============================\n",
      "Epoch 2 elapsed: 0.079s\n"
     ]
    },
    {
     "name": "stderr",
     "output_type": "stream",
     "text": [
      "eval_pred: 100%|██████████████████████████████████████████████████████████████████████| 15/15 [00:00<00:00, 349.77it/s]\n"
     ]
    },
    {
     "name": "stdout",
     "output_type": "stream",
     "text": [
      "\t eval rmse: 1.0113\n",
      "\t eval mae: 0.8116\n",
      "\t eval r2: 0.0332\n",
      "==============================\n",
      "Epoch 3 elapsed: 0.072s\n"
     ]
    },
    {
     "name": "stderr",
     "output_type": "stream",
     "text": [
      "eval_pred: 100%|██████████████████████████████████████████████████████████████████████| 15/15 [00:00<00:00, 341.86it/s]\n"
     ]
    },
    {
     "name": "stdout",
     "output_type": "stream",
     "text": [
      "\t eval rmse: 0.9999\n",
      "\t eval mae: 0.8000\n",
      "\t eval r2: 0.0549\n",
      "==============================\n",
      "Epoch 4 elapsed: 0.070s\n"
     ]
    },
    {
     "name": "stderr",
     "output_type": "stream",
     "text": [
      "eval_pred: 100%|██████████████████████████████████████████████████████████████████████| 15/15 [00:00<00:00, 358.08it/s]\n"
     ]
    },
    {
     "name": "stdout",
     "output_type": "stream",
     "text": [
      "\t eval rmse: 0.9940\n",
      "\t eval mae: 0.7939\n",
      "\t eval r2: 0.0660\n",
      "==============================\n",
      "Epoch 5 elapsed: 0.072s\n"
     ]
    },
    {
     "name": "stderr",
     "output_type": "stream",
     "text": [
      "eval_pred: 100%|██████████████████████████████████████████████████████████████████████| 15/15 [00:00<00:00, 345.50it/s]"
     ]
    },
    {
     "name": "stdout",
     "output_type": "stream",
     "text": [
      "\t eval rmse: 0.9905\n"
     ]
    },
    {
     "name": "stderr",
     "output_type": "stream",
     "text": [
      "\n"
     ]
    },
    {
     "name": "stdout",
     "output_type": "stream",
     "text": [
      "\t eval mae: 0.7903\n",
      "\t eval r2: 0.0725\n",
      "==============================\n",
      "Training start time: \u001b[35m2022-07-19 18:18:25\u001b[0m\n",
      "Epoch 1 elapsed: 0.076s\n"
     ]
    },
    {
     "name": "stderr",
     "output_type": "stream",
     "text": [
      "eval_pred: 100%|██████████████████████████████████████████████████████████████████████| 15/15 [00:00<00:00, 395.51it/s]"
     ]
    },
    {
     "name": "stdout",
     "output_type": "stream",
     "text": [
      "\t eval rmse: 1.0282\n"
     ]
    },
    {
     "name": "stderr",
     "output_type": "stream",
     "text": [
      "\n"
     ]
    },
    {
     "name": "stdout",
     "output_type": "stream",
     "text": [
      "\t eval mae: 0.8377\n",
      "\t eval r2: 0.0007\n",
      "==============================\n",
      "Epoch 2 elapsed: 0.064s\n"
     ]
    },
    {
     "name": "stderr",
     "output_type": "stream",
     "text": [
      "eval_pred: 100%|██████████████████████████████████████████████████████████████████████| 15/15 [00:00<00:00, 238.73it/s]"
     ]
    },
    {
     "name": "stdout",
     "output_type": "stream",
     "text": [
      "\t eval rmse: 1.0113\n"
     ]
    },
    {
     "name": "stderr",
     "output_type": "stream",
     "text": [
      "\n"
     ]
    },
    {
     "name": "stdout",
     "output_type": "stream",
     "text": [
      "\t eval mae: 0.8116\n",
      "\t eval r2: 0.0332\n",
      "==============================\n",
      "Epoch 3 elapsed: 0.080s\n"
     ]
    },
    {
     "name": "stderr",
     "output_type": "stream",
     "text": [
      "eval_pred: 100%|██████████████████████████████████████████████████████████████████████| 15/15 [00:00<00:00, 371.23it/s]\n"
     ]
    },
    {
     "name": "stdout",
     "output_type": "stream",
     "text": [
      "\t eval rmse: 0.9999\n",
      "\t eval mae: 0.8000\n",
      "\t eval r2: 0.0549\n",
      "==============================\n",
      "Epoch 4 elapsed: 0.066s\n"
     ]
    },
    {
     "name": "stderr",
     "output_type": "stream",
     "text": [
      "eval_pred: 100%|██████████████████████████████████████████████████████████████████████| 15/15 [00:00<00:00, 351.80it/s]\n"
     ]
    },
    {
     "name": "stdout",
     "output_type": "stream",
     "text": [
      "\t eval rmse: 0.9940\n",
      "\t eval mae: 0.7939\n",
      "\t eval r2: 0.0660\n",
      "==============================\n",
      "Epoch 5 elapsed: 0.078s\n"
     ]
    },
    {
     "name": "stderr",
     "output_type": "stream",
     "text": [
      "eval_pred: 100%|██████████████████████████████████████████████████████████████████████| 15/15 [00:00<00:00, 395.79it/s]\n"
     ]
    },
    {
     "name": "stdout",
     "output_type": "stream",
     "text": [
      "\t eval rmse: 0.9905\n",
      "\t eval mae: 0.7903\n",
      "\t eval r2: 0.0725\n",
      "==============================\n",
      "Training start time: \u001b[35m2022-07-19 18:18:27\u001b[0m\n",
      "Epoch 1 elapsed: 0.067s\n"
     ]
    },
    {
     "name": "stderr",
     "output_type": "stream",
     "text": [
      "eval_pred: 100%|██████████████████████████████████████████████████████████████████████| 15/15 [00:00<00:00, 376.01it/s]"
     ]
    },
    {
     "name": "stdout",
     "output_type": "stream",
     "text": [
      "\t eval rmse: 1.0282\n",
      "\t eval mae: 0.8377\n"
     ]
    },
    {
     "name": "stderr",
     "output_type": "stream",
     "text": [
      "\n"
     ]
    },
    {
     "name": "stdout",
     "output_type": "stream",
     "text": [
      "\t eval r2: 0.0007\n",
      "==============================\n",
      "Epoch 2 elapsed: 0.067s\n"
     ]
    },
    {
     "name": "stderr",
     "output_type": "stream",
     "text": [
      "eval_pred: 100%|██████████████████████████████████████████████████████████████████████| 15/15 [00:00<00:00, 334.12it/s]"
     ]
    },
    {
     "name": "stdout",
     "output_type": "stream",
     "text": [
      "\t eval rmse: 1.0113\n",
      "\t eval mae: 0.8116\n"
     ]
    },
    {
     "name": "stderr",
     "output_type": "stream",
     "text": [
      "\n"
     ]
    },
    {
     "name": "stdout",
     "output_type": "stream",
     "text": [
      "\t eval r2: 0.0332\n",
      "==============================\n",
      "Epoch 3 elapsed: 0.073s\n"
     ]
    },
    {
     "name": "stderr",
     "output_type": "stream",
     "text": [
      "eval_pred: 100%|██████████████████████████████████████████████████████████████████████| 15/15 [00:00<00:00, 319.34it/s]"
     ]
    },
    {
     "name": "stdout",
     "output_type": "stream",
     "text": [
      "\t eval rmse: 0.9999\n"
     ]
    },
    {
     "name": "stderr",
     "output_type": "stream",
     "text": [
      "\n"
     ]
    },
    {
     "name": "stdout",
     "output_type": "stream",
     "text": [
      "\t eval mae: 0.8000\n",
      "\t eval r2: 0.0549\n",
      "==============================\n",
      "Epoch 4 elapsed: 0.094s\n"
     ]
    },
    {
     "name": "stderr",
     "output_type": "stream",
     "text": [
      "eval_pred: 100%|██████████████████████████████████████████████████████████████████████| 15/15 [00:00<00:00, 429.59it/s]\n"
     ]
    },
    {
     "name": "stdout",
     "output_type": "stream",
     "text": [
      "\t eval rmse: 0.9940\n",
      "\t eval mae: 0.7939\n",
      "\t eval r2: 0.0660\n",
      "==============================\n",
      "Epoch 5 elapsed: 0.071s\n"
     ]
    },
    {
     "name": "stderr",
     "output_type": "stream",
     "text": [
      "eval_pred: 100%|██████████████████████████████████████████████████████████████████████| 15/15 [00:00<00:00, 306.94it/s]\n"
     ]
    },
    {
     "name": "stdout",
     "output_type": "stream",
     "text": [
      "\t eval rmse: 0.9905\n",
      "\t eval mae: 0.7903\n",
      "\t eval r2: 0.0725\n",
      "==============================\n",
      "Training start time: \u001b[35m2022-07-19 18:18:28\u001b[0m\n",
      "Epoch 1 elapsed: 0.069s\n"
     ]
    },
    {
     "name": "stderr",
     "output_type": "stream",
     "text": [
      "eval_pred: 100%|██████████████████████████████████████████████████████████████████████| 15/15 [00:00<00:00, 406.50it/s]"
     ]
    },
    {
     "name": "stdout",
     "output_type": "stream",
     "text": [
      "\t eval rmse: 1.0282\n"
     ]
    },
    {
     "name": "stderr",
     "output_type": "stream",
     "text": [
      "\n"
     ]
    },
    {
     "name": "stdout",
     "output_type": "stream",
     "text": [
      "\t eval mae: 0.8377\n",
      "\t eval r2: 0.0007\n",
      "==============================\n",
      "Epoch 2 elapsed: 0.067s\n"
     ]
    },
    {
     "name": "stderr",
     "output_type": "stream",
     "text": [
      "eval_pred: 100%|██████████████████████████████████████████████████████████████████████| 15/15 [00:00<00:00, 326.96it/s]"
     ]
    },
    {
     "name": "stdout",
     "output_type": "stream",
     "text": [
      "\t eval rmse: 1.0113\n"
     ]
    },
    {
     "name": "stderr",
     "output_type": "stream",
     "text": [
      "\n"
     ]
    },
    {
     "name": "stdout",
     "output_type": "stream",
     "text": [
      "\t eval mae: 0.8116\n",
      "\t eval r2: 0.0332\n",
      "==============================\n",
      "Epoch 3 elapsed: 0.067s\n"
     ]
    },
    {
     "name": "stderr",
     "output_type": "stream",
     "text": [
      "eval_pred: 100%|██████████████████████████████████████████████████████████████████████| 15/15 [00:00<00:00, 334.19it/s]\n"
     ]
    },
    {
     "name": "stdout",
     "output_type": "stream",
     "text": [
      "\t eval rmse: 0.9999\n",
      "\t eval mae: 0.8000\n",
      "\t eval r2: 0.0549\n",
      "==============================\n",
      "Epoch 4 elapsed: 0.062s\n"
     ]
    },
    {
     "name": "stderr",
     "output_type": "stream",
     "text": [
      "eval_pred: 100%|██████████████████████████████████████████████████████████████████████| 15/15 [00:00<00:00, 349.76it/s]\n"
     ]
    },
    {
     "name": "stdout",
     "output_type": "stream",
     "text": [
      "\t eval rmse: 0.9940\n",
      "\t eval mae: 0.7939\n",
      "\t eval r2: 0.0660\n",
      "==============================\n",
      "Epoch 5 elapsed: 0.067s\n"
     ]
    },
    {
     "name": "stderr",
     "output_type": "stream",
     "text": [
      "eval_pred: 100%|██████████████████████████████████████████████████████████████████████| 15/15 [00:00<00:00, 341.83it/s]"
     ]
    },
    {
     "name": "stdout",
     "output_type": "stream",
     "text": [
      "\t eval rmse: 0.9905\n"
     ]
    },
    {
     "name": "stderr",
     "output_type": "stream",
     "text": [
      "\n"
     ]
    },
    {
     "name": "stdout",
     "output_type": "stream",
     "text": [
      "\t eval mae: 0.7903\n",
      "\t eval r2: 0.0725\n",
      "==============================\n",
      "Training start time: \u001b[35m2022-07-19 18:18:30\u001b[0m\n",
      "Epoch 1 elapsed: 0.064s\n"
     ]
    },
    {
     "name": "stderr",
     "output_type": "stream",
     "text": [
      "eval_pred: 100%|██████████████████████████████████████████████████████████████████████| 15/15 [00:00<00:00, 366.83it/s]"
     ]
    },
    {
     "name": "stdout",
     "output_type": "stream",
     "text": [
      "\t eval rmse: 1.0282\n",
      "\t eval mae: 0.8377\n"
     ]
    },
    {
     "name": "stderr",
     "output_type": "stream",
     "text": [
      "\n"
     ]
    },
    {
     "name": "stdout",
     "output_type": "stream",
     "text": [
      "\t eval r2: 0.0007\n",
      "==============================\n",
      "Epoch 2 elapsed: 0.063s\n"
     ]
    },
    {
     "name": "stderr",
     "output_type": "stream",
     "text": [
      "eval_pred: 100%|██████████████████████████████████████████████████████████████████████| 15/15 [00:00<00:00, 417.78it/s]\n"
     ]
    },
    {
     "name": "stdout",
     "output_type": "stream",
     "text": [
      "\t eval rmse: 1.0113\n",
      "\t eval mae: 0.8116\n",
      "\t eval r2: 0.0332\n",
      "==============================\n",
      "Epoch 3 elapsed: 0.064s\n"
     ]
    },
    {
     "name": "stderr",
     "output_type": "stream",
     "text": [
      "eval_pred: 100%|██████████████████████████████████████████████████████████████████████| 15/15 [00:00<00:00, 326.96it/s]"
     ]
    },
    {
     "name": "stdout",
     "output_type": "stream",
     "text": [
      "\t eval rmse: 0.9999\n",
      "\t eval mae: 0.8000\n"
     ]
    },
    {
     "name": "stderr",
     "output_type": "stream",
     "text": [
      "\n"
     ]
    },
    {
     "name": "stdout",
     "output_type": "stream",
     "text": [
      "\t eval r2: 0.0549\n",
      "==============================\n",
      "Epoch 4 elapsed: 0.076s\n"
     ]
    },
    {
     "name": "stderr",
     "output_type": "stream",
     "text": [
      "eval_pred: 100%|██████████████████████████████████████████████████████████████████████| 15/15 [00:00<00:00, 371.34it/s]\n"
     ]
    },
    {
     "name": "stdout",
     "output_type": "stream",
     "text": [
      "\t eval rmse: 0.9940\n",
      "\t eval mae: 0.7939\n",
      "\t eval r2: 0.0660\n",
      "==============================\n",
      "Epoch 5 elapsed: 0.069s\n"
     ]
    },
    {
     "name": "stderr",
     "output_type": "stream",
     "text": [
      "eval_pred: 100%|██████████████████████████████████████████████████████████████████████| 15/15 [00:00<00:00, 329.92it/s]\n"
     ]
    },
    {
     "name": "stdout",
     "output_type": "stream",
     "text": [
      "\t eval rmse: 0.9905\n",
      "\t eval mae: 0.7903\n",
      "\t eval r2: 0.0725\n",
      "==============================\n",
      "Training start time: \u001b[35m2022-07-19 18:18:31\u001b[0m\n",
      "Epoch 1 elapsed: 0.119s\n"
     ]
    },
    {
     "name": "stderr",
     "output_type": "stream",
     "text": [
      "eval_pred: 100%|██████████████████████████████████████████████████████████████████████| 15/15 [00:00<00:00, 320.00it/s]\n"
     ]
    },
    {
     "name": "stdout",
     "output_type": "stream",
     "text": [
      "\t eval rmse: 1.0585\n",
      "\t eval mae: 0.8537\n",
      "\t eval r2: -0.0592\n",
      "==============================\n",
      "Epoch 2 elapsed: 0.110s\n"
     ]
    },
    {
     "name": "stderr",
     "output_type": "stream",
     "text": [
      "eval_pred: 100%|██████████████████████████████████████████████████████████████████████| 15/15 [00:00<00:00, 366.84it/s]\n"
     ]
    },
    {
     "name": "stdout",
     "output_type": "stream",
     "text": [
      "\t eval rmse: 1.0384\n",
      "\t eval mae: 0.8290\n",
      "\t eval r2: -0.0194\n",
      "==============================\n",
      "Epoch 3 elapsed: 0.126s\n"
     ]
    },
    {
     "name": "stderr",
     "output_type": "stream",
     "text": [
      "eval_pred: 100%|██████████████████████████████████████████████████████████████████████| 15/15 [00:00<00:00, 376.00it/s]\n"
     ]
    },
    {
     "name": "stdout",
     "output_type": "stream",
     "text": [
      "\t eval rmse: 1.0343\n",
      "\t eval mae: 0.8227\n",
      "\t eval r2: -0.0113\n",
      "==============================\n",
      "Epoch 4 elapsed: 0.124s\n"
     ]
    },
    {
     "name": "stderr",
     "output_type": "stream",
     "text": [
      "eval_pred: 100%|██████████████████████████████████████████████████████████████████████| 15/15 [00:00<00:00, 376.00it/s]\n"
     ]
    },
    {
     "name": "stdout",
     "output_type": "stream",
     "text": [
      "\t eval rmse: 1.0306\n",
      "\t eval mae: 0.8175\n",
      "\t eval r2: -0.0041\n",
      "==============================\n",
      "Epoch 5 elapsed: 0.117s\n"
     ]
    },
    {
     "name": "stderr",
     "output_type": "stream",
     "text": [
      "eval_pred: 100%|██████████████████████████████████████████████████████████████████████| 15/15 [00:00<00:00, 358.07it/s]\n"
     ]
    },
    {
     "name": "stdout",
     "output_type": "stream",
     "text": [
      "\t eval rmse: 1.0274\n",
      "\t eval mae: 0.8130\n",
      "\t eval r2: 0.0021\n",
      "==============================\n",
      "Training start time: \u001b[35m2022-07-19 18:18:32\u001b[0m\n",
      "Epoch 1 elapsed: 0.141s\n"
     ]
    },
    {
     "name": "stderr",
     "output_type": "stream",
     "text": [
      "eval_pred: 100%|██████████████████████████████████████████████████████████████████████| 15/15 [00:00<00:00, 300.80it/s]\n"
     ]
    },
    {
     "name": "stdout",
     "output_type": "stream",
     "text": [
      "\t eval rmse: 1.0585\n",
      "\t eval mae: 0.8537\n",
      "\t eval r2: -0.0592\n",
      "==============================\n",
      "Epoch 2 elapsed: 0.121s\n"
     ]
    },
    {
     "name": "stderr",
     "output_type": "stream",
     "text": [
      "eval_pred: 100%|██████████████████████████████████████████████████████████████████████| 15/15 [00:00<00:00, 303.84it/s]\n"
     ]
    },
    {
     "name": "stdout",
     "output_type": "stream",
     "text": [
      "\t eval rmse: 1.0384\n",
      "\t eval mae: 0.8290\n",
      "\t eval r2: -0.0194\n",
      "==============================\n",
      "Epoch 3 elapsed: 0.139s\n"
     ]
    },
    {
     "name": "stderr",
     "output_type": "stream",
     "text": [
      "eval_pred: 100%|██████████████████████████████████████████████████████████████████████| 15/15 [00:00<00:00, 341.87it/s]\n"
     ]
    },
    {
     "name": "stdout",
     "output_type": "stream",
     "text": [
      "\t eval rmse: 1.0343\n",
      "\t eval mae: 0.8227\n",
      "\t eval r2: -0.0113\n",
      "==============================\n",
      "Epoch 4 elapsed: 0.125s\n"
     ]
    },
    {
     "name": "stderr",
     "output_type": "stream",
     "text": [
      "eval_pred: 100%|██████████████████████████████████████████████████████████████████████| 15/15 [00:00<00:00, 283.77it/s]\n"
     ]
    },
    {
     "name": "stdout",
     "output_type": "stream",
     "text": [
      "\t eval rmse: 1.0306\n",
      "\t eval mae: 0.8175\n",
      "\t eval r2: -0.0041\n",
      "==============================\n",
      "Epoch 5 elapsed: 0.131s\n"
     ]
    },
    {
     "name": "stderr",
     "output_type": "stream",
     "text": [
      "eval_pred: 100%|██████████████████████████████████████████████████████████████████████| 15/15 [00:00<00:00, 376.07it/s]\n"
     ]
    },
    {
     "name": "stdout",
     "output_type": "stream",
     "text": [
      "\t eval rmse: 1.0274\n",
      "\t eval mae: 0.8130\n",
      "\t eval r2: 0.0021\n",
      "==============================\n",
      "Training start time: \u001b[35m2022-07-19 18:18:34\u001b[0m\n",
      "Epoch 1 elapsed: 0.119s\n"
     ]
    },
    {
     "name": "stderr",
     "output_type": "stream",
     "text": [
      "eval_pred: 100%|██████████████████████████████████████████████████████████████████████| 15/15 [00:00<00:00, 306.93it/s]\n"
     ]
    },
    {
     "name": "stdout",
     "output_type": "stream",
     "text": [
      "\t eval rmse: 1.0585\n",
      "\t eval mae: 0.8537\n",
      "\t eval r2: -0.0592\n",
      "==============================\n",
      "Epoch 2 elapsed: 0.128s\n"
     ]
    },
    {
     "name": "stderr",
     "output_type": "stream",
     "text": [
      "eval_pred: 100%|██████████████████████████████████████████████████████████████████████| 15/15 [00:00<00:00, 353.78it/s]\n"
     ]
    },
    {
     "name": "stdout",
     "output_type": "stream",
     "text": [
      "\t eval rmse: 1.0384\n",
      "\t eval mae: 0.8290\n",
      "\t eval r2: -0.0194\n",
      "==============================\n",
      "Epoch 3 elapsed: 0.143s\n"
     ]
    },
    {
     "name": "stderr",
     "output_type": "stream",
     "text": [
      "eval_pred: 100%|██████████████████████████████████████████████████████████████████████| 15/15 [00:00<00:00, 299.03it/s]"
     ]
    },
    {
     "name": "stdout",
     "output_type": "stream",
     "text": [
      "\t eval rmse: 1.0343\n",
      "\t eval mae: 0.8227\n",
      "\t eval r2: -0.0113\n",
      "==============================\n"
     ]
    },
    {
     "name": "stderr",
     "output_type": "stream",
     "text": [
      "\n"
     ]
    },
    {
     "name": "stdout",
     "output_type": "stream",
     "text": [
      "Epoch 4 elapsed: 0.126s\n"
     ]
    },
    {
     "name": "stderr",
     "output_type": "stream",
     "text": [
      "eval_pred: 100%|██████████████████████████████████████████████████████████████████████| 15/15 [00:00<00:00, 237.28it/s]"
     ]
    },
    {
     "name": "stdout",
     "output_type": "stream",
     "text": [
      "\t eval rmse: 1.0306\n",
      "\t eval mae: 0.8175\n",
      "\t eval r2: -0.0041\n",
      "==============================\n"
     ]
    },
    {
     "name": "stderr",
     "output_type": "stream",
     "text": [
      "\n"
     ]
    },
    {
     "name": "stdout",
     "output_type": "stream",
     "text": [
      "Epoch 5 elapsed: 0.130s\n"
     ]
    },
    {
     "name": "stderr",
     "output_type": "stream",
     "text": [
      "eval_pred: 100%|██████████████████████████████████████████████████████████████████████| 15/15 [00:00<00:00, 375.99it/s]"
     ]
    },
    {
     "name": "stdout",
     "output_type": "stream",
     "text": [
      "\t eval rmse: 1.0274\n",
      "\t eval mae: 0.8130\n",
      "\t eval r2: 0.0021\n",
      "==============================\n"
     ]
    },
    {
     "name": "stderr",
     "output_type": "stream",
     "text": [
      "\n"
     ]
    },
    {
     "name": "stdout",
     "output_type": "stream",
     "text": [
      "Training start time: \u001b[35m2022-07-19 18:18:36\u001b[0m\n",
      "Epoch 1 elapsed: 0.111s\n"
     ]
    },
    {
     "name": "stderr",
     "output_type": "stream",
     "text": [
      "eval_pred: 100%|██████████████████████████████████████████████████████████████████████| 15/15 [00:00<00:00, 366.84it/s]\n"
     ]
    },
    {
     "name": "stdout",
     "output_type": "stream",
     "text": [
      "\t eval rmse: 1.0585\n",
      "\t eval mae: 0.8537\n",
      "\t eval r2: -0.0592\n",
      "==============================\n",
      "Epoch 2 elapsed: 0.134s\n"
     ]
    },
    {
     "name": "stderr",
     "output_type": "stream",
     "text": [
      "eval_pred: 100%|██████████████████████████████████████████████████████████████████████| 15/15 [00:00<00:00, 349.78it/s]\n"
     ]
    },
    {
     "name": "stdout",
     "output_type": "stream",
     "text": [
      "\t eval rmse: 1.0384\n",
      "\t eval mae: 0.8290\n",
      "\t eval r2: -0.0194\n",
      "==============================\n",
      "Epoch 3 elapsed: 0.121s\n"
     ]
    },
    {
     "name": "stderr",
     "output_type": "stream",
     "text": [
      "eval_pred: 100%|██████████████████████████████████████████████████████████████████████| 15/15 [00:00<00:00, 376.02it/s]\n"
     ]
    },
    {
     "name": "stdout",
     "output_type": "stream",
     "text": [
      "\t eval rmse: 1.0343\n",
      "\t eval mae: 0.8227\n",
      "\t eval r2: -0.0113\n",
      "==============================\n",
      "Epoch 4 elapsed: 0.126s\n"
     ]
    },
    {
     "name": "stderr",
     "output_type": "stream",
     "text": [
      "eval_pred: 100%|██████████████████████████████████████████████████████████████████████| 15/15 [00:00<00:00, 337.89it/s]\n"
     ]
    },
    {
     "name": "stdout",
     "output_type": "stream",
     "text": [
      "\t eval rmse: 1.0306\n",
      "\t eval mae: 0.8175\n",
      "\t eval r2: -0.0041\n",
      "==============================\n",
      "Epoch 5 elapsed: 0.168s\n"
     ]
    },
    {
     "name": "stderr",
     "output_type": "stream",
     "text": [
      "eval_pred: 100%|██████████████████████████████████████████████████████████████████████| 15/15 [00:00<00:00, 198.81it/s]\n"
     ]
    },
    {
     "name": "stdout",
     "output_type": "stream",
     "text": [
      "\t eval rmse: 1.0274\n",
      "\t eval mae: 0.8130\n",
      "\t eval r2: 0.0021\n",
      "==============================\n",
      "Training start time: \u001b[35m2022-07-19 18:18:37\u001b[0m\n",
      "Epoch 1 elapsed: 0.165s\n"
     ]
    },
    {
     "name": "stderr",
     "output_type": "stream",
     "text": [
      "eval_pred: 100%|██████████████████████████████████████████████████████████████████████| 15/15 [00:00<00:00, 334.24it/s]\n"
     ]
    },
    {
     "name": "stdout",
     "output_type": "stream",
     "text": [
      "\t eval rmse: 1.0585\n",
      "\t eval mae: 0.8537\n",
      "\t eval r2: -0.0592\n",
      "==============================\n",
      "Epoch 2 elapsed: 0.163s\n"
     ]
    },
    {
     "name": "stderr",
     "output_type": "stream",
     "text": [
      "eval_pred: 100%|██████████████████████████████████████████████████████████████████████| 15/15 [00:00<00:00, 211.83it/s]"
     ]
    },
    {
     "name": "stdout",
     "output_type": "stream",
     "text": [
      "\t eval rmse: 1.0384\n",
      "\t eval mae: 0.8290\n",
      "\t eval r2: -0.0194\n",
      "==============================\n"
     ]
    },
    {
     "name": "stderr",
     "output_type": "stream",
     "text": [
      "\n"
     ]
    },
    {
     "name": "stdout",
     "output_type": "stream",
     "text": [
      "Epoch 3 elapsed: 0.163s\n"
     ]
    },
    {
     "name": "stderr",
     "output_type": "stream",
     "text": [
      "eval_pred: 100%|██████████████████████████████████████████████████████████████████████| 15/15 [00:00<00:00, 289.16it/s]"
     ]
    },
    {
     "name": "stdout",
     "output_type": "stream",
     "text": [
      "\t eval rmse: 1.0343\n",
      "\t eval mae: 0.8227\n",
      "\t eval r2: -0.0113\n",
      "==============================\n"
     ]
    },
    {
     "name": "stderr",
     "output_type": "stream",
     "text": [
      "\n"
     ]
    },
    {
     "name": "stdout",
     "output_type": "stream",
     "text": [
      "Epoch 4 elapsed: 0.157s\n"
     ]
    },
    {
     "name": "stderr",
     "output_type": "stream",
     "text": [
      "eval_pred: 100%|██████████████████████████████████████████████████████████████████████| 15/15 [00:00<00:00, 231.39it/s]"
     ]
    },
    {
     "name": "stdout",
     "output_type": "stream",
     "text": [
      "\t eval rmse: 1.0306\n",
      "\t eval mae: 0.8175\n",
      "\t eval r2: -0.0041\n",
      "==============================\n"
     ]
    },
    {
     "name": "stderr",
     "output_type": "stream",
     "text": [
      "\n"
     ]
    },
    {
     "name": "stdout",
     "output_type": "stream",
     "text": [
      "Epoch 5 elapsed: 0.144s\n"
     ]
    },
    {
     "name": "stderr",
     "output_type": "stream",
     "text": [
      "eval_pred: 100%|██████████████████████████████████████████████████████████████████████| 15/15 [00:00<00:00, 244.39it/s]"
     ]
    },
    {
     "name": "stdout",
     "output_type": "stream",
     "text": [
      "\t eval rmse: 1.0274\n",
      "\t eval mae: 0.8130\n",
      "\t eval r2: 0.0021\n",
      "==============================\n"
     ]
    },
    {
     "name": "stderr",
     "output_type": "stream",
     "text": [
      "\n"
     ]
    },
    {
     "name": "stdout",
     "output_type": "stream",
     "text": [
      "Training start time: \u001b[35m2022-07-19 18:18:39\u001b[0m\n",
      "Epoch 1 elapsed: 0.150s\n"
     ]
    },
    {
     "name": "stderr",
     "output_type": "stream",
     "text": [
      "eval_pred: 100%|██████████████████████████████████████████████████████████████████████| 15/15 [00:00<00:00, 294.91it/s]\n"
     ]
    },
    {
     "name": "stdout",
     "output_type": "stream",
     "text": [
      "\t eval rmse: 1.0530\n",
      "\t eval mae: 0.8488\n",
      "\t eval r2: -0.0483\n",
      "==============================\n",
      "Epoch 2 elapsed: 0.141s\n"
     ]
    },
    {
     "name": "stderr",
     "output_type": "stream",
     "text": [
      "eval_pred: 100%|██████████████████████████████████████████████████████████████████████| 15/15 [00:00<00:00, 335.46it/s]\n"
     ]
    },
    {
     "name": "stdout",
     "output_type": "stream",
     "text": [
      "\t eval rmse: 1.0389\n",
      "\t eval mae: 0.8291\n",
      "\t eval r2: -0.0202\n",
      "==============================\n",
      "Epoch 3 elapsed: 0.133s\n"
     ]
    },
    {
     "name": "stderr",
     "output_type": "stream",
     "text": [
      "eval_pred: 100%|██████████████████████████████████████████████████████████████████████| 15/15 [00:00<00:00, 313.34it/s]\n"
     ]
    },
    {
     "name": "stdout",
     "output_type": "stream",
     "text": [
      "\t eval rmse: 1.0350\n",
      "\t eval mae: 0.8231\n",
      "\t eval r2: -0.0126\n",
      "==============================\n",
      "Epoch 4 elapsed: 0.123s\n"
     ]
    },
    {
     "name": "stderr",
     "output_type": "stream",
     "text": [
      "eval_pred: 100%|██████████████████████████████████████████████████████████████████████| 15/15 [00:00<00:00, 390.49it/s]\n"
     ]
    },
    {
     "name": "stdout",
     "output_type": "stream",
     "text": [
      "\t eval rmse: 1.0312\n",
      "\t eval mae: 0.8179\n",
      "\t eval r2: -0.0052\n",
      "==============================\n",
      "Epoch 5 elapsed: 0.143s\n"
     ]
    },
    {
     "name": "stderr",
     "output_type": "stream",
     "text": [
      "eval_pred: 100%|██████████████████████████████████████████████████████████████████████| 15/15 [00:00<00:00, 341.82it/s]"
     ]
    },
    {
     "name": "stdout",
     "output_type": "stream",
     "text": [
      "\t eval rmse: 1.0278\n",
      "\t eval mae: 0.8133\n",
      "\t eval r2: 0.0015\n",
      "==============================\n"
     ]
    },
    {
     "name": "stderr",
     "output_type": "stream",
     "text": [
      "\n"
     ]
    },
    {
     "name": "stdout",
     "output_type": "stream",
     "text": [
      "Training start time: \u001b[35m2022-07-19 18:18:41\u001b[0m\n",
      "Epoch 1 elapsed: 0.123s\n"
     ]
    },
    {
     "name": "stderr",
     "output_type": "stream",
     "text": [
      "eval_pred: 100%|██████████████████████████████████████████████████████████████████████| 15/15 [00:00<00:00, 385.41it/s]\n"
     ]
    },
    {
     "name": "stdout",
     "output_type": "stream",
     "text": [
      "\t eval rmse: 1.0530\n",
      "\t eval mae: 0.8488\n",
      "\t eval r2: -0.0483\n",
      "==============================\n",
      "Epoch 2 elapsed: 0.121s\n"
     ]
    },
    {
     "name": "stderr",
     "output_type": "stream",
     "text": [
      "eval_pred: 100%|██████████████████████████████████████████████████████████████████████| 15/15 [00:00<00:00, 306.94it/s]\n"
     ]
    },
    {
     "name": "stdout",
     "output_type": "stream",
     "text": [
      "\t eval rmse: 1.0389\n",
      "\t eval mae: 0.8291\n",
      "\t eval r2: -0.0202\n",
      "==============================\n",
      "Epoch 3 elapsed: 0.124s\n"
     ]
    },
    {
     "name": "stderr",
     "output_type": "stream",
     "text": [
      "eval_pred: 100%|██████████████████████████████████████████████████████████████████████| 15/15 [00:00<00:00, 316.54it/s]\n"
     ]
    },
    {
     "name": "stdout",
     "output_type": "stream",
     "text": [
      "\t eval rmse: 1.0350\n",
      "\t eval mae: 0.8231\n",
      "\t eval r2: -0.0126\n",
      "==============================\n",
      "Epoch 4 elapsed: 0.151s\n"
     ]
    },
    {
     "name": "stderr",
     "output_type": "stream",
     "text": [
      "eval_pred: 100%|██████████████████████████████████████████████████████████████████████| 15/15 [00:00<00:00, 366.84it/s]\n"
     ]
    },
    {
     "name": "stdout",
     "output_type": "stream",
     "text": [
      "\t eval rmse: 1.0312\n",
      "\t eval mae: 0.8179\n",
      "\t eval r2: -0.0052\n",
      "==============================\n",
      "Epoch 5 elapsed: 0.128s\n"
     ]
    },
    {
     "name": "stderr",
     "output_type": "stream",
     "text": [
      "eval_pred: 100%|██████████████████████████████████████████████████████████████████████| 15/15 [00:00<00:00, 294.79it/s]\n"
     ]
    },
    {
     "name": "stdout",
     "output_type": "stream",
     "text": [
      "\t eval rmse: 1.0278\n",
      "\t eval mae: 0.8133\n",
      "\t eval r2: 0.0015\n",
      "==============================\n",
      "Training start time: \u001b[35m2022-07-19 18:18:43\u001b[0m\n",
      "Epoch 1 elapsed: 0.116s\n"
     ]
    },
    {
     "name": "stderr",
     "output_type": "stream",
     "text": [
      "eval_pred: 100%|██████████████████████████████████████████████████████████████████████| 15/15 [00:00<00:00, 298.28it/s]\n"
     ]
    },
    {
     "name": "stdout",
     "output_type": "stream",
     "text": [
      "\t eval rmse: 1.0530\n",
      "\t eval mae: 0.8488\n",
      "\t eval r2: -0.0483\n",
      "==============================\n",
      "Epoch 2 elapsed: 0.117s\n"
     ]
    },
    {
     "name": "stderr",
     "output_type": "stream",
     "text": [
      "eval_pred: 100%|██████████████████████████████████████████████████████████████████████| 15/15 [00:00<00:00, 246.57it/s]\n"
     ]
    },
    {
     "name": "stdout",
     "output_type": "stream",
     "text": [
      "\t eval rmse: 1.0389\n",
      "\t eval mae: 0.8291\n",
      "\t eval r2: -0.0202\n",
      "==============================\n",
      "Epoch 3 elapsed: 0.169s\n"
     ]
    },
    {
     "name": "stderr",
     "output_type": "stream",
     "text": [
      "eval_pred: 100%|██████████████████████████████████████████████████████████████████████| 15/15 [00:00<00:00, 190.02it/s]"
     ]
    },
    {
     "name": "stdout",
     "output_type": "stream",
     "text": [
      "\t eval rmse: 1.0350\n",
      "\t eval mae: 0.8231\n",
      "\t eval r2: -0.0126\n",
      "=============================="
     ]
    },
    {
     "name": "stderr",
     "output_type": "stream",
     "text": [
      "\n"
     ]
    },
    {
     "name": "stdout",
     "output_type": "stream",
     "text": [
      "\n",
      "Epoch 4 elapsed: 0.223s\n"
     ]
    },
    {
     "name": "stderr",
     "output_type": "stream",
     "text": [
      "eval_pred: 100%|██████████████████████████████████████████████████████████████████████| 15/15 [00:00<00:00, 147.88it/s]"
     ]
    },
    {
     "name": "stdout",
     "output_type": "stream",
     "text": [
      "\t eval rmse: 1.0312\n",
      "\t eval mae: 0.8179\n"
     ]
    },
    {
     "name": "stderr",
     "output_type": "stream",
     "text": [
      "\n"
     ]
    },
    {
     "name": "stdout",
     "output_type": "stream",
     "text": [
      "\t eval r2: -0.0052\n",
      "==============================\n",
      "Epoch 5 elapsed: 0.147s\n"
     ]
    },
    {
     "name": "stderr",
     "output_type": "stream",
     "text": [
      "eval_pred: 100%|██████████████████████████████████████████████████████████████████████| 15/15 [00:00<00:00, 283.77it/s]"
     ]
    },
    {
     "name": "stdout",
     "output_type": "stream",
     "text": [
      "\t eval rmse: 1.0278\n",
      "\t eval mae: 0.8133\n",
      "\t eval r2: 0.0015\n",
      "==============================\n"
     ]
    },
    {
     "name": "stderr",
     "output_type": "stream",
     "text": [
      "\n"
     ]
    },
    {
     "name": "stdout",
     "output_type": "stream",
     "text": [
      "Training start time: \u001b[35m2022-07-19 18:18:45\u001b[0m\n",
      "Epoch 1 elapsed: 0.122s\n"
     ]
    },
    {
     "name": "stderr",
     "output_type": "stream",
     "text": [
      "eval_pred: 100%|██████████████████████████████████████████████████████████████████████| 15/15 [00:00<00:00, 246.56it/s]\n"
     ]
    },
    {
     "name": "stdout",
     "output_type": "stream",
     "text": [
      "\t eval rmse: 1.0530\n",
      "\t eval mae: 0.8488\n",
      "\t eval r2: -0.0483\n",
      "==============================\n",
      "Epoch 2 elapsed: 0.143s\n"
     ]
    },
    {
     "name": "stderr",
     "output_type": "stream",
     "text": [
      "eval_pred: 100%|██████████████████████████████████████████████████████████████████████| 15/15 [00:00<00:00, 273.47it/s]\n"
     ]
    },
    {
     "name": "stdout",
     "output_type": "stream",
     "text": [
      "\t eval rmse: 1.0389\n",
      "\t eval mae: 0.8291\n",
      "\t eval r2: -0.0202\n",
      "==============================\n",
      "Epoch 3 elapsed: 0.137s\n"
     ]
    },
    {
     "name": "stderr",
     "output_type": "stream",
     "text": [
      "eval_pred: 100%|██████████████████████████████████████████████████████████████████████| 15/15 [00:00<00:00, 324.43it/s]\n"
     ]
    },
    {
     "name": "stdout",
     "output_type": "stream",
     "text": [
      "\t eval rmse: 1.0350\n",
      "\t eval mae: 0.8231\n",
      "\t eval r2: -0.0126\n",
      "==============================\n",
      "Epoch 4 elapsed: 0.138s\n"
     ]
    },
    {
     "name": "stderr",
     "output_type": "stream",
     "text": [
      "eval_pred: 100%|██████████████████████████████████████████████████████████████████████| 15/15 [00:00<00:00, 256.67it/s]\n"
     ]
    },
    {
     "name": "stdout",
     "output_type": "stream",
     "text": [
      "\t eval rmse: 1.0312\n",
      "\t eval mae: 0.8179\n",
      "\t eval r2: -0.0052\n",
      "==============================\n",
      "Epoch 5 elapsed: 0.145s\n"
     ]
    },
    {
     "name": "stderr",
     "output_type": "stream",
     "text": [
      "eval_pred: 100%|██████████████████████████████████████████████████████████████████████| 15/15 [00:00<00:00, 294.88it/s]\n"
     ]
    },
    {
     "name": "stdout",
     "output_type": "stream",
     "text": [
      "\t eval rmse: 1.0278\n",
      "\t eval mae: 0.8133\n",
      "\t eval r2: 0.0015\n",
      "==============================\n",
      "Training start time: \u001b[35m2022-07-19 18:18:47\u001b[0m\n",
      "Epoch 1 elapsed: 0.123s\n"
     ]
    },
    {
     "name": "stderr",
     "output_type": "stream",
     "text": [
      "eval_pred: 100%|██████████████████████████████████████████████████████████████████████| 15/15 [00:00<00:00, 334.24it/s]\n"
     ]
    },
    {
     "name": "stdout",
     "output_type": "stream",
     "text": [
      "\t eval rmse: 1.0530\n",
      "\t eval mae: 0.8488\n",
      "\t eval r2: -0.0483\n",
      "==============================\n",
      "Epoch 2 elapsed: 0.151s\n"
     ]
    },
    {
     "name": "stderr",
     "output_type": "stream",
     "text": [
      "eval_pred: 100%|██████████████████████████████████████████████████████████████████████| 15/15 [00:00<00:00, 334.22it/s]"
     ]
    },
    {
     "name": "stdout",
     "output_type": "stream",
     "text": [
      "\t eval rmse: 1.0389\n",
      "\t eval mae: 0.8291\n",
      "\t eval r2: -0.0202\n",
      "==============================\n"
     ]
    },
    {
     "name": "stderr",
     "output_type": "stream",
     "text": [
      "\n"
     ]
    },
    {
     "name": "stdout",
     "output_type": "stream",
     "text": [
      "Epoch 3 elapsed: 0.132s\n"
     ]
    },
    {
     "name": "stderr",
     "output_type": "stream",
     "text": [
      "eval_pred: 100%|██████████████████████████████████████████████████████████████████████| 15/15 [00:00<00:00, 172.80it/s]"
     ]
    },
    {
     "name": "stdout",
     "output_type": "stream",
     "text": [
      "\t eval rmse: 1.0350\n",
      "\t eval mae: 0.8231\n",
      "\t eval r2: -0.0126\n",
      "==============================\n"
     ]
    },
    {
     "name": "stderr",
     "output_type": "stream",
     "text": [
      "\n"
     ]
    },
    {
     "name": "stdout",
     "output_type": "stream",
     "text": [
      "Epoch 4 elapsed: 0.145s\n"
     ]
    },
    {
     "name": "stderr",
     "output_type": "stream",
     "text": [
      "eval_pred: 100%|██████████████████████████████████████████████████████████████████████| 15/15 [00:00<00:00, 395.89it/s]"
     ]
    },
    {
     "name": "stdout",
     "output_type": "stream",
     "text": [
      "\t eval rmse: 1.0312\n",
      "\t eval mae: 0.8179\n",
      "\t eval r2: -0.0052\n",
      "==============================\n"
     ]
    },
    {
     "name": "stderr",
     "output_type": "stream",
     "text": [
      "\n"
     ]
    },
    {
     "name": "stdout",
     "output_type": "stream",
     "text": [
      "Epoch 5 elapsed: 0.147s\n"
     ]
    },
    {
     "name": "stderr",
     "output_type": "stream",
     "text": [
      "eval_pred: 100%|██████████████████████████████████████████████████████████████████████| 15/15 [00:00<00:00, 278.52it/s]"
     ]
    },
    {
     "name": "stdout",
     "output_type": "stream",
     "text": [
      "\t eval rmse: 1.0278\n",
      "\t eval mae: 0.8133\n",
      "\t eval r2: 0.0015\n",
      "==============================\n"
     ]
    },
    {
     "name": "stderr",
     "output_type": "stream",
     "text": [
      "\n"
     ]
    },
    {
     "name": "stdout",
     "output_type": "stream",
     "text": [
      "Training start time: \u001b[35m2022-07-19 18:18:48\u001b[0m\n",
      "Epoch 1 elapsed: 0.131s\n"
     ]
    },
    {
     "name": "stderr",
     "output_type": "stream",
     "text": [
      "eval_pred: 100%|██████████████████████████████████████████████████████████████████████| 15/15 [00:00<00:00, 376.00it/s]\n"
     ]
    },
    {
     "name": "stdout",
     "output_type": "stream",
     "text": [
      "\t eval rmse: 1.0512\n",
      "\t eval mae: 0.8473\n",
      "\t eval r2: -0.0445\n",
      "==============================\n",
      "Epoch 2 elapsed: 0.146s\n"
     ]
    },
    {
     "name": "stderr",
     "output_type": "stream",
     "text": [
      "eval_pred: 100%|██████████████████████████████████████████████████████████████████████| 15/15 [00:00<00:00, 406.44it/s]"
     ]
    },
    {
     "name": "stdout",
     "output_type": "stream",
     "text": [
      "\t eval rmse: 1.0391\n",
      "\t eval mae: 0.8294\n",
      "\t eval r2: -0.0207\n",
      "==============================\n"
     ]
    },
    {
     "name": "stderr",
     "output_type": "stream",
     "text": [
      "\n"
     ]
    },
    {
     "name": "stdout",
     "output_type": "stream",
     "text": [
      "Epoch 3 elapsed: 0.128s\n"
     ]
    },
    {
     "name": "stderr",
     "output_type": "stream",
     "text": [
      "eval_pred: 100%|██████████████████████████████████████████████████████████████████████| 15/15 [00:00<00:00, 385.83it/s]"
     ]
    },
    {
     "name": "stdout",
     "output_type": "stream",
     "text": [
      "\t eval rmse: 1.0350\n",
      "\t eval mae: 0.8234\n",
      "\t eval r2: -0.0127\n",
      "==============================\n"
     ]
    },
    {
     "name": "stderr",
     "output_type": "stream",
     "text": [
      "\n"
     ]
    },
    {
     "name": "stdout",
     "output_type": "stream",
     "text": [
      "Epoch 4 elapsed: 0.164s\n"
     ]
    },
    {
     "name": "stderr",
     "output_type": "stream",
     "text": [
      "eval_pred: 100%|██████████████████████████████████████████████████████████████████████| 15/15 [00:00<00:00, 326.45it/s]"
     ]
    },
    {
     "name": "stdout",
     "output_type": "stream",
     "text": [
      "\t eval rmse: 1.0310\n",
      "\t eval mae: 0.8180\n",
      "\t eval r2: -0.0048\n",
      "==============================\n"
     ]
    },
    {
     "name": "stderr",
     "output_type": "stream",
     "text": [
      "\n"
     ]
    },
    {
     "name": "stdout",
     "output_type": "stream",
     "text": [
      "Epoch 5 elapsed: 0.142s\n"
     ]
    },
    {
     "name": "stderr",
     "output_type": "stream",
     "text": [
      "eval_pred: 100%|██████████████████████████████████████████████████████████████████████| 15/15 [00:00<00:00, 280.87it/s]"
     ]
    },
    {
     "name": "stdout",
     "output_type": "stream",
     "text": [
      "\t eval rmse: 1.0272\n",
      "\t eval mae: 0.8131\n",
      "\t eval r2: 0.0026\n",
      "==============================\n"
     ]
    },
    {
     "name": "stderr",
     "output_type": "stream",
     "text": [
      "\n"
     ]
    },
    {
     "name": "stdout",
     "output_type": "stream",
     "text": [
      "Training start time: \u001b[35m2022-07-19 18:18:50\u001b[0m\n",
      "Epoch 1 elapsed: 0.121s\n"
     ]
    },
    {
     "name": "stderr",
     "output_type": "stream",
     "text": [
      "eval_pred: 100%|██████████████████████████████████████████████████████████████████████| 15/15 [00:00<00:00, 395.80it/s]\n"
     ]
    },
    {
     "name": "stdout",
     "output_type": "stream",
     "text": [
      "\t eval rmse: 1.0512\n",
      "\t eval mae: 0.8473\n",
      "\t eval r2: -0.0445\n",
      "==============================\n",
      "Epoch 2 elapsed: 0.140s\n"
     ]
    },
    {
     "name": "stderr",
     "output_type": "stream",
     "text": [
      "eval_pred: 100%|██████████████████████████████████████████████████████████████████████| 15/15 [00:00<00:00, 390.47it/s]\n"
     ]
    },
    {
     "name": "stdout",
     "output_type": "stream",
     "text": [
      "\t eval rmse: 1.0391\n",
      "\t eval mae: 0.8294\n",
      "\t eval r2: -0.0207\n",
      "==============================\n",
      "Epoch 3 elapsed: 0.135s\n"
     ]
    },
    {
     "name": "stderr",
     "output_type": "stream",
     "text": [
      "eval_pred: 100%|██████████████████████████████████████████████████████████████████████| 15/15 [00:00<00:00, 349.76it/s]\n"
     ]
    },
    {
     "name": "stdout",
     "output_type": "stream",
     "text": [
      "\t eval rmse: 1.0350\n",
      "\t eval mae: 0.8234\n",
      "\t eval r2: -0.0127\n",
      "==============================\n",
      "Epoch 4 elapsed: 0.128s\n"
     ]
    },
    {
     "name": "stderr",
     "output_type": "stream",
     "text": [
      "eval_pred: 100%|██████████████████████████████████████████████████████████████████████| 15/15 [00:00<00:00, 366.84it/s]\n"
     ]
    },
    {
     "name": "stdout",
     "output_type": "stream",
     "text": [
      "\t eval rmse: 1.0310\n",
      "\t eval mae: 0.8180\n",
      "\t eval r2: -0.0048\n",
      "==============================\n",
      "Epoch 5 elapsed: 0.121s\n"
     ]
    },
    {
     "name": "stderr",
     "output_type": "stream",
     "text": [
      "eval_pred: 100%|██████████████████████████████████████████████████████████████████████| 15/15 [00:00<00:00, 385.63it/s]\n"
     ]
    },
    {
     "name": "stdout",
     "output_type": "stream",
     "text": [
      "\t eval rmse: 1.0272\n",
      "\t eval mae: 0.8131\n",
      "\t eval r2: 0.0026\n",
      "==============================\n",
      "Training start time: \u001b[35m2022-07-19 18:18:52\u001b[0m\n",
      "Epoch 1 elapsed: 0.121s\n"
     ]
    },
    {
     "name": "stderr",
     "output_type": "stream",
     "text": [
      "eval_pred: 100%|██████████████████████████████████████████████████████████████████████| 15/15 [00:00<00:00, 334.16it/s]\n"
     ]
    },
    {
     "name": "stdout",
     "output_type": "stream",
     "text": [
      "\t eval rmse: 1.0512\n",
      "\t eval mae: 0.8473\n",
      "\t eval r2: -0.0445\n",
      "==============================\n",
      "Epoch 2 elapsed: 0.134s\n"
     ]
    },
    {
     "name": "stderr",
     "output_type": "stream",
     "text": [
      "eval_pred: 100%|██████████████████████████████████████████████████████████████████████| 15/15 [00:00<00:00, 385.64it/s]\n"
     ]
    },
    {
     "name": "stdout",
     "output_type": "stream",
     "text": [
      "\t eval rmse: 1.0391\n",
      "\t eval mae: 0.8294\n",
      "\t eval r2: -0.0207\n",
      "==============================\n",
      "Epoch 3 elapsed: 0.131s\n"
     ]
    },
    {
     "name": "stderr",
     "output_type": "stream",
     "text": [
      "eval_pred: 100%|██████████████████████████████████████████████████████████████████████| 15/15 [00:00<00:00, 341.78it/s]\n"
     ]
    },
    {
     "name": "stdout",
     "output_type": "stream",
     "text": [
      "\t eval rmse: 1.0350\n",
      "\t eval mae: 0.8234\n",
      "\t eval r2: -0.0127\n",
      "==============================\n",
      "Epoch 4 elapsed: 0.159s\n"
     ]
    },
    {
     "name": "stderr",
     "output_type": "stream",
     "text": [
      "eval_pred: 100%|██████████████████████████████████████████████████████████████████████| 15/15 [00:00<00:00, 313.31it/s]\n"
     ]
    },
    {
     "name": "stdout",
     "output_type": "stream",
     "text": [
      "\t eval rmse: 1.0310\n",
      "\t eval mae: 0.8180\n",
      "\t eval r2: -0.0048\n",
      "==============================\n",
      "Epoch 5 elapsed: 0.135s\n"
     ]
    },
    {
     "name": "stderr",
     "output_type": "stream",
     "text": [
      "eval_pred: 100%|██████████████████████████████████████████████████████████████████████| 15/15 [00:00<00:00, 423.54it/s]\n"
     ]
    },
    {
     "name": "stdout",
     "output_type": "stream",
     "text": [
      "\t eval rmse: 1.0272\n",
      "\t eval mae: 0.8131\n",
      "\t eval r2: 0.0026\n",
      "==============================\n",
      "Training start time: \u001b[35m2022-07-19 18:18:53\u001b[0m\n",
      "Epoch 1 elapsed: 0.107s\n"
     ]
    },
    {
     "name": "stderr",
     "output_type": "stream",
     "text": [
      "eval_pred: 100%|██████████████████████████████████████████████████████████████████████| 15/15 [00:00<00:00, 278.49it/s]\n"
     ]
    },
    {
     "name": "stdout",
     "output_type": "stream",
     "text": [
      "\t eval rmse: 1.0512\n",
      "\t eval mae: 0.8473\n",
      "\t eval r2: -0.0445\n",
      "==============================\n",
      "Epoch 2 elapsed: 0.127s\n"
     ]
    },
    {
     "name": "stderr",
     "output_type": "stream",
     "text": [
      "eval_pred: 100%|██████████████████████████████████████████████████████████████████████| 15/15 [00:00<00:00, 283.78it/s]\n"
     ]
    },
    {
     "name": "stdout",
     "output_type": "stream",
     "text": [
      "\t eval rmse: 1.0391\n",
      "\t eval mae: 0.8294\n",
      "\t eval r2: -0.0207\n",
      "==============================\n",
      "Epoch 3 elapsed: 0.127s\n"
     ]
    },
    {
     "name": "stderr",
     "output_type": "stream",
     "text": [
      "eval_pred: 100%|██████████████████████████████████████████████████████████████████████| 15/15 [00:00<00:00, 320.01it/s]\n"
     ]
    },
    {
     "name": "stdout",
     "output_type": "stream",
     "text": [
      "\t eval rmse: 1.0350\n",
      "\t eval mae: 0.8234\n",
      "\t eval r2: -0.0127\n",
      "==============================\n",
      "Epoch 4 elapsed: 0.127s\n"
     ]
    },
    {
     "name": "stderr",
     "output_type": "stream",
     "text": [
      "eval_pred: 100%|██████████████████████████████████████████████████████████████████████| 15/15 [00:00<00:00, 358.00it/s]\n"
     ]
    },
    {
     "name": "stdout",
     "output_type": "stream",
     "text": [
      "\t eval rmse: 1.0310\n",
      "\t eval mae: 0.8180\n",
      "\t eval r2: -0.0048\n",
      "==============================\n",
      "Epoch 5 elapsed: 0.132s\n"
     ]
    },
    {
     "name": "stderr",
     "output_type": "stream",
     "text": [
      "eval_pred: 100%|██████████████████████████████████████████████████████████████████████| 15/15 [00:00<00:00, 246.55it/s]\n"
     ]
    },
    {
     "name": "stdout",
     "output_type": "stream",
     "text": [
      "\t eval rmse: 1.0272\n",
      "\t eval mae: 0.8131\n",
      "\t eval r2: 0.0026\n",
      "==============================\n",
      "Training start time: \u001b[35m2022-07-19 18:18:55\u001b[0m\n",
      "Epoch 1 elapsed: 0.123s\n"
     ]
    },
    {
     "name": "stderr",
     "output_type": "stream",
     "text": [
      "eval_pred: 100%|██████████████████████████████████████████████████████████████████████| 15/15 [00:00<00:00, 323.36it/s]\n"
     ]
    },
    {
     "name": "stdout",
     "output_type": "stream",
     "text": [
      "\t eval rmse: 1.0512\n",
      "\t eval mae: 0.8473\n",
      "\t eval r2: -0.0445\n",
      "==============================\n",
      "Epoch 2 elapsed: 0.174s\n"
     ]
    },
    {
     "name": "stderr",
     "output_type": "stream",
     "text": [
      "eval_pred: 100%|██████████████████████████████████████████████████████████████████████| 15/15 [00:00<00:00, 297.71it/s]\n"
     ]
    },
    {
     "name": "stdout",
     "output_type": "stream",
     "text": [
      "\t eval rmse: 1.0391\n",
      "\t eval mae: 0.8294\n",
      "\t eval r2: -0.0207\n",
      "==============================\n",
      "Epoch 3 elapsed: 0.143s\n"
     ]
    },
    {
     "name": "stderr",
     "output_type": "stream",
     "text": [
      "eval_pred: 100%|██████████████████████████████████████████████████████████████████████| 15/15 [00:00<00:00, 231.37it/s]\n"
     ]
    },
    {
     "name": "stdout",
     "output_type": "stream",
     "text": [
      "\t eval rmse: 1.0350\n",
      "\t eval mae: 0.8234\n",
      "\t eval r2: -0.0127\n",
      "==============================\n",
      "Epoch 4 elapsed: 0.150s\n"
     ]
    },
    {
     "name": "stderr",
     "output_type": "stream",
     "text": [
      "eval_pred: 100%|██████████████████████████████████████████████████████████████████████| 15/15 [00:00<00:00, 246.56it/s]\n"
     ]
    },
    {
     "name": "stdout",
     "output_type": "stream",
     "text": [
      "\t eval rmse: 1.0310\n",
      "\t eval mae: 0.8180\n",
      "\t eval r2: -0.0048\n",
      "==============================\n",
      "Epoch 5 elapsed: 0.139s\n"
     ]
    },
    {
     "name": "stderr",
     "output_type": "stream",
     "text": [
      "eval_pred: 100%|██████████████████████████████████████████████████████████████████████| 15/15 [00:00<00:00, 401.90it/s]"
     ]
    },
    {
     "name": "stdout",
     "output_type": "stream",
     "text": [
      "\t eval rmse: 1.0272\n",
      "\t eval mae: 0.8131\n",
      "\t eval r2: 0.0026\n",
      "==============================\n"
     ]
    },
    {
     "name": "stderr",
     "output_type": "stream",
     "text": [
      "\n"
     ]
    },
    {
     "name": "stdout",
     "output_type": "stream",
     "text": [
      "Training start time: \u001b[35m2022-07-19 18:18:57\u001b[0m\n",
      "Epoch 1 elapsed: 0.140s\n"
     ]
    },
    {
     "name": "stderr",
     "output_type": "stream",
     "text": [
      "eval_pred: 100%|██████████████████████████████████████████████████████████████████████| 15/15 [00:00<00:00, 385.65it/s]\n"
     ]
    },
    {
     "name": "stdout",
     "output_type": "stream",
     "text": [
      "\t eval rmse: 1.0315\n",
      "\t eval mae: 0.8370\n",
      "\t eval r2: -0.0058\n",
      "==============================\n",
      "Epoch 2 elapsed: 0.126s\n"
     ]
    },
    {
     "name": "stderr",
     "output_type": "stream",
     "text": [
      "eval_pred: 100%|██████████████████████████████████████████████████████████████████████| 15/15 [00:00<00:00, 326.98it/s]\n"
     ]
    },
    {
     "name": "stdout",
     "output_type": "stream",
     "text": [
      "\t eval rmse: 1.0255\n",
      "\t eval mae: 0.8206\n",
      "\t eval r2: 0.0059\n",
      "==============================\n",
      "Epoch 3 elapsed: 0.136s\n"
     ]
    },
    {
     "name": "stderr",
     "output_type": "stream",
     "text": [
      "eval_pred: 100%|██████████████████████████████████████████████████████████████████████| 15/15 [00:00<00:00, 323.32it/s]\n"
     ]
    },
    {
     "name": "stdout",
     "output_type": "stream",
     "text": [
      "\t eval rmse: 1.0218\n",
      "\t eval mae: 0.8148\n",
      "\t eval r2: 0.0130\n",
      "==============================\n",
      "Epoch 4 elapsed: 0.133s\n"
     ]
    },
    {
     "name": "stderr",
     "output_type": "stream",
     "text": [
      "eval_pred: 100%|██████████████████████████████████████████████████████████████████████| 15/15 [00:00<00:00, 313.30it/s]\n"
     ]
    },
    {
     "name": "stdout",
     "output_type": "stream",
     "text": [
      "\t eval rmse: 1.0175\n",
      "\t eval mae: 0.8092\n",
      "\t eval r2: 0.0214\n",
      "==============================\n",
      "Epoch 5 elapsed: 0.136s\n"
     ]
    },
    {
     "name": "stderr",
     "output_type": "stream",
     "text": [
      "eval_pred: 100%|██████████████████████████████████████████████████████████████████████| 15/15 [00:00<00:00, 297.65it/s]\n"
     ]
    },
    {
     "name": "stdout",
     "output_type": "stream",
     "text": [
      "\t eval rmse: 1.0132\n",
      "\t eval mae: 0.8040\n",
      "\t eval r2: 0.0295\n",
      "==============================\n",
      "Training start time: \u001b[35m2022-07-19 18:18:59\u001b[0m\n",
      "Epoch 1 elapsed: 0.121s\n"
     ]
    },
    {
     "name": "stderr",
     "output_type": "stream",
     "text": [
      "eval_pred: 100%|██████████████████████████████████████████████████████████████████████| 15/15 [00:00<00:00, 306.95it/s]\n"
     ]
    },
    {
     "name": "stdout",
     "output_type": "stream",
     "text": [
      "\t eval rmse: 1.0315\n",
      "\t eval mae: 0.8370\n",
      "\t eval r2: -0.0058\n",
      "==============================\n",
      "Epoch 2 elapsed: 0.141s\n"
     ]
    },
    {
     "name": "stderr",
     "output_type": "stream",
     "text": [
      "eval_pred: 100%|██████████████████████████████████████████████████████████████████████| 15/15 [00:00<00:00, 337.04it/s]\n"
     ]
    },
    {
     "name": "stdout",
     "output_type": "stream",
     "text": [
      "\t eval rmse: 1.0255\n",
      "\t eval mae: 0.8206\n",
      "\t eval r2: 0.0059\n",
      "==============================\n",
      "Epoch 3 elapsed: 0.137s\n"
     ]
    },
    {
     "name": "stderr",
     "output_type": "stream",
     "text": [
      "eval_pred: 100%|██████████████████████████████████████████████████████████████████████| 15/15 [00:00<00:00, 278.52it/s]"
     ]
    },
    {
     "name": "stdout",
     "output_type": "stream",
     "text": [
      "\t eval rmse: 1.0218\n",
      "\t eval mae: 0.8148\n",
      "\t eval r2: 0.0130\n",
      "==============================\n"
     ]
    },
    {
     "name": "stderr",
     "output_type": "stream",
     "text": [
      "\n"
     ]
    },
    {
     "name": "stdout",
     "output_type": "stream",
     "text": [
      "Epoch 4 elapsed: 0.137s\n"
     ]
    },
    {
     "name": "stderr",
     "output_type": "stream",
     "text": [
      "eval_pred: 100%|██████████████████████████████████████████████████████████████████████| 15/15 [00:00<00:00, 326.96it/s]"
     ]
    },
    {
     "name": "stdout",
     "output_type": "stream",
     "text": [
      "\t eval rmse: 1.0175\n",
      "\t eval mae: 0.8092\n",
      "\t eval r2: 0.0214\n",
      "==============================\n"
     ]
    },
    {
     "name": "stderr",
     "output_type": "stream",
     "text": [
      "\n"
     ]
    },
    {
     "name": "stdout",
     "output_type": "stream",
     "text": [
      "Epoch 5 elapsed: 0.138s\n"
     ]
    },
    {
     "name": "stderr",
     "output_type": "stream",
     "text": [
      "eval_pred: 100%|██████████████████████████████████████████████████████████████████████| 15/15 [00:00<00:00, 254.63it/s]"
     ]
    },
    {
     "name": "stdout",
     "output_type": "stream",
     "text": [
      "\t eval rmse: 1.0132\n",
      "\t eval mae: 0.8040\n",
      "\t eval r2: 0.0295\n",
      "==============================\n"
     ]
    },
    {
     "name": "stderr",
     "output_type": "stream",
     "text": [
      "\n"
     ]
    },
    {
     "name": "stdout",
     "output_type": "stream",
     "text": [
      "Training start time: \u001b[35m2022-07-19 18:19:01\u001b[0m\n",
      "Epoch 1 elapsed: 0.119s\n"
     ]
    },
    {
     "name": "stderr",
     "output_type": "stream",
     "text": [
      "eval_pred: 100%|██████████████████████████████████████████████████████████████████████| 15/15 [00:00<00:00, 232.78it/s]\n"
     ]
    },
    {
     "name": "stdout",
     "output_type": "stream",
     "text": [
      "\t eval rmse: 1.0315\n",
      "\t eval mae: 0.8370\n",
      "\t eval r2: -0.0058\n",
      "==============================\n",
      "Epoch 2 elapsed: 0.128s\n"
     ]
    },
    {
     "name": "stderr",
     "output_type": "stream",
     "text": [
      "eval_pred: 100%|██████████████████████████████████████████████████████████████████████| 15/15 [00:00<00:00, 300.60it/s]\n"
     ]
    },
    {
     "name": "stdout",
     "output_type": "stream",
     "text": [
      "\t eval rmse: 1.0255\n",
      "\t eval mae: 0.8206\n",
      "\t eval r2: 0.0059\n",
      "==============================\n",
      "Epoch 3 elapsed: 0.135s\n"
     ]
    },
    {
     "name": "stderr",
     "output_type": "stream",
     "text": [
      "eval_pred: 100%|██████████████████████████████████████████████████████████████████████| 15/15 [00:00<00:00, 300.78it/s]\n"
     ]
    },
    {
     "name": "stdout",
     "output_type": "stream",
     "text": [
      "\t eval rmse: 1.0218\n",
      "\t eval mae: 0.8148\n",
      "\t eval r2: 0.0130\n",
      "==============================\n",
      "Epoch 4 elapsed: 0.145s\n"
     ]
    },
    {
     "name": "stderr",
     "output_type": "stream",
     "text": [
      "eval_pred: 100%|██████████████████████████████████████████████████████████████████████| 15/15 [00:00<00:00, 385.65it/s]\n"
     ]
    },
    {
     "name": "stdout",
     "output_type": "stream",
     "text": [
      "\t eval rmse: 1.0175\n",
      "\t eval mae: 0.8092\n",
      "\t eval r2: 0.0214\n",
      "==============================\n",
      "Epoch 5 elapsed: 0.132s\n"
     ]
    },
    {
     "name": "stderr",
     "output_type": "stream",
     "text": [
      "eval_pred: 100%|██████████████████████████████████████████████████████████████████████| 15/15 [00:00<00:00, 270.70it/s]\n"
     ]
    },
    {
     "name": "stdout",
     "output_type": "stream",
     "text": [
      "\t eval rmse: 1.0132\n",
      "\t eval mae: 0.8040\n",
      "\t eval r2: 0.0295\n",
      "==============================\n",
      "Training start time: \u001b[35m2022-07-19 18:19:02\u001b[0m\n",
      "Epoch 1 elapsed: 0.121s\n"
     ]
    },
    {
     "name": "stderr",
     "output_type": "stream",
     "text": [
      "eval_pred: 100%|██████████████████████████████████████████████████████████████████████| 15/15 [00:00<00:00, 319.94it/s]\n"
     ]
    },
    {
     "name": "stdout",
     "output_type": "stream",
     "text": [
      "\t eval rmse: 1.0315\n",
      "\t eval mae: 0.8370\n",
      "\t eval r2: -0.0058\n",
      "==============================\n",
      "Epoch 2 elapsed: 0.154s\n"
     ]
    },
    {
     "name": "stderr",
     "output_type": "stream",
     "text": [
      "eval_pred: 100%|██████████████████████████████████████████████████████████████████████| 15/15 [00:00<00:00, 306.92it/s]\n"
     ]
    },
    {
     "name": "stdout",
     "output_type": "stream",
     "text": [
      "\t eval rmse: 1.0255\n",
      "\t eval mae: 0.8206\n",
      "\t eval r2: 0.0059\n",
      "==============================\n",
      "Epoch 3 elapsed: 0.144s\n"
     ]
    },
    {
     "name": "stderr",
     "output_type": "stream",
     "text": [
      "eval_pred: 100%|██████████████████████████████████████████████████████████████████████| 15/15 [00:00<00:00, 265.94it/s]\n"
     ]
    },
    {
     "name": "stdout",
     "output_type": "stream",
     "text": [
      "\t eval rmse: 1.0218\n",
      "\t eval mae: 0.8148\n",
      "\t eval r2: 0.0130\n",
      "==============================\n",
      "Epoch 4 elapsed: 0.133s\n"
     ]
    },
    {
     "name": "stderr",
     "output_type": "stream",
     "text": [
      "eval_pred: 100%|██████████████████████████████████████████████████████████████████████| 15/15 [00:00<00:00, 326.95it/s]\n"
     ]
    },
    {
     "name": "stdout",
     "output_type": "stream",
     "text": [
      "\t eval rmse: 1.0175\n",
      "\t eval mae: 0.8092\n",
      "\t eval r2: 0.0214\n",
      "==============================\n",
      "Epoch 5 elapsed: 0.122s\n"
     ]
    },
    {
     "name": "stderr",
     "output_type": "stream",
     "text": [
      "eval_pred: 100%|██████████████████████████████████████████████████████████████████████| 15/15 [00:00<00:00, 294.90it/s]\n"
     ]
    },
    {
     "name": "stdout",
     "output_type": "stream",
     "text": [
      "\t eval rmse: 1.0132\n",
      "\t eval mae: 0.8040\n",
      "\t eval r2: 0.0295\n",
      "==============================\n",
      "Training start time: \u001b[35m2022-07-19 18:19:04\u001b[0m\n",
      "Epoch 1 elapsed: 0.125s\n"
     ]
    },
    {
     "name": "stderr",
     "output_type": "stream",
     "text": [
      "eval_pred: 100%|██████████████████████████████████████████████████████████████████████| 15/15 [00:00<00:00, 334.20it/s]\n"
     ]
    },
    {
     "name": "stdout",
     "output_type": "stream",
     "text": [
      "\t eval rmse: 1.0315\n",
      "\t eval mae: 0.8370\n",
      "\t eval r2: -0.0058\n",
      "==============================\n",
      "Epoch 2 elapsed: 0.131s\n"
     ]
    },
    {
     "name": "stderr",
     "output_type": "stream",
     "text": [
      "eval_pred: 100%|██████████████████████████████████████████████████████████████████████| 15/15 [00:00<00:00, 385.65it/s]\n"
     ]
    },
    {
     "name": "stdout",
     "output_type": "stream",
     "text": [
      "\t eval rmse: 1.0255\n",
      "\t eval mae: 0.8206\n",
      "\t eval r2: 0.0059\n",
      "==============================\n",
      "Epoch 3 elapsed: 0.138s\n"
     ]
    },
    {
     "name": "stderr",
     "output_type": "stream",
     "text": [
      "eval_pred: 100%|██████████████████████████████████████████████████████████████████████| 15/15 [00:00<00:00, 289.23it/s]\n"
     ]
    },
    {
     "name": "stdout",
     "output_type": "stream",
     "text": [
      "\t eval rmse: 1.0218\n",
      "\t eval mae: 0.8148\n",
      "\t eval r2: 0.0130\n",
      "==============================\n",
      "Epoch 4 elapsed: 0.124s\n"
     ]
    },
    {
     "name": "stderr",
     "output_type": "stream",
     "text": [
      "eval_pred: 100%|██████████████████████████████████████████████████████████████████████| 15/15 [00:00<00:00, 268.57it/s]\n"
     ]
    },
    {
     "name": "stdout",
     "output_type": "stream",
     "text": [
      "\t eval rmse: 1.0175\n",
      "\t eval mae: 0.8092\n",
      "\t eval r2: 0.0214\n",
      "==============================\n",
      "Epoch 5 elapsed: 0.139s\n"
     ]
    },
    {
     "name": "stderr",
     "output_type": "stream",
     "text": [
      "eval_pred: 100%|██████████████████████████████████████████████████████████████████████| 15/15 [00:00<00:00, 362.36it/s]\n"
     ]
    },
    {
     "name": "stdout",
     "output_type": "stream",
     "text": [
      "\t eval rmse: 1.0132\n",
      "\t eval mae: 0.8040\n",
      "\t eval r2: 0.0295\n",
      "==============================\n",
      "Training start time: \u001b[35m2022-07-19 18:19:06\u001b[0m\n",
      "Epoch 1 elapsed: 0.138s\n"
     ]
    },
    {
     "name": "stderr",
     "output_type": "stream",
     "text": [
      "eval_pred: 100%|██████████████████████████████████████████████████████████████████████| 15/15 [00:00<00:00, 362.33it/s]\n"
     ]
    },
    {
     "name": "stdout",
     "output_type": "stream",
     "text": [
      "\t eval rmse: 1.0272\n",
      "\t eval mae: 0.8366\n",
      "\t eval r2: 0.0026\n",
      "==============================\n",
      "Epoch 2 elapsed: 0.124s\n"
     ]
    },
    {
     "name": "stderr",
     "output_type": "stream",
     "text": [
      "eval_pred: 100%|██████████████████████████████████████████████████████████████████████| 15/15 [00:00<00:00, 358.10it/s]\n"
     ]
    },
    {
     "name": "stdout",
     "output_type": "stream",
     "text": [
      "\t eval rmse: 1.0199\n",
      "\t eval mae: 0.8153\n",
      "\t eval r2: 0.0168\n",
      "==============================\n",
      "Epoch 3 elapsed: 0.128s\n"
     ]
    },
    {
     "name": "stderr",
     "output_type": "stream",
     "text": [
      "eval_pred: 100%|██████████████████████████████████████████████████████████████████████| 15/15 [00:00<00:00, 358.00it/s]\n"
     ]
    },
    {
     "name": "stdout",
     "output_type": "stream",
     "text": [
      "\t eval rmse: 1.0130\n",
      "\t eval mae: 0.8080\n",
      "\t eval r2: 0.0299\n",
      "==============================\n",
      "Epoch 4 elapsed: 0.154s\n"
     ]
    },
    {
     "name": "stderr",
     "output_type": "stream",
     "text": [
      "eval_pred: 100%|██████████████████████████████████████████████████████████████████████| 15/15 [00:00<00:00, 358.10it/s]"
     ]
    },
    {
     "name": "stdout",
     "output_type": "stream",
     "text": [
      "\t eval rmse: 1.0075\n",
      "\t eval mae: 0.8019\n",
      "\t eval r2: 0.0405\n",
      "==============================\n"
     ]
    },
    {
     "name": "stderr",
     "output_type": "stream",
     "text": [
      "\n"
     ]
    },
    {
     "name": "stdout",
     "output_type": "stream",
     "text": [
      "Epoch 5 elapsed: 0.153s\n"
     ]
    },
    {
     "name": "stderr",
     "output_type": "stream",
     "text": [
      "eval_pred: 100%|██████████████████████████████████████████████████████████████████████| 15/15 [00:00<00:00, 300.78it/s]"
     ]
    },
    {
     "name": "stdout",
     "output_type": "stream",
     "text": [
      "\t eval rmse: 1.0031\n",
      "\t eval mae: 0.7969\n",
      "\t eval r2: 0.0488\n",
      "==============================\n"
     ]
    },
    {
     "name": "stderr",
     "output_type": "stream",
     "text": [
      "\n"
     ]
    },
    {
     "name": "stdout",
     "output_type": "stream",
     "text": [
      "Training start time: \u001b[35m2022-07-19 18:19:07\u001b[0m\n",
      "Epoch 1 elapsed: 0.125s\n"
     ]
    },
    {
     "name": "stderr",
     "output_type": "stream",
     "text": [
      "eval_pred: 100%|██████████████████████████████████████████████████████████████████████| 15/15 [00:00<00:00, 366.82it/s]\n"
     ]
    },
    {
     "name": "stdout",
     "output_type": "stream",
     "text": [
      "\t eval rmse: 1.0272\n",
      "\t eval mae: 0.8366\n",
      "\t eval r2: 0.0026\n",
      "==============================\n",
      "Epoch 2 elapsed: 0.124s\n"
     ]
    },
    {
     "name": "stderr",
     "output_type": "stream",
     "text": [
      "eval_pred: 100%|██████████████████████████████████████████████████████████████████████| 15/15 [00:00<00:00, 313.22it/s]\n"
     ]
    },
    {
     "name": "stdout",
     "output_type": "stream",
     "text": [
      "\t eval rmse: 1.0199\n",
      "\t eval mae: 0.8153\n",
      "\t eval r2: 0.0168\n",
      "==============================\n",
      "Epoch 3 elapsed: 0.144s\n"
     ]
    },
    {
     "name": "stderr",
     "output_type": "stream",
     "text": [
      "eval_pred: 100%|██████████████████████████████████████████████████████████████████████| 15/15 [00:00<00:00, 390.54it/s]\n"
     ]
    },
    {
     "name": "stdout",
     "output_type": "stream",
     "text": [
      "\t eval rmse: 1.0130\n",
      "\t eval mae: 0.8080\n",
      "\t eval r2: 0.0299\n",
      "==============================\n",
      "Epoch 4 elapsed: 0.132s\n"
     ]
    },
    {
     "name": "stderr",
     "output_type": "stream",
     "text": [
      "eval_pred: 100%|██████████████████████████████████████████████████████████████████████| 15/15 [00:00<00:00, 376.00it/s]\n"
     ]
    },
    {
     "name": "stdout",
     "output_type": "stream",
     "text": [
      "\t eval rmse: 1.0075\n",
      "\t eval mae: 0.8019\n",
      "\t eval r2: 0.0405\n",
      "==============================\n",
      "Epoch 5 elapsed: 0.117s\n"
     ]
    },
    {
     "name": "stderr",
     "output_type": "stream",
     "text": [
      "eval_pred: 100%|██████████████████████████████████████████████████████████████████████| 15/15 [00:00<00:00, 366.83it/s]\n"
     ]
    },
    {
     "name": "stdout",
     "output_type": "stream",
     "text": [
      "\t eval rmse: 1.0031\n",
      "\t eval mae: 0.7969\n",
      "\t eval r2: 0.0488\n",
      "==============================\n",
      "Training start time: \u001b[35m2022-07-19 18:19:09\u001b[0m\n",
      "Epoch 1 elapsed: 0.128s\n"
     ]
    },
    {
     "name": "stderr",
     "output_type": "stream",
     "text": [
      "eval_pred: 100%|██████████████████████████████████████████████████████████████████████| 15/15 [00:00<00:00, 341.80it/s]\n"
     ]
    },
    {
     "name": "stdout",
     "output_type": "stream",
     "text": [
      "\t eval rmse: 1.0272\n",
      "\t eval mae: 0.8366\n",
      "\t eval r2: 0.0026\n",
      "==============================\n",
      "Epoch 2 elapsed: 0.132s\n"
     ]
    },
    {
     "name": "stderr",
     "output_type": "stream",
     "text": [
      "eval_pred: 100%|██████████████████████████████████████████████████████████████████████| 15/15 [00:00<00:00, 353.77it/s]\n"
     ]
    },
    {
     "name": "stdout",
     "output_type": "stream",
     "text": [
      "\t eval rmse: 1.0199\n",
      "\t eval mae: 0.8153\n",
      "\t eval r2: 0.0168\n",
      "==============================\n",
      "Epoch 3 elapsed: 0.138s\n"
     ]
    },
    {
     "name": "stderr",
     "output_type": "stream",
     "text": [
      "eval_pred: 100%|██████████████████████████████████████████████████████████████████████| 15/15 [00:00<00:00, 366.81it/s]\n"
     ]
    },
    {
     "name": "stdout",
     "output_type": "stream",
     "text": [
      "\t eval rmse: 1.0130\n",
      "\t eval mae: 0.8080\n",
      "\t eval r2: 0.0299\n",
      "==============================\n",
      "Epoch 4 elapsed: 0.130s\n"
     ]
    },
    {
     "name": "stderr",
     "output_type": "stream",
     "text": [
      "eval_pred: 100%|██████████████████████████████████████████████████████████████████████| 15/15 [00:00<00:00, 319.99it/s]\n"
     ]
    },
    {
     "name": "stdout",
     "output_type": "stream",
     "text": [
      "\t eval rmse: 1.0075\n",
      "\t eval mae: 0.8019\n",
      "\t eval r2: 0.0405\n",
      "==============================\n",
      "Epoch 5 elapsed: 0.121s\n"
     ]
    },
    {
     "name": "stderr",
     "output_type": "stream",
     "text": [
      "eval_pred: 100%|██████████████████████████████████████████████████████████████████████| 15/15 [00:00<00:00, 349.74it/s]\n"
     ]
    },
    {
     "name": "stdout",
     "output_type": "stream",
     "text": [
      "\t eval rmse: 1.0031\n",
      "\t eval mae: 0.7969\n",
      "\t eval r2: 0.0488\n",
      "==============================\n",
      "Training start time: \u001b[35m2022-07-19 18:19:11\u001b[0m\n",
      "Epoch 1 elapsed: 0.124s\n"
     ]
    },
    {
     "name": "stderr",
     "output_type": "stream",
     "text": [
      "eval_pred: 100%|██████████████████████████████████████████████████████████████████████| 15/15 [00:00<00:00, 306.91it/s]\n"
     ]
    },
    {
     "name": "stdout",
     "output_type": "stream",
     "text": [
      "\t eval rmse: 1.0272\n",
      "\t eval mae: 0.8366\n",
      "\t eval r2: 0.0026\n",
      "==============================\n",
      "Epoch 2 elapsed: 0.126s\n"
     ]
    },
    {
     "name": "stderr",
     "output_type": "stream",
     "text": [
      "eval_pred: 100%|██████████████████████████████████████████████████████████████████████| 15/15 [00:00<00:00, 358.11it/s]\n"
     ]
    },
    {
     "name": "stdout",
     "output_type": "stream",
     "text": [
      "\t eval rmse: 1.0199\n",
      "\t eval mae: 0.8153\n",
      "\t eval r2: 0.0168\n",
      "==============================\n",
      "Epoch 3 elapsed: 0.127s\n"
     ]
    },
    {
     "name": "stderr",
     "output_type": "stream",
     "text": [
      "eval_pred: 100%|██████████████████████████████████████████████████████████████████████| 15/15 [00:00<00:00, 417.79it/s]\n"
     ]
    },
    {
     "name": "stdout",
     "output_type": "stream",
     "text": [
      "\t eval rmse: 1.0130\n",
      "\t eval mae: 0.8080\n",
      "\t eval r2: 0.0299\n",
      "==============================\n",
      "Epoch 4 elapsed: 0.132s\n"
     ]
    },
    {
     "name": "stderr",
     "output_type": "stream",
     "text": [
      "eval_pred: 100%|██████████████████████████████████████████████████████████████████████| 15/15 [00:00<00:00, 385.63it/s]\n"
     ]
    },
    {
     "name": "stdout",
     "output_type": "stream",
     "text": [
      "\t eval rmse: 1.0075\n",
      "\t eval mae: 0.8019\n",
      "\t eval r2: 0.0405\n",
      "==============================\n",
      "Epoch 5 elapsed: 0.126s\n"
     ]
    },
    {
     "name": "stderr",
     "output_type": "stream",
     "text": [
      "eval_pred: 100%|██████████████████████████████████████████████████████████████████████| 15/15 [00:00<00:00, 406.55it/s]\n"
     ]
    },
    {
     "name": "stdout",
     "output_type": "stream",
     "text": [
      "\t eval rmse: 1.0031\n",
      "\t eval mae: 0.7969\n",
      "\t eval r2: 0.0488\n",
      "==============================\n",
      "Training start time: \u001b[35m2022-07-19 18:19:12\u001b[0m\n",
      "Epoch 1 elapsed: 0.137s\n"
     ]
    },
    {
     "name": "stderr",
     "output_type": "stream",
     "text": [
      "eval_pred: 100%|██████████████████████████████████████████████████████████████████████| 15/15 [00:00<00:00, 276.57it/s]\n"
     ]
    },
    {
     "name": "stdout",
     "output_type": "stream",
     "text": [
      "\t eval rmse: 1.0272\n",
      "\t eval mae: 0.8366\n",
      "\t eval r2: 0.0026\n",
      "==============================\n",
      "Epoch 2 elapsed: 0.153s\n"
     ]
    },
    {
     "name": "stderr",
     "output_type": "stream",
     "text": [
      "eval_pred: 100%|██████████████████████████████████████████████████████████████████████| 15/15 [00:00<00:00, 283.55it/s]"
     ]
    },
    {
     "name": "stdout",
     "output_type": "stream",
     "text": [
      "\t eval rmse: 1.0199\n",
      "\t eval mae: 0.8153\n",
      "\t eval r2: 0.0168\n",
      "==============================\n"
     ]
    },
    {
     "name": "stderr",
     "output_type": "stream",
     "text": [
      "\n"
     ]
    },
    {
     "name": "stdout",
     "output_type": "stream",
     "text": [
      "Epoch 3 elapsed: 0.144s\n"
     ]
    },
    {
     "name": "stderr",
     "output_type": "stream",
     "text": [
      "eval_pred: 100%|██████████████████████████████████████████████████████████████████████| 15/15 [00:00<00:00, 268.57it/s]"
     ]
    },
    {
     "name": "stdout",
     "output_type": "stream",
     "text": [
      "\t eval rmse: 1.0130\n",
      "\t eval mae: 0.8080\n",
      "\t eval r2: 0.0299\n",
      "==============================\n"
     ]
    },
    {
     "name": "stderr",
     "output_type": "stream",
     "text": [
      "\n"
     ]
    },
    {
     "name": "stdout",
     "output_type": "stream",
     "text": [
      "Epoch 4 elapsed: 0.141s\n"
     ]
    },
    {
     "name": "stderr",
     "output_type": "stream",
     "text": [
      "eval_pred: 100%|██████████████████████████████████████████████████████████████████████| 15/15 [00:00<00:00, 326.95it/s]"
     ]
    },
    {
     "name": "stdout",
     "output_type": "stream",
     "text": [
      "\t eval rmse: 1.0075\n",
      "\t eval mae: 0.8019\n",
      "\t eval r2: 0.0405\n",
      "==============================\n"
     ]
    },
    {
     "name": "stderr",
     "output_type": "stream",
     "text": [
      "\n"
     ]
    },
    {
     "name": "stdout",
     "output_type": "stream",
     "text": [
      "Epoch 5 elapsed: 0.121s\n"
     ]
    },
    {
     "name": "stderr",
     "output_type": "stream",
     "text": [
      "eval_pred: 100%|██████████████████████████████████████████████████████████████████████| 15/15 [00:00<00:00, 285.95it/s]"
     ]
    },
    {
     "name": "stdout",
     "output_type": "stream",
     "text": [
      "\t eval rmse: 1.0031\n",
      "\t eval mae: 0.7969\n",
      "\t eval r2: 0.0488\n",
      "==============================\n"
     ]
    },
    {
     "name": "stderr",
     "output_type": "stream",
     "text": [
      "\n"
     ]
    },
    {
     "name": "stdout",
     "output_type": "stream",
     "text": [
      "Training start time: \u001b[35m2022-07-19 18:19:14\u001b[0m\n",
      "Epoch 1 elapsed: 0.232s\n"
     ]
    },
    {
     "name": "stderr",
     "output_type": "stream",
     "text": [
      "eval_pred: 100%|██████████████████████████████████████████████████████████████████████| 15/15 [00:00<00:00, 294.76it/s]"
     ]
    },
    {
     "name": "stdout",
     "output_type": "stream",
     "text": [
      "\t eval rmse: 1.0885\n",
      "\t eval mae: 0.8716\n",
      "\t eval r2: -0.1201\n",
      "==============================\n"
     ]
    },
    {
     "name": "stderr",
     "output_type": "stream",
     "text": [
      "\n"
     ]
    },
    {
     "name": "stdout",
     "output_type": "stream",
     "text": [
      "Epoch 2 elapsed: 0.282s\n"
     ]
    },
    {
     "name": "stderr",
     "output_type": "stream",
     "text": [
      "eval_pred: 100%|██████████████████████████████████████████████████████████████████████| 15/15 [00:00<00:00, 313.33it/s]"
     ]
    },
    {
     "name": "stdout",
     "output_type": "stream",
     "text": [
      "\t eval rmse: 1.0810\n",
      "\t eval mae: 0.8554\n",
      "\t eval r2: -0.1047\n",
      "==============================\n"
     ]
    },
    {
     "name": "stderr",
     "output_type": "stream",
     "text": [
      "\n"
     ]
    },
    {
     "name": "stdout",
     "output_type": "stream",
     "text": [
      "Epoch 3 elapsed: 0.255s\n"
     ]
    },
    {
     "name": "stderr",
     "output_type": "stream",
     "text": [
      "eval_pred: 100%|██████████████████████████████████████████████████████████████████████| 15/15 [00:00<00:00, 264.54it/s]"
     ]
    },
    {
     "name": "stdout",
     "output_type": "stream",
     "text": [
      "\t eval rmse: 1.0835\n",
      "\t eval mae: 0.8520\n",
      "\t eval r2: -0.1098\n",
      "==============================\n"
     ]
    },
    {
     "name": "stderr",
     "output_type": "stream",
     "text": [
      "\n"
     ]
    },
    {
     "name": "stdout",
     "output_type": "stream",
     "text": [
      "Epoch 4 elapsed: 0.238s\n"
     ]
    },
    {
     "name": "stderr",
     "output_type": "stream",
     "text": [
      "eval_pred: 100%|██████████████████████████████████████████████████████████████████████| 15/15 [00:00<00:00, 313.19it/s]"
     ]
    },
    {
     "name": "stdout",
     "output_type": "stream",
     "text": [
      "\t eval rmse: 1.0853\n",
      "\t eval mae: 0.8501\n",
      "\t eval r2: -0.1136\n",
      "==============================\n"
     ]
    },
    {
     "name": "stderr",
     "output_type": "stream",
     "text": [
      "\n"
     ]
    },
    {
     "name": "stdout",
     "output_type": "stream",
     "text": [
      "Epoch 5 elapsed: 0.247s\n"
     ]
    },
    {
     "name": "stderr",
     "output_type": "stream",
     "text": [
      "eval_pred: 100%|██████████████████████████████████████████████████████████████████████| 15/15 [00:00<00:00, 313.33it/s]"
     ]
    },
    {
     "name": "stdout",
     "output_type": "stream",
     "text": [
      "\t eval rmse: 1.0869\n",
      "\t eval mae: 0.8492\n",
      "\t eval r2: -0.1167\n",
      "==============================\n"
     ]
    },
    {
     "name": "stderr",
     "output_type": "stream",
     "text": [
      "\n"
     ]
    },
    {
     "name": "stdout",
     "output_type": "stream",
     "text": [
      "Training start time: \u001b[35m2022-07-19 18:19:16\u001b[0m\n",
      "Epoch 1 elapsed: 0.241s\n"
     ]
    },
    {
     "name": "stderr",
     "output_type": "stream",
     "text": [
      "eval_pred: 100%|██████████████████████████████████████████████████████████████████████| 15/15 [00:00<00:00, 268.57it/s]\n"
     ]
    },
    {
     "name": "stdout",
     "output_type": "stream",
     "text": [
      "\t eval rmse: 1.0885\n",
      "\t eval mae: 0.8716\n",
      "\t eval r2: -0.1201\n",
      "==============================\n",
      "Epoch 2 elapsed: 0.248s\n"
     ]
    },
    {
     "name": "stderr",
     "output_type": "stream",
     "text": [
      "eval_pred: 100%|██████████████████████████████████████████████████████████████████████| 15/15 [00:00<00:00, 283.83it/s]"
     ]
    },
    {
     "name": "stdout",
     "output_type": "stream",
     "text": [
      "\t eval rmse: 1.0810\n",
      "\t eval mae: 0.8554\n",
      "\t eval r2: -0.1047\n",
      "==============================\n"
     ]
    },
    {
     "name": "stderr",
     "output_type": "stream",
     "text": [
      "\n"
     ]
    },
    {
     "name": "stdout",
     "output_type": "stream",
     "text": [
      "Epoch 3 elapsed: 0.251s\n"
     ]
    },
    {
     "name": "stderr",
     "output_type": "stream",
     "text": [
      "eval_pred: 100%|██████████████████████████████████████████████████████████████████████| 15/15 [00:00<00:00, 300.78it/s]"
     ]
    },
    {
     "name": "stdout",
     "output_type": "stream",
     "text": [
      "\t eval rmse: 1.0835\n",
      "\t eval mae: 0.8520\n",
      "\t eval r2: -0.1098\n",
      "==============================\n"
     ]
    },
    {
     "name": "stderr",
     "output_type": "stream",
     "text": [
      "\n"
     ]
    },
    {
     "name": "stdout",
     "output_type": "stream",
     "text": [
      "Epoch 4 elapsed: 0.238s\n"
     ]
    },
    {
     "name": "stderr",
     "output_type": "stream",
     "text": [
      "eval_pred: 100%|██████████████████████████████████████████████████████████████████████| 15/15 [00:00<00:00, 318.22it/s]"
     ]
    },
    {
     "name": "stdout",
     "output_type": "stream",
     "text": [
      "\t eval rmse: 1.0853\n",
      "\t eval mae: 0.8501\n",
      "\t eval r2: -0.1136\n",
      "==============================\n"
     ]
    },
    {
     "name": "stderr",
     "output_type": "stream",
     "text": [
      "\n"
     ]
    },
    {
     "name": "stdout",
     "output_type": "stream",
     "text": [
      "Epoch 5 elapsed: 0.250s\n"
     ]
    },
    {
     "name": "stderr",
     "output_type": "stream",
     "text": [
      "eval_pred: 100%|██████████████████████████████████████████████████████████████████████| 15/15 [00:00<00:00, 316.18it/s]"
     ]
    },
    {
     "name": "stdout",
     "output_type": "stream",
     "text": [
      "\t eval rmse: 1.0869\n",
      "\t eval mae: 0.8492\n",
      "\t eval r2: -0.1167\n",
      "==============================\n"
     ]
    },
    {
     "name": "stderr",
     "output_type": "stream",
     "text": [
      "\n"
     ]
    },
    {
     "name": "stdout",
     "output_type": "stream",
     "text": [
      "Training start time: \u001b[35m2022-07-19 18:19:18\u001b[0m\n",
      "Epoch 1 elapsed: 0.227s\n"
     ]
    },
    {
     "name": "stderr",
     "output_type": "stream",
     "text": [
      "eval_pred: 100%|██████████████████████████████████████████████████████████████████████| 15/15 [00:00<00:00, 268.58it/s]"
     ]
    },
    {
     "name": "stdout",
     "output_type": "stream",
     "text": [
      "\t eval rmse: 1.0885\n",
      "\t eval mae: 0.8716\n",
      "\t eval r2: -0.1201\n",
      "==============================\n"
     ]
    },
    {
     "name": "stderr",
     "output_type": "stream",
     "text": [
      "\n"
     ]
    },
    {
     "name": "stdout",
     "output_type": "stream",
     "text": [
      "Epoch 2 elapsed: 0.256s\n"
     ]
    },
    {
     "name": "stderr",
     "output_type": "stream",
     "text": [
      "eval_pred: 100%|██████████████████████████████████████████████████████████████████████| 15/15 [00:00<00:00, 283.78it/s]"
     ]
    },
    {
     "name": "stdout",
     "output_type": "stream",
     "text": [
      "\t eval rmse: 1.0810\n",
      "\t eval mae: 0.8554\n",
      "\t eval r2: -0.1047\n",
      "==============================\n"
     ]
    },
    {
     "name": "stderr",
     "output_type": "stream",
     "text": [
      "\n"
     ]
    },
    {
     "name": "stdout",
     "output_type": "stream",
     "text": [
      "Epoch 3 elapsed: 0.237s\n"
     ]
    },
    {
     "name": "stderr",
     "output_type": "stream",
     "text": [
      "eval_pred: 100%|██████████████████████████████████████████████████████████████████████| 15/15 [00:00<00:00, 306.96it/s]"
     ]
    },
    {
     "name": "stdout",
     "output_type": "stream",
     "text": [
      "\t eval rmse: 1.0835\n",
      "\t eval mae: 0.8520\n",
      "\t eval r2: -0.1098\n",
      "==============================\n"
     ]
    },
    {
     "name": "stderr",
     "output_type": "stream",
     "text": [
      "\n"
     ]
    },
    {
     "name": "stdout",
     "output_type": "stream",
     "text": [
      "Epoch 4 elapsed: 0.228s\n"
     ]
    },
    {
     "name": "stderr",
     "output_type": "stream",
     "text": [
      "eval_pred: 100%|██████████████████████████████████████████████████████████████████████| 15/15 [00:00<00:00, 254.92it/s]"
     ]
    },
    {
     "name": "stdout",
     "output_type": "stream",
     "text": [
      "\t eval rmse: 1.0853\n",
      "\t eval mae: 0.8501\n",
      "\t eval r2: -0.1136\n",
      "==============================\n"
     ]
    },
    {
     "name": "stderr",
     "output_type": "stream",
     "text": [
      "\n"
     ]
    },
    {
     "name": "stdout",
     "output_type": "stream",
     "text": [
      "Epoch 5 elapsed: 0.310s\n"
     ]
    },
    {
     "name": "stderr",
     "output_type": "stream",
     "text": [
      "eval_pred: 100%|██████████████████████████████████████████████████████████████████████| 15/15 [00:00<00:00, 240.30it/s]"
     ]
    },
    {
     "name": "stdout",
     "output_type": "stream",
     "text": [
      "\t eval rmse: 1.0869\n",
      "\t eval mae: 0.8492\n",
      "\t eval r2: -0.1167\n",
      "==============================\n"
     ]
    },
    {
     "name": "stderr",
     "output_type": "stream",
     "text": [
      "\n"
     ]
    },
    {
     "name": "stdout",
     "output_type": "stream",
     "text": [
      "Training start time: \u001b[35m2022-07-19 18:19:21\u001b[0m\n",
      "Epoch 1 elapsed: 0.250s\n"
     ]
    },
    {
     "name": "stderr",
     "output_type": "stream",
     "text": [
      "eval_pred: 100%|██████████████████████████████████████████████████████████████████████| 15/15 [00:00<00:00, 313.34it/s]"
     ]
    },
    {
     "name": "stdout",
     "output_type": "stream",
     "text": [
      "\t eval rmse: 1.0885\n",
      "\t eval mae: 0.8716\n",
      "\t eval r2: -0.1201\n",
      "==============================\n"
     ]
    },
    {
     "name": "stderr",
     "output_type": "stream",
     "text": [
      "\n"
     ]
    },
    {
     "name": "stdout",
     "output_type": "stream",
     "text": [
      "Epoch 2 elapsed: 0.261s\n"
     ]
    },
    {
     "name": "stderr",
     "output_type": "stream",
     "text": [
      "eval_pred: 100%|██████████████████████████████████████████████████████████████████████| 15/15 [00:00<00:00, 300.74it/s]"
     ]
    },
    {
     "name": "stdout",
     "output_type": "stream",
     "text": [
      "\t eval rmse: 1.0810\n",
      "\t eval mae: 0.8554\n",
      "\t eval r2: -0.1047\n",
      "==============================\n"
     ]
    },
    {
     "name": "stderr",
     "output_type": "stream",
     "text": [
      "\n"
     ]
    },
    {
     "name": "stdout",
     "output_type": "stream",
     "text": [
      "Epoch 3 elapsed: 0.261s\n"
     ]
    },
    {
     "name": "stderr",
     "output_type": "stream",
     "text": [
      "eval_pred: 100%|██████████████████████████████████████████████████████████████████████| 15/15 [00:00<00:00, 240.59it/s]"
     ]
    },
    {
     "name": "stdout",
     "output_type": "stream",
     "text": [
      "\t eval rmse: 1.0835\n",
      "\t eval mae: 0.8520\n",
      "\t eval r2: -0.1098\n",
      "==============================\n"
     ]
    },
    {
     "name": "stderr",
     "output_type": "stream",
     "text": [
      "\n"
     ]
    },
    {
     "name": "stdout",
     "output_type": "stream",
     "text": [
      "Epoch 4 elapsed: 0.253s\n"
     ]
    },
    {
     "name": "stderr",
     "output_type": "stream",
     "text": [
      "eval_pred: 100%|██████████████████████████████████████████████████████████████████████| 15/15 [00:00<00:00, 275.55it/s]"
     ]
    },
    {
     "name": "stdout",
     "output_type": "stream",
     "text": [
      "\t eval rmse: 1.0853\n",
      "\t eval mae: 0.8501\n",
      "\t eval r2: -0.1136\n",
      "==============================\n"
     ]
    },
    {
     "name": "stderr",
     "output_type": "stream",
     "text": [
      "\n"
     ]
    },
    {
     "name": "stdout",
     "output_type": "stream",
     "text": [
      "Epoch 5 elapsed: 0.269s\n"
     ]
    },
    {
     "name": "stderr",
     "output_type": "stream",
     "text": [
      "eval_pred: 100%|██████████████████████████████████████████████████████████████████████| 15/15 [00:00<00:00, 310.03it/s]"
     ]
    },
    {
     "name": "stdout",
     "output_type": "stream",
     "text": [
      "\t eval rmse: 1.0869\n",
      "\t eval mae: 0.8492\n",
      "\t eval r2: -0.1167\n",
      "==============================\n"
     ]
    },
    {
     "name": "stderr",
     "output_type": "stream",
     "text": [
      "\n"
     ]
    },
    {
     "name": "stdout",
     "output_type": "stream",
     "text": [
      "Training start time: \u001b[35m2022-07-19 18:19:23\u001b[0m\n",
      "Epoch 1 elapsed: 0.211s\n"
     ]
    },
    {
     "name": "stderr",
     "output_type": "stream",
     "text": [
      "eval_pred: 100%|██████████████████████████████████████████████████████████████████████| 15/15 [00:00<00:00, 238.72it/s]"
     ]
    },
    {
     "name": "stdout",
     "output_type": "stream",
     "text": [
      "\t eval rmse: 1.0885\n",
      "\t eval mae: 0.8716\n",
      "\t eval r2: -0.1201\n",
      "==============================\n"
     ]
    },
    {
     "name": "stderr",
     "output_type": "stream",
     "text": [
      "\n"
     ]
    },
    {
     "name": "stdout",
     "output_type": "stream",
     "text": [
      "Epoch 2 elapsed: 0.266s\n"
     ]
    },
    {
     "name": "stderr",
     "output_type": "stream",
     "text": [
      "eval_pred: 100%|██████████████████████████████████████████████████████████████████████| 15/15 [00:00<00:00, 303.53it/s]"
     ]
    },
    {
     "name": "stdout",
     "output_type": "stream",
     "text": [
      "\t eval rmse: 1.0810\n",
      "\t eval mae: 0.8554\n",
      "\t eval r2: -0.1047\n",
      "==============================\n"
     ]
    },
    {
     "name": "stderr",
     "output_type": "stream",
     "text": [
      "\n"
     ]
    },
    {
     "name": "stdout",
     "output_type": "stream",
     "text": [
      "Epoch 3 elapsed: 0.268s\n"
     ]
    },
    {
     "name": "stderr",
     "output_type": "stream",
     "text": [
      "eval_pred: 100%|██████████████████████████████████████████████████████████████████████| 15/15 [00:00<00:00, 254.92it/s]"
     ]
    },
    {
     "name": "stdout",
     "output_type": "stream",
     "text": [
      "\t eval rmse: 1.0835\n",
      "\t eval mae: 0.8520\n",
      "\t eval r2: -0.1098\n",
      "==============================\n"
     ]
    },
    {
     "name": "stderr",
     "output_type": "stream",
     "text": [
      "\n"
     ]
    },
    {
     "name": "stdout",
     "output_type": "stream",
     "text": [
      "Epoch 4 elapsed: 0.261s\n"
     ]
    },
    {
     "name": "stderr",
     "output_type": "stream",
     "text": [
      "eval_pred: 100%|██████████████████████████████████████████████████████████████████████| 15/15 [00:00<00:00, 294.69it/s]"
     ]
    },
    {
     "name": "stdout",
     "output_type": "stream",
     "text": [
      "\t eval rmse: 1.0853\n",
      "\t eval mae: 0.8501\n",
      "\t eval r2: -0.1136\n",
      "==============================\n"
     ]
    },
    {
     "name": "stderr",
     "output_type": "stream",
     "text": [
      "\n"
     ]
    },
    {
     "name": "stdout",
     "output_type": "stream",
     "text": [
      "Epoch 5 elapsed: 0.266s\n"
     ]
    },
    {
     "name": "stderr",
     "output_type": "stream",
     "text": [
      "eval_pred: 100%|██████████████████████████████████████████████████████████████████████| 15/15 [00:00<00:00, 334.22it/s]"
     ]
    },
    {
     "name": "stdout",
     "output_type": "stream",
     "text": [
      "\t eval rmse: 1.0869\n",
      "\t eval mae: 0.8492\n",
      "\t eval r2: -0.1167\n",
      "==============================\n"
     ]
    },
    {
     "name": "stderr",
     "output_type": "stream",
     "text": [
      "\n"
     ]
    },
    {
     "name": "stdout",
     "output_type": "stream",
     "text": [
      "Training start time: \u001b[35m2022-07-19 18:19:25\u001b[0m\n",
      "Epoch 1 elapsed: 0.224s\n"
     ]
    },
    {
     "name": "stderr",
     "output_type": "stream",
     "text": [
      "eval_pred: 100%|██████████████████████████████████████████████████████████████████████| 15/15 [00:00<00:00, 197.89it/s]"
     ]
    },
    {
     "name": "stdout",
     "output_type": "stream",
     "text": [
      "\t eval rmse: 1.0782\n",
      "\t eval mae: 0.8633\n",
      "\t eval r2: -0.0990\n",
      "==============================\n"
     ]
    },
    {
     "name": "stderr",
     "output_type": "stream",
     "text": [
      "\n"
     ]
    },
    {
     "name": "stdout",
     "output_type": "stream",
     "text": [
      "Epoch 2 elapsed: 0.255s\n"
     ]
    },
    {
     "name": "stderr",
     "output_type": "stream",
     "text": [
      "eval_pred: 100%|██████████████████████████████████████████████████████████████████████| 15/15 [00:00<00:00, 254.88it/s]"
     ]
    },
    {
     "name": "stdout",
     "output_type": "stream",
     "text": [
      "\t eval rmse: 1.0831\n",
      "\t eval mae: 0.8565\n",
      "\t eval r2: -0.1089\n",
      "==============================\n"
     ]
    },
    {
     "name": "stderr",
     "output_type": "stream",
     "text": [
      "\n"
     ]
    },
    {
     "name": "stdout",
     "output_type": "stream",
     "text": [
      "Epoch 3 elapsed: 0.273s\n"
     ]
    },
    {
     "name": "stderr",
     "output_type": "stream",
     "text": [
      "eval_pred: 100%|██████████████████████████████████████████████████████████████████████| 15/15 [00:00<00:00, 310.03it/s]"
     ]
    },
    {
     "name": "stdout",
     "output_type": "stream",
     "text": [
      "\t eval rmse: 1.0851\n",
      "\t eval mae: 0.8529\n",
      "\t eval r2: -0.1132\n",
      "==============================\n"
     ]
    },
    {
     "name": "stderr",
     "output_type": "stream",
     "text": [
      "\n"
     ]
    },
    {
     "name": "stdout",
     "output_type": "stream",
     "text": [
      "Epoch 4 elapsed: 0.257s\n"
     ]
    },
    {
     "name": "stderr",
     "output_type": "stream",
     "text": [
      "eval_pred: 100%|██████████████████████████████████████████████████████████████████████| 15/15 [00:00<00:00, 309.93it/s]"
     ]
    },
    {
     "name": "stdout",
     "output_type": "stream",
     "text": [
      "\t eval rmse: 1.0865\n",
      "\t eval mae: 0.8507\n",
      "\t eval r2: -0.1159\n",
      "==============================\n"
     ]
    },
    {
     "name": "stderr",
     "output_type": "stream",
     "text": [
      "\n"
     ]
    },
    {
     "name": "stdout",
     "output_type": "stream",
     "text": [
      "Epoch 5 elapsed: 0.252s\n"
     ]
    },
    {
     "name": "stderr",
     "output_type": "stream",
     "text": [
      "eval_pred: 100%|██████████████████████████████████████████████████████████████████████| 15/15 [00:00<00:00, 266.08it/s]"
     ]
    },
    {
     "name": "stdout",
     "output_type": "stream",
     "text": [
      "\t eval rmse: 1.0875\n",
      "\t eval mae: 0.8495\n",
      "\t eval r2: -0.1179\n",
      "==============================\n"
     ]
    },
    {
     "name": "stderr",
     "output_type": "stream",
     "text": [
      "\n"
     ]
    },
    {
     "name": "stdout",
     "output_type": "stream",
     "text": [
      "Training start time: \u001b[35m2022-07-19 18:19:28\u001b[0m\n",
      "Epoch 1 elapsed: 0.247s\n"
     ]
    },
    {
     "name": "stderr",
     "output_type": "stream",
     "text": [
      "eval_pred: 100%|██████████████████████████████████████████████████████████████████████| 15/15 [00:00<00:00, 348.93it/s]"
     ]
    },
    {
     "name": "stdout",
     "output_type": "stream",
     "text": [
      "\t eval rmse: 1.0782\n",
      "\t eval mae: 0.8633\n",
      "\t eval r2: -0.0990\n",
      "==============================\n"
     ]
    },
    {
     "name": "stderr",
     "output_type": "stream",
     "text": [
      "\n"
     ]
    },
    {
     "name": "stdout",
     "output_type": "stream",
     "text": [
      "Epoch 2 elapsed: 0.253s\n"
     ]
    },
    {
     "name": "stderr",
     "output_type": "stream",
     "text": [
      "eval_pred: 100%|██████████████████████████████████████████████████████████████████████| 15/15 [00:00<00:00, 289.14it/s]"
     ]
    },
    {
     "name": "stdout",
     "output_type": "stream",
     "text": [
      "\t eval rmse: 1.0831\n",
      "\t eval mae: 0.8565\n",
      "\t eval r2: -0.1089\n",
      "==============================\n"
     ]
    },
    {
     "name": "stderr",
     "output_type": "stream",
     "text": [
      "\n"
     ]
    },
    {
     "name": "stdout",
     "output_type": "stream",
     "text": [
      "Epoch 3 elapsed: 0.286s\n"
     ]
    },
    {
     "name": "stderr",
     "output_type": "stream",
     "text": [
      "eval_pred: 100%|██████████████████████████████████████████████████████████████████████| 15/15 [00:00<00:00, 326.96it/s]"
     ]
    },
    {
     "name": "stdout",
     "output_type": "stream",
     "text": [
      "\t eval rmse: 1.0851\n",
      "\t eval mae: 0.8529\n",
      "\t eval r2: -0.1132\n",
      "==============================\n"
     ]
    },
    {
     "name": "stderr",
     "output_type": "stream",
     "text": [
      "\n"
     ]
    },
    {
     "name": "stdout",
     "output_type": "stream",
     "text": [
      "Epoch 4 elapsed: 0.249s\n"
     ]
    },
    {
     "name": "stderr",
     "output_type": "stream",
     "text": [
      "eval_pred: 100%|██████████████████████████████████████████████████████████████████████| 15/15 [00:00<00:00, 278.52it/s]"
     ]
    },
    {
     "name": "stdout",
     "output_type": "stream",
     "text": [
      "\t eval rmse: 1.0865\n",
      "\t eval mae: 0.8507\n",
      "\t eval r2: -0.1159\n",
      "==============================\n"
     ]
    },
    {
     "name": "stderr",
     "output_type": "stream",
     "text": [
      "\n"
     ]
    },
    {
     "name": "stdout",
     "output_type": "stream",
     "text": [
      "Epoch 5 elapsed: 0.246s\n"
     ]
    },
    {
     "name": "stderr",
     "output_type": "stream",
     "text": [
      "eval_pred: 100%|██████████████████████████████████████████████████████████████████████| 15/15 [00:00<00:00, 278.57it/s]"
     ]
    },
    {
     "name": "stdout",
     "output_type": "stream",
     "text": [
      "\t eval rmse: 1.0875\n",
      "\t eval mae: 0.8495\n",
      "\t eval r2: -0.1179\n",
      "==============================\n"
     ]
    },
    {
     "name": "stderr",
     "output_type": "stream",
     "text": [
      "\n"
     ]
    },
    {
     "name": "stdout",
     "output_type": "stream",
     "text": [
      "Training start time: \u001b[35m2022-07-19 18:19:30\u001b[0m\n",
      "Epoch 1 elapsed: 0.265s\n"
     ]
    },
    {
     "name": "stderr",
     "output_type": "stream",
     "text": [
      "eval_pred: 100%|██████████████████████████████████████████████████████████████████████| 15/15 [00:00<00:00, 358.11it/s]"
     ]
    },
    {
     "name": "stdout",
     "output_type": "stream",
     "text": [
      "\t eval rmse: 1.0782\n",
      "\t eval mae: 0.8633\n",
      "\t eval r2: -0.0990\n",
      "==============================\n"
     ]
    },
    {
     "name": "stderr",
     "output_type": "stream",
     "text": [
      "\n"
     ]
    },
    {
     "name": "stdout",
     "output_type": "stream",
     "text": [
      "Epoch 2 elapsed: 0.243s\n"
     ]
    },
    {
     "name": "stderr",
     "output_type": "stream",
     "text": [
      "eval_pred: 100%|██████████████████████████████████████████████████████████████████████| 15/15 [00:00<00:00, 303.73it/s]"
     ]
    },
    {
     "name": "stdout",
     "output_type": "stream",
     "text": [
      "\t eval rmse: 1.0831\n",
      "\t eval mae: 0.8565\n",
      "\t eval r2: -0.1089\n",
      "==============================\n"
     ]
    },
    {
     "name": "stderr",
     "output_type": "stream",
     "text": [
      "\n"
     ]
    },
    {
     "name": "stdout",
     "output_type": "stream",
     "text": [
      "Epoch 3 elapsed: 0.268s\n"
     ]
    },
    {
     "name": "stderr",
     "output_type": "stream",
     "text": [
      "eval_pred: 100%|██████████████████████████████████████████████████████████████████████| 15/15 [00:00<00:00, 390.26it/s]"
     ]
    },
    {
     "name": "stdout",
     "output_type": "stream",
     "text": [
      "\t eval rmse: 1.0851\n",
      "\t eval mae: 0.8529\n",
      "\t eval r2: -0.1132\n",
      "==============================\n"
     ]
    },
    {
     "name": "stderr",
     "output_type": "stream",
     "text": [
      "\n"
     ]
    },
    {
     "name": "stdout",
     "output_type": "stream",
     "text": [
      "Epoch 4 elapsed: 0.258s\n"
     ]
    },
    {
     "name": "stderr",
     "output_type": "stream",
     "text": [
      "eval_pred: 100%|██████████████████████████████████████████████████████████████████████| 15/15 [00:00<00:00, 278.50it/s]"
     ]
    },
    {
     "name": "stdout",
     "output_type": "stream",
     "text": [
      "\t eval rmse: 1.0865\n",
      "\t eval mae: 0.8507\n",
      "\t eval r2: -0.1159\n",
      "==============================\n"
     ]
    },
    {
     "name": "stderr",
     "output_type": "stream",
     "text": [
      "\n"
     ]
    },
    {
     "name": "stdout",
     "output_type": "stream",
     "text": [
      "Epoch 5 elapsed: 0.245s\n"
     ]
    },
    {
     "name": "stderr",
     "output_type": "stream",
     "text": [
      "eval_pred: 100%|██████████████████████████████████████████████████████████████████████| 15/15 [00:00<00:00, 349.77it/s]"
     ]
    },
    {
     "name": "stdout",
     "output_type": "stream",
     "text": [
      "\t eval rmse: 1.0875\n",
      "\t eval mae: 0.8495\n",
      "\t eval r2: -0.1179\n",
      "==============================\n"
     ]
    },
    {
     "name": "stderr",
     "output_type": "stream",
     "text": [
      "\n"
     ]
    },
    {
     "name": "stdout",
     "output_type": "stream",
     "text": [
      "Training start time: \u001b[35m2022-07-19 18:19:33\u001b[0m\n",
      "Epoch 1 elapsed: 0.231s\n"
     ]
    },
    {
     "name": "stderr",
     "output_type": "stream",
     "text": [
      "eval_pred: 100%|██████████████████████████████████████████████████████████████████████| 15/15 [00:00<00:00, 341.85it/s]"
     ]
    },
    {
     "name": "stdout",
     "output_type": "stream",
     "text": [
      "\t eval rmse: 1.0782\n",
      "\t eval mae: 0.8633\n",
      "\t eval r2: -0.0990\n",
      "==============================\n"
     ]
    },
    {
     "name": "stderr",
     "output_type": "stream",
     "text": [
      "\n"
     ]
    },
    {
     "name": "stdout",
     "output_type": "stream",
     "text": [
      "Epoch 2 elapsed: 0.246s\n"
     ]
    },
    {
     "name": "stderr",
     "output_type": "stream",
     "text": [
      "eval_pred: 100%|██████████████████████████████████████████████████████████████████████| 15/15 [00:00<00:00, 334.23it/s]"
     ]
    },
    {
     "name": "stdout",
     "output_type": "stream",
     "text": [
      "\t eval rmse: 1.0831\n",
      "\t eval mae: 0.8565\n",
      "\t eval r2: -0.1089\n",
      "==============================\n"
     ]
    },
    {
     "name": "stderr",
     "output_type": "stream",
     "text": [
      "\n"
     ]
    },
    {
     "name": "stdout",
     "output_type": "stream",
     "text": [
      "Epoch 3 elapsed: 0.249s\n"
     ]
    },
    {
     "name": "stderr",
     "output_type": "stream",
     "text": [
      "eval_pred: 100%|██████████████████████████████████████████████████████████████████████| 15/15 [00:00<00:00, 349.78it/s]"
     ]
    },
    {
     "name": "stdout",
     "output_type": "stream",
     "text": [
      "\t eval rmse: 1.0851\n",
      "\t eval mae: 0.8529\n",
      "\t eval r2: -0.1132\n",
      "==============================\n"
     ]
    },
    {
     "name": "stderr",
     "output_type": "stream",
     "text": [
      "\n"
     ]
    },
    {
     "name": "stdout",
     "output_type": "stream",
     "text": [
      "Epoch 4 elapsed: 0.240s\n"
     ]
    },
    {
     "name": "stderr",
     "output_type": "stream",
     "text": [
      "eval_pred: 100%|██████████████████████████████████████████████████████████████████████| 15/15 [00:00<00:00, 341.83it/s]"
     ]
    },
    {
     "name": "stdout",
     "output_type": "stream",
     "text": [
      "\t eval rmse: 1.0865\n",
      "\t eval mae: 0.8507\n",
      "\t eval r2: -0.1159\n",
      "==============================\n"
     ]
    },
    {
     "name": "stderr",
     "output_type": "stream",
     "text": [
      "\n"
     ]
    },
    {
     "name": "stdout",
     "output_type": "stream",
     "text": [
      "Epoch 5 elapsed: 0.245s\n"
     ]
    },
    {
     "name": "stderr",
     "output_type": "stream",
     "text": [
      "eval_pred: 100%|██████████████████████████████████████████████████████████████████████| 15/15 [00:00<00:00, 313.24it/s]"
     ]
    },
    {
     "name": "stdout",
     "output_type": "stream",
     "text": [
      "\t eval rmse: 1.0875\n",
      "\t eval mae: 0.8495\n",
      "\t eval r2: -0.1179\n",
      "==============================\n"
     ]
    },
    {
     "name": "stderr",
     "output_type": "stream",
     "text": [
      "\n"
     ]
    },
    {
     "name": "stdout",
     "output_type": "stream",
     "text": [
      "Training start time: \u001b[35m2022-07-19 18:19:35\u001b[0m\n",
      "Epoch 1 elapsed: 0.228s\n"
     ]
    },
    {
     "name": "stderr",
     "output_type": "stream",
     "text": [
      "eval_pred: 100%|██████████████████████████████████████████████████████████████████████| 15/15 [00:00<00:00, 349.77it/s]"
     ]
    },
    {
     "name": "stdout",
     "output_type": "stream",
     "text": [
      "\t eval rmse: 1.0782\n",
      "\t eval mae: 0.8633\n",
      "\t eval r2: -0.0990\n",
      "==============================\n"
     ]
    },
    {
     "name": "stderr",
     "output_type": "stream",
     "text": [
      "\n"
     ]
    },
    {
     "name": "stdout",
     "output_type": "stream",
     "text": [
      "Epoch 2 elapsed: 0.235s\n"
     ]
    },
    {
     "name": "stderr",
     "output_type": "stream",
     "text": [
      "eval_pred: 100%|██████████████████████████████████████████████████████████████████████| 15/15 [00:00<00:00, 224.55it/s]"
     ]
    },
    {
     "name": "stdout",
     "output_type": "stream",
     "text": [
      "\t eval rmse: 1.0831\n",
      "\t eval mae: 0.8565\n",
      "\t eval r2: -0.1089\n",
      "==============================\n"
     ]
    },
    {
     "name": "stderr",
     "output_type": "stream",
     "text": [
      "\n"
     ]
    },
    {
     "name": "stdout",
     "output_type": "stream",
     "text": [
      "Epoch 3 elapsed: 0.246s\n"
     ]
    },
    {
     "name": "stderr",
     "output_type": "stream",
     "text": [
      "eval_pred: 100%|██████████████████████████████████████████████████████████████████████| 15/15 [00:00<00:00, 294.93it/s]"
     ]
    },
    {
     "name": "stdout",
     "output_type": "stream",
     "text": [
      "\t eval rmse: 1.0851\n",
      "\t eval mae: 0.8529\n",
      "\t eval r2: -0.1132\n",
      "==============================\n"
     ]
    },
    {
     "name": "stderr",
     "output_type": "stream",
     "text": [
      "\n"
     ]
    },
    {
     "name": "stdout",
     "output_type": "stream",
     "text": [
      "Epoch 4 elapsed: 0.239s\n"
     ]
    },
    {
     "name": "stderr",
     "output_type": "stream",
     "text": [
      "eval_pred: 100%|██████████████████████████████████████████████████████████████████████| 15/15 [00:00<00:00, 319.95it/s]"
     ]
    },
    {
     "name": "stdout",
     "output_type": "stream",
     "text": [
      "\t eval rmse: 1.0865\n",
      "\t eval mae: 0.8507\n",
      "\t eval r2: -0.1159\n",
      "==============================\n"
     ]
    },
    {
     "name": "stderr",
     "output_type": "stream",
     "text": [
      "\n"
     ]
    },
    {
     "name": "stdout",
     "output_type": "stream",
     "text": [
      "Epoch 5 elapsed: 0.246s\n"
     ]
    },
    {
     "name": "stderr",
     "output_type": "stream",
     "text": [
      "eval_pred: 100%|██████████████████████████████████████████████████████████████████████| 15/15 [00:00<00:00, 259.30it/s]"
     ]
    },
    {
     "name": "stdout",
     "output_type": "stream",
     "text": [
      "\t eval rmse: 1.0875\n",
      "\t eval mae: 0.8495\n",
      "\t eval r2: -0.1179\n",
      "==============================\n"
     ]
    },
    {
     "name": "stderr",
     "output_type": "stream",
     "text": [
      "\n"
     ]
    },
    {
     "name": "stdout",
     "output_type": "stream",
     "text": [
      "Training start time: \u001b[35m2022-07-19 18:19:37\u001b[0m\n",
      "Epoch 1 elapsed: 0.238s\n"
     ]
    },
    {
     "name": "stderr",
     "output_type": "stream",
     "text": [
      "eval_pred: 100%|██████████████████████████████████████████████████████████████████████| 15/15 [00:00<00:00, 316.57it/s]"
     ]
    },
    {
     "name": "stdout",
     "output_type": "stream",
     "text": [
      "\t eval rmse: 1.0747\n",
      "\t eval mae: 0.8607\n",
      "\t eval r2: -0.0917\n",
      "==============================\n"
     ]
    },
    {
     "name": "stderr",
     "output_type": "stream",
     "text": [
      "\n"
     ]
    },
    {
     "name": "stdout",
     "output_type": "stream",
     "text": [
      "Epoch 2 elapsed: 0.222s\n"
     ]
    },
    {
     "name": "stderr",
     "output_type": "stream",
     "text": [
      "eval_pred: 100%|██████████████████████████████████████████████████████████████████████| 15/15 [00:00<00:00, 349.74it/s]"
     ]
    },
    {
     "name": "stdout",
     "output_type": "stream",
     "text": [
      "\t eval rmse: 1.0846\n",
      "\t eval mae: 0.8576\n",
      "\t eval r2: -0.1120\n",
      "==============================\n"
     ]
    },
    {
     "name": "stderr",
     "output_type": "stream",
     "text": [
      "\n"
     ]
    },
    {
     "name": "stdout",
     "output_type": "stream",
     "text": [
      "Epoch 3 elapsed: 0.235s\n"
     ]
    },
    {
     "name": "stderr",
     "output_type": "stream",
     "text": [
      "eval_pred: 100%|██████████████████████████████████████████████████████████████████████| 15/15 [00:00<00:00, 306.86it/s]"
     ]
    },
    {
     "name": "stdout",
     "output_type": "stream",
     "text": [
      "\t eval rmse: 1.0860\n",
      "\t eval mae: 0.8535\n",
      "\t eval r2: -0.1149\n",
      "==============================\n"
     ]
    },
    {
     "name": "stderr",
     "output_type": "stream",
     "text": [
      "\n"
     ]
    },
    {
     "name": "stdout",
     "output_type": "stream",
     "text": [
      "Epoch 4 elapsed: 0.222s\n"
     ]
    },
    {
     "name": "stderr",
     "output_type": "stream",
     "text": [
      "eval_pred: 100%|██████████████████████████████████████████████████████████████████████| 15/15 [00:00<00:00, 246.56it/s]"
     ]
    },
    {
     "name": "stdout",
     "output_type": "stream",
     "text": [
      "\t eval rmse: 1.0865\n",
      "\t eval mae: 0.8507\n",
      "\t eval r2: -0.1159\n",
      "==============================\n"
     ]
    },
    {
     "name": "stderr",
     "output_type": "stream",
     "text": [
      "\n"
     ]
    },
    {
     "name": "stdout",
     "output_type": "stream",
     "text": [
      "Epoch 5 elapsed: 0.227s\n"
     ]
    },
    {
     "name": "stderr",
     "output_type": "stream",
     "text": [
      "eval_pred: 100%|██████████████████████████████████████████████████████████████████████| 15/15 [00:00<00:00, 319.56it/s]"
     ]
    },
    {
     "name": "stdout",
     "output_type": "stream",
     "text": [
      "\t eval rmse: 1.0865\n",
      "\t eval mae: 0.8488\n",
      "\t eval r2: -0.1160\n",
      "==============================\n"
     ]
    },
    {
     "name": "stderr",
     "output_type": "stream",
     "text": [
      "\n"
     ]
    },
    {
     "name": "stdout",
     "output_type": "stream",
     "text": [
      "Training start time: \u001b[35m2022-07-19 18:19:39\u001b[0m\n",
      "Epoch 1 elapsed: 0.201s\n"
     ]
    },
    {
     "name": "stderr",
     "output_type": "stream",
     "text": [
      "eval_pred: 100%|██████████████████████████████████████████████████████████████████████| 15/15 [00:00<00:00, 316.41it/s]"
     ]
    },
    {
     "name": "stdout",
     "output_type": "stream",
     "text": [
      "\t eval rmse: 1.0747\n",
      "\t eval mae: 0.8607\n",
      "\t eval r2: -0.0917\n",
      "==============================\n"
     ]
    },
    {
     "name": "stderr",
     "output_type": "stream",
     "text": [
      "\n"
     ]
    },
    {
     "name": "stdout",
     "output_type": "stream",
     "text": [
      "Epoch 2 elapsed: 0.248s\n"
     ]
    },
    {
     "name": "stderr",
     "output_type": "stream",
     "text": [
      "eval_pred: 100%|██████████████████████████████████████████████████████████████████████| 15/15 [00:00<00:00, 326.95it/s]"
     ]
    },
    {
     "name": "stdout",
     "output_type": "stream",
     "text": [
      "\t eval rmse: 1.0846\n",
      "\t eval mae: 0.8576\n",
      "\t eval r2: -0.1120\n",
      "==============================\n"
     ]
    },
    {
     "name": "stderr",
     "output_type": "stream",
     "text": [
      "\n"
     ]
    },
    {
     "name": "stdout",
     "output_type": "stream",
     "text": [
      "Epoch 3 elapsed: 0.248s\n"
     ]
    },
    {
     "name": "stderr",
     "output_type": "stream",
     "text": [
      "eval_pred: 100%|██████████████████████████████████████████████████████████████████████| 15/15 [00:00<00:00, 273.44it/s]"
     ]
    },
    {
     "name": "stdout",
     "output_type": "stream",
     "text": [
      "\t eval rmse: 1.0860\n",
      "\t eval mae: 0.8535\n",
      "\t eval r2: -0.1149\n",
      "==============================\n"
     ]
    },
    {
     "name": "stderr",
     "output_type": "stream",
     "text": [
      "\n"
     ]
    },
    {
     "name": "stdout",
     "output_type": "stream",
     "text": [
      "Epoch 4 elapsed: 0.229s\n"
     ]
    },
    {
     "name": "stderr",
     "output_type": "stream",
     "text": [
      "eval_pred: 100%|██████████████████████████████████████████████████████████████████████| 15/15 [00:00<00:00, 294.89it/s]"
     ]
    },
    {
     "name": "stdout",
     "output_type": "stream",
     "text": [
      "\t eval rmse: 1.0865\n",
      "\t eval mae: 0.8507\n",
      "\t eval r2: -0.1159\n",
      "==============================\n"
     ]
    },
    {
     "name": "stderr",
     "output_type": "stream",
     "text": [
      "\n"
     ]
    },
    {
     "name": "stdout",
     "output_type": "stream",
     "text": [
      "Epoch 5 elapsed: 0.240s\n"
     ]
    },
    {
     "name": "stderr",
     "output_type": "stream",
     "text": [
      "eval_pred: 100%|██████████████████████████████████████████████████████████████████████| 15/15 [00:00<00:00, 337.82it/s]"
     ]
    },
    {
     "name": "stdout",
     "output_type": "stream",
     "text": [
      "\t eval rmse: 1.0865\n",
      "\t eval mae: 0.8488\n",
      "\t eval r2: -0.1160\n",
      "==============================\n"
     ]
    },
    {
     "name": "stderr",
     "output_type": "stream",
     "text": [
      "\n"
     ]
    },
    {
     "name": "stdout",
     "output_type": "stream",
     "text": [
      "Training start time: \u001b[35m2022-07-19 18:19:41\u001b[0m\n",
      "Epoch 1 elapsed: 0.235s\n"
     ]
    },
    {
     "name": "stderr",
     "output_type": "stream",
     "text": [
      "eval_pred: 100%|██████████████████████████████████████████████████████████████████████| 15/15 [00:00<00:00, 322.85it/s]"
     ]
    },
    {
     "name": "stdout",
     "output_type": "stream",
     "text": [
      "\t eval rmse: 1.0747\n",
      "\t eval mae: 0.8607\n",
      "\t eval r2: -0.0917\n",
      "==============================\n"
     ]
    },
    {
     "name": "stderr",
     "output_type": "stream",
     "text": [
      "\n"
     ]
    },
    {
     "name": "stdout",
     "output_type": "stream",
     "text": [
      "Epoch 2 elapsed: 0.215s\n"
     ]
    },
    {
     "name": "stderr",
     "output_type": "stream",
     "text": [
      "eval_pred: 100%|██████████████████████████████████████████████████████████████████████| 15/15 [00:00<00:00, 366.83it/s]"
     ]
    },
    {
     "name": "stdout",
     "output_type": "stream",
     "text": [
      "\t eval rmse: 1.0846\n",
      "\t eval mae: 0.8576\n",
      "\t eval r2: -0.1120\n",
      "==============================\n"
     ]
    },
    {
     "name": "stderr",
     "output_type": "stream",
     "text": [
      "\n"
     ]
    },
    {
     "name": "stdout",
     "output_type": "stream",
     "text": [
      "Epoch 3 elapsed: 0.258s\n"
     ]
    },
    {
     "name": "stderr",
     "output_type": "stream",
     "text": [
      "eval_pred: 100%|██████████████████████████████████████████████████████████████████████| 15/15 [00:00<00:00, 306.93it/s]"
     ]
    },
    {
     "name": "stdout",
     "output_type": "stream",
     "text": [
      "\t eval rmse: 1.0860\n",
      "\t eval mae: 0.8535\n",
      "\t eval r2: -0.1149\n",
      "==============================\n"
     ]
    },
    {
     "name": "stderr",
     "output_type": "stream",
     "text": [
      "\n"
     ]
    },
    {
     "name": "stdout",
     "output_type": "stream",
     "text": [
      "Epoch 4 elapsed: 0.256s\n"
     ]
    },
    {
     "name": "stderr",
     "output_type": "stream",
     "text": [
      "eval_pred: 100%|██████████████████████████████████████████████████████████████████████| 15/15 [00:00<00:00, 341.82it/s]"
     ]
    },
    {
     "name": "stdout",
     "output_type": "stream",
     "text": [
      "\t eval rmse: 1.0865\n",
      "\t eval mae: 0.8507\n",
      "\t eval r2: -0.1159\n",
      "==============================\n"
     ]
    },
    {
     "name": "stderr",
     "output_type": "stream",
     "text": [
      "\n"
     ]
    },
    {
     "name": "stdout",
     "output_type": "stream",
     "text": [
      "Epoch 5 elapsed: 0.249s\n"
     ]
    },
    {
     "name": "stderr",
     "output_type": "stream",
     "text": [
      "eval_pred: 100%|██████████████████████████████████████████████████████████████████████| 15/15 [00:00<00:00, 300.07it/s]"
     ]
    },
    {
     "name": "stdout",
     "output_type": "stream",
     "text": [
      "\t eval rmse: 1.0865\n",
      "\t eval mae: 0.8488\n",
      "\t eval r2: -0.1160\n",
      "==============================\n"
     ]
    },
    {
     "name": "stderr",
     "output_type": "stream",
     "text": [
      "\n"
     ]
    },
    {
     "name": "stdout",
     "output_type": "stream",
     "text": [
      "Training start time: \u001b[35m2022-07-19 18:19:43\u001b[0m\n",
      "Epoch 1 elapsed: 0.210s\n"
     ]
    },
    {
     "name": "stderr",
     "output_type": "stream",
     "text": [
      "eval_pred: 100%|██████████████████████████████████████████████████████████████████████| 15/15 [00:00<00:00, 238.73it/s]"
     ]
    },
    {
     "name": "stdout",
     "output_type": "stream",
     "text": [
      "\t eval rmse: 1.0747\n",
      "\t eval mae: 0.8607\n",
      "\t eval r2: -0.0917\n",
      "==============================\n"
     ]
    },
    {
     "name": "stderr",
     "output_type": "stream",
     "text": [
      "\n"
     ]
    },
    {
     "name": "stdout",
     "output_type": "stream",
     "text": [
      "Epoch 2 elapsed: 0.244s\n"
     ]
    },
    {
     "name": "stderr",
     "output_type": "stream",
     "text": [
      "eval_pred: 100%|██████████████████████████████████████████████████████████████████████| 15/15 [00:00<00:00, 320.00it/s]"
     ]
    },
    {
     "name": "stdout",
     "output_type": "stream",
     "text": [
      "\t eval rmse: 1.0846\n",
      "\t eval mae: 0.8576\n",
      "\t eval r2: -0.1120\n",
      "==============================\n"
     ]
    },
    {
     "name": "stderr",
     "output_type": "stream",
     "text": [
      "\n"
     ]
    },
    {
     "name": "stdout",
     "output_type": "stream",
     "text": [
      "Epoch 3 elapsed: 0.253s\n"
     ]
    },
    {
     "name": "stderr",
     "output_type": "stream",
     "text": [
      "eval_pred: 100%|██████████████████████████████████████████████████████████████████████| 15/15 [00:00<00:00, 232.86it/s]"
     ]
    },
    {
     "name": "stdout",
     "output_type": "stream",
     "text": [
      "\t eval rmse: 1.0860\n",
      "\t eval mae: 0.8535\n",
      "\t eval r2: -0.1149\n",
      "==============================\n"
     ]
    },
    {
     "name": "stderr",
     "output_type": "stream",
     "text": [
      "\n"
     ]
    },
    {
     "name": "stdout",
     "output_type": "stream",
     "text": [
      "Epoch 4 elapsed: 0.262s\n"
     ]
    },
    {
     "name": "stderr",
     "output_type": "stream",
     "text": [
      "eval_pred: 100%|██████████████████████████████████████████████████████████████████████| 15/15 [00:00<00:00, 278.30it/s]"
     ]
    },
    {
     "name": "stdout",
     "output_type": "stream",
     "text": [
      "\t eval rmse: 1.0865\n",
      "\t eval mae: 0.8507\n",
      "\t eval r2: -0.1159\n",
      "==============================\n"
     ]
    },
    {
     "name": "stderr",
     "output_type": "stream",
     "text": [
      "\n"
     ]
    },
    {
     "name": "stdout",
     "output_type": "stream",
     "text": [
      "Epoch 5 elapsed: 0.237s\n"
     ]
    },
    {
     "name": "stderr",
     "output_type": "stream",
     "text": [
      "eval_pred: 100%|██████████████████████████████████████████████████████████████████████| 15/15 [00:00<00:00, 366.83it/s]"
     ]
    },
    {
     "name": "stdout",
     "output_type": "stream",
     "text": [
      "\t eval rmse: 1.0865\n",
      "\t eval mae: 0.8488\n",
      "\t eval r2: -0.1160\n",
      "==============================\n"
     ]
    },
    {
     "name": "stderr",
     "output_type": "stream",
     "text": [
      "\n"
     ]
    },
    {
     "name": "stdout",
     "output_type": "stream",
     "text": [
      "Training start time: \u001b[35m2022-07-19 18:19:45\u001b[0m\n",
      "Epoch 1 elapsed: 0.210s\n"
     ]
    },
    {
     "name": "stderr",
     "output_type": "stream",
     "text": [
      "eval_pred: 100%|██████████████████████████████████████████████████████████████████████| 15/15 [00:00<00:00, 300.81it/s]"
     ]
    },
    {
     "name": "stdout",
     "output_type": "stream",
     "text": [
      "\t eval rmse: 1.0747\n",
      "\t eval mae: 0.8607\n",
      "\t eval r2: -0.0917\n",
      "==============================\n"
     ]
    },
    {
     "name": "stderr",
     "output_type": "stream",
     "text": [
      "\n"
     ]
    },
    {
     "name": "stdout",
     "output_type": "stream",
     "text": [
      "Epoch 2 elapsed: 0.245s\n"
     ]
    },
    {
     "name": "stderr",
     "output_type": "stream",
     "text": [
      "eval_pred: 100%|██████████████████████████████████████████████████████████████████████| 15/15 [00:00<00:00, 306.94it/s]"
     ]
    },
    {
     "name": "stdout",
     "output_type": "stream",
     "text": [
      "\t eval rmse: 1.0846\n",
      "\t eval mae: 0.8576\n",
      "\t eval r2: -0.1120\n",
      "==============================\n"
     ]
    },
    {
     "name": "stderr",
     "output_type": "stream",
     "text": [
      "\n"
     ]
    },
    {
     "name": "stdout",
     "output_type": "stream",
     "text": [
      "Epoch 3 elapsed: 0.293s\n"
     ]
    },
    {
     "name": "stderr",
     "output_type": "stream",
     "text": [
      "eval_pred: 100%|██████████████████████████████████████████████████████████████████████| 15/15 [00:00<00:00, 268.36it/s]"
     ]
    },
    {
     "name": "stdout",
     "output_type": "stream",
     "text": [
      "\t eval rmse: 1.0860\n",
      "\t eval mae: 0.8535\n",
      "\t eval r2: -0.1149\n",
      "==============================\n"
     ]
    },
    {
     "name": "stderr",
     "output_type": "stream",
     "text": [
      "\n"
     ]
    },
    {
     "name": "stdout",
     "output_type": "stream",
     "text": [
      "Epoch 4 elapsed: 0.331s\n"
     ]
    },
    {
     "name": "stderr",
     "output_type": "stream",
     "text": [
      "eval_pred: 100%|██████████████████████████████████████████████████████████████████████| 15/15 [00:00<00:00, 164.37it/s]"
     ]
    },
    {
     "name": "stdout",
     "output_type": "stream",
     "text": [
      "\t eval rmse: 1.0865\n",
      "\t eval mae: 0.8507\n",
      "\t eval r2: -0.1159\n",
      "=============================="
     ]
    },
    {
     "name": "stderr",
     "output_type": "stream",
     "text": [
      "\n"
     ]
    },
    {
     "name": "stdout",
     "output_type": "stream",
     "text": [
      "\n",
      "Epoch 5 elapsed: 0.309s\n"
     ]
    },
    {
     "name": "stderr",
     "output_type": "stream",
     "text": [
      "eval_pred: 100%|██████████████████████████████████████████████████████████████████████| 15/15 [00:00<00:00, 244.88it/s]"
     ]
    },
    {
     "name": "stdout",
     "output_type": "stream",
     "text": [
      "\t eval rmse: 1.0865\n",
      "\t eval mae: 0.8488\n",
      "\t eval r2: -0.1160\n",
      "==============================\n"
     ]
    },
    {
     "name": "stderr",
     "output_type": "stream",
     "text": [
      "\n"
     ]
    },
    {
     "name": "stdout",
     "output_type": "stream",
     "text": [
      "Training start time: \u001b[35m2022-07-19 18:19:48\u001b[0m\n",
      "Epoch 1 elapsed: 0.243s\n"
     ]
    },
    {
     "name": "stderr",
     "output_type": "stream",
     "text": [
      "eval_pred: 100%|██████████████████████████████████████████████████████████████████████| 15/15 [00:00<00:00, 341.82it/s]"
     ]
    },
    {
     "name": "stdout",
     "output_type": "stream",
     "text": [
      "\t eval rmse: 1.0373\n",
      "\t eval mae: 0.8389\n",
      "\t eval r2: -0.0171\n",
      "==============================\n"
     ]
    },
    {
     "name": "stderr",
     "output_type": "stream",
     "text": [
      "\n"
     ]
    },
    {
     "name": "stdout",
     "output_type": "stream",
     "text": [
      "Epoch 2 elapsed: 0.273s\n"
     ]
    },
    {
     "name": "stderr",
     "output_type": "stream",
     "text": [
      "eval_pred: 100%|██████████████████████████████████████████████████████████████████████| 15/15 [00:00<00:00, 326.96it/s]"
     ]
    },
    {
     "name": "stdout",
     "output_type": "stream",
     "text": [
      "\t eval rmse: 1.0580\n",
      "\t eval mae: 0.8398\n",
      "\t eval r2: -0.0581\n",
      "==============================\n"
     ]
    },
    {
     "name": "stderr",
     "output_type": "stream",
     "text": [
      "\n"
     ]
    },
    {
     "name": "stdout",
     "output_type": "stream",
     "text": [
      "Epoch 3 elapsed: 0.265s\n"
     ]
    },
    {
     "name": "stderr",
     "output_type": "stream",
     "text": [
      "eval_pred: 100%|██████████████████████████████████████████████████████████████████████| 15/15 [00:00<00:00, 334.22it/s]"
     ]
    },
    {
     "name": "stdout",
     "output_type": "stream",
     "text": [
      "\t eval rmse: 1.0577\n",
      "\t eval mae: 0.8350\n",
      "\t eval r2: -0.0576\n",
      "==============================\n"
     ]
    },
    {
     "name": "stderr",
     "output_type": "stream",
     "text": [
      "\n"
     ]
    },
    {
     "name": "stdout",
     "output_type": "stream",
     "text": [
      "Epoch 4 elapsed: 0.243s\n"
     ]
    },
    {
     "name": "stderr",
     "output_type": "stream",
     "text": [
      "eval_pred: 100%|██████████████████████████████████████████████████████████████████████| 15/15 [00:00<00:00, 334.24it/s]"
     ]
    },
    {
     "name": "stdout",
     "output_type": "stream",
     "text": [
      "\t eval rmse: 1.0560\n",
      "\t eval mae: 0.8309\n",
      "\t eval r2: -0.0541\n",
      "==============================\n"
     ]
    },
    {
     "name": "stderr",
     "output_type": "stream",
     "text": [
      "\n"
     ]
    },
    {
     "name": "stdout",
     "output_type": "stream",
     "text": [
      "Epoch 5 elapsed: 0.249s\n"
     ]
    },
    {
     "name": "stderr",
     "output_type": "stream",
     "text": [
      "eval_pred: 100%|██████████████████████████████████████████████████████████████████████| 15/15 [00:00<00:00, 206.03it/s]"
     ]
    },
    {
     "name": "stdout",
     "output_type": "stream",
     "text": [
      "\t eval rmse: 1.0540\n",
      "\t eval mae: 0.8276\n",
      "\t eval r2: -0.0502\n",
      "==============================\n"
     ]
    },
    {
     "name": "stderr",
     "output_type": "stream",
     "text": [
      "\n"
     ]
    },
    {
     "name": "stdout",
     "output_type": "stream",
     "text": [
      "Training start time: \u001b[35m2022-07-19 18:19:50\u001b[0m\n",
      "Epoch 1 elapsed: 0.259s\n"
     ]
    },
    {
     "name": "stderr",
     "output_type": "stream",
     "text": [
      "eval_pred: 100%|██████████████████████████████████████████████████████████████████████| 15/15 [00:00<00:00, 341.83it/s]"
     ]
    },
    {
     "name": "stdout",
     "output_type": "stream",
     "text": [
      "\t eval rmse: 1.0373\n",
      "\t eval mae: 0.8389\n",
      "\t eval r2: -0.0171\n",
      "==============================\n"
     ]
    },
    {
     "name": "stderr",
     "output_type": "stream",
     "text": [
      "\n"
     ]
    },
    {
     "name": "stdout",
     "output_type": "stream",
     "text": [
      "Epoch 2 elapsed: 0.240s\n"
     ]
    },
    {
     "name": "stderr",
     "output_type": "stream",
     "text": [
      "eval_pred: 100%|██████████████████████████████████████████████████████████████████████| 15/15 [00:00<00:00, 319.99it/s]"
     ]
    },
    {
     "name": "stdout",
     "output_type": "stream",
     "text": [
      "\t eval rmse: 1.0580\n",
      "\t eval mae: 0.8398\n",
      "\t eval r2: -0.0581\n",
      "==============================\n"
     ]
    },
    {
     "name": "stderr",
     "output_type": "stream",
     "text": [
      "\n"
     ]
    },
    {
     "name": "stdout",
     "output_type": "stream",
     "text": [
      "Epoch 3 elapsed: 0.244s\n"
     ]
    },
    {
     "name": "stderr",
     "output_type": "stream",
     "text": [
      "eval_pred: 100%|██████████████████████████████████████████████████████████████████████| 15/15 [00:00<00:00, 358.15it/s]"
     ]
    },
    {
     "name": "stdout",
     "output_type": "stream",
     "text": [
      "\t eval rmse: 1.0577\n",
      "\t eval mae: 0.8350\n",
      "\t eval r2: -0.0576\n",
      "==============================\n"
     ]
    },
    {
     "name": "stderr",
     "output_type": "stream",
     "text": [
      "\n"
     ]
    },
    {
     "name": "stdout",
     "output_type": "stream",
     "text": [
      "Epoch 4 elapsed: 0.304s\n"
     ]
    },
    {
     "name": "stderr",
     "output_type": "stream",
     "text": [
      "eval_pred: 100%|██████████████████████████████████████████████████████████████████████| 15/15 [00:00<00:00, 178.33it/s]"
     ]
    },
    {
     "name": "stdout",
     "output_type": "stream",
     "text": [
      "\t eval rmse: 1.0560\n",
      "\t eval mae: 0.8309\n"
     ]
    },
    {
     "name": "stderr",
     "output_type": "stream",
     "text": [
      "\n"
     ]
    },
    {
     "name": "stdout",
     "output_type": "stream",
     "text": [
      "\t eval r2: -0.0541\n",
      "==============================\n",
      "Epoch 5 elapsed: 0.308s\n"
     ]
    },
    {
     "name": "stderr",
     "output_type": "stream",
     "text": [
      "eval_pred: 100%|██████████████████████████████████████████████████████████████████████| 15/15 [00:00<00:00, 138.19it/s]"
     ]
    },
    {
     "name": "stdout",
     "output_type": "stream",
     "text": [
      "\t eval rmse: 1.0540\n",
      "\t eval mae: 0.8276\n"
     ]
    },
    {
     "name": "stderr",
     "output_type": "stream",
     "text": [
      "\n"
     ]
    },
    {
     "name": "stdout",
     "output_type": "stream",
     "text": [
      "\t eval r2: -0.0502\n",
      "==============================\n",
      "Training start time: \u001b[35m2022-07-19 18:19:53\u001b[0m\n",
      "Epoch 1 elapsed: 0.230s\n"
     ]
    },
    {
     "name": "stderr",
     "output_type": "stream",
     "text": [
      "eval_pred: 100%|██████████████████████████████████████████████████████████████████████| 15/15 [00:00<00:00, 227.88it/s]"
     ]
    },
    {
     "name": "stdout",
     "output_type": "stream",
     "text": [
      "\t eval rmse: 1.0373\n",
      "\t eval mae: 0.8389\n",
      "\t eval r2: -0.0171\n",
      "==============================\n"
     ]
    },
    {
     "name": "stderr",
     "output_type": "stream",
     "text": [
      "\n"
     ]
    },
    {
     "name": "stdout",
     "output_type": "stream",
     "text": [
      "Epoch 2 elapsed: 0.248s\n"
     ]
    },
    {
     "name": "stderr",
     "output_type": "stream",
     "text": [
      "eval_pred: 100%|██████████████████████████████████████████████████████████████████████| 15/15 [00:00<00:00, 334.22it/s]"
     ]
    },
    {
     "name": "stdout",
     "output_type": "stream",
     "text": [
      "\t eval rmse: 1.0580\n",
      "\t eval mae: 0.8398\n",
      "\t eval r2: -0.0581\n",
      "==============================\n"
     ]
    },
    {
     "name": "stderr",
     "output_type": "stream",
     "text": [
      "\n"
     ]
    },
    {
     "name": "stdout",
     "output_type": "stream",
     "text": [
      "Epoch 3 elapsed: 0.280s\n"
     ]
    },
    {
     "name": "stderr",
     "output_type": "stream",
     "text": [
      "eval_pred: 100%|██████████████████████████████████████████████████████████████████████| 15/15 [00:00<00:00, 330.33it/s]"
     ]
    },
    {
     "name": "stdout",
     "output_type": "stream",
     "text": [
      "\t eval rmse: 1.0577\n",
      "\t eval mae: 0.8350\n",
      "\t eval r2: -0.0576\n",
      "==============================\n"
     ]
    },
    {
     "name": "stderr",
     "output_type": "stream",
     "text": [
      "\n"
     ]
    },
    {
     "name": "stdout",
     "output_type": "stream",
     "text": [
      "Epoch 4 elapsed: 0.226s\n"
     ]
    },
    {
     "name": "stderr",
     "output_type": "stream",
     "text": [
      "eval_pred: 100%|██████████████████████████████████████████████████████████████████████| 15/15 [00:00<00:00, 268.58it/s]"
     ]
    },
    {
     "name": "stdout",
     "output_type": "stream",
     "text": [
      "\t eval rmse: 1.0560\n",
      "\t eval mae: 0.8309\n",
      "\t eval r2: -0.0541\n",
      "==============================\n"
     ]
    },
    {
     "name": "stderr",
     "output_type": "stream",
     "text": [
      "\n"
     ]
    },
    {
     "name": "stdout",
     "output_type": "stream",
     "text": [
      "Epoch 5 elapsed: 0.241s\n"
     ]
    },
    {
     "name": "stderr",
     "output_type": "stream",
     "text": [
      "eval_pred: 100%|██████████████████████████████████████████████████████████████████████| 15/15 [00:00<00:00, 275.88it/s]"
     ]
    },
    {
     "name": "stdout",
     "output_type": "stream",
     "text": [
      "\t eval rmse: 1.0540\n",
      "\t eval mae: 0.8276\n",
      "\t eval r2: -0.0502\n",
      "==============================\n"
     ]
    },
    {
     "name": "stderr",
     "output_type": "stream",
     "text": [
      "\n"
     ]
    },
    {
     "name": "stdout",
     "output_type": "stream",
     "text": [
      "Training start time: \u001b[35m2022-07-19 18:19:55\u001b[0m\n",
      "Epoch 1 elapsed: 0.247s\n"
     ]
    },
    {
     "name": "stderr",
     "output_type": "stream",
     "text": [
      "eval_pred: 100%|██████████████████████████████████████████████████████████████████████| 15/15 [00:00<00:00, 289.23it/s]"
     ]
    },
    {
     "name": "stdout",
     "output_type": "stream",
     "text": [
      "\t eval rmse: 1.0373\n",
      "\t eval mae: 0.8389\n",
      "\t eval r2: -0.0171\n",
      "==============================\n"
     ]
    },
    {
     "name": "stderr",
     "output_type": "stream",
     "text": [
      "\n"
     ]
    },
    {
     "name": "stdout",
     "output_type": "stream",
     "text": [
      "Epoch 2 elapsed: 0.252s\n"
     ]
    },
    {
     "name": "stderr",
     "output_type": "stream",
     "text": [
      "eval_pred: 100%|██████████████████████████████████████████████████████████████████████| 15/15 [00:00<00:00, 313.35it/s]"
     ]
    },
    {
     "name": "stdout",
     "output_type": "stream",
     "text": [
      "\t eval rmse: 1.0580\n",
      "\t eval mae: 0.8398\n",
      "\t eval r2: -0.0581\n",
      "==============================\n"
     ]
    },
    {
     "name": "stderr",
     "output_type": "stream",
     "text": [
      "\n"
     ]
    },
    {
     "name": "stdout",
     "output_type": "stream",
     "text": [
      "Epoch 3 elapsed: 0.257s\n"
     ]
    },
    {
     "name": "stderr",
     "output_type": "stream",
     "text": [
      "eval_pred: 100%|██████████████████████████████████████████████████████████████████████| 15/15 [00:00<00:00, 313.29it/s]"
     ]
    },
    {
     "name": "stdout",
     "output_type": "stream",
     "text": [
      "\t eval rmse: 1.0577\n",
      "\t eval mae: 0.8350\n",
      "\t eval r2: -0.0576\n",
      "==============================\n"
     ]
    },
    {
     "name": "stderr",
     "output_type": "stream",
     "text": [
      "\n"
     ]
    },
    {
     "name": "stdout",
     "output_type": "stream",
     "text": [
      "Epoch 4 elapsed: 0.222s\n"
     ]
    },
    {
     "name": "stderr",
     "output_type": "stream",
     "text": [
      "eval_pred: 100%|██████████████████████████████████████████████████████████████████████| 15/15 [00:00<00:00, 294.91it/s]"
     ]
    },
    {
     "name": "stdout",
     "output_type": "stream",
     "text": [
      "\t eval rmse: 1.0560\n",
      "\t eval mae: 0.8309\n",
      "\t eval r2: -0.0541\n",
      "==============================\n"
     ]
    },
    {
     "name": "stderr",
     "output_type": "stream",
     "text": [
      "\n"
     ]
    },
    {
     "name": "stdout",
     "output_type": "stream",
     "text": [
      "Epoch 5 elapsed: 0.246s\n"
     ]
    },
    {
     "name": "stderr",
     "output_type": "stream",
     "text": [
      "eval_pred: 100%|██████████████████████████████████████████████████████████████████████| 15/15 [00:00<00:00, 300.80it/s]"
     ]
    },
    {
     "name": "stdout",
     "output_type": "stream",
     "text": [
      "\t eval rmse: 1.0540\n",
      "\t eval mae: 0.8276\n",
      "\t eval r2: -0.0502\n",
      "==============================\n"
     ]
    },
    {
     "name": "stderr",
     "output_type": "stream",
     "text": [
      "\n"
     ]
    },
    {
     "name": "stdout",
     "output_type": "stream",
     "text": [
      "Training start time: \u001b[35m2022-07-19 18:19:57\u001b[0m\n",
      "Epoch 1 elapsed: 0.203s\n"
     ]
    },
    {
     "name": "stderr",
     "output_type": "stream",
     "text": [
      "eval_pred: 100%|██████████████████████████████████████████████████████████████████████| 15/15 [00:00<00:00, 289.24it/s]"
     ]
    },
    {
     "name": "stdout",
     "output_type": "stream",
     "text": [
      "\t eval rmse: 1.0373\n",
      "\t eval mae: 0.8389\n",
      "\t eval r2: -0.0171\n",
      "==============================\n"
     ]
    },
    {
     "name": "stderr",
     "output_type": "stream",
     "text": [
      "\n"
     ]
    },
    {
     "name": "stdout",
     "output_type": "stream",
     "text": [
      "Epoch 2 elapsed: 0.262s\n"
     ]
    },
    {
     "name": "stderr",
     "output_type": "stream",
     "text": [
      "eval_pred: 100%|██████████████████████████████████████████████████████████████████████| 15/15 [00:00<00:00, 300.81it/s]"
     ]
    },
    {
     "name": "stdout",
     "output_type": "stream",
     "text": [
      "\t eval rmse: 1.0580\n",
      "\t eval mae: 0.8398\n",
      "\t eval r2: -0.0581\n",
      "==============================\n"
     ]
    },
    {
     "name": "stderr",
     "output_type": "stream",
     "text": [
      "\n"
     ]
    },
    {
     "name": "stdout",
     "output_type": "stream",
     "text": [
      "Epoch 3 elapsed: 0.234s\n"
     ]
    },
    {
     "name": "stderr",
     "output_type": "stream",
     "text": [
      "eval_pred: 100%|██████████████████████████████████████████████████████████████████████| 15/15 [00:00<00:00, 306.95it/s]"
     ]
    },
    {
     "name": "stdout",
     "output_type": "stream",
     "text": [
      "\t eval rmse: 1.0577\n",
      "\t eval mae: 0.8350\n",
      "\t eval r2: -0.0576\n",
      "==============================\n"
     ]
    },
    {
     "name": "stderr",
     "output_type": "stream",
     "text": [
      "\n"
     ]
    },
    {
     "name": "stdout",
     "output_type": "stream",
     "text": [
      "Epoch 4 elapsed: 0.234s\n"
     ]
    },
    {
     "name": "stderr",
     "output_type": "stream",
     "text": [
      "eval_pred: 100%|██████████████████████████████████████████████████████████████████████| 15/15 [00:00<00:00, 358.03it/s]"
     ]
    },
    {
     "name": "stdout",
     "output_type": "stream",
     "text": [
      "\t eval rmse: 1.0560\n",
      "\t eval mae: 0.8309\n",
      "\t eval r2: -0.0541\n",
      "==============================\n"
     ]
    },
    {
     "name": "stderr",
     "output_type": "stream",
     "text": [
      "\n"
     ]
    },
    {
     "name": "stdout",
     "output_type": "stream",
     "text": [
      "Epoch 5 elapsed: 0.244s\n"
     ]
    },
    {
     "name": "stderr",
     "output_type": "stream",
     "text": [
      "eval_pred: 100%|██████████████████████████████████████████████████████████████████████| 15/15 [00:00<00:00, 326.95it/s]"
     ]
    },
    {
     "name": "stdout",
     "output_type": "stream",
     "text": [
      "\t eval rmse: 1.0540\n",
      "\t eval mae: 0.8276\n",
      "\t eval r2: -0.0502\n",
      "==============================\n"
     ]
    },
    {
     "name": "stderr",
     "output_type": "stream",
     "text": [
      "\n"
     ]
    },
    {
     "name": "stdout",
     "output_type": "stream",
     "text": [
      "Training start time: \u001b[35m2022-07-19 18:19:59\u001b[0m\n",
      "Epoch 1 elapsed: 0.234s\n"
     ]
    },
    {
     "name": "stderr",
     "output_type": "stream",
     "text": [
      "eval_pred: 100%|██████████████████████████████████████████████████████████████████████| 15/15 [00:00<00:00, 289.21it/s]"
     ]
    },
    {
     "name": "stdout",
     "output_type": "stream",
     "text": [
      "\t eval rmse: 1.0270\n",
      "\t eval mae: 0.8360\n",
      "\t eval r2: 0.0029\n",
      "==============================\n"
     ]
    },
    {
     "name": "stderr",
     "output_type": "stream",
     "text": [
      "\n"
     ]
    },
    {
     "name": "stdout",
     "output_type": "stream",
     "text": [
      "Epoch 2 elapsed: 0.245s\n"
     ]
    },
    {
     "name": "stderr",
     "output_type": "stream",
     "text": [
      "eval_pred: 100%|██████████████████████████████████████████████████████████████████████| 15/15 [00:00<00:00, 349.77it/s]"
     ]
    },
    {
     "name": "stdout",
     "output_type": "stream",
     "text": [
      "\t eval rmse: 1.0408\n",
      "\t eval mae: 0.8272\n",
      "\t eval r2: -0.0240\n",
      "==============================\n"
     ]
    },
    {
     "name": "stderr",
     "output_type": "stream",
     "text": [
      "\n"
     ]
    },
    {
     "name": "stdout",
     "output_type": "stream",
     "text": [
      "Epoch 3 elapsed: 0.253s\n"
     ]
    },
    {
     "name": "stderr",
     "output_type": "stream",
     "text": [
      "eval_pred: 100%|██████████████████████████████████████████████████████████████████████| 15/15 [00:00<00:00, 289.23it/s]"
     ]
    },
    {
     "name": "stdout",
     "output_type": "stream",
     "text": [
      "\t eval rmse: 1.0353\n",
      "\t eval mae: 0.8197\n",
      "\t eval r2: -0.0133\n",
      "==============================\n"
     ]
    },
    {
     "name": "stderr",
     "output_type": "stream",
     "text": [
      "\n"
     ]
    },
    {
     "name": "stdout",
     "output_type": "stream",
     "text": [
      "Epoch 4 elapsed: 0.234s\n"
     ]
    },
    {
     "name": "stderr",
     "output_type": "stream",
     "text": [
      "eval_pred: 100%|██████████████████████████████████████████████████████████████████████| 15/15 [00:00<00:00, 334.23it/s]"
     ]
    },
    {
     "name": "stdout",
     "output_type": "stream",
     "text": [
      "\t eval rmse: 1.0312\n",
      "\t eval mae: 0.8145\n",
      "\t eval r2: -0.0052\n",
      "==============================\n"
     ]
    },
    {
     "name": "stderr",
     "output_type": "stream",
     "text": [
      "\n"
     ]
    },
    {
     "name": "stdout",
     "output_type": "stream",
     "text": [
      "Epoch 5 elapsed: 0.252s\n"
     ]
    },
    {
     "name": "stderr",
     "output_type": "stream",
     "text": [
      "eval_pred: 100%|██████████████████████████████████████████████████████████████████████| 15/15 [00:00<00:00, 313.96it/s]"
     ]
    },
    {
     "name": "stdout",
     "output_type": "stream",
     "text": [
      "\t eval rmse: 1.0285\n",
      "\t eval mae: 0.8112\n",
      "\t eval r2: 0.0001\n",
      "==============================\n"
     ]
    },
    {
     "name": "stderr",
     "output_type": "stream",
     "text": [
      "\n"
     ]
    },
    {
     "name": "stdout",
     "output_type": "stream",
     "text": [
      "Training start time: \u001b[35m2022-07-19 18:20:01\u001b[0m\n",
      "Epoch 1 elapsed: 0.234s\n"
     ]
    },
    {
     "name": "stderr",
     "output_type": "stream",
     "text": [
      "eval_pred: 100%|██████████████████████████████████████████████████████████████████████| 15/15 [00:00<00:00, 341.82it/s]"
     ]
    },
    {
     "name": "stdout",
     "output_type": "stream",
     "text": [
      "\t eval rmse: 1.0270\n",
      "\t eval mae: 0.8360\n",
      "\t eval r2: 0.0029\n",
      "==============================\n"
     ]
    },
    {
     "name": "stderr",
     "output_type": "stream",
     "text": [
      "\n"
     ]
    },
    {
     "name": "stdout",
     "output_type": "stream",
     "text": [
      "Epoch 2 elapsed: 0.221s\n"
     ]
    },
    {
     "name": "stderr",
     "output_type": "stream",
     "text": [
      "eval_pred: 100%|██████████████████████████████████████████████████████████████████████| 15/15 [00:00<00:00, 334.21it/s]"
     ]
    },
    {
     "name": "stdout",
     "output_type": "stream",
     "text": [
      "\t eval rmse: 1.0408\n",
      "\t eval mae: 0.8272\n",
      "\t eval r2: -0.0240\n",
      "==============================\n"
     ]
    },
    {
     "name": "stderr",
     "output_type": "stream",
     "text": [
      "\n"
     ]
    },
    {
     "name": "stdout",
     "output_type": "stream",
     "text": [
      "Epoch 3 elapsed: 0.226s\n"
     ]
    },
    {
     "name": "stderr",
     "output_type": "stream",
     "text": [
      "eval_pred: 100%|██████████████████████████████████████████████████████████████████████| 15/15 [00:00<00:00, 326.40it/s]"
     ]
    },
    {
     "name": "stdout",
     "output_type": "stream",
     "text": [
      "\t eval rmse: 1.0353\n",
      "\t eval mae: 0.8197\n",
      "\t eval r2: -0.0133\n",
      "==============================\n"
     ]
    },
    {
     "name": "stderr",
     "output_type": "stream",
     "text": [
      "\n"
     ]
    },
    {
     "name": "stdout",
     "output_type": "stream",
     "text": [
      "Epoch 4 elapsed: 0.230s\n"
     ]
    },
    {
     "name": "stderr",
     "output_type": "stream",
     "text": [
      "eval_pred: 100%|██████████████████████████████████████████████████████████████████████| 15/15 [00:00<00:00, 341.81it/s]"
     ]
    },
    {
     "name": "stdout",
     "output_type": "stream",
     "text": [
      "\t eval rmse: 1.0312\n",
      "\t eval mae: 0.8145\n",
      "\t eval r2: -0.0052\n",
      "==============================\n"
     ]
    },
    {
     "name": "stderr",
     "output_type": "stream",
     "text": [
      "\n"
     ]
    },
    {
     "name": "stdout",
     "output_type": "stream",
     "text": [
      "Epoch 5 elapsed: 0.227s\n"
     ]
    },
    {
     "name": "stderr",
     "output_type": "stream",
     "text": [
      "eval_pred: 100%|██████████████████████████████████████████████████████████████████████| 15/15 [00:00<00:00, 306.91it/s]"
     ]
    },
    {
     "name": "stdout",
     "output_type": "stream",
     "text": [
      "\t eval rmse: 1.0285\n",
      "\t eval mae: 0.8112\n",
      "\t eval r2: 0.0001\n",
      "==============================\n"
     ]
    },
    {
     "name": "stderr",
     "output_type": "stream",
     "text": [
      "\n"
     ]
    },
    {
     "name": "stdout",
     "output_type": "stream",
     "text": [
      "Training start time: \u001b[35m2022-07-19 18:20:04\u001b[0m\n",
      "Epoch 1 elapsed: 0.215s\n"
     ]
    },
    {
     "name": "stderr",
     "output_type": "stream",
     "text": [
      "eval_pred: 100%|██████████████████████████████████████████████████████████████████████| 15/15 [00:00<00:00, 300.77it/s]"
     ]
    },
    {
     "name": "stdout",
     "output_type": "stream",
     "text": [
      "\t eval rmse: 1.0270\n",
      "\t eval mae: 0.8360\n",
      "\t eval r2: 0.0029\n",
      "==============================\n"
     ]
    },
    {
     "name": "stderr",
     "output_type": "stream",
     "text": [
      "\n"
     ]
    },
    {
     "name": "stdout",
     "output_type": "stream",
     "text": [
      "Epoch 2 elapsed: 0.227s\n"
     ]
    },
    {
     "name": "stderr",
     "output_type": "stream",
     "text": [
      "eval_pred: 100%|██████████████████████████████████████████████████████████████████████| 15/15 [00:00<00:00, 341.82it/s]"
     ]
    },
    {
     "name": "stdout",
     "output_type": "stream",
     "text": [
      "\t eval rmse: 1.0408\n",
      "\t eval mae: 0.8272\n",
      "\t eval r2: -0.0240\n",
      "==============================\n"
     ]
    },
    {
     "name": "stderr",
     "output_type": "stream",
     "text": [
      "\n"
     ]
    },
    {
     "name": "stdout",
     "output_type": "stream",
     "text": [
      "Epoch 3 elapsed: 0.278s\n"
     ]
    },
    {
     "name": "stderr",
     "output_type": "stream",
     "text": [
      "eval_pred: 100%|██████████████████████████████████████████████████████████████████████| 15/15 [00:00<00:00, 171.24it/s]"
     ]
    },
    {
     "name": "stdout",
     "output_type": "stream",
     "text": [
      "\t eval rmse: 1.0353\n",
      "\t eval mae: 0.8197\n"
     ]
    },
    {
     "name": "stderr",
     "output_type": "stream",
     "text": [
      "\n"
     ]
    },
    {
     "name": "stdout",
     "output_type": "stream",
     "text": [
      "\t eval r2: -0.0133\n",
      "==============================\n",
      "Epoch 4 elapsed: 0.302s\n"
     ]
    },
    {
     "name": "stderr",
     "output_type": "stream",
     "text": [
      "eval_pred: 100%|██████████████████████████████████████████████████████████████████████| 15/15 [00:00<00:00, 153.04it/s]"
     ]
    },
    {
     "name": "stdout",
     "output_type": "stream",
     "text": [
      "\t eval rmse: 1.0312\n",
      "\t eval mae: 0.8145\n",
      "\t eval r2: -0.0052\n",
      "==============================\n"
     ]
    },
    {
     "name": "stderr",
     "output_type": "stream",
     "text": [
      "\n"
     ]
    },
    {
     "name": "stdout",
     "output_type": "stream",
     "text": [
      "Epoch 5 elapsed: 0.333s\n"
     ]
    },
    {
     "name": "stderr",
     "output_type": "stream",
     "text": [
      "eval_pred: 100%|██████████████████████████████████████████████████████████████████████| 15/15 [00:00<00:00, 120.26it/s]\n"
     ]
    },
    {
     "name": "stdout",
     "output_type": "stream",
     "text": [
      "\t eval rmse: 1.0285\n",
      "\t eval mae: 0.8112\n",
      "\t eval r2: 0.0001\n",
      "==============================\n",
      "Training start time: \u001b[35m2022-07-19 18:20:06\u001b[0m\n",
      "Epoch 1 elapsed: 0.235s\n"
     ]
    },
    {
     "name": "stderr",
     "output_type": "stream",
     "text": [
      "eval_pred: 100%|██████████████████████████████████████████████████████████████████████| 15/15 [00:00<00:00, 300.80it/s]"
     ]
    },
    {
     "name": "stdout",
     "output_type": "stream",
     "text": [
      "\t eval rmse: 1.0270\n",
      "\t eval mae: 0.8360\n",
      "\t eval r2: 0.0029\n",
      "==============================\n"
     ]
    },
    {
     "name": "stderr",
     "output_type": "stream",
     "text": [
      "\n"
     ]
    },
    {
     "name": "stdout",
     "output_type": "stream",
     "text": [
      "Epoch 2 elapsed: 0.259s\n"
     ]
    },
    {
     "name": "stderr",
     "output_type": "stream",
     "text": [
      "eval_pred: 100%|██████████████████████████████████████████████████████████████████████| 15/15 [00:00<00:00, 341.82it/s]"
     ]
    },
    {
     "name": "stdout",
     "output_type": "stream",
     "text": [
      "\t eval rmse: 1.0408\n",
      "\t eval mae: 0.8272\n",
      "\t eval r2: -0.0240\n",
      "==============================\n"
     ]
    },
    {
     "name": "stderr",
     "output_type": "stream",
     "text": [
      "\n"
     ]
    },
    {
     "name": "stdout",
     "output_type": "stream",
     "text": [
      "Epoch 3 elapsed: 0.260s\n"
     ]
    },
    {
     "name": "stderr",
     "output_type": "stream",
     "text": [
      "eval_pred: 100%|██████████████████████████████████████████████████████████████████████| 15/15 [00:00<00:00, 294.90it/s]"
     ]
    },
    {
     "name": "stdout",
     "output_type": "stream",
     "text": [
      "\t eval rmse: 1.0353\n",
      "\t eval mae: 0.8197\n",
      "\t eval r2: -0.0133\n",
      "==============================\n"
     ]
    },
    {
     "name": "stderr",
     "output_type": "stream",
     "text": [
      "\n"
     ]
    },
    {
     "name": "stdout",
     "output_type": "stream",
     "text": [
      "Epoch 4 elapsed: 0.284s\n"
     ]
    },
    {
     "name": "stderr",
     "output_type": "stream",
     "text": [
      "eval_pred: 100%|██████████████████████████████████████████████████████████████████████| 15/15 [00:00<00:00, 210.27it/s]"
     ]
    },
    {
     "name": "stdout",
     "output_type": "stream",
     "text": [
      "\t eval rmse: 1.0312\n",
      "\t eval mae: 0.8145\n"
     ]
    },
    {
     "name": "stderr",
     "output_type": "stream",
     "text": [
      "\n"
     ]
    },
    {
     "name": "stdout",
     "output_type": "stream",
     "text": [
      "\t eval r2: -0.0052\n",
      "==============================\n",
      "Epoch 5 elapsed: 0.284s\n"
     ]
    },
    {
     "name": "stderr",
     "output_type": "stream",
     "text": [
      "eval_pred: 100%|██████████████████████████████████████████████████████████████████████| 15/15 [00:00<00:00, 300.70it/s]"
     ]
    },
    {
     "name": "stdout",
     "output_type": "stream",
     "text": [
      "\t eval rmse: 1.0285\n",
      "\t eval mae: 0.8112\n",
      "\t eval r2: 0.0001\n",
      "==============================\n"
     ]
    },
    {
     "name": "stderr",
     "output_type": "stream",
     "text": [
      "\n"
     ]
    },
    {
     "name": "stdout",
     "output_type": "stream",
     "text": [
      "Training start time: \u001b[35m2022-07-19 18:20:09\u001b[0m\n",
      "Epoch 1 elapsed: 0.262s\n"
     ]
    },
    {
     "name": "stderr",
     "output_type": "stream",
     "text": [
      "eval_pred: 100%|██████████████████████████████████████████████████████████████████████| 15/15 [00:00<00:00, 313.31it/s]"
     ]
    },
    {
     "name": "stdout",
     "output_type": "stream",
     "text": [
      "\t eval rmse: 1.0270\n",
      "\t eval mae: 0.8360\n",
      "\t eval r2: 0.0029\n",
      "==============================\n"
     ]
    },
    {
     "name": "stderr",
     "output_type": "stream",
     "text": [
      "\n"
     ]
    },
    {
     "name": "stdout",
     "output_type": "stream",
     "text": [
      "Epoch 2 elapsed: 0.276s\n"
     ]
    },
    {
     "name": "stderr",
     "output_type": "stream",
     "text": [
      "eval_pred: 100%|██████████████████████████████████████████████████████████████████████| 15/15 [00:00<00:00, 341.82it/s]"
     ]
    },
    {
     "name": "stdout",
     "output_type": "stream",
     "text": [
      "\t eval rmse: 1.0408\n",
      "\t eval mae: 0.8272\n",
      "\t eval r2: -0.0240\n",
      "==============================\n"
     ]
    },
    {
     "name": "stderr",
     "output_type": "stream",
     "text": [
      "\n"
     ]
    },
    {
     "name": "stdout",
     "output_type": "stream",
     "text": [
      "Epoch 3 elapsed: 0.257s\n"
     ]
    },
    {
     "name": "stderr",
     "output_type": "stream",
     "text": [
      "eval_pred: 100%|██████████████████████████████████████████████████████████████████████| 15/15 [00:00<00:00, 275.68it/s]"
     ]
    },
    {
     "name": "stdout",
     "output_type": "stream",
     "text": [
      "\t eval rmse: 1.0353\n",
      "\t eval mae: 0.8197\n",
      "\t eval r2: -0.0133\n",
      "==============================\n"
     ]
    },
    {
     "name": "stderr",
     "output_type": "stream",
     "text": [
      "\n"
     ]
    },
    {
     "name": "stdout",
     "output_type": "stream",
     "text": [
      "Epoch 4 elapsed: 0.229s\n"
     ]
    },
    {
     "name": "stderr",
     "output_type": "stream",
     "text": [
      "eval_pred: 100%|██████████████████████████████████████████████████████████████████████| 15/15 [00:00<00:00, 326.96it/s]"
     ]
    },
    {
     "name": "stdout",
     "output_type": "stream",
     "text": [
      "\t eval rmse: 1.0312\n",
      "\t eval mae: 0.8145\n",
      "\t eval r2: -0.0052\n",
      "==============================\n"
     ]
    },
    {
     "name": "stderr",
     "output_type": "stream",
     "text": [
      "\n"
     ]
    },
    {
     "name": "stdout",
     "output_type": "stream",
     "text": [
      "Epoch 5 elapsed: 0.244s\n"
     ]
    },
    {
     "name": "stderr",
     "output_type": "stream",
     "text": [
      "eval_pred: 100%|██████████████████████████████████████████████████████████████████████| 15/15 [00:00<00:00, 349.77it/s]"
     ]
    },
    {
     "name": "stdout",
     "output_type": "stream",
     "text": [
      "\t eval rmse: 1.0285\n",
      "\t eval mae: 0.8112\n",
      "\t eval r2: 0.0001\n",
      "==============================\n"
     ]
    },
    {
     "name": "stderr",
     "output_type": "stream",
     "text": [
      "\n"
     ]
    },
    {
     "name": "stdout",
     "output_type": "stream",
     "text": [
      "Training start time: \u001b[35m2022-07-19 18:20:11\u001b[0m\n",
      "Epoch 1 elapsed: 0.456s\n"
     ]
    },
    {
     "name": "stderr",
     "output_type": "stream",
     "text": [
      "eval_pred: 100%|██████████████████████████████████████████████████████████████████████| 15/15 [00:00<00:00, 174.85it/s]"
     ]
    },
    {
     "name": "stdout",
     "output_type": "stream",
     "text": [
      "\t eval rmse: 1.1379\n",
      "\t eval mae: 0.9051\n",
      "\t eval r2: -0.2240\n",
      "==============================\n"
     ]
    },
    {
     "name": "stderr",
     "output_type": "stream",
     "text": [
      "\n"
     ]
    },
    {
     "name": "stdout",
     "output_type": "stream",
     "text": [
      "Epoch 2 elapsed: 0.418s\n"
     ]
    },
    {
     "name": "stderr",
     "output_type": "stream",
     "text": [
      "eval_pred: 100%|██████████████████████████████████████████████████████████████████████| 15/15 [00:00<00:00, 190.33it/s]"
     ]
    },
    {
     "name": "stdout",
     "output_type": "stream",
     "text": [
      "\t eval rmse: 1.1527\n",
      "\t eval mae: 0.9050\n",
      "\t eval r2: -0.2562\n",
      "==============================\n"
     ]
    },
    {
     "name": "stderr",
     "output_type": "stream",
     "text": [
      "\n"
     ]
    },
    {
     "name": "stdout",
     "output_type": "stream",
     "text": [
      "Epoch 3 elapsed: 0.463s\n"
     ]
    },
    {
     "name": "stderr",
     "output_type": "stream",
     "text": [
      "eval_pred: 100%|██████████████████████████████████████████████████████████████████████| 15/15 [00:00<00:00, 150.32it/s]"
     ]
    },
    {
     "name": "stdout",
     "output_type": "stream",
     "text": [
      "\t eval rmse: 1.1698\n",
      "\t eval mae: 0.9125\n",
      "\t eval r2: -0.2937\n",
      "==============================\n"
     ]
    },
    {
     "name": "stderr",
     "output_type": "stream",
     "text": [
      "\n"
     ]
    },
    {
     "name": "stdout",
     "output_type": "stream",
     "text": [
      "Epoch 4 elapsed: 0.493s\n"
     ]
    },
    {
     "name": "stderr",
     "output_type": "stream",
     "text": [
      "eval_pred: 100%|██████████████████████████████████████████████████████████████████████| 15/15 [00:00<00:00, 181.20it/s]"
     ]
    },
    {
     "name": "stdout",
     "output_type": "stream",
     "text": [
      "\t eval rmse: 1.1855\n",
      "\t eval mae: 0.9209\n",
      "\t eval r2: -0.3285\n",
      "==============================\n"
     ]
    },
    {
     "name": "stderr",
     "output_type": "stream",
     "text": [
      "\n"
     ]
    },
    {
     "name": "stdout",
     "output_type": "stream",
     "text": [
      "Epoch 5 elapsed: 0.521s\n"
     ]
    },
    {
     "name": "stderr",
     "output_type": "stream",
     "text": [
      "eval_pred: 100%|██████████████████████████████████████████████████████████████████████| 15/15 [00:00<00:00, 192.78it/s]"
     ]
    },
    {
     "name": "stdout",
     "output_type": "stream",
     "text": [
      "\t eval rmse: 1.1992\n",
      "\t eval mae: 0.9286\n",
      "\t eval r2: -0.3594\n",
      "==============================\n"
     ]
    },
    {
     "name": "stderr",
     "output_type": "stream",
     "text": [
      "\n"
     ]
    },
    {
     "name": "stdout",
     "output_type": "stream",
     "text": [
      "Training start time: \u001b[35m2022-07-19 18:20:14\u001b[0m\n",
      "Epoch 1 elapsed: 0.470s\n"
     ]
    },
    {
     "name": "stderr",
     "output_type": "stream",
     "text": [
      "eval_pred: 100%|██████████████████████████████████████████████████████████████████████| 15/15 [00:00<00:00, 179.05it/s]"
     ]
    },
    {
     "name": "stdout",
     "output_type": "stream",
     "text": [
      "\t eval rmse: 1.1379\n",
      "\t eval mae: 0.9051\n",
      "\t eval r2: -0.2240\n",
      "==============================\n"
     ]
    },
    {
     "name": "stderr",
     "output_type": "stream",
     "text": [
      "\n"
     ]
    },
    {
     "name": "stdout",
     "output_type": "stream",
     "text": [
      "Epoch 2 elapsed: 0.527s\n"
     ]
    },
    {
     "name": "stderr",
     "output_type": "stream",
     "text": [
      "eval_pred: 100%|██████████████████████████████████████████████████████████████████████| 15/15 [00:00<00:00, 211.93it/s]"
     ]
    },
    {
     "name": "stdout",
     "output_type": "stream",
     "text": [
      "\t eval rmse: 1.1527\n",
      "\t eval mae: 0.9050\n",
      "\t eval r2: -0.2562\n",
      "==============================\n"
     ]
    },
    {
     "name": "stderr",
     "output_type": "stream",
     "text": [
      "\n"
     ]
    },
    {
     "name": "stdout",
     "output_type": "stream",
     "text": [
      "Epoch 3 elapsed: 0.697s\n"
     ]
    },
    {
     "name": "stderr",
     "output_type": "stream",
     "text": [
      "eval_pred: 100%|██████████████████████████████████████████████████████████████████████| 15/15 [00:00<00:00, 203.24it/s]"
     ]
    },
    {
     "name": "stdout",
     "output_type": "stream",
     "text": [
      "\t eval rmse: 1.1698\n",
      "\t eval mae: 0.9125\n",
      "\t eval r2: -0.2937\n",
      "==============================\n"
     ]
    },
    {
     "name": "stderr",
     "output_type": "stream",
     "text": [
      "\n"
     ]
    },
    {
     "name": "stdout",
     "output_type": "stream",
     "text": [
      "Epoch 4 elapsed: 0.486s\n"
     ]
    },
    {
     "name": "stderr",
     "output_type": "stream",
     "text": [
      "eval_pred: 100%|██████████████████████████████████████████████████████████████████████| 15/15 [00:00<00:00, 185.68it/s]"
     ]
    },
    {
     "name": "stdout",
     "output_type": "stream",
     "text": [
      "\t eval rmse: 1.1855\n",
      "\t eval mae: 0.9209\n",
      "\t eval r2: -0.3285\n",
      "==============================\n"
     ]
    },
    {
     "name": "stderr",
     "output_type": "stream",
     "text": [
      "\n"
     ]
    },
    {
     "name": "stdout",
     "output_type": "stream",
     "text": [
      "Epoch 5 elapsed: 0.532s\n"
     ]
    },
    {
     "name": "stderr",
     "output_type": "stream",
     "text": [
      "eval_pred: 100%|██████████████████████████████████████████████████████████████████████| 15/15 [00:00<00:00, 185.68it/s]"
     ]
    },
    {
     "name": "stdout",
     "output_type": "stream",
     "text": [
      "\t eval rmse: 1.1992\n",
      "\t eval mae: 0.9286\n",
      "\t eval r2: -0.3594\n",
      "==============================\n"
     ]
    },
    {
     "name": "stderr",
     "output_type": "stream",
     "text": [
      "\n"
     ]
    },
    {
     "name": "stdout",
     "output_type": "stream",
     "text": [
      "Training start time: \u001b[35m2022-07-19 18:20:18\u001b[0m\n",
      "Epoch 1 elapsed: 0.476s\n"
     ]
    },
    {
     "name": "stderr",
     "output_type": "stream",
     "text": [
      "eval_pred: 100%|██████████████████████████████████████████████████████████████████████| 15/15 [00:00<00:00, 201.71it/s]"
     ]
    },
    {
     "name": "stdout",
     "output_type": "stream",
     "text": [
      "\t eval rmse: 1.1379\n",
      "\t eval mae: 0.9051\n",
      "\t eval r2: -0.2240\n",
      "==============================\n"
     ]
    },
    {
     "name": "stderr",
     "output_type": "stream",
     "text": [
      "\n"
     ]
    },
    {
     "name": "stdout",
     "output_type": "stream",
     "text": [
      "Epoch 2 elapsed: 0.458s\n"
     ]
    },
    {
     "name": "stderr",
     "output_type": "stream",
     "text": [
      "eval_pred: 100%|██████████████████████████████████████████████████████████████████████| 15/15 [00:00<00:00, 192.82it/s]"
     ]
    },
    {
     "name": "stdout",
     "output_type": "stream",
     "text": [
      "\t eval rmse: 1.1527\n",
      "\t eval mae: 0.9050\n",
      "\t eval r2: -0.2562\n",
      "==============================\n"
     ]
    },
    {
     "name": "stderr",
     "output_type": "stream",
     "text": [
      "\n"
     ]
    },
    {
     "name": "stdout",
     "output_type": "stream",
     "text": [
      "Epoch 3 elapsed: 0.483s\n"
     ]
    },
    {
     "name": "stderr",
     "output_type": "stream",
     "text": [
      "eval_pred: 100%|██████████████████████████████████████████████████████████████████████| 15/15 [00:00<00:00, 196.58it/s]"
     ]
    },
    {
     "name": "stdout",
     "output_type": "stream",
     "text": [
      "\t eval rmse: 1.1698\n",
      "\t eval mae: 0.9125\n",
      "\t eval r2: -0.2937\n",
      "==============================\n"
     ]
    },
    {
     "name": "stderr",
     "output_type": "stream",
     "text": [
      "\n"
     ]
    },
    {
     "name": "stdout",
     "output_type": "stream",
     "text": [
      "Epoch 4 elapsed: 0.445s\n"
     ]
    },
    {
     "name": "stderr",
     "output_type": "stream",
     "text": [
      "eval_pred: 100%|██████████████████████████████████████████████████████████████████████| 15/15 [00:00<00:00, 206.03it/s]"
     ]
    },
    {
     "name": "stdout",
     "output_type": "stream",
     "text": [
      "\t eval rmse: 1.1855\n",
      "\t eval mae: 0.9209\n",
      "\t eval r2: -0.3285\n",
      "==============================\n"
     ]
    },
    {
     "name": "stderr",
     "output_type": "stream",
     "text": [
      "\n"
     ]
    },
    {
     "name": "stdout",
     "output_type": "stream",
     "text": [
      "Epoch 5 elapsed: 0.505s\n"
     ]
    },
    {
     "name": "stderr",
     "output_type": "stream",
     "text": [
      "eval_pred: 100%|██████████████████████████████████████████████████████████████████████| 15/15 [00:00<00:00, 199.14it/s]"
     ]
    },
    {
     "name": "stdout",
     "output_type": "stream",
     "text": [
      "\t eval rmse: 1.1992\n",
      "\t eval mae: 0.9286\n",
      "\t eval r2: -0.3594\n",
      "==============================\n"
     ]
    },
    {
     "name": "stderr",
     "output_type": "stream",
     "text": [
      "\n"
     ]
    },
    {
     "name": "stdout",
     "output_type": "stream",
     "text": [
      "Training start time: \u001b[35m2022-07-19 18:20:22\u001b[0m\n",
      "Epoch 1 elapsed: 0.487s\n"
     ]
    },
    {
     "name": "stderr",
     "output_type": "stream",
     "text": [
      "eval_pred: 100%|██████████████████████████████████████████████████████████████████████| 15/15 [00:00<00:00, 221.18it/s]"
     ]
    },
    {
     "name": "stdout",
     "output_type": "stream",
     "text": [
      "\t eval rmse: 1.1379\n",
      "\t eval mae: 0.9051\n",
      "\t eval r2: -0.2240\n",
      "==============================\n"
     ]
    },
    {
     "name": "stderr",
     "output_type": "stream",
     "text": [
      "\n"
     ]
    },
    {
     "name": "stdout",
     "output_type": "stream",
     "text": [
      "Epoch 2 elapsed: 0.476s\n"
     ]
    },
    {
     "name": "stderr",
     "output_type": "stream",
     "text": [
      "eval_pred: 100%|██████████████████████████████████████████████████████████████████████| 15/15 [00:00<00:00, 190.38it/s]"
     ]
    },
    {
     "name": "stdout",
     "output_type": "stream",
     "text": [
      "\t eval rmse: 1.1527\n",
      "\t eval mae: 0.9050\n",
      "\t eval r2: -0.2562\n",
      "==============================\n"
     ]
    },
    {
     "name": "stderr",
     "output_type": "stream",
     "text": [
      "\n"
     ]
    },
    {
     "name": "stdout",
     "output_type": "stream",
     "text": [
      "Epoch 3 elapsed: 0.463s\n"
     ]
    },
    {
     "name": "stderr",
     "output_type": "stream",
     "text": [
      "eval_pred: 100%|██████████████████████████████████████████████████████████████████████| 15/15 [00:00<00:00, 200.53it/s]"
     ]
    },
    {
     "name": "stdout",
     "output_type": "stream",
     "text": [
      "\t eval rmse: 1.1698\n",
      "\t eval mae: 0.9125\n",
      "\t eval r2: -0.2937\n",
      "==============================\n"
     ]
    },
    {
     "name": "stderr",
     "output_type": "stream",
     "text": [
      "\n"
     ]
    },
    {
     "name": "stdout",
     "output_type": "stream",
     "text": [
      "Epoch 4 elapsed: 0.498s\n"
     ]
    },
    {
     "name": "stderr",
     "output_type": "stream",
     "text": [
      "eval_pred: 100%|██████████████████████████████████████████████████████████████████████| 15/15 [00:00<00:00, 210.32it/s]"
     ]
    },
    {
     "name": "stdout",
     "output_type": "stream",
     "text": [
      "\t eval rmse: 1.1855\n",
      "\t eval mae: 0.9209\n",
      "\t eval r2: -0.3285\n",
      "==============================\n"
     ]
    },
    {
     "name": "stderr",
     "output_type": "stream",
     "text": [
      "\n"
     ]
    },
    {
     "name": "stdout",
     "output_type": "stream",
     "text": [
      "Epoch 5 elapsed: 0.480s\n"
     ]
    },
    {
     "name": "stderr",
     "output_type": "stream",
     "text": [
      "eval_pred: 100%|██████████████████████████████████████████████████████████████████████| 15/15 [00:00<00:00, 204.43it/s]"
     ]
    },
    {
     "name": "stdout",
     "output_type": "stream",
     "text": [
      "\t eval rmse: 1.1992\n",
      "\t eval mae: 0.9286\n",
      "\t eval r2: -0.3594\n",
      "==============================\n"
     ]
    },
    {
     "name": "stderr",
     "output_type": "stream",
     "text": [
      "\n"
     ]
    },
    {
     "name": "stdout",
     "output_type": "stream",
     "text": [
      "Training start time: \u001b[35m2022-07-19 18:20:25\u001b[0m\n",
      "Epoch 1 elapsed: 0.419s\n"
     ]
    },
    {
     "name": "stderr",
     "output_type": "stream",
     "text": [
      "eval_pred: 100%|██████████████████████████████████████████████████████████████████████| 15/15 [00:00<00:00, 221.15it/s]"
     ]
    },
    {
     "name": "stdout",
     "output_type": "stream",
     "text": [
      "\t eval rmse: 1.1379\n",
      "\t eval mae: 0.9051\n",
      "\t eval r2: -0.2240\n",
      "==============================\n"
     ]
    },
    {
     "name": "stderr",
     "output_type": "stream",
     "text": [
      "\n"
     ]
    },
    {
     "name": "stdout",
     "output_type": "stream",
     "text": [
      "Epoch 2 elapsed: 0.486s\n"
     ]
    },
    {
     "name": "stderr",
     "output_type": "stream",
     "text": [
      "eval_pred: 100%|██████████████████████████████████████████████████████████████████████| 15/15 [00:00<00:00, 208.89it/s]"
     ]
    },
    {
     "name": "stdout",
     "output_type": "stream",
     "text": [
      "\t eval rmse: 1.1527\n",
      "\t eval mae: 0.9050\n",
      "\t eval r2: -0.2562\n",
      "==============================\n"
     ]
    },
    {
     "name": "stderr",
     "output_type": "stream",
     "text": [
      "\n"
     ]
    },
    {
     "name": "stdout",
     "output_type": "stream",
     "text": [
      "Epoch 3 elapsed: 0.454s\n"
     ]
    },
    {
     "name": "stderr",
     "output_type": "stream",
     "text": [
      "eval_pred: 100%|██████████████████████████████████████████████████████████████████████| 15/15 [00:00<00:00, 208.89it/s]"
     ]
    },
    {
     "name": "stdout",
     "output_type": "stream",
     "text": [
      "\t eval rmse: 1.1698\n",
      "\t eval mae: 0.9125\n",
      "\t eval r2: -0.2937\n",
      "==============================\n"
     ]
    },
    {
     "name": "stderr",
     "output_type": "stream",
     "text": [
      "\n"
     ]
    },
    {
     "name": "stdout",
     "output_type": "stream",
     "text": [
      "Epoch 4 elapsed: 0.449s\n"
     ]
    },
    {
     "name": "stderr",
     "output_type": "stream",
     "text": [
      "eval_pred: 100%|██████████████████████████████████████████████████████████████████████| 15/15 [00:00<00:00, 227.88it/s]"
     ]
    },
    {
     "name": "stdout",
     "output_type": "stream",
     "text": [
      "\t eval rmse: 1.1855\n",
      "\t eval mae: 0.9209\n",
      "\t eval r2: -0.3285\n",
      "==============================\n"
     ]
    },
    {
     "name": "stderr",
     "output_type": "stream",
     "text": [
      "\n"
     ]
    },
    {
     "name": "stdout",
     "output_type": "stream",
     "text": [
      "Epoch 5 elapsed: 0.464s\n"
     ]
    },
    {
     "name": "stderr",
     "output_type": "stream",
     "text": [
      "eval_pred: 100%|██████████████████████████████████████████████████████████████████████| 15/15 [00:00<00:00, 199.18it/s]"
     ]
    },
    {
     "name": "stdout",
     "output_type": "stream",
     "text": [
      "\t eval rmse: 1.1992\n",
      "\t eval mae: 0.9286\n",
      "\t eval r2: -0.3594\n",
      "==============================\n"
     ]
    },
    {
     "name": "stderr",
     "output_type": "stream",
     "text": [
      "\n"
     ]
    },
    {
     "name": "stdout",
     "output_type": "stream",
     "text": [
      "Training start time: \u001b[35m2022-07-19 18:20:28\u001b[0m\n",
      "Epoch 1 elapsed: 0.468s\n"
     ]
    },
    {
     "name": "stderr",
     "output_type": "stream",
     "text": [
      "eval_pred: 100%|██████████████████████████████████████████████████████████████████████| 15/15 [00:00<00:00, 235.01it/s]"
     ]
    },
    {
     "name": "stdout",
     "output_type": "stream",
     "text": [
      "\t eval rmse: 1.1147\n",
      "\t eval mae: 0.8870\n",
      "\t eval r2: -0.1745\n",
      "==============================\n"
     ]
    },
    {
     "name": "stderr",
     "output_type": "stream",
     "text": [
      "\n"
     ]
    },
    {
     "name": "stdout",
     "output_type": "stream",
     "text": [
      "Epoch 2 elapsed: 0.419s\n"
     ]
    },
    {
     "name": "stderr",
     "output_type": "stream",
     "text": [
      "eval_pred: 100%|██████████████████████████████████████████████████████████████████████| 15/15 [00:00<00:00, 179.05it/s]"
     ]
    },
    {
     "name": "stdout",
     "output_type": "stream",
     "text": [
      "\t eval rmse: 1.1572\n",
      "\t eval mae: 0.9077\n",
      "\t eval r2: -0.2660\n",
      "==============================\n"
     ]
    },
    {
     "name": "stderr",
     "output_type": "stream",
     "text": [
      "\n"
     ]
    },
    {
     "name": "stdout",
     "output_type": "stream",
     "text": [
      "Epoch 3 elapsed: 0.425s\n"
     ]
    },
    {
     "name": "stderr",
     "output_type": "stream",
     "text": [
      "eval_pred: 100%|██████████████████████████████████████████████████████████████████████| 15/15 [00:00<00:00, 182.26it/s]"
     ]
    },
    {
     "name": "stdout",
     "output_type": "stream",
     "text": [
      "\t eval rmse: 1.1737\n",
      "\t eval mae: 0.9150\n",
      "\t eval r2: -0.3022\n",
      "==============================\n"
     ]
    },
    {
     "name": "stderr",
     "output_type": "stream",
     "text": [
      "\n"
     ]
    },
    {
     "name": "stdout",
     "output_type": "stream",
     "text": [
      "Epoch 4 elapsed: 0.444s\n"
     ]
    },
    {
     "name": "stderr",
     "output_type": "stream",
     "text": [
      "eval_pred: 100%|██████████████████████████████████████████████████████████████████████| 15/15 [00:00<00:00, 190.38it/s]"
     ]
    },
    {
     "name": "stdout",
     "output_type": "stream",
     "text": [
      "\t eval rmse: 1.1884\n",
      "\t eval mae: 0.9228\n",
      "\t eval r2: -0.3350\n",
      "==============================\n"
     ]
    },
    {
     "name": "stderr",
     "output_type": "stream",
     "text": [
      "\n"
     ]
    },
    {
     "name": "stdout",
     "output_type": "stream",
     "text": [
      "Epoch 5 elapsed: 0.473s\n"
     ]
    },
    {
     "name": "stderr",
     "output_type": "stream",
     "text": [
      "eval_pred: 100%|██████████████████████████████████████████████████████████████████████| 15/15 [00:00<00:00, 227.87it/s]"
     ]
    },
    {
     "name": "stdout",
     "output_type": "stream",
     "text": [
      "\t eval rmse: 1.2010\n",
      "\t eval mae: 0.9298\n",
      "\t eval r2: -0.3634\n",
      "==============================\n"
     ]
    },
    {
     "name": "stderr",
     "output_type": "stream",
     "text": [
      "\n"
     ]
    },
    {
     "name": "stdout",
     "output_type": "stream",
     "text": [
      "Training start time: \u001b[35m2022-07-19 18:20:31\u001b[0m\n",
      "Epoch 1 elapsed: 0.418s\n"
     ]
    },
    {
     "name": "stderr",
     "output_type": "stream",
     "text": [
      "eval_pred: 100%|██████████████████████████████████████████████████████████████████████| 15/15 [00:00<00:00, 214.86it/s]"
     ]
    },
    {
     "name": "stdout",
     "output_type": "stream",
     "text": [
      "\t eval rmse: 1.1147\n",
      "\t eval mae: 0.8870\n",
      "\t eval r2: -0.1745\n",
      "==============================\n"
     ]
    },
    {
     "name": "stderr",
     "output_type": "stream",
     "text": [
      "\n"
     ]
    },
    {
     "name": "stdout",
     "output_type": "stream",
     "text": [
      "Epoch 2 elapsed: 0.476s\n"
     ]
    },
    {
     "name": "stderr",
     "output_type": "stream",
     "text": [
      "eval_pred: 100%|██████████████████████████████████████████████████████████████████████| 15/15 [00:00<00:00, 206.03it/s]"
     ]
    },
    {
     "name": "stdout",
     "output_type": "stream",
     "text": [
      "\t eval rmse: 1.1572\n",
      "\t eval mae: 0.9077\n",
      "\t eval r2: -0.2660\n",
      "==============================\n"
     ]
    },
    {
     "name": "stderr",
     "output_type": "stream",
     "text": [
      "\n"
     ]
    },
    {
     "name": "stdout",
     "output_type": "stream",
     "text": [
      "Epoch 3 elapsed: 0.443s\n"
     ]
    },
    {
     "name": "stderr",
     "output_type": "stream",
     "text": [
      "eval_pred: 100%|██████████████████████████████████████████████████████████████████████| 15/15 [00:00<00:00, 197.89it/s]"
     ]
    },
    {
     "name": "stdout",
     "output_type": "stream",
     "text": [
      "\t eval rmse: 1.1737\n",
      "\t eval mae: 0.9150\n",
      "\t eval r2: -0.3022\n",
      "==============================\n"
     ]
    },
    {
     "name": "stderr",
     "output_type": "stream",
     "text": [
      "\n"
     ]
    },
    {
     "name": "stdout",
     "output_type": "stream",
     "text": [
      "Epoch 4 elapsed: 0.481s\n"
     ]
    },
    {
     "name": "stderr",
     "output_type": "stream",
     "text": [
      "eval_pred: 100%|██████████████████████████████████████████████████████████████████████| 15/15 [00:00<00:00, 210.21it/s]"
     ]
    },
    {
     "name": "stdout",
     "output_type": "stream",
     "text": [
      "\t eval rmse: 1.1884\n",
      "\t eval mae: 0.9228\n",
      "\t eval r2: -0.3350\n",
      "==============================\n"
     ]
    },
    {
     "name": "stderr",
     "output_type": "stream",
     "text": [
      "\n"
     ]
    },
    {
     "name": "stdout",
     "output_type": "stream",
     "text": [
      "Epoch 5 elapsed: 0.456s\n"
     ]
    },
    {
     "name": "stderr",
     "output_type": "stream",
     "text": [
      "eval_pred: 100%|██████████████████████████████████████████████████████████████████████| 15/15 [00:00<00:00, 214.85it/s]"
     ]
    },
    {
     "name": "stdout",
     "output_type": "stream",
     "text": [
      "\t eval rmse: 1.2010\n",
      "\t eval mae: 0.9298\n",
      "\t eval r2: -0.3634\n",
      "==============================\n"
     ]
    },
    {
     "name": "stderr",
     "output_type": "stream",
     "text": [
      "\n"
     ]
    },
    {
     "name": "stdout",
     "output_type": "stream",
     "text": [
      "Training start time: \u001b[35m2022-07-19 18:20:35\u001b[0m\n",
      "Epoch 1 elapsed: 0.446s\n"
     ]
    },
    {
     "name": "stderr",
     "output_type": "stream",
     "text": [
      "eval_pred: 100%|██████████████████████████████████████████████████████████████████████| 15/15 [00:00<00:00, 203.25it/s]"
     ]
    },
    {
     "name": "stdout",
     "output_type": "stream",
     "text": [
      "\t eval rmse: 1.1147\n",
      "\t eval mae: 0.8870\n",
      "\t eval r2: -0.1745\n",
      "==============================\n"
     ]
    },
    {
     "name": "stderr",
     "output_type": "stream",
     "text": [
      "\n"
     ]
    },
    {
     "name": "stdout",
     "output_type": "stream",
     "text": [
      "Epoch 2 elapsed: 0.529s\n"
     ]
    },
    {
     "name": "stderr",
     "output_type": "stream",
     "text": [
      "eval_pred: 100%|██████████████████████████████████████████████████████████████████████| 15/15 [00:00<00:00, 207.42it/s]"
     ]
    },
    {
     "name": "stdout",
     "output_type": "stream",
     "text": [
      "\t eval rmse: 1.1572\n",
      "\t eval mae: 0.9077\n",
      "\t eval r2: -0.2660\n",
      "==============================\n"
     ]
    },
    {
     "name": "stderr",
     "output_type": "stream",
     "text": [
      "\n"
     ]
    },
    {
     "name": "stdout",
     "output_type": "stream",
     "text": [
      "Epoch 3 elapsed: 0.446s\n"
     ]
    },
    {
     "name": "stderr",
     "output_type": "stream",
     "text": [
      "eval_pred: 100%|██████████████████████████████████████████████████████████████████████| 15/15 [00:00<00:00, 206.03it/s]"
     ]
    },
    {
     "name": "stdout",
     "output_type": "stream",
     "text": [
      "\t eval rmse: 1.1737\n",
      "\t eval mae: 0.9150\n",
      "\t eval r2: -0.3022\n",
      "==============================\n"
     ]
    },
    {
     "name": "stderr",
     "output_type": "stream",
     "text": [
      "\n"
     ]
    },
    {
     "name": "stdout",
     "output_type": "stream",
     "text": [
      "Epoch 4 elapsed: 0.454s\n"
     ]
    },
    {
     "name": "stderr",
     "output_type": "stream",
     "text": [
      "eval_pred: 100%|██████████████████████████████████████████████████████████████████████| 15/15 [00:00<00:00, 203.24it/s]"
     ]
    },
    {
     "name": "stdout",
     "output_type": "stream",
     "text": [
      "\t eval rmse: 1.1884\n",
      "\t eval mae: 0.9228\n",
      "\t eval r2: -0.3350\n",
      "==============================\n"
     ]
    },
    {
     "name": "stderr",
     "output_type": "stream",
     "text": [
      "\n"
     ]
    },
    {
     "name": "stdout",
     "output_type": "stream",
     "text": [
      "Epoch 5 elapsed: 0.476s\n"
     ]
    },
    {
     "name": "stderr",
     "output_type": "stream",
     "text": [
      "eval_pred: 100%|██████████████████████████████████████████████████████████████████████| 15/15 [00:00<00:00, 208.89it/s]"
     ]
    },
    {
     "name": "stdout",
     "output_type": "stream",
     "text": [
      "\t eval rmse: 1.2010\n",
      "\t eval mae: 0.9298\n",
      "\t eval r2: -0.3634\n",
      "==============================\n"
     ]
    },
    {
     "name": "stderr",
     "output_type": "stream",
     "text": [
      "\n"
     ]
    },
    {
     "name": "stdout",
     "output_type": "stream",
     "text": [
      "Training start time: \u001b[35m2022-07-19 18:20:38\u001b[0m\n",
      "Epoch 1 elapsed: 0.509s\n"
     ]
    },
    {
     "name": "stderr",
     "output_type": "stream",
     "text": [
      "eval_pred: 100%|██████████████████████████████████████████████████████████████████████| 15/15 [00:00<00:00, 197.89it/s]"
     ]
    },
    {
     "name": "stdout",
     "output_type": "stream",
     "text": [
      "\t eval rmse: 1.1147\n",
      "\t eval mae: 0.8870\n",
      "\t eval r2: -0.1745\n",
      "==============================\n"
     ]
    },
    {
     "name": "stderr",
     "output_type": "stream",
     "text": [
      "\n"
     ]
    },
    {
     "name": "stdout",
     "output_type": "stream",
     "text": [
      "Epoch 2 elapsed: 0.448s\n"
     ]
    },
    {
     "name": "stderr",
     "output_type": "stream",
     "text": [
      "eval_pred: 100%|██████████████████████████████████████████████████████████████████████| 15/15 [00:00<00:00, 211.83it/s]"
     ]
    },
    {
     "name": "stdout",
     "output_type": "stream",
     "text": [
      "\t eval rmse: 1.1572\n",
      "\t eval mae: 0.9077\n",
      "\t eval r2: -0.2660\n",
      "==============================\n"
     ]
    },
    {
     "name": "stderr",
     "output_type": "stream",
     "text": [
      "\n"
     ]
    },
    {
     "name": "stdout",
     "output_type": "stream",
     "text": [
      "Epoch 3 elapsed: 0.478s\n"
     ]
    },
    {
     "name": "stderr",
     "output_type": "stream",
     "text": [
      "eval_pred: 100%|██████████████████████████████████████████████████████████████████████| 15/15 [00:00<00:00, 167.11it/s]"
     ]
    },
    {
     "name": "stdout",
     "output_type": "stream",
     "text": [
      "\t eval rmse: 1.1737\n",
      "\t eval mae: 0.9150\n",
      "\t eval r2: -0.3022\n",
      "==============================\n"
     ]
    },
    {
     "name": "stderr",
     "output_type": "stream",
     "text": [
      "\n"
     ]
    },
    {
     "name": "stdout",
     "output_type": "stream",
     "text": [
      "Epoch 4 elapsed: 0.532s\n"
     ]
    },
    {
     "name": "stderr",
     "output_type": "stream",
     "text": [
      "eval_pred: 100%|██████████████████████████████████████████████████████████████████████| 15/15 [00:00<00:00, 200.53it/s]"
     ]
    },
    {
     "name": "stdout",
     "output_type": "stream",
     "text": [
      "\t eval rmse: 1.1884\n",
      "\t eval mae: 0.9228\n",
      "\t eval r2: -0.3350\n",
      "==============================\n"
     ]
    },
    {
     "name": "stderr",
     "output_type": "stream",
     "text": [
      "\n"
     ]
    },
    {
     "name": "stdout",
     "output_type": "stream",
     "text": [
      "Epoch 5 elapsed: 0.457s\n"
     ]
    },
    {
     "name": "stderr",
     "output_type": "stream",
     "text": [
      "eval_pred: 100%|██████████████████████████████████████████████████████████████████████| 15/15 [00:00<00:00, 190.37it/s]"
     ]
    },
    {
     "name": "stdout",
     "output_type": "stream",
     "text": [
      "\t eval rmse: 1.2010\n",
      "\t eval mae: 0.9298\n",
      "\t eval r2: -0.3634\n",
      "==============================\n"
     ]
    },
    {
     "name": "stderr",
     "output_type": "stream",
     "text": [
      "\n"
     ]
    },
    {
     "name": "stdout",
     "output_type": "stream",
     "text": [
      "Training start time: \u001b[35m2022-07-19 18:20:42\u001b[0m\n",
      "Epoch 1 elapsed: 0.455s\n"
     ]
    },
    {
     "name": "stderr",
     "output_type": "stream",
     "text": [
      "eval_pred: 100%|██████████████████████████████████████████████████████████████████████| 15/15 [00:00<00:00, 204.60it/s]"
     ]
    },
    {
     "name": "stdout",
     "output_type": "stream",
     "text": [
      "\t eval rmse: 1.1147\n",
      "\t eval mae: 0.8870\n",
      "\t eval r2: -0.1745\n",
      "==============================\n"
     ]
    },
    {
     "name": "stderr",
     "output_type": "stream",
     "text": [
      "\n"
     ]
    },
    {
     "name": "stdout",
     "output_type": "stream",
     "text": [
      "Epoch 2 elapsed: 0.510s\n"
     ]
    },
    {
     "name": "stderr",
     "output_type": "stream",
     "text": [
      "eval_pred: 100%|██████████████████████████████████████████████████████████████████████| 15/15 [00:00<00:00, 197.89it/s]"
     ]
    },
    {
     "name": "stdout",
     "output_type": "stream",
     "text": [
      "\t eval rmse: 1.1572\n",
      "\t eval mae: 0.9077\n",
      "\t eval r2: -0.2660\n",
      "==============================\n"
     ]
    },
    {
     "name": "stderr",
     "output_type": "stream",
     "text": [
      "\n"
     ]
    },
    {
     "name": "stdout",
     "output_type": "stream",
     "text": [
      "Epoch 3 elapsed: 0.512s\n"
     ]
    },
    {
     "name": "stderr",
     "output_type": "stream",
     "text": [
      "eval_pred: 100%|██████████████████████████████████████████████████████████████████████| 15/15 [00:00<00:00, 195.33it/s]"
     ]
    },
    {
     "name": "stdout",
     "output_type": "stream",
     "text": [
      "\t eval rmse: 1.1737\n",
      "\t eval mae: 0.9150\n",
      "\t eval r2: -0.3022\n",
      "==============================\n"
     ]
    },
    {
     "name": "stderr",
     "output_type": "stream",
     "text": [
      "\n"
     ]
    },
    {
     "name": "stdout",
     "output_type": "stream",
     "text": [
      "Epoch 4 elapsed: 0.484s\n"
     ]
    },
    {
     "name": "stderr",
     "output_type": "stream",
     "text": [
      "eval_pred: 100%|██████████████████████████████████████████████████████████████████████| 15/15 [00:00<00:00, 181.21it/s]"
     ]
    },
    {
     "name": "stdout",
     "output_type": "stream",
     "text": [
      "\t eval rmse: 1.1884\n",
      "\t eval mae: 0.9228\n",
      "\t eval r2: -0.3350\n",
      "==============================\n"
     ]
    },
    {
     "name": "stderr",
     "output_type": "stream",
     "text": [
      "\n"
     ]
    },
    {
     "name": "stdout",
     "output_type": "stream",
     "text": [
      "Epoch 5 elapsed: 0.469s\n"
     ]
    },
    {
     "name": "stderr",
     "output_type": "stream",
     "text": [
      "eval_pred: 100%|██████████████████████████████████████████████████████████████████████| 15/15 [00:00<00:00, 201.82it/s]"
     ]
    },
    {
     "name": "stdout",
     "output_type": "stream",
     "text": [
      "\t eval rmse: 1.2010\n",
      "\t eval mae: 0.9298\n",
      "\t eval r2: -0.3634\n",
      "==============================\n"
     ]
    },
    {
     "name": "stderr",
     "output_type": "stream",
     "text": [
      "\n"
     ]
    },
    {
     "name": "stdout",
     "output_type": "stream",
     "text": [
      "Training start time: \u001b[35m2022-07-19 18:20:45\u001b[0m\n",
      "Epoch 1 elapsed: 0.464s\n"
     ]
    },
    {
     "name": "stderr",
     "output_type": "stream",
     "text": [
      "eval_pred: 100%|██████████████████████████████████████████████████████████████████████| 15/15 [00:00<00:00, 211.84it/s]"
     ]
    },
    {
     "name": "stdout",
     "output_type": "stream",
     "text": [
      "\t eval rmse: 1.1076\n",
      "\t eval mae: 0.8818\n",
      "\t eval r2: -0.1597\n",
      "==============================\n"
     ]
    },
    {
     "name": "stderr",
     "output_type": "stream",
     "text": [
      "\n"
     ]
    },
    {
     "name": "stdout",
     "output_type": "stream",
     "text": [
      "Epoch 2 elapsed: 0.455s\n"
     ]
    },
    {
     "name": "stderr",
     "output_type": "stream",
     "text": [
      "eval_pred: 100%|██████████████████████████████████████████████████████████████████████| 15/15 [00:00<00:00, 221.17it/s]"
     ]
    },
    {
     "name": "stdout",
     "output_type": "stream",
     "text": [
      "\t eval rmse: 1.1634\n",
      "\t eval mae: 0.9121\n",
      "\t eval r2: -0.2796\n",
      "==============================\n"
     ]
    },
    {
     "name": "stderr",
     "output_type": "stream",
     "text": [
      "\n"
     ]
    },
    {
     "name": "stdout",
     "output_type": "stream",
     "text": [
      "Epoch 3 elapsed: 0.476s\n"
     ]
    },
    {
     "name": "stderr",
     "output_type": "stream",
     "text": [
      "eval_pred: 100%|██████████████████████████████████████████████████████████████████████| 15/15 [00:00<00:00, 197.90it/s]"
     ]
    },
    {
     "name": "stdout",
     "output_type": "stream",
     "text": [
      "\t eval rmse: 1.1778\n",
      "\t eval mae: 0.9177\n",
      "\t eval r2: -0.3115\n",
      "==============================\n"
     ]
    },
    {
     "name": "stderr",
     "output_type": "stream",
     "text": [
      "\n"
     ]
    },
    {
     "name": "stdout",
     "output_type": "stream",
     "text": [
      "Epoch 4 elapsed: 0.496s\n"
     ]
    },
    {
     "name": "stderr",
     "output_type": "stream",
     "text": [
      "eval_pred: 100%|██████████████████████████████████████████████████████████████████████| 15/15 [00:00<00:00, 155.05it/s]"
     ]
    },
    {
     "name": "stdout",
     "output_type": "stream",
     "text": [
      "\t eval rmse: 1.1901\n",
      "\t eval mae: 0.9238\n",
      "\t eval r2: -0.3390\n",
      "==============================\n"
     ]
    },
    {
     "name": "stderr",
     "output_type": "stream",
     "text": [
      "\n"
     ]
    },
    {
     "name": "stdout",
     "output_type": "stream",
     "text": [
      "Epoch 5 elapsed: 0.516s\n"
     ]
    },
    {
     "name": "stderr",
     "output_type": "stream",
     "text": [
      "eval_pred: 100%|██████████████████████████████████████████████████████████████████████| 15/15 [00:00<00:00, 171.61it/s]"
     ]
    },
    {
     "name": "stdout",
     "output_type": "stream",
     "text": [
      "\t eval rmse: 1.2003\n",
      "\t eval mae: 0.9291\n",
      "\t eval r2: -0.3619\n",
      "==============================\n"
     ]
    },
    {
     "name": "stderr",
     "output_type": "stream",
     "text": [
      "\n"
     ]
    },
    {
     "name": "stdout",
     "output_type": "stream",
     "text": [
      "Training start time: \u001b[35m2022-07-19 18:20:49\u001b[0m\n",
      "Epoch 1 elapsed: 0.461s\n"
     ]
    },
    {
     "name": "stderr",
     "output_type": "stream",
     "text": [
      "eval_pred: 100%|██████████████████████████████████████████████████████████████████████| 15/15 [00:00<00:00, 197.90it/s]"
     ]
    },
    {
     "name": "stdout",
     "output_type": "stream",
     "text": [
      "\t eval rmse: 1.1076\n",
      "\t eval mae: 0.8818\n",
      "\t eval r2: -0.1597\n",
      "==============================\n"
     ]
    },
    {
     "name": "stderr",
     "output_type": "stream",
     "text": [
      "\n"
     ]
    },
    {
     "name": "stdout",
     "output_type": "stream",
     "text": [
      "Epoch 2 elapsed: 0.477s\n"
     ]
    },
    {
     "name": "stderr",
     "output_type": "stream",
     "text": [
      "eval_pred: 100%|██████████████████████████████████████████████████████████████████████| 15/15 [00:00<00:00, 183.41it/s]"
     ]
    },
    {
     "name": "stdout",
     "output_type": "stream",
     "text": [
      "\t eval rmse: 1.1634\n",
      "\t eval mae: 0.9121\n",
      "\t eval r2: -0.2796\n",
      "==============================\n"
     ]
    },
    {
     "name": "stderr",
     "output_type": "stream",
     "text": [
      "\n"
     ]
    },
    {
     "name": "stdout",
     "output_type": "stream",
     "text": [
      "Epoch 3 elapsed: 0.514s\n"
     ]
    },
    {
     "name": "stderr",
     "output_type": "stream",
     "text": [
      "eval_pred: 100%|██████████████████████████████████████████████████████████████████████| 15/15 [00:00<00:00, 227.88it/s]"
     ]
    },
    {
     "name": "stdout",
     "output_type": "stream",
     "text": [
      "\t eval rmse: 1.1778\n",
      "\t eval mae: 0.9177\n",
      "\t eval r2: -0.3115\n",
      "==============================\n"
     ]
    },
    {
     "name": "stderr",
     "output_type": "stream",
     "text": [
      "\n"
     ]
    },
    {
     "name": "stdout",
     "output_type": "stream",
     "text": [
      "Epoch 4 elapsed: 0.452s\n"
     ]
    },
    {
     "name": "stderr",
     "output_type": "stream",
     "text": [
      "eval_pred: 100%|██████████████████████████████████████████████████████████████████████| 15/15 [00:00<00:00, 183.41it/s]"
     ]
    },
    {
     "name": "stdout",
     "output_type": "stream",
     "text": [
      "\t eval rmse: 1.1901\n",
      "\t eval mae: 0.9238\n",
      "\t eval r2: -0.3390\n",
      "==============================\n"
     ]
    },
    {
     "name": "stderr",
     "output_type": "stream",
     "text": [
      "\n"
     ]
    },
    {
     "name": "stdout",
     "output_type": "stream",
     "text": [
      "Epoch 5 elapsed: 0.534s\n"
     ]
    },
    {
     "name": "stderr",
     "output_type": "stream",
     "text": [
      "eval_pred: 100%|██████████████████████████████████████████████████████████████████████| 15/15 [00:00<00:00, 144.30it/s]"
     ]
    },
    {
     "name": "stdout",
     "output_type": "stream",
     "text": [
      "\t eval rmse: 1.2003\n",
      "\t eval mae: 0.9291\n",
      "\t eval r2: -0.3619\n",
      "==============================\n"
     ]
    },
    {
     "name": "stderr",
     "output_type": "stream",
     "text": [
      "\n"
     ]
    },
    {
     "name": "stdout",
     "output_type": "stream",
     "text": [
      "Training start time: \u001b[35m2022-07-19 18:20:52\u001b[0m\n",
      "Epoch 1 elapsed: 0.450s\n"
     ]
    },
    {
     "name": "stderr",
     "output_type": "stream",
     "text": [
      "eval_pred: 100%|██████████████████████████████████████████████████████████████████████| 15/15 [00:00<00:00, 211.83it/s]"
     ]
    },
    {
     "name": "stdout",
     "output_type": "stream",
     "text": [
      "\t eval rmse: 1.1076\n",
      "\t eval mae: 0.8818\n",
      "\t eval r2: -0.1597\n",
      "==============================\n"
     ]
    },
    {
     "name": "stderr",
     "output_type": "stream",
     "text": [
      "\n"
     ]
    },
    {
     "name": "stdout",
     "output_type": "stream",
     "text": [
      "Epoch 2 elapsed: 0.598s\n"
     ]
    },
    {
     "name": "stderr",
     "output_type": "stream",
     "text": [
      "eval_pred: 100%|██████████████████████████████████████████████████████████████████████| 15/15 [00:00<00:00, 123.58it/s]"
     ]
    },
    {
     "name": "stdout",
     "output_type": "stream",
     "text": [
      "\t eval rmse: 1.1634\n",
      "\t eval mae: 0.9121\n"
     ]
    },
    {
     "name": "stderr",
     "output_type": "stream",
     "text": [
      "\n"
     ]
    },
    {
     "name": "stdout",
     "output_type": "stream",
     "text": [
      "\t eval r2: -0.2796\n",
      "==============================\n",
      "Epoch 3 elapsed: 0.480s\n"
     ]
    },
    {
     "name": "stderr",
     "output_type": "stream",
     "text": [
      "eval_pred: 100%|██████████████████████████████████████████████████████████████████████| 15/15 [00:00<00:00, 214.86it/s]"
     ]
    },
    {
     "name": "stdout",
     "output_type": "stream",
     "text": [
      "\t eval rmse: 1.1778\n",
      "\t eval mae: 0.9177\n",
      "\t eval r2: -0.3115\n",
      "==============================\n"
     ]
    },
    {
     "name": "stderr",
     "output_type": "stream",
     "text": [
      "\n"
     ]
    },
    {
     "name": "stdout",
     "output_type": "stream",
     "text": [
      "Epoch 4 elapsed: 0.453s\n"
     ]
    },
    {
     "name": "stderr",
     "output_type": "stream",
     "text": [
      "eval_pred: 100%|██████████████████████████████████████████████████████████████████████| 15/15 [00:00<00:00, 208.89it/s]"
     ]
    },
    {
     "name": "stdout",
     "output_type": "stream",
     "text": [
      "\t eval rmse: 1.1901\n",
      "\t eval mae: 0.9238\n",
      "\t eval r2: -0.3390\n",
      "==============================\n"
     ]
    },
    {
     "name": "stderr",
     "output_type": "stream",
     "text": [
      "\n"
     ]
    },
    {
     "name": "stdout",
     "output_type": "stream",
     "text": [
      "Epoch 5 elapsed: 0.517s\n"
     ]
    },
    {
     "name": "stderr",
     "output_type": "stream",
     "text": [
      "eval_pred: 100%|██████████████████████████████████████████████████████████████████████| 15/15 [00:00<00:00, 138.33it/s]"
     ]
    },
    {
     "name": "stdout",
     "output_type": "stream",
     "text": [
      "\t eval rmse: 1.2003\n",
      "\t eval mae: 0.9291\n"
     ]
    },
    {
     "name": "stderr",
     "output_type": "stream",
     "text": [
      "\n"
     ]
    },
    {
     "name": "stdout",
     "output_type": "stream",
     "text": [
      "\t eval r2: -0.3619\n",
      "==============================\n",
      "Training start time: \u001b[35m2022-07-19 18:20:56\u001b[0m\n",
      "Epoch 1 elapsed: 0.528s\n"
     ]
    },
    {
     "name": "stderr",
     "output_type": "stream",
     "text": [
      "eval_pred: 100%|██████████████████████████████████████████████████████████████████████| 15/15 [00:00<00:00, 185.68it/s]"
     ]
    },
    {
     "name": "stdout",
     "output_type": "stream",
     "text": [
      "\t eval rmse: 1.1076\n",
      "\t eval mae: 0.8818\n",
      "\t eval r2: -0.1597\n",
      "==============================\n"
     ]
    },
    {
     "name": "stderr",
     "output_type": "stream",
     "text": [
      "\n"
     ]
    },
    {
     "name": "stdout",
     "output_type": "stream",
     "text": [
      "Epoch 2 elapsed: 0.481s\n"
     ]
    },
    {
     "name": "stderr",
     "output_type": "stream",
     "text": [
      "eval_pred: 100%|██████████████████████████████████████████████████████████████████████| 15/15 [00:00<00:00, 200.53it/s]"
     ]
    },
    {
     "name": "stdout",
     "output_type": "stream",
     "text": [
      "\t eval rmse: 1.1634\n",
      "\t eval mae: 0.9121\n",
      "\t eval r2: -0.2796\n",
      "==============================\n"
     ]
    },
    {
     "name": "stderr",
     "output_type": "stream",
     "text": [
      "\n"
     ]
    },
    {
     "name": "stdout",
     "output_type": "stream",
     "text": [
      "Epoch 3 elapsed: 0.487s\n"
     ]
    },
    {
     "name": "stderr",
     "output_type": "stream",
     "text": [
      "eval_pred: 100%|██████████████████████████████████████████████████████████████████████| 15/15 [00:00<00:00, 187.94it/s]"
     ]
    },
    {
     "name": "stdout",
     "output_type": "stream",
     "text": [
      "\t eval rmse: 1.1778\n",
      "\t eval mae: 0.9177\n",
      "\t eval r2: -0.3115\n",
      "==============================\n"
     ]
    },
    {
     "name": "stderr",
     "output_type": "stream",
     "text": [
      "\n"
     ]
    },
    {
     "name": "stdout",
     "output_type": "stream",
     "text": [
      "Epoch 4 elapsed: 0.546s\n"
     ]
    },
    {
     "name": "stderr",
     "output_type": "stream",
     "text": [
      "eval_pred: 100%|██████████████████████████████████████████████████████████████████████| 15/15 [00:00<00:00, 189.14it/s]"
     ]
    },
    {
     "name": "stdout",
     "output_type": "stream",
     "text": [
      "\t eval rmse: 1.1901\n",
      "\t eval mae: 0.9238\n",
      "\t eval r2: -0.3390\n",
      "==============================\n"
     ]
    },
    {
     "name": "stderr",
     "output_type": "stream",
     "text": [
      "\n"
     ]
    },
    {
     "name": "stdout",
     "output_type": "stream",
     "text": [
      "Epoch 5 elapsed: 0.575s\n"
     ]
    },
    {
     "name": "stderr",
     "output_type": "stream",
     "text": [
      "eval_pred: 100%|██████████████████████████████████████████████████████████████████████| 15/15 [00:00<00:00, 119.09it/s]"
     ]
    },
    {
     "name": "stdout",
     "output_type": "stream",
     "text": [
      "\t eval rmse: 1.2003\n"
     ]
    },
    {
     "name": "stderr",
     "output_type": "stream",
     "text": [
      "\n"
     ]
    },
    {
     "name": "stdout",
     "output_type": "stream",
     "text": [
      "\t eval mae: 0.9291\n",
      "\t eval r2: -0.3619\n",
      "==============================\n",
      "Training start time: \u001b[35m2022-07-19 18:21:00\u001b[0m\n",
      "Epoch 1 elapsed: 0.734s\n"
     ]
    },
    {
     "name": "stderr",
     "output_type": "stream",
     "text": [
      "eval_pred: 100%|██████████████████████████████████████████████████████████████████████| 15/15 [00:00<00:00, 207.42it/s]"
     ]
    },
    {
     "name": "stdout",
     "output_type": "stream",
     "text": [
      "\t eval rmse: 1.1076\n",
      "\t eval mae: 0.8818\n",
      "\t eval r2: -0.1597\n",
      "==============================\n"
     ]
    },
    {
     "name": "stderr",
     "output_type": "stream",
     "text": [
      "\n"
     ]
    },
    {
     "name": "stdout",
     "output_type": "stream",
     "text": [
      "Epoch 2 elapsed: 0.645s\n"
     ]
    },
    {
     "name": "stderr",
     "output_type": "stream",
     "text": [
      "eval_pred: 100%|██████████████████████████████████████████████████████████████████████| 15/15 [00:00<00:00, 138.53it/s]"
     ]
    },
    {
     "name": "stdout",
     "output_type": "stream",
     "text": [
      "\t eval rmse: 1.1634\n",
      "\t eval mae: 0.9121\n",
      "\t eval r2: -0.2796\n",
      "==============================\n"
     ]
    },
    {
     "name": "stderr",
     "output_type": "stream",
     "text": [
      "\n"
     ]
    },
    {
     "name": "stdout",
     "output_type": "stream",
     "text": [
      "Epoch 3 elapsed: 0.629s\n"
     ]
    },
    {
     "name": "stderr",
     "output_type": "stream",
     "text": [
      "eval_pred: 100%|██████████████████████████████████████████████████████████████████████| 15/15 [00:00<00:00, 143.34it/s]"
     ]
    },
    {
     "name": "stdout",
     "output_type": "stream",
     "text": [
      "\t eval rmse: 1.1778\n",
      "\t eval mae: 0.9177\n",
      "\t eval r2: -0.3115\n",
      "==============================\n"
     ]
    },
    {
     "name": "stderr",
     "output_type": "stream",
     "text": [
      "\n"
     ]
    },
    {
     "name": "stdout",
     "output_type": "stream",
     "text": [
      "Epoch 4 elapsed: 0.624s\n"
     ]
    },
    {
     "name": "stderr",
     "output_type": "stream",
     "text": [
      "eval_pred: 100%|██████████████████████████████████████████████████████████████████████| 15/15 [00:00<00:00, 150.81it/s]"
     ]
    },
    {
     "name": "stdout",
     "output_type": "stream",
     "text": [
      "\t eval rmse: 1.1901\n",
      "\t eval mae: 0.9238\n",
      "\t eval r2: -0.3390\n",
      "=============================="
     ]
    },
    {
     "name": "stderr",
     "output_type": "stream",
     "text": [
      "\n"
     ]
    },
    {
     "name": "stdout",
     "output_type": "stream",
     "text": [
      "\n",
      "Epoch 5 elapsed: 0.685s\n"
     ]
    },
    {
     "name": "stderr",
     "output_type": "stream",
     "text": [
      "eval_pred: 100%|██████████████████████████████████████████████████████████████████████| 15/15 [00:00<00:00, 155.73it/s]"
     ]
    },
    {
     "name": "stdout",
     "output_type": "stream",
     "text": [
      "\t eval rmse: 1.2003\n",
      "\t eval mae: 0.9291\n",
      "\t eval r2: -0.3619\n",
      "==============================\n"
     ]
    },
    {
     "name": "stderr",
     "output_type": "stream",
     "text": [
      "\n"
     ]
    },
    {
     "name": "stdout",
     "output_type": "stream",
     "text": [
      "Training start time: \u001b[35m2022-07-19 18:21:04\u001b[0m\n",
      "Epoch 1 elapsed: 0.671s\n"
     ]
    },
    {
     "name": "stderr",
     "output_type": "stream",
     "text": [
      "eval_pred: 100%|██████████████████████████████████████████████████████████████████████| 15/15 [00:00<00:00, 152.54it/s]"
     ]
    },
    {
     "name": "stdout",
     "output_type": "stream",
     "text": [
      "\t eval rmse: 1.0457\n",
      "\t eval mae: 0.8428\n"
     ]
    },
    {
     "name": "stderr",
     "output_type": "stream",
     "text": [
      "\n"
     ]
    },
    {
     "name": "stdout",
     "output_type": "stream",
     "text": [
      "\t eval r2: -0.0337\n",
      "==============================\n",
      "Epoch 2 elapsed: 0.687s\n"
     ]
    },
    {
     "name": "stderr",
     "output_type": "stream",
     "text": [
      "eval_pred: 100%|██████████████████████████████████████████████████████████████████████| 15/15 [00:00<00:00, 190.36it/s]"
     ]
    },
    {
     "name": "stdout",
     "output_type": "stream",
     "text": [
      "\t eval rmse: 1.1161\n",
      "\t eval mae: 0.8784\n",
      "\t eval r2: -0.1776\n",
      "==============================\n"
     ]
    },
    {
     "name": "stderr",
     "output_type": "stream",
     "text": [
      "\n"
     ]
    },
    {
     "name": "stdout",
     "output_type": "stream",
     "text": [
      "Epoch 3 elapsed: 0.581s\n"
     ]
    },
    {
     "name": "stderr",
     "output_type": "stream",
     "text": [
      "eval_pred: 100%|██████████████████████████████████████████████████████████████████████| 15/15 [00:00<00:00, 197.90it/s]"
     ]
    },
    {
     "name": "stdout",
     "output_type": "stream",
     "text": [
      "\t eval rmse: 1.1222\n",
      "\t eval mae: 0.8783\n",
      "\t eval r2: -0.1904\n",
      "==============================\n"
     ]
    },
    {
     "name": "stderr",
     "output_type": "stream",
     "text": [
      "\n"
     ]
    },
    {
     "name": "stdout",
     "output_type": "stream",
     "text": [
      "Epoch 4 elapsed: 0.481s\n"
     ]
    },
    {
     "name": "stderr",
     "output_type": "stream",
     "text": [
      "eval_pred: 100%|██████████████████████████████████████████████████████████████████████| 15/15 [00:00<00:00, 197.89it/s]"
     ]
    },
    {
     "name": "stdout",
     "output_type": "stream",
     "text": [
      "\t eval rmse: 1.1259\n",
      "\t eval mae: 0.8788\n",
      "\t eval r2: -0.1984\n",
      "==============================\n"
     ]
    },
    {
     "name": "stderr",
     "output_type": "stream",
     "text": [
      "\n"
     ]
    },
    {
     "name": "stdout",
     "output_type": "stream",
     "text": [
      "Epoch 5 elapsed: 0.538s\n"
     ]
    },
    {
     "name": "stderr",
     "output_type": "stream",
     "text": [
      "eval_pred: 100%|██████████████████████████████████████████████████████████████████████| 15/15 [00:00<00:00, 186.69it/s]"
     ]
    },
    {
     "name": "stdout",
     "output_type": "stream",
     "text": [
      "\t eval rmse: 1.1284\n",
      "\t eval mae: 0.8792\n",
      "\t eval r2: -0.2038\n",
      "==============================\n"
     ]
    },
    {
     "name": "stderr",
     "output_type": "stream",
     "text": [
      "\n"
     ]
    },
    {
     "name": "stdout",
     "output_type": "stream",
     "text": [
      "Training start time: \u001b[35m2022-07-19 18:21:09\u001b[0m\n",
      "Epoch 1 elapsed: 0.470s\n"
     ]
    },
    {
     "name": "stderr",
     "output_type": "stream",
     "text": [
      "eval_pred: 100%|██████████████████████████████████████████████████████████████████████| 15/15 [00:00<00:00, 200.54it/s]"
     ]
    },
    {
     "name": "stdout",
     "output_type": "stream",
     "text": [
      "\t eval rmse: 1.0457\n",
      "\t eval mae: 0.8428\n",
      "\t eval r2: -0.0337\n",
      "==============================\n"
     ]
    },
    {
     "name": "stderr",
     "output_type": "stream",
     "text": [
      "\n"
     ]
    },
    {
     "name": "stdout",
     "output_type": "stream",
     "text": [
      "Epoch 2 elapsed: 0.477s\n"
     ]
    },
    {
     "name": "stderr",
     "output_type": "stream",
     "text": [
      "eval_pred: 100%|██████████████████████████████████████████████████████████████████████| 15/15 [00:00<00:00, 189.16it/s]"
     ]
    },
    {
     "name": "stdout",
     "output_type": "stream",
     "text": [
      "\t eval rmse: 1.1161\n",
      "\t eval mae: 0.8784\n",
      "\t eval r2: -0.1776\n",
      "==============================\n"
     ]
    },
    {
     "name": "stderr",
     "output_type": "stream",
     "text": [
      "\n"
     ]
    },
    {
     "name": "stdout",
     "output_type": "stream",
     "text": [
      "Epoch 3 elapsed: 0.480s\n"
     ]
    },
    {
     "name": "stderr",
     "output_type": "stream",
     "text": [
      "eval_pred: 100%|██████████████████████████████████████████████████████████████████████| 15/15 [00:00<00:00, 206.03it/s]"
     ]
    },
    {
     "name": "stdout",
     "output_type": "stream",
     "text": [
      "\t eval rmse: 1.1222\n",
      "\t eval mae: 0.8783\n",
      "\t eval r2: -0.1904\n",
      "==============================\n"
     ]
    },
    {
     "name": "stderr",
     "output_type": "stream",
     "text": [
      "\n"
     ]
    },
    {
     "name": "stdout",
     "output_type": "stream",
     "text": [
      "Epoch 4 elapsed: 0.486s\n"
     ]
    },
    {
     "name": "stderr",
     "output_type": "stream",
     "text": [
      "eval_pred: 100%|██████████████████████████████████████████████████████████████████████| 15/15 [00:00<00:00, 183.41it/s]"
     ]
    },
    {
     "name": "stdout",
     "output_type": "stream",
     "text": [
      "\t eval rmse: 1.1259\n",
      "\t eval mae: 0.8788\n",
      "\t eval r2: -0.1984\n",
      "==============================\n"
     ]
    },
    {
     "name": "stderr",
     "output_type": "stream",
     "text": [
      "\n"
     ]
    },
    {
     "name": "stdout",
     "output_type": "stream",
     "text": [
      "Epoch 5 elapsed: 0.466s\n"
     ]
    },
    {
     "name": "stderr",
     "output_type": "stream",
     "text": [
      "eval_pred: 100%|██████████████████████████████████████████████████████████████████████| 15/15 [00:00<00:00, 165.93it/s]"
     ]
    },
    {
     "name": "stdout",
     "output_type": "stream",
     "text": [
      "\t eval rmse: 1.1284\n",
      "\t eval mae: 0.8792\n",
      "\t eval r2: -0.2038\n",
      "==============================\n"
     ]
    },
    {
     "name": "stderr",
     "output_type": "stream",
     "text": [
      "\n"
     ]
    },
    {
     "name": "stdout",
     "output_type": "stream",
     "text": [
      "Training start time: \u001b[35m2022-07-19 18:21:12\u001b[0m\n",
      "Epoch 1 elapsed: 0.446s\n"
     ]
    },
    {
     "name": "stderr",
     "output_type": "stream",
     "text": [
      "eval_pred: 100%|██████████████████████████████████████████████████████████████████████| 15/15 [00:00<00:00, 217.97it/s]"
     ]
    },
    {
     "name": "stdout",
     "output_type": "stream",
     "text": [
      "\t eval rmse: 1.0457\n",
      "\t eval mae: 0.8428\n",
      "\t eval r2: -0.0337\n",
      "==============================\n"
     ]
    },
    {
     "name": "stderr",
     "output_type": "stream",
     "text": [
      "\n"
     ]
    },
    {
     "name": "stdout",
     "output_type": "stream",
     "text": [
      "Epoch 2 elapsed: 0.493s\n"
     ]
    },
    {
     "name": "stderr",
     "output_type": "stream",
     "text": [
      "eval_pred: 100%|██████████████████████████████████████████████████████████████████████| 15/15 [00:00<00:00, 217.97it/s]"
     ]
    },
    {
     "name": "stdout",
     "output_type": "stream",
     "text": [
      "\t eval rmse: 1.1161\n",
      "\t eval mae: 0.8784\n",
      "\t eval r2: -0.1776\n",
      "==============================\n"
     ]
    },
    {
     "name": "stderr",
     "output_type": "stream",
     "text": [
      "\n"
     ]
    },
    {
     "name": "stdout",
     "output_type": "stream",
     "text": [
      "Epoch 3 elapsed: 0.466s\n"
     ]
    },
    {
     "name": "stderr",
     "output_type": "stream",
     "text": [
      "eval_pred: 100%|██████████████████████████████████████████████████████████████████████| 15/15 [00:00<00:00, 193.98it/s]"
     ]
    },
    {
     "name": "stdout",
     "output_type": "stream",
     "text": [
      "\t eval rmse: 1.1222\n",
      "\t eval mae: 0.8783\n",
      "\t eval r2: -0.1904\n",
      "==============================\n"
     ]
    },
    {
     "name": "stderr",
     "output_type": "stream",
     "text": [
      "\n"
     ]
    },
    {
     "name": "stdout",
     "output_type": "stream",
     "text": [
      "Epoch 4 elapsed: 0.473s\n"
     ]
    },
    {
     "name": "stderr",
     "output_type": "stream",
     "text": [
      "eval_pred: 100%|██████████████████████████████████████████████████████████████████████| 15/15 [00:00<00:00, 189.15it/s]"
     ]
    },
    {
     "name": "stdout",
     "output_type": "stream",
     "text": [
      "\t eval rmse: 1.1259\n",
      "\t eval mae: 0.8788\n",
      "\t eval r2: -0.1984\n",
      "==============================\n"
     ]
    },
    {
     "name": "stderr",
     "output_type": "stream",
     "text": [
      "\n"
     ]
    },
    {
     "name": "stdout",
     "output_type": "stream",
     "text": [
      "Epoch 5 elapsed: 0.503s\n"
     ]
    },
    {
     "name": "stderr",
     "output_type": "stream",
     "text": [
      "eval_pred: 100%|██████████████████████████████████████████████████████████████████████| 15/15 [00:00<00:00, 221.18it/s]"
     ]
    },
    {
     "name": "stdout",
     "output_type": "stream",
     "text": [
      "\t eval rmse: 1.1284\n",
      "\t eval mae: 0.8792\n",
      "\t eval r2: -0.2038\n",
      "==============================\n"
     ]
    },
    {
     "name": "stderr",
     "output_type": "stream",
     "text": [
      "\n"
     ]
    },
    {
     "name": "stdout",
     "output_type": "stream",
     "text": [
      "Training start time: \u001b[35m2022-07-19 18:21:15\u001b[0m\n",
      "Epoch 1 elapsed: 0.497s\n"
     ]
    },
    {
     "name": "stderr",
     "output_type": "stream",
     "text": [
      "eval_pred: 100%|██████████████████████████████████████████████████████████████████████| 15/15 [00:00<00:00, 221.18it/s]"
     ]
    },
    {
     "name": "stdout",
     "output_type": "stream",
     "text": [
      "\t eval rmse: 1.0457\n",
      "\t eval mae: 0.8428\n",
      "\t eval r2: -0.0337\n",
      "==============================\n"
     ]
    },
    {
     "name": "stderr",
     "output_type": "stream",
     "text": [
      "\n"
     ]
    },
    {
     "name": "stdout",
     "output_type": "stream",
     "text": [
      "Epoch 2 elapsed: 0.443s\n"
     ]
    },
    {
     "name": "stderr",
     "output_type": "stream",
     "text": [
      "eval_pred: 100%|██████████████████████████████████████████████████████████████████████| 15/15 [00:00<00:00, 213.31it/s]"
     ]
    },
    {
     "name": "stdout",
     "output_type": "stream",
     "text": [
      "\t eval rmse: 1.1161\n",
      "\t eval mae: 0.8784\n",
      "\t eval r2: -0.1776\n",
      "==============================\n"
     ]
    },
    {
     "name": "stderr",
     "output_type": "stream",
     "text": [
      "\n"
     ]
    },
    {
     "name": "stdout",
     "output_type": "stream",
     "text": [
      "Epoch 3 elapsed: 0.484s\n"
     ]
    },
    {
     "name": "stderr",
     "output_type": "stream",
     "text": [
      "eval_pred: 100%|██████████████████████████████████████████████████████████████████████| 15/15 [00:00<00:00, 180.09it/s]"
     ]
    },
    {
     "name": "stdout",
     "output_type": "stream",
     "text": [
      "\t eval rmse: 1.1222\n",
      "\t eval mae: 0.8783\n",
      "\t eval r2: -0.1904\n",
      "==============================\n"
     ]
    },
    {
     "name": "stderr",
     "output_type": "stream",
     "text": [
      "\n"
     ]
    },
    {
     "name": "stdout",
     "output_type": "stream",
     "text": [
      "Epoch 4 elapsed: 0.543s\n"
     ]
    },
    {
     "name": "stderr",
     "output_type": "stream",
     "text": [
      "eval_pred: 100%|██████████████████████████████████████████████████████████████████████| 15/15 [00:00<00:00, 246.56it/s]"
     ]
    },
    {
     "name": "stdout",
     "output_type": "stream",
     "text": [
      "\t eval rmse: 1.1259\n",
      "\t eval mae: 0.8788\n",
      "\t eval r2: -0.1984\n",
      "==============================\n"
     ]
    },
    {
     "name": "stderr",
     "output_type": "stream",
     "text": [
      "\n"
     ]
    },
    {
     "name": "stdout",
     "output_type": "stream",
     "text": [
      "Epoch 5 elapsed: 0.457s\n"
     ]
    },
    {
     "name": "stderr",
     "output_type": "stream",
     "text": [
      "eval_pred: 100%|██████████████████████████████████████████████████████████████████████| 15/15 [00:00<00:00, 221.18it/s]"
     ]
    },
    {
     "name": "stdout",
     "output_type": "stream",
     "text": [
      "\t eval rmse: 1.1284\n",
      "\t eval mae: 0.8792\n",
      "\t eval r2: -0.2038\n",
      "==============================\n"
     ]
    },
    {
     "name": "stderr",
     "output_type": "stream",
     "text": [
      "\n"
     ]
    },
    {
     "name": "stdout",
     "output_type": "stream",
     "text": [
      "Training start time: \u001b[35m2022-07-19 18:21:19\u001b[0m\n",
      "Epoch 1 elapsed: 0.466s\n"
     ]
    },
    {
     "name": "stderr",
     "output_type": "stream",
     "text": [
      "eval_pred: 100%|██████████████████████████████████████████████████████████████████████| 15/15 [00:00<00:00, 219.53it/s]"
     ]
    },
    {
     "name": "stdout",
     "output_type": "stream",
     "text": [
      "\t eval rmse: 1.0457\n",
      "\t eval mae: 0.8428\n",
      "\t eval r2: -0.0337\n",
      "==============================\n"
     ]
    },
    {
     "name": "stderr",
     "output_type": "stream",
     "text": [
      "\n"
     ]
    },
    {
     "name": "stdout",
     "output_type": "stream",
     "text": [
      "Epoch 2 elapsed: 0.475s\n"
     ]
    },
    {
     "name": "stderr",
     "output_type": "stream",
     "text": [
      "eval_pred: 100%|██████████████████████████████████████████████████████████████████████| 15/15 [00:00<00:00, 203.24it/s]"
     ]
    },
    {
     "name": "stdout",
     "output_type": "stream",
     "text": [
      "\t eval rmse: 1.1161\n",
      "\t eval mae: 0.8784\n",
      "\t eval r2: -0.1776\n",
      "==============================\n"
     ]
    },
    {
     "name": "stderr",
     "output_type": "stream",
     "text": [
      "\n"
     ]
    },
    {
     "name": "stdout",
     "output_type": "stream",
     "text": [
      "Epoch 3 elapsed: 0.477s\n"
     ]
    },
    {
     "name": "stderr",
     "output_type": "stream",
     "text": [
      "eval_pred: 100%|██████████████████████████████████████████████████████████████████████| 15/15 [00:00<00:00, 189.13it/s]"
     ]
    },
    {
     "name": "stdout",
     "output_type": "stream",
     "text": [
      "\t eval rmse: 1.1222\n",
      "\t eval mae: 0.8783\n",
      "\t eval r2: -0.1904\n",
      "==============================\n"
     ]
    },
    {
     "name": "stderr",
     "output_type": "stream",
     "text": [
      "\n"
     ]
    },
    {
     "name": "stdout",
     "output_type": "stream",
     "text": [
      "Epoch 4 elapsed: 0.496s\n"
     ]
    },
    {
     "name": "stderr",
     "output_type": "stream",
     "text": [
      "eval_pred: 100%|██████████████████████████████████████████████████████████████████████| 15/15 [00:00<00:00, 221.18it/s]"
     ]
    },
    {
     "name": "stdout",
     "output_type": "stream",
     "text": [
      "\t eval rmse: 1.1259\n",
      "\t eval mae: 0.8788\n",
      "\t eval r2: -0.1984\n",
      "==============================\n"
     ]
    },
    {
     "name": "stderr",
     "output_type": "stream",
     "text": [
      "\n"
     ]
    },
    {
     "name": "stdout",
     "output_type": "stream",
     "text": [
      "Epoch 5 elapsed: 0.472s\n"
     ]
    },
    {
     "name": "stderr",
     "output_type": "stream",
     "text": [
      "eval_pred: 100%|██████████████████████████████████████████████████████████████████████| 15/15 [00:00<00:00, 217.97it/s]"
     ]
    },
    {
     "name": "stdout",
     "output_type": "stream",
     "text": [
      "\t eval rmse: 1.1284\n",
      "\t eval mae: 0.8792\n",
      "\t eval r2: -0.2038\n",
      "==============================\n"
     ]
    },
    {
     "name": "stderr",
     "output_type": "stream",
     "text": [
      "\n"
     ]
    },
    {
     "name": "stdout",
     "output_type": "stream",
     "text": [
      "Training start time: \u001b[35m2022-07-19 18:21:22\u001b[0m\n",
      "Epoch 1 elapsed: 0.446s\n"
     ]
    },
    {
     "name": "stderr",
     "output_type": "stream",
     "text": [
      "eval_pred: 100%|██████████████████████████████████████████████████████████████████████| 15/15 [00:00<00:00, 213.38it/s]"
     ]
    },
    {
     "name": "stdout",
     "output_type": "stream",
     "text": [
      "\t eval rmse: 1.0267\n",
      "\t eval mae: 0.8353\n",
      "\t eval r2: 0.0036\n",
      "==============================\n"
     ]
    },
    {
     "name": "stderr",
     "output_type": "stream",
     "text": [
      "\n"
     ]
    },
    {
     "name": "stdout",
     "output_type": "stream",
     "text": [
      "Epoch 2 elapsed: 0.435s\n"
     ]
    },
    {
     "name": "stderr",
     "output_type": "stream",
     "text": [
      "eval_pred: 100%|██████████████████████████████████████████████████████████████████████| 15/15 [00:00<00:00, 201.85it/s]"
     ]
    },
    {
     "name": "stdout",
     "output_type": "stream",
     "text": [
      "\t eval rmse: 1.0682\n",
      "\t eval mae: 0.8440\n",
      "\t eval r2: -0.0786\n",
      "==============================\n"
     ]
    },
    {
     "name": "stderr",
     "output_type": "stream",
     "text": [
      "\n"
     ]
    },
    {
     "name": "stdout",
     "output_type": "stream",
     "text": [
      "Epoch 3 elapsed: 0.470s\n"
     ]
    },
    {
     "name": "stderr",
     "output_type": "stream",
     "text": [
      "eval_pred: 100%|██████████████████████████████████████████████████████████████████████| 15/15 [00:00<00:00, 214.85it/s]"
     ]
    },
    {
     "name": "stdout",
     "output_type": "stream",
     "text": [
      "\t eval rmse: 1.0690\n",
      "\t eval mae: 0.8412\n",
      "\t eval r2: -0.0804\n",
      "==============================\n"
     ]
    },
    {
     "name": "stderr",
     "output_type": "stream",
     "text": [
      "\n"
     ]
    },
    {
     "name": "stdout",
     "output_type": "stream",
     "text": [
      "Epoch 4 elapsed: 0.422s\n"
     ]
    },
    {
     "name": "stderr",
     "output_type": "stream",
     "text": [
      "eval_pred: 100%|██████████████████████████████████████████████████████████████████████| 15/15 [00:00<00:00, 156.66it/s]"
     ]
    },
    {
     "name": "stdout",
     "output_type": "stream",
     "text": [
      "\t eval rmse: 1.0694\n",
      "\t eval mae: 0.8398\n",
      "\t eval r2: -0.0811\n",
      "=============================="
     ]
    },
    {
     "name": "stderr",
     "output_type": "stream",
     "text": [
      "\n"
     ]
    },
    {
     "name": "stdout",
     "output_type": "stream",
     "text": [
      "\n",
      "Epoch 5 elapsed: 0.517s\n"
     ]
    },
    {
     "name": "stderr",
     "output_type": "stream",
     "text": [
      "eval_pred: 100%|██████████████████████████████████████████████████████████████████████| 15/15 [00:00<00:00, 172.87it/s]"
     ]
    },
    {
     "name": "stdout",
     "output_type": "stream",
     "text": [
      "\t eval rmse: 1.0699\n",
      "\t eval mae: 0.8391\n",
      "\t eval r2: -0.0820\n",
      "==============================\n"
     ]
    },
    {
     "name": "stderr",
     "output_type": "stream",
     "text": [
      "\n"
     ]
    },
    {
     "name": "stdout",
     "output_type": "stream",
     "text": [
      "Training start time: \u001b[35m2022-07-19 18:21:26\u001b[0m\n",
      "Epoch 1 elapsed: 0.505s\n"
     ]
    },
    {
     "name": "stderr",
     "output_type": "stream",
     "text": [
      "eval_pred: 100%|██████████████████████████████████████████████████████████████████████| 15/15 [00:00<00:00, 221.17it/s]"
     ]
    },
    {
     "name": "stdout",
     "output_type": "stream",
     "text": [
      "\t eval rmse: 1.0267\n",
      "\t eval mae: 0.8353\n",
      "\t eval r2: 0.0036\n",
      "==============================\n"
     ]
    },
    {
     "name": "stderr",
     "output_type": "stream",
     "text": [
      "\n"
     ]
    },
    {
     "name": "stdout",
     "output_type": "stream",
     "text": [
      "Epoch 2 elapsed: 0.466s\n"
     ]
    },
    {
     "name": "stderr",
     "output_type": "stream",
     "text": [
      "eval_pred: 100%|██████████████████████████████████████████████████████████████████████| 15/15 [00:00<00:00, 208.88it/s]"
     ]
    },
    {
     "name": "stdout",
     "output_type": "stream",
     "text": [
      "\t eval rmse: 1.0682\n",
      "\t eval mae: 0.8440\n",
      "\t eval r2: -0.0786\n",
      "==============================\n"
     ]
    },
    {
     "name": "stderr",
     "output_type": "stream",
     "text": [
      "\n"
     ]
    },
    {
     "name": "stdout",
     "output_type": "stream",
     "text": [
      "Epoch 3 elapsed: 0.475s\n"
     ]
    },
    {
     "name": "stderr",
     "output_type": "stream",
     "text": [
      "eval_pred: 100%|██████████████████████████████████████████████████████████████████████| 15/15 [00:00<00:00, 208.89it/s]"
     ]
    },
    {
     "name": "stdout",
     "output_type": "stream",
     "text": [
      "\t eval rmse: 1.0690\n",
      "\t eval mae: 0.8412\n",
      "\t eval r2: -0.0804\n",
      "==============================\n"
     ]
    },
    {
     "name": "stderr",
     "output_type": "stream",
     "text": [
      "\n"
     ]
    },
    {
     "name": "stdout",
     "output_type": "stream",
     "text": [
      "Epoch 4 elapsed: 0.513s\n"
     ]
    },
    {
     "name": "stderr",
     "output_type": "stream",
     "text": [
      "eval_pred: 100%|██████████████████████████████████████████████████████████████████████| 15/15 [00:00<00:00, 195.21it/s]"
     ]
    },
    {
     "name": "stdout",
     "output_type": "stream",
     "text": [
      "\t eval rmse: 1.0694\n",
      "\t eval mae: 0.8398\n",
      "\t eval r2: -0.0811\n",
      "==============================\n"
     ]
    },
    {
     "name": "stderr",
     "output_type": "stream",
     "text": [
      "\n"
     ]
    },
    {
     "name": "stdout",
     "output_type": "stream",
     "text": [
      "Epoch 5 elapsed: 0.495s\n"
     ]
    },
    {
     "name": "stderr",
     "output_type": "stream",
     "text": [
      "eval_pred: 100%|██████████████████████████████████████████████████████████████████████| 15/15 [00:00<00:00, 197.90it/s]"
     ]
    },
    {
     "name": "stdout",
     "output_type": "stream",
     "text": [
      "\t eval rmse: 1.0699\n",
      "\t eval mae: 0.8391\n",
      "\t eval r2: -0.0820\n",
      "==============================\n"
     ]
    },
    {
     "name": "stderr",
     "output_type": "stream",
     "text": [
      "\n"
     ]
    },
    {
     "name": "stdout",
     "output_type": "stream",
     "text": [
      "Training start time: \u001b[35m2022-07-19 18:21:29\u001b[0m\n",
      "Epoch 1 elapsed: 0.468s\n"
     ]
    },
    {
     "name": "stderr",
     "output_type": "stream",
     "text": [
      "eval_pred: 100%|██████████████████████████████████████████████████████████████████████| 15/15 [00:00<00:00, 188.00it/s]"
     ]
    },
    {
     "name": "stdout",
     "output_type": "stream",
     "text": [
      "\t eval rmse: 1.0267\n",
      "\t eval mae: 0.8353\n",
      "\t eval r2: 0.0036\n",
      "==============================\n"
     ]
    },
    {
     "name": "stderr",
     "output_type": "stream",
     "text": [
      "\n"
     ]
    },
    {
     "name": "stdout",
     "output_type": "stream",
     "text": [
      "Epoch 2 elapsed: 0.460s\n"
     ]
    },
    {
     "name": "stderr",
     "output_type": "stream",
     "text": [
      "eval_pred: 100%|██████████████████████████████████████████████████████████████████████| 15/15 [00:00<00:00, 181.21it/s]"
     ]
    },
    {
     "name": "stdout",
     "output_type": "stream",
     "text": [
      "\t eval rmse: 1.0682\n",
      "\t eval mae: 0.8440\n",
      "\t eval r2: -0.0786\n",
      "==============================\n"
     ]
    },
    {
     "name": "stderr",
     "output_type": "stream",
     "text": [
      "\n"
     ]
    },
    {
     "name": "stdout",
     "output_type": "stream",
     "text": [
      "Epoch 3 elapsed: 0.497s\n"
     ]
    },
    {
     "name": "stderr",
     "output_type": "stream",
     "text": [
      "eval_pred: 100%|██████████████████████████████████████████████████████████████████████| 15/15 [00:00<00:00, 179.03it/s]"
     ]
    },
    {
     "name": "stdout",
     "output_type": "stream",
     "text": [
      "\t eval rmse: 1.0690\n",
      "\t eval mae: 0.8412\n",
      "\t eval r2: -0.0804\n",
      "==============================\n"
     ]
    },
    {
     "name": "stderr",
     "output_type": "stream",
     "text": [
      "\n"
     ]
    },
    {
     "name": "stdout",
     "output_type": "stream",
     "text": [
      "Epoch 4 elapsed: 0.432s\n"
     ]
    },
    {
     "name": "stderr",
     "output_type": "stream",
     "text": [
      "eval_pred: 100%|██████████████████████████████████████████████████████████████████████| 15/15 [00:00<00:00, 211.84it/s]"
     ]
    },
    {
     "name": "stdout",
     "output_type": "stream",
     "text": [
      "\t eval rmse: 1.0694\n",
      "\t eval mae: 0.8398\n",
      "\t eval r2: -0.0811\n",
      "==============================\n"
     ]
    },
    {
     "name": "stderr",
     "output_type": "stream",
     "text": [
      "\n"
     ]
    },
    {
     "name": "stdout",
     "output_type": "stream",
     "text": [
      "Epoch 5 elapsed: 0.488s\n"
     ]
    },
    {
     "name": "stderr",
     "output_type": "stream",
     "text": [
      "eval_pred: 100%|██████████████████████████████████████████████████████████████████████| 15/15 [00:00<00:00, 169.84it/s]"
     ]
    },
    {
     "name": "stdout",
     "output_type": "stream",
     "text": [
      "\t eval rmse: 1.0699\n",
      "\t eval mae: 0.8391\n",
      "\t eval r2: -0.0820\n",
      "==============================\n"
     ]
    },
    {
     "name": "stderr",
     "output_type": "stream",
     "text": [
      "\n"
     ]
    },
    {
     "name": "stdout",
     "output_type": "stream",
     "text": [
      "Training start time: \u001b[35m2022-07-19 18:21:33\u001b[0m\n",
      "Epoch 1 elapsed: 0.462s\n"
     ]
    },
    {
     "name": "stderr",
     "output_type": "stream",
     "text": [
      "eval_pred: 100%|██████████████████████████████████████████████████████████████████████| 15/15 [00:00<00:00, 204.55it/s]"
     ]
    },
    {
     "name": "stdout",
     "output_type": "stream",
     "text": [
      "\t eval rmse: 1.0267\n",
      "\t eval mae: 0.8353\n",
      "\t eval r2: 0.0036\n",
      "==============================\n"
     ]
    },
    {
     "name": "stderr",
     "output_type": "stream",
     "text": [
      "\n"
     ]
    },
    {
     "name": "stdout",
     "output_type": "stream",
     "text": [
      "Epoch 2 elapsed: 0.460s\n"
     ]
    },
    {
     "name": "stderr",
     "output_type": "stream",
     "text": [
      "eval_pred: 100%|██████████████████████████████████████████████████████████████████████| 15/15 [00:00<00:00, 188.00it/s]"
     ]
    },
    {
     "name": "stdout",
     "output_type": "stream",
     "text": [
      "\t eval rmse: 1.0682\n",
      "\t eval mae: 0.8440\n",
      "\t eval r2: -0.0786\n",
      "==============================\n"
     ]
    },
    {
     "name": "stderr",
     "output_type": "stream",
     "text": [
      "\n"
     ]
    },
    {
     "name": "stdout",
     "output_type": "stream",
     "text": [
      "Epoch 3 elapsed: 0.467s\n"
     ]
    },
    {
     "name": "stderr",
     "output_type": "stream",
     "text": [
      "eval_pred: 100%|██████████████████████████████████████████████████████████████████████| 15/15 [00:00<00:00, 199.12it/s]"
     ]
    },
    {
     "name": "stdout",
     "output_type": "stream",
     "text": [
      "\t eval rmse: 1.0690\n",
      "\t eval mae: 0.8412\n",
      "\t eval r2: -0.0804\n",
      "==============================\n"
     ]
    },
    {
     "name": "stderr",
     "output_type": "stream",
     "text": [
      "\n"
     ]
    },
    {
     "name": "stdout",
     "output_type": "stream",
     "text": [
      "Epoch 4 elapsed: 0.504s\n"
     ]
    },
    {
     "name": "stderr",
     "output_type": "stream",
     "text": [
      "eval_pred: 100%|██████████████████████████████████████████████████████████████████████| 15/15 [00:00<00:00, 199.21it/s]"
     ]
    },
    {
     "name": "stdout",
     "output_type": "stream",
     "text": [
      "\t eval rmse: 1.0694\n",
      "\t eval mae: 0.8398\n",
      "\t eval r2: -0.0811\n",
      "==============================\n"
     ]
    },
    {
     "name": "stderr",
     "output_type": "stream",
     "text": [
      "\n"
     ]
    },
    {
     "name": "stdout",
     "output_type": "stream",
     "text": [
      "Epoch 5 elapsed: 0.449s\n"
     ]
    },
    {
     "name": "stderr",
     "output_type": "stream",
     "text": [
      "eval_pred: 100%|██████████████████████████████████████████████████████████████████████| 15/15 [00:00<00:00, 196.46it/s]"
     ]
    },
    {
     "name": "stdout",
     "output_type": "stream",
     "text": [
      "\t eval rmse: 1.0699\n",
      "\t eval mae: 0.8391\n",
      "\t eval r2: -0.0820\n",
      "==============================\n"
     ]
    },
    {
     "name": "stderr",
     "output_type": "stream",
     "text": [
      "\n"
     ]
    },
    {
     "name": "stdout",
     "output_type": "stream",
     "text": [
      "Training start time: \u001b[35m2022-07-19 18:21:36\u001b[0m\n",
      "Epoch 1 elapsed: 0.486s\n"
     ]
    },
    {
     "name": "stderr",
     "output_type": "stream",
     "text": [
      "eval_pred: 100%|██████████████████████████████████████████████████████████████████████| 15/15 [00:00<00:00, 203.24it/s]"
     ]
    },
    {
     "name": "stdout",
     "output_type": "stream",
     "text": [
      "\t eval rmse: 1.0267\n",
      "\t eval mae: 0.8353\n",
      "\t eval r2: 0.0036\n",
      "==============================\n"
     ]
    },
    {
     "name": "stderr",
     "output_type": "stream",
     "text": [
      "\n"
     ]
    },
    {
     "name": "stdout",
     "output_type": "stream",
     "text": [
      "Epoch 2 elapsed: 0.481s\n"
     ]
    },
    {
     "name": "stderr",
     "output_type": "stream",
     "text": [
      "eval_pred: 100%|██████████████████████████████████████████████████████████████████████| 15/15 [00:00<00:00, 201.85it/s]"
     ]
    },
    {
     "name": "stdout",
     "output_type": "stream",
     "text": [
      "\t eval rmse: 1.0682\n",
      "\t eval mae: 0.8440\n",
      "\t eval r2: -0.0786\n",
      "==============================\n"
     ]
    },
    {
     "name": "stderr",
     "output_type": "stream",
     "text": [
      "\n"
     ]
    },
    {
     "name": "stdout",
     "output_type": "stream",
     "text": [
      "Epoch 3 elapsed: 0.484s\n"
     ]
    },
    {
     "name": "stderr",
     "output_type": "stream",
     "text": [
      "eval_pred: 100%|██████████████████████████████████████████████████████████████████████| 15/15 [00:00<00:00, 200.52it/s]"
     ]
    },
    {
     "name": "stdout",
     "output_type": "stream",
     "text": [
      "\t eval rmse: 1.0690\n",
      "\t eval mae: 0.8412\n",
      "\t eval r2: -0.0804\n",
      "==============================\n"
     ]
    },
    {
     "name": "stderr",
     "output_type": "stream",
     "text": [
      "\n"
     ]
    },
    {
     "name": "stdout",
     "output_type": "stream",
     "text": [
      "Epoch 4 elapsed: 0.500s\n"
     ]
    },
    {
     "name": "stderr",
     "output_type": "stream",
     "text": [
      "eval_pred: 100%|██████████████████████████████████████████████████████████████████████| 15/15 [00:00<00:00, 206.03it/s]"
     ]
    },
    {
     "name": "stdout",
     "output_type": "stream",
     "text": [
      "\t eval rmse: 1.0694\n",
      "\t eval mae: 0.8398\n",
      "\t eval r2: -0.0811\n",
      "==============================\n"
     ]
    },
    {
     "name": "stderr",
     "output_type": "stream",
     "text": [
      "\n"
     ]
    },
    {
     "name": "stdout",
     "output_type": "stream",
     "text": [
      "Epoch 5 elapsed: 0.487s\n"
     ]
    },
    {
     "name": "stderr",
     "output_type": "stream",
     "text": [
      "eval_pred: 100%|██████████████████████████████████████████████████████████████████████| 15/15 [00:00<00:00, 190.38it/s]"
     ]
    },
    {
     "name": "stdout",
     "output_type": "stream",
     "text": [
      "\t eval rmse: 1.0699\n",
      "\t eval mae: 0.8391\n",
      "\t eval r2: -0.0820\n",
      "==============================\n"
     ]
    },
    {
     "name": "stderr",
     "output_type": "stream",
     "text": [
      "\n"
     ]
    },
    {
     "data": {
      "text/plain": [
       "4.0079949094124485"
      ]
     },
     "execution_count": 129,
     "metadata": {},
     "output_type": "execute_result"
    }
   ],
   "source": [
    "emb_sizes = [2,4,8,16,32]\n",
    "regs = [0.1, 0.5, 1, 5, 10]\n",
    "alphas = [0.01, 0.1, 1, 10, 100]\n",
    "david = np.zeros((125, len(users_val)))\n",
    "\n",
    "for i, emb_size in enumerate(emb_sizes):\n",
    "    for j, reg in enumerate(regs):\n",
    "        for k, alpha in enumerate(alphas):\n",
    "            giorgio = ALS(task=\"rating\", data_info=data_info, embed_size=emb_size, n_epochs=5,\n",
    "                        reg=reg, alpha=alpha, seed=42)\n",
    "            giorgio.fit(train_data, verbose=2, use_cg=False, n_threads=8,\n",
    "                    eval_data=eval_data, metrics=[\"rmse\", \"mae\", \"r2\"])\n",
    "            david[len(regs)*len(alphas)*i+len(alphas)*j+k] = np.array(giorgio.predict(user=users_val, item=movies_val)) + get_offset(movies_val)\n",
    "            \n",
    "mean_squared_error(david.mean(axis=0), ratings_val, squared=False)"
   ]
  },
  {
   "cell_type": "code",
   "execution_count": 130,
   "id": "59483f23",
   "metadata": {},
   "outputs": [
    {
     "data": {
      "text/plain": [
       "0.9877900619671548"
      ]
     },
     "execution_count": 130,
     "metadata": {},
     "output_type": "execute_result"
    }
   ],
   "source": [
    "mean_squared_error(david.mean(axis=0), ratings_val + get_offset(movies_val), squared=False)"
   ]
  },
  {
   "cell_type": "code",
   "execution_count": 87,
   "id": "0db0ec53",
   "metadata": {},
   "outputs": [
    {
     "name": "stdout",
     "output_type": "stream",
     "text": [
      "Training start time: \u001b[35m2022-07-19 17:31:55\u001b[0m\n",
      "Epoch 1 elapsed: 0.058s\n"
     ]
    },
    {
     "name": "stderr",
     "output_type": "stream",
     "text": [
      "eval_pred: 100%|██████████████████████████████████████████████████████████████████████| 15/15 [00:00<00:00, 347.66it/s]"
     ]
    },
    {
     "name": "stdout",
     "output_type": "stream",
     "text": [
      "\t eval rmse: 4.0174\n",
      "\t eval mae: 3.8581\n",
      "\t eval r2: -11.9237\n",
      "==============================\n"
     ]
    },
    {
     "name": "stderr",
     "output_type": "stream",
     "text": [
      "\n"
     ]
    },
    {
     "name": "stdout",
     "output_type": "stream",
     "text": [
      "Epoch 2 elapsed: 0.056s\n"
     ]
    },
    {
     "name": "stderr",
     "output_type": "stream",
     "text": [
      "eval_pred: 100%|██████████████████████████████████████████████████████████████████████| 15/15 [00:00<00:00, 409.79it/s]\n"
     ]
    },
    {
     "name": "stdout",
     "output_type": "stream",
     "text": [
      "\t eval rmse: 4.0048\n",
      "\t eval mae: 3.8486\n",
      "\t eval r2: -11.8427\n",
      "==============================\n",
      "Epoch 3 elapsed: 0.055s\n"
     ]
    },
    {
     "name": "stderr",
     "output_type": "stream",
     "text": [
      "eval_pred: 100%|██████████████████████████████████████████████████████████████████████| 15/15 [00:00<00:00, 385.64it/s]\n"
     ]
    },
    {
     "name": "stdout",
     "output_type": "stream",
     "text": [
      "\t eval rmse: 4.0054\n",
      "\t eval mae: 3.8517\n",
      "\t eval r2: -11.8466\n",
      "==============================\n",
      "Epoch 4 elapsed: 0.054s\n"
     ]
    },
    {
     "name": "stderr",
     "output_type": "stream",
     "text": [
      "eval_pred: 100%|██████████████████████████████████████████████████████████████████████| 15/15 [00:00<00:00, 395.80it/s]\n"
     ]
    },
    {
     "name": "stdout",
     "output_type": "stream",
     "text": [
      "\t eval rmse: 4.0040\n",
      "\t eval mae: 3.8521\n",
      "\t eval r2: -11.8376\n",
      "==============================\n",
      "Epoch 5 elapsed: 0.073s\n"
     ]
    },
    {
     "name": "stderr",
     "output_type": "stream",
     "text": [
      "eval_pred: 100%|██████████████████████████████████████████████████████████████████████| 15/15 [00:00<00:00, 373.24it/s]\n"
     ]
    },
    {
     "name": "stdout",
     "output_type": "stream",
     "text": [
      "\t eval rmse: 4.0037\n",
      "\t eval mae: 3.8532\n",
      "\t eval r2: -11.8357\n",
      "==============================\n",
      "0.9933771040483091\n"
     ]
    }
   ],
   "source": [
    "giorgio = ALS(task=\"rating\", data_info=data_info, embed_size=4, n_epochs=5,\n",
    "                        reg=5, alpha=1, seed=42)\n",
    "giorgio.fit(train_data, verbose=2, use_cg=False, n_threads=8,\n",
    "                    eval_data=eval_data, metrics=[\"rmse\", \"mae\", \"r2\"])\n",
    "ypred = np.array(giorgio.predict(user=users_val, item=movies_val)) + get_offset(movies_val)\n",
    "print(mean_squared_error(ypred, ratings_val, squared=False))"
   ]
  }
 ],
 "metadata": {
  "kernelspec": {
   "display_name": "Python 3 (ipykernel)",
   "language": "python",
   "name": "python3"
  },
  "language_info": {
   "codemirror_mode": {
    "name": "ipython",
    "version": 3
   },
   "file_extension": ".py",
   "mimetype": "text/x-python",
   "name": "python",
   "nbconvert_exporter": "python",
   "pygments_lexer": "ipython3",
   "version": "3.9.7"
  }
 },
 "nbformat": 4,
 "nbformat_minor": 5
}
