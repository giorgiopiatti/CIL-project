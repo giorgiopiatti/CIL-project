{
 "cells": [
  {
   "cell_type": "code",
   "execution_count": 1,
   "id": "b4223861",
   "metadata": {},
   "outputs": [
    {
     "name": "stdout",
     "output_type": "stream",
     "text": [
      "WARNING:tensorflow:From /home/david/.local/lib/python3.8/site-packages/tensorflow/python/compat/v2_compat.py:107: disable_resource_variables (from tensorflow.python.ops.variable_scope) is deprecated and will be removed in a future version.\n",
      "Instructions for updating:\n",
      "non-resource variables are not supported in the long term\n"
     ]
    }
   ],
   "source": [
    "import numpy as np\n",
    "import pandas as pd\n",
    "from sklearn.model_selection import train_test_split\n",
    "import random\n",
    "from dataset import extract_matrix_users_movies_ratings, extract_users_movies_ratings_lists, TripletDataset\n",
    "from libreco.data import split_by_ratio_chrono, DatasetPure\n",
    "from libreco.algorithms import ALS\n",
    "from sklearn.metrics import mean_squared_error\n",
    "from scipy.sparse import coo_matrix\n",
    "\n",
    "import importlib\n",
    "import dataset\n",
    "importlib.reload(dataset)\n",
    "from dataset import extract_matrix_users_movies_ratings, extract_users_movies_ratings_lists\n",
    "\n",
    "import torch \n",
    "import torch.nn as nn \n",
    "import pytorch_lightning as pl\n",
    "number_of_users, number_of_movies = (10000, 1000)"
   ]
  },
  {
   "cell_type": "code",
   "execution_count": 6,
   "id": "92cc96bc",
   "metadata": {},
   "outputs": [],
   "source": [
    "data_pd = pd.read_csv('../data/data_train.csv')\n",
    "data_matrix, _ = extract_matrix_users_movies_ratings(data_pd)\n",
    "# axis 0 means: we subtract the means for each movie\n",
    "\n",
    "data_matrix[data_matrix == 0] = 'nan'\n",
    "MEAN = np.nanmean(data_matrix, keepdims=True)\n",
    "MEAN_USER_MATRIX = model.user_bias.weight.detach().numpy()\n",
    "MEAN_MOVIE_MATRIX = model.movie_bias.weight.detach().numpy()\n",
    "data_matrix[np.isnan(data_matrix)] = 0\n",
    "\n",
    "\n",
    "data_matrix_normalized = np.subtract(data_matrix, MEAN, where=data_matrix != 0)\n",
    "#MEAN_MOVIE_MATRIX = np.nanmean(data_matrix_normalized, axis=0, keepdims=True)\n",
    "data_matrix_normalized = np.subtract(data_matrix_normalized, MEAN_MOVIE_MATRIX.T, where=data_matrix != 0)\n",
    "#MEAN_USER_MATRIX = np.nanmean(data_matrix_normalized, axis=1, keepdims=True)\n",
    "data_matrix_normalized = np.subtract(data_matrix_normalized, MEAN_USER_MATRIX, where=data_matrix != 0)\n",
    "#STD = np.nanstd(data_matrix, keepdims=True)\n",
    "\n",
    "STD_MATRIX = np.nanstd(data_matrix, axis=0, keepdims=True)"
   ]
  },
  {
   "cell_type": "code",
   "execution_count": 2,
   "id": "16f814fb",
   "metadata": {},
   "outputs": [],
   "source": [
    "data_pd = pd.read_csv('../data/data_train.csv')\n",
    "data_matrix, _ = extract_matrix_users_movies_ratings(data_pd)\n",
    "data_matrix_normalized = data_matrix"
   ]
  },
  {
   "cell_type": "code",
   "execution_count": 3,
   "id": "614d859a",
   "metadata": {},
   "outputs": [],
   "source": [
    "class LearnBias(pl.LightningModule):\n",
    "\n",
    "    def __init__(self, alpha=0.1, lr=0.001, weight_decay=0):\n",
    "        super().__init__()\n",
    "        self.save_hyperparameters()\n",
    "        \n",
    "        self.user_bias = nn.Embedding(number_of_users, 1)\n",
    "        self.movie_bias = nn.Embedding(number_of_movies, 1)\n",
    "        \n",
    "        self.lr = lr\n",
    "        self.weight_decay = weight_decay\n",
    "        self.alpha = alpha\n",
    "        \n",
    "\n",
    "    def forward(self, batch):\n",
    "        users, movies = batch[:, 0], batch[:, 1]\n",
    "\n",
    "        user_bias = self.user_bias(users)\n",
    "        movie_bias = self.movie_bias(movies)\n",
    "     \n",
    "        return torch.tensor(MEAN) + self.user_bias(users) + self.movie_bias(movies)\n",
    "    \n",
    "    def loss(self, yhat, y):\n",
    "        return torch.sum((yhat -y)**2) + self.alpha * ((self.user_bias.weight ** 2).sum() + (self.movie_bias.weight ** 2).sum())\n",
    "\n",
    "    def configure_optimizers(self):\n",
    "        return torch.optim.Adam(self.parameters(), self.lr, weight_decay=self.weight_decay)\n",
    "    \n",
    "    def training_step(self, batch, batch_idx):\n",
    "        x,y = batch\n",
    "        yhat = self(x)\n",
    "        loss = self.loss(yhat, y)\n",
    "        self.log('train_rmse', loss, on_epoch=True, on_step=True, prog_bar=True)\n",
    "        return loss\n",
    "\n",
    "    def validation_step(self, batch, batch_idx):\n",
    "        x,y = batch\n",
    "        yhat = self(x)\n",
    "        loss = self.loss(yhat, y)\n",
    "        self.log('val_rmse', loss, on_epoch=True, on_step=True, prog_bar=True)\n",
    "        return loss\n"
   ]
  },
  {
   "cell_type": "code",
   "execution_count": 4,
   "id": "6ae7ce1f",
   "metadata": {},
   "outputs": [
    {
     "name": "stderr",
     "output_type": "stream",
     "text": [
      "/home/david/.local/lib/python3.8/site-packages/torch/cuda/__init__.py:82: UserWarning: CUDA initialization: CUDA unknown error - this may be due to an incorrectly set up environment, e.g. changing env variable CUDA_VISIBLE_DEVICES after program start. Setting the available devices to be zero. (Triggered internally at  ../c10/cuda/CUDAFunctions.cpp:112.)\n",
      "  return torch._C._cuda_getDeviceCount() > 0\n",
      "GPU available: False, used: False\n",
      "TPU available: False, using: 0 TPU cores\n",
      "IPU available: False, using: 0 IPUs\n",
      "HPU available: False, using: 0 HPUs\n",
      "/home/david/.local/lib/python3.8/site-packages/pytorch_lightning/trainer/configuration_validator.py:133: UserWarning: You defined a `validation_step` but have no `val_dataloader`. Skipping val loop.\n",
      "  rank_zero_warn(\"You defined a `validation_step` but have no `val_dataloader`. Skipping val loop.\")\n",
      "\n",
      "  | Name       | Type      | Params\n",
      "-----------------------------------------\n",
      "0 | user_bias  | Embedding | 10.0 K\n",
      "1 | movie_bias | Embedding | 1.0 K \n",
      "-----------------------------------------\n",
      "11.0 K    Trainable params\n",
      "0         Non-trainable params\n",
      "11.0 K    Total params\n",
      "0.044     Total estimated model params size (MB)\n",
      "/home/david/.local/lib/python3.8/site-packages/pytorch_lightning/trainer/connectors/data_connector.py:240: PossibleUserWarning: The dataloader, train_dataloader, does not have many workers which may be a bottleneck. Consider increasing the value of the `num_workers` argument` (try 8 which is the number of cpus on this machine) in the `DataLoader` init to improve performance.\n",
      "  rank_zero_warn(\n"
     ]
    },
    {
     "data": {
      "application/vnd.jupyter.widget-view+json": {
       "model_id": "73c1f24df50640de8f9d3f1ce826f677",
       "version_major": 2,
       "version_minor": 0
      },
      "text/plain": [
       "Training: 0it [00:00, ?it/s]"
      ]
     },
     "metadata": {},
     "output_type": "display_data"
    }
   ],
   "source": [
    "BATCH_SIZE=2048\n",
    "\n",
    "users_train, movies_train, ratings_train = extract_users_movies_ratings_lists(data_pd)\n",
    "d_train = TripletDataset(users_train, movies_train, ratings_train)\n",
    "train_dataloader = torch.utils.data.DataLoader(d_train, batch_size=BATCH_SIZE, drop_last=False, shuffle=True)\n",
    "\n",
    "model = LearnBias()\n",
    "trainer = pl.Trainer(max_epochs=5)\n",
    "trainer.fit(model, train_dataloaders=train_dataloader)"
   ]
  },
  {
   "cell_type": "code",
   "execution_count": 3,
   "id": "8d3b1119",
   "metadata": {},
   "outputs": [],
   "source": [
    "def normalize_extract_lists(pd, users, movies):  \n",
    "    # axis 0 means: we subtract the means for each movie\n",
    "    a = np.zeros(len(users))\n",
    "    #data_matrix_normalized = np.divide(data_matrix_normalized, STD_MATRIX, where=data_matrix != 0)\n",
    "\n",
    "    for i, (user, movie) in enumerate(zip(users, movies)):\n",
    "        a[i] = data_matrix_normalized[user][movie]\n",
    "    return a"
   ]
  },
  {
   "cell_type": "code",
   "execution_count": 4,
   "id": "c5908c89",
   "metadata": {},
   "outputs": [],
   "source": [
    "def normalize_lists(pd, users, movies):\n",
    "    data_matrix, _ = extract_matrix_users_movies_ratings(pd)\n",
    "    # axis 0 means: we subtract the means for each movie\n",
    "    a = np.zeros(len(users))\n",
    "    data_matrix_normalized = np.subtract(data_matrix, MEAN, where=data_matrix != 0)\n",
    "    #data_matrix_normalized = np.divide(data_matrix_normalized, STD, where=data_matrix != 0)\n",
    "        \n",
    "    for i, (user, movie) in enumerate(zip(users, movies)):\n",
    "        a[i] = data_matrix_normalized[user][movie]\n",
    "    return a"
   ]
  },
  {
   "cell_type": "code",
   "execution_count": 5,
   "id": "497823b7",
   "metadata": {},
   "outputs": [],
   "source": [
    "RANDOM_STATE = 58\n",
    "train_pd, val_pd = train_test_split(data_pd, train_size=0.9, random_state=RANDOM_STATE)\n",
    "\n",
    "users_train, movies_train, _ = extract_users_movies_ratings_lists(train_pd)\n",
    "ratings_train = normalize_extract_lists(train_pd, users_train, movies_train)\n",
    "\n",
    "users_val, movies_val, _ = extract_users_movies_ratings_lists(val_pd)\n",
    "ratings_val = normalize_extract_lists(val_pd, users_val, movies_val)\n",
    "\n",
    "train = pd.DataFrame({'user': users_train, 'item': movies_train, 'label': ratings_train})\n",
    "val = pd.DataFrame({'user': users_val, 'item': movies_val, 'label': ratings_val})\n",
    "\n",
    "# %%\n",
    "train_data, data_info = DatasetPure.build_trainset(train)\n",
    "eval_data = DatasetPure.build_evalset(val)"
   ]
  },
  {
   "cell_type": "code",
   "execution_count": 6,
   "id": "ca07b804",
   "metadata": {},
   "outputs": [],
   "source": [
    "def get_mean_movie(i):\n",
    "    mean_vector = np.squeeze(MEAN_MOVIE_MATRIX)\n",
    "    return mean_vector[i]\n",
    "\n",
    "def get_mean_user(i):\n",
    "    mean_vector = np.squeeze(MEAN_USER_MATRIX)\n",
    "    return mean_vector[i]\n",
    "\n",
    "\n",
    "def get_std(i):\n",
    "    std_vector = np.squeeze(STD_MATRIX)\n",
    "    return std_vector[i]\n",
    "\n",
    "def get_mean_movie_offset(movies):\n",
    "    return np.array(list(map(get_mean_movie, movies)))\n",
    "\n",
    "def get_mean_user_offset(users):\n",
    "    return np.array(list(map(get_mean_user, users)))\n",
    "\n",
    "\n",
    "def get_std_offset(movies):\n",
    "    return np.array(list(map(get_std, movies)))\n",
    "\n",
    "def transform_back(ratings, users, movies):\n",
    "    return ratings + MEAN + get_mean_movie_offset(movies) + get_mean_user_offset(users)"
   ]
  },
  {
   "cell_type": "code",
   "execution_count": 7,
   "id": "67b8b342",
   "metadata": {},
   "outputs": [],
   "source": [
    "def save_predictions(res_path, predictions):\n",
    "    test_pd = pd.read_csv('../data/sampleSubmission.csv')\n",
    "    test_pd = test_pd.astype({'Prediction': 'float'})\n",
    "    test_pd.iloc[:, 1] = predictions\n",
    "    test_pd.to_csv(res_path, index=False, float_format='%.3f')"
   ]
  },
  {
   "cell_type": "code",
   "execution_count": 8,
   "id": "853854f1",
   "metadata": {},
   "outputs": [
    {
     "name": "stdout",
     "output_type": "stream",
     "text": [
      "Training start time: \u001b[35m2022-07-28 17:10:42\u001b[0m\n",
      "Epoch 1 elapsed: 0.046s\n"
     ]
    },
    {
     "name": "stderr",
     "output_type": "stream",
     "text": [
      "eval_pred: 100%|███████████████████████████████| 15/15 [00:00<00:00, 857.42it/s]\n"
     ]
    },
    {
     "name": "stdout",
     "output_type": "stream",
     "text": [
      "\t eval rmse: 2.5230\n",
      "\t eval mae: 2.1942\n",
      "\t eval r2: -4.0973\n",
      "==============================\n",
      "Epoch 2 elapsed: 0.055s\n"
     ]
    },
    {
     "name": "stderr",
     "output_type": "stream",
     "text": [
      "eval_pred: 100%|███████████████████████████████| 15/15 [00:00<00:00, 743.39it/s]\n"
     ]
    },
    {
     "name": "stdout",
     "output_type": "stream",
     "text": [
      "\t eval rmse: 1.0044\n",
      "\t eval mae: 0.8079\n",
      "\t eval r2: 0.1922\n",
      "==============================\n",
      "Epoch 3 elapsed: 0.063s\n"
     ]
    },
    {
     "name": "stderr",
     "output_type": "stream",
     "text": [
      "eval_pred: 100%|███████████████████████████████| 15/15 [00:00<00:00, 758.50it/s]\n"
     ]
    },
    {
     "name": "stdout",
     "output_type": "stream",
     "text": [
      "\t eval rmse: 0.9986\n",
      "\t eval mae: 0.7995\n",
      "\t eval r2: 0.2015\n",
      "==============================\n",
      "Epoch 4 elapsed: 0.029s\n"
     ]
    },
    {
     "name": "stderr",
     "output_type": "stream",
     "text": [
      "eval_pred: 100%|███████████████████████████████| 15/15 [00:00<00:00, 705.15it/s]\n"
     ]
    },
    {
     "name": "stdout",
     "output_type": "stream",
     "text": [
      "\t eval rmse: 0.9966\n",
      "\t eval mae: 0.7969\n",
      "\t eval r2: 0.2047\n",
      "==============================\n",
      "Epoch 5 elapsed: 0.071s\n"
     ]
    },
    {
     "name": "stderr",
     "output_type": "stream",
     "text": [
      "eval_pred: 100%|███████████████████████████████| 15/15 [00:00<00:00, 936.09it/s]\n"
     ]
    },
    {
     "name": "stdout",
     "output_type": "stream",
     "text": [
      "\t eval rmse: 0.9959\n",
      "\t eval mae: 0.7959\n",
      "\t eval r2: 0.2059\n",
      "==============================\n",
      "Training start time: \u001b[35m2022-07-28 17:10:43\u001b[0m\n",
      "Epoch 1 elapsed: 0.030s\n"
     ]
    },
    {
     "name": "stderr",
     "output_type": "stream",
     "text": [
      "eval_pred: 100%|███████████████████████████████| 15/15 [00:00<00:00, 909.47it/s]\n"
     ]
    },
    {
     "name": "stdout",
     "output_type": "stream",
     "text": [
      "\t eval rmse: 2.4696\n",
      "\t eval mae: 2.1325\n",
      "\t eval r2: -3.8837\n",
      "==============================\n",
      "Epoch 2 elapsed: 0.028s\n"
     ]
    },
    {
     "name": "stderr",
     "output_type": "stream",
     "text": [
      "eval_pred: 100%|███████████████████████████████| 15/15 [00:00<00:00, 812.28it/s]"
     ]
    },
    {
     "name": "stdout",
     "output_type": "stream",
     "text": [
      "\t eval rmse: 1.0020\n",
      "\t eval mae: 0.8043\n",
      "\t eval r2: 0.1961\n",
      "==============================\n"
     ]
    },
    {
     "name": "stderr",
     "output_type": "stream",
     "text": [
      "\n"
     ]
    },
    {
     "name": "stdout",
     "output_type": "stream",
     "text": [
      "Epoch 3 elapsed: 0.078s\n"
     ]
    },
    {
     "name": "stderr",
     "output_type": "stream",
     "text": [
      "eval_pred: 100%|███████████████████████████████| 15/15 [00:00<00:00, 819.16it/s]"
     ]
    },
    {
     "name": "stdout",
     "output_type": "stream",
     "text": [
      "\t eval rmse: 0.9985\n"
     ]
    },
    {
     "name": "stderr",
     "output_type": "stream",
     "text": [
      "\n"
     ]
    },
    {
     "name": "stdout",
     "output_type": "stream",
     "text": [
      "\t eval mae: 0.7991\n",
      "\t eval r2: 0.2017\n",
      "==============================\n",
      "Epoch 4 elapsed: 0.028s\n"
     ]
    },
    {
     "name": "stderr",
     "output_type": "stream",
     "text": [
      "eval_pred: 100%|███████████████████████████████| 15/15 [00:00<00:00, 919.32it/s]\n"
     ]
    },
    {
     "name": "stdout",
     "output_type": "stream",
     "text": [
      "\t eval rmse: 0.9967\n",
      "\t eval mae: 0.7969\n",
      "\t eval r2: 0.2045\n",
      "==============================\n",
      "Epoch 5 elapsed: 0.026s\n"
     ]
    },
    {
     "name": "stderr",
     "output_type": "stream",
     "text": [
      "eval_pred: 100%|███████████████████████████████| 15/15 [00:00<00:00, 899.58it/s]\n"
     ]
    },
    {
     "name": "stdout",
     "output_type": "stream",
     "text": [
      "\t eval rmse: 0.9960\n",
      "\t eval mae: 0.7960\n",
      "\t eval r2: 0.2057\n",
      "==============================\n",
      "Training start time: \u001b[35m2022-07-28 17:10:43\u001b[0m\n",
      "Epoch 1 elapsed: 0.026s\n"
     ]
    },
    {
     "name": "stderr",
     "output_type": "stream",
     "text": [
      "eval_pred: 100%|███████████████████████████████| 15/15 [00:00<00:00, 944.10it/s]\n"
     ]
    },
    {
     "name": "stdout",
     "output_type": "stream",
     "text": [
      "\t eval rmse: 2.4589\n",
      "\t eval mae: 2.1210\n",
      "\t eval r2: -3.8416\n",
      "==============================\n",
      "Epoch 2 elapsed: 0.061s\n"
     ]
    },
    {
     "name": "stderr",
     "output_type": "stream",
     "text": [
      "eval_pred: 100%|███████████████████████████████| 15/15 [00:00<00:00, 891.61it/s]"
     ]
    },
    {
     "name": "stdout",
     "output_type": "stream",
     "text": [
      "\t eval rmse: 1.0016\n",
      "\t eval mae: 0.8034\n"
     ]
    },
    {
     "name": "stderr",
     "output_type": "stream",
     "text": [
      "\n"
     ]
    },
    {
     "name": "stdout",
     "output_type": "stream",
     "text": [
      "\t eval r2: 0.1967\n",
      "==============================\n",
      "Epoch 3 elapsed: 0.055s\n"
     ]
    },
    {
     "name": "stderr",
     "output_type": "stream",
     "text": [
      "eval_pred: 100%|███████████████████████████████| 15/15 [00:00<00:00, 748.77it/s]\n"
     ]
    },
    {
     "name": "stdout",
     "output_type": "stream",
     "text": [
      "\t eval rmse: 0.9986\n",
      "\t eval mae: 0.7992\n",
      "\t eval r2: 0.2016\n",
      "==============================\n",
      "Epoch 4 elapsed: 0.025s\n"
     ]
    },
    {
     "name": "stderr",
     "output_type": "stream",
     "text": [
      "eval_pred: 100%|███████████████████████████████| 15/15 [00:00<00:00, 938.63it/s]\n"
     ]
    },
    {
     "name": "stdout",
     "output_type": "stream",
     "text": [
      "\t eval rmse: 0.9968\n",
      "\t eval mae: 0.7971\n",
      "\t eval r2: 0.2043\n",
      "==============================\n",
      "Epoch 5 elapsed: 0.049s\n"
     ]
    },
    {
     "name": "stderr",
     "output_type": "stream",
     "text": [
      "eval_pred: 100%|███████████████████████████████| 15/15 [00:00<00:00, 953.74it/s]\n"
     ]
    },
    {
     "name": "stdout",
     "output_type": "stream",
     "text": [
      "\t eval rmse: 0.9961\n",
      "\t eval mae: 0.7962\n",
      "\t eval r2: 0.2055\n",
      "==============================\n",
      "Training start time: \u001b[35m2022-07-28 17:10:44\u001b[0m\n",
      "Epoch 1 elapsed: 0.044s\n"
     ]
    },
    {
     "name": "stderr",
     "output_type": "stream",
     "text": [
      "eval_pred: 100%|███████████████████████████████| 15/15 [00:00<00:00, 806.98it/s]"
     ]
    },
    {
     "name": "stdout",
     "output_type": "stream",
     "text": [
      "\t eval rmse: 2.4636\n"
     ]
    },
    {
     "name": "stderr",
     "output_type": "stream",
     "text": [
      "\n"
     ]
    },
    {
     "name": "stdout",
     "output_type": "stream",
     "text": [
      "\t eval mae: 2.1274\n",
      "\t eval r2: -3.8602\n",
      "==============================\n",
      "Epoch 2 elapsed: 0.027s\n"
     ]
    },
    {
     "name": "stderr",
     "output_type": "stream",
     "text": [
      "eval_pred: 100%|███████████████████████████████| 15/15 [00:00<00:00, 916.96it/s]"
     ]
    },
    {
     "name": "stdout",
     "output_type": "stream",
     "text": [
      "\t eval rmse: 1.0014\n",
      "\t eval mae: 0.8026\n",
      "\t eval r2: 0.1969\n",
      "==============================\n"
     ]
    },
    {
     "name": "stderr",
     "output_type": "stream",
     "text": [
      "\n"
     ]
    },
    {
     "name": "stdout",
     "output_type": "stream",
     "text": [
      "Epoch 3 elapsed: 0.031s\n"
     ]
    },
    {
     "name": "stderr",
     "output_type": "stream",
     "text": [
      "eval_pred: 100%|███████████████████████████████| 15/15 [00:00<00:00, 969.77it/s]"
     ]
    },
    {
     "name": "stdout",
     "output_type": "stream",
     "text": [
      "\t eval rmse: 0.9986\n"
     ]
    },
    {
     "name": "stderr",
     "output_type": "stream",
     "text": [
      "\n"
     ]
    },
    {
     "name": "stdout",
     "output_type": "stream",
     "text": [
      "\t eval mae: 0.7994\n",
      "\t eval r2: 0.2015\n",
      "==============================\n",
      "Epoch 4 elapsed: 0.028s\n"
     ]
    },
    {
     "name": "stderr",
     "output_type": "stream",
     "text": [
      "eval_pred: 100%|███████████████████████████████| 15/15 [00:00<00:00, 927.53it/s]\n"
     ]
    },
    {
     "name": "stdout",
     "output_type": "stream",
     "text": [
      "\t eval rmse: 0.9969\n",
      "\t eval mae: 0.7974\n",
      "\t eval r2: 0.2042\n",
      "==============================\n",
      "Epoch 5 elapsed: 0.029s\n"
     ]
    },
    {
     "name": "stderr",
     "output_type": "stream",
     "text": [
      "eval_pred: 100%|███████████████████████████████| 15/15 [00:00<00:00, 846.79it/s]"
     ]
    },
    {
     "name": "stdout",
     "output_type": "stream",
     "text": [
      "\t eval rmse: 0.9961\n"
     ]
    },
    {
     "name": "stderr",
     "output_type": "stream",
     "text": [
      "\n"
     ]
    },
    {
     "name": "stdout",
     "output_type": "stream",
     "text": [
      "\t eval mae: 0.7965\n",
      "\t eval r2: 0.2054\n",
      "==============================\n",
      "Training start time: \u001b[35m2022-07-28 17:10:44\u001b[0m\n",
      "Epoch 1 elapsed: 0.029s\n"
     ]
    },
    {
     "name": "stderr",
     "output_type": "stream",
     "text": [
      "eval_pred: 100%|██████████████████████████████| 15/15 [00:00<00:00, 1024.70it/s]\n"
     ]
    },
    {
     "name": "stdout",
     "output_type": "stream",
     "text": [
      "\t eval rmse: 2.4699\n",
      "\t eval mae: 2.1348\n",
      "\t eval r2: -3.8850\n",
      "==============================\n",
      "Epoch 2 elapsed: 0.038s\n"
     ]
    },
    {
     "name": "stderr",
     "output_type": "stream",
     "text": [
      "eval_pred: 100%|███████████████████████████████| 15/15 [00:00<00:00, 790.49it/s]"
     ]
    },
    {
     "name": "stdout",
     "output_type": "stream",
     "text": [
      "\t eval rmse: 1.0015\n",
      "\t eval mae: 0.8025\n",
      "\t eval r2: 0.1969\n",
      "==============================\n"
     ]
    },
    {
     "name": "stderr",
     "output_type": "stream",
     "text": [
      "\n"
     ]
    },
    {
     "name": "stdout",
     "output_type": "stream",
     "text": [
      "Epoch 3 elapsed: 0.040s\n"
     ]
    },
    {
     "name": "stderr",
     "output_type": "stream",
     "text": [
      "eval_pred: 100%|██████████████████████████████| 15/15 [00:00<00:00, 1026.76it/s]\n"
     ]
    },
    {
     "name": "stdout",
     "output_type": "stream",
     "text": [
      "\t eval rmse: 0.9986\n",
      "\t eval mae: 0.7995\n",
      "\t eval r2: 0.2015\n",
      "==============================\n",
      "Epoch 4 elapsed: 0.030s\n"
     ]
    },
    {
     "name": "stderr",
     "output_type": "stream",
     "text": [
      "eval_pred: 100%|███████████████████████████████| 15/15 [00:00<00:00, 938.23it/s]\n"
     ]
    },
    {
     "name": "stdout",
     "output_type": "stream",
     "text": [
      "\t eval rmse: 0.9969\n",
      "\t eval mae: 0.7975\n",
      "\t eval r2: 0.2043\n",
      "==============================\n",
      "Epoch 5 elapsed: 0.044s\n"
     ]
    },
    {
     "name": "stderr",
     "output_type": "stream",
     "text": [
      "eval_pred: 100%|██████████████████████████████| 15/15 [00:00<00:00, 1069.50it/s]\n"
     ]
    },
    {
     "name": "stdout",
     "output_type": "stream",
     "text": [
      "\t eval rmse: 0.9961\n",
      "\t eval mae: 0.7966\n",
      "\t eval r2: 0.2054\n",
      "==============================\n",
      "Training start time: \u001b[35m2022-07-28 17:10:45\u001b[0m\n",
      "Epoch 1 elapsed: 0.041s\n"
     ]
    },
    {
     "name": "stderr",
     "output_type": "stream",
     "text": [
      "eval_pred: 100%|██████████████████████████████| 15/15 [00:00<00:00, 1003.07it/s]\n"
     ]
    },
    {
     "name": "stdout",
     "output_type": "stream",
     "text": [
      "\t eval rmse: 2.4780\n",
      "\t eval mae: 2.1443\n",
      "\t eval r2: -3.9169\n",
      "==============================\n",
      "Epoch 2 elapsed: 0.036s\n"
     ]
    },
    {
     "name": "stderr",
     "output_type": "stream",
     "text": [
      "eval_pred: 100%|███████████████████████████████| 15/15 [00:00<00:00, 939.61it/s]"
     ]
    },
    {
     "name": "stdout",
     "output_type": "stream",
     "text": [
      "\t eval rmse: 1.0015\n",
      "\t eval mae: 0.8025\n",
      "\t eval r2: 0.1968\n",
      "==============================\n"
     ]
    },
    {
     "name": "stderr",
     "output_type": "stream",
     "text": [
      "\n"
     ]
    },
    {
     "name": "stdout",
     "output_type": "stream",
     "text": [
      "Epoch 3 elapsed: 0.025s\n"
     ]
    },
    {
     "name": "stderr",
     "output_type": "stream",
     "text": [
      "eval_pred: 100%|███████████████████████████████| 15/15 [00:00<00:00, 849.98it/s]\n"
     ]
    },
    {
     "name": "stdout",
     "output_type": "stream",
     "text": [
      "\t eval rmse: 0.9985\n",
      "\t eval mae: 0.7997\n",
      "\t eval r2: 0.2016\n",
      "==============================\n",
      "Epoch 4 elapsed: 0.026s\n"
     ]
    },
    {
     "name": "stderr",
     "output_type": "stream",
     "text": [
      "eval_pred: 100%|██████████████████████████████| 15/15 [00:00<00:00, 1026.81it/s]\n"
     ]
    },
    {
     "name": "stdout",
     "output_type": "stream",
     "text": [
      "\t eval rmse: 0.9968\n",
      "\t eval mae: 0.7977\n",
      "\t eval r2: 0.2044\n",
      "==============================\n",
      "Epoch 5 elapsed: 0.031s\n"
     ]
    },
    {
     "name": "stderr",
     "output_type": "stream",
     "text": [
      "eval_pred: 100%|██████████████████████████████| 15/15 [00:00<00:00, 1072.75it/s]"
     ]
    },
    {
     "name": "stdout",
     "output_type": "stream",
     "text": [
      "\t eval rmse: 0.9960\n"
     ]
    },
    {
     "name": "stderr",
     "output_type": "stream",
     "text": [
      "\n"
     ]
    },
    {
     "name": "stdout",
     "output_type": "stream",
     "text": [
      "\t eval mae: 0.7967\n",
      "\t eval r2: 0.2056\n",
      "==============================\n",
      "Training start time: \u001b[35m2022-07-28 17:10:45\u001b[0m\n",
      "Epoch 1 elapsed: 0.026s\n"
     ]
    },
    {
     "name": "stderr",
     "output_type": "stream",
     "text": [
      "eval_pred: 100%|██████████████████████████████| 15/15 [00:00<00:00, 1039.98it/s]"
     ]
    },
    {
     "name": "stdout",
     "output_type": "stream",
     "text": [
      "\t eval rmse: 2.4850\n",
      "\t eval mae: 2.1526\n"
     ]
    },
    {
     "name": "stderr",
     "output_type": "stream",
     "text": [
      "\n"
     ]
    },
    {
     "name": "stdout",
     "output_type": "stream",
     "text": [
      "\t eval r2: -3.9446\n",
      "==============================\n",
      "Epoch 2 elapsed: 0.086s\n"
     ]
    },
    {
     "name": "stderr",
     "output_type": "stream",
     "text": [
      "eval_pred: 100%|███████████████████████████████| 15/15 [00:00<00:00, 932.12it/s]"
     ]
    },
    {
     "name": "stdout",
     "output_type": "stream",
     "text": [
      "\t eval rmse: 1.0014\n",
      "\t eval mae: 0.8027\n",
      "\t eval r2: 0.1970\n",
      "==============================\n"
     ]
    },
    {
     "name": "stderr",
     "output_type": "stream",
     "text": [
      "\n"
     ]
    },
    {
     "name": "stdout",
     "output_type": "stream",
     "text": [
      "Epoch 3 elapsed: 0.028s\n"
     ]
    },
    {
     "name": "stderr",
     "output_type": "stream",
     "text": [
      "eval_pred: 100%|███████████████████████████████| 15/15 [00:00<00:00, 916.19it/s]"
     ]
    },
    {
     "name": "stdout",
     "output_type": "stream",
     "text": [
      "\t eval rmse: 0.9983\n"
     ]
    },
    {
     "name": "stderr",
     "output_type": "stream",
     "text": [
      "\n"
     ]
    },
    {
     "name": "stdout",
     "output_type": "stream",
     "text": [
      "\t eval mae: 0.8000\n",
      "\t eval r2: 0.2019\n",
      "==============================\n",
      "Epoch 4 elapsed: 0.025s\n"
     ]
    },
    {
     "name": "stderr",
     "output_type": "stream",
     "text": [
      "eval_pred: 100%|██████████████████████████████| 15/15 [00:00<00:00, 1049.59it/s]\n"
     ]
    },
    {
     "name": "stdout",
     "output_type": "stream",
     "text": [
      "\t eval rmse: 0.9965\n",
      "\t eval mae: 0.7980\n",
      "\t eval r2: 0.2048\n",
      "==============================\n",
      "Epoch 5 elapsed: 0.040s\n"
     ]
    },
    {
     "name": "stderr",
     "output_type": "stream",
     "text": [
      "eval_pred: 100%|██████████████████████████████| 15/15 [00:00<00:00, 1006.09it/s]\n"
     ]
    },
    {
     "name": "stdout",
     "output_type": "stream",
     "text": [
      "\t eval rmse: 0.9958\n",
      "\t eval mae: 0.7971\n",
      "\t eval r2: 0.2060\n",
      "==============================\n",
      "Training start time: \u001b[35m2022-07-28 17:10:46\u001b[0m\n",
      "Epoch 1 elapsed: 0.033s\n"
     ]
    },
    {
     "name": "stderr",
     "output_type": "stream",
     "text": [
      "eval_pred: 100%|██████████████████████████████| 15/15 [00:00<00:00, 1047.51it/s]\n"
     ]
    },
    {
     "name": "stdout",
     "output_type": "stream",
     "text": [
      "\t eval rmse: 2.4910\n",
      "\t eval mae: 2.1601\n",
      "\t eval r2: -3.9686\n",
      "==============================\n",
      "Epoch 2 elapsed: 0.079s\n"
     ]
    },
    {
     "name": "stderr",
     "output_type": "stream",
     "text": [
      "eval_pred: 100%|██████████████████████████████| 15/15 [00:00<00:00, 1039.91it/s]\n"
     ]
    },
    {
     "name": "stdout",
     "output_type": "stream",
     "text": [
      "\t eval rmse: 1.0014\n",
      "\t eval mae: 0.8036\n",
      "\t eval r2: 0.1970\n",
      "==============================\n",
      "Epoch 3 elapsed: 0.039s\n"
     ]
    },
    {
     "name": "stderr",
     "output_type": "stream",
     "text": [
      "eval_pred: 100%|███████████████████████████████| 15/15 [00:00<00:00, 708.98it/s]\n"
     ]
    },
    {
     "name": "stdout",
     "output_type": "stream",
     "text": [
      "\t eval rmse: 0.9983\n",
      "\t eval mae: 0.8010\n",
      "\t eval r2: 0.2020\n",
      "==============================\n",
      "Epoch 4 elapsed: 0.078s\n"
     ]
    },
    {
     "name": "stderr",
     "output_type": "stream",
     "text": [
      "eval_pred: 100%|███████████████████████████████| 15/15 [00:00<00:00, 715.75it/s]\n"
     ]
    },
    {
     "name": "stdout",
     "output_type": "stream",
     "text": [
      "\t eval rmse: 0.9965\n",
      "\t eval mae: 0.7990\n",
      "\t eval r2: 0.2049\n",
      "==============================\n",
      "Epoch 5 elapsed: 0.037s\n"
     ]
    },
    {
     "name": "stderr",
     "output_type": "stream",
     "text": [
      "eval_pred: 100%|███████████████████████████████| 15/15 [00:00<00:00, 737.49it/s]\n"
     ]
    },
    {
     "name": "stdout",
     "output_type": "stream",
     "text": [
      "\t eval rmse: 0.9957\n",
      "\t eval mae: 0.7981\n",
      "\t eval r2: 0.2061\n",
      "==============================\n",
      "Training start time: \u001b[35m2022-07-28 17:10:47\u001b[0m\n",
      "Epoch 1 elapsed: 0.050s\n"
     ]
    },
    {
     "name": "stderr",
     "output_type": "stream",
     "text": [
      "eval_pred: 100%|███████████████████████████████| 15/15 [00:00<00:00, 997.96it/s]"
     ]
    },
    {
     "name": "stdout",
     "output_type": "stream",
     "text": [
      "\t eval rmse: 2.9208\n"
     ]
    },
    {
     "name": "stderr",
     "output_type": "stream",
     "text": [
      "\n"
     ]
    },
    {
     "name": "stdout",
     "output_type": "stream",
     "text": [
      "\t eval mae: 2.6780\n",
      "\t eval r2: -5.8314\n",
      "==============================\n",
      "Epoch 2 elapsed: 0.032s\n"
     ]
    },
    {
     "name": "stderr",
     "output_type": "stream",
     "text": [
      "eval_pred: 100%|███████████████████████████████| 15/15 [00:00<00:00, 704.30it/s]"
     ]
    },
    {
     "name": "stdout",
     "output_type": "stream",
     "text": [
      "\t eval rmse: 1.0214\n",
      "\t eval mae: 0.8249\n",
      "\t eval r2: 0.1646\n",
      "==============================\n"
     ]
    },
    {
     "name": "stderr",
     "output_type": "stream",
     "text": [
      "\n"
     ]
    },
    {
     "name": "stdout",
     "output_type": "stream",
     "text": [
      "Epoch 3 elapsed: 0.087s\n"
     ]
    },
    {
     "name": "stderr",
     "output_type": "stream",
     "text": [
      "eval_pred: 100%|███████████████████████████████| 15/15 [00:00<00:00, 893.09it/s]\n"
     ]
    },
    {
     "name": "stdout",
     "output_type": "stream",
     "text": [
      "\t eval rmse: 1.0060\n",
      "\t eval mae: 0.8049\n",
      "\t eval r2: 0.1895\n",
      "==============================\n",
      "Epoch 4 elapsed: 0.041s\n"
     ]
    },
    {
     "name": "stderr",
     "output_type": "stream",
     "text": [
      "eval_pred: 100%|███████████████████████████████| 15/15 [00:00<00:00, 902.88it/s]\n"
     ]
    },
    {
     "name": "stdout",
     "output_type": "stream",
     "text": [
      "\t eval rmse: 1.0019\n",
      "\t eval mae: 0.7994\n",
      "\t eval r2: 0.1963\n",
      "==============================\n",
      "Epoch 5 elapsed: 0.032s\n"
     ]
    },
    {
     "name": "stderr",
     "output_type": "stream",
     "text": [
      "eval_pred: 100%|███████████████████████████████| 15/15 [00:00<00:00, 962.50it/s]\n"
     ]
    },
    {
     "name": "stdout",
     "output_type": "stream",
     "text": [
      "\t eval rmse: 0.9979\n",
      "\t eval mae: 0.7953\n",
      "\t eval r2: 0.2027\n",
      "==============================\n",
      "Training start time: \u001b[35m2022-07-28 17:10:47\u001b[0m\n",
      "Epoch 1 elapsed: 0.032s\n"
     ]
    },
    {
     "name": "stderr",
     "output_type": "stream",
     "text": [
      "eval_pred: 100%|██████████████████████████████| 15/15 [00:00<00:00, 1038.49it/s]\n"
     ]
    },
    {
     "name": "stdout",
     "output_type": "stream",
     "text": [
      "\t eval rmse: 2.8813\n",
      "\t eval mae: 2.6325\n",
      "\t eval r2: -5.6477\n",
      "==============================\n",
      "Epoch 2 elapsed: 0.042s\n"
     ]
    },
    {
     "name": "stderr",
     "output_type": "stream",
     "text": [
      "eval_pred: 100%|███████████████████████████████| 15/15 [00:00<00:00, 989.22it/s]"
     ]
    },
    {
     "name": "stdout",
     "output_type": "stream",
     "text": [
      "\t eval rmse: 1.0138\n",
      "\t eval mae: 0.8173\n",
      "\t eval r2: 0.1771\n",
      "==============================\n"
     ]
    },
    {
     "name": "stderr",
     "output_type": "stream",
     "text": [
      "\n"
     ]
    },
    {
     "name": "stdout",
     "output_type": "stream",
     "text": [
      "Epoch 3 elapsed: 0.034s\n"
     ]
    },
    {
     "name": "stderr",
     "output_type": "stream",
     "text": [
      "eval_pred: 100%|██████████████████████████████| 15/15 [00:00<00:00, 1001.76it/s]\n"
     ]
    },
    {
     "name": "stdout",
     "output_type": "stream",
     "text": [
      "\t eval rmse: 1.0055\n",
      "\t eval mae: 0.8037\n",
      "\t eval r2: 0.1905\n",
      "==============================\n",
      "Epoch 4 elapsed: 0.042s\n"
     ]
    },
    {
     "name": "stderr",
     "output_type": "stream",
     "text": [
      "eval_pred: 100%|███████████████████████████████| 15/15 [00:00<00:00, 860.84it/s]\n"
     ]
    },
    {
     "name": "stdout",
     "output_type": "stream",
     "text": [
      "\t eval rmse: 1.0009\n",
      "\t eval mae: 0.7981\n",
      "\t eval r2: 0.1978\n",
      "==============================\n",
      "Epoch 5 elapsed: 0.041s\n"
     ]
    },
    {
     "name": "stderr",
     "output_type": "stream",
     "text": [
      "eval_pred: 100%|███████████████████████████████| 15/15 [00:00<00:00, 952.60it/s]\n"
     ]
    },
    {
     "name": "stdout",
     "output_type": "stream",
     "text": [
      "\t eval rmse: 0.9966\n",
      "\t eval mae: 0.7937\n",
      "\t eval r2: 0.2047\n",
      "==============================\n",
      "Training start time: \u001b[35m2022-07-28 17:10:48\u001b[0m\n",
      "Epoch 1 elapsed: 0.030s\n"
     ]
    },
    {
     "name": "stderr",
     "output_type": "stream",
     "text": [
      "eval_pred: 100%|███████████████████████████████| 15/15 [00:00<00:00, 976.99it/s]\n"
     ]
    },
    {
     "name": "stdout",
     "output_type": "stream",
     "text": [
      "\t eval rmse: 2.8627\n",
      "\t eval mae: 2.6111\n",
      "\t eval r2: -5.5621\n",
      "==============================\n",
      "Epoch 2 elapsed: 0.046s\n"
     ]
    },
    {
     "name": "stderr",
     "output_type": "stream",
     "text": [
      "eval_pred: 100%|██████████████████████████████| 15/15 [00:00<00:00, 1049.05it/s]"
     ]
    },
    {
     "name": "stdout",
     "output_type": "stream",
     "text": [
      "\t eval rmse: 1.0116\n",
      "\t eval mae: 0.8149\n",
      "\t eval r2: 0.1805\n",
      "==============================\n"
     ]
    },
    {
     "name": "stderr",
     "output_type": "stream",
     "text": [
      "\n"
     ]
    },
    {
     "name": "stdout",
     "output_type": "stream",
     "text": [
      "Epoch 3 elapsed: 0.047s\n"
     ]
    },
    {
     "name": "stderr",
     "output_type": "stream",
     "text": [
      "eval_pred: 100%|███████████████████████████████| 15/15 [00:00<00:00, 963.03it/s]\n"
     ]
    },
    {
     "name": "stdout",
     "output_type": "stream",
     "text": [
      "\t eval rmse: 1.0055\n",
      "\t eval mae: 0.8036\n",
      "\t eval r2: 0.1905\n",
      "==============================\n",
      "Epoch 4 elapsed: 0.074s\n"
     ]
    },
    {
     "name": "stderr",
     "output_type": "stream",
     "text": [
      "eval_pred: 100%|██████████████████████████████| 15/15 [00:00<00:00, 1076.01it/s]"
     ]
    },
    {
     "name": "stdout",
     "output_type": "stream",
     "text": [
      "\t eval rmse: 1.0007\n",
      "\t eval mae: 0.7979\n",
      "\t eval r2: 0.1981\n",
      "==============================\n"
     ]
    },
    {
     "name": "stderr",
     "output_type": "stream",
     "text": [
      "\n"
     ]
    },
    {
     "name": "stdout",
     "output_type": "stream",
     "text": [
      "Epoch 5 elapsed: 0.049s\n"
     ]
    },
    {
     "name": "stderr",
     "output_type": "stream",
     "text": [
      "eval_pred: 100%|███████████████████████████████| 15/15 [00:00<00:00, 790.74it/s]"
     ]
    },
    {
     "name": "stdout",
     "output_type": "stream",
     "text": [
      "\t eval rmse: 0.9963\n",
      "\t eval mae: 0.7935\n",
      "\t eval r2: 0.2051\n",
      "==============================\n"
     ]
    },
    {
     "name": "stderr",
     "output_type": "stream",
     "text": [
      "\n"
     ]
    },
    {
     "name": "stdout",
     "output_type": "stream",
     "text": [
      "Training start time: \u001b[35m2022-07-28 17:10:49\u001b[0m\n",
      "Epoch 1 elapsed: 0.029s\n"
     ]
    },
    {
     "name": "stderr",
     "output_type": "stream",
     "text": [
      "eval_pred: 100%|██████████████████████████████| 15/15 [00:00<00:00, 1146.07it/s]\n"
     ]
    },
    {
     "name": "stdout",
     "output_type": "stream",
     "text": [
      "\t eval rmse: 2.8431\n",
      "\t eval mae: 2.5879\n",
      "\t eval r2: -5.4724\n",
      "==============================\n",
      "Epoch 2 elapsed: 0.038s\n"
     ]
    },
    {
     "name": "stderr",
     "output_type": "stream",
     "text": [
      "eval_pred: 100%|██████████████████████████████| 15/15 [00:00<00:00, 1116.18it/s]"
     ]
    },
    {
     "name": "stdout",
     "output_type": "stream",
     "text": [
      "\t eval rmse: 1.0099\n",
      "\t eval mae: 0.8128\n",
      "\t eval r2: 0.1834\n",
      "==============================\n"
     ]
    },
    {
     "name": "stderr",
     "output_type": "stream",
     "text": [
      "\n"
     ]
    },
    {
     "name": "stdout",
     "output_type": "stream",
     "text": [
      "Epoch 3 elapsed: 0.044s\n"
     ]
    },
    {
     "name": "stderr",
     "output_type": "stream",
     "text": [
      "eval_pred: 100%|██████████████████████████████| 15/15 [00:00<00:00, 1073.26it/s]\n"
     ]
    },
    {
     "name": "stdout",
     "output_type": "stream",
     "text": [
      "\t eval rmse: 1.0055\n",
      "\t eval mae: 0.8039\n",
      "\t eval r2: 0.1904\n",
      "==============================\n",
      "Epoch 4 elapsed: 0.033s\n"
     ]
    },
    {
     "name": "stderr",
     "output_type": "stream",
     "text": [
      "eval_pred: 100%|███████████████████████████████| 15/15 [00:00<00:00, 957.69it/s]\n"
     ]
    },
    {
     "name": "stdout",
     "output_type": "stream",
     "text": [
      "\t eval rmse: 1.0005\n",
      "\t eval mae: 0.7981\n",
      "\t eval r2: 0.1984\n",
      "==============================\n",
      "Epoch 5 elapsed: 0.034s\n"
     ]
    },
    {
     "name": "stderr",
     "output_type": "stream",
     "text": [
      "eval_pred: 100%|███████████████████████████████| 15/15 [00:00<00:00, 973.71it/s]\n"
     ]
    },
    {
     "name": "stdout",
     "output_type": "stream",
     "text": [
      "\t eval rmse: 0.9961\n",
      "\t eval mae: 0.7935\n",
      "\t eval r2: 0.2055\n",
      "==============================\n",
      "Training start time: \u001b[35m2022-07-28 17:10:49\u001b[0m\n",
      "Epoch 1 elapsed: 0.084s\n"
     ]
    },
    {
     "name": "stderr",
     "output_type": "stream",
     "text": [
      "eval_pred: 100%|███████████████████████████████| 15/15 [00:00<00:00, 816.54it/s]\n"
     ]
    },
    {
     "name": "stdout",
     "output_type": "stream",
     "text": [
      "\t eval rmse: 2.8388\n",
      "\t eval mae: 2.5827\n",
      "\t eval r2: -5.4529\n",
      "==============================\n",
      "Epoch 2 elapsed: 0.042s\n"
     ]
    },
    {
     "name": "stderr",
     "output_type": "stream",
     "text": [
      "eval_pred: 100%|██████████████████████████████| 15/15 [00:00<00:00, 1016.28it/s]"
     ]
    },
    {
     "name": "stdout",
     "output_type": "stream",
     "text": [
      "\t eval rmse: 1.0095\n",
      "\t eval mae: 0.8124\n",
      "\t eval r2: 0.1839\n",
      "==============================\n"
     ]
    },
    {
     "name": "stderr",
     "output_type": "stream",
     "text": [
      "\n"
     ]
    },
    {
     "name": "stdout",
     "output_type": "stream",
     "text": [
      "Epoch 3 elapsed: 0.074s\n"
     ]
    },
    {
     "name": "stderr",
     "output_type": "stream",
     "text": [
      "eval_pred: 100%|██████████████████████████████| 15/15 [00:00<00:00, 1046.81it/s]\n"
     ]
    },
    {
     "name": "stdout",
     "output_type": "stream",
     "text": [
      "\t eval rmse: 1.0056\n",
      "\t eval mae: 0.8041\n",
      "\t eval r2: 0.1903\n",
      "==============================\n",
      "Epoch 4 elapsed: 0.032s\n"
     ]
    },
    {
     "name": "stderr",
     "output_type": "stream",
     "text": [
      "eval_pred: 100%|██████████████████████████████| 15/15 [00:00<00:00, 1041.61it/s]\n"
     ]
    },
    {
     "name": "stdout",
     "output_type": "stream",
     "text": [
      "\t eval rmse: 1.0006\n",
      "\t eval mae: 0.7983\n",
      "\t eval r2: 0.1984\n",
      "==============================\n",
      "Epoch 5 elapsed: 0.030s\n"
     ]
    },
    {
     "name": "stderr",
     "output_type": "stream",
     "text": [
      "eval_pred: 100%|██████████████████████████████| 15/15 [00:00<00:00, 1072.47it/s]"
     ]
    },
    {
     "name": "stdout",
     "output_type": "stream",
     "text": [
      "\t eval rmse: 0.9961\n"
     ]
    },
    {
     "name": "stderr",
     "output_type": "stream",
     "text": [
      "\n"
     ]
    },
    {
     "name": "stdout",
     "output_type": "stream",
     "text": [
      "\t eval mae: 0.7937\n",
      "\t eval r2: 0.2056\n",
      "==============================\n",
      "Training start time: \u001b[35m2022-07-28 17:10:50\u001b[0m\n",
      "Epoch 1 elapsed: 0.066s\n"
     ]
    },
    {
     "name": "stderr",
     "output_type": "stream",
     "text": [
      "eval_pred: 100%|██████████████████████████████| 15/15 [00:00<00:00, 1036.59it/s]\n"
     ]
    },
    {
     "name": "stdout",
     "output_type": "stream",
     "text": [
      "\t eval rmse: 2.8362\n",
      "\t eval mae: 2.5794\n",
      "\t eval r2: -5.4411\n",
      "==============================\n",
      "Epoch 2 elapsed: 0.030s\n"
     ]
    },
    {
     "name": "stderr",
     "output_type": "stream",
     "text": [
      "eval_pred: 100%|███████████████████████████████| 15/15 [00:00<00:00, 822.56it/s]"
     ]
    },
    {
     "name": "stdout",
     "output_type": "stream",
     "text": [
      "\t eval rmse: 1.0093\n",
      "\t eval mae: 0.8120\n"
     ]
    },
    {
     "name": "stderr",
     "output_type": "stream",
     "text": [
      "\n"
     ]
    },
    {
     "name": "stdout",
     "output_type": "stream",
     "text": [
      "\t eval r2: 0.1844\n",
      "==============================\n",
      "Epoch 3 elapsed: 0.034s\n"
     ]
    },
    {
     "name": "stderr",
     "output_type": "stream",
     "text": [
      "eval_pred: 100%|██████████████████████████████| 15/15 [00:00<00:00, 1028.35it/s]\n"
     ]
    },
    {
     "name": "stdout",
     "output_type": "stream",
     "text": [
      "\t eval rmse: 1.0056\n",
      "\t eval mae: 0.8044\n",
      "\t eval r2: 0.1903\n",
      "==============================\n",
      "Epoch 4 elapsed: 0.056s\n"
     ]
    },
    {
     "name": "stderr",
     "output_type": "stream",
     "text": [
      "eval_pred: 100%|██████████████████████████████| 15/15 [00:00<00:00, 1055.65it/s]\n"
     ]
    },
    {
     "name": "stdout",
     "output_type": "stream",
     "text": [
      "\t eval rmse: 1.0005\n",
      "\t eval mae: 0.7985\n",
      "\t eval r2: 0.1985\n",
      "==============================\n",
      "Epoch 5 elapsed: 0.074s\n"
     ]
    },
    {
     "name": "stderr",
     "output_type": "stream",
     "text": [
      "eval_pred: 100%|██████████████████████████████| 15/15 [00:00<00:00, 1022.04it/s]"
     ]
    },
    {
     "name": "stdout",
     "output_type": "stream",
     "text": [
      "\t eval rmse: 0.9959\n",
      "\t eval mae: 0.7938\n",
      "\t eval r2: 0.2058\n",
      "==============================\n"
     ]
    },
    {
     "name": "stderr",
     "output_type": "stream",
     "text": [
      "\n"
     ]
    },
    {
     "name": "stdout",
     "output_type": "stream",
     "text": [
      "Training start time: \u001b[35m2022-07-28 17:10:50\u001b[0m\n",
      "Epoch 1 elapsed: 0.029s\n"
     ]
    },
    {
     "name": "stderr",
     "output_type": "stream",
     "text": [
      "eval_pred: 100%|███████████████████████████████| 15/15 [00:00<00:00, 893.29it/s]\n"
     ]
    },
    {
     "name": "stdout",
     "output_type": "stream",
     "text": [
      "\t eval rmse: 2.8366\n",
      "\t eval mae: 2.5800\n",
      "\t eval r2: -5.4432\n",
      "==============================\n",
      "Epoch 2 elapsed: 0.031s\n"
     ]
    },
    {
     "name": "stderr",
     "output_type": "stream",
     "text": [
      "eval_pred: 100%|██████████████████████████████| 15/15 [00:00<00:00, 1020.43it/s]"
     ]
    },
    {
     "name": "stdout",
     "output_type": "stream",
     "text": [
      "\t eval rmse: 1.0084\n",
      "\t eval mae: 0.8114\n",
      "\t eval r2: 0.1857\n",
      "==============================\n"
     ]
    },
    {
     "name": "stderr",
     "output_type": "stream",
     "text": [
      "\n"
     ]
    },
    {
     "name": "stdout",
     "output_type": "stream",
     "text": [
      "Epoch 3 elapsed: 0.033s\n"
     ]
    },
    {
     "name": "stderr",
     "output_type": "stream",
     "text": [
      "eval_pred: 100%|███████████████████████████████| 15/15 [00:00<00:00, 856.20it/s]\n"
     ]
    },
    {
     "name": "stdout",
     "output_type": "stream",
     "text": [
      "\t eval rmse: 1.0050\n",
      "\t eval mae: 0.8044\n",
      "\t eval r2: 0.1912\n",
      "==============================\n",
      "Epoch 4 elapsed: 0.078s\n"
     ]
    },
    {
     "name": "stderr",
     "output_type": "stream",
     "text": [
      "eval_pred: 100%|██████████████████████████████| 15/15 [00:00<00:00, 1009.43it/s]"
     ]
    },
    {
     "name": "stdout",
     "output_type": "stream",
     "text": [
      "\t eval rmse: 0.9999\n",
      "\t eval mae: 0.7985\n",
      "\t eval r2: 0.1995\n",
      "==============================\n"
     ]
    },
    {
     "name": "stderr",
     "output_type": "stream",
     "text": [
      "\n"
     ]
    },
    {
     "name": "stdout",
     "output_type": "stream",
     "text": [
      "Epoch 5 elapsed: 0.100s\n"
     ]
    },
    {
     "name": "stderr",
     "output_type": "stream",
     "text": [
      "eval_pred: 100%|██████████████████████████████| 15/15 [00:00<00:00, 1064.49it/s]"
     ]
    },
    {
     "name": "stdout",
     "output_type": "stream",
     "text": [
      "\t eval rmse: 0.9952\n",
      "\t eval mae: 0.7937\n"
     ]
    },
    {
     "name": "stderr",
     "output_type": "stream",
     "text": [
      "\n"
     ]
    },
    {
     "name": "stdout",
     "output_type": "stream",
     "text": [
      "\t eval r2: 0.2068\n",
      "==============================\n",
      "Training start time: \u001b[35m2022-07-28 17:10:51\u001b[0m\n",
      "Epoch 1 elapsed: 0.031s\n"
     ]
    },
    {
     "name": "stderr",
     "output_type": "stream",
     "text": [
      "eval_pred: 100%|███████████████████████████████| 15/15 [00:00<00:00, 904.85it/s]\n"
     ]
    },
    {
     "name": "stdout",
     "output_type": "stream",
     "text": [
      "\t eval rmse: 2.8402\n",
      "\t eval mae: 2.5848\n",
      "\t eval r2: -5.4594\n",
      "==============================\n",
      "Epoch 2 elapsed: 0.052s\n"
     ]
    },
    {
     "name": "stderr",
     "output_type": "stream",
     "text": [
      "eval_pred: 100%|███████████████████████████████| 15/15 [00:00<00:00, 500.88it/s]"
     ]
    },
    {
     "name": "stdout",
     "output_type": "stream",
     "text": [
      "\t eval rmse: 1.0071\n"
     ]
    },
    {
     "name": "stderr",
     "output_type": "stream",
     "text": [
      "\n"
     ]
    },
    {
     "name": "stdout",
     "output_type": "stream",
     "text": [
      "\t eval mae: 0.8107\n",
      "\t eval r2: 0.1878\n",
      "==============================\n",
      "Epoch 3 elapsed: 0.049s\n"
     ]
    },
    {
     "name": "stderr",
     "output_type": "stream",
     "text": [
      "eval_pred: 100%|███████████████████████████████| 15/15 [00:00<00:00, 917.23it/s]"
     ]
    },
    {
     "name": "stdout",
     "output_type": "stream",
     "text": [
      "\t eval rmse: 1.0043\n",
      "\t eval mae: 0.8045\n",
      "\t eval r2: 0.1924\n",
      "==============================\n"
     ]
    },
    {
     "name": "stderr",
     "output_type": "stream",
     "text": [
      "\n"
     ]
    },
    {
     "name": "stdout",
     "output_type": "stream",
     "text": [
      "Epoch 4 elapsed: 0.057s\n"
     ]
    },
    {
     "name": "stderr",
     "output_type": "stream",
     "text": [
      "eval_pred: 100%|███████████████████████████████| 15/15 [00:00<00:00, 825.73it/s]"
     ]
    },
    {
     "name": "stdout",
     "output_type": "stream",
     "text": [
      "\t eval rmse: 0.9991\n",
      "\t eval mae: 0.7986\n",
      "\t eval r2: 0.2006\n",
      "==============================\n"
     ]
    },
    {
     "name": "stderr",
     "output_type": "stream",
     "text": [
      "\n"
     ]
    },
    {
     "name": "stdout",
     "output_type": "stream",
     "text": [
      "Epoch 5 elapsed: 0.062s\n"
     ]
    },
    {
     "name": "stderr",
     "output_type": "stream",
     "text": [
      "eval_pred: 100%|███████████████████████████████| 15/15 [00:00<00:00, 894.45it/s]"
     ]
    },
    {
     "name": "stdout",
     "output_type": "stream",
     "text": [
      "\t eval rmse: 0.9946\n",
      "\t eval mae: 0.7938\n",
      "\t eval r2: 0.2079\n",
      "==============================\n"
     ]
    },
    {
     "name": "stderr",
     "output_type": "stream",
     "text": [
      "\n"
     ]
    },
    {
     "name": "stdout",
     "output_type": "stream",
     "text": [
      "Training start time: \u001b[35m2022-07-28 17:10:52\u001b[0m\n",
      "Epoch 1 elapsed: 0.053s\n"
     ]
    },
    {
     "name": "stderr",
     "output_type": "stream",
     "text": [
      "eval_pred: 100%|███████████████████████████████| 15/15 [00:00<00:00, 894.18it/s]\n"
     ]
    },
    {
     "name": "stdout",
     "output_type": "stream",
     "text": [
      "\t eval rmse: 2.7046\n",
      "\t eval mae: 2.4155\n",
      "\t eval r2: -4.8572\n",
      "==============================\n",
      "Epoch 2 elapsed: 0.069s\n"
     ]
    },
    {
     "name": "stderr",
     "output_type": "stream",
     "text": [
      "eval_pred: 100%|███████████████████████████████| 15/15 [00:00<00:00, 807.87it/s]"
     ]
    },
    {
     "name": "stdout",
     "output_type": "stream",
     "text": [
      "\t eval rmse: 1.0137\n",
      "\t eval mae: 0.8163\n",
      "\t eval r2: 0.1772\n",
      "==============================\n"
     ]
    },
    {
     "name": "stderr",
     "output_type": "stream",
     "text": [
      "\n"
     ]
    },
    {
     "name": "stdout",
     "output_type": "stream",
     "text": [
      "Epoch 3 elapsed: 0.049s\n"
     ]
    },
    {
     "name": "stderr",
     "output_type": "stream",
     "text": [
      "eval_pred: 100%|███████████████████████████████| 15/15 [00:00<00:00, 958.33it/s]\n"
     ]
    },
    {
     "name": "stdout",
     "output_type": "stream",
     "text": [
      "\t eval rmse: 1.0000\n",
      "\t eval mae: 0.7975\n",
      "\t eval r2: 0.1992\n",
      "==============================\n",
      "Epoch 4 elapsed: 0.040s\n"
     ]
    },
    {
     "name": "stderr",
     "output_type": "stream",
     "text": [
      "eval_pred: 100%|███████████████████████████████| 15/15 [00:00<00:00, 767.83it/s]\n"
     ]
    },
    {
     "name": "stdout",
     "output_type": "stream",
     "text": [
      "\t eval rmse: 0.9964\n",
      "\t eval mae: 0.7924\n",
      "\t eval r2: 0.2050\n",
      "==============================\n",
      "Epoch 5 elapsed: 0.055s\n"
     ]
    },
    {
     "name": "stderr",
     "output_type": "stream",
     "text": [
      "eval_pred: 100%|███████████████████████████████| 15/15 [00:00<00:00, 986.43it/s]\n"
     ]
    },
    {
     "name": "stdout",
     "output_type": "stream",
     "text": [
      "\t eval rmse: 0.9951\n",
      "\t eval mae: 0.7904\n",
      "\t eval r2: 0.2070\n",
      "==============================\n",
      "Training start time: \u001b[35m2022-07-28 17:10:52\u001b[0m\n",
      "Epoch 1 elapsed: 0.037s\n"
     ]
    },
    {
     "name": "stderr",
     "output_type": "stream",
     "text": [
      "eval_pred: 100%|███████████████████████████████| 15/15 [00:00<00:00, 989.64it/s]\n"
     ]
    },
    {
     "name": "stdout",
     "output_type": "stream",
     "text": [
      "\t eval rmse: 2.6473\n",
      "\t eval mae: 2.3479\n",
      "\t eval r2: -4.6117\n",
      "==============================\n",
      "Epoch 2 elapsed: 0.051s\n"
     ]
    },
    {
     "name": "stderr",
     "output_type": "stream",
     "text": [
      "eval_pred: 100%|███████████████████████████████| 15/15 [00:00<00:00, 850.32it/s]"
     ]
    },
    {
     "name": "stdout",
     "output_type": "stream",
     "text": [
      "\t eval rmse: 1.0073\n",
      "\t eval mae: 0.8091\n"
     ]
    },
    {
     "name": "stderr",
     "output_type": "stream",
     "text": [
      "\n"
     ]
    },
    {
     "name": "stdout",
     "output_type": "stream",
     "text": [
      "\t eval r2: 0.1876\n",
      "==============================\n",
      "Epoch 3 elapsed: 0.042s\n"
     ]
    },
    {
     "name": "stderr",
     "output_type": "stream",
     "text": [
      "eval_pred: 100%|██████████████████████████████| 15/15 [00:00<00:00, 1073.66it/s]"
     ]
    },
    {
     "name": "stdout",
     "output_type": "stream",
     "text": [
      "\t eval rmse: 0.9982\n",
      "\t eval mae: 0.7952\n"
     ]
    },
    {
     "name": "stderr",
     "output_type": "stream",
     "text": [
      "\n"
     ]
    },
    {
     "name": "stdout",
     "output_type": "stream",
     "text": [
      "\t eval r2: 0.2022\n",
      "==============================\n",
      "Epoch 4 elapsed: 0.041s\n"
     ]
    },
    {
     "name": "stderr",
     "output_type": "stream",
     "text": [
      "eval_pred: 100%|██████████████████████████████| 15/15 [00:00<00:00, 1035.99it/s]\n"
     ]
    },
    {
     "name": "stdout",
     "output_type": "stream",
     "text": [
      "\t eval rmse: 0.9955\n",
      "\t eval mae: 0.7912\n",
      "\t eval r2: 0.2065\n",
      "==============================\n",
      "Epoch 5 elapsed: 0.046s\n"
     ]
    },
    {
     "name": "stderr",
     "output_type": "stream",
     "text": [
      "eval_pred: 100%|███████████████████████████████| 15/15 [00:00<00:00, 986.60it/s]"
     ]
    },
    {
     "name": "stdout",
     "output_type": "stream",
     "text": [
      "\t eval rmse: 0.9946\n",
      "\t eval mae: 0.7898\n"
     ]
    },
    {
     "name": "stderr",
     "output_type": "stream",
     "text": [
      "\n"
     ]
    },
    {
     "name": "stdout",
     "output_type": "stream",
     "text": [
      "\t eval r2: 0.2078\n",
      "==============================\n",
      "Training start time: \u001b[35m2022-07-28 17:10:53\u001b[0m\n",
      "Epoch 1 elapsed: 0.036s\n"
     ]
    },
    {
     "name": "stderr",
     "output_type": "stream",
     "text": [
      "eval_pred: 100%|██████████████████████████████| 15/15 [00:00<00:00, 1007.65it/s]\n"
     ]
    },
    {
     "name": "stdout",
     "output_type": "stream",
     "text": [
      "\t eval rmse: 2.6315\n",
      "\t eval mae: 2.3287\n",
      "\t eval r2: -4.5449\n",
      "==============================\n",
      "Epoch 2 elapsed: 0.047s\n"
     ]
    },
    {
     "name": "stderr",
     "output_type": "stream",
     "text": [
      "eval_pred: 100%|███████████████████████████████| 15/15 [00:00<00:00, 750.41it/s]"
     ]
    },
    {
     "name": "stdout",
     "output_type": "stream",
     "text": [
      "\t eval rmse: 1.0054\n",
      "\t eval mae: 0.8066\n"
     ]
    },
    {
     "name": "stderr",
     "output_type": "stream",
     "text": [
      "\n"
     ]
    },
    {
     "name": "stdout",
     "output_type": "stream",
     "text": [
      "\t eval r2: 0.1906\n",
      "==============================\n",
      "Epoch 3 elapsed: 0.045s\n"
     ]
    },
    {
     "name": "stderr",
     "output_type": "stream",
     "text": [
      "eval_pred: 100%|███████████████████████████████| 15/15 [00:00<00:00, 958.65it/s]"
     ]
    },
    {
     "name": "stdout",
     "output_type": "stream",
     "text": [
      "\t eval rmse: 0.9979\n",
      "\t eval mae: 0.7948\n",
      "\t eval r2: 0.2026\n",
      "=============================="
     ]
    },
    {
     "name": "stderr",
     "output_type": "stream",
     "text": [
      "\n"
     ]
    },
    {
     "name": "stdout",
     "output_type": "stream",
     "text": [
      "\n",
      "Epoch 4 elapsed: 0.043s\n"
     ]
    },
    {
     "name": "stderr",
     "output_type": "stream",
     "text": [
      "eval_pred: 100%|███████████████████████████████| 15/15 [00:00<00:00, 985.41it/s]\n"
     ]
    },
    {
     "name": "stdout",
     "output_type": "stream",
     "text": [
      "\t eval rmse: 0.9954\n",
      "\t eval mae: 0.7911\n",
      "\t eval r2: 0.2066\n",
      "==============================\n",
      "Epoch 5 elapsed: 0.046s\n"
     ]
    },
    {
     "name": "stderr",
     "output_type": "stream",
     "text": [
      "eval_pred: 100%|██████████████████████████████| 15/15 [00:00<00:00, 1078.10it/s]\n"
     ]
    },
    {
     "name": "stdout",
     "output_type": "stream",
     "text": [
      "\t eval rmse: 0.9946\n",
      "\t eval mae: 0.7898\n",
      "\t eval r2: 0.2078\n",
      "==============================\n",
      "Training start time: \u001b[35m2022-07-28 17:10:54\u001b[0m\n",
      "Epoch 1 elapsed: 0.040s\n"
     ]
    },
    {
     "name": "stderr",
     "output_type": "stream",
     "text": [
      "eval_pred: 100%|███████████████████████████████| 15/15 [00:00<00:00, 827.19it/s]"
     ]
    },
    {
     "name": "stdout",
     "output_type": "stream",
     "text": [
      "\t eval rmse: 2.6288\n",
      "\t eval mae: 2.3245\n"
     ]
    },
    {
     "name": "stderr",
     "output_type": "stream",
     "text": [
      "\n"
     ]
    },
    {
     "name": "stdout",
     "output_type": "stream",
     "text": [
      "\t eval r2: -4.5337\n",
      "==============================\n",
      "Epoch 2 elapsed: 0.043s\n"
     ]
    },
    {
     "name": "stderr",
     "output_type": "stream",
     "text": [
      "eval_pred: 100%|███████████████████████████████| 15/15 [00:00<00:00, 832.08it/s]"
     ]
    },
    {
     "name": "stdout",
     "output_type": "stream",
     "text": [
      "\t eval rmse: 1.0041\n",
      "\t eval mae: 0.8043\n",
      "\t eval r2: 0.1927\n",
      "==============================\n"
     ]
    },
    {
     "name": "stderr",
     "output_type": "stream",
     "text": [
      "\n"
     ]
    },
    {
     "name": "stdout",
     "output_type": "stream",
     "text": [
      "Epoch 3 elapsed: 0.041s\n"
     ]
    },
    {
     "name": "stderr",
     "output_type": "stream",
     "text": [
      "eval_pred: 100%|███████████████████████████████| 15/15 [00:00<00:00, 912.36it/s]\n"
     ]
    },
    {
     "name": "stdout",
     "output_type": "stream",
     "text": [
      "\t eval rmse: 0.9979\n",
      "\t eval mae: 0.7948\n",
      "\t eval r2: 0.2026\n",
      "==============================\n",
      "Epoch 4 elapsed: 0.048s\n"
     ]
    },
    {
     "name": "stderr",
     "output_type": "stream",
     "text": [
      "eval_pred: 100%|███████████████████████████████| 15/15 [00:00<00:00, 887.31it/s]\n"
     ]
    },
    {
     "name": "stdout",
     "output_type": "stream",
     "text": [
      "\t eval rmse: 0.9955\n",
      "\t eval mae: 0.7914\n",
      "\t eval r2: 0.2064\n",
      "==============================\n",
      "Epoch 5 elapsed: 0.051s\n"
     ]
    },
    {
     "name": "stderr",
     "output_type": "stream",
     "text": [
      "eval_pred: 100%|███████████████████████████████| 15/15 [00:00<00:00, 637.60it/s]"
     ]
    },
    {
     "name": "stdout",
     "output_type": "stream",
     "text": [
      "\t eval rmse: 0.9947\n",
      "\t eval mae: 0.7901\n",
      "\t eval r2: 0.2077\n",
      "==============================\n"
     ]
    },
    {
     "name": "stderr",
     "output_type": "stream",
     "text": [
      "\n"
     ]
    },
    {
     "name": "stdout",
     "output_type": "stream",
     "text": [
      "Training start time: \u001b[35m2022-07-28 17:10:54\u001b[0m\n",
      "Epoch 1 elapsed: 0.073s\n"
     ]
    },
    {
     "name": "stderr",
     "output_type": "stream",
     "text": [
      "eval_pred: 100%|███████████████████████████████| 15/15 [00:00<00:00, 911.25it/s]"
     ]
    },
    {
     "name": "stdout",
     "output_type": "stream",
     "text": [
      "\t eval rmse: 2.6331\n",
      "\t eval mae: 2.3292\n",
      "\t eval r2: -4.5519\n",
      "==============================\n"
     ]
    },
    {
     "name": "stderr",
     "output_type": "stream",
     "text": [
      "\n"
     ]
    },
    {
     "name": "stdout",
     "output_type": "stream",
     "text": [
      "Epoch 2 elapsed: 0.084s\n"
     ]
    },
    {
     "name": "stderr",
     "output_type": "stream",
     "text": [
      "eval_pred: 100%|███████████████████████████████| 15/15 [00:00<00:00, 946.40it/s]"
     ]
    },
    {
     "name": "stdout",
     "output_type": "stream",
     "text": [
      "\t eval rmse: 1.0039\n",
      "\t eval mae: 0.8039\n",
      "\t eval r2: 0.1930\n",
      "==============================\n"
     ]
    },
    {
     "name": "stderr",
     "output_type": "stream",
     "text": [
      "\n"
     ]
    },
    {
     "name": "stdout",
     "output_type": "stream",
     "text": [
      "Epoch 3 elapsed: 0.060s\n"
     ]
    },
    {
     "name": "stderr",
     "output_type": "stream",
     "text": [
      "eval_pred: 100%|███████████████████████████████| 15/15 [00:00<00:00, 550.41it/s]"
     ]
    },
    {
     "name": "stdout",
     "output_type": "stream",
     "text": [
      "\t eval rmse: 0.9981\n",
      "\t eval mae: 0.7950\n",
      "\t eval r2: 0.2023\n",
      "==============================\n"
     ]
    },
    {
     "name": "stderr",
     "output_type": "stream",
     "text": [
      "\n"
     ]
    },
    {
     "name": "stdout",
     "output_type": "stream",
     "text": [
      "Epoch 4 elapsed: 0.044s\n"
     ]
    },
    {
     "name": "stderr",
     "output_type": "stream",
     "text": [
      "eval_pred: 100%|██████████████████████████████| 15/15 [00:00<00:00, 1010.21it/s]"
     ]
    },
    {
     "name": "stdout",
     "output_type": "stream",
     "text": [
      "\t eval rmse: 0.9957\n",
      "\t eval mae: 0.7916\n",
      "\t eval r2: 0.2062\n",
      "==============================\n"
     ]
    },
    {
     "name": "stderr",
     "output_type": "stream",
     "text": [
      "\n"
     ]
    },
    {
     "name": "stdout",
     "output_type": "stream",
     "text": [
      "Epoch 5 elapsed: 0.066s\n"
     ]
    },
    {
     "name": "stderr",
     "output_type": "stream",
     "text": [
      "eval_pred: 100%|███████████████████████████████| 15/15 [00:00<00:00, 923.67it/s]"
     ]
    },
    {
     "name": "stdout",
     "output_type": "stream",
     "text": [
      "\t eval rmse: 0.9948\n",
      "\t eval mae: 0.7902\n",
      "\t eval r2: 0.2075\n",
      "==============================\n"
     ]
    },
    {
     "name": "stderr",
     "output_type": "stream",
     "text": [
      "\n"
     ]
    },
    {
     "name": "stdout",
     "output_type": "stream",
     "text": [
      "Training start time: \u001b[35m2022-07-28 17:10:55\u001b[0m\n",
      "Epoch 1 elapsed: 0.083s\n"
     ]
    },
    {
     "name": "stderr",
     "output_type": "stream",
     "text": [
      "eval_pred: 100%|██████████████████████████████| 15/15 [00:00<00:00, 1051.34it/s]"
     ]
    },
    {
     "name": "stdout",
     "output_type": "stream",
     "text": [
      "\t eval rmse: 2.6397\n",
      "\t eval mae: 2.3369\n",
      "\t eval r2: -4.5798\n",
      "==============================\n"
     ]
    },
    {
     "name": "stderr",
     "output_type": "stream",
     "text": [
      "\n"
     ]
    },
    {
     "name": "stdout",
     "output_type": "stream",
     "text": [
      "Epoch 2 elapsed: 0.079s\n"
     ]
    },
    {
     "name": "stderr",
     "output_type": "stream",
     "text": [
      "eval_pred: 100%|██████████████████████████████| 15/15 [00:00<00:00, 1045.67it/s]"
     ]
    },
    {
     "name": "stdout",
     "output_type": "stream",
     "text": [
      "\t eval rmse: 1.0038\n",
      "\t eval mae: 0.8036\n",
      "\t eval r2: 0.1931\n",
      "==============================\n"
     ]
    },
    {
     "name": "stderr",
     "output_type": "stream",
     "text": [
      "\n"
     ]
    },
    {
     "name": "stdout",
     "output_type": "stream",
     "text": [
      "Epoch 3 elapsed: 0.128s\n"
     ]
    },
    {
     "name": "stderr",
     "output_type": "stream",
     "text": [
      "eval_pred: 100%|███████████████████████████████| 15/15 [00:00<00:00, 802.41it/s]\n"
     ]
    },
    {
     "name": "stdout",
     "output_type": "stream",
     "text": [
      "\t eval rmse: 0.9982\n",
      "\t eval mae: 0.7954\n",
      "\t eval r2: 0.2021\n",
      "==============================\n",
      "Epoch 4 elapsed: 0.046s\n"
     ]
    },
    {
     "name": "stderr",
     "output_type": "stream",
     "text": [
      "eval_pred: 100%|███████████████████████████████| 15/15 [00:00<00:00, 717.38it/s]"
     ]
    },
    {
     "name": "stdout",
     "output_type": "stream",
     "text": [
      "\t eval rmse: 0.9957\n",
      "\t eval mae: 0.7919\n",
      "\t eval r2: 0.2061\n",
      "==============================\n"
     ]
    },
    {
     "name": "stderr",
     "output_type": "stream",
     "text": [
      "\n"
     ]
    },
    {
     "name": "stdout",
     "output_type": "stream",
     "text": [
      "Epoch 5 elapsed: 0.039s\n"
     ]
    },
    {
     "name": "stderr",
     "output_type": "stream",
     "text": [
      "eval_pred: 100%|███████████████████████████████| 15/15 [00:00<00:00, 982.29it/s]"
     ]
    },
    {
     "name": "stdout",
     "output_type": "stream",
     "text": [
      "\t eval rmse: 0.9948\n",
      "\t eval mae: 0.7904\n"
     ]
    },
    {
     "name": "stderr",
     "output_type": "stream",
     "text": [
      "\n"
     ]
    },
    {
     "name": "stdout",
     "output_type": "stream",
     "text": [
      "\t eval r2: 0.2076\n",
      "==============================\n",
      "Training start time: \u001b[35m2022-07-28 17:10:56\u001b[0m\n",
      "Epoch 1 elapsed: 0.038s\n"
     ]
    },
    {
     "name": "stderr",
     "output_type": "stream",
     "text": [
      "eval_pred: 100%|███████████████████████████████| 15/15 [00:00<00:00, 863.84it/s]\n"
     ]
    },
    {
     "name": "stdout",
     "output_type": "stream",
     "text": [
      "\t eval rmse: 2.6459\n",
      "\t eval mae: 2.3443\n",
      "\t eval r2: -4.6060\n",
      "==============================\n",
      "Epoch 2 elapsed: 0.040s\n"
     ]
    },
    {
     "name": "stderr",
     "output_type": "stream",
     "text": [
      "eval_pred: 100%|███████████████████████████████| 15/15 [00:00<00:00, 848.87it/s]"
     ]
    },
    {
     "name": "stdout",
     "output_type": "stream",
     "text": [
      "\t eval rmse: 1.0031\n",
      "\t eval mae: 0.8033\n",
      "\t eval r2: 0.1942\n",
      "==============================\n"
     ]
    },
    {
     "name": "stderr",
     "output_type": "stream",
     "text": [
      "\n"
     ]
    },
    {
     "name": "stdout",
     "output_type": "stream",
     "text": [
      "Epoch 3 elapsed: 0.038s\n"
     ]
    },
    {
     "name": "stderr",
     "output_type": "stream",
     "text": [
      "eval_pred: 100%|██████████████████████████████| 15/15 [00:00<00:00, 1005.67it/s]\n"
     ]
    },
    {
     "name": "stdout",
     "output_type": "stream",
     "text": [
      "\t eval rmse: 0.9976\n",
      "\t eval mae: 0.7954\n",
      "\t eval r2: 0.2031\n",
      "==============================\n",
      "Epoch 4 elapsed: 0.047s\n"
     ]
    },
    {
     "name": "stderr",
     "output_type": "stream",
     "text": [
      "eval_pred: 100%|██████████████████████████████| 15/15 [00:00<00:00, 1051.71it/s]\n"
     ]
    },
    {
     "name": "stdout",
     "output_type": "stream",
     "text": [
      "\t eval rmse: 0.9950\n",
      "\t eval mae: 0.7919\n",
      "\t eval r2: 0.2072\n",
      "==============================\n",
      "Epoch 5 elapsed: 0.073s\n"
     ]
    },
    {
     "name": "stderr",
     "output_type": "stream",
     "text": [
      "eval_pred: 100%|███████████████████████████████| 15/15 [00:00<00:00, 943.29it/s]\n"
     ]
    },
    {
     "name": "stdout",
     "output_type": "stream",
     "text": [
      "\t eval rmse: 0.9940\n",
      "\t eval mae: 0.7903\n",
      "\t eval r2: 0.2089\n",
      "==============================\n",
      "Training start time: \u001b[35m2022-07-28 17:10:56\u001b[0m\n",
      "Epoch 1 elapsed: 0.053s\n"
     ]
    },
    {
     "name": "stderr",
     "output_type": "stream",
     "text": [
      "eval_pred: 100%|██████████████████████████████| 15/15 [00:00<00:00, 1009.44it/s]\n"
     ]
    },
    {
     "name": "stdout",
     "output_type": "stream",
     "text": [
      "\t eval rmse: 2.6513\n",
      "\t eval mae: 2.3512\n",
      "\t eval r2: -4.6288\n",
      "==============================\n",
      "Epoch 2 elapsed: 0.052s\n"
     ]
    },
    {
     "name": "stderr",
     "output_type": "stream",
     "text": [
      "eval_pred: 100%|███████████████████████████████| 15/15 [00:00<00:00, 968.26it/s]"
     ]
    },
    {
     "name": "stdout",
     "output_type": "stream",
     "text": [
      "\t eval rmse: 1.0020\n",
      "\t eval mae: 0.8031\n",
      "\t eval r2: 0.1961\n",
      "==============================\n"
     ]
    },
    {
     "name": "stderr",
     "output_type": "stream",
     "text": [
      "\n"
     ]
    },
    {
     "name": "stdout",
     "output_type": "stream",
     "text": [
      "Epoch 3 elapsed: 0.058s\n"
     ]
    },
    {
     "name": "stderr",
     "output_type": "stream",
     "text": [
      "eval_pred: 100%|███████████████████████████████| 15/15 [00:00<00:00, 999.14it/s]\n"
     ]
    },
    {
     "name": "stdout",
     "output_type": "stream",
     "text": [
      "\t eval rmse: 0.9966\n",
      "\t eval mae: 0.7954\n",
      "\t eval r2: 0.2048\n",
      "==============================\n",
      "Epoch 4 elapsed: 0.063s\n"
     ]
    },
    {
     "name": "stderr",
     "output_type": "stream",
     "text": [
      "eval_pred: 100%|███████████████████████████████| 15/15 [00:00<00:00, 947.17it/s]"
     ]
    },
    {
     "name": "stdout",
     "output_type": "stream",
     "text": [
      "\t eval rmse: 0.9940\n",
      "\t eval mae: 0.7920\n",
      "\t eval r2: 0.2088\n",
      "==============================\n"
     ]
    },
    {
     "name": "stderr",
     "output_type": "stream",
     "text": [
      "\n"
     ]
    },
    {
     "name": "stdout",
     "output_type": "stream",
     "text": [
      "Epoch 5 elapsed: 0.048s\n"
     ]
    },
    {
     "name": "stderr",
     "output_type": "stream",
     "text": [
      "eval_pred: 100%|███████████████████████████████| 15/15 [00:00<00:00, 976.21it/s]"
     ]
    },
    {
     "name": "stdout",
     "output_type": "stream",
     "text": [
      "\t eval rmse: 0.9931\n",
      "\t eval mae: 0.7905\n",
      "\t eval r2: 0.2103\n",
      "==============================\n"
     ]
    },
    {
     "name": "stderr",
     "output_type": "stream",
     "text": [
      "\n"
     ]
    },
    {
     "name": "stdout",
     "output_type": "stream",
     "text": [
      "Training start time: \u001b[35m2022-07-28 17:10:57\u001b[0m\n",
      "Epoch 1 elapsed: 0.070s\n"
     ]
    },
    {
     "name": "stderr",
     "output_type": "stream",
     "text": [
      "eval_pred: 100%|███████████████████████████████| 15/15 [00:00<00:00, 971.95it/s]\n"
     ]
    },
    {
     "name": "stdout",
     "output_type": "stream",
     "text": [
      "\t eval rmse: 2.3379\n",
      "\t eval mae: 1.9860\n",
      "\t eval r2: -3.3768\n",
      "==============================\n",
      "Epoch 2 elapsed: 0.059s\n"
     ]
    },
    {
     "name": "stderr",
     "output_type": "stream",
     "text": [
      "eval_pred: 100%|██████████████████████████████| 15/15 [00:00<00:00, 1007.89it/s]"
     ]
    },
    {
     "name": "stdout",
     "output_type": "stream",
     "text": [
      "\t eval rmse: 1.0112\n",
      "\t eval mae: 0.8083\n",
      "\t eval r2: 0.1812\n",
      "==============================\n"
     ]
    },
    {
     "name": "stderr",
     "output_type": "stream",
     "text": [
      "\n"
     ]
    },
    {
     "name": "stdout",
     "output_type": "stream",
     "text": [
      "Epoch 3 elapsed: 0.060s\n"
     ]
    },
    {
     "name": "stderr",
     "output_type": "stream",
     "text": [
      "eval_pred: 100%|██████████████████████████████| 15/15 [00:00<00:00, 1020.45it/s]\n"
     ]
    },
    {
     "name": "stdout",
     "output_type": "stream",
     "text": [
      "\t eval rmse: 1.0048\n",
      "\t eval mae: 0.7969\n",
      "\t eval r2: 0.1915\n",
      "==============================\n",
      "Epoch 4 elapsed: 0.075s\n"
     ]
    },
    {
     "name": "stderr",
     "output_type": "stream",
     "text": [
      "eval_pred: 100%|███████████████████████████████| 15/15 [00:00<00:00, 964.58it/s]"
     ]
    },
    {
     "name": "stdout",
     "output_type": "stream",
     "text": [
      "\t eval rmse: 1.0027\n",
      "\t eval mae: 0.7931\n",
      "\t eval r2: 0.1949\n",
      "==============================\n"
     ]
    },
    {
     "name": "stderr",
     "output_type": "stream",
     "text": [
      "\n"
     ]
    },
    {
     "name": "stdout",
     "output_type": "stream",
     "text": [
      "Epoch 5 elapsed: 0.073s\n"
     ]
    },
    {
     "name": "stderr",
     "output_type": "stream",
     "text": [
      "eval_pred: 100%|███████████████████████████████| 15/15 [00:00<00:00, 878.57it/s]"
     ]
    },
    {
     "name": "stdout",
     "output_type": "stream",
     "text": [
      "\t eval rmse: 1.0019\n",
      "\t eval mae: 0.7913\n",
      "\t eval r2: 0.1962\n",
      "==============================\n"
     ]
    },
    {
     "name": "stderr",
     "output_type": "stream",
     "text": [
      "\n"
     ]
    },
    {
     "name": "stdout",
     "output_type": "stream",
     "text": [
      "Training start time: \u001b[35m2022-07-28 17:10:58\u001b[0m\n",
      "Epoch 1 elapsed: 0.067s\n"
     ]
    },
    {
     "name": "stderr",
     "output_type": "stream",
     "text": [
      "eval_pred: 100%|███████████████████████████████| 15/15 [00:00<00:00, 888.94it/s]"
     ]
    },
    {
     "name": "stdout",
     "output_type": "stream",
     "text": [
      "\t eval rmse: 2.2811\n",
      "\t eval mae: 1.9193\n",
      "\t eval r2: -3.1665\n",
      "==============================\n"
     ]
    },
    {
     "name": "stderr",
     "output_type": "stream",
     "text": [
      "\n"
     ]
    },
    {
     "name": "stdout",
     "output_type": "stream",
     "text": [
      "Epoch 2 elapsed: 0.075s\n"
     ]
    },
    {
     "name": "stderr",
     "output_type": "stream",
     "text": [
      "eval_pred: 100%|███████████████████████████████| 15/15 [00:00<00:00, 886.45it/s]"
     ]
    },
    {
     "name": "stdout",
     "output_type": "stream",
     "text": [
      "\t eval rmse: 1.0076\n",
      "\t eval mae: 0.8037\n",
      "\t eval r2: 0.1870\n",
      "==============================\n"
     ]
    },
    {
     "name": "stderr",
     "output_type": "stream",
     "text": [
      "\n"
     ]
    },
    {
     "name": "stdout",
     "output_type": "stream",
     "text": [
      "Epoch 3 elapsed: 0.064s\n"
     ]
    },
    {
     "name": "stderr",
     "output_type": "stream",
     "text": [
      "eval_pred: 100%|███████████████████████████████| 15/15 [00:00<00:00, 935.24it/s]"
     ]
    },
    {
     "name": "stdout",
     "output_type": "stream",
     "text": [
      "\t eval rmse: 1.0030\n",
      "\t eval mae: 0.7951\n",
      "\t eval r2: 0.1944\n",
      "==============================\n"
     ]
    },
    {
     "name": "stderr",
     "output_type": "stream",
     "text": [
      "\n"
     ]
    },
    {
     "name": "stdout",
     "output_type": "stream",
     "text": [
      "Epoch 4 elapsed: 0.061s\n"
     ]
    },
    {
     "name": "stderr",
     "output_type": "stream",
     "text": [
      "eval_pred: 100%|███████████████████████████████| 15/15 [00:00<00:00, 913.66it/s]"
     ]
    },
    {
     "name": "stdout",
     "output_type": "stream",
     "text": [
      "\t eval rmse: 1.0014\n",
      "\t eval mae: 0.7918\n",
      "\t eval r2: 0.1971\n",
      "==============================\n"
     ]
    },
    {
     "name": "stderr",
     "output_type": "stream",
     "text": [
      "\n"
     ]
    },
    {
     "name": "stdout",
     "output_type": "stream",
     "text": [
      "Epoch 5 elapsed: 0.100s\n"
     ]
    },
    {
     "name": "stderr",
     "output_type": "stream",
     "text": [
      "eval_pred: 100%|███████████████████████████████| 15/15 [00:00<00:00, 783.52it/s]"
     ]
    },
    {
     "name": "stdout",
     "output_type": "stream",
     "text": [
      "\t eval rmse: 1.0007\n",
      "\t eval mae: 0.7902\n"
     ]
    },
    {
     "name": "stderr",
     "output_type": "stream",
     "text": [
      "\n"
     ]
    },
    {
     "name": "stdout",
     "output_type": "stream",
     "text": [
      "\t eval r2: 0.1981\n",
      "==============================\n",
      "Training start time: \u001b[35m2022-07-28 17:10:58\u001b[0m\n",
      "Epoch 1 elapsed: 0.065s\n"
     ]
    },
    {
     "name": "stderr",
     "output_type": "stream",
     "text": [
      "eval_pred: 100%|███████████████████████████████| 15/15 [00:00<00:00, 610.64it/s]\n"
     ]
    },
    {
     "name": "stdout",
     "output_type": "stream",
     "text": [
      "\t eval rmse: 2.2724\n",
      "\t eval mae: 1.9077\n",
      "\t eval r2: -3.1348\n",
      "==============================\n",
      "Epoch 2 elapsed: 0.062s\n"
     ]
    },
    {
     "name": "stderr",
     "output_type": "stream",
     "text": [
      "eval_pred: 100%|███████████████████████████████| 15/15 [00:00<00:00, 968.93it/s]"
     ]
    },
    {
     "name": "stdout",
     "output_type": "stream",
     "text": [
      "\t eval rmse: 1.0071\n",
      "\t eval mae: 0.8026\n",
      "\t eval r2: 0.1879\n",
      "==============================\n"
     ]
    },
    {
     "name": "stderr",
     "output_type": "stream",
     "text": [
      "\n"
     ]
    },
    {
     "name": "stdout",
     "output_type": "stream",
     "text": [
      "Epoch 3 elapsed: 0.064s\n"
     ]
    },
    {
     "name": "stderr",
     "output_type": "stream",
     "text": [
      "eval_pred: 100%|███████████████████████████████| 15/15 [00:00<00:00, 684.46it/s]\n"
     ]
    },
    {
     "name": "stdout",
     "output_type": "stream",
     "text": [
      "\t eval rmse: 1.0030\n",
      "\t eval mae: 0.7951\n",
      "\t eval r2: 0.1945\n",
      "==============================\n",
      "Epoch 4 elapsed: 0.059s\n"
     ]
    },
    {
     "name": "stderr",
     "output_type": "stream",
     "text": [
      "eval_pred: 100%|███████████████████████████████| 15/15 [00:00<00:00, 927.96it/s]"
     ]
    },
    {
     "name": "stdout",
     "output_type": "stream",
     "text": [
      "\t eval rmse: 1.0013\n",
      "\t eval mae: 0.7917\n",
      "\t eval r2: 0.1971\n",
      "==============================\n"
     ]
    },
    {
     "name": "stderr",
     "output_type": "stream",
     "text": [
      "\n"
     ]
    },
    {
     "name": "stdout",
     "output_type": "stream",
     "text": [
      "Epoch 5 elapsed: 0.089s\n"
     ]
    },
    {
     "name": "stderr",
     "output_type": "stream",
     "text": [
      "eval_pred: 100%|███████████████████████████████| 15/15 [00:00<00:00, 529.41it/s]"
     ]
    },
    {
     "name": "stdout",
     "output_type": "stream",
     "text": [
      "\t eval rmse: 1.0007\n"
     ]
    },
    {
     "name": "stderr",
     "output_type": "stream",
     "text": [
      "\n"
     ]
    },
    {
     "name": "stdout",
     "output_type": "stream",
     "text": [
      "\t eval mae: 0.7902\n",
      "\t eval r2: 0.1982\n",
      "==============================\n",
      "Training start time: \u001b[35m2022-07-28 17:10:59\u001b[0m\n",
      "Epoch 1 elapsed: 0.066s\n"
     ]
    },
    {
     "name": "stderr",
     "output_type": "stream",
     "text": [
      "eval_pred: 100%|███████████████████████████████| 15/15 [00:00<00:00, 860.06it/s]\n"
     ]
    },
    {
     "name": "stdout",
     "output_type": "stream",
     "text": [
      "\t eval rmse: 2.2855\n",
      "\t eval mae: 1.9199\n",
      "\t eval r2: -3.1826\n",
      "==============================\n",
      "Epoch 2 elapsed: 0.065s\n"
     ]
    },
    {
     "name": "stderr",
     "output_type": "stream",
     "text": [
      "eval_pred: 100%|███████████████████████████████| 15/15 [00:00<00:00, 907.94it/s]"
     ]
    },
    {
     "name": "stdout",
     "output_type": "stream",
     "text": [
      "\t eval rmse: 1.0073\n",
      "\t eval mae: 0.8021\n",
      "\t eval r2: 0.1875\n",
      "==============================\n"
     ]
    },
    {
     "name": "stderr",
     "output_type": "stream",
     "text": [
      "\n"
     ]
    },
    {
     "name": "stdout",
     "output_type": "stream",
     "text": [
      "Epoch 3 elapsed: 0.077s\n"
     ]
    },
    {
     "name": "stderr",
     "output_type": "stream",
     "text": [
      "eval_pred: 100%|███████████████████████████████| 15/15 [00:00<00:00, 887.06it/s]\n"
     ]
    },
    {
     "name": "stdout",
     "output_type": "stream",
     "text": [
      "\t eval rmse: 1.0035\n",
      "\t eval mae: 0.7956\n",
      "\t eval r2: 0.1937\n",
      "==============================\n",
      "Epoch 4 elapsed: 0.062s\n"
     ]
    },
    {
     "name": "stderr",
     "output_type": "stream",
     "text": [
      "eval_pred: 100%|███████████████████████████████| 15/15 [00:00<00:00, 914.34it/s]"
     ]
    },
    {
     "name": "stdout",
     "output_type": "stream",
     "text": [
      "\t eval rmse: 1.0018\n",
      "\t eval mae: 0.7923\n",
      "\t eval r2: 0.1964\n",
      "==============================\n"
     ]
    },
    {
     "name": "stderr",
     "output_type": "stream",
     "text": [
      "\n"
     ]
    },
    {
     "name": "stdout",
     "output_type": "stream",
     "text": [
      "Epoch 5 elapsed: 0.063s\n"
     ]
    },
    {
     "name": "stderr",
     "output_type": "stream",
     "text": [
      "eval_pred: 100%|██████████████████████████████| 15/15 [00:00<00:00, 1042.75it/s]"
     ]
    },
    {
     "name": "stdout",
     "output_type": "stream",
     "text": [
      "\t eval rmse: 1.0010\n",
      "\t eval mae: 0.7906\n",
      "\t eval r2: 0.1976\n",
      "==============================\n"
     ]
    },
    {
     "name": "stderr",
     "output_type": "stream",
     "text": [
      "\n"
     ]
    },
    {
     "name": "stdout",
     "output_type": "stream",
     "text": [
      "Training start time: \u001b[35m2022-07-28 17:11:00\u001b[0m\n",
      "Epoch 1 elapsed: 0.069s\n"
     ]
    },
    {
     "name": "stderr",
     "output_type": "stream",
     "text": [
      "eval_pred: 100%|███████████████████████████████| 15/15 [00:00<00:00, 890.21it/s]"
     ]
    },
    {
     "name": "stdout",
     "output_type": "stream",
     "text": [
      "\t eval rmse: 2.2962\n",
      "\t eval mae: 1.9312\n",
      "\t eval r2: -3.2218\n",
      "==============================\n"
     ]
    },
    {
     "name": "stderr",
     "output_type": "stream",
     "text": [
      "\n"
     ]
    },
    {
     "name": "stdout",
     "output_type": "stream",
     "text": [
      "Epoch 2 elapsed: 0.100s\n"
     ]
    },
    {
     "name": "stderr",
     "output_type": "stream",
     "text": [
      "eval_pred: 100%|███████████████████████████████| 15/15 [00:00<00:00, 920.95it/s]"
     ]
    },
    {
     "name": "stdout",
     "output_type": "stream",
     "text": [
      "\t eval rmse: 1.0077\n"
     ]
    },
    {
     "name": "stderr",
     "output_type": "stream",
     "text": [
      "\n"
     ]
    },
    {
     "name": "stdout",
     "output_type": "stream",
     "text": [
      "\t eval mae: 0.8023\n",
      "\t eval r2: 0.1868\n",
      "==============================\n",
      "Epoch 3 elapsed: 0.065s\n"
     ]
    },
    {
     "name": "stderr",
     "output_type": "stream",
     "text": [
      "eval_pred: 100%|███████████████████████████████| 15/15 [00:00<00:00, 724.61it/s]"
     ]
    },
    {
     "name": "stdout",
     "output_type": "stream",
     "text": [
      "\t eval rmse: 1.0038\n",
      "\t eval mae: 0.7960\n",
      "\t eval r2: 0.1931\n",
      "==============================\n"
     ]
    },
    {
     "name": "stderr",
     "output_type": "stream",
     "text": [
      "\n"
     ]
    },
    {
     "name": "stdout",
     "output_type": "stream",
     "text": [
      "Epoch 4 elapsed: 0.069s\n"
     ]
    },
    {
     "name": "stderr",
     "output_type": "stream",
     "text": [
      "eval_pred: 100%|███████████████████████████████| 15/15 [00:00<00:00, 916.09it/s]"
     ]
    },
    {
     "name": "stdout",
     "output_type": "stream",
     "text": [
      "\t eval rmse: 1.0021\n",
      "\t eval mae: 0.7927\n",
      "\t eval r2: 0.1959\n",
      "==============================\n"
     ]
    },
    {
     "name": "stderr",
     "output_type": "stream",
     "text": [
      "\n"
     ]
    },
    {
     "name": "stdout",
     "output_type": "stream",
     "text": [
      "Epoch 5 elapsed: 0.063s\n"
     ]
    },
    {
     "name": "stderr",
     "output_type": "stream",
     "text": [
      "eval_pred: 100%|███████████████████████████████| 15/15 [00:00<00:00, 973.80it/s]"
     ]
    },
    {
     "name": "stdout",
     "output_type": "stream",
     "text": [
      "\t eval rmse: 1.0013\n",
      "\t eval mae: 0.7909\n",
      "\t eval r2: 0.1972\n",
      "==============================\n"
     ]
    },
    {
     "name": "stderr",
     "output_type": "stream",
     "text": [
      "\n"
     ]
    },
    {
     "name": "stdout",
     "output_type": "stream",
     "text": [
      "Training start time: \u001b[35m2022-07-28 17:11:01\u001b[0m\n",
      "Epoch 1 elapsed: 0.062s\n"
     ]
    },
    {
     "name": "stderr",
     "output_type": "stream",
     "text": [
      "eval_pred: 100%|███████████████████████████████| 15/15 [00:00<00:00, 929.03it/s]\n"
     ]
    },
    {
     "name": "stdout",
     "output_type": "stream",
     "text": [
      "\t eval rmse: 2.3091\n",
      "\t eval mae: 1.9451\n",
      "\t eval r2: -3.2694\n",
      "==============================\n",
      "Epoch 2 elapsed: 0.057s\n"
     ]
    },
    {
     "name": "stderr",
     "output_type": "stream",
     "text": [
      "eval_pred: 100%|███████████████████████████████| 15/15 [00:00<00:00, 942.55it/s]"
     ]
    },
    {
     "name": "stdout",
     "output_type": "stream",
     "text": [
      "\t eval rmse: 1.0083\n",
      "\t eval mae: 0.8026\n",
      "\t eval r2: 0.1859\n",
      "==============================\n"
     ]
    },
    {
     "name": "stderr",
     "output_type": "stream",
     "text": [
      "\n"
     ]
    },
    {
     "name": "stdout",
     "output_type": "stream",
     "text": [
      "Epoch 3 elapsed: 0.078s\n"
     ]
    },
    {
     "name": "stderr",
     "output_type": "stream",
     "text": [
      "eval_pred: 100%|███████████████████████████████| 15/15 [00:00<00:00, 610.96it/s]\n"
     ]
    },
    {
     "name": "stdout",
     "output_type": "stream",
     "text": [
      "\t eval rmse: 1.0043\n",
      "\t eval mae: 0.7966\n",
      "\t eval r2: 0.1924\n",
      "==============================\n",
      "Epoch 4 elapsed: 0.089s\n"
     ]
    },
    {
     "name": "stderr",
     "output_type": "stream",
     "text": [
      "eval_pred: 100%|███████████████████████████████| 15/15 [00:00<00:00, 889.86it/s]"
     ]
    },
    {
     "name": "stdout",
     "output_type": "stream",
     "text": [
      "\t eval rmse: 1.0024\n",
      "\t eval mae: 0.7931\n"
     ]
    },
    {
     "name": "stderr",
     "output_type": "stream",
     "text": [
      "\n"
     ]
    },
    {
     "name": "stdout",
     "output_type": "stream",
     "text": [
      "\t eval r2: 0.1954\n",
      "==============================\n",
      "Epoch 5 elapsed: 0.065s\n"
     ]
    },
    {
     "name": "stderr",
     "output_type": "stream",
     "text": [
      "eval_pred: 100%|███████████████████████████████| 15/15 [00:00<00:00, 878.82it/s]"
     ]
    },
    {
     "name": "stdout",
     "output_type": "stream",
     "text": [
      "\t eval rmse: 1.0014\n",
      "\t eval mae: 0.7912\n",
      "\t eval r2: 0.1970\n",
      "==============================\n"
     ]
    },
    {
     "name": "stderr",
     "output_type": "stream",
     "text": [
      "\n"
     ]
    },
    {
     "name": "stdout",
     "output_type": "stream",
     "text": [
      "Training start time: \u001b[35m2022-07-28 17:11:01\u001b[0m\n",
      "Epoch 1 elapsed: 0.059s\n"
     ]
    },
    {
     "name": "stderr",
     "output_type": "stream",
     "text": [
      "eval_pred: 100%|███████████████████████████████| 15/15 [00:00<00:00, 799.55it/s]"
     ]
    },
    {
     "name": "stdout",
     "output_type": "stream",
     "text": [
      "\t eval rmse: 2.3188\n",
      "\t eval mae: 1.9560\n",
      "\t eval r2: -3.3055\n",
      "==============================\n"
     ]
    },
    {
     "name": "stderr",
     "output_type": "stream",
     "text": [
      "\n"
     ]
    },
    {
     "name": "stdout",
     "output_type": "stream",
     "text": [
      "Epoch 2 elapsed: 0.107s\n"
     ]
    },
    {
     "name": "stderr",
     "output_type": "stream",
     "text": [
      "eval_pred: 100%|███████████████████████████████| 15/15 [00:00<00:00, 891.49it/s]"
     ]
    },
    {
     "name": "stdout",
     "output_type": "stream",
     "text": [
      "\t eval rmse: 1.0081\n"
     ]
    },
    {
     "name": "stderr",
     "output_type": "stream",
     "text": [
      "\n"
     ]
    },
    {
     "name": "stdout",
     "output_type": "stream",
     "text": [
      "\t eval mae: 0.8028\n",
      "\t eval r2: 0.1862\n",
      "==============================\n",
      "Epoch 3 elapsed: 0.079s\n"
     ]
    },
    {
     "name": "stderr",
     "output_type": "stream",
     "text": [
      "eval_pred: 100%|███████████████████████████████| 15/15 [00:00<00:00, 898.14it/s]"
     ]
    },
    {
     "name": "stdout",
     "output_type": "stream",
     "text": [
      "\t eval rmse: 1.0036\n",
      "\t eval mae: 0.7967\n",
      "\t eval r2: 0.1934\n",
      "==============================\n"
     ]
    },
    {
     "name": "stderr",
     "output_type": "stream",
     "text": [
      "\n"
     ]
    },
    {
     "name": "stdout",
     "output_type": "stream",
     "text": [
      "Epoch 4 elapsed: 0.062s\n"
     ]
    },
    {
     "name": "stderr",
     "output_type": "stream",
     "text": [
      "eval_pred: 100%|███████████████████████████████| 15/15 [00:00<00:00, 960.10it/s]"
     ]
    },
    {
     "name": "stdout",
     "output_type": "stream",
     "text": [
      "\t eval rmse: 1.0015\n",
      "\t eval mae: 0.7930\n",
      "\t eval r2: 0.1968\n",
      "==============================\n"
     ]
    },
    {
     "name": "stderr",
     "output_type": "stream",
     "text": [
      "\n"
     ]
    },
    {
     "name": "stdout",
     "output_type": "stream",
     "text": [
      "Epoch 5 elapsed: 0.059s\n"
     ]
    },
    {
     "name": "stderr",
     "output_type": "stream",
     "text": [
      "eval_pred: 100%|███████████████████████████████| 15/15 [00:00<00:00, 892.73it/s]"
     ]
    },
    {
     "name": "stdout",
     "output_type": "stream",
     "text": [
      "\t eval rmse: 1.0004\n",
      "\t eval mae: 0.7910\n",
      "\t eval r2: 0.1986\n",
      "==============================\n"
     ]
    },
    {
     "name": "stderr",
     "output_type": "stream",
     "text": [
      "\n"
     ]
    },
    {
     "name": "stdout",
     "output_type": "stream",
     "text": [
      "Training start time: \u001b[35m2022-07-28 17:11:02\u001b[0m\n",
      "Epoch 1 elapsed: 0.072s\n"
     ]
    },
    {
     "name": "stderr",
     "output_type": "stream",
     "text": [
      "eval_pred: 100%|███████████████████████████████| 15/15 [00:00<00:00, 926.55it/s]\n"
     ]
    },
    {
     "name": "stdout",
     "output_type": "stream",
     "text": [
      "\t eval rmse: 2.3248\n",
      "\t eval mae: 1.9631\n",
      "\t eval r2: -3.3280\n",
      "==============================\n",
      "Epoch 2 elapsed: 0.056s\n"
     ]
    },
    {
     "name": "stderr",
     "output_type": "stream",
     "text": [
      "eval_pred: 100%|██████████████████████████████| 15/15 [00:00<00:00, 1007.62it/s]"
     ]
    },
    {
     "name": "stdout",
     "output_type": "stream",
     "text": [
      "\t eval rmse: 1.0071\n",
      "\t eval mae: 0.8029\n",
      "\t eval r2: 0.1879\n",
      "==============================\n"
     ]
    },
    {
     "name": "stderr",
     "output_type": "stream",
     "text": [
      "\n"
     ]
    },
    {
     "name": "stdout",
     "output_type": "stream",
     "text": [
      "Epoch 3 elapsed: 0.062s\n"
     ]
    },
    {
     "name": "stderr",
     "output_type": "stream",
     "text": [
      "eval_pred: 100%|███████████████████████████████| 15/15 [00:00<00:00, 946.60it/s]\n"
     ]
    },
    {
     "name": "stdout",
     "output_type": "stream",
     "text": [
      "\t eval rmse: 1.0022\n",
      "\t eval mae: 0.7966\n",
      "\t eval r2: 0.1957\n",
      "==============================\n",
      "Epoch 4 elapsed: 0.056s\n"
     ]
    },
    {
     "name": "stderr",
     "output_type": "stream",
     "text": [
      "eval_pred: 100%|███████████████████████████████| 15/15 [00:00<00:00, 934.71it/s]"
     ]
    },
    {
     "name": "stdout",
     "output_type": "stream",
     "text": [
      "\t eval rmse: 1.0001\n",
      "\t eval mae: 0.7929\n",
      "\t eval r2: 0.1991\n",
      "==============================\n"
     ]
    },
    {
     "name": "stderr",
     "output_type": "stream",
     "text": [
      "\n"
     ]
    },
    {
     "name": "stdout",
     "output_type": "stream",
     "text": [
      "Epoch 5 elapsed: 0.062s\n"
     ]
    },
    {
     "name": "stderr",
     "output_type": "stream",
     "text": [
      "eval_pred: 100%|███████████████████████████████| 15/15 [00:00<00:00, 906.47it/s]\n"
     ]
    },
    {
     "name": "stdout",
     "output_type": "stream",
     "text": [
      "\t eval rmse: 0.9990\n",
      "\t eval mae: 0.7910\n",
      "\t eval r2: 0.2009\n",
      "==============================\n",
      "Training start time: \u001b[35m2022-07-28 17:11:03\u001b[0m\n",
      "Epoch 1 elapsed: 0.079s\n"
     ]
    },
    {
     "name": "stderr",
     "output_type": "stream",
     "text": [
      "eval_pred: 100%|███████████████████████████████| 15/15 [00:00<00:00, 869.75it/s]"
     ]
    },
    {
     "name": "stdout",
     "output_type": "stream",
     "text": [
      "\t eval rmse: 1.9947\n",
      "\t eval mae: 1.6291\n",
      "\t eval r2: -2.1862\n",
      "==============================\n"
     ]
    },
    {
     "name": "stderr",
     "output_type": "stream",
     "text": [
      "\n"
     ]
    },
    {
     "name": "stdout",
     "output_type": "stream",
     "text": [
      "Epoch 2 elapsed: 0.084s\n"
     ]
    },
    {
     "name": "stderr",
     "output_type": "stream",
     "text": [
      "eval_pred: 100%|███████████████████████████████| 15/15 [00:00<00:00, 908.89it/s]"
     ]
    },
    {
     "name": "stdout",
     "output_type": "stream",
     "text": [
      "\t eval rmse: 1.0245\n",
      "\t eval mae: 0.8175\n",
      "\t eval r2: 0.1596\n",
      "==============================\n"
     ]
    },
    {
     "name": "stderr",
     "output_type": "stream",
     "text": [
      "\n"
     ]
    },
    {
     "name": "stdout",
     "output_type": "stream",
     "text": [
      "Epoch 3 elapsed: 0.081s\n"
     ]
    },
    {
     "name": "stderr",
     "output_type": "stream",
     "text": [
      "eval_pred: 100%|███████████████████████████████| 15/15 [00:00<00:00, 676.21it/s]"
     ]
    },
    {
     "name": "stdout",
     "output_type": "stream",
     "text": [
      "\t eval rmse: 1.0213\n",
      "\t eval mae: 0.8097\n"
     ]
    },
    {
     "name": "stderr",
     "output_type": "stream",
     "text": [
      "\n"
     ]
    },
    {
     "name": "stdout",
     "output_type": "stream",
     "text": [
      "\t eval r2: 0.1647\n",
      "==============================\n",
      "Epoch 4 elapsed: 0.146s\n"
     ]
    },
    {
     "name": "stderr",
     "output_type": "stream",
     "text": [
      "eval_pred: 100%|██████████████████████████████| 15/15 [00:00<00:00, 1006.67it/s]"
     ]
    },
    {
     "name": "stdout",
     "output_type": "stream",
     "text": [
      "\t eval rmse: 1.0189\n",
      "\t eval mae: 0.8056\n"
     ]
    },
    {
     "name": "stderr",
     "output_type": "stream",
     "text": [
      "\n"
     ]
    },
    {
     "name": "stdout",
     "output_type": "stream",
     "text": [
      "\t eval r2: 0.1687\n",
      "==============================\n",
      "Epoch 5 elapsed: 0.087s\n"
     ]
    },
    {
     "name": "stderr",
     "output_type": "stream",
     "text": [
      "eval_pred: 100%|███████████████████████████████| 15/15 [00:00<00:00, 915.25it/s]"
     ]
    },
    {
     "name": "stdout",
     "output_type": "stream",
     "text": [
      "\t eval rmse: 1.0168\n",
      "\t eval mae: 0.8027\n"
     ]
    },
    {
     "name": "stderr",
     "output_type": "stream",
     "text": [
      "\n"
     ]
    },
    {
     "name": "stdout",
     "output_type": "stream",
     "text": [
      "\t eval r2: 0.1721\n",
      "==============================\n",
      "Training start time: \u001b[35m2022-07-28 17:11:04\u001b[0m\n",
      "Epoch 1 elapsed: 0.075s\n"
     ]
    },
    {
     "name": "stderr",
     "output_type": "stream",
     "text": [
      "eval_pred: 100%|███████████████████████████████| 15/15 [00:00<00:00, 516.42it/s]"
     ]
    },
    {
     "name": "stdout",
     "output_type": "stream",
     "text": [
      "\t eval rmse: 1.9636\n",
      "\t eval mae: 1.5919\n",
      "\t eval r2: -2.0876\n",
      "==============================\n"
     ]
    },
    {
     "name": "stderr",
     "output_type": "stream",
     "text": [
      "\n"
     ]
    },
    {
     "name": "stdout",
     "output_type": "stream",
     "text": [
      "Epoch 2 elapsed: 0.085s\n"
     ]
    },
    {
     "name": "stderr",
     "output_type": "stream",
     "text": [
      "eval_pred: 100%|███████████████████████████████| 15/15 [00:00<00:00, 989.08it/s]\n"
     ]
    },
    {
     "name": "stdout",
     "output_type": "stream",
     "text": [
      "\t eval rmse: 1.0192\n",
      "\t eval mae: 0.8115\n",
      "\t eval r2: 0.1682\n",
      "==============================\n",
      "Epoch 3 elapsed: 0.086s\n"
     ]
    },
    {
     "name": "stderr",
     "output_type": "stream",
     "text": [
      "eval_pred: 100%|███████████████████████████████| 15/15 [00:00<00:00, 879.73it/s]"
     ]
    },
    {
     "name": "stdout",
     "output_type": "stream",
     "text": [
      "\t eval rmse: 1.0190\n",
      "\t eval mae: 0.8076\n",
      "\t eval r2: 0.1686\n",
      "==============================\n"
     ]
    },
    {
     "name": "stderr",
     "output_type": "stream",
     "text": [
      "\n"
     ]
    },
    {
     "name": "stdout",
     "output_type": "stream",
     "text": [
      "Epoch 4 elapsed: 0.095s\n"
     ]
    },
    {
     "name": "stderr",
     "output_type": "stream",
     "text": [
      "eval_pred: 100%|███████████████████████████████| 15/15 [00:00<00:00, 844.93it/s]"
     ]
    },
    {
     "name": "stdout",
     "output_type": "stream",
     "text": [
      "\t eval rmse: 1.0174\n",
      "\t eval mae: 0.8043\n"
     ]
    },
    {
     "name": "stderr",
     "output_type": "stream",
     "text": [
      "\n"
     ]
    },
    {
     "name": "stdout",
     "output_type": "stream",
     "text": [
      "\t eval r2: 0.1712\n",
      "==============================\n",
      "Epoch 5 elapsed: 0.083s\n"
     ]
    },
    {
     "name": "stderr",
     "output_type": "stream",
     "text": [
      "eval_pred: 100%|███████████████████████████████| 15/15 [00:00<00:00, 840.24it/s]"
     ]
    },
    {
     "name": "stdout",
     "output_type": "stream",
     "text": [
      "\t eval rmse: 1.0156\n",
      "\t eval mae: 0.8015\n",
      "\t eval r2: 0.1740\n",
      "==============================\n"
     ]
    },
    {
     "name": "stderr",
     "output_type": "stream",
     "text": [
      "\n"
     ]
    },
    {
     "name": "stdout",
     "output_type": "stream",
     "text": [
      "Training start time: \u001b[35m2022-07-28 17:11:05\u001b[0m\n",
      "Epoch 1 elapsed: 0.100s\n"
     ]
    },
    {
     "name": "stderr",
     "output_type": "stream",
     "text": [
      "eval_pred: 100%|███████████████████████████████| 15/15 [00:00<00:00, 724.91it/s]"
     ]
    },
    {
     "name": "stdout",
     "output_type": "stream",
     "text": [
      "\t eval rmse: 1.9772\n",
      "\t eval mae: 1.6024\n",
      "\t eval r2: -2.1304\n",
      "==============================\n"
     ]
    },
    {
     "name": "stderr",
     "output_type": "stream",
     "text": [
      "\n"
     ]
    },
    {
     "name": "stdout",
     "output_type": "stream",
     "text": [
      "Epoch 2 elapsed: 0.083s\n"
     ]
    },
    {
     "name": "stderr",
     "output_type": "stream",
     "text": [
      "eval_pred: 100%|███████████████████████████████| 15/15 [00:00<00:00, 976.09it/s]"
     ]
    },
    {
     "name": "stdout",
     "output_type": "stream",
     "text": [
      "\t eval rmse: 1.0181\n",
      "\t eval mae: 0.8099\n",
      "\t eval r2: 0.1699\n",
      "==============================\n"
     ]
    },
    {
     "name": "stderr",
     "output_type": "stream",
     "text": [
      "\n"
     ]
    },
    {
     "name": "stdout",
     "output_type": "stream",
     "text": [
      "Epoch 3 elapsed: 0.077s\n"
     ]
    },
    {
     "name": "stderr",
     "output_type": "stream",
     "text": [
      "eval_pred: 100%|███████████████████████████████| 15/15 [00:00<00:00, 912.98it/s]"
     ]
    },
    {
     "name": "stdout",
     "output_type": "stream",
     "text": [
      "\t eval rmse: 1.0183\n",
      "\t eval mae: 0.8070\n",
      "\t eval r2: 0.1697\n",
      "==============================\n"
     ]
    },
    {
     "name": "stderr",
     "output_type": "stream",
     "text": [
      "\n"
     ]
    },
    {
     "name": "stdout",
     "output_type": "stream",
     "text": [
      "Epoch 4 elapsed: 0.092s\n"
     ]
    },
    {
     "name": "stderr",
     "output_type": "stream",
     "text": [
      "eval_pred: 100%|███████████████████████████████| 15/15 [00:00<00:00, 715.59it/s]"
     ]
    },
    {
     "name": "stdout",
     "output_type": "stream",
     "text": [
      "\t eval rmse: 1.0170\n",
      "\t eval mae: 0.8040\n"
     ]
    },
    {
     "name": "stderr",
     "output_type": "stream",
     "text": [
      "\n"
     ]
    },
    {
     "name": "stdout",
     "output_type": "stream",
     "text": [
      "\t eval r2: 0.1718\n",
      "==============================\n",
      "Epoch 5 elapsed: 0.090s\n"
     ]
    },
    {
     "name": "stderr",
     "output_type": "stream",
     "text": [
      "eval_pred: 100%|███████████████████████████████| 15/15 [00:00<00:00, 804.70it/s]"
     ]
    },
    {
     "name": "stdout",
     "output_type": "stream",
     "text": [
      "\t eval rmse: 1.0154\n"
     ]
    },
    {
     "name": "stderr",
     "output_type": "stream",
     "text": [
      "\n"
     ]
    },
    {
     "name": "stdout",
     "output_type": "stream",
     "text": [
      "\t eval mae: 0.8013\n",
      "\t eval r2: 0.1745\n",
      "==============================\n",
      "Training start time: \u001b[35m2022-07-28 17:11:05\u001b[0m\n",
      "Epoch 1 elapsed: 0.085s\n"
     ]
    },
    {
     "name": "stderr",
     "output_type": "stream",
     "text": [
      "eval_pred: 100%|██████████████████████████████| 15/15 [00:00<00:00, 1010.32it/s]"
     ]
    },
    {
     "name": "stdout",
     "output_type": "stream",
     "text": [
      "\t eval rmse: 2.0250\n",
      "\t eval mae: 1.6484\n",
      "\t eval r2: -2.2834\n",
      "==============================\n"
     ]
    },
    {
     "name": "stderr",
     "output_type": "stream",
     "text": [
      "\n"
     ]
    },
    {
     "name": "stdout",
     "output_type": "stream",
     "text": [
      "Epoch 2 elapsed: 0.091s\n"
     ]
    },
    {
     "name": "stderr",
     "output_type": "stream",
     "text": [
      "eval_pred: 100%|███████████████████████████████| 15/15 [00:00<00:00, 901.85it/s]"
     ]
    },
    {
     "name": "stdout",
     "output_type": "stream",
     "text": [
      "\t eval rmse: 1.0179\n",
      "\t eval mae: 0.8088\n",
      "\t eval r2: 0.1703\n",
      "==============================\n"
     ]
    },
    {
     "name": "stderr",
     "output_type": "stream",
     "text": [
      "\n"
     ]
    },
    {
     "name": "stdout",
     "output_type": "stream",
     "text": [
      "Epoch 3 elapsed: 0.080s\n"
     ]
    },
    {
     "name": "stderr",
     "output_type": "stream",
     "text": [
      "eval_pred: 100%|███████████████████████████████| 15/15 [00:00<00:00, 870.43it/s]"
     ]
    },
    {
     "name": "stdout",
     "output_type": "stream",
     "text": [
      "\t eval rmse: 1.0176\n",
      "\t eval mae: 0.8065\n",
      "\t eval r2: 0.1708\n",
      "==============================\n"
     ]
    },
    {
     "name": "stderr",
     "output_type": "stream",
     "text": [
      "\n"
     ]
    },
    {
     "name": "stdout",
     "output_type": "stream",
     "text": [
      "Epoch 4 elapsed: 0.086s\n"
     ]
    },
    {
     "name": "stderr",
     "output_type": "stream",
     "text": [
      "eval_pred: 100%|███████████████████████████████| 15/15 [00:00<00:00, 978.54it/s]"
     ]
    },
    {
     "name": "stdout",
     "output_type": "stream",
     "text": [
      "\t eval rmse: 1.0164\n",
      "\t eval mae: 0.8036\n",
      "\t eval r2: 0.1728\n",
      "==============================\n"
     ]
    },
    {
     "name": "stderr",
     "output_type": "stream",
     "text": [
      "\n"
     ]
    },
    {
     "name": "stdout",
     "output_type": "stream",
     "text": [
      "Epoch 5 elapsed: 0.087s\n"
     ]
    },
    {
     "name": "stderr",
     "output_type": "stream",
     "text": [
      "eval_pred: 100%|███████████████████████████████| 15/15 [00:00<00:00, 877.40it/s]"
     ]
    },
    {
     "name": "stdout",
     "output_type": "stream",
     "text": [
      "\t eval rmse: 1.0148\n",
      "\t eval mae: 0.8009\n",
      "\t eval r2: 0.1754\n",
      "==============================\n"
     ]
    },
    {
     "name": "stderr",
     "output_type": "stream",
     "text": [
      "\n"
     ]
    },
    {
     "name": "stdout",
     "output_type": "stream",
     "text": [
      "Training start time: \u001b[35m2022-07-28 17:11:06\u001b[0m\n",
      "Epoch 1 elapsed: 0.091s\n"
     ]
    },
    {
     "name": "stderr",
     "output_type": "stream",
     "text": [
      "eval_pred: 100%|███████████████████████████████| 15/15 [00:00<00:00, 993.13it/s]"
     ]
    },
    {
     "name": "stdout",
     "output_type": "stream",
     "text": [
      "\t eval rmse: 2.0474\n",
      "\t eval mae: 1.6713\n",
      "\t eval r2: -2.3567\n",
      "==============================\n"
     ]
    },
    {
     "name": "stderr",
     "output_type": "stream",
     "text": [
      "\n"
     ]
    },
    {
     "name": "stdout",
     "output_type": "stream",
     "text": [
      "Epoch 2 elapsed: 0.109s\n"
     ]
    },
    {
     "name": "stderr",
     "output_type": "stream",
     "text": [
      "eval_pred: 100%|███████████████████████████████| 15/15 [00:00<00:00, 850.56it/s]"
     ]
    },
    {
     "name": "stdout",
     "output_type": "stream",
     "text": [
      "\t eval rmse: 1.0184\n"
     ]
    },
    {
     "name": "stderr",
     "output_type": "stream",
     "text": [
      "\n"
     ]
    },
    {
     "name": "stdout",
     "output_type": "stream",
     "text": [
      "\t eval mae: 0.8089\n",
      "\t eval r2: 0.1695\n",
      "==============================\n",
      "Epoch 3 elapsed: 0.107s\n"
     ]
    },
    {
     "name": "stderr",
     "output_type": "stream",
     "text": [
      "eval_pred: 100%|███████████████████████████████| 15/15 [00:00<00:00, 758.26it/s]"
     ]
    },
    {
     "name": "stdout",
     "output_type": "stream",
     "text": [
      "\t eval rmse: 1.0176\n"
     ]
    },
    {
     "name": "stderr",
     "output_type": "stream",
     "text": [
      "\n"
     ]
    },
    {
     "name": "stdout",
     "output_type": "stream",
     "text": [
      "\t eval mae: 0.8065\n",
      "\t eval r2: 0.1709\n",
      "==============================\n",
      "Epoch 4 elapsed: 0.083s\n"
     ]
    },
    {
     "name": "stderr",
     "output_type": "stream",
     "text": [
      "eval_pred: 100%|███████████████████████████████| 15/15 [00:00<00:00, 870.16it/s]"
     ]
    },
    {
     "name": "stdout",
     "output_type": "stream",
     "text": [
      "\t eval rmse: 1.0162\n",
      "\t eval mae: 0.8036\n",
      "\t eval r2: 0.1731\n",
      "==============================\n"
     ]
    },
    {
     "name": "stderr",
     "output_type": "stream",
     "text": [
      "\n"
     ]
    },
    {
     "name": "stdout",
     "output_type": "stream",
     "text": [
      "Epoch 5 elapsed: 0.091s\n"
     ]
    },
    {
     "name": "stderr",
     "output_type": "stream",
     "text": [
      "eval_pred: 100%|███████████████████████████████| 15/15 [00:00<00:00, 939.01it/s]"
     ]
    },
    {
     "name": "stdout",
     "output_type": "stream",
     "text": [
      "\t eval rmse: 1.0145\n",
      "\t eval mae: 0.8008\n",
      "\t eval r2: 0.1758\n",
      "==============================\n"
     ]
    },
    {
     "name": "stderr",
     "output_type": "stream",
     "text": [
      "\n"
     ]
    },
    {
     "name": "stdout",
     "output_type": "stream",
     "text": [
      "Training start time: \u001b[35m2022-07-28 17:11:07\u001b[0m\n",
      "Epoch 1 elapsed: 0.084s\n"
     ]
    },
    {
     "name": "stderr",
     "output_type": "stream",
     "text": [
      "eval_pred: 100%|███████████████████████████████| 15/15 [00:00<00:00, 883.18it/s]"
     ]
    },
    {
     "name": "stdout",
     "output_type": "stream",
     "text": [
      "\t eval rmse: 2.0710\n",
      "\t eval mae: 1.6959\n",
      "\t eval r2: -2.4344\n",
      "==============================\n"
     ]
    },
    {
     "name": "stderr",
     "output_type": "stream",
     "text": [
      "\n"
     ]
    },
    {
     "name": "stdout",
     "output_type": "stream",
     "text": [
      "Epoch 2 elapsed: 0.088s\n"
     ]
    },
    {
     "name": "stderr",
     "output_type": "stream",
     "text": [
      "eval_pred: 100%|███████████████████████████████| 15/15 [00:00<00:00, 861.35it/s]"
     ]
    },
    {
     "name": "stdout",
     "output_type": "stream",
     "text": [
      "\t eval rmse: 1.0193\n",
      "\t eval mae: 0.8095\n",
      "\t eval r2: 0.1680\n",
      "==============================\n"
     ]
    },
    {
     "name": "stderr",
     "output_type": "stream",
     "text": [
      "\n"
     ]
    },
    {
     "name": "stdout",
     "output_type": "stream",
     "text": [
      "Epoch 3 elapsed: 0.083s\n"
     ]
    },
    {
     "name": "stderr",
     "output_type": "stream",
     "text": [
      "eval_pred: 100%|███████████████████████████████| 15/15 [00:00<00:00, 857.42it/s]"
     ]
    },
    {
     "name": "stdout",
     "output_type": "stream",
     "text": [
      "\t eval rmse: 1.0177\n",
      "\t eval mae: 0.8067\n",
      "\t eval r2: 0.1707\n",
      "==============================\n"
     ]
    },
    {
     "name": "stderr",
     "output_type": "stream",
     "text": [
      "\n"
     ]
    },
    {
     "name": "stdout",
     "output_type": "stream",
     "text": [
      "Epoch 4 elapsed: 0.082s\n"
     ]
    },
    {
     "name": "stderr",
     "output_type": "stream",
     "text": [
      "eval_pred: 100%|███████████████████████████████| 15/15 [00:00<00:00, 950.90it/s]"
     ]
    },
    {
     "name": "stdout",
     "output_type": "stream",
     "text": [
      "\t eval rmse: 1.0160\n",
      "\t eval mae: 0.8035\n",
      "\t eval r2: 0.1735\n",
      "==============================\n"
     ]
    },
    {
     "name": "stderr",
     "output_type": "stream",
     "text": [
      "\n"
     ]
    },
    {
     "name": "stdout",
     "output_type": "stream",
     "text": [
      "Epoch 5 elapsed: 0.091s\n"
     ]
    },
    {
     "name": "stderr",
     "output_type": "stream",
     "text": [
      "eval_pred: 100%|███████████████████████████████| 15/15 [00:00<00:00, 911.88it/s]"
     ]
    },
    {
     "name": "stdout",
     "output_type": "stream",
     "text": [
      "\t eval rmse: 1.0140\n",
      "\t eval mae: 0.8005\n"
     ]
    },
    {
     "name": "stderr",
     "output_type": "stream",
     "text": [
      "\n"
     ]
    },
    {
     "name": "stdout",
     "output_type": "stream",
     "text": [
      "\t eval r2: 0.1767\n",
      "==============================\n",
      "Training start time: \u001b[35m2022-07-28 17:11:08\u001b[0m\n",
      "Epoch 1 elapsed: 0.108s\n"
     ]
    },
    {
     "name": "stderr",
     "output_type": "stream",
     "text": [
      "eval_pred: 100%|███████████████████████████████| 15/15 [00:00<00:00, 959.18it/s]"
     ]
    },
    {
     "name": "stdout",
     "output_type": "stream",
     "text": [
      "\t eval rmse: 2.0865\n",
      "\t eval mae: 1.7123\n",
      "\t eval r2: -2.4861\n",
      "==============================\n"
     ]
    },
    {
     "name": "stderr",
     "output_type": "stream",
     "text": [
      "\n"
     ]
    },
    {
     "name": "stdout",
     "output_type": "stream",
     "text": [
      "Epoch 2 elapsed: 0.101s\n"
     ]
    },
    {
     "name": "stderr",
     "output_type": "stream",
     "text": [
      "eval_pred: 100%|███████████████████████████████| 15/15 [00:00<00:00, 874.00it/s]"
     ]
    },
    {
     "name": "stdout",
     "output_type": "stream",
     "text": [
      "\t eval rmse: 1.0196\n",
      "\t eval mae: 0.8099\n"
     ]
    },
    {
     "name": "stderr",
     "output_type": "stream",
     "text": [
      "\n"
     ]
    },
    {
     "name": "stdout",
     "output_type": "stream",
     "text": [
      "\t eval r2: 0.1675\n",
      "==============================\n",
      "Epoch 3 elapsed: 0.109s\n"
     ]
    },
    {
     "name": "stderr",
     "output_type": "stream",
     "text": [
      "eval_pred: 100%|███████████████████████████████| 15/15 [00:00<00:00, 868.30it/s]\n"
     ]
    },
    {
     "name": "stdout",
     "output_type": "stream",
     "text": [
      "\t eval rmse: 1.0169\n",
      "\t eval mae: 0.8065\n",
      "\t eval r2: 0.1720\n",
      "==============================\n",
      "Epoch 4 elapsed: 0.081s\n"
     ]
    },
    {
     "name": "stderr",
     "output_type": "stream",
     "text": [
      "eval_pred: 100%|███████████████████████████████| 15/15 [00:00<00:00, 881.69it/s]"
     ]
    },
    {
     "name": "stdout",
     "output_type": "stream",
     "text": [
      "\t eval rmse: 1.0145\n",
      "\t eval mae: 0.8028\n",
      "\t eval r2: 0.1759\n",
      "==============================\n"
     ]
    },
    {
     "name": "stderr",
     "output_type": "stream",
     "text": [
      "\n"
     ]
    },
    {
     "name": "stdout",
     "output_type": "stream",
     "text": [
      "Epoch 5 elapsed: 0.085s\n"
     ]
    },
    {
     "name": "stderr",
     "output_type": "stream",
     "text": [
      "eval_pred: 100%|███████████████████████████████| 15/15 [00:00<00:00, 842.69it/s]"
     ]
    },
    {
     "name": "stdout",
     "output_type": "stream",
     "text": [
      "\t eval rmse: 1.0120\n",
      "\t eval mae: 0.7994\n",
      "\t eval r2: 0.1799\n",
      "==============================\n"
     ]
    },
    {
     "name": "stderr",
     "output_type": "stream",
     "text": [
      "\n"
     ]
    },
    {
     "name": "stdout",
     "output_type": "stream",
     "text": [
      "Training start time: \u001b[35m2022-07-28 17:11:09\u001b[0m\n",
      "Epoch 1 elapsed: 0.102s\n"
     ]
    },
    {
     "name": "stderr",
     "output_type": "stream",
     "text": [
      "eval_pred: 100%|███████████████████████████████| 15/15 [00:00<00:00, 855.50it/s]"
     ]
    },
    {
     "name": "stdout",
     "output_type": "stream",
     "text": [
      "\t eval rmse: 2.0939\n",
      "\t eval mae: 1.7204\n",
      "\t eval r2: -2.5107\n",
      "==============================\n"
     ]
    },
    {
     "name": "stderr",
     "output_type": "stream",
     "text": [
      "\n"
     ]
    },
    {
     "name": "stdout",
     "output_type": "stream",
     "text": [
      "Epoch 2 elapsed: 0.108s\n"
     ]
    },
    {
     "name": "stderr",
     "output_type": "stream",
     "text": [
      "eval_pred: 100%|███████████████████████████████| 15/15 [00:00<00:00, 701.46it/s]"
     ]
    },
    {
     "name": "stdout",
     "output_type": "stream",
     "text": [
      "\t eval rmse: 1.0186\n"
     ]
    },
    {
     "name": "stderr",
     "output_type": "stream",
     "text": [
      "\n"
     ]
    },
    {
     "name": "stdout",
     "output_type": "stream",
     "text": [
      "\t eval mae: 0.8100\n",
      "\t eval r2: 0.1691\n",
      "==============================\n",
      "Epoch 3 elapsed: 0.101s\n"
     ]
    },
    {
     "name": "stderr",
     "output_type": "stream",
     "text": [
      "eval_pred: 100%|███████████████████████████████| 15/15 [00:00<00:00, 975.13it/s]"
     ]
    },
    {
     "name": "stdout",
     "output_type": "stream",
     "text": [
      "\t eval rmse: 1.0151\n"
     ]
    },
    {
     "name": "stderr",
     "output_type": "stream",
     "text": [
      "\n"
     ]
    },
    {
     "name": "stdout",
     "output_type": "stream",
     "text": [
      "\t eval mae: 0.8060\n",
      "\t eval r2: 0.1750\n",
      "==============================\n",
      "Epoch 4 elapsed: 0.085s\n"
     ]
    },
    {
     "name": "stderr",
     "output_type": "stream",
     "text": [
      "eval_pred: 100%|███████████████████████████████| 15/15 [00:00<00:00, 502.24it/s]"
     ]
    },
    {
     "name": "stdout",
     "output_type": "stream",
     "text": [
      "\t eval rmse: 1.0121\n"
     ]
    },
    {
     "name": "stderr",
     "output_type": "stream",
     "text": [
      "\n"
     ]
    },
    {
     "name": "stdout",
     "output_type": "stream",
     "text": [
      "\t eval mae: 0.8019\n",
      "\t eval r2: 0.1797\n",
      "==============================\n",
      "Epoch 5 elapsed: 0.114s\n"
     ]
    },
    {
     "name": "stderr",
     "output_type": "stream",
     "text": [
      "eval_pred: 100%|███████████████████████████████| 15/15 [00:00<00:00, 868.70it/s]\n"
     ]
    },
    {
     "name": "stdout",
     "output_type": "stream",
     "text": [
      "\t eval rmse: 1.0093\n",
      "\t eval mae: 0.7983\n",
      "\t eval r2: 0.1843\n",
      "==============================\n",
      "Training start time: \u001b[35m2022-07-28 17:11:10\u001b[0m\n",
      "Epoch 1 elapsed: 0.101s\n"
     ]
    },
    {
     "name": "stderr",
     "output_type": "stream",
     "text": [
      "eval_pred: 100%|███████████████████████████████| 15/15 [00:00<00:00, 856.39it/s]"
     ]
    },
    {
     "name": "stdout",
     "output_type": "stream",
     "text": [
      "\t eval rmse: 1.8343\n",
      "\t eval mae: 1.4776\n",
      "\t eval r2: -1.6942\n",
      "==============================\n"
     ]
    },
    {
     "name": "stderr",
     "output_type": "stream",
     "text": [
      "\n"
     ]
    },
    {
     "name": "stdout",
     "output_type": "stream",
     "text": [
      "Epoch 2 elapsed: 0.150s\n"
     ]
    },
    {
     "name": "stderr",
     "output_type": "stream",
     "text": [
      "eval_pred: 100%|███████████████████████████████| 15/15 [00:00<00:00, 801.19it/s]\n"
     ]
    },
    {
     "name": "stdout",
     "output_type": "stream",
     "text": [
      "\t eval rmse: 1.0275\n",
      "\t eval mae: 0.8179\n",
      "\t eval r2: 0.1546\n",
      "==============================\n",
      "Epoch 3 elapsed: 0.110s\n"
     ]
    },
    {
     "name": "stderr",
     "output_type": "stream",
     "text": [
      "eval_pred: 100%|███████████████████████████████| 15/15 [00:00<00:00, 706.37it/s]"
     ]
    },
    {
     "name": "stdout",
     "output_type": "stream",
     "text": [
      "\t eval rmse: 1.0263\n"
     ]
    },
    {
     "name": "stderr",
     "output_type": "stream",
     "text": [
      "\n"
     ]
    },
    {
     "name": "stdout",
     "output_type": "stream",
     "text": [
      "\t eval mae: 0.8101\n",
      "\t eval r2: 0.1566\n",
      "==============================\n",
      "Epoch 4 elapsed: 0.105s\n"
     ]
    },
    {
     "name": "stderr",
     "output_type": "stream",
     "text": [
      "eval_pred: 100%|███████████████████████████████| 15/15 [00:00<00:00, 790.23it/s]\n"
     ]
    },
    {
     "name": "stdout",
     "output_type": "stream",
     "text": [
      "\t eval rmse: 1.0260\n",
      "\t eval mae: 0.8071\n",
      "\t eval r2: 0.1571\n",
      "==============================\n",
      "Epoch 5 elapsed: 0.117s\n"
     ]
    },
    {
     "name": "stderr",
     "output_type": "stream",
     "text": [
      "eval_pred: 100%|███████████████████████████████| 15/15 [00:00<00:00, 872.24it/s]\n"
     ]
    },
    {
     "name": "stdout",
     "output_type": "stream",
     "text": [
      "\t eval rmse: 1.0261\n",
      "\t eval mae: 0.8059\n",
      "\t eval r2: 0.1569\n",
      "==============================\n",
      "Training start time: \u001b[35m2022-07-28 17:11:11\u001b[0m\n",
      "Epoch 1 elapsed: 0.105s\n"
     ]
    },
    {
     "name": "stderr",
     "output_type": "stream",
     "text": [
      "eval_pred: 100%|███████████████████████████████| 15/15 [00:00<00:00, 715.10it/s]"
     ]
    },
    {
     "name": "stdout",
     "output_type": "stream",
     "text": [
      "\t eval rmse: 1.8103\n",
      "\t eval mae: 1.4470\n",
      "\t eval r2: -1.6241\n",
      "==============================\n"
     ]
    },
    {
     "name": "stderr",
     "output_type": "stream",
     "text": [
      "\n"
     ]
    },
    {
     "name": "stdout",
     "output_type": "stream",
     "text": [
      "Epoch 2 elapsed: 0.108s\n"
     ]
    },
    {
     "name": "stderr",
     "output_type": "stream",
     "text": [
      "eval_pred: 100%|███████████████████████████████| 15/15 [00:00<00:00, 760.90it/s]\n"
     ]
    },
    {
     "name": "stdout",
     "output_type": "stream",
     "text": [
      "\t eval rmse: 1.0229\n",
      "\t eval mae: 0.8126\n",
      "\t eval r2: 0.1621\n",
      "==============================\n",
      "Epoch 3 elapsed: 0.110s\n"
     ]
    },
    {
     "name": "stderr",
     "output_type": "stream",
     "text": [
      "eval_pred: 100%|███████████████████████████████| 15/15 [00:00<00:00, 889.23it/s]\n"
     ]
    },
    {
     "name": "stdout",
     "output_type": "stream",
     "text": [
      "\t eval rmse: 1.0249\n",
      "\t eval mae: 0.8086\n",
      "\t eval r2: 0.1589\n",
      "==============================\n",
      "Epoch 4 elapsed: 0.129s\n"
     ]
    },
    {
     "name": "stderr",
     "output_type": "stream",
     "text": [
      "eval_pred: 100%|███████████████████████████████| 15/15 [00:00<00:00, 823.14it/s]\n"
     ]
    },
    {
     "name": "stdout",
     "output_type": "stream",
     "text": [
      "\t eval rmse: 1.0248\n",
      "\t eval mae: 0.8061\n",
      "\t eval r2: 0.1591\n",
      "==============================\n",
      "Epoch 5 elapsed: 0.102s\n"
     ]
    },
    {
     "name": "stderr",
     "output_type": "stream",
     "text": [
      "eval_pred: 100%|███████████████████████████████| 15/15 [00:00<00:00, 839.35it/s]"
     ]
    },
    {
     "name": "stdout",
     "output_type": "stream",
     "text": [
      "\t eval rmse: 1.0248\n"
     ]
    },
    {
     "name": "stderr",
     "output_type": "stream",
     "text": [
      "\n"
     ]
    },
    {
     "name": "stdout",
     "output_type": "stream",
     "text": [
      "\t eval mae: 0.8049\n",
      "\t eval r2: 0.1590\n",
      "==============================\n",
      "Training start time: \u001b[35m2022-07-28 17:11:12\u001b[0m\n",
      "Epoch 1 elapsed: 0.121s\n"
     ]
    },
    {
     "name": "stderr",
     "output_type": "stream",
     "text": [
      "eval_pred: 100%|███████████████████████████████| 15/15 [00:00<00:00, 889.65it/s]"
     ]
    },
    {
     "name": "stdout",
     "output_type": "stream",
     "text": [
      "\t eval rmse: 1.8305\n",
      "\t eval mae: 1.4635\n",
      "\t eval r2: -1.6830\n",
      "==============================\n"
     ]
    },
    {
     "name": "stderr",
     "output_type": "stream",
     "text": [
      "\n"
     ]
    },
    {
     "name": "stdout",
     "output_type": "stream",
     "text": [
      "Epoch 2 elapsed: 0.099s\n"
     ]
    },
    {
     "name": "stderr",
     "output_type": "stream",
     "text": [
      "eval_pred: 100%|███████████████████████████████| 15/15 [00:00<00:00, 909.88it/s]"
     ]
    },
    {
     "name": "stdout",
     "output_type": "stream",
     "text": [
      "\t eval rmse: 1.0224\n"
     ]
    },
    {
     "name": "stderr",
     "output_type": "stream",
     "text": [
      "\n"
     ]
    },
    {
     "name": "stdout",
     "output_type": "stream",
     "text": [
      "\t eval mae: 0.8115\n",
      "\t eval r2: 0.1630\n",
      "==============================\n",
      "Epoch 3 elapsed: 0.116s\n"
     ]
    },
    {
     "name": "stderr",
     "output_type": "stream",
     "text": [
      "eval_pred: 100%|███████████████████████████████| 15/15 [00:00<00:00, 800.09it/s]\n"
     ]
    },
    {
     "name": "stdout",
     "output_type": "stream",
     "text": [
      "\t eval rmse: 1.0247\n",
      "\t eval mae: 0.8084\n",
      "\t eval r2: 0.1592\n",
      "==============================\n",
      "Epoch 4 elapsed: 0.099s\n"
     ]
    },
    {
     "name": "stderr",
     "output_type": "stream",
     "text": [
      "eval_pred: 100%|███████████████████████████████| 15/15 [00:00<00:00, 927.11it/s]"
     ]
    },
    {
     "name": "stdout",
     "output_type": "stream",
     "text": [
      "\t eval rmse: 1.0247\n",
      "\t eval mae: 0.8062\n"
     ]
    },
    {
     "name": "stderr",
     "output_type": "stream",
     "text": [
      "\n"
     ]
    },
    {
     "name": "stdout",
     "output_type": "stream",
     "text": [
      "\t eval r2: 0.1592\n",
      "==============================\n",
      "Epoch 5 elapsed: 0.111s\n"
     ]
    },
    {
     "name": "stderr",
     "output_type": "stream",
     "text": [
      "eval_pred: 100%|███████████████████████████████| 15/15 [00:00<00:00, 831.05it/s]"
     ]
    },
    {
     "name": "stdout",
     "output_type": "stream",
     "text": [
      "\t eval rmse: 1.0246\n"
     ]
    },
    {
     "name": "stderr",
     "output_type": "stream",
     "text": [
      "\n"
     ]
    },
    {
     "name": "stdout",
     "output_type": "stream",
     "text": [
      "\t eval mae: 0.8048\n",
      "\t eval r2: 0.1593\n",
      "==============================\n",
      "Training start time: \u001b[35m2022-07-28 17:11:13\u001b[0m\n",
      "Epoch 1 elapsed: 0.176s\n"
     ]
    },
    {
     "name": "stderr",
     "output_type": "stream",
     "text": [
      "eval_pred: 100%|███████████████████████████████| 15/15 [00:00<00:00, 896.00it/s]\n"
     ]
    },
    {
     "name": "stdout",
     "output_type": "stream",
     "text": [
      "\t eval rmse: 1.8927\n",
      "\t eval mae: 1.5222\n",
      "\t eval r2: -1.8686\n",
      "==============================\n",
      "Epoch 2 elapsed: 0.108s\n"
     ]
    },
    {
     "name": "stderr",
     "output_type": "stream",
     "text": [
      "eval_pred: 100%|███████████████████████████████| 15/15 [00:00<00:00, 793.13it/s]"
     ]
    },
    {
     "name": "stdout",
     "output_type": "stream",
     "text": [
      "\t eval rmse: 1.0229\n"
     ]
    },
    {
     "name": "stderr",
     "output_type": "stream",
     "text": [
      "\n"
     ]
    },
    {
     "name": "stdout",
     "output_type": "stream",
     "text": [
      "\t eval mae: 0.8109\n",
      "\t eval r2: 0.1622\n",
      "==============================\n",
      "Epoch 3 elapsed: 0.114s\n"
     ]
    },
    {
     "name": "stderr",
     "output_type": "stream",
     "text": [
      "eval_pred: 100%|███████████████████████████████| 15/15 [00:00<00:00, 810.50it/s]\n"
     ]
    },
    {
     "name": "stdout",
     "output_type": "stream",
     "text": [
      "\t eval rmse: 1.0244\n",
      "\t eval mae: 0.8082\n",
      "\t eval r2: 0.1597\n",
      "==============================\n",
      "Epoch 4 elapsed: 0.124s\n"
     ]
    },
    {
     "name": "stderr",
     "output_type": "stream",
     "text": [
      "eval_pred: 100%|███████████████████████████████| 15/15 [00:00<00:00, 884.80it/s]\n"
     ]
    },
    {
     "name": "stdout",
     "output_type": "stream",
     "text": [
      "\t eval rmse: 1.0245\n",
      "\t eval mae: 0.8062\n",
      "\t eval r2: 0.1595\n",
      "==============================\n",
      "Epoch 5 elapsed: 0.153s\n"
     ]
    },
    {
     "name": "stderr",
     "output_type": "stream",
     "text": [
      "eval_pred: 100%|███████████████████████████████| 15/15 [00:00<00:00, 777.89it/s]"
     ]
    },
    {
     "name": "stdout",
     "output_type": "stream",
     "text": [
      "\t eval rmse: 1.0244\n",
      "\t eval mae: 0.8048\n",
      "\t eval r2: 0.1598\n",
      "==============================\n",
      "Training start time: \u001b[35m2022-07-28 17:11:14\u001b[0m\n"
     ]
    },
    {
     "name": "stderr",
     "output_type": "stream",
     "text": [
      "\n"
     ]
    },
    {
     "name": "stdout",
     "output_type": "stream",
     "text": [
      "Epoch 1 elapsed: 0.119s\n"
     ]
    },
    {
     "name": "stderr",
     "output_type": "stream",
     "text": [
      "eval_pred: 100%|███████████████████████████████| 15/15 [00:00<00:00, 956.99it/s]\n"
     ]
    },
    {
     "name": "stdout",
     "output_type": "stream",
     "text": [
      "\t eval rmse: 1.9218\n",
      "\t eval mae: 1.5509\n",
      "\t eval r2: -1.9574\n",
      "==============================\n",
      "Epoch 2 elapsed: 0.101s\n"
     ]
    },
    {
     "name": "stderr",
     "output_type": "stream",
     "text": [
      "eval_pred: 100%|███████████████████████████████| 15/15 [00:00<00:00, 722.08it/s]"
     ]
    },
    {
     "name": "stdout",
     "output_type": "stream",
     "text": [
      "\t eval rmse: 1.0237\n"
     ]
    },
    {
     "name": "stderr",
     "output_type": "stream",
     "text": [
      "\n"
     ]
    },
    {
     "name": "stdout",
     "output_type": "stream",
     "text": [
      "\t eval mae: 0.8112\n",
      "\t eval r2: 0.1608\n",
      "==============================\n",
      "Epoch 3 elapsed: 0.118s\n"
     ]
    },
    {
     "name": "stderr",
     "output_type": "stream",
     "text": [
      "eval_pred: 100%|███████████████████████████████| 15/15 [00:00<00:00, 781.91it/s]\n"
     ]
    },
    {
     "name": "stdout",
     "output_type": "stream",
     "text": [
      "\t eval rmse: 1.0245\n",
      "\t eval mae: 0.8083\n",
      "\t eval r2: 0.1596\n",
      "==============================\n",
      "Epoch 4 elapsed: 0.109s\n"
     ]
    },
    {
     "name": "stderr",
     "output_type": "stream",
     "text": [
      "eval_pred: 100%|███████████████████████████████| 15/15 [00:00<00:00, 665.09it/s]\n"
     ]
    },
    {
     "name": "stdout",
     "output_type": "stream",
     "text": [
      "\t eval rmse: 1.0245\n",
      "\t eval mae: 0.8062\n",
      "\t eval r2: 0.1595\n",
      "==============================\n",
      "Epoch 5 elapsed: 0.109s\n"
     ]
    },
    {
     "name": "stderr",
     "output_type": "stream",
     "text": [
      "eval_pred: 100%|███████████████████████████████| 15/15 [00:00<00:00, 769.59it/s]\n"
     ]
    },
    {
     "name": "stdout",
     "output_type": "stream",
     "text": [
      "\t eval rmse: 1.0243\n",
      "\t eval mae: 0.8049\n",
      "\t eval r2: 0.1599\n",
      "==============================\n",
      "Training start time: \u001b[35m2022-07-28 17:11:15\u001b[0m\n",
      "Epoch 1 elapsed: 0.106s\n"
     ]
    },
    {
     "name": "stderr",
     "output_type": "stream",
     "text": [
      "eval_pred: 100%|███████████████████████████████| 15/15 [00:00<00:00, 837.19it/s]"
     ]
    },
    {
     "name": "stdout",
     "output_type": "stream",
     "text": [
      "\t eval rmse: 1.9525\n",
      "\t eval mae: 1.5815\n",
      "\t eval r2: -2.0525\n",
      "==============================\n"
     ]
    },
    {
     "name": "stderr",
     "output_type": "stream",
     "text": [
      "\n"
     ]
    },
    {
     "name": "stdout",
     "output_type": "stream",
     "text": [
      "Epoch 2 elapsed: 0.108s\n"
     ]
    },
    {
     "name": "stderr",
     "output_type": "stream",
     "text": [
      "eval_pred: 100%|███████████████████████████████| 15/15 [00:00<00:00, 671.83it/s]\n"
     ]
    },
    {
     "name": "stdout",
     "output_type": "stream",
     "text": [
      "\t eval rmse: 1.0252\n",
      "\t eval mae: 0.8119\n",
      "\t eval r2: 0.1585\n",
      "==============================\n",
      "Epoch 3 elapsed: 0.115s\n"
     ]
    },
    {
     "name": "stderr",
     "output_type": "stream",
     "text": [
      "eval_pred: 100%|███████████████████████████████| 15/15 [00:00<00:00, 841.96it/s]\n"
     ]
    },
    {
     "name": "stdout",
     "output_type": "stream",
     "text": [
      "\t eval rmse: 1.0247\n",
      "\t eval mae: 0.8085\n",
      "\t eval r2: 0.1592\n",
      "==============================\n",
      "Epoch 4 elapsed: 0.113s\n"
     ]
    },
    {
     "name": "stderr",
     "output_type": "stream",
     "text": [
      "eval_pred: 100%|███████████████████████████████| 15/15 [00:00<00:00, 900.93it/s]\n"
     ]
    },
    {
     "name": "stdout",
     "output_type": "stream",
     "text": [
      "\t eval rmse: 1.0244\n",
      "\t eval mae: 0.8062\n",
      "\t eval r2: 0.1597\n",
      "==============================\n",
      "Epoch 5 elapsed: 0.106s\n"
     ]
    },
    {
     "name": "stderr",
     "output_type": "stream",
     "text": [
      "eval_pred: 100%|███████████████████████████████| 15/15 [00:00<00:00, 810.94it/s]\n"
     ]
    },
    {
     "name": "stdout",
     "output_type": "stream",
     "text": [
      "\t eval rmse: 1.0239\n",
      "\t eval mae: 0.8047\n",
      "\t eval r2: 0.1605\n",
      "==============================\n",
      "Training start time: \u001b[35m2022-07-28 17:11:16\u001b[0m\n",
      "Epoch 1 elapsed: 0.101s\n"
     ]
    },
    {
     "name": "stderr",
     "output_type": "stream",
     "text": [
      "eval_pred: 100%|███████████████████████████████| 15/15 [00:00<00:00, 886.55it/s]"
     ]
    },
    {
     "name": "stdout",
     "output_type": "stream",
     "text": [
      "\t eval rmse: 1.9724\n",
      "\t eval mae: 1.6018\n",
      "\t eval r2: -2.1152\n",
      "==============================\n"
     ]
    },
    {
     "name": "stderr",
     "output_type": "stream",
     "text": [
      "\n"
     ]
    },
    {
     "name": "stdout",
     "output_type": "stream",
     "text": [
      "Epoch 2 elapsed: 0.108s\n"
     ]
    },
    {
     "name": "stderr",
     "output_type": "stream",
     "text": [
      "eval_pred: 100%|███████████████████████████████| 15/15 [00:00<00:00, 782.55it/s]"
     ]
    },
    {
     "name": "stdout",
     "output_type": "stream",
     "text": [
      "\t eval rmse: 1.0259\n"
     ]
    },
    {
     "name": "stderr",
     "output_type": "stream",
     "text": [
      "\n"
     ]
    },
    {
     "name": "stdout",
     "output_type": "stream",
     "text": [
      "\t eval mae: 0.8125\n",
      "\t eval r2: 0.1572\n",
      "==============================\n",
      "Epoch 3 elapsed: 0.114s\n"
     ]
    },
    {
     "name": "stderr",
     "output_type": "stream",
     "text": [
      "eval_pred: 100%|███████████████████████████████| 15/15 [00:00<00:00, 906.69it/s]\n"
     ]
    },
    {
     "name": "stdout",
     "output_type": "stream",
     "text": [
      "\t eval rmse: 1.0238\n",
      "\t eval mae: 0.8082\n",
      "\t eval r2: 0.1607\n",
      "==============================\n",
      "Epoch 4 elapsed: 0.099s\n"
     ]
    },
    {
     "name": "stderr",
     "output_type": "stream",
     "text": [
      "eval_pred: 100%|███████████████████████████████| 15/15 [00:00<00:00, 933.59it/s]"
     ]
    },
    {
     "name": "stdout",
     "output_type": "stream",
     "text": [
      "\t eval rmse: 1.0226\n",
      "\t eval mae: 0.8053\n"
     ]
    },
    {
     "name": "stderr",
     "output_type": "stream",
     "text": [
      "\n"
     ]
    },
    {
     "name": "stdout",
     "output_type": "stream",
     "text": [
      "\t eval r2: 0.1626\n",
      "==============================\n",
      "Epoch 5 elapsed: 0.103s\n"
     ]
    },
    {
     "name": "stderr",
     "output_type": "stream",
     "text": [
      "eval_pred: 100%|███████████████████████████████| 15/15 [00:00<00:00, 797.06it/s]"
     ]
    },
    {
     "name": "stdout",
     "output_type": "stream",
     "text": [
      "\t eval rmse: 1.0216\n"
     ]
    },
    {
     "name": "stderr",
     "output_type": "stream",
     "text": [
      "\n"
     ]
    },
    {
     "name": "stdout",
     "output_type": "stream",
     "text": [
      "\t eval mae: 0.8033\n",
      "\t eval r2: 0.1644\n",
      "==============================\n",
      "Training start time: \u001b[35m2022-07-28 17:11:17\u001b[0m\n",
      "Epoch 1 elapsed: 0.105s\n"
     ]
    },
    {
     "name": "stderr",
     "output_type": "stream",
     "text": [
      "eval_pred: 100%|███████████████████████████████| 15/15 [00:00<00:00, 882.16it/s]"
     ]
    },
    {
     "name": "stdout",
     "output_type": "stream",
     "text": [
      "\t eval rmse: 1.9808\n",
      "\t eval mae: 1.6106\n",
      "\t eval r2: -2.1418\n",
      "==============================\n"
     ]
    },
    {
     "name": "stderr",
     "output_type": "stream",
     "text": [
      "\n"
     ]
    },
    {
     "name": "stdout",
     "output_type": "stream",
     "text": [
      "Epoch 2 elapsed: 0.102s\n"
     ]
    },
    {
     "name": "stderr",
     "output_type": "stream",
     "text": [
      "eval_pred: 100%|███████████████████████████████| 15/15 [00:00<00:00, 896.17it/s]"
     ]
    },
    {
     "name": "stdout",
     "output_type": "stream",
     "text": [
      "\t eval rmse: 1.0249\n"
     ]
    },
    {
     "name": "stderr",
     "output_type": "stream",
     "text": [
      "\n"
     ]
    },
    {
     "name": "stdout",
     "output_type": "stream",
     "text": [
      "\t eval mae: 0.8122\n",
      "\t eval r2: 0.1589\n",
      "==============================\n",
      "Epoch 3 elapsed: 0.101s\n"
     ]
    },
    {
     "name": "stderr",
     "output_type": "stream",
     "text": [
      "eval_pred: 100%|███████████████████████████████| 15/15 [00:00<00:00, 915.51it/s]"
     ]
    },
    {
     "name": "stdout",
     "output_type": "stream",
     "text": [
      "\t eval rmse: 1.0214\n",
      "\t eval mae: 0.8071\n"
     ]
    },
    {
     "name": "stderr",
     "output_type": "stream",
     "text": [
      "\n"
     ]
    },
    {
     "name": "stdout",
     "output_type": "stream",
     "text": [
      "\t eval r2: 0.1647\n",
      "==============================\n",
      "Epoch 4 elapsed: 0.120s\n"
     ]
    },
    {
     "name": "stderr",
     "output_type": "stream",
     "text": [
      "eval_pred: 100%|███████████████████████████████| 15/15 [00:00<00:00, 807.14it/s]\n"
     ]
    },
    {
     "name": "stdout",
     "output_type": "stream",
     "text": [
      "\t eval rmse: 1.0195\n",
      "\t eval mae: 0.8037\n",
      "\t eval r2: 0.1677\n",
      "==============================\n",
      "Epoch 5 elapsed: 0.128s\n"
     ]
    },
    {
     "name": "stderr",
     "output_type": "stream",
     "text": [
      "eval_pred: 100%|███████████████████████████████| 15/15 [00:00<00:00, 704.35it/s]\n"
     ]
    },
    {
     "name": "stdout",
     "output_type": "stream",
     "text": [
      "\t eval rmse: 1.0181\n",
      "\t eval mae: 0.8016\n",
      "\t eval r2: 0.1700\n",
      "==============================\n",
      "Training start time: \u001b[35m2022-07-28 17:11:17\u001b[0m\n",
      "Epoch 1 elapsed: 0.158s\n"
     ]
    },
    {
     "name": "stderr",
     "output_type": "stream",
     "text": [
      "eval_pred: 100%|███████████████████████████████| 15/15 [00:00<00:00, 774.07it/s]"
     ]
    },
    {
     "name": "stdout",
     "output_type": "stream",
     "text": [
      "\t eval rmse: 1.9020\n",
      "\t eval mae: 1.5420\n",
      "\t eval r2: -1.8967\n",
      "==============================\n"
     ]
    },
    {
     "name": "stderr",
     "output_type": "stream",
     "text": [
      "\n"
     ]
    },
    {
     "name": "stdout",
     "output_type": "stream",
     "text": [
      "Epoch 2 elapsed: 0.177s\n"
     ]
    },
    {
     "name": "stderr",
     "output_type": "stream",
     "text": [
      "eval_pred: 100%|███████████████████████████████| 15/15 [00:00<00:00, 786.90it/s]"
     ]
    },
    {
     "name": "stdout",
     "output_type": "stream",
     "text": [
      "\t eval rmse: 1.0290\n",
      "\t eval mae: 0.8162\n",
      "\t eval r2: 0.1521\n",
      "==============================\n"
     ]
    },
    {
     "name": "stderr",
     "output_type": "stream",
     "text": [
      "\n"
     ]
    },
    {
     "name": "stdout",
     "output_type": "stream",
     "text": [
      "Epoch 3 elapsed: 0.154s\n"
     ]
    },
    {
     "name": "stderr",
     "output_type": "stream",
     "text": [
      "eval_pred: 100%|███████████████████████████████| 15/15 [00:00<00:00, 553.39it/s]"
     ]
    },
    {
     "name": "stdout",
     "output_type": "stream",
     "text": [
      "\t eval rmse: 1.0325\n",
      "\t eval mae: 0.8128\n",
      "\t eval r2: 0.1464\n",
      "==============================\n"
     ]
    },
    {
     "name": "stderr",
     "output_type": "stream",
     "text": [
      "\n"
     ]
    },
    {
     "name": "stdout",
     "output_type": "stream",
     "text": [
      "Epoch 4 elapsed: 0.166s\n"
     ]
    },
    {
     "name": "stderr",
     "output_type": "stream",
     "text": [
      "eval_pred: 100%|███████████████████████████████| 15/15 [00:00<00:00, 803.99it/s]\n"
     ]
    },
    {
     "name": "stdout",
     "output_type": "stream",
     "text": [
      "\t eval rmse: 1.0350\n",
      "\t eval mae: 0.8123\n",
      "\t eval r2: 0.1422\n",
      "==============================\n",
      "Epoch 5 elapsed: 0.126s\n"
     ]
    },
    {
     "name": "stderr",
     "output_type": "stream",
     "text": [
      "eval_pred: 100%|███████████████████████████████| 15/15 [00:00<00:00, 735.35it/s]\n"
     ]
    },
    {
     "name": "stdout",
     "output_type": "stream",
     "text": [
      "\t eval rmse: 1.0368\n",
      "\t eval mae: 0.8124\n",
      "\t eval r2: 0.1392\n",
      "==============================\n",
      "Training start time: \u001b[35m2022-07-28 17:11:19\u001b[0m\n",
      "Epoch 1 elapsed: 0.159s\n"
     ]
    },
    {
     "name": "stderr",
     "output_type": "stream",
     "text": [
      "eval_pred: 100%|███████████████████████████████| 15/15 [00:00<00:00, 776.21it/s]"
     ]
    },
    {
     "name": "stdout",
     "output_type": "stream",
     "text": [
      "\t eval rmse: 1.8666\n",
      "\t eval mae: 1.4995\n",
      "\t eval r2: -1.7900\n",
      "==============================\n"
     ]
    },
    {
     "name": "stderr",
     "output_type": "stream",
     "text": [
      "\n"
     ]
    },
    {
     "name": "stdout",
     "output_type": "stream",
     "text": [
      "Epoch 2 elapsed: 0.183s\n"
     ]
    },
    {
     "name": "stderr",
     "output_type": "stream",
     "text": [
      "eval_pred: 100%|███████████████████████████████| 15/15 [00:00<00:00, 756.41it/s]\n"
     ]
    },
    {
     "name": "stdout",
     "output_type": "stream",
     "text": [
      "\t eval rmse: 1.0239\n",
      "\t eval mae: 0.8109\n",
      "\t eval r2: 0.1605\n",
      "==============================\n",
      "Epoch 3 elapsed: 0.124s\n"
     ]
    },
    {
     "name": "stderr",
     "output_type": "stream",
     "text": [
      "eval_pred: 100%|███████████████████████████████| 15/15 [00:00<00:00, 757.66it/s]\n"
     ]
    },
    {
     "name": "stdout",
     "output_type": "stream",
     "text": [
      "\t eval rmse: 1.0306\n",
      "\t eval mae: 0.8107\n",
      "\t eval r2: 0.1496\n",
      "==============================\n",
      "Epoch 4 elapsed: 0.141s\n"
     ]
    },
    {
     "name": "stderr",
     "output_type": "stream",
     "text": [
      "eval_pred: 100%|███████████████████████████████| 15/15 [00:00<00:00, 847.52it/s]\n"
     ]
    },
    {
     "name": "stdout",
     "output_type": "stream",
     "text": [
      "\t eval rmse: 1.0332\n",
      "\t eval mae: 0.8106\n",
      "\t eval r2: 0.1452\n",
      "==============================\n",
      "Epoch 5 elapsed: 0.138s\n"
     ]
    },
    {
     "name": "stderr",
     "output_type": "stream",
     "text": [
      "eval_pred: 100%|███████████████████████████████| 15/15 [00:00<00:00, 860.91it/s]\n"
     ]
    },
    {
     "name": "stdout",
     "output_type": "stream",
     "text": [
      "\t eval rmse: 1.0351\n",
      "\t eval mae: 0.8108\n",
      "\t eval r2: 0.1420\n",
      "==============================\n",
      "Training start time: \u001b[35m2022-07-28 17:11:20\u001b[0m\n",
      "Epoch 1 elapsed: 0.142s\n"
     ]
    },
    {
     "name": "stderr",
     "output_type": "stream",
     "text": [
      "eval_pred: 100%|███████████████████████████████| 15/15 [00:00<00:00, 794.87it/s]\n"
     ]
    },
    {
     "name": "stdout",
     "output_type": "stream",
     "text": [
      "\t eval rmse: 1.8790\n",
      "\t eval mae: 1.5077\n",
      "\t eval r2: -1.8270\n",
      "==============================\n",
      "Epoch 2 elapsed: 0.127s\n"
     ]
    },
    {
     "name": "stderr",
     "output_type": "stream",
     "text": [
      "eval_pred: 100%|███████████████████████████████| 15/15 [00:00<00:00, 760.43it/s]\n"
     ]
    },
    {
     "name": "stdout",
     "output_type": "stream",
     "text": [
      "\t eval rmse: 1.0236\n",
      "\t eval mae: 0.8102\n",
      "\t eval r2: 0.1610\n",
      "==============================\n",
      "Epoch 3 elapsed: 0.127s\n"
     ]
    },
    {
     "name": "stderr",
     "output_type": "stream",
     "text": [
      "eval_pred: 100%|███████████████████████████████| 15/15 [00:00<00:00, 801.54it/s]\n"
     ]
    },
    {
     "name": "stdout",
     "output_type": "stream",
     "text": [
      "\t eval rmse: 1.0305\n",
      "\t eval mae: 0.8105\n",
      "\t eval r2: 0.1497\n",
      "==============================\n",
      "Epoch 4 elapsed: 0.132s\n"
     ]
    },
    {
     "name": "stderr",
     "output_type": "stream",
     "text": [
      "eval_pred: 100%|███████████████████████████████| 15/15 [00:00<00:00, 788.86it/s]\n"
     ]
    },
    {
     "name": "stdout",
     "output_type": "stream",
     "text": [
      "\t eval rmse: 1.0329\n",
      "\t eval mae: 0.8102\n",
      "\t eval r2: 0.1456\n",
      "==============================\n",
      "Epoch 5 elapsed: 0.152s\n"
     ]
    },
    {
     "name": "stderr",
     "output_type": "stream",
     "text": [
      "eval_pred: 100%|███████████████████████████████| 15/15 [00:00<00:00, 880.08it/s]"
     ]
    },
    {
     "name": "stdout",
     "output_type": "stream",
     "text": [
      "\t eval rmse: 1.0346\n",
      "\t eval mae: 0.8101\n",
      "\t eval r2: 0.1428\n",
      "==============================\n",
      "Training start time: \u001b[35m2022-07-28 17:11:21\u001b[0m\n"
     ]
    },
    {
     "name": "stderr",
     "output_type": "stream",
     "text": [
      "\n"
     ]
    },
    {
     "name": "stdout",
     "output_type": "stream",
     "text": [
      "Epoch 1 elapsed: 0.158s\n"
     ]
    },
    {
     "name": "stderr",
     "output_type": "stream",
     "text": [
      "eval_pred: 100%|███████████████████████████████| 15/15 [00:00<00:00, 645.14it/s]\n"
     ]
    },
    {
     "name": "stdout",
     "output_type": "stream",
     "text": [
      "\t eval rmse: 1.9298\n",
      "\t eval mae: 1.5547\n",
      "\t eval r2: -1.9822\n",
      "==============================\n",
      "Epoch 2 elapsed: 0.133s\n"
     ]
    },
    {
     "name": "stderr",
     "output_type": "stream",
     "text": [
      "eval_pred: 100%|███████████████████████████████| 15/15 [00:00<00:00, 807.31it/s]\n"
     ]
    },
    {
     "name": "stdout",
     "output_type": "stream",
     "text": [
      "\t eval rmse: 1.0248\n",
      "\t eval mae: 0.8103\n",
      "\t eval r2: 0.1590\n",
      "==============================\n",
      "Epoch 3 elapsed: 0.131s\n"
     ]
    },
    {
     "name": "stderr",
     "output_type": "stream",
     "text": [
      "eval_pred: 100%|███████████████████████████████| 15/15 [00:00<00:00, 710.87it/s]\n"
     ]
    },
    {
     "name": "stdout",
     "output_type": "stream",
     "text": [
      "\t eval rmse: 1.0304\n",
      "\t eval mae: 0.8101\n",
      "\t eval r2: 0.1499\n",
      "==============================\n",
      "Epoch 4 elapsed: 0.160s\n"
     ]
    },
    {
     "name": "stderr",
     "output_type": "stream",
     "text": [
      "eval_pred: 100%|███████████████████████████████| 15/15 [00:00<00:00, 816.45it/s]"
     ]
    },
    {
     "name": "stdout",
     "output_type": "stream",
     "text": [
      "\t eval rmse: 1.0324\n"
     ]
    },
    {
     "name": "stderr",
     "output_type": "stream",
     "text": [
      "\n"
     ]
    },
    {
     "name": "stdout",
     "output_type": "stream",
     "text": [
      "\t eval mae: 0.8094\n",
      "\t eval r2: 0.1466\n",
      "==============================\n",
      "Epoch 5 elapsed: 0.143s\n"
     ]
    },
    {
     "name": "stderr",
     "output_type": "stream",
     "text": [
      "eval_pred: 100%|███████████████████████████████| 15/15 [00:00<00:00, 802.79it/s]\n"
     ]
    },
    {
     "name": "stdout",
     "output_type": "stream",
     "text": [
      "\t eval rmse: 1.0337\n",
      "\t eval mae: 0.8091\n",
      "\t eval r2: 0.1443\n",
      "==============================\n",
      "Training start time: \u001b[35m2022-07-28 17:11:22\u001b[0m\n",
      "Epoch 1 elapsed: 0.157s\n"
     ]
    },
    {
     "name": "stderr",
     "output_type": "stream",
     "text": [
      "eval_pred: 100%|███████████████████████████████| 15/15 [00:00<00:00, 819.31it/s]"
     ]
    },
    {
     "name": "stdout",
     "output_type": "stream",
     "text": [
      "\t eval rmse: 1.9554\n",
      "\t eval mae: 1.5797\n",
      "\t eval r2: -2.0616\n",
      "==============================\n"
     ]
    },
    {
     "name": "stderr",
     "output_type": "stream",
     "text": [
      "\n"
     ]
    },
    {
     "name": "stdout",
     "output_type": "stream",
     "text": [
      "Epoch 2 elapsed: 0.182s\n"
     ]
    },
    {
     "name": "stderr",
     "output_type": "stream",
     "text": [
      "eval_pred: 100%|███████████████████████████████| 15/15 [00:00<00:00, 897.06it/s]"
     ]
    },
    {
     "name": "stdout",
     "output_type": "stream",
     "text": [
      "\t eval rmse: 1.0260\n",
      "\t eval mae: 0.8108\n",
      "\t eval r2: 0.1570\n",
      "==============================\n"
     ]
    },
    {
     "name": "stderr",
     "output_type": "stream",
     "text": [
      "\n"
     ]
    },
    {
     "name": "stdout",
     "output_type": "stream",
     "text": [
      "Epoch 3 elapsed: 0.159s\n"
     ]
    },
    {
     "name": "stderr",
     "output_type": "stream",
     "text": [
      "eval_pred: 100%|███████████████████████████████| 15/15 [00:00<00:00, 741.60it/s]"
     ]
    },
    {
     "name": "stdout",
     "output_type": "stream",
     "text": [
      "\t eval rmse: 1.0305\n",
      "\t eval mae: 0.8101\n",
      "\t eval r2: 0.1496\n",
      "==============================\n"
     ]
    },
    {
     "name": "stderr",
     "output_type": "stream",
     "text": [
      "\n"
     ]
    },
    {
     "name": "stdout",
     "output_type": "stream",
     "text": [
      "Epoch 4 elapsed: 0.154s\n"
     ]
    },
    {
     "name": "stderr",
     "output_type": "stream",
     "text": [
      "eval_pred: 100%|███████████████████████████████| 15/15 [00:00<00:00, 785.13it/s]"
     ]
    },
    {
     "name": "stdout",
     "output_type": "stream",
     "text": [
      "\t eval rmse: 1.0323\n",
      "\t eval mae: 0.8092\n",
      "\t eval r2: 0.1467\n",
      "==============================\n"
     ]
    },
    {
     "name": "stderr",
     "output_type": "stream",
     "text": [
      "\n"
     ]
    },
    {
     "name": "stdout",
     "output_type": "stream",
     "text": [
      "Epoch 5 elapsed: 0.159s\n"
     ]
    },
    {
     "name": "stderr",
     "output_type": "stream",
     "text": [
      "eval_pred: 100%|███████████████████████████████| 15/15 [00:00<00:00, 806.57it/s]"
     ]
    },
    {
     "name": "stdout",
     "output_type": "stream",
     "text": [
      "\t eval rmse: 1.0335\n",
      "\t eval mae: 0.8088\n",
      "\t eval r2: 0.1447\n",
      "==============================\n",
      "Training start time: \u001b[35m2022-07-28 17:11:23\u001b[0m\n"
     ]
    },
    {
     "name": "stderr",
     "output_type": "stream",
     "text": [
      "\n"
     ]
    },
    {
     "name": "stdout",
     "output_type": "stream",
     "text": [
      "Epoch 1 elapsed: 0.155s\n"
     ]
    },
    {
     "name": "stderr",
     "output_type": "stream",
     "text": [
      "eval_pred: 100%|███████████████████████████████| 15/15 [00:00<00:00, 808.28it/s]\n"
     ]
    },
    {
     "name": "stdout",
     "output_type": "stream",
     "text": [
      "\t eval rmse: 1.9831\n",
      "\t eval mae: 1.6075\n",
      "\t eval r2: -2.1490\n",
      "==============================\n",
      "Epoch 2 elapsed: 0.126s\n"
     ]
    },
    {
     "name": "stderr",
     "output_type": "stream",
     "text": [
      "eval_pred: 100%|███████████████████████████████| 15/15 [00:00<00:00, 758.97it/s]\n"
     ]
    },
    {
     "name": "stdout",
     "output_type": "stream",
     "text": [
      "\t eval rmse: 1.0280\n",
      "\t eval mae: 0.8119\n",
      "\t eval r2: 0.1537\n",
      "==============================\n",
      "Epoch 3 elapsed: 0.165s\n"
     ]
    },
    {
     "name": "stderr",
     "output_type": "stream",
     "text": [
      "eval_pred: 100%|███████████████████████████████| 15/15 [00:00<00:00, 899.01it/s]"
     ]
    },
    {
     "name": "stdout",
     "output_type": "stream",
     "text": [
      "\t eval rmse: 1.0309\n"
     ]
    },
    {
     "name": "stderr",
     "output_type": "stream",
     "text": [
      "\n"
     ]
    },
    {
     "name": "stdout",
     "output_type": "stream",
     "text": [
      "\t eval mae: 0.8104\n",
      "\t eval r2: 0.1490\n",
      "==============================\n",
      "Epoch 4 elapsed: 0.163s\n"
     ]
    },
    {
     "name": "stderr",
     "output_type": "stream",
     "text": [
      "eval_pred: 100%|███████████████████████████████| 15/15 [00:00<00:00, 697.49it/s]\n"
     ]
    },
    {
     "name": "stdout",
     "output_type": "stream",
     "text": [
      "\t eval rmse: 1.0322\n",
      "\t eval mae: 0.8091\n",
      "\t eval r2: 0.1469\n",
      "==============================\n",
      "Epoch 5 elapsed: 0.154s\n"
     ]
    },
    {
     "name": "stderr",
     "output_type": "stream",
     "text": [
      "eval_pred: 100%|███████████████████████████████| 15/15 [00:00<00:00, 838.16it/s]\n"
     ]
    },
    {
     "name": "stdout",
     "output_type": "stream",
     "text": [
      "\t eval rmse: 1.0330\n",
      "\t eval mae: 0.8086\n",
      "\t eval r2: 0.1455\n",
      "==============================\n",
      "Training start time: \u001b[35m2022-07-28 17:11:24\u001b[0m\n",
      "Epoch 1 elapsed: 0.129s\n"
     ]
    },
    {
     "name": "stderr",
     "output_type": "stream",
     "text": [
      "eval_pred: 100%|███████████████████████████████| 15/15 [00:00<00:00, 855.46it/s]\n"
     ]
    },
    {
     "name": "stdout",
     "output_type": "stream",
     "text": [
      "\t eval rmse: 2.0014\n",
      "\t eval mae: 1.6262\n",
      "\t eval r2: -2.2076\n",
      "==============================\n",
      "Epoch 2 elapsed: 0.147s\n"
     ]
    },
    {
     "name": "stderr",
     "output_type": "stream",
     "text": [
      "eval_pred: 100%|███████████████████████████████| 15/15 [00:00<00:00, 772.63it/s]\n"
     ]
    },
    {
     "name": "stdout",
     "output_type": "stream",
     "text": [
      "\t eval rmse: 1.0290\n",
      "\t eval mae: 0.8127\n",
      "\t eval r2: 0.1521\n",
      "==============================\n",
      "Epoch 3 elapsed: 0.139s\n"
     ]
    },
    {
     "name": "stderr",
     "output_type": "stream",
     "text": [
      "eval_pred: 100%|███████████████████████████████| 15/15 [00:00<00:00, 618.03it/s]\n"
     ]
    },
    {
     "name": "stdout",
     "output_type": "stream",
     "text": [
      "\t eval rmse: 1.0299\n",
      "\t eval mae: 0.8100\n",
      "\t eval r2: 0.1507\n",
      "==============================\n",
      "Epoch 4 elapsed: 0.147s\n"
     ]
    },
    {
     "name": "stderr",
     "output_type": "stream",
     "text": [
      "eval_pred: 100%|███████████████████████████████| 15/15 [00:00<00:00, 772.60it/s]\n"
     ]
    },
    {
     "name": "stdout",
     "output_type": "stream",
     "text": [
      "\t eval rmse: 1.0303\n",
      "\t eval mae: 0.8082\n",
      "\t eval r2: 0.1500\n",
      "==============================\n",
      "Epoch 5 elapsed: 0.154s\n"
     ]
    },
    {
     "name": "stderr",
     "output_type": "stream",
     "text": [
      "eval_pred: 100%|███████████████████████████████| 15/15 [00:00<00:00, 681.42it/s]\n"
     ]
    },
    {
     "name": "stdout",
     "output_type": "stream",
     "text": [
      "\t eval rmse: 1.0305\n",
      "\t eval mae: 0.8072\n",
      "\t eval r2: 0.1497\n",
      "==============================\n",
      "Training start time: \u001b[35m2022-07-28 17:11:26\u001b[0m\n",
      "Epoch 1 elapsed: 0.140s\n"
     ]
    },
    {
     "name": "stderr",
     "output_type": "stream",
     "text": [
      "eval_pred: 100%|███████████████████████████████| 15/15 [00:00<00:00, 822.57it/s]\n"
     ]
    },
    {
     "name": "stdout",
     "output_type": "stream",
     "text": [
      "\t eval rmse: 2.0092\n",
      "\t eval mae: 1.6345\n",
      "\t eval r2: -2.2325\n",
      "==============================\n",
      "Epoch 2 elapsed: 0.130s\n"
     ]
    },
    {
     "name": "stderr",
     "output_type": "stream",
     "text": [
      "eval_pred: 100%|███████████████████████████████| 15/15 [00:00<00:00, 721.06it/s]\n"
     ]
    },
    {
     "name": "stdout",
     "output_type": "stream",
     "text": [
      "\t eval rmse: 1.0277\n",
      "\t eval mae: 0.8123\n",
      "\t eval r2: 0.1543\n",
      "==============================\n",
      "Epoch 3 elapsed: 0.163s\n"
     ]
    },
    {
     "name": "stderr",
     "output_type": "stream",
     "text": [
      "eval_pred: 100%|███████████████████████████████| 15/15 [00:00<00:00, 810.98it/s]\n"
     ]
    },
    {
     "name": "stdout",
     "output_type": "stream",
     "text": [
      "\t eval rmse: 1.0271\n",
      "\t eval mae: 0.8086\n",
      "\t eval r2: 0.1553\n",
      "==============================\n",
      "Epoch 4 elapsed: 0.155s\n"
     ]
    },
    {
     "name": "stderr",
     "output_type": "stream",
     "text": [
      "eval_pred: 100%|███████████████████████████████| 15/15 [00:00<00:00, 620.57it/s]\n"
     ]
    },
    {
     "name": "stdout",
     "output_type": "stream",
     "text": [
      "\t eval rmse: 1.0269\n",
      "\t eval mae: 0.8066\n",
      "\t eval r2: 0.1555\n",
      "==============================\n",
      "Epoch 5 elapsed: 0.151s\n"
     ]
    },
    {
     "name": "stderr",
     "output_type": "stream",
     "text": [
      "eval_pred: 100%|███████████████████████████████| 15/15 [00:00<00:00, 800.59it/s]\n"
     ]
    },
    {
     "name": "stdout",
     "output_type": "stream",
     "text": [
      "\t eval rmse: 1.0268\n",
      "\t eval mae: 0.8055\n",
      "\t eval r2: 0.1557\n",
      "==============================\n",
      "Training start time: \u001b[35m2022-07-28 17:11:27\u001b[0m\n",
      "Epoch 1 elapsed: 0.196s\n"
     ]
    },
    {
     "name": "stderr",
     "output_type": "stream",
     "text": [
      "eval_pred: 100%|███████████████████████████████| 15/15 [00:00<00:00, 678.84it/s]"
     ]
    },
    {
     "name": "stdout",
     "output_type": "stream",
     "text": [
      "\t eval rmse: 1.7607\n",
      "\t eval mae: 1.4164\n",
      "\t eval r2: -1.4823\n",
      "==============================\n"
     ]
    },
    {
     "name": "stderr",
     "output_type": "stream",
     "text": [
      "\n"
     ]
    },
    {
     "name": "stdout",
     "output_type": "stream",
     "text": [
      "Epoch 2 elapsed: 0.182s\n"
     ]
    },
    {
     "name": "stderr",
     "output_type": "stream",
     "text": [
      "eval_pred: 100%|███████████████████████████████| 15/15 [00:00<00:00, 811.71it/s]"
     ]
    },
    {
     "name": "stdout",
     "output_type": "stream",
     "text": [
      "\t eval rmse: 1.0398\n",
      "\t eval mae: 0.8245\n",
      "\t eval r2: 0.1343\n",
      "==============================\n"
     ]
    },
    {
     "name": "stderr",
     "output_type": "stream",
     "text": [
      "\n"
     ]
    },
    {
     "name": "stdout",
     "output_type": "stream",
     "text": [
      "Epoch 3 elapsed: 0.204s\n"
     ]
    },
    {
     "name": "stderr",
     "output_type": "stream",
     "text": [
      "eval_pred: 100%|███████████████████████████████| 15/15 [00:00<00:00, 706.64it/s]"
     ]
    },
    {
     "name": "stdout",
     "output_type": "stream",
     "text": [
      "\t eval rmse: 1.0503\n",
      "\t eval mae: 0.8257\n",
      "\t eval r2: 0.1167\n",
      "==============================\n"
     ]
    },
    {
     "name": "stderr",
     "output_type": "stream",
     "text": [
      "\n"
     ]
    },
    {
     "name": "stdout",
     "output_type": "stream",
     "text": [
      "Epoch 4 elapsed: 0.182s\n"
     ]
    },
    {
     "name": "stderr",
     "output_type": "stream",
     "text": [
      "eval_pred: 100%|███████████████████████████████| 15/15 [00:00<00:00, 818.43it/s]"
     ]
    },
    {
     "name": "stdout",
     "output_type": "stream",
     "text": [
      "\t eval rmse: 1.0559\n",
      "\t eval mae: 0.8271\n",
      "\t eval r2: 0.1072\n",
      "==============================\n"
     ]
    },
    {
     "name": "stderr",
     "output_type": "stream",
     "text": [
      "\n"
     ]
    },
    {
     "name": "stdout",
     "output_type": "stream",
     "text": [
      "Epoch 5 elapsed: 0.196s\n"
     ]
    },
    {
     "name": "stderr",
     "output_type": "stream",
     "text": [
      "eval_pred: 100%|███████████████████████████████| 15/15 [00:00<00:00, 769.85it/s]"
     ]
    },
    {
     "name": "stdout",
     "output_type": "stream",
     "text": [
      "\t eval rmse: 1.0597\n",
      "\t eval mae: 0.8281\n",
      "\t eval r2: 0.1009\n",
      "==============================\n",
      "Training start time: \u001b[35m2022-07-28 17:11:28\u001b[0m\n"
     ]
    },
    {
     "name": "stderr",
     "output_type": "stream",
     "text": [
      "\n"
     ]
    },
    {
     "name": "stdout",
     "output_type": "stream",
     "text": [
      "Epoch 1 elapsed: 0.194s\n"
     ]
    },
    {
     "name": "stderr",
     "output_type": "stream",
     "text": [
      "eval_pred: 100%|███████████████████████████████| 15/15 [00:00<00:00, 703.03it/s]"
     ]
    },
    {
     "name": "stdout",
     "output_type": "stream",
     "text": [
      "\t eval rmse: 1.7210\n",
      "\t eval mae: 1.3716\n",
      "\t eval r2: -1.3717\n",
      "==============================\n"
     ]
    },
    {
     "name": "stderr",
     "output_type": "stream",
     "text": [
      "\n"
     ]
    },
    {
     "name": "stdout",
     "output_type": "stream",
     "text": [
      "Epoch 2 elapsed: 0.236s\n"
     ]
    },
    {
     "name": "stderr",
     "output_type": "stream",
     "text": [
      "eval_pred: 100%|███████████████████████████████| 15/15 [00:00<00:00, 711.55it/s]"
     ]
    },
    {
     "name": "stdout",
     "output_type": "stream",
     "text": [
      "\t eval rmse: 1.0340\n",
      "\t eval mae: 0.8186\n",
      "\t eval r2: 0.1439\n",
      "==============================\n"
     ]
    },
    {
     "name": "stderr",
     "output_type": "stream",
     "text": [
      "\n"
     ]
    },
    {
     "name": "stdout",
     "output_type": "stream",
     "text": [
      "Epoch 3 elapsed: 0.231s\n"
     ]
    },
    {
     "name": "stderr",
     "output_type": "stream",
     "text": [
      "eval_pred: 100%|███████████████████████████████| 15/15 [00:00<00:00, 843.98it/s]"
     ]
    },
    {
     "name": "stdout",
     "output_type": "stream",
     "text": [
      "\t eval rmse: 1.0498\n",
      "\t eval mae: 0.8248\n",
      "\t eval r2: 0.1175\n",
      "==============================\n"
     ]
    },
    {
     "name": "stderr",
     "output_type": "stream",
     "text": [
      "\n"
     ]
    },
    {
     "name": "stdout",
     "output_type": "stream",
     "text": [
      "Epoch 4 elapsed: 0.216s\n"
     ]
    },
    {
     "name": "stderr",
     "output_type": "stream",
     "text": [
      "eval_pred: 100%|███████████████████████████████| 15/15 [00:00<00:00, 714.91it/s]"
     ]
    },
    {
     "name": "stdout",
     "output_type": "stream",
     "text": [
      "\t eval rmse: 1.0555\n",
      "\t eval mae: 0.8266\n",
      "\t eval r2: 0.1079\n",
      "==============================\n"
     ]
    },
    {
     "name": "stderr",
     "output_type": "stream",
     "text": [
      "\n"
     ]
    },
    {
     "name": "stdout",
     "output_type": "stream",
     "text": [
      "Epoch 5 elapsed: 0.179s\n"
     ]
    },
    {
     "name": "stderr",
     "output_type": "stream",
     "text": [
      "eval_pred: 100%|███████████████████████████████| 15/15 [00:00<00:00, 816.37it/s]"
     ]
    },
    {
     "name": "stdout",
     "output_type": "stream",
     "text": [
      "\t eval rmse: 1.0591\n",
      "\t eval mae: 0.8277\n",
      "\t eval r2: 0.1018\n",
      "==============================\n",
      "Training start time: \u001b[35m2022-07-28 17:11:30\u001b[0m\n"
     ]
    },
    {
     "name": "stderr",
     "output_type": "stream",
     "text": [
      "\n"
     ]
    },
    {
     "name": "stdout",
     "output_type": "stream",
     "text": [
      "Epoch 1 elapsed: 0.198s\n"
     ]
    },
    {
     "name": "stderr",
     "output_type": "stream",
     "text": [
      "eval_pred: 100%|███████████████████████████████| 15/15 [00:00<00:00, 631.05it/s]"
     ]
    },
    {
     "name": "stdout",
     "output_type": "stream",
     "text": [
      "\t eval rmse: 1.7359\n",
      "\t eval mae: 1.3821\n",
      "\t eval r2: -1.4128\n",
      "==============================\n"
     ]
    },
    {
     "name": "stderr",
     "output_type": "stream",
     "text": [
      "\n"
     ]
    },
    {
     "name": "stdout",
     "output_type": "stream",
     "text": [
      "Epoch 2 elapsed: 0.178s\n"
     ]
    },
    {
     "name": "stderr",
     "output_type": "stream",
     "text": [
      "eval_pred: 100%|███████████████████████████████| 15/15 [00:00<00:00, 704.17it/s]"
     ]
    },
    {
     "name": "stdout",
     "output_type": "stream",
     "text": [
      "\t eval rmse: 1.0339\n",
      "\t eval mae: 0.8180\n",
      "\t eval r2: 0.1441\n",
      "==============================\n"
     ]
    },
    {
     "name": "stderr",
     "output_type": "stream",
     "text": [
      "\n"
     ]
    },
    {
     "name": "stdout",
     "output_type": "stream",
     "text": [
      "Epoch 3 elapsed: 0.190s\n"
     ]
    },
    {
     "name": "stderr",
     "output_type": "stream",
     "text": [
      "eval_pred: 100%|███████████████████████████████| 15/15 [00:00<00:00, 595.83it/s]"
     ]
    },
    {
     "name": "stdout",
     "output_type": "stream",
     "text": [
      "\t eval rmse: 1.0498\n",
      "\t eval mae: 0.8248\n",
      "\t eval r2: 0.1175\n",
      "==============================\n"
     ]
    },
    {
     "name": "stderr",
     "output_type": "stream",
     "text": [
      "\n"
     ]
    },
    {
     "name": "stdout",
     "output_type": "stream",
     "text": [
      "Epoch 4 elapsed: 0.218s\n"
     ]
    },
    {
     "name": "stderr",
     "output_type": "stream",
     "text": [
      "eval_pred: 100%|███████████████████████████████| 15/15 [00:00<00:00, 691.22it/s]"
     ]
    },
    {
     "name": "stdout",
     "output_type": "stream",
     "text": [
      "\t eval rmse: 1.0553\n",
      "\t eval mae: 0.8265\n",
      "\t eval r2: 0.1083\n",
      "==============================\n"
     ]
    },
    {
     "name": "stderr",
     "output_type": "stream",
     "text": [
      "\n"
     ]
    },
    {
     "name": "stdout",
     "output_type": "stream",
     "text": [
      "Epoch 5 elapsed: 0.180s\n"
     ]
    },
    {
     "name": "stderr",
     "output_type": "stream",
     "text": [
      "eval_pred: 100%|███████████████████████████████| 15/15 [00:00<00:00, 829.29it/s]"
     ]
    },
    {
     "name": "stdout",
     "output_type": "stream",
     "text": [
      "\t eval rmse: 1.0588\n",
      "\t eval mae: 0.8276\n",
      "\t eval r2: 0.1024\n",
      "==============================\n",
      "Training start time: \u001b[35m2022-07-28 17:11:31\u001b[0m\n"
     ]
    },
    {
     "name": "stderr",
     "output_type": "stream",
     "text": [
      "\n"
     ]
    },
    {
     "name": "stdout",
     "output_type": "stream",
     "text": [
      "Epoch 1 elapsed: 0.233s\n"
     ]
    },
    {
     "name": "stderr",
     "output_type": "stream",
     "text": [
      "eval_pred: 100%|███████████████████████████████| 15/15 [00:00<00:00, 809.02it/s]"
     ]
    },
    {
     "name": "stdout",
     "output_type": "stream",
     "text": [
      "\t eval rmse: 1.7917\n",
      "\t eval mae: 1.4314\n",
      "\t eval r2: -1.5706\n",
      "==============================\n"
     ]
    },
    {
     "name": "stderr",
     "output_type": "stream",
     "text": [
      "\n"
     ]
    },
    {
     "name": "stdout",
     "output_type": "stream",
     "text": [
      "Epoch 2 elapsed: 0.191s\n"
     ]
    },
    {
     "name": "stderr",
     "output_type": "stream",
     "text": [
      "eval_pred: 100%|███████████████████████████████| 15/15 [00:00<00:00, 881.28it/s]"
     ]
    },
    {
     "name": "stdout",
     "output_type": "stream",
     "text": [
      "\t eval rmse: 1.0354\n",
      "\t eval mae: 0.8185\n",
      "\t eval r2: 0.1415\n",
      "==============================\n"
     ]
    },
    {
     "name": "stderr",
     "output_type": "stream",
     "text": [
      "\n"
     ]
    },
    {
     "name": "stdout",
     "output_type": "stream",
     "text": [
      "Epoch 3 elapsed: 0.232s\n"
     ]
    },
    {
     "name": "stderr",
     "output_type": "stream",
     "text": [
      "eval_pred: 100%|███████████████████████████████| 15/15 [00:00<00:00, 648.67it/s]"
     ]
    },
    {
     "name": "stdout",
     "output_type": "stream",
     "text": [
      "\t eval rmse: 1.0488\n",
      "\t eval mae: 0.8241\n",
      "\t eval r2: 0.1192\n",
      "==============================\n"
     ]
    },
    {
     "name": "stderr",
     "output_type": "stream",
     "text": [
      "\n"
     ]
    },
    {
     "name": "stdout",
     "output_type": "stream",
     "text": [
      "Epoch 4 elapsed: 0.193s\n"
     ]
    },
    {
     "name": "stderr",
     "output_type": "stream",
     "text": [
      "eval_pred: 100%|███████████████████████████████| 15/15 [00:00<00:00, 674.02it/s]"
     ]
    },
    {
     "name": "stdout",
     "output_type": "stream",
     "text": [
      "\t eval rmse: 1.0541\n",
      "\t eval mae: 0.8257\n",
      "\t eval r2: 0.1103\n",
      "==============================\n"
     ]
    },
    {
     "name": "stderr",
     "output_type": "stream",
     "text": [
      "\n"
     ]
    },
    {
     "name": "stdout",
     "output_type": "stream",
     "text": [
      "Epoch 5 elapsed: 0.254s\n"
     ]
    },
    {
     "name": "stderr",
     "output_type": "stream",
     "text": [
      "eval_pred: 100%|███████████████████████████████| 15/15 [00:00<00:00, 751.97it/s]"
     ]
    },
    {
     "name": "stdout",
     "output_type": "stream",
     "text": [
      "\t eval rmse: 1.0576\n",
      "\t eval mae: 0.8267\n",
      "\t eval r2: 0.1044\n",
      "==============================\n",
      "Training start time: \u001b[35m2022-07-28 17:11:32\u001b[0m\n"
     ]
    },
    {
     "name": "stderr",
     "output_type": "stream",
     "text": [
      "\n"
     ]
    },
    {
     "name": "stdout",
     "output_type": "stream",
     "text": [
      "Epoch 1 elapsed: 0.247s\n"
     ]
    },
    {
     "name": "stderr",
     "output_type": "stream",
     "text": [
      "eval_pred: 100%|███████████████████████████████| 15/15 [00:00<00:00, 674.54it/s]"
     ]
    },
    {
     "name": "stdout",
     "output_type": "stream",
     "text": [
      "\t eval rmse: 1.8186\n",
      "\t eval mae: 1.4565\n",
      "\t eval r2: -1.6483\n",
      "==============================\n"
     ]
    },
    {
     "name": "stderr",
     "output_type": "stream",
     "text": [
      "\n"
     ]
    },
    {
     "name": "stdout",
     "output_type": "stream",
     "text": [
      "Epoch 2 elapsed: 0.227s\n"
     ]
    },
    {
     "name": "stderr",
     "output_type": "stream",
     "text": [
      "eval_pred: 100%|███████████████████████████████| 15/15 [00:00<00:00, 819.49it/s]"
     ]
    },
    {
     "name": "stdout",
     "output_type": "stream",
     "text": [
      "\t eval rmse: 1.0370\n",
      "\t eval mae: 0.8193\n",
      "\t eval r2: 0.1390\n",
      "==============================\n"
     ]
    },
    {
     "name": "stderr",
     "output_type": "stream",
     "text": [
      "\n"
     ]
    },
    {
     "name": "stdout",
     "output_type": "stream",
     "text": [
      "Epoch 3 elapsed: 0.204s\n"
     ]
    },
    {
     "name": "stderr",
     "output_type": "stream",
     "text": [
      "eval_pred: 100%|███████████████████████████████| 15/15 [00:00<00:00, 759.18it/s]"
     ]
    },
    {
     "name": "stdout",
     "output_type": "stream",
     "text": [
      "\t eval rmse: 1.0485\n",
      "\t eval mae: 0.8239\n",
      "\t eval r2: 0.1197\n",
      "==============================\n"
     ]
    },
    {
     "name": "stderr",
     "output_type": "stream",
     "text": [
      "\n"
     ]
    },
    {
     "name": "stdout",
     "output_type": "stream",
     "text": [
      "Epoch 4 elapsed: 0.201s\n"
     ]
    },
    {
     "name": "stderr",
     "output_type": "stream",
     "text": [
      "eval_pred: 100%|███████████████████████████████| 15/15 [00:00<00:00, 826.75it/s]"
     ]
    },
    {
     "name": "stdout",
     "output_type": "stream",
     "text": [
      "\t eval rmse: 1.0536\n",
      "\t eval mae: 0.8255\n",
      "\t eval r2: 0.1111\n",
      "==============================\n"
     ]
    },
    {
     "name": "stderr",
     "output_type": "stream",
     "text": [
      "\n"
     ]
    },
    {
     "name": "stdout",
     "output_type": "stream",
     "text": [
      "Epoch 5 elapsed: 0.181s\n"
     ]
    },
    {
     "name": "stderr",
     "output_type": "stream",
     "text": [
      "eval_pred: 100%|███████████████████████████████| 15/15 [00:00<00:00, 610.51it/s]"
     ]
    },
    {
     "name": "stdout",
     "output_type": "stream",
     "text": [
      "\t eval rmse: 1.0570\n",
      "\t eval mae: 0.8263\n",
      "\t eval r2: 0.1054\n",
      "==============================\n",
      "Training start time: \u001b[35m2022-07-28 17:11:34\u001b[0m\n"
     ]
    },
    {
     "name": "stderr",
     "output_type": "stream",
     "text": [
      "\n"
     ]
    },
    {
     "name": "stdout",
     "output_type": "stream",
     "text": [
      "Epoch 1 elapsed: 0.187s\n"
     ]
    },
    {
     "name": "stderr",
     "output_type": "stream",
     "text": [
      "eval_pred: 100%|███████████████████████████████| 15/15 [00:00<00:00, 766.90it/s]"
     ]
    },
    {
     "name": "stdout",
     "output_type": "stream",
     "text": [
      "\t eval rmse: 1.8471\n",
      "\t eval mae: 1.4838\n",
      "\t eval r2: -1.7320\n",
      "==============================\n"
     ]
    },
    {
     "name": "stderr",
     "output_type": "stream",
     "text": [
      "\n"
     ]
    },
    {
     "name": "stdout",
     "output_type": "stream",
     "text": [
      "Epoch 2 elapsed: 0.187s\n"
     ]
    },
    {
     "name": "stderr",
     "output_type": "stream",
     "text": [
      "eval_pred: 100%|███████████████████████████████| 15/15 [00:00<00:00, 834.02it/s]"
     ]
    },
    {
     "name": "stdout",
     "output_type": "stream",
     "text": [
      "\t eval rmse: 1.0397\n",
      "\t eval mae: 0.8211\n",
      "\t eval r2: 0.1343\n",
      "==============================\n"
     ]
    },
    {
     "name": "stderr",
     "output_type": "stream",
     "text": [
      "\n"
     ]
    },
    {
     "name": "stdout",
     "output_type": "stream",
     "text": [
      "Epoch 3 elapsed: 0.185s\n"
     ]
    },
    {
     "name": "stderr",
     "output_type": "stream",
     "text": [
      "eval_pred: 100%|███████████████████████████████| 15/15 [00:00<00:00, 811.25it/s]"
     ]
    },
    {
     "name": "stdout",
     "output_type": "stream",
     "text": [
      "\t eval rmse: 1.0485\n",
      "\t eval mae: 0.8240\n",
      "\t eval r2: 0.1197\n",
      "==============================\n"
     ]
    },
    {
     "name": "stderr",
     "output_type": "stream",
     "text": [
      "\n"
     ]
    },
    {
     "name": "stdout",
     "output_type": "stream",
     "text": [
      "Epoch 4 elapsed: 0.184s\n"
     ]
    },
    {
     "name": "stderr",
     "output_type": "stream",
     "text": [
      "eval_pred: 100%|███████████████████████████████| 15/15 [00:00<00:00, 819.69it/s]"
     ]
    },
    {
     "name": "stdout",
     "output_type": "stream",
     "text": [
      "\t eval rmse: 1.0529\n",
      "\t eval mae: 0.8251\n",
      "\t eval r2: 0.1122\n",
      "==============================\n"
     ]
    },
    {
     "name": "stderr",
     "output_type": "stream",
     "text": [
      "\n"
     ]
    },
    {
     "name": "stdout",
     "output_type": "stream",
     "text": [
      "Epoch 5 elapsed: 0.182s\n"
     ]
    },
    {
     "name": "stderr",
     "output_type": "stream",
     "text": [
      "eval_pred: 100%|███████████████████████████████| 15/15 [00:00<00:00, 756.66it/s]"
     ]
    },
    {
     "name": "stdout",
     "output_type": "stream",
     "text": [
      "\t eval rmse: 1.0557\n",
      "\t eval mae: 0.8255\n",
      "\t eval r2: 0.1075\n",
      "==============================\n",
      "Training start time: \u001b[35m2022-07-28 17:11:35\u001b[0m\n"
     ]
    },
    {
     "name": "stderr",
     "output_type": "stream",
     "text": [
      "\n"
     ]
    },
    {
     "name": "stdout",
     "output_type": "stream",
     "text": [
      "Epoch 1 elapsed: 0.185s\n"
     ]
    },
    {
     "name": "stderr",
     "output_type": "stream",
     "text": [
      "eval_pred: 100%|███████████████████████████████| 15/15 [00:00<00:00, 615.91it/s]"
     ]
    },
    {
     "name": "stdout",
     "output_type": "stream",
     "text": [
      "\t eval rmse: 1.8657\n",
      "\t eval mae: 1.5019\n",
      "\t eval r2: -1.7872\n",
      "==============================\n"
     ]
    },
    {
     "name": "stderr",
     "output_type": "stream",
     "text": [
      "\n"
     ]
    },
    {
     "name": "stdout",
     "output_type": "stream",
     "text": [
      "Epoch 2 elapsed: 0.202s\n"
     ]
    },
    {
     "name": "stderr",
     "output_type": "stream",
     "text": [
      "eval_pred: 100%|███████████████████████████████| 15/15 [00:00<00:00, 760.91it/s]"
     ]
    },
    {
     "name": "stdout",
     "output_type": "stream",
     "text": [
      "\t eval rmse: 1.0419\n",
      "\t eval mae: 0.8227\n",
      "\t eval r2: 0.1308\n",
      "==============================\n"
     ]
    },
    {
     "name": "stderr",
     "output_type": "stream",
     "text": [
      "\n"
     ]
    },
    {
     "name": "stdout",
     "output_type": "stream",
     "text": [
      "Epoch 3 elapsed: 0.205s\n"
     ]
    },
    {
     "name": "stderr",
     "output_type": "stream",
     "text": [
      "eval_pred: 100%|███████████████████████████████| 15/15 [00:00<00:00, 741.44it/s]"
     ]
    },
    {
     "name": "stdout",
     "output_type": "stream",
     "text": [
      "\t eval rmse: 1.0472\n",
      "\t eval mae: 0.8232\n",
      "\t eval r2: 0.1218\n",
      "==============================\n"
     ]
    },
    {
     "name": "stderr",
     "output_type": "stream",
     "text": [
      "\n"
     ]
    },
    {
     "name": "stdout",
     "output_type": "stream",
     "text": [
      "Epoch 4 elapsed: 0.178s\n"
     ]
    },
    {
     "name": "stderr",
     "output_type": "stream",
     "text": [
      "eval_pred: 100%|███████████████████████████████| 15/15 [00:00<00:00, 785.02it/s]"
     ]
    },
    {
     "name": "stdout",
     "output_type": "stream",
     "text": [
      "\t eval rmse: 1.0502\n",
      "\t eval mae: 0.8233\n",
      "\t eval r2: 0.1169\n",
      "==============================\n"
     ]
    },
    {
     "name": "stderr",
     "output_type": "stream",
     "text": [
      "\n"
     ]
    },
    {
     "name": "stdout",
     "output_type": "stream",
     "text": [
      "Epoch 5 elapsed: 0.192s\n"
     ]
    },
    {
     "name": "stderr",
     "output_type": "stream",
     "text": [
      "eval_pred: 100%|███████████████████████████████| 15/15 [00:00<00:00, 889.75it/s]"
     ]
    },
    {
     "name": "stdout",
     "output_type": "stream",
     "text": [
      "\t eval rmse: 1.0518\n",
      "\t eval mae: 0.8229\n",
      "\t eval r2: 0.1142\n",
      "==============================\n",
      "Training start time: \u001b[35m2022-07-28 17:11:37\u001b[0m\n"
     ]
    },
    {
     "name": "stderr",
     "output_type": "stream",
     "text": [
      "\n"
     ]
    },
    {
     "name": "stdout",
     "output_type": "stream",
     "text": [
      "Epoch 1 elapsed: 0.206s\n"
     ]
    },
    {
     "name": "stderr",
     "output_type": "stream",
     "text": [
      "eval_pred: 100%|███████████████████████████████| 15/15 [00:00<00:00, 826.44it/s]"
     ]
    },
    {
     "name": "stdout",
     "output_type": "stream",
     "text": [
      "\t eval rmse: 1.8734\n",
      "\t eval mae: 1.5097\n",
      "\t eval r2: -1.8104\n",
      "==============================\n"
     ]
    },
    {
     "name": "stderr",
     "output_type": "stream",
     "text": [
      "\n"
     ]
    },
    {
     "name": "stdout",
     "output_type": "stream",
     "text": [
      "Epoch 2 elapsed: 0.200s\n"
     ]
    },
    {
     "name": "stderr",
     "output_type": "stream",
     "text": [
      "eval_pred: 100%|███████████████████████████████| 15/15 [00:00<00:00, 743.43it/s]"
     ]
    },
    {
     "name": "stdout",
     "output_type": "stream",
     "text": [
      "\t eval rmse: 1.0414\n",
      "\t eval mae: 0.8226\n",
      "\t eval r2: 0.1317\n",
      "==============================\n"
     ]
    },
    {
     "name": "stderr",
     "output_type": "stream",
     "text": [
      "\n"
     ]
    },
    {
     "name": "stdout",
     "output_type": "stream",
     "text": [
      "Epoch 3 elapsed: 0.190s\n"
     ]
    },
    {
     "name": "stderr",
     "output_type": "stream",
     "text": [
      "eval_pred: 100%|███████████████████████████████| 15/15 [00:00<00:00, 768.61it/s]"
     ]
    },
    {
     "name": "stdout",
     "output_type": "stream",
     "text": [
      "\t eval rmse: 1.0443\n",
      "\t eval mae: 0.8215\n",
      "\t eval r2: 0.1268\n",
      "==============================\n"
     ]
    },
    {
     "name": "stderr",
     "output_type": "stream",
     "text": [
      "\n"
     ]
    },
    {
     "name": "stdout",
     "output_type": "stream",
     "text": [
      "Epoch 4 elapsed: 0.247s\n"
     ]
    },
    {
     "name": "stderr",
     "output_type": "stream",
     "text": [
      "eval_pred: 100%|███████████████████████████████| 15/15 [00:00<00:00, 852.39it/s]"
     ]
    },
    {
     "name": "stdout",
     "output_type": "stream",
     "text": [
      "\t eval rmse: 1.0460\n",
      "\t eval mae: 0.8208\n",
      "\t eval r2: 0.1238\n",
      "==============================\n"
     ]
    },
    {
     "name": "stderr",
     "output_type": "stream",
     "text": [
      "\n"
     ]
    },
    {
     "name": "stdout",
     "output_type": "stream",
     "text": [
      "Epoch 5 elapsed: 0.246s\n"
     ]
    },
    {
     "name": "stderr",
     "output_type": "stream",
     "text": [
      "eval_pred: 100%|███████████████████████████████| 15/15 [00:00<00:00, 628.89it/s]"
     ]
    },
    {
     "name": "stdout",
     "output_type": "stream",
     "text": [
      "\t eval rmse: 1.0468\n",
      "\t eval mae: 0.8198\n",
      "\t eval r2: 0.1225\n",
      "==============================\n"
     ]
    },
    {
     "name": "stderr",
     "output_type": "stream",
     "text": [
      "\n"
     ]
    },
    {
     "data": {
      "text/plain": [
       "0.9801148189680453"
      ]
     },
     "execution_count": 8,
     "metadata": {},
     "output_type": "execute_result"
    }
   ],
   "source": [
    "emb_sizes = [2,3,4,6,8,10,12,15]\n",
    "regs = [0.01, 0.05, 0.1, 0.3, 0.5, 1,2, 3]\n",
    "\n",
    "david = np.zeros((len(emb_sizes)*len(regs), len(users_val)))\n",
    "\n",
    "for i, emb_size in enumerate(emb_sizes):\n",
    "    for j, reg in enumerate(regs):\n",
    "        giorgio = ALS(task=\"rating\", data_info=data_info, embed_size=emb_size, n_epochs=5,\n",
    "                    reg=reg, seed=42)\n",
    "        giorgio.fit(train_data, verbose=2, use_cg=False, n_threads=8,\n",
    "                eval_data=eval_data, metrics=[\"rmse\", \"mae\", \"r2\"])\n",
    "        david[len(regs)*i+j] = np.array(giorgio.predict(user=users_val, item=movies_val))\n",
    "\n",
    "            \n",
    "mean_squared_error(david.mean(axis=0), ratings_val, squared=False)"
   ]
  },
  {
   "cell_type": "code",
   "execution_count": 99,
   "id": "59483f23",
   "metadata": {},
   "outputs": [
    {
     "data": {
      "text/plain": [
       "5.0000002682209015"
      ]
     },
     "execution_count": 99,
     "metadata": {},
     "output_type": "execute_result"
    }
   ],
   "source": [
    "transform_back(ratings_val, users_val, movies_val)[0].max()"
   ]
  },
  {
   "cell_type": "code",
   "execution_count": 9,
   "id": "23fe2ab9",
   "metadata": {},
   "outputs": [
    {
     "name": "stdout",
     "output_type": "stream",
     "text": [
      "Training start time: \u001b[35m2022-07-28 17:12:35\u001b[0m\n",
      "Epoch 1 elapsed: 0.026s\n",
      "==============================\n",
      "Epoch 2 elapsed: 0.026s\n",
      "==============================\n",
      "Epoch 3 elapsed: 0.061s\n",
      "==============================\n",
      "Epoch 4 elapsed: 0.026s\n",
      "==============================\n",
      "Epoch 5 elapsed: 0.025s\n",
      "==============================\n",
      "Training start time: \u001b[35m2022-07-28 17:12:36\u001b[0m\n",
      "Epoch 1 elapsed: 0.040s\n",
      "==============================\n",
      "Epoch 2 elapsed: 0.026s\n",
      "==============================\n",
      "Epoch 3 elapsed: 0.026s\n",
      "==============================\n",
      "Epoch 4 elapsed: 0.026s\n",
      "==============================\n",
      "Epoch 5 elapsed: 0.036s\n",
      "==============================\n",
      "Training start time: \u001b[35m2022-07-28 17:12:37\u001b[0m\n",
      "Epoch 1 elapsed: 0.026s\n",
      "==============================\n",
      "Epoch 2 elapsed: 0.026s\n",
      "==============================\n",
      "Epoch 3 elapsed: 0.026s\n",
      "==============================\n",
      "Epoch 4 elapsed: 0.027s\n",
      "==============================\n",
      "Epoch 5 elapsed: 0.030s\n",
      "==============================\n",
      "Training start time: \u001b[35m2022-07-28 17:12:38\u001b[0m\n",
      "Epoch 1 elapsed: 0.031s\n",
      "==============================\n",
      "Epoch 2 elapsed: 0.025s\n",
      "==============================\n",
      "Epoch 3 elapsed: 0.025s\n",
      "==============================\n",
      "Epoch 4 elapsed: 0.049s\n",
      "==============================\n",
      "Epoch 5 elapsed: 0.025s\n",
      "==============================\n",
      "Training start time: \u001b[35m2022-07-28 17:12:39\u001b[0m\n",
      "Epoch 1 elapsed: 0.038s\n",
      "==============================\n",
      "Epoch 2 elapsed: 0.035s\n",
      "==============================\n",
      "Epoch 3 elapsed: 0.026s\n",
      "==============================\n",
      "Epoch 4 elapsed: 0.025s\n",
      "==============================\n",
      "Epoch 5 elapsed: 0.025s\n",
      "==============================\n",
      "Training start time: \u001b[35m2022-07-28 17:12:39\u001b[0m\n",
      "Epoch 1 elapsed: 0.025s\n",
      "==============================\n",
      "Epoch 2 elapsed: 0.056s\n",
      "==============================\n",
      "Epoch 3 elapsed: 0.038s\n",
      "==============================\n",
      "Epoch 4 elapsed: 0.025s\n",
      "==============================\n",
      "Epoch 5 elapsed: 0.071s\n",
      "==============================\n",
      "Training start time: \u001b[35m2022-07-28 17:12:40\u001b[0m\n",
      "Epoch 1 elapsed: 0.025s\n",
      "==============================\n",
      "Epoch 2 elapsed: 0.027s\n",
      "==============================\n",
      "Epoch 3 elapsed: 0.026s\n",
      "==============================\n",
      "Epoch 4 elapsed: 0.025s\n",
      "==============================\n",
      "Epoch 5 elapsed: 0.025s\n",
      "==============================\n",
      "Training start time: \u001b[35m2022-07-28 17:12:41\u001b[0m\n",
      "Epoch 1 elapsed: 0.025s\n",
      "==============================\n",
      "Epoch 2 elapsed: 0.029s\n",
      "==============================\n",
      "Epoch 3 elapsed: 0.025s\n",
      "==============================\n",
      "Epoch 4 elapsed: 0.025s\n",
      "==============================\n",
      "Epoch 5 elapsed: 0.025s\n",
      "==============================\n",
      "Training start time: \u001b[35m2022-07-28 17:12:42\u001b[0m\n",
      "Epoch 1 elapsed: 0.031s\n",
      "==============================\n",
      "Epoch 2 elapsed: 0.033s\n",
      "==============================\n",
      "Epoch 3 elapsed: 0.031s\n",
      "==============================\n",
      "Epoch 4 elapsed: 0.031s\n",
      "==============================\n",
      "Epoch 5 elapsed: 0.051s\n",
      "==============================\n",
      "Training start time: \u001b[35m2022-07-28 17:12:43\u001b[0m\n",
      "Epoch 1 elapsed: 0.075s\n",
      "==============================\n",
      "Epoch 2 elapsed: 0.032s\n",
      "==============================\n",
      "Epoch 3 elapsed: 0.032s\n",
      "==============================\n",
      "Epoch 4 elapsed: 0.031s\n",
      "==============================\n",
      "Epoch 5 elapsed: 0.043s\n",
      "==============================\n",
      "Training start time: \u001b[35m2022-07-28 17:12:44\u001b[0m\n",
      "Epoch 1 elapsed: 0.047s\n",
      "==============================\n",
      "Epoch 2 elapsed: 0.032s\n",
      "==============================\n",
      "Epoch 3 elapsed: 0.033s\n",
      "==============================\n",
      "Epoch 4 elapsed: 0.031s\n",
      "==============================\n",
      "Epoch 5 elapsed: 0.031s\n",
      "==============================\n",
      "Training start time: \u001b[35m2022-07-28 17:12:45\u001b[0m\n",
      "Epoch 1 elapsed: 0.031s\n",
      "==============================\n",
      "Epoch 2 elapsed: 0.041s\n",
      "==============================\n",
      "Epoch 3 elapsed: 0.033s\n",
      "==============================\n",
      "Epoch 4 elapsed: 0.031s\n",
      "==============================\n",
      "Epoch 5 elapsed: 0.031s\n",
      "==============================\n",
      "Training start time: \u001b[35m2022-07-28 17:12:46\u001b[0m\n",
      "Epoch 1 elapsed: 0.031s\n",
      "==============================\n",
      "Epoch 2 elapsed: 0.031s\n",
      "==============================\n",
      "Epoch 3 elapsed: 0.031s\n",
      "==============================\n",
      "Epoch 4 elapsed: 0.031s\n",
      "==============================\n",
      "Epoch 5 elapsed: 0.031s\n",
      "==============================\n",
      "Training start time: \u001b[35m2022-07-28 17:12:47\u001b[0m\n",
      "Epoch 1 elapsed: 0.031s\n",
      "==============================\n",
      "Epoch 2 elapsed: 0.042s\n",
      "==============================\n",
      "Epoch 3 elapsed: 0.032s\n",
      "==============================\n",
      "Epoch 4 elapsed: 0.031s\n",
      "==============================\n",
      "Epoch 5 elapsed: 0.038s\n",
      "==============================\n",
      "Training start time: \u001b[35m2022-07-28 17:12:48\u001b[0m\n",
      "Epoch 1 elapsed: 0.032s\n",
      "==============================\n",
      "Epoch 2 elapsed: 0.032s\n",
      "==============================\n",
      "Epoch 3 elapsed: 0.031s\n",
      "==============================\n",
      "Epoch 4 elapsed: 0.047s\n",
      "==============================\n",
      "Epoch 5 elapsed: 0.033s\n",
      "==============================\n",
      "Training start time: \u001b[35m2022-07-28 17:12:49\u001b[0m\n",
      "Epoch 1 elapsed: 0.031s\n",
      "==============================\n",
      "Epoch 2 elapsed: 0.032s\n",
      "==============================\n",
      "Epoch 3 elapsed: 0.047s\n",
      "==============================\n",
      "Epoch 4 elapsed: 0.032s\n",
      "==============================\n",
      "Epoch 5 elapsed: 0.031s\n",
      "==============================\n",
      "Training start time: \u001b[35m2022-07-28 17:12:50\u001b[0m\n",
      "Epoch 1 elapsed: 0.044s\n",
      "==============================\n",
      "Epoch 2 elapsed: 0.039s\n",
      "==============================\n",
      "Epoch 3 elapsed: 0.038s\n",
      "==============================\n",
      "Epoch 4 elapsed: 0.104s\n",
      "==============================\n",
      "Epoch 5 elapsed: 0.096s\n",
      "==============================\n",
      "Training start time: \u001b[35m2022-07-28 17:12:51\u001b[0m\n",
      "Epoch 1 elapsed: 0.040s\n",
      "==============================\n",
      "Epoch 2 elapsed: 0.039s\n",
      "==============================\n",
      "Epoch 3 elapsed: 0.039s\n",
      "==============================\n",
      "Epoch 4 elapsed: 0.056s\n",
      "==============================\n",
      "Epoch 5 elapsed: 0.043s\n",
      "==============================\n",
      "Training start time: \u001b[35m2022-07-28 17:12:52\u001b[0m\n",
      "Epoch 1 elapsed: 0.038s\n",
      "==============================\n",
      "Epoch 2 elapsed: 0.039s\n",
      "==============================\n",
      "Epoch 3 elapsed: 0.039s\n",
      "==============================\n",
      "Epoch 4 elapsed: 0.038s\n",
      "==============================\n",
      "Epoch 5 elapsed: 0.049s\n",
      "==============================\n",
      "Training start time: \u001b[35m2022-07-28 17:12:53\u001b[0m\n",
      "Epoch 1 elapsed: 0.059s\n",
      "==============================\n",
      "Epoch 2 elapsed: 0.040s\n",
      "==============================\n",
      "Epoch 3 elapsed: 0.039s\n",
      "==============================\n",
      "Epoch 4 elapsed: 0.039s\n",
      "==============================\n",
      "Epoch 5 elapsed: 0.077s\n",
      "==============================\n",
      "Training start time: \u001b[35m2022-07-28 17:12:54\u001b[0m\n",
      "Epoch 1 elapsed: 0.045s\n",
      "==============================\n",
      "Epoch 2 elapsed: 0.039s\n",
      "==============================\n",
      "Epoch 3 elapsed: 0.038s\n",
      "==============================\n",
      "Epoch 4 elapsed: 0.038s\n",
      "==============================\n",
      "Epoch 5 elapsed: 0.048s\n",
      "==============================\n",
      "Training start time: \u001b[35m2022-07-28 17:12:55\u001b[0m\n",
      "Epoch 1 elapsed: 0.045s\n",
      "==============================\n",
      "Epoch 2 elapsed: 0.112s\n",
      "==============================\n",
      "Epoch 3 elapsed: 0.134s\n",
      "==============================\n",
      "Epoch 4 elapsed: 0.119s\n",
      "==============================\n",
      "Epoch 5 elapsed: 0.142s\n",
      "==============================\n",
      "Training start time: \u001b[35m2022-07-28 17:12:57\u001b[0m\n",
      "Epoch 1 elapsed: 0.076s\n",
      "==============================\n",
      "Epoch 2 elapsed: 0.038s\n",
      "==============================\n",
      "Epoch 3 elapsed: 0.038s\n",
      "==============================\n",
      "Epoch 4 elapsed: 0.069s\n",
      "==============================\n",
      "Epoch 5 elapsed: 0.064s\n",
      "==============================\n",
      "Training start time: \u001b[35m2022-07-28 17:12:58\u001b[0m\n",
      "Epoch 1 elapsed: 0.042s\n",
      "==============================\n",
      "Epoch 2 elapsed: 0.039s\n",
      "==============================\n",
      "Epoch 3 elapsed: 0.064s\n",
      "==============================\n",
      "Epoch 4 elapsed: 0.039s\n",
      "==============================\n",
      "Epoch 5 elapsed: 0.072s\n",
      "==============================\n",
      "Training start time: \u001b[35m2022-07-28 17:12:59\u001b[0m\n",
      "Epoch 1 elapsed: 0.075s\n",
      "==============================\n",
      "Epoch 2 elapsed: 0.080s\n",
      "==============================\n",
      "Epoch 3 elapsed: 0.065s\n",
      "==============================\n",
      "Epoch 4 elapsed: 0.062s\n",
      "==============================\n",
      "Epoch 5 elapsed: 0.059s\n",
      "==============================\n",
      "Training start time: \u001b[35m2022-07-28 17:13:00\u001b[0m\n",
      "Epoch 1 elapsed: 0.060s\n",
      "==============================\n",
      "Epoch 2 elapsed: 0.063s\n",
      "==============================\n",
      "Epoch 3 elapsed: 0.059s\n",
      "==============================\n"
     ]
    },
    {
     "name": "stdout",
     "output_type": "stream",
     "text": [
      "Epoch 4 elapsed: 0.113s\n",
      "==============================\n",
      "Epoch 5 elapsed: 0.076s\n",
      "==============================\n",
      "Training start time: \u001b[35m2022-07-28 17:13:01\u001b[0m\n",
      "Epoch 1 elapsed: 0.069s\n",
      "==============================\n",
      "Epoch 2 elapsed: 0.059s\n",
      "==============================\n",
      "Epoch 3 elapsed: 0.075s\n",
      "==============================\n",
      "Epoch 4 elapsed: 0.078s\n",
      "==============================\n",
      "Epoch 5 elapsed: 0.059s\n",
      "==============================\n",
      "Training start time: \u001b[35m2022-07-28 17:13:02\u001b[0m\n",
      "Epoch 1 elapsed: 0.063s\n",
      "==============================\n",
      "Epoch 2 elapsed: 0.059s\n",
      "==============================\n",
      "Epoch 3 elapsed: 0.062s\n",
      "==============================\n",
      "Epoch 4 elapsed: 0.074s\n",
      "==============================\n",
      "Epoch 5 elapsed: 0.059s\n",
      "==============================\n",
      "Training start time: \u001b[35m2022-07-28 17:13:04\u001b[0m\n",
      "Epoch 1 elapsed: 0.059s\n",
      "==============================\n",
      "Epoch 2 elapsed: 0.059s\n",
      "==============================\n",
      "Epoch 3 elapsed: 0.068s\n",
      "==============================\n",
      "Epoch 4 elapsed: 0.084s\n",
      "==============================\n",
      "Epoch 5 elapsed: 0.106s\n",
      "==============================\n",
      "Training start time: \u001b[35m2022-07-28 17:13:05\u001b[0m\n",
      "Epoch 1 elapsed: 0.083s\n",
      "==============================\n",
      "Epoch 2 elapsed: 0.059s\n",
      "==============================\n",
      "Epoch 3 elapsed: 0.065s\n",
      "==============================\n",
      "Epoch 4 elapsed: 0.070s\n",
      "==============================\n",
      "Epoch 5 elapsed: 0.061s\n",
      "==============================\n",
      "Training start time: \u001b[35m2022-07-28 17:13:06\u001b[0m\n",
      "Epoch 1 elapsed: 0.088s\n",
      "==============================\n",
      "Epoch 2 elapsed: 0.065s\n",
      "==============================\n",
      "Epoch 3 elapsed: 0.064s\n",
      "==============================\n",
      "Epoch 4 elapsed: 0.104s\n",
      "==============================\n",
      "Epoch 5 elapsed: 0.085s\n",
      "==============================\n",
      "Training start time: \u001b[35m2022-07-28 17:13:07\u001b[0m\n",
      "Epoch 1 elapsed: 0.081s\n",
      "==============================\n",
      "Epoch 2 elapsed: 0.060s\n",
      "==============================\n",
      "Epoch 3 elapsed: 0.061s\n",
      "==============================\n",
      "Epoch 4 elapsed: 0.062s\n",
      "==============================\n",
      "Epoch 5 elapsed: 0.064s\n",
      "==============================\n",
      "Training start time: \u001b[35m2022-07-28 17:13:08\u001b[0m\n",
      "Epoch 1 elapsed: 0.143s\n",
      "==============================\n",
      "Epoch 2 elapsed: 0.107s\n",
      "==============================\n",
      "Epoch 3 elapsed: 0.127s\n",
      "==============================\n",
      "Epoch 4 elapsed: 0.138s\n",
      "==============================\n",
      "Epoch 5 elapsed: 0.082s\n",
      "==============================\n",
      "Training start time: \u001b[35m2022-07-28 17:13:10\u001b[0m\n",
      "Epoch 1 elapsed: 0.101s\n",
      "==============================\n",
      "Epoch 2 elapsed: 0.090s\n",
      "==============================\n",
      "Epoch 3 elapsed: 0.119s\n",
      "==============================\n",
      "Epoch 4 elapsed: 0.083s\n",
      "==============================\n",
      "Epoch 5 elapsed: 0.087s\n",
      "==============================\n",
      "Training start time: \u001b[35m2022-07-28 17:13:11\u001b[0m\n",
      "Epoch 1 elapsed: 0.083s\n",
      "==============================\n",
      "Epoch 2 elapsed: 0.099s\n",
      "==============================\n",
      "Epoch 3 elapsed: 0.111s\n",
      "==============================\n",
      "Epoch 4 elapsed: 0.090s\n",
      "==============================\n",
      "Epoch 5 elapsed: 0.109s\n",
      "==============================\n",
      "Training start time: \u001b[35m2022-07-28 17:13:12\u001b[0m\n",
      "Epoch 1 elapsed: 0.112s\n",
      "==============================\n",
      "Epoch 2 elapsed: 0.127s\n",
      "==============================\n",
      "Epoch 3 elapsed: 0.106s\n",
      "==============================\n",
      "Epoch 4 elapsed: 0.092s\n",
      "==============================\n",
      "Epoch 5 elapsed: 0.110s\n",
      "==============================\n",
      "Training start time: \u001b[35m2022-07-28 17:13:14\u001b[0m\n",
      "Epoch 1 elapsed: 0.145s\n",
      "==============================\n",
      "Epoch 2 elapsed: 0.085s\n",
      "==============================\n",
      "Epoch 3 elapsed: 0.082s\n",
      "==============================\n",
      "Epoch 4 elapsed: 0.094s\n",
      "==============================\n",
      "Epoch 5 elapsed: 0.091s\n",
      "==============================\n",
      "Training start time: \u001b[35m2022-07-28 17:13:15\u001b[0m\n",
      "Epoch 1 elapsed: 0.085s\n",
      "==============================\n",
      "Epoch 2 elapsed: 0.104s\n",
      "==============================\n",
      "Epoch 3 elapsed: 0.123s\n",
      "==============================\n",
      "Epoch 4 elapsed: 0.096s\n",
      "==============================\n",
      "Epoch 5 elapsed: 0.084s\n",
      "==============================\n",
      "Training start time: \u001b[35m2022-07-28 17:13:16\u001b[0m\n",
      "Epoch 1 elapsed: 0.087s\n",
      "==============================\n",
      "Epoch 2 elapsed: 0.082s\n",
      "==============================\n",
      "Epoch 3 elapsed: 0.086s\n",
      "==============================\n",
      "Epoch 4 elapsed: 0.084s\n",
      "==============================\n",
      "Epoch 5 elapsed: 0.098s\n",
      "==============================\n",
      "Training start time: \u001b[35m2022-07-28 17:13:18\u001b[0m\n",
      "Epoch 1 elapsed: 0.100s\n",
      "==============================\n",
      "Epoch 2 elapsed: 0.105s\n",
      "==============================\n",
      "Epoch 3 elapsed: 0.110s\n",
      "==============================\n",
      "Epoch 4 elapsed: 0.082s\n",
      "==============================\n",
      "Epoch 5 elapsed: 0.089s\n",
      "==============================\n",
      "Training start time: \u001b[35m2022-07-28 17:13:19\u001b[0m\n",
      "Epoch 1 elapsed: 0.123s\n",
      "==============================\n",
      "Epoch 2 elapsed: 0.112s\n",
      "==============================\n",
      "Epoch 3 elapsed: 0.146s\n",
      "==============================\n",
      "Epoch 4 elapsed: 0.196s\n",
      "==============================\n",
      "Epoch 5 elapsed: 0.165s\n",
      "==============================\n",
      "Training start time: \u001b[35m2022-07-28 17:13:20\u001b[0m\n",
      "Epoch 1 elapsed: 0.108s\n",
      "==============================\n",
      "Epoch 2 elapsed: 0.132s\n",
      "==============================\n",
      "Epoch 3 elapsed: 0.126s\n",
      "==============================\n",
      "Epoch 4 elapsed: 0.176s\n",
      "==============================\n",
      "Epoch 5 elapsed: 0.174s\n",
      "==============================\n",
      "Training start time: \u001b[35m2022-07-28 17:13:22\u001b[0m\n",
      "Epoch 1 elapsed: 0.107s\n",
      "==============================\n",
      "Epoch 2 elapsed: 0.110s\n",
      "==============================\n",
      "Epoch 3 elapsed: 0.110s\n",
      "==============================\n",
      "Epoch 4 elapsed: 0.111s\n",
      "==============================\n",
      "Epoch 5 elapsed: 0.160s\n",
      "==============================\n",
      "Training start time: \u001b[35m2022-07-28 17:13:23\u001b[0m\n",
      "Epoch 1 elapsed: 0.137s\n",
      "==============================\n",
      "Epoch 2 elapsed: 0.201s\n",
      "==============================\n",
      "Epoch 3 elapsed: 0.199s\n",
      "==============================\n",
      "Epoch 4 elapsed: 0.135s\n",
      "==============================\n",
      "Epoch 5 elapsed: 0.108s\n",
      "==============================\n",
      "Training start time: \u001b[35m2022-07-28 17:13:25\u001b[0m\n",
      "Epoch 1 elapsed: 0.149s\n",
      "==============================\n",
      "Epoch 2 elapsed: 0.169s\n",
      "==============================\n",
      "Epoch 3 elapsed: 0.135s\n",
      "==============================\n",
      "Epoch 4 elapsed: 0.198s\n",
      "==============================\n",
      "Epoch 5 elapsed: 0.141s\n",
      "==============================\n",
      "Training start time: \u001b[35m2022-07-28 17:13:27\u001b[0m\n",
      "Epoch 1 elapsed: 0.131s\n",
      "==============================\n",
      "Epoch 2 elapsed: 0.109s\n",
      "==============================\n",
      "Epoch 3 elapsed: 0.107s\n",
      "==============================\n",
      "Epoch 4 elapsed: 0.120s\n",
      "==============================\n",
      "Epoch 5 elapsed: 0.182s\n",
      "==============================\n",
      "Training start time: \u001b[35m2022-07-28 17:13:28\u001b[0m\n",
      "Epoch 1 elapsed: 0.112s\n",
      "==============================\n",
      "Epoch 2 elapsed: 0.163s\n",
      "==============================\n",
      "Epoch 3 elapsed: 0.137s\n",
      "==============================\n",
      "Epoch 4 elapsed: 0.178s\n",
      "==============================\n",
      "Epoch 5 elapsed: 0.136s\n",
      "==============================\n",
      "Training start time: \u001b[35m2022-07-28 17:13:30\u001b[0m\n",
      "Epoch 1 elapsed: 0.117s\n",
      "==============================\n",
      "Epoch 2 elapsed: 0.142s\n",
      "==============================\n",
      "Epoch 3 elapsed: 0.106s\n",
      "==============================\n",
      "Epoch 4 elapsed: 0.121s\n",
      "==============================\n",
      "Epoch 5 elapsed: 0.131s\n",
      "==============================\n",
      "Training start time: \u001b[35m2022-07-28 17:13:31\u001b[0m\n",
      "Epoch 1 elapsed: 0.191s\n",
      "==============================\n",
      "Epoch 2 elapsed: 0.145s\n",
      "==============================\n",
      "Epoch 3 elapsed: 0.146s\n",
      "==============================\n",
      "Epoch 4 elapsed: 0.139s\n",
      "==============================\n",
      "Epoch 5 elapsed: 0.198s\n",
      "==============================\n",
      "Training start time: \u001b[35m2022-07-28 17:13:33\u001b[0m\n",
      "Epoch 1 elapsed: 0.137s\n",
      "==============================\n",
      "Epoch 2 elapsed: 0.139s\n",
      "==============================\n",
      "Epoch 3 elapsed: 0.156s\n",
      "==============================\n",
      "Epoch 4 elapsed: 0.138s\n",
      "==============================\n",
      "Epoch 5 elapsed: 0.136s\n",
      "==============================\n",
      "Training start time: \u001b[35m2022-07-28 17:13:34\u001b[0m\n",
      "Epoch 1 elapsed: 0.178s\n",
      "==============================\n",
      "Epoch 2 elapsed: 0.166s\n",
      "==============================\n",
      "Epoch 3 elapsed: 0.135s\n",
      "==============================\n",
      "Epoch 4 elapsed: 0.191s\n",
      "==============================\n",
      "Epoch 5 elapsed: 0.185s\n",
      "==============================\n"
     ]
    },
    {
     "name": "stdout",
     "output_type": "stream",
     "text": [
      "Training start time: \u001b[35m2022-07-28 17:13:36\u001b[0m\n",
      "Epoch 1 elapsed: 0.136s\n",
      "==============================\n",
      "Epoch 2 elapsed: 0.159s\n",
      "==============================\n",
      "Epoch 3 elapsed: 0.158s\n",
      "==============================\n",
      "Epoch 4 elapsed: 0.167s\n",
      "==============================\n",
      "Epoch 5 elapsed: 0.228s\n",
      "==============================\n",
      "Training start time: \u001b[35m2022-07-28 17:13:38\u001b[0m\n",
      "Epoch 1 elapsed: 0.139s\n",
      "==============================\n",
      "Epoch 2 elapsed: 0.138s\n",
      "==============================\n",
      "Epoch 3 elapsed: 0.147s\n",
      "==============================\n",
      "Epoch 4 elapsed: 0.137s\n",
      "==============================\n",
      "Epoch 5 elapsed: 0.136s\n",
      "==============================\n",
      "Training start time: \u001b[35m2022-07-28 17:13:39\u001b[0m\n",
      "Epoch 1 elapsed: 0.140s\n",
      "==============================\n",
      "Epoch 2 elapsed: 0.161s\n",
      "==============================\n",
      "Epoch 3 elapsed: 0.156s\n",
      "==============================\n",
      "Epoch 4 elapsed: 0.182s\n",
      "==============================\n",
      "Epoch 5 elapsed: 0.169s\n",
      "==============================\n",
      "Training start time: \u001b[35m2022-07-28 17:13:41\u001b[0m\n",
      "Epoch 1 elapsed: 0.162s\n",
      "==============================\n",
      "Epoch 2 elapsed: 0.176s\n",
      "==============================\n",
      "Epoch 3 elapsed: 0.171s\n",
      "==============================\n",
      "Epoch 4 elapsed: 0.150s\n",
      "==============================\n",
      "Epoch 5 elapsed: 0.139s\n",
      "==============================\n",
      "Training start time: \u001b[35m2022-07-28 17:13:42\u001b[0m\n",
      "Epoch 1 elapsed: 0.136s\n",
      "==============================\n",
      "Epoch 2 elapsed: 0.139s\n",
      "==============================\n",
      "Epoch 3 elapsed: 0.173s\n",
      "==============================\n",
      "Epoch 4 elapsed: 0.144s\n",
      "==============================\n",
      "Epoch 5 elapsed: 0.154s\n",
      "==============================\n",
      "Training start time: \u001b[35m2022-07-28 17:13:44\u001b[0m\n",
      "Epoch 1 elapsed: 0.231s\n",
      "==============================\n",
      "Epoch 2 elapsed: 0.230s\n",
      "==============================\n",
      "Epoch 3 elapsed: 0.201s\n",
      "==============================\n",
      "Epoch 4 elapsed: 0.208s\n",
      "==============================\n",
      "Epoch 5 elapsed: 0.220s\n",
      "==============================\n",
      "Training start time: \u001b[35m2022-07-28 17:13:46\u001b[0m\n",
      "Epoch 1 elapsed: 0.205s\n",
      "==============================\n",
      "Epoch 2 elapsed: 0.247s\n",
      "==============================\n",
      "Epoch 3 elapsed: 0.196s\n",
      "==============================\n",
      "Epoch 4 elapsed: 0.209s\n",
      "==============================\n",
      "Epoch 5 elapsed: 0.197s\n",
      "==============================\n",
      "Training start time: \u001b[35m2022-07-28 17:13:48\u001b[0m\n",
      "Epoch 1 elapsed: 0.220s\n",
      "==============================\n",
      "Epoch 2 elapsed: 0.212s\n",
      "==============================\n",
      "Epoch 3 elapsed: 0.241s\n",
      "==============================\n",
      "Epoch 4 elapsed: 0.271s\n",
      "==============================\n",
      "Epoch 5 elapsed: 0.228s\n",
      "==============================\n",
      "Training start time: \u001b[35m2022-07-28 17:13:50\u001b[0m\n",
      "Epoch 1 elapsed: 0.255s\n",
      "==============================\n",
      "Epoch 2 elapsed: 0.188s\n",
      "==============================\n",
      "Epoch 3 elapsed: 0.205s\n",
      "==============================\n",
      "Epoch 4 elapsed: 0.275s\n",
      "==============================\n",
      "Epoch 5 elapsed: 0.292s\n",
      "==============================\n",
      "Training start time: \u001b[35m2022-07-28 17:13:52\u001b[0m\n",
      "Epoch 1 elapsed: 0.230s\n",
      "==============================\n",
      "Epoch 2 elapsed: 0.194s\n",
      "==============================\n",
      "Epoch 3 elapsed: 0.203s\n",
      "==============================\n",
      "Epoch 4 elapsed: 0.212s\n",
      "==============================\n",
      "Epoch 5 elapsed: 0.194s\n",
      "==============================\n",
      "Training start time: \u001b[35m2022-07-28 17:13:54\u001b[0m\n",
      "Epoch 1 elapsed: 0.208s\n",
      "==============================\n",
      "Epoch 2 elapsed: 0.216s\n",
      "==============================\n",
      "Epoch 3 elapsed: 0.198s\n",
      "==============================\n",
      "Epoch 4 elapsed: 0.199s\n",
      "==============================\n",
      "Epoch 5 elapsed: 0.222s\n",
      "==============================\n",
      "Training start time: \u001b[35m2022-07-28 17:13:56\u001b[0m\n",
      "Epoch 1 elapsed: 0.189s\n",
      "==============================\n",
      "Epoch 2 elapsed: 0.206s\n",
      "==============================\n",
      "Epoch 3 elapsed: 0.261s\n",
      "==============================\n",
      "Epoch 4 elapsed: 0.192s\n",
      "==============================\n",
      "Epoch 5 elapsed: 0.277s\n",
      "==============================\n",
      "Training start time: \u001b[35m2022-07-28 17:13:58\u001b[0m\n",
      "Epoch 1 elapsed: 0.221s\n",
      "==============================\n",
      "Epoch 2 elapsed: 0.188s\n",
      "==============================\n",
      "Epoch 3 elapsed: 0.225s\n",
      "==============================\n",
      "Epoch 4 elapsed: 0.221s\n",
      "==============================\n",
      "Epoch 5 elapsed: 0.197s\n",
      "==============================\n"
     ]
    }
   ],
   "source": [
    "#------------- submission ----------------#\n",
    "\n",
    "emb_sizes = [2,3,4,5,6,8,10,12,15]\n",
    "regs = [0.01, 0.05, 0.1, 0.2, 0.3, 0.5, 1,2, 3]\n",
    "train_pd = pd.read_csv(f'../data/data_train.csv')\n",
    "\n",
    "users_train, movies_train, _ = extract_users_movies_ratings_lists(train_pd)\n",
    "ratings_train = normalize_extract_lists(train_pd, users_train, movies_train)\n",
    "\n",
    "test_pd = pd.read_csv('../data/sampleSubmission.csv')\n",
    "users_test, movies_test, _ = extract_users_movies_ratings_lists(test_pd)\n",
    "\n",
    "train = pd.DataFrame({'user': users_train, 'item': movies_train, 'label': ratings_train})\n",
    "\n",
    "david = np.zeros((len(emb_sizes)*len(regs), len(users_test)))\n",
    "\n",
    "# %%\n",
    "train_data, data_info = DatasetPure.build_trainset(train)\n",
    "\n",
    "for i, emb_size in enumerate(emb_sizes):\n",
    "    for j, reg in enumerate(regs):\n",
    "        giorgio = ALS(task=\"rating\", data_info=data_info, embed_size=emb_size, n_epochs=5,\n",
    "                    reg=reg, seed=42)\n",
    "        giorgio.fit(train_data, verbose=2, use_cg=False, n_threads=8, metrics=[\"rmse\", \"mae\", \"r2\"])\n",
    "        david[len(regs)*i+j] = np.array(giorgio.predict(user=users_test, item=movies_test))\n",
    "        \n",
    "yhat = david.mean(axis=0)\n",
    "save_predictions(f'./ALS-predictedSubmission.csv', yhat)"
   ]
  },
  {
   "cell_type": "code",
   "execution_count": 10,
   "id": "1c353b40",
   "metadata": {},
   "outputs": [
    {
     "data": {
      "text/plain": [
       "array([3.22483046, 3.22381977, 3.81900809, ..., 3.01826393, 3.06777642,\n",
       "       3.76851724])"
      ]
     },
     "execution_count": 10,
     "metadata": {},
     "output_type": "execute_result"
    }
   ],
   "source": [
    "yhat"
   ]
  },
  {
   "cell_type": "code",
   "execution_count": 11,
   "id": "928ef8ff",
   "metadata": {},
   "outputs": [
    {
     "data": {
      "text/plain": [
       "0.579380095099008"
      ]
     },
     "execution_count": 11,
     "metadata": {},
     "output_type": "execute_result"
    }
   ],
   "source": [
    "yhat.std()"
   ]
  }
 ],
 "metadata": {
  "kernelspec": {
   "display_name": "Python 3 (ipykernel)",
   "language": "python",
   "name": "python3"
  },
  "language_info": {
   "codemirror_mode": {
    "name": "ipython",
    "version": 3
   },
   "file_extension": ".py",
   "mimetype": "text/x-python",
   "name": "python",
   "nbconvert_exporter": "python",
   "pygments_lexer": "ipython3",
   "version": "3.8.10"
  }
 },
 "nbformat": 4,
 "nbformat_minor": 5
}
