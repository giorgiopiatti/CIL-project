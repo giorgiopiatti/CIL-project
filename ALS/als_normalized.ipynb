{
 "cells": [
  {
   "cell_type": "code",
   "execution_count": 1,
   "id": "1fb372fd",
   "metadata": {},
   "outputs": [],
   "source": [
    "import importlib\n",
    "import dataset\n",
    "importlib.reload(dataset)\n",
    "from dataset import extract_matrix_users_movies_ratings, extract_users_movies_ratings_lists"
   ]
  },
  {
   "cell_type": "code",
   "execution_count": 2,
   "id": "f38ae4a8",
   "metadata": {},
   "outputs": [
    {
     "name": "stdout",
     "output_type": "stream",
     "text": [
      "WARNING:tensorflow:From C:\\Users\\natha\\anaconda3\\lib\\site-packages\\tensorflow\\python\\compat\\v2_compat.py:107: disable_resource_variables (from tensorflow.python.ops.variable_scope) is deprecated and will be removed in a future version.\n",
      "Instructions for updating:\n",
      "non-resource variables are not supported in the long term\n"
     ]
    }
   ],
   "source": [
    "import numpy as np\n",
    "import pandas as pd\n",
    "from sklearn.model_selection import train_test_split\n",
    "import random\n",
    "from dataset import extract_matrix_users_movies_ratings, extract_users_movies_ratings_lists\n",
    "from libreco.data import split_by_ratio_chrono, DatasetPure\n",
    "from libreco.algorithms import ALS\n",
    "from sklearn.metrics import mean_squared_error"
   ]
  },
  {
   "cell_type": "code",
   "execution_count": 4,
   "id": "1009aa3e",
   "metadata": {},
   "outputs": [],
   "source": [
    "RANDOM_STATE = 58\n",
    "data_pd = pd.read_csv('../data/data_train.csv')\n",
    "train_pd, val_pd = train_test_split(data_pd, train_size=0.9, random_state=RANDOM_STATE)\n",
    "\n",
    "users_train, movies_train, ratings_train = extract_users_movies_ratings_lists(train_pd)\n",
    "users_val, movies_val, ratings_val = extract_users_movies_ratings_lists(val_pd)\n",
    "\n",
    "test_pd = pd.read_csv('../data/sampleSubmission.csv')\n",
    "users_test, movies_test, _ = extract_users_movies_ratings_lists(test_pd)\n",
    "\n",
    "train = pd.DataFrame({'user': users_train, 'item': movies_train, 'label': ratings_train})\n",
    "val = pd.DataFrame({'user': users_val, 'item': movies_val, 'label': ratings_val})\n",
    "\n",
    "# %%\n",
    "train_data, data_info = DatasetPure.build_trainset(train)\n",
    "eval_data = DatasetPure.build_evalset(val)"
   ]
  },
  {
   "cell_type": "code",
   "execution_count": 69,
   "id": "2b6ceab1",
   "metadata": {},
   "outputs": [],
   "source": [
    "data_matrix, _ = extract_matrix_users_movies_ratings(data_pd)\n",
    "# axis 0 means: we subtract the means for each movie\n",
    "\n",
    "data_matrix[data_matrix == 0] = 'nan'\n",
    "mean_matrix = np.nanmean(data_matrix, axis=0, keepdims=True)\n",
    "data_matrix[np.isnan(data_matrix)] = 0\n",
    "data_matrix_normalized = np.subtract(data_matrix, mean_matrix, where=data_matrix != 0)"
   ]
  }
 ],
 "metadata": {
  "kernelspec": {
   "display_name": "Python 3 (ipykernel)",
   "language": "python",
   "name": "python3"
  },
  "language_info": {
   "codemirror_mode": {
    "name": "ipython",
    "version": 3
   },
   "file_extension": ".py",
   "mimetype": "text/x-python",
   "name": "python",
   "nbconvert_exporter": "python",
   "pygments_lexer": "ipython3",
   "version": "3.9.7"
  }
 },
 "nbformat": 4,
 "nbformat_minor": 5
}
