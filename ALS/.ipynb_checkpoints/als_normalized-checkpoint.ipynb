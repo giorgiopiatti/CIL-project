{
 "cells": [
  {
   "cell_type": "code",
   "execution_count": 90,
   "id": "59d1aafc",
   "metadata": {},
   "outputs": [],
   "source": [
    "import numpy as np\n",
    "import pandas as pd\n",
    "from sklearn.model_selection import train_test_split\n",
    "import random\n",
    "from dataset import extract_matrix_users_movies_ratings, extract_users_movies_ratings_lists\n",
    "from libreco.data import split_by_ratio_chrono, DatasetPure\n",
    "from libreco.algorithms import ALS\n",
    "from sklearn.metrics import mean_squared_error\n",
    "from scipy.sparse import coo_matrix\n",
    "\n",
    "import importlib\n",
    "import dataset\n",
    "importlib.reload(dataset)\n",
    "from dataset import extract_matrix_users_movies_ratings, extract_users_movies_ratings_lists"
   ]
  },
  {
   "cell_type": "code",
   "execution_count": 92,
   "id": "50695e8e",
   "metadata": {},
   "outputs": [],
   "source": [
    "data_pd = pd.read_csv('../data/data_train.csv')\n",
    "data_matrix, _ = extract_matrix_users_movies_ratings(data_pd)\n",
    "# axis 0 means: we subtract the means for each movie\n",
    "\n",
    "data_matrix[data_matrix == 0] = 'nan'\n",
    "MEAN_MATRIX = np.nanmean(data_matrix, axis=0, keepdims=True)"
   ]
  },
  {
   "cell_type": "code",
   "execution_count": 94,
   "id": "1babb727",
   "metadata": {},
   "outputs": [],
   "source": [
    "def subtract_mean_extract_lists(pd):  \n",
    "    data_matrix, _ = extract_matrix_users_movies_ratings(pd)\n",
    "    # axis 0 means: we subtract the means for each movie\n",
    "    data_matrix_normalized = np.subtract(data_matrix, MEAN_MATRIX, where=data_matrix != 0)\n",
    "    tmp = coo_matrix(data_matrix_normalized)\n",
    "    users, movies, ratings = tmp.row, tmp.col, tmp.data\n",
    "    return users, movies, ratings"
   ]
  },
  {
   "cell_type": "code",
   "execution_count": 96,
   "id": "c5bb1e1d",
   "metadata": {},
   "outputs": [],
   "source": [
    "RANDOM_STATE = 58\n",
    "train_pd, val_pd = train_test_split(data_pd, train_size=0.9, random_state=RANDOM_STATE)\n",
    "\n",
    "users_train, movies_train, ratings_train = subtract_mean_extract_lists(train_pd)\n",
    "users_val, movies_val, ratings_val = subtract_mean_extract_lists(val_pd)\n",
    "\n",
    "test_pd = pd.read_csv('../data/sampleSubmission.csv')\n",
    "users_test, movies_test, _ = extract_users_movies_ratings_lists(test_pd)\n",
    "\n",
    "train = pd.DataFrame({'user': users_train, 'item': movies_train, 'label': ratings_train})\n",
    "val = pd.DataFrame({'user': users_val, 'item': movies_val, 'label': ratings_val})\n",
    "\n",
    "# %%\n",
    "train_data, data_info = DatasetPure.build_trainset(train)\n",
    "eval_data = DatasetPure.build_evalset(val)"
   ]
  },
  {
   "cell_type": "code",
   "execution_count": 100,
   "id": "0d1cd537",
   "metadata": {},
   "outputs": [
    {
     "name": "stderr",
     "output_type": "stream",
     "text": [
      "C:\\Users\\natha\\AppData\\Local\\Temp/ipykernel_1892/1694673956.py:7: DeprecationWarning: elementwise comparison failed; this will raise an error in the future.\n",
      "  assert users_train == users_train2\n"
     ]
    },
    {
     "ename": "AssertionError",
     "evalue": "",
     "output_type": "error",
     "traceback": [
      "\u001b[1;31m---------------------------------------------------------------------------\u001b[0m",
      "\u001b[1;31mAssertionError\u001b[0m                            Traceback (most recent call last)",
      "\u001b[1;32m~\\AppData\\Local\\Temp/ipykernel_1892/1694673956.py\u001b[0m in \u001b[0;36m<module>\u001b[1;34m\u001b[0m\n\u001b[0;32m      5\u001b[0m \u001b[0musers_train2\u001b[0m\u001b[1;33m,\u001b[0m \u001b[0mmovies_train2\u001b[0m\u001b[1;33m,\u001b[0m \u001b[0mratings_train2\u001b[0m \u001b[1;33m=\u001b[0m \u001b[0mextract_users_movies_ratings_lists\u001b[0m\u001b[1;33m(\u001b[0m\u001b[0mtrain_pd\u001b[0m\u001b[1;33m)\u001b[0m\u001b[1;33m\u001b[0m\u001b[1;33m\u001b[0m\u001b[0m\n\u001b[0;32m      6\u001b[0m \u001b[1;33m\u001b[0m\u001b[0m\n\u001b[1;32m----> 7\u001b[1;33m \u001b[1;32massert\u001b[0m \u001b[0musers_train\u001b[0m \u001b[1;33m==\u001b[0m \u001b[0musers_train2\u001b[0m\u001b[1;33m\u001b[0m\u001b[1;33m\u001b[0m\u001b[0m\n\u001b[0m\u001b[0;32m      8\u001b[0m \u001b[1;32massert\u001b[0m \u001b[0mmovies_train\u001b[0m \u001b[1;33m==\u001b[0m \u001b[0mmovies_train2\u001b[0m\u001b[1;33m\u001b[0m\u001b[1;33m\u001b[0m\u001b[0m\n",
      "\u001b[1;31mAssertionError\u001b[0m: "
     ]
    }
   ],
   "source": [
    "data_pd = pd.read_csv('../data/data_train.csv')\n",
    "train_pd, val_pd = train_test_split(data_pd, train_size=0.9, random_state=RANDOM_STATE)\n",
    "\n",
    "users_train, movies_train, ratings_train = subtract_mean_extract_lists(train_pd)\n",
    "users_train2, movies_train2, ratings_train2 = extract_users_movies_ratings_lists(train_pd)\n",
    "\n",
    "assert users_train == users_train2\n",
    "assert movies_train == movies_train2"
   ]
  },
  {
   "cell_type": "code",
   "execution_count": 105,
   "id": "72149a4c",
   "metadata": {},
   "outputs": [
    {
     "data": {
      "text/plain": [
       "(1059256,)"
      ]
     },
     "execution_count": 105,
     "metadata": {},
     "output_type": "execute_result"
    }
   ],
   "source": [
    "users_train2.shape"
   ]
  },
  {
   "cell_type": "code",
   "execution_count": 97,
   "id": "f651c21b",
   "metadata": {},
   "outputs": [],
   "source": [
    "def get_mean(i):\n",
    "    mean_vector = np.squeeze(MEAN_MATRIX)\n",
    "    return mean_vector[i]\n",
    "\n",
    "def get_offset(movies):\n",
    "    return np.array(list(map(get_mean, movies)))"
   ]
  },
  {
   "cell_type": "code",
   "execution_count": 98,
   "id": "7daad82b",
   "metadata": {},
   "outputs": [
    {
     "name": "stdout",
     "output_type": "stream",
     "text": [
      "Training start time: \u001b[35m2022-07-19 17:42:27\u001b[0m\n",
      "Epoch 1 elapsed: 0.033s\n"
     ]
    },
    {
     "name": "stderr",
     "output_type": "stream",
     "text": [
      "eval_pred: 100%|██████████████████████████████████████████████████████████████████████| 15/15 [00:00<00:00, 406.49it/s]"
     ]
    },
    {
     "name": "stdout",
     "output_type": "stream",
     "text": [
      "\t eval rmse: 1.0381\n",
      "\t eval mae: 0.8426\n",
      "\t eval r2: -0.0178\n",
      "==============================\n",
      "Epoch 2 elapsed: 0.031s\n"
     ]
    },
    {
     "name": "stderr",
     "output_type": "stream",
     "text": [
      "\n",
      "eval_pred: 100%|██████████████████████████████████████████████████████████████████████| 15/15 [00:00<00:00, 335.14it/s]\n"
     ]
    },
    {
     "name": "stdout",
     "output_type": "stream",
     "text": [
      "\t eval rmse: 1.0171\n",
      "\t eval mae: 0.8197\n",
      "\t eval r2: 0.0229\n",
      "==============================\n",
      "Epoch 3 elapsed: 0.036s\n"
     ]
    },
    {
     "name": "stderr",
     "output_type": "stream",
     "text": [
      "eval_pred: 100%|██████████████████████████████████████████████████████████████████████| 15/15 [00:00<00:00, 311.85it/s]\n"
     ]
    },
    {
     "name": "stdout",
     "output_type": "stream",
     "text": [
      "\t eval rmse: 1.0026\n",
      "\t eval mae: 0.8054\n",
      "\t eval r2: 0.0506\n",
      "==============================\n",
      "Epoch 4 elapsed: 0.038s\n"
     ]
    },
    {
     "name": "stderr",
     "output_type": "stream",
     "text": [
      "eval_pred: 100%|██████████████████████████████████████████████████████████████████████| 15/15 [00:00<00:00, 381.02it/s]\n"
     ]
    },
    {
     "name": "stdout",
     "output_type": "stream",
     "text": [
      "\t eval rmse: 0.9994\n",
      "\t eval mae: 0.8016\n",
      "\t eval r2: 0.0566\n",
      "==============================\n",
      "Epoch 5 elapsed: 0.033s\n"
     ]
    },
    {
     "name": "stderr",
     "output_type": "stream",
     "text": [
      "eval_pred: 100%|██████████████████████████████████████████████████████████████████████| 15/15 [00:00<00:00, 455.75it/s]\n"
     ]
    },
    {
     "name": "stdout",
     "output_type": "stream",
     "text": [
      "\t eval rmse: 0.9966\n",
      "\t eval mae: 0.7983\n",
      "\t eval r2: 0.0620\n",
      "==============================\n",
      "Training start time: \u001b[35m2022-07-19 17:42:28\u001b[0m\n",
      "Epoch 1 elapsed: 0.031s\n"
     ]
    },
    {
     "name": "stderr",
     "output_type": "stream",
     "text": [
      "eval_pred: 100%|██████████████████████████████████████████████████████████████████████| 15/15 [00:00<00:00, 374.82it/s]"
     ]
    },
    {
     "name": "stdout",
     "output_type": "stream",
     "text": [
      "\t eval rmse: 1.0381\n",
      "\t eval mae: 0.8426\n",
      "\t eval r2: -0.0178\n",
      "==============================\n",
      "Epoch 2 elapsed: 0.038s\n"
     ]
    },
    {
     "name": "stderr",
     "output_type": "stream",
     "text": [
      "\n",
      "eval_pred: 100%|██████████████████████████████████████████████████████████████████████| 15/15 [00:00<00:00, 321.04it/s]\n"
     ]
    },
    {
     "name": "stdout",
     "output_type": "stream",
     "text": [
      "\t eval rmse: 1.0171\n",
      "\t eval mae: 0.8197\n",
      "\t eval r2: 0.0229\n",
      "==============================\n",
      "Epoch 3 elapsed: 0.031s\n"
     ]
    },
    {
     "name": "stderr",
     "output_type": "stream",
     "text": [
      "eval_pred: 100%|██████████████████████████████████████████████████████████████████████| 15/15 [00:00<00:00, 376.96it/s]\n"
     ]
    },
    {
     "name": "stdout",
     "output_type": "stream",
     "text": [
      "\t eval rmse: 1.0026\n",
      "\t eval mae: 0.8054\n",
      "\t eval r2: 0.0506\n",
      "==============================\n",
      "Epoch 4 elapsed: 0.034s\n"
     ]
    },
    {
     "name": "stderr",
     "output_type": "stream",
     "text": [
      "eval_pred: 100%|██████████████████████████████████████████████████████████████████████| 15/15 [00:00<00:00, 470.01it/s]\n"
     ]
    },
    {
     "name": "stdout",
     "output_type": "stream",
     "text": [
      "\t eval rmse: 0.9994\n",
      "\t eval mae: 0.8016\n",
      "\t eval r2: 0.0566\n",
      "==============================\n",
      "Epoch 5 elapsed: 0.035s\n"
     ]
    },
    {
     "name": "stderr",
     "output_type": "stream",
     "text": [
      "eval_pred: 100%|██████████████████████████████████████████████████████████████████████| 15/15 [00:00<00:00, 470.01it/s]\n"
     ]
    },
    {
     "name": "stdout",
     "output_type": "stream",
     "text": [
      "\t eval rmse: 0.9966\n",
      "\t eval mae: 0.7983\n",
      "\t eval r2: 0.0620\n",
      "==============================\n",
      "Training start time: \u001b[35m2022-07-19 17:42:29\u001b[0m\n",
      "Epoch 1 elapsed: 0.038s\n"
     ]
    },
    {
     "name": "stderr",
     "output_type": "stream",
     "text": [
      "eval_pred: 100%|██████████████████████████████████████████████████████████████████████| 15/15 [00:00<00:00, 319.27it/s]"
     ]
    },
    {
     "name": "stdout",
     "output_type": "stream",
     "text": [
      "\t eval rmse: 1.0381\n",
      "\t eval mae: 0.8426\n",
      "\t eval r2: -0.0178\n",
      "==============================\n",
      "Epoch 2 elapsed: 0.031s\n"
     ]
    },
    {
     "name": "stderr",
     "output_type": "stream",
     "text": [
      "\n",
      "eval_pred: 100%|██████████████████████████████████████████████████████████████████████| 15/15 [00:00<00:00, 434.74it/s]\n"
     ]
    },
    {
     "name": "stdout",
     "output_type": "stream",
     "text": [
      "\t eval rmse: 1.0171\n",
      "\t eval mae: 0.8197\n",
      "\t eval r2: 0.0229\n",
      "==============================\n",
      "Epoch 3 elapsed: 0.038s\n"
     ]
    },
    {
     "name": "stderr",
     "output_type": "stream",
     "text": [
      "eval_pred: 100%|██████████████████████████████████████████████████████████████████████| 15/15 [00:00<00:00, 417.76it/s]\n"
     ]
    },
    {
     "name": "stdout",
     "output_type": "stream",
     "text": [
      "\t eval rmse: 1.0026\n",
      "\t eval mae: 0.8054\n",
      "\t eval r2: 0.0506\n",
      "==============================\n",
      "Epoch 4 elapsed: 0.036s\n"
     ]
    },
    {
     "name": "stderr",
     "output_type": "stream",
     "text": [
      "eval_pred: 100%|██████████████████████████████████████████████████████████████████████| 15/15 [00:00<00:00, 422.39it/s]\n"
     ]
    },
    {
     "name": "stdout",
     "output_type": "stream",
     "text": [
      "\t eval rmse: 0.9994\n",
      "\t eval mae: 0.8016\n",
      "\t eval r2: 0.0566\n",
      "==============================\n",
      "Epoch 5 elapsed: 0.037s\n"
     ]
    },
    {
     "name": "stderr",
     "output_type": "stream",
     "text": [
      "eval_pred: 100%|██████████████████████████████████████████████████████████████████████| 15/15 [00:00<00:00, 389.65it/s]\n"
     ]
    },
    {
     "name": "stdout",
     "output_type": "stream",
     "text": [
      "\t eval rmse: 0.9966\n",
      "\t eval mae: 0.7983\n",
      "\t eval r2: 0.0620\n",
      "==============================\n",
      "Training start time: \u001b[35m2022-07-19 17:42:30\u001b[0m\n",
      "Epoch 1 elapsed: 0.032s\n"
     ]
    },
    {
     "name": "stderr",
     "output_type": "stream",
     "text": [
      "eval_pred: 100%|██████████████████████████████████████████████████████████████████████| 15/15 [00:00<00:00, 470.00it/s]"
     ]
    },
    {
     "name": "stdout",
     "output_type": "stream",
     "text": [
      "\t eval rmse: 1.0381\n",
      "\t eval mae: 0.8426\n",
      "\t eval r2: -0.0178\n",
      "==============================\n",
      "Epoch 2 elapsed: 0.033s"
     ]
    },
    {
     "name": "stderr",
     "output_type": "stream",
     "text": [
      "\n"
     ]
    },
    {
     "name": "stdout",
     "output_type": "stream",
     "text": [
      "\n"
     ]
    },
    {
     "name": "stderr",
     "output_type": "stream",
     "text": [
      "eval_pred: 100%|██████████████████████████████████████████████████████████████████████| 15/15 [00:00<00:00, 470.00it/s]\n"
     ]
    },
    {
     "name": "stdout",
     "output_type": "stream",
     "text": [
      "\t eval rmse: 1.0171\n",
      "\t eval mae: 0.8197\n",
      "\t eval r2: 0.0229\n",
      "==============================\n",
      "Epoch 3 elapsed: 0.033s\n"
     ]
    },
    {
     "name": "stderr",
     "output_type": "stream",
     "text": [
      "eval_pred: 100%|██████████████████████████████████████████████████████████████████████| 15/15 [00:00<00:00, 406.48it/s]\n"
     ]
    },
    {
     "name": "stdout",
     "output_type": "stream",
     "text": [
      "\t eval rmse: 1.0026\n",
      "\t eval mae: 0.8054\n",
      "\t eval r2: 0.0506\n",
      "==============================\n",
      "Epoch 4 elapsed: 0.034s\n"
     ]
    },
    {
     "name": "stderr",
     "output_type": "stream",
     "text": [
      "eval_pred: 100%|██████████████████████████████████████████████████████████████████████| 15/15 [00:00<00:00, 429.71it/s]\n"
     ]
    },
    {
     "name": "stdout",
     "output_type": "stream",
     "text": [
      "\t eval rmse: 0.9994\n",
      "\t eval mae: 0.8016\n",
      "\t eval r2: 0.0566\n",
      "==============================\n",
      "Epoch 5 elapsed: 0.033s\n"
     ]
    },
    {
     "name": "stderr",
     "output_type": "stream",
     "text": [
      "eval_pred: 100%|██████████████████████████████████████████████████████████████████████| 15/15 [00:00<00:00, 455.77it/s]\n"
     ]
    },
    {
     "name": "stdout",
     "output_type": "stream",
     "text": [
      "\t eval rmse: 0.9966\n",
      "\t eval mae: 0.7983\n",
      "\t eval r2: 0.0620\n",
      "==============================\n",
      "Training start time: \u001b[35m2022-07-19 17:42:31\u001b[0m\n",
      "Epoch 1 elapsed: 0.031s\n"
     ]
    },
    {
     "name": "stderr",
     "output_type": "stream",
     "text": [
      "eval_pred: 100%|██████████████████████████████████████████████████████████████████████| 15/15 [00:00<00:00, 450.03it/s]"
     ]
    },
    {
     "name": "stdout",
     "output_type": "stream",
     "text": [
      "\t eval rmse: 1.0381\n",
      "\t eval mae: 0.8426\n",
      "\t eval r2: -0.0178\n",
      "==============================\n",
      "Epoch 2 elapsed: 0.039s\n"
     ]
    },
    {
     "name": "stderr",
     "output_type": "stream",
     "text": [
      "\n",
      "eval_pred: 100%|██████████████████████████████████████████████████████████████████████| 15/15 [00:00<00:00, 310.62it/s]\n"
     ]
    },
    {
     "name": "stdout",
     "output_type": "stream",
     "text": [
      "\t eval rmse: 1.0171\n",
      "\t eval mae: 0.8197\n",
      "\t eval r2: 0.0229\n",
      "==============================\n",
      "Epoch 3 elapsed: 0.033s\n"
     ]
    },
    {
     "name": "stderr",
     "output_type": "stream",
     "text": [
      "eval_pred: 100%|██████████████████████████████████████████████████████████████████████| 15/15 [00:00<00:00, 455.78it/s]\n"
     ]
    },
    {
     "name": "stdout",
     "output_type": "stream",
     "text": [
      "\t eval rmse: 1.0026\n",
      "\t eval mae: 0.8054\n",
      "\t eval r2: 0.0506\n",
      "==============================\n",
      "Epoch 4 elapsed: 0.038s\n"
     ]
    },
    {
     "name": "stderr",
     "output_type": "stream",
     "text": [
      "eval_pred: 100%|██████████████████████████████████████████████████████████████████████| 15/15 [00:00<00:00, 406.49it/s]\n"
     ]
    },
    {
     "name": "stdout",
     "output_type": "stream",
     "text": [
      "\t eval rmse: 0.9994\n",
      "\t eval mae: 0.8016\n",
      "\t eval r2: 0.0566\n",
      "==============================\n",
      "Epoch 5 elapsed: 0.031s\n"
     ]
    },
    {
     "name": "stderr",
     "output_type": "stream",
     "text": [
      "eval_pred: 100%|██████████████████████████████████████████████████████████████████████| 15/15 [00:00<00:00, 343.30it/s]\n"
     ]
    },
    {
     "name": "stdout",
     "output_type": "stream",
     "text": [
      "\t eval rmse: 0.9966\n",
      "\t eval mae: 0.7983\n",
      "\t eval r2: 0.0620\n",
      "==============================\n",
      "Training start time: \u001b[35m2022-07-19 17:42:32\u001b[0m\n",
      "Epoch 1 elapsed: 0.040s\n"
     ]
    },
    {
     "name": "stderr",
     "output_type": "stream",
     "text": [
      "eval_pred: 100%|██████████████████████████████████████████████████████████████████████| 15/15 [00:00<00:00, 298.50it/s]"
     ]
    },
    {
     "name": "stdout",
     "output_type": "stream",
     "text": [
      "\t eval rmse: 1.0368\n",
      "\t eval mae: 0.8416\n",
      "\t eval r2: -0.0153\n",
      "==============================\n"
     ]
    },
    {
     "name": "stderr",
     "output_type": "stream",
     "text": [
      "\n"
     ]
    },
    {
     "name": "stdout",
     "output_type": "stream",
     "text": [
      "Epoch 2 elapsed: 0.033s\n"
     ]
    },
    {
     "name": "stderr",
     "output_type": "stream",
     "text": [
      "eval_pred: 100%|██████████████████████████████████████████████████████████████████████| 15/15 [00:00<00:00, 406.49it/s]\n"
     ]
    },
    {
     "name": "stdout",
     "output_type": "stream",
     "text": [
      "\t eval rmse: 1.0156\n",
      "\t eval mae: 0.8183\n",
      "\t eval r2: 0.0259\n",
      "==============================\n",
      "Epoch 3 elapsed: 0.033s\n"
     ]
    },
    {
     "name": "stderr",
     "output_type": "stream",
     "text": [
      "eval_pred: 100%|██████████████████████████████████████████████████████████████████████| 15/15 [00:00<00:00, 442.34it/s]\n"
     ]
    },
    {
     "name": "stdout",
     "output_type": "stream",
     "text": [
      "\t eval rmse: 1.0020\n",
      "\t eval mae: 0.8048\n",
      "\t eval r2: 0.0517\n",
      "==============================\n",
      "Epoch 4 elapsed: 0.033s\n"
     ]
    },
    {
     "name": "stderr",
     "output_type": "stream",
     "text": [
      "eval_pred: 100%|██████████████████████████████████████████████████████████████████████| 15/15 [00:00<00:00, 429.73it/s]\n"
     ]
    },
    {
     "name": "stdout",
     "output_type": "stream",
     "text": [
      "\t eval rmse: 0.9987\n",
      "\t eval mae: 0.8009\n",
      "\t eval r2: 0.0579\n",
      "==============================\n",
      "Epoch 5 elapsed: 0.033s\n"
     ]
    },
    {
     "name": "stderr",
     "output_type": "stream",
     "text": [
      "eval_pred: 100%|██████████████████████████████████████████████████████████████████████| 15/15 [00:00<00:00, 442.37it/s]\n"
     ]
    },
    {
     "name": "stdout",
     "output_type": "stream",
     "text": [
      "\t eval rmse: 0.9961\n",
      "\t eval mae: 0.7979\n",
      "\t eval r2: 0.0628\n",
      "==============================\n",
      "Training start time: \u001b[35m2022-07-19 17:42:33\u001b[0m\n",
      "Epoch 1 elapsed: 0.036s\n"
     ]
    },
    {
     "name": "stderr",
     "output_type": "stream",
     "text": [
      "eval_pred: 100%|██████████████████████████████████████████████████████████████████████| 15/15 [00:00<00:00, 442.35it/s]"
     ]
    },
    {
     "name": "stdout",
     "output_type": "stream",
     "text": [
      "\t eval rmse: 1.0368\n",
      "\t eval mae: 0.8416\n",
      "\t eval r2: -0.0153\n",
      "==============================\n",
      "Epoch 2 elapsed: 0.035s\n"
     ]
    },
    {
     "name": "stderr",
     "output_type": "stream",
     "text": [
      "\n",
      "eval_pred: 100%|██████████████████████████████████████████████████████████████████████| 15/15 [00:00<00:00, 429.59it/s]\n"
     ]
    },
    {
     "name": "stdout",
     "output_type": "stream",
     "text": [
      "\t eval rmse: 1.0156\n",
      "\t eval mae: 0.8183\n",
      "\t eval r2: 0.0259\n",
      "==============================\n",
      "Epoch 3 elapsed: 0.032s\n"
     ]
    },
    {
     "name": "stderr",
     "output_type": "stream",
     "text": [
      "eval_pred: 100%|██████████████████████████████████████████████████████████████████████| 15/15 [00:00<00:00, 468.65it/s]\n"
     ]
    },
    {
     "name": "stdout",
     "output_type": "stream",
     "text": [
      "\t eval rmse: 1.0020\n",
      "\t eval mae: 0.8048\n",
      "\t eval r2: 0.0517\n",
      "==============================\n",
      "Epoch 4 elapsed: 0.038s\n"
     ]
    },
    {
     "name": "stderr",
     "output_type": "stream",
     "text": [
      "eval_pred: 100%|██████████████████████████████████████████████████████████████████████| 15/15 [00:00<00:00, 417.76it/s]\n"
     ]
    },
    {
     "name": "stdout",
     "output_type": "stream",
     "text": [
      "\t eval rmse: 0.9987\n",
      "\t eval mae: 0.8009\n",
      "\t eval r2: 0.0579\n",
      "==============================\n",
      "Epoch 5 elapsed: 0.033s\n"
     ]
    },
    {
     "name": "stderr",
     "output_type": "stream",
     "text": [
      "eval_pred: 100%|██████████████████████████████████████████████████████████████████████| 15/15 [00:00<00:00, 406.50it/s]\n"
     ]
    },
    {
     "name": "stdout",
     "output_type": "stream",
     "text": [
      "\t eval rmse: 0.9961\n",
      "\t eval mae: 0.7979\n",
      "\t eval r2: 0.0628\n",
      "==============================\n",
      "Training start time: \u001b[35m2022-07-19 17:42:34\u001b[0m\n",
      "Epoch 1 elapsed: 0.034s\n"
     ]
    },
    {
     "name": "stderr",
     "output_type": "stream",
     "text": [
      "eval_pred: 100%|██████████████████████████████████████████████████████████████████████| 15/15 [00:00<00:00, 442.28it/s]"
     ]
    },
    {
     "name": "stdout",
     "output_type": "stream",
     "text": [
      "\t eval rmse: 1.0368\n",
      "\t eval mae: 0.8416\n",
      "\t eval r2: -0.0153\n",
      "==============================\n",
      "Epoch 2 elapsed: 0.032s\n"
     ]
    },
    {
     "name": "stderr",
     "output_type": "stream",
     "text": [
      "\n",
      "eval_pred: 100%|██████████████████████████████████████████████████████████████████████| 15/15 [00:00<00:00, 455.76it/s]\n"
     ]
    },
    {
     "name": "stdout",
     "output_type": "stream",
     "text": [
      "\t eval rmse: 1.0156\n",
      "\t eval mae: 0.8183\n",
      "\t eval r2: 0.0259\n",
      "==============================\n",
      "Epoch 3 elapsed: 0.032s\n"
     ]
    },
    {
     "name": "stderr",
     "output_type": "stream",
     "text": [
      "eval_pred: 100%|██████████████████████████████████████████████████████████████████████| 15/15 [00:00<00:00, 442.29it/s]\n"
     ]
    },
    {
     "name": "stdout",
     "output_type": "stream",
     "text": [
      "\t eval rmse: 1.0020\n",
      "\t eval mae: 0.8048\n",
      "\t eval r2: 0.0517\n",
      "==============================\n",
      "Epoch 4 elapsed: 0.032s\n"
     ]
    },
    {
     "name": "stderr",
     "output_type": "stream",
     "text": [
      "eval_pred: 100%|██████████████████████████████████████████████████████████████████████| 15/15 [00:00<00:00, 429.71it/s]\n"
     ]
    },
    {
     "name": "stdout",
     "output_type": "stream",
     "text": [
      "\t eval rmse: 0.9987\n",
      "\t eval mae: 0.8009\n",
      "\t eval r2: 0.0579\n",
      "==============================\n",
      "Epoch 5 elapsed: 0.032s\n"
     ]
    },
    {
     "name": "stderr",
     "output_type": "stream",
     "text": [
      "eval_pred: 100%|██████████████████████████████████████████████████████████████████████| 15/15 [00:00<00:00, 417.79it/s]\n"
     ]
    },
    {
     "name": "stdout",
     "output_type": "stream",
     "text": [
      "\t eval rmse: 0.9961\n",
      "\t eval mae: 0.7979\n",
      "\t eval r2: 0.0628\n",
      "==============================\n",
      "Training start time: \u001b[35m2022-07-19 17:42:35\u001b[0m\n",
      "Epoch 1 elapsed: 0.032s\n"
     ]
    },
    {
     "name": "stderr",
     "output_type": "stream",
     "text": [
      "eval_pred: 100%|██████████████████████████████████████████████████████████████████████| 15/15 [00:00<00:00, 430.51it/s]"
     ]
    },
    {
     "name": "stdout",
     "output_type": "stream",
     "text": [
      "\t eval rmse: 1.0368\n",
      "\t eval mae: 0.8416\n",
      "\t eval r2: -0.0153\n",
      "==============================\n",
      "Epoch 2 elapsed: 0.034s\n"
     ]
    },
    {
     "name": "stderr",
     "output_type": "stream",
     "text": [
      "\n",
      "eval_pred: 100%|██████████████████████████████████████████████████████████████████████| 15/15 [00:00<00:00, 406.48it/s]\n"
     ]
    },
    {
     "name": "stdout",
     "output_type": "stream",
     "text": [
      "\t eval rmse: 1.0156\n",
      "\t eval mae: 0.8183\n",
      "\t eval r2: 0.0259\n",
      "==============================\n",
      "Epoch 3 elapsed: 0.037s\n"
     ]
    },
    {
     "name": "stderr",
     "output_type": "stream",
     "text": [
      "eval_pred: 100%|██████████████████████████████████████████████████████████████████████| 15/15 [00:00<00:00, 406.49it/s]\n"
     ]
    },
    {
     "name": "stdout",
     "output_type": "stream",
     "text": [
      "\t eval rmse: 1.0020\n",
      "\t eval mae: 0.8048\n",
      "\t eval r2: 0.0517\n",
      "==============================\n",
      "Epoch 4 elapsed: 0.035s\n"
     ]
    },
    {
     "name": "stderr",
     "output_type": "stream",
     "text": [
      "eval_pred: 100%|██████████████████████████████████████████████████████████████████████| 15/15 [00:00<00:00, 429.71it/s]\n"
     ]
    },
    {
     "name": "stdout",
     "output_type": "stream",
     "text": [
      "\t eval rmse: 0.9987\n",
      "\t eval mae: 0.8009\n",
      "\t eval r2: 0.0579\n",
      "==============================\n",
      "Epoch 5 elapsed: 0.033s\n"
     ]
    },
    {
     "name": "stderr",
     "output_type": "stream",
     "text": [
      "eval_pred: 100%|██████████████████████████████████████████████████████████████████████| 15/15 [00:00<00:00, 469.97it/s]\n"
     ]
    },
    {
     "name": "stdout",
     "output_type": "stream",
     "text": [
      "\t eval rmse: 0.9961\n",
      "\t eval mae: 0.7979\n",
      "\t eval r2: 0.0628\n",
      "==============================\n",
      "Training start time: \u001b[35m2022-07-19 17:42:36\u001b[0m\n",
      "Epoch 1 elapsed: 0.031s\n"
     ]
    },
    {
     "name": "stderr",
     "output_type": "stream",
     "text": [
      "eval_pred: 100%|██████████████████████████████████████████████████████████████████████| 15/15 [00:00<00:00, 464.62it/s]\n"
     ]
    },
    {
     "name": "stdout",
     "output_type": "stream",
     "text": [
      "\t eval rmse: 1.0368\n",
      "\t eval mae: 0.8416\n",
      "\t eval r2: -0.0153\n",
      "==============================\n",
      "Epoch 2 elapsed: 0.031s\n"
     ]
    },
    {
     "name": "stderr",
     "output_type": "stream",
     "text": [
      "eval_pred: 100%|██████████████████████████████████████████████████████████████████████| 15/15 [00:00<00:00, 341.25it/s]\n"
     ]
    },
    {
     "name": "stdout",
     "output_type": "stream",
     "text": [
      "\t eval rmse: 1.0156\n",
      "\t eval mae: 0.8183\n",
      "\t eval r2: 0.0259\n",
      "==============================\n",
      "Epoch 3 elapsed: 0.033s\n"
     ]
    },
    {
     "name": "stderr",
     "output_type": "stream",
     "text": [
      "eval_pred: 100%|██████████████████████████████████████████████████████████████████████| 15/15 [00:00<00:00, 380.82it/s]\n"
     ]
    },
    {
     "name": "stdout",
     "output_type": "stream",
     "text": [
      "\t eval rmse: 1.0020\n",
      "\t eval mae: 0.8048\n",
      "\t eval r2: 0.0517\n",
      "==============================\n",
      "Epoch 4 elapsed: 0.036s\n"
     ]
    },
    {
     "name": "stderr",
     "output_type": "stream",
     "text": [
      "eval_pred: 100%|██████████████████████████████████████████████████████████████████████| 15/15 [00:00<00:00, 442.34it/s]\n"
     ]
    },
    {
     "name": "stdout",
     "output_type": "stream",
     "text": [
      "\t eval rmse: 0.9987\n",
      "\t eval mae: 0.8009\n",
      "\t eval r2: 0.0579\n",
      "==============================\n",
      "Epoch 5 elapsed: 0.045s\n"
     ]
    },
    {
     "name": "stderr",
     "output_type": "stream",
     "text": [
      "eval_pred: 100%|██████████████████████████████████████████████████████████████████████| 15/15 [00:00<00:00, 448.26it/s]\n"
     ]
    },
    {
     "name": "stdout",
     "output_type": "stream",
     "text": [
      "\t eval rmse: 0.9961\n",
      "\t eval mae: 0.7979\n",
      "\t eval r2: 0.0628\n",
      "==============================\n",
      "Training start time: \u001b[35m2022-07-19 17:42:37\u001b[0m\n",
      "Epoch 1 elapsed: 0.031s\n"
     ]
    },
    {
     "name": "stderr",
     "output_type": "stream",
     "text": [
      "eval_pred: 100%|██████████████████████████████████████████████████████████████████████| 15/15 [00:00<00:00, 341.29it/s]\n"
     ]
    },
    {
     "name": "stdout",
     "output_type": "stream",
     "text": [
      "\t eval rmse: 1.0363\n",
      "\t eval mae: 0.8412\n",
      "\t eval r2: -0.0144\n",
      "==============================\n",
      "Epoch 2 elapsed: 0.033s\n"
     ]
    },
    {
     "name": "stderr",
     "output_type": "stream",
     "text": [
      "eval_pred: 100%|██████████████████████████████████████████████████████████████████████| 15/15 [00:00<00:00, 440.73it/s]\n"
     ]
    },
    {
     "name": "stdout",
     "output_type": "stream",
     "text": [
      "\t eval rmse: 1.0152\n",
      "\t eval mae: 0.8181\n",
      "\t eval r2: 0.0266\n",
      "==============================\n",
      "Epoch 3 elapsed: 0.032s\n"
     ]
    },
    {
     "name": "stderr",
     "output_type": "stream",
     "text": [
      "eval_pred: 100%|██████████████████████████████████████████████████████████████████████| 15/15 [00:00<00:00, 343.98it/s]\n"
     ]
    },
    {
     "name": "stdout",
     "output_type": "stream",
     "text": [
      "\t eval rmse: 1.0018\n",
      "\t eval mae: 0.8048\n",
      "\t eval r2: 0.0521\n",
      "==============================\n",
      "Epoch 4 elapsed: 0.033s\n"
     ]
    },
    {
     "name": "stderr",
     "output_type": "stream",
     "text": [
      "eval_pred: 100%|██████████████████████████████████████████████████████████████████████| 15/15 [00:00<00:00, 329.59it/s]\n"
     ]
    },
    {
     "name": "stdout",
     "output_type": "stream",
     "text": [
      "\t eval rmse: 0.9985\n",
      "\t eval mae: 0.8009\n",
      "\t eval r2: 0.0583\n",
      "==============================\n",
      "Epoch 5 elapsed: 0.036s\n"
     ]
    },
    {
     "name": "stderr",
     "output_type": "stream",
     "text": [
      "eval_pred: 100%|██████████████████████████████████████████████████████████████████████| 15/15 [00:00<00:00, 340.70it/s]\n"
     ]
    },
    {
     "name": "stdout",
     "output_type": "stream",
     "text": [
      "\t eval rmse: 0.9960\n",
      "\t eval mae: 0.7979\n",
      "\t eval r2: 0.0630\n",
      "==============================\n",
      "Training start time: \u001b[35m2022-07-19 17:42:38\u001b[0m\n",
      "Epoch 1 elapsed: 0.038s\n"
     ]
    },
    {
     "name": "stderr",
     "output_type": "stream",
     "text": [
      "eval_pred: 100%|██████████████████████████████████████████████████████████████████████| 15/15 [00:00<00:00, 406.29it/s]"
     ]
    },
    {
     "name": "stdout",
     "output_type": "stream",
     "text": [
      "\t eval rmse: 1.0363\n",
      "\t eval mae: 0.8412\n",
      "\t eval r2: -0.0144\n",
      "==============================\n",
      "Epoch 2 elapsed: 0.033s"
     ]
    },
    {
     "name": "stderr",
     "output_type": "stream",
     "text": [
      "\n"
     ]
    },
    {
     "name": "stdout",
     "output_type": "stream",
     "text": [
      "\n"
     ]
    },
    {
     "name": "stderr",
     "output_type": "stream",
     "text": [
      "eval_pred: 100%|██████████████████████████████████████████████████████████████████████| 15/15 [00:00<00:00, 417.87it/s]\n"
     ]
    },
    {
     "name": "stdout",
     "output_type": "stream",
     "text": [
      "\t eval rmse: 1.0152\n",
      "\t eval mae: 0.8181\n",
      "\t eval r2: 0.0266\n",
      "==============================\n",
      "Epoch 3 elapsed: 0.038s\n"
     ]
    },
    {
     "name": "stderr",
     "output_type": "stream",
     "text": [
      "eval_pred: 100%|██████████████████████████████████████████████████████████████████████| 15/15 [00:00<00:00, 429.72it/s]\n"
     ]
    },
    {
     "name": "stdout",
     "output_type": "stream",
     "text": [
      "\t eval rmse: 1.0018\n",
      "\t eval mae: 0.8048\n",
      "\t eval r2: 0.0521\n",
      "==============================\n",
      "Epoch 4 elapsed: 0.033s\n"
     ]
    },
    {
     "name": "stderr",
     "output_type": "stream",
     "text": [
      "eval_pred: 100%|██████████████████████████████████████████████████████████████████████| 15/15 [00:00<00:00, 429.71it/s]\n"
     ]
    },
    {
     "name": "stdout",
     "output_type": "stream",
     "text": [
      "\t eval rmse: 0.9985\n",
      "\t eval mae: 0.8009\n",
      "\t eval r2: 0.0583\n",
      "==============================\n",
      "Epoch 5 elapsed: 0.036s\n"
     ]
    },
    {
     "name": "stderr",
     "output_type": "stream",
     "text": [
      "eval_pred: 100%|██████████████████████████████████████████████████████████████████████| 15/15 [00:00<00:00, 417.78it/s]\n"
     ]
    },
    {
     "name": "stdout",
     "output_type": "stream",
     "text": [
      "\t eval rmse: 0.9960\n",
      "\t eval mae: 0.7979\n",
      "\t eval r2: 0.0630\n",
      "==============================\n",
      "Training start time: \u001b[35m2022-07-19 17:42:39\u001b[0m\n",
      "Epoch 1 elapsed: 0.031s\n"
     ]
    },
    {
     "name": "stderr",
     "output_type": "stream",
     "text": [
      "eval_pred: 100%|██████████████████████████████████████████████████████████████████████| 15/15 [00:00<00:00, 313.55it/s]\n"
     ]
    },
    {
     "name": "stdout",
     "output_type": "stream",
     "text": [
      "\t eval rmse: 1.0363\n",
      "\t eval mae: 0.8412\n",
      "\t eval r2: -0.0144\n",
      "==============================\n",
      "Epoch 2 elapsed: 0.037s\n"
     ]
    },
    {
     "name": "stderr",
     "output_type": "stream",
     "text": [
      "eval_pred: 100%|██████████████████████████████████████████████████████████████████████| 15/15 [00:00<00:00, 330.74it/s]\n"
     ]
    },
    {
     "name": "stdout",
     "output_type": "stream",
     "text": [
      "\t eval rmse: 1.0152\n",
      "\t eval mae: 0.8181\n",
      "\t eval r2: 0.0266\n",
      "==============================\n",
      "Epoch 3 elapsed: 0.031s\n"
     ]
    },
    {
     "name": "stderr",
     "output_type": "stream",
     "text": [
      "eval_pred: 100%|██████████████████████████████████████████████████████████████████████| 15/15 [00:00<00:00, 473.65it/s]\n"
     ]
    },
    {
     "name": "stdout",
     "output_type": "stream",
     "text": [
      "\t eval rmse: 1.0018\n",
      "\t eval mae: 0.8048\n",
      "\t eval r2: 0.0521\n",
      "==============================\n",
      "Epoch 4 elapsed: 0.031s\n"
     ]
    },
    {
     "name": "stderr",
     "output_type": "stream",
     "text": [
      "eval_pred: 100%|██████████████████████████████████████████████████████████████████████| 15/15 [00:00<00:00, 374.27it/s]\n"
     ]
    },
    {
     "name": "stdout",
     "output_type": "stream",
     "text": [
      "\t eval rmse: 0.9985\n",
      "\t eval mae: 0.8009\n",
      "\t eval r2: 0.0583\n",
      "==============================\n",
      "Epoch 5 elapsed: 0.038s\n"
     ]
    },
    {
     "name": "stderr",
     "output_type": "stream",
     "text": [
      "eval_pred: 100%|██████████████████████████████████████████████████████████████████████| 15/15 [00:00<00:00, 452.52it/s]\n"
     ]
    },
    {
     "name": "stdout",
     "output_type": "stream",
     "text": [
      "\t eval rmse: 0.9960\n",
      "\t eval mae: 0.7979\n",
      "\t eval r2: 0.0630\n",
      "==============================\n",
      "Training start time: \u001b[35m2022-07-19 17:42:40\u001b[0m\n",
      "Epoch 1 elapsed: 0.031s\n"
     ]
    },
    {
     "name": "stderr",
     "output_type": "stream",
     "text": [
      "eval_pred: 100%|██████████████████████████████████████████████████████████████████████| 15/15 [00:00<00:00, 354.49it/s]"
     ]
    },
    {
     "name": "stdout",
     "output_type": "stream",
     "text": [
      "\t eval rmse: 1.0363\n",
      "\t eval mae: 0.8412\n",
      "\t eval r2: -0.0144\n",
      "==============================\n",
      "Epoch 2 elapsed: 0.036s\n"
     ]
    },
    {
     "name": "stderr",
     "output_type": "stream",
     "text": [
      "\n",
      "eval_pred: 100%|██████████████████████████████████████████████████████████████████████| 15/15 [00:00<00:00, 320.76it/s]\n"
     ]
    },
    {
     "name": "stdout",
     "output_type": "stream",
     "text": [
      "\t eval rmse: 1.0152\n",
      "\t eval mae: 0.8181\n",
      "\t eval r2: 0.0266\n",
      "==============================\n",
      "Epoch 3 elapsed: 0.032s\n"
     ]
    },
    {
     "name": "stderr",
     "output_type": "stream",
     "text": [
      "eval_pred: 100%|██████████████████████████████████████████████████████████████████████| 15/15 [00:00<00:00, 442.34it/s]\n"
     ]
    },
    {
     "name": "stdout",
     "output_type": "stream",
     "text": [
      "\t eval rmse: 1.0018\n",
      "\t eval mae: 0.8048\n",
      "\t eval r2: 0.0521\n",
      "==============================\n",
      "Epoch 4 elapsed: 0.038s\n"
     ]
    },
    {
     "name": "stderr",
     "output_type": "stream",
     "text": [
      "eval_pred: 100%|██████████████████████████████████████████████████████████████████████| 15/15 [00:00<00:00, 469.99it/s]\n"
     ]
    },
    {
     "name": "stdout",
     "output_type": "stream",
     "text": [
      "\t eval rmse: 0.9985\n",
      "\t eval mae: 0.8009\n",
      "\t eval r2: 0.0583\n",
      "==============================\n",
      "Epoch 5 elapsed: 0.044s\n"
     ]
    },
    {
     "name": "stderr",
     "output_type": "stream",
     "text": [
      "eval_pred: 100%|██████████████████████████████████████████████████████████████████████| 15/15 [00:00<00:00, 455.75it/s]\n"
     ]
    },
    {
     "name": "stdout",
     "output_type": "stream",
     "text": [
      "\t eval rmse: 0.9960\n",
      "\t eval mae: 0.7979\n",
      "\t eval r2: 0.0630\n",
      "==============================\n",
      "Training start time: \u001b[35m2022-07-19 17:42:41\u001b[0m\n",
      "Epoch 1 elapsed: 0.042s\n"
     ]
    },
    {
     "name": "stderr",
     "output_type": "stream",
     "text": [
      "eval_pred: 100%|██████████████████████████████████████████████████████████████████████| 15/15 [00:00<00:00, 322.39it/s]"
     ]
    },
    {
     "name": "stdout",
     "output_type": "stream",
     "text": [
      "\t eval rmse: 1.0363\n",
      "\t eval mae: 0.8412\n",
      "\t eval r2: -0.0144\n",
      "==============================\n"
     ]
    },
    {
     "name": "stderr",
     "output_type": "stream",
     "text": [
      "\n"
     ]
    },
    {
     "name": "stdout",
     "output_type": "stream",
     "text": [
      "Epoch 2 elapsed: 0.035s\n"
     ]
    },
    {
     "name": "stderr",
     "output_type": "stream",
     "text": [
      "eval_pred: 100%|██████████████████████████████████████████████████████████████████████| 15/15 [00:00<00:00, 430.86it/s]\n"
     ]
    },
    {
     "name": "stdout",
     "output_type": "stream",
     "text": [
      "\t eval rmse: 1.0152\n",
      "\t eval mae: 0.8181\n",
      "\t eval r2: 0.0266\n",
      "==============================\n",
      "Epoch 3 elapsed: 0.042s\n"
     ]
    },
    {
     "name": "stderr",
     "output_type": "stream",
     "text": [
      "eval_pred: 100%|██████████████████████████████████████████████████████████████████████| 15/15 [00:00<00:00, 375.98it/s]\n"
     ]
    },
    {
     "name": "stdout",
     "output_type": "stream",
     "text": [
      "\t eval rmse: 1.0018\n",
      "\t eval mae: 0.8048\n",
      "\t eval r2: 0.0521\n",
      "==============================\n",
      "Epoch 4 elapsed: 0.040s\n"
     ]
    },
    {
     "name": "stderr",
     "output_type": "stream",
     "text": [
      "eval_pred: 100%|██████████████████████████████████████████████████████████████████████| 15/15 [00:00<00:00, 416.56it/s]\n"
     ]
    },
    {
     "name": "stdout",
     "output_type": "stream",
     "text": [
      "\t eval rmse: 0.9985\n",
      "\t eval mae: 0.8009\n",
      "\t eval r2: 0.0583\n",
      "==============================\n",
      "Epoch 5 elapsed: 0.036s\n"
     ]
    },
    {
     "name": "stderr",
     "output_type": "stream",
     "text": [
      "eval_pred: 100%|██████████████████████████████████████████████████████████████████████| 15/15 [00:00<00:00, 455.77it/s]\n"
     ]
    },
    {
     "name": "stdout",
     "output_type": "stream",
     "text": [
      "\t eval rmse: 0.9960\n",
      "\t eval mae: 0.7979\n",
      "\t eval r2: 0.0630\n",
      "==============================\n",
      "Training start time: \u001b[35m2022-07-19 17:42:42\u001b[0m\n",
      "Epoch 1 elapsed: 0.031s\n"
     ]
    },
    {
     "name": "stderr",
     "output_type": "stream",
     "text": [
      "eval_pred: 100%|██████████████████████████████████████████████████████████████████████| 15/15 [00:00<00:00, 429.72it/s]\n"
     ]
    },
    {
     "name": "stdout",
     "output_type": "stream",
     "text": [
      "\t eval rmse: 1.0303\n",
      "\t eval mae: 0.8384\n",
      "\t eval r2: -0.0026\n",
      "==============================\n",
      "Epoch 2 elapsed: 0.037s\n"
     ]
    },
    {
     "name": "stderr",
     "output_type": "stream",
     "text": [
      "eval_pred: 100%|██████████████████████████████████████████████████████████████████████| 15/15 [00:00<00:00, 442.36it/s]\n"
     ]
    },
    {
     "name": "stdout",
     "output_type": "stream",
     "text": [
      "\t eval rmse: 1.0117\n",
      "\t eval mae: 0.8154\n",
      "\t eval r2: 0.0333\n",
      "==============================\n",
      "Epoch 3 elapsed: 0.033s\n"
     ]
    },
    {
     "name": "stderr",
     "output_type": "stream",
     "text": [
      "eval_pred: 100%|██████████████████████████████████████████████████████████████████████| 15/15 [00:00<00:00, 455.76it/s]\n"
     ]
    },
    {
     "name": "stdout",
     "output_type": "stream",
     "text": [
      "\t eval rmse: 1.0002\n",
      "\t eval mae: 0.8041\n",
      "\t eval r2: 0.0551\n",
      "==============================\n",
      "Epoch 4 elapsed: 0.039s\n"
     ]
    },
    {
     "name": "stderr",
     "output_type": "stream",
     "text": [
      "eval_pred: 100%|██████████████████████████████████████████████████████████████████████| 15/15 [00:00<00:00, 406.49it/s]\n"
     ]
    },
    {
     "name": "stdout",
     "output_type": "stream",
     "text": [
      "\t eval rmse: 0.9973\n",
      "\t eval mae: 0.8008\n",
      "\t eval r2: 0.0607\n",
      "==============================\n",
      "Epoch 5 elapsed: 0.040s\n"
     ]
    },
    {
     "name": "stderr",
     "output_type": "stream",
     "text": [
      "eval_pred: 100%|██████████████████████████████████████████████████████████████████████| 15/15 [00:00<00:00, 429.95it/s]\n"
     ]
    },
    {
     "name": "stdout",
     "output_type": "stream",
     "text": [
      "\t eval rmse: 0.9947\n",
      "\t eval mae: 0.7978\n",
      "\t eval r2: 0.0655\n",
      "==============================\n",
      "Training start time: \u001b[35m2022-07-19 17:42:43\u001b[0m\n",
      "Epoch 1 elapsed: 0.033s\n"
     ]
    },
    {
     "name": "stderr",
     "output_type": "stream",
     "text": [
      "eval_pred: 100%|██████████████████████████████████████████████████████████████████████| 15/15 [00:00<00:00, 417.77it/s]"
     ]
    },
    {
     "name": "stdout",
     "output_type": "stream",
     "text": [
      "\t eval rmse: 1.0303\n",
      "\t eval mae: 0.8384\n",
      "\t eval r2: -0.0026\n",
      "==============================\n",
      "Epoch 2 elapsed: 0.032s\n"
     ]
    },
    {
     "name": "stderr",
     "output_type": "stream",
     "text": [
      "\n",
      "eval_pred: 100%|██████████████████████████████████████████████████████████████████████| 15/15 [00:00<00:00, 406.49it/s]\n"
     ]
    },
    {
     "name": "stdout",
     "output_type": "stream",
     "text": [
      "\t eval rmse: 1.0117\n",
      "\t eval mae: 0.8154\n",
      "\t eval r2: 0.0333\n",
      "==============================\n",
      "Epoch 3 elapsed: 0.053s\n"
     ]
    },
    {
     "name": "stderr",
     "output_type": "stream",
     "text": [
      "eval_pred: 100%|██████████████████████████████████████████████████████████████████████| 15/15 [00:00<00:00, 469.99it/s]\n"
     ]
    },
    {
     "name": "stdout",
     "output_type": "stream",
     "text": [
      "\t eval rmse: 1.0002\n",
      "\t eval mae: 0.8041\n",
      "\t eval r2: 0.0551\n",
      "==============================\n",
      "Epoch 4 elapsed: 0.049s\n"
     ]
    },
    {
     "name": "stderr",
     "output_type": "stream",
     "text": [
      "eval_pred: 100%|██████████████████████████████████████████████████████████████████████| 15/15 [00:00<00:00, 376.00it/s]\n"
     ]
    },
    {
     "name": "stdout",
     "output_type": "stream",
     "text": [
      "\t eval rmse: 0.9973\n",
      "\t eval mae: 0.8008\n",
      "\t eval r2: 0.0607\n",
      "==============================\n",
      "Epoch 5 elapsed: 0.037s\n"
     ]
    },
    {
     "name": "stderr",
     "output_type": "stream",
     "text": [
      "eval_pred: 100%|██████████████████████████████████████████████████████████████████████| 15/15 [00:00<00:00, 442.35it/s]\n"
     ]
    },
    {
     "name": "stdout",
     "output_type": "stream",
     "text": [
      "\t eval rmse: 0.9947\n",
      "\t eval mae: 0.7978\n",
      "\t eval r2: 0.0655\n",
      "==============================\n",
      "Training start time: \u001b[35m2022-07-19 17:42:44\u001b[0m\n",
      "Epoch 1 elapsed: 0.034s\n"
     ]
    },
    {
     "name": "stderr",
     "output_type": "stream",
     "text": [
      "eval_pred: 100%|██████████████████████████████████████████████████████████████████████| 15/15 [00:00<00:00, 485.16it/s]"
     ]
    },
    {
     "name": "stdout",
     "output_type": "stream",
     "text": [
      "\t eval rmse: 1.0303\n",
      "\t eval mae: 0.8384\n",
      "\t eval r2: -0.0026\n",
      "==============================\n"
     ]
    },
    {
     "name": "stderr",
     "output_type": "stream",
     "text": [
      "\n"
     ]
    },
    {
     "name": "stdout",
     "output_type": "stream",
     "text": [
      "Epoch 2 elapsed: 0.037s\n"
     ]
    },
    {
     "name": "stderr",
     "output_type": "stream",
     "text": [
      "eval_pred: 100%|██████████████████████████████████████████████████████████████████████| 15/15 [00:00<00:00, 442.35it/s]\n"
     ]
    },
    {
     "name": "stdout",
     "output_type": "stream",
     "text": [
      "\t eval rmse: 1.0117\n",
      "\t eval mae: 0.8154\n",
      "\t eval r2: 0.0333\n",
      "==============================\n",
      "Epoch 3 elapsed: 0.035s\n"
     ]
    },
    {
     "name": "stderr",
     "output_type": "stream",
     "text": [
      "eval_pred: 100%|██████████████████████████████████████████████████████████████████████| 15/15 [00:00<00:00, 417.77it/s]\n"
     ]
    },
    {
     "name": "stdout",
     "output_type": "stream",
     "text": [
      "\t eval rmse: 1.0002\n",
      "\t eval mae: 0.8041\n",
      "\t eval r2: 0.0551\n",
      "==============================\n",
      "Epoch 4 elapsed: 0.034s\n"
     ]
    },
    {
     "name": "stderr",
     "output_type": "stream",
     "text": [
      "eval_pred: 100%|██████████████████████████████████████████████████████████████████████| 15/15 [00:00<00:00, 395.52it/s]\n"
     ]
    },
    {
     "name": "stdout",
     "output_type": "stream",
     "text": [
      "\t eval rmse: 0.9973\n",
      "\t eval mae: 0.8008\n",
      "\t eval r2: 0.0607\n",
      "==============================\n",
      "Epoch 5 elapsed: 0.033s\n"
     ]
    },
    {
     "name": "stderr",
     "output_type": "stream",
     "text": [
      "eval_pred: 100%|██████████████████████████████████████████████████████████████████████| 15/15 [00:00<00:00, 417.81it/s]\n"
     ]
    },
    {
     "name": "stdout",
     "output_type": "stream",
     "text": [
      "\t eval rmse: 0.9947\n",
      "\t eval mae: 0.7978\n",
      "\t eval r2: 0.0655\n",
      "==============================\n",
      "Training start time: \u001b[35m2022-07-19 17:42:45\u001b[0m\n",
      "Epoch 1 elapsed: 0.033s\n"
     ]
    },
    {
     "name": "stderr",
     "output_type": "stream",
     "text": [
      "eval_pred: 100%|██████████████████████████████████████████████████████████████████████| 15/15 [00:00<00:00, 470.00it/s]"
     ]
    },
    {
     "name": "stdout",
     "output_type": "stream",
     "text": [
      "\t eval rmse: 1.0303\n",
      "\t eval mae: 0.8384\n",
      "\t eval r2: -0.0026\n",
      "==============================\n"
     ]
    },
    {
     "name": "stderr",
     "output_type": "stream",
     "text": [
      "\n"
     ]
    },
    {
     "name": "stdout",
     "output_type": "stream",
     "text": [
      "Epoch 2 elapsed: 0.034s\n"
     ]
    },
    {
     "name": "stderr",
     "output_type": "stream",
     "text": [
      "eval_pred: 100%|██████████████████████████████████████████████████████████████████████| 15/15 [00:00<00:00, 442.36it/s]\n"
     ]
    },
    {
     "name": "stdout",
     "output_type": "stream",
     "text": [
      "\t eval rmse: 1.0117\n",
      "\t eval mae: 0.8154\n",
      "\t eval r2: 0.0333\n",
      "==============================\n",
      "Epoch 3 elapsed: 0.035s\n"
     ]
    },
    {
     "name": "stderr",
     "output_type": "stream",
     "text": [
      "eval_pred: 100%|██████████████████████████████████████████████████████████████████████| 15/15 [00:00<00:00, 442.35it/s]\n"
     ]
    },
    {
     "name": "stdout",
     "output_type": "stream",
     "text": [
      "\t eval rmse: 1.0002\n",
      "\t eval mae: 0.8041\n",
      "\t eval r2: 0.0551\n",
      "==============================\n",
      "Epoch 4 elapsed: 0.041s\n"
     ]
    },
    {
     "name": "stderr",
     "output_type": "stream",
     "text": [
      "eval_pred: 100%|██████████████████████████████████████████████████████████████████████| 15/15 [00:00<00:00, 429.72it/s]\n"
     ]
    },
    {
     "name": "stdout",
     "output_type": "stream",
     "text": [
      "\t eval rmse: 0.9973\n",
      "\t eval mae: 0.8008\n",
      "\t eval r2: 0.0607\n",
      "==============================\n",
      "Epoch 5 elapsed: 0.033s\n"
     ]
    },
    {
     "name": "stderr",
     "output_type": "stream",
     "text": [
      "eval_pred: 100%|██████████████████████████████████████████████████████████████████████| 15/15 [00:00<00:00, 429.68it/s]\n"
     ]
    },
    {
     "name": "stdout",
     "output_type": "stream",
     "text": [
      "\t eval rmse: 0.9947\n",
      "\t eval mae: 0.7978\n",
      "\t eval r2: 0.0655\n",
      "==============================\n",
      "Training start time: \u001b[35m2022-07-19 17:42:46\u001b[0m\n",
      "Epoch 1 elapsed: 0.032s\n"
     ]
    },
    {
     "name": "stderr",
     "output_type": "stream",
     "text": [
      "eval_pred: 100%|██████████████████████████████████████████████████████████████████████| 15/15 [00:00<00:00, 328.03it/s]"
     ]
    },
    {
     "name": "stdout",
     "output_type": "stream",
     "text": [
      "\t eval rmse: 1.0303\n",
      "\t eval mae: 0.8384\n",
      "\t eval r2: -0.0026\n",
      "==============================\n",
      "Epoch 2 elapsed: 0.033s\n"
     ]
    },
    {
     "name": "stderr",
     "output_type": "stream",
     "text": [
      "\n",
      "eval_pred: 100%|██████████████████████████████████████████████████████████████████████| 15/15 [00:00<00:00, 389.56it/s]\n"
     ]
    },
    {
     "name": "stdout",
     "output_type": "stream",
     "text": [
      "\t eval rmse: 1.0117\n",
      "\t eval mae: 0.8154\n",
      "\t eval r2: 0.0333\n",
      "==============================\n",
      "Epoch 3 elapsed: 0.036s\n"
     ]
    },
    {
     "name": "stderr",
     "output_type": "stream",
     "text": [
      "eval_pred: 100%|██████████████████████████████████████████████████████████████████████| 15/15 [00:00<00:00, 406.48it/s]\n"
     ]
    },
    {
     "name": "stdout",
     "output_type": "stream",
     "text": [
      "\t eval rmse: 1.0002\n",
      "\t eval mae: 0.8041\n",
      "\t eval r2: 0.0551\n",
      "==============================\n",
      "Epoch 4 elapsed: 0.040s\n"
     ]
    },
    {
     "name": "stderr",
     "output_type": "stream",
     "text": [
      "eval_pred: 100%|██████████████████████████████████████████████████████████████████████| 15/15 [00:00<00:00, 406.49it/s]\n"
     ]
    },
    {
     "name": "stdout",
     "output_type": "stream",
     "text": [
      "\t eval rmse: 0.9973\n",
      "\t eval mae: 0.8008\n",
      "\t eval r2: 0.0607\n",
      "==============================\n",
      "Epoch 5 elapsed: 0.040s\n"
     ]
    },
    {
     "name": "stderr",
     "output_type": "stream",
     "text": [
      "eval_pred: 100%|██████████████████████████████████████████████████████████████████████| 15/15 [00:00<00:00, 442.36it/s]\n"
     ]
    },
    {
     "name": "stdout",
     "output_type": "stream",
     "text": [
      "\t eval rmse: 0.9947\n",
      "\t eval mae: 0.7978\n",
      "\t eval r2: 0.0655\n",
      "==============================\n",
      "Training start time: \u001b[35m2022-07-19 17:42:47\u001b[0m\n",
      "Epoch 1 elapsed: 0.038s\n"
     ]
    },
    {
     "name": "stderr",
     "output_type": "stream",
     "text": [
      "eval_pred: 100%|██████████████████████████████████████████████████████████████████████| 15/15 [00:00<00:00, 455.76it/s]"
     ]
    },
    {
     "name": "stdout",
     "output_type": "stream",
     "text": [
      "\t eval rmse: 1.0288\n",
      "\t eval mae: 0.8384\n",
      "\t eval r2: 0.0003\n",
      "==============================\n"
     ]
    },
    {
     "name": "stderr",
     "output_type": "stream",
     "text": [
      "\n"
     ]
    },
    {
     "name": "stdout",
     "output_type": "stream",
     "text": [
      "Epoch 2 elapsed: 0.036s\n"
     ]
    },
    {
     "name": "stderr",
     "output_type": "stream",
     "text": [
      "eval_pred: 100%|██████████████████████████████████████████████████████████████████████| 15/15 [00:00<00:00, 470.02it/s]\n"
     ]
    },
    {
     "name": "stdout",
     "output_type": "stream",
     "text": [
      "\t eval rmse: 1.0105\n",
      "\t eval mae: 0.8125\n",
      "\t eval r2: 0.0355\n",
      "==============================\n",
      "Epoch 3 elapsed: 0.035s\n"
     ]
    },
    {
     "name": "stderr",
     "output_type": "stream",
     "text": [
      "eval_pred: 100%|██████████████████████████████████████████████████████████████████████| 15/15 [00:00<00:00, 442.36it/s]\n"
     ]
    },
    {
     "name": "stdout",
     "output_type": "stream",
     "text": [
      "\t eval rmse: 0.9995\n",
      "\t eval mae: 0.8030\n",
      "\t eval r2: 0.0565\n",
      "==============================\n",
      "Epoch 4 elapsed: 0.035s\n"
     ]
    },
    {
     "name": "stderr",
     "output_type": "stream",
     "text": [
      "eval_pred: 100%|██████████████████████████████████████████████████████████████████████| 15/15 [00:00<00:00, 429.70it/s]\n"
     ]
    },
    {
     "name": "stdout",
     "output_type": "stream",
     "text": [
      "\t eval rmse: 0.9965\n",
      "\t eval mae: 0.8001\n",
      "\t eval r2: 0.0621\n",
      "==============================\n",
      "Epoch 5 elapsed: 0.035s\n"
     ]
    },
    {
     "name": "stderr",
     "output_type": "stream",
     "text": [
      "eval_pred: 100%|██████████████████████████████████████████████████████████████████████| 15/15 [00:00<00:00, 455.76it/s]\n"
     ]
    },
    {
     "name": "stdout",
     "output_type": "stream",
     "text": [
      "\t eval rmse: 0.9940\n",
      "\t eval mae: 0.7974\n",
      "\t eval r2: 0.0668\n",
      "==============================\n",
      "Training start time: \u001b[35m2022-07-19 17:42:48\u001b[0m\n",
      "Epoch 1 elapsed: 0.031s\n"
     ]
    },
    {
     "name": "stderr",
     "output_type": "stream",
     "text": [
      "eval_pred: 100%|██████████████████████████████████████████████████████████████████████| 15/15 [00:00<00:00, 355.07it/s]"
     ]
    },
    {
     "name": "stdout",
     "output_type": "stream",
     "text": [
      "\t eval rmse: 1.0288\n",
      "\t eval mae: 0.8384\n",
      "\t eval r2: 0.0003\n",
      "==============================\n",
      "Epoch 2 elapsed: 0.032s\n"
     ]
    },
    {
     "name": "stderr",
     "output_type": "stream",
     "text": [
      "\n",
      "eval_pred: 100%|██████████████████████████████████████████████████████████████████████| 15/15 [00:00<00:00, 441.09it/s]\n"
     ]
    },
    {
     "name": "stdout",
     "output_type": "stream",
     "text": [
      "\t eval rmse: 1.0105\n",
      "\t eval mae: 0.8125\n",
      "\t eval r2: 0.0355\n",
      "==============================\n",
      "Epoch 3 elapsed: 0.033s\n"
     ]
    },
    {
     "name": "stderr",
     "output_type": "stream",
     "text": [
      "eval_pred: 100%|██████████████████████████████████████████████████████████████████████| 15/15 [00:00<00:00, 342.98it/s]\n"
     ]
    },
    {
     "name": "stdout",
     "output_type": "stream",
     "text": [
      "\t eval rmse: 0.9995\n",
      "\t eval mae: 0.8030\n",
      "\t eval r2: 0.0565\n",
      "==============================\n",
      "Epoch 4 elapsed: 0.032s\n"
     ]
    },
    {
     "name": "stderr",
     "output_type": "stream",
     "text": [
      "eval_pred: 100%|██████████████████████████████████████████████████████████████████████| 15/15 [00:00<00:00, 442.36it/s]\n"
     ]
    },
    {
     "name": "stdout",
     "output_type": "stream",
     "text": [
      "\t eval rmse: 0.9965\n",
      "\t eval mae: 0.8001\n",
      "\t eval r2: 0.0621\n",
      "==============================\n",
      "Epoch 5 elapsed: 0.034s\n"
     ]
    },
    {
     "name": "stderr",
     "output_type": "stream",
     "text": [
      "eval_pred: 100%|██████████████████████████████████████████████████████████████████████| 15/15 [00:00<00:00, 429.63it/s]\n"
     ]
    },
    {
     "name": "stdout",
     "output_type": "stream",
     "text": [
      "\t eval rmse: 0.9940\n",
      "\t eval mae: 0.7974\n",
      "\t eval r2: 0.0668\n",
      "==============================\n",
      "Training start time: \u001b[35m2022-07-19 17:42:49\u001b[0m\n",
      "Epoch 1 elapsed: 0.031s\n"
     ]
    },
    {
     "name": "stderr",
     "output_type": "stream",
     "text": [
      "eval_pred: 100%|██████████████████████████████████████████████████████████████████████| 15/15 [00:00<00:00, 323.70it/s]"
     ]
    },
    {
     "name": "stdout",
     "output_type": "stream",
     "text": [
      "\t eval rmse: 1.0288\n",
      "\t eval mae: 0.8384\n",
      "\t eval r2: 0.0003\n",
      "==============================\n"
     ]
    },
    {
     "name": "stderr",
     "output_type": "stream",
     "text": [
      "\n"
     ]
    },
    {
     "name": "stdout",
     "output_type": "stream",
     "text": [
      "Epoch 2 elapsed: 0.037s\n"
     ]
    },
    {
     "name": "stderr",
     "output_type": "stream",
     "text": [
      "eval_pred: 100%|██████████████████████████████████████████████████████████████████████| 15/15 [00:00<00:00, 417.79it/s]\n"
     ]
    },
    {
     "name": "stdout",
     "output_type": "stream",
     "text": [
      "\t eval rmse: 1.0105\n",
      "\t eval mae: 0.8125\n",
      "\t eval r2: 0.0355\n",
      "==============================\n",
      "Epoch 3 elapsed: 0.036s\n"
     ]
    },
    {
     "name": "stderr",
     "output_type": "stream",
     "text": [
      "eval_pred: 100%|██████████████████████████████████████████████████████████████████████| 15/15 [00:00<00:00, 417.78it/s]\n"
     ]
    },
    {
     "name": "stdout",
     "output_type": "stream",
     "text": [
      "\t eval rmse: 0.9995\n",
      "\t eval mae: 0.8030\n",
      "\t eval r2: 0.0565\n",
      "==============================\n",
      "Epoch 4 elapsed: 0.033s\n"
     ]
    },
    {
     "name": "stderr",
     "output_type": "stream",
     "text": [
      "eval_pred: 100%|██████████████████████████████████████████████████████████████████████| 15/15 [00:00<00:00, 451.13it/s]\n"
     ]
    },
    {
     "name": "stdout",
     "output_type": "stream",
     "text": [
      "\t eval rmse: 0.9965\n",
      "\t eval mae: 0.8001\n",
      "\t eval r2: 0.0621\n",
      "==============================\n",
      "Epoch 5 elapsed: 0.040s\n"
     ]
    },
    {
     "name": "stderr",
     "output_type": "stream",
     "text": [
      "eval_pred: 100%|██████████████████████████████████████████████████████████████████████| 15/15 [00:00<00:00, 429.72it/s]\n"
     ]
    },
    {
     "name": "stdout",
     "output_type": "stream",
     "text": [
      "\t eval rmse: 0.9940\n",
      "\t eval mae: 0.7974\n",
      "\t eval r2: 0.0668\n",
      "==============================\n",
      "Training start time: \u001b[35m2022-07-19 17:42:50\u001b[0m\n",
      "Epoch 1 elapsed: 0.031s\n"
     ]
    },
    {
     "name": "stderr",
     "output_type": "stream",
     "text": [
      "eval_pred: 100%|██████████████████████████████████████████████████████████████████████| 15/15 [00:00<00:00, 456.20it/s]\n"
     ]
    },
    {
     "name": "stdout",
     "output_type": "stream",
     "text": [
      "\t eval rmse: 1.0288\n",
      "\t eval mae: 0.8384\n",
      "\t eval r2: 0.0003\n",
      "==============================\n",
      "Epoch 2 elapsed: 0.032s\n"
     ]
    },
    {
     "name": "stderr",
     "output_type": "stream",
     "text": [
      "eval_pred: 100%|██████████████████████████████████████████████████████████████████████| 15/15 [00:00<00:00, 309.28it/s]\n"
     ]
    },
    {
     "name": "stdout",
     "output_type": "stream",
     "text": [
      "\t eval rmse: 1.0105\n",
      "\t eval mae: 0.8125\n",
      "\t eval r2: 0.0355\n",
      "==============================\n",
      "Epoch 3 elapsed: 0.031s\n"
     ]
    },
    {
     "name": "stderr",
     "output_type": "stream",
     "text": [
      "eval_pred: 100%|██████████████████████████████████████████████████████████████████████| 15/15 [00:00<00:00, 362.88it/s]\n"
     ]
    },
    {
     "name": "stdout",
     "output_type": "stream",
     "text": [
      "\t eval rmse: 0.9995\n",
      "\t eval mae: 0.8030\n",
      "\t eval r2: 0.0565\n",
      "==============================\n",
      "Epoch 4 elapsed: 0.033s\n"
     ]
    },
    {
     "name": "stderr",
     "output_type": "stream",
     "text": [
      "eval_pred: 100%|██████████████████████████████████████████████████████████████████████| 15/15 [00:00<00:00, 442.36it/s]\n"
     ]
    },
    {
     "name": "stdout",
     "output_type": "stream",
     "text": [
      "\t eval rmse: 0.9965\n",
      "\t eval mae: 0.8001\n",
      "\t eval r2: 0.0621\n",
      "==============================\n",
      "Epoch 5 elapsed: 0.033s\n"
     ]
    },
    {
     "name": "stderr",
     "output_type": "stream",
     "text": [
      "eval_pred: 100%|██████████████████████████████████████████████████████████████████████| 15/15 [00:00<00:00, 455.76it/s]\n"
     ]
    },
    {
     "name": "stdout",
     "output_type": "stream",
     "text": [
      "\t eval rmse: 0.9940\n",
      "\t eval mae: 0.7974\n",
      "\t eval r2: 0.0668\n",
      "==============================\n",
      "Training start time: \u001b[35m2022-07-19 17:42:51\u001b[0m\n",
      "Epoch 1 elapsed: 0.032s\n"
     ]
    },
    {
     "name": "stderr",
     "output_type": "stream",
     "text": [
      "eval_pred: 100%|██████████████████████████████████████████████████████████████████████| 15/15 [00:00<00:00, 357.70it/s]"
     ]
    },
    {
     "name": "stdout",
     "output_type": "stream",
     "text": [
      "\t eval rmse: 1.0288\n",
      "\t eval mae: 0.8384\n",
      "\t eval r2: 0.0003\n",
      "==============================\n"
     ]
    },
    {
     "name": "stderr",
     "output_type": "stream",
     "text": [
      "\n"
     ]
    },
    {
     "name": "stdout",
     "output_type": "stream",
     "text": [
      "Epoch 2 elapsed: 0.036s\n"
     ]
    },
    {
     "name": "stderr",
     "output_type": "stream",
     "text": [
      "eval_pred: 100%|██████████████████████████████████████████████████████████████████████| 15/15 [00:00<00:00, 470.01it/s]\n"
     ]
    },
    {
     "name": "stdout",
     "output_type": "stream",
     "text": [
      "\t eval rmse: 1.0105\n",
      "\t eval mae: 0.8125\n",
      "\t eval r2: 0.0355\n",
      "==============================\n",
      "Epoch 3 elapsed: 0.033s\n"
     ]
    },
    {
     "name": "stderr",
     "output_type": "stream",
     "text": [
      "eval_pred: 100%|██████████████████████████████████████████████████████████████████████| 15/15 [00:00<00:00, 429.71it/s]\n"
     ]
    },
    {
     "name": "stdout",
     "output_type": "stream",
     "text": [
      "\t eval rmse: 0.9995\n",
      "\t eval mae: 0.8030\n",
      "\t eval r2: 0.0565\n",
      "==============================\n",
      "Epoch 4 elapsed: 0.035s\n"
     ]
    },
    {
     "name": "stderr",
     "output_type": "stream",
     "text": [
      "eval_pred: 100%|██████████████████████████████████████████████████████████████████████| 15/15 [00:00<00:00, 469.99it/s]\n"
     ]
    },
    {
     "name": "stdout",
     "output_type": "stream",
     "text": [
      "\t eval rmse: 0.9965\n",
      "\t eval mae: 0.8001\n",
      "\t eval r2: 0.0621\n",
      "==============================\n",
      "Epoch 5 elapsed: 0.035s\n"
     ]
    },
    {
     "name": "stderr",
     "output_type": "stream",
     "text": [
      "eval_pred: 100%|██████████████████████████████████████████████████████████████████████| 15/15 [00:00<00:00, 442.36it/s]\n"
     ]
    },
    {
     "name": "stdout",
     "output_type": "stream",
     "text": [
      "\t eval rmse: 0.9940\n",
      "\t eval mae: 0.7974\n",
      "\t eval r2: 0.0668\n",
      "==============================\n",
      "Training start time: \u001b[35m2022-07-19 17:42:52\u001b[0m\n",
      "Epoch 1 elapsed: 0.057s\n"
     ]
    },
    {
     "name": "stderr",
     "output_type": "stream",
     "text": [
      "eval_pred: 100%|██████████████████████████████████████████████████████████████████████| 15/15 [00:00<00:00, 354.79it/s]"
     ]
    },
    {
     "name": "stdout",
     "output_type": "stream",
     "text": [
      "\t eval rmse: 1.0457\n",
      "\t eval mae: 0.8482\n"
     ]
    },
    {
     "name": "stderr",
     "output_type": "stream",
     "text": [
      "\n"
     ]
    },
    {
     "name": "stdout",
     "output_type": "stream",
     "text": [
      "\t eval r2: -0.0328\n",
      "==============================\n",
      "Epoch 2 elapsed: 0.055s\n"
     ]
    },
    {
     "name": "stderr",
     "output_type": "stream",
     "text": [
      "eval_pred: 100%|██████████████████████████████████████████████████████████████████████| 15/15 [00:00<00:00, 366.82it/s]\n"
     ]
    },
    {
     "name": "stdout",
     "output_type": "stream",
     "text": [
      "\t eval rmse: 1.0218\n",
      "\t eval mae: 0.8213\n",
      "\t eval r2: 0.0138\n",
      "==============================\n",
      "Epoch 3 elapsed: 0.057s\n"
     ]
    },
    {
     "name": "stderr",
     "output_type": "stream",
     "text": [
      "eval_pred: 100%|██████████████████████████████████████████████████████████████████████| 15/15 [00:00<00:00, 391.01it/s]\n"
     ]
    },
    {
     "name": "stdout",
     "output_type": "stream",
     "text": [
      "\t eval rmse: 1.0096\n",
      "\t eval mae: 0.8076\n",
      "\t eval r2: 0.0373\n",
      "==============================\n",
      "Epoch 4 elapsed: 0.062s\n"
     ]
    },
    {
     "name": "stderr",
     "output_type": "stream",
     "text": [
      "eval_pred: 100%|██████████████████████████████████████████████████████████████████████| 15/15 [00:00<00:00, 442.35it/s]\n"
     ]
    },
    {
     "name": "stdout",
     "output_type": "stream",
     "text": [
      "\t eval rmse: 1.0029\n",
      "\t eval mae: 0.8000\n",
      "\t eval r2: 0.0500\n",
      "==============================\n",
      "Epoch 5 elapsed: 0.053s\n"
     ]
    },
    {
     "name": "stderr",
     "output_type": "stream",
     "text": [
      "eval_pred: 100%|██████████████████████████████████████████████████████████████████████| 15/15 [00:00<00:00, 442.36it/s]\n"
     ]
    },
    {
     "name": "stdout",
     "output_type": "stream",
     "text": [
      "\t eval rmse: 0.9987\n",
      "\t eval mae: 0.7953\n",
      "\t eval r2: 0.0579\n",
      "==============================\n",
      "Training start time: \u001b[35m2022-07-19 17:42:53\u001b[0m\n",
      "Epoch 1 elapsed: 0.061s\n"
     ]
    },
    {
     "name": "stderr",
     "output_type": "stream",
     "text": [
      "eval_pred: 100%|██████████████████████████████████████████████████████████████████████| 15/15 [00:00<00:00, 374.31it/s]"
     ]
    },
    {
     "name": "stdout",
     "output_type": "stream",
     "text": [
      "\t eval rmse: 1.0457\n",
      "\t eval mae: 0.8482\n"
     ]
    },
    {
     "name": "stderr",
     "output_type": "stream",
     "text": [
      "\n"
     ]
    },
    {
     "name": "stdout",
     "output_type": "stream",
     "text": [
      "\t eval r2: -0.0328\n",
      "==============================\n",
      "Epoch 2 elapsed: 0.053s\n"
     ]
    },
    {
     "name": "stderr",
     "output_type": "stream",
     "text": [
      "eval_pred: 100%|██████████████████████████████████████████████████████████████████████| 15/15 [00:00<00:00, 409.17it/s]\n"
     ]
    },
    {
     "name": "stdout",
     "output_type": "stream",
     "text": [
      "\t eval rmse: 1.0218\n",
      "\t eval mae: 0.8213\n",
      "\t eval r2: 0.0138\n",
      "==============================\n",
      "Epoch 3 elapsed: 0.070s\n"
     ]
    },
    {
     "name": "stderr",
     "output_type": "stream",
     "text": [
      "eval_pred: 100%|██████████████████████████████████████████████████████████████████████| 15/15 [00:00<00:00, 482.23it/s]\n"
     ]
    },
    {
     "name": "stdout",
     "output_type": "stream",
     "text": [
      "\t eval rmse: 1.0096\n",
      "\t eval mae: 0.8076\n",
      "\t eval r2: 0.0373\n",
      "==============================\n",
      "Epoch 4 elapsed: 0.052s\n"
     ]
    },
    {
     "name": "stderr",
     "output_type": "stream",
     "text": [
      "eval_pred: 100%|██████████████████████████████████████████████████████████████████████| 15/15 [00:00<00:00, 345.33it/s]\n"
     ]
    },
    {
     "name": "stdout",
     "output_type": "stream",
     "text": [
      "\t eval rmse: 1.0029\n",
      "\t eval mae: 0.8000\n",
      "\t eval r2: 0.0500\n",
      "==============================\n",
      "Epoch 5 elapsed: 0.061s\n"
     ]
    },
    {
     "name": "stderr",
     "output_type": "stream",
     "text": [
      "eval_pred: 100%|██████████████████████████████████████████████████████████████████████| 15/15 [00:00<00:00, 442.41it/s]\n"
     ]
    },
    {
     "name": "stdout",
     "output_type": "stream",
     "text": [
      "\t eval rmse: 0.9987\n",
      "\t eval mae: 0.7953\n",
      "\t eval r2: 0.0579\n",
      "==============================\n",
      "Training start time: \u001b[35m2022-07-19 17:42:54\u001b[0m\n",
      "Epoch 1 elapsed: 0.053s\n"
     ]
    },
    {
     "name": "stderr",
     "output_type": "stream",
     "text": [
      "eval_pred: 100%|██████████████████████████████████████████████████████████████████████| 15/15 [00:00<00:00, 428.03it/s]"
     ]
    },
    {
     "name": "stdout",
     "output_type": "stream",
     "text": [
      "\t eval rmse: 1.0457\n",
      "\t eval mae: 0.8482\n",
      "\t eval r2: -0.0328\n",
      "==============================\n"
     ]
    },
    {
     "name": "stderr",
     "output_type": "stream",
     "text": [
      "\n"
     ]
    },
    {
     "name": "stdout",
     "output_type": "stream",
     "text": [
      "Epoch 2 elapsed: 0.063s\n"
     ]
    },
    {
     "name": "stderr",
     "output_type": "stream",
     "text": [
      "eval_pred: 100%|██████████████████████████████████████████████████████████████████████| 15/15 [00:00<00:00, 406.50it/s]\n"
     ]
    },
    {
     "name": "stdout",
     "output_type": "stream",
     "text": [
      "\t eval rmse: 1.0218\n",
      "\t eval mae: 0.8213\n",
      "\t eval r2: 0.0138\n",
      "==============================\n",
      "Epoch 3 elapsed: 0.051s\n"
     ]
    },
    {
     "name": "stderr",
     "output_type": "stream",
     "text": [
      "eval_pred: 100%|██████████████████████████████████████████████████████████████████████| 15/15 [00:00<00:00, 314.16it/s]\n"
     ]
    },
    {
     "name": "stdout",
     "output_type": "stream",
     "text": [
      "\t eval rmse: 1.0096\n",
      "\t eval mae: 0.8076\n",
      "\t eval r2: 0.0373\n",
      "==============================\n",
      "Epoch 4 elapsed: 0.057s\n"
     ]
    },
    {
     "name": "stderr",
     "output_type": "stream",
     "text": [
      "eval_pred: 100%|██████████████████████████████████████████████████████████████████████| 15/15 [00:00<00:00, 514.09it/s]\n"
     ]
    },
    {
     "name": "stdout",
     "output_type": "stream",
     "text": [
      "\t eval rmse: 1.0029\n",
      "\t eval mae: 0.8000\n",
      "\t eval r2: 0.0500\n",
      "==============================\n",
      "Epoch 5 elapsed: 0.062s\n"
     ]
    },
    {
     "name": "stderr",
     "output_type": "stream",
     "text": [
      "eval_pred: 100%|██████████████████████████████████████████████████████████████████████| 15/15 [00:00<00:00, 363.25it/s]\n"
     ]
    },
    {
     "name": "stdout",
     "output_type": "stream",
     "text": [
      "\t eval rmse: 0.9987\n",
      "\t eval mae: 0.7953\n",
      "\t eval r2: 0.0579\n",
      "==============================\n",
      "Training start time: \u001b[35m2022-07-19 17:42:56\u001b[0m\n",
      "Epoch 1 elapsed: 0.054s\n"
     ]
    },
    {
     "name": "stderr",
     "output_type": "stream",
     "text": [
      "eval_pred: 100%|██████████████████████████████████████████████████████████████████████| 15/15 [00:00<00:00, 557.00it/s]"
     ]
    },
    {
     "name": "stdout",
     "output_type": "stream",
     "text": [
      "\t eval rmse: 1.0457\n",
      "\t eval mae: 0.8482\n",
      "\t eval r2: -0.0328\n",
      "==============================\n"
     ]
    },
    {
     "name": "stderr",
     "output_type": "stream",
     "text": [
      "\n"
     ]
    },
    {
     "name": "stdout",
     "output_type": "stream",
     "text": [
      "Epoch 2 elapsed: 0.066s\n"
     ]
    },
    {
     "name": "stderr",
     "output_type": "stream",
     "text": [
      "eval_pred: 100%|██████████████████████████████████████████████████████████████████████| 15/15 [00:00<00:00, 469.99it/s]\n"
     ]
    },
    {
     "name": "stdout",
     "output_type": "stream",
     "text": [
      "\t eval rmse: 1.0218\n",
      "\t eval mae: 0.8213\n",
      "\t eval r2: 0.0138\n",
      "==============================\n",
      "Epoch 3 elapsed: 0.058s\n"
     ]
    },
    {
     "name": "stderr",
     "output_type": "stream",
     "text": [
      "eval_pred: 100%|██████████████████████████████████████████████████████████████████████| 15/15 [00:00<00:00, 442.36it/s]\n"
     ]
    },
    {
     "name": "stdout",
     "output_type": "stream",
     "text": [
      "\t eval rmse: 1.0096\n",
      "\t eval mae: 0.8076\n",
      "\t eval r2: 0.0373\n",
      "==============================\n",
      "Epoch 4 elapsed: 0.055s\n"
     ]
    },
    {
     "name": "stderr",
     "output_type": "stream",
     "text": [
      "eval_pred: 100%|██████████████████████████████████████████████████████████████████████| 15/15 [00:00<00:00, 455.72it/s]\n"
     ]
    },
    {
     "name": "stdout",
     "output_type": "stream",
     "text": [
      "\t eval rmse: 1.0029\n",
      "\t eval mae: 0.8000\n",
      "\t eval r2: 0.0500\n",
      "==============================\n",
      "Epoch 5 elapsed: 0.054s\n"
     ]
    },
    {
     "name": "stderr",
     "output_type": "stream",
     "text": [
      "eval_pred: 100%|██████████████████████████████████████████████████████████████████████| 15/15 [00:00<00:00, 455.76it/s]\n"
     ]
    },
    {
     "name": "stdout",
     "output_type": "stream",
     "text": [
      "\t eval rmse: 0.9987\n",
      "\t eval mae: 0.7953\n",
      "\t eval r2: 0.0579\n",
      "==============================\n",
      "Training start time: \u001b[35m2022-07-19 17:42:57\u001b[0m\n",
      "Epoch 1 elapsed: 0.056s\n"
     ]
    },
    {
     "name": "stderr",
     "output_type": "stream",
     "text": [
      "eval_pred: 100%|██████████████████████████████████████████████████████████████████████| 15/15 [00:00<00:00, 485.17it/s]"
     ]
    },
    {
     "name": "stdout",
     "output_type": "stream",
     "text": [
      "\t eval rmse: 1.0457\n",
      "\t eval mae: 0.8482\n",
      "\t eval r2: -0.0328\n",
      "=============================="
     ]
    },
    {
     "name": "stderr",
     "output_type": "stream",
     "text": [
      "\n"
     ]
    },
    {
     "name": "stdout",
     "output_type": "stream",
     "text": [
      "\n",
      "Epoch 2 elapsed: 0.055s\n"
     ]
    },
    {
     "name": "stderr",
     "output_type": "stream",
     "text": [
      "eval_pred: 100%|██████████████████████████████████████████████████████████████████████| 15/15 [00:00<00:00, 470.00it/s]\n"
     ]
    },
    {
     "name": "stdout",
     "output_type": "stream",
     "text": [
      "\t eval rmse: 1.0218\n",
      "\t eval mae: 0.8213\n",
      "\t eval r2: 0.0138\n",
      "==============================\n",
      "Epoch 3 elapsed: 0.059s\n"
     ]
    },
    {
     "name": "stderr",
     "output_type": "stream",
     "text": [
      "eval_pred: 100%|██████████████████████████████████████████████████████████████████████| 15/15 [00:00<00:00, 469.99it/s]\n"
     ]
    },
    {
     "name": "stdout",
     "output_type": "stream",
     "text": [
      "\t eval rmse: 1.0096\n",
      "\t eval mae: 0.8076\n",
      "\t eval r2: 0.0373\n",
      "==============================\n",
      "Epoch 4 elapsed: 0.060s\n"
     ]
    },
    {
     "name": "stderr",
     "output_type": "stream",
     "text": [
      "eval_pred: 100%|██████████████████████████████████████████████████████████████████████| 15/15 [00:00<00:00, 429.71it/s]\n"
     ]
    },
    {
     "name": "stdout",
     "output_type": "stream",
     "text": [
      "\t eval rmse: 1.0029\n",
      "\t eval mae: 0.8000\n",
      "\t eval r2: 0.0500\n",
      "==============================\n",
      "Epoch 5 elapsed: 0.059s\n"
     ]
    },
    {
     "name": "stderr",
     "output_type": "stream",
     "text": [
      "eval_pred: 100%|██████████████████████████████████████████████████████████████████████| 15/15 [00:00<00:00, 417.78it/s]\n"
     ]
    },
    {
     "name": "stdout",
     "output_type": "stream",
     "text": [
      "\t eval rmse: 0.9987\n",
      "\t eval mae: 0.7953\n",
      "\t eval r2: 0.0579\n",
      "==============================\n",
      "Training start time: \u001b[35m2022-07-19 17:42:58\u001b[0m\n",
      "Epoch 1 elapsed: 0.051s\n"
     ]
    },
    {
     "name": "stderr",
     "output_type": "stream",
     "text": [
      "eval_pred: 100%|██████████████████████████████████████████████████████████████████████| 15/15 [00:00<00:00, 406.48it/s]"
     ]
    },
    {
     "name": "stdout",
     "output_type": "stream",
     "text": [
      "\t eval rmse: 1.0431\n",
      "\t eval mae: 0.8459\n",
      "\t eval r2: -0.0276\n",
      "=============================="
     ]
    },
    {
     "name": "stderr",
     "output_type": "stream",
     "text": [
      "\n"
     ]
    },
    {
     "name": "stdout",
     "output_type": "stream",
     "text": [
      "\n",
      "Epoch 2 elapsed: 0.060s\n"
     ]
    },
    {
     "name": "stderr",
     "output_type": "stream",
     "text": [
      "eval_pred: 100%|██████████████████████████████████████████████████████████████████████| 15/15 [00:00<00:00, 442.34it/s]\n"
     ]
    },
    {
     "name": "stdout",
     "output_type": "stream",
     "text": [
      "\t eval rmse: 1.0205\n",
      "\t eval mae: 0.8199\n",
      "\t eval r2: 0.0164\n",
      "==============================\n",
      "Epoch 3 elapsed: 0.055s\n"
     ]
    },
    {
     "name": "stderr",
     "output_type": "stream",
     "text": [
      "eval_pred: 100%|██████████████████████████████████████████████████████████████████████| 15/15 [00:00<00:00, 429.72it/s]\n"
     ]
    },
    {
     "name": "stdout",
     "output_type": "stream",
     "text": [
      "\t eval rmse: 1.0094\n",
      "\t eval mae: 0.8074\n",
      "\t eval r2: 0.0376\n",
      "==============================\n",
      "Epoch 4 elapsed: 0.071s\n"
     ]
    },
    {
     "name": "stderr",
     "output_type": "stream",
     "text": [
      "eval_pred: 100%|██████████████████████████████████████████████████████████████████████| 15/15 [00:00<00:00, 406.49it/s]"
     ]
    },
    {
     "name": "stdout",
     "output_type": "stream",
     "text": [
      "\t eval rmse: 1.0029\n",
      "\t eval mae: 0.8000\n"
     ]
    },
    {
     "name": "stderr",
     "output_type": "stream",
     "text": [
      "\n"
     ]
    },
    {
     "name": "stdout",
     "output_type": "stream",
     "text": [
      "\t eval r2: 0.0500\n",
      "==============================\n",
      "Epoch 5 elapsed: 0.056s\n"
     ]
    },
    {
     "name": "stderr",
     "output_type": "stream",
     "text": [
      "eval_pred: 100%|██████████████████████████████████████████████████████████████████████| 15/15 [00:00<00:00, 470.00it/s]\n"
     ]
    },
    {
     "name": "stdout",
     "output_type": "stream",
     "text": [
      "\t eval rmse: 0.9988\n",
      "\t eval mae: 0.7954\n",
      "\t eval r2: 0.0577\n",
      "==============================\n",
      "Training start time: \u001b[35m2022-07-19 17:42:59\u001b[0m\n",
      "Epoch 1 elapsed: 0.061s\n"
     ]
    },
    {
     "name": "stderr",
     "output_type": "stream",
     "text": [
      "eval_pred: 100%|██████████████████████████████████████████████████████████████████████| 15/15 [00:00<00:00, 395.66it/s]"
     ]
    },
    {
     "name": "stdout",
     "output_type": "stream",
     "text": [
      "\t eval rmse: 1.0431\n",
      "\t eval mae: 0.8459\n"
     ]
    },
    {
     "name": "stderr",
     "output_type": "stream",
     "text": [
      "\n"
     ]
    },
    {
     "name": "stdout",
     "output_type": "stream",
     "text": [
      "\t eval r2: -0.0276\n",
      "==============================\n",
      "Epoch 2 elapsed: 0.055s\n"
     ]
    },
    {
     "name": "stderr",
     "output_type": "stream",
     "text": [
      "eval_pred: 100%|██████████████████████████████████████████████████████████████████████| 15/15 [00:00<00:00, 442.37it/s]\n"
     ]
    },
    {
     "name": "stdout",
     "output_type": "stream",
     "text": [
      "\t eval rmse: 1.0205\n",
      "\t eval mae: 0.8199\n",
      "\t eval r2: 0.0164\n",
      "==============================\n",
      "Epoch 3 elapsed: 0.054s\n"
     ]
    },
    {
     "name": "stderr",
     "output_type": "stream",
     "text": [
      "eval_pred: 100%|██████████████████████████████████████████████████████████████████████| 15/15 [00:00<00:00, 455.77it/s]\n"
     ]
    },
    {
     "name": "stdout",
     "output_type": "stream",
     "text": [
      "\t eval rmse: 1.0094\n",
      "\t eval mae: 0.8074\n",
      "\t eval r2: 0.0376\n",
      "==============================\n",
      "Epoch 4 elapsed: 0.064s\n"
     ]
    },
    {
     "name": "stderr",
     "output_type": "stream",
     "text": [
      "eval_pred: 100%|██████████████████████████████████████████████████████████████████████| 15/15 [00:00<00:00, 442.37it/s]\n"
     ]
    },
    {
     "name": "stdout",
     "output_type": "stream",
     "text": [
      "\t eval rmse: 1.0029\n",
      "\t eval mae: 0.8000\n",
      "\t eval r2: 0.0500\n",
      "==============================\n",
      "Epoch 5 elapsed: 0.054s\n"
     ]
    },
    {
     "name": "stderr",
     "output_type": "stream",
     "text": [
      "eval_pred: 100%|██████████████████████████████████████████████████████████████████████| 15/15 [00:00<00:00, 429.72it/s]\n"
     ]
    },
    {
     "name": "stdout",
     "output_type": "stream",
     "text": [
      "\t eval rmse: 0.9988\n",
      "\t eval mae: 0.7954\n",
      "\t eval r2: 0.0577\n",
      "==============================\n",
      "Training start time: \u001b[35m2022-07-19 17:43:00\u001b[0m\n",
      "Epoch 1 elapsed: 0.054s\n"
     ]
    },
    {
     "name": "stderr",
     "output_type": "stream",
     "text": [
      "eval_pred: 100%|██████████████████████████████████████████████████████████████████████| 15/15 [00:00<00:00, 455.77it/s]"
     ]
    },
    {
     "name": "stdout",
     "output_type": "stream",
     "text": [
      "\t eval rmse: 1.0431\n",
      "\t eval mae: 0.8459\n",
      "\t eval r2: -0.0276\n",
      "=============================="
     ]
    },
    {
     "name": "stderr",
     "output_type": "stream",
     "text": [
      "\n"
     ]
    },
    {
     "name": "stdout",
     "output_type": "stream",
     "text": [
      "\n",
      "Epoch 2 elapsed: 0.067s\n"
     ]
    },
    {
     "name": "stderr",
     "output_type": "stream",
     "text": [
      "eval_pred: 100%|██████████████████████████████████████████████████████████████████████| 15/15 [00:00<00:00, 429.71it/s]\n"
     ]
    },
    {
     "name": "stdout",
     "output_type": "stream",
     "text": [
      "\t eval rmse: 1.0205\n",
      "\t eval mae: 0.8199\n",
      "\t eval r2: 0.0164\n",
      "==============================\n",
      "Epoch 3 elapsed: 0.055s\n"
     ]
    },
    {
     "name": "stderr",
     "output_type": "stream",
     "text": [
      "eval_pred: 100%|██████████████████████████████████████████████████████████████████████| 15/15 [00:00<00:00, 455.75it/s]\n"
     ]
    },
    {
     "name": "stdout",
     "output_type": "stream",
     "text": [
      "\t eval rmse: 1.0094\n",
      "\t eval mae: 0.8074\n",
      "\t eval r2: 0.0376\n",
      "==============================\n",
      "Epoch 4 elapsed: 0.061s\n"
     ]
    },
    {
     "name": "stderr",
     "output_type": "stream",
     "text": [
      "eval_pred: 100%|██████████████████████████████████████████████████████████████████████| 15/15 [00:00<00:00, 481.81it/s]\n"
     ]
    },
    {
     "name": "stdout",
     "output_type": "stream",
     "text": [
      "\t eval rmse: 1.0029\n",
      "\t eval mae: 0.8000\n",
      "\t eval r2: 0.0500\n",
      "==============================\n",
      "Epoch 5 elapsed: 0.069s\n"
     ]
    },
    {
     "name": "stderr",
     "output_type": "stream",
     "text": [
      "eval_pred: 100%|██████████████████████████████████████████████████████████████████████| 15/15 [00:00<00:00, 497.86it/s]\n"
     ]
    },
    {
     "name": "stdout",
     "output_type": "stream",
     "text": [
      "\t eval rmse: 0.9988\n",
      "\t eval mae: 0.7954\n",
      "\t eval r2: 0.0577\n",
      "==============================\n",
      "Training start time: \u001b[35m2022-07-19 17:43:01\u001b[0m\n",
      "Epoch 1 elapsed: 0.052s\n"
     ]
    },
    {
     "name": "stderr",
     "output_type": "stream",
     "text": [
      "eval_pred: 100%|██████████████████████████████████████████████████████████████████████| 15/15 [00:00<00:00, 442.35it/s]"
     ]
    },
    {
     "name": "stdout",
     "output_type": "stream",
     "text": [
      "\t eval rmse: 1.0431\n",
      "\t eval mae: 0.8459\n",
      "\t eval r2: -0.0276\n",
      "==============================\n"
     ]
    },
    {
     "name": "stderr",
     "output_type": "stream",
     "text": [
      "\n"
     ]
    },
    {
     "name": "stdout",
     "output_type": "stream",
     "text": [
      "Epoch 2 elapsed: 0.056s\n"
     ]
    },
    {
     "name": "stderr",
     "output_type": "stream",
     "text": [
      "eval_pred: 100%|██████████████████████████████████████████████████████████████████████| 15/15 [00:00<00:00, 429.65it/s]\n"
     ]
    },
    {
     "name": "stdout",
     "output_type": "stream",
     "text": [
      "\t eval rmse: 1.0205\n",
      "\t eval mae: 0.8199\n",
      "\t eval r2: 0.0164\n",
      "==============================\n",
      "Epoch 3 elapsed: 0.053s\n"
     ]
    },
    {
     "name": "stderr",
     "output_type": "stream",
     "text": [
      "eval_pred: 100%|██████████████████████████████████████████████████████████████████████| 15/15 [00:00<00:00, 417.79it/s]\n"
     ]
    },
    {
     "name": "stdout",
     "output_type": "stream",
     "text": [
      "\t eval rmse: 1.0094\n",
      "\t eval mae: 0.8074\n",
      "\t eval r2: 0.0376\n",
      "==============================\n",
      "Epoch 4 elapsed: 0.060s\n"
     ]
    },
    {
     "name": "stderr",
     "output_type": "stream",
     "text": [
      "eval_pred: 100%|██████████████████████████████████████████████████████████████████████| 15/15 [00:00<00:00, 442.35it/s]\n"
     ]
    },
    {
     "name": "stdout",
     "output_type": "stream",
     "text": [
      "\t eval rmse: 1.0029\n",
      "\t eval mae: 0.8000\n",
      "\t eval r2: 0.0500\n",
      "==============================\n",
      "Epoch 5 elapsed: 0.063s\n"
     ]
    },
    {
     "name": "stderr",
     "output_type": "stream",
     "text": [
      "eval_pred: 100%|██████████████████████████████████████████████████████████████████████| 15/15 [00:00<00:00, 485.16it/s]\n"
     ]
    },
    {
     "name": "stdout",
     "output_type": "stream",
     "text": [
      "\t eval rmse: 0.9988\n",
      "\t eval mae: 0.7954\n",
      "\t eval r2: 0.0577\n",
      "==============================\n",
      "Training start time: \u001b[35m2022-07-19 17:43:02\u001b[0m\n",
      "Epoch 1 elapsed: 0.052s\n"
     ]
    },
    {
     "name": "stderr",
     "output_type": "stream",
     "text": [
      "eval_pred: 100%|██████████████████████████████████████████████████████████████████████| 15/15 [00:00<00:00, 455.76it/s]"
     ]
    },
    {
     "name": "stdout",
     "output_type": "stream",
     "text": [
      "\t eval rmse: 1.0431\n",
      "\t eval mae: 0.8459\n",
      "\t eval r2: -0.0276\n",
      "=============================="
     ]
    },
    {
     "name": "stderr",
     "output_type": "stream",
     "text": [
      "\n"
     ]
    },
    {
     "name": "stdout",
     "output_type": "stream",
     "text": [
      "\n",
      "Epoch 2 elapsed: 0.064s\n"
     ]
    },
    {
     "name": "stderr",
     "output_type": "stream",
     "text": [
      "eval_pred: 100%|██████████████████████████████████████████████████████████████████████| 15/15 [00:00<00:00, 429.74it/s]\n"
     ]
    },
    {
     "name": "stdout",
     "output_type": "stream",
     "text": [
      "\t eval rmse: 1.0205\n",
      "\t eval mae: 0.8199\n",
      "\t eval r2: 0.0164\n",
      "==============================\n",
      "Epoch 3 elapsed: 0.068s\n"
     ]
    },
    {
     "name": "stderr",
     "output_type": "stream",
     "text": [
      "eval_pred: 100%|██████████████████████████████████████████████████████████████████████| 15/15 [00:00<00:00, 485.17it/s]\n"
     ]
    },
    {
     "name": "stdout",
     "output_type": "stream",
     "text": [
      "\t eval rmse: 1.0094\n",
      "\t eval mae: 0.8074\n",
      "\t eval r2: 0.0376\n",
      "==============================\n",
      "Epoch 4 elapsed: 0.056s\n"
     ]
    },
    {
     "name": "stderr",
     "output_type": "stream",
     "text": [
      "eval_pred: 100%|██████████████████████████████████████████████████████████████████████| 15/15 [00:00<00:00, 442.35it/s]\n"
     ]
    },
    {
     "name": "stdout",
     "output_type": "stream",
     "text": [
      "\t eval rmse: 1.0029\n",
      "\t eval mae: 0.8000\n",
      "\t eval r2: 0.0500\n",
      "==============================\n",
      "Epoch 5 elapsed: 0.059s\n"
     ]
    },
    {
     "name": "stderr",
     "output_type": "stream",
     "text": [
      "eval_pred: 100%|██████████████████████████████████████████████████████████████████████| 15/15 [00:00<00:00, 417.78it/s]\n"
     ]
    },
    {
     "name": "stdout",
     "output_type": "stream",
     "text": [
      "\t eval rmse: 0.9988\n",
      "\t eval mae: 0.7954\n",
      "\t eval r2: 0.0577\n",
      "==============================\n",
      "Training start time: \u001b[35m2022-07-19 17:43:04\u001b[0m\n",
      "Epoch 1 elapsed: 0.053s\n"
     ]
    },
    {
     "name": "stderr",
     "output_type": "stream",
     "text": [
      "eval_pred: 100%|██████████████████████████████████████████████████████████████████████| 15/15 [00:00<00:00, 311.37it/s]"
     ]
    },
    {
     "name": "stdout",
     "output_type": "stream",
     "text": [
      "\t eval rmse: 1.0421\n",
      "\t eval mae: 0.8452\n"
     ]
    },
    {
     "name": "stderr",
     "output_type": "stream",
     "text": [
      "\n"
     ]
    },
    {
     "name": "stdout",
     "output_type": "stream",
     "text": [
      "\t eval r2: -0.0257\n",
      "==============================\n",
      "Epoch 2 elapsed: 0.059s\n"
     ]
    },
    {
     "name": "stderr",
     "output_type": "stream",
     "text": [
      "eval_pred: 100%|██████████████████████████████████████████████████████████████████████| 15/15 [00:00<00:00, 372.54it/s]\n"
     ]
    },
    {
     "name": "stdout",
     "output_type": "stream",
     "text": [
      "\t eval rmse: 1.0201\n",
      "\t eval mae: 0.8196\n",
      "\t eval r2: 0.0172\n",
      "==============================\n",
      "Epoch 3 elapsed: 0.062s\n"
     ]
    },
    {
     "name": "stderr",
     "output_type": "stream",
     "text": [
      "eval_pred: 100%|██████████████████████████████████████████████████████████████████████| 15/15 [00:00<00:00, 417.78it/s]\n"
     ]
    },
    {
     "name": "stdout",
     "output_type": "stream",
     "text": [
      "\t eval rmse: 1.0093\n",
      "\t eval mae: 0.8075\n",
      "\t eval r2: 0.0379\n",
      "==============================\n",
      "Epoch 4 elapsed: 0.059s\n"
     ]
    },
    {
     "name": "stderr",
     "output_type": "stream",
     "text": [
      "eval_pred: 100%|██████████████████████████████████████████████████████████████████████| 15/15 [00:00<00:00, 356.58it/s]"
     ]
    },
    {
     "name": "stdout",
     "output_type": "stream",
     "text": [
      "\t eval rmse: 1.0028\n",
      "\t eval mae: 0.8001\n"
     ]
    },
    {
     "name": "stderr",
     "output_type": "stream",
     "text": [
      "\n"
     ]
    },
    {
     "name": "stdout",
     "output_type": "stream",
     "text": [
      "\t eval r2: 0.0502\n",
      "==============================\n",
      "Epoch 5 elapsed: 0.058s\n"
     ]
    },
    {
     "name": "stderr",
     "output_type": "stream",
     "text": [
      "eval_pred: 100%|██████████████████████████████████████████████████████████████████████| 15/15 [00:00<00:00, 455.76it/s]\n"
     ]
    },
    {
     "name": "stdout",
     "output_type": "stream",
     "text": [
      "\t eval rmse: 0.9986\n",
      "\t eval mae: 0.7954\n",
      "\t eval r2: 0.0581\n",
      "==============================\n",
      "Training start time: \u001b[35m2022-07-19 17:43:05\u001b[0m\n",
      "Epoch 1 elapsed: 0.054s\n"
     ]
    },
    {
     "name": "stderr",
     "output_type": "stream",
     "text": [
      "eval_pred: 100%|██████████████████████████████████████████████████████████████████████| 15/15 [00:00<00:00, 444.65it/s]"
     ]
    },
    {
     "name": "stdout",
     "output_type": "stream",
     "text": [
      "\t eval rmse: 1.0421\n",
      "\t eval mae: 0.8452\n",
      "\t eval r2: -0.0257\n",
      "==============================\n"
     ]
    },
    {
     "name": "stderr",
     "output_type": "stream",
     "text": [
      "\n"
     ]
    },
    {
     "name": "stdout",
     "output_type": "stream",
     "text": [
      "Epoch 2 elapsed: 0.056s\n"
     ]
    },
    {
     "name": "stderr",
     "output_type": "stream",
     "text": [
      "eval_pred: 100%|██████████████████████████████████████████████████████████████████████| 15/15 [00:00<00:00, 442.38it/s]\n"
     ]
    },
    {
     "name": "stdout",
     "output_type": "stream",
     "text": [
      "\t eval rmse: 1.0201\n",
      "\t eval mae: 0.8196\n",
      "\t eval r2: 0.0172\n",
      "==============================\n",
      "Epoch 3 elapsed: 0.063s\n"
     ]
    },
    {
     "name": "stderr",
     "output_type": "stream",
     "text": [
      "eval_pred: 100%|██████████████████████████████████████████████████████████████████████| 15/15 [00:00<00:00, 354.32it/s]"
     ]
    },
    {
     "name": "stdout",
     "output_type": "stream",
     "text": [
      "\t eval rmse: 1.0093\n",
      "\t eval mae: 0.8075\n"
     ]
    },
    {
     "name": "stderr",
     "output_type": "stream",
     "text": [
      "\n"
     ]
    },
    {
     "name": "stdout",
     "output_type": "stream",
     "text": [
      "\t eval r2: 0.0379\n",
      "==============================\n",
      "Epoch 4 elapsed: 0.056s\n"
     ]
    },
    {
     "name": "stderr",
     "output_type": "stream",
     "text": [
      "eval_pred: 100%|██████████████████████████████████████████████████████████████████████| 15/15 [00:00<00:00, 469.98it/s]\n"
     ]
    },
    {
     "name": "stdout",
     "output_type": "stream",
     "text": [
      "\t eval rmse: 1.0028\n",
      "\t eval mae: 0.8001\n",
      "\t eval r2: 0.0502\n",
      "==============================\n",
      "Epoch 5 elapsed: 0.067s\n"
     ]
    },
    {
     "name": "stderr",
     "output_type": "stream",
     "text": [
      "eval_pred: 100%|██████████████████████████████████████████████████████████████████████| 15/15 [00:00<00:00, 417.78it/s]\n"
     ]
    },
    {
     "name": "stdout",
     "output_type": "stream",
     "text": [
      "\t eval rmse: 0.9986\n",
      "\t eval mae: 0.7954\n",
      "\t eval r2: 0.0581\n",
      "==============================\n",
      "Training start time: \u001b[35m2022-07-19 17:43:06\u001b[0m\n",
      "Epoch 1 elapsed: 0.054s\n"
     ]
    },
    {
     "name": "stderr",
     "output_type": "stream",
     "text": [
      "eval_pred: 100%|██████████████████████████████████████████████████████████████████████| 15/15 [00:00<00:00, 460.54it/s]"
     ]
    },
    {
     "name": "stdout",
     "output_type": "stream",
     "text": [
      "\t eval rmse: 1.0421\n",
      "\t eval mae: 0.8452\n",
      "\t eval r2: -0.0257\n",
      "=============================="
     ]
    },
    {
     "name": "stderr",
     "output_type": "stream",
     "text": [
      "\n"
     ]
    },
    {
     "name": "stdout",
     "output_type": "stream",
     "text": [
      "\n",
      "Epoch 2 elapsed: 0.055s\n"
     ]
    },
    {
     "name": "stderr",
     "output_type": "stream",
     "text": [
      "eval_pred: 100%|██████████████████████████████████████████████████████████████████████| 15/15 [00:00<00:00, 442.37it/s]\n"
     ]
    },
    {
     "name": "stdout",
     "output_type": "stream",
     "text": [
      "\t eval rmse: 1.0201\n",
      "\t eval mae: 0.8196\n",
      "\t eval r2: 0.0172\n",
      "==============================\n",
      "Epoch 3 elapsed: 0.070s\n"
     ]
    },
    {
     "name": "stderr",
     "output_type": "stream",
     "text": [
      "eval_pred: 100%|██████████████████████████████████████████████████████████████████████| 15/15 [00:00<00:00, 455.76it/s]\n"
     ]
    },
    {
     "name": "stdout",
     "output_type": "stream",
     "text": [
      "\t eval rmse: 1.0093\n",
      "\t eval mae: 0.8075\n",
      "\t eval r2: 0.0379\n",
      "==============================\n",
      "Epoch 4 elapsed: 0.056s\n"
     ]
    },
    {
     "name": "stderr",
     "output_type": "stream",
     "text": [
      "eval_pred: 100%|██████████████████████████████████████████████████████████████████████| 15/15 [00:00<00:00, 455.76it/s]\n"
     ]
    },
    {
     "name": "stdout",
     "output_type": "stream",
     "text": [
      "\t eval rmse: 1.0028\n",
      "\t eval mae: 0.8001\n",
      "\t eval r2: 0.0502\n",
      "==============================\n",
      "Epoch 5 elapsed: 0.056s\n"
     ]
    },
    {
     "name": "stderr",
     "output_type": "stream",
     "text": [
      "eval_pred: 100%|██████████████████████████████████████████████████████████████████████| 15/15 [00:00<00:00, 455.75it/s]\n"
     ]
    },
    {
     "name": "stdout",
     "output_type": "stream",
     "text": [
      "\t eval rmse: 0.9986\n",
      "\t eval mae: 0.7954\n",
      "\t eval r2: 0.0581\n",
      "==============================\n",
      "Training start time: \u001b[35m2022-07-19 17:43:07\u001b[0m\n",
      "Epoch 1 elapsed: 0.056s\n"
     ]
    },
    {
     "name": "stderr",
     "output_type": "stream",
     "text": [
      "eval_pred: 100%|██████████████████████████████████████████████████████████████████████| 15/15 [00:00<00:00, 455.77it/s]"
     ]
    },
    {
     "name": "stdout",
     "output_type": "stream",
     "text": [
      "\t eval rmse: 1.0421\n",
      "\t eval mae: 0.8452\n",
      "\t eval r2: -0.0257\n",
      "==============================\n"
     ]
    },
    {
     "name": "stderr",
     "output_type": "stream",
     "text": [
      "\n"
     ]
    },
    {
     "name": "stdout",
     "output_type": "stream",
     "text": [
      "Epoch 2 elapsed: 0.061s\n"
     ]
    },
    {
     "name": "stderr",
     "output_type": "stream",
     "text": [
      "eval_pred: 100%|██████████████████████████████████████████████████████████████████████| 15/15 [00:00<00:00, 395.79it/s]\n"
     ]
    },
    {
     "name": "stdout",
     "output_type": "stream",
     "text": [
      "\t eval rmse: 1.0201\n",
      "\t eval mae: 0.8196\n",
      "\t eval r2: 0.0172\n",
      "==============================\n",
      "Epoch 3 elapsed: 0.063s\n"
     ]
    },
    {
     "name": "stderr",
     "output_type": "stream",
     "text": [
      "eval_pred: 100%|██████████████████████████████████████████████████████████████████████| 15/15 [00:00<00:00, 395.82it/s]"
     ]
    },
    {
     "name": "stdout",
     "output_type": "stream",
     "text": [
      "\t eval rmse: 1.0093\n"
     ]
    },
    {
     "name": "stderr",
     "output_type": "stream",
     "text": [
      "\n"
     ]
    },
    {
     "name": "stdout",
     "output_type": "stream",
     "text": [
      "\t eval mae: 0.8075\n",
      "\t eval r2: 0.0379\n",
      "==============================\n",
      "Epoch 4 elapsed: 0.057s\n"
     ]
    },
    {
     "name": "stderr",
     "output_type": "stream",
     "text": [
      "eval_pred: 100%|██████████████████████████████████████████████████████████████████████| 15/15 [00:00<00:00, 469.98it/s]\n"
     ]
    },
    {
     "name": "stdout",
     "output_type": "stream",
     "text": [
      "\t eval rmse: 1.0028\n",
      "\t eval mae: 0.8001\n",
      "\t eval r2: 0.0502\n",
      "==============================\n",
      "Epoch 5 elapsed: 0.062s\n"
     ]
    },
    {
     "name": "stderr",
     "output_type": "stream",
     "text": [
      "eval_pred: 100%|██████████████████████████████████████████████████████████████████████| 15/15 [00:00<00:00, 455.78it/s]\n"
     ]
    },
    {
     "name": "stdout",
     "output_type": "stream",
     "text": [
      "\t eval rmse: 0.9986\n",
      "\t eval mae: 0.7954\n",
      "\t eval r2: 0.0581\n",
      "==============================\n",
      "Training start time: \u001b[35m2022-07-19 17:43:08\u001b[0m\n",
      "Epoch 1 elapsed: 0.063s\n"
     ]
    },
    {
     "name": "stderr",
     "output_type": "stream",
     "text": [
      "eval_pred: 100%|██████████████████████████████████████████████████████████████████████| 15/15 [00:00<00:00, 442.34it/s]"
     ]
    },
    {
     "name": "stdout",
     "output_type": "stream",
     "text": [
      "\t eval rmse: 1.0421\n"
     ]
    },
    {
     "name": "stderr",
     "output_type": "stream",
     "text": [
      "\n"
     ]
    },
    {
     "name": "stdout",
     "output_type": "stream",
     "text": [
      "\t eval mae: 0.8452\n",
      "\t eval r2: -0.0257\n",
      "==============================\n",
      "Epoch 2 elapsed: 0.054s\n"
     ]
    },
    {
     "name": "stderr",
     "output_type": "stream",
     "text": [
      "eval_pred: 100%|██████████████████████████████████████████████████████████████████████| 15/15 [00:00<00:00, 455.75it/s]\n"
     ]
    },
    {
     "name": "stdout",
     "output_type": "stream",
     "text": [
      "\t eval rmse: 1.0201\n",
      "\t eval mae: 0.8196\n",
      "\t eval r2: 0.0172\n",
      "==============================\n",
      "Epoch 3 elapsed: 0.057s\n"
     ]
    },
    {
     "name": "stderr",
     "output_type": "stream",
     "text": [
      "eval_pred: 100%|██████████████████████████████████████████████████████████████████████| 15/15 [00:00<00:00, 470.00it/s]\n"
     ]
    },
    {
     "name": "stdout",
     "output_type": "stream",
     "text": [
      "\t eval rmse: 1.0093\n",
      "\t eval mae: 0.8075\n",
      "\t eval r2: 0.0379\n",
      "==============================\n",
      "Epoch 4 elapsed: 0.061s\n"
     ]
    },
    {
     "name": "stderr",
     "output_type": "stream",
     "text": [
      "eval_pred: 100%|██████████████████████████████████████████████████████████████████████| 15/15 [00:00<00:00, 455.76it/s]\n"
     ]
    },
    {
     "name": "stdout",
     "output_type": "stream",
     "text": [
      "\t eval rmse: 1.0028\n",
      "\t eval mae: 0.8001\n",
      "\t eval r2: 0.0502\n",
      "==============================\n",
      "Epoch 5 elapsed: 0.063s\n"
     ]
    },
    {
     "name": "stderr",
     "output_type": "stream",
     "text": [
      "eval_pred: 100%|██████████████████████████████████████████████████████████████████████| 15/15 [00:00<00:00, 429.76it/s]\n"
     ]
    },
    {
     "name": "stdout",
     "output_type": "stream",
     "text": [
      "\t eval rmse: 0.9986\n",
      "\t eval mae: 0.7954\n",
      "\t eval r2: 0.0581\n",
      "==============================\n",
      "Training start time: \u001b[35m2022-07-19 17:43:09\u001b[0m\n",
      "Epoch 1 elapsed: 0.052s\n"
     ]
    },
    {
     "name": "stderr",
     "output_type": "stream",
     "text": [
      "eval_pred: 100%|██████████████████████████████████████████████████████████████████████| 15/15 [00:00<00:00, 408.47it/s]"
     ]
    },
    {
     "name": "stdout",
     "output_type": "stream",
     "text": [
      "\t eval rmse: 1.0313\n",
      "\t eval mae: 0.8393\n",
      "\t eval r2: -0.0045\n",
      "=============================="
     ]
    },
    {
     "name": "stderr",
     "output_type": "stream",
     "text": [
      "\n"
     ]
    },
    {
     "name": "stdout",
     "output_type": "stream",
     "text": [
      "\n",
      "Epoch 2 elapsed: 0.056s\n"
     ]
    },
    {
     "name": "stderr",
     "output_type": "stream",
     "text": [
      "eval_pred: 100%|██████████████████████████████████████████████████████████████████████| 15/15 [00:00<00:00, 442.35it/s]\n"
     ]
    },
    {
     "name": "stdout",
     "output_type": "stream",
     "text": [
      "\t eval rmse: 1.0136\n",
      "\t eval mae: 0.8151\n",
      "\t eval r2: 0.0297\n",
      "==============================\n",
      "Epoch 3 elapsed: 0.061s\n"
     ]
    },
    {
     "name": "stderr",
     "output_type": "stream",
     "text": [
      "eval_pred: 100%|██████████████████████████████████████████████████████████████████████| 15/15 [00:00<00:00, 429.72it/s]\n"
     ]
    },
    {
     "name": "stdout",
     "output_type": "stream",
     "text": [
      "\t eval rmse: 1.0037\n",
      "\t eval mae: 0.8038\n",
      "\t eval r2: 0.0486\n",
      "==============================\n",
      "Epoch 4 elapsed: 0.059s\n"
     ]
    },
    {
     "name": "stderr",
     "output_type": "stream",
     "text": [
      "eval_pred: 100%|██████████████████████████████████████████████████████████████████████| 15/15 [00:00<00:00, 429.72it/s]\n"
     ]
    },
    {
     "name": "stdout",
     "output_type": "stream",
     "text": [
      "\t eval rmse: 0.9978\n",
      "\t eval mae: 0.7972\n",
      "\t eval r2: 0.0597\n",
      "==============================\n",
      "Epoch 5 elapsed: 0.058s\n"
     ]
    },
    {
     "name": "stderr",
     "output_type": "stream",
     "text": [
      "eval_pred: 100%|██████████████████████████████████████████████████████████████████████| 15/15 [00:00<00:00, 442.34it/s]\n"
     ]
    },
    {
     "name": "stdout",
     "output_type": "stream",
     "text": [
      "\t eval rmse: 0.9939\n",
      "\t eval mae: 0.7929\n",
      "\t eval r2: 0.0669\n",
      "==============================\n",
      "Training start time: \u001b[35m2022-07-19 17:43:11\u001b[0m\n",
      "Epoch 1 elapsed: 0.072s\n"
     ]
    },
    {
     "name": "stderr",
     "output_type": "stream",
     "text": [
      "eval_pred: 100%|██████████████████████████████████████████████████████████████████████| 15/15 [00:00<00:00, 395.78it/s]"
     ]
    },
    {
     "name": "stdout",
     "output_type": "stream",
     "text": [
      "\t eval rmse: 1.0313\n",
      "\t eval mae: 0.8393\n"
     ]
    },
    {
     "name": "stderr",
     "output_type": "stream",
     "text": [
      "\n"
     ]
    },
    {
     "name": "stdout",
     "output_type": "stream",
     "text": [
      "\t eval r2: -0.0045\n",
      "==============================\n",
      "Epoch 2 elapsed: 0.059s\n"
     ]
    },
    {
     "name": "stderr",
     "output_type": "stream",
     "text": [
      "eval_pred: 100%|██████████████████████████████████████████████████████████████████████| 15/15 [00:00<00:00, 442.35it/s]\n"
     ]
    },
    {
     "name": "stdout",
     "output_type": "stream",
     "text": [
      "\t eval rmse: 1.0136\n",
      "\t eval mae: 0.8151\n",
      "\t eval r2: 0.0297\n",
      "==============================\n",
      "Epoch 3 elapsed: 0.064s\n"
     ]
    },
    {
     "name": "stderr",
     "output_type": "stream",
     "text": [
      "eval_pred: 100%|██████████████████████████████████████████████████████████████████████| 15/15 [00:00<00:00, 395.78it/s]\n"
     ]
    },
    {
     "name": "stdout",
     "output_type": "stream",
     "text": [
      "\t eval rmse: 1.0037\n",
      "\t eval mae: 0.8038\n",
      "\t eval r2: 0.0486\n",
      "==============================\n",
      "Epoch 4 elapsed: 0.066s\n"
     ]
    },
    {
     "name": "stderr",
     "output_type": "stream",
     "text": [
      "eval_pred: 100%|██████████████████████████████████████████████████████████████████████| 15/15 [00:00<00:00, 417.78it/s]\n"
     ]
    },
    {
     "name": "stdout",
     "output_type": "stream",
     "text": [
      "\t eval rmse: 0.9978\n",
      "\t eval mae: 0.7972\n",
      "\t eval r2: 0.0597\n",
      "==============================\n",
      "Epoch 5 elapsed: 0.057s\n"
     ]
    },
    {
     "name": "stderr",
     "output_type": "stream",
     "text": [
      "eval_pred: 100%|██████████████████████████████████████████████████████████████████████| 15/15 [00:00<00:00, 417.77it/s]\n"
     ]
    },
    {
     "name": "stdout",
     "output_type": "stream",
     "text": [
      "\t eval rmse: 0.9939\n",
      "\t eval mae: 0.7929\n",
      "\t eval r2: 0.0669\n",
      "==============================\n",
      "Training start time: \u001b[35m2022-07-19 17:43:12\u001b[0m\n",
      "Epoch 1 elapsed: 0.052s\n"
     ]
    },
    {
     "name": "stderr",
     "output_type": "stream",
     "text": [
      "eval_pred: 100%|██████████████████████████████████████████████████████████████████████| 15/15 [00:00<00:00, 442.33it/s]"
     ]
    },
    {
     "name": "stdout",
     "output_type": "stream",
     "text": [
      "\t eval rmse: 1.0313\n",
      "\t eval mae: 0.8393\n",
      "\t eval r2: -0.0045\n",
      "=============================="
     ]
    },
    {
     "name": "stderr",
     "output_type": "stream",
     "text": [
      "\n"
     ]
    },
    {
     "name": "stdout",
     "output_type": "stream",
     "text": [
      "\n",
      "Epoch 2 elapsed: 0.058s\n"
     ]
    },
    {
     "name": "stderr",
     "output_type": "stream",
     "text": [
      "eval_pred: 100%|██████████████████████████████████████████████████████████████████████| 15/15 [00:00<00:00, 429.73it/s]\n"
     ]
    },
    {
     "name": "stdout",
     "output_type": "stream",
     "text": [
      "\t eval rmse: 1.0136\n",
      "\t eval mae: 0.8151\n",
      "\t eval r2: 0.0297\n",
      "==============================\n",
      "Epoch 3 elapsed: 0.082s\n"
     ]
    },
    {
     "name": "stderr",
     "output_type": "stream",
     "text": [
      "eval_pred: 100%|██████████████████████████████████████████████████████████████████████| 15/15 [00:00<00:00, 455.76it/s]"
     ]
    },
    {
     "name": "stdout",
     "output_type": "stream",
     "text": [
      "\t eval rmse: 1.0037\n",
      "\t eval mae: 0.8038\n",
      "\t eval r2: 0.0486\n",
      "==============================\n",
      "Epoch 4 elapsed: 0.054s\n"
     ]
    },
    {
     "name": "stderr",
     "output_type": "stream",
     "text": [
      "\n",
      "eval_pred: 100%|██████████████████████████████████████████████████████████████████████| 15/15 [00:00<00:00, 455.77it/s]\n"
     ]
    },
    {
     "name": "stdout",
     "output_type": "stream",
     "text": [
      "\t eval rmse: 0.9978\n",
      "\t eval mae: 0.7972\n",
      "\t eval r2: 0.0597\n",
      "==============================\n",
      "Epoch 5 elapsed: 0.056s\n"
     ]
    },
    {
     "name": "stderr",
     "output_type": "stream",
     "text": [
      "eval_pred: 100%|██████████████████████████████████████████████████████████████████████| 15/15 [00:00<00:00, 406.48it/s]\n"
     ]
    },
    {
     "name": "stdout",
     "output_type": "stream",
     "text": [
      "\t eval rmse: 0.9939\n",
      "\t eval mae: 0.7929\n",
      "\t eval r2: 0.0669\n",
      "==============================\n",
      "Training start time: \u001b[35m2022-07-19 17:43:13\u001b[0m\n",
      "Epoch 1 elapsed: 0.072s\n"
     ]
    },
    {
     "name": "stderr",
     "output_type": "stream",
     "text": [
      "eval_pred: 100%|██████████████████████████████████████████████████████████████████████| 15/15 [00:00<00:00, 470.00it/s]"
     ]
    },
    {
     "name": "stdout",
     "output_type": "stream",
     "text": [
      "\t eval rmse: 1.0313\n"
     ]
    },
    {
     "name": "stderr",
     "output_type": "stream",
     "text": [
      "\n"
     ]
    },
    {
     "name": "stdout",
     "output_type": "stream",
     "text": [
      "\t eval mae: 0.8393\n",
      "\t eval r2: -0.0045\n",
      "==============================\n",
      "Epoch 2 elapsed: 0.063s\n"
     ]
    },
    {
     "name": "stderr",
     "output_type": "stream",
     "text": [
      "eval_pred: 100%|██████████████████████████████████████████████████████████████████████| 15/15 [00:00<00:00, 442.34it/s]\n"
     ]
    },
    {
     "name": "stdout",
     "output_type": "stream",
     "text": [
      "\t eval rmse: 1.0136\n",
      "\t eval mae: 0.8151\n",
      "\t eval r2: 0.0297\n",
      "==============================\n",
      "Epoch 3 elapsed: 0.061s\n"
     ]
    },
    {
     "name": "stderr",
     "output_type": "stream",
     "text": [
      "eval_pred: 100%|██████████████████████████████████████████████████████████████████████| 15/15 [00:00<00:00, 442.35it/s]\n"
     ]
    },
    {
     "name": "stdout",
     "output_type": "stream",
     "text": [
      "\t eval rmse: 1.0037\n",
      "\t eval mae: 0.8038\n",
      "\t eval r2: 0.0486\n",
      "==============================\n",
      "Epoch 4 elapsed: 0.058s\n"
     ]
    },
    {
     "name": "stderr",
     "output_type": "stream",
     "text": [
      "eval_pred: 100%|██████████████████████████████████████████████████████████████████████| 15/15 [00:00<00:00, 455.77it/s]\n"
     ]
    },
    {
     "name": "stdout",
     "output_type": "stream",
     "text": [
      "\t eval rmse: 0.9978\n",
      "\t eval mae: 0.7972\n",
      "\t eval r2: 0.0597\n",
      "==============================\n",
      "Epoch 5 elapsed: 0.066s\n"
     ]
    },
    {
     "name": "stderr",
     "output_type": "stream",
     "text": [
      "eval_pred: 100%|██████████████████████████████████████████████████████████████████████| 15/15 [00:00<00:00, 442.40it/s]\n"
     ]
    },
    {
     "name": "stdout",
     "output_type": "stream",
     "text": [
      "\t eval rmse: 0.9939\n",
      "\t eval mae: 0.7929\n",
      "\t eval r2: 0.0669\n",
      "==============================\n",
      "Training start time: \u001b[35m2022-07-19 17:43:14\u001b[0m\n",
      "Epoch 1 elapsed: 0.060s\n"
     ]
    },
    {
     "name": "stderr",
     "output_type": "stream",
     "text": [
      "eval_pred: 100%|██████████████████████████████████████████████████████████████████████| 15/15 [00:00<00:00, 395.75it/s]"
     ]
    },
    {
     "name": "stdout",
     "output_type": "stream",
     "text": [
      "\t eval rmse: 1.0313\n",
      "\t eval mae: 0.8393\n"
     ]
    },
    {
     "name": "stderr",
     "output_type": "stream",
     "text": [
      "\n"
     ]
    },
    {
     "name": "stdout",
     "output_type": "stream",
     "text": [
      "\t eval r2: -0.0045\n",
      "==============================\n",
      "Epoch 2 elapsed: 0.064s\n"
     ]
    },
    {
     "name": "stderr",
     "output_type": "stream",
     "text": [
      "eval_pred: 100%|██████████████████████████████████████████████████████████████████████| 15/15 [00:00<00:00, 429.71it/s]\n"
     ]
    },
    {
     "name": "stdout",
     "output_type": "stream",
     "text": [
      "\t eval rmse: 1.0136\n",
      "\t eval mae: 0.8151\n",
      "\t eval r2: 0.0297\n",
      "==============================\n",
      "Epoch 3 elapsed: 0.065s\n"
     ]
    },
    {
     "name": "stderr",
     "output_type": "stream",
     "text": [
      "eval_pred: 100%|██████████████████████████████████████████████████████████████████████| 15/15 [00:00<00:00, 455.76it/s]\n"
     ]
    },
    {
     "name": "stdout",
     "output_type": "stream",
     "text": [
      "\t eval rmse: 1.0037\n",
      "\t eval mae: 0.8038\n",
      "\t eval r2: 0.0486\n",
      "==============================\n",
      "Epoch 4 elapsed: 0.060s\n"
     ]
    },
    {
     "name": "stderr",
     "output_type": "stream",
     "text": [
      "eval_pred: 100%|██████████████████████████████████████████████████████████████████████| 15/15 [00:00<00:00, 406.49it/s]"
     ]
    },
    {
     "name": "stdout",
     "output_type": "stream",
     "text": [
      "\t eval rmse: 0.9978\n",
      "\t eval mae: 0.7972\n"
     ]
    },
    {
     "name": "stderr",
     "output_type": "stream",
     "text": [
      "\n"
     ]
    },
    {
     "name": "stdout",
     "output_type": "stream",
     "text": [
      "\t eval r2: 0.0597\n",
      "==============================\n",
      "Epoch 5 elapsed: 0.066s\n"
     ]
    },
    {
     "name": "stderr",
     "output_type": "stream",
     "text": [
      "eval_pred: 100%|██████████████████████████████████████████████████████████████████████| 15/15 [00:00<00:00, 429.71it/s]\n"
     ]
    },
    {
     "name": "stdout",
     "output_type": "stream",
     "text": [
      "\t eval rmse: 0.9939\n",
      "\t eval mae: 0.7929\n",
      "\t eval r2: 0.0669\n",
      "==============================\n",
      "Training start time: \u001b[35m2022-07-19 17:43:15\u001b[0m\n",
      "Epoch 1 elapsed: 0.059s\n"
     ]
    },
    {
     "name": "stderr",
     "output_type": "stream",
     "text": [
      "eval_pred: 100%|██████████████████████████████████████████████████████████████████████| 15/15 [00:00<00:00, 387.15it/s]"
     ]
    },
    {
     "name": "stdout",
     "output_type": "stream",
     "text": [
      "\t eval rmse: 1.0286\n",
      "\t eval mae: 0.8384\n",
      "\t eval r2: 0.0007\n",
      "=============================="
     ]
    },
    {
     "name": "stderr",
     "output_type": "stream",
     "text": [
      "\n"
     ]
    },
    {
     "name": "stdout",
     "output_type": "stream",
     "text": [
      "\n",
      "Epoch 2 elapsed: 0.059s\n"
     ]
    },
    {
     "name": "stderr",
     "output_type": "stream",
     "text": [
      "eval_pred: 100%|██████████████████████████████████████████████████████████████████████| 15/15 [00:00<00:00, 429.70it/s]\n"
     ]
    },
    {
     "name": "stdout",
     "output_type": "stream",
     "text": [
      "\t eval rmse: 1.0117\n",
      "\t eval mae: 0.8121\n",
      "\t eval r2: 0.0333\n",
      "==============================\n",
      "Epoch 3 elapsed: 0.058s\n"
     ]
    },
    {
     "name": "stderr",
     "output_type": "stream",
     "text": [
      "eval_pred: 100%|██████████████████████████████████████████████████████████████████████| 15/15 [00:00<00:00, 429.69it/s]\n"
     ]
    },
    {
     "name": "stdout",
     "output_type": "stream",
     "text": [
      "\t eval rmse: 1.0003\n",
      "\t eval mae: 0.8005\n",
      "\t eval r2: 0.0549\n",
      "==============================\n",
      "Epoch 4 elapsed: 0.064s\n"
     ]
    },
    {
     "name": "stderr",
     "output_type": "stream",
     "text": [
      "eval_pred: 100%|██████████████████████████████████████████████████████████████████████| 15/15 [00:00<00:00, 385.54it/s]"
     ]
    },
    {
     "name": "stdout",
     "output_type": "stream",
     "text": [
      "\t eval rmse: 0.9944\n",
      "\t eval mae: 0.7944\n"
     ]
    },
    {
     "name": "stderr",
     "output_type": "stream",
     "text": [
      "\n"
     ]
    },
    {
     "name": "stdout",
     "output_type": "stream",
     "text": [
      "\t eval r2: 0.0660\n",
      "==============================\n",
      "Epoch 5 elapsed: 0.062s\n"
     ]
    },
    {
     "name": "stderr",
     "output_type": "stream",
     "text": [
      "eval_pred: 100%|██████████████████████████████████████████████████████████████████████| 15/15 [00:00<00:00, 385.65it/s]\n"
     ]
    },
    {
     "name": "stdout",
     "output_type": "stream",
     "text": [
      "\t eval rmse: 0.9909\n",
      "\t eval mae: 0.7907\n",
      "\t eval r2: 0.0726\n",
      "==============================\n",
      "Training start time: \u001b[35m2022-07-19 17:43:17\u001b[0m\n",
      "Epoch 1 elapsed: 0.067s\n"
     ]
    },
    {
     "name": "stderr",
     "output_type": "stream",
     "text": [
      "eval_pred: 100%|██████████████████████████████████████████████████████████████████████| 15/15 [00:00<00:00, 326.15it/s]"
     ]
    },
    {
     "name": "stdout",
     "output_type": "stream",
     "text": [
      "\t eval rmse: 1.0286\n",
      "\t eval mae: 0.8384\n"
     ]
    },
    {
     "name": "stderr",
     "output_type": "stream",
     "text": [
      "\n"
     ]
    },
    {
     "name": "stdout",
     "output_type": "stream",
     "text": [
      "\t eval r2: 0.0007\n",
      "==============================\n",
      "Epoch 2 elapsed: 0.057s\n"
     ]
    },
    {
     "name": "stderr",
     "output_type": "stream",
     "text": [
      "eval_pred: 100%|██████████████████████████████████████████████████████████████████████| 15/15 [00:00<00:00, 470.01it/s]\n"
     ]
    },
    {
     "name": "stdout",
     "output_type": "stream",
     "text": [
      "\t eval rmse: 1.0117\n",
      "\t eval mae: 0.8121\n",
      "\t eval r2: 0.0333\n",
      "==============================\n",
      "Epoch 3 elapsed: 0.056s\n"
     ]
    },
    {
     "name": "stderr",
     "output_type": "stream",
     "text": [
      "eval_pred: 100%|██████████████████████████████████████████████████████████████████████| 15/15 [00:00<00:00, 469.99it/s]\n"
     ]
    },
    {
     "name": "stdout",
     "output_type": "stream",
     "text": [
      "\t eval rmse: 1.0003\n",
      "\t eval mae: 0.8005\n",
      "\t eval r2: 0.0549\n",
      "==============================\n",
      "Epoch 4 elapsed: 0.056s\n"
     ]
    },
    {
     "name": "stderr",
     "output_type": "stream",
     "text": [
      "eval_pred: 100%|██████████████████████████████████████████████████████████████████████| 15/15 [00:00<00:00, 501.34it/s]\n"
     ]
    },
    {
     "name": "stdout",
     "output_type": "stream",
     "text": [
      "\t eval rmse: 0.9944\n",
      "\t eval mae: 0.7944\n",
      "\t eval r2: 0.0660\n",
      "==============================\n",
      "Epoch 5 elapsed: 0.066s\n"
     ]
    },
    {
     "name": "stderr",
     "output_type": "stream",
     "text": [
      "eval_pred: 100%|██████████████████████████████████████████████████████████████████████| 15/15 [00:00<00:00, 455.76it/s]\n"
     ]
    },
    {
     "name": "stdout",
     "output_type": "stream",
     "text": [
      "\t eval rmse: 0.9909\n",
      "\t eval mae: 0.7907\n",
      "\t eval r2: 0.0726\n",
      "==============================\n",
      "Training start time: \u001b[35m2022-07-19 17:43:18\u001b[0m\n",
      "Epoch 1 elapsed: 0.070s\n"
     ]
    },
    {
     "name": "stderr",
     "output_type": "stream",
     "text": [
      "eval_pred: 100%|██████████████████████████████████████████████████████████████████████| 15/15 [00:00<00:00, 442.33it/s]"
     ]
    },
    {
     "name": "stdout",
     "output_type": "stream",
     "text": [
      "\t eval rmse: 1.0286\n"
     ]
    },
    {
     "name": "stderr",
     "output_type": "stream",
     "text": [
      "\n"
     ]
    },
    {
     "name": "stdout",
     "output_type": "stream",
     "text": [
      "\t eval mae: 0.8384\n",
      "\t eval r2: 0.0007\n",
      "==============================\n",
      "Epoch 2 elapsed: 0.059s\n"
     ]
    },
    {
     "name": "stderr",
     "output_type": "stream",
     "text": [
      "eval_pred: 100%|██████████████████████████████████████████████████████████████████████| 15/15 [00:00<00:00, 374.35it/s]\n"
     ]
    },
    {
     "name": "stdout",
     "output_type": "stream",
     "text": [
      "\t eval rmse: 1.0117\n",
      "\t eval mae: 0.8121\n",
      "\t eval r2: 0.0333\n",
      "==============================\n",
      "Epoch 3 elapsed: 0.059s\n"
     ]
    },
    {
     "name": "stderr",
     "output_type": "stream",
     "text": [
      "eval_pred: 100%|██████████████████████████████████████████████████████████████████████| 15/15 [00:00<00:00, 340.64it/s]\n"
     ]
    },
    {
     "name": "stdout",
     "output_type": "stream",
     "text": [
      "\t eval rmse: 1.0003\n",
      "\t eval mae: 0.8005\n",
      "\t eval r2: 0.0549\n",
      "==============================\n",
      "Epoch 4 elapsed: 0.057s\n"
     ]
    },
    {
     "name": "stderr",
     "output_type": "stream",
     "text": [
      "eval_pred: 100%|██████████████████████████████████████████████████████████████████████| 15/15 [00:00<00:00, 406.47it/s]\n"
     ]
    },
    {
     "name": "stdout",
     "output_type": "stream",
     "text": [
      "\t eval rmse: 0.9944\n",
      "\t eval mae: 0.7944\n",
      "\t eval r2: 0.0660\n",
      "==============================\n",
      "Epoch 5 elapsed: 0.061s\n"
     ]
    },
    {
     "name": "stderr",
     "output_type": "stream",
     "text": [
      "eval_pred: 100%|██████████████████████████████████████████████████████████████████████| 15/15 [00:00<00:00, 370.81it/s]"
     ]
    },
    {
     "name": "stdout",
     "output_type": "stream",
     "text": [
      "\t eval rmse: 0.9909\n",
      "\t eval mae: 0.7907\n",
      "\t eval r2: 0.0726\n",
      "=============================="
     ]
    },
    {
     "name": "stderr",
     "output_type": "stream",
     "text": [
      "\n"
     ]
    },
    {
     "name": "stdout",
     "output_type": "stream",
     "text": [
      "\n",
      "Training start time: \u001b[35m2022-07-19 17:43:19\u001b[0m\n",
      "Epoch 1 elapsed: 0.053s\n"
     ]
    },
    {
     "name": "stderr",
     "output_type": "stream",
     "text": [
      "eval_pred: 100%|██████████████████████████████████████████████████████████████████████| 15/15 [00:00<00:00, 429.71it/s]"
     ]
    },
    {
     "name": "stdout",
     "output_type": "stream",
     "text": [
      "\t eval rmse: 1.0286\n",
      "\t eval mae: 0.8384\n"
     ]
    },
    {
     "name": "stderr",
     "output_type": "stream",
     "text": [
      "\n"
     ]
    },
    {
     "name": "stdout",
     "output_type": "stream",
     "text": [
      "\t eval r2: 0.0007\n",
      "==============================\n",
      "Epoch 2 elapsed: 0.058s\n"
     ]
    },
    {
     "name": "stderr",
     "output_type": "stream",
     "text": [
      "eval_pred: 100%|██████████████████████████████████████████████████████████████████████| 15/15 [00:00<00:00, 442.35it/s]\n"
     ]
    },
    {
     "name": "stdout",
     "output_type": "stream",
     "text": [
      "\t eval rmse: 1.0117\n",
      "\t eval mae: 0.8121\n",
      "\t eval r2: 0.0333\n",
      "==============================\n",
      "Epoch 3 elapsed: 0.060s\n"
     ]
    },
    {
     "name": "stderr",
     "output_type": "stream",
     "text": [
      "eval_pred: 100%|██████████████████████████████████████████████████████████████████████| 15/15 [00:00<00:00, 470.32it/s]\n"
     ]
    },
    {
     "name": "stdout",
     "output_type": "stream",
     "text": [
      "\t eval rmse: 1.0003\n",
      "\t eval mae: 0.8005\n",
      "\t eval r2: 0.0549\n",
      "==============================\n",
      "Epoch 4 elapsed: 0.057s\n"
     ]
    },
    {
     "name": "stderr",
     "output_type": "stream",
     "text": [
      "eval_pred: 100%|██████████████████████████████████████████████████████████████████████| 15/15 [00:00<00:00, 406.49it/s]\n"
     ]
    },
    {
     "name": "stdout",
     "output_type": "stream",
     "text": [
      "\t eval rmse: 0.9944\n",
      "\t eval mae: 0.7944\n",
      "\t eval r2: 0.0660\n",
      "==============================\n",
      "Epoch 5 elapsed: 0.062s\n"
     ]
    },
    {
     "name": "stderr",
     "output_type": "stream",
     "text": [
      "eval_pred: 100%|██████████████████████████████████████████████████████████████████████| 15/15 [00:00<00:00, 417.79it/s]\n"
     ]
    },
    {
     "name": "stdout",
     "output_type": "stream",
     "text": [
      "\t eval rmse: 0.9909\n",
      "\t eval mae: 0.7907\n",
      "\t eval r2: 0.0726\n",
      "==============================\n",
      "Training start time: \u001b[35m2022-07-19 17:43:20\u001b[0m\n",
      "Epoch 1 elapsed: 0.059s\n"
     ]
    },
    {
     "name": "stderr",
     "output_type": "stream",
     "text": [
      "eval_pred: 100%|██████████████████████████████████████████████████████████████████████| 15/15 [00:00<00:00, 389.36it/s]"
     ]
    },
    {
     "name": "stdout",
     "output_type": "stream",
     "text": [
      "\t eval rmse: 1.0286\n",
      "\t eval mae: 0.8384\n"
     ]
    },
    {
     "name": "stderr",
     "output_type": "stream",
     "text": [
      "\n"
     ]
    },
    {
     "name": "stdout",
     "output_type": "stream",
     "text": [
      "\t eval r2: 0.0007\n",
      "==============================\n",
      "Epoch 2 elapsed: 0.071s\n"
     ]
    },
    {
     "name": "stderr",
     "output_type": "stream",
     "text": [
      "eval_pred: 100%|██████████████████████████████████████████████████████████████████████| 15/15 [00:00<00:00, 325.80it/s]"
     ]
    },
    {
     "name": "stdout",
     "output_type": "stream",
     "text": [
      "\t eval rmse: 1.0117\n",
      "\t eval mae: 0.8121\n"
     ]
    },
    {
     "name": "stderr",
     "output_type": "stream",
     "text": [
      "\n"
     ]
    },
    {
     "name": "stdout",
     "output_type": "stream",
     "text": [
      "\t eval r2: 0.0333\n",
      "==============================\n",
      "Epoch 3 elapsed: 0.062s\n"
     ]
    },
    {
     "name": "stderr",
     "output_type": "stream",
     "text": [
      "eval_pred: 100%|██████████████████████████████████████████████████████████████████████| 15/15 [00:00<00:00, 358.69it/s]"
     ]
    },
    {
     "name": "stdout",
     "output_type": "stream",
     "text": [
      "\t eval rmse: 1.0003\n",
      "\t eval mae: 0.8005\n"
     ]
    },
    {
     "name": "stderr",
     "output_type": "stream",
     "text": [
      "\n"
     ]
    },
    {
     "name": "stdout",
     "output_type": "stream",
     "text": [
      "\t eval r2: 0.0549\n",
      "==============================\n",
      "Epoch 4 elapsed: 0.055s\n"
     ]
    },
    {
     "name": "stderr",
     "output_type": "stream",
     "text": [
      "eval_pred: 100%|██████████████████████████████████████████████████████████████████████| 15/15 [00:00<00:00, 385.63it/s]\n"
     ]
    },
    {
     "name": "stdout",
     "output_type": "stream",
     "text": [
      "\t eval rmse: 0.9944\n",
      "\t eval mae: 0.7944\n",
      "\t eval r2: 0.0660\n",
      "==============================\n",
      "Epoch 5 elapsed: 0.057s\n"
     ]
    },
    {
     "name": "stderr",
     "output_type": "stream",
     "text": [
      "eval_pred: 100%|██████████████████████████████████████████████████████████████████████| 15/15 [00:00<00:00, 459.09it/s]"
     ]
    },
    {
     "name": "stdout",
     "output_type": "stream",
     "text": [
      "\t eval rmse: 0.9909\n",
      "\t eval mae: 0.7907\n",
      "\t eval r2: 0.0726\n",
      "==============================\n"
     ]
    },
    {
     "name": "stderr",
     "output_type": "stream",
     "text": [
      "\n"
     ]
    },
    {
     "name": "stdout",
     "output_type": "stream",
     "text": [
      "Training start time: \u001b[35m2022-07-19 17:43:21\u001b[0m\n",
      "Epoch 1 elapsed: 0.101s\n"
     ]
    },
    {
     "name": "stderr",
     "output_type": "stream",
     "text": [
      "eval_pred: 100%|██████████████████████████████████████████████████████████████████████| 15/15 [00:00<00:00, 392.43it/s]\n"
     ]
    },
    {
     "name": "stdout",
     "output_type": "stream",
     "text": [
      "\t eval rmse: 1.0590\n",
      "\t eval mae: 0.8542\n",
      "\t eval r2: -0.0592\n",
      "==============================\n",
      "Epoch 2 elapsed: 0.103s\n"
     ]
    },
    {
     "name": "stderr",
     "output_type": "stream",
     "text": [
      "eval_pred: 100%|██████████████████████████████████████████████████████████████████████| 15/15 [00:00<00:00, 455.77it/s]\n"
     ]
    },
    {
     "name": "stdout",
     "output_type": "stream",
     "text": [
      "\t eval rmse: 1.0389\n",
      "\t eval mae: 0.8295\n",
      "\t eval r2: -0.0195\n",
      "==============================\n",
      "Epoch 3 elapsed: 0.106s\n"
     ]
    },
    {
     "name": "stderr",
     "output_type": "stream",
     "text": [
      "eval_pred: 100%|██████████████████████████████████████████████████████████████████████| 15/15 [00:00<00:00, 380.24it/s]\n"
     ]
    },
    {
     "name": "stdout",
     "output_type": "stream",
     "text": [
      "\t eval rmse: 1.0349\n",
      "\t eval mae: 0.8232\n",
      "\t eval r2: -0.0116\n",
      "==============================\n",
      "Epoch 4 elapsed: 0.118s\n"
     ]
    },
    {
     "name": "stderr",
     "output_type": "stream",
     "text": [
      "eval_pred: 100%|██████████████████████████████████████████████████████████████████████| 15/15 [00:00<00:00, 360.27it/s]\n"
     ]
    },
    {
     "name": "stdout",
     "output_type": "stream",
     "text": [
      "\t eval rmse: 1.0312\n",
      "\t eval mae: 0.8180\n",
      "\t eval r2: -0.0043\n",
      "==============================\n",
      "Epoch 5 elapsed: 0.105s\n"
     ]
    },
    {
     "name": "stderr",
     "output_type": "stream",
     "text": [
      "eval_pred: 100%|██████████████████████████████████████████████████████████████████████| 15/15 [00:00<00:00, 429.72it/s]\n"
     ]
    },
    {
     "name": "stdout",
     "output_type": "stream",
     "text": [
      "\t eval rmse: 1.0279\n",
      "\t eval mae: 0.8135\n",
      "\t eval r2: 0.0021\n",
      "==============================\n",
      "Training start time: \u001b[35m2022-07-19 17:43:23\u001b[0m\n",
      "Epoch 1 elapsed: 0.102s\n"
     ]
    },
    {
     "name": "stderr",
     "output_type": "stream",
     "text": [
      "eval_pred: 100%|██████████████████████████████████████████████████████████████████████| 15/15 [00:00<00:00, 319.03it/s]\n"
     ]
    },
    {
     "name": "stdout",
     "output_type": "stream",
     "text": [
      "\t eval rmse: 1.0590\n",
      "\t eval mae: 0.8542\n",
      "\t eval r2: -0.0592\n",
      "==============================\n",
      "Epoch 2 elapsed: 0.104s\n"
     ]
    },
    {
     "name": "stderr",
     "output_type": "stream",
     "text": [
      "eval_pred: 100%|██████████████████████████████████████████████████████████████████████| 15/15 [00:00<00:00, 442.34it/s]\n"
     ]
    },
    {
     "name": "stdout",
     "output_type": "stream",
     "text": [
      "\t eval rmse: 1.0389\n",
      "\t eval mae: 0.8295\n",
      "\t eval r2: -0.0195\n",
      "==============================\n",
      "Epoch 3 elapsed: 0.104s\n"
     ]
    },
    {
     "name": "stderr",
     "output_type": "stream",
     "text": [
      "eval_pred: 100%|██████████████████████████████████████████████████████████████████████| 15/15 [00:00<00:00, 485.16it/s]\n"
     ]
    },
    {
     "name": "stdout",
     "output_type": "stream",
     "text": [
      "\t eval rmse: 1.0349\n",
      "\t eval mae: 0.8232\n",
      "\t eval r2: -0.0116\n",
      "==============================\n",
      "Epoch 4 elapsed: 0.106s\n"
     ]
    },
    {
     "name": "stderr",
     "output_type": "stream",
     "text": [
      "eval_pred: 100%|██████████████████████████████████████████████████████████████████████| 15/15 [00:00<00:00, 407.38it/s]\n"
     ]
    },
    {
     "name": "stdout",
     "output_type": "stream",
     "text": [
      "\t eval rmse: 1.0312\n",
      "\t eval mae: 0.8180\n",
      "\t eval r2: -0.0043\n",
      "==============================\n",
      "Epoch 5 elapsed: 0.113s\n"
     ]
    },
    {
     "name": "stderr",
     "output_type": "stream",
     "text": [
      "eval_pred: 100%|██████████████████████████████████████████████████████████████████████| 15/15 [00:00<00:00, 442.35it/s]\n"
     ]
    },
    {
     "name": "stdout",
     "output_type": "stream",
     "text": [
      "\t eval rmse: 1.0279\n",
      "\t eval mae: 0.8135\n",
      "\t eval r2: 0.0021\n",
      "==============================\n",
      "Training start time: \u001b[35m2022-07-19 17:43:24\u001b[0m\n",
      "Epoch 1 elapsed: 0.093s\n"
     ]
    },
    {
     "name": "stderr",
     "output_type": "stream",
     "text": [
      "eval_pred: 100%|██████████████████████████████████████████████████████████████████████| 15/15 [00:00<00:00, 326.22it/s]"
     ]
    },
    {
     "name": "stdout",
     "output_type": "stream",
     "text": [
      "\t eval rmse: 1.0590\n"
     ]
    },
    {
     "name": "stderr",
     "output_type": "stream",
     "text": [
      "\n"
     ]
    },
    {
     "name": "stdout",
     "output_type": "stream",
     "text": [
      "\t eval mae: 0.8542\n",
      "\t eval r2: -0.0592\n",
      "==============================\n",
      "Epoch 2 elapsed: 0.098s\n"
     ]
    },
    {
     "name": "stderr",
     "output_type": "stream",
     "text": [
      "eval_pred: 100%|██████████████████████████████████████████████████████████████████████| 15/15 [00:00<00:00, 417.50it/s]\n"
     ]
    },
    {
     "name": "stdout",
     "output_type": "stream",
     "text": [
      "\t eval rmse: 1.0389\n",
      "\t eval mae: 0.8295\n",
      "\t eval r2: -0.0195\n",
      "==============================\n",
      "Epoch 3 elapsed: 0.103s\n"
     ]
    },
    {
     "name": "stderr",
     "output_type": "stream",
     "text": [
      "eval_pred: 100%|██████████████████████████████████████████████████████████████████████| 15/15 [00:00<00:00, 562.94it/s]\n"
     ]
    },
    {
     "name": "stdout",
     "output_type": "stream",
     "text": [
      "\t eval rmse: 1.0349\n",
      "\t eval mae: 0.8232\n",
      "\t eval r2: -0.0116\n",
      "==============================\n",
      "Epoch 4 elapsed: 0.108s\n"
     ]
    },
    {
     "name": "stderr",
     "output_type": "stream",
     "text": [
      "eval_pred: 100%|██████████████████████████████████████████████████████████████████████| 15/15 [00:00<00:00, 442.36it/s]\n"
     ]
    },
    {
     "name": "stdout",
     "output_type": "stream",
     "text": [
      "\t eval rmse: 1.0312\n",
      "\t eval mae: 0.8180\n",
      "\t eval r2: -0.0043\n",
      "==============================\n",
      "Epoch 5 elapsed: 0.117s\n"
     ]
    },
    {
     "name": "stderr",
     "output_type": "stream",
     "text": [
      "eval_pred: 100%|██████████████████████████████████████████████████████████████████████| 15/15 [00:00<00:00, 424.39it/s]\n"
     ]
    },
    {
     "name": "stdout",
     "output_type": "stream",
     "text": [
      "\t eval rmse: 1.0279\n",
      "\t eval mae: 0.8135\n",
      "\t eval r2: 0.0021\n",
      "==============================\n",
      "Training start time: \u001b[35m2022-07-19 17:43:26\u001b[0m\n",
      "Epoch 1 elapsed: 0.106s\n"
     ]
    },
    {
     "name": "stderr",
     "output_type": "stream",
     "text": [
      "eval_pred: 100%|██████████████████████████████████████████████████████████████████████| 15/15 [00:00<00:00, 387.96it/s]\n"
     ]
    },
    {
     "name": "stdout",
     "output_type": "stream",
     "text": [
      "\t eval rmse: 1.0590\n",
      "\t eval mae: 0.8542\n",
      "\t eval r2: -0.0592\n",
      "==============================\n",
      "Epoch 2 elapsed: 0.100s\n"
     ]
    },
    {
     "name": "stderr",
     "output_type": "stream",
     "text": [
      "eval_pred: 100%|██████████████████████████████████████████████████████████████████████| 15/15 [00:00<00:00, 450.41it/s]\n"
     ]
    },
    {
     "name": "stdout",
     "output_type": "stream",
     "text": [
      "\t eval rmse: 1.0389\n",
      "\t eval mae: 0.8295\n",
      "\t eval r2: -0.0195\n",
      "==============================\n",
      "Epoch 3 elapsed: 0.116s\n"
     ]
    },
    {
     "name": "stderr",
     "output_type": "stream",
     "text": [
      "eval_pred: 100%|██████████████████████████████████████████████████████████████████████| 15/15 [00:00<00:00, 361.58it/s]\n"
     ]
    },
    {
     "name": "stdout",
     "output_type": "stream",
     "text": [
      "\t eval rmse: 1.0349\n",
      "\t eval mae: 0.8232\n",
      "\t eval r2: -0.0116\n",
      "==============================\n",
      "Epoch 4 elapsed: 0.106s\n"
     ]
    },
    {
     "name": "stderr",
     "output_type": "stream",
     "text": [
      "eval_pred: 100%|██████████████████████████████████████████████████████████████████████| 15/15 [00:00<00:00, 442.34it/s]\n"
     ]
    },
    {
     "name": "stdout",
     "output_type": "stream",
     "text": [
      "\t eval rmse: 1.0312\n",
      "\t eval mae: 0.8180\n",
      "\t eval r2: -0.0043\n",
      "==============================\n",
      "Epoch 5 elapsed: 0.110s\n"
     ]
    },
    {
     "name": "stderr",
     "output_type": "stream",
     "text": [
      "eval_pred: 100%|██████████████████████████████████████████████████████████████████████| 15/15 [00:00<00:00, 417.76it/s]\n"
     ]
    },
    {
     "name": "stdout",
     "output_type": "stream",
     "text": [
      "\t eval rmse: 1.0279\n",
      "\t eval mae: 0.8135\n",
      "\t eval r2: 0.0021\n",
      "==============================\n",
      "Training start time: \u001b[35m2022-07-19 17:43:27\u001b[0m\n",
      "Epoch 1 elapsed: 0.102s\n"
     ]
    },
    {
     "name": "stderr",
     "output_type": "stream",
     "text": [
      "eval_pred: 100%|██████████████████████████████████████████████████████████████████████| 15/15 [00:00<00:00, 455.75it/s]\n"
     ]
    },
    {
     "name": "stdout",
     "output_type": "stream",
     "text": [
      "\t eval rmse: 1.0590\n",
      "\t eval mae: 0.8542\n",
      "\t eval r2: -0.0592\n",
      "==============================\n",
      "Epoch 2 elapsed: 0.105s\n"
     ]
    },
    {
     "name": "stderr",
     "output_type": "stream",
     "text": [
      "eval_pred: 100%|██████████████████████████████████████████████████████████████████████| 15/15 [00:00<00:00, 470.00it/s]\n"
     ]
    },
    {
     "name": "stdout",
     "output_type": "stream",
     "text": [
      "\t eval rmse: 1.0389\n",
      "\t eval mae: 0.8295\n",
      "\t eval r2: -0.0195\n",
      "==============================\n",
      "Epoch 3 elapsed: 0.098s\n"
     ]
    },
    {
     "name": "stderr",
     "output_type": "stream",
     "text": [
      "eval_pred: 100%|██████████████████████████████████████████████████████████████████████| 15/15 [00:00<00:00, 442.36it/s]\n"
     ]
    },
    {
     "name": "stdout",
     "output_type": "stream",
     "text": [
      "\t eval rmse: 1.0349\n",
      "\t eval mae: 0.8232\n",
      "\t eval r2: -0.0116\n",
      "==============================\n",
      "Epoch 4 elapsed: 0.098s\n"
     ]
    },
    {
     "name": "stderr",
     "output_type": "stream",
     "text": [
      "eval_pred: 100%|██████████████████████████████████████████████████████████████████████| 15/15 [00:00<00:00, 429.71it/s]\n"
     ]
    },
    {
     "name": "stdout",
     "output_type": "stream",
     "text": [
      "\t eval rmse: 1.0312\n",
      "\t eval mae: 0.8180\n",
      "\t eval r2: -0.0043\n",
      "==============================\n",
      "Epoch 5 elapsed: 0.114s\n"
     ]
    },
    {
     "name": "stderr",
     "output_type": "stream",
     "text": [
      "eval_pred: 100%|██████████████████████████████████████████████████████████████████████| 15/15 [00:00<00:00, 447.04it/s]\n"
     ]
    },
    {
     "name": "stdout",
     "output_type": "stream",
     "text": [
      "\t eval rmse: 1.0279\n",
      "\t eval mae: 0.8135\n",
      "\t eval r2: 0.0021\n",
      "==============================\n",
      "Training start time: \u001b[35m2022-07-19 17:43:28\u001b[0m\n",
      "Epoch 1 elapsed: 0.099s\n"
     ]
    },
    {
     "name": "stderr",
     "output_type": "stream",
     "text": [
      "eval_pred: 100%|██████████████████████████████████████████████████████████████████████| 15/15 [00:00<00:00, 470.01it/s]\n"
     ]
    },
    {
     "name": "stdout",
     "output_type": "stream",
     "text": [
      "\t eval rmse: 1.0535\n",
      "\t eval mae: 0.8493\n",
      "\t eval r2: -0.0483\n",
      "==============================\n",
      "Epoch 2 elapsed: 0.113s\n"
     ]
    },
    {
     "name": "stderr",
     "output_type": "stream",
     "text": [
      "eval_pred: 100%|██████████████████████████████████████████████████████████████████████| 15/15 [00:00<00:00, 455.75it/s]\n"
     ]
    },
    {
     "name": "stdout",
     "output_type": "stream",
     "text": [
      "\t eval rmse: 1.0394\n",
      "\t eval mae: 0.8296\n",
      "\t eval r2: -0.0203\n",
      "==============================\n",
      "Epoch 3 elapsed: 0.099s\n"
     ]
    },
    {
     "name": "stderr",
     "output_type": "stream",
     "text": [
      "eval_pred: 100%|██████████████████████████████████████████████████████████████████████| 15/15 [00:00<00:00, 417.78it/s]\n"
     ]
    },
    {
     "name": "stdout",
     "output_type": "stream",
     "text": [
      "\t eval rmse: 1.0355\n",
      "\t eval mae: 0.8236\n",
      "\t eval r2: -0.0128\n",
      "==============================\n",
      "Epoch 4 elapsed: 0.106s\n"
     ]
    },
    {
     "name": "stderr",
     "output_type": "stream",
     "text": [
      "eval_pred: 100%|██████████████████████████████████████████████████████████████████████| 15/15 [00:00<00:00, 455.74it/s]\n"
     ]
    },
    {
     "name": "stdout",
     "output_type": "stream",
     "text": [
      "\t eval rmse: 1.0317\n",
      "\t eval mae: 0.8184\n",
      "\t eval r2: -0.0054\n",
      "==============================\n",
      "Epoch 5 elapsed: 0.110s\n"
     ]
    },
    {
     "name": "stderr",
     "output_type": "stream",
     "text": [
      "eval_pred: 100%|██████████████████████████████████████████████████████████████████████| 15/15 [00:00<00:00, 406.54it/s]\n"
     ]
    },
    {
     "name": "stdout",
     "output_type": "stream",
     "text": [
      "\t eval rmse: 1.0282\n",
      "\t eval mae: 0.8137\n",
      "\t eval r2: 0.0015\n",
      "==============================\n",
      "Training start time: \u001b[35m2022-07-19 17:43:30\u001b[0m\n",
      "Epoch 1 elapsed: 0.102s\n"
     ]
    },
    {
     "name": "stderr",
     "output_type": "stream",
     "text": [
      "eval_pred: 100%|██████████████████████████████████████████████████████████████████████| 15/15 [00:00<00:00, 442.34it/s]\n"
     ]
    },
    {
     "name": "stdout",
     "output_type": "stream",
     "text": [
      "\t eval rmse: 1.0535\n",
      "\t eval mae: 0.8493\n",
      "\t eval r2: -0.0483\n",
      "==============================\n",
      "Epoch 2 elapsed: 0.101s\n"
     ]
    },
    {
     "name": "stderr",
     "output_type": "stream",
     "text": [
      "eval_pred: 100%|██████████████████████████████████████████████████████████████████████| 15/15 [00:00<00:00, 442.36it/s]\n"
     ]
    },
    {
     "name": "stdout",
     "output_type": "stream",
     "text": [
      "\t eval rmse: 1.0394\n",
      "\t eval mae: 0.8296\n",
      "\t eval r2: -0.0203\n",
      "==============================\n",
      "Epoch 3 elapsed: 0.120s\n"
     ]
    },
    {
     "name": "stderr",
     "output_type": "stream",
     "text": [
      "eval_pred: 100%|██████████████████████████████████████████████████████████████████████| 15/15 [00:00<00:00, 455.76it/s]\n"
     ]
    },
    {
     "name": "stdout",
     "output_type": "stream",
     "text": [
      "\t eval rmse: 1.0355\n",
      "\t eval mae: 0.8236\n",
      "\t eval r2: -0.0128\n",
      "==============================\n",
      "Epoch 4 elapsed: 0.112s\n"
     ]
    },
    {
     "name": "stderr",
     "output_type": "stream",
     "text": [
      "eval_pred: 100%|██████████████████████████████████████████████████████████████████████| 15/15 [00:00<00:00, 429.71it/s]\n"
     ]
    },
    {
     "name": "stdout",
     "output_type": "stream",
     "text": [
      "\t eval rmse: 1.0317\n",
      "\t eval mae: 0.8184\n",
      "\t eval r2: -0.0054\n",
      "==============================\n",
      "Epoch 5 elapsed: 0.106s\n"
     ]
    },
    {
     "name": "stderr",
     "output_type": "stream",
     "text": [
      "eval_pred: 100%|██████████████████████████████████████████████████████████████████████| 15/15 [00:00<00:00, 429.67it/s]\n"
     ]
    },
    {
     "name": "stdout",
     "output_type": "stream",
     "text": [
      "\t eval rmse: 1.0282\n",
      "\t eval mae: 0.8137\n",
      "\t eval r2: 0.0015\n",
      "==============================\n",
      "Training start time: \u001b[35m2022-07-19 17:43:31\u001b[0m\n",
      "Epoch 1 elapsed: 0.105s\n"
     ]
    },
    {
     "name": "stderr",
     "output_type": "stream",
     "text": [
      "eval_pred: 100%|██████████████████████████████████████████████████████████████████████| 15/15 [00:00<00:00, 485.14it/s]\n"
     ]
    },
    {
     "name": "stdout",
     "output_type": "stream",
     "text": [
      "\t eval rmse: 1.0535\n",
      "\t eval mae: 0.8493\n",
      "\t eval r2: -0.0483\n",
      "==============================\n",
      "Epoch 2 elapsed: 0.107s\n"
     ]
    },
    {
     "name": "stderr",
     "output_type": "stream",
     "text": [
      "eval_pred: 100%|██████████████████████████████████████████████████████████████████████| 15/15 [00:00<00:00, 441.50it/s]\n"
     ]
    },
    {
     "name": "stdout",
     "output_type": "stream",
     "text": [
      "\t eval rmse: 1.0394\n",
      "\t eval mae: 0.8296\n",
      "\t eval r2: -0.0203\n",
      "==============================\n",
      "Epoch 3 elapsed: 0.101s\n"
     ]
    },
    {
     "name": "stderr",
     "output_type": "stream",
     "text": [
      "eval_pred: 100%|██████████████████████████████████████████████████████████████████████| 15/15 [00:00<00:00, 470.00it/s]\n"
     ]
    },
    {
     "name": "stdout",
     "output_type": "stream",
     "text": [
      "\t eval rmse: 1.0355\n",
      "\t eval mae: 0.8236\n",
      "\t eval r2: -0.0128\n",
      "==============================\n",
      "Epoch 4 elapsed: 0.097s\n"
     ]
    },
    {
     "name": "stderr",
     "output_type": "stream",
     "text": [
      "eval_pred: 100%|██████████████████████████████████████████████████████████████████████| 15/15 [00:00<00:00, 417.77it/s]\n"
     ]
    },
    {
     "name": "stdout",
     "output_type": "stream",
     "text": [
      "\t eval rmse: 1.0317\n",
      "\t eval mae: 0.8184\n",
      "\t eval r2: -0.0054\n",
      "==============================\n",
      "Epoch 5 elapsed: 0.103s\n"
     ]
    },
    {
     "name": "stderr",
     "output_type": "stream",
     "text": [
      "eval_pred: 100%|██████████████████████████████████████████████████████████████████████| 15/15 [00:00<00:00, 395.81it/s]\n"
     ]
    },
    {
     "name": "stdout",
     "output_type": "stream",
     "text": [
      "\t eval rmse: 1.0282\n",
      "\t eval mae: 0.8137\n",
      "\t eval r2: 0.0015\n",
      "==============================\n",
      "Training start time: \u001b[35m2022-07-19 17:43:32\u001b[0m\n",
      "Epoch 1 elapsed: 0.108s\n"
     ]
    },
    {
     "name": "stderr",
     "output_type": "stream",
     "text": [
      "eval_pred: 100%|██████████████████████████████████████████████████████████████████████| 15/15 [00:00<00:00, 442.34it/s]\n"
     ]
    },
    {
     "name": "stdout",
     "output_type": "stream",
     "text": [
      "\t eval rmse: 1.0535\n",
      "\t eval mae: 0.8493\n",
      "\t eval r2: -0.0483\n",
      "==============================\n",
      "Epoch 2 elapsed: 0.114s\n"
     ]
    },
    {
     "name": "stderr",
     "output_type": "stream",
     "text": [
      "eval_pred: 100%|██████████████████████████████████████████████████████████████████████| 15/15 [00:00<00:00, 429.71it/s]\n"
     ]
    },
    {
     "name": "stdout",
     "output_type": "stream",
     "text": [
      "\t eval rmse: 1.0394\n",
      "\t eval mae: 0.8296\n",
      "\t eval r2: -0.0203\n",
      "==============================\n",
      "Epoch 3 elapsed: 0.108s\n"
     ]
    },
    {
     "name": "stderr",
     "output_type": "stream",
     "text": [
      "eval_pred: 100%|██████████████████████████████████████████████████████████████████████| 15/15 [00:00<00:00, 417.82it/s]\n"
     ]
    },
    {
     "name": "stdout",
     "output_type": "stream",
     "text": [
      "\t eval rmse: 1.0355\n",
      "\t eval mae: 0.8236\n",
      "\t eval r2: -0.0128\n",
      "==============================\n",
      "Epoch 4 elapsed: 0.106s\n"
     ]
    },
    {
     "name": "stderr",
     "output_type": "stream",
     "text": [
      "eval_pred: 100%|██████████████████████████████████████████████████████████████████████| 15/15 [00:00<00:00, 406.48it/s]\n"
     ]
    },
    {
     "name": "stdout",
     "output_type": "stream",
     "text": [
      "\t eval rmse: 1.0317\n",
      "\t eval mae: 0.8184\n",
      "\t eval r2: -0.0054\n",
      "==============================\n",
      "Epoch 5 elapsed: 0.110s\n"
     ]
    },
    {
     "name": "stderr",
     "output_type": "stream",
     "text": [
      "eval_pred: 100%|██████████████████████████████████████████████████████████████████████| 15/15 [00:00<00:00, 406.49it/s]\n"
     ]
    },
    {
     "name": "stdout",
     "output_type": "stream",
     "text": [
      "\t eval rmse: 1.0282\n",
      "\t eval mae: 0.8137\n",
      "\t eval r2: 0.0015\n",
      "==============================\n",
      "Training start time: \u001b[35m2022-07-19 17:43:34\u001b[0m\n",
      "Epoch 1 elapsed: 0.106s\n"
     ]
    },
    {
     "name": "stderr",
     "output_type": "stream",
     "text": [
      "eval_pred: 100%|██████████████████████████████████████████████████████████████████████| 15/15 [00:00<00:00, 697.27it/s]"
     ]
    },
    {
     "name": "stdout",
     "output_type": "stream",
     "text": [
      "\t eval rmse: 1.0535\n"
     ]
    },
    {
     "name": "stderr",
     "output_type": "stream",
     "text": [
      "\n"
     ]
    },
    {
     "name": "stdout",
     "output_type": "stream",
     "text": [
      "\t eval mae: 0.8493\n",
      "\t eval r2: -0.0483\n",
      "==============================\n",
      "Epoch 2 elapsed: 0.098s\n"
     ]
    },
    {
     "name": "stderr",
     "output_type": "stream",
     "text": [
      "eval_pred: 100%|██████████████████████████████████████████████████████████████████████| 15/15 [00:00<00:00, 430.52it/s]\n"
     ]
    },
    {
     "name": "stdout",
     "output_type": "stream",
     "text": [
      "\t eval rmse: 1.0394\n",
      "\t eval mae: 0.8296\n",
      "\t eval r2: -0.0203\n",
      "==============================\n",
      "Epoch 3 elapsed: 0.116s\n"
     ]
    },
    {
     "name": "stderr",
     "output_type": "stream",
     "text": [
      "eval_pred: 100%|██████████████████████████████████████████████████████████████████████| 15/15 [00:00<00:00, 417.79it/s]\n"
     ]
    },
    {
     "name": "stdout",
     "output_type": "stream",
     "text": [
      "\t eval rmse: 1.0355\n",
      "\t eval mae: 0.8236\n",
      "\t eval r2: -0.0128\n",
      "==============================\n",
      "Epoch 4 elapsed: 0.103s\n"
     ]
    },
    {
     "name": "stderr",
     "output_type": "stream",
     "text": [
      "eval_pred: 100%|██████████████████████████████████████████████████████████████████████| 15/15 [00:00<00:00, 417.83it/s]\n"
     ]
    },
    {
     "name": "stdout",
     "output_type": "stream",
     "text": [
      "\t eval rmse: 1.0317\n",
      "\t eval mae: 0.8184\n",
      "\t eval r2: -0.0054\n",
      "==============================\n",
      "Epoch 5 elapsed: 0.106s\n"
     ]
    },
    {
     "name": "stderr",
     "output_type": "stream",
     "text": [
      "eval_pred: 100%|██████████████████████████████████████████████████████████████████████| 15/15 [00:00<00:00, 429.72it/s]\n"
     ]
    },
    {
     "name": "stdout",
     "output_type": "stream",
     "text": [
      "\t eval rmse: 1.0282\n",
      "\t eval mae: 0.8137\n",
      "\t eval r2: 0.0015\n",
      "==============================\n",
      "Training start time: \u001b[35m2022-07-19 17:43:35\u001b[0m\n",
      "Epoch 1 elapsed: 0.093s\n"
     ]
    },
    {
     "name": "stderr",
     "output_type": "stream",
     "text": [
      "eval_pred: 100%|██████████████████████████████████████████████████████████████████████| 15/15 [00:00<00:00, 345.69it/s]"
     ]
    },
    {
     "name": "stdout",
     "output_type": "stream",
     "text": [
      "\t eval rmse: 1.0516\n"
     ]
    },
    {
     "name": "stderr",
     "output_type": "stream",
     "text": [
      "\n"
     ]
    },
    {
     "name": "stdout",
     "output_type": "stream",
     "text": [
      "\t eval mae: 0.8479\n",
      "\t eval r2: -0.0446\n",
      "==============================\n",
      "Epoch 2 elapsed: 0.104s\n"
     ]
    },
    {
     "name": "stderr",
     "output_type": "stream",
     "text": [
      "eval_pred: 100%|██████████████████████████████████████████████████████████████████████| 15/15 [00:00<00:00, 442.36it/s]\n"
     ]
    },
    {
     "name": "stdout",
     "output_type": "stream",
     "text": [
      "\t eval rmse: 1.0396\n",
      "\t eval mae: 0.8299\n",
      "\t eval r2: -0.0208\n",
      "==============================\n",
      "Epoch 3 elapsed: 0.107s\n"
     ]
    },
    {
     "name": "stderr",
     "output_type": "stream",
     "text": [
      "eval_pred: 100%|██████████████████████████████████████████████████████████████████████| 15/15 [00:00<00:00, 470.00it/s]\n"
     ]
    },
    {
     "name": "stdout",
     "output_type": "stream",
     "text": [
      "\t eval rmse: 1.0356\n",
      "\t eval mae: 0.8239\n",
      "\t eval r2: -0.0129\n",
      "==============================\n",
      "Epoch 4 elapsed: 0.099s\n"
     ]
    },
    {
     "name": "stderr",
     "output_type": "stream",
     "text": [
      "eval_pred: 100%|██████████████████████████████████████████████████████████████████████| 15/15 [00:00<00:00, 417.78it/s]\n"
     ]
    },
    {
     "name": "stdout",
     "output_type": "stream",
     "text": [
      "\t eval rmse: 1.0315\n",
      "\t eval mae: 0.8184\n",
      "\t eval r2: -0.0049\n",
      "==============================\n",
      "Epoch 5 elapsed: 0.109s\n"
     ]
    },
    {
     "name": "stderr",
     "output_type": "stream",
     "text": [
      "eval_pred: 100%|██████████████████████████████████████████████████████████████████████| 15/15 [00:00<00:00, 417.78it/s]\n"
     ]
    },
    {
     "name": "stdout",
     "output_type": "stream",
     "text": [
      "\t eval rmse: 1.0276\n",
      "\t eval mae: 0.8135\n",
      "\t eval r2: 0.0026\n",
      "==============================\n",
      "Training start time: \u001b[35m2022-07-19 17:43:37\u001b[0m\n",
      "Epoch 1 elapsed: 0.105s\n"
     ]
    },
    {
     "name": "stderr",
     "output_type": "stream",
     "text": [
      "eval_pred: 100%|██████████████████████████████████████████████████████████████████████| 15/15 [00:00<00:00, 397.45it/s]\n"
     ]
    },
    {
     "name": "stdout",
     "output_type": "stream",
     "text": [
      "\t eval rmse: 1.0516\n",
      "\t eval mae: 0.8479\n",
      "\t eval r2: -0.0446\n",
      "==============================\n",
      "Epoch 2 elapsed: 0.104s\n"
     ]
    },
    {
     "name": "stderr",
     "output_type": "stream",
     "text": [
      "eval_pred: 100%|██████████████████████████████████████████████████████████████████████| 15/15 [00:00<00:00, 442.36it/s]\n"
     ]
    },
    {
     "name": "stdout",
     "output_type": "stream",
     "text": [
      "\t eval rmse: 1.0396\n",
      "\t eval mae: 0.8299\n",
      "\t eval r2: -0.0208\n",
      "==============================\n",
      "Epoch 3 elapsed: 0.104s\n"
     ]
    },
    {
     "name": "stderr",
     "output_type": "stream",
     "text": [
      "eval_pred: 100%|██████████████████████████████████████████████████████████████████████| 15/15 [00:00<00:00, 455.75it/s]\n"
     ]
    },
    {
     "name": "stdout",
     "output_type": "stream",
     "text": [
      "\t eval rmse: 1.0356\n",
      "\t eval mae: 0.8239\n",
      "\t eval r2: -0.0129\n",
      "==============================\n",
      "Epoch 4 elapsed: 0.102s\n"
     ]
    },
    {
     "name": "stderr",
     "output_type": "stream",
     "text": [
      "eval_pred: 100%|██████████████████████████████████████████████████████████████████████| 15/15 [00:00<00:00, 442.36it/s]\n"
     ]
    },
    {
     "name": "stdout",
     "output_type": "stream",
     "text": [
      "\t eval rmse: 1.0315\n",
      "\t eval mae: 0.8184\n",
      "\t eval r2: -0.0049\n",
      "==============================\n",
      "Epoch 5 elapsed: 0.107s\n"
     ]
    },
    {
     "name": "stderr",
     "output_type": "stream",
     "text": [
      "eval_pred: 100%|██████████████████████████████████████████████████████████████████████| 15/15 [00:00<00:00, 442.35it/s]\n"
     ]
    },
    {
     "name": "stdout",
     "output_type": "stream",
     "text": [
      "\t eval rmse: 1.0276\n",
      "\t eval mae: 0.8135\n",
      "\t eval r2: 0.0026\n",
      "==============================\n",
      "Training start time: \u001b[35m2022-07-19 17:43:38\u001b[0m\n",
      "Epoch 1 elapsed: 0.108s\n"
     ]
    },
    {
     "name": "stderr",
     "output_type": "stream",
     "text": [
      "eval_pred: 100%|██████████████████████████████████████████████████████████████████████| 15/15 [00:00<00:00, 442.36it/s]\n"
     ]
    },
    {
     "name": "stdout",
     "output_type": "stream",
     "text": [
      "\t eval rmse: 1.0516\n",
      "\t eval mae: 0.8479\n",
      "\t eval r2: -0.0446\n",
      "==============================\n",
      "Epoch 2 elapsed: 0.103s\n"
     ]
    },
    {
     "name": "stderr",
     "output_type": "stream",
     "text": [
      "eval_pred: 100%|██████████████████████████████████████████████████████████████████████| 15/15 [00:00<00:00, 442.35it/s]\n"
     ]
    },
    {
     "name": "stdout",
     "output_type": "stream",
     "text": [
      "\t eval rmse: 1.0396\n",
      "\t eval mae: 0.8299\n",
      "\t eval r2: -0.0208\n",
      "==============================\n",
      "Epoch 3 elapsed: 0.114s\n"
     ]
    },
    {
     "name": "stderr",
     "output_type": "stream",
     "text": [
      "eval_pred: 100%|██████████████████████████████████████████████████████████████████████| 15/15 [00:00<00:00, 436.66it/s]\n"
     ]
    },
    {
     "name": "stdout",
     "output_type": "stream",
     "text": [
      "\t eval rmse: 1.0356\n",
      "\t eval mae: 0.8239\n",
      "\t eval r2: -0.0129\n",
      "==============================\n",
      "Epoch 4 elapsed: 0.107s\n"
     ]
    },
    {
     "name": "stderr",
     "output_type": "stream",
     "text": [
      "eval_pred: 100%|██████████████████████████████████████████████████████████████████████| 15/15 [00:00<00:00, 446.26it/s]\n"
     ]
    },
    {
     "name": "stdout",
     "output_type": "stream",
     "text": [
      "\t eval rmse: 1.0315\n",
      "\t eval mae: 0.8184\n",
      "\t eval r2: -0.0049\n",
      "==============================\n",
      "Epoch 5 elapsed: 0.101s\n"
     ]
    },
    {
     "name": "stderr",
     "output_type": "stream",
     "text": [
      "eval_pred: 100%|██████████████████████████████████████████████████████████████████████| 15/15 [00:00<00:00, 360.34it/s]\n"
     ]
    },
    {
     "name": "stdout",
     "output_type": "stream",
     "text": [
      "\t eval rmse: 1.0276\n",
      "\t eval mae: 0.8135\n",
      "\t eval r2: 0.0026\n",
      "==============================\n",
      "Training start time: \u001b[35m2022-07-19 17:43:39\u001b[0m\n",
      "Epoch 1 elapsed: 0.101s\n"
     ]
    },
    {
     "name": "stderr",
     "output_type": "stream",
     "text": [
      "eval_pred: 100%|██████████████████████████████████████████████████████████████████████| 15/15 [00:00<00:00, 470.00it/s]\n"
     ]
    },
    {
     "name": "stdout",
     "output_type": "stream",
     "text": [
      "\t eval rmse: 1.0516\n",
      "\t eval mae: 0.8479\n",
      "\t eval r2: -0.0446\n",
      "==============================\n",
      "Epoch 2 elapsed: 0.106s\n"
     ]
    },
    {
     "name": "stderr",
     "output_type": "stream",
     "text": [
      "eval_pred: 100%|██████████████████████████████████████████████████████████████████████| 15/15 [00:00<00:00, 417.78it/s]\n"
     ]
    },
    {
     "name": "stdout",
     "output_type": "stream",
     "text": [
      "\t eval rmse: 1.0396\n",
      "\t eval mae: 0.8299\n",
      "\t eval r2: -0.0208\n",
      "==============================\n",
      "Epoch 3 elapsed: 0.094s\n"
     ]
    },
    {
     "name": "stderr",
     "output_type": "stream",
     "text": [
      "eval_pred: 100%|██████████████████████████████████████████████████████████████████████| 15/15 [00:00<00:00, 442.37it/s]\n"
     ]
    },
    {
     "name": "stdout",
     "output_type": "stream",
     "text": [
      "\t eval rmse: 1.0356\n",
      "\t eval mae: 0.8239\n",
      "\t eval r2: -0.0129\n",
      "==============================\n",
      "Epoch 4 elapsed: 0.114s\n"
     ]
    },
    {
     "name": "stderr",
     "output_type": "stream",
     "text": [
      "eval_pred: 100%|██████████████████████████████████████████████████████████████████████| 15/15 [00:00<00:00, 406.49it/s]\n"
     ]
    },
    {
     "name": "stdout",
     "output_type": "stream",
     "text": [
      "\t eval rmse: 1.0315\n",
      "\t eval mae: 0.8184\n",
      "\t eval r2: -0.0049\n",
      "==============================\n",
      "Epoch 5 elapsed: 0.100s\n"
     ]
    },
    {
     "name": "stderr",
     "output_type": "stream",
     "text": [
      "eval_pred: 100%|██████████████████████████████████████████████████████████████████████| 15/15 [00:00<00:00, 512.00it/s]\n"
     ]
    },
    {
     "name": "stdout",
     "output_type": "stream",
     "text": [
      "\t eval rmse: 1.0276\n",
      "\t eval mae: 0.8135\n",
      "\t eval r2: 0.0026\n",
      "==============================\n",
      "Training start time: \u001b[35m2022-07-19 17:43:41\u001b[0m\n",
      "Epoch 1 elapsed: 0.096s\n"
     ]
    },
    {
     "name": "stderr",
     "output_type": "stream",
     "text": [
      "eval_pred: 100%|██████████████████████████████████████████████████████████████████████| 15/15 [00:00<00:00, 455.77it/s]"
     ]
    },
    {
     "name": "stdout",
     "output_type": "stream",
     "text": [
      "\t eval rmse: 1.0516\n"
     ]
    },
    {
     "name": "stderr",
     "output_type": "stream",
     "text": [
      "\n"
     ]
    },
    {
     "name": "stdout",
     "output_type": "stream",
     "text": [
      "\t eval mae: 0.8479\n",
      "\t eval r2: -0.0446\n",
      "==============================\n",
      "Epoch 2 elapsed: 0.118s\n"
     ]
    },
    {
     "name": "stderr",
     "output_type": "stream",
     "text": [
      "eval_pred: 100%|██████████████████████████████████████████████████████████████████████| 15/15 [00:00<00:00, 442.36it/s]\n"
     ]
    },
    {
     "name": "stdout",
     "output_type": "stream",
     "text": [
      "\t eval rmse: 1.0396\n",
      "\t eval mae: 0.8299\n",
      "\t eval r2: -0.0208\n",
      "==============================\n",
      "Epoch 3 elapsed: 0.104s\n"
     ]
    },
    {
     "name": "stderr",
     "output_type": "stream",
     "text": [
      "eval_pred: 100%|██████████████████████████████████████████████████████████████████████| 15/15 [00:00<00:00, 429.70it/s]\n"
     ]
    },
    {
     "name": "stdout",
     "output_type": "stream",
     "text": [
      "\t eval rmse: 1.0356\n",
      "\t eval mae: 0.8239\n",
      "\t eval r2: -0.0129\n",
      "==============================\n",
      "Epoch 4 elapsed: 0.107s\n"
     ]
    },
    {
     "name": "stderr",
     "output_type": "stream",
     "text": [
      "eval_pred: 100%|██████████████████████████████████████████████████████████████████████| 15/15 [00:00<00:00, 417.80it/s]\n"
     ]
    },
    {
     "name": "stdout",
     "output_type": "stream",
     "text": [
      "\t eval rmse: 1.0315\n",
      "\t eval mae: 0.8184\n",
      "\t eval r2: -0.0049\n",
      "==============================\n",
      "Epoch 5 elapsed: 0.104s\n"
     ]
    },
    {
     "name": "stderr",
     "output_type": "stream",
     "text": [
      "eval_pred: 100%|██████████████████████████████████████████████████████████████████████| 15/15 [00:00<00:00, 429.71it/s]\n"
     ]
    },
    {
     "name": "stdout",
     "output_type": "stream",
     "text": [
      "\t eval rmse: 1.0276\n",
      "\t eval mae: 0.8135\n",
      "\t eval r2: 0.0026\n",
      "==============================\n",
      "Training start time: \u001b[35m2022-07-19 17:43:42\u001b[0m\n",
      "Epoch 1 elapsed: 0.106s\n"
     ]
    },
    {
     "name": "stderr",
     "output_type": "stream",
     "text": [
      "eval_pred: 100%|██████████████████████████████████████████████████████████████████████| 15/15 [00:00<00:00, 406.49it/s]\n"
     ]
    },
    {
     "name": "stdout",
     "output_type": "stream",
     "text": [
      "\t eval rmse: 1.0319\n",
      "\t eval mae: 0.8376\n",
      "\t eval r2: -0.0058\n",
      "==============================\n",
      "Epoch 2 elapsed: 0.115s\n"
     ]
    },
    {
     "name": "stderr",
     "output_type": "stream",
     "text": [
      "eval_pred: 100%|██████████████████████████████████████████████████████████████████████| 15/15 [00:00<00:00, 442.36it/s]\n"
     ]
    },
    {
     "name": "stdout",
     "output_type": "stream",
     "text": [
      "\t eval rmse: 1.0259\n",
      "\t eval mae: 0.8211\n",
      "\t eval r2: 0.0059\n",
      "==============================\n",
      "Epoch 3 elapsed: 0.104s\n"
     ]
    },
    {
     "name": "stderr",
     "output_type": "stream",
     "text": [
      "eval_pred: 100%|██████████████████████████████████████████████████████████████████████| 15/15 [00:00<00:00, 417.77it/s]\n"
     ]
    },
    {
     "name": "stdout",
     "output_type": "stream",
     "text": [
      "\t eval rmse: 1.0223\n",
      "\t eval mae: 0.8153\n",
      "\t eval r2: 0.0130\n",
      "==============================\n",
      "Epoch 4 elapsed: 0.106s\n"
     ]
    },
    {
     "name": "stderr",
     "output_type": "stream",
     "text": [
      "eval_pred: 100%|██████████████████████████████████████████████████████████████████████| 15/15 [00:00<00:00, 366.84it/s]\n"
     ]
    },
    {
     "name": "stdout",
     "output_type": "stream",
     "text": [
      "\t eval rmse: 1.0179\n",
      "\t eval mae: 0.8097\n",
      "\t eval r2: 0.0214\n",
      "==============================\n",
      "Epoch 5 elapsed: 0.102s\n"
     ]
    },
    {
     "name": "stderr",
     "output_type": "stream",
     "text": [
      "eval_pred: 100%|██████████████████████████████████████████████████████████████████████| 15/15 [00:00<00:00, 455.75it/s]\n"
     ]
    },
    {
     "name": "stdout",
     "output_type": "stream",
     "text": [
      "\t eval rmse: 1.0136\n",
      "\t eval mae: 0.8044\n",
      "\t eval r2: 0.0295\n",
      "==============================\n",
      "Training start time: \u001b[35m2022-07-19 17:43:43\u001b[0m\n",
      "Epoch 1 elapsed: 0.109s\n"
     ]
    },
    {
     "name": "stderr",
     "output_type": "stream",
     "text": [
      "eval_pred: 100%|██████████████████████████████████████████████████████████████████████| 15/15 [00:00<00:00, 429.72it/s]\n"
     ]
    },
    {
     "name": "stdout",
     "output_type": "stream",
     "text": [
      "\t eval rmse: 1.0319\n",
      "\t eval mae: 0.8376\n",
      "\t eval r2: -0.0058\n",
      "==============================\n",
      "Epoch 2 elapsed: 0.099s\n"
     ]
    },
    {
     "name": "stderr",
     "output_type": "stream",
     "text": [
      "eval_pred: 100%|██████████████████████████████████████████████████████████████████████| 15/15 [00:00<00:00, 417.79it/s]\n"
     ]
    },
    {
     "name": "stdout",
     "output_type": "stream",
     "text": [
      "\t eval rmse: 1.0259\n",
      "\t eval mae: 0.8211\n",
      "\t eval r2: 0.0059\n",
      "==============================\n",
      "Epoch 3 elapsed: 0.103s\n"
     ]
    },
    {
     "name": "stderr",
     "output_type": "stream",
     "text": [
      "eval_pred: 100%|██████████████████████████████████████████████████████████████████████| 15/15 [00:00<00:00, 442.36it/s]\n"
     ]
    },
    {
     "name": "stdout",
     "output_type": "stream",
     "text": [
      "\t eval rmse: 1.0223\n",
      "\t eval mae: 0.8153\n",
      "\t eval r2: 0.0130\n",
      "==============================\n",
      "Epoch 4 elapsed: 0.101s\n"
     ]
    },
    {
     "name": "stderr",
     "output_type": "stream",
     "text": [
      "eval_pred: 100%|██████████████████████████████████████████████████████████████████████| 15/15 [00:00<00:00, 455.79it/s]\n"
     ]
    },
    {
     "name": "stdout",
     "output_type": "stream",
     "text": [
      "\t eval rmse: 1.0179\n",
      "\t eval mae: 0.8097\n",
      "\t eval r2: 0.0214\n",
      "==============================\n",
      "Epoch 5 elapsed: 0.108s\n"
     ]
    },
    {
     "name": "stderr",
     "output_type": "stream",
     "text": [
      "eval_pred: 100%|██████████████████████████████████████████████████████████████████████| 15/15 [00:00<00:00, 442.37it/s]\n"
     ]
    },
    {
     "name": "stdout",
     "output_type": "stream",
     "text": [
      "\t eval rmse: 1.0136\n",
      "\t eval mae: 0.8044\n",
      "\t eval r2: 0.0295\n",
      "==============================\n",
      "Training start time: \u001b[35m2022-07-19 17:43:45\u001b[0m\n",
      "Epoch 1 elapsed: 0.103s\n"
     ]
    },
    {
     "name": "stderr",
     "output_type": "stream",
     "text": [
      "eval_pred: 100%|██████████████████████████████████████████████████████████████████████| 15/15 [00:00<00:00, 432.83it/s]\n"
     ]
    },
    {
     "name": "stdout",
     "output_type": "stream",
     "text": [
      "\t eval rmse: 1.0319\n",
      "\t eval mae: 0.8376\n",
      "\t eval r2: -0.0058\n",
      "==============================\n",
      "Epoch 2 elapsed: 0.107s\n"
     ]
    },
    {
     "name": "stderr",
     "output_type": "stream",
     "text": [
      "eval_pred: 100%|██████████████████████████████████████████████████████████████████████| 15/15 [00:00<00:00, 406.49it/s]\n"
     ]
    },
    {
     "name": "stdout",
     "output_type": "stream",
     "text": [
      "\t eval rmse: 1.0259\n",
      "\t eval mae: 0.8211\n",
      "\t eval r2: 0.0059\n",
      "==============================\n",
      "Epoch 3 elapsed: 0.118s\n"
     ]
    },
    {
     "name": "stderr",
     "output_type": "stream",
     "text": [
      "eval_pred: 100%|██████████████████████████████████████████████████████████████████████| 15/15 [00:00<00:00, 370.78it/s]\n"
     ]
    },
    {
     "name": "stdout",
     "output_type": "stream",
     "text": [
      "\t eval rmse: 1.0223\n",
      "\t eval mae: 0.8153\n",
      "\t eval r2: 0.0130\n",
      "==============================\n",
      "Epoch 4 elapsed: 0.145s\n"
     ]
    },
    {
     "name": "stderr",
     "output_type": "stream",
     "text": [
      "eval_pred: 100%|██████████████████████████████████████████████████████████████████████| 15/15 [00:00<00:00, 340.57it/s]\n"
     ]
    },
    {
     "name": "stdout",
     "output_type": "stream",
     "text": [
      "\t eval rmse: 1.0179\n",
      "\t eval mae: 0.8097\n",
      "\t eval r2: 0.0214\n",
      "==============================\n",
      "Epoch 5 elapsed: 0.127s\n"
     ]
    },
    {
     "name": "stderr",
     "output_type": "stream",
     "text": [
      "eval_pred: 100%|██████████████████████████████████████████████████████████████████████| 15/15 [00:00<00:00, 485.16it/s]\n"
     ]
    },
    {
     "name": "stdout",
     "output_type": "stream",
     "text": [
      "\t eval rmse: 1.0136\n",
      "\t eval mae: 0.8044\n",
      "\t eval r2: 0.0295\n",
      "==============================\n",
      "Training start time: \u001b[35m2022-07-19 17:43:46\u001b[0m\n",
      "Epoch 1 elapsed: 0.099s\n"
     ]
    },
    {
     "name": "stderr",
     "output_type": "stream",
     "text": [
      "eval_pred: 100%|██████████████████████████████████████████████████████████████████████| 15/15 [00:00<00:00, 344.80it/s]\n"
     ]
    },
    {
     "name": "stdout",
     "output_type": "stream",
     "text": [
      "\t eval rmse: 1.0319\n",
      "\t eval mae: 0.8376\n",
      "\t eval r2: -0.0058\n",
      "==============================\n",
      "Epoch 2 elapsed: 0.111s\n"
     ]
    },
    {
     "name": "stderr",
     "output_type": "stream",
     "text": [
      "eval_pred: 100%|██████████████████████████████████████████████████████████████████████| 15/15 [00:00<00:00, 373.85it/s]\n"
     ]
    },
    {
     "name": "stdout",
     "output_type": "stream",
     "text": [
      "\t eval rmse: 1.0259\n",
      "\t eval mae: 0.8211\n",
      "\t eval r2: 0.0059\n",
      "==============================\n",
      "Epoch 3 elapsed: 0.107s\n"
     ]
    },
    {
     "name": "stderr",
     "output_type": "stream",
     "text": [
      "eval_pred: 100%|██████████████████████████████████████████████████████████████████████| 15/15 [00:00<00:00, 429.72it/s]\n"
     ]
    },
    {
     "name": "stdout",
     "output_type": "stream",
     "text": [
      "\t eval rmse: 1.0223\n",
      "\t eval mae: 0.8153\n",
      "\t eval r2: 0.0130\n",
      "==============================\n",
      "Epoch 4 elapsed: 0.109s\n"
     ]
    },
    {
     "name": "stderr",
     "output_type": "stream",
     "text": [
      "eval_pred: 100%|██████████████████████████████████████████████████████████████████████| 15/15 [00:00<00:00, 485.16it/s]\n"
     ]
    },
    {
     "name": "stdout",
     "output_type": "stream",
     "text": [
      "\t eval rmse: 1.0179\n",
      "\t eval mae: 0.8097\n",
      "\t eval r2: 0.0214\n",
      "==============================\n",
      "Epoch 5 elapsed: 0.105s\n"
     ]
    },
    {
     "name": "stderr",
     "output_type": "stream",
     "text": [
      "eval_pred: 100%|██████████████████████████████████████████████████████████████████████| 15/15 [00:00<00:00, 455.78it/s]\n"
     ]
    },
    {
     "name": "stdout",
     "output_type": "stream",
     "text": [
      "\t eval rmse: 1.0136\n",
      "\t eval mae: 0.8044\n",
      "\t eval r2: 0.0295\n",
      "==============================\n",
      "Training start time: \u001b[35m2022-07-19 17:43:48\u001b[0m\n",
      "Epoch 1 elapsed: 0.106s\n"
     ]
    },
    {
     "name": "stderr",
     "output_type": "stream",
     "text": [
      "eval_pred: 100%|██████████████████████████████████████████████████████████████████████| 15/15 [00:00<00:00, 429.71it/s]\n"
     ]
    },
    {
     "name": "stdout",
     "output_type": "stream",
     "text": [
      "\t eval rmse: 1.0319\n",
      "\t eval mae: 0.8376\n",
      "\t eval r2: -0.0058\n",
      "==============================\n",
      "Epoch 2 elapsed: 0.100s\n"
     ]
    },
    {
     "name": "stderr",
     "output_type": "stream",
     "text": [
      "eval_pred: 100%|██████████████████████████████████████████████████████████████████████| 15/15 [00:00<00:00, 406.46it/s]\n"
     ]
    },
    {
     "name": "stdout",
     "output_type": "stream",
     "text": [
      "\t eval rmse: 1.0259\n",
      "\t eval mae: 0.8211\n",
      "\t eval r2: 0.0059\n",
      "==============================\n",
      "Epoch 3 elapsed: 0.115s\n"
     ]
    },
    {
     "name": "stderr",
     "output_type": "stream",
     "text": [
      "eval_pred: 100%|██████████████████████████████████████████████████████████████████████| 15/15 [00:00<00:00, 406.49it/s]\n"
     ]
    },
    {
     "name": "stdout",
     "output_type": "stream",
     "text": [
      "\t eval rmse: 1.0223\n",
      "\t eval mae: 0.8153\n",
      "\t eval r2: 0.0130\n",
      "==============================\n",
      "Epoch 4 elapsed: 0.103s\n"
     ]
    },
    {
     "name": "stderr",
     "output_type": "stream",
     "text": [
      "eval_pred: 100%|██████████████████████████████████████████████████████████████████████| 15/15 [00:00<00:00, 442.36it/s]\n"
     ]
    },
    {
     "name": "stdout",
     "output_type": "stream",
     "text": [
      "\t eval rmse: 1.0179\n",
      "\t eval mae: 0.8097\n",
      "\t eval r2: 0.0214\n",
      "==============================\n",
      "Epoch 5 elapsed: 0.106s\n"
     ]
    },
    {
     "name": "stderr",
     "output_type": "stream",
     "text": [
      "eval_pred: 100%|██████████████████████████████████████████████████████████████████████| 15/15 [00:00<00:00, 470.00it/s]\n"
     ]
    },
    {
     "name": "stdout",
     "output_type": "stream",
     "text": [
      "\t eval rmse: 1.0136\n",
      "\t eval mae: 0.8044\n",
      "\t eval r2: 0.0295\n",
      "==============================\n",
      "Training start time: \u001b[35m2022-07-19 17:43:49\u001b[0m\n",
      "Epoch 1 elapsed: 0.097s\n"
     ]
    },
    {
     "name": "stderr",
     "output_type": "stream",
     "text": [
      "eval_pred: 100%|██████████████████████████████████████████████████████████████████████| 15/15 [00:00<00:00, 368.03it/s]\n"
     ]
    },
    {
     "name": "stdout",
     "output_type": "stream",
     "text": [
      "\t eval rmse: 1.0276\n",
      "\t eval mae: 0.8373\n",
      "\t eval r2: 0.0026\n",
      "==============================\n",
      "Epoch 2 elapsed: 0.106s\n"
     ]
    },
    {
     "name": "stderr",
     "output_type": "stream",
     "text": [
      "eval_pred: 100%|██████████████████████████████████████████████████████████████████████| 15/15 [00:00<00:00, 430.61it/s]\n"
     ]
    },
    {
     "name": "stdout",
     "output_type": "stream",
     "text": [
      "\t eval rmse: 1.0203\n",
      "\t eval mae: 0.8157\n",
      "\t eval r2: 0.0168\n",
      "==============================\n",
      "Epoch 3 elapsed: 0.106s\n"
     ]
    },
    {
     "name": "stderr",
     "output_type": "stream",
     "text": [
      "eval_pred: 100%|██████████████████████████████████████████████████████████████████████| 15/15 [00:00<00:00, 417.77it/s]\n"
     ]
    },
    {
     "name": "stdout",
     "output_type": "stream",
     "text": [
      "\t eval rmse: 1.0135\n",
      "\t eval mae: 0.8085\n",
      "\t eval r2: 0.0299\n",
      "==============================\n",
      "Epoch 4 elapsed: 0.098s\n"
     ]
    },
    {
     "name": "stderr",
     "output_type": "stream",
     "text": [
      "eval_pred: 100%|██████████████████████████████████████████████████████████████████████| 15/15 [00:00<00:00, 442.36it/s]\n"
     ]
    },
    {
     "name": "stdout",
     "output_type": "stream",
     "text": [
      "\t eval rmse: 1.0079\n",
      "\t eval mae: 0.8024\n",
      "\t eval r2: 0.0405\n",
      "==============================\n",
      "Epoch 5 elapsed: 0.105s\n"
     ]
    },
    {
     "name": "stderr",
     "output_type": "stream",
     "text": [
      "eval_pred: 100%|██████████████████████████████████████████████████████████████████████| 15/15 [00:00<00:00, 653.91it/s]\n"
     ]
    },
    {
     "name": "stdout",
     "output_type": "stream",
     "text": [
      "\t eval rmse: 1.0035\n",
      "\t eval mae: 0.7974\n",
      "\t eval r2: 0.0489\n",
      "==============================\n",
      "Training start time: \u001b[35m2022-07-19 17:43:51\u001b[0m\n",
      "Epoch 1 elapsed: 0.103s\n"
     ]
    },
    {
     "name": "stderr",
     "output_type": "stream",
     "text": [
      "eval_pred: 100%|██████████████████████████████████████████████████████████████████████| 15/15 [00:00<00:00, 713.13it/s]\n"
     ]
    },
    {
     "name": "stdout",
     "output_type": "stream",
     "text": [
      "\t eval rmse: 1.0276\n",
      "\t eval mae: 0.8373\n",
      "\t eval r2: 0.0026\n",
      "==============================\n",
      "Epoch 2 elapsed: 0.105s\n"
     ]
    },
    {
     "name": "stderr",
     "output_type": "stream",
     "text": [
      "eval_pred: 100%|██████████████████████████████████████████████████████████████████████| 15/15 [00:00<00:00, 429.71it/s]\n"
     ]
    },
    {
     "name": "stdout",
     "output_type": "stream",
     "text": [
      "\t eval rmse: 1.0203\n",
      "\t eval mae: 0.8157\n",
      "\t eval r2: 0.0168\n",
      "==============================\n",
      "Epoch 3 elapsed: 0.102s\n"
     ]
    },
    {
     "name": "stderr",
     "output_type": "stream",
     "text": [
      "eval_pred: 100%|██████████████████████████████████████████████████████████████████████| 15/15 [00:00<00:00, 469.99it/s]\n"
     ]
    },
    {
     "name": "stdout",
     "output_type": "stream",
     "text": [
      "\t eval rmse: 1.0135\n",
      "\t eval mae: 0.8085\n",
      "\t eval r2: 0.0299\n",
      "==============================\n",
      "Epoch 4 elapsed: 0.109s\n"
     ]
    },
    {
     "name": "stderr",
     "output_type": "stream",
     "text": [
      "eval_pred: 100%|██████████████████████████████████████████████████████████████████████| 15/15 [00:00<00:00, 442.35it/s]\n"
     ]
    },
    {
     "name": "stdout",
     "output_type": "stream",
     "text": [
      "\t eval rmse: 1.0079\n",
      "\t eval mae: 0.8024\n",
      "\t eval r2: 0.0405\n",
      "==============================\n",
      "Epoch 5 elapsed: 0.113s\n"
     ]
    },
    {
     "name": "stderr",
     "output_type": "stream",
     "text": [
      "eval_pred: 100%|██████████████████████████████████████████████████████████████████████| 15/15 [00:00<00:00, 345.74it/s]\n"
     ]
    },
    {
     "name": "stdout",
     "output_type": "stream",
     "text": [
      "\t eval rmse: 1.0035\n",
      "\t eval mae: 0.7974\n",
      "\t eval r2: 0.0489\n",
      "==============================\n",
      "Training start time: \u001b[35m2022-07-19 17:43:52\u001b[0m\n",
      "Epoch 1 elapsed: 0.108s\n"
     ]
    },
    {
     "name": "stderr",
     "output_type": "stream",
     "text": [
      "eval_pred: 100%|██████████████████████████████████████████████████████████████████████| 15/15 [00:00<00:00, 332.94it/s]\n"
     ]
    },
    {
     "name": "stdout",
     "output_type": "stream",
     "text": [
      "\t eval rmse: 1.0276\n",
      "\t eval mae: 0.8373\n",
      "\t eval r2: 0.0026\n",
      "==============================\n",
      "Epoch 2 elapsed: 0.109s\n"
     ]
    },
    {
     "name": "stderr",
     "output_type": "stream",
     "text": [
      "eval_pred: 100%|██████████████████████████████████████████████████████████████████████| 15/15 [00:00<00:00, 406.49it/s]\n"
     ]
    },
    {
     "name": "stdout",
     "output_type": "stream",
     "text": [
      "\t eval rmse: 1.0203\n",
      "\t eval mae: 0.8157\n",
      "\t eval r2: 0.0168\n",
      "==============================\n",
      "Epoch 3 elapsed: 0.108s\n"
     ]
    },
    {
     "name": "stderr",
     "output_type": "stream",
     "text": [
      "eval_pred: 100%|██████████████████████████████████████████████████████████████████████| 15/15 [00:00<00:00, 429.71it/s]\n"
     ]
    },
    {
     "name": "stdout",
     "output_type": "stream",
     "text": [
      "\t eval rmse: 1.0135\n",
      "\t eval mae: 0.8085\n",
      "\t eval r2: 0.0299\n",
      "==============================\n",
      "Epoch 4 elapsed: 0.117s\n"
     ]
    },
    {
     "name": "stderr",
     "output_type": "stream",
     "text": [
      "eval_pred: 100%|██████████████████████████████████████████████████████████████████████| 15/15 [00:00<00:00, 390.19it/s]\n"
     ]
    },
    {
     "name": "stdout",
     "output_type": "stream",
     "text": [
      "\t eval rmse: 1.0079\n",
      "\t eval mae: 0.8024\n",
      "\t eval r2: 0.0405\n",
      "==============================\n",
      "Epoch 5 elapsed: 0.114s\n"
     ]
    },
    {
     "name": "stderr",
     "output_type": "stream",
     "text": [
      "eval_pred: 100%|██████████████████████████████████████████████████████████████████████| 15/15 [00:00<00:00, 442.35it/s]\n"
     ]
    },
    {
     "name": "stdout",
     "output_type": "stream",
     "text": [
      "\t eval rmse: 1.0035\n",
      "\t eval mae: 0.7974\n",
      "\t eval r2: 0.0489\n",
      "==============================\n",
      "Training start time: \u001b[35m2022-07-19 17:43:53\u001b[0m\n",
      "Epoch 1 elapsed: 0.117s\n"
     ]
    },
    {
     "name": "stderr",
     "output_type": "stream",
     "text": [
      "eval_pred: 100%|██████████████████████████████████████████████████████████████████████| 15/15 [00:00<00:00, 362.95it/s]\n"
     ]
    },
    {
     "name": "stdout",
     "output_type": "stream",
     "text": [
      "\t eval rmse: 1.0276\n",
      "\t eval mae: 0.8373\n",
      "\t eval r2: 0.0026\n",
      "==============================\n",
      "Epoch 2 elapsed: 0.114s\n"
     ]
    },
    {
     "name": "stderr",
     "output_type": "stream",
     "text": [
      "eval_pred: 100%|██████████████████████████████████████████████████████████████████████| 15/15 [00:00<00:00, 342.02it/s]\n"
     ]
    },
    {
     "name": "stdout",
     "output_type": "stream",
     "text": [
      "\t eval rmse: 1.0203\n",
      "\t eval mae: 0.8157\n",
      "\t eval r2: 0.0168\n",
      "==============================\n",
      "Epoch 3 elapsed: 0.107s\n"
     ]
    },
    {
     "name": "stderr",
     "output_type": "stream",
     "text": [
      "eval_pred: 100%|██████████████████████████████████████████████████████████████████████| 15/15 [00:00<00:00, 455.75it/s]\n"
     ]
    },
    {
     "name": "stdout",
     "output_type": "stream",
     "text": [
      "\t eval rmse: 1.0135\n",
      "\t eval mae: 0.8085\n",
      "\t eval r2: 0.0299\n",
      "==============================\n",
      "Epoch 4 elapsed: 0.102s\n"
     ]
    },
    {
     "name": "stderr",
     "output_type": "stream",
     "text": [
      "eval_pred: 100%|██████████████████████████████████████████████████████████████████████| 15/15 [00:00<00:00, 406.49it/s]\n"
     ]
    },
    {
     "name": "stdout",
     "output_type": "stream",
     "text": [
      "\t eval rmse: 1.0079\n",
      "\t eval mae: 0.8024\n",
      "\t eval r2: 0.0405\n",
      "==============================\n",
      "Epoch 5 elapsed: 0.115s\n"
     ]
    },
    {
     "name": "stderr",
     "output_type": "stream",
     "text": [
      "eval_pred: 100%|██████████████████████████████████████████████████████████████████████| 15/15 [00:00<00:00, 417.78it/s]\n"
     ]
    },
    {
     "name": "stdout",
     "output_type": "stream",
     "text": [
      "\t eval rmse: 1.0035\n",
      "\t eval mae: 0.7974\n",
      "\t eval r2: 0.0489\n",
      "==============================\n",
      "Training start time: \u001b[35m2022-07-19 17:43:55\u001b[0m\n",
      "Epoch 1 elapsed: 0.099s\n"
     ]
    },
    {
     "name": "stderr",
     "output_type": "stream",
     "text": [
      "eval_pred: 100%|██████████████████████████████████████████████████████████████████████| 15/15 [00:00<00:00, 455.76it/s]"
     ]
    },
    {
     "name": "stdout",
     "output_type": "stream",
     "text": [
      "\t eval rmse: 1.0276\n"
     ]
    },
    {
     "name": "stderr",
     "output_type": "stream",
     "text": [
      "\n"
     ]
    },
    {
     "name": "stdout",
     "output_type": "stream",
     "text": [
      "\t eval mae: 0.8373\n",
      "\t eval r2: 0.0026\n",
      "==============================\n",
      "Epoch 2 elapsed: 0.107s\n"
     ]
    },
    {
     "name": "stderr",
     "output_type": "stream",
     "text": [
      "eval_pred: 100%|██████████████████████████████████████████████████████████████████████| 15/15 [00:00<00:00, 417.79it/s]\n"
     ]
    },
    {
     "name": "stdout",
     "output_type": "stream",
     "text": [
      "\t eval rmse: 1.0203\n",
      "\t eval mae: 0.8157\n",
      "\t eval r2: 0.0168\n",
      "==============================\n",
      "Epoch 3 elapsed: 0.103s\n"
     ]
    },
    {
     "name": "stderr",
     "output_type": "stream",
     "text": [
      "eval_pred: 100%|██████████████████████████████████████████████████████████████████████| 15/15 [00:00<00:00, 429.71it/s]\n"
     ]
    },
    {
     "name": "stdout",
     "output_type": "stream",
     "text": [
      "\t eval rmse: 1.0135\n",
      "\t eval mae: 0.8085\n",
      "\t eval r2: 0.0299\n",
      "==============================\n",
      "Epoch 4 elapsed: 0.107s\n"
     ]
    },
    {
     "name": "stderr",
     "output_type": "stream",
     "text": [
      "eval_pred: 100%|██████████████████████████████████████████████████████████████████████| 15/15 [00:00<00:00, 417.77it/s]\n"
     ]
    },
    {
     "name": "stdout",
     "output_type": "stream",
     "text": [
      "\t eval rmse: 1.0079\n",
      "\t eval mae: 0.8024\n",
      "\t eval r2: 0.0405\n",
      "==============================\n",
      "Epoch 5 elapsed: 0.132s\n"
     ]
    },
    {
     "name": "stderr",
     "output_type": "stream",
     "text": [
      "eval_pred: 100%|██████████████████████████████████████████████████████████████████████| 15/15 [00:00<00:00, 341.83it/s]"
     ]
    },
    {
     "name": "stdout",
     "output_type": "stream",
     "text": [
      "\t eval rmse: 1.0035\n",
      "\t eval mae: 0.7974\n",
      "\t eval r2: 0.0489\n",
      "==============================\n"
     ]
    },
    {
     "name": "stderr",
     "output_type": "stream",
     "text": [
      "\n"
     ]
    },
    {
     "name": "stdout",
     "output_type": "stream",
     "text": [
      "Training start time: \u001b[35m2022-07-19 17:43:56\u001b[0m\n",
      "Epoch 1 elapsed: 0.185s\n"
     ]
    },
    {
     "name": "stderr",
     "output_type": "stream",
     "text": [
      "eval_pred: 100%|██████████████████████████████████████████████████████████████████████| 15/15 [00:00<00:00, 395.78it/s]"
     ]
    },
    {
     "name": "stdout",
     "output_type": "stream",
     "text": [
      "\t eval rmse: 1.0890\n",
      "\t eval mae: 0.8721\n",
      "\t eval r2: -0.1202\n",
      "==============================\n"
     ]
    },
    {
     "name": "stderr",
     "output_type": "stream",
     "text": [
      "\n"
     ]
    },
    {
     "name": "stdout",
     "output_type": "stream",
     "text": [
      "Epoch 2 elapsed: 0.201s\n"
     ]
    },
    {
     "name": "stderr",
     "output_type": "stream",
     "text": [
      "eval_pred: 100%|██████████████████████████████████████████████████████████████████████| 15/15 [00:00<00:00, 395.79it/s]"
     ]
    },
    {
     "name": "stdout",
     "output_type": "stream",
     "text": [
      "\t eval rmse: 1.0816\n",
      "\t eval mae: 0.8559\n",
      "\t eval r2: -0.1049\n",
      "==============================\n"
     ]
    },
    {
     "name": "stderr",
     "output_type": "stream",
     "text": [
      "\n"
     ]
    },
    {
     "name": "stdout",
     "output_type": "stream",
     "text": [
      "Epoch 3 elapsed: 0.212s\n"
     ]
    },
    {
     "name": "stderr",
     "output_type": "stream",
     "text": [
      "eval_pred: 100%|██████████████████████████████████████████████████████████████████████| 15/15 [00:00<00:00, 406.48it/s]"
     ]
    },
    {
     "name": "stdout",
     "output_type": "stream",
     "text": [
      "\t eval rmse: 1.0841\n",
      "\t eval mae: 0.8525\n",
      "\t eval r2: -0.1100\n",
      "==============================\n"
     ]
    },
    {
     "name": "stderr",
     "output_type": "stream",
     "text": [
      "\n"
     ]
    },
    {
     "name": "stdout",
     "output_type": "stream",
     "text": [
      "Epoch 4 elapsed: 0.208s\n"
     ]
    },
    {
     "name": "stderr",
     "output_type": "stream",
     "text": [
      "eval_pred: 100%|██████████████████████████████████████████████████████████████████████| 15/15 [00:00<00:00, 421.07it/s]"
     ]
    },
    {
     "name": "stdout",
     "output_type": "stream",
     "text": [
      "\t eval rmse: 1.0859\n",
      "\t eval mae: 0.8506\n",
      "\t eval r2: -0.1137\n",
      "==============================\n"
     ]
    },
    {
     "name": "stderr",
     "output_type": "stream",
     "text": [
      "\n"
     ]
    },
    {
     "name": "stdout",
     "output_type": "stream",
     "text": [
      "Epoch 5 elapsed: 0.197s\n"
     ]
    },
    {
     "name": "stderr",
     "output_type": "stream",
     "text": [
      "eval_pred: 100%|██████████████████████████████████████████████████████████████████████| 15/15 [00:00<00:00, 415.91it/s]"
     ]
    },
    {
     "name": "stdout",
     "output_type": "stream",
     "text": [
      "\t eval rmse: 1.0874\n",
      "\t eval mae: 0.8496\n",
      "\t eval r2: -0.1168\n",
      "==============================\n"
     ]
    },
    {
     "name": "stderr",
     "output_type": "stream",
     "text": [
      "\n"
     ]
    },
    {
     "name": "stdout",
     "output_type": "stream",
     "text": [
      "Training start time: \u001b[35m2022-07-19 17:43:58\u001b[0m\n",
      "Epoch 1 elapsed: 0.192s\n"
     ]
    },
    {
     "name": "stderr",
     "output_type": "stream",
     "text": [
      "eval_pred: 100%|██████████████████████████████████████████████████████████████████████| 15/15 [00:00<00:00, 406.39it/s]"
     ]
    },
    {
     "name": "stdout",
     "output_type": "stream",
     "text": [
      "\t eval rmse: 1.0890\n",
      "\t eval mae: 0.8721\n",
      "\t eval r2: -0.1202\n",
      "==============================\n"
     ]
    },
    {
     "name": "stderr",
     "output_type": "stream",
     "text": [
      "\n"
     ]
    },
    {
     "name": "stdout",
     "output_type": "stream",
     "text": [
      "Epoch 2 elapsed: 0.187s\n"
     ]
    },
    {
     "name": "stderr",
     "output_type": "stream",
     "text": [
      "eval_pred: 100%|██████████████████████████████████████████████████████████████████████| 15/15 [00:00<00:00, 335.35it/s]"
     ]
    },
    {
     "name": "stdout",
     "output_type": "stream",
     "text": [
      "\t eval rmse: 1.0816\n",
      "\t eval mae: 0.8559\n",
      "\t eval r2: -0.1049\n",
      "==============================\n"
     ]
    },
    {
     "name": "stderr",
     "output_type": "stream",
     "text": [
      "\n"
     ]
    },
    {
     "name": "stdout",
     "output_type": "stream",
     "text": [
      "Epoch 3 elapsed: 0.191s\n"
     ]
    },
    {
     "name": "stderr",
     "output_type": "stream",
     "text": [
      "eval_pred: 100%|██████████████████████████████████████████████████████████████████████| 15/15 [00:00<00:00, 284.94it/s]"
     ]
    },
    {
     "name": "stdout",
     "output_type": "stream",
     "text": [
      "\t eval rmse: 1.0841\n",
      "\t eval mae: 0.8525\n",
      "\t eval r2: -0.1100\n",
      "==============================\n"
     ]
    },
    {
     "name": "stderr",
     "output_type": "stream",
     "text": [
      "\n"
     ]
    },
    {
     "name": "stdout",
     "output_type": "stream",
     "text": [
      "Epoch 4 elapsed: 0.200s\n"
     ]
    },
    {
     "name": "stderr",
     "output_type": "stream",
     "text": [
      "eval_pred: 100%|██████████████████████████████████████████████████████████████████████| 15/15 [00:00<00:00, 330.21it/s]"
     ]
    },
    {
     "name": "stdout",
     "output_type": "stream",
     "text": [
      "\t eval rmse: 1.0859\n",
      "\t eval mae: 0.8506\n",
      "\t eval r2: -0.1137\n",
      "==============================\n"
     ]
    },
    {
     "name": "stderr",
     "output_type": "stream",
     "text": [
      "\n"
     ]
    },
    {
     "name": "stdout",
     "output_type": "stream",
     "text": [
      "Epoch 5 elapsed: 0.201s\n"
     ]
    },
    {
     "name": "stderr",
     "output_type": "stream",
     "text": [
      "eval_pred: 100%|██████████████████████████████████████████████████████████████████████| 15/15 [00:00<00:00, 307.09it/s]"
     ]
    },
    {
     "name": "stdout",
     "output_type": "stream",
     "text": [
      "\t eval rmse: 1.0874\n",
      "\t eval mae: 0.8496\n",
      "\t eval r2: -0.1168\n",
      "==============================\n"
     ]
    },
    {
     "name": "stderr",
     "output_type": "stream",
     "text": [
      "\n"
     ]
    },
    {
     "name": "stdout",
     "output_type": "stream",
     "text": [
      "Training start time: \u001b[35m2022-07-19 17:44:00\u001b[0m\n",
      "Epoch 1 elapsed: 0.198s\n"
     ]
    },
    {
     "name": "stderr",
     "output_type": "stream",
     "text": [
      "eval_pred: 100%|██████████████████████████████████████████████████████████████████████| 15/15 [00:00<00:00, 294.90it/s]"
     ]
    },
    {
     "name": "stdout",
     "output_type": "stream",
     "text": [
      "\t eval rmse: 1.0890\n",
      "\t eval mae: 0.8721\n",
      "\t eval r2: -0.1202\n",
      "==============================\n"
     ]
    },
    {
     "name": "stderr",
     "output_type": "stream",
     "text": [
      "\n"
     ]
    },
    {
     "name": "stdout",
     "output_type": "stream",
     "text": [
      "Epoch 2 elapsed: 0.205s\n"
     ]
    },
    {
     "name": "stderr",
     "output_type": "stream",
     "text": [
      "eval_pred: 100%|██████████████████████████████████████████████████████████████████████| 15/15 [00:00<00:00, 366.85it/s]"
     ]
    },
    {
     "name": "stdout",
     "output_type": "stream",
     "text": [
      "\t eval rmse: 1.0816\n",
      "\t eval mae: 0.8559\n",
      "\t eval r2: -0.1049\n",
      "==============================\n"
     ]
    },
    {
     "name": "stderr",
     "output_type": "stream",
     "text": [
      "\n"
     ]
    },
    {
     "name": "stdout",
     "output_type": "stream",
     "text": [
      "Epoch 3 elapsed: 0.210s\n"
     ]
    },
    {
     "name": "stderr",
     "output_type": "stream",
     "text": [
      "eval_pred: 100%|██████████████████████████████████████████████████████████████████████| 15/15 [00:00<00:00, 396.74it/s]"
     ]
    },
    {
     "name": "stdout",
     "output_type": "stream",
     "text": [
      "\t eval rmse: 1.0841\n",
      "\t eval mae: 0.8525\n",
      "\t eval r2: -0.1100\n",
      "==============================\n"
     ]
    },
    {
     "name": "stderr",
     "output_type": "stream",
     "text": [
      "\n"
     ]
    },
    {
     "name": "stdout",
     "output_type": "stream",
     "text": [
      "Epoch 4 elapsed: 0.216s\n"
     ]
    },
    {
     "name": "stderr",
     "output_type": "stream",
     "text": [
      "eval_pred: 100%|██████████████████████████████████████████████████████████████████████| 15/15 [00:00<00:00, 385.64it/s]"
     ]
    },
    {
     "name": "stdout",
     "output_type": "stream",
     "text": [
      "\t eval rmse: 1.0859\n",
      "\t eval mae: 0.8506\n",
      "\t eval r2: -0.1137\n",
      "==============================\n"
     ]
    },
    {
     "name": "stderr",
     "output_type": "stream",
     "text": [
      "\n"
     ]
    },
    {
     "name": "stdout",
     "output_type": "stream",
     "text": [
      "Epoch 5 elapsed: 0.196s\n"
     ]
    },
    {
     "name": "stderr",
     "output_type": "stream",
     "text": [
      "eval_pred: 100%|██████████████████████████████████████████████████████████████████████| 15/15 [00:00<00:00, 385.64it/s]"
     ]
    },
    {
     "name": "stdout",
     "output_type": "stream",
     "text": [
      "\t eval rmse: 1.0874\n",
      "\t eval mae: 0.8496\n",
      "\t eval r2: -0.1168\n",
      "==============================\n"
     ]
    },
    {
     "name": "stderr",
     "output_type": "stream",
     "text": [
      "\n"
     ]
    },
    {
     "name": "stdout",
     "output_type": "stream",
     "text": [
      "Training start time: \u001b[35m2022-07-19 17:44:02\u001b[0m\n",
      "Epoch 1 elapsed: 0.181s\n"
     ]
    },
    {
     "name": "stderr",
     "output_type": "stream",
     "text": [
      "eval_pred: 100%|██████████████████████████████████████████████████████████████████████| 15/15 [00:00<00:00, 406.50it/s]\n"
     ]
    },
    {
     "name": "stdout",
     "output_type": "stream",
     "text": [
      "\t eval rmse: 1.0890\n",
      "\t eval mae: 0.8721\n",
      "\t eval r2: -0.1202\n",
      "==============================\n",
      "Epoch 2 elapsed: 0.201s\n"
     ]
    },
    {
     "name": "stderr",
     "output_type": "stream",
     "text": [
      "eval_pred: 100%|██████████████████████████████████████████████████████████████████████| 15/15 [00:00<00:00, 358.08it/s]"
     ]
    },
    {
     "name": "stdout",
     "output_type": "stream",
     "text": [
      "\t eval rmse: 1.0816\n",
      "\t eval mae: 0.8559\n",
      "\t eval r2: -0.1049\n",
      "==============================\n"
     ]
    },
    {
     "name": "stderr",
     "output_type": "stream",
     "text": [
      "\n"
     ]
    },
    {
     "name": "stdout",
     "output_type": "stream",
     "text": [
      "Epoch 3 elapsed: 0.193s\n"
     ]
    },
    {
     "name": "stderr",
     "output_type": "stream",
     "text": [
      "eval_pred: 100%|██████████████████████████████████████████████████████████████████████| 15/15 [00:00<00:00, 406.50it/s]"
     ]
    },
    {
     "name": "stdout",
     "output_type": "stream",
     "text": [
      "\t eval rmse: 1.0841\n",
      "\t eval mae: 0.8525\n",
      "\t eval r2: -0.1100\n",
      "==============================\n"
     ]
    },
    {
     "name": "stderr",
     "output_type": "stream",
     "text": [
      "\n"
     ]
    },
    {
     "name": "stdout",
     "output_type": "stream",
     "text": [
      "Epoch 4 elapsed: 0.199s\n"
     ]
    },
    {
     "name": "stderr",
     "output_type": "stream",
     "text": [
      "eval_pred: 100%|██████████████████████████████████████████████████████████████████████| 15/15 [00:00<00:00, 307.39it/s]"
     ]
    },
    {
     "name": "stdout",
     "output_type": "stream",
     "text": [
      "\t eval rmse: 1.0859\n",
      "\t eval mae: 0.8506\n",
      "\t eval r2: -0.1137\n",
      "==============================\n"
     ]
    },
    {
     "name": "stderr",
     "output_type": "stream",
     "text": [
      "\n"
     ]
    },
    {
     "name": "stdout",
     "output_type": "stream",
     "text": [
      "Epoch 5 elapsed: 0.200s\n"
     ]
    },
    {
     "name": "stderr",
     "output_type": "stream",
     "text": [
      "eval_pred: 100%|██████████████████████████████████████████████████████████████████████| 15/15 [00:00<00:00, 395.78it/s]"
     ]
    },
    {
     "name": "stdout",
     "output_type": "stream",
     "text": [
      "\t eval rmse: 1.0874\n",
      "\t eval mae: 0.8496\n",
      "\t eval r2: -0.1168\n",
      "==============================\n"
     ]
    },
    {
     "name": "stderr",
     "output_type": "stream",
     "text": [
      "\n"
     ]
    },
    {
     "name": "stdout",
     "output_type": "stream",
     "text": [
      "Training start time: \u001b[35m2022-07-19 17:44:04\u001b[0m\n",
      "Epoch 1 elapsed: 0.202s\n"
     ]
    },
    {
     "name": "stderr",
     "output_type": "stream",
     "text": [
      "eval_pred: 100%|██████████████████████████████████████████████████████████████████████| 15/15 [00:00<00:00, 375.93it/s]"
     ]
    },
    {
     "name": "stdout",
     "output_type": "stream",
     "text": [
      "\t eval rmse: 1.0890\n",
      "\t eval mae: 0.8721\n",
      "\t eval r2: -0.1202\n",
      "==============================\n"
     ]
    },
    {
     "name": "stderr",
     "output_type": "stream",
     "text": [
      "\n"
     ]
    },
    {
     "name": "stdout",
     "output_type": "stream",
     "text": [
      "Epoch 2 elapsed: 0.190s\n"
     ]
    },
    {
     "name": "stderr",
     "output_type": "stream",
     "text": [
      "eval_pred: 100%|██████████████████████████████████████████████████████████████████████| 15/15 [00:00<00:00, 341.90it/s]"
     ]
    },
    {
     "name": "stdout",
     "output_type": "stream",
     "text": [
      "\t eval rmse: 1.0816\n",
      "\t eval mae: 0.8559\n",
      "\t eval r2: -0.1049\n",
      "==============================\n"
     ]
    },
    {
     "name": "stderr",
     "output_type": "stream",
     "text": [
      "\n"
     ]
    },
    {
     "name": "stdout",
     "output_type": "stream",
     "text": [
      "Epoch 3 elapsed: 0.210s\n"
     ]
    },
    {
     "name": "stderr",
     "output_type": "stream",
     "text": [
      "eval_pred: 100%|██████████████████████████████████████████████████████████████████████| 15/15 [00:00<00:00, 406.49it/s]"
     ]
    },
    {
     "name": "stdout",
     "output_type": "stream",
     "text": [
      "\t eval rmse: 1.0841\n",
      "\t eval mae: 0.8525\n",
      "\t eval r2: -0.1100\n",
      "==============================\n"
     ]
    },
    {
     "name": "stderr",
     "output_type": "stream",
     "text": [
      "\n"
     ]
    },
    {
     "name": "stdout",
     "output_type": "stream",
     "text": [
      "Epoch 4 elapsed: 0.207s\n"
     ]
    },
    {
     "name": "stderr",
     "output_type": "stream",
     "text": [
      "eval_pred: 100%|██████████████████████████████████████████████████████████████████████| 15/15 [00:00<00:00, 417.78it/s]"
     ]
    },
    {
     "name": "stdout",
     "output_type": "stream",
     "text": [
      "\t eval rmse: 1.0859\n",
      "\t eval mae: 0.8506\n",
      "\t eval r2: -0.1137\n",
      "==============================\n"
     ]
    },
    {
     "name": "stderr",
     "output_type": "stream",
     "text": [
      "\n"
     ]
    },
    {
     "name": "stdout",
     "output_type": "stream",
     "text": [
      "Epoch 5 elapsed: 0.212s\n"
     ]
    },
    {
     "name": "stderr",
     "output_type": "stream",
     "text": [
      "eval_pred: 100%|██████████████████████████████████████████████████████████████████████| 15/15 [00:00<00:00, 395.79it/s]"
     ]
    },
    {
     "name": "stdout",
     "output_type": "stream",
     "text": [
      "\t eval rmse: 1.0874\n",
      "\t eval mae: 0.8496\n",
      "\t eval r2: -0.1168\n",
      "==============================\n"
     ]
    },
    {
     "name": "stderr",
     "output_type": "stream",
     "text": [
      "\n"
     ]
    },
    {
     "name": "stdout",
     "output_type": "stream",
     "text": [
      "Training start time: \u001b[35m2022-07-19 17:44:06\u001b[0m\n",
      "Epoch 1 elapsed: 0.196s\n"
     ]
    },
    {
     "name": "stderr",
     "output_type": "stream",
     "text": [
      "eval_pred: 100%|██████████████████████████████████████████████████████████████████████| 15/15 [00:00<00:00, 366.83it/s]"
     ]
    },
    {
     "name": "stdout",
     "output_type": "stream",
     "text": [
      "\t eval rmse: 1.0787\n",
      "\t eval mae: 0.8638\n",
      "\t eval r2: -0.0991\n",
      "==============================\n"
     ]
    },
    {
     "name": "stderr",
     "output_type": "stream",
     "text": [
      "\n"
     ]
    },
    {
     "name": "stdout",
     "output_type": "stream",
     "text": [
      "Epoch 2 elapsed: 0.208s\n"
     ]
    },
    {
     "name": "stderr",
     "output_type": "stream",
     "text": [
      "eval_pred: 100%|██████████████████████████████████████████████████████████████████████| 15/15 [00:00<00:00, 366.83it/s]"
     ]
    },
    {
     "name": "stdout",
     "output_type": "stream",
     "text": [
      "\t eval rmse: 1.0836\n",
      "\t eval mae: 0.8569\n",
      "\t eval r2: -0.1091\n",
      "==============================\n"
     ]
    },
    {
     "name": "stderr",
     "output_type": "stream",
     "text": [
      "\n"
     ]
    },
    {
     "name": "stdout",
     "output_type": "stream",
     "text": [
      "Epoch 3 elapsed: 0.199s\n"
     ]
    },
    {
     "name": "stderr",
     "output_type": "stream",
     "text": [
      "eval_pred: 100%|██████████████████████████████████████████████████████████████████████| 15/15 [00:00<00:00, 395.79it/s]"
     ]
    },
    {
     "name": "stdout",
     "output_type": "stream",
     "text": [
      "\t eval rmse: 1.0857\n",
      "\t eval mae: 0.8533\n",
      "\t eval r2: -0.1134\n",
      "==============================\n"
     ]
    },
    {
     "name": "stderr",
     "output_type": "stream",
     "text": [
      "\n"
     ]
    },
    {
     "name": "stdout",
     "output_type": "stream",
     "text": [
      "Epoch 4 elapsed: 0.209s\n"
     ]
    },
    {
     "name": "stderr",
     "output_type": "stream",
     "text": [
      "eval_pred: 100%|██████████████████████████████████████████████████████████████████████| 15/15 [00:00<00:00, 417.79it/s]"
     ]
    },
    {
     "name": "stdout",
     "output_type": "stream",
     "text": [
      "\t eval rmse: 1.0870\n",
      "\t eval mae: 0.8511\n",
      "\t eval r2: -0.1161\n",
      "==============================\n"
     ]
    },
    {
     "name": "stderr",
     "output_type": "stream",
     "text": [
      "\n"
     ]
    },
    {
     "name": "stdout",
     "output_type": "stream",
     "text": [
      "Epoch 5 elapsed: 0.234s\n"
     ]
    },
    {
     "name": "stderr",
     "output_type": "stream",
     "text": [
      "eval_pred: 100%|██████████████████████████████████████████████████████████████████████| 15/15 [00:00<00:00, 314.61it/s]"
     ]
    },
    {
     "name": "stdout",
     "output_type": "stream",
     "text": [
      "\t eval rmse: 1.0880\n",
      "\t eval mae: 0.8499\n",
      "\t eval r2: -0.1180\n",
      "==============================\n"
     ]
    },
    {
     "name": "stderr",
     "output_type": "stream",
     "text": [
      "\n"
     ]
    },
    {
     "name": "stdout",
     "output_type": "stream",
     "text": [
      "Training start time: \u001b[35m2022-07-19 17:44:07\u001b[0m\n",
      "Epoch 1 elapsed: 0.181s\n"
     ]
    },
    {
     "name": "stderr",
     "output_type": "stream",
     "text": [
      "eval_pred: 100%|██████████████████████████████████████████████████████████████████████| 15/15 [00:00<00:00, 304.44it/s]"
     ]
    },
    {
     "name": "stdout",
     "output_type": "stream",
     "text": [
      "\t eval rmse: 1.0787\n",
      "\t eval mae: 0.8638\n",
      "\t eval r2: -0.0991\n",
      "==============================\n"
     ]
    },
    {
     "name": "stderr",
     "output_type": "stream",
     "text": [
      "\n"
     ]
    },
    {
     "name": "stdout",
     "output_type": "stream",
     "text": [
      "Epoch 2 elapsed: 0.215s\n"
     ]
    },
    {
     "name": "stderr",
     "output_type": "stream",
     "text": [
      "eval_pred: 100%|██████████████████████████████████████████████████████████████████████| 15/15 [00:00<00:00, 366.83it/s]"
     ]
    },
    {
     "name": "stdout",
     "output_type": "stream",
     "text": [
      "\t eval rmse: 1.0836\n",
      "\t eval mae: 0.8569\n",
      "\t eval r2: -0.1091\n",
      "==============================\n"
     ]
    },
    {
     "name": "stderr",
     "output_type": "stream",
     "text": [
      "\n"
     ]
    },
    {
     "name": "stdout",
     "output_type": "stream",
     "text": [
      "Epoch 3 elapsed: 0.199s\n"
     ]
    },
    {
     "name": "stderr",
     "output_type": "stream",
     "text": [
      "eval_pred: 100%|██████████████████████████████████████████████████████████████████████| 15/15 [00:00<00:00, 406.48it/s]"
     ]
    },
    {
     "name": "stdout",
     "output_type": "stream",
     "text": [
      "\t eval rmse: 1.0857\n",
      "\t eval mae: 0.8533\n",
      "\t eval r2: -0.1134\n",
      "==============================\n"
     ]
    },
    {
     "name": "stderr",
     "output_type": "stream",
     "text": [
      "\n"
     ]
    },
    {
     "name": "stdout",
     "output_type": "stream",
     "text": [
      "Epoch 4 elapsed: 0.200s\n"
     ]
    },
    {
     "name": "stderr",
     "output_type": "stream",
     "text": [
      "eval_pred: 100%|██████████████████████████████████████████████████████████████████████| 15/15 [00:00<00:00, 406.48it/s]"
     ]
    },
    {
     "name": "stdout",
     "output_type": "stream",
     "text": [
      "\t eval rmse: 1.0870\n",
      "\t eval mae: 0.8511\n",
      "\t eval r2: -0.1161\n",
      "==============================\n"
     ]
    },
    {
     "name": "stderr",
     "output_type": "stream",
     "text": [
      "\n"
     ]
    },
    {
     "name": "stdout",
     "output_type": "stream",
     "text": [
      "Epoch 5 elapsed: 0.210s\n"
     ]
    },
    {
     "name": "stderr",
     "output_type": "stream",
     "text": [
      "eval_pred: 100%|██████████████████████████████████████████████████████████████████████| 15/15 [00:00<00:00, 417.77it/s]"
     ]
    },
    {
     "name": "stdout",
     "output_type": "stream",
     "text": [
      "\t eval rmse: 1.0880\n",
      "\t eval mae: 0.8499\n",
      "\t eval r2: -0.1180\n",
      "==============================\n"
     ]
    },
    {
     "name": "stderr",
     "output_type": "stream",
     "text": [
      "\n"
     ]
    },
    {
     "name": "stdout",
     "output_type": "stream",
     "text": [
      "Training start time: \u001b[35m2022-07-19 17:44:09\u001b[0m\n",
      "Epoch 1 elapsed: 0.208s\n"
     ]
    },
    {
     "name": "stderr",
     "output_type": "stream",
     "text": [
      "eval_pred: 100%|██████████████████████████████████████████████████████████████████████| 15/15 [00:00<00:00, 376.00it/s]"
     ]
    },
    {
     "name": "stdout",
     "output_type": "stream",
     "text": [
      "\t eval rmse: 1.0787\n",
      "\t eval mae: 0.8638\n",
      "\t eval r2: -0.0991\n",
      "==============================\n"
     ]
    },
    {
     "name": "stderr",
     "output_type": "stream",
     "text": [
      "\n"
     ]
    },
    {
     "name": "stdout",
     "output_type": "stream",
     "text": [
      "Epoch 2 elapsed: 0.203s\n"
     ]
    },
    {
     "name": "stderr",
     "output_type": "stream",
     "text": [
      "eval_pred: 100%|██████████████████████████████████████████████████████████████████████| 15/15 [00:00<00:00, 385.65it/s]"
     ]
    },
    {
     "name": "stdout",
     "output_type": "stream",
     "text": [
      "\t eval rmse: 1.0836\n",
      "\t eval mae: 0.8569\n",
      "\t eval r2: -0.1091\n",
      "==============================\n"
     ]
    },
    {
     "name": "stderr",
     "output_type": "stream",
     "text": [
      "\n"
     ]
    },
    {
     "name": "stdout",
     "output_type": "stream",
     "text": [
      "Epoch 3 elapsed: 0.224s\n"
     ]
    },
    {
     "name": "stderr",
     "output_type": "stream",
     "text": [
      "eval_pred: 100%|██████████████████████████████████████████████████████████████████████| 15/15 [00:00<00:00, 429.70it/s]"
     ]
    },
    {
     "name": "stdout",
     "output_type": "stream",
     "text": [
      "\t eval rmse: 1.0857\n",
      "\t eval mae: 0.8533\n",
      "\t eval r2: -0.1134\n",
      "==============================\n"
     ]
    },
    {
     "name": "stderr",
     "output_type": "stream",
     "text": [
      "\n"
     ]
    },
    {
     "name": "stdout",
     "output_type": "stream",
     "text": [
      "Epoch 4 elapsed: 0.211s\n"
     ]
    },
    {
     "name": "stderr",
     "output_type": "stream",
     "text": [
      "eval_pred: 100%|██████████████████████████████████████████████████████████████████████| 15/15 [00:00<00:00, 385.65it/s]"
     ]
    },
    {
     "name": "stdout",
     "output_type": "stream",
     "text": [
      "\t eval rmse: 1.0870\n",
      "\t eval mae: 0.8511\n",
      "\t eval r2: -0.1161\n",
      "==============================\n"
     ]
    },
    {
     "name": "stderr",
     "output_type": "stream",
     "text": [
      "\n"
     ]
    },
    {
     "name": "stdout",
     "output_type": "stream",
     "text": [
      "Epoch 5 elapsed: 0.197s\n"
     ]
    },
    {
     "name": "stderr",
     "output_type": "stream",
     "text": [
      "eval_pred: 100%|██████████████████████████████████████████████████████████████████████| 15/15 [00:00<00:00, 347.80it/s]"
     ]
    },
    {
     "name": "stdout",
     "output_type": "stream",
     "text": [
      "\t eval rmse: 1.0880\n",
      "\t eval mae: 0.8499\n",
      "\t eval r2: -0.1180\n",
      "==============================\n"
     ]
    },
    {
     "name": "stderr",
     "output_type": "stream",
     "text": [
      "\n"
     ]
    },
    {
     "name": "stdout",
     "output_type": "stream",
     "text": [
      "Training start time: \u001b[35m2022-07-19 17:44:11\u001b[0m\n",
      "Epoch 1 elapsed: 0.178s\n"
     ]
    },
    {
     "name": "stderr",
     "output_type": "stream",
     "text": [
      "eval_pred: 100%|██████████████████████████████████████████████████████████████████████| 15/15 [00:00<00:00, 406.49it/s]"
     ]
    },
    {
     "name": "stdout",
     "output_type": "stream",
     "text": [
      "\t eval rmse: 1.0787\n",
      "\t eval mae: 0.8638\n",
      "\t eval r2: -0.0991\n",
      "==============================\n"
     ]
    },
    {
     "name": "stderr",
     "output_type": "stream",
     "text": [
      "\n"
     ]
    },
    {
     "name": "stdout",
     "output_type": "stream",
     "text": [
      "Epoch 2 elapsed: 0.207s\n"
     ]
    },
    {
     "name": "stderr",
     "output_type": "stream",
     "text": [
      "eval_pred: 100%|██████████████████████████████████████████████████████████████████████| 15/15 [00:00<00:00, 290.61it/s]"
     ]
    },
    {
     "name": "stdout",
     "output_type": "stream",
     "text": [
      "\t eval rmse: 1.0836\n",
      "\t eval mae: 0.8569\n",
      "\t eval r2: -0.1091\n",
      "==============================\n"
     ]
    },
    {
     "name": "stderr",
     "output_type": "stream",
     "text": [
      "\n"
     ]
    },
    {
     "name": "stdout",
     "output_type": "stream",
     "text": [
      "Epoch 3 elapsed: 0.194s\n"
     ]
    },
    {
     "name": "stderr",
     "output_type": "stream",
     "text": [
      "eval_pred: 100%|██████████████████████████████████████████████████████████████████████| 15/15 [00:00<00:00, 328.65it/s]"
     ]
    },
    {
     "name": "stdout",
     "output_type": "stream",
     "text": [
      "\t eval rmse: 1.0857\n",
      "\t eval mae: 0.8533\n",
      "\t eval r2: -0.1134\n",
      "==============================\n"
     ]
    },
    {
     "name": "stderr",
     "output_type": "stream",
     "text": [
      "\n"
     ]
    },
    {
     "name": "stdout",
     "output_type": "stream",
     "text": [
      "Epoch 4 elapsed: 0.221s\n"
     ]
    },
    {
     "name": "stderr",
     "output_type": "stream",
     "text": [
      "eval_pred: 100%|██████████████████████████████████████████████████████████████████████| 15/15 [00:00<00:00, 395.65it/s]"
     ]
    },
    {
     "name": "stdout",
     "output_type": "stream",
     "text": [
      "\t eval rmse: 1.0870\n",
      "\t eval mae: 0.8511\n",
      "\t eval r2: -0.1161\n",
      "==============================\n"
     ]
    },
    {
     "name": "stderr",
     "output_type": "stream",
     "text": [
      "\n"
     ]
    },
    {
     "name": "stdout",
     "output_type": "stream",
     "text": [
      "Epoch 5 elapsed: 0.206s\n"
     ]
    },
    {
     "name": "stderr",
     "output_type": "stream",
     "text": [
      "eval_pred: 100%|██████████████████████████████████████████████████████████████████████| 15/15 [00:00<00:00, 394.43it/s]"
     ]
    },
    {
     "name": "stdout",
     "output_type": "stream",
     "text": [
      "\t eval rmse: 1.0880\n",
      "\t eval mae: 0.8499\n",
      "\t eval r2: -0.1180\n",
      "==============================\n"
     ]
    },
    {
     "name": "stderr",
     "output_type": "stream",
     "text": [
      "\n"
     ]
    },
    {
     "name": "stdout",
     "output_type": "stream",
     "text": [
      "Training start time: \u001b[35m2022-07-19 17:44:13\u001b[0m\n",
      "Epoch 1 elapsed: 0.188s\n"
     ]
    },
    {
     "name": "stderr",
     "output_type": "stream",
     "text": [
      "eval_pred: 100%|██████████████████████████████████████████████████████████████████████| 15/15 [00:00<00:00, 417.78it/s]"
     ]
    },
    {
     "name": "stdout",
     "output_type": "stream",
     "text": [
      "\t eval rmse: 1.0787\n",
      "\t eval mae: 0.8638\n",
      "\t eval r2: -0.0991\n",
      "==============================\n"
     ]
    },
    {
     "name": "stderr",
     "output_type": "stream",
     "text": [
      "\n"
     ]
    },
    {
     "name": "stdout",
     "output_type": "stream",
     "text": [
      "Epoch 2 elapsed: 0.206s\n"
     ]
    },
    {
     "name": "stderr",
     "output_type": "stream",
     "text": [
      "eval_pred: 100%|██████████████████████████████████████████████████████████████████████| 15/15 [00:00<00:00, 417.78it/s]"
     ]
    },
    {
     "name": "stdout",
     "output_type": "stream",
     "text": [
      "\t eval rmse: 1.0836\n",
      "\t eval mae: 0.8569\n",
      "\t eval r2: -0.1091\n",
      "==============================\n"
     ]
    },
    {
     "name": "stderr",
     "output_type": "stream",
     "text": [
      "\n"
     ]
    },
    {
     "name": "stdout",
     "output_type": "stream",
     "text": [
      "Epoch 3 elapsed: 0.204s\n"
     ]
    },
    {
     "name": "stderr",
     "output_type": "stream",
     "text": [
      "eval_pred: 100%|██████████████████████████████████████████████████████████████████████| 15/15 [00:00<00:00, 406.49it/s]"
     ]
    },
    {
     "name": "stdout",
     "output_type": "stream",
     "text": [
      "\t eval rmse: 1.0857\n",
      "\t eval mae: 0.8533\n",
      "\t eval r2: -0.1134\n",
      "==============================\n"
     ]
    },
    {
     "name": "stderr",
     "output_type": "stream",
     "text": [
      "\n"
     ]
    },
    {
     "name": "stdout",
     "output_type": "stream",
     "text": [
      "Epoch 4 elapsed: 0.197s\n"
     ]
    },
    {
     "name": "stderr",
     "output_type": "stream",
     "text": [
      "eval_pred: 100%|██████████████████████████████████████████████████████████████████████| 15/15 [00:00<00:00, 395.80it/s]"
     ]
    },
    {
     "name": "stdout",
     "output_type": "stream",
     "text": [
      "\t eval rmse: 1.0870\n",
      "\t eval mae: 0.8511\n",
      "\t eval r2: -0.1161\n",
      "==============================\n"
     ]
    },
    {
     "name": "stderr",
     "output_type": "stream",
     "text": [
      "\n"
     ]
    },
    {
     "name": "stdout",
     "output_type": "stream",
     "text": [
      "Epoch 5 elapsed: 0.195s\n"
     ]
    },
    {
     "name": "stderr",
     "output_type": "stream",
     "text": [
      "eval_pred: 100%|██████████████████████████████████████████████████████████████████████| 15/15 [00:00<00:00, 406.49it/s]"
     ]
    },
    {
     "name": "stdout",
     "output_type": "stream",
     "text": [
      "\t eval rmse: 1.0880\n",
      "\t eval mae: 0.8499\n",
      "\t eval r2: -0.1180\n",
      "==============================\n"
     ]
    },
    {
     "name": "stderr",
     "output_type": "stream",
     "text": [
      "\n"
     ]
    },
    {
     "name": "stdout",
     "output_type": "stream",
     "text": [
      "Training start time: \u001b[35m2022-07-19 17:44:15\u001b[0m\n",
      "Epoch 1 elapsed: 0.190s\n"
     ]
    },
    {
     "name": "stderr",
     "output_type": "stream",
     "text": [
      "eval_pred: 100%|██████████████████████████████████████████████████████████████████████| 15/15 [00:00<00:00, 417.78it/s]"
     ]
    },
    {
     "name": "stdout",
     "output_type": "stream",
     "text": [
      "\t eval rmse: 1.0751\n",
      "\t eval mae: 0.8612\n",
      "\t eval r2: -0.0918\n",
      "==============================\n"
     ]
    },
    {
     "name": "stderr",
     "output_type": "stream",
     "text": [
      "\n"
     ]
    },
    {
     "name": "stdout",
     "output_type": "stream",
     "text": [
      "Epoch 2 elapsed: 0.207s\n"
     ]
    },
    {
     "name": "stderr",
     "output_type": "stream",
     "text": [
      "eval_pred: 100%|██████████████████████████████████████████████████████████████████████| 15/15 [00:00<00:00, 406.37it/s]"
     ]
    },
    {
     "name": "stdout",
     "output_type": "stream",
     "text": [
      "\t eval rmse: 1.0851\n",
      "\t eval mae: 0.8580\n",
      "\t eval r2: -0.1122\n",
      "==============================\n"
     ]
    },
    {
     "name": "stderr",
     "output_type": "stream",
     "text": [
      "\n"
     ]
    },
    {
     "name": "stdout",
     "output_type": "stream",
     "text": [
      "Epoch 3 elapsed: 0.195s\n"
     ]
    },
    {
     "name": "stderr",
     "output_type": "stream",
     "text": [
      "eval_pred: 100%|██████████████████████████████████████████████████████████████████████| 15/15 [00:00<00:00, 335.75it/s]"
     ]
    },
    {
     "name": "stdout",
     "output_type": "stream",
     "text": [
      "\t eval rmse: 1.0866\n",
      "\t eval mae: 0.8540\n",
      "\t eval r2: -0.1152\n",
      "==============================\n"
     ]
    },
    {
     "name": "stderr",
     "output_type": "stream",
     "text": [
      "\n"
     ]
    },
    {
     "name": "stdout",
     "output_type": "stream",
     "text": [
      "Epoch 4 elapsed: 0.203s\n"
     ]
    },
    {
     "name": "stderr",
     "output_type": "stream",
     "text": [
      "eval_pred: 100%|██████████████████████████████████████████████████████████████████████| 15/15 [00:00<00:00, 341.87it/s]"
     ]
    },
    {
     "name": "stdout",
     "output_type": "stream",
     "text": [
      "\t eval rmse: 1.0871\n",
      "\t eval mae: 0.8511\n",
      "\t eval r2: -0.1162\n",
      "==============================\n"
     ]
    },
    {
     "name": "stderr",
     "output_type": "stream",
     "text": [
      "\n"
     ]
    },
    {
     "name": "stdout",
     "output_type": "stream",
     "text": [
      "Epoch 5 elapsed: 0.201s\n"
     ]
    },
    {
     "name": "stderr",
     "output_type": "stream",
     "text": [
      "eval_pred: 100%|██████████████████████████████████████████████████████████████████████| 15/15 [00:00<00:00, 289.20it/s]"
     ]
    },
    {
     "name": "stdout",
     "output_type": "stream",
     "text": [
      "\t eval rmse: 1.0871\n",
      "\t eval mae: 0.8492\n",
      "\t eval r2: -0.1162\n",
      "==============================\n"
     ]
    },
    {
     "name": "stderr",
     "output_type": "stream",
     "text": [
      "\n"
     ]
    },
    {
     "name": "stdout",
     "output_type": "stream",
     "text": [
      "Training start time: \u001b[35m2022-07-19 17:44:17\u001b[0m\n",
      "Epoch 1 elapsed: 0.192s\n"
     ]
    },
    {
     "name": "stderr",
     "output_type": "stream",
     "text": [
      "eval_pred: 100%|██████████████████████████████████████████████████████████████████████| 15/15 [00:00<00:00, 385.65it/s]"
     ]
    },
    {
     "name": "stdout",
     "output_type": "stream",
     "text": [
      "\t eval rmse: 1.0751\n",
      "\t eval mae: 0.8612\n",
      "\t eval r2: -0.0918\n",
      "==============================\n"
     ]
    },
    {
     "name": "stderr",
     "output_type": "stream",
     "text": [
      "\n"
     ]
    },
    {
     "name": "stdout",
     "output_type": "stream",
     "text": [
      "Epoch 2 elapsed: 0.188s\n"
     ]
    },
    {
     "name": "stderr",
     "output_type": "stream",
     "text": [
      "eval_pred: 100%|██████████████████████████████████████████████████████████████████████| 15/15 [00:00<00:00, 385.64it/s]"
     ]
    },
    {
     "name": "stdout",
     "output_type": "stream",
     "text": [
      "\t eval rmse: 1.0851\n",
      "\t eval mae: 0.8580\n",
      "\t eval r2: -0.1122\n",
      "==============================\n"
     ]
    },
    {
     "name": "stderr",
     "output_type": "stream",
     "text": [
      "\n"
     ]
    },
    {
     "name": "stdout",
     "output_type": "stream",
     "text": [
      "Epoch 3 elapsed: 0.216s\n"
     ]
    },
    {
     "name": "stderr",
     "output_type": "stream",
     "text": [
      "eval_pred: 100%|██████████████████████████████████████████████████████████████████████| 15/15 [00:00<00:00, 429.71it/s]"
     ]
    },
    {
     "name": "stdout",
     "output_type": "stream",
     "text": [
      "\t eval rmse: 1.0866\n",
      "\t eval mae: 0.8540\n",
      "\t eval r2: -0.1152\n",
      "==============================\n"
     ]
    },
    {
     "name": "stderr",
     "output_type": "stream",
     "text": [
      "\n"
     ]
    },
    {
     "name": "stdout",
     "output_type": "stream",
     "text": [
      "Epoch 4 elapsed: 0.200s\n"
     ]
    },
    {
     "name": "stderr",
     "output_type": "stream",
     "text": [
      "eval_pred: 100%|██████████████████████████████████████████████████████████████████████| 15/15 [00:00<00:00, 417.78it/s]"
     ]
    },
    {
     "name": "stdout",
     "output_type": "stream",
     "text": [
      "\t eval rmse: 1.0871\n",
      "\t eval mae: 0.8511\n",
      "\t eval r2: -0.1162\n",
      "==============================\n"
     ]
    },
    {
     "name": "stderr",
     "output_type": "stream",
     "text": [
      "\n"
     ]
    },
    {
     "name": "stdout",
     "output_type": "stream",
     "text": [
      "Epoch 5 elapsed: 0.211s\n"
     ]
    },
    {
     "name": "stderr",
     "output_type": "stream",
     "text": [
      "eval_pred: 100%|██████████████████████████████████████████████████████████████████████| 15/15 [00:00<00:00, 417.78it/s]"
     ]
    },
    {
     "name": "stdout",
     "output_type": "stream",
     "text": [
      "\t eval rmse: 1.0871\n",
      "\t eval mae: 0.8492\n",
      "\t eval r2: -0.1162\n",
      "==============================\n"
     ]
    },
    {
     "name": "stderr",
     "output_type": "stream",
     "text": [
      "\n"
     ]
    },
    {
     "name": "stdout",
     "output_type": "stream",
     "text": [
      "Training start time: \u001b[35m2022-07-19 17:44:19\u001b[0m\n",
      "Epoch 1 elapsed: 0.196s\n"
     ]
    },
    {
     "name": "stderr",
     "output_type": "stream",
     "text": [
      "eval_pred: 100%|██████████████████████████████████████████████████████████████████████| 15/15 [00:00<00:00, 395.80it/s]"
     ]
    },
    {
     "name": "stdout",
     "output_type": "stream",
     "text": [
      "\t eval rmse: 1.0751\n",
      "\t eval mae: 0.8612\n",
      "\t eval r2: -0.0918\n",
      "==============================\n"
     ]
    },
    {
     "name": "stderr",
     "output_type": "stream",
     "text": [
      "\n"
     ]
    },
    {
     "name": "stdout",
     "output_type": "stream",
     "text": [
      "Epoch 2 elapsed: 0.211s\n"
     ]
    },
    {
     "name": "stderr",
     "output_type": "stream",
     "text": [
      "eval_pred: 100%|██████████████████████████████████████████████████████████████████████| 15/15 [00:00<00:00, 395.80it/s]"
     ]
    },
    {
     "name": "stdout",
     "output_type": "stream",
     "text": [
      "\t eval rmse: 1.0851\n",
      "\t eval mae: 0.8580\n",
      "\t eval r2: -0.1122\n",
      "==============================\n"
     ]
    },
    {
     "name": "stderr",
     "output_type": "stream",
     "text": [
      "\n"
     ]
    },
    {
     "name": "stdout",
     "output_type": "stream",
     "text": [
      "Epoch 3 elapsed: 0.233s\n"
     ]
    },
    {
     "name": "stderr",
     "output_type": "stream",
     "text": [
      "eval_pred: 100%|██████████████████████████████████████████████████████████████████████| 15/15 [00:00<00:00, 385.65it/s]"
     ]
    },
    {
     "name": "stdout",
     "output_type": "stream",
     "text": [
      "\t eval rmse: 1.0866\n",
      "\t eval mae: 0.8540\n",
      "\t eval r2: -0.1152\n",
      "==============================\n"
     ]
    },
    {
     "name": "stderr",
     "output_type": "stream",
     "text": [
      "\n"
     ]
    },
    {
     "name": "stdout",
     "output_type": "stream",
     "text": [
      "Epoch 4 elapsed: 0.201s\n"
     ]
    },
    {
     "name": "stderr",
     "output_type": "stream",
     "text": [
      "eval_pred: 100%|██████████████████████████████████████████████████████████████████████| 15/15 [00:00<00:00, 406.50it/s]"
     ]
    },
    {
     "name": "stdout",
     "output_type": "stream",
     "text": [
      "\t eval rmse: 1.0871\n",
      "\t eval mae: 0.8511\n",
      "\t eval r2: -0.1162\n",
      "==============================\n"
     ]
    },
    {
     "name": "stderr",
     "output_type": "stream",
     "text": [
      "\n"
     ]
    },
    {
     "name": "stdout",
     "output_type": "stream",
     "text": [
      "Epoch 5 elapsed: 0.218s\n"
     ]
    },
    {
     "name": "stderr",
     "output_type": "stream",
     "text": [
      "eval_pred: 100%|██████████████████████████████████████████████████████████████████████| 15/15 [00:00<00:00, 395.80it/s]"
     ]
    },
    {
     "name": "stdout",
     "output_type": "stream",
     "text": [
      "\t eval rmse: 1.0871\n",
      "\t eval mae: 0.8492\n",
      "\t eval r2: -0.1162\n",
      "==============================\n"
     ]
    },
    {
     "name": "stderr",
     "output_type": "stream",
     "text": [
      "\n"
     ]
    },
    {
     "name": "stdout",
     "output_type": "stream",
     "text": [
      "Training start time: \u001b[35m2022-07-19 17:44:21\u001b[0m\n",
      "Epoch 1 elapsed: 0.202s\n"
     ]
    },
    {
     "name": "stderr",
     "output_type": "stream",
     "text": [
      "eval_pred: 100%|██████████████████████████████████████████████████████████████████████| 15/15 [00:00<00:00, 341.82it/s]"
     ]
    },
    {
     "name": "stdout",
     "output_type": "stream",
     "text": [
      "\t eval rmse: 1.0751\n",
      "\t eval mae: 0.8612\n",
      "\t eval r2: -0.0918\n",
      "==============================\n"
     ]
    },
    {
     "name": "stderr",
     "output_type": "stream",
     "text": [
      "\n"
     ]
    },
    {
     "name": "stdout",
     "output_type": "stream",
     "text": [
      "Epoch 2 elapsed: 0.214s\n"
     ]
    },
    {
     "name": "stderr",
     "output_type": "stream",
     "text": [
      "eval_pred: 100%|██████████████████████████████████████████████████████████████████████| 15/15 [00:00<00:00, 385.71it/s]"
     ]
    },
    {
     "name": "stdout",
     "output_type": "stream",
     "text": [
      "\t eval rmse: 1.0851\n",
      "\t eval mae: 0.8580\n",
      "\t eval r2: -0.1122\n",
      "==============================\n"
     ]
    },
    {
     "name": "stderr",
     "output_type": "stream",
     "text": [
      "\n"
     ]
    },
    {
     "name": "stdout",
     "output_type": "stream",
     "text": [
      "Epoch 3 elapsed: 0.199s\n"
     ]
    },
    {
     "name": "stderr",
     "output_type": "stream",
     "text": [
      "eval_pred: 100%|██████████████████████████████████████████████████████████████████████| 15/15 [00:00<00:00, 406.49it/s]"
     ]
    },
    {
     "name": "stdout",
     "output_type": "stream",
     "text": [
      "\t eval rmse: 1.0866\n",
      "\t eval mae: 0.8540\n",
      "\t eval r2: -0.1152\n",
      "==============================\n"
     ]
    },
    {
     "name": "stderr",
     "output_type": "stream",
     "text": [
      "\n"
     ]
    },
    {
     "name": "stdout",
     "output_type": "stream",
     "text": [
      "Epoch 4 elapsed: 0.206s\n"
     ]
    },
    {
     "name": "stderr",
     "output_type": "stream",
     "text": [
      "eval_pred: 100%|██████████████████████████████████████████████████████████████████████| 15/15 [00:00<00:00, 406.49it/s]"
     ]
    },
    {
     "name": "stdout",
     "output_type": "stream",
     "text": [
      "\t eval rmse: 1.0871\n",
      "\t eval mae: 0.8511\n",
      "\t eval r2: -0.1162\n",
      "==============================\n"
     ]
    },
    {
     "name": "stderr",
     "output_type": "stream",
     "text": [
      "\n"
     ]
    },
    {
     "name": "stdout",
     "output_type": "stream",
     "text": [
      "Epoch 5 elapsed: 0.196s\n"
     ]
    },
    {
     "name": "stderr",
     "output_type": "stream",
     "text": [
      "eval_pred: 100%|██████████████████████████████████████████████████████████████████████| 15/15 [00:00<00:00, 417.78it/s]"
     ]
    },
    {
     "name": "stdout",
     "output_type": "stream",
     "text": [
      "\t eval rmse: 1.0871\n",
      "\t eval mae: 0.8492\n",
      "\t eval r2: -0.1162\n",
      "==============================\n"
     ]
    },
    {
     "name": "stderr",
     "output_type": "stream",
     "text": [
      "\n"
     ]
    },
    {
     "name": "stdout",
     "output_type": "stream",
     "text": [
      "Training start time: \u001b[35m2022-07-19 17:44:23\u001b[0m\n",
      "Epoch 1 elapsed: 0.194s\n"
     ]
    },
    {
     "name": "stderr",
     "output_type": "stream",
     "text": [
      "eval_pred: 100%|██████████████████████████████████████████████████████████████████████| 15/15 [00:00<00:00, 406.49it/s]"
     ]
    },
    {
     "name": "stdout",
     "output_type": "stream",
     "text": [
      "\t eval rmse: 1.0751\n",
      "\t eval mae: 0.8612\n",
      "\t eval r2: -0.0918\n",
      "==============================\n"
     ]
    },
    {
     "name": "stderr",
     "output_type": "stream",
     "text": [
      "\n"
     ]
    },
    {
     "name": "stdout",
     "output_type": "stream",
     "text": [
      "Epoch 2 elapsed: 0.206s\n"
     ]
    },
    {
     "name": "stderr",
     "output_type": "stream",
     "text": [
      "eval_pred: 100%|██████████████████████████████████████████████████████████████████████| 15/15 [00:00<00:00, 326.55it/s]"
     ]
    },
    {
     "name": "stdout",
     "output_type": "stream",
     "text": [
      "\t eval rmse: 1.0851\n",
      "\t eval mae: 0.8580\n",
      "\t eval r2: -0.1122\n",
      "==============================\n"
     ]
    },
    {
     "name": "stderr",
     "output_type": "stream",
     "text": [
      "\n"
     ]
    },
    {
     "name": "stdout",
     "output_type": "stream",
     "text": [
      "Epoch 3 elapsed: 0.232s\n"
     ]
    },
    {
     "name": "stderr",
     "output_type": "stream",
     "text": [
      "eval_pred: 100%|██████████████████████████████████████████████████████████████████████| 15/15 [00:00<00:00, 376.56it/s]"
     ]
    },
    {
     "name": "stdout",
     "output_type": "stream",
     "text": [
      "\t eval rmse: 1.0866\n",
      "\t eval mae: 0.8540\n",
      "\t eval r2: -0.1152\n",
      "==============================\n"
     ]
    },
    {
     "name": "stderr",
     "output_type": "stream",
     "text": [
      "\n"
     ]
    },
    {
     "name": "stdout",
     "output_type": "stream",
     "text": [
      "Epoch 4 elapsed: 0.212s\n"
     ]
    },
    {
     "name": "stderr",
     "output_type": "stream",
     "text": [
      "eval_pred: 100%|██████████████████████████████████████████████████████████████████████| 15/15 [00:00<00:00, 395.79it/s]"
     ]
    },
    {
     "name": "stdout",
     "output_type": "stream",
     "text": [
      "\t eval rmse: 1.0871\n",
      "\t eval mae: 0.8511\n",
      "\t eval r2: -0.1162\n",
      "==============================\n"
     ]
    },
    {
     "name": "stderr",
     "output_type": "stream",
     "text": [
      "\n"
     ]
    },
    {
     "name": "stdout",
     "output_type": "stream",
     "text": [
      "Epoch 5 elapsed: 0.220s\n"
     ]
    },
    {
     "name": "stderr",
     "output_type": "stream",
     "text": [
      "eval_pred: 100%|██████████████████████████████████████████████████████████████████████| 15/15 [00:00<00:00, 395.79it/s]"
     ]
    },
    {
     "name": "stdout",
     "output_type": "stream",
     "text": [
      "\t eval rmse: 1.0871\n",
      "\t eval mae: 0.8492\n",
      "\t eval r2: -0.1162\n",
      "==============================\n"
     ]
    },
    {
     "name": "stderr",
     "output_type": "stream",
     "text": [
      "\n"
     ]
    },
    {
     "name": "stdout",
     "output_type": "stream",
     "text": [
      "Training start time: \u001b[35m2022-07-19 17:44:24\u001b[0m\n",
      "Epoch 1 elapsed: 0.182s\n"
     ]
    },
    {
     "name": "stderr",
     "output_type": "stream",
     "text": [
      "eval_pred: 100%|██████████████████████████████████████████████████████████████████████| 15/15 [00:00<00:00, 429.71it/s]"
     ]
    },
    {
     "name": "stdout",
     "output_type": "stream",
     "text": [
      "\t eval rmse: 1.0377\n",
      "\t eval mae: 0.8395\n",
      "\t eval r2: -0.0171\n",
      "==============================\n"
     ]
    },
    {
     "name": "stderr",
     "output_type": "stream",
     "text": [
      "\n"
     ]
    },
    {
     "name": "stdout",
     "output_type": "stream",
     "text": [
      "Epoch 2 elapsed: 0.202s\n"
     ]
    },
    {
     "name": "stderr",
     "output_type": "stream",
     "text": [
      "eval_pred: 100%|██████████████████████████████████████████████████████████████████████| 15/15 [00:00<00:00, 303.46it/s]"
     ]
    },
    {
     "name": "stdout",
     "output_type": "stream",
     "text": [
      "\t eval rmse: 1.0585\n",
      "\t eval mae: 0.8402\n",
      "\t eval r2: -0.0582\n",
      "==============================\n"
     ]
    },
    {
     "name": "stderr",
     "output_type": "stream",
     "text": [
      "\n"
     ]
    },
    {
     "name": "stdout",
     "output_type": "stream",
     "text": [
      "Epoch 3 elapsed: 0.201s\n"
     ]
    },
    {
     "name": "stderr",
     "output_type": "stream",
     "text": [
      "eval_pred: 100%|██████████████████████████████████████████████████████████████████████| 15/15 [00:00<00:00, 326.21it/s]"
     ]
    },
    {
     "name": "stdout",
     "output_type": "stream",
     "text": [
      "\t eval rmse: 1.0582\n",
      "\t eval mae: 0.8354\n",
      "\t eval r2: -0.0577\n",
      "==============================\n"
     ]
    },
    {
     "name": "stderr",
     "output_type": "stream",
     "text": [
      "\n"
     ]
    },
    {
     "name": "stdout",
     "output_type": "stream",
     "text": [
      "Epoch 4 elapsed: 0.203s\n"
     ]
    },
    {
     "name": "stderr",
     "output_type": "stream",
     "text": [
      "eval_pred: 100%|██████████████████████████████████████████████████████████████████████| 15/15 [00:00<00:00, 327.97it/s]"
     ]
    },
    {
     "name": "stdout",
     "output_type": "stream",
     "text": [
      "\t eval rmse: 1.0565\n",
      "\t eval mae: 0.8313\n",
      "\t eval r2: -0.0543\n",
      "==============================\n"
     ]
    },
    {
     "name": "stderr",
     "output_type": "stream",
     "text": [
      "\n"
     ]
    },
    {
     "name": "stdout",
     "output_type": "stream",
     "text": [
      "Epoch 5 elapsed: 0.232s\n"
     ]
    },
    {
     "name": "stderr",
     "output_type": "stream",
     "text": [
      "eval_pred: 100%|██████████████████████████████████████████████████████████████████████| 15/15 [00:00<00:00, 319.08it/s]"
     ]
    },
    {
     "name": "stdout",
     "output_type": "stream",
     "text": [
      "\t eval rmse: 1.0545\n",
      "\t eval mae: 0.8280\n",
      "\t eval r2: -0.0503\n",
      "==============================\n"
     ]
    },
    {
     "name": "stderr",
     "output_type": "stream",
     "text": [
      "\n"
     ]
    },
    {
     "name": "stdout",
     "output_type": "stream",
     "text": [
      "Training start time: \u001b[35m2022-07-19 17:44:26\u001b[0m\n",
      "Epoch 1 elapsed: 0.195s\n"
     ]
    },
    {
     "name": "stderr",
     "output_type": "stream",
     "text": [
      "eval_pred: 100%|██████████████████████████████████████████████████████████████████████| 15/15 [00:00<00:00, 395.80it/s]"
     ]
    },
    {
     "name": "stdout",
     "output_type": "stream",
     "text": [
      "\t eval rmse: 1.0377\n",
      "\t eval mae: 0.8395\n",
      "\t eval r2: -0.0171\n",
      "==============================\n"
     ]
    },
    {
     "name": "stderr",
     "output_type": "stream",
     "text": [
      "\n"
     ]
    },
    {
     "name": "stdout",
     "output_type": "stream",
     "text": [
      "Epoch 2 elapsed: 0.191s\n"
     ]
    },
    {
     "name": "stderr",
     "output_type": "stream",
     "text": [
      "eval_pred: 100%|██████████████████████████████████████████████████████████████████████| 15/15 [00:00<00:00, 396.79it/s]"
     ]
    },
    {
     "name": "stdout",
     "output_type": "stream",
     "text": [
      "\t eval rmse: 1.0585\n",
      "\t eval mae: 0.8402\n",
      "\t eval r2: -0.0582\n",
      "==============================\n"
     ]
    },
    {
     "name": "stderr",
     "output_type": "stream",
     "text": [
      "\n"
     ]
    },
    {
     "name": "stdout",
     "output_type": "stream",
     "text": [
      "Epoch 3 elapsed: 0.215s\n"
     ]
    },
    {
     "name": "stderr",
     "output_type": "stream",
     "text": [
      "eval_pred: 100%|██████████████████████████████████████████████████████████████████████| 15/15 [00:00<00:00, 326.42it/s]"
     ]
    },
    {
     "name": "stdout",
     "output_type": "stream",
     "text": [
      "\t eval rmse: 1.0582\n",
      "\t eval mae: 0.8354\n",
      "\t eval r2: -0.0577\n",
      "==============================\n"
     ]
    },
    {
     "name": "stderr",
     "output_type": "stream",
     "text": [
      "\n"
     ]
    },
    {
     "name": "stdout",
     "output_type": "stream",
     "text": [
      "Epoch 4 elapsed: 0.223s\n"
     ]
    },
    {
     "name": "stderr",
     "output_type": "stream",
     "text": [
      "eval_pred: 100%|██████████████████████████████████████████████████████████████████████| 15/15 [00:00<00:00, 395.80it/s]"
     ]
    },
    {
     "name": "stdout",
     "output_type": "stream",
     "text": [
      "\t eval rmse: 1.0565\n",
      "\t eval mae: 0.8313\n",
      "\t eval r2: -0.0543\n",
      "==============================\n"
     ]
    },
    {
     "name": "stderr",
     "output_type": "stream",
     "text": [
      "\n"
     ]
    },
    {
     "name": "stdout",
     "output_type": "stream",
     "text": [
      "Epoch 5 elapsed: 0.196s\n"
     ]
    },
    {
     "name": "stderr",
     "output_type": "stream",
     "text": [
      "eval_pred: 100%|██████████████████████████████████████████████████████████████████████| 15/15 [00:00<00:00, 395.79it/s]"
     ]
    },
    {
     "name": "stdout",
     "output_type": "stream",
     "text": [
      "\t eval rmse: 1.0545\n",
      "\t eval mae: 0.8280\n",
      "\t eval r2: -0.0503\n",
      "==============================\n"
     ]
    },
    {
     "name": "stderr",
     "output_type": "stream",
     "text": [
      "\n"
     ]
    },
    {
     "name": "stdout",
     "output_type": "stream",
     "text": [
      "Training start time: \u001b[35m2022-07-19 17:44:28\u001b[0m\n",
      "Epoch 1 elapsed: 0.182s\n"
     ]
    },
    {
     "name": "stderr",
     "output_type": "stream",
     "text": [
      "eval_pred: 100%|██████████████████████████████████████████████████████████████████████| 15/15 [00:00<00:00, 395.80it/s]"
     ]
    },
    {
     "name": "stdout",
     "output_type": "stream",
     "text": [
      "\t eval rmse: 1.0377\n",
      "\t eval mae: 0.8395\n",
      "\t eval r2: -0.0171\n",
      "==============================\n"
     ]
    },
    {
     "name": "stderr",
     "output_type": "stream",
     "text": [
      "\n"
     ]
    },
    {
     "name": "stdout",
     "output_type": "stream",
     "text": [
      "Epoch 2 elapsed: 0.216s\n"
     ]
    },
    {
     "name": "stderr",
     "output_type": "stream",
     "text": [
      "eval_pred: 100%|██████████████████████████████████████████████████████████████████████| 15/15 [00:00<00:00, 394.93it/s]"
     ]
    },
    {
     "name": "stdout",
     "output_type": "stream",
     "text": [
      "\t eval rmse: 1.0585\n",
      "\t eval mae: 0.8402\n",
      "\t eval r2: -0.0582\n",
      "==============================\n"
     ]
    },
    {
     "name": "stderr",
     "output_type": "stream",
     "text": [
      "\n"
     ]
    },
    {
     "name": "stdout",
     "output_type": "stream",
     "text": [
      "Epoch 3 elapsed: 0.189s\n"
     ]
    },
    {
     "name": "stderr",
     "output_type": "stream",
     "text": [
      "eval_pred: 100%|██████████████████████████████████████████████████████████████████████| 15/15 [00:00<00:00, 366.31it/s]"
     ]
    },
    {
     "name": "stdout",
     "output_type": "stream",
     "text": [
      "\t eval rmse: 1.0582\n",
      "\t eval mae: 0.8354\n",
      "\t eval r2: -0.0577\n",
      "==============================\n"
     ]
    },
    {
     "name": "stderr",
     "output_type": "stream",
     "text": [
      "\n"
     ]
    },
    {
     "name": "stdout",
     "output_type": "stream",
     "text": [
      "Epoch 4 elapsed: 0.206s\n"
     ]
    },
    {
     "name": "stderr",
     "output_type": "stream",
     "text": [
      "eval_pred: 100%|██████████████████████████████████████████████████████████████████████| 15/15 [00:00<00:00, 406.83it/s]"
     ]
    },
    {
     "name": "stdout",
     "output_type": "stream",
     "text": [
      "\t eval rmse: 1.0565\n",
      "\t eval mae: 0.8313\n",
      "\t eval r2: -0.0543\n",
      "==============================\n"
     ]
    },
    {
     "name": "stderr",
     "output_type": "stream",
     "text": [
      "\n"
     ]
    },
    {
     "name": "stdout",
     "output_type": "stream",
     "text": [
      "Epoch 5 elapsed: 0.194s\n"
     ]
    },
    {
     "name": "stderr",
     "output_type": "stream",
     "text": [
      "eval_pred: 100%|██████████████████████████████████████████████████████████████████████| 15/15 [00:00<00:00, 354.16it/s]"
     ]
    },
    {
     "name": "stdout",
     "output_type": "stream",
     "text": [
      "\t eval rmse: 1.0545\n",
      "\t eval mae: 0.8280\n",
      "\t eval r2: -0.0503\n",
      "==============================\n"
     ]
    },
    {
     "name": "stderr",
     "output_type": "stream",
     "text": [
      "\n"
     ]
    },
    {
     "name": "stdout",
     "output_type": "stream",
     "text": [
      "Training start time: \u001b[35m2022-07-19 17:44:30\u001b[0m\n",
      "Epoch 1 elapsed: 0.197s\n"
     ]
    },
    {
     "name": "stderr",
     "output_type": "stream",
     "text": [
      "eval_pred: 100%|██████████████████████████████████████████████████████████████████████| 15/15 [00:00<00:00, 417.77it/s]"
     ]
    },
    {
     "name": "stdout",
     "output_type": "stream",
     "text": [
      "\t eval rmse: 1.0377\n",
      "\t eval mae: 0.8395\n",
      "\t eval r2: -0.0171\n",
      "==============================\n"
     ]
    },
    {
     "name": "stderr",
     "output_type": "stream",
     "text": [
      "\n"
     ]
    },
    {
     "name": "stdout",
     "output_type": "stream",
     "text": [
      "Epoch 2 elapsed: 0.207s\n"
     ]
    },
    {
     "name": "stderr",
     "output_type": "stream",
     "text": [
      "eval_pred: 100%|██████████████████████████████████████████████████████████████████████| 15/15 [00:00<00:00, 442.35it/s]"
     ]
    },
    {
     "name": "stdout",
     "output_type": "stream",
     "text": [
      "\t eval rmse: 1.0585\n",
      "\t eval mae: 0.8402\n",
      "\t eval r2: -0.0582\n",
      "==============================\n"
     ]
    },
    {
     "name": "stderr",
     "output_type": "stream",
     "text": [
      "\n"
     ]
    },
    {
     "name": "stdout",
     "output_type": "stream",
     "text": [
      "Epoch 3 elapsed: 0.202s\n"
     ]
    },
    {
     "name": "stderr",
     "output_type": "stream",
     "text": [
      "eval_pred: 100%|██████████████████████████████████████████████████████████████████████| 15/15 [00:00<00:00, 417.78it/s]"
     ]
    },
    {
     "name": "stdout",
     "output_type": "stream",
     "text": [
      "\t eval rmse: 1.0582\n",
      "\t eval mae: 0.8354\n",
      "\t eval r2: -0.0577\n",
      "==============================\n"
     ]
    },
    {
     "name": "stderr",
     "output_type": "stream",
     "text": [
      "\n"
     ]
    },
    {
     "name": "stdout",
     "output_type": "stream",
     "text": [
      "Epoch 4 elapsed: 0.208s\n"
     ]
    },
    {
     "name": "stderr",
     "output_type": "stream",
     "text": [
      "eval_pred: 100%|██████████████████████████████████████████████████████████████████████| 15/15 [00:00<00:00, 362.93it/s]"
     ]
    },
    {
     "name": "stdout",
     "output_type": "stream",
     "text": [
      "\t eval rmse: 1.0565\n",
      "\t eval mae: 0.8313\n",
      "\t eval r2: -0.0543\n",
      "==============================\n"
     ]
    },
    {
     "name": "stderr",
     "output_type": "stream",
     "text": [
      "\n"
     ]
    },
    {
     "name": "stdout",
     "output_type": "stream",
     "text": [
      "Epoch 5 elapsed: 0.214s\n"
     ]
    },
    {
     "name": "stderr",
     "output_type": "stream",
     "text": [
      "eval_pred: 100%|██████████████████████████████████████████████████████████████████████| 15/15 [00:00<00:00, 417.79it/s]"
     ]
    },
    {
     "name": "stdout",
     "output_type": "stream",
     "text": [
      "\t eval rmse: 1.0545\n",
      "\t eval mae: 0.8280\n",
      "\t eval r2: -0.0503\n",
      "==============================\n"
     ]
    },
    {
     "name": "stderr",
     "output_type": "stream",
     "text": [
      "\n"
     ]
    },
    {
     "name": "stdout",
     "output_type": "stream",
     "text": [
      "Training start time: \u001b[35m2022-07-19 17:44:32\u001b[0m\n",
      "Epoch 1 elapsed: 0.180s\n"
     ]
    },
    {
     "name": "stderr",
     "output_type": "stream",
     "text": [
      "eval_pred: 100%|██████████████████████████████████████████████████████████████████████| 15/15 [00:00<00:00, 395.15it/s]\n"
     ]
    },
    {
     "name": "stdout",
     "output_type": "stream",
     "text": [
      "\t eval rmse: 1.0377\n",
      "\t eval mae: 0.8395\n",
      "\t eval r2: -0.0171\n",
      "==============================\n",
      "Epoch 2 elapsed: 0.190s\n"
     ]
    },
    {
     "name": "stderr",
     "output_type": "stream",
     "text": [
      "eval_pred: 100%|██████████████████████████████████████████████████████████████████████| 15/15 [00:00<00:00, 395.79it/s]"
     ]
    },
    {
     "name": "stdout",
     "output_type": "stream",
     "text": [
      "\t eval rmse: 1.0585\n",
      "\t eval mae: 0.8402\n",
      "\t eval r2: -0.0582\n",
      "==============================\n"
     ]
    },
    {
     "name": "stderr",
     "output_type": "stream",
     "text": [
      "\n"
     ]
    },
    {
     "name": "stdout",
     "output_type": "stream",
     "text": [
      "Epoch 3 elapsed: 0.207s\n"
     ]
    },
    {
     "name": "stderr",
     "output_type": "stream",
     "text": [
      "eval_pred: 100%|██████████████████████████████████████████████████████████████████████| 15/15 [00:00<00:00, 385.65it/s]"
     ]
    },
    {
     "name": "stdout",
     "output_type": "stream",
     "text": [
      "\t eval rmse: 1.0582\n",
      "\t eval mae: 0.8354\n",
      "\t eval r2: -0.0577\n",
      "==============================\n"
     ]
    },
    {
     "name": "stderr",
     "output_type": "stream",
     "text": [
      "\n"
     ]
    },
    {
     "name": "stdout",
     "output_type": "stream",
     "text": [
      "Epoch 4 elapsed: 0.203s\n"
     ]
    },
    {
     "name": "stderr",
     "output_type": "stream",
     "text": [
      "eval_pred: 100%|██████████████████████████████████████████████████████████████████████| 15/15 [00:00<00:00, 395.81it/s]"
     ]
    },
    {
     "name": "stdout",
     "output_type": "stream",
     "text": [
      "\t eval rmse: 1.0565\n",
      "\t eval mae: 0.8313\n",
      "\t eval r2: -0.0543\n",
      "==============================\n"
     ]
    },
    {
     "name": "stderr",
     "output_type": "stream",
     "text": [
      "\n"
     ]
    },
    {
     "name": "stdout",
     "output_type": "stream",
     "text": [
      "Epoch 5 elapsed: 0.206s\n"
     ]
    },
    {
     "name": "stderr",
     "output_type": "stream",
     "text": [
      "eval_pred: 100%|██████████████████████████████████████████████████████████████████████| 15/15 [00:00<00:00, 427.66it/s]"
     ]
    },
    {
     "name": "stdout",
     "output_type": "stream",
     "text": [
      "\t eval rmse: 1.0545\n",
      "\t eval mae: 0.8280\n",
      "\t eval r2: -0.0503\n",
      "==============================\n"
     ]
    },
    {
     "name": "stderr",
     "output_type": "stream",
     "text": [
      "\n"
     ]
    },
    {
     "name": "stdout",
     "output_type": "stream",
     "text": [
      "Training start time: \u001b[35m2022-07-19 17:44:34\u001b[0m\n",
      "Epoch 1 elapsed: 0.191s\n"
     ]
    },
    {
     "name": "stderr",
     "output_type": "stream",
     "text": [
      "eval_pred: 100%|██████████████████████████████████████████████████████████████████████| 15/15 [00:00<00:00, 406.49it/s]\n"
     ]
    },
    {
     "name": "stdout",
     "output_type": "stream",
     "text": [
      "\t eval rmse: 1.0275\n",
      "\t eval mae: 0.8367\n",
      "\t eval r2: 0.0029\n",
      "==============================\n",
      "Epoch 2 elapsed: 0.192s\n"
     ]
    },
    {
     "name": "stderr",
     "output_type": "stream",
     "text": [
      "eval_pred: 100%|██████████████████████████████████████████████████████████████████████| 15/15 [00:00<00:00, 385.65it/s]"
     ]
    },
    {
     "name": "stdout",
     "output_type": "stream",
     "text": [
      "\t eval rmse: 1.0412\n",
      "\t eval mae: 0.8276\n",
      "\t eval r2: -0.0240\n",
      "==============================\n"
     ]
    },
    {
     "name": "stderr",
     "output_type": "stream",
     "text": [
      "\n"
     ]
    },
    {
     "name": "stdout",
     "output_type": "stream",
     "text": [
      "Epoch 3 elapsed: 0.213s\n"
     ]
    },
    {
     "name": "stderr",
     "output_type": "stream",
     "text": [
      "eval_pred: 100%|██████████████████████████████████████████████████████████████████████| 15/15 [00:00<00:00, 291.80it/s]"
     ]
    },
    {
     "name": "stdout",
     "output_type": "stream",
     "text": [
      "\t eval rmse: 1.0358\n",
      "\t eval mae: 0.8202\n",
      "\t eval r2: -0.0133\n",
      "==============================\n"
     ]
    },
    {
     "name": "stderr",
     "output_type": "stream",
     "text": [
      "\n"
     ]
    },
    {
     "name": "stdout",
     "output_type": "stream",
     "text": [
      "Epoch 4 elapsed: 0.232s\n"
     ]
    },
    {
     "name": "stderr",
     "output_type": "stream",
     "text": [
      "eval_pred: 100%|██████████████████████████████████████████████████████████████████████| 15/15 [00:00<00:00, 306.04it/s]"
     ]
    },
    {
     "name": "stdout",
     "output_type": "stream",
     "text": [
      "\t eval rmse: 1.0316\n",
      "\t eval mae: 0.8149\n",
      "\t eval r2: -0.0052\n",
      "==============================\n"
     ]
    },
    {
     "name": "stderr",
     "output_type": "stream",
     "text": [
      "\n"
     ]
    },
    {
     "name": "stdout",
     "output_type": "stream",
     "text": [
      "Epoch 5 elapsed: 0.197s\n"
     ]
    },
    {
     "name": "stderr",
     "output_type": "stream",
     "text": [
      "eval_pred: 100%|██████████████████████████████████████████████████████████████████████| 15/15 [00:00<00:00, 385.65it/s]"
     ]
    },
    {
     "name": "stdout",
     "output_type": "stream",
     "text": [
      "\t eval rmse: 1.0289\n",
      "\t eval mae: 0.8116\n",
      "\t eval r2: 0.0001\n",
      "==============================\n"
     ]
    },
    {
     "name": "stderr",
     "output_type": "stream",
     "text": [
      "\n"
     ]
    },
    {
     "name": "stdout",
     "output_type": "stream",
     "text": [
      "Training start time: \u001b[35m2022-07-19 17:44:36\u001b[0m\n",
      "Epoch 1 elapsed: 0.192s\n"
     ]
    },
    {
     "name": "stderr",
     "output_type": "stream",
     "text": [
      "eval_pred: 100%|██████████████████████████████████████████████████████████████████████| 15/15 [00:00<00:00, 406.50it/s]"
     ]
    },
    {
     "name": "stdout",
     "output_type": "stream",
     "text": [
      "\t eval rmse: 1.0275\n",
      "\t eval mae: 0.8367\n",
      "\t eval r2: 0.0029\n",
      "==============================\n"
     ]
    },
    {
     "name": "stderr",
     "output_type": "stream",
     "text": [
      "\n"
     ]
    },
    {
     "name": "stdout",
     "output_type": "stream",
     "text": [
      "Epoch 2 elapsed: 0.203s\n"
     ]
    },
    {
     "name": "stderr",
     "output_type": "stream",
     "text": [
      "eval_pred: 100%|██████████████████████████████████████████████████████████████████████| 15/15 [00:00<00:00, 398.01it/s]"
     ]
    },
    {
     "name": "stdout",
     "output_type": "stream",
     "text": [
      "\t eval rmse: 1.0412\n",
      "\t eval mae: 0.8276\n",
      "\t eval r2: -0.0240\n",
      "==============================\n"
     ]
    },
    {
     "name": "stderr",
     "output_type": "stream",
     "text": [
      "\n"
     ]
    },
    {
     "name": "stdout",
     "output_type": "stream",
     "text": [
      "Epoch 3 elapsed: 0.221s\n"
     ]
    },
    {
     "name": "stderr",
     "output_type": "stream",
     "text": [
      "eval_pred: 100%|██████████████████████████████████████████████████████████████████████| 15/15 [00:00<00:00, 299.88it/s]"
     ]
    },
    {
     "name": "stdout",
     "output_type": "stream",
     "text": [
      "\t eval rmse: 1.0358\n",
      "\t eval mae: 0.8202\n",
      "\t eval r2: -0.0133\n",
      "==============================\n"
     ]
    },
    {
     "name": "stderr",
     "output_type": "stream",
     "text": [
      "\n"
     ]
    },
    {
     "name": "stdout",
     "output_type": "stream",
     "text": [
      "Epoch 4 elapsed: 0.220s\n"
     ]
    },
    {
     "name": "stderr",
     "output_type": "stream",
     "text": [
      "eval_pred: 100%|██████████████████████████████████████████████████████████████████████| 15/15 [00:00<00:00, 385.63it/s]"
     ]
    },
    {
     "name": "stdout",
     "output_type": "stream",
     "text": [
      "\t eval rmse: 1.0316\n",
      "\t eval mae: 0.8149\n",
      "\t eval r2: -0.0052\n",
      "==============================\n"
     ]
    },
    {
     "name": "stderr",
     "output_type": "stream",
     "text": [
      "\n"
     ]
    },
    {
     "name": "stdout",
     "output_type": "stream",
     "text": [
      "Epoch 5 elapsed: 0.231s\n"
     ]
    },
    {
     "name": "stderr",
     "output_type": "stream",
     "text": [
      "eval_pred: 100%|██████████████████████████████████████████████████████████████████████| 15/15 [00:00<00:00, 508.12it/s]"
     ]
    },
    {
     "name": "stdout",
     "output_type": "stream",
     "text": [
      "\t eval rmse: 1.0289\n",
      "\t eval mae: 0.8116\n",
      "\t eval r2: 0.0001\n",
      "==============================\n"
     ]
    },
    {
     "name": "stderr",
     "output_type": "stream",
     "text": [
      "\n"
     ]
    },
    {
     "name": "stdout",
     "output_type": "stream",
     "text": [
      "Training start time: \u001b[35m2022-07-19 17:44:38\u001b[0m\n",
      "Epoch 1 elapsed: 0.207s\n"
     ]
    },
    {
     "name": "stderr",
     "output_type": "stream",
     "text": [
      "eval_pred: 100%|██████████████████████████████████████████████████████████████████████| 15/15 [00:00<00:00, 470.11it/s]"
     ]
    },
    {
     "name": "stdout",
     "output_type": "stream",
     "text": [
      "\t eval rmse: 1.0275\n",
      "\t eval mae: 0.8367\n",
      "\t eval r2: 0.0029\n",
      "==============================\n"
     ]
    },
    {
     "name": "stderr",
     "output_type": "stream",
     "text": [
      "\n"
     ]
    },
    {
     "name": "stdout",
     "output_type": "stream",
     "text": [
      "Epoch 2 elapsed: 0.210s\n"
     ]
    },
    {
     "name": "stderr",
     "output_type": "stream",
     "text": [
      "eval_pred: 100%|██████████████████████████████████████████████████████████████████████| 15/15 [00:00<00:00, 480.11it/s]"
     ]
    },
    {
     "name": "stdout",
     "output_type": "stream",
     "text": [
      "\t eval rmse: 1.0412\n",
      "\t eval mae: 0.8276\n",
      "\t eval r2: -0.0240\n",
      "==============================\n"
     ]
    },
    {
     "name": "stderr",
     "output_type": "stream",
     "text": [
      "\n"
     ]
    },
    {
     "name": "stdout",
     "output_type": "stream",
     "text": [
      "Epoch 3 elapsed: 0.205s\n"
     ]
    },
    {
     "name": "stderr",
     "output_type": "stream",
     "text": [
      "eval_pred: 100%|██████████████████████████████████████████████████████████████████████| 15/15 [00:00<00:00, 373.22it/s]"
     ]
    },
    {
     "name": "stdout",
     "output_type": "stream",
     "text": [
      "\t eval rmse: 1.0358\n",
      "\t eval mae: 0.8202\n",
      "\t eval r2: -0.0133\n",
      "==============================\n"
     ]
    },
    {
     "name": "stderr",
     "output_type": "stream",
     "text": [
      "\n"
     ]
    },
    {
     "name": "stdout",
     "output_type": "stream",
     "text": [
      "Epoch 4 elapsed: 0.208s\n"
     ]
    },
    {
     "name": "stderr",
     "output_type": "stream",
     "text": [
      "eval_pred: 100%|██████████████████████████████████████████████████████████████████████| 15/15 [00:00<00:00, 390.71it/s]"
     ]
    },
    {
     "name": "stdout",
     "output_type": "stream",
     "text": [
      "\t eval rmse: 1.0316\n",
      "\t eval mae: 0.8149\n",
      "\t eval r2: -0.0052\n",
      "==============================\n"
     ]
    },
    {
     "name": "stderr",
     "output_type": "stream",
     "text": [
      "\n"
     ]
    },
    {
     "name": "stdout",
     "output_type": "stream",
     "text": [
      "Epoch 5 elapsed: 0.196s\n"
     ]
    },
    {
     "name": "stderr",
     "output_type": "stream",
     "text": [
      "eval_pred: 100%|██████████████████████████████████████████████████████████████████████| 15/15 [00:00<00:00, 339.36it/s]"
     ]
    },
    {
     "name": "stdout",
     "output_type": "stream",
     "text": [
      "\t eval rmse: 1.0289\n",
      "\t eval mae: 0.8116\n",
      "\t eval r2: 0.0001\n",
      "==============================\n"
     ]
    },
    {
     "name": "stderr",
     "output_type": "stream",
     "text": [
      "\n"
     ]
    },
    {
     "name": "stdout",
     "output_type": "stream",
     "text": [
      "Training start time: \u001b[35m2022-07-19 17:44:40\u001b[0m\n",
      "Epoch 1 elapsed: 0.214s\n"
     ]
    },
    {
     "name": "stderr",
     "output_type": "stream",
     "text": [
      "eval_pred: 100%|██████████████████████████████████████████████████████████████████████| 15/15 [00:00<00:00, 395.81it/s]"
     ]
    },
    {
     "name": "stdout",
     "output_type": "stream",
     "text": [
      "\t eval rmse: 1.0275\n",
      "\t eval mae: 0.8367\n",
      "\t eval r2: 0.0029\n",
      "==============================\n"
     ]
    },
    {
     "name": "stderr",
     "output_type": "stream",
     "text": [
      "\n"
     ]
    },
    {
     "name": "stdout",
     "output_type": "stream",
     "text": [
      "Epoch 2 elapsed: 0.210s\n"
     ]
    },
    {
     "name": "stderr",
     "output_type": "stream",
     "text": [
      "eval_pred: 100%|██████████████████████████████████████████████████████████████████████| 15/15 [00:00<00:00, 340.95it/s]"
     ]
    },
    {
     "name": "stdout",
     "output_type": "stream",
     "text": [
      "\t eval rmse: 1.0412\n",
      "\t eval mae: 0.8276\n",
      "\t eval r2: -0.0240\n",
      "==============================\n"
     ]
    },
    {
     "name": "stderr",
     "output_type": "stream",
     "text": [
      "\n"
     ]
    },
    {
     "name": "stdout",
     "output_type": "stream",
     "text": [
      "Epoch 3 elapsed: 0.227s\n"
     ]
    },
    {
     "name": "stderr",
     "output_type": "stream",
     "text": [
      "eval_pred: 100%|██████████████████████████████████████████████████████████████████████| 15/15 [00:00<00:00, 376.76it/s]"
     ]
    },
    {
     "name": "stdout",
     "output_type": "stream",
     "text": [
      "\t eval rmse: 1.0358\n",
      "\t eval mae: 0.8202\n",
      "\t eval r2: -0.0133\n",
      "==============================\n"
     ]
    },
    {
     "name": "stderr",
     "output_type": "stream",
     "text": [
      "\n"
     ]
    },
    {
     "name": "stdout",
     "output_type": "stream",
     "text": [
      "Epoch 4 elapsed: 0.210s\n"
     ]
    },
    {
     "name": "stderr",
     "output_type": "stream",
     "text": [
      "eval_pred: 100%|██████████████████████████████████████████████████████████████████████| 15/15 [00:00<00:00, 311.92it/s]"
     ]
    },
    {
     "name": "stdout",
     "output_type": "stream",
     "text": [
      "\t eval rmse: 1.0316\n",
      "\t eval mae: 0.8149\n",
      "\t eval r2: -0.0052\n",
      "==============================\n"
     ]
    },
    {
     "name": "stderr",
     "output_type": "stream",
     "text": [
      "\n"
     ]
    },
    {
     "name": "stdout",
     "output_type": "stream",
     "text": [
      "Epoch 5 elapsed: 0.212s\n"
     ]
    },
    {
     "name": "stderr",
     "output_type": "stream",
     "text": [
      "eval_pred: 100%|██████████████████████████████████████████████████████████████████████| 15/15 [00:00<00:00, 417.78it/s]"
     ]
    },
    {
     "name": "stdout",
     "output_type": "stream",
     "text": [
      "\t eval rmse: 1.0289\n",
      "\t eval mae: 0.8116\n",
      "\t eval r2: 0.0001\n",
      "==============================\n"
     ]
    },
    {
     "name": "stderr",
     "output_type": "stream",
     "text": [
      "\n"
     ]
    },
    {
     "name": "stdout",
     "output_type": "stream",
     "text": [
      "Training start time: \u001b[35m2022-07-19 17:44:42\u001b[0m\n",
      "Epoch 1 elapsed: 0.186s\n"
     ]
    },
    {
     "name": "stderr",
     "output_type": "stream",
     "text": [
      "eval_pred: 100%|██████████████████████████████████████████████████████████████████████| 15/15 [00:00<00:00, 385.64it/s]"
     ]
    },
    {
     "name": "stdout",
     "output_type": "stream",
     "text": [
      "\t eval rmse: 1.0275\n",
      "\t eval mae: 0.8367\n",
      "\t eval r2: 0.0029\n",
      "==============================\n"
     ]
    },
    {
     "name": "stderr",
     "output_type": "stream",
     "text": [
      "\n"
     ]
    },
    {
     "name": "stdout",
     "output_type": "stream",
     "text": [
      "Epoch 2 elapsed: 0.203s\n"
     ]
    },
    {
     "name": "stderr",
     "output_type": "stream",
     "text": [
      "eval_pred: 100%|██████████████████████████████████████████████████████████████████████| 15/15 [00:00<00:00, 388.70it/s]"
     ]
    },
    {
     "name": "stdout",
     "output_type": "stream",
     "text": [
      "\t eval rmse: 1.0412\n",
      "\t eval mae: 0.8276\n",
      "\t eval r2: -0.0240\n",
      "==============================\n"
     ]
    },
    {
     "name": "stderr",
     "output_type": "stream",
     "text": [
      "\n"
     ]
    },
    {
     "name": "stdout",
     "output_type": "stream",
     "text": [
      "Epoch 3 elapsed: 0.195s\n"
     ]
    },
    {
     "name": "stderr",
     "output_type": "stream",
     "text": [
      "eval_pred: 100%|██████████████████████████████████████████████████████████████████████| 15/15 [00:00<00:00, 396.92it/s]"
     ]
    },
    {
     "name": "stdout",
     "output_type": "stream",
     "text": [
      "\t eval rmse: 1.0358\n",
      "\t eval mae: 0.8202\n",
      "\t eval r2: -0.0133\n",
      "==============================\n"
     ]
    },
    {
     "name": "stderr",
     "output_type": "stream",
     "text": [
      "\n"
     ]
    },
    {
     "name": "stdout",
     "output_type": "stream",
     "text": [
      "Epoch 4 elapsed: 0.202s\n"
     ]
    },
    {
     "name": "stderr",
     "output_type": "stream",
     "text": [
      "eval_pred: 100%|██████████████████████████████████████████████████████████████████████| 15/15 [00:00<00:00, 319.86it/s]"
     ]
    },
    {
     "name": "stdout",
     "output_type": "stream",
     "text": [
      "\t eval rmse: 1.0316\n",
      "\t eval mae: 0.8149\n",
      "\t eval r2: -0.0052\n",
      "==============================\n"
     ]
    },
    {
     "name": "stderr",
     "output_type": "stream",
     "text": [
      "\n"
     ]
    },
    {
     "name": "stdout",
     "output_type": "stream",
     "text": [
      "Epoch 5 elapsed: 0.215s\n"
     ]
    },
    {
     "name": "stderr",
     "output_type": "stream",
     "text": [
      "eval_pred: 100%|██████████████████████████████████████████████████████████████████████| 15/15 [00:00<00:00, 342.64it/s]"
     ]
    },
    {
     "name": "stdout",
     "output_type": "stream",
     "text": [
      "\t eval rmse: 1.0289\n",
      "\t eval mae: 0.8116\n",
      "\t eval r2: 0.0001\n",
      "==============================\n"
     ]
    },
    {
     "name": "stderr",
     "output_type": "stream",
     "text": [
      "\n"
     ]
    },
    {
     "name": "stdout",
     "output_type": "stream",
     "text": [
      "Training start time: \u001b[35m2022-07-19 17:44:44\u001b[0m\n",
      "Epoch 1 elapsed: 0.377s\n"
     ]
    },
    {
     "name": "stderr",
     "output_type": "stream",
     "text": [
      "eval_pred: 100%|██████████████████████████████████████████████████████████████████████| 15/15 [00:00<00:00, 221.98it/s]"
     ]
    },
    {
     "name": "stdout",
     "output_type": "stream",
     "text": [
      "\t eval rmse: 1.1384\n",
      "\t eval mae: 0.9056\n",
      "\t eval r2: -0.2240\n",
      "==============================\n"
     ]
    },
    {
     "name": "stderr",
     "output_type": "stream",
     "text": [
      "\n"
     ]
    },
    {
     "name": "stdout",
     "output_type": "stream",
     "text": [
      "Epoch 2 elapsed: 0.398s\n"
     ]
    },
    {
     "name": "stderr",
     "output_type": "stream",
     "text": [
      "eval_pred: 100%|██████████████████████████████████████████████████████████████████████| 15/15 [00:00<00:00, 213.61it/s]"
     ]
    },
    {
     "name": "stdout",
     "output_type": "stream",
     "text": [
      "\t eval rmse: 1.1533\n",
      "\t eval mae: 0.9055\n",
      "\t eval r2: -0.2563\n",
      "==============================\n"
     ]
    },
    {
     "name": "stderr",
     "output_type": "stream",
     "text": [
      "\n"
     ]
    },
    {
     "name": "stdout",
     "output_type": "stream",
     "text": [
      "Epoch 3 elapsed: 0.422s\n"
     ]
    },
    {
     "name": "stderr",
     "output_type": "stream",
     "text": [
      "eval_pred: 100%|██████████████████████████████████████████████████████████████████████| 15/15 [00:00<00:00, 258.19it/s]"
     ]
    },
    {
     "name": "stdout",
     "output_type": "stream",
     "text": [
      "\t eval rmse: 1.1705\n",
      "\t eval mae: 0.9130\n",
      "\t eval r2: -0.2941\n",
      "==============================\n"
     ]
    },
    {
     "name": "stderr",
     "output_type": "stream",
     "text": [
      "\n"
     ]
    },
    {
     "name": "stdout",
     "output_type": "stream",
     "text": [
      "Epoch 4 elapsed: 0.426s\n"
     ]
    },
    {
     "name": "stderr",
     "output_type": "stream",
     "text": [
      "eval_pred: 100%|██████████████████████████████████████████████████████████████████████| 15/15 [00:00<00:00, 229.20it/s]"
     ]
    },
    {
     "name": "stdout",
     "output_type": "stream",
     "text": [
      "\t eval rmse: 1.1863\n",
      "\t eval mae: 0.9216\n",
      "\t eval r2: -0.3291\n",
      "==============================\n"
     ]
    },
    {
     "name": "stderr",
     "output_type": "stream",
     "text": [
      "\n"
     ]
    },
    {
     "name": "stdout",
     "output_type": "stream",
     "text": [
      "Epoch 5 elapsed: 0.415s\n"
     ]
    },
    {
     "name": "stderr",
     "output_type": "stream",
     "text": [
      "eval_pred: 100%|██████████████████████████████████████████████████████████████████████| 15/15 [00:00<00:00, 202.98it/s]"
     ]
    },
    {
     "name": "stdout",
     "output_type": "stream",
     "text": [
      "\t eval rmse: 1.2000\n",
      "\t eval mae: 0.9293\n",
      "\t eval r2: -0.3600\n",
      "==============================\n"
     ]
    },
    {
     "name": "stderr",
     "output_type": "stream",
     "text": [
      "\n"
     ]
    },
    {
     "name": "stdout",
     "output_type": "stream",
     "text": [
      "Training start time: \u001b[35m2022-07-19 17:44:47\u001b[0m\n",
      "Epoch 1 elapsed: 0.404s\n"
     ]
    },
    {
     "name": "stderr",
     "output_type": "stream",
     "text": [
      "eval_pred: 100%|██████████████████████████████████████████████████████████████████████| 15/15 [00:00<00:00, 267.23it/s]"
     ]
    },
    {
     "name": "stdout",
     "output_type": "stream",
     "text": [
      "\t eval rmse: 1.1384\n",
      "\t eval mae: 0.9056\n",
      "\t eval r2: -0.2240\n",
      "==============================\n"
     ]
    },
    {
     "name": "stderr",
     "output_type": "stream",
     "text": [
      "\n"
     ]
    },
    {
     "name": "stdout",
     "output_type": "stream",
     "text": [
      "Epoch 2 elapsed: 0.434s\n"
     ]
    },
    {
     "name": "stderr",
     "output_type": "stream",
     "text": [
      "eval_pred: 100%|██████████████████████████████████████████████████████████████████████| 15/15 [00:00<00:00, 214.07it/s]"
     ]
    },
    {
     "name": "stdout",
     "output_type": "stream",
     "text": [
      "\t eval rmse: 1.1533\n",
      "\t eval mae: 0.9055\n",
      "\t eval r2: -0.2563\n",
      "==============================\n"
     ]
    },
    {
     "name": "stderr",
     "output_type": "stream",
     "text": [
      "\n"
     ]
    },
    {
     "name": "stdout",
     "output_type": "stream",
     "text": [
      "Epoch 3 elapsed: 0.394s\n"
     ]
    },
    {
     "name": "stderr",
     "output_type": "stream",
     "text": [
      "eval_pred: 100%|██████████████████████████████████████████████████████████████████████| 15/15 [00:00<00:00, 212.26it/s]"
     ]
    },
    {
     "name": "stdout",
     "output_type": "stream",
     "text": [
      "\t eval rmse: 1.1705\n",
      "\t eval mae: 0.9130\n",
      "\t eval r2: -0.2941\n",
      "==============================\n"
     ]
    },
    {
     "name": "stderr",
     "output_type": "stream",
     "text": [
      "\n"
     ]
    },
    {
     "name": "stdout",
     "output_type": "stream",
     "text": [
      "Epoch 4 elapsed: 0.400s\n"
     ]
    },
    {
     "name": "stderr",
     "output_type": "stream",
     "text": [
      "eval_pred: 100%|██████████████████████████████████████████████████████████████████████| 15/15 [00:00<00:00, 218.02it/s]"
     ]
    },
    {
     "name": "stdout",
     "output_type": "stream",
     "text": [
      "\t eval rmse: 1.1863\n",
      "\t eval mae: 0.9216\n",
      "\t eval r2: -0.3291\n",
      "==============================\n"
     ]
    },
    {
     "name": "stderr",
     "output_type": "stream",
     "text": [
      "\n"
     ]
    },
    {
     "name": "stdout",
     "output_type": "stream",
     "text": [
      "Epoch 5 elapsed: 0.404s\n"
     ]
    },
    {
     "name": "stderr",
     "output_type": "stream",
     "text": [
      "eval_pred: 100%|██████████████████████████████████████████████████████████████████████| 15/15 [00:00<00:00, 233.25it/s]"
     ]
    },
    {
     "name": "stdout",
     "output_type": "stream",
     "text": [
      "\t eval rmse: 1.2000\n",
      "\t eval mae: 0.9293\n",
      "\t eval r2: -0.3600\n",
      "==============================\n"
     ]
    },
    {
     "name": "stderr",
     "output_type": "stream",
     "text": [
      "\n"
     ]
    },
    {
     "name": "stdout",
     "output_type": "stream",
     "text": [
      "Training start time: \u001b[35m2022-07-19 17:44:50\u001b[0m\n",
      "Epoch 1 elapsed: 0.373s\n"
     ]
    },
    {
     "name": "stderr",
     "output_type": "stream",
     "text": [
      "eval_pred: 100%|██████████████████████████████████████████████████████████████████████| 15/15 [00:00<00:00, 233.32it/s]"
     ]
    },
    {
     "name": "stdout",
     "output_type": "stream",
     "text": [
      "\t eval rmse: 1.1384\n",
      "\t eval mae: 0.9056\n",
      "\t eval r2: -0.2240\n",
      "==============================\n"
     ]
    },
    {
     "name": "stderr",
     "output_type": "stream",
     "text": [
      "\n"
     ]
    },
    {
     "name": "stdout",
     "output_type": "stream",
     "text": [
      "Epoch 2 elapsed: 0.399s\n"
     ]
    },
    {
     "name": "stderr",
     "output_type": "stream",
     "text": [
      "eval_pred: 100%|██████████████████████████████████████████████████████████████████████| 15/15 [00:00<00:00, 203.92it/s]"
     ]
    },
    {
     "name": "stdout",
     "output_type": "stream",
     "text": [
      "\t eval rmse: 1.1533\n",
      "\t eval mae: 0.9055\n",
      "\t eval r2: -0.2563\n",
      "==============================\n"
     ]
    },
    {
     "name": "stderr",
     "output_type": "stream",
     "text": [
      "\n"
     ]
    },
    {
     "name": "stdout",
     "output_type": "stream",
     "text": [
      "Epoch 3 elapsed: 0.401s\n"
     ]
    },
    {
     "name": "stderr",
     "output_type": "stream",
     "text": [
      "eval_pred: 100%|██████████████████████████████████████████████████████████████████████| 15/15 [00:00<00:00, 208.16it/s]"
     ]
    },
    {
     "name": "stdout",
     "output_type": "stream",
     "text": [
      "\t eval rmse: 1.1705\n",
      "\t eval mae: 0.9130\n",
      "\t eval r2: -0.2941\n",
      "==============================\n"
     ]
    },
    {
     "name": "stderr",
     "output_type": "stream",
     "text": [
      "\n"
     ]
    },
    {
     "name": "stdout",
     "output_type": "stream",
     "text": [
      "Epoch 4 elapsed: 0.396s\n"
     ]
    },
    {
     "name": "stderr",
     "output_type": "stream",
     "text": [
      "eval_pred: 100%|██████████████████████████████████████████████████████████████████████| 15/15 [00:00<00:00, 216.12it/s]"
     ]
    },
    {
     "name": "stdout",
     "output_type": "stream",
     "text": [
      "\t eval rmse: 1.1863\n",
      "\t eval mae: 0.9216\n",
      "\t eval r2: -0.3291\n",
      "==============================\n"
     ]
    },
    {
     "name": "stderr",
     "output_type": "stream",
     "text": [
      "\n"
     ]
    },
    {
     "name": "stdout",
     "output_type": "stream",
     "text": [
      "Epoch 5 elapsed: 0.391s\n"
     ]
    },
    {
     "name": "stderr",
     "output_type": "stream",
     "text": [
      "eval_pred: 100%|██████████████████████████████████████████████████████████████████████| 15/15 [00:00<00:00, 244.35it/s]"
     ]
    },
    {
     "name": "stdout",
     "output_type": "stream",
     "text": [
      "\t eval rmse: 1.2000\n",
      "\t eval mae: 0.9293\n",
      "\t eval r2: -0.3600\n",
      "==============================\n"
     ]
    },
    {
     "name": "stderr",
     "output_type": "stream",
     "text": [
      "\n"
     ]
    },
    {
     "name": "stdout",
     "output_type": "stream",
     "text": [
      "Training start time: \u001b[35m2022-07-19 17:44:52\u001b[0m\n",
      "Epoch 1 elapsed: 0.423s\n"
     ]
    },
    {
     "name": "stderr",
     "output_type": "stream",
     "text": [
      "eval_pred: 100%|██████████████████████████████████████████████████████████████████████| 15/15 [00:00<00:00, 207.30it/s]"
     ]
    },
    {
     "name": "stdout",
     "output_type": "stream",
     "text": [
      "\t eval rmse: 1.1384\n",
      "\t eval mae: 0.9056\n",
      "\t eval r2: -0.2240\n",
      "==============================\n"
     ]
    },
    {
     "name": "stderr",
     "output_type": "stream",
     "text": [
      "\n"
     ]
    },
    {
     "name": "stdout",
     "output_type": "stream",
     "text": [
      "Epoch 2 elapsed: 0.403s\n"
     ]
    },
    {
     "name": "stderr",
     "output_type": "stream",
     "text": [
      "eval_pred: 100%|██████████████████████████████████████████████████████████████████████| 15/15 [00:00<00:00, 239.97it/s]"
     ]
    },
    {
     "name": "stdout",
     "output_type": "stream",
     "text": [
      "\t eval rmse: 1.1533\n",
      "\t eval mae: 0.9055\n",
      "\t eval r2: -0.2563\n",
      "==============================\n"
     ]
    },
    {
     "name": "stderr",
     "output_type": "stream",
     "text": [
      "\n"
     ]
    },
    {
     "name": "stdout",
     "output_type": "stream",
     "text": [
      "Epoch 3 elapsed: 0.427s\n"
     ]
    },
    {
     "name": "stderr",
     "output_type": "stream",
     "text": [
      "eval_pred: 100%|██████████████████████████████████████████████████████████████████████| 15/15 [00:00<00:00, 222.54it/s]"
     ]
    },
    {
     "name": "stdout",
     "output_type": "stream",
     "text": [
      "\t eval rmse: 1.1705\n",
      "\t eval mae: 0.9130\n",
      "\t eval r2: -0.2941\n",
      "==============================\n"
     ]
    },
    {
     "name": "stderr",
     "output_type": "stream",
     "text": [
      "\n"
     ]
    },
    {
     "name": "stdout",
     "output_type": "stream",
     "text": [
      "Epoch 4 elapsed: 0.406s\n"
     ]
    },
    {
     "name": "stderr",
     "output_type": "stream",
     "text": [
      "eval_pred: 100%|██████████████████████████████████████████████████████████████████████| 15/15 [00:00<00:00, 251.08it/s]"
     ]
    },
    {
     "name": "stdout",
     "output_type": "stream",
     "text": [
      "\t eval rmse: 1.1863\n",
      "\t eval mae: 0.9216\n",
      "\t eval r2: -0.3291\n",
      "==============================\n"
     ]
    },
    {
     "name": "stderr",
     "output_type": "stream",
     "text": [
      "\n"
     ]
    },
    {
     "name": "stdout",
     "output_type": "stream",
     "text": [
      "Epoch 5 elapsed: 0.406s\n"
     ]
    },
    {
     "name": "stderr",
     "output_type": "stream",
     "text": [
      "eval_pred: 100%|██████████████████████████████████████████████████████████████████████| 15/15 [00:00<00:00, 202.47it/s]"
     ]
    },
    {
     "name": "stdout",
     "output_type": "stream",
     "text": [
      "\t eval rmse: 1.2000\n",
      "\t eval mae: 0.9293\n",
      "\t eval r2: -0.3600\n",
      "==============================\n"
     ]
    },
    {
     "name": "stderr",
     "output_type": "stream",
     "text": [
      "\n"
     ]
    },
    {
     "name": "stdout",
     "output_type": "stream",
     "text": [
      "Training start time: \u001b[35m2022-07-19 17:44:55\u001b[0m\n",
      "Epoch 1 elapsed: 0.397s\n"
     ]
    },
    {
     "name": "stderr",
     "output_type": "stream",
     "text": [
      "eval_pred: 100%|██████████████████████████████████████████████████████████████████████| 15/15 [00:00<00:00, 235.62it/s]"
     ]
    },
    {
     "name": "stdout",
     "output_type": "stream",
     "text": [
      "\t eval rmse: 1.1384\n",
      "\t eval mae: 0.9056\n",
      "\t eval r2: -0.2240\n",
      "==============================\n"
     ]
    },
    {
     "name": "stderr",
     "output_type": "stream",
     "text": [
      "\n"
     ]
    },
    {
     "name": "stdout",
     "output_type": "stream",
     "text": [
      "Epoch 2 elapsed: 0.412s\n"
     ]
    },
    {
     "name": "stderr",
     "output_type": "stream",
     "text": [
      "eval_pred: 100%|██████████████████████████████████████████████████████████████████████| 15/15 [00:00<00:00, 237.22it/s]"
     ]
    },
    {
     "name": "stdout",
     "output_type": "stream",
     "text": [
      "\t eval rmse: 1.1533\n",
      "\t eval mae: 0.9055\n",
      "\t eval r2: -0.2563\n",
      "==============================\n"
     ]
    },
    {
     "name": "stderr",
     "output_type": "stream",
     "text": [
      "\n"
     ]
    },
    {
     "name": "stdout",
     "output_type": "stream",
     "text": [
      "Epoch 3 elapsed: 0.410s\n"
     ]
    },
    {
     "name": "stderr",
     "output_type": "stream",
     "text": [
      "eval_pred: 100%|██████████████████████████████████████████████████████████████████████| 15/15 [00:00<00:00, 230.70it/s]"
     ]
    },
    {
     "name": "stdout",
     "output_type": "stream",
     "text": [
      "\t eval rmse: 1.1705\n",
      "\t eval mae: 0.9130\n",
      "\t eval r2: -0.2941\n",
      "==============================\n"
     ]
    },
    {
     "name": "stderr",
     "output_type": "stream",
     "text": [
      "\n"
     ]
    },
    {
     "name": "stdout",
     "output_type": "stream",
     "text": [
      "Epoch 4 elapsed: 0.400s\n"
     ]
    },
    {
     "name": "stderr",
     "output_type": "stream",
     "text": [
      "eval_pred: 100%|██████████████████████████████████████████████████████████████████████| 15/15 [00:00<00:00, 217.95it/s]"
     ]
    },
    {
     "name": "stdout",
     "output_type": "stream",
     "text": [
      "\t eval rmse: 1.1863\n",
      "\t eval mae: 0.9216\n",
      "\t eval r2: -0.3291\n",
      "==============================\n"
     ]
    },
    {
     "name": "stderr",
     "output_type": "stream",
     "text": [
      "\n"
     ]
    },
    {
     "name": "stdout",
     "output_type": "stream",
     "text": [
      "Epoch 5 elapsed: 0.388s\n"
     ]
    },
    {
     "name": "stderr",
     "output_type": "stream",
     "text": [
      "eval_pred: 100%|██████████████████████████████████████████████████████████████████████| 15/15 [00:00<00:00, 245.87it/s]"
     ]
    },
    {
     "name": "stdout",
     "output_type": "stream",
     "text": [
      "\t eval rmse: 1.2000\n",
      "\t eval mae: 0.9293\n",
      "\t eval r2: -0.3600\n",
      "==============================\n"
     ]
    },
    {
     "name": "stderr",
     "output_type": "stream",
     "text": [
      "\n"
     ]
    },
    {
     "name": "stdout",
     "output_type": "stream",
     "text": [
      "Training start time: \u001b[35m2022-07-19 17:44:58\u001b[0m\n",
      "Epoch 1 elapsed: 0.348s\n"
     ]
    },
    {
     "name": "stderr",
     "output_type": "stream",
     "text": [
      "eval_pred: 100%|██████████████████████████████████████████████████████████████████████| 15/15 [00:00<00:00, 229.32it/s]"
     ]
    },
    {
     "name": "stdout",
     "output_type": "stream",
     "text": [
      "\t eval rmse: 1.1152\n",
      "\t eval mae: 0.8875\n",
      "\t eval r2: -0.1746\n",
      "==============================\n"
     ]
    },
    {
     "name": "stderr",
     "output_type": "stream",
     "text": [
      "\n"
     ]
    },
    {
     "name": "stdout",
     "output_type": "stream",
     "text": [
      "Epoch 2 elapsed: 0.409s\n"
     ]
    },
    {
     "name": "stderr",
     "output_type": "stream",
     "text": [
      "eval_pred: 100%|██████████████████████████████████████████████████████████████████████| 15/15 [00:00<00:00, 211.55it/s]"
     ]
    },
    {
     "name": "stdout",
     "output_type": "stream",
     "text": [
      "\t eval rmse: 1.1578\n",
      "\t eval mae: 0.9081\n",
      "\t eval r2: -0.2662\n",
      "==============================\n"
     ]
    },
    {
     "name": "stderr",
     "output_type": "stream",
     "text": [
      "\n"
     ]
    },
    {
     "name": "stdout",
     "output_type": "stream",
     "text": [
      "Epoch 3 elapsed: 0.421s\n"
     ]
    },
    {
     "name": "stderr",
     "output_type": "stream",
     "text": [
      "eval_pred: 100%|██████████████████████████████████████████████████████████████████████| 15/15 [00:00<00:00, 245.06it/s]"
     ]
    },
    {
     "name": "stdout",
     "output_type": "stream",
     "text": [
      "\t eval rmse: 1.1744\n",
      "\t eval mae: 0.9155\n",
      "\t eval r2: -0.3027\n",
      "==============================\n"
     ]
    },
    {
     "name": "stderr",
     "output_type": "stream",
     "text": [
      "\n"
     ]
    },
    {
     "name": "stdout",
     "output_type": "stream",
     "text": [
      "Epoch 4 elapsed: 0.405s\n"
     ]
    },
    {
     "name": "stderr",
     "output_type": "stream",
     "text": [
      "eval_pred: 100%|██████████████████████████████████████████████████████████████████████| 15/15 [00:00<00:00, 247.60it/s]"
     ]
    },
    {
     "name": "stdout",
     "output_type": "stream",
     "text": [
      "\t eval rmse: 1.1892\n",
      "\t eval mae: 0.9235\n",
      "\t eval r2: -0.3357\n",
      "==============================\n"
     ]
    },
    {
     "name": "stderr",
     "output_type": "stream",
     "text": [
      "\n"
     ]
    },
    {
     "name": "stdout",
     "output_type": "stream",
     "text": [
      "Epoch 5 elapsed: 0.413s\n"
     ]
    },
    {
     "name": "stderr",
     "output_type": "stream",
     "text": [
      "eval_pred: 100%|██████████████████████████████████████████████████████████████████████| 15/15 [00:00<00:00, 258.57it/s]"
     ]
    },
    {
     "name": "stdout",
     "output_type": "stream",
     "text": [
      "\t eval rmse: 1.2018\n",
      "\t eval mae: 0.9305\n",
      "\t eval r2: -0.3642\n",
      "==============================\n"
     ]
    },
    {
     "name": "stderr",
     "output_type": "stream",
     "text": [
      "\n"
     ]
    },
    {
     "name": "stdout",
     "output_type": "stream",
     "text": [
      "Training start time: \u001b[35m2022-07-19 17:45:01\u001b[0m\n",
      "Epoch 1 elapsed: 0.395s\n"
     ]
    },
    {
     "name": "stderr",
     "output_type": "stream",
     "text": [
      "eval_pred: 100%|██████████████████████████████████████████████████████████████████████| 15/15 [00:00<00:00, 222.29it/s]"
     ]
    },
    {
     "name": "stdout",
     "output_type": "stream",
     "text": [
      "\t eval rmse: 1.1152\n",
      "\t eval mae: 0.8875\n",
      "\t eval r2: -0.1746\n",
      "==============================\n"
     ]
    },
    {
     "name": "stderr",
     "output_type": "stream",
     "text": [
      "\n"
     ]
    },
    {
     "name": "stdout",
     "output_type": "stream",
     "text": [
      "Epoch 2 elapsed: 0.464s\n"
     ]
    },
    {
     "name": "stderr",
     "output_type": "stream",
     "text": [
      "eval_pred: 100%|██████████████████████████████████████████████████████████████████████| 15/15 [00:00<00:00, 188.99it/s]"
     ]
    },
    {
     "name": "stdout",
     "output_type": "stream",
     "text": [
      "\t eval rmse: 1.1578\n",
      "\t eval mae: 0.9081\n",
      "\t eval r2: -0.2662\n",
      "==============================\n"
     ]
    },
    {
     "name": "stderr",
     "output_type": "stream",
     "text": [
      "\n"
     ]
    },
    {
     "name": "stdout",
     "output_type": "stream",
     "text": [
      "Epoch 3 elapsed: 0.395s\n"
     ]
    },
    {
     "name": "stderr",
     "output_type": "stream",
     "text": [
      "eval_pred: 100%|██████████████████████████████████████████████████████████████████████| 15/15 [00:00<00:00, 233.98it/s]"
     ]
    },
    {
     "name": "stdout",
     "output_type": "stream",
     "text": [
      "\t eval rmse: 1.1744\n",
      "\t eval mae: 0.9155\n",
      "\t eval r2: -0.3027\n",
      "==============================\n"
     ]
    },
    {
     "name": "stderr",
     "output_type": "stream",
     "text": [
      "\n"
     ]
    },
    {
     "name": "stdout",
     "output_type": "stream",
     "text": [
      "Epoch 4 elapsed: 0.394s\n"
     ]
    },
    {
     "name": "stderr",
     "output_type": "stream",
     "text": [
      "eval_pred: 100%|██████████████████████████████████████████████████████████████████████| 15/15 [00:00<00:00, 218.78it/s]"
     ]
    },
    {
     "name": "stdout",
     "output_type": "stream",
     "text": [
      "\t eval rmse: 1.1892\n",
      "\t eval mae: 0.9235\n",
      "\t eval r2: -0.3357\n",
      "==============================\n"
     ]
    },
    {
     "name": "stderr",
     "output_type": "stream",
     "text": [
      "\n"
     ]
    },
    {
     "name": "stdout",
     "output_type": "stream",
     "text": [
      "Epoch 5 elapsed: 0.413s\n"
     ]
    },
    {
     "name": "stderr",
     "output_type": "stream",
     "text": [
      "eval_pred: 100%|██████████████████████████████████████████████████████████████████████| 15/15 [00:00<00:00, 222.50it/s]"
     ]
    },
    {
     "name": "stdout",
     "output_type": "stream",
     "text": [
      "\t eval rmse: 1.2018\n",
      "\t eval mae: 0.9305\n",
      "\t eval r2: -0.3642\n",
      "==============================\n"
     ]
    },
    {
     "name": "stderr",
     "output_type": "stream",
     "text": [
      "\n"
     ]
    },
    {
     "name": "stdout",
     "output_type": "stream",
     "text": [
      "Training start time: \u001b[35m2022-07-19 17:45:04\u001b[0m\n",
      "Epoch 1 elapsed: 0.414s\n"
     ]
    },
    {
     "name": "stderr",
     "output_type": "stream",
     "text": [
      "eval_pred: 100%|██████████████████████████████████████████████████████████████████████| 15/15 [00:00<00:00, 191.45it/s]"
     ]
    },
    {
     "name": "stdout",
     "output_type": "stream",
     "text": [
      "\t eval rmse: 1.1152\n",
      "\t eval mae: 0.8875\n",
      "\t eval r2: -0.1746\n",
      "==============================\n"
     ]
    },
    {
     "name": "stderr",
     "output_type": "stream",
     "text": [
      "\n"
     ]
    },
    {
     "name": "stdout",
     "output_type": "stream",
     "text": [
      "Epoch 2 elapsed: 0.438s\n"
     ]
    },
    {
     "name": "stderr",
     "output_type": "stream",
     "text": [
      "eval_pred: 100%|██████████████████████████████████████████████████████████████████████| 15/15 [00:00<00:00, 196.46it/s]"
     ]
    },
    {
     "name": "stdout",
     "output_type": "stream",
     "text": [
      "\t eval rmse: 1.1578\n",
      "\t eval mae: 0.9081\n",
      "\t eval r2: -0.2662\n",
      "==============================\n"
     ]
    },
    {
     "name": "stderr",
     "output_type": "stream",
     "text": [
      "\n"
     ]
    },
    {
     "name": "stdout",
     "output_type": "stream",
     "text": [
      "Epoch 3 elapsed: 0.449s\n"
     ]
    },
    {
     "name": "stderr",
     "output_type": "stream",
     "text": [
      "eval_pred: 100%|██████████████████████████████████████████████████████████████████████| 15/15 [00:00<00:00, 184.18it/s]"
     ]
    },
    {
     "name": "stdout",
     "output_type": "stream",
     "text": [
      "\t eval rmse: 1.1744\n",
      "\t eval mae: 0.9155\n",
      "\t eval r2: -0.3027\n",
      "==============================\n"
     ]
    },
    {
     "name": "stderr",
     "output_type": "stream",
     "text": [
      "\n"
     ]
    },
    {
     "name": "stdout",
     "output_type": "stream",
     "text": [
      "Epoch 4 elapsed: 0.455s\n"
     ]
    },
    {
     "name": "stderr",
     "output_type": "stream",
     "text": [
      "eval_pred: 100%|██████████████████████████████████████████████████████████████████████| 15/15 [00:00<00:00, 259.32it/s]"
     ]
    },
    {
     "name": "stdout",
     "output_type": "stream",
     "text": [
      "\t eval rmse: 1.1892\n",
      "\t eval mae: 0.9235\n",
      "\t eval r2: -0.3357\n",
      "==============================\n"
     ]
    },
    {
     "name": "stderr",
     "output_type": "stream",
     "text": [
      "\n"
     ]
    },
    {
     "name": "stdout",
     "output_type": "stream",
     "text": [
      "Epoch 5 elapsed: 0.417s\n"
     ]
    },
    {
     "name": "stderr",
     "output_type": "stream",
     "text": [
      "eval_pred: 100%|██████████████████████████████████████████████████████████████████████| 15/15 [00:00<00:00, 259.29it/s]"
     ]
    },
    {
     "name": "stdout",
     "output_type": "stream",
     "text": [
      "\t eval rmse: 1.2018\n",
      "\t eval mae: 0.9305\n",
      "\t eval r2: -0.3642\n",
      "==============================\n"
     ]
    },
    {
     "name": "stderr",
     "output_type": "stream",
     "text": [
      "\n"
     ]
    },
    {
     "name": "stdout",
     "output_type": "stream",
     "text": [
      "Training start time: \u001b[35m2022-07-19 17:45:07\u001b[0m\n",
      "Epoch 1 elapsed: 0.399s\n"
     ]
    },
    {
     "name": "stderr",
     "output_type": "stream",
     "text": [
      "eval_pred: 100%|██████████████████████████████████████████████████████████████████████| 15/15 [00:00<00:00, 270.54it/s]"
     ]
    },
    {
     "name": "stdout",
     "output_type": "stream",
     "text": [
      "\t eval rmse: 1.1152\n",
      "\t eval mae: 0.8875\n",
      "\t eval r2: -0.1746\n",
      "==============================\n"
     ]
    },
    {
     "name": "stderr",
     "output_type": "stream",
     "text": [
      "\n"
     ]
    },
    {
     "name": "stdout",
     "output_type": "stream",
     "text": [
      "Epoch 2 elapsed: 0.423s\n"
     ]
    },
    {
     "name": "stderr",
     "output_type": "stream",
     "text": [
      "eval_pred: 100%|██████████████████████████████████████████████████████████████████████| 15/15 [00:00<00:00, 224.47it/s]"
     ]
    },
    {
     "name": "stdout",
     "output_type": "stream",
     "text": [
      "\t eval rmse: 1.1578\n",
      "\t eval mae: 0.9081\n",
      "\t eval r2: -0.2662\n",
      "==============================\n"
     ]
    },
    {
     "name": "stderr",
     "output_type": "stream",
     "text": [
      "\n"
     ]
    },
    {
     "name": "stdout",
     "output_type": "stream",
     "text": [
      "Epoch 3 elapsed: 0.401s\n"
     ]
    },
    {
     "name": "stderr",
     "output_type": "stream",
     "text": [
      "eval_pred: 100%|██████████████████████████████████████████████████████████████████████| 15/15 [00:00<00:00, 263.86it/s]"
     ]
    },
    {
     "name": "stdout",
     "output_type": "stream",
     "text": [
      "\t eval rmse: 1.1744\n",
      "\t eval mae: 0.9155\n",
      "\t eval r2: -0.3027\n",
      "==============================\n"
     ]
    },
    {
     "name": "stderr",
     "output_type": "stream",
     "text": [
      "\n"
     ]
    },
    {
     "name": "stdout",
     "output_type": "stream",
     "text": [
      "Epoch 4 elapsed: 0.411s\n"
     ]
    },
    {
     "name": "stderr",
     "output_type": "stream",
     "text": [
      "eval_pred: 100%|██████████████████████████████████████████████████████████████████████| 15/15 [00:00<00:00, 273.46it/s]"
     ]
    },
    {
     "name": "stdout",
     "output_type": "stream",
     "text": [
      "\t eval rmse: 1.1892\n",
      "\t eval mae: 0.9235\n",
      "\t eval r2: -0.3357\n",
      "==============================\n"
     ]
    },
    {
     "name": "stderr",
     "output_type": "stream",
     "text": [
      "\n"
     ]
    },
    {
     "name": "stdout",
     "output_type": "stream",
     "text": [
      "Epoch 5 elapsed: 0.435s\n"
     ]
    },
    {
     "name": "stderr",
     "output_type": "stream",
     "text": [
      "eval_pred: 100%|██████████████████████████████████████████████████████████████████████| 15/15 [00:00<00:00, 207.49it/s]"
     ]
    },
    {
     "name": "stdout",
     "output_type": "stream",
     "text": [
      "\t eval rmse: 1.2018\n",
      "\t eval mae: 0.9305\n",
      "\t eval r2: -0.3642\n",
      "==============================\n"
     ]
    },
    {
     "name": "stderr",
     "output_type": "stream",
     "text": [
      "\n"
     ]
    },
    {
     "name": "stdout",
     "output_type": "stream",
     "text": [
      "Training start time: \u001b[35m2022-07-19 17:45:10\u001b[0m\n",
      "Epoch 1 elapsed: 0.394s\n"
     ]
    },
    {
     "name": "stderr",
     "output_type": "stream",
     "text": [
      "eval_pred: 100%|██████████████████████████████████████████████████████████████████████| 15/15 [00:00<00:00, 205.03it/s]"
     ]
    },
    {
     "name": "stdout",
     "output_type": "stream",
     "text": [
      "\t eval rmse: 1.1152\n",
      "\t eval mae: 0.8875\n",
      "\t eval r2: -0.1746\n",
      "==============================\n"
     ]
    },
    {
     "name": "stderr",
     "output_type": "stream",
     "text": [
      "\n"
     ]
    },
    {
     "name": "stdout",
     "output_type": "stream",
     "text": [
      "Epoch 2 elapsed: 0.444s\n"
     ]
    },
    {
     "name": "stderr",
     "output_type": "stream",
     "text": [
      "eval_pred: 100%|██████████████████████████████████████████████████████████████████████| 15/15 [00:00<00:00, 236.31it/s]"
     ]
    },
    {
     "name": "stdout",
     "output_type": "stream",
     "text": [
      "\t eval rmse: 1.1578\n",
      "\t eval mae: 0.9081\n",
      "\t eval r2: -0.2662\n",
      "==============================\n"
     ]
    },
    {
     "name": "stderr",
     "output_type": "stream",
     "text": [
      "\n"
     ]
    },
    {
     "name": "stdout",
     "output_type": "stream",
     "text": [
      "Epoch 3 elapsed: 0.409s\n"
     ]
    },
    {
     "name": "stderr",
     "output_type": "stream",
     "text": [
      "eval_pred: 100%|██████████████████████████████████████████████████████████████████████| 15/15 [00:00<00:00, 216.91it/s]"
     ]
    },
    {
     "name": "stdout",
     "output_type": "stream",
     "text": [
      "\t eval rmse: 1.1744\n",
      "\t eval mae: 0.9155\n",
      "\t eval r2: -0.3027\n",
      "==============================\n"
     ]
    },
    {
     "name": "stderr",
     "output_type": "stream",
     "text": [
      "\n"
     ]
    },
    {
     "name": "stdout",
     "output_type": "stream",
     "text": [
      "Epoch 4 elapsed: 0.367s\n"
     ]
    },
    {
     "name": "stderr",
     "output_type": "stream",
     "text": [
      "eval_pred: 100%|██████████████████████████████████████████████████████████████████████| 15/15 [00:00<00:00, 213.31it/s]"
     ]
    },
    {
     "name": "stdout",
     "output_type": "stream",
     "text": [
      "\t eval rmse: 1.1892\n",
      "\t eval mae: 0.9235\n",
      "\t eval r2: -0.3357\n",
      "==============================\n"
     ]
    },
    {
     "name": "stderr",
     "output_type": "stream",
     "text": [
      "\n"
     ]
    },
    {
     "name": "stdout",
     "output_type": "stream",
     "text": [
      "Epoch 5 elapsed: 0.382s\n"
     ]
    },
    {
     "name": "stderr",
     "output_type": "stream",
     "text": [
      "eval_pred: 100%|██████████████████████████████████████████████████████████████████████| 15/15 [00:00<00:00, 235.00it/s]"
     ]
    },
    {
     "name": "stdout",
     "output_type": "stream",
     "text": [
      "\t eval rmse: 1.2018\n",
      "\t eval mae: 0.9305\n",
      "\t eval r2: -0.3642\n",
      "==============================\n"
     ]
    },
    {
     "name": "stderr",
     "output_type": "stream",
     "text": [
      "\n"
     ]
    },
    {
     "name": "stdout",
     "output_type": "stream",
     "text": [
      "Training start time: \u001b[35m2022-07-19 17:45:13\u001b[0m\n",
      "Epoch 1 elapsed: 0.393s\n"
     ]
    },
    {
     "name": "stderr",
     "output_type": "stream",
     "text": [
      "eval_pred: 100%|██████████████████████████████████████████████████████████████████████| 15/15 [00:00<00:00, 221.73it/s]"
     ]
    },
    {
     "name": "stdout",
     "output_type": "stream",
     "text": [
      "\t eval rmse: 1.1081\n",
      "\t eval mae: 0.8823\n",
      "\t eval r2: -0.1598\n",
      "==============================\n"
     ]
    },
    {
     "name": "stderr",
     "output_type": "stream",
     "text": [
      "\n"
     ]
    },
    {
     "name": "stdout",
     "output_type": "stream",
     "text": [
      "Epoch 2 elapsed: 0.383s\n"
     ]
    },
    {
     "name": "stderr",
     "output_type": "stream",
     "text": [
      "eval_pred: 100%|██████████████████████████████████████████████████████████████████████| 15/15 [00:00<00:00, 208.60it/s]"
     ]
    },
    {
     "name": "stdout",
     "output_type": "stream",
     "text": [
      "\t eval rmse: 1.1641\n",
      "\t eval mae: 0.9126\n",
      "\t eval r2: -0.2799\n",
      "==============================\n"
     ]
    },
    {
     "name": "stderr",
     "output_type": "stream",
     "text": [
      "\n"
     ]
    },
    {
     "name": "stdout",
     "output_type": "stream",
     "text": [
      "Epoch 3 elapsed: 0.407s\n"
     ]
    },
    {
     "name": "stderr",
     "output_type": "stream",
     "text": [
      "eval_pred: 100%|██████████████████████████████████████████████████████████████████████| 15/15 [00:00<00:00, 262.17it/s]"
     ]
    },
    {
     "name": "stdout",
     "output_type": "stream",
     "text": [
      "\t eval rmse: 1.1786\n",
      "\t eval mae: 0.9183\n",
      "\t eval r2: -0.3121\n",
      "==============================\n"
     ]
    },
    {
     "name": "stderr",
     "output_type": "stream",
     "text": [
      "\n"
     ]
    },
    {
     "name": "stdout",
     "output_type": "stream",
     "text": [
      "Epoch 4 elapsed: 0.390s\n"
     ]
    },
    {
     "name": "stderr",
     "output_type": "stream",
     "text": [
      "eval_pred: 100%|██████████████████████████████████████████████████████████████████████| 15/15 [00:00<00:00, 244.70it/s]"
     ]
    },
    {
     "name": "stdout",
     "output_type": "stream",
     "text": [
      "\t eval rmse: 1.1910\n",
      "\t eval mae: 0.9245\n",
      "\t eval r2: -0.3398\n",
      "==============================\n"
     ]
    },
    {
     "name": "stderr",
     "output_type": "stream",
     "text": [
      "\n"
     ]
    },
    {
     "name": "stdout",
     "output_type": "stream",
     "text": [
      "Epoch 5 elapsed: 0.389s\n"
     ]
    },
    {
     "name": "stderr",
     "output_type": "stream",
     "text": [
      "eval_pred: 100%|██████████████████████████████████████████████████████████████████████| 15/15 [00:00<00:00, 232.30it/s]"
     ]
    },
    {
     "name": "stdout",
     "output_type": "stream",
     "text": [
      "\t eval rmse: 1.2012\n",
      "\t eval mae: 0.9298\n",
      "\t eval r2: -0.3627\n",
      "==============================\n"
     ]
    },
    {
     "name": "stderr",
     "output_type": "stream",
     "text": [
      "\n"
     ]
    },
    {
     "name": "stdout",
     "output_type": "stream",
     "text": [
      "Training start time: \u001b[35m2022-07-19 17:45:16\u001b[0m\n",
      "Epoch 1 elapsed: 0.402s\n"
     ]
    },
    {
     "name": "stderr",
     "output_type": "stream",
     "text": [
      "eval_pred: 100%|██████████████████████████████████████████████████████████████████████| 15/15 [00:00<00:00, 213.90it/s]"
     ]
    },
    {
     "name": "stdout",
     "output_type": "stream",
     "text": [
      "\t eval rmse: 1.1081\n",
      "\t eval mae: 0.8823\n",
      "\t eval r2: -0.1598\n",
      "==============================\n"
     ]
    },
    {
     "name": "stderr",
     "output_type": "stream",
     "text": [
      "\n"
     ]
    },
    {
     "name": "stdout",
     "output_type": "stream",
     "text": [
      "Epoch 2 elapsed: 0.403s\n"
     ]
    },
    {
     "name": "stderr",
     "output_type": "stream",
     "text": [
      "eval_pred: 100%|██████████████████████████████████████████████████████████████████████| 15/15 [00:00<00:00, 205.97it/s]"
     ]
    },
    {
     "name": "stdout",
     "output_type": "stream",
     "text": [
      "\t eval rmse: 1.1641\n",
      "\t eval mae: 0.9126\n",
      "\t eval r2: -0.2799\n",
      "==============================\n"
     ]
    },
    {
     "name": "stderr",
     "output_type": "stream",
     "text": [
      "\n"
     ]
    },
    {
     "name": "stdout",
     "output_type": "stream",
     "text": [
      "Epoch 3 elapsed: 0.368s\n"
     ]
    },
    {
     "name": "stderr",
     "output_type": "stream",
     "text": [
      "eval_pred: 100%|██████████████████████████████████████████████████████████████████████| 15/15 [00:00<00:00, 253.33it/s]"
     ]
    },
    {
     "name": "stdout",
     "output_type": "stream",
     "text": [
      "\t eval rmse: 1.1786\n",
      "\t eval mae: 0.9183\n",
      "\t eval r2: -0.3121\n",
      "==============================\n"
     ]
    },
    {
     "name": "stderr",
     "output_type": "stream",
     "text": [
      "\n"
     ]
    },
    {
     "name": "stdout",
     "output_type": "stream",
     "text": [
      "Epoch 4 elapsed: 0.400s\n"
     ]
    },
    {
     "name": "stderr",
     "output_type": "stream",
     "text": [
      "eval_pred: 100%|██████████████████████████████████████████████████████████████████████| 15/15 [00:00<00:00, 256.35it/s]"
     ]
    },
    {
     "name": "stdout",
     "output_type": "stream",
     "text": [
      "\t eval rmse: 1.1910\n",
      "\t eval mae: 0.9245\n",
      "\t eval r2: -0.3398\n",
      "==============================\n"
     ]
    },
    {
     "name": "stderr",
     "output_type": "stream",
     "text": [
      "\n"
     ]
    },
    {
     "name": "stdout",
     "output_type": "stream",
     "text": [
      "Epoch 5 elapsed: 0.385s\n"
     ]
    },
    {
     "name": "stderr",
     "output_type": "stream",
     "text": [
      "eval_pred: 100%|██████████████████████████████████████████████████████████████████████| 15/15 [00:00<00:00, 219.79it/s]"
     ]
    },
    {
     "name": "stdout",
     "output_type": "stream",
     "text": [
      "\t eval rmse: 1.2012\n",
      "\t eval mae: 0.9298\n",
      "\t eval r2: -0.3627\n",
      "==============================\n"
     ]
    },
    {
     "name": "stderr",
     "output_type": "stream",
     "text": [
      "\n"
     ]
    },
    {
     "name": "stdout",
     "output_type": "stream",
     "text": [
      "Training start time: \u001b[35m2022-07-19 17:45:19\u001b[0m\n",
      "Epoch 1 elapsed: 0.442s\n"
     ]
    },
    {
     "name": "stderr",
     "output_type": "stream",
     "text": [
      "eval_pred: 100%|██████████████████████████████████████████████████████████████████████| 15/15 [00:00<00:00, 193.90it/s]"
     ]
    },
    {
     "name": "stdout",
     "output_type": "stream",
     "text": [
      "\t eval rmse: 1.1081\n",
      "\t eval mae: 0.8823\n",
      "\t eval r2: -0.1598\n",
      "==============================\n"
     ]
    },
    {
     "name": "stderr",
     "output_type": "stream",
     "text": [
      "\n"
     ]
    },
    {
     "name": "stdout",
     "output_type": "stream",
     "text": [
      "Epoch 2 elapsed: 0.411s\n"
     ]
    },
    {
     "name": "stderr",
     "output_type": "stream",
     "text": [
      "eval_pred: 100%|██████████████████████████████████████████████████████████████████████| 15/15 [00:00<00:00, 209.52it/s]"
     ]
    },
    {
     "name": "stdout",
     "output_type": "stream",
     "text": [
      "\t eval rmse: 1.1641\n",
      "\t eval mae: 0.9126\n",
      "\t eval r2: -0.2799\n",
      "==============================\n"
     ]
    },
    {
     "name": "stderr",
     "output_type": "stream",
     "text": [
      "\n"
     ]
    },
    {
     "name": "stdout",
     "output_type": "stream",
     "text": [
      "Epoch 3 elapsed: 0.419s\n"
     ]
    },
    {
     "name": "stderr",
     "output_type": "stream",
     "text": [
      "eval_pred: 100%|██████████████████████████████████████████████████████████████████████| 15/15 [00:00<00:00, 231.29it/s]"
     ]
    },
    {
     "name": "stdout",
     "output_type": "stream",
     "text": [
      "\t eval rmse: 1.1786\n",
      "\t eval mae: 0.9183\n",
      "\t eval r2: -0.3121\n",
      "==============================\n"
     ]
    },
    {
     "name": "stderr",
     "output_type": "stream",
     "text": [
      "\n"
     ]
    },
    {
     "name": "stdout",
     "output_type": "stream",
     "text": [
      "Epoch 4 elapsed: 0.427s\n"
     ]
    },
    {
     "name": "stderr",
     "output_type": "stream",
     "text": [
      "eval_pred: 100%|██████████████████████████████████████████████████████████████████████| 15/15 [00:00<00:00, 202.49it/s]"
     ]
    },
    {
     "name": "stdout",
     "output_type": "stream",
     "text": [
      "\t eval rmse: 1.1910\n",
      "\t eval mae: 0.9245\n",
      "\t eval r2: -0.3398\n",
      "==============================\n"
     ]
    },
    {
     "name": "stderr",
     "output_type": "stream",
     "text": [
      "\n"
     ]
    },
    {
     "name": "stdout",
     "output_type": "stream",
     "text": [
      "Epoch 5 elapsed: 0.425s\n"
     ]
    },
    {
     "name": "stderr",
     "output_type": "stream",
     "text": [
      "eval_pred: 100%|██████████████████████████████████████████████████████████████████████| 15/15 [00:00<00:00, 238.83it/s]"
     ]
    },
    {
     "name": "stdout",
     "output_type": "stream",
     "text": [
      "\t eval rmse: 1.2012\n",
      "\t eval mae: 0.9298\n",
      "\t eval r2: -0.3627\n",
      "==============================\n"
     ]
    },
    {
     "name": "stderr",
     "output_type": "stream",
     "text": [
      "\n"
     ]
    },
    {
     "name": "stdout",
     "output_type": "stream",
     "text": [
      "Training start time: \u001b[35m2022-07-19 17:45:22\u001b[0m\n",
      "Epoch 1 elapsed: 0.382s\n"
     ]
    },
    {
     "name": "stderr",
     "output_type": "stream",
     "text": [
      "eval_pred: 100%|██████████████████████████████████████████████████████████████████████| 15/15 [00:00<00:00, 260.89it/s]"
     ]
    },
    {
     "name": "stdout",
     "output_type": "stream",
     "text": [
      "\t eval rmse: 1.1081\n",
      "\t eval mae: 0.8823\n",
      "\t eval r2: -0.1598\n",
      "==============================\n"
     ]
    },
    {
     "name": "stderr",
     "output_type": "stream",
     "text": [
      "\n"
     ]
    },
    {
     "name": "stdout",
     "output_type": "stream",
     "text": [
      "Epoch 2 elapsed: 0.445s\n"
     ]
    },
    {
     "name": "stderr",
     "output_type": "stream",
     "text": [
      "eval_pred: 100%|██████████████████████████████████████████████████████████████████████| 15/15 [00:00<00:00, 218.11it/s]"
     ]
    },
    {
     "name": "stdout",
     "output_type": "stream",
     "text": [
      "\t eval rmse: 1.1641\n",
      "\t eval mae: 0.9126\n",
      "\t eval r2: -0.2799\n",
      "==============================\n"
     ]
    },
    {
     "name": "stderr",
     "output_type": "stream",
     "text": [
      "\n"
     ]
    },
    {
     "name": "stdout",
     "output_type": "stream",
     "text": [
      "Epoch 3 elapsed: 0.440s\n"
     ]
    },
    {
     "name": "stderr",
     "output_type": "stream",
     "text": [
      "eval_pred: 100%|██████████████████████████████████████████████████████████████████████| 15/15 [00:00<00:00, 222.03it/s]"
     ]
    },
    {
     "name": "stdout",
     "output_type": "stream",
     "text": [
      "\t eval rmse: 1.1786\n",
      "\t eval mae: 0.9183\n",
      "\t eval r2: -0.3121\n",
      "==============================\n"
     ]
    },
    {
     "name": "stderr",
     "output_type": "stream",
     "text": [
      "\n"
     ]
    },
    {
     "name": "stdout",
     "output_type": "stream",
     "text": [
      "Epoch 4 elapsed: 0.376s\n"
     ]
    },
    {
     "name": "stderr",
     "output_type": "stream",
     "text": [
      "eval_pred: 100%|██████████████████████████████████████████████████████████████████████| 15/15 [00:00<00:00, 239.63it/s]"
     ]
    },
    {
     "name": "stdout",
     "output_type": "stream",
     "text": [
      "\t eval rmse: 1.1910\n",
      "\t eval mae: 0.9245\n",
      "\t eval r2: -0.3398\n",
      "==============================\n"
     ]
    },
    {
     "name": "stderr",
     "output_type": "stream",
     "text": [
      "\n"
     ]
    },
    {
     "name": "stdout",
     "output_type": "stream",
     "text": [
      "Epoch 5 elapsed: 0.412s\n"
     ]
    },
    {
     "name": "stderr",
     "output_type": "stream",
     "text": [
      "eval_pred: 100%|██████████████████████████████████████████████████████████████████████| 15/15 [00:00<00:00, 215.67it/s]"
     ]
    },
    {
     "name": "stdout",
     "output_type": "stream",
     "text": [
      "\t eval rmse: 1.2012\n",
      "\t eval mae: 0.9298\n",
      "\t eval r2: -0.3627\n",
      "==============================\n"
     ]
    },
    {
     "name": "stderr",
     "output_type": "stream",
     "text": [
      "\n"
     ]
    },
    {
     "name": "stdout",
     "output_type": "stream",
     "text": [
      "Training start time: \u001b[35m2022-07-19 17:45:25\u001b[0m\n",
      "Epoch 1 elapsed: 0.397s\n"
     ]
    },
    {
     "name": "stderr",
     "output_type": "stream",
     "text": [
      "eval_pred: 100%|██████████████████████████████████████████████████████████████████████| 15/15 [00:00<00:00, 260.77it/s]"
     ]
    },
    {
     "name": "stdout",
     "output_type": "stream",
     "text": [
      "\t eval rmse: 1.1081\n",
      "\t eval mae: 0.8823\n",
      "\t eval r2: -0.1598\n",
      "==============================\n"
     ]
    },
    {
     "name": "stderr",
     "output_type": "stream",
     "text": [
      "\n"
     ]
    },
    {
     "name": "stdout",
     "output_type": "stream",
     "text": [
      "Epoch 2 elapsed: 0.404s\n"
     ]
    },
    {
     "name": "stderr",
     "output_type": "stream",
     "text": [
      "eval_pred: 100%|██████████████████████████████████████████████████████████████████████| 15/15 [00:00<00:00, 267.62it/s]"
     ]
    },
    {
     "name": "stdout",
     "output_type": "stream",
     "text": [
      "\t eval rmse: 1.1641\n",
      "\t eval mae: 0.9126\n",
      "\t eval r2: -0.2799\n",
      "==============================\n"
     ]
    },
    {
     "name": "stderr",
     "output_type": "stream",
     "text": [
      "\n"
     ]
    },
    {
     "name": "stdout",
     "output_type": "stream",
     "text": [
      "Epoch 3 elapsed: 0.390s\n"
     ]
    },
    {
     "name": "stderr",
     "output_type": "stream",
     "text": [
      "eval_pred: 100%|██████████████████████████████████████████████████████████████████████| 15/15 [00:00<00:00, 220.86it/s]"
     ]
    },
    {
     "name": "stdout",
     "output_type": "stream",
     "text": [
      "\t eval rmse: 1.1786\n",
      "\t eval mae: 0.9183\n",
      "\t eval r2: -0.3121\n",
      "==============================\n"
     ]
    },
    {
     "name": "stderr",
     "output_type": "stream",
     "text": [
      "\n"
     ]
    },
    {
     "name": "stdout",
     "output_type": "stream",
     "text": [
      "Epoch 4 elapsed: 0.429s\n"
     ]
    },
    {
     "name": "stderr",
     "output_type": "stream",
     "text": [
      "eval_pred: 100%|██████████████████████████████████████████████████████████████████████| 15/15 [00:00<00:00, 268.57it/s]"
     ]
    },
    {
     "name": "stdout",
     "output_type": "stream",
     "text": [
      "\t eval rmse: 1.1910\n",
      "\t eval mae: 0.9245\n",
      "\t eval r2: -0.3398\n",
      "==============================\n"
     ]
    },
    {
     "name": "stderr",
     "output_type": "stream",
     "text": [
      "\n"
     ]
    },
    {
     "name": "stdout",
     "output_type": "stream",
     "text": [
      "Epoch 5 elapsed: 0.431s\n"
     ]
    },
    {
     "name": "stderr",
     "output_type": "stream",
     "text": [
      "eval_pred: 100%|██████████████████████████████████████████████████████████████████████| 15/15 [00:00<00:00, 268.59it/s]"
     ]
    },
    {
     "name": "stdout",
     "output_type": "stream",
     "text": [
      "\t eval rmse: 1.2012\n",
      "\t eval mae: 0.9298\n",
      "\t eval r2: -0.3627\n",
      "==============================\n"
     ]
    },
    {
     "name": "stderr",
     "output_type": "stream",
     "text": [
      "\n"
     ]
    },
    {
     "name": "stdout",
     "output_type": "stream",
     "text": [
      "Training start time: \u001b[35m2022-07-19 17:45:28\u001b[0m\n",
      "Epoch 1 elapsed: 0.416s\n"
     ]
    },
    {
     "name": "stderr",
     "output_type": "stream",
     "text": [
      "eval_pred: 100%|██████████████████████████████████████████████████████████████████████| 15/15 [00:00<00:00, 233.96it/s]"
     ]
    },
    {
     "name": "stdout",
     "output_type": "stream",
     "text": [
      "\t eval rmse: 1.0461\n",
      "\t eval mae: 0.8433\n",
      "\t eval r2: -0.0337\n",
      "==============================\n"
     ]
    },
    {
     "name": "stderr",
     "output_type": "stream",
     "text": [
      "\n"
     ]
    },
    {
     "name": "stdout",
     "output_type": "stream",
     "text": [
      "Epoch 2 elapsed: 0.434s\n"
     ]
    },
    {
     "name": "stderr",
     "output_type": "stream",
     "text": [
      "eval_pred: 100%|██████████████████████████████████████████████████████████████████████| 15/15 [00:00<00:00, 283.78it/s]"
     ]
    },
    {
     "name": "stdout",
     "output_type": "stream",
     "text": [
      "\t eval rmse: 1.1167\n",
      "\t eval mae: 0.8789\n",
      "\t eval r2: -0.1778\n",
      "==============================\n"
     ]
    },
    {
     "name": "stderr",
     "output_type": "stream",
     "text": [
      "\n"
     ]
    },
    {
     "name": "stdout",
     "output_type": "stream",
     "text": [
      "Epoch 3 elapsed: 0.395s\n"
     ]
    },
    {
     "name": "stderr",
     "output_type": "stream",
     "text": [
      "eval_pred: 100%|██████████████████████████████████████████████████████████████████████| 15/15 [00:00<00:00, 263.85it/s]"
     ]
    },
    {
     "name": "stdout",
     "output_type": "stream",
     "text": [
      "\t eval rmse: 1.1228\n",
      "\t eval mae: 0.8788\n",
      "\t eval r2: -0.1907\n",
      "==============================\n"
     ]
    },
    {
     "name": "stderr",
     "output_type": "stream",
     "text": [
      "\n"
     ]
    },
    {
     "name": "stdout",
     "output_type": "stream",
     "text": [
      "Epoch 4 elapsed: 0.441s\n"
     ]
    },
    {
     "name": "stderr",
     "output_type": "stream",
     "text": [
      "eval_pred: 100%|██████████████████████████████████████████████████████████████████████| 15/15 [00:00<00:00, 273.45it/s]"
     ]
    },
    {
     "name": "stdout",
     "output_type": "stream",
     "text": [
      "\t eval rmse: 1.1266\n",
      "\t eval mae: 0.8793\n",
      "\t eval r2: -0.1987\n",
      "==============================\n"
     ]
    },
    {
     "name": "stderr",
     "output_type": "stream",
     "text": [
      "\n"
     ]
    },
    {
     "name": "stdout",
     "output_type": "stream",
     "text": [
      "Epoch 5 elapsed: 0.421s\n"
     ]
    },
    {
     "name": "stderr",
     "output_type": "stream",
     "text": [
      "eval_pred: 100%|██████████████████████████████████████████████████████████████████████| 15/15 [00:00<00:00, 259.97it/s]"
     ]
    },
    {
     "name": "stdout",
     "output_type": "stream",
     "text": [
      "\t eval rmse: 1.1291\n",
      "\t eval mae: 0.8797\n",
      "\t eval r2: -0.2041\n",
      "==============================\n"
     ]
    },
    {
     "name": "stderr",
     "output_type": "stream",
     "text": [
      "\n"
     ]
    },
    {
     "name": "stdout",
     "output_type": "stream",
     "text": [
      "Training start time: \u001b[35m2022-07-19 17:45:31\u001b[0m\n",
      "Epoch 1 elapsed: 0.382s\n"
     ]
    },
    {
     "name": "stderr",
     "output_type": "stream",
     "text": [
      "eval_pred: 100%|██████████████████████████████████████████████████████████████████████| 15/15 [00:00<00:00, 246.56it/s]"
     ]
    },
    {
     "name": "stdout",
     "output_type": "stream",
     "text": [
      "\t eval rmse: 1.0461\n",
      "\t eval mae: 0.8433\n",
      "\t eval r2: -0.0337\n",
      "==============================\n"
     ]
    },
    {
     "name": "stderr",
     "output_type": "stream",
     "text": [
      "\n"
     ]
    },
    {
     "name": "stdout",
     "output_type": "stream",
     "text": [
      "Epoch 2 elapsed: 0.440s\n"
     ]
    },
    {
     "name": "stderr",
     "output_type": "stream",
     "text": [
      "eval_pred: 100%|██████████████████████████████████████████████████████████████████████| 15/15 [00:00<00:00, 215.37it/s]"
     ]
    },
    {
     "name": "stdout",
     "output_type": "stream",
     "text": [
      "\t eval rmse: 1.1167\n",
      "\t eval mae: 0.8789\n",
      "\t eval r2: -0.1778\n",
      "==============================\n"
     ]
    },
    {
     "name": "stderr",
     "output_type": "stream",
     "text": [
      "\n"
     ]
    },
    {
     "name": "stdout",
     "output_type": "stream",
     "text": [
      "Epoch 3 elapsed: 0.439s\n"
     ]
    },
    {
     "name": "stderr",
     "output_type": "stream",
     "text": [
      "eval_pred: 100%|██████████████████████████████████████████████████████████████████████| 15/15 [00:00<00:00, 237.75it/s]"
     ]
    },
    {
     "name": "stdout",
     "output_type": "stream",
     "text": [
      "\t eval rmse: 1.1228\n",
      "\t eval mae: 0.8788\n",
      "\t eval r2: -0.1907\n",
      "==============================\n"
     ]
    },
    {
     "name": "stderr",
     "output_type": "stream",
     "text": [
      "\n"
     ]
    },
    {
     "name": "stdout",
     "output_type": "stream",
     "text": [
      "Epoch 4 elapsed: 0.436s\n"
     ]
    },
    {
     "name": "stderr",
     "output_type": "stream",
     "text": [
      "eval_pred: 100%|██████████████████████████████████████████████████████████████████████| 15/15 [00:00<00:00, 219.94it/s]"
     ]
    },
    {
     "name": "stdout",
     "output_type": "stream",
     "text": [
      "\t eval rmse: 1.1266\n",
      "\t eval mae: 0.8793\n",
      "\t eval r2: -0.1987\n",
      "==============================\n"
     ]
    },
    {
     "name": "stderr",
     "output_type": "stream",
     "text": [
      "\n"
     ]
    },
    {
     "name": "stdout",
     "output_type": "stream",
     "text": [
      "Epoch 5 elapsed: 0.414s\n"
     ]
    },
    {
     "name": "stderr",
     "output_type": "stream",
     "text": [
      "eval_pred: 100%|██████████████████████████████████████████████████████████████████████| 15/15 [00:00<00:00, 235.45it/s]"
     ]
    },
    {
     "name": "stdout",
     "output_type": "stream",
     "text": [
      "\t eval rmse: 1.1291\n",
      "\t eval mae: 0.8797\n",
      "\t eval r2: -0.2041\n",
      "==============================\n"
     ]
    },
    {
     "name": "stderr",
     "output_type": "stream",
     "text": [
      "\n"
     ]
    },
    {
     "name": "stdout",
     "output_type": "stream",
     "text": [
      "Training start time: \u001b[35m2022-07-19 17:45:34\u001b[0m\n",
      "Epoch 1 elapsed: 0.414s\n"
     ]
    },
    {
     "name": "stderr",
     "output_type": "stream",
     "text": [
      "eval_pred: 100%|██████████████████████████████████████████████████████████████████████| 15/15 [00:00<00:00, 227.06it/s]"
     ]
    },
    {
     "name": "stdout",
     "output_type": "stream",
     "text": [
      "\t eval rmse: 1.0461\n",
      "\t eval mae: 0.8433\n",
      "\t eval r2: -0.0337\n",
      "==============================\n"
     ]
    },
    {
     "name": "stderr",
     "output_type": "stream",
     "text": [
      "\n"
     ]
    },
    {
     "name": "stdout",
     "output_type": "stream",
     "text": [
      "Epoch 2 elapsed: 0.409s\n"
     ]
    },
    {
     "name": "stderr",
     "output_type": "stream",
     "text": [
      "eval_pred: 100%|██████████████████████████████████████████████████████████████████████| 15/15 [00:00<00:00, 211.11it/s]"
     ]
    },
    {
     "name": "stdout",
     "output_type": "stream",
     "text": [
      "\t eval rmse: 1.1167\n",
      "\t eval mae: 0.8789\n",
      "\t eval r2: -0.1778\n",
      "==============================\n"
     ]
    },
    {
     "name": "stderr",
     "output_type": "stream",
     "text": [
      "\n"
     ]
    },
    {
     "name": "stdout",
     "output_type": "stream",
     "text": [
      "Epoch 3 elapsed: 0.414s\n"
     ]
    },
    {
     "name": "stderr",
     "output_type": "stream",
     "text": [
      "eval_pred: 100%|██████████████████████████████████████████████████████████████████████| 15/15 [00:00<00:00, 203.11it/s]"
     ]
    },
    {
     "name": "stdout",
     "output_type": "stream",
     "text": [
      "\t eval rmse: 1.1228\n",
      "\t eval mae: 0.8788\n",
      "\t eval r2: -0.1907\n",
      "==============================\n"
     ]
    },
    {
     "name": "stderr",
     "output_type": "stream",
     "text": [
      "\n"
     ]
    },
    {
     "name": "stdout",
     "output_type": "stream",
     "text": [
      "Epoch 4 elapsed: 0.417s\n"
     ]
    },
    {
     "name": "stderr",
     "output_type": "stream",
     "text": [
      "eval_pred: 100%|██████████████████████████████████████████████████████████████████████| 15/15 [00:00<00:00, 277.01it/s]"
     ]
    },
    {
     "name": "stdout",
     "output_type": "stream",
     "text": [
      "\t eval rmse: 1.1266\n",
      "\t eval mae: 0.8793\n",
      "\t eval r2: -0.1987\n",
      "==============================\n"
     ]
    },
    {
     "name": "stderr",
     "output_type": "stream",
     "text": [
      "\n"
     ]
    },
    {
     "name": "stdout",
     "output_type": "stream",
     "text": [
      "Epoch 5 elapsed: 0.413s\n"
     ]
    },
    {
     "name": "stderr",
     "output_type": "stream",
     "text": [
      "eval_pred: 100%|██████████████████████████████████████████████████████████████████████| 15/15 [00:00<00:00, 224.55it/s]"
     ]
    },
    {
     "name": "stdout",
     "output_type": "stream",
     "text": [
      "\t eval rmse: 1.1291\n",
      "\t eval mae: 0.8797\n",
      "\t eval r2: -0.2041\n",
      "==============================\n"
     ]
    },
    {
     "name": "stderr",
     "output_type": "stream",
     "text": [
      "\n"
     ]
    },
    {
     "name": "stdout",
     "output_type": "stream",
     "text": [
      "Training start time: \u001b[35m2022-07-19 17:45:37\u001b[0m\n",
      "Epoch 1 elapsed: 0.413s\n"
     ]
    },
    {
     "name": "stderr",
     "output_type": "stream",
     "text": [
      "eval_pred: 100%|██████████████████████████████████████████████████████████████████████| 15/15 [00:00<00:00, 212.55it/s]"
     ]
    },
    {
     "name": "stdout",
     "output_type": "stream",
     "text": [
      "\t eval rmse: 1.0461\n",
      "\t eval mae: 0.8433\n",
      "\t eval r2: -0.0337\n",
      "==============================\n"
     ]
    },
    {
     "name": "stderr",
     "output_type": "stream",
     "text": [
      "\n"
     ]
    },
    {
     "name": "stdout",
     "output_type": "stream",
     "text": [
      "Epoch 2 elapsed: 0.400s\n"
     ]
    },
    {
     "name": "stderr",
     "output_type": "stream",
     "text": [
      "eval_pred: 100%|██████████████████████████████████████████████████████████████████████| 15/15 [00:00<00:00, 227.08it/s]"
     ]
    },
    {
     "name": "stdout",
     "output_type": "stream",
     "text": [
      "\t eval rmse: 1.1167\n",
      "\t eval mae: 0.8789\n",
      "\t eval r2: -0.1778\n",
      "==============================\n"
     ]
    },
    {
     "name": "stderr",
     "output_type": "stream",
     "text": [
      "\n"
     ]
    },
    {
     "name": "stdout",
     "output_type": "stream",
     "text": [
      "Epoch 3 elapsed: 0.388s\n"
     ]
    },
    {
     "name": "stderr",
     "output_type": "stream",
     "text": [
      "eval_pred: 100%|██████████████████████████████████████████████████████████████████████| 15/15 [00:00<00:00, 254.91it/s]"
     ]
    },
    {
     "name": "stdout",
     "output_type": "stream",
     "text": [
      "\t eval rmse: 1.1228\n",
      "\t eval mae: 0.8788\n",
      "\t eval r2: -0.1907\n",
      "==============================\n"
     ]
    },
    {
     "name": "stderr",
     "output_type": "stream",
     "text": [
      "\n"
     ]
    },
    {
     "name": "stdout",
     "output_type": "stream",
     "text": [
      "Epoch 4 elapsed: 0.405s\n"
     ]
    },
    {
     "name": "stderr",
     "output_type": "stream",
     "text": [
      "eval_pred: 100%|██████████████████████████████████████████████████████████████████████| 15/15 [00:00<00:00, 263.86it/s]"
     ]
    },
    {
     "name": "stdout",
     "output_type": "stream",
     "text": [
      "\t eval rmse: 1.1266\n",
      "\t eval mae: 0.8793\n",
      "\t eval r2: -0.1987\n",
      "==============================\n"
     ]
    },
    {
     "name": "stderr",
     "output_type": "stream",
     "text": [
      "\n"
     ]
    },
    {
     "name": "stdout",
     "output_type": "stream",
     "text": [
      "Epoch 5 elapsed: 0.422s\n"
     ]
    },
    {
     "name": "stderr",
     "output_type": "stream",
     "text": [
      "eval_pred: 100%|██████████████████████████████████████████████████████████████████████| 15/15 [00:00<00:00, 261.63it/s]"
     ]
    },
    {
     "name": "stdout",
     "output_type": "stream",
     "text": [
      "\t eval rmse: 1.1291\n",
      "\t eval mae: 0.8797\n",
      "\t eval r2: -0.2041\n",
      "==============================\n"
     ]
    },
    {
     "name": "stderr",
     "output_type": "stream",
     "text": [
      "\n"
     ]
    },
    {
     "name": "stdout",
     "output_type": "stream",
     "text": [
      "Training start time: \u001b[35m2022-07-19 17:45:40\u001b[0m\n",
      "Epoch 1 elapsed: 0.395s\n"
     ]
    },
    {
     "name": "stderr",
     "output_type": "stream",
     "text": [
      "eval_pred: 100%|██████████████████████████████████████████████████████████████████████| 15/15 [00:00<00:00, 216.21it/s]"
     ]
    },
    {
     "name": "stdout",
     "output_type": "stream",
     "text": [
      "\t eval rmse: 1.0461\n",
      "\t eval mae: 0.8433\n",
      "\t eval r2: -0.0337\n",
      "==============================\n"
     ]
    },
    {
     "name": "stderr",
     "output_type": "stream",
     "text": [
      "\n"
     ]
    },
    {
     "name": "stdout",
     "output_type": "stream",
     "text": [
      "Epoch 2 elapsed: 0.401s\n"
     ]
    },
    {
     "name": "stderr",
     "output_type": "stream",
     "text": [
      "eval_pred: 100%|██████████████████████████████████████████████████████████████████████| 15/15 [00:00<00:00, 222.14it/s]"
     ]
    },
    {
     "name": "stdout",
     "output_type": "stream",
     "text": [
      "\t eval rmse: 1.1167\n",
      "\t eval mae: 0.8789\n",
      "\t eval r2: -0.1778\n",
      "==============================\n"
     ]
    },
    {
     "name": "stderr",
     "output_type": "stream",
     "text": [
      "\n"
     ]
    },
    {
     "name": "stdout",
     "output_type": "stream",
     "text": [
      "Epoch 3 elapsed: 0.416s\n"
     ]
    },
    {
     "name": "stderr",
     "output_type": "stream",
     "text": [
      "eval_pred: 100%|██████████████████████████████████████████████████████████████████████| 15/15 [00:00<00:00, 240.94it/s]"
     ]
    },
    {
     "name": "stdout",
     "output_type": "stream",
     "text": [
      "\t eval rmse: 1.1228\n",
      "\t eval mae: 0.8788\n",
      "\t eval r2: -0.1907\n",
      "==============================\n"
     ]
    },
    {
     "name": "stderr",
     "output_type": "stream",
     "text": [
      "\n"
     ]
    },
    {
     "name": "stdout",
     "output_type": "stream",
     "text": [
      "Epoch 4 elapsed: 0.405s\n"
     ]
    },
    {
     "name": "stderr",
     "output_type": "stream",
     "text": [
      "eval_pred: 100%|██████████████████████████████████████████████████████████████████████| 15/15 [00:00<00:00, 224.98it/s]"
     ]
    },
    {
     "name": "stdout",
     "output_type": "stream",
     "text": [
      "\t eval rmse: 1.1266\n",
      "\t eval mae: 0.8793\n",
      "\t eval r2: -0.1987\n",
      "==============================\n"
     ]
    },
    {
     "name": "stderr",
     "output_type": "stream",
     "text": [
      "\n"
     ]
    },
    {
     "name": "stdout",
     "output_type": "stream",
     "text": [
      "Epoch 5 elapsed: 0.424s\n"
     ]
    },
    {
     "name": "stderr",
     "output_type": "stream",
     "text": [
      "eval_pred: 100%|██████████████████████████████████████████████████████████████████████| 15/15 [00:00<00:00, 230.99it/s]"
     ]
    },
    {
     "name": "stdout",
     "output_type": "stream",
     "text": [
      "\t eval rmse: 1.1291\n",
      "\t eval mae: 0.8797\n",
      "\t eval r2: -0.2041\n",
      "==============================\n"
     ]
    },
    {
     "name": "stderr",
     "output_type": "stream",
     "text": [
      "\n"
     ]
    },
    {
     "name": "stdout",
     "output_type": "stream",
     "text": [
      "Training start time: \u001b[35m2022-07-19 17:45:43\u001b[0m\n",
      "Epoch 1 elapsed: 0.409s\n"
     ]
    },
    {
     "name": "stderr",
     "output_type": "stream",
     "text": [
      "eval_pred: 100%|██████████████████████████████████████████████████████████████████████| 15/15 [00:00<00:00, 236.40it/s]"
     ]
    },
    {
     "name": "stdout",
     "output_type": "stream",
     "text": [
      "\t eval rmse: 1.0271\n",
      "\t eval mae: 0.8360\n",
      "\t eval r2: 0.0036\n",
      "==============================\n"
     ]
    },
    {
     "name": "stderr",
     "output_type": "stream",
     "text": [
      "\n"
     ]
    },
    {
     "name": "stdout",
     "output_type": "stream",
     "text": [
      "Epoch 2 elapsed: 0.419s\n"
     ]
    },
    {
     "name": "stderr",
     "output_type": "stream",
     "text": [
      "eval_pred: 100%|██████████████████████████████████████████████████████████████████████| 15/15 [00:00<00:00, 239.31it/s]"
     ]
    },
    {
     "name": "stdout",
     "output_type": "stream",
     "text": [
      "\t eval rmse: 1.0686\n",
      "\t eval mae: 0.8445\n",
      "\t eval r2: -0.0786\n",
      "==============================\n"
     ]
    },
    {
     "name": "stderr",
     "output_type": "stream",
     "text": [
      "\n"
     ]
    },
    {
     "name": "stdout",
     "output_type": "stream",
     "text": [
      "Epoch 3 elapsed: 0.433s\n"
     ]
    },
    {
     "name": "stderr",
     "output_type": "stream",
     "text": [
      "eval_pred: 100%|██████████████████████████████████████████████████████████████████████| 15/15 [00:00<00:00, 243.83it/s]"
     ]
    },
    {
     "name": "stdout",
     "output_type": "stream",
     "text": [
      "\t eval rmse: 1.0695\n",
      "\t eval mae: 0.8416\n",
      "\t eval r2: -0.0804\n",
      "==============================\n"
     ]
    },
    {
     "name": "stderr",
     "output_type": "stream",
     "text": [
      "\n"
     ]
    },
    {
     "name": "stdout",
     "output_type": "stream",
     "text": [
      "Epoch 4 elapsed: 0.413s\n"
     ]
    },
    {
     "name": "stderr",
     "output_type": "stream",
     "text": [
      "eval_pred: 100%|██████████████████████████████████████████████████████████████████████| 15/15 [00:00<00:00, 229.58it/s]"
     ]
    },
    {
     "name": "stdout",
     "output_type": "stream",
     "text": [
      "\t eval rmse: 1.0699\n",
      "\t eval mae: 0.8402\n",
      "\t eval r2: -0.0812\n",
      "==============================\n"
     ]
    },
    {
     "name": "stderr",
     "output_type": "stream",
     "text": [
      "\n"
     ]
    },
    {
     "name": "stdout",
     "output_type": "stream",
     "text": [
      "Epoch 5 elapsed: 0.406s\n"
     ]
    },
    {
     "name": "stderr",
     "output_type": "stream",
     "text": [
      "eval_pred: 100%|██████████████████████████████████████████████████████████████████████| 15/15 [00:00<00:00, 252.48it/s]"
     ]
    },
    {
     "name": "stdout",
     "output_type": "stream",
     "text": [
      "\t eval rmse: 1.0704\n",
      "\t eval mae: 0.8396\n",
      "\t eval r2: -0.0821\n",
      "==============================\n"
     ]
    },
    {
     "name": "stderr",
     "output_type": "stream",
     "text": [
      "\n"
     ]
    },
    {
     "name": "stdout",
     "output_type": "stream",
     "text": [
      "Training start time: \u001b[35m2022-07-19 17:45:46\u001b[0m\n",
      "Epoch 1 elapsed: 0.449s\n"
     ]
    },
    {
     "name": "stderr",
     "output_type": "stream",
     "text": [
      "eval_pred: 100%|██████████████████████████████████████████████████████████████████████| 15/15 [00:00<00:00, 281.83it/s]"
     ]
    },
    {
     "name": "stdout",
     "output_type": "stream",
     "text": [
      "\t eval rmse: 1.0271\n",
      "\t eval mae: 0.8360\n",
      "\t eval r2: 0.0036\n",
      "==============================\n"
     ]
    },
    {
     "name": "stderr",
     "output_type": "stream",
     "text": [
      "\n"
     ]
    },
    {
     "name": "stdout",
     "output_type": "stream",
     "text": [
      "Epoch 2 elapsed: 0.463s\n"
     ]
    },
    {
     "name": "stderr",
     "output_type": "stream",
     "text": [
      "eval_pred: 100%|██████████████████████████████████████████████████████████████████████| 15/15 [00:00<00:00, 279.72it/s]"
     ]
    },
    {
     "name": "stdout",
     "output_type": "stream",
     "text": [
      "\t eval rmse: 1.0686\n",
      "\t eval mae: 0.8445\n",
      "\t eval r2: -0.0786\n",
      "==============================\n"
     ]
    },
    {
     "name": "stderr",
     "output_type": "stream",
     "text": [
      "\n"
     ]
    },
    {
     "name": "stdout",
     "output_type": "stream",
     "text": [
      "Epoch 3 elapsed: 0.396s\n"
     ]
    },
    {
     "name": "stderr",
     "output_type": "stream",
     "text": [
      "eval_pred: 100%|██████████████████████████████████████████████████████████████████████| 15/15 [00:00<00:00, 235.45it/s]"
     ]
    },
    {
     "name": "stdout",
     "output_type": "stream",
     "text": [
      "\t eval rmse: 1.0695\n",
      "\t eval mae: 0.8416\n",
      "\t eval r2: -0.0804\n",
      "==============================\n"
     ]
    },
    {
     "name": "stderr",
     "output_type": "stream",
     "text": [
      "\n"
     ]
    },
    {
     "name": "stdout",
     "output_type": "stream",
     "text": [
      "Epoch 4 elapsed: 0.425s\n"
     ]
    },
    {
     "name": "stderr",
     "output_type": "stream",
     "text": [
      "eval_pred: 100%|██████████████████████████████████████████████████████████████████████| 15/15 [00:00<00:00, 217.90it/s]"
     ]
    },
    {
     "name": "stdout",
     "output_type": "stream",
     "text": [
      "\t eval rmse: 1.0699\n",
      "\t eval mae: 0.8402\n",
      "\t eval r2: -0.0812\n",
      "==============================\n"
     ]
    },
    {
     "name": "stderr",
     "output_type": "stream",
     "text": [
      "\n"
     ]
    },
    {
     "name": "stdout",
     "output_type": "stream",
     "text": [
      "Epoch 5 elapsed: 0.478s\n"
     ]
    },
    {
     "name": "stderr",
     "output_type": "stream",
     "text": [
      "eval_pred: 100%|██████████████████████████████████████████████████████████████████████| 15/15 [00:00<00:00, 225.89it/s]"
     ]
    },
    {
     "name": "stdout",
     "output_type": "stream",
     "text": [
      "\t eval rmse: 1.0704\n",
      "\t eval mae: 0.8396\n",
      "\t eval r2: -0.0821\n",
      "==============================\n"
     ]
    },
    {
     "name": "stderr",
     "output_type": "stream",
     "text": [
      "\n"
     ]
    },
    {
     "name": "stdout",
     "output_type": "stream",
     "text": [
      "Training start time: \u001b[35m2022-07-19 17:45:49\u001b[0m\n",
      "Epoch 1 elapsed: 0.374s\n"
     ]
    },
    {
     "name": "stderr",
     "output_type": "stream",
     "text": [
      "eval_pred: 100%|██████████████████████████████████████████████████████████████████████| 15/15 [00:00<00:00, 254.92it/s]"
     ]
    },
    {
     "name": "stdout",
     "output_type": "stream",
     "text": [
      "\t eval rmse: 1.0271\n",
      "\t eval mae: 0.8360\n",
      "\t eval r2: 0.0036\n",
      "==============================\n"
     ]
    },
    {
     "name": "stderr",
     "output_type": "stream",
     "text": [
      "\n"
     ]
    },
    {
     "name": "stdout",
     "output_type": "stream",
     "text": [
      "Epoch 2 elapsed: 0.416s\n"
     ]
    },
    {
     "name": "stderr",
     "output_type": "stream",
     "text": [
      "eval_pred: 100%|██████████████████████████████████████████████████████████████████████| 15/15 [00:00<00:00, 250.61it/s]"
     ]
    },
    {
     "name": "stdout",
     "output_type": "stream",
     "text": [
      "\t eval rmse: 1.0686\n",
      "\t eval mae: 0.8445\n",
      "\t eval r2: -0.0786\n",
      "==============================\n"
     ]
    },
    {
     "name": "stderr",
     "output_type": "stream",
     "text": [
      "\n"
     ]
    },
    {
     "name": "stdout",
     "output_type": "stream",
     "text": [
      "Epoch 3 elapsed: 0.437s\n"
     ]
    },
    {
     "name": "stderr",
     "output_type": "stream",
     "text": [
      "eval_pred: 100%|██████████████████████████████████████████████████████████████████████| 15/15 [00:00<00:00, 268.57it/s]"
     ]
    },
    {
     "name": "stdout",
     "output_type": "stream",
     "text": [
      "\t eval rmse: 1.0695\n",
      "\t eval mae: 0.8416\n",
      "\t eval r2: -0.0804\n",
      "==============================\n"
     ]
    },
    {
     "name": "stderr",
     "output_type": "stream",
     "text": [
      "\n"
     ]
    },
    {
     "name": "stdout",
     "output_type": "stream",
     "text": [
      "Epoch 4 elapsed: 0.406s\n"
     ]
    },
    {
     "name": "stderr",
     "output_type": "stream",
     "text": [
      "eval_pred: 100%|██████████████████████████████████████████████████████████████████████| 15/15 [00:00<00:00, 259.31it/s]"
     ]
    },
    {
     "name": "stdout",
     "output_type": "stream",
     "text": [
      "\t eval rmse: 1.0699\n",
      "\t eval mae: 0.8402\n",
      "\t eval r2: -0.0812\n",
      "==============================\n"
     ]
    },
    {
     "name": "stderr",
     "output_type": "stream",
     "text": [
      "\n"
     ]
    },
    {
     "name": "stdout",
     "output_type": "stream",
     "text": [
      "Epoch 5 elapsed: 0.399s\n"
     ]
    },
    {
     "name": "stderr",
     "output_type": "stream",
     "text": [
      "eval_pred: 100%|██████████████████████████████████████████████████████████████████████| 15/15 [00:00<00:00, 259.31it/s]"
     ]
    },
    {
     "name": "stdout",
     "output_type": "stream",
     "text": [
      "\t eval rmse: 1.0704\n",
      "\t eval mae: 0.8396\n",
      "\t eval r2: -0.0821\n",
      "==============================\n"
     ]
    },
    {
     "name": "stderr",
     "output_type": "stream",
     "text": [
      "\n"
     ]
    },
    {
     "name": "stdout",
     "output_type": "stream",
     "text": [
      "Training start time: \u001b[35m2022-07-19 17:45:52\u001b[0m\n",
      "Epoch 1 elapsed: 0.414s\n"
     ]
    },
    {
     "name": "stderr",
     "output_type": "stream",
     "text": [
      "eval_pred: 100%|██████████████████████████████████████████████████████████████████████| 15/15 [00:00<00:00, 261.74it/s]"
     ]
    },
    {
     "name": "stdout",
     "output_type": "stream",
     "text": [
      "\t eval rmse: 1.0271\n",
      "\t eval mae: 0.8360\n",
      "\t eval r2: 0.0036\n",
      "==============================\n"
     ]
    },
    {
     "name": "stderr",
     "output_type": "stream",
     "text": [
      "\n"
     ]
    },
    {
     "name": "stdout",
     "output_type": "stream",
     "text": [
      "Epoch 2 elapsed: 0.429s\n"
     ]
    },
    {
     "name": "stderr",
     "output_type": "stream",
     "text": [
      "eval_pred: 100%|██████████████████████████████████████████████████████████████████████| 15/15 [00:00<00:00, 221.73it/s]"
     ]
    },
    {
     "name": "stdout",
     "output_type": "stream",
     "text": [
      "\t eval rmse: 1.0686\n",
      "\t eval mae: 0.8445\n",
      "\t eval r2: -0.0786\n",
      "==============================\n"
     ]
    },
    {
     "name": "stderr",
     "output_type": "stream",
     "text": [
      "\n"
     ]
    },
    {
     "name": "stdout",
     "output_type": "stream",
     "text": [
      "Epoch 3 elapsed: 0.409s\n"
     ]
    },
    {
     "name": "stderr",
     "output_type": "stream",
     "text": [
      "eval_pred: 100%|██████████████████████████████████████████████████████████████████████| 15/15 [00:00<00:00, 236.98it/s]"
     ]
    },
    {
     "name": "stdout",
     "output_type": "stream",
     "text": [
      "\t eval rmse: 1.0695\n",
      "\t eval mae: 0.8416\n",
      "\t eval r2: -0.0804\n",
      "==============================\n"
     ]
    },
    {
     "name": "stderr",
     "output_type": "stream",
     "text": [
      "\n"
     ]
    },
    {
     "name": "stdout",
     "output_type": "stream",
     "text": [
      "Epoch 4 elapsed: 0.430s\n"
     ]
    },
    {
     "name": "stderr",
     "output_type": "stream",
     "text": [
      "eval_pred: 100%|██████████████████████████████████████████████████████████████████████| 15/15 [00:00<00:00, 239.03it/s]"
     ]
    },
    {
     "name": "stdout",
     "output_type": "stream",
     "text": [
      "\t eval rmse: 1.0699\n",
      "\t eval mae: 0.8402\n",
      "\t eval r2: -0.0812\n",
      "==============================\n"
     ]
    },
    {
     "name": "stderr",
     "output_type": "stream",
     "text": [
      "\n"
     ]
    },
    {
     "name": "stdout",
     "output_type": "stream",
     "text": [
      "Epoch 5 elapsed: 0.409s\n"
     ]
    },
    {
     "name": "stderr",
     "output_type": "stream",
     "text": [
      "eval_pred: 100%|██████████████████████████████████████████████████████████████████████| 15/15 [00:00<00:00, 240.22it/s]"
     ]
    },
    {
     "name": "stdout",
     "output_type": "stream",
     "text": [
      "\t eval rmse: 1.0704\n",
      "\t eval mae: 0.8396\n",
      "\t eval r2: -0.0821\n",
      "==============================\n"
     ]
    },
    {
     "name": "stderr",
     "output_type": "stream",
     "text": [
      "\n"
     ]
    },
    {
     "name": "stdout",
     "output_type": "stream",
     "text": [
      "Training start time: \u001b[35m2022-07-19 17:45:55\u001b[0m\n",
      "Epoch 1 elapsed: 0.440s\n"
     ]
    },
    {
     "name": "stderr",
     "output_type": "stream",
     "text": [
      "eval_pred: 100%|██████████████████████████████████████████████████████████████████████| 15/15 [00:00<00:00, 224.23it/s]"
     ]
    },
    {
     "name": "stdout",
     "output_type": "stream",
     "text": [
      "\t eval rmse: 1.0271\n",
      "\t eval mae: 0.8360\n",
      "\t eval r2: 0.0036\n",
      "==============================\n"
     ]
    },
    {
     "name": "stderr",
     "output_type": "stream",
     "text": [
      "\n"
     ]
    },
    {
     "name": "stdout",
     "output_type": "stream",
     "text": [
      "Epoch 2 elapsed: 0.426s\n"
     ]
    },
    {
     "name": "stderr",
     "output_type": "stream",
     "text": [
      "eval_pred: 100%|██████████████████████████████████████████████████████████████████████| 15/15 [00:00<00:00, 280.36it/s]"
     ]
    },
    {
     "name": "stdout",
     "output_type": "stream",
     "text": [
      "\t eval rmse: 1.0686\n",
      "\t eval mae: 0.8445\n",
      "\t eval r2: -0.0786\n",
      "==============================\n"
     ]
    },
    {
     "name": "stderr",
     "output_type": "stream",
     "text": [
      "\n"
     ]
    },
    {
     "name": "stdout",
     "output_type": "stream",
     "text": [
      "Epoch 3 elapsed: 0.386s\n"
     ]
    },
    {
     "name": "stderr",
     "output_type": "stream",
     "text": [
      "eval_pred: 100%|██████████████████████████████████████████████████████████████████████| 15/15 [00:00<00:00, 262.22it/s]"
     ]
    },
    {
     "name": "stdout",
     "output_type": "stream",
     "text": [
      "\t eval rmse: 1.0695\n",
      "\t eval mae: 0.8416\n",
      "\t eval r2: -0.0804\n",
      "==============================\n"
     ]
    },
    {
     "name": "stderr",
     "output_type": "stream",
     "text": [
      "\n"
     ]
    },
    {
     "name": "stdout",
     "output_type": "stream",
     "text": [
      "Epoch 4 elapsed: 0.453s\n"
     ]
    },
    {
     "name": "stderr",
     "output_type": "stream",
     "text": [
      "eval_pred: 100%|██████████████████████████████████████████████████████████████████████| 15/15 [00:00<00:00, 222.91it/s]"
     ]
    },
    {
     "name": "stdout",
     "output_type": "stream",
     "text": [
      "\t eval rmse: 1.0699\n",
      "\t eval mae: 0.8402\n",
      "\t eval r2: -0.0812\n",
      "==============================\n"
     ]
    },
    {
     "name": "stderr",
     "output_type": "stream",
     "text": [
      "\n"
     ]
    },
    {
     "name": "stdout",
     "output_type": "stream",
     "text": [
      "Epoch 5 elapsed: 0.383s\n"
     ]
    },
    {
     "name": "stderr",
     "output_type": "stream",
     "text": [
      "eval_pred: 100%|██████████████████████████████████████████████████████████████████████| 15/15 [00:00<00:00, 259.80it/s]"
     ]
    },
    {
     "name": "stdout",
     "output_type": "stream",
     "text": [
      "\t eval rmse: 1.0704\n",
      "\t eval mae: 0.8396\n",
      "\t eval r2: -0.0821\n",
      "==============================\n"
     ]
    },
    {
     "name": "stderr",
     "output_type": "stream",
     "text": [
      "\n"
     ]
    },
    {
     "data": {
      "text/plain": [
       "4.008058902785314"
      ]
     },
     "execution_count": 98,
     "metadata": {},
     "output_type": "execute_result"
    }
   ],
   "source": [
    "emb_sizes = [2,4,8,16,32]\n",
    "regs = [0.1, 0.5, 1, 5, 10]\n",
    "alphas = [0.01, 0.1, 1, 10, 100]\n",
    "david = np.zeros((125, len(users_val)))\n",
    "\n",
    "for i, emb_size in enumerate(emb_sizes):\n",
    "    for j, reg in enumerate(regs):\n",
    "        for k, alpha in enumerate(alphas):\n",
    "            giorgio = ALS(task=\"rating\", data_info=data_info, embed_size=emb_size, n_epochs=5,\n",
    "                        reg=reg, alpha=alpha, seed=42)\n",
    "            giorgio.fit(train_data, verbose=2, use_cg=False, n_threads=8,\n",
    "                    eval_data=eval_data, metrics=[\"rmse\", \"mae\", \"r2\"])\n",
    "            david[len(regs)*len(alphas)*i+len(alphas)*j+k] = np.array(giorgio.predict(user=users_val, item=movies_val)) + get_offset(movies_val)\n",
    "            \n",
    "mean_squared_error(david.mean(axis=0), ratings_val, squared=False)"
   ]
  },
  {
   "cell_type": "code",
   "execution_count": 87,
   "id": "ad7b228b",
   "metadata": {},
   "outputs": [
    {
     "name": "stdout",
     "output_type": "stream",
     "text": [
      "Training start time: \u001b[35m2022-07-19 17:31:55\u001b[0m\n",
      "Epoch 1 elapsed: 0.058s\n"
     ]
    },
    {
     "name": "stderr",
     "output_type": "stream",
     "text": [
      "eval_pred: 100%|██████████████████████████████████████████████████████████████████████| 15/15 [00:00<00:00, 347.66it/s]"
     ]
    },
    {
     "name": "stdout",
     "output_type": "stream",
     "text": [
      "\t eval rmse: 4.0174\n",
      "\t eval mae: 3.8581\n",
      "\t eval r2: -11.9237\n",
      "==============================\n"
     ]
    },
    {
     "name": "stderr",
     "output_type": "stream",
     "text": [
      "\n"
     ]
    },
    {
     "name": "stdout",
     "output_type": "stream",
     "text": [
      "Epoch 2 elapsed: 0.056s\n"
     ]
    },
    {
     "name": "stderr",
     "output_type": "stream",
     "text": [
      "eval_pred: 100%|██████████████████████████████████████████████████████████████████████| 15/15 [00:00<00:00, 409.79it/s]\n"
     ]
    },
    {
     "name": "stdout",
     "output_type": "stream",
     "text": [
      "\t eval rmse: 4.0048\n",
      "\t eval mae: 3.8486\n",
      "\t eval r2: -11.8427\n",
      "==============================\n",
      "Epoch 3 elapsed: 0.055s\n"
     ]
    },
    {
     "name": "stderr",
     "output_type": "stream",
     "text": [
      "eval_pred: 100%|██████████████████████████████████████████████████████████████████████| 15/15 [00:00<00:00, 385.64it/s]\n"
     ]
    },
    {
     "name": "stdout",
     "output_type": "stream",
     "text": [
      "\t eval rmse: 4.0054\n",
      "\t eval mae: 3.8517\n",
      "\t eval r2: -11.8466\n",
      "==============================\n",
      "Epoch 4 elapsed: 0.054s\n"
     ]
    },
    {
     "name": "stderr",
     "output_type": "stream",
     "text": [
      "eval_pred: 100%|██████████████████████████████████████████████████████████████████████| 15/15 [00:00<00:00, 395.80it/s]\n"
     ]
    },
    {
     "name": "stdout",
     "output_type": "stream",
     "text": [
      "\t eval rmse: 4.0040\n",
      "\t eval mae: 3.8521\n",
      "\t eval r2: -11.8376\n",
      "==============================\n",
      "Epoch 5 elapsed: 0.073s\n"
     ]
    },
    {
     "name": "stderr",
     "output_type": "stream",
     "text": [
      "eval_pred: 100%|██████████████████████████████████████████████████████████████████████| 15/15 [00:00<00:00, 373.24it/s]\n"
     ]
    },
    {
     "name": "stdout",
     "output_type": "stream",
     "text": [
      "\t eval rmse: 4.0037\n",
      "\t eval mae: 3.8532\n",
      "\t eval r2: -11.8357\n",
      "==============================\n",
      "0.9933771040483091\n"
     ]
    }
   ],
   "source": [
    "giorgio = ALS(task=\"rating\", data_info=data_info, embed_size=4, n_epochs=5,\n",
    "                        reg=5, alpha=1, seed=42)\n",
    "giorgio.fit(train_data, verbose=2, use_cg=False, n_threads=8,\n",
    "                    eval_data=eval_data, metrics=[\"rmse\", \"mae\", \"r2\"])\n",
    "ypred = np.array(giorgio.predict(user=users_val, item=movies_val)) + get_offset(movies_val)\n",
    "print(mean_squared_error(ypred, ratings_val, squared=False))"
   ]
  }
 ],
 "metadata": {
  "kernelspec": {
   "display_name": "Python 3 (ipykernel)",
   "language": "python",
   "name": "python3"
  },
  "language_info": {
   "codemirror_mode": {
    "name": "ipython",
    "version": 3
   },
   "file_extension": ".py",
   "mimetype": "text/x-python",
   "name": "python",
   "nbconvert_exporter": "python",
   "pygments_lexer": "ipython3",
   "version": "3.9.7"
  }
 },
 "nbformat": 4,
 "nbformat_minor": 5
}
