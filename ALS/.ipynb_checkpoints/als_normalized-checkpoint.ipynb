{
 "cells": [
  {
   "cell_type": "code",
   "execution_count": 15,
   "id": "b4223861",
   "metadata": {},
   "outputs": [],
   "source": [
    "import numpy as np\n",
    "import pandas as pd\n",
    "from sklearn.model_selection import train_test_split\n",
    "import random\n",
    "from dataset import extract_matrix_users_movies_ratings, extract_users_movies_ratings_lists, TripletDataset\n",
    "from libreco.data import split_by_ratio_chrono, DatasetPure\n",
    "from libreco.algorithms import ALS\n",
    "from sklearn.metrics import mean_squared_error\n",
    "from scipy.sparse import coo_matrix\n",
    "\n",
    "import importlib\n",
    "import dataset\n",
    "importlib.reload(dataset)\n",
    "from dataset import extract_matrix_users_movies_ratings, extract_users_movies_ratings_lists\n",
    "\n",
    "import torch \n",
    "import torch.nn as nn \n",
    "import pytorch_lightning as pl\n",
    "number_of_users, number_of_movies = (10000, 1000)"
   ]
  },
  {
   "cell_type": "code",
   "execution_count": 6,
   "id": "92cc96bc",
   "metadata": {},
   "outputs": [],
   "source": [
    "data_pd = pd.read_csv('../data/data_train.csv')\n",
    "data_matrix, _ = extract_matrix_users_movies_ratings(data_pd)\n",
    "# axis 0 means: we subtract the means for each movie\n",
    "\n",
    "data_matrix[data_matrix == 0] = 'nan'\n",
    "MEAN = np.nanmean(data_matrix, keepdims=True)\n",
    "MEAN_USER_MATRIX = model.user_bias.weight.detach().numpy()\n",
    "MEAN_MOVIE_MATRIX = model.movie_bias.weight.detach().numpy()\n",
    "data_matrix[np.isnan(data_matrix)] = 0\n",
    "\n",
    "\n",
    "data_matrix_normalized = np.subtract(data_matrix, MEAN, where=data_matrix != 0)\n",
    "#MEAN_MOVIE_MATRIX = np.nanmean(data_matrix_normalized, axis=0, keepdims=True)\n",
    "data_matrix_normalized = np.subtract(data_matrix_normalized, MEAN_MOVIE_MATRIX.T, where=data_matrix != 0)\n",
    "#MEAN_USER_MATRIX = np.nanmean(data_matrix_normalized, axis=1, keepdims=True)\n",
    "data_matrix_normalized = np.subtract(data_matrix_normalized, MEAN_USER_MATRIX, where=data_matrix != 0)\n",
    "#STD = np.nanstd(data_matrix, keepdims=True)\n",
    "\n",
    "STD_MATRIX = np.nanstd(data_matrix, axis=0, keepdims=True)"
   ]
  },
  {
   "cell_type": "code",
   "execution_count": 16,
   "id": "16f814fb",
   "metadata": {},
   "outputs": [],
   "source": [
    "data_pd = pd.read_csv('../data/data_train.csv')\n",
    "data_matrix, _ = extract_matrix_users_movies_ratings(data_pd)"
   ]
  },
  {
   "cell_type": "code",
   "execution_count": 7,
   "id": "b1e3c57b",
   "metadata": {},
   "outputs": [
    {
     "data": {
      "text/plain": [
       "1.5038335"
      ]
     },
     "execution_count": 7,
     "metadata": {},
     "output_type": "execute_result"
    }
   ],
   "source": [
    "MEAN_MOVIE_MATRIX.max()"
   ]
  },
  {
   "cell_type": "code",
   "execution_count": 3,
   "id": "614d859a",
   "metadata": {},
   "outputs": [],
   "source": [
    "class LearnBias(pl.LightningModule):\n",
    "\n",
    "    def __init__(self, alpha=0.1, lr=0.001, weight_decay=0):\n",
    "        super().__init__()\n",
    "        self.save_hyperparameters()\n",
    "        \n",
    "        self.user_bias = nn.Embedding(number_of_users, 1)\n",
    "        self.movie_bias = nn.Embedding(number_of_movies, 1)\n",
    "        \n",
    "        self.lr = lr\n",
    "        self.weight_decay = weight_decay\n",
    "        self.alpha = alpha\n",
    "        \n",
    "\n",
    "    def forward(self, batch):\n",
    "        users, movies = batch[:, 0], batch[:, 1]\n",
    "\n",
    "        user_bias = self.user_bias(users)\n",
    "        movie_bias = self.movie_bias(movies)\n",
    "     \n",
    "        return torch.tensor(MEAN) + self.user_bias(users) + self.movie_bias(movies)\n",
    "    \n",
    "    def loss(self, yhat, y):\n",
    "        return torch.sum((yhat -y)**2) + self.alpha * ((self.user_bias.weight ** 2).sum() + (self.movie_bias.weight ** 2).sum())\n",
    "\n",
    "    def configure_optimizers(self):\n",
    "        return torch.optim.Adam(self.parameters(), self.lr, weight_decay=self.weight_decay)\n",
    "    \n",
    "    def training_step(self, batch, batch_idx):\n",
    "        x,y = batch\n",
    "        yhat = self(x)\n",
    "        loss = self.loss(yhat, y)\n",
    "        self.log('train_rmse', loss, on_epoch=True, on_step=True, prog_bar=True)\n",
    "        return loss\n",
    "\n",
    "    def validation_step(self, batch, batch_idx):\n",
    "        x,y = batch\n",
    "        yhat = self(x)\n",
    "        loss = self.loss(yhat, y)\n",
    "        self.log('val_rmse', loss, on_epoch=True, on_step=True, prog_bar=True)\n",
    "        return loss\n"
   ]
  },
  {
   "cell_type": "code",
   "execution_count": 4,
   "id": "6ae7ce1f",
   "metadata": {},
   "outputs": [
    {
     "name": "stderr",
     "output_type": "stream",
     "text": [
      "/home/david/.local/lib/python3.8/site-packages/torch/cuda/__init__.py:82: UserWarning: CUDA initialization: CUDA unknown error - this may be due to an incorrectly set up environment, e.g. changing env variable CUDA_VISIBLE_DEVICES after program start. Setting the available devices to be zero. (Triggered internally at  ../c10/cuda/CUDAFunctions.cpp:112.)\n",
      "  return torch._C._cuda_getDeviceCount() > 0\n",
      "GPU available: False, used: False\n",
      "TPU available: False, using: 0 TPU cores\n",
      "IPU available: False, using: 0 IPUs\n",
      "HPU available: False, using: 0 HPUs\n",
      "/home/david/.local/lib/python3.8/site-packages/pytorch_lightning/trainer/configuration_validator.py:133: UserWarning: You defined a `validation_step` but have no `val_dataloader`. Skipping val loop.\n",
      "  rank_zero_warn(\"You defined a `validation_step` but have no `val_dataloader`. Skipping val loop.\")\n",
      "\n",
      "  | Name       | Type      | Params\n",
      "-----------------------------------------\n",
      "0 | user_bias  | Embedding | 10.0 K\n",
      "1 | movie_bias | Embedding | 1.0 K \n",
      "-----------------------------------------\n",
      "11.0 K    Trainable params\n",
      "0         Non-trainable params\n",
      "11.0 K    Total params\n",
      "0.044     Total estimated model params size (MB)\n",
      "/home/david/.local/lib/python3.8/site-packages/pytorch_lightning/trainer/connectors/data_connector.py:240: PossibleUserWarning: The dataloader, train_dataloader, does not have many workers which may be a bottleneck. Consider increasing the value of the `num_workers` argument` (try 8 which is the number of cpus on this machine) in the `DataLoader` init to improve performance.\n",
      "  rank_zero_warn(\n"
     ]
    },
    {
     "data": {
      "application/vnd.jupyter.widget-view+json": {
       "model_id": "73c1f24df50640de8f9d3f1ce826f677",
       "version_major": 2,
       "version_minor": 0
      },
      "text/plain": [
       "Training: 0it [00:00, ?it/s]"
      ]
     },
     "metadata": {},
     "output_type": "display_data"
    }
   ],
   "source": [
    "BATCH_SIZE=2048\n",
    "\n",
    "users_train, movies_train, ratings_train = extract_users_movies_ratings_lists(data_pd)\n",
    "d_train = TripletDataset(users_train, movies_train, ratings_train)\n",
    "train_dataloader = torch.utils.data.DataLoader(d_train, batch_size=BATCH_SIZE, drop_last=False, shuffle=True)\n",
    "\n",
    "model = LearnBias()\n",
    "trainer = pl.Trainer(max_epochs=5)\n",
    "trainer.fit(model, train_dataloaders=train_dataloader)"
   ]
  },
  {
   "cell_type": "code",
   "execution_count": 9,
   "id": "8d3b1119",
   "metadata": {},
   "outputs": [],
   "source": [
    "def normalize_extract_lists(pd, users, movies):  \n",
    "    # axis 0 means: we subtract the means for each movie\n",
    "    a = np.zeros(len(users))\n",
    "    #data_matrix_normalized = np.divide(data_matrix_normalized, STD_MATRIX, where=data_matrix != 0)\n",
    "\n",
    "    for i, (user, movie) in enumerate(zip(users, movies)):\n",
    "        a[i] = data_matrix_normalized[user][movie]\n",
    "    return a"
   ]
  },
  {
   "cell_type": "code",
   "execution_count": 10,
   "id": "c5908c89",
   "metadata": {},
   "outputs": [],
   "source": [
    "def normalize_lists(pd, users, movies):\n",
    "    data_matrix, _ = extract_matrix_users_movies_ratings(pd)\n",
    "    # axis 0 means: we subtract the means for each movie\n",
    "    a = np.zeros(len(users))\n",
    "    data_matrix_normalized = np.subtract(data_matrix, MEAN, where=data_matrix != 0)\n",
    "    #data_matrix_normalized = np.divide(data_matrix_normalized, STD, where=data_matrix != 0)\n",
    "        \n",
    "    for i, (user, movie) in enumerate(zip(users, movies)):\n",
    "        a[i] = data_matrix_normalized[user][movie]\n",
    "    return a"
   ]
  },
  {
   "cell_type": "code",
   "execution_count": 11,
   "id": "497823b7",
   "metadata": {},
   "outputs": [],
   "source": [
    "RANDOM_STATE = 58\n",
    "train_pd, val_pd = train_test_split(data_pd, train_size=0.9, random_state=RANDOM_STATE)\n",
    "\n",
    "users_train, movies_train, _ = extract_users_movies_ratings_lists(train_pd)\n",
    "ratings_train = normalize_extract_lists(train_pd, users_train, movies_train)\n",
    "\n",
    "users_val, movies_val, _ = extract_users_movies_ratings_lists(val_pd)\n",
    "ratings_val = normalize_extract_lists(val_pd, users_val, movies_val)\n",
    "\n",
    "train = pd.DataFrame({'user': users_train, 'item': movies_train, 'label': ratings_train})\n",
    "val = pd.DataFrame({'user': users_val, 'item': movies_val, 'label': ratings_val})\n",
    "\n",
    "# %%\n",
    "train_data, data_info = DatasetPure.build_trainset(train)\n",
    "eval_data = DatasetPure.build_evalset(val)"
   ]
  },
  {
   "cell_type": "code",
   "execution_count": 12,
   "id": "ca07b804",
   "metadata": {},
   "outputs": [],
   "source": [
    "def get_mean_movie(i):\n",
    "    mean_vector = np.squeeze(MEAN_MOVIE_MATRIX)\n",
    "    return mean_vector[i]\n",
    "\n",
    "def get_mean_user(i):\n",
    "    mean_vector = np.squeeze(MEAN_USER_MATRIX)\n",
    "    return mean_vector[i]\n",
    "\n",
    "\n",
    "def get_std(i):\n",
    "    std_vector = np.squeeze(STD_MATRIX)\n",
    "    return std_vector[i]\n",
    "\n",
    "def get_mean_movie_offset(movies):\n",
    "    return np.array(list(map(get_mean_movie, movies)))\n",
    "\n",
    "def get_mean_user_offset(users):\n",
    "    return np.array(list(map(get_mean_user, users)))\n",
    "\n",
    "\n",
    "def get_std_offset(movies):\n",
    "    return np.array(list(map(get_std, movies)))\n",
    "\n",
    "def transform_back(ratings, users, movies):\n",
    "    return ratings + MEAN + get_mean_movie_offset(movies) + get_mean_user_offset(users)"
   ]
  },
  {
   "cell_type": "code",
   "execution_count": 13,
   "id": "67b8b342",
   "metadata": {},
   "outputs": [],
   "source": [
    "def save_predictions(res_path, predictions):\n",
    "    test_pd = pd.read_csv('../data/sampleSubmission.csv')\n",
    "    test_pd = test_pd.astype({'Prediction': 'float'})\n",
    "    test_pd.iloc[:, 1] = predictions\n",
    "    test_pd.to_csv(res_path, index=False, float_format='%.3f')"
   ]
  },
  {
   "cell_type": "code",
   "execution_count": 14,
   "id": "853854f1",
   "metadata": {},
   "outputs": [
    {
     "name": "stdout",
     "output_type": "stream",
     "text": [
      "Training start time: \u001b[35m2022-07-28 16:50:51\u001b[0m\n",
      "Epoch 1 elapsed: 0.026s\n"
     ]
    },
    {
     "name": "stderr",
     "output_type": "stream",
     "text": [
      "eval_pred: 100%|███████████████████████████████| 15/15 [00:00<00:00, 870.34it/s]\n"
     ]
    },
    {
     "name": "stdout",
     "output_type": "stream",
     "text": [
      "\t eval rmse: 1.1950\n",
      "\t eval mae: 0.9726\n",
      "\t eval r2: 0.0047\n",
      "==============================\n",
      "Epoch 2 elapsed: 0.062s\n"
     ]
    },
    {
     "name": "stderr",
     "output_type": "stream",
     "text": [
      "eval_pred: 100%|███████████████████████████████| 15/15 [00:00<00:00, 800.18it/s]"
     ]
    },
    {
     "name": "stdout",
     "output_type": "stream",
     "text": [
      "\t eval rmse: 1.0182\n",
      "\t eval mae: 0.8160\n"
     ]
    },
    {
     "name": "stderr",
     "output_type": "stream",
     "text": [
      "\n"
     ]
    },
    {
     "name": "stdout",
     "output_type": "stream",
     "text": [
      "\t eval r2: 0.2775\n",
      "==============================\n",
      "Epoch 3 elapsed: 0.033s\n"
     ]
    },
    {
     "name": "stderr",
     "output_type": "stream",
     "text": [
      "eval_pred: 100%|███████████████████████████████| 15/15 [00:00<00:00, 747.17it/s]\n"
     ]
    },
    {
     "name": "stdout",
     "output_type": "stream",
     "text": [
      "\t eval rmse: 0.9967\n",
      "\t eval mae: 0.7979\n",
      "\t eval r2: 0.3076\n",
      "==============================\n",
      "Epoch 4 elapsed: 0.034s\n"
     ]
    },
    {
     "name": "stderr",
     "output_type": "stream",
     "text": [
      "eval_pred: 100%|███████████████████████████████| 15/15 [00:00<00:00, 683.74it/s]\n"
     ]
    },
    {
     "name": "stdout",
     "output_type": "stream",
     "text": [
      "\t eval rmse: 0.9965\n",
      "\t eval mae: 0.7977\n",
      "\t eval r2: 0.3079\n",
      "==============================\n",
      "Epoch 5 elapsed: 0.062s\n"
     ]
    },
    {
     "name": "stderr",
     "output_type": "stream",
     "text": [
      "eval_pred: 100%|███████████████████████████████| 15/15 [00:00<00:00, 862.20it/s]\n"
     ]
    },
    {
     "name": "stdout",
     "output_type": "stream",
     "text": [
      "\t eval rmse: 0.9965\n",
      "\t eval mae: 0.7978\n",
      "\t eval r2: 0.3079\n",
      "==============================\n",
      "Training start time: \u001b[35m2022-07-28 16:50:52\u001b[0m\n",
      "Epoch 1 elapsed: 0.024s\n"
     ]
    },
    {
     "name": "stderr",
     "output_type": "stream",
     "text": [
      "eval_pred: 100%|███████████████████████████████| 15/15 [00:00<00:00, 864.95it/s]\n"
     ]
    },
    {
     "name": "stdout",
     "output_type": "stream",
     "text": [
      "\t eval rmse: 1.1917\n",
      "\t eval mae: 0.9689\n",
      "\t eval r2: 0.0103\n",
      "==============================\n",
      "Epoch 2 elapsed: 0.025s\n"
     ]
    },
    {
     "name": "stderr",
     "output_type": "stream",
     "text": [
      "eval_pred: 100%|███████████████████████████████| 15/15 [00:00<00:00, 927.29it/s]\n"
     ]
    },
    {
     "name": "stdout",
     "output_type": "stream",
     "text": [
      "\t eval rmse: 1.0153\n",
      "\t eval mae: 0.8124\n",
      "\t eval r2: 0.2816\n",
      "==============================\n",
      "Epoch 3 elapsed: 0.027s\n"
     ]
    },
    {
     "name": "stderr",
     "output_type": "stream",
     "text": [
      "eval_pred: 100%|███████████████████████████████| 15/15 [00:00<00:00, 876.30it/s]\n"
     ]
    },
    {
     "name": "stdout",
     "output_type": "stream",
     "text": [
      "\t eval rmse: 0.9967\n",
      "\t eval mae: 0.7976\n",
      "\t eval r2: 0.3076\n",
      "==============================\n",
      "Epoch 4 elapsed: 0.068s\n"
     ]
    },
    {
     "name": "stderr",
     "output_type": "stream",
     "text": [
      "eval_pred: 100%|███████████████████████████████| 15/15 [00:00<00:00, 786.71it/s]\n"
     ]
    },
    {
     "name": "stdout",
     "output_type": "stream",
     "text": [
      "\t eval rmse: 0.9965\n",
      "\t eval mae: 0.7975\n",
      "\t eval r2: 0.3079\n",
      "==============================\n",
      "Epoch 5 elapsed: 0.029s\n"
     ]
    },
    {
     "name": "stderr",
     "output_type": "stream",
     "text": [
      "eval_pred: 100%|███████████████████████████████| 15/15 [00:00<00:00, 866.95it/s]"
     ]
    },
    {
     "name": "stdout",
     "output_type": "stream",
     "text": [
      "\t eval rmse: 0.9965\n",
      "\t eval mae: 0.7976\n",
      "\t eval r2: 0.3079\n",
      "==============================\n"
     ]
    },
    {
     "name": "stderr",
     "output_type": "stream",
     "text": [
      "\n"
     ]
    },
    {
     "name": "stdout",
     "output_type": "stream",
     "text": [
      "Training start time: \u001b[35m2022-07-28 16:50:53\u001b[0m\n",
      "Epoch 1 elapsed: 0.029s\n"
     ]
    },
    {
     "name": "stderr",
     "output_type": "stream",
     "text": [
      "eval_pred: 100%|███████████████████████████████| 15/15 [00:00<00:00, 925.54it/s]\n"
     ]
    },
    {
     "name": "stdout",
     "output_type": "stream",
     "text": [
      "\t eval rmse: 1.1900\n",
      "\t eval mae: 0.9670\n",
      "\t eval r2: 0.0130\n",
      "==============================\n",
      "Epoch 2 elapsed: 0.025s\n"
     ]
    },
    {
     "name": "stderr",
     "output_type": "stream",
     "text": [
      "eval_pred: 100%|███████████████████████████████| 15/15 [00:00<00:00, 720.36it/s]"
     ]
    },
    {
     "name": "stdout",
     "output_type": "stream",
     "text": [
      "\t eval rmse: 1.0141\n",
      "\t eval mae: 0.8110\n",
      "\t eval r2: 0.2832\n",
      "==============================\n"
     ]
    },
    {
     "name": "stderr",
     "output_type": "stream",
     "text": [
      "\n"
     ]
    },
    {
     "name": "stdout",
     "output_type": "stream",
     "text": [
      "Epoch 3 elapsed: 0.033s\n"
     ]
    },
    {
     "name": "stderr",
     "output_type": "stream",
     "text": [
      "eval_pred: 100%|███████████████████████████████| 15/15 [00:00<00:00, 838.17it/s]\n"
     ]
    },
    {
     "name": "stdout",
     "output_type": "stream",
     "text": [
      "\t eval rmse: 0.9967\n",
      "\t eval mae: 0.7976\n",
      "\t eval r2: 0.3076\n",
      "==============================\n",
      "Epoch 4 elapsed: 0.042s\n"
     ]
    },
    {
     "name": "stderr",
     "output_type": "stream",
     "text": [
      "eval_pred: 100%|███████████████████████████████| 15/15 [00:00<00:00, 849.11it/s]\n"
     ]
    },
    {
     "name": "stdout",
     "output_type": "stream",
     "text": [
      "\t eval rmse: 0.9965\n",
      "\t eval mae: 0.7975\n",
      "\t eval r2: 0.3079\n",
      "==============================\n",
      "Epoch 5 elapsed: 0.029s\n"
     ]
    },
    {
     "name": "stderr",
     "output_type": "stream",
     "text": [
      "eval_pred: 100%|███████████████████████████████| 15/15 [00:00<00:00, 655.26it/s]\n"
     ]
    },
    {
     "name": "stdout",
     "output_type": "stream",
     "text": [
      "\t eval rmse: 0.9965\n",
      "\t eval mae: 0.7975\n",
      "\t eval r2: 0.3079\n",
      "==============================\n",
      "Training start time: \u001b[35m2022-07-28 16:50:53\u001b[0m\n",
      "Epoch 1 elapsed: 0.043s\n"
     ]
    },
    {
     "name": "stderr",
     "output_type": "stream",
     "text": [
      "eval_pred: 100%|███████████████████████████████| 15/15 [00:00<00:00, 764.51it/s]\n"
     ]
    },
    {
     "name": "stdout",
     "output_type": "stream",
     "text": [
      "\t eval rmse: 1.1881\n",
      "\t eval mae: 0.9647\n",
      "\t eval r2: 0.0162\n",
      "==============================\n",
      "Epoch 2 elapsed: 0.026s\n"
     ]
    },
    {
     "name": "stderr",
     "output_type": "stream",
     "text": [
      "eval_pred: 100%|███████████████████████████████| 15/15 [00:00<00:00, 968.90it/s]"
     ]
    },
    {
     "name": "stdout",
     "output_type": "stream",
     "text": [
      "\t eval rmse: 1.0125\n",
      "\t eval mae: 0.8095\n",
      "\t eval r2: 0.2855\n",
      "==============================\n"
     ]
    },
    {
     "name": "stderr",
     "output_type": "stream",
     "text": [
      "\n"
     ]
    },
    {
     "name": "stdout",
     "output_type": "stream",
     "text": [
      "Epoch 3 elapsed: 0.038s\n"
     ]
    },
    {
     "name": "stderr",
     "output_type": "stream",
     "text": [
      "eval_pred: 100%|███████████████████████████████| 15/15 [00:00<00:00, 837.68it/s]\n"
     ]
    },
    {
     "name": "stdout",
     "output_type": "stream",
     "text": [
      "\t eval rmse: 0.9967\n",
      "\t eval mae: 0.7976\n",
      "\t eval r2: 0.3077\n",
      "==============================\n",
      "Epoch 4 elapsed: 0.028s\n"
     ]
    },
    {
     "name": "stderr",
     "output_type": "stream",
     "text": [
      "eval_pred: 100%|██████████████████████████████| 15/15 [00:00<00:00, 1066.78it/s]\n"
     ]
    },
    {
     "name": "stdout",
     "output_type": "stream",
     "text": [
      "\t eval rmse: 0.9965\n",
      "\t eval mae: 0.7976\n",
      "\t eval r2: 0.3079\n",
      "==============================\n",
      "Epoch 5 elapsed: 0.032s\n"
     ]
    },
    {
     "name": "stderr",
     "output_type": "stream",
     "text": [
      "eval_pred: 100%|███████████████████████████████| 15/15 [00:00<00:00, 856.83it/s]\n"
     ]
    },
    {
     "name": "stdout",
     "output_type": "stream",
     "text": [
      "\t eval rmse: 0.9965\n",
      "\t eval mae: 0.7976\n",
      "\t eval r2: 0.3079\n",
      "==============================\n",
      "Training start time: \u001b[35m2022-07-28 16:50:54\u001b[0m\n",
      "Epoch 1 elapsed: 0.030s\n"
     ]
    },
    {
     "name": "stderr",
     "output_type": "stream",
     "text": [
      "eval_pred: 100%|███████████████████████████████| 15/15 [00:00<00:00, 865.47it/s]\n"
     ]
    },
    {
     "name": "stdout",
     "output_type": "stream",
     "text": [
      "\t eval rmse: 1.1875\n",
      "\t eval mae: 0.9641\n",
      "\t eval r2: 0.0172\n",
      "==============================\n",
      "Epoch 2 elapsed: 0.040s\n"
     ]
    },
    {
     "name": "stderr",
     "output_type": "stream",
     "text": [
      "eval_pred: 100%|███████████████████████████████| 15/15 [00:00<00:00, 738.35it/s]"
     ]
    },
    {
     "name": "stdout",
     "output_type": "stream",
     "text": [
      "\t eval rmse: 1.0119\n",
      "\t eval mae: 0.8091\n",
      "\t eval r2: 0.2864\n",
      "==============================\n"
     ]
    },
    {
     "name": "stderr",
     "output_type": "stream",
     "text": [
      "\n"
     ]
    },
    {
     "name": "stdout",
     "output_type": "stream",
     "text": [
      "Epoch 3 elapsed: 0.032s\n"
     ]
    },
    {
     "name": "stderr",
     "output_type": "stream",
     "text": [
      "eval_pred: 100%|███████████████████████████████| 15/15 [00:00<00:00, 906.18it/s]\n"
     ]
    },
    {
     "name": "stdout",
     "output_type": "stream",
     "text": [
      "\t eval rmse: 0.9966\n",
      "\t eval mae: 0.7976\n",
      "\t eval r2: 0.3077\n",
      "==============================\n",
      "Epoch 4 elapsed: 0.031s\n"
     ]
    },
    {
     "name": "stderr",
     "output_type": "stream",
     "text": [
      "eval_pred: 100%|███████████████████████████████| 15/15 [00:00<00:00, 916.28it/s]\n"
     ]
    },
    {
     "name": "stdout",
     "output_type": "stream",
     "text": [
      "\t eval rmse: 0.9965\n",
      "\t eval mae: 0.7976\n",
      "\t eval r2: 0.3079\n",
      "==============================\n",
      "Epoch 5 elapsed: 0.029s\n"
     ]
    },
    {
     "name": "stderr",
     "output_type": "stream",
     "text": [
      "eval_pred: 100%|███████████████████████████████| 15/15 [00:00<00:00, 789.71it/s]\n"
     ]
    },
    {
     "name": "stdout",
     "output_type": "stream",
     "text": [
      "\t eval rmse: 0.9965\n",
      "\t eval mae: 0.7976\n",
      "\t eval r2: 0.3080\n",
      "==============================\n",
      "Training start time: \u001b[35m2022-07-28 16:50:55\u001b[0m\n",
      "Epoch 1 elapsed: 0.039s\n"
     ]
    },
    {
     "name": "stderr",
     "output_type": "stream",
     "text": [
      "eval_pred: 100%|███████████████████████████████| 15/15 [00:00<00:00, 740.42it/s]\n"
     ]
    },
    {
     "name": "stdout",
     "output_type": "stream",
     "text": [
      "\t eval rmse: 1.1869\n",
      "\t eval mae: 0.9635\n",
      "\t eval r2: 0.0182\n",
      "==============================\n",
      "Epoch 2 elapsed: 0.026s\n"
     ]
    },
    {
     "name": "stderr",
     "output_type": "stream",
     "text": [
      "eval_pred: 100%|███████████████████████████████| 15/15 [00:00<00:00, 902.92it/s]"
     ]
    },
    {
     "name": "stdout",
     "output_type": "stream",
     "text": [
      "\t eval rmse: 1.0113\n",
      "\t eval mae: 0.8088\n",
      "\t eval r2: 0.2872\n",
      "==============================\n"
     ]
    },
    {
     "name": "stderr",
     "output_type": "stream",
     "text": [
      "\n"
     ]
    },
    {
     "name": "stdout",
     "output_type": "stream",
     "text": [
      "Epoch 3 elapsed: 0.031s\n"
     ]
    },
    {
     "name": "stderr",
     "output_type": "stream",
     "text": [
      "eval_pred: 100%|███████████████████████████████| 15/15 [00:00<00:00, 859.82it/s]\n"
     ]
    },
    {
     "name": "stdout",
     "output_type": "stream",
     "text": [
      "\t eval rmse: 0.9966\n",
      "\t eval mae: 0.7977\n",
      "\t eval r2: 0.3078\n",
      "==============================\n",
      "Epoch 4 elapsed: 0.062s\n"
     ]
    },
    {
     "name": "stderr",
     "output_type": "stream",
     "text": [
      "eval_pred: 100%|███████████████████████████████| 15/15 [00:00<00:00, 857.35it/s]"
     ]
    },
    {
     "name": "stdout",
     "output_type": "stream",
     "text": [
      "\t eval rmse: 0.9964\n",
      "\t eval mae: 0.7977\n",
      "\t eval r2: 0.3080\n",
      "==============================\n"
     ]
    },
    {
     "name": "stderr",
     "output_type": "stream",
     "text": [
      "\n"
     ]
    },
    {
     "name": "stdout",
     "output_type": "stream",
     "text": [
      "Epoch 5 elapsed: 0.039s\n"
     ]
    },
    {
     "name": "stderr",
     "output_type": "stream",
     "text": [
      "eval_pred: 100%|███████████████████████████████| 15/15 [00:00<00:00, 973.89it/s]"
     ]
    },
    {
     "name": "stdout",
     "output_type": "stream",
     "text": [
      "\t eval rmse: 0.9964\n",
      "\t eval mae: 0.7978\n",
      "\t eval r2: 0.3080\n",
      "==============================\n"
     ]
    },
    {
     "name": "stderr",
     "output_type": "stream",
     "text": [
      "\n"
     ]
    },
    {
     "name": "stdout",
     "output_type": "stream",
     "text": [
      "Training start time: \u001b[35m2022-07-28 16:50:55\u001b[0m\n",
      "Epoch 1 elapsed: 0.026s\n"
     ]
    },
    {
     "name": "stderr",
     "output_type": "stream",
     "text": [
      "eval_pred: 100%|███████████████████████████████| 15/15 [00:00<00:00, 606.62it/s]\n"
     ]
    },
    {
     "name": "stdout",
     "output_type": "stream",
     "text": [
      "\t eval rmse: 1.1858\n",
      "\t eval mae: 0.9629\n",
      "\t eval r2: 0.0200\n",
      "==============================\n",
      "Epoch 2 elapsed: 0.029s\n"
     ]
    },
    {
     "name": "stderr",
     "output_type": "stream",
     "text": [
      "eval_pred: 100%|███████████████████████████████| 15/15 [00:00<00:00, 917.03it/s]"
     ]
    },
    {
     "name": "stdout",
     "output_type": "stream",
     "text": [
      "\t eval rmse: 1.0110\n",
      "\t eval mae: 0.8086\n",
      "\t eval r2: 0.2877\n",
      "==============================\n"
     ]
    },
    {
     "name": "stderr",
     "output_type": "stream",
     "text": [
      "\n"
     ]
    },
    {
     "name": "stdout",
     "output_type": "stream",
     "text": [
      "Epoch 3 elapsed: 0.034s\n"
     ]
    },
    {
     "name": "stderr",
     "output_type": "stream",
     "text": [
      "eval_pred: 100%|███████████████████████████████| 15/15 [00:00<00:00, 954.64it/s]\n"
     ]
    },
    {
     "name": "stdout",
     "output_type": "stream",
     "text": [
      "\t eval rmse: 0.9964\n",
      "\t eval mae: 0.7979\n",
      "\t eval r2: 0.3080\n",
      "==============================\n",
      "Epoch 4 elapsed: 0.030s\n"
     ]
    },
    {
     "name": "stderr",
     "output_type": "stream",
     "text": [
      "eval_pred: 100%|███████████████████████████████| 15/15 [00:00<00:00, 970.65it/s]\n"
     ]
    },
    {
     "name": "stdout",
     "output_type": "stream",
     "text": [
      "\t eval rmse: 0.9963\n",
      "\t eval mae: 0.7979\n",
      "\t eval r2: 0.3082\n",
      "==============================\n",
      "Epoch 5 elapsed: 0.051s\n"
     ]
    },
    {
     "name": "stderr",
     "output_type": "stream",
     "text": [
      "eval_pred: 100%|███████████████████████████████| 15/15 [00:00<00:00, 885.24it/s]\n"
     ]
    },
    {
     "name": "stdout",
     "output_type": "stream",
     "text": [
      "\t eval rmse: 0.9963\n",
      "\t eval mae: 0.7980\n",
      "\t eval r2: 0.3082\n",
      "==============================\n",
      "Training start time: \u001b[35m2022-07-28 16:50:56\u001b[0m\n",
      "Epoch 1 elapsed: 0.049s\n"
     ]
    },
    {
     "name": "stderr",
     "output_type": "stream",
     "text": [
      "eval_pred: 100%|██████████████████████████████| 15/15 [00:00<00:00, 1003.60it/s]"
     ]
    },
    {
     "name": "stdout",
     "output_type": "stream",
     "text": [
      "\t eval rmse: 1.1845\n",
      "\t eval mae: 0.9626\n",
      "\t eval r2: 0.0221\n",
      "==============================\n"
     ]
    },
    {
     "name": "stderr",
     "output_type": "stream",
     "text": [
      "\n"
     ]
    },
    {
     "name": "stdout",
     "output_type": "stream",
     "text": [
      "Epoch 2 elapsed: 0.090s\n"
     ]
    },
    {
     "name": "stderr",
     "output_type": "stream",
     "text": [
      "eval_pred: 100%|███████████████████████████████| 15/15 [00:00<00:00, 804.77it/s]\n"
     ]
    },
    {
     "name": "stdout",
     "output_type": "stream",
     "text": [
      "\t eval rmse: 1.0114\n",
      "\t eval mae: 0.8091\n",
      "\t eval r2: 0.2871\n",
      "==============================\n",
      "Epoch 3 elapsed: 0.027s\n"
     ]
    },
    {
     "name": "stderr",
     "output_type": "stream",
     "text": [
      "eval_pred: 100%|███████████████████████████████| 15/15 [00:00<00:00, 904.48it/s]\n"
     ]
    },
    {
     "name": "stdout",
     "output_type": "stream",
     "text": [
      "\t eval rmse: 0.9964\n",
      "\t eval mae: 0.7985\n",
      "\t eval r2: 0.3080\n",
      "==============================\n",
      "Epoch 4 elapsed: 0.025s\n"
     ]
    },
    {
     "name": "stderr",
     "output_type": "stream",
     "text": [
      "eval_pred: 100%|███████████████████████████████| 15/15 [00:00<00:00, 929.40it/s]\n"
     ]
    },
    {
     "name": "stdout",
     "output_type": "stream",
     "text": [
      "\t eval rmse: 0.9963\n",
      "\t eval mae: 0.7984\n",
      "\t eval r2: 0.3082\n",
      "==============================\n",
      "Epoch 5 elapsed: 0.060s\n"
     ]
    },
    {
     "name": "stderr",
     "output_type": "stream",
     "text": [
      "eval_pred: 100%|███████████████████████████████| 15/15 [00:00<00:00, 997.85it/s]\n"
     ]
    },
    {
     "name": "stdout",
     "output_type": "stream",
     "text": [
      "\t eval rmse: 0.9963\n",
      "\t eval mae: 0.7984\n",
      "\t eval r2: 0.3083\n",
      "==============================\n",
      "Training start time: \u001b[35m2022-07-28 16:50:57\u001b[0m\n",
      "Epoch 1 elapsed: 0.051s\n"
     ]
    },
    {
     "name": "stderr",
     "output_type": "stream",
     "text": [
      "eval_pred: 100%|███████████████████████████████| 15/15 [00:00<00:00, 885.82it/s]\n"
     ]
    },
    {
     "name": "stdout",
     "output_type": "stream",
     "text": [
      "\t eval rmse: 1.2098\n",
      "\t eval mae: 0.9889\n",
      "\t eval r2: -0.0200\n",
      "==============================\n",
      "Epoch 2 elapsed: 0.031s\n"
     ]
    },
    {
     "name": "stderr",
     "output_type": "stream",
     "text": [
      "eval_pred: 100%|███████████████████████████████| 15/15 [00:00<00:00, 736.46it/s]"
     ]
    },
    {
     "name": "stdout",
     "output_type": "stream",
     "text": [
      "\t eval rmse: 1.1184\n",
      "\t eval mae: 0.9223\n",
      "\t eval r2: 0.1282\n",
      "==============================\n"
     ]
    },
    {
     "name": "stderr",
     "output_type": "stream",
     "text": [
      "\n"
     ]
    },
    {
     "name": "stdout",
     "output_type": "stream",
     "text": [
      "Epoch 3 elapsed: 0.080s\n"
     ]
    },
    {
     "name": "stderr",
     "output_type": "stream",
     "text": [
      "eval_pred: 100%|███████████████████████████████| 15/15 [00:00<00:00, 961.09it/s]\n"
     ]
    },
    {
     "name": "stdout",
     "output_type": "stream",
     "text": [
      "\t eval rmse: 1.0242\n",
      "\t eval mae: 0.8280\n",
      "\t eval r2: 0.2688\n",
      "==============================\n",
      "Epoch 4 elapsed: 0.037s\n"
     ]
    },
    {
     "name": "stderr",
     "output_type": "stream",
     "text": [
      "eval_pred: 100%|███████████████████████████████| 15/15 [00:00<00:00, 903.54it/s]\n"
     ]
    },
    {
     "name": "stdout",
     "output_type": "stream",
     "text": [
      "\t eval rmse: 1.0024\n",
      "\t eval mae: 0.8010\n",
      "\t eval r2: 0.2997\n",
      "==============================\n",
      "Epoch 5 elapsed: 0.034s\n"
     ]
    },
    {
     "name": "stderr",
     "output_type": "stream",
     "text": [
      "eval_pred: 100%|███████████████████████████████| 15/15 [00:00<00:00, 838.11it/s]\n"
     ]
    },
    {
     "name": "stdout",
     "output_type": "stream",
     "text": [
      "\t eval rmse: 0.9989\n",
      "\t eval mae: 0.7971\n",
      "\t eval r2: 0.3045\n",
      "==============================\n",
      "Training start time: \u001b[35m2022-07-28 16:50:58\u001b[0m\n",
      "Epoch 1 elapsed: 0.029s\n"
     ]
    },
    {
     "name": "stderr",
     "output_type": "stream",
     "text": [
      "eval_pred: 100%|███████████████████████████████| 15/15 [00:00<00:00, 886.57it/s]\n"
     ]
    },
    {
     "name": "stdout",
     "output_type": "stream",
     "text": [
      "\t eval rmse: 1.2078\n",
      "\t eval mae: 0.9873\n",
      "\t eval r2: -0.0166\n",
      "==============================\n",
      "Epoch 2 elapsed: 0.068s\n"
     ]
    },
    {
     "name": "stderr",
     "output_type": "stream",
     "text": [
      "eval_pred: 100%|███████████████████████████████| 15/15 [00:00<00:00, 808.01it/s]"
     ]
    },
    {
     "name": "stdout",
     "output_type": "stream",
     "text": [
      "\t eval rmse: 1.1196\n"
     ]
    },
    {
     "name": "stderr",
     "output_type": "stream",
     "text": [
      "\n"
     ]
    },
    {
     "name": "stdout",
     "output_type": "stream",
     "text": [
      "\t eval mae: 0.9222\n",
      "\t eval r2: 0.1263\n",
      "==============================\n",
      "Epoch 3 elapsed: 0.070s\n"
     ]
    },
    {
     "name": "stderr",
     "output_type": "stream",
     "text": [
      "eval_pred: 100%|███████████████████████████████| 15/15 [00:00<00:00, 860.98it/s]\n"
     ]
    },
    {
     "name": "stdout",
     "output_type": "stream",
     "text": [
      "\t eval rmse: 1.0372\n",
      "\t eval mae: 0.8407\n",
      "\t eval r2: 0.2502\n",
      "==============================\n",
      "Epoch 4 elapsed: 0.096s\n"
     ]
    },
    {
     "name": "stderr",
     "output_type": "stream",
     "text": [
      "eval_pred: 100%|███████████████████████████████| 15/15 [00:00<00:00, 833.47it/s]"
     ]
    },
    {
     "name": "stdout",
     "output_type": "stream",
     "text": [
      "\t eval rmse: 1.0005\n",
      "\t eval mae: 0.7991\n"
     ]
    },
    {
     "name": "stderr",
     "output_type": "stream",
     "text": [
      "\n"
     ]
    },
    {
     "name": "stdout",
     "output_type": "stream",
     "text": [
      "\t eval r2: 0.3023\n",
      "==============================\n",
      "Epoch 5 elapsed: 0.084s\n"
     ]
    },
    {
     "name": "stderr",
     "output_type": "stream",
     "text": [
      "eval_pred: 100%|███████████████████████████████| 15/15 [00:00<00:00, 892.06it/s]"
     ]
    },
    {
     "name": "stdout",
     "output_type": "stream",
     "text": [
      "\t eval rmse: 0.9960\n",
      "\t eval mae: 0.7943\n",
      "\t eval r2: 0.3086\n",
      "==============================\n"
     ]
    },
    {
     "name": "stderr",
     "output_type": "stream",
     "text": [
      "\n"
     ]
    },
    {
     "name": "stdout",
     "output_type": "stream",
     "text": [
      "Training start time: \u001b[35m2022-07-28 16:50:59\u001b[0m\n",
      "Epoch 1 elapsed: 0.035s\n"
     ]
    },
    {
     "name": "stderr",
     "output_type": "stream",
     "text": [
      "eval_pred: 100%|███████████████████████████████| 15/15 [00:00<00:00, 841.47it/s]\n"
     ]
    },
    {
     "name": "stdout",
     "output_type": "stream",
     "text": [
      "\t eval rmse: 1.2067\n",
      "\t eval mae: 0.9865\n",
      "\t eval r2: -0.0149\n",
      "==============================\n",
      "Epoch 2 elapsed: 0.033s\n"
     ]
    },
    {
     "name": "stderr",
     "output_type": "stream",
     "text": [
      "eval_pred: 100%|███████████████████████████████| 15/15 [00:00<00:00, 900.37it/s]"
     ]
    },
    {
     "name": "stdout",
     "output_type": "stream",
     "text": [
      "\t eval rmse: 1.1198\n",
      "\t eval mae: 0.9217\n",
      "\t eval r2: 0.1260\n",
      "==============================\n"
     ]
    },
    {
     "name": "stderr",
     "output_type": "stream",
     "text": [
      "\n"
     ]
    },
    {
     "name": "stdout",
     "output_type": "stream",
     "text": [
      "Epoch 3 elapsed: 0.047s\n"
     ]
    },
    {
     "name": "stderr",
     "output_type": "stream",
     "text": [
      "eval_pred: 100%|███████████████████████████████| 15/15 [00:00<00:00, 715.09it/s]\n"
     ]
    },
    {
     "name": "stdout",
     "output_type": "stream",
     "text": [
      "\t eval rmse: 1.0412\n",
      "\t eval mae: 0.8427\n",
      "\t eval r2: 0.2444\n",
      "==============================\n",
      "Epoch 4 elapsed: 0.039s\n"
     ]
    },
    {
     "name": "stderr",
     "output_type": "stream",
     "text": [
      "eval_pred: 100%|███████████████████████████████| 15/15 [00:00<00:00, 746.20it/s]"
     ]
    },
    {
     "name": "stdout",
     "output_type": "stream",
     "text": [
      "\t eval rmse: 0.9998\n",
      "\t eval mae: 0.7983\n",
      "\t eval r2: 0.3034\n",
      "==============================\n",
      "Epoch 5 elapsed: 0.036s\n"
     ]
    },
    {
     "name": "stderr",
     "output_type": "stream",
     "text": [
      "\n",
      "eval_pred: 100%|███████████████████████████████| 15/15 [00:00<00:00, 770.20it/s]\n"
     ]
    },
    {
     "name": "stdout",
     "output_type": "stream",
     "text": [
      "\t eval rmse: 0.9953\n",
      "\t eval mae: 0.7938\n",
      "\t eval r2: 0.3095\n",
      "==============================\n",
      "Training start time: \u001b[35m2022-07-28 16:51:00\u001b[0m\n",
      "Epoch 1 elapsed: 0.030s\n"
     ]
    },
    {
     "name": "stderr",
     "output_type": "stream",
     "text": [
      "eval_pred: 100%|███████████████████████████████| 15/15 [00:00<00:00, 930.03it/s]\n"
     ]
    },
    {
     "name": "stdout",
     "output_type": "stream",
     "text": [
      "\t eval rmse: 1.2054\n",
      "\t eval mae: 0.9853\n",
      "\t eval r2: -0.0127\n",
      "==============================\n",
      "Epoch 2 elapsed: 0.065s\n"
     ]
    },
    {
     "name": "stderr",
     "output_type": "stream",
     "text": [
      "eval_pred: 100%|███████████████████████████████| 15/15 [00:00<00:00, 876.05it/s]"
     ]
    },
    {
     "name": "stdout",
     "output_type": "stream",
     "text": [
      "\t eval rmse: 1.1172\n",
      "\t eval mae: 0.9181\n"
     ]
    },
    {
     "name": "stderr",
     "output_type": "stream",
     "text": [
      "\n"
     ]
    },
    {
     "name": "stdout",
     "output_type": "stream",
     "text": [
      "\t eval r2: 0.1302\n",
      "==============================\n",
      "Epoch 3 elapsed: 0.047s\n"
     ]
    },
    {
     "name": "stderr",
     "output_type": "stream",
     "text": [
      "eval_pred: 100%|███████████████████████████████| 15/15 [00:00<00:00, 923.06it/s]\n"
     ]
    },
    {
     "name": "stdout",
     "output_type": "stream",
     "text": [
      "\t eval rmse: 1.0187\n",
      "\t eval mae: 0.8185\n",
      "\t eval r2: 0.2768\n",
      "==============================\n",
      "Epoch 4 elapsed: 0.034s\n"
     ]
    },
    {
     "name": "stderr",
     "output_type": "stream",
     "text": [
      "eval_pred: 100%|███████████████████████████████| 15/15 [00:00<00:00, 890.52it/s]"
     ]
    },
    {
     "name": "stdout",
     "output_type": "stream",
     "text": [
      "\t eval rmse: 1.0025\n",
      "\t eval mae: 0.8007\n"
     ]
    },
    {
     "name": "stderr",
     "output_type": "stream",
     "text": [
      "\n"
     ]
    },
    {
     "name": "stdout",
     "output_type": "stream",
     "text": [
      "\t eval r2: 0.2996\n",
      "==============================\n",
      "Epoch 5 elapsed: 0.038s\n"
     ]
    },
    {
     "name": "stderr",
     "output_type": "stream",
     "text": [
      "eval_pred: 100%|███████████████████████████████| 15/15 [00:00<00:00, 880.43it/s]\n"
     ]
    },
    {
     "name": "stdout",
     "output_type": "stream",
     "text": [
      "\t eval rmse: 1.0000\n",
      "\t eval mae: 0.7982\n",
      "\t eval r2: 0.3031\n",
      "==============================\n",
      "Training start time: \u001b[35m2022-07-28 16:51:00\u001b[0m\n",
      "Epoch 1 elapsed: 0.041s\n"
     ]
    },
    {
     "name": "stderr",
     "output_type": "stream",
     "text": [
      "eval_pred: 100%|███████████████████████████████| 15/15 [00:00<00:00, 867.79it/s]\n"
     ]
    },
    {
     "name": "stdout",
     "output_type": "stream",
     "text": [
      "\t eval rmse: 1.2050\n",
      "\t eval mae: 0.9848\n",
      "\t eval r2: -0.0120\n",
      "==============================\n",
      "Epoch 2 elapsed: 0.066s\n"
     ]
    },
    {
     "name": "stderr",
     "output_type": "stream",
     "text": [
      "eval_pred: 100%|███████████████████████████████| 15/15 [00:00<00:00, 978.59it/s]\n"
     ]
    },
    {
     "name": "stdout",
     "output_type": "stream",
     "text": [
      "\t eval rmse: 1.1152\n",
      "\t eval mae: 0.9158\n",
      "\t eval r2: 0.1332\n",
      "==============================\n",
      "Epoch 3 elapsed: 0.034s\n"
     ]
    },
    {
     "name": "stderr",
     "output_type": "stream",
     "text": [
      "eval_pred: 100%|███████████████████████████████| 15/15 [00:00<00:00, 922.39it/s]\n"
     ]
    },
    {
     "name": "stdout",
     "output_type": "stream",
     "text": [
      "\t eval rmse: 1.0143\n",
      "\t eval mae: 0.8141\n",
      "\t eval r2: 0.2829\n",
      "==============================\n",
      "Epoch 4 elapsed: 0.035s\n"
     ]
    },
    {
     "name": "stderr",
     "output_type": "stream",
     "text": [
      "eval_pred: 100%|███████████████████████████████| 15/15 [00:00<00:00, 944.39it/s]\n"
     ]
    },
    {
     "name": "stdout",
     "output_type": "stream",
     "text": [
      "\t eval rmse: 1.0030\n",
      "\t eval mae: 0.8012\n",
      "\t eval r2: 0.2989\n",
      "==============================\n",
      "Epoch 5 elapsed: 0.077s\n"
     ]
    },
    {
     "name": "stderr",
     "output_type": "stream",
     "text": [
      "eval_pred: 100%|███████████████████████████████| 15/15 [00:00<00:00, 987.13it/s]\n"
     ]
    },
    {
     "name": "stdout",
     "output_type": "stream",
     "text": [
      "\t eval rmse: 1.0012\n",
      "\t eval mae: 0.7993\n",
      "\t eval r2: 0.3014\n",
      "==============================\n",
      "Training start time: \u001b[35m2022-07-28 16:51:01\u001b[0m\n",
      "Epoch 1 elapsed: 0.034s\n"
     ]
    },
    {
     "name": "stderr",
     "output_type": "stream",
     "text": [
      "eval_pred: 100%|███████████████████████████████| 15/15 [00:00<00:00, 922.83it/s]\n"
     ]
    },
    {
     "name": "stdout",
     "output_type": "stream",
     "text": [
      "\t eval rmse: 1.2044\n",
      "\t eval mae: 0.9843\n",
      "\t eval r2: -0.0109\n",
      "==============================\n",
      "Epoch 2 elapsed: 0.032s\n"
     ]
    },
    {
     "name": "stderr",
     "output_type": "stream",
     "text": [
      "eval_pred: 100%|███████████████████████████████| 15/15 [00:00<00:00, 868.12it/s]"
     ]
    },
    {
     "name": "stdout",
     "output_type": "stream",
     "text": [
      "\t eval rmse: 1.1127\n",
      "\t eval mae: 0.9131\n",
      "\t eval r2: 0.1371\n",
      "==============================\n"
     ]
    },
    {
     "name": "stderr",
     "output_type": "stream",
     "text": [
      "\n"
     ]
    },
    {
     "name": "stdout",
     "output_type": "stream",
     "text": [
      "Epoch 3 elapsed: 0.037s\n"
     ]
    },
    {
     "name": "stderr",
     "output_type": "stream",
     "text": [
      "eval_pred: 100%|███████████████████████████████| 15/15 [00:00<00:00, 936.97it/s]\n"
     ]
    },
    {
     "name": "stdout",
     "output_type": "stream",
     "text": [
      "\t eval rmse: 1.0116\n",
      "\t eval mae: 0.8114\n",
      "\t eval r2: 0.2868\n",
      "==============================\n",
      "Epoch 4 elapsed: 0.036s\n"
     ]
    },
    {
     "name": "stderr",
     "output_type": "stream",
     "text": [
      "eval_pred: 100%|███████████████████████████████| 15/15 [00:00<00:00, 880.66it/s]\n"
     ]
    },
    {
     "name": "stdout",
     "output_type": "stream",
     "text": [
      "\t eval rmse: 1.0031\n",
      "\t eval mae: 0.8014\n",
      "\t eval r2: 0.2987\n",
      "==============================\n",
      "Epoch 5 elapsed: 0.031s\n"
     ]
    },
    {
     "name": "stderr",
     "output_type": "stream",
     "text": [
      "eval_pred: 100%|███████████████████████████████| 15/15 [00:00<00:00, 945.70it/s]\n"
     ]
    },
    {
     "name": "stdout",
     "output_type": "stream",
     "text": [
      "\t eval rmse: 1.0018\n",
      "\t eval mae: 0.7999\n",
      "\t eval r2: 0.3006\n",
      "==============================\n",
      "Training start time: \u001b[35m2022-07-28 16:51:02\u001b[0m\n",
      "Epoch 1 elapsed: 0.041s\n"
     ]
    },
    {
     "name": "stderr",
     "output_type": "stream",
     "text": [
      "eval_pred: 100%|███████████████████████████████| 15/15 [00:00<00:00, 870.19it/s]\n"
     ]
    },
    {
     "name": "stdout",
     "output_type": "stream",
     "text": [
      "\t eval rmse: 1.2028\n",
      "\t eval mae: 0.9834\n",
      "\t eval r2: -0.0084\n",
      "==============================\n",
      "Epoch 2 elapsed: 0.034s\n"
     ]
    },
    {
     "name": "stderr",
     "output_type": "stream",
     "text": [
      "eval_pred: 100%|███████████████████████████████| 15/15 [00:00<00:00, 680.47it/s]"
     ]
    },
    {
     "name": "stdout",
     "output_type": "stream",
     "text": [
      "\t eval rmse: 1.1103\n",
      "\t eval mae: 0.9106\n",
      "\t eval r2: 0.1409\n",
      "==============================\n"
     ]
    },
    {
     "name": "stderr",
     "output_type": "stream",
     "text": [
      "\n"
     ]
    },
    {
     "name": "stdout",
     "output_type": "stream",
     "text": [
      "Epoch 3 elapsed: 0.047s\n"
     ]
    },
    {
     "name": "stderr",
     "output_type": "stream",
     "text": [
      "eval_pred: 100%|███████████████████████████████| 15/15 [00:00<00:00, 954.48it/s]\n"
     ]
    },
    {
     "name": "stdout",
     "output_type": "stream",
     "text": [
      "\t eval rmse: 1.0093\n",
      "\t eval mae: 0.8091\n",
      "\t eval r2: 0.2900\n",
      "==============================\n",
      "Epoch 4 elapsed: 0.033s\n"
     ]
    },
    {
     "name": "stderr",
     "output_type": "stream",
     "text": [
      "eval_pred: 100%|███████████████████████████████| 15/15 [00:00<00:00, 979.09it/s]\n"
     ]
    },
    {
     "name": "stdout",
     "output_type": "stream",
     "text": [
      "\t eval rmse: 1.0025\n",
      "\t eval mae: 0.8012\n",
      "\t eval r2: 0.2995\n",
      "==============================\n",
      "Epoch 5 elapsed: 0.046s\n"
     ]
    },
    {
     "name": "stderr",
     "output_type": "stream",
     "text": [
      "eval_pred: 100%|███████████████████████████████| 15/15 [00:00<00:00, 950.95it/s]\n"
     ]
    },
    {
     "name": "stdout",
     "output_type": "stream",
     "text": [
      "\t eval rmse: 1.0012\n",
      "\t eval mae: 0.7998\n",
      "\t eval r2: 0.3013\n",
      "==============================\n",
      "Training start time: \u001b[35m2022-07-28 16:51:03\u001b[0m\n",
      "Epoch 1 elapsed: 0.029s\n"
     ]
    },
    {
     "name": "stderr",
     "output_type": "stream",
     "text": [
      "eval_pred: 100%|███████████████████████████████| 15/15 [00:00<00:00, 720.93it/s]\n"
     ]
    },
    {
     "name": "stdout",
     "output_type": "stream",
     "text": [
      "\t eval rmse: 1.2007\n",
      "\t eval mae: 0.9821\n",
      "\t eval r2: -0.0048\n",
      "==============================\n",
      "Epoch 2 elapsed: 0.056s\n"
     ]
    },
    {
     "name": "stderr",
     "output_type": "stream",
     "text": [
      "eval_pred: 100%|███████████████████████████████| 15/15 [00:00<00:00, 996.92it/s]"
     ]
    },
    {
     "name": "stdout",
     "output_type": "stream",
     "text": [
      "\t eval rmse: 1.1088\n",
      "\t eval mae: 0.9091\n"
     ]
    },
    {
     "name": "stderr",
     "output_type": "stream",
     "text": [
      "\n"
     ]
    },
    {
     "name": "stdout",
     "output_type": "stream",
     "text": [
      "\t eval r2: 0.1431\n",
      "==============================\n",
      "Epoch 3 elapsed: 0.038s\n"
     ]
    },
    {
     "name": "stderr",
     "output_type": "stream",
     "text": [
      "eval_pred: 100%|███████████████████████████████| 15/15 [00:00<00:00, 877.58it/s]\n"
     ]
    },
    {
     "name": "stdout",
     "output_type": "stream",
     "text": [
      "\t eval rmse: 1.0079\n",
      "\t eval mae: 0.8077\n",
      "\t eval r2: 0.2920\n",
      "==============================\n",
      "Epoch 4 elapsed: 0.045s\n"
     ]
    },
    {
     "name": "stderr",
     "output_type": "stream",
     "text": [
      "eval_pred: 100%|███████████████████████████████| 15/15 [00:00<00:00, 718.61it/s]\n"
     ]
    },
    {
     "name": "stdout",
     "output_type": "stream",
     "text": [
      "\t eval rmse: 1.0020\n",
      "\t eval mae: 0.8012\n",
      "\t eval r2: 0.3002\n",
      "==============================\n",
      "Epoch 5 elapsed: 0.036s\n"
     ]
    },
    {
     "name": "stderr",
     "output_type": "stream",
     "text": [
      "eval_pred: 100%|███████████████████████████████| 15/15 [00:00<00:00, 968.14it/s]\n"
     ]
    },
    {
     "name": "stdout",
     "output_type": "stream",
     "text": [
      "\t eval rmse: 1.0006\n",
      "\t eval mae: 0.7997\n",
      "\t eval r2: 0.3021\n",
      "==============================\n",
      "Training start time: \u001b[35m2022-07-28 16:51:03\u001b[0m\n",
      "Epoch 1 elapsed: 0.086s\n"
     ]
    },
    {
     "name": "stderr",
     "output_type": "stream",
     "text": [
      "eval_pred: 100%|██████████████████████████████| 15/15 [00:00<00:00, 1012.64it/s]"
     ]
    },
    {
     "name": "stdout",
     "output_type": "stream",
     "text": [
      "\t eval rmse: 1.2099\n",
      "\t eval mae: 0.9885\n",
      "\t eval r2: -0.0203\n",
      "==============================\n"
     ]
    },
    {
     "name": "stderr",
     "output_type": "stream",
     "text": [
      "\n"
     ]
    },
    {
     "name": "stdout",
     "output_type": "stream",
     "text": [
      "Epoch 2 elapsed: 0.093s\n"
     ]
    },
    {
     "name": "stderr",
     "output_type": "stream",
     "text": [
      "eval_pred: 100%|███████████████████████████████| 15/15 [00:00<00:00, 866.93it/s]\n"
     ]
    },
    {
     "name": "stdout",
     "output_type": "stream",
     "text": [
      "\t eval rmse: 1.0422\n",
      "\t eval mae: 0.8430\n",
      "\t eval r2: 0.2430\n",
      "==============================\n",
      "Epoch 3 elapsed: 0.048s\n"
     ]
    },
    {
     "name": "stderr",
     "output_type": "stream",
     "text": [
      "eval_pred: 100%|███████████████████████████████| 15/15 [00:00<00:00, 866.25it/s]"
     ]
    },
    {
     "name": "stdout",
     "output_type": "stream",
     "text": [
      "\t eval rmse: 1.0075\n",
      "\t eval mae: 0.8044\n",
      "\t eval r2: 0.2926\n",
      "==============================\n"
     ]
    },
    {
     "name": "stderr",
     "output_type": "stream",
     "text": [
      "\n"
     ]
    },
    {
     "name": "stdout",
     "output_type": "stream",
     "text": [
      "Epoch 4 elapsed: 0.044s\n"
     ]
    },
    {
     "name": "stderr",
     "output_type": "stream",
     "text": [
      "eval_pred: 100%|███████████████████████████████| 15/15 [00:00<00:00, 937.25it/s]"
     ]
    },
    {
     "name": "stdout",
     "output_type": "stream",
     "text": [
      "\t eval rmse: 1.0037\n",
      "\t eval mae: 0.7999\n",
      "\t eval r2: 0.2979\n",
      "==============================\n"
     ]
    },
    {
     "name": "stderr",
     "output_type": "stream",
     "text": [
      "\n"
     ]
    },
    {
     "name": "stdout",
     "output_type": "stream",
     "text": [
      "Epoch 5 elapsed: 0.059s\n"
     ]
    },
    {
     "name": "stderr",
     "output_type": "stream",
     "text": [
      "eval_pred: 100%|███████████████████████████████| 15/15 [00:00<00:00, 965.21it/s]"
     ]
    },
    {
     "name": "stdout",
     "output_type": "stream",
     "text": [
      "\t eval rmse: 1.0000\n",
      "\t eval mae: 0.7960\n",
      "\t eval r2: 0.3031\n",
      "==============================\n"
     ]
    },
    {
     "name": "stderr",
     "output_type": "stream",
     "text": [
      "\n"
     ]
    },
    {
     "name": "stdout",
     "output_type": "stream",
     "text": [
      "Training start time: \u001b[35m2022-07-28 16:51:04\u001b[0m\n",
      "Epoch 1 elapsed: 0.058s\n"
     ]
    },
    {
     "name": "stderr",
     "output_type": "stream",
     "text": [
      "eval_pred: 100%|███████████████████████████████| 15/15 [00:00<00:00, 905.14it/s]\n"
     ]
    },
    {
     "name": "stdout",
     "output_type": "stream",
     "text": [
      "\t eval rmse: 1.2069\n",
      "\t eval mae: 0.9858\n",
      "\t eval r2: -0.0152\n",
      "==============================\n",
      "Epoch 2 elapsed: 0.041s\n"
     ]
    },
    {
     "name": "stderr",
     "output_type": "stream",
     "text": [
      "eval_pred: 100%|███████████████████████████████| 15/15 [00:00<00:00, 998.74it/s]"
     ]
    },
    {
     "name": "stdout",
     "output_type": "stream",
     "text": [
      "\t eval rmse: 1.0349\n",
      "\t eval mae: 0.8342\n"
     ]
    },
    {
     "name": "stderr",
     "output_type": "stream",
     "text": [
      "\n"
     ]
    },
    {
     "name": "stdout",
     "output_type": "stream",
     "text": [
      "\t eval r2: 0.2535\n",
      "==============================\n",
      "Epoch 3 elapsed: 0.064s\n"
     ]
    },
    {
     "name": "stderr",
     "output_type": "stream",
     "text": [
      "eval_pred: 100%|██████████████████████████████| 15/15 [00:00<00:00, 1007.54it/s]"
     ]
    },
    {
     "name": "stdout",
     "output_type": "stream",
     "text": [
      "\t eval rmse: 1.0065\n"
     ]
    },
    {
     "name": "stderr",
     "output_type": "stream",
     "text": [
      "\n"
     ]
    },
    {
     "name": "stdout",
     "output_type": "stream",
     "text": [
      "\t eval mae: 0.8031\n",
      "\t eval r2: 0.2939\n",
      "==============================\n",
      "Epoch 4 elapsed: 0.071s\n"
     ]
    },
    {
     "name": "stderr",
     "output_type": "stream",
     "text": [
      "eval_pred: 100%|███████████████████████████████| 15/15 [00:00<00:00, 827.69it/s]\n"
     ]
    },
    {
     "name": "stdout",
     "output_type": "stream",
     "text": [
      "\t eval rmse: 1.0027\n",
      "\t eval mae: 0.7988\n",
      "\t eval r2: 0.2992\n",
      "==============================\n",
      "Epoch 5 elapsed: 0.050s\n"
     ]
    },
    {
     "name": "stderr",
     "output_type": "stream",
     "text": [
      "eval_pred: 100%|███████████████████████████████| 15/15 [00:00<00:00, 804.65it/s]"
     ]
    },
    {
     "name": "stdout",
     "output_type": "stream",
     "text": [
      "\t eval rmse: 0.9994\n",
      "\t eval mae: 0.7953\n",
      "\t eval r2: 0.3039\n",
      "==============================\n"
     ]
    },
    {
     "name": "stderr",
     "output_type": "stream",
     "text": [
      "\n"
     ]
    },
    {
     "name": "stdout",
     "output_type": "stream",
     "text": [
      "Training start time: \u001b[35m2022-07-28 16:51:05\u001b[0m\n",
      "Epoch 1 elapsed: 0.050s\n"
     ]
    },
    {
     "name": "stderr",
     "output_type": "stream",
     "text": [
      "eval_pred: 100%|███████████████████████████████| 15/15 [00:00<00:00, 981.08it/s]\n"
     ]
    },
    {
     "name": "stdout",
     "output_type": "stream",
     "text": [
      "\t eval rmse: 1.2055\n",
      "\t eval mae: 0.9844\n",
      "\t eval r2: -0.0128\n",
      "==============================\n",
      "Epoch 2 elapsed: 0.047s\n"
     ]
    },
    {
     "name": "stderr",
     "output_type": "stream",
     "text": [
      "eval_pred: 100%|███████████████████████████████| 15/15 [00:00<00:00, 883.38it/s]"
     ]
    },
    {
     "name": "stdout",
     "output_type": "stream",
     "text": [
      "\t eval rmse: 1.0323\n"
     ]
    },
    {
     "name": "stderr",
     "output_type": "stream",
     "text": [
      "\n"
     ]
    },
    {
     "name": "stdout",
     "output_type": "stream",
     "text": [
      "\t eval mae: 0.8310\n",
      "\t eval r2: 0.2573\n",
      "==============================\n",
      "Epoch 3 elapsed: 0.059s\n"
     ]
    },
    {
     "name": "stderr",
     "output_type": "stream",
     "text": [
      "eval_pred: 100%|███████████████████████████████| 15/15 [00:00<00:00, 920.75it/s]\n"
     ]
    },
    {
     "name": "stdout",
     "output_type": "stream",
     "text": [
      "\t eval rmse: 1.0063\n",
      "\t eval mae: 0.8028\n",
      "\t eval r2: 0.2942\n",
      "==============================\n",
      "Epoch 4 elapsed: 0.044s\n"
     ]
    },
    {
     "name": "stderr",
     "output_type": "stream",
     "text": [
      "eval_pred: 100%|███████████████████████████████| 15/15 [00:00<00:00, 777.94it/s]"
     ]
    },
    {
     "name": "stdout",
     "output_type": "stream",
     "text": [
      "\t eval rmse: 1.0025\n"
     ]
    },
    {
     "name": "stderr",
     "output_type": "stream",
     "text": [
      "\n"
     ]
    },
    {
     "name": "stdout",
     "output_type": "stream",
     "text": [
      "\t eval mae: 0.7986\n",
      "\t eval r2: 0.2995\n",
      "==============================\n",
      "Epoch 5 elapsed: 0.052s\n"
     ]
    },
    {
     "name": "stderr",
     "output_type": "stream",
     "text": [
      "eval_pred: 100%|███████████████████████████████| 15/15 [00:00<00:00, 971.05it/s]\n"
     ]
    },
    {
     "name": "stdout",
     "output_type": "stream",
     "text": [
      "\t eval rmse: 0.9993\n",
      "\t eval mae: 0.7952\n",
      "\t eval r2: 0.3040\n",
      "==============================\n",
      "Training start time: \u001b[35m2022-07-28 16:51:06\u001b[0m\n",
      "Epoch 1 elapsed: 0.036s\n"
     ]
    },
    {
     "name": "stderr",
     "output_type": "stream",
     "text": [
      "eval_pred: 100%|███████████████████████████████| 15/15 [00:00<00:00, 984.52it/s]\n"
     ]
    },
    {
     "name": "stdout",
     "output_type": "stream",
     "text": [
      "\t eval rmse: 1.2038\n",
      "\t eval mae: 0.9827\n",
      "\t eval r2: -0.0099\n",
      "==============================\n",
      "Epoch 2 elapsed: 0.037s\n"
     ]
    },
    {
     "name": "stderr",
     "output_type": "stream",
     "text": [
      "eval_pred: 100%|███████████████████████████████| 15/15 [00:00<00:00, 910.62it/s]"
     ]
    },
    {
     "name": "stdout",
     "output_type": "stream",
     "text": [
      "\t eval rmse: 1.0295\n",
      "\t eval mae: 0.8279\n",
      "\t eval r2: 0.2613\n",
      "==============================\n"
     ]
    },
    {
     "name": "stderr",
     "output_type": "stream",
     "text": [
      "\n"
     ]
    },
    {
     "name": "stdout",
     "output_type": "stream",
     "text": [
      "Epoch 3 elapsed: 0.040s\n"
     ]
    },
    {
     "name": "stderr",
     "output_type": "stream",
     "text": [
      "eval_pred: 100%|███████████████████████████████| 15/15 [00:00<00:00, 851.76it/s]\n"
     ]
    },
    {
     "name": "stdout",
     "output_type": "stream",
     "text": [
      "\t eval rmse: 1.0062\n",
      "\t eval mae: 0.8026\n",
      "\t eval r2: 0.2944\n",
      "==============================\n",
      "Epoch 4 elapsed: 0.042s\n"
     ]
    },
    {
     "name": "stderr",
     "output_type": "stream",
     "text": [
      "eval_pred: 100%|███████████████████████████████| 15/15 [00:00<00:00, 941.45it/s]\n"
     ]
    },
    {
     "name": "stdout",
     "output_type": "stream",
     "text": [
      "\t eval rmse: 1.0024\n",
      "\t eval mae: 0.7985\n",
      "\t eval r2: 0.2997\n",
      "==============================\n",
      "Epoch 5 elapsed: 0.038s\n"
     ]
    },
    {
     "name": "stderr",
     "output_type": "stream",
     "text": [
      "eval_pred: 100%|██████████████████████████████| 15/15 [00:00<00:00, 1142.30it/s]\n"
     ]
    },
    {
     "name": "stdout",
     "output_type": "stream",
     "text": [
      "\t eval rmse: 0.9993\n",
      "\t eval mae: 0.7952\n",
      "\t eval r2: 0.3040\n",
      "==============================\n",
      "Training start time: \u001b[35m2022-07-28 16:51:07\u001b[0m\n",
      "Epoch 1 elapsed: 0.055s\n"
     ]
    },
    {
     "name": "stderr",
     "output_type": "stream",
     "text": [
      "eval_pred: 100%|███████████████████████████████| 15/15 [00:00<00:00, 884.14it/s]\n"
     ]
    },
    {
     "name": "stdout",
     "output_type": "stream",
     "text": [
      "\t eval rmse: 1.2032\n",
      "\t eval mae: 0.9822\n",
      "\t eval r2: -0.0090\n",
      "==============================\n",
      "Epoch 2 elapsed: 0.050s\n"
     ]
    },
    {
     "name": "stderr",
     "output_type": "stream",
     "text": [
      "eval_pred: 100%|███████████████████████████████| 15/15 [00:00<00:00, 842.93it/s]"
     ]
    },
    {
     "name": "stdout",
     "output_type": "stream",
     "text": [
      "\t eval rmse: 1.0289\n"
     ]
    },
    {
     "name": "stderr",
     "output_type": "stream",
     "text": [
      "\n"
     ]
    },
    {
     "name": "stdout",
     "output_type": "stream",
     "text": [
      "\t eval mae: 0.8273\n",
      "\t eval r2: 0.2622\n",
      "==============================\n",
      "Epoch 3 elapsed: 0.060s\n"
     ]
    },
    {
     "name": "stderr",
     "output_type": "stream",
     "text": [
      "eval_pred: 100%|███████████████████████████████| 15/15 [00:00<00:00, 825.27it/s]\n"
     ]
    },
    {
     "name": "stdout",
     "output_type": "stream",
     "text": [
      "\t eval rmse: 1.0062\n",
      "\t eval mae: 0.8027\n",
      "\t eval r2: 0.2944\n",
      "==============================\n",
      "Epoch 4 elapsed: 0.040s\n"
     ]
    },
    {
     "name": "stderr",
     "output_type": "stream",
     "text": [
      "eval_pred: 100%|███████████████████████████████| 15/15 [00:00<00:00, 965.45it/s]\n"
     ]
    },
    {
     "name": "stdout",
     "output_type": "stream",
     "text": [
      "\t eval rmse: 1.0024\n",
      "\t eval mae: 0.7985\n",
      "\t eval r2: 0.2997\n",
      "==============================\n",
      "Epoch 5 elapsed: 0.046s\n"
     ]
    },
    {
     "name": "stderr",
     "output_type": "stream",
     "text": [
      "eval_pred: 100%|██████████████████████████████| 15/15 [00:00<00:00, 1017.29it/s]\n"
     ]
    },
    {
     "name": "stdout",
     "output_type": "stream",
     "text": [
      "\t eval rmse: 0.9994\n",
      "\t eval mae: 0.7953\n",
      "\t eval r2: 0.3039\n",
      "==============================\n",
      "Training start time: \u001b[35m2022-07-28 16:51:08\u001b[0m\n",
      "Epoch 1 elapsed: 0.041s\n"
     ]
    },
    {
     "name": "stderr",
     "output_type": "stream",
     "text": [
      "eval_pred: 100%|███████████████████████████████| 15/15 [00:00<00:00, 612.46it/s]\n"
     ]
    },
    {
     "name": "stdout",
     "output_type": "stream",
     "text": [
      "\t eval rmse: 1.2024\n",
      "\t eval mae: 0.9815\n",
      "\t eval r2: -0.0077\n",
      "==============================\n",
      "Epoch 2 elapsed: 0.060s\n"
     ]
    },
    {
     "name": "stderr",
     "output_type": "stream",
     "text": [
      "eval_pred: 100%|███████████████████████████████| 15/15 [00:00<00:00, 728.22it/s]\n"
     ]
    },
    {
     "name": "stdout",
     "output_type": "stream",
     "text": [
      "\t eval rmse: 1.0282\n",
      "\t eval mae: 0.8269\n",
      "\t eval r2: 0.2632\n",
      "==============================\n",
      "Epoch 3 elapsed: 0.043s\n"
     ]
    },
    {
     "name": "stderr",
     "output_type": "stream",
     "text": [
      "eval_pred: 100%|███████████████████████████████| 15/15 [00:00<00:00, 921.58it/s]\n"
     ]
    },
    {
     "name": "stdout",
     "output_type": "stream",
     "text": [
      "\t eval rmse: 1.0060\n",
      "\t eval mae: 0.8027\n",
      "\t eval r2: 0.2947\n",
      "==============================\n",
      "Epoch 4 elapsed: 0.045s\n"
     ]
    },
    {
     "name": "stderr",
     "output_type": "stream",
     "text": [
      "eval_pred: 100%|███████████████████████████████| 15/15 [00:00<00:00, 878.82it/s]\n"
     ]
    },
    {
     "name": "stdout",
     "output_type": "stream",
     "text": [
      "\t eval rmse: 1.0022\n",
      "\t eval mae: 0.7985\n",
      "\t eval r2: 0.3000\n",
      "==============================\n",
      "Epoch 5 elapsed: 0.037s\n"
     ]
    },
    {
     "name": "stderr",
     "output_type": "stream",
     "text": [
      "eval_pred: 100%|███████████████████████████████| 15/15 [00:00<00:00, 876.93it/s]\n"
     ]
    },
    {
     "name": "stdout",
     "output_type": "stream",
     "text": [
      "\t eval rmse: 0.9992\n",
      "\t eval mae: 0.7952\n",
      "\t eval r2: 0.3042\n",
      "==============================\n",
      "Training start time: \u001b[35m2022-07-28 16:51:08\u001b[0m\n",
      "Epoch 1 elapsed: 0.037s\n"
     ]
    },
    {
     "name": "stderr",
     "output_type": "stream",
     "text": [
      "eval_pred: 100%|███████████████████████████████| 15/15 [00:00<00:00, 773.12it/s]\n"
     ]
    },
    {
     "name": "stdout",
     "output_type": "stream",
     "text": [
      "\t eval rmse: 1.2003\n",
      "\t eval mae: 0.9802\n",
      "\t eval r2: -0.0042\n",
      "==============================\n",
      "Epoch 2 elapsed: 0.059s\n"
     ]
    },
    {
     "name": "stderr",
     "output_type": "stream",
     "text": [
      "eval_pred: 100%|███████████████████████████████| 15/15 [00:00<00:00, 972.36it/s]"
     ]
    },
    {
     "name": "stdout",
     "output_type": "stream",
     "text": [
      "\t eval rmse: 1.0266\n"
     ]
    },
    {
     "name": "stderr",
     "output_type": "stream",
     "text": [
      "\n"
     ]
    },
    {
     "name": "stdout",
     "output_type": "stream",
     "text": [
      "\t eval mae: 0.8256\n",
      "\t eval r2: 0.2655\n",
      "==============================\n",
      "Epoch 3 elapsed: 0.046s\n"
     ]
    },
    {
     "name": "stderr",
     "output_type": "stream",
     "text": [
      "eval_pred: 100%|███████████████████████████████| 15/15 [00:00<00:00, 859.45it/s]\n"
     ]
    },
    {
     "name": "stdout",
     "output_type": "stream",
     "text": [
      "\t eval rmse: 1.0049\n",
      "\t eval mae: 0.8021\n",
      "\t eval r2: 0.2963\n",
      "==============================\n",
      "Epoch 4 elapsed: 0.043s\n"
     ]
    },
    {
     "name": "stderr",
     "output_type": "stream",
     "text": [
      "eval_pred: 100%|███████████████████████████████| 15/15 [00:00<00:00, 873.38it/s]"
     ]
    },
    {
     "name": "stdout",
     "output_type": "stream",
     "text": [
      "\t eval rmse: 1.0010\n"
     ]
    },
    {
     "name": "stderr",
     "output_type": "stream",
     "text": [
      "\n"
     ]
    },
    {
     "name": "stdout",
     "output_type": "stream",
     "text": [
      "\t eval mae: 0.7979\n",
      "\t eval r2: 0.3016\n",
      "==============================\n",
      "Epoch 5 elapsed: 0.070s\n"
     ]
    },
    {
     "name": "stderr",
     "output_type": "stream",
     "text": [
      "eval_pred: 100%|███████████████████████████████| 15/15 [00:00<00:00, 735.19it/s]\n"
     ]
    },
    {
     "name": "stdout",
     "output_type": "stream",
     "text": [
      "\t eval rmse: 0.9980\n",
      "\t eval mae: 0.7947\n",
      "\t eval r2: 0.3058\n",
      "==============================\n",
      "Training start time: \u001b[35m2022-07-28 16:51:09\u001b[0m\n",
      "Epoch 1 elapsed: 0.040s\n"
     ]
    },
    {
     "name": "stderr",
     "output_type": "stream",
     "text": [
      "eval_pred: 100%|███████████████████████████████| 15/15 [00:00<00:00, 941.34it/s]\n"
     ]
    },
    {
     "name": "stdout",
     "output_type": "stream",
     "text": [
      "\t eval rmse: 1.1974\n",
      "\t eval mae: 0.9786\n",
      "\t eval r2: 0.0007\n",
      "==============================\n",
      "Epoch 2 elapsed: 0.036s\n"
     ]
    },
    {
     "name": "stderr",
     "output_type": "stream",
     "text": [
      "eval_pred: 100%|███████████████████████████████| 15/15 [00:00<00:00, 990.33it/s]"
     ]
    },
    {
     "name": "stdout",
     "output_type": "stream",
     "text": [
      "\t eval rmse: 1.0247\n",
      "\t eval mae: 0.8238\n",
      "\t eval r2: 0.2682\n",
      "==============================\n"
     ]
    },
    {
     "name": "stderr",
     "output_type": "stream",
     "text": [
      "\n"
     ]
    },
    {
     "name": "stdout",
     "output_type": "stream",
     "text": [
      "Epoch 3 elapsed: 0.042s\n"
     ]
    },
    {
     "name": "stderr",
     "output_type": "stream",
     "text": [
      "eval_pred: 100%|███████████████████████████████| 15/15 [00:00<00:00, 824.61it/s]\n"
     ]
    },
    {
     "name": "stdout",
     "output_type": "stream",
     "text": [
      "\t eval rmse: 1.0038\n",
      "\t eval mae: 0.8016\n",
      "\t eval r2: 0.2978\n",
      "==============================\n",
      "Epoch 4 elapsed: 0.037s\n"
     ]
    },
    {
     "name": "stderr",
     "output_type": "stream",
     "text": [
      "eval_pred: 100%|███████████████████████████████| 15/15 [00:00<00:00, 813.51it/s]\n"
     ]
    },
    {
     "name": "stdout",
     "output_type": "stream",
     "text": [
      "\t eval rmse: 1.0001\n",
      "\t eval mae: 0.7976\n",
      "\t eval r2: 0.3030\n",
      "==============================\n",
      "Epoch 5 elapsed: 0.036s\n"
     ]
    },
    {
     "name": "stderr",
     "output_type": "stream",
     "text": [
      "eval_pred: 100%|███████████████████████████████| 15/15 [00:00<00:00, 687.27it/s]\n"
     ]
    },
    {
     "name": "stdout",
     "output_type": "stream",
     "text": [
      "\t eval rmse: 0.9971\n",
      "\t eval mae: 0.7943\n",
      "\t eval r2: 0.3071\n",
      "==============================\n",
      "Training start time: \u001b[35m2022-07-28 16:51:10\u001b[0m\n",
      "Epoch 1 elapsed: 0.055s\n"
     ]
    },
    {
     "name": "stderr",
     "output_type": "stream",
     "text": [
      "eval_pred: 100%|███████████████████████████████| 15/15 [00:00<00:00, 827.28it/s]\n"
     ]
    },
    {
     "name": "stdout",
     "output_type": "stream",
     "text": [
      "\t eval rmse: 1.2212\n",
      "\t eval mae: 0.9932\n",
      "\t eval r2: -0.0394\n",
      "==============================\n",
      "Epoch 2 elapsed: 0.056s\n"
     ]
    },
    {
     "name": "stderr",
     "output_type": "stream",
     "text": [
      "eval_pred: 100%|███████████████████████████████| 15/15 [00:00<00:00, 940.92it/s]\n"
     ]
    },
    {
     "name": "stdout",
     "output_type": "stream",
     "text": [
      "\t eval rmse: 1.0321\n",
      "\t eval mae: 0.8256\n",
      "\t eval r2: 0.2576\n",
      "==============================\n",
      "Epoch 3 elapsed: 0.071s\n"
     ]
    },
    {
     "name": "stderr",
     "output_type": "stream",
     "text": [
      "eval_pred: 100%|███████████████████████████████| 15/15 [00:00<00:00, 877.09it/s]\n"
     ]
    },
    {
     "name": "stdout",
     "output_type": "stream",
     "text": [
      "\t eval rmse: 1.0162\n",
      "\t eval mae: 0.8074\n",
      "\t eval r2: 0.2803\n",
      "==============================\n",
      "Epoch 4 elapsed: 0.063s\n"
     ]
    },
    {
     "name": "stderr",
     "output_type": "stream",
     "text": [
      "eval_pred: 100%|███████████████████████████████| 15/15 [00:00<00:00, 860.21it/s]"
     ]
    },
    {
     "name": "stdout",
     "output_type": "stream",
     "text": [
      "\t eval rmse: 1.0135\n",
      "\t eval mae: 0.8040\n",
      "\t eval r2: 0.2841\n",
      "==============================\n"
     ]
    },
    {
     "name": "stderr",
     "output_type": "stream",
     "text": [
      "\n"
     ]
    },
    {
     "name": "stdout",
     "output_type": "stream",
     "text": [
      "Epoch 5 elapsed: 0.063s\n"
     ]
    },
    {
     "name": "stderr",
     "output_type": "stream",
     "text": [
      "eval_pred: 100%|███████████████████████████████| 15/15 [00:00<00:00, 928.71it/s]"
     ]
    },
    {
     "name": "stdout",
     "output_type": "stream",
     "text": [
      "\t eval rmse: 1.0117\n",
      "\t eval mae: 0.8019\n",
      "\t eval r2: 0.2866\n",
      "==============================\n"
     ]
    },
    {
     "name": "stderr",
     "output_type": "stream",
     "text": [
      "\n"
     ]
    },
    {
     "name": "stdout",
     "output_type": "stream",
     "text": [
      "Training start time: \u001b[35m2022-07-28 16:51:11\u001b[0m\n",
      "Epoch 1 elapsed: 0.059s\n"
     ]
    },
    {
     "name": "stderr",
     "output_type": "stream",
     "text": [
      "eval_pred: 100%|███████████████████████████████| 15/15 [00:00<00:00, 930.59it/s]\n"
     ]
    },
    {
     "name": "stdout",
     "output_type": "stream",
     "text": [
      "\t eval rmse: 1.2159\n",
      "\t eval mae: 0.9885\n",
      "\t eval r2: -0.0304\n",
      "==============================\n",
      "Epoch 2 elapsed: 0.055s\n"
     ]
    },
    {
     "name": "stderr",
     "output_type": "stream",
     "text": [
      "eval_pred: 100%|███████████████████████████████| 15/15 [00:00<00:00, 578.98it/s]\n"
     ]
    },
    {
     "name": "stdout",
     "output_type": "stream",
     "text": [
      "\t eval rmse: 1.0273\n",
      "\t eval mae: 0.8204\n",
      "\t eval r2: 0.2645\n",
      "==============================\n",
      "Epoch 3 elapsed: 0.061s\n"
     ]
    },
    {
     "name": "stderr",
     "output_type": "stream",
     "text": [
      "eval_pred: 100%|███████████████████████████████| 15/15 [00:00<00:00, 910.49it/s]\n"
     ]
    },
    {
     "name": "stdout",
     "output_type": "stream",
     "text": [
      "\t eval rmse: 1.0140\n",
      "\t eval mae: 0.8055\n",
      "\t eval r2: 0.2834\n",
      "==============================\n",
      "Epoch 4 elapsed: 0.060s\n"
     ]
    },
    {
     "name": "stderr",
     "output_type": "stream",
     "text": [
      "eval_pred: 100%|███████████████████████████████| 15/15 [00:00<00:00, 909.74it/s]"
     ]
    },
    {
     "name": "stdout",
     "output_type": "stream",
     "text": [
      "\t eval rmse: 1.0117\n",
      "\t eval mae: 0.8024\n",
      "\t eval r2: 0.2867\n",
      "==============================\n"
     ]
    },
    {
     "name": "stderr",
     "output_type": "stream",
     "text": [
      "\n"
     ]
    },
    {
     "name": "stdout",
     "output_type": "stream",
     "text": [
      "Epoch 5 elapsed: 0.068s\n"
     ]
    },
    {
     "name": "stderr",
     "output_type": "stream",
     "text": [
      "eval_pred: 100%|███████████████████████████████| 15/15 [00:00<00:00, 790.94it/s]\n"
     ]
    },
    {
     "name": "stdout",
     "output_type": "stream",
     "text": [
      "\t eval rmse: 1.0101\n",
      "\t eval mae: 0.8005\n",
      "\t eval r2: 0.2889\n",
      "==============================\n",
      "Training start time: \u001b[35m2022-07-28 16:51:12\u001b[0m\n",
      "Epoch 1 elapsed: 0.066s\n"
     ]
    },
    {
     "name": "stderr",
     "output_type": "stream",
     "text": [
      "eval_pred: 100%|███████████████████████████████| 15/15 [00:00<00:00, 922.83it/s]"
     ]
    },
    {
     "name": "stdout",
     "output_type": "stream",
     "text": [
      "\t eval rmse: 1.2133\n",
      "\t eval mae: 0.9860\n",
      "\t eval r2: -0.0260\n",
      "==============================\n"
     ]
    },
    {
     "name": "stderr",
     "output_type": "stream",
     "text": [
      "\n"
     ]
    },
    {
     "name": "stdout",
     "output_type": "stream",
     "text": [
      "Epoch 2 elapsed: 0.083s\n"
     ]
    },
    {
     "name": "stderr",
     "output_type": "stream",
     "text": [
      "eval_pred: 100%|███████████████████████████████| 15/15 [00:00<00:00, 929.77it/s]\n"
     ]
    },
    {
     "name": "stdout",
     "output_type": "stream",
     "text": [
      "\t eval rmse: 1.0258\n",
      "\t eval mae: 0.8187\n",
      "\t eval r2: 0.2667\n",
      "==============================\n",
      "Epoch 3 elapsed: 0.061s\n"
     ]
    },
    {
     "name": "stderr",
     "output_type": "stream",
     "text": [
      "eval_pred: 100%|███████████████████████████████| 15/15 [00:00<00:00, 943.90it/s]"
     ]
    },
    {
     "name": "stdout",
     "output_type": "stream",
     "text": [
      "\t eval rmse: 1.0135\n",
      "\t eval mae: 0.8050\n",
      "\t eval r2: 0.2841\n",
      "==============================\n"
     ]
    },
    {
     "name": "stderr",
     "output_type": "stream",
     "text": [
      "\n"
     ]
    },
    {
     "name": "stdout",
     "output_type": "stream",
     "text": [
      "Epoch 4 elapsed: 0.056s\n"
     ]
    },
    {
     "name": "stderr",
     "output_type": "stream",
     "text": [
      "eval_pred: 100%|███████████████████████████████| 15/15 [00:00<00:00, 862.80it/s]"
     ]
    },
    {
     "name": "stdout",
     "output_type": "stream",
     "text": [
      "\t eval rmse: 1.0112\n",
      "\t eval mae: 0.8020\n",
      "\t eval r2: 0.2873\n",
      "==============================\n"
     ]
    },
    {
     "name": "stderr",
     "output_type": "stream",
     "text": [
      "\n"
     ]
    },
    {
     "name": "stdout",
     "output_type": "stream",
     "text": [
      "Epoch 5 elapsed: 0.084s\n"
     ]
    },
    {
     "name": "stderr",
     "output_type": "stream",
     "text": [
      "eval_pred: 100%|███████████████████████████████| 15/15 [00:00<00:00, 837.73it/s]"
     ]
    },
    {
     "name": "stdout",
     "output_type": "stream",
     "text": [
      "\t eval rmse: 1.0097\n",
      "\t eval mae: 0.8002\n"
     ]
    },
    {
     "name": "stderr",
     "output_type": "stream",
     "text": [
      "\n"
     ]
    },
    {
     "name": "stdout",
     "output_type": "stream",
     "text": [
      "\t eval r2: 0.2894\n",
      "==============================\n",
      "Training start time: \u001b[35m2022-07-28 16:51:13\u001b[0m\n",
      "Epoch 1 elapsed: 0.088s\n"
     ]
    },
    {
     "name": "stderr",
     "output_type": "stream",
     "text": [
      "eval_pred: 100%|███████████████████████████████| 15/15 [00:00<00:00, 972.40it/s]"
     ]
    },
    {
     "name": "stdout",
     "output_type": "stream",
     "text": [
      "\t eval rmse: 1.2099\n",
      "\t eval mae: 0.9827\n",
      "\t eval r2: -0.0203\n",
      "==============================\n"
     ]
    },
    {
     "name": "stderr",
     "output_type": "stream",
     "text": [
      "\n"
     ]
    },
    {
     "name": "stdout",
     "output_type": "stream",
     "text": [
      "Epoch 2 elapsed: 0.144s\n"
     ]
    },
    {
     "name": "stderr",
     "output_type": "stream",
     "text": [
      "eval_pred: 100%|███████████████████████████████| 15/15 [00:00<00:00, 959.94it/s]\n"
     ]
    },
    {
     "name": "stdout",
     "output_type": "stream",
     "text": [
      "\t eval rmse: 1.0244\n",
      "\t eval mae: 0.8173\n",
      "\t eval r2: 0.2686\n",
      "==============================\n",
      "Epoch 3 elapsed: 0.079s\n"
     ]
    },
    {
     "name": "stderr",
     "output_type": "stream",
     "text": [
      "eval_pred: 100%|███████████████████████████████| 15/15 [00:00<00:00, 907.99it/s]"
     ]
    },
    {
     "name": "stdout",
     "output_type": "stream",
     "text": [
      "\t eval rmse: 1.0134\n",
      "\t eval mae: 0.8049\n",
      "\t eval r2: 0.2843\n",
      "==============================\n"
     ]
    },
    {
     "name": "stderr",
     "output_type": "stream",
     "text": [
      "\n"
     ]
    },
    {
     "name": "stdout",
     "output_type": "stream",
     "text": [
      "Epoch 4 elapsed: 0.131s\n"
     ]
    },
    {
     "name": "stderr",
     "output_type": "stream",
     "text": [
      "eval_pred: 100%|███████████████████████████████| 15/15 [00:00<00:00, 668.42it/s]\n"
     ]
    },
    {
     "name": "stdout",
     "output_type": "stream",
     "text": [
      "\t eval rmse: 1.0111\n",
      "\t eval mae: 0.8019\n",
      "\t eval r2: 0.2875\n",
      "==============================\n",
      "Epoch 5 elapsed: 0.126s\n"
     ]
    },
    {
     "name": "stderr",
     "output_type": "stream",
     "text": [
      "eval_pred: 100%|███████████████████████████████| 15/15 [00:00<00:00, 756.62it/s]"
     ]
    },
    {
     "name": "stdout",
     "output_type": "stream",
     "text": [
      "\t eval rmse: 1.0096\n",
      "\t eval mae: 0.8001\n",
      "\t eval r2: 0.2896\n",
      "==============================\n"
     ]
    },
    {
     "name": "stderr",
     "output_type": "stream",
     "text": [
      "\n"
     ]
    },
    {
     "name": "stdout",
     "output_type": "stream",
     "text": [
      "Training start time: \u001b[35m2022-07-28 16:51:14\u001b[0m\n",
      "Epoch 1 elapsed: 0.055s\n"
     ]
    },
    {
     "name": "stderr",
     "output_type": "stream",
     "text": [
      "eval_pred: 100%|███████████████████████████████| 15/15 [00:00<00:00, 923.53it/s]\n"
     ]
    },
    {
     "name": "stdout",
     "output_type": "stream",
     "text": [
      "\t eval rmse: 1.2088\n",
      "\t eval mae: 0.9816\n",
      "\t eval r2: -0.0184\n",
      "==============================\n",
      "Epoch 2 elapsed: 0.076s\n"
     ]
    },
    {
     "name": "stderr",
     "output_type": "stream",
     "text": [
      "eval_pred: 100%|███████████████████████████████| 15/15 [00:00<00:00, 624.64it/s]\n"
     ]
    },
    {
     "name": "stdout",
     "output_type": "stream",
     "text": [
      "\t eval rmse: 1.0243\n",
      "\t eval mae: 0.8171\n",
      "\t eval r2: 0.2688\n",
      "==============================\n",
      "Epoch 3 elapsed: 0.068s\n"
     ]
    },
    {
     "name": "stderr",
     "output_type": "stream",
     "text": [
      "eval_pred: 100%|███████████████████████████████| 15/15 [00:00<00:00, 888.32it/s]\n"
     ]
    },
    {
     "name": "stdout",
     "output_type": "stream",
     "text": [
      "\t eval rmse: 1.0135\n",
      "\t eval mae: 0.8050\n",
      "\t eval r2: 0.2841\n",
      "==============================\n",
      "Epoch 4 elapsed: 0.063s\n"
     ]
    },
    {
     "name": "stderr",
     "output_type": "stream",
     "text": [
      "eval_pred: 100%|███████████████████████████████| 15/15 [00:00<00:00, 958.73it/s]"
     ]
    },
    {
     "name": "stdout",
     "output_type": "stream",
     "text": [
      "\t eval rmse: 1.0112\n",
      "\t eval mae: 0.8020\n",
      "\t eval r2: 0.2874\n",
      "==============================\n"
     ]
    },
    {
     "name": "stderr",
     "output_type": "stream",
     "text": [
      "\n"
     ]
    },
    {
     "name": "stdout",
     "output_type": "stream",
     "text": [
      "Epoch 5 elapsed: 0.066s\n"
     ]
    },
    {
     "name": "stderr",
     "output_type": "stream",
     "text": [
      "eval_pred: 100%|███████████████████████████████| 15/15 [00:00<00:00, 869.73it/s]"
     ]
    },
    {
     "name": "stdout",
     "output_type": "stream",
     "text": [
      "\t eval rmse: 1.0096\n",
      "\t eval mae: 0.8001\n",
      "\t eval r2: 0.2896\n",
      "==============================\n"
     ]
    },
    {
     "name": "stderr",
     "output_type": "stream",
     "text": [
      "\n"
     ]
    },
    {
     "name": "stdout",
     "output_type": "stream",
     "text": [
      "Training start time: \u001b[35m2022-07-28 16:51:15\u001b[0m\n",
      "Epoch 1 elapsed: 0.065s\n"
     ]
    },
    {
     "name": "stderr",
     "output_type": "stream",
     "text": [
      "eval_pred: 100%|███████████████████████████████| 15/15 [00:00<00:00, 713.05it/s]"
     ]
    },
    {
     "name": "stdout",
     "output_type": "stream",
     "text": [
      "\t eval rmse: 1.2074\n",
      "\t eval mae: 0.9803\n",
      "\t eval r2: -0.0160\n",
      "==============================\n"
     ]
    },
    {
     "name": "stderr",
     "output_type": "stream",
     "text": [
      "\n"
     ]
    },
    {
     "name": "stdout",
     "output_type": "stream",
     "text": [
      "Epoch 2 elapsed: 0.073s\n"
     ]
    },
    {
     "name": "stderr",
     "output_type": "stream",
     "text": [
      "eval_pred: 100%|███████████████████████████████| 15/15 [00:00<00:00, 903.45it/s]\n"
     ]
    },
    {
     "name": "stdout",
     "output_type": "stream",
     "text": [
      "\t eval rmse: 1.0240\n",
      "\t eval mae: 0.8169\n",
      "\t eval r2: 0.2692\n",
      "==============================\n",
      "Epoch 3 elapsed: 0.074s\n"
     ]
    },
    {
     "name": "stderr",
     "output_type": "stream",
     "text": [
      "eval_pred: 100%|███████████████████████████████| 15/15 [00:00<00:00, 835.39it/s]"
     ]
    },
    {
     "name": "stdout",
     "output_type": "stream",
     "text": [
      "\t eval rmse: 1.0134\n",
      "\t eval mae: 0.8051\n",
      "\t eval r2: 0.2842\n",
      "==============================\n"
     ]
    },
    {
     "name": "stderr",
     "output_type": "stream",
     "text": [
      "\n"
     ]
    },
    {
     "name": "stdout",
     "output_type": "stream",
     "text": [
      "Epoch 4 elapsed: 0.060s\n"
     ]
    },
    {
     "name": "stderr",
     "output_type": "stream",
     "text": [
      "eval_pred: 100%|███████████████████████████████| 15/15 [00:00<00:00, 933.62it/s]"
     ]
    },
    {
     "name": "stdout",
     "output_type": "stream",
     "text": [
      "\t eval rmse: 1.0109\n",
      "\t eval mae: 0.8019\n",
      "\t eval r2: 0.2877\n",
      "==============================\n"
     ]
    },
    {
     "name": "stderr",
     "output_type": "stream",
     "text": [
      "\n"
     ]
    },
    {
     "name": "stdout",
     "output_type": "stream",
     "text": [
      "Epoch 5 elapsed: 0.076s\n"
     ]
    },
    {
     "name": "stderr",
     "output_type": "stream",
     "text": [
      "eval_pred: 100%|███████████████████████████████| 15/15 [00:00<00:00, 865.09it/s]"
     ]
    },
    {
     "name": "stdout",
     "output_type": "stream",
     "text": [
      "\t eval rmse: 1.0092\n",
      "\t eval mae: 0.7999\n",
      "\t eval r2: 0.2902\n",
      "==============================\n"
     ]
    },
    {
     "name": "stderr",
     "output_type": "stream",
     "text": [
      "\n"
     ]
    },
    {
     "name": "stdout",
     "output_type": "stream",
     "text": [
      "Training start time: \u001b[35m2022-07-28 16:51:16\u001b[0m\n",
      "Epoch 1 elapsed: 0.061s\n"
     ]
    },
    {
     "name": "stderr",
     "output_type": "stream",
     "text": [
      "eval_pred: 100%|███████████████████████████████| 15/15 [00:00<00:00, 918.92it/s]\n"
     ]
    },
    {
     "name": "stdout",
     "output_type": "stream",
     "text": [
      "\t eval rmse: 1.2044\n",
      "\t eval mae: 0.9784\n",
      "\t eval r2: -0.0109\n",
      "==============================\n",
      "Epoch 2 elapsed: 0.060s\n"
     ]
    },
    {
     "name": "stderr",
     "output_type": "stream",
     "text": [
      "eval_pred: 100%|███████████████████████████████| 15/15 [00:00<00:00, 860.06it/s]\n"
     ]
    },
    {
     "name": "stdout",
     "output_type": "stream",
     "text": [
      "\t eval rmse: 1.0222\n",
      "\t eval mae: 0.8157\n",
      "\t eval r2: 0.2718\n",
      "==============================\n",
      "Epoch 3 elapsed: 0.061s\n"
     ]
    },
    {
     "name": "stderr",
     "output_type": "stream",
     "text": [
      "eval_pred: 100%|███████████████████████████████| 15/15 [00:00<00:00, 898.60it/s]\n"
     ]
    },
    {
     "name": "stdout",
     "output_type": "stream",
     "text": [
      "\t eval rmse: 1.0115\n",
      "\t eval mae: 0.8040\n",
      "\t eval r2: 0.2869\n",
      "==============================\n",
      "Epoch 4 elapsed: 0.058s\n"
     ]
    },
    {
     "name": "stderr",
     "output_type": "stream",
     "text": [
      "eval_pred: 100%|███████████████████████████████| 15/15 [00:00<00:00, 751.12it/s]\n"
     ]
    },
    {
     "name": "stdout",
     "output_type": "stream",
     "text": [
      "\t eval rmse: 1.0089\n",
      "\t eval mae: 0.8007\n",
      "\t eval r2: 0.2905\n",
      "==============================\n",
      "Epoch 5 elapsed: 0.078s\n"
     ]
    },
    {
     "name": "stderr",
     "output_type": "stream",
     "text": [
      "eval_pred: 100%|███████████████████████████████| 15/15 [00:00<00:00, 967.35it/s]\n"
     ]
    },
    {
     "name": "stdout",
     "output_type": "stream",
     "text": [
      "\t eval rmse: 1.0072\n",
      "\t eval mae: 0.7986\n",
      "\t eval r2: 0.2930\n",
      "==============================\n",
      "Training start time: \u001b[35m2022-07-28 16:51:16\u001b[0m\n",
      "Epoch 1 elapsed: 0.072s\n"
     ]
    },
    {
     "name": "stderr",
     "output_type": "stream",
     "text": [
      "eval_pred: 100%|███████████████████████████████| 15/15 [00:00<00:00, 789.96it/s]\n"
     ]
    },
    {
     "name": "stdout",
     "output_type": "stream",
     "text": [
      "\t eval rmse: 1.2001\n",
      "\t eval mae: 0.9761\n",
      "\t eval r2: -0.0038\n",
      "==============================\n",
      "Epoch 2 elapsed: 0.055s\n"
     ]
    },
    {
     "name": "stderr",
     "output_type": "stream",
     "text": [
      "eval_pred: 100%|███████████████████████████████| 15/15 [00:00<00:00, 888.51it/s]\n"
     ]
    },
    {
     "name": "stdout",
     "output_type": "stream",
     "text": [
      "\t eval rmse: 1.0199\n",
      "\t eval mae: 0.8144\n",
      "\t eval r2: 0.2750\n",
      "==============================\n",
      "Epoch 3 elapsed: 0.061s\n"
     ]
    },
    {
     "name": "stderr",
     "output_type": "stream",
     "text": [
      "eval_pred: 100%|███████████████████████████████| 15/15 [00:00<00:00, 893.41it/s]\n"
     ]
    },
    {
     "name": "stdout",
     "output_type": "stream",
     "text": [
      "\t eval rmse: 1.0092\n",
      "\t eval mae: 0.8028\n",
      "\t eval r2: 0.2902\n",
      "==============================\n",
      "Epoch 4 elapsed: 0.067s\n"
     ]
    },
    {
     "name": "stderr",
     "output_type": "stream",
     "text": [
      "eval_pred: 100%|███████████████████████████████| 15/15 [00:00<00:00, 841.77it/s]\n"
     ]
    },
    {
     "name": "stdout",
     "output_type": "stream",
     "text": [
      "\t eval rmse: 1.0068\n",
      "\t eval mae: 0.7997\n",
      "\t eval r2: 0.2935\n",
      "==============================\n",
      "Epoch 5 elapsed: 0.064s\n"
     ]
    },
    {
     "name": "stderr",
     "output_type": "stream",
     "text": [
      "eval_pred: 100%|███████████████████████████████| 15/15 [00:00<00:00, 930.00it/s]"
     ]
    },
    {
     "name": "stdout",
     "output_type": "stream",
     "text": [
      "\t eval rmse: 1.0052\n",
      "\t eval mae: 0.7977\n",
      "\t eval r2: 0.2957\n",
      "==============================\n"
     ]
    },
    {
     "name": "stderr",
     "output_type": "stream",
     "text": [
      "\n"
     ]
    },
    {
     "name": "stdout",
     "output_type": "stream",
     "text": [
      "Training start time: \u001b[35m2022-07-28 16:51:17\u001b[0m\n",
      "Epoch 1 elapsed: 0.084s\n"
     ]
    },
    {
     "name": "stderr",
     "output_type": "stream",
     "text": [
      "eval_pred: 100%|███████████████████████████████| 15/15 [00:00<00:00, 925.98it/s]"
     ]
    },
    {
     "name": "stdout",
     "output_type": "stream",
     "text": [
      "\t eval rmse: 1.2171\n",
      "\t eval mae: 0.9914\n",
      "\t eval r2: -0.0324\n",
      "==============================\n"
     ]
    },
    {
     "name": "stderr",
     "output_type": "stream",
     "text": [
      "\n"
     ]
    },
    {
     "name": "stdout",
     "output_type": "stream",
     "text": [
      "Epoch 2 elapsed: 0.078s\n"
     ]
    },
    {
     "name": "stderr",
     "output_type": "stream",
     "text": [
      "eval_pred: 100%|███████████████████████████████| 15/15 [00:00<00:00, 644.93it/s]\n"
     ]
    },
    {
     "name": "stdout",
     "output_type": "stream",
     "text": [
      "\t eval rmse: 1.0448\n",
      "\t eval mae: 0.8352\n",
      "\t eval r2: 0.2392\n",
      "==============================\n",
      "Epoch 3 elapsed: 0.086s\n"
     ]
    },
    {
     "name": "stderr",
     "output_type": "stream",
     "text": [
      "eval_pred: 100%|███████████████████████████████| 15/15 [00:00<00:00, 936.41it/s]"
     ]
    },
    {
     "name": "stdout",
     "output_type": "stream",
     "text": [
      "\t eval rmse: 1.0318\n",
      "\t eval mae: 0.8183\n",
      "\t eval r2: 0.2581\n",
      "==============================\n"
     ]
    },
    {
     "name": "stderr",
     "output_type": "stream",
     "text": [
      "\n"
     ]
    },
    {
     "name": "stdout",
     "output_type": "stream",
     "text": [
      "Epoch 4 elapsed: 0.088s\n"
     ]
    },
    {
     "name": "stderr",
     "output_type": "stream",
     "text": [
      "eval_pred: 100%|███████████████████████████████| 15/15 [00:00<00:00, 917.46it/s]"
     ]
    },
    {
     "name": "stdout",
     "output_type": "stream",
     "text": [
      "\t eval rmse: 1.0295\n",
      "\t eval mae: 0.8148\n",
      "\t eval r2: 0.2613\n",
      "==============================\n"
     ]
    },
    {
     "name": "stderr",
     "output_type": "stream",
     "text": [
      "\n"
     ]
    },
    {
     "name": "stdout",
     "output_type": "stream",
     "text": [
      "Epoch 5 elapsed: 0.104s\n"
     ]
    },
    {
     "name": "stderr",
     "output_type": "stream",
     "text": [
      "eval_pred: 100%|███████████████████████████████| 15/15 [00:00<00:00, 753.60it/s]"
     ]
    },
    {
     "name": "stdout",
     "output_type": "stream",
     "text": [
      "\t eval rmse: 1.0283\n"
     ]
    },
    {
     "name": "stderr",
     "output_type": "stream",
     "text": [
      "\n"
     ]
    },
    {
     "name": "stdout",
     "output_type": "stream",
     "text": [
      "\t eval mae: 0.8129\n",
      "\t eval r2: 0.2630\n",
      "==============================\n",
      "Training start time: \u001b[35m2022-07-28 16:51:18\u001b[0m\n",
      "Epoch 1 elapsed: 0.085s\n"
     ]
    },
    {
     "name": "stderr",
     "output_type": "stream",
     "text": [
      "eval_pred: 100%|███████████████████████████████| 15/15 [00:00<00:00, 717.52it/s]"
     ]
    },
    {
     "name": "stdout",
     "output_type": "stream",
     "text": [
      "\t eval rmse: 1.2105\n",
      "\t eval mae: 0.9850\n",
      "\t eval r2: -0.0212\n",
      "==============================\n"
     ]
    },
    {
     "name": "stderr",
     "output_type": "stream",
     "text": [
      "\n"
     ]
    },
    {
     "name": "stdout",
     "output_type": "stream",
     "text": [
      "Epoch 2 elapsed: 0.077s\n"
     ]
    },
    {
     "name": "stderr",
     "output_type": "stream",
     "text": [
      "eval_pred: 100%|███████████████████████████████| 15/15 [00:00<00:00, 665.45it/s]\n"
     ]
    },
    {
     "name": "stdout",
     "output_type": "stream",
     "text": [
      "\t eval rmse: 1.0390\n",
      "\t eval mae: 0.8287\n",
      "\t eval r2: 0.2476\n",
      "==============================\n",
      "Epoch 3 elapsed: 0.112s\n"
     ]
    },
    {
     "name": "stderr",
     "output_type": "stream",
     "text": [
      "eval_pred: 100%|███████████████████████████████| 15/15 [00:00<00:00, 897.20it/s]\n"
     ]
    },
    {
     "name": "stdout",
     "output_type": "stream",
     "text": [
      "\t eval rmse: 1.0285\n",
      "\t eval mae: 0.8154\n",
      "\t eval r2: 0.2628\n",
      "==============================\n",
      "Epoch 4 elapsed: 0.092s\n"
     ]
    },
    {
     "name": "stderr",
     "output_type": "stream",
     "text": [
      "eval_pred: 100%|███████████████████████████████| 15/15 [00:00<00:00, 765.98it/s]"
     ]
    },
    {
     "name": "stdout",
     "output_type": "stream",
     "text": [
      "\t eval rmse: 1.0267\n"
     ]
    },
    {
     "name": "stderr",
     "output_type": "stream",
     "text": [
      "\n"
     ]
    },
    {
     "name": "stdout",
     "output_type": "stream",
     "text": [
      "\t eval mae: 0.8125\n",
      "\t eval r2: 0.2654\n",
      "==============================\n",
      "Epoch 5 elapsed: 0.096s\n"
     ]
    },
    {
     "name": "stderr",
     "output_type": "stream",
     "text": [
      "eval_pred: 100%|███████████████████████████████| 15/15 [00:00<00:00, 786.44it/s]"
     ]
    },
    {
     "name": "stdout",
     "output_type": "stream",
     "text": [
      "\t eval rmse: 1.0258\n",
      "\t eval mae: 0.8109\n"
     ]
    },
    {
     "name": "stderr",
     "output_type": "stream",
     "text": [
      "\n"
     ]
    },
    {
     "name": "stdout",
     "output_type": "stream",
     "text": [
      "\t eval r2: 0.2666\n",
      "==============================\n",
      "Training start time: \u001b[35m2022-07-28 16:51:19\u001b[0m\n",
      "Epoch 1 elapsed: 0.111s\n"
     ]
    },
    {
     "name": "stderr",
     "output_type": "stream",
     "text": [
      "eval_pred: 100%|███████████████████████████████| 15/15 [00:00<00:00, 814.53it/s]"
     ]
    },
    {
     "name": "stdout",
     "output_type": "stream",
     "text": [
      "\t eval rmse: 1.2078\n",
      "\t eval mae: 0.9822\n",
      "\t eval r2: -0.0167\n",
      "==============================\n"
     ]
    },
    {
     "name": "stderr",
     "output_type": "stream",
     "text": [
      "\n"
     ]
    },
    {
     "name": "stdout",
     "output_type": "stream",
     "text": [
      "Epoch 2 elapsed: 0.078s\n"
     ]
    },
    {
     "name": "stderr",
     "output_type": "stream",
     "text": [
      "eval_pred: 100%|███████████████████████████████| 15/15 [00:00<00:00, 906.20it/s]\n"
     ]
    },
    {
     "name": "stdout",
     "output_type": "stream",
     "text": [
      "\t eval rmse: 1.0375\n",
      "\t eval mae: 0.8270\n",
      "\t eval r2: 0.2499\n",
      "==============================\n",
      "Epoch 3 elapsed: 0.100s\n"
     ]
    },
    {
     "name": "stderr",
     "output_type": "stream",
     "text": [
      "eval_pred: 100%|███████████████████████████████| 15/15 [00:00<00:00, 968.32it/s]"
     ]
    },
    {
     "name": "stdout",
     "output_type": "stream",
     "text": [
      "\t eval rmse: 1.0278\n",
      "\t eval mae: 0.8148\n"
     ]
    },
    {
     "name": "stderr",
     "output_type": "stream",
     "text": [
      "\n"
     ]
    },
    {
     "name": "stdout",
     "output_type": "stream",
     "text": [
      "\t eval r2: 0.2637\n",
      "==============================\n",
      "Epoch 4 elapsed: 0.082s\n"
     ]
    },
    {
     "name": "stderr",
     "output_type": "stream",
     "text": [
      "eval_pred: 100%|███████████████████████████████| 15/15 [00:00<00:00, 772.24it/s]"
     ]
    },
    {
     "name": "stdout",
     "output_type": "stream",
     "text": [
      "\t eval rmse: 1.0261\n",
      "\t eval mae: 0.8120\n"
     ]
    },
    {
     "name": "stderr",
     "output_type": "stream",
     "text": [
      "\n"
     ]
    },
    {
     "name": "stdout",
     "output_type": "stream",
     "text": [
      "\t eval r2: 0.2662\n",
      "==============================\n",
      "Epoch 5 elapsed: 0.090s\n"
     ]
    },
    {
     "name": "stderr",
     "output_type": "stream",
     "text": [
      "eval_pred: 100%|███████████████████████████████| 15/15 [00:00<00:00, 962.79it/s]"
     ]
    },
    {
     "name": "stdout",
     "output_type": "stream",
     "text": [
      "\t eval rmse: 1.0254\n",
      "\t eval mae: 0.8105\n"
     ]
    },
    {
     "name": "stderr",
     "output_type": "stream",
     "text": [
      "\n"
     ]
    },
    {
     "name": "stdout",
     "output_type": "stream",
     "text": [
      "\t eval r2: 0.2673\n",
      "==============================\n",
      "Training start time: \u001b[35m2022-07-28 16:51:20\u001b[0m\n",
      "Epoch 1 elapsed: 0.078s\n"
     ]
    },
    {
     "name": "stderr",
     "output_type": "stream",
     "text": [
      "eval_pred: 100%|███████████████████████████████| 15/15 [00:00<00:00, 885.78it/s]"
     ]
    },
    {
     "name": "stdout",
     "output_type": "stream",
     "text": [
      "\t eval rmse: 1.2046\n",
      "\t eval mae: 0.9788\n",
      "\t eval r2: -0.0114\n",
      "==============================\n"
     ]
    },
    {
     "name": "stderr",
     "output_type": "stream",
     "text": [
      "\n"
     ]
    },
    {
     "name": "stdout",
     "output_type": "stream",
     "text": [
      "Epoch 2 elapsed: 0.089s\n"
     ]
    },
    {
     "name": "stderr",
     "output_type": "stream",
     "text": [
      "eval_pred: 100%|███████████████████████████████| 15/15 [00:00<00:00, 749.83it/s]\n"
     ]
    },
    {
     "name": "stdout",
     "output_type": "stream",
     "text": [
      "\t eval rmse: 1.0366\n",
      "\t eval mae: 0.8259\n",
      "\t eval r2: 0.2511\n",
      "==============================\n",
      "Epoch 3 elapsed: 0.087s\n"
     ]
    },
    {
     "name": "stderr",
     "output_type": "stream",
     "text": [
      "eval_pred: 100%|███████████████████████████████| 15/15 [00:00<00:00, 910.89it/s]"
     ]
    },
    {
     "name": "stdout",
     "output_type": "stream",
     "text": [
      "\t eval rmse: 1.0278\n",
      "\t eval mae: 0.8147\n",
      "\t eval r2: 0.2638\n",
      "==============================\n"
     ]
    },
    {
     "name": "stderr",
     "output_type": "stream",
     "text": [
      "\n"
     ]
    },
    {
     "name": "stdout",
     "output_type": "stream",
     "text": [
      "Epoch 4 elapsed: 0.082s\n"
     ]
    },
    {
     "name": "stderr",
     "output_type": "stream",
     "text": [
      "eval_pred: 100%|███████████████████████████████| 15/15 [00:00<00:00, 592.29it/s]"
     ]
    },
    {
     "name": "stdout",
     "output_type": "stream",
     "text": [
      "\t eval rmse: 1.0260\n",
      "\t eval mae: 0.8119\n",
      "\t eval r2: 0.2663\n",
      "==============================\n"
     ]
    },
    {
     "name": "stderr",
     "output_type": "stream",
     "text": [
      "\n"
     ]
    },
    {
     "name": "stdout",
     "output_type": "stream",
     "text": [
      "Epoch 5 elapsed: 0.094s\n"
     ]
    },
    {
     "name": "stderr",
     "output_type": "stream",
     "text": [
      "eval_pred: 100%|███████████████████████████████| 15/15 [00:00<00:00, 855.12it/s]"
     ]
    },
    {
     "name": "stdout",
     "output_type": "stream",
     "text": [
      "\t eval rmse: 1.0252\n",
      "\t eval mae: 0.8103\n"
     ]
    },
    {
     "name": "stderr",
     "output_type": "stream",
     "text": [
      "\n"
     ]
    },
    {
     "name": "stdout",
     "output_type": "stream",
     "text": [
      "\t eval r2: 0.2675\n",
      "==============================\n",
      "Training start time: \u001b[35m2022-07-28 16:51:21\u001b[0m\n",
      "Epoch 1 elapsed: 0.077s\n"
     ]
    },
    {
     "name": "stderr",
     "output_type": "stream",
     "text": [
      "eval_pred: 100%|███████████████████████████████| 15/15 [00:00<00:00, 850.96it/s]"
     ]
    },
    {
     "name": "stdout",
     "output_type": "stream",
     "text": [
      "\t eval rmse: 1.2036\n",
      "\t eval mae: 0.9777\n",
      "\t eval r2: -0.0097\n",
      "==============================\n"
     ]
    },
    {
     "name": "stderr",
     "output_type": "stream",
     "text": [
      "\n"
     ]
    },
    {
     "name": "stdout",
     "output_type": "stream",
     "text": [
      "Epoch 2 elapsed: 0.078s\n"
     ]
    },
    {
     "name": "stderr",
     "output_type": "stream",
     "text": [
      "eval_pred: 100%|███████████████████████████████| 15/15 [00:00<00:00, 885.96it/s]\n"
     ]
    },
    {
     "name": "stdout",
     "output_type": "stream",
     "text": [
      "\t eval rmse: 1.0367\n",
      "\t eval mae: 0.8260\n",
      "\t eval r2: 0.2509\n",
      "==============================\n",
      "Epoch 3 elapsed: 0.080s\n"
     ]
    },
    {
     "name": "stderr",
     "output_type": "stream",
     "text": [
      "eval_pred: 100%|███████████████████████████████| 15/15 [00:00<00:00, 932.40it/s]"
     ]
    },
    {
     "name": "stdout",
     "output_type": "stream",
     "text": [
      "\t eval rmse: 1.0281\n",
      "\t eval mae: 0.8150\n",
      "\t eval r2: 0.2633\n",
      "==============================\n"
     ]
    },
    {
     "name": "stderr",
     "output_type": "stream",
     "text": [
      "\n"
     ]
    },
    {
     "name": "stdout",
     "output_type": "stream",
     "text": [
      "Epoch 4 elapsed: 0.115s\n"
     ]
    },
    {
     "name": "stderr",
     "output_type": "stream",
     "text": [
      "eval_pred: 100%|███████████████████████████████| 15/15 [00:00<00:00, 832.21it/s]"
     ]
    },
    {
     "name": "stdout",
     "output_type": "stream",
     "text": [
      "\t eval rmse: 1.0262\n"
     ]
    },
    {
     "name": "stderr",
     "output_type": "stream",
     "text": [
      "\n"
     ]
    },
    {
     "name": "stdout",
     "output_type": "stream",
     "text": [
      "\t eval mae: 0.8120\n",
      "\t eval r2: 0.2661\n",
      "==============================\n",
      "Epoch 5 elapsed: 0.149s\n"
     ]
    },
    {
     "name": "stderr",
     "output_type": "stream",
     "text": [
      "eval_pred: 100%|███████████████████████████████| 15/15 [00:00<00:00, 857.89it/s]\n"
     ]
    },
    {
     "name": "stdout",
     "output_type": "stream",
     "text": [
      "\t eval rmse: 1.0251\n",
      "\t eval mae: 0.8104\n",
      "\t eval r2: 0.2676\n",
      "==============================\n",
      "Training start time: \u001b[35m2022-07-28 16:51:23\u001b[0m\n",
      "Epoch 1 elapsed: 0.104s\n"
     ]
    },
    {
     "name": "stderr",
     "output_type": "stream",
     "text": [
      "eval_pred: 100%|███████████████████████████████| 15/15 [00:00<00:00, 810.19it/s]"
     ]
    },
    {
     "name": "stdout",
     "output_type": "stream",
     "text": [
      "\t eval rmse: 1.2023\n",
      "\t eval mae: 0.9765\n",
      "\t eval r2: -0.0074\n",
      "==============================\n"
     ]
    },
    {
     "name": "stderr",
     "output_type": "stream",
     "text": [
      "\n"
     ]
    },
    {
     "name": "stdout",
     "output_type": "stream",
     "text": [
      "Epoch 2 elapsed: 0.110s\n"
     ]
    },
    {
     "name": "stderr",
     "output_type": "stream",
     "text": [
      "eval_pred: 100%|███████████████████████████████| 15/15 [00:00<00:00, 949.87it/s]\n"
     ]
    },
    {
     "name": "stdout",
     "output_type": "stream",
     "text": [
      "\t eval rmse: 1.0367\n",
      "\t eval mae: 0.8261\n",
      "\t eval r2: 0.2509\n",
      "==============================\n",
      "Epoch 3 elapsed: 0.120s\n"
     ]
    },
    {
     "name": "stderr",
     "output_type": "stream",
     "text": [
      "eval_pred: 100%|███████████████████████████████| 15/15 [00:00<00:00, 877.74it/s]\n"
     ]
    },
    {
     "name": "stdout",
     "output_type": "stream",
     "text": [
      "\t eval rmse: 1.0281\n",
      "\t eval mae: 0.8151\n",
      "\t eval r2: 0.2633\n",
      "==============================\n",
      "Epoch 4 elapsed: 0.150s\n"
     ]
    },
    {
     "name": "stderr",
     "output_type": "stream",
     "text": [
      "eval_pred: 100%|███████████████████████████████| 15/15 [00:00<00:00, 654.51it/s]"
     ]
    },
    {
     "name": "stdout",
     "output_type": "stream",
     "text": [
      "\t eval rmse: 1.0258\n",
      "\t eval mae: 0.8119\n",
      "\t eval r2: 0.2666\n",
      "==============================\n"
     ]
    },
    {
     "name": "stderr",
     "output_type": "stream",
     "text": [
      "\n"
     ]
    },
    {
     "name": "stdout",
     "output_type": "stream",
     "text": [
      "Epoch 5 elapsed: 0.161s\n"
     ]
    },
    {
     "name": "stderr",
     "output_type": "stream",
     "text": [
      "eval_pred: 100%|███████████████████████████████| 15/15 [00:00<00:00, 829.81it/s]"
     ]
    },
    {
     "name": "stdout",
     "output_type": "stream",
     "text": [
      "\t eval rmse: 1.0244\n",
      "\t eval mae: 0.8100\n",
      "\t eval r2: 0.2686\n",
      "==============================\n"
     ]
    },
    {
     "name": "stderr",
     "output_type": "stream",
     "text": [
      "\n"
     ]
    },
    {
     "name": "stdout",
     "output_type": "stream",
     "text": [
      "Training start time: \u001b[35m2022-07-28 16:51:24\u001b[0m\n",
      "Epoch 1 elapsed: 0.156s\n"
     ]
    },
    {
     "name": "stderr",
     "output_type": "stream",
     "text": [
      "eval_pred: 100%|███████████████████████████████| 15/15 [00:00<00:00, 849.38it/s]"
     ]
    },
    {
     "name": "stdout",
     "output_type": "stream",
     "text": [
      "\t eval rmse: 1.1987\n"
     ]
    },
    {
     "name": "stderr",
     "output_type": "stream",
     "text": [
      "\n"
     ]
    },
    {
     "name": "stdout",
     "output_type": "stream",
     "text": [
      "\t eval mae: 0.9742\n",
      "\t eval r2: -0.0014\n",
      "==============================\n",
      "Epoch 2 elapsed: 0.082s\n"
     ]
    },
    {
     "name": "stderr",
     "output_type": "stream",
     "text": [
      "eval_pred: 100%|███████████████████████████████| 15/15 [00:00<00:00, 887.80it/s]\n"
     ]
    },
    {
     "name": "stdout",
     "output_type": "stream",
     "text": [
      "\t eval rmse: 1.0343\n",
      "\t eval mae: 0.8247\n",
      "\t eval r2: 0.2544\n",
      "==============================\n",
      "Epoch 3 elapsed: 0.130s\n"
     ]
    },
    {
     "name": "stderr",
     "output_type": "stream",
     "text": [
      "eval_pred: 100%|███████████████████████████████| 15/15 [00:00<00:00, 860.85it/s]\n"
     ]
    },
    {
     "name": "stdout",
     "output_type": "stream",
     "text": [
      "\t eval rmse: 1.0253\n",
      "\t eval mae: 0.8136\n",
      "\t eval r2: 0.2673\n",
      "==============================\n",
      "Epoch 4 elapsed: 0.078s\n"
     ]
    },
    {
     "name": "stderr",
     "output_type": "stream",
     "text": [
      "eval_pred: 100%|███████████████████████████████| 15/15 [00:00<00:00, 745.82it/s]"
     ]
    },
    {
     "name": "stdout",
     "output_type": "stream",
     "text": [
      "\t eval rmse: 1.0227\n",
      "\t eval mae: 0.8101\n",
      "\t eval r2: 0.2710\n",
      "==============================\n"
     ]
    },
    {
     "name": "stderr",
     "output_type": "stream",
     "text": [
      "\n"
     ]
    },
    {
     "name": "stdout",
     "output_type": "stream",
     "text": [
      "Epoch 5 elapsed: 0.115s\n"
     ]
    },
    {
     "name": "stderr",
     "output_type": "stream",
     "text": [
      "eval_pred: 100%|███████████████████████████████| 15/15 [00:00<00:00, 741.79it/s]\n"
     ]
    },
    {
     "name": "stdout",
     "output_type": "stream",
     "text": [
      "\t eval rmse: 1.0210\n",
      "\t eval mae: 0.8079\n",
      "\t eval r2: 0.2735\n",
      "==============================\n",
      "Training start time: \u001b[35m2022-07-28 16:51:25\u001b[0m\n",
      "Epoch 1 elapsed: 0.090s\n"
     ]
    },
    {
     "name": "stderr",
     "output_type": "stream",
     "text": [
      "eval_pred: 100%|███████████████████████████████| 15/15 [00:00<00:00, 816.64it/s]"
     ]
    },
    {
     "name": "stdout",
     "output_type": "stream",
     "text": [
      "\t eval rmse: 1.1934\n",
      "\t eval mae: 0.9712\n",
      "\t eval r2: 0.0075\n",
      "==============================\n"
     ]
    },
    {
     "name": "stderr",
     "output_type": "stream",
     "text": [
      "\n"
     ]
    },
    {
     "name": "stdout",
     "output_type": "stream",
     "text": [
      "Epoch 2 elapsed: 0.164s\n"
     ]
    },
    {
     "name": "stderr",
     "output_type": "stream",
     "text": [
      "eval_pred: 100%|███████████████████████████████| 15/15 [00:00<00:00, 804.88it/s]\n"
     ]
    },
    {
     "name": "stdout",
     "output_type": "stream",
     "text": [
      "\t eval rmse: 1.0310\n",
      "\t eval mae: 0.8229\n",
      "\t eval r2: 0.2592\n",
      "==============================\n",
      "Epoch 3 elapsed: 0.094s\n"
     ]
    },
    {
     "name": "stderr",
     "output_type": "stream",
     "text": [
      "eval_pred: 100%|███████████████████████████████| 15/15 [00:00<00:00, 848.89it/s]"
     ]
    },
    {
     "name": "stdout",
     "output_type": "stream",
     "text": [
      "\t eval rmse: 1.0217\n",
      "\t eval mae: 0.8116\n"
     ]
    },
    {
     "name": "stderr",
     "output_type": "stream",
     "text": [
      "\n"
     ]
    },
    {
     "name": "stdout",
     "output_type": "stream",
     "text": [
      "\t eval r2: 0.2725\n",
      "==============================\n",
      "Epoch 4 elapsed: 0.084s\n"
     ]
    },
    {
     "name": "stderr",
     "output_type": "stream",
     "text": [
      "eval_pred: 100%|███████████████████████████████| 15/15 [00:00<00:00, 920.11it/s]\n"
     ]
    },
    {
     "name": "stdout",
     "output_type": "stream",
     "text": [
      "\t eval rmse: 1.0191\n",
      "\t eval mae: 0.8082\n",
      "\t eval r2: 0.2762\n",
      "==============================\n",
      "Epoch 5 elapsed: 0.084s\n"
     ]
    },
    {
     "name": "stderr",
     "output_type": "stream",
     "text": [
      "eval_pred: 100%|███████████████████████████████| 15/15 [00:00<00:00, 865.75it/s]"
     ]
    },
    {
     "name": "stdout",
     "output_type": "stream",
     "text": [
      "\t eval rmse: 1.0174\n",
      "\t eval mae: 0.8059\n",
      "\t eval r2: 0.2786\n",
      "==============================\n"
     ]
    },
    {
     "name": "stderr",
     "output_type": "stream",
     "text": [
      "\n"
     ]
    },
    {
     "name": "stdout",
     "output_type": "stream",
     "text": [
      "Training start time: \u001b[35m2022-07-28 16:51:26\u001b[0m\n",
      "Epoch 1 elapsed: 0.113s\n"
     ]
    },
    {
     "name": "stderr",
     "output_type": "stream",
     "text": [
      "eval_pred: 100%|███████████████████████████████| 15/15 [00:00<00:00, 862.86it/s]"
     ]
    },
    {
     "name": "stdout",
     "output_type": "stream",
     "text": [
      "\t eval rmse: 1.2151\n",
      "\t eval mae: 0.9855\n",
      "\t eval r2: -0.0290\n",
      "==============================\n"
     ]
    },
    {
     "name": "stderr",
     "output_type": "stream",
     "text": [
      "\n"
     ]
    },
    {
     "name": "stdout",
     "output_type": "stream",
     "text": [
      "Epoch 2 elapsed: 0.136s\n"
     ]
    },
    {
     "name": "stderr",
     "output_type": "stream",
     "text": [
      "eval_pred: 100%|███████████████████████████████| 15/15 [00:00<00:00, 890.49it/s]\n"
     ]
    },
    {
     "name": "stdout",
     "output_type": "stream",
     "text": [
      "\t eval rmse: 1.0497\n",
      "\t eval mae: 0.8339\n",
      "\t eval r2: 0.2320\n",
      "==============================\n",
      "Epoch 3 elapsed: 0.109s\n"
     ]
    },
    {
     "name": "stderr",
     "output_type": "stream",
     "text": [
      "eval_pred: 100%|███████████████████████████████| 15/15 [00:00<00:00, 869.95it/s]"
     ]
    },
    {
     "name": "stdout",
     "output_type": "stream",
     "text": [
      "\t eval rmse: 1.0429\n"
     ]
    },
    {
     "name": "stderr",
     "output_type": "stream",
     "text": [
      "\n"
     ]
    },
    {
     "name": "stdout",
     "output_type": "stream",
     "text": [
      "\t eval mae: 0.8236\n",
      "\t eval r2: 0.2420\n",
      "==============================\n",
      "Epoch 4 elapsed: 0.109s\n"
     ]
    },
    {
     "name": "stderr",
     "output_type": "stream",
     "text": [
      "eval_pred: 100%|███████████████████████████████| 15/15 [00:00<00:00, 663.87it/s]\n"
     ]
    },
    {
     "name": "stdout",
     "output_type": "stream",
     "text": [
      "\t eval rmse: 1.0426\n",
      "\t eval mae: 0.8215\n",
      "\t eval r2: 0.2424\n",
      "==============================\n",
      "Epoch 5 elapsed: 0.144s\n"
     ]
    },
    {
     "name": "stderr",
     "output_type": "stream",
     "text": [
      "eval_pred: 100%|███████████████████████████████| 15/15 [00:00<00:00, 828.16it/s]\n"
     ]
    },
    {
     "name": "stdout",
     "output_type": "stream",
     "text": [
      "\t eval rmse: 1.0427\n",
      "\t eval mae: 0.8207\n",
      "\t eval r2: 0.2422\n",
      "==============================\n",
      "Training start time: \u001b[35m2022-07-28 16:51:27\u001b[0m\n",
      "Epoch 1 elapsed: 0.165s\n"
     ]
    },
    {
     "name": "stderr",
     "output_type": "stream",
     "text": [
      "eval_pred: 100%|███████████████████████████████| 15/15 [00:00<00:00, 778.15it/s]\n"
     ]
    },
    {
     "name": "stdout",
     "output_type": "stream",
     "text": [
      "\t eval rmse: 1.2060\n",
      "\t eval mae: 0.9769\n",
      "\t eval r2: -0.0137\n",
      "==============================\n",
      "Epoch 2 elapsed: 0.134s\n"
     ]
    },
    {
     "name": "stderr",
     "output_type": "stream",
     "text": [
      "eval_pred: 100%|███████████████████████████████| 15/15 [00:00<00:00, 841.91it/s]\n"
     ]
    },
    {
     "name": "stdout",
     "output_type": "stream",
     "text": [
      "\t eval rmse: 1.0442\n",
      "\t eval mae: 0.8288\n",
      "\t eval r2: 0.2400\n",
      "==============================\n",
      "Epoch 3 elapsed: 0.102s\n"
     ]
    },
    {
     "name": "stderr",
     "output_type": "stream",
     "text": [
      "eval_pred: 100%|███████████████████████████████| 15/15 [00:00<00:00, 801.40it/s]\n"
     ]
    },
    {
     "name": "stdout",
     "output_type": "stream",
     "text": [
      "\t eval rmse: 1.0389\n",
      "\t eval mae: 0.8205\n",
      "\t eval r2: 0.2478\n",
      "==============================\n",
      "Epoch 4 elapsed: 0.145s\n"
     ]
    },
    {
     "name": "stderr",
     "output_type": "stream",
     "text": [
      "eval_pred: 100%|███████████████████████████████| 15/15 [00:00<00:00, 850.68it/s]\n"
     ]
    },
    {
     "name": "stdout",
     "output_type": "stream",
     "text": [
      "\t eval rmse: 1.0390\n",
      "\t eval mae: 0.8189\n",
      "\t eval r2: 0.2476\n",
      "==============================\n",
      "Epoch 5 elapsed: 0.140s\n"
     ]
    },
    {
     "name": "stderr",
     "output_type": "stream",
     "text": [
      "eval_pred: 100%|███████████████████████████████| 15/15 [00:00<00:00, 645.65it/s]\n"
     ]
    },
    {
     "name": "stdout",
     "output_type": "stream",
     "text": [
      "\t eval rmse: 1.0394\n",
      "\t eval mae: 0.8183\n",
      "\t eval r2: 0.2471\n",
      "==============================\n",
      "Training start time: \u001b[35m2022-07-28 16:51:28\u001b[0m\n",
      "Epoch 1 elapsed: 0.112s\n"
     ]
    },
    {
     "name": "stderr",
     "output_type": "stream",
     "text": [
      "eval_pred: 100%|███████████████████████████████| 15/15 [00:00<00:00, 740.31it/s]"
     ]
    },
    {
     "name": "stdout",
     "output_type": "stream",
     "text": [
      "\t eval rmse: 1.2022\n",
      "\t eval mae: 0.9730\n",
      "\t eval r2: -0.0074\n",
      "==============================\n"
     ]
    },
    {
     "name": "stderr",
     "output_type": "stream",
     "text": [
      "\n"
     ]
    },
    {
     "name": "stdout",
     "output_type": "stream",
     "text": [
      "Epoch 2 elapsed: 0.165s\n"
     ]
    },
    {
     "name": "stderr",
     "output_type": "stream",
     "text": [
      "eval_pred: 100%|███████████████████████████████| 15/15 [00:00<00:00, 752.09it/s]\n"
     ]
    },
    {
     "name": "stdout",
     "output_type": "stream",
     "text": [
      "\t eval rmse: 1.0429\n",
      "\t eval mae: 0.8274\n",
      "\t eval r2: 0.2419\n",
      "==============================\n",
      "Epoch 3 elapsed: 0.101s\n"
     ]
    },
    {
     "name": "stderr",
     "output_type": "stream",
     "text": [
      "eval_pred: 100%|███████████████████████████████| 15/15 [00:00<00:00, 913.34it/s]"
     ]
    },
    {
     "name": "stdout",
     "output_type": "stream",
     "text": [
      "\t eval rmse: 1.0382\n"
     ]
    },
    {
     "name": "stderr",
     "output_type": "stream",
     "text": [
      "\n"
     ]
    },
    {
     "name": "stdout",
     "output_type": "stream",
     "text": [
      "\t eval mae: 0.8199\n",
      "\t eval r2: 0.2488\n",
      "==============================\n",
      "Epoch 4 elapsed: 0.120s\n"
     ]
    },
    {
     "name": "stderr",
     "output_type": "stream",
     "text": [
      "eval_pred: 100%|███████████████████████████████| 15/15 [00:00<00:00, 808.88it/s]\n"
     ]
    },
    {
     "name": "stdout",
     "output_type": "stream",
     "text": [
      "\t eval rmse: 1.0384\n",
      "\t eval mae: 0.8185\n",
      "\t eval r2: 0.2485\n",
      "==============================\n",
      "Epoch 5 elapsed: 0.102s\n"
     ]
    },
    {
     "name": "stderr",
     "output_type": "stream",
     "text": [
      "eval_pred: 100%|███████████████████████████████| 15/15 [00:00<00:00, 900.58it/s]"
     ]
    },
    {
     "name": "stdout",
     "output_type": "stream",
     "text": [
      "\t eval rmse: 1.0388\n",
      "\t eval mae: 0.8179\n"
     ]
    },
    {
     "name": "stderr",
     "output_type": "stream",
     "text": [
      "\n"
     ]
    },
    {
     "name": "stdout",
     "output_type": "stream",
     "text": [
      "\t eval r2: 0.2479\n",
      "==============================\n",
      "Training start time: \u001b[35m2022-07-28 16:51:30\u001b[0m\n",
      "Epoch 1 elapsed: 0.099s\n"
     ]
    },
    {
     "name": "stderr",
     "output_type": "stream",
     "text": [
      "eval_pred: 100%|███████████████████████████████| 15/15 [00:00<00:00, 887.01it/s]"
     ]
    },
    {
     "name": "stdout",
     "output_type": "stream",
     "text": [
      "\t eval rmse: 1.1979\n",
      "\t eval mae: 0.9683\n",
      "\t eval r2: -0.0000\n",
      "==============================\n"
     ]
    },
    {
     "name": "stderr",
     "output_type": "stream",
     "text": [
      "\n"
     ]
    },
    {
     "name": "stdout",
     "output_type": "stream",
     "text": [
      "Epoch 2 elapsed: 0.100s\n"
     ]
    },
    {
     "name": "stderr",
     "output_type": "stream",
     "text": [
      "eval_pred: 100%|███████████████████████████████| 15/15 [00:00<00:00, 879.80it/s]\n"
     ]
    },
    {
     "name": "stdout",
     "output_type": "stream",
     "text": [
      "\t eval rmse: 1.0427\n",
      "\t eval mae: 0.8269\n",
      "\t eval r2: 0.2423\n",
      "==============================\n",
      "Epoch 3 elapsed: 0.104s\n"
     ]
    },
    {
     "name": "stderr",
     "output_type": "stream",
     "text": [
      "eval_pred: 100%|███████████████████████████████| 15/15 [00:00<00:00, 674.10it/s]"
     ]
    },
    {
     "name": "stdout",
     "output_type": "stream",
     "text": [
      "\t eval rmse: 1.0385\n"
     ]
    },
    {
     "name": "stderr",
     "output_type": "stream",
     "text": [
      "\n"
     ]
    },
    {
     "name": "stdout",
     "output_type": "stream",
     "text": [
      "\t eval mae: 0.8201\n",
      "\t eval r2: 0.2484\n",
      "==============================\n",
      "Epoch 4 elapsed: 0.113s\n"
     ]
    },
    {
     "name": "stderr",
     "output_type": "stream",
     "text": [
      "eval_pred: 100%|███████████████████████████████| 15/15 [00:00<00:00, 716.72it/s]\n"
     ]
    },
    {
     "name": "stdout",
     "output_type": "stream",
     "text": [
      "\t eval rmse: 1.0386\n",
      "\t eval mae: 0.8186\n",
      "\t eval r2: 0.2482\n",
      "==============================\n",
      "Epoch 5 elapsed: 0.102s\n"
     ]
    },
    {
     "name": "stderr",
     "output_type": "stream",
     "text": [
      "eval_pred: 100%|███████████████████████████████| 15/15 [00:00<00:00, 788.09it/s]"
     ]
    },
    {
     "name": "stdout",
     "output_type": "stream",
     "text": [
      "\t eval rmse: 1.0389\n"
     ]
    },
    {
     "name": "stderr",
     "output_type": "stream",
     "text": [
      "\n"
     ]
    },
    {
     "name": "stdout",
     "output_type": "stream",
     "text": [
      "\t eval mae: 0.8179\n",
      "\t eval r2: 0.2478\n",
      "==============================\n",
      "Training start time: \u001b[35m2022-07-28 16:51:31\u001b[0m\n",
      "Epoch 1 elapsed: 0.115s\n"
     ]
    },
    {
     "name": "stderr",
     "output_type": "stream",
     "text": [
      "eval_pred: 100%|███████████████████████████████| 15/15 [00:00<00:00, 876.52it/s]"
     ]
    },
    {
     "name": "stdout",
     "output_type": "stream",
     "text": [
      "\t eval rmse: 1.1965\n",
      "\t eval mae: 0.9670\n",
      "\t eval r2: 0.0022\n",
      "==============================\n"
     ]
    },
    {
     "name": "stderr",
     "output_type": "stream",
     "text": [
      "\n"
     ]
    },
    {
     "name": "stdout",
     "output_type": "stream",
     "text": [
      "Epoch 2 elapsed: 0.116s\n"
     ]
    },
    {
     "name": "stderr",
     "output_type": "stream",
     "text": [
      "eval_pred: 100%|███████████████████████████████| 15/15 [00:00<00:00, 774.03it/s]\n"
     ]
    },
    {
     "name": "stdout",
     "output_type": "stream",
     "text": [
      "\t eval rmse: 1.0431\n",
      "\t eval mae: 0.8272\n",
      "\t eval r2: 0.2416\n",
      "==============================\n",
      "Epoch 3 elapsed: 0.104s\n"
     ]
    },
    {
     "name": "stderr",
     "output_type": "stream",
     "text": [
      "eval_pred: 100%|███████████████████████████████| 15/15 [00:00<00:00, 896.08it/s]"
     ]
    },
    {
     "name": "stdout",
     "output_type": "stream",
     "text": [
      "\t eval rmse: 1.0390\n"
     ]
    },
    {
     "name": "stderr",
     "output_type": "stream",
     "text": [
      "\n"
     ]
    },
    {
     "name": "stdout",
     "output_type": "stream",
     "text": [
      "\t eval mae: 0.8205\n",
      "\t eval r2: 0.2476\n",
      "==============================\n",
      "Epoch 4 elapsed: 0.172s\n"
     ]
    },
    {
     "name": "stderr",
     "output_type": "stream",
     "text": [
      "eval_pred: 100%|███████████████████████████████| 15/15 [00:00<00:00, 662.13it/s]\n"
     ]
    },
    {
     "name": "stdout",
     "output_type": "stream",
     "text": [
      "\t eval rmse: 1.0389\n",
      "\t eval mae: 0.8189\n",
      "\t eval r2: 0.2477\n",
      "==============================\n",
      "Epoch 5 elapsed: 0.110s\n"
     ]
    },
    {
     "name": "stderr",
     "output_type": "stream",
     "text": [
      "eval_pred: 100%|███████████████████████████████| 15/15 [00:00<00:00, 767.32it/s]\n"
     ]
    },
    {
     "name": "stdout",
     "output_type": "stream",
     "text": [
      "\t eval rmse: 1.0390\n",
      "\t eval mae: 0.8181\n",
      "\t eval r2: 0.2477\n",
      "==============================\n",
      "Training start time: \u001b[35m2022-07-28 16:51:32\u001b[0m\n",
      "Epoch 1 elapsed: 0.115s\n"
     ]
    },
    {
     "name": "stderr",
     "output_type": "stream",
     "text": [
      "eval_pred: 100%|███████████████████████████████| 15/15 [00:00<00:00, 833.60it/s]"
     ]
    },
    {
     "name": "stdout",
     "output_type": "stream",
     "text": [
      "\t eval rmse: 1.1947\n",
      "\t eval mae: 0.9655\n",
      "\t eval r2: 0.0052\n",
      "==============================\n"
     ]
    },
    {
     "name": "stderr",
     "output_type": "stream",
     "text": [
      "\n"
     ]
    },
    {
     "name": "stdout",
     "output_type": "stream",
     "text": [
      "Epoch 2 elapsed: 0.132s\n"
     ]
    },
    {
     "name": "stderr",
     "output_type": "stream",
     "text": [
      "eval_pred: 100%|███████████████████████████████| 15/15 [00:00<00:00, 928.52it/s]\n"
     ]
    },
    {
     "name": "stdout",
     "output_type": "stream",
     "text": [
      "\t eval rmse: 1.0432\n",
      "\t eval mae: 0.8273\n",
      "\t eval r2: 0.2415\n",
      "==============================\n",
      "Epoch 3 elapsed: 0.105s\n"
     ]
    },
    {
     "name": "stderr",
     "output_type": "stream",
     "text": [
      "eval_pred: 100%|███████████████████████████████| 15/15 [00:00<00:00, 706.87it/s]\n"
     ]
    },
    {
     "name": "stdout",
     "output_type": "stream",
     "text": [
      "\t eval rmse: 1.0390\n",
      "\t eval mae: 0.8205\n",
      "\t eval r2: 0.2477\n",
      "==============================\n",
      "Epoch 4 elapsed: 0.103s\n"
     ]
    },
    {
     "name": "stderr",
     "output_type": "stream",
     "text": [
      "eval_pred: 100%|███████████████████████████████| 15/15 [00:00<00:00, 785.79it/s]\n"
     ]
    },
    {
     "name": "stdout",
     "output_type": "stream",
     "text": [
      "\t eval rmse: 1.0384\n",
      "\t eval mae: 0.8187\n",
      "\t eval r2: 0.2485\n",
      "==============================\n",
      "Epoch 5 elapsed: 0.112s\n"
     ]
    },
    {
     "name": "stderr",
     "output_type": "stream",
     "text": [
      "eval_pred: 100%|███████████████████████████████| 15/15 [00:00<00:00, 781.21it/s]\n"
     ]
    },
    {
     "name": "stdout",
     "output_type": "stream",
     "text": [
      "\t eval rmse: 1.0381\n",
      "\t eval mae: 0.8176\n",
      "\t eval r2: 0.2490\n",
      "==============================\n",
      "Training start time: \u001b[35m2022-07-28 16:51:33\u001b[0m\n",
      "Epoch 1 elapsed: 0.116s\n"
     ]
    },
    {
     "name": "stderr",
     "output_type": "stream",
     "text": [
      "eval_pred: 100%|███████████████████████████████| 15/15 [00:00<00:00, 785.12it/s]"
     ]
    },
    {
     "name": "stdout",
     "output_type": "stream",
     "text": [
      "\t eval rmse: 1.1902\n",
      "\t eval mae: 0.9626\n",
      "\t eval r2: 0.0127\n",
      "==============================\n"
     ]
    },
    {
     "name": "stderr",
     "output_type": "stream",
     "text": [
      "\n"
     ]
    },
    {
     "name": "stdout",
     "output_type": "stream",
     "text": [
      "Epoch 2 elapsed: 0.118s\n"
     ]
    },
    {
     "name": "stderr",
     "output_type": "stream",
     "text": [
      "eval_pred: 100%|███████████████████████████████| 15/15 [00:00<00:00, 610.36it/s]\n"
     ]
    },
    {
     "name": "stdout",
     "output_type": "stream",
     "text": [
      "\t eval rmse: 1.0399\n",
      "\t eval mae: 0.8252\n",
      "\t eval r2: 0.2463\n",
      "==============================\n",
      "Epoch 3 elapsed: 0.100s\n"
     ]
    },
    {
     "name": "stderr",
     "output_type": "stream",
     "text": [
      "eval_pred: 100%|███████████████████████████████| 15/15 [00:00<00:00, 867.62it/s]"
     ]
    },
    {
     "name": "stdout",
     "output_type": "stream",
     "text": [
      "\t eval rmse: 1.0352\n"
     ]
    },
    {
     "name": "stderr",
     "output_type": "stream",
     "text": [
      "\n"
     ]
    },
    {
     "name": "stdout",
     "output_type": "stream",
     "text": [
      "\t eval mae: 0.8181\n",
      "\t eval r2: 0.2532\n",
      "==============================\n",
      "Epoch 4 elapsed: 0.142s\n"
     ]
    },
    {
     "name": "stderr",
     "output_type": "stream",
     "text": [
      "eval_pred: 100%|███████████████████████████████| 15/15 [00:00<00:00, 850.13it/s]\n"
     ]
    },
    {
     "name": "stdout",
     "output_type": "stream",
     "text": [
      "\t eval rmse: 1.0342\n",
      "\t eval mae: 0.8160\n",
      "\t eval r2: 0.2546\n",
      "==============================\n",
      "Epoch 5 elapsed: 0.131s\n"
     ]
    },
    {
     "name": "stderr",
     "output_type": "stream",
     "text": [
      "eval_pred: 100%|███████████████████████████████| 15/15 [00:00<00:00, 757.25it/s]\n"
     ]
    },
    {
     "name": "stdout",
     "output_type": "stream",
     "text": [
      "\t eval rmse: 1.0336\n",
      "\t eval mae: 0.8147\n",
      "\t eval r2: 0.2555\n",
      "==============================\n",
      "Training start time: \u001b[35m2022-07-28 16:51:34\u001b[0m\n",
      "Epoch 1 elapsed: 0.146s\n"
     ]
    },
    {
     "name": "stderr",
     "output_type": "stream",
     "text": [
      "eval_pred: 100%|███████████████████████████████| 15/15 [00:00<00:00, 932.16it/s]"
     ]
    },
    {
     "name": "stdout",
     "output_type": "stream",
     "text": [
      "\t eval rmse: 1.1838\n",
      "\t eval mae: 0.9590\n"
     ]
    },
    {
     "name": "stderr",
     "output_type": "stream",
     "text": [
      "\n"
     ]
    },
    {
     "name": "stdout",
     "output_type": "stream",
     "text": [
      "\t eval r2: 0.0233\n",
      "==============================\n",
      "Epoch 2 elapsed: 0.114s\n"
     ]
    },
    {
     "name": "stderr",
     "output_type": "stream",
     "text": [
      "eval_pred: 100%|███████████████████████████████| 15/15 [00:00<00:00, 826.27it/s]\n"
     ]
    },
    {
     "name": "stdout",
     "output_type": "stream",
     "text": [
      "\t eval rmse: 1.0352\n",
      "\t eval mae: 0.8224\n",
      "\t eval r2: 0.2532\n",
      "==============================\n",
      "Epoch 3 elapsed: 0.105s\n"
     ]
    },
    {
     "name": "stderr",
     "output_type": "stream",
     "text": [
      "eval_pred: 100%|███████████████████████████████| 15/15 [00:00<00:00, 883.16it/s]\n"
     ]
    },
    {
     "name": "stdout",
     "output_type": "stream",
     "text": [
      "\t eval rmse: 1.0304\n",
      "\t eval mae: 0.8154\n",
      "\t eval r2: 0.2600\n",
      "==============================\n",
      "Epoch 4 elapsed: 0.108s\n"
     ]
    },
    {
     "name": "stderr",
     "output_type": "stream",
     "text": [
      "eval_pred: 100%|███████████████████████████████| 15/15 [00:00<00:00, 820.69it/s]"
     ]
    },
    {
     "name": "stdout",
     "output_type": "stream",
     "text": [
      "\t eval rmse: 1.0296\n"
     ]
    },
    {
     "name": "stderr",
     "output_type": "stream",
     "text": [
      "\n"
     ]
    },
    {
     "name": "stdout",
     "output_type": "stream",
     "text": [
      "\t eval mae: 0.8134\n",
      "\t eval r2: 0.2611\n",
      "==============================\n",
      "Epoch 5 elapsed: 0.139s\n"
     ]
    },
    {
     "name": "stderr",
     "output_type": "stream",
     "text": [
      "eval_pred: 100%|███████████████████████████████| 15/15 [00:00<00:00, 789.16it/s]\n"
     ]
    },
    {
     "name": "stdout",
     "output_type": "stream",
     "text": [
      "\t eval rmse: 1.0290\n",
      "\t eval mae: 0.8121\n",
      "\t eval r2: 0.2620\n",
      "==============================\n",
      "Training start time: \u001b[35m2022-07-28 16:51:35\u001b[0m\n",
      "Epoch 1 elapsed: 0.130s\n"
     ]
    },
    {
     "name": "stderr",
     "output_type": "stream",
     "text": [
      "eval_pred: 100%|███████████████████████████████| 15/15 [00:00<00:00, 860.96it/s]"
     ]
    },
    {
     "name": "stdout",
     "output_type": "stream",
     "text": [
      "\t eval rmse: 1.2272\n",
      "\t eval mae: 0.9931\n",
      "\t eval r2: -0.0495\n",
      "==============================\n"
     ]
    },
    {
     "name": "stderr",
     "output_type": "stream",
     "text": [
      "\n"
     ]
    },
    {
     "name": "stdout",
     "output_type": "stream",
     "text": [
      "Epoch 2 elapsed: 0.140s\n"
     ]
    },
    {
     "name": "stderr",
     "output_type": "stream",
     "text": [
      "eval_pred: 100%|███████████████████████████████| 15/15 [00:00<00:00, 823.52it/s]"
     ]
    },
    {
     "name": "stdout",
     "output_type": "stream",
     "text": [
      "\t eval rmse: 1.0587\n",
      "\t eval mae: 0.8391\n",
      "\t eval r2: 0.2188\n",
      "==============================\n"
     ]
    },
    {
     "name": "stderr",
     "output_type": "stream",
     "text": [
      "\n"
     ]
    },
    {
     "name": "stdout",
     "output_type": "stream",
     "text": [
      "Epoch 3 elapsed: 0.165s\n"
     ]
    },
    {
     "name": "stderr",
     "output_type": "stream",
     "text": [
      "eval_pred: 100%|███████████████████████████████| 15/15 [00:00<00:00, 796.09it/s]"
     ]
    },
    {
     "name": "stdout",
     "output_type": "stream",
     "text": [
      "\t eval rmse: 1.0555\n",
      "\t eval mae: 0.8314\n",
      "\t eval r2: 0.2235\n",
      "==============================\n"
     ]
    },
    {
     "name": "stderr",
     "output_type": "stream",
     "text": [
      "\n"
     ]
    },
    {
     "name": "stdout",
     "output_type": "stream",
     "text": [
      "Epoch 4 elapsed: 0.171s\n"
     ]
    },
    {
     "name": "stderr",
     "output_type": "stream",
     "text": [
      "eval_pred: 100%|███████████████████████████████| 15/15 [00:00<00:00, 900.86it/s]"
     ]
    },
    {
     "name": "stdout",
     "output_type": "stream",
     "text": [
      "\t eval rmse: 1.0570\n",
      "\t eval mae: 0.8304\n",
      "\t eval r2: 0.2214\n",
      "==============================\n"
     ]
    },
    {
     "name": "stderr",
     "output_type": "stream",
     "text": [
      "\n"
     ]
    },
    {
     "name": "stdout",
     "output_type": "stream",
     "text": [
      "Epoch 5 elapsed: 0.157s\n"
     ]
    },
    {
     "name": "stderr",
     "output_type": "stream",
     "text": [
      "eval_pred: 100%|███████████████████████████████| 15/15 [00:00<00:00, 811.35it/s]"
     ]
    },
    {
     "name": "stdout",
     "output_type": "stream",
     "text": [
      "\t eval rmse: 1.0577\n",
      "\t eval mae: 0.8296\n",
      "\t eval r2: 0.2203\n",
      "==============================\n"
     ]
    },
    {
     "name": "stderr",
     "output_type": "stream",
     "text": [
      "\n"
     ]
    },
    {
     "name": "stdout",
     "output_type": "stream",
     "text": [
      "Training start time: \u001b[35m2022-07-28 16:51:37\u001b[0m\n",
      "Epoch 1 elapsed: 0.218s\n"
     ]
    },
    {
     "name": "stderr",
     "output_type": "stream",
     "text": [
      "eval_pred: 100%|███████████████████████████████| 15/15 [00:00<00:00, 817.40it/s]"
     ]
    },
    {
     "name": "stdout",
     "output_type": "stream",
     "text": [
      "\t eval rmse: 1.2132\n",
      "\t eval mae: 0.9815\n",
      "\t eval r2: -0.0259\n",
      "==============================\n"
     ]
    },
    {
     "name": "stderr",
     "output_type": "stream",
     "text": [
      "\n"
     ]
    },
    {
     "name": "stdout",
     "output_type": "stream",
     "text": [
      "Epoch 2 elapsed: 0.194s\n"
     ]
    },
    {
     "name": "stderr",
     "output_type": "stream",
     "text": [
      "eval_pred: 100%|███████████████████████████████| 15/15 [00:00<00:00, 764.38it/s]"
     ]
    },
    {
     "name": "stdout",
     "output_type": "stream",
     "text": [
      "\t eval rmse: 1.0510\n",
      "\t eval mae: 0.8324\n",
      "\t eval r2: 0.2302\n",
      "==============================\n"
     ]
    },
    {
     "name": "stderr",
     "output_type": "stream",
     "text": [
      "\n"
     ]
    },
    {
     "name": "stdout",
     "output_type": "stream",
     "text": [
      "Epoch 3 elapsed: 0.147s\n"
     ]
    },
    {
     "name": "stderr",
     "output_type": "stream",
     "text": [
      "eval_pred: 100%|███████████████████████████████| 15/15 [00:00<00:00, 829.19it/s]\n"
     ]
    },
    {
     "name": "stdout",
     "output_type": "stream",
     "text": [
      "\t eval rmse: 1.0496\n",
      "\t eval mae: 0.8269\n",
      "\t eval r2: 0.2322\n",
      "==============================\n",
      "Epoch 4 elapsed: 0.139s\n"
     ]
    },
    {
     "name": "stderr",
     "output_type": "stream",
     "text": [
      "eval_pred: 100%|███████████████████████████████| 15/15 [00:00<00:00, 778.03it/s]\n"
     ]
    },
    {
     "name": "stdout",
     "output_type": "stream",
     "text": [
      "\t eval rmse: 1.0515\n",
      "\t eval mae: 0.8264\n",
      "\t eval r2: 0.2295\n",
      "==============================\n",
      "Epoch 5 elapsed: 0.175s\n"
     ]
    },
    {
     "name": "stderr",
     "output_type": "stream",
     "text": [
      "eval_pred: 100%|███████████████████████████████| 15/15 [00:00<00:00, 851.92it/s]\n"
     ]
    },
    {
     "name": "stdout",
     "output_type": "stream",
     "text": [
      "\t eval rmse: 1.0524\n",
      "\t eval mae: 0.8260\n",
      "\t eval r2: 0.2280\n",
      "==============================\n",
      "Training start time: \u001b[35m2022-07-28 16:51:38\u001b[0m\n",
      "Epoch 1 elapsed: 0.157s\n"
     ]
    },
    {
     "name": "stderr",
     "output_type": "stream",
     "text": [
      "eval_pred: 100%|███████████████████████████████| 15/15 [00:00<00:00, 793.34it/s]"
     ]
    },
    {
     "name": "stdout",
     "output_type": "stream",
     "text": [
      "\t eval rmse: 1.2077\n"
     ]
    },
    {
     "name": "stderr",
     "output_type": "stream",
     "text": [
      "\n"
     ]
    },
    {
     "name": "stdout",
     "output_type": "stream",
     "text": [
      "\t eval mae: 0.9766\n",
      "\t eval r2: -0.0166\n",
      "==============================\n",
      "Epoch 2 elapsed: 0.161s\n"
     ]
    },
    {
     "name": "stderr",
     "output_type": "stream",
     "text": [
      "eval_pred: 100%|███████████████████████████████| 15/15 [00:00<00:00, 701.30it/s]\n"
     ]
    },
    {
     "name": "stdout",
     "output_type": "stream",
     "text": [
      "\t eval rmse: 1.0493\n",
      "\t eval mae: 0.8308\n",
      "\t eval r2: 0.2327\n",
      "==============================\n",
      "Epoch 3 elapsed: 0.126s\n"
     ]
    },
    {
     "name": "stderr",
     "output_type": "stream",
     "text": [
      "eval_pred: 100%|███████████████████████████████| 15/15 [00:00<00:00, 714.87it/s]\n"
     ]
    },
    {
     "name": "stdout",
     "output_type": "stream",
     "text": [
      "\t eval rmse: 1.0486\n",
      "\t eval mae: 0.8260\n",
      "\t eval r2: 0.2337\n",
      "==============================\n",
      "Epoch 4 elapsed: 0.135s\n"
     ]
    },
    {
     "name": "stderr",
     "output_type": "stream",
     "text": [
      "eval_pred: 100%|███████████████████████████████| 15/15 [00:00<00:00, 712.61it/s]\n"
     ]
    },
    {
     "name": "stdout",
     "output_type": "stream",
     "text": [
      "\t eval rmse: 1.0505\n",
      "\t eval mae: 0.8257\n",
      "\t eval r2: 0.2309\n",
      "==============================\n",
      "Epoch 5 elapsed: 0.137s\n"
     ]
    },
    {
     "name": "stderr",
     "output_type": "stream",
     "text": [
      "eval_pred: 100%|███████████████████████████████| 15/15 [00:00<00:00, 706.05it/s]\n"
     ]
    },
    {
     "name": "stdout",
     "output_type": "stream",
     "text": [
      "\t eval rmse: 1.0515\n",
      "\t eval mae: 0.8253\n",
      "\t eval r2: 0.2295\n",
      "==============================\n",
      "Training start time: \u001b[35m2022-07-28 16:51:40\u001b[0m\n",
      "Epoch 1 elapsed: 0.165s\n"
     ]
    },
    {
     "name": "stderr",
     "output_type": "stream",
     "text": [
      "eval_pred: 100%|███████████████████████████████| 15/15 [00:00<00:00, 517.22it/s]\n"
     ]
    },
    {
     "name": "stdout",
     "output_type": "stream",
     "text": [
      "\t eval rmse: 1.2016\n",
      "\t eval mae: 0.9710\n",
      "\t eval r2: -0.0063\n",
      "==============================\n",
      "Epoch 2 elapsed: 0.159s\n"
     ]
    },
    {
     "name": "stderr",
     "output_type": "stream",
     "text": [
      "eval_pred: 100%|███████████████████████████████| 15/15 [00:00<00:00, 544.58it/s]\n"
     ]
    },
    {
     "name": "stdout",
     "output_type": "stream",
     "text": [
      "\t eval rmse: 1.0492\n",
      "\t eval mae: 0.8304\n",
      "\t eval r2: 0.2327\n",
      "==============================\n",
      "Epoch 3 elapsed: 0.175s\n"
     ]
    },
    {
     "name": "stderr",
     "output_type": "stream",
     "text": [
      "eval_pred: 100%|███████████████████████████████| 15/15 [00:00<00:00, 677.15it/s]\n"
     ]
    },
    {
     "name": "stdout",
     "output_type": "stream",
     "text": [
      "\t eval rmse: 1.0488\n",
      "\t eval mae: 0.8261\n",
      "\t eval r2: 0.2333\n",
      "==============================\n",
      "Epoch 4 elapsed: 0.136s\n"
     ]
    },
    {
     "name": "stderr",
     "output_type": "stream",
     "text": [
      "eval_pred: 100%|███████████████████████████████| 15/15 [00:00<00:00, 805.00it/s]\n"
     ]
    },
    {
     "name": "stdout",
     "output_type": "stream",
     "text": [
      "\t eval rmse: 1.0505\n",
      "\t eval mae: 0.8256\n",
      "\t eval r2: 0.2308\n",
      "==============================\n",
      "Epoch 5 elapsed: 0.145s\n"
     ]
    },
    {
     "name": "stderr",
     "output_type": "stream",
     "text": [
      "eval_pred: 100%|███████████████████████████████| 15/15 [00:00<00:00, 791.64it/s]\n"
     ]
    },
    {
     "name": "stdout",
     "output_type": "stream",
     "text": [
      "\t eval rmse: 1.0514\n",
      "\t eval mae: 0.8251\n",
      "\t eval r2: 0.2296\n",
      "==============================\n",
      "Training start time: \u001b[35m2022-07-28 16:51:41\u001b[0m\n",
      "Epoch 1 elapsed: 0.134s\n"
     ]
    },
    {
     "name": "stderr",
     "output_type": "stream",
     "text": [
      "eval_pred: 100%|███████████████████████████████| 15/15 [00:00<00:00, 835.57it/s]"
     ]
    },
    {
     "name": "stdout",
     "output_type": "stream",
     "text": [
      "\t eval rmse: 1.1998\n",
      "\t eval mae: 0.9694\n",
      "\t eval r2: -0.0033\n",
      "==============================\n"
     ]
    },
    {
     "name": "stderr",
     "output_type": "stream",
     "text": [
      "\n"
     ]
    },
    {
     "name": "stdout",
     "output_type": "stream",
     "text": [
      "Epoch 2 elapsed: 0.155s\n"
     ]
    },
    {
     "name": "stderr",
     "output_type": "stream",
     "text": [
      "eval_pred: 100%|███████████████████████████████| 15/15 [00:00<00:00, 766.08it/s]"
     ]
    },
    {
     "name": "stdout",
     "output_type": "stream",
     "text": [
      "\t eval rmse: 1.0501\n",
      "\t eval mae: 0.8309\n",
      "\t eval r2: 0.2315\n",
      "==============================\n"
     ]
    },
    {
     "name": "stderr",
     "output_type": "stream",
     "text": [
      "\n"
     ]
    },
    {
     "name": "stdout",
     "output_type": "stream",
     "text": [
      "Epoch 3 elapsed: 0.147s\n"
     ]
    },
    {
     "name": "stderr",
     "output_type": "stream",
     "text": [
      "eval_pred: 100%|███████████████████████████████| 15/15 [00:00<00:00, 801.88it/s]\n"
     ]
    },
    {
     "name": "stdout",
     "output_type": "stream",
     "text": [
      "\t eval rmse: 1.0496\n",
      "\t eval mae: 0.8266\n",
      "\t eval r2: 0.2322\n",
      "==============================\n",
      "Epoch 4 elapsed: 0.127s\n"
     ]
    },
    {
     "name": "stderr",
     "output_type": "stream",
     "text": [
      "eval_pred: 100%|███████████████████████████████| 15/15 [00:00<00:00, 854.38it/s]\n"
     ]
    },
    {
     "name": "stdout",
     "output_type": "stream",
     "text": [
      "\t eval rmse: 1.0510\n",
      "\t eval mae: 0.8259\n",
      "\t eval r2: 0.2301\n",
      "==============================\n",
      "Epoch 5 elapsed: 0.136s\n"
     ]
    },
    {
     "name": "stderr",
     "output_type": "stream",
     "text": [
      "eval_pred: 100%|███████████████████████████████| 15/15 [00:00<00:00, 886.03it/s]\n"
     ]
    },
    {
     "name": "stdout",
     "output_type": "stream",
     "text": [
      "\t eval rmse: 1.0517\n",
      "\t eval mae: 0.8253\n",
      "\t eval r2: 0.2292\n",
      "==============================\n",
      "Training start time: \u001b[35m2022-07-28 16:51:42\u001b[0m\n",
      "Epoch 1 elapsed: 0.137s\n"
     ]
    },
    {
     "name": "stderr",
     "output_type": "stream",
     "text": [
      "eval_pred: 100%|███████████████████████████████| 15/15 [00:00<00:00, 819.10it/s]"
     ]
    },
    {
     "name": "stdout",
     "output_type": "stream",
     "text": [
      "\t eval rmse: 1.1976\n",
      "\t eval mae: 0.9677\n"
     ]
    },
    {
     "name": "stderr",
     "output_type": "stream",
     "text": [
      "\n"
     ]
    },
    {
     "name": "stdout",
     "output_type": "stream",
     "text": [
      "\t eval r2: 0.0004\n",
      "==============================\n",
      "Epoch 2 elapsed: 0.131s\n"
     ]
    },
    {
     "name": "stderr",
     "output_type": "stream",
     "text": [
      "eval_pred: 100%|███████████████████████████████| 15/15 [00:00<00:00, 746.57it/s]\n"
     ]
    },
    {
     "name": "stdout",
     "output_type": "stream",
     "text": [
      "\t eval rmse: 1.0508\n",
      "\t eval mae: 0.8314\n",
      "\t eval r2: 0.2305\n",
      "==============================\n",
      "Epoch 3 elapsed: 0.130s\n"
     ]
    },
    {
     "name": "stderr",
     "output_type": "stream",
     "text": [
      "eval_pred: 100%|███████████████████████████████| 15/15 [00:00<00:00, 805.56it/s]\n"
     ]
    },
    {
     "name": "stdout",
     "output_type": "stream",
     "text": [
      "\t eval rmse: 1.0499\n",
      "\t eval mae: 0.8270\n",
      "\t eval r2: 0.2318\n",
      "==============================\n",
      "Epoch 4 elapsed: 0.139s\n"
     ]
    },
    {
     "name": "stderr",
     "output_type": "stream",
     "text": [
      "eval_pred: 100%|███████████████████████████████| 15/15 [00:00<00:00, 869.11it/s]\n"
     ]
    },
    {
     "name": "stdout",
     "output_type": "stream",
     "text": [
      "\t eval rmse: 1.0508\n",
      "\t eval mae: 0.8259\n",
      "\t eval r2: 0.2305\n",
      "==============================\n",
      "Epoch 5 elapsed: 0.138s\n"
     ]
    },
    {
     "name": "stderr",
     "output_type": "stream",
     "text": [
      "eval_pred: 100%|███████████████████████████████| 15/15 [00:00<00:00, 800.63it/s]\n"
     ]
    },
    {
     "name": "stdout",
     "output_type": "stream",
     "text": [
      "\t eval rmse: 1.0509\n",
      "\t eval mae: 0.8248\n",
      "\t eval r2: 0.2303\n",
      "==============================\n",
      "Training start time: \u001b[35m2022-07-28 16:51:44\u001b[0m\n",
      "Epoch 1 elapsed: 0.136s\n"
     ]
    },
    {
     "name": "stderr",
     "output_type": "stream",
     "text": [
      "eval_pred: 100%|███████████████████████████████| 15/15 [00:00<00:00, 678.19it/s]"
     ]
    },
    {
     "name": "stdout",
     "output_type": "stream",
     "text": [
      "\t eval rmse: 1.1925\n",
      "\t eval mae: 0.9646\n"
     ]
    },
    {
     "name": "stderr",
     "output_type": "stream",
     "text": [
      "\n"
     ]
    },
    {
     "name": "stdout",
     "output_type": "stream",
     "text": [
      "\t eval r2: 0.0090\n",
      "==============================\n",
      "Epoch 2 elapsed: 0.126s\n"
     ]
    },
    {
     "name": "stderr",
     "output_type": "stream",
     "text": [
      "eval_pred: 100%|███████████████████████████████| 15/15 [00:00<00:00, 749.30it/s]\n"
     ]
    },
    {
     "name": "stdout",
     "output_type": "stream",
     "text": [
      "\t eval rmse: 1.0472\n",
      "\t eval mae: 0.8294\n",
      "\t eval r2: 0.2357\n",
      "==============================\n",
      "Epoch 3 elapsed: 0.133s\n"
     ]
    },
    {
     "name": "stderr",
     "output_type": "stream",
     "text": [
      "eval_pred: 100%|███████████████████████████████| 15/15 [00:00<00:00, 885.04it/s]\n"
     ]
    },
    {
     "name": "stdout",
     "output_type": "stream",
     "text": [
      "\t eval rmse: 1.0456\n",
      "\t eval mae: 0.8244\n",
      "\t eval r2: 0.2380\n",
      "==============================\n",
      "Epoch 4 elapsed: 0.134s\n"
     ]
    },
    {
     "name": "stderr",
     "output_type": "stream",
     "text": [
      "eval_pred: 100%|███████████████████████████████| 15/15 [00:00<00:00, 720.73it/s]\n"
     ]
    },
    {
     "name": "stdout",
     "output_type": "stream",
     "text": [
      "\t eval rmse: 1.0458\n",
      "\t eval mae: 0.8229\n",
      "\t eval r2: 0.2377\n",
      "==============================\n",
      "Epoch 5 elapsed: 0.136s\n"
     ]
    },
    {
     "name": "stderr",
     "output_type": "stream",
     "text": [
      "eval_pred: 100%|███████████████████████████████| 15/15 [00:00<00:00, 681.23it/s]\n"
     ]
    },
    {
     "name": "stdout",
     "output_type": "stream",
     "text": [
      "\t eval rmse: 1.0454\n",
      "\t eval mae: 0.8213\n",
      "\t eval r2: 0.2384\n",
      "==============================\n",
      "Training start time: \u001b[35m2022-07-28 16:51:45\u001b[0m\n",
      "Epoch 1 elapsed: 0.147s\n"
     ]
    },
    {
     "name": "stderr",
     "output_type": "stream",
     "text": [
      "eval_pred: 100%|███████████████████████████████| 15/15 [00:00<00:00, 876.14it/s]"
     ]
    },
    {
     "name": "stdout",
     "output_type": "stream",
     "text": [
      "\t eval rmse: 1.1853\n"
     ]
    },
    {
     "name": "stderr",
     "output_type": "stream",
     "text": [
      "\n"
     ]
    },
    {
     "name": "stdout",
     "output_type": "stream",
     "text": [
      "\t eval mae: 0.9607\n",
      "\t eval r2: 0.0208\n",
      "==============================\n",
      "Epoch 2 elapsed: 0.132s\n"
     ]
    },
    {
     "name": "stderr",
     "output_type": "stream",
     "text": [
      "eval_pred: 100%|███████████████████████████████| 15/15 [00:00<00:00, 783.17it/s]\n"
     ]
    },
    {
     "name": "stdout",
     "output_type": "stream",
     "text": [
      "\t eval rmse: 1.0413\n",
      "\t eval mae: 0.8259\n",
      "\t eval r2: 0.2443\n",
      "==============================\n",
      "Epoch 3 elapsed: 0.179s\n"
     ]
    },
    {
     "name": "stderr",
     "output_type": "stream",
     "text": [
      "eval_pred: 100%|███████████████████████████████| 15/15 [00:00<00:00, 727.57it/s]"
     ]
    },
    {
     "name": "stdout",
     "output_type": "stream",
     "text": [
      "\t eval rmse: 1.0396\n",
      "\t eval mae: 0.8210\n",
      "\t eval r2: 0.2467\n",
      "==============================\n"
     ]
    },
    {
     "name": "stderr",
     "output_type": "stream",
     "text": [
      "\n"
     ]
    },
    {
     "name": "stdout",
     "output_type": "stream",
     "text": [
      "Epoch 4 elapsed: 0.150s\n"
     ]
    },
    {
     "name": "stderr",
     "output_type": "stream",
     "text": [
      "eval_pred: 100%|███████████████████████████████| 15/15 [00:00<00:00, 795.99it/s]\n"
     ]
    },
    {
     "name": "stdout",
     "output_type": "stream",
     "text": [
      "\t eval rmse: 1.0399\n",
      "\t eval mae: 0.8193\n",
      "\t eval r2: 0.2464\n",
      "==============================\n",
      "Epoch 5 elapsed: 0.141s\n"
     ]
    },
    {
     "name": "stderr",
     "output_type": "stream",
     "text": [
      "eval_pred: 100%|███████████████████████████████| 15/15 [00:00<00:00, 751.51it/s]\n"
     ]
    },
    {
     "name": "stdout",
     "output_type": "stream",
     "text": [
      "\t eval rmse: 1.0393\n",
      "\t eval mae: 0.8177\n",
      "\t eval r2: 0.2472\n",
      "==============================\n",
      "Training start time: \u001b[35m2022-07-28 16:51:46\u001b[0m\n",
      "Epoch 1 elapsed: 0.221s\n"
     ]
    },
    {
     "name": "stderr",
     "output_type": "stream",
     "text": [
      "eval_pred: 100%|███████████████████████████████| 15/15 [00:00<00:00, 828.12it/s]"
     ]
    },
    {
     "name": "stdout",
     "output_type": "stream",
     "text": [
      "\t eval rmse: 1.2089\n",
      "\t eval mae: 0.9735\n",
      "\t eval r2: -0.0185\n",
      "==============================\n"
     ]
    },
    {
     "name": "stderr",
     "output_type": "stream",
     "text": [
      "\n"
     ]
    },
    {
     "name": "stdout",
     "output_type": "stream",
     "text": [
      "Epoch 2 elapsed: 0.206s\n"
     ]
    },
    {
     "name": "stderr",
     "output_type": "stream",
     "text": [
      "eval_pred: 100%|███████████████████████████████| 15/15 [00:00<00:00, 738.30it/s]"
     ]
    },
    {
     "name": "stdout",
     "output_type": "stream",
     "text": [
      "\t eval rmse: 1.0766\n",
      "\t eval mae: 0.8505\n",
      "\t eval r2: 0.1922\n",
      "==============================\n"
     ]
    },
    {
     "name": "stderr",
     "output_type": "stream",
     "text": [
      "\n"
     ]
    },
    {
     "name": "stdout",
     "output_type": "stream",
     "text": [
      "Epoch 3 elapsed: 0.213s\n"
     ]
    },
    {
     "name": "stderr",
     "output_type": "stream",
     "text": [
      "eval_pred: 100%|███████████████████████████████| 15/15 [00:00<00:00, 639.02it/s]"
     ]
    },
    {
     "name": "stdout",
     "output_type": "stream",
     "text": [
      "\t eval rmse: 1.0794\n",
      "\t eval mae: 0.8485\n",
      "\t eval r2: 0.1880\n",
      "==============================\n"
     ]
    },
    {
     "name": "stderr",
     "output_type": "stream",
     "text": [
      "\n"
     ]
    },
    {
     "name": "stdout",
     "output_type": "stream",
     "text": [
      "Epoch 4 elapsed: 0.214s\n"
     ]
    },
    {
     "name": "stderr",
     "output_type": "stream",
     "text": [
      "eval_pred: 100%|███████████████████████████████| 15/15 [00:00<00:00, 485.52it/s]"
     ]
    },
    {
     "name": "stdout",
     "output_type": "stream",
     "text": [
      "\t eval rmse: 1.0831\n",
      "\t eval mae: 0.8489\n",
      "\t eval r2: 0.1825\n",
      "==============================\n"
     ]
    },
    {
     "name": "stderr",
     "output_type": "stream",
     "text": [
      "\n"
     ]
    },
    {
     "name": "stdout",
     "output_type": "stream",
     "text": [
      "Epoch 5 elapsed: 0.259s\n"
     ]
    },
    {
     "name": "stderr",
     "output_type": "stream",
     "text": [
      "eval_pred: 100%|███████████████████████████████| 15/15 [00:00<00:00, 606.63it/s]"
     ]
    },
    {
     "name": "stdout",
     "output_type": "stream",
     "text": [
      "\t eval rmse: 1.0860\n",
      "\t eval mae: 0.8492\n",
      "\t eval r2: 0.1781\n",
      "==============================\n"
     ]
    },
    {
     "name": "stderr",
     "output_type": "stream",
     "text": [
      "\n"
     ]
    },
    {
     "name": "stdout",
     "output_type": "stream",
     "text": [
      "Training start time: \u001b[35m2022-07-28 16:51:48\u001b[0m\n",
      "Epoch 1 elapsed: 0.222s\n"
     ]
    },
    {
     "name": "stderr",
     "output_type": "stream",
     "text": [
      "eval_pred: 100%|███████████████████████████████| 15/15 [00:00<00:00, 760.38it/s]"
     ]
    },
    {
     "name": "stdout",
     "output_type": "stream",
     "text": [
      "\t eval rmse: 1.1900\n",
      "\t eval mae: 0.9575\n",
      "\t eval r2: 0.0130\n",
      "==============================\n"
     ]
    },
    {
     "name": "stderr",
     "output_type": "stream",
     "text": [
      "\n"
     ]
    },
    {
     "name": "stdout",
     "output_type": "stream",
     "text": [
      "Epoch 2 elapsed: 0.266s\n"
     ]
    },
    {
     "name": "stderr",
     "output_type": "stream",
     "text": [
      "eval_pred: 100%|███████████████████████████████| 15/15 [00:00<00:00, 750.44it/s]"
     ]
    },
    {
     "name": "stdout",
     "output_type": "stream",
     "text": [
      "\t eval rmse: 1.0679\n",
      "\t eval mae: 0.8436\n",
      "\t eval r2: 0.2052\n",
      "==============================\n"
     ]
    },
    {
     "name": "stderr",
     "output_type": "stream",
     "text": [
      "\n"
     ]
    },
    {
     "name": "stdout",
     "output_type": "stream",
     "text": [
      "Epoch 3 elapsed: 0.178s\n"
     ]
    },
    {
     "name": "stderr",
     "output_type": "stream",
     "text": [
      "eval_pred: 100%|███████████████████████████████| 15/15 [00:00<00:00, 626.08it/s]"
     ]
    },
    {
     "name": "stdout",
     "output_type": "stream",
     "text": [
      "\t eval rmse: 1.0720\n",
      "\t eval mae: 0.8430\n",
      "\t eval r2: 0.1991\n",
      "==============================\n"
     ]
    },
    {
     "name": "stderr",
     "output_type": "stream",
     "text": [
      "\n"
     ]
    },
    {
     "name": "stdout",
     "output_type": "stream",
     "text": [
      "Epoch 4 elapsed: 0.201s\n"
     ]
    },
    {
     "name": "stderr",
     "output_type": "stream",
     "text": [
      "eval_pred: 100%|███████████████████████████████| 15/15 [00:00<00:00, 671.42it/s]"
     ]
    },
    {
     "name": "stdout",
     "output_type": "stream",
     "text": [
      "\t eval rmse: 1.0760\n",
      "\t eval mae: 0.8439\n",
      "\t eval r2: 0.1930\n",
      "==============================\n"
     ]
    },
    {
     "name": "stderr",
     "output_type": "stream",
     "text": [
      "\n"
     ]
    },
    {
     "name": "stdout",
     "output_type": "stream",
     "text": [
      "Epoch 5 elapsed: 0.226s\n"
     ]
    },
    {
     "name": "stderr",
     "output_type": "stream",
     "text": [
      "eval_pred: 100%|███████████████████████████████| 15/15 [00:00<00:00, 727.02it/s]"
     ]
    },
    {
     "name": "stdout",
     "output_type": "stream",
     "text": [
      "\t eval rmse: 1.0791\n",
      "\t eval mae: 0.8447\n",
      "\t eval r2: 0.1884\n",
      "==============================\n"
     ]
    },
    {
     "name": "stderr",
     "output_type": "stream",
     "text": [
      "\n"
     ]
    },
    {
     "name": "stdout",
     "output_type": "stream",
     "text": [
      "Training start time: \u001b[35m2022-07-28 16:51:50\u001b[0m\n",
      "Epoch 1 elapsed: 0.193s\n"
     ]
    },
    {
     "name": "stderr",
     "output_type": "stream",
     "text": [
      "eval_pred: 100%|███████████████████████████████| 15/15 [00:00<00:00, 783.82it/s]"
     ]
    },
    {
     "name": "stdout",
     "output_type": "stream",
     "text": [
      "\t eval rmse: 1.1836\n",
      "\t eval mae: 0.9517\n",
      "\t eval r2: 0.0237\n",
      "==============================\n"
     ]
    },
    {
     "name": "stderr",
     "output_type": "stream",
     "text": [
      "\n"
     ]
    },
    {
     "name": "stdout",
     "output_type": "stream",
     "text": [
      "Epoch 2 elapsed: 0.187s\n"
     ]
    },
    {
     "name": "stderr",
     "output_type": "stream",
     "text": [
      "eval_pred: 100%|███████████████████████████████| 15/15 [00:00<00:00, 612.20it/s]"
     ]
    },
    {
     "name": "stdout",
     "output_type": "stream",
     "text": [
      "\t eval rmse: 1.0662\n",
      "\t eval mae: 0.8421\n",
      "\t eval r2: 0.2077\n",
      "==============================\n"
     ]
    },
    {
     "name": "stderr",
     "output_type": "stream",
     "text": [
      "\n"
     ]
    },
    {
     "name": "stdout",
     "output_type": "stream",
     "text": [
      "Epoch 3 elapsed: 0.180s\n"
     ]
    },
    {
     "name": "stderr",
     "output_type": "stream",
     "text": [
      "eval_pred: 100%|███████████████████████████████| 15/15 [00:00<00:00, 755.10it/s]"
     ]
    },
    {
     "name": "stdout",
     "output_type": "stream",
     "text": [
      "\t eval rmse: 1.0707\n",
      "\t eval mae: 0.8420\n",
      "\t eval r2: 0.2010\n",
      "==============================\n"
     ]
    },
    {
     "name": "stderr",
     "output_type": "stream",
     "text": [
      "\n"
     ]
    },
    {
     "name": "stdout",
     "output_type": "stream",
     "text": [
      "Epoch 4 elapsed: 0.192s\n"
     ]
    },
    {
     "name": "stderr",
     "output_type": "stream",
     "text": [
      "eval_pred: 100%|███████████████████████████████| 15/15 [00:00<00:00, 662.27it/s]"
     ]
    },
    {
     "name": "stdout",
     "output_type": "stream",
     "text": [
      "\t eval rmse: 1.0749\n",
      "\t eval mae: 0.8430\n",
      "\t eval r2: 0.1948\n",
      "==============================\n"
     ]
    },
    {
     "name": "stderr",
     "output_type": "stream",
     "text": [
      "\n"
     ]
    },
    {
     "name": "stdout",
     "output_type": "stream",
     "text": [
      "Epoch 5 elapsed: 0.192s\n"
     ]
    },
    {
     "name": "stderr",
     "output_type": "stream",
     "text": [
      "eval_pred: 100%|███████████████████████████████| 15/15 [00:00<00:00, 714.61it/s]"
     ]
    },
    {
     "name": "stdout",
     "output_type": "stream",
     "text": [
      "\t eval rmse: 1.0780\n",
      "\t eval mae: 0.8439\n",
      "\t eval r2: 0.1901\n",
      "==============================\n"
     ]
    },
    {
     "name": "stderr",
     "output_type": "stream",
     "text": [
      "\n"
     ]
    },
    {
     "name": "stdout",
     "output_type": "stream",
     "text": [
      "Training start time: \u001b[35m2022-07-28 16:51:51\u001b[0m\n",
      "Epoch 1 elapsed: 0.204s\n"
     ]
    },
    {
     "name": "stderr",
     "output_type": "stream",
     "text": [
      "eval_pred: 100%|███████████████████████████████| 15/15 [00:00<00:00, 586.17it/s]"
     ]
    },
    {
     "name": "stdout",
     "output_type": "stream",
     "text": [
      "\t eval rmse: 1.1771\n",
      "\t eval mae: 0.9458\n",
      "\t eval r2: 0.0343\n",
      "==============================\n"
     ]
    },
    {
     "name": "stderr",
     "output_type": "stream",
     "text": [
      "\n"
     ]
    },
    {
     "name": "stdout",
     "output_type": "stream",
     "text": [
      "Epoch 2 elapsed: 0.211s\n"
     ]
    },
    {
     "name": "stderr",
     "output_type": "stream",
     "text": [
      "eval_pred: 100%|███████████████████████████████| 15/15 [00:00<00:00, 759.60it/s]"
     ]
    },
    {
     "name": "stdout",
     "output_type": "stream",
     "text": [
      "\t eval rmse: 1.0670\n",
      "\t eval mae: 0.8423\n",
      "\t eval r2: 0.2065\n",
      "==============================\n"
     ]
    },
    {
     "name": "stderr",
     "output_type": "stream",
     "text": [
      "\n"
     ]
    },
    {
     "name": "stdout",
     "output_type": "stream",
     "text": [
      "Epoch 3 elapsed: 0.185s\n"
     ]
    },
    {
     "name": "stderr",
     "output_type": "stream",
     "text": [
      "eval_pred: 100%|███████████████████████████████| 15/15 [00:00<00:00, 738.33it/s]"
     ]
    },
    {
     "name": "stdout",
     "output_type": "stream",
     "text": [
      "\t eval rmse: 1.0714\n",
      "\t eval mae: 0.8424\n",
      "\t eval r2: 0.2000\n",
      "==============================\n"
     ]
    },
    {
     "name": "stderr",
     "output_type": "stream",
     "text": [
      "\n"
     ]
    },
    {
     "name": "stdout",
     "output_type": "stream",
     "text": [
      "Epoch 4 elapsed: 0.200s\n"
     ]
    },
    {
     "name": "stderr",
     "output_type": "stream",
     "text": [
      "eval_pred: 100%|███████████████████████████████| 15/15 [00:00<00:00, 750.05it/s]"
     ]
    },
    {
     "name": "stdout",
     "output_type": "stream",
     "text": [
      "\t eval rmse: 1.0754\n",
      "\t eval mae: 0.8433\n",
      "\t eval r2: 0.1940\n",
      "==============================\n"
     ]
    },
    {
     "name": "stderr",
     "output_type": "stream",
     "text": [
      "\n"
     ]
    },
    {
     "name": "stdout",
     "output_type": "stream",
     "text": [
      "Epoch 5 elapsed: 0.197s\n"
     ]
    },
    {
     "name": "stderr",
     "output_type": "stream",
     "text": [
      "eval_pred: 100%|███████████████████████████████| 15/15 [00:00<00:00, 736.51it/s]"
     ]
    },
    {
     "name": "stdout",
     "output_type": "stream",
     "text": [
      "\t eval rmse: 1.0783\n",
      "\t eval mae: 0.8441\n",
      "\t eval r2: 0.1896\n",
      "==============================\n"
     ]
    },
    {
     "name": "stderr",
     "output_type": "stream",
     "text": [
      "\n"
     ]
    },
    {
     "name": "stdout",
     "output_type": "stream",
     "text": [
      "Training start time: \u001b[35m2022-07-28 16:51:53\u001b[0m\n",
      "Epoch 1 elapsed: 0.177s\n"
     ]
    },
    {
     "name": "stderr",
     "output_type": "stream",
     "text": [
      "eval_pred: 100%|███████████████████████████████| 15/15 [00:00<00:00, 763.95it/s]\n"
     ]
    },
    {
     "name": "stdout",
     "output_type": "stream",
     "text": [
      "\t eval rmse: 1.1754\n",
      "\t eval mae: 0.9443\n",
      "\t eval r2: 0.0371\n",
      "==============================\n",
      "Epoch 2 elapsed: 0.181s\n"
     ]
    },
    {
     "name": "stderr",
     "output_type": "stream",
     "text": [
      "eval_pred: 100%|███████████████████████████████| 15/15 [00:00<00:00, 860.76it/s]"
     ]
    },
    {
     "name": "stdout",
     "output_type": "stream",
     "text": [
      "\t eval rmse: 1.0685\n",
      "\t eval mae: 0.8433\n",
      "\t eval r2: 0.2044\n",
      "==============================\n"
     ]
    },
    {
     "name": "stderr",
     "output_type": "stream",
     "text": [
      "\n"
     ]
    },
    {
     "name": "stdout",
     "output_type": "stream",
     "text": [
      "Epoch 3 elapsed: 0.189s\n"
     ]
    },
    {
     "name": "stderr",
     "output_type": "stream",
     "text": [
      "eval_pred: 100%|███████████████████████████████| 15/15 [00:00<00:00, 643.67it/s]"
     ]
    },
    {
     "name": "stdout",
     "output_type": "stream",
     "text": [
      "\t eval rmse: 1.0725\n",
      "\t eval mae: 0.8431\n",
      "\t eval r2: 0.1983\n",
      "==============================\n"
     ]
    },
    {
     "name": "stderr",
     "output_type": "stream",
     "text": [
      "\n"
     ]
    },
    {
     "name": "stdout",
     "output_type": "stream",
     "text": [
      "Epoch 4 elapsed: 0.183s\n"
     ]
    },
    {
     "name": "stderr",
     "output_type": "stream",
     "text": [
      "eval_pred: 100%|███████████████████████████████| 15/15 [00:00<00:00, 729.18it/s]"
     ]
    },
    {
     "name": "stdout",
     "output_type": "stream",
     "text": [
      "\t eval rmse: 1.0763\n",
      "\t eval mae: 0.8438\n",
      "\t eval r2: 0.1927\n",
      "==============================\n"
     ]
    },
    {
     "name": "stderr",
     "output_type": "stream",
     "text": [
      "\n"
     ]
    },
    {
     "name": "stdout",
     "output_type": "stream",
     "text": [
      "Epoch 5 elapsed: 0.196s\n"
     ]
    },
    {
     "name": "stderr",
     "output_type": "stream",
     "text": [
      "eval_pred: 100%|███████████████████████████████| 15/15 [00:00<00:00, 750.63it/s]"
     ]
    },
    {
     "name": "stdout",
     "output_type": "stream",
     "text": [
      "\t eval rmse: 1.0790\n",
      "\t eval mae: 0.8444\n",
      "\t eval r2: 0.1887\n",
      "==============================\n"
     ]
    },
    {
     "name": "stderr",
     "output_type": "stream",
     "text": [
      "\n"
     ]
    },
    {
     "name": "stdout",
     "output_type": "stream",
     "text": [
      "Training start time: \u001b[35m2022-07-28 16:51:54\u001b[0m\n",
      "Epoch 1 elapsed: 0.176s\n"
     ]
    },
    {
     "name": "stderr",
     "output_type": "stream",
     "text": [
      "eval_pred: 100%|███████████████████████████████| 15/15 [00:00<00:00, 775.20it/s]\n"
     ]
    },
    {
     "name": "stdout",
     "output_type": "stream",
     "text": [
      "\t eval rmse: 1.1732\n",
      "\t eval mae: 0.9426\n",
      "\t eval r2: 0.0408\n",
      "==============================\n",
      "Epoch 2 elapsed: 0.185s\n"
     ]
    },
    {
     "name": "stderr",
     "output_type": "stream",
     "text": [
      "eval_pred: 100%|███████████████████████████████| 15/15 [00:00<00:00, 688.80it/s]"
     ]
    },
    {
     "name": "stdout",
     "output_type": "stream",
     "text": [
      "\t eval rmse: 1.0699\n",
      "\t eval mae: 0.8444\n",
      "\t eval r2: 0.2022\n",
      "==============================\n"
     ]
    },
    {
     "name": "stderr",
     "output_type": "stream",
     "text": [
      "\n"
     ]
    },
    {
     "name": "stdout",
     "output_type": "stream",
     "text": [
      "Epoch 3 elapsed: 0.192s\n"
     ]
    },
    {
     "name": "stderr",
     "output_type": "stream",
     "text": [
      "eval_pred: 100%|███████████████████████████████| 15/15 [00:00<00:00, 585.28it/s]"
     ]
    },
    {
     "name": "stdout",
     "output_type": "stream",
     "text": [
      "\t eval rmse: 1.0733\n",
      "\t eval mae: 0.8436\n",
      "\t eval r2: 0.1972\n",
      "==============================\n"
     ]
    },
    {
     "name": "stderr",
     "output_type": "stream",
     "text": [
      "\n"
     ]
    },
    {
     "name": "stdout",
     "output_type": "stream",
     "text": [
      "Epoch 4 elapsed: 0.198s\n"
     ]
    },
    {
     "name": "stderr",
     "output_type": "stream",
     "text": [
      "eval_pred: 100%|███████████████████████████████| 15/15 [00:00<00:00, 795.94it/s]"
     ]
    },
    {
     "name": "stdout",
     "output_type": "stream",
     "text": [
      "\t eval rmse: 1.0763\n",
      "\t eval mae: 0.8437\n",
      "\t eval r2: 0.1926\n",
      "==============================\n"
     ]
    },
    {
     "name": "stderr",
     "output_type": "stream",
     "text": [
      "\n"
     ]
    },
    {
     "name": "stdout",
     "output_type": "stream",
     "text": [
      "Epoch 5 elapsed: 0.189s\n"
     ]
    },
    {
     "name": "stderr",
     "output_type": "stream",
     "text": [
      "eval_pred: 100%|███████████████████████████████| 15/15 [00:00<00:00, 809.46it/s]"
     ]
    },
    {
     "name": "stdout",
     "output_type": "stream",
     "text": [
      "\t eval rmse: 1.0783\n",
      "\t eval mae: 0.8438\n",
      "\t eval r2: 0.1897\n",
      "==============================\n"
     ]
    },
    {
     "name": "stderr",
     "output_type": "stream",
     "text": [
      "\n"
     ]
    },
    {
     "name": "stdout",
     "output_type": "stream",
     "text": [
      "Training start time: \u001b[35m2022-07-28 16:51:56\u001b[0m\n",
      "Epoch 1 elapsed: 0.187s\n"
     ]
    },
    {
     "name": "stderr",
     "output_type": "stream",
     "text": [
      "eval_pred: 100%|███████████████████████████████| 15/15 [00:00<00:00, 777.40it/s]\n"
     ]
    },
    {
     "name": "stdout",
     "output_type": "stream",
     "text": [
      "\t eval rmse: 1.1678\n",
      "\t eval mae: 0.9393\n",
      "\t eval r2: 0.0496\n",
      "==============================\n",
      "Epoch 2 elapsed: 0.201s\n"
     ]
    },
    {
     "name": "stderr",
     "output_type": "stream",
     "text": [
      "eval_pred: 100%|███████████████████████████████| 15/15 [00:00<00:00, 629.21it/s]"
     ]
    },
    {
     "name": "stdout",
     "output_type": "stream",
     "text": [
      "\t eval rmse: 1.0662\n",
      "\t eval mae: 0.8420\n",
      "\t eval r2: 0.2078\n",
      "==============================\n"
     ]
    },
    {
     "name": "stderr",
     "output_type": "stream",
     "text": [
      "\n"
     ]
    },
    {
     "name": "stdout",
     "output_type": "stream",
     "text": [
      "Epoch 3 elapsed: 0.226s\n"
     ]
    },
    {
     "name": "stderr",
     "output_type": "stream",
     "text": [
      "eval_pred: 100%|███████████████████████████████| 15/15 [00:00<00:00, 696.90it/s]"
     ]
    },
    {
     "name": "stdout",
     "output_type": "stream",
     "text": [
      "\t eval rmse: 1.0682\n",
      "\t eval mae: 0.8403\n",
      "\t eval r2: 0.2048\n",
      "==============================\n"
     ]
    },
    {
     "name": "stderr",
     "output_type": "stream",
     "text": [
      "\n"
     ]
    },
    {
     "name": "stdout",
     "output_type": "stream",
     "text": [
      "Epoch 4 elapsed: 0.205s\n"
     ]
    },
    {
     "name": "stderr",
     "output_type": "stream",
     "text": [
      "eval_pred: 100%|███████████████████████████████| 15/15 [00:00<00:00, 509.75it/s]"
     ]
    },
    {
     "name": "stdout",
     "output_type": "stream",
     "text": [
      "\t eval rmse: 1.0699\n",
      "\t eval mae: 0.8396\n",
      "\t eval r2: 0.2022\n",
      "==============================\n"
     ]
    },
    {
     "name": "stderr",
     "output_type": "stream",
     "text": [
      "\n"
     ]
    },
    {
     "name": "stdout",
     "output_type": "stream",
     "text": [
      "Epoch 5 elapsed: 0.220s\n"
     ]
    },
    {
     "name": "stderr",
     "output_type": "stream",
     "text": [
      "eval_pred: 100%|███████████████████████████████| 15/15 [00:00<00:00, 664.24it/s]"
     ]
    },
    {
     "name": "stdout",
     "output_type": "stream",
     "text": [
      "\t eval rmse: 1.0707\n",
      "\t eval mae: 0.8388\n",
      "\t eval r2: 0.2010\n",
      "==============================\n"
     ]
    },
    {
     "name": "stderr",
     "output_type": "stream",
     "text": [
      "\n"
     ]
    },
    {
     "name": "stdout",
     "output_type": "stream",
     "text": [
      "Training start time: \u001b[35m2022-07-28 16:51:57\u001b[0m\n",
      "Epoch 1 elapsed: 0.186s\n"
     ]
    },
    {
     "name": "stderr",
     "output_type": "stream",
     "text": [
      "eval_pred: 100%|███████████████████████████████| 15/15 [00:00<00:00, 668.84it/s]\n"
     ]
    },
    {
     "name": "stdout",
     "output_type": "stream",
     "text": [
      "\t eval rmse: 1.1603\n",
      "\t eval mae: 0.9351\n",
      "\t eval r2: 0.0616\n",
      "==============================\n",
      "Epoch 2 elapsed: 0.195s\n"
     ]
    },
    {
     "name": "stderr",
     "output_type": "stream",
     "text": [
      "eval_pred: 100%|███████████████████████████████| 15/15 [00:00<00:00, 799.94it/s]"
     ]
    },
    {
     "name": "stdout",
     "output_type": "stream",
     "text": [
      "\t eval rmse: 1.0589\n",
      "\t eval mae: 0.8377\n",
      "\t eval r2: 0.2185\n",
      "==============================\n"
     ]
    },
    {
     "name": "stderr",
     "output_type": "stream",
     "text": [
      "\n"
     ]
    },
    {
     "name": "stdout",
     "output_type": "stream",
     "text": [
      "Epoch 3 elapsed: 0.197s\n"
     ]
    },
    {
     "name": "stderr",
     "output_type": "stream",
     "text": [
      "eval_pred: 100%|███████████████████████████████| 15/15 [00:00<00:00, 726.87it/s]"
     ]
    },
    {
     "name": "stdout",
     "output_type": "stream",
     "text": [
      "\t eval rmse: 1.0604\n",
      "\t eval mae: 0.8357\n",
      "\t eval r2: 0.2163\n",
      "==============================\n"
     ]
    },
    {
     "name": "stderr",
     "output_type": "stream",
     "text": [
      "\n"
     ]
    },
    {
     "name": "stdout",
     "output_type": "stream",
     "text": [
      "Epoch 4 elapsed: 0.262s\n"
     ]
    },
    {
     "name": "stderr",
     "output_type": "stream",
     "text": [
      "eval_pred: 100%|███████████████████████████████| 15/15 [00:00<00:00, 682.73it/s]"
     ]
    },
    {
     "name": "stdout",
     "output_type": "stream",
     "text": [
      "\t eval rmse: 1.0618\n",
      "\t eval mae: 0.8346\n",
      "\t eval r2: 0.2143\n",
      "==============================\n"
     ]
    },
    {
     "name": "stderr",
     "output_type": "stream",
     "text": [
      "\n"
     ]
    },
    {
     "name": "stdout",
     "output_type": "stream",
     "text": [
      "Epoch 5 elapsed: 0.210s\n"
     ]
    },
    {
     "name": "stderr",
     "output_type": "stream",
     "text": [
      "eval_pred: 100%|███████████████████████████████| 15/15 [00:00<00:00, 684.76it/s]"
     ]
    },
    {
     "name": "stdout",
     "output_type": "stream",
     "text": [
      "\t eval rmse: 1.0620\n",
      "\t eval mae: 0.8334\n",
      "\t eval r2: 0.2139\n",
      "==============================\n"
     ]
    },
    {
     "name": "stderr",
     "output_type": "stream",
     "text": [
      "\n"
     ]
    },
    {
     "data": {
      "text/plain": [
       "0.9857062011588344"
      ]
     },
     "execution_count": 14,
     "metadata": {},
     "output_type": "execute_result"
    }
   ],
   "source": [
    "emb_sizes = [2,3,4,6,8,10,12,15]\n",
    "regs = [0.01, 0.05, 0.1, 0.3, 0.5, 1,2, 3]\n",
    "\n",
    "david = np.zeros((len(emb_sizes)*len(regs), len(users_val)))\n",
    "\n",
    "for i, emb_size in enumerate(emb_sizes):\n",
    "    for j, reg in enumerate(regs):\n",
    "        giorgio = ALS(task=\"rating\", data_info=data_info, embed_size=emb_size, n_epochs=5,\n",
    "                    reg=reg, seed=42)\n",
    "        giorgio.fit(train_data, verbose=2, use_cg=False, n_threads=8,\n",
    "                eval_data=eval_data, metrics=[\"rmse\", \"mae\", \"r2\"])\n",
    "        #david[len(regs)*len(alphas)*i+len(alphas)*j+k] = np.array(giorgio.predict(user=users_val, item=movies_val)) * get_std_offset(movies_val) + get_mean_offset(movies_val)\n",
    "        david[len(regs)*i+j] = transform_back(np.array(giorgio.predict(user=users_val, item=movies_val)), users_val, movies_val)\n",
    "\n",
    "            \n",
    "#mean_squared_error(david.mean(axis=0), ratings_val * get_std_offset(movies_val) + get_mean_offset(movies_val), squared=False)\n",
    "mean_squared_error(david.mean(axis=0), transform_back(ratings_val, users_val, movies_val)[0], squared=False)"
   ]
  },
  {
   "cell_type": "code",
   "execution_count": 99,
   "id": "59483f23",
   "metadata": {},
   "outputs": [
    {
     "data": {
      "text/plain": [
       "5.0000002682209015"
      ]
     },
     "execution_count": 99,
     "metadata": {},
     "output_type": "execute_result"
    }
   ],
   "source": [
    "transform_back(ratings_val, users_val, movies_val)[0].max()"
   ]
  },
  {
   "cell_type": "code",
   "execution_count": 48,
   "id": "23fe2ab9",
   "metadata": {},
   "outputs": [
    {
     "name": "stdout",
     "output_type": "stream",
     "text": [
      "Training start time: \u001b[35m2022-07-28 14:34:37\u001b[0m\n",
      "Epoch 1 elapsed: 0.027s\n",
      "==============================\n",
      "Epoch 2 elapsed: 0.026s\n",
      "==============================\n",
      "Epoch 3 elapsed: 0.026s\n",
      "==============================\n",
      "Epoch 4 elapsed: 0.026s\n",
      "==============================\n",
      "Epoch 5 elapsed: 0.026s\n",
      "==============================\n",
      "Training start time: \u001b[35m2022-07-28 14:34:40\u001b[0m\n",
      "Epoch 1 elapsed: 0.026s\n",
      "==============================\n",
      "Epoch 2 elapsed: 0.026s\n",
      "==============================\n",
      "Epoch 3 elapsed: 0.026s\n",
      "==============================\n",
      "Epoch 4 elapsed: 0.026s\n",
      "==============================\n",
      "Epoch 5 elapsed: 0.026s\n",
      "==============================\n",
      "Training start time: \u001b[35m2022-07-28 14:34:42\u001b[0m\n",
      "Epoch 1 elapsed: 0.026s\n",
      "==============================\n",
      "Epoch 2 elapsed: 0.051s\n",
      "==============================\n",
      "Epoch 3 elapsed: 0.026s\n",
      "==============================\n",
      "Epoch 4 elapsed: 0.026s\n",
      "==============================\n",
      "Epoch 5 elapsed: 0.056s\n",
      "==============================\n",
      "Training start time: \u001b[35m2022-07-28 14:34:45\u001b[0m\n",
      "Epoch 1 elapsed: 0.026s\n",
      "==============================\n",
      "Epoch 2 elapsed: 0.027s\n",
      "==============================\n",
      "Epoch 3 elapsed: 0.027s\n",
      "==============================\n",
      "Epoch 4 elapsed: 0.056s\n",
      "==============================\n",
      "Epoch 5 elapsed: 0.027s\n",
      "==============================\n",
      "Training start time: \u001b[35m2022-07-28 14:34:48\u001b[0m\n",
      "Epoch 1 elapsed: 0.031s\n",
      "==============================\n",
      "Epoch 2 elapsed: 0.026s\n",
      "==============================\n",
      "Epoch 3 elapsed: 0.026s\n",
      "==============================\n",
      "Epoch 4 elapsed: 0.026s\n",
      "==============================\n",
      "Epoch 5 elapsed: 0.039s\n",
      "==============================\n",
      "Training start time: \u001b[35m2022-07-28 14:34:51\u001b[0m\n",
      "Epoch 1 elapsed: 0.026s\n",
      "==============================\n",
      "Epoch 2 elapsed: 0.026s\n",
      "==============================\n",
      "Epoch 3 elapsed: 0.026s\n",
      "==============================\n",
      "Epoch 4 elapsed: 0.047s\n",
      "==============================\n",
      "Epoch 5 elapsed: 0.028s\n",
      "==============================\n",
      "Training start time: \u001b[35m2022-07-28 14:34:53\u001b[0m\n",
      "Epoch 1 elapsed: 0.026s\n",
      "==============================\n",
      "Epoch 2 elapsed: 0.026s\n",
      "==============================\n",
      "Epoch 3 elapsed: 0.062s\n",
      "==============================\n",
      "Epoch 4 elapsed: 0.034s\n",
      "==============================\n",
      "Epoch 5 elapsed: 0.026s\n",
      "==============================\n",
      "Training start time: \u001b[35m2022-07-28 14:34:56\u001b[0m\n",
      "Epoch 1 elapsed: 0.026s\n",
      "==============================\n",
      "Epoch 2 elapsed: 0.026s\n",
      "==============================\n",
      "Epoch 3 elapsed: 0.026s\n",
      "==============================\n",
      "Epoch 4 elapsed: 0.042s\n",
      "==============================\n",
      "Epoch 5 elapsed: 0.026s\n",
      "==============================\n",
      "Training start time: \u001b[35m2022-07-28 14:34:58\u001b[0m\n",
      "Epoch 1 elapsed: 0.032s\n",
      "==============================\n",
      "Epoch 2 elapsed: 0.032s\n",
      "==============================\n",
      "Epoch 3 elapsed: 0.047s\n",
      "==============================\n",
      "Epoch 4 elapsed: 0.032s\n",
      "==============================\n",
      "Epoch 5 elapsed: 0.034s\n",
      "==============================\n",
      "Training start time: \u001b[35m2022-07-28 14:35:01\u001b[0m\n",
      "Epoch 1 elapsed: 0.032s\n",
      "==============================\n",
      "Epoch 2 elapsed: 0.032s\n",
      "==============================\n",
      "Epoch 3 elapsed: 0.045s\n",
      "==============================\n",
      "Epoch 4 elapsed: 0.031s\n",
      "==============================\n",
      "Epoch 5 elapsed: 0.036s\n",
      "==============================\n",
      "Training start time: \u001b[35m2022-07-28 14:35:04\u001b[0m\n",
      "Epoch 1 elapsed: 0.045s\n",
      "==============================\n",
      "Epoch 2 elapsed: 0.032s\n",
      "==============================\n",
      "Epoch 3 elapsed: 0.044s\n",
      "==============================\n",
      "Epoch 4 elapsed: 0.032s\n",
      "==============================\n",
      "Epoch 5 elapsed: 0.031s\n",
      "==============================\n",
      "Training start time: \u001b[35m2022-07-28 14:35:06\u001b[0m\n",
      "Epoch 1 elapsed: 0.042s\n",
      "==============================\n",
      "Epoch 2 elapsed: 0.031s\n",
      "==============================\n",
      "Epoch 3 elapsed: 0.032s\n",
      "==============================\n",
      "Epoch 4 elapsed: 0.033s\n",
      "==============================\n",
      "Epoch 5 elapsed: 0.032s\n",
      "==============================\n",
      "Training start time: \u001b[35m2022-07-28 14:35:09\u001b[0m\n",
      "Epoch 1 elapsed: 0.032s\n",
      "==============================\n",
      "Epoch 2 elapsed: 0.032s\n",
      "==============================\n",
      "Epoch 3 elapsed: 0.034s\n",
      "==============================\n",
      "Epoch 4 elapsed: 0.032s\n",
      "==============================\n",
      "Epoch 5 elapsed: 0.031s\n",
      "==============================\n",
      "Training start time: \u001b[35m2022-07-28 14:35:11\u001b[0m\n",
      "Epoch 1 elapsed: 0.043s\n",
      "==============================\n",
      "Epoch 2 elapsed: 0.034s\n",
      "==============================\n",
      "Epoch 3 elapsed: 0.032s\n",
      "==============================\n",
      "Epoch 4 elapsed: 0.032s\n",
      "==============================\n",
      "Epoch 5 elapsed: 0.031s\n",
      "==============================\n",
      "Training start time: \u001b[35m2022-07-28 14:35:14\u001b[0m\n",
      "Epoch 1 elapsed: 0.045s\n",
      "==============================\n",
      "Epoch 2 elapsed: 0.032s\n",
      "==============================\n",
      "Epoch 3 elapsed: 0.058s\n",
      "==============================\n",
      "Epoch 4 elapsed: 0.031s\n",
      "==============================\n",
      "Epoch 5 elapsed: 0.058s\n",
      "==============================\n",
      "Training start time: \u001b[35m2022-07-28 14:35:17\u001b[0m\n",
      "Epoch 1 elapsed: 0.038s\n",
      "==============================\n",
      "Epoch 2 elapsed: 0.032s\n",
      "==============================\n",
      "Epoch 3 elapsed: 0.034s\n",
      "==============================\n",
      "Epoch 4 elapsed: 0.034s\n",
      "==============================\n",
      "Epoch 5 elapsed: 0.032s\n",
      "==============================\n",
      "Training start time: \u001b[35m2022-07-28 14:35:19\u001b[0m\n",
      "Epoch 1 elapsed: 0.039s\n",
      "==============================\n",
      "Epoch 2 elapsed: 0.039s\n",
      "==============================\n",
      "Epoch 3 elapsed: 0.072s\n",
      "==============================\n",
      "Epoch 4 elapsed: 0.039s\n",
      "==============================\n",
      "Epoch 5 elapsed: 0.044s\n",
      "==============================\n",
      "Training start time: \u001b[35m2022-07-28 14:35:22\u001b[0m\n",
      "Epoch 1 elapsed: 0.039s\n",
      "==============================\n",
      "Epoch 2 elapsed: 0.044s\n",
      "==============================\n",
      "Epoch 3 elapsed: 0.039s\n",
      "==============================\n",
      "Epoch 4 elapsed: 0.039s\n",
      "==============================\n",
      "Epoch 5 elapsed: 0.052s\n",
      "==============================\n",
      "Training start time: \u001b[35m2022-07-28 14:35:25\u001b[0m\n",
      "Epoch 1 elapsed: 0.050s\n",
      "==============================\n",
      "Epoch 2 elapsed: 0.039s\n",
      "==============================\n",
      "Epoch 3 elapsed: 0.050s\n",
      "==============================\n",
      "Epoch 4 elapsed: 0.038s\n",
      "==============================\n",
      "Epoch 5 elapsed: 0.046s\n",
      "==============================\n",
      "Training start time: \u001b[35m2022-07-28 14:35:27\u001b[0m\n",
      "Epoch 1 elapsed: 0.062s\n",
      "==============================\n",
      "Epoch 2 elapsed: 0.039s\n",
      "==============================\n",
      "Epoch 3 elapsed: 0.040s\n",
      "==============================\n",
      "Epoch 4 elapsed: 0.039s\n",
      "==============================\n",
      "Epoch 5 elapsed: 0.058s\n",
      "==============================\n",
      "Training start time: \u001b[35m2022-07-28 14:35:30\u001b[0m\n",
      "Epoch 1 elapsed: 0.043s\n",
      "==============================\n",
      "Epoch 2 elapsed: 0.039s\n",
      "==============================\n",
      "Epoch 3 elapsed: 0.061s\n",
      "==============================\n",
      "Epoch 4 elapsed: 0.038s\n",
      "==============================\n",
      "Epoch 5 elapsed: 0.062s\n",
      "==============================\n",
      "Training start time: \u001b[35m2022-07-28 14:35:32\u001b[0m\n",
      "Epoch 1 elapsed: 0.039s\n",
      "==============================\n",
      "Epoch 2 elapsed: 0.039s\n",
      "==============================\n",
      "Epoch 3 elapsed: 0.039s\n",
      "==============================\n",
      "Epoch 4 elapsed: 0.043s\n",
      "==============================\n",
      "Epoch 5 elapsed: 0.046s\n",
      "==============================\n",
      "Training start time: \u001b[35m2022-07-28 14:35:35\u001b[0m\n",
      "Epoch 1 elapsed: 0.039s\n",
      "==============================\n",
      "Epoch 2 elapsed: 0.041s\n",
      "==============================\n",
      "Epoch 3 elapsed: 0.039s\n",
      "==============================\n",
      "Epoch 4 elapsed: 0.040s\n",
      "==============================\n",
      "Epoch 5 elapsed: 0.047s\n",
      "==============================\n",
      "Training start time: \u001b[35m2022-07-28 14:35:38\u001b[0m\n",
      "Epoch 1 elapsed: 0.039s\n",
      "==============================\n",
      "Epoch 2 elapsed: 0.039s\n",
      "==============================\n",
      "Epoch 3 elapsed: 0.042s\n",
      "==============================\n",
      "Epoch 4 elapsed: 0.039s\n",
      "==============================\n",
      "Epoch 5 elapsed: 0.052s\n",
      "==============================\n",
      "Training start time: \u001b[35m2022-07-28 14:35:40\u001b[0m\n",
      "Epoch 1 elapsed: 0.093s\n",
      "==============================\n",
      "Epoch 2 elapsed: 0.060s\n",
      "==============================\n",
      "Epoch 3 elapsed: 0.069s\n",
      "==============================\n",
      "Epoch 4 elapsed: 0.059s\n",
      "==============================\n",
      "Epoch 5 elapsed: 0.071s\n",
      "==============================\n",
      "Training start time: \u001b[35m2022-07-28 14:35:43\u001b[0m\n",
      "Epoch 1 elapsed: 0.061s\n",
      "==============================\n",
      "Epoch 2 elapsed: 0.059s\n",
      "==============================\n",
      "Epoch 3 elapsed: 0.064s\n",
      "==============================\n"
     ]
    },
    {
     "name": "stdout",
     "output_type": "stream",
     "text": [
      "Epoch 4 elapsed: 0.072s\n",
      "==============================\n",
      "Epoch 5 elapsed: 0.059s\n",
      "==============================\n",
      "Training start time: \u001b[35m2022-07-28 14:35:46\u001b[0m\n",
      "Epoch 1 elapsed: 0.068s\n",
      "==============================\n",
      "Epoch 2 elapsed: 0.060s\n",
      "==============================\n",
      "Epoch 3 elapsed: 0.059s\n",
      "==============================\n",
      "Epoch 4 elapsed: 0.061s\n",
      "==============================\n",
      "Epoch 5 elapsed: 0.060s\n",
      "==============================\n",
      "Training start time: \u001b[35m2022-07-28 14:35:49\u001b[0m\n",
      "Epoch 1 elapsed: 0.062s\n",
      "==============================\n",
      "Epoch 2 elapsed: 0.062s\n",
      "==============================\n",
      "Epoch 3 elapsed: 0.064s\n",
      "==============================\n",
      "Epoch 4 elapsed: 0.088s\n",
      "==============================\n",
      "Epoch 5 elapsed: 0.060s\n",
      "==============================\n",
      "Training start time: \u001b[35m2022-07-28 14:35:52\u001b[0m\n",
      "Epoch 1 elapsed: 0.060s\n",
      "==============================\n",
      "Epoch 2 elapsed: 0.064s\n",
      "==============================\n",
      "Epoch 3 elapsed: 0.062s\n",
      "==============================\n",
      "Epoch 4 elapsed: 0.061s\n",
      "==============================\n",
      "Epoch 5 elapsed: 0.059s\n",
      "==============================\n",
      "Training start time: \u001b[35m2022-07-28 14:35:55\u001b[0m\n",
      "Epoch 1 elapsed: 0.093s\n",
      "==============================\n",
      "Epoch 2 elapsed: 0.064s\n",
      "==============================\n",
      "Epoch 3 elapsed: 0.063s\n",
      "==============================\n",
      "Epoch 4 elapsed: 0.078s\n",
      "==============================\n",
      "Epoch 5 elapsed: 0.072s\n",
      "==============================\n",
      "Training start time: \u001b[35m2022-07-28 14:35:58\u001b[0m\n",
      "Epoch 1 elapsed: 0.061s\n",
      "==============================\n",
      "Epoch 2 elapsed: 0.059s\n",
      "==============================\n",
      "Epoch 3 elapsed: 0.067s\n",
      "==============================\n",
      "Epoch 4 elapsed: 0.066s\n",
      "==============================\n",
      "Epoch 5 elapsed: 0.059s\n",
      "==============================\n",
      "Training start time: \u001b[35m2022-07-28 14:36:01\u001b[0m\n",
      "Epoch 1 elapsed: 0.061s\n",
      "==============================\n",
      "Epoch 2 elapsed: 0.077s\n",
      "==============================\n",
      "Epoch 3 elapsed: 0.069s\n",
      "==============================\n",
      "Epoch 4 elapsed: 0.060s\n",
      "==============================\n",
      "Epoch 5 elapsed: 0.101s\n",
      "==============================\n",
      "Training start time: \u001b[35m2022-07-28 14:36:04\u001b[0m\n",
      "Epoch 1 elapsed: 0.084s\n",
      "==============================\n",
      "Epoch 2 elapsed: 0.085s\n",
      "==============================\n",
      "Epoch 3 elapsed: 0.113s\n",
      "==============================\n",
      "Epoch 4 elapsed: 0.084s\n",
      "==============================\n",
      "Epoch 5 elapsed: 0.101s\n",
      "==============================\n",
      "Training start time: \u001b[35m2022-07-28 14:36:07\u001b[0m\n",
      "Epoch 1 elapsed: 0.087s\n",
      "==============================\n",
      "Epoch 2 elapsed: 0.090s\n",
      "==============================\n",
      "Epoch 3 elapsed: 0.098s\n",
      "==============================\n",
      "Epoch 4 elapsed: 0.086s\n",
      "==============================\n",
      "Epoch 5 elapsed: 0.095s\n",
      "==============================\n",
      "Training start time: \u001b[35m2022-07-28 14:36:10\u001b[0m\n",
      "Epoch 1 elapsed: 0.106s\n",
      "==============================\n",
      "Epoch 2 elapsed: 0.136s\n",
      "==============================\n",
      "Epoch 3 elapsed: 0.104s\n",
      "==============================\n",
      "Epoch 4 elapsed: 0.090s\n",
      "==============================\n",
      "Epoch 5 elapsed: 0.084s\n",
      "==============================\n",
      "Training start time: \u001b[35m2022-07-28 14:36:13\u001b[0m\n",
      "Epoch 1 elapsed: 0.101s\n",
      "==============================\n",
      "Epoch 2 elapsed: 0.179s\n",
      "==============================\n",
      "Epoch 3 elapsed: 0.116s\n",
      "==============================\n",
      "Epoch 4 elapsed: 0.162s\n",
      "==============================\n",
      "Epoch 5 elapsed: 0.175s\n",
      "==============================\n",
      "Training start time: \u001b[35m2022-07-28 14:36:16\u001b[0m\n",
      "Epoch 1 elapsed: 0.085s\n",
      "==============================\n",
      "Epoch 2 elapsed: 0.098s\n",
      "==============================\n",
      "Epoch 3 elapsed: 0.101s\n",
      "==============================\n",
      "Epoch 4 elapsed: 0.094s\n",
      "==============================\n",
      "Epoch 5 elapsed: 0.082s\n",
      "==============================\n",
      "Training start time: \u001b[35m2022-07-28 14:36:19\u001b[0m\n",
      "Epoch 1 elapsed: 0.087s\n",
      "==============================\n",
      "Epoch 2 elapsed: 0.083s\n",
      "==============================\n",
      "Epoch 3 elapsed: 0.085s\n",
      "==============================\n",
      "Epoch 4 elapsed: 0.083s\n",
      "==============================\n",
      "Epoch 5 elapsed: 0.085s\n",
      "==============================\n",
      "Training start time: \u001b[35m2022-07-28 14:36:22\u001b[0m\n",
      "Epoch 1 elapsed: 0.086s\n",
      "==============================\n",
      "Epoch 2 elapsed: 0.083s\n",
      "==============================\n",
      "Epoch 3 elapsed: 0.086s\n",
      "==============================\n",
      "Epoch 4 elapsed: 0.085s\n",
      "==============================\n",
      "Epoch 5 elapsed: 0.086s\n",
      "==============================\n",
      "Training start time: \u001b[35m2022-07-28 14:36:25\u001b[0m\n",
      "Epoch 1 elapsed: 0.083s\n",
      "==============================\n",
      "Epoch 2 elapsed: 0.085s\n",
      "==============================\n",
      "Epoch 3 elapsed: 0.088s\n",
      "==============================\n",
      "Epoch 4 elapsed: 0.091s\n",
      "==============================\n",
      "Epoch 5 elapsed: 0.083s\n",
      "==============================\n",
      "Training start time: \u001b[35m2022-07-28 14:36:28\u001b[0m\n",
      "Epoch 1 elapsed: 0.127s\n",
      "==============================\n",
      "Epoch 2 elapsed: 0.139s\n",
      "==============================\n",
      "Epoch 3 elapsed: 0.123s\n",
      "==============================\n",
      "Epoch 4 elapsed: 0.116s\n",
      "==============================\n",
      "Epoch 5 elapsed: 0.134s\n",
      "==============================\n",
      "Training start time: \u001b[35m2022-07-28 14:36:31\u001b[0m\n",
      "Epoch 1 elapsed: 0.109s\n",
      "==============================\n",
      "Epoch 2 elapsed: 0.112s\n",
      "==============================\n",
      "Epoch 3 elapsed: 0.112s\n",
      "==============================\n",
      "Epoch 4 elapsed: 0.114s\n",
      "==============================\n",
      "Epoch 5 elapsed: 0.114s\n",
      "==============================\n",
      "Training start time: \u001b[35m2022-07-28 14:36:34\u001b[0m\n",
      "Epoch 1 elapsed: 0.107s\n",
      "==============================\n",
      "Epoch 2 elapsed: 0.113s\n",
      "==============================\n",
      "Epoch 3 elapsed: 0.107s\n",
      "==============================\n",
      "Epoch 4 elapsed: 0.110s\n",
      "==============================\n",
      "Epoch 5 elapsed: 0.107s\n",
      "==============================\n",
      "Training start time: \u001b[35m2022-07-28 14:36:37\u001b[0m\n",
      "Epoch 1 elapsed: 0.127s\n",
      "==============================\n",
      "Epoch 2 elapsed: 0.129s\n",
      "==============================\n",
      "Epoch 3 elapsed: 0.109s\n",
      "==============================\n",
      "Epoch 4 elapsed: 0.154s\n",
      "==============================\n",
      "Epoch 5 elapsed: 0.184s\n",
      "==============================\n",
      "Training start time: \u001b[35m2022-07-28 14:36:40\u001b[0m\n",
      "Epoch 1 elapsed: 0.107s\n",
      "==============================\n",
      "Epoch 2 elapsed: 0.112s\n",
      "==============================\n",
      "Epoch 3 elapsed: 0.109s\n",
      "==============================\n",
      "Epoch 4 elapsed: 0.120s\n",
      "==============================\n",
      "Epoch 5 elapsed: 0.116s\n",
      "==============================\n",
      "Training start time: \u001b[35m2022-07-28 14:36:43\u001b[0m\n",
      "Epoch 1 elapsed: 0.114s\n",
      "==============================\n",
      "Epoch 2 elapsed: 0.114s\n",
      "==============================\n",
      "Epoch 3 elapsed: 0.110s\n",
      "==============================\n",
      "Epoch 4 elapsed: 0.122s\n",
      "==============================\n",
      "Epoch 5 elapsed: 0.120s\n",
      "==============================\n",
      "Training start time: \u001b[35m2022-07-28 14:36:46\u001b[0m\n",
      "Epoch 1 elapsed: 0.120s\n",
      "==============================\n",
      "Epoch 2 elapsed: 0.112s\n",
      "==============================\n",
      "Epoch 3 elapsed: 0.110s\n",
      "==============================\n",
      "Epoch 4 elapsed: 0.114s\n",
      "==============================\n",
      "Epoch 5 elapsed: 0.128s\n",
      "==============================\n",
      "Training start time: \u001b[35m2022-07-28 14:36:49\u001b[0m\n",
      "Epoch 1 elapsed: 0.113s\n",
      "==============================\n",
      "Epoch 2 elapsed: 0.123s\n",
      "==============================\n",
      "Epoch 3 elapsed: 0.122s\n",
      "==============================\n",
      "Epoch 4 elapsed: 0.112s\n",
      "==============================\n",
      "Epoch 5 elapsed: 0.139s\n",
      "==============================\n",
      "Training start time: \u001b[35m2022-07-28 14:36:52\u001b[0m\n",
      "Epoch 1 elapsed: 0.141s\n",
      "==============================\n",
      "Epoch 2 elapsed: 0.138s\n",
      "==============================\n",
      "Epoch 3 elapsed: 0.142s\n",
      "==============================\n",
      "Epoch 4 elapsed: 0.150s\n",
      "==============================\n",
      "Epoch 5 elapsed: 0.135s\n",
      "==============================\n",
      "Training start time: \u001b[35m2022-07-28 14:36:56\u001b[0m\n",
      "Epoch 1 elapsed: 0.143s\n",
      "==============================\n",
      "Epoch 2 elapsed: 0.140s\n",
      "==============================\n",
      "Epoch 3 elapsed: 0.137s\n",
      "==============================\n",
      "Epoch 4 elapsed: 0.148s\n",
      "==============================\n",
      "Epoch 5 elapsed: 0.139s\n",
      "==============================\n",
      "Training start time: \u001b[35m2022-07-28 14:36:59\u001b[0m\n",
      "Epoch 1 elapsed: 0.137s\n",
      "==============================\n",
      "Epoch 2 elapsed: 0.147s\n",
      "==============================\n",
      "Epoch 3 elapsed: 0.136s\n",
      "==============================\n",
      "Epoch 4 elapsed: 0.153s\n",
      "==============================\n",
      "Epoch 5 elapsed: 0.138s\n",
      "==============================\n"
     ]
    },
    {
     "name": "stdout",
     "output_type": "stream",
     "text": [
      "Training start time: \u001b[35m2022-07-28 14:37:02\u001b[0m\n",
      "Epoch 1 elapsed: 0.137s\n",
      "==============================\n",
      "Epoch 2 elapsed: 0.138s\n",
      "==============================\n",
      "Epoch 3 elapsed: 0.136s\n",
      "==============================\n",
      "Epoch 4 elapsed: 0.143s\n",
      "==============================\n",
      "Epoch 5 elapsed: 0.136s\n",
      "==============================\n",
      "Training start time: \u001b[35m2022-07-28 14:37:05\u001b[0m\n",
      "Epoch 1 elapsed: 0.144s\n",
      "==============================\n",
      "Epoch 2 elapsed: 0.137s\n",
      "==============================\n",
      "Epoch 3 elapsed: 0.147s\n",
      "==============================\n",
      "Epoch 4 elapsed: 0.138s\n",
      "==============================\n",
      "Epoch 5 elapsed: 0.136s\n",
      "==============================\n",
      "Training start time: \u001b[35m2022-07-28 14:37:08\u001b[0m\n",
      "Epoch 1 elapsed: 0.178s\n",
      "==============================\n",
      "Epoch 2 elapsed: 0.153s\n",
      "==============================\n",
      "Epoch 3 elapsed: 0.158s\n",
      "==============================\n",
      "Epoch 4 elapsed: 0.149s\n",
      "==============================\n",
      "Epoch 5 elapsed: 0.155s\n",
      "==============================\n",
      "Training start time: \u001b[35m2022-07-28 14:37:12\u001b[0m\n",
      "Epoch 1 elapsed: 0.154s\n",
      "==============================\n",
      "Epoch 2 elapsed: 0.141s\n",
      "==============================\n",
      "Epoch 3 elapsed: 0.139s\n",
      "==============================\n",
      "Epoch 4 elapsed: 0.149s\n",
      "==============================\n",
      "Epoch 5 elapsed: 0.137s\n",
      "==============================\n",
      "Training start time: \u001b[35m2022-07-28 14:37:15\u001b[0m\n",
      "Epoch 1 elapsed: 0.141s\n",
      "==============================\n",
      "Epoch 2 elapsed: 0.147s\n",
      "==============================\n",
      "Epoch 3 elapsed: 0.144s\n",
      "==============================\n",
      "Epoch 4 elapsed: 0.147s\n",
      "==============================\n",
      "Epoch 5 elapsed: 0.149s\n",
      "==============================\n",
      "Training start time: \u001b[35m2022-07-28 14:37:18\u001b[0m\n",
      "Epoch 1 elapsed: 0.203s\n",
      "==============================\n",
      "Epoch 2 elapsed: 0.192s\n",
      "==============================\n",
      "Epoch 3 elapsed: 0.196s\n",
      "==============================\n",
      "Epoch 4 elapsed: 0.195s\n",
      "==============================\n",
      "Epoch 5 elapsed: 0.254s\n",
      "==============================\n",
      "Training start time: \u001b[35m2022-07-28 14:37:22\u001b[0m\n",
      "Epoch 1 elapsed: 0.243s\n",
      "==============================\n",
      "Epoch 2 elapsed: 0.228s\n",
      "==============================\n",
      "Epoch 3 elapsed: 0.212s\n",
      "==============================\n",
      "Epoch 4 elapsed: 0.222s\n",
      "==============================\n",
      "Epoch 5 elapsed: 0.189s\n",
      "==============================\n",
      "Training start time: \u001b[35m2022-07-28 14:37:25\u001b[0m\n",
      "Epoch 1 elapsed: 0.203s\n",
      "==============================\n",
      "Epoch 2 elapsed: 0.195s\n",
      "==============================\n",
      "Epoch 3 elapsed: 0.191s\n",
      "==============================\n",
      "Epoch 4 elapsed: 0.190s\n",
      "==============================\n",
      "Epoch 5 elapsed: 0.192s\n",
      "==============================\n",
      "Training start time: \u001b[35m2022-07-28 14:37:29\u001b[0m\n",
      "Epoch 1 elapsed: 0.218s\n",
      "==============================\n",
      "Epoch 2 elapsed: 0.190s\n",
      "==============================\n",
      "Epoch 3 elapsed: 0.194s\n",
      "==============================\n",
      "Epoch 4 elapsed: 0.199s\n",
      "==============================\n",
      "Epoch 5 elapsed: 0.194s\n",
      "==============================\n",
      "Training start time: \u001b[35m2022-07-28 14:37:32\u001b[0m\n",
      "Epoch 1 elapsed: 0.201s\n",
      "==============================\n",
      "Epoch 2 elapsed: 0.192s\n",
      "==============================\n",
      "Epoch 3 elapsed: 0.197s\n",
      "==============================\n",
      "Epoch 4 elapsed: 0.190s\n",
      "==============================\n",
      "Epoch 5 elapsed: 0.193s\n",
      "==============================\n",
      "Training start time: \u001b[35m2022-07-28 14:37:36\u001b[0m\n",
      "Epoch 1 elapsed: 0.189s\n",
      "==============================\n",
      "Epoch 2 elapsed: 0.198s\n",
      "==============================\n",
      "Epoch 3 elapsed: 0.195s\n",
      "==============================\n",
      "Epoch 4 elapsed: 0.192s\n",
      "==============================\n",
      "Epoch 5 elapsed: 0.190s\n",
      "==============================\n",
      "Training start time: \u001b[35m2022-07-28 14:37:39\u001b[0m\n",
      "Epoch 1 elapsed: 0.206s\n",
      "==============================\n",
      "Epoch 2 elapsed: 0.191s\n",
      "==============================\n",
      "Epoch 3 elapsed: 0.195s\n",
      "==============================\n",
      "Epoch 4 elapsed: 0.190s\n",
      "==============================\n",
      "Epoch 5 elapsed: 0.194s\n",
      "==============================\n",
      "Training start time: \u001b[35m2022-07-28 14:37:42\u001b[0m\n",
      "Epoch 1 elapsed: 0.205s\n",
      "==============================\n",
      "Epoch 2 elapsed: 0.200s\n",
      "==============================\n",
      "Epoch 3 elapsed: 0.193s\n",
      "==============================\n",
      "Epoch 4 elapsed: 0.213s\n",
      "==============================\n",
      "Epoch 5 elapsed: 0.214s\n",
      "==============================\n"
     ]
    }
   ],
   "source": [
    "#------------- submission ----------------#\n",
    "\n",
    "emb_sizes = [2,3,4,6,8,10,12,15]\n",
    "regs = [0.01, 0.05, 0.1, 0.3, 0.5, 1,2, 3]\n",
    "train_pd = pd.read_csv(f'../data/data_train.csv')\n",
    "\n",
    "users_train, movies_train, _ = extract_users_movies_ratings_lists(train_pd)\n",
    "ratings_train = normalize_extract_lists(train_pd, users_train, movies_train)\n",
    "\n",
    "test_pd = pd.read_csv('../data/sampleSubmission.csv')\n",
    "users_test, movies_test, _ = extract_users_movies_ratings_lists(test_pd)\n",
    "\n",
    "train = pd.DataFrame({'user': users_train, 'item': movies_train, 'label': ratings_train})\n",
    "\n",
    "david = np.zeros((len(emb_sizes)*len(regs), len(users_test)))\n",
    "\n",
    "# %%\n",
    "train_data, data_info = DatasetPure.build_trainset(train)\n",
    "\n",
    "for i, emb_size in enumerate(emb_sizes):\n",
    "    for j, reg in enumerate(regs):\n",
    "        giorgio = ALS(task=\"rating\", data_info=data_info, embed_size=emb_size, n_epochs=5,\n",
    "                    reg=reg, seed=42)\n",
    "        giorgio.fit(train_data, verbose=2, use_cg=False, n_threads=8, metrics=[\"rmse\", \"mae\", \"r2\"])\n",
    "        #david[len(regs)*len(alphas)*i+len(alphas)*j+k] = np.array(giorgio.predict(user=users_val, item=movies_val)) * get_std_offset(movies_val) + get_mean_offset(movies_val)\n",
    "        david[len(regs)*i+j] = transform_back(np.array(giorgio.predict(user=users_test, item=movies_test)), users_test, movies_test)\n",
    "        \n",
    "yhat = david.mean(axis=0)\n",
    "save_predictions(f'./ALS-predictedSubmission.csv', yhat)"
   ]
  },
  {
   "cell_type": "code",
   "execution_count": 49,
   "id": "1c353b40",
   "metadata": {},
   "outputs": [
    {
     "data": {
      "text/plain": [
       "array([3.23178845, 3.40148912, 3.76739481, ..., 3.26405879, 3.08399891,\n",
       "       3.81678093])"
      ]
     },
     "execution_count": 49,
     "metadata": {},
     "output_type": "execute_result"
    }
   ],
   "source": [
    "yhat"
   ]
  },
  {
   "cell_type": "code",
   "execution_count": 50,
   "id": "928ef8ff",
   "metadata": {},
   "outputs": [
    {
     "data": {
      "text/plain": [
       "0.5687871615553088"
      ]
     },
     "execution_count": 50,
     "metadata": {},
     "output_type": "execute_result"
    }
   ],
   "source": [
    "yhat.std()"
   ]
  }
 ],
 "metadata": {
  "kernelspec": {
   "display_name": "Python 3 (ipykernel)",
   "language": "python",
   "name": "python3"
  },
  "language_info": {
   "codemirror_mode": {
    "name": "ipython",
    "version": 3
   },
   "file_extension": ".py",
   "mimetype": "text/x-python",
   "name": "python",
   "nbconvert_exporter": "python",
   "pygments_lexer": "ipython3",
   "version": "3.8.10"
  }
 },
 "nbformat": 4,
 "nbformat_minor": 5
}
