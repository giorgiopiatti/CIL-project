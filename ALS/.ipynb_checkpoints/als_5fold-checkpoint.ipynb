{
 "cells": [
  {
   "cell_type": "code",
   "execution_count": 1,
   "id": "caa23fff",
   "metadata": {},
   "outputs": [],
   "source": [
    "import importlib\n",
    "import dataset\n",
    "importlib.reload(dataset)\n",
    "\n",
    "from dataset import extract_matrix_users_movies_ratings, extract_users_movies_ratings_lists"
   ]
  },
  {
   "cell_type": "code",
   "execution_count": 2,
   "id": "86d71b45",
   "metadata": {},
   "outputs": [
    {
     "name": "stdout",
     "output_type": "stream",
     "text": [
      "WARNING:tensorflow:From /home/david/.local/lib/python3.8/site-packages/tensorflow/python/compat/v2_compat.py:107: disable_resource_variables (from tensorflow.python.ops.variable_scope) is deprecated and will be removed in a future version.\n",
      "Instructions for updating:\n",
      "non-resource variables are not supported in the long term\n"
     ]
    }
   ],
   "source": [
    "import numpy as np\n",
    "import pandas as pd\n",
    "from sklearn.model_selection import train_test_split\n",
    "import random\n",
    "from dataset import extract_matrix_users_movies_ratings, extract_users_movies_ratings_lists\n",
    "from libreco.data import split_by_ratio_chrono, DatasetPure\n",
    "from libreco.algorithms import ALS\n",
    "from sklearn.metrics import mean_squared_error"
   ]
  },
  {
   "cell_type": "code",
   "execution_count": null,
   "id": "379cf837",
   "metadata": {},
   "outputs": [],
   "source": [
    "RANDOM_STATE = 58\n",
    "\n",
    "scores = []\n",
    "\n",
    "test_pd = pd.read_csv('../data/sampleSubmission.csv')\n",
    "users_test, movies_test, _ = extract_users_movies_ratings_lists(test_pd)\n",
    "\n",
    "\n",
    "for i in range(5):\n",
    "    train_pd = pd.read_csv(f'../data_val_train_kfold/partition_{i}_train.csv')\n",
    "    val_pd = pd.read_csv(f'../data_val_train_kfold/partition_{i}_val.csv')\n",
    "    users_train, movies_train, ratings_train = extract_users_movies_ratings_lists(train_pd)\n",
    "    users_val, movies_val, ratings_val = extract_users_movies_ratings_lists(val_pd)\n",
    "    train = pd.DataFrame({'user': users_train, 'item': movies_train, 'label': ratings_train})\n",
    "    val = pd.DataFrame({'user': users_val, 'item': movies_val, 'label': ratings_val})\n",
    "    train_data, data_info = DatasetPure.build_trainset(train)\n",
    "    eval_data = DatasetPure.build_evalset(val)\n",
    "    \n",
    "    scores.append(eval_ensemble(i, train_data, data_info, users_val, movies_val, ratings_val, users_test, movies_test))"
   ]
  },
  {
   "cell_type": "code",
   "execution_count": 4,
   "id": "31988a03",
   "metadata": {},
   "outputs": [],
   "source": [
    "def eval_ensemble(split, train_data, data_info, users_val, movies_val, ratings_val, users_test, movies_test):\n",
    "    emb_sizes = [2,4,8,16,32]\n",
    "    regs = [0.1, 0.5, 1, 5, 10]\n",
    "    alphas = [0.01, 0.1, 1, 10, 100]\n",
    "    david_val = np.zeros((len(emb_sizes) * len(regs) * len(alphas), len(users_val)))\n",
    "    david_test = np.zeros((len(emb_sizes) * len(regs) * len(alphas), len(users_test)))\n",
    "\n",
    "    for i, emb_size in enumerate(emb_sizes):\n",
    "        for j, reg in enumerate(regs):\n",
    "            for k, alpha in enumerate(alphas):\n",
    "                giorgio = ALS(task=\"rating\", data_info=data_info, embed_size=emb_size, n_epochs=5,\n",
    "                            reg=reg, alpha=alpha, seed=42)\n",
    "                giorgio.fit(train_data, verbose=2, use_cg=False, n_threads=8, metrics=[\"rmse\", \"mae\", \"r2\"])\n",
    "                david_val[len(regs)*len(alphas)*i+len(alphas)*j+k] = np.array(giorgio.predict(user=users_val, item=movies_val))\n",
    "                david_test[len(regs)*len(alphas)*i+len(alphas)*j+k] = np.array(giorgio.predict(user=users_test, item=movies_test))\n",
    "\n",
    "    yhat_val = david_val.mean(axis=0)\n",
    "    yhat_test = david_test.mean(axis=0)\n",
    "    save_predictions(f'ALS_split_{split}_val_results.csv', yhat_val)\n",
    "    save_predictions(f'ALS_split_{split}_test_results.csv', yhat_test)\n",
    "    \n",
    "    return mean_squared_error(yhat_val, ratings_val, squared=False)"
   ]
  }
 ],
 "metadata": {
  "kernelspec": {
   "display_name": "Python 3 (ipykernel)",
   "language": "python",
   "name": "python3"
  },
  "language_info": {
   "codemirror_mode": {
    "name": "ipython",
    "version": 3
   },
   "file_extension": ".py",
   "mimetype": "text/x-python",
   "name": "python",
   "nbconvert_exporter": "python",
   "pygments_lexer": "ipython3",
   "version": "3.8.10"
  }
 },
 "nbformat": 4,
 "nbformat_minor": 5
}
