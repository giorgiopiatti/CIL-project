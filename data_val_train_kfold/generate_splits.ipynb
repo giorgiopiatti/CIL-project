{
 "cells": [
  {
   "cell_type": "code",
   "execution_count": 7,
   "metadata": {},
   "outputs": [
    {
     "name": "stdout",
     "output_type": "stream",
     "text": [
      "(1059256,) 0\n",
      "(117696,) 0\n",
      "(1059256,) 1\n",
      "(117696,) 1\n",
      "(1059257,) 2\n",
      "(117695,) 2\n",
      "(1059257,) 3\n",
      "(117695,) 3\n",
      "(1059257,) 4\n",
      "(117695,) 4\n",
      "(1059257,) 5\n",
      "(117695,) 5\n"
     ]
    }
   ],
   "source": [
    "from sklearn.model_selection import KFold\n",
    "import pandas as pd\n",
    "data_pd = pd.read_csv('../data/data_train.csv')\n",
    "\n",
    "kf = KFold(n_splits=10, shuffle=True, random_state=153)\n",
    "\n",
    "count = 0\n",
    "for train_index, test_index in kf.split(data_pd):\n",
    "    print(train_index.shape, count)\n",
    "    print(test_index.shape, count)\n",
    "    data_pd.iloc[train_index].to_csv(f'./partition_{count}_train.csv', index=False)\n",
    "    data_pd.iloc[test_index].to_csv(f'./partition_{count}_val.csv', index=False)\n",
    "    if count > 4:\n",
    "        break\n",
    "    count+=1"
   ]
  }
 ],
 "metadata": {
  "interpreter": {
   "hash": "e7370f93d1d0cde622a1f8e1c04877d8463912d04d973331ad4851f04de6915a"
  },
  "kernelspec": {
   "display_name": "Python 3.9.10 64-bit",
   "language": "python",
   "name": "python3"
  },
  "language_info": {
   "codemirror_mode": {
    "name": "ipython",
    "version": 3
   },
   "file_extension": ".py",
   "mimetype": "text/x-python",
   "name": "python",
   "nbconvert_exporter": "python",
   "pygments_lexer": "ipython3",
   "version": "3.9.10"
  },
  "orig_nbformat": 4
 },
 "nbformat": 4,
 "nbformat_minor": 2
}
