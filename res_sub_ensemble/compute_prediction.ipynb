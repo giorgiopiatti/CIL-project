{
 "cells": [
  {
   "cell_type": "code",
   "execution_count": 10,
   "metadata": {},
   "outputs": [],
   "source": [
    "import pandas as pd \n",
    "import numpy as np\n",
    "\n",
    "for split in range(0,5):\n",
    "    tmp = []\n",
    "    for embedding in range(4, 41):\n",
    "        tmp.append(pd.read_csv(f'./AE_SWA_ensemble_base_{embedding}/AE_SWA_ensemble_base_{embedding}_split_{split}_val_results.csv' )['Prediction'])\n",
    "    \n",
    "    tmp = np.column_stack(tmp)\n",
    "    df = pd.read_csv(f'../data_val_train_kfold/partition_{split}_val.csv')\n",
    "    res = tmp.mean(axis=1)\n",
    "    df['Prediction'] = res\n",
    "    df.to_csv(f'../results_ensemble/AE_SWA_ensemble_mean/AE_SWA_ensemble_mean_split_{split}_val_results.csv', index=False)\n",
    "    #print(np.sqrt(np.mean((res-df['Prediction'].to_numpy())**2)))\n"
   ]
  },
  {
   "cell_type": "code",
   "execution_count": 11,
   "metadata": {},
   "outputs": [],
   "source": [
    "for split in range(0,5):\n",
    "    tmp = []\n",
    "    for embedding in range(4, 41):\n",
    "        tmp.append(pd.read_csv(f'./AE_SWA_ensemble_base_{embedding}/AE_SWA_ensemble_base_{embedding}_split_{split}_test_results.csv' )['Prediction'])\n",
    "    \n",
    "    tmp = np.column_stack(tmp)\n",
    "    df = pd.read_csv(f'../data/sampleSubmission.csv')\n",
    "    res = tmp.mean(axis=1)\n",
    "    df['Prediction'] = res\n",
    "    df.to_csv(f'../results_ensemble/AE_SWA_ensemble_mean/AE_SWA_ensemble_mean_split_{split}_test_results.csv', index=False)\n",
    "    #print(np.sqrt(np.mean((res-df['Prediction'].to_numpy())**2)))"
   ]
  },
  {
   "cell_type": "code",
   "execution_count": 12,
   "metadata": {},
   "outputs": [],
   "source": [
    "tmp = []\n",
    "for embedding in range(4, 41):\n",
    "    tmp.append(pd.read_csv(f'./AE_SWA_ensemble_base_{embedding}/AE_SWA_ensemble_base_{embedding}_final_results.csv' )['Prediction'])\n",
    "\n",
    "tmp = np.column_stack(tmp)\n",
    "df = pd.read_csv(f'../data/sampleSubmission.csv')\n",
    "res = tmp.mean(axis=1)\n",
    "df['Prediction'] = res\n",
    "df.to_csv(f'../results_ensemble/AE_SWA_ensemble_mean/AE_SWA_ensemble_mean_final_results.csv', index=False)\n",
    "#print(np.sqrt(np.mean((res-df['Prediction'].to_numpy())**2)))"
   ]
  },
  {
   "cell_type": "markdown",
   "metadata": {},
   "source": []
  },
  {
   "cell_type": "code",
   "execution_count": 7,
   "metadata": {},
   "outputs": [
    {
     "data": {
      "text/plain": [
       "0.9836823446045576"
      ]
     },
     "execution_count": 7,
     "metadata": {},
     "output_type": "execute_result"
    }
   ],
   "source": [
    "np.array([0.9799555499066688,\n",
    "0.9828637056383965,\n",
    "0.9854583995978976,\n",
    "0.9827001514328513,\n",
    "0.9874339164469735,]).mean()"
   ]
  }
 ],
 "metadata": {
  "interpreter": {
   "hash": "e7370f93d1d0cde622a1f8e1c04877d8463912d04d973331ad4851f04de6915a"
  },
  "kernelspec": {
   "display_name": "Python 3.9.10 64-bit",
   "language": "python",
   "name": "python3"
  },
  "language_info": {
   "codemirror_mode": {
    "name": "ipython",
    "version": 3
   },
   "file_extension": ".py",
   "mimetype": "text/x-python",
   "name": "python",
   "nbconvert_exporter": "python",
   "pygments_lexer": "ipython3",
   "version": "3.9.10"
  },
  "orig_nbformat": 4
 },
 "nbformat": 4,
 "nbformat_minor": 2
}
