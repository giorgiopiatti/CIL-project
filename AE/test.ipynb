{
 "cells": [
  {
   "cell_type": "code",
   "execution_count": 1,
   "metadata": {},
   "outputs": [],
   "source": [
    "import pytorch_lightning as pl\n",
    "import torch\n",
    "import pandas as pd\n",
    "from pytorch_lightning.loggers import NeptuneLogger\n",
    "from neptune.new.types import File\n",
    "from sklearn.model_selection import train_test_split\n",
    "\n",
    "from dataset import extract_matrix_users_movies_ratings, DatasetComplete, save_predictions\n",
    "\n",
    "#Useful constants\n",
    "number_of_users, number_of_movies = (10000, 1000)\n",
    "RANDOM_STATE = 58\n",
    "BATCH_SIZE = 256\n",
    "DATA_DIR = '../data'\n",
    "\n",
    "\n",
    "#Data source and split into val and train\n",
    "data_pd = pd.read_csv(DATA_DIR+'/data_train.csv')\n",
    "train_pd, val_pd = train_test_split(data_pd, train_size=0.9, random_state=RANDOM_STATE)\n",
    "\n",
    "\n",
    "matrix_users_movies_train, _ = extract_matrix_users_movies_ratings(train_pd)\n",
    "\n",
    "\n",
    "d_train = DatasetComplete(matrix_users_movies_train)"
   ]
  },
  {
   "cell_type": "code",
   "execution_count": 3,
   "metadata": {},
   "outputs": [
    {
     "data": {
      "text/plain": [
       "(10000, 1000)"
      ]
     },
     "execution_count": 3,
     "metadata": {},
     "output_type": "execute_result"
    }
   ],
   "source": [
    "matrix_users_movies_train.shape"
   ]
  },
  {
   "cell_type": "code",
   "execution_count": 1,
   "metadata": {},
   "outputs": [],
   "source": [
    "import pytorch_lightning as pl\n",
    "import torch\n",
    "import pandas as pd\n",
    "from pytorch_lightning.loggers import NeptuneLogger\n",
    "from neptune.new.types import File\n",
    "from sklearn.model_selection import train_test_split\n",
    "import numpy as np\n",
    "from dataset import extract_matrix_users_movies_ratings, DatasetComplete, DatasetValidation, save_predictions\n",
    "from pytorch_lightning.callbacks import LearningRateMonitor\n",
    "#Useful constants\n",
    "number_of_users, number_of_movies = (10000, 1000)\n",
    "RANDOM_STATE = 58\n",
    "BATCH_SIZE = 256\n",
    "DATA_DIR = '../data'\n",
    "\n",
    "\n",
    "#Data source and split into val and train\n",
    "data_pd = pd.read_csv(DATA_DIR+'/data_train.csv')\n",
    "train_pd, val_pd = train_test_split(data_pd, train_size=0.9, random_state=RANDOM_STATE)\n",
    "\n",
    "\n",
    "matrix_users_movies_train, _ = extract_matrix_users_movies_ratings(train_pd)\n",
    "users_centered = []\n",
    "users_mean = []\n",
    "users_std = []\n",
    "for i in range(number_of_users):\n",
    "    user = matrix_users_movies_train[i]\n",
    "    mean = user[user != 0].mean()\n",
    "    std = user[user != 0].std()\n",
    "    \n",
    "    centered_user = np.where(user==0, user, (user-mean)/std)\n",
    "    users_centered.append(centered_user)\n",
    "    users_mean.append(mean)\n",
    "    users_std.append(std)\n",
    "\n",
    "\n",
    "matrix_users_movies_train = np.stack(users_centered)\n",
    "users_mean_train = np.stack(users_mean)\n",
    "users_std_train = np.stack(users_std)\n",
    "\n",
    "d_train = DatasetComplete(matrix_users_movies_train)\n",
    "train_dataloader = torch.utils.data.DataLoader(d_train, batch_size=BATCH_SIZE, drop_last=True, shuffle=True)\n",
    "\n",
    "matrix_users_movies_val, _ = extract_matrix_users_movies_ratings(val_pd)\n",
    "d_val= DatasetValidation(matrix_users_movies_train, matrix_users_movies_val)\n",
    "val_dataloader = torch.utils.data.DataLoader(d_val, batch_size=BATCH_SIZE, drop_last=False, shuffle=False)\n",
    "\n",
    "\n",
    "d_test= DatasetComplete(matrix_users_movies_train)\n",
    "test_dataloader = torch.utils.data.DataLoader(d_test, batch_size=BATCH_SIZE, drop_last=False, shuffle=False)\n"
   ]
  },
  {
   "cell_type": "code",
   "execution_count": 2,
   "metadata": {},
   "outputs": [
    {
     "data": {
      "text/plain": [
       "10000"
      ]
     },
     "execution_count": 2,
     "metadata": {},
     "output_type": "execute_result"
    }
   ],
   "source": [
    "len(d_train)"
   ]
  }
 ],
 "metadata": {
  "interpreter": {
   "hash": "e7370f93d1d0cde622a1f8e1c04877d8463912d04d973331ad4851f04de6915a"
  },
  "kernelspec": {
   "display_name": "Python 3.9.10 64-bit",
   "language": "python",
   "name": "python3"
  },
  "language_info": {
   "codemirror_mode": {
    "name": "ipython",
    "version": 3
   },
   "file_extension": ".py",
   "mimetype": "text/x-python",
   "name": "python",
   "nbconvert_exporter": "python",
   "pygments_lexer": "ipython3",
   "version": "3.9.10"
  },
  "orig_nbformat": 4
 },
 "nbformat": 4,
 "nbformat_minor": 2
}
