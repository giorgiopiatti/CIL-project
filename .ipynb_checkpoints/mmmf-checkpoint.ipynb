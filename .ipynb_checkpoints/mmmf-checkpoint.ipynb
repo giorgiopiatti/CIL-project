{
 "cells": [
  {
   "cell_type": "code",
   "execution_count": 1,
   "id": "ede1667d",
   "metadata": {},
   "outputs": [],
   "source": [
    "from cvxpy import *\n",
    "import numpy as np\n",
    "import pandas as pd\n",
    "import random\n",
    "random.seed(58)"
   ]
  },
  {
   "cell_type": "code",
   "execution_count": 5,
   "id": "34f494bd",
   "metadata": {},
   "outputs": [],
   "source": [
    "data = pd.read_csv('./data/data_train.csv')"
   ]
  },
  {
   "cell_type": "code",
   "execution_count": 5,
   "id": "4015dd3a",
   "metadata": {},
   "outputs": [
    {
     "ename": "NameError",
     "evalue": "name 'mat' is not defined",
     "output_type": "error",
     "traceback": [
      "\u001b[0;31m---------------------------------------------------------------------------\u001b[0m",
      "\u001b[0;31mNameError\u001b[0m                                 Traceback (most recent call last)",
      "\u001b[0;32m/tmp/ipykernel_7882/3304434634.py\u001b[0m in \u001b[0;36m<module>\u001b[0;34m\u001b[0m\n\u001b[1;32m     32\u001b[0m     \u001b[0mprint\u001b[0m\u001b[0;34m(\u001b[0m\u001b[0;34m'used time for SDP-solving: '\u001b[0m \u001b[0;34m+\u001b[0m \u001b[0mstr\u001b[0m\u001b[0;34m(\u001b[0m\u001b[0mtime_end\u001b[0m \u001b[0;34m-\u001b[0m \u001b[0mtime_start\u001b[0m\u001b[0;34m)\u001b[0m\u001b[0;34m)\u001b[0m\u001b[0;34m\u001b[0m\u001b[0;34m\u001b[0m\u001b[0m\n\u001b[1;32m     33\u001b[0m \u001b[0;34m\u001b[0m\u001b[0m\n\u001b[0;32m---> 34\u001b[0;31m \u001b[0mlearnMMMF\u001b[0m\u001b[0;34m(\u001b[0m\u001b[0mmat\u001b[0m\u001b[0;34m,\u001b[0m \u001b[0;36m1.0\u001b[0m\u001b[0;34m)\u001b[0m\u001b[0;34m\u001b[0m\u001b[0;34m\u001b[0m\u001b[0m\n\u001b[0m",
      "\u001b[0;31mNameError\u001b[0m: name 'mat' is not defined"
     ]
    }
   ],
   "source": [
    "def learnMMMF(y, c):\n",
    "    n,m = y.shape\n",
    "    n_obs = np.count_nonzero(y)\n",
    "    obs = np.nonzero(y)\n",
    "\n",
    "    A = Variable(n,n)\n",
    "    B = Variable(m,m)\n",
    "    X = Variable(n,m)\n",
    "\n",
    "    t = Variable()\n",
    "    e = Variable(n_obs)\n",
    "\n",
    "    objective = Minimize(t + c * sum_entries(e))\n",
    "\n",
    "    constraints = []\n",
    "    constraints.append(bmat([[A,X],[X.T,B]]) >> 0)\n",
    "    constraints.append(diag(A) <= t)\n",
    "    constraints.append(diag(B) <= t)\n",
    "    constraints.append(e >= 0)\n",
    "\n",
    "    for x in enumerate(zip(obs[0], obs[1])):\n",
    "        ind = x[0]\n",
    "        i, a = x[1][0], x[1][1]\n",
    "        constraints.append(y[i,a] * X[i,a] >= 1 - e[ind])\n",
    "\n",
    "    prob = Problem(objective, constraints)\n",
    "\n",
    "    time_start = time.clock()\n",
    "    result = prob.solve(kktsolver=ROBUST_KKTSOLVER, verbose=True)\n",
    "    time_end = time.clock()\n",
    "\n",
    "    print('used time for SDP-solving: ' + str(time_end - time_start))\n",
    "\n",
    "learnMMMF(mat, 1.0)"
   ]
  }
 ],
 "metadata": {
  "kernelspec": {
   "display_name": "Python 3 (ipykernel)",
   "language": "python",
   "name": "python3"
  },
  "language_info": {
   "codemirror_mode": {
    "name": "ipython",
    "version": 3
   },
   "file_extension": ".py",
   "mimetype": "text/x-python",
   "name": "python",
   "nbconvert_exporter": "python",
   "pygments_lexer": "ipython3",
   "version": "3.8.10"
  }
 },
 "nbformat": 4,
 "nbformat_minor": 5
}
