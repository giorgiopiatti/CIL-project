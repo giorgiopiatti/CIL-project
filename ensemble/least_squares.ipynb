{
 "cells": [
  {
   "cell_type": "code",
   "execution_count": 7,
   "metadata": {},
   "outputs": [],
   "source": [
    "import pandas as pd \n",
    "import numpy as np"
   ]
  },
  {
   "cell_type": "code",
   "execution_count": 8,
   "metadata": {},
   "outputs": [],
   "source": [
    "BASE_MODEL_FOLDER = '../results_ensemble'\n",
    "MODEL_LIST = [\n",
    "    'AE_SWA_large',\n",
    "    'ALS_ensemble',\n",
    "    'NCF_dist_exp_SWA',\n",
    "    'SVDpp_ensemble_gaussian'\n",
    "]"
   ]
  },
  {
   "cell_type": "code",
   "execution_count": 9,
   "metadata": {},
   "outputs": [],
   "source": [
    "def create_val_matrix(split):\n",
    "    tmp = []\n",
    "    for m in MODEL_LIST:\n",
    "        df = pd.read_csv(f'{BASE_MODEL_FOLDER}/{m}/{m}_split_{split}_val_results.csv')\n",
    "        t = df['Prediction'].to_numpy()\n",
    "\n",
    "        tmp.append(t)\n",
    "    return np.column_stack(tmp)\n",
    "\n"
   ]
  },
  {
   "cell_type": "code",
   "execution_count": 10,
   "metadata": {},
   "outputs": [],
   "source": [
    "def create_final_matrix():\n",
    "    tmp = []\n",
    "    for m in MODEL_LIST:\n",
    "        df = pd.read_csv(f'{BASE_MODEL_FOLDER}/{m}/{m}_final_results.csv')\n",
    "        t = df['Prediction'].to_numpy()\n",
    "\n",
    "        tmp.append(t)\n",
    "    return np.column_stack(tmp)\n",
    "\n"
   ]
  },
  {
   "cell_type": "code",
   "execution_count": 11,
   "metadata": {},
   "outputs": [],
   "source": [
    "def rmse(x,y):\n",
    "    return np.sqrt(np.mean((x-y)**2))"
   ]
  },
  {
   "cell_type": "code",
   "execution_count": 12,
   "metadata": {},
   "outputs": [],
   "source": [
    "val_splits = []\n",
    "for i in range(0, 5):\n",
    "    val_splits.append(create_val_matrix(i))"
   ]
  },
  {
   "cell_type": "code",
   "execution_count": 13,
   "metadata": {},
   "outputs": [],
   "source": [
    "val_truth = []\n",
    "for i in range(0, 5):\n",
    "    val_truth.append(pd.read_csv(f'../data_val_train_kfold/partition_{i}_val.csv')['Prediction'].to_numpy())"
   ]
  },
  {
   "cell_type": "code",
   "execution_count": 14,
   "metadata": {},
   "outputs": [],
   "source": [
    "def combine_models(yhat, coeff):\n",
    "    coeff = np.array(coeff)\n",
    "    return np.matmul(yhat, coeff)"
   ]
  },
  {
   "cell_type": "code",
   "execution_count": 15,
   "metadata": {},
   "outputs": [],
   "source": [
    "def save_predictions(res_path, predictions):\n",
    "    test_pd = pd.read_csv('../data/sampleSubmission.csv')\n",
    "    test_pd = test_pd.astype({'Prediction': 'float'})\n",
    "    test_pd.iloc[:, 1] = predictions\n",
    "    test_pd.to_csv(res_path, index=False, float_format='%.3f')"
   ]
  },
  {
   "cell_type": "code",
   "execution_count": 16,
   "metadata": {},
   "outputs": [
    {
     "name": "stderr",
     "output_type": "stream",
     "text": [
      "/tmp/ipykernel_178995/610613689.py:4: FutureWarning: `rcond` parameter will change to the default of machine precision times ``max(M, N)`` where M and N are the input matrix dimensions.\n",
      "To use the future default and silence this warning we advise to pass `rcond=None`, to keep using the old, explicitly pass `rcond=-1`.\n",
      "  coeffs = np.linalg.lstsq(val_splits[i], val_truth[i])[0]\n"
     ]
    }
   ],
   "source": [
    "a = []\n",
    "from sklearn.linear_model import Ridge\n",
    "for i in range(0,5):\n",
    "    coeffs = np.linalg.lstsq(val_splits[i], val_truth[i])[0]\n",
    "    # ridge = Ridge(alpha=10)\n",
    "    # ridge.fit(val_splits[i], val_truth[i])\n",
    "    # coeffs = ridge.coef_\n",
    "    a.append(coeffs)\n",
    "\n",
    "\n",
    "coeffs = np.column_stack(a).mean(axis=1)"
   ]
  },
  {
   "cell_type": "code",
   "execution_count": 17,
   "metadata": {},
   "outputs": [
    {
     "data": {
      "text/plain": [
       "array([0.06188904, 0.27913845, 0.13833313, 0.52533407])"
      ]
     },
     "execution_count": 17,
     "metadata": {},
     "output_type": "execute_result"
    }
   ],
   "source": [
    "coeffs"
   ]
  },
  {
   "cell_type": "code",
   "execution_count": 18,
   "metadata": {},
   "outputs": [
    {
     "data": {
      "text/plain": [
       "0.9709771320393543"
      ]
     },
     "execution_count": 18,
     "metadata": {},
     "output_type": "execute_result"
    }
   ],
   "source": [
    "\n",
    "score = 0\n",
    "for i in range(0,5):\n",
    "    res = combine_models(val_splits[i], coeffs)\n",
    "    score+= rmse(res, val_truth[i])\n",
    "score/5"
   ]
  },
  {
   "cell_type": "code",
   "execution_count": 19,
   "metadata": {},
   "outputs": [
    {
     "data": {
      "text/plain": [
       "array([0.06188904, 0.27913845, 0.13833313, 0.52533407])"
      ]
     },
     "execution_count": 19,
     "metadata": {},
     "output_type": "execute_result"
    }
   ],
   "source": [
    "coeffs"
   ]
  },
  {
   "cell_type": "code",
   "execution_count": 20,
   "metadata": {},
   "outputs": [],
   "source": [
    "matrix_final = create_final_matrix()\n",
    "res_final = combine_models(matrix_final, coeffs)\n",
    "\n",
    "name = ''\n",
    "for m in MODEL_LIST:\n",
    "    name+=m\n",
    "    name+='-'\n",
    "name+='LSQ-results.csv'\n",
    "save_predictions(name, res_final)"
   ]
  }
 ],
 "metadata": {
  "interpreter": {
   "hash": "e7370f93d1d0cde622a1f8e1c04877d8463912d04d973331ad4851f04de6915a"
  },
  "kernelspec": {
   "display_name": "Python 3.9.10 64-bit",
   "language": "python",
   "name": "python3"
  },
  "language_info": {
   "codemirror_mode": {
    "name": "ipython",
    "version": 3
   },
   "file_extension": ".py",
   "mimetype": "text/x-python",
   "name": "python",
   "nbconvert_exporter": "python",
   "pygments_lexer": "ipython3",
   "version": "3.9.10"
  },
  "orig_nbformat": 4
 },
 "nbformat": 4,
 "nbformat_minor": 2
}
