{
 "cells": [
  {
   "cell_type": "code",
   "execution_count": 1,
   "metadata": {},
   "outputs": [],
   "source": [
    "import pandas as pd \n",
    "import numpy as np"
   ]
  },
  {
   "cell_type": "code",
   "execution_count": 2,
   "metadata": {},
   "outputs": [],
   "source": [
    "BASE_MODEL_FOLDER = '../results_ensemble'\n",
    "MODEL_LIST = [\n",
    "    'AE_SWA',\n",
    "    'AE_SWA_ensemble_mean',\n",
    "    'ALS',\n",
    "    'NCF_dist_exp_2_embeddings_SWA',\n",
    "    'NCF_dist_exp_SWA',\n",
    "    'SVDpp_ensemble_gaussian'\n",
    "]"
   ]
  },
  {
   "cell_type": "code",
   "execution_count": 3,
   "metadata": {},
   "outputs": [],
   "source": [
    "def rmse(x,y):\n",
    "    return np.sqrt(np.mean((x-y)**2))"
   ]
  },
  {
   "cell_type": "code",
   "execution_count": 4,
   "metadata": {},
   "outputs": [],
   "source": [
    "val_truth = []\n",
    "for i in range(0, 5):\n",
    "    val_truth.append(pd.read_csv(f'../data_val_train_kfold/partition_{i}_val.csv')['Prediction'].to_numpy())"
   ]
  },
  {
   "cell_type": "code",
   "execution_count": 5,
   "metadata": {},
   "outputs": [
    {
     "name": "stdout",
     "output_type": "stream",
     "text": [
      "AE_SWA 0.9851473231240242\n",
      "AE_SWA_ensemble_mean 0.9836823446045576\n",
      "ALS 0.9802965577995295\n",
      "NCF_dist_exp_2_embeddings_SWA 0.9893906598064908\n",
      "NCF_dist_exp_SWA 0.987561614085287\n",
      "SVDpp_ensemble_gaussian 0.9738645863054003\n"
     ]
    }
   ],
   "source": [
    "for m in MODEL_LIST:\n",
    "    tmp = []\n",
    "    score = 0\n",
    "    for i in range(0,5):\n",
    "        df = pd.read_csv(f'{BASE_MODEL_FOLDER}/{m}/{m}_split_{i}_val_results.csv')\n",
    "        t = df['Prediction'].to_numpy()\n",
    "        score+= rmse(t, val_truth[i])\n",
    "    print(m, score/5)\n"
   ]
  }
 ],
 "metadata": {
  "interpreter": {
   "hash": "e7370f93d1d0cde622a1f8e1c04877d8463912d04d973331ad4851f04de6915a"
  },
  "kernelspec": {
   "display_name": "Python 3.9.10 64-bit",
   "language": "python",
   "name": "python3"
  },
  "language_info": {
   "codemirror_mode": {
    "name": "ipython",
    "version": 3
   },
   "file_extension": ".py",
   "mimetype": "text/x-python",
   "name": "python",
   "nbconvert_exporter": "python",
   "pygments_lexer": "ipython3",
   "version": "3.9.10"
  },
  "orig_nbformat": 4
 },
 "nbformat": 4,
 "nbformat_minor": 2
}
