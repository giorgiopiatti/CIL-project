{
 "cells": [
  {
   "cell_type": "code",
   "execution_count": 15,
   "metadata": {},
   "outputs": [],
   "source": [
    "import pandas as pd \n",
    "import numpy as np"
   ]
  },
  {
   "cell_type": "code",
   "execution_count": 16,
   "metadata": {},
   "outputs": [],
   "source": [
    "BASE_MODEL_FOLDER = '../results_ensemble'\n",
    "MODEL_LIST = [\n",
    "    'AE',\n",
    "    'ALS_ensemble',\n",
    "    'PNCF',\n",
    "    'SVDpp_ensemble'\n",
    "]"
   ]
  },
  {
   "cell_type": "code",
   "execution_count": 17,
   "metadata": {},
   "outputs": [],
   "source": [
    "def rmse(x,y):\n",
    "    return np.sqrt(np.mean((x-y)**2))"
   ]
  },
  {
   "cell_type": "code",
   "execution_count": 18,
   "metadata": {},
   "outputs": [],
   "source": [
    "val_truth = []\n",
    "for i in range(0, 5):\n",
    "    val_truth.append(pd.read_csv(f'../data_val_train_kfold/partition_{i}_val.csv')['Prediction'].to_numpy())"
   ]
  },
  {
   "cell_type": "code",
   "execution_count": 19,
   "metadata": {},
   "outputs": [
    {
     "name": "stdout",
     "output_type": "stream",
     "text": [
      "                    mean       std\n",
      "AE              0.983427  0.002613\n",
      "ALS_ensemble    0.980297  0.002219\n",
      "PNCF            0.987562  0.002001\n",
      "SVDpp_ensemble  0.973865  0.002502\n"
     ]
    }
   ],
   "source": [
    "acc = []\n",
    "for m in MODEL_LIST:\n",
    "    tmp = []\n",
    "    \n",
    "    for i in range(0,5):\n",
    "        df = pd.read_csv(f'{BASE_MODEL_FOLDER}/{m}/{m}_split_{i}_val_results.csv')\n",
    "        t = df['Prediction'].to_numpy()\n",
    "        score = rmse(t, val_truth[i])\n",
    "        tmp.append(score)\n",
    "    \n",
    "    res = pd.DataFrame(index=[m])\n",
    "    tmp = np.array(tmp)\n",
    "    res['mean'] = np.mean(tmp)\n",
    "    res['std'] = np.std(tmp)\n",
    "\n",
    "    acc.append(res)\n",
    "print(pd.concat(acc))\n"
   ]
  },
  {
   "cell_type": "code",
   "execution_count": 20,
   "metadata": {},
   "outputs": [],
   "source": [
    "def create_val_matrix(split):\n",
    "    tmp = []\n",
    "    for m in MODEL_LIST:\n",
    "        df = pd.read_csv(f'{BASE_MODEL_FOLDER}/{m}/{m}_split_{split}_val_results.csv')\n",
    "        t = df['Prediction'].to_numpy()\n",
    "\n",
    "        tmp.append(t)\n",
    "    return np.column_stack(tmp)\n",
    "\n",
    "\n",
    "val_splits = []\n",
    "for i in range(0, 5):\n",
    "    val_splits.append(create_val_matrix(i))\n",
    "\n",
    "def combine_models(yhat, coeff):\n",
    "    coeff = np.array(coeff)\n",
    "    return np.matmul(yhat, coeff)"
   ]
  },
  {
   "cell_type": "code",
   "execution_count": 21,
   "metadata": {},
   "outputs": [
    {
     "name": "stdout",
     "output_type": "stream",
     "text": [
      "                    mean       std\n",
      "AE              0.983427  0.002613\n",
      "ALS_ensemble    0.980297  0.002219\n",
      "PNCF            0.987562  0.002001\n",
      "SVDpp_ensemble  0.973865  0.002502\n",
      "Final ensemble  0.970985  0.002393\n"
     ]
    },
    {
     "name": "stderr",
     "output_type": "stream",
     "text": [
      "/tmp/ipykernel_248008/1501064865.py:6: FutureWarning: `rcond` parameter will change to the default of machine precision times ``max(M, N)`` where M and N are the input matrix dimensions.\n",
      "To use the future default and silence this warning we advise to pass `rcond=None`, to keep using the old, explicitly pass `rcond=-1`.\n",
      "  coeffs = np.linalg.lstsq(val_splits[i], val_truth[i])[0]\n"
     ]
    }
   ],
   "source": [
    "tmp = []\n",
    "for val_on  in range(0, 5):\n",
    "    a = []\n",
    "    for i in range(0,5):\n",
    "        if i != val_on:\n",
    "            coeffs = np.linalg.lstsq(val_splits[i], val_truth[i])[0]\n",
    "            a.append(coeffs)\n",
    "    coeffs = np.column_stack(a).mean(axis=1)\n",
    "    \n",
    "    res = combine_models(val_splits[val_on], coeffs)\n",
    "    tmp.append(rmse(res, val_truth[val_on]))\n",
    "\n",
    "res = pd.DataFrame(index=['Final ensemble'])\n",
    "tmp = np.array(tmp)\n",
    "res['mean'] = np.mean(tmp)\n",
    "res['std'] = np.std(tmp)\n",
    "acc.append(res)\n",
    "print(pd.concat(acc))\n"
   ]
  },
  {
   "cell_type": "code",
   "execution_count": null,
   "metadata": {},
   "outputs": [],
   "source": []
  }
 ],
 "metadata": {
  "interpreter": {
   "hash": "e7370f93d1d0cde622a1f8e1c04877d8463912d04d973331ad4851f04de6915a"
  },
  "kernelspec": {
   "display_name": "Python 3.9.10 64-bit",
   "language": "python",
   "name": "python3"
  },
  "language_info": {
   "codemirror_mode": {
    "name": "ipython",
    "version": 3
   },
   "file_extension": ".py",
   "mimetype": "text/x-python",
   "name": "python",
   "nbconvert_exporter": "python",
   "pygments_lexer": "ipython3",
   "version": "3.9.10"
  },
  "orig_nbformat": 4
 },
 "nbformat": 4,
 "nbformat_minor": 2
}
